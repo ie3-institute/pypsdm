{
 "cells": [
  {
   "cell_type": "code",
   "id": "initial_id",
   "metadata": {
    "ExecuteTime": {
     "end_time": "2025-09-24T11:56:54.684489Z",
     "start_time": "2025-09-24T11:56:54.651333Z"
    }
   },
   "source": [
    "# NBVAL_SKIP\n",
    "# Some jupyter notebook magic to reload modules automatically when they change\n",
    "# not necessary for this specific notebook but useful in general\n",
    "%load_ext autoreload\n",
    "%autoreload 2\n",
    "\n",
    "# Gives you high resolution images within the notebook\n",
    "%config InlineBackend.figure_format = 'retina'"
   ],
   "outputs": [],
   "execution_count": 1
  },
  {
   "cell_type": "markdown",
   "id": "e5d8cd1a4adf4f11",
   "metadata": {},
   "source": [
    "# Plotting Line traces as Vector Graphic (High Quality)\n",
    "Since plotting line and node traces on a map, e.g. OpenStreetMap, using `Scattermapbox` the output will be rendered not as vector graphic.\n",
    "\n",
    "Setting `use_mapbox = False` allows to use `Scatter` which will output as vector graphic and thus allows to save figures in .svg or .pdf format."
   ]
  },
  {
   "cell_type": "markdown",
   "id": "3ed885bf22427a4a",
   "metadata": {},
   "source": [
    "## Load Data"
   ]
  },
  {
   "cell_type": "code",
   "id": "81678c770f5da613",
   "metadata": {
    "ExecuteTime": {
     "end_time": "2025-09-24T11:56:58.866342Z",
     "start_time": "2025-09-24T11:56:54.729422Z"
    }
   },
   "source": [
    "from definitions import ROOT_DIR\n",
    "import os\n",
    "\n",
    "# The PSDM specific input models can be imported from the pypsdm.models.input and\n",
    "# pypsdm.models.result. The `GridWithResults` container is located in pypsdm.models.gwr\n",
    "from pypsdm.models.gwr import GridWithResults\n",
    "\n",
    "grid_path = os.path.join(ROOT_DIR, \"tests\", \"resources\", \"simbench\", \"input\")\n",
    "result_path = os.path.join(ROOT_DIR, \"tests\", \"resources\", \"simbench\", \"results\")\n",
    "\n",
    "# IO data models in general have a from_csv method to parse psdm files\n",
    "gwr = GridWithResults.from_csv(grid_path, result_path)"
   ],
   "outputs": [
    {
     "name": "stderr",
     "output_type": "stream",
     "text": [
      "\u001B[32m2025-09-24 13:56:56.384\u001B[0m | \u001B[1mINFO    \u001B[0m | \u001B[36mpypsdm.models.gwr\u001B[0m:\u001B[36mfrom_csv\u001B[0m:\u001B[36m293\u001B[0m - \u001B[1mReading grid from /home/smdafeis/github/pypsdm/tests/resources/simbench/input\u001B[0m\n",
      "\u001B[32m2025-09-24 13:56:56.873\u001B[0m | \u001B[34m\u001B[1mDEBUG   \u001B[0m | \u001B[36mpypsdm.models.primary_data\u001B[0m:\u001B[36mfrom_csv\u001B[0m:\u001B[36m273\u001B[0m - \u001B[34m\u001B[1mNo primary data in path /home/smdafeis/github/pypsdm/tests/resources/simbench/input\u001B[0m\n",
      "\u001B[32m2025-09-24 13:56:56.873\u001B[0m | \u001B[1mINFO    \u001B[0m | \u001B[36mpypsdm.models.gwr\u001B[0m:\u001B[36mfrom_csv\u001B[0m:\u001B[36m305\u001B[0m - \u001B[1mReading results from /home/smdafeis/github/pypsdm/tests/resources/simbench/results\u001B[0m\n",
      "\u001B[32m2025-09-24 13:56:57.159\u001B[0m | \u001B[33m\u001B[1mWARNING \u001B[0m | \u001B[36mpypsdm.models.result.participant.dict\u001B[0m:\u001B[36mfrom_csv\u001B[0m:\u001B[36m76\u001B[0m - \u001B[33m\u001B[1mEntity 557b9f51-d83c-476c-a84c-d240530c203d not in input entities\u001B[0m\n",
      "\u001B[32m2025-09-24 13:56:57.166\u001B[0m | \u001B[33m\u001B[1mWARNING \u001B[0m | \u001B[36mpypsdm.models.result.participant.dict\u001B[0m:\u001B[36mfrom_csv\u001B[0m:\u001B[36m76\u001B[0m - \u001B[33m\u001B[1mEntity 5d50a881-c383-463e-8355-41b3dd57422d not in input entities\u001B[0m\n"
     ]
    }
   ],
   "execution_count": 2
  },
  {
   "cell_type": "markdown",
   "id": "ca40b9b6b739fa82",
   "metadata": {},
   "source": [
    "## Get Line Results and Calculate Utilisation"
   ]
  },
  {
   "cell_type": "code",
   "id": "275adf2cb67a9d37",
   "metadata": {
    "ExecuteTime": {
     "end_time": "2025-09-24T11:57:02.160843Z",
     "start_time": "2025-09-24T11:57:02.070313Z"
    }
   },
   "source": [
    "# NBVAL_CHECK_OUTPUT\n",
    "line_input_data = gwr.lines\n",
    "line_utilization = gwr.lines_res.utilisation(line_input_data, side=\"a\")"
   ],
   "outputs": [],
   "execution_count": 3
  },
  {
   "cell_type": "code",
   "id": "64515d7eab450b23",
   "metadata": {
    "ExecuteTime": {
     "end_time": "2025-09-24T11:57:02.196368Z",
     "start_time": "2025-09-24T11:57:02.168684Z"
    }
   },
   "source": [
    "# NBVAL_CHECK_OUTPUT\n",
    "import pandas as pd\n",
    "\n",
    "specific_time = pd.to_datetime(\"2016-01-02 12:00:00\")\n",
    "# filter for timestamp\n",
    "filtered_data = line_utilization.loc[[specific_time]].to_dict()"
   ],
   "outputs": [],
   "execution_count": 4
  },
  {
   "cell_type": "code",
   "id": "d8629a2a57260668",
   "metadata": {
    "ExecuteTime": {
     "end_time": "2025-09-24T11:57:02.569836Z",
     "start_time": "2025-09-24T11:57:02.219007Z"
    }
   },
   "source": [
    "from pypsdm.plots.grid import create_zoom_box, grid_plot\n",
    "\n",
    "# zoom_box allows to focus on certain parts of your plot\n",
    "zoom_box = create_zoom_box(53.665, 11.35, 53.62, 11.38)\n",
    "\n",
    "# to remove the axes and lat / lon grid simply set show_axes = False or remove the parameter\n",
    "fig_svg = grid_plot(\n",
    "    gwr.grid,\n",
    "    cmap_lines=\"Jet\",\n",
    "    cmap_line_values=filtered_data,\n",
    "    cbar_line_title=\"Line Utilisation\",\n",
    "    zoom_box=zoom_box,\n",
    "    show_axes=True,\n",
    "    use_mapbox=False,\n",
    ")"
   ],
   "outputs": [],
   "execution_count": 5
  },
  {
   "cell_type": "code",
   "id": "b28859b912d9c22c",
   "metadata": {
    "ExecuteTime": {
     "end_time": "2025-09-24T11:57:03.981190Z",
     "start_time": "2025-09-24T11:57:02.578233Z"
    }
   },
   "source": [
    "fig_svg"
   ],
   "outputs": [
    {
     "data": {
      "application/vnd.plotly.v1+json": {
       "data": [
        {
         "hoverinfo": "skip",
         "line": {
          "color": "#003caa",
          "width": 2
         },
         "mode": "lines",
         "showlegend": false,
         "x": [
          11.3529,
          11.3519
         ],
         "y": [
          53.6567,
          53.6559
         ],
         "type": "scatter"
        },
        {
         "hoverinfo": "text",
         "hovertext": "MV3.101 Line 62<br>Line Utilisation: 0.292",
         "marker": {
          "color": "#003caa",
          "opacity": 0,
          "size": 0
         },
         "mode": "markers",
         "showlegend": false,
         "x": [
          11.3519
         ],
         "y": [
          53.6559
         ],
         "type": "scatter"
        },
        {
         "hoverinfo": "skip",
         "line": {
          "color": "#05ffff",
          "width": 2
         },
         "mode": "lines",
         "showlegend": false,
         "x": [
          11.3561,
          11.3584
         ],
         "y": [
          53.6524,
          53.6531
         ],
         "type": "scatter"
        },
        {
         "hoverinfo": "text",
         "hovertext": "MV3.101 Line 58<br>Line Utilisation: 0.577",
         "marker": {
          "color": "#05ffff",
          "opacity": 0,
          "size": 0
         },
         "mode": "markers",
         "showlegend": false,
         "x": [
          11.3584
         ],
         "y": [
          53.6531
         ],
         "type": "scatter"
        },
        {
         "hoverinfo": "skip",
         "line": {
          "color": "#05ffff",
          "width": 2
         },
         "mode": "lines",
         "showlegend": false,
         "x": [
          11.3699,
          11.3707
         ],
         "y": [
          53.6441,
          53.6425
         ],
         "type": "scatter"
        },
        {
         "hoverinfo": "text",
         "hovertext": "MV3.101 Line 2<br>Line Utilisation: 0.532",
         "marker": {
          "color": "#05ffff",
          "opacity": 0,
          "size": 0
         },
         "mode": "markers",
         "showlegend": false,
         "x": [
          11.3707
         ],
         "y": [
          53.6425
         ],
         "type": "scatter"
        },
        {
         "hoverinfo": "skip",
         "line": {
          "color": "#05ffff",
          "width": 2
         },
         "mode": "lines",
         "showlegend": false,
         "x": [
          11.3697,
          11.3701
         ],
         "y": [
          53.6457,
          53.647
         ],
         "type": "scatter"
        },
        {
         "hoverinfo": "text",
         "hovertext": "MV3.101 Line 27<br>Line Utilisation: 0.410",
         "marker": {
          "color": "#05ffff",
          "opacity": 0,
          "size": 0
         },
         "mode": "markers",
         "showlegend": false,
         "x": [
          11.3701
         ],
         "y": [
          53.647
         ],
         "type": "scatter"
        },
        {
         "hoverinfo": "skip",
         "line": {
          "color": "#05ffff",
          "width": 2
         },
         "mode": "lines",
         "showlegend": false,
         "x": [
          11.3708,
          11.3724
         ],
         "y": [
          53.6505,
          53.6525
         ],
         "type": "scatter"
        },
        {
         "hoverinfo": "text",
         "hovertext": "MV3.101 Line 18<br>Line Utilisation: 0.435",
         "marker": {
          "color": "#05ffff",
          "opacity": 0,
          "size": 0
         },
         "mode": "markers",
         "showlegend": false,
         "x": [
          11.3724
         ],
         "y": [
          53.6525
         ],
         "type": "scatter"
        },
        {
         "hoverinfo": "skip",
         "line": {
          "color": "#000083",
          "width": 2
         },
         "mode": "lines",
         "showlegend": false,
         "x": [
          11.3682,
          11.3686
         ],
         "y": [
          53.6541,
          53.6572
         ],
         "type": "scatter"
        },
        {
         "hoverinfo": "text",
         "hovertext": "MV3.101 Line 37<br>Line Utilisation: 0.173",
         "marker": {
          "color": "#000083",
          "opacity": 0,
          "size": 0
         },
         "mode": "markers",
         "showlegend": false,
         "x": [
          11.3686
         ],
         "y": [
          53.6572
         ],
         "type": "scatter"
        },
        {
         "hoverinfo": "skip",
         "line": {
          "color": "#003caa",
          "width": 2
         },
         "mode": "lines",
         "showlegend": false,
         "x": [
          11.3745,
          11.3752
         ],
         "y": [
          53.6464,
          53.6456
         ],
         "type": "scatter"
        },
        {
         "hoverinfo": "text",
         "hovertext": "MV3.101 Line 115<br>Line Utilisation: 0.301",
         "marker": {
          "color": "#003caa",
          "opacity": 0,
          "size": 0
         },
         "mode": "markers",
         "showlegend": false,
         "x": [
          11.3752
         ],
         "y": [
          53.6456
         ],
         "type": "scatter"
        },
        {
         "hoverinfo": "skip",
         "line": {
          "color": "#000083",
          "width": 2
         },
         "mode": "lines",
         "showlegend": false,
         "x": [
          11.366,
          11.3683
         ],
         "y": [
          53.624,
          53.6236
         ],
         "type": "scatter"
        },
        {
         "hoverinfo": "text",
         "hovertext": "MV3.101 Line 82<br>Line Utilisation: 0.108",
         "marker": {
          "color": "#000083",
          "opacity": 0,
          "size": 0
         },
         "mode": "markers",
         "showlegend": false,
         "x": [
          11.3683
         ],
         "y": [
          53.6236
         ],
         "type": "scatter"
        },
        {
         "hoverinfo": "skip",
         "line": {
          "color": "#ffff00",
          "width": 2
         },
         "mode": "lines",
         "showlegend": false,
         "x": [
          11.3692,
          11.3706
         ],
         "y": [
          53.6456,
          53.6454
         ],
         "type": "scatter"
        },
        {
         "hoverinfo": "text",
         "hovertext": "MV3.101 Line 12<br>Line Utilisation: 0.658",
         "marker": {
          "color": "#ffff00",
          "opacity": 0,
          "size": 0
         },
         "mode": "markers",
         "showlegend": false,
         "x": [
          11.3706
         ],
         "y": [
          53.6454
         ],
         "type": "scatter"
        },
        {
         "hoverinfo": "skip",
         "line": {
          "color": "#05ffff",
          "width": 2
         },
         "mode": "lines",
         "showlegend": false,
         "x": [
          11.3746,
          11.3748
         ],
         "y": [
          53.6469,
          53.6475
         ],
         "type": "scatter"
        },
        {
         "hoverinfo": "text",
         "hovertext": "MV3.101 Line 127<br>Line Utilisation: 0.585",
         "marker": {
          "color": "#05ffff",
          "opacity": 0,
          "size": 0
         },
         "mode": "markers",
         "showlegend": false,
         "x": [
          11.3748
         ],
         "y": [
          53.6475
         ],
         "type": "scatter"
        },
        {
         "hoverinfo": "skip",
         "line": {
          "color": "#05ffff",
          "width": 2
         },
         "mode": "lines",
         "showlegend": false,
         "x": [
          11.3668,
          11.3692
         ],
         "y": [
          53.633,
          53.6315
         ],
         "type": "scatter"
        },
        {
         "hoverinfo": "text",
         "hovertext": "MV3.101 Line 102<br>Line Utilisation: 0.503",
         "marker": {
          "color": "#05ffff",
          "opacity": 0,
          "size": 0
         },
         "mode": "markers",
         "showlegend": false,
         "x": [
          11.3692
         ],
         "y": [
          53.6315
         ],
         "type": "scatter"
        },
        {
         "hoverinfo": "skip",
         "line": {
          "color": "#003caa",
          "width": 2
         },
         "mode": "lines",
         "showlegend": false,
         "x": [
          11.3682,
          11.3682
         ],
         "y": [
          53.6531,
          53.6541
         ],
         "type": "scatter"
        },
        {
         "hoverinfo": "text",
         "hovertext": "MV3.101 Line 36<br>Line Utilisation: 0.286",
         "marker": {
          "color": "#003caa",
          "opacity": 0,
          "size": 0
         },
         "mode": "markers",
         "showlegend": false,
         "x": [
          11.3682
         ],
         "y": [
          53.6541
         ],
         "type": "scatter"
        },
        {
         "hoverinfo": "skip",
         "line": {
          "color": "#003caa",
          "width": 2
         },
         "mode": "lines",
         "showlegend": false,
         "x": [
          11.3687,
          11.3667
         ],
         "y": [
          53.6459,
          53.648
         ],
         "type": "scatter"
        },
        {
         "hoverinfo": "text",
         "hovertext": "MV3.101 Line 42<br>Line Utilisation: 0.375",
         "marker": {
          "color": "#003caa",
          "opacity": 0,
          "size": 0
         },
         "mode": "markers",
         "showlegend": false,
         "x": [
          11.3667
         ],
         "y": [
          53.648
         ],
         "type": "scatter"
        },
        {
         "hoverinfo": "skip",
         "line": {
          "color": "#003caa",
          "width": 2
         },
         "mode": "lines",
         "showlegend": false,
         "x": [
          11.3773,
          11.3784
         ],
         "y": [
          53.6479,
          53.6481
         ],
         "type": "scatter"
        },
        {
         "hoverinfo": "text",
         "hovertext": "MV3.101 Line 122<br>Line Utilisation: 0.297",
         "marker": {
          "color": "#003caa",
          "opacity": 0,
          "size": 0
         },
         "mode": "markers",
         "showlegend": false,
         "x": [
          11.3784
         ],
         "y": [
          53.6481
         ],
         "type": "scatter"
        },
        {
         "hoverinfo": "skip",
         "line": {
          "color": "#003caa",
          "width": 2
         },
         "mode": "lines",
         "showlegend": false,
         "x": [
          11.3773,
          11.3779
         ],
         "y": [
          53.6499,
          53.6501
         ],
         "type": "scatter"
        },
        {
         "hoverinfo": "text",
         "hovertext": "MV3.101 Line 130<br>Line Utilisation: 0.361",
         "marker": {
          "color": "#003caa",
          "opacity": 0,
          "size": 0
         },
         "mode": "markers",
         "showlegend": false,
         "x": [
          11.3779
         ],
         "y": [
          53.6501
         ],
         "type": "scatter"
        },
        {
         "hoverinfo": "skip",
         "line": {
          "color": "#05ffff",
          "width": 2
         },
         "mode": "lines",
         "showlegend": false,
         "x": [
          11.3732,
          11.3738
         ],
         "y": [
          53.6454,
          53.6456
         ],
         "type": "scatter"
        },
        {
         "hoverinfo": "text",
         "hovertext": "MV3.101 Line 15<br>Line Utilisation: 0.540",
         "marker": {
          "color": "#05ffff",
          "opacity": 0,
          "size": 0
         },
         "mode": "markers",
         "showlegend": false,
         "x": [
          11.3738
         ],
         "y": [
          53.6456
         ],
         "type": "scatter"
        },
        {
         "hoverinfo": "skip",
         "line": {
          "color": "#003caa",
          "width": 2
         },
         "mode": "lines",
         "showlegend": false,
         "x": [
          11.3721,
          11.3745
         ],
         "y": [
          53.6464,
          53.6464
         ],
         "type": "scatter"
        },
        {
         "hoverinfo": "text",
         "hovertext": "MV3.101 BS-Feeder4_line<br>Line Utilisation: 0.314",
         "marker": {
          "color": "#003caa",
          "opacity": 0,
          "size": 0
         },
         "mode": "markers",
         "showlegend": false,
         "x": [
          11.3745
         ],
         "y": [
          53.6464
         ],
         "type": "scatter"
        },
        {
         "hoverinfo": "skip",
         "line": {
          "color": "#000083",
          "width": 2
         },
         "mode": "lines",
         "showlegend": false,
         "x": [
          11.3521,
          11.3511
         ],
         "y": [
          53.6461,
          53.6477
         ],
         "type": "scatter"
        },
        {
         "hoverinfo": "text",
         "hovertext": "MV3.101 Line 93<br>Line Utilisation: 0.116",
         "marker": {
          "color": "#000083",
          "opacity": 0,
          "size": 0
         },
         "mode": "markers",
         "showlegend": false,
         "x": [
          11.3511
         ],
         "y": [
          53.6477
         ],
         "type": "scatter"
        },
        {
         "hoverinfo": "skip",
         "line": {
          "color": "#ffff00",
          "width": 2
         },
         "mode": "lines",
         "showlegend": false,
         "x": [
          11.3669,
          11.3664
         ],
         "y": [
          53.6389,
          53.637
         ],
         "type": "scatter"
        },
        {
         "hoverinfo": "text",
         "hovertext": "MV3.101 Line 98<br>Line Utilisation: 0.612",
         "marker": {
          "color": "#ffff00",
          "opacity": 0,
          "size": 0
         },
         "mode": "markers",
         "showlegend": false,
         "x": [
          11.3664
         ],
         "y": [
          53.637
         ],
         "type": "scatter"
        },
        {
         "hoverinfo": "skip",
         "line": {
          "color": "#05ffff",
          "width": 2
         },
         "mode": "lines",
         "showlegend": false,
         "x": [
          11.3632,
          11.3636
         ],
         "y": [
          53.6353,
          53.634
         ],
         "type": "scatter"
        },
        {
         "hoverinfo": "text",
         "hovertext": "MV3.101 Line 75<br>Line Utilisation: 0.426",
         "marker": {
          "color": "#05ffff",
          "opacity": 0,
          "size": 0
         },
         "mode": "markers",
         "showlegend": false,
         "x": [
          11.3636
         ],
         "y": [
          53.634
         ],
         "type": "scatter"
        },
        {
         "hoverinfo": "skip",
         "line": {
          "color": "#fa0000",
          "width": 2
         },
         "mode": "lines",
         "showlegend": false,
         "x": [
          11.369,
          11.3683
         ],
         "y": [
          53.6451,
          53.6445
         ],
         "type": "scatter"
        },
        {
         "hoverinfo": "text",
         "hovertext": "MV3.101 Line 68<br>Line Utilisation: 0.804",
         "marker": {
          "color": "#fa0000",
          "opacity": 0,
          "size": 0
         },
         "mode": "markers",
         "showlegend": false,
         "x": [
          11.3683
         ],
         "y": [
          53.6445
         ],
         "type": "scatter"
        },
        {
         "hoverinfo": "skip",
         "line": {
          "color": "#000083",
          "width": 2
         },
         "mode": "lines",
         "showlegend": false,
         "x": [
          11.3524,
          11.3535
         ],
         "y": [
          53.6537,
          53.6521
         ],
         "type": "scatter"
        },
        {
         "hoverinfo": "text",
         "hovertext": "MV3.101 Line 65<br>Line Utilisation: 0.175",
         "marker": {
          "color": "#000083",
          "opacity": 0,
          "size": 0
         },
         "mode": "markers",
         "showlegend": false,
         "x": [
          11.3535
         ],
         "y": [
          53.6521
         ],
         "type": "scatter"
        },
        {
         "hoverinfo": "skip",
         "line": {
          "color": "#05ffff",
          "width": 2
         },
         "mode": "lines",
         "showlegend": false,
         "x": [
          11.3783,
          11.3789
         ],
         "y": [
          53.6431,
          53.6429
         ],
         "type": "scatter"
        },
        {
         "hoverinfo": "text",
         "hovertext": "MV3.101 Line 111<br>Line Utilisation: 0.447",
         "marker": {
          "color": "#05ffff",
          "opacity": 0,
          "size": 0
         },
         "mode": "markers",
         "showlegend": false,
         "x": [
          11.3789
         ],
         "y": [
          53.6429
         ],
         "type": "scatter"
        },
        {
         "hoverinfo": "skip",
         "line": {
          "color": "#000083",
          "width": 2
         },
         "mode": "lines",
         "showlegend": false,
         "x": [
          11.3687,
          11.3686
         ],
         "y": [
          53.6585,
          53.6592
         ],
         "type": "scatter"
        },
        {
         "hoverinfo": "text",
         "hovertext": "MV3.101 Line 39<br>Line Utilisation: 0.073",
         "marker": {
          "color": "#000083",
          "opacity": 0,
          "size": 0
         },
         "mode": "markers",
         "showlegend": false,
         "x": [
          11.3686
         ],
         "y": [
          53.6592
         ],
         "type": "scatter"
        },
        {
         "hoverinfo": "skip",
         "line": {
          "color": "#003caa",
          "width": 2
         },
         "mode": "lines",
         "showlegend": false,
         "x": [
          11.3789,
          11.381
         ],
         "y": [
          53.6429,
          53.6428
         ],
         "type": "scatter"
        },
        {
         "hoverinfo": "text",
         "hovertext": "MV3.101 Line 112<br>Line Utilisation: 0.350",
         "marker": {
          "color": "#003caa",
          "opacity": 0,
          "size": 0
         },
         "mode": "markers",
         "showlegend": false,
         "x": [
          11.381
         ],
         "y": [
          53.6428
         ],
         "type": "scatter"
        },
        {
         "hoverinfo": "skip",
         "line": {
          "color": "#003caa",
          "width": 2
         },
         "mode": "lines",
         "showlegend": false,
         "x": [
          11.3752,
          11.3773
         ],
         "y": [
          53.6481,
          53.6499
         ],
         "type": "scatter"
        },
        {
         "hoverinfo": "text",
         "hovertext": "MV3.101 Line 129<br>Line Utilisation: 0.391",
         "marker": {
          "color": "#003caa",
          "opacity": 0,
          "size": 0
         },
         "mode": "markers",
         "showlegend": false,
         "x": [
          11.3773
         ],
         "y": [
          53.6499
         ],
         "type": "scatter"
        },
        {
         "hoverinfo": "skip",
         "line": {
          "color": "#000083",
          "width": 2
         },
         "mode": "lines",
         "showlegend": false,
         "x": [
          11.3798,
          11.3809
         ],
         "y": [
          53.6455,
          53.6455
         ],
         "type": "scatter"
        },
        {
         "hoverinfo": "text",
         "hovertext": "MV3.101 Line 119<br>Line Utilisation: 0.116",
         "marker": {
          "color": "#000083",
          "opacity": 0,
          "size": 0
         },
         "mode": "markers",
         "showlegend": false,
         "x": [
          11.3809
         ],
         "y": [
          53.6455
         ],
         "type": "scatter"
        },
        {
         "hoverinfo": "skip",
         "line": {
          "color": "#003caa",
          "width": 2
         },
         "mode": "lines",
         "showlegend": false,
         "x": [
          11.374,
          11.3751
         ],
         "y": [
          53.6538,
          53.6543
         ],
         "type": "scatter"
        },
        {
         "hoverinfo": "text",
         "hovertext": "MV3.101 Line 20<br>Line Utilisation: 0.305",
         "marker": {
          "color": "#003caa",
          "opacity": 0,
          "size": 0
         },
         "mode": "markers",
         "showlegend": false,
         "x": [
          11.3751
         ],
         "y": [
          53.6543
         ],
         "type": "scatter"
        },
        {
         "hoverinfo": "skip",
         "line": {
          "color": "#000083",
          "width": 2
         },
         "mode": "lines",
         "showlegend": false,
         "x": [
          11.3715,
          11.3719
         ],
         "y": [
          53.6397,
          53.638
         ],
         "type": "scatter"
        },
        {
         "hoverinfo": "text",
         "hovertext": "MV3.101 Line 10<br>Line Utilisation: 0.055",
         "marker": {
          "color": "#000083",
          "opacity": 0,
          "size": 0
         },
         "mode": "markers",
         "showlegend": false,
         "x": [
          11.3719
         ],
         "y": [
          53.638
         ],
         "type": "scatter"
        },
        {
         "hoverinfo": "skip",
         "line": {
          "color": "#ffff00",
          "width": 2
         },
         "mode": "lines",
         "showlegend": false,
         "x": [
          11.368,
          11.3669
         ],
         "y": [
          53.6417,
          53.6389
         ],
         "type": "scatter"
        },
        {
         "hoverinfo": "text",
         "hovertext": "MV3.101 Line 97<br>Line Utilisation: 0.637",
         "marker": {
          "color": "#ffff00",
          "opacity": 0,
          "size": 0
         },
         "mode": "markers",
         "showlegend": false,
         "x": [
          11.3669
         ],
         "y": [
          53.6389
         ],
         "type": "scatter"
        },
        {
         "hoverinfo": "skip",
         "line": {
          "color": "#000083",
          "width": 2
         },
         "mode": "lines",
         "showlegend": false,
         "x": [
          11.3719,
          11.3721
         ],
         "y": [
          53.638,
          53.6371
         ],
         "type": "scatter"
        },
        {
         "hoverinfo": "text",
         "hovertext": "MV3.101 Line 11<br>Line Utilisation: 0.040",
         "marker": {
          "color": "#000083",
          "opacity": 0,
          "size": 0
         },
         "mode": "markers",
         "showlegend": false,
         "x": [
          11.3721
         ],
         "y": [
          53.6371
         ],
         "type": "scatter"
        },
        {
         "hoverinfo": "skip",
         "line": {
          "color": "#05ffff",
          "width": 2
         },
         "mode": "lines",
         "showlegend": false,
         "x": [
          11.3584,
          11.3581
         ],
         "y": [
          53.6531,
          53.6545
         ],
         "type": "scatter"
        },
        {
         "hoverinfo": "text",
         "hovertext": "MV3.101 Line 59<br>Line Utilisation: 0.511",
         "marker": {
          "color": "#05ffff",
          "opacity": 0,
          "size": 0
         },
         "mode": "markers",
         "showlegend": false,
         "x": [
          11.3581
         ],
         "y": [
          53.6545
         ],
         "type": "scatter"
        },
        {
         "hoverinfo": "skip",
         "line": {
          "color": "#000083",
          "width": 2
         },
         "mode": "lines",
         "showlegend": false,
         "x": [
          11.3627,
          11.3638
         ],
         "y": [
          53.6285,
          53.6261
         ],
         "type": "scatter"
        },
        {
         "hoverinfo": "text",
         "hovertext": "MV3.101 Line 80<br>Line Utilisation: 0.163",
         "marker": {
          "color": "#000083",
          "opacity": 0,
          "size": 0
         },
         "mode": "markers",
         "showlegend": false,
         "x": [
          11.3638
         ],
         "y": [
          53.6261
         ],
         "type": "scatter"
        },
        {
         "hoverinfo": "skip",
         "line": {
          "color": "#fa0000",
          "width": 2
         },
         "mode": "lines",
         "showlegend": false,
         "x": [
          11.3692,
          11.369
         ],
         "y": [
          53.6456,
          53.6451
         ],
         "type": "scatter"
        },
        {
         "hoverinfo": "text",
         "hovertext": "MV3.101 Line 67<br>Line Utilisation: 0.826",
         "marker": {
          "color": "#fa0000",
          "opacity": 0,
          "size": 0
         },
         "mode": "markers",
         "showlegend": false,
         "x": [
          11.369
         ],
         "y": [
          53.6451
         ],
         "type": "scatter"
        },
        {
         "hoverinfo": "skip",
         "line": {
          "color": "#000083",
          "width": 2
         },
         "mode": "lines",
         "showlegend": false,
         "x": [
          11.3776,
          11.3798
         ],
         "y": [
          53.6454,
          53.6455
         ],
         "type": "scatter"
        },
        {
         "hoverinfo": "text",
         "hovertext": "MV3.101 Line 118<br>Line Utilisation: 0.104",
         "marker": {
          "color": "#000083",
          "opacity": 0,
          "size": 0
         },
         "mode": "markers",
         "showlegend": false,
         "x": [
          11.3798
         ],
         "y": [
          53.6455
         ],
         "type": "scatter"
        },
        {
         "hoverinfo": "skip",
         "line": {
          "color": "#ffff00",
          "width": 2
         },
         "mode": "lines",
         "showlegend": false,
         "x": [
          11.3692,
          11.3686
         ],
         "y": [
          53.6456,
          53.6436
         ],
         "type": "scatter"
        },
        {
         "hoverinfo": "text",
         "hovertext": "MV3.101 Line 95<br>Line Utilisation: 0.693",
         "marker": {
          "color": "#ffff00",
          "opacity": 0,
          "size": 0
         },
         "mode": "markers",
         "showlegend": false,
         "x": [
          11.3686
         ],
         "y": [
          53.6436
         ],
         "type": "scatter"
        },
        {
         "hoverinfo": "skip",
         "line": {
          "color": "#fa0000",
          "width": 2
         },
         "mode": "lines",
         "showlegend": false,
         "x": [
          11.3604,
          11.3578
         ],
         "y": [
          53.6489,
          53.6498
         ],
         "type": "scatter"
        },
        {
         "hoverinfo": "text",
         "hovertext": "MV3.101 Line 54<br>Line Utilisation: 0.849",
         "marker": {
          "color": "#fa0000",
          "opacity": 0,
          "size": 0
         },
         "mode": "markers",
         "showlegend": false,
         "x": [
          11.3578
         ],
         "y": [
          53.6498
         ],
         "type": "scatter"
        },
        {
         "hoverinfo": "skip",
         "line": {
          "color": "#000083",
          "width": 2
         },
         "mode": "lines",
         "showlegend": false,
         "x": [
          11.3535,
          11.3521
         ],
         "y": [
          53.6521,
          53.6508
         ],
         "type": "scatter"
        },
        {
         "hoverinfo": "text",
         "hovertext": "MV3.101 Line 66<br>Line Utilisation: 0.063",
         "marker": {
          "color": "#000083",
          "opacity": 0,
          "size": 0
         },
         "mode": "markers",
         "showlegend": false,
         "x": [
          11.3521
         ],
         "y": [
          53.6508
         ],
         "type": "scatter"
        },
        {
         "hoverinfo": "skip",
         "line": {
          "color": "#000083",
          "width": 2
         },
         "mode": "lines",
         "showlegend": false,
         "x": [
          11.3767,
          11.3776
         ],
         "y": [
          53.641,
          53.6415
         ],
         "type": "scatter"
        },
        {
         "hoverinfo": "text",
         "hovertext": "MV3.101 Line 7<br>Line Utilisation: 0.172",
         "marker": {
          "color": "#000083",
          "opacity": 0,
          "size": 0
         },
         "mode": "markers",
         "showlegend": false,
         "x": [
          11.3776
         ],
         "y": [
          53.6415
         ],
         "type": "scatter"
        },
        {
         "hoverinfo": "skip",
         "line": {
          "color": "#003caa",
          "width": 2
         },
         "mode": "lines",
         "showlegend": false,
         "x": [
          11.3805,
          11.3811
         ],
         "y": [
          53.6502,
          53.6501
         ],
         "type": "scatter"
        },
        {
         "hoverinfo": "text",
         "hovertext": "MV3.101 Line 132<br>Line Utilisation: 0.211",
         "marker": {
          "color": "#003caa",
          "opacity": 0,
          "size": 0
         },
         "mode": "markers",
         "showlegend": false,
         "x": [
          11.3811
         ],
         "y": [
          53.6501
         ],
         "type": "scatter"
        },
        {
         "hoverinfo": "skip",
         "line": {
          "color": "#05ffff",
          "width": 2
         },
         "mode": "lines",
         "showlegend": false,
         "x": [
          11.3654,
          11.364
         ],
         "y": [
          53.6406,
          53.6384
         ],
         "type": "scatter"
        },
        {
         "hoverinfo": "text",
         "hovertext": "MV3.101 Line 73<br>Line Utilisation: 0.527",
         "marker": {
          "color": "#05ffff",
          "opacity": 0,
          "size": 0
         },
         "mode": "markers",
         "showlegend": false,
         "x": [
          11.364
         ],
         "y": [
          53.6384
         ],
         "type": "scatter"
        },
        {
         "hoverinfo": "skip",
         "line": {
          "color": "#000083",
          "width": 2
         },
         "mode": "lines",
         "showlegend": false,
         "x": [
          11.3776,
          11.3784
         ],
         "y": [
          53.6415,
          53.6422
         ],
         "type": "scatter"
        },
        {
         "hoverinfo": "text",
         "hovertext": "MV3.101 Line 8<br>Line Utilisation: 0.065",
         "marker": {
          "color": "#000083",
          "opacity": 0,
          "size": 0
         },
         "mode": "markers",
         "showlegend": false,
         "x": [
          11.3784
         ],
         "y": [
          53.6422
         ],
         "type": "scatter"
        },
        {
         "hoverinfo": "skip",
         "line": {
          "color": "#000083",
          "width": 2
         },
         "mode": "lines",
         "showlegend": false,
         "x": [
          11.3626,
          11.3627
         ],
         "y": [
          53.6303,
          53.6285
         ],
         "type": "scatter"
        },
        {
         "hoverinfo": "text",
         "hovertext": "MV3.101 Line 79<br>Line Utilisation: 0.186",
         "marker": {
          "color": "#000083",
          "opacity": 0,
          "size": 0
         },
         "mode": "markers",
         "showlegend": false,
         "x": [
          11.3627
         ],
         "y": [
          53.6285
         ],
         "type": "scatter"
        },
        {
         "hoverinfo": "skip",
         "line": {
          "color": "#05ffff",
          "width": 2
         },
         "mode": "lines",
         "showlegend": false,
         "x": [
          11.366,
          11.3654
         ],
         "y": [
          53.6416,
          53.6406
         ],
         "type": "scatter"
        },
        {
         "hoverinfo": "text",
         "hovertext": "MV3.101 Line 72<br>Line Utilisation: 0.588",
         "marker": {
          "color": "#05ffff",
          "opacity": 0,
          "size": 0
         },
         "mode": "markers",
         "showlegend": false,
         "x": [
          11.3654
         ],
         "y": [
          53.6406
         ],
         "type": "scatter"
        },
        {
         "hoverinfo": "skip",
         "line": {
          "color": "#000083",
          "width": 2
         },
         "mode": "lines",
         "showlegend": false,
         "x": [
          11.3715,
          11.3715
         ],
         "y": [
          53.6411,
          53.6397
         ],
         "type": "scatter"
        },
        {
         "hoverinfo": "text",
         "hovertext": "MV3.101 Line 9<br>Line Utilisation: 0.111",
         "marker": {
          "color": "#000083",
          "opacity": 0,
          "size": 0
         },
         "mode": "markers",
         "showlegend": false,
         "x": [
          11.3715
         ],
         "y": [
          53.6397
         ],
         "type": "scatter"
        },
        {
         "hoverinfo": "skip",
         "line": {
          "color": "#003caa",
          "width": 2
         },
         "mode": "lines",
         "showlegend": false,
         "x": [
          11.3619,
          11.3609
         ],
         "y": [
          53.6443,
          53.6441
         ],
         "type": "scatter"
        },
        {
         "hoverinfo": "text",
         "hovertext": "MV3.101 Line 88<br>Line Utilisation: 0.364",
         "marker": {
          "color": "#003caa",
          "opacity": 0,
          "size": 0
         },
         "mode": "markers",
         "showlegend": false,
         "x": [
          11.3609
         ],
         "y": [
          53.6441
         ],
         "type": "scatter"
        },
        {
         "hoverinfo": "skip",
         "line": {
          "color": "#003caa",
          "width": 2
         },
         "mode": "lines",
         "showlegend": false,
         "x": [
          11.3519,
          11.3518
         ],
         "y": [
          53.6559,
          53.655
         ],
         "type": "scatter"
        },
        {
         "hoverinfo": "text",
         "hovertext": "MV3.101 Line 63<br>Line Utilisation: 0.228",
         "marker": {
          "color": "#003caa",
          "opacity": 0,
          "size": 0
         },
         "mode": "markers",
         "showlegend": false,
         "x": [
          11.3518
         ],
         "y": [
          53.655
         ],
         "type": "scatter"
        },
        {
         "hoverinfo": "skip",
         "line": {
          "color": "#003caa",
          "width": 2
         },
         "mode": "lines",
         "showlegend": false,
         "x": [
          11.3638,
          11.3637
         ],
         "y": [
          53.6514,
          53.6544
         ],
         "type": "scatter"
        },
        {
         "hoverinfo": "text",
         "hovertext": "MV3.101 Line 45<br>Line Utilisation: 0.231",
         "marker": {
          "color": "#003caa",
          "opacity": 0,
          "size": 0
         },
         "mode": "markers",
         "showlegend": false,
         "x": [
          11.3637
         ],
         "y": [
          53.6544
         ],
         "type": "scatter"
        },
        {
         "hoverinfo": "skip",
         "line": {
          "color": "#05ffff",
          "width": 2
         },
         "mode": "lines",
         "showlegend": false,
         "x": [
          11.3698,
          11.3708
         ],
         "y": [
          53.6485,
          53.6505
         ],
         "type": "scatter"
        },
        {
         "hoverinfo": "text",
         "hovertext": "MV3.101 Line 17<br>Line Utilisation: 0.520",
         "marker": {
          "color": "#05ffff",
          "opacity": 0,
          "size": 0
         },
         "mode": "markers",
         "showlegend": false,
         "x": [
          11.3708
         ],
         "y": [
          53.6505
         ],
         "type": "scatter"
        },
        {
         "hoverinfo": "skip",
         "line": {
          "color": "#003caa",
          "width": 2
         },
         "mode": "lines",
         "showlegend": false,
         "x": [
          11.3724,
          11.3733
         ],
         "y": [
          53.6341,
          53.6328
         ],
         "type": "scatter"
        },
        {
         "hoverinfo": "text",
         "hovertext": "MV3.101 Line 105<br>Line Utilisation: 0.206",
         "marker": {
          "color": "#003caa",
          "opacity": 0,
          "size": 0
         },
         "mode": "markers",
         "showlegend": false,
         "x": [
          11.3733
         ],
         "y": [
          53.6328
         ],
         "type": "scatter"
        },
        {
         "hoverinfo": "skip",
         "line": {
          "color": "#003caa",
          "width": 2
         },
         "mode": "lines",
         "showlegend": false,
         "x": [
          11.3577,
          11.3558
         ],
         "y": [
          53.6437,
          53.6439
         ],
         "type": "scatter"
        },
        {
         "hoverinfo": "text",
         "hovertext": "MV3.101 Line 90<br>Line Utilisation: 0.280",
         "marker": {
          "color": "#003caa",
          "opacity": 0,
          "size": 0
         },
         "mode": "markers",
         "showlegend": false,
         "x": [
          11.3558
         ],
         "y": [
          53.6439
         ],
         "type": "scatter"
        },
        {
         "hoverinfo": "skip",
         "line": {
          "color": "#003caa",
          "width": 2
         },
         "mode": "lines",
         "showlegend": false,
         "x": [
          11.3701,
          11.372
         ],
         "y": [
          53.6477,
          53.6492
         ],
         "type": "scatter"
        },
        {
         "hoverinfo": "text",
         "hovertext": "MV3.101 Line 29<br>Line Utilisation: 0.345",
         "marker": {
          "color": "#003caa",
          "opacity": 0,
          "size": 0
         },
         "mode": "markers",
         "showlegend": false,
         "x": [
          11.372
         ],
         "y": [
          53.6492
         ],
         "type": "scatter"
        },
        {
         "hoverinfo": "skip",
         "line": {
          "color": "#05ffff",
          "width": 2
         },
         "mode": "lines",
         "showlegend": false,
         "x": [
          11.3708,
          11.3715
         ],
         "y": [
          53.6421,
          53.6411
         ],
         "type": "scatter"
        },
        {
         "hoverinfo": "text",
         "hovertext": "MV3.101 Line 4<br>Line Utilisation: 0.429",
         "marker": {
          "color": "#05ffff",
          "opacity": 0,
          "size": 0
         },
         "mode": "markers",
         "showlegend": false,
         "x": [
          11.3715
         ],
         "y": [
          53.6411
         ],
         "type": "scatter"
        },
        {
         "hoverinfo": "skip",
         "line": {
          "color": "#000083",
          "width": 2
         },
         "mode": "lines",
         "showlegend": false,
         "x": [
          11.3733,
          11.3767
         ],
         "y": [
          53.6409,
          53.641
         ],
         "type": "scatter"
        },
        {
         "hoverinfo": "text",
         "hovertext": "MV3.101 Line 6<br>Line Utilisation: 0.192",
         "marker": {
          "color": "#000083",
          "opacity": 0,
          "size": 0
         },
         "mode": "markers",
         "showlegend": false,
         "x": [
          11.3767
         ],
         "y": [
          53.641
         ],
         "type": "scatter"
        },
        {
         "hoverinfo": "skip",
         "line": {
          "color": "#003caa",
          "width": 2
         },
         "mode": "lines",
         "showlegend": false,
         "x": [
          11.3755,
          11.3773
         ],
         "y": [
          53.6467,
          53.6479
         ],
         "type": "scatter"
        },
        {
         "hoverinfo": "text",
         "hovertext": "MV3.101 Line 121<br>Line Utilisation: 0.326",
         "marker": {
          "color": "#003caa",
          "opacity": 0,
          "size": 0
         },
         "mode": "markers",
         "showlegend": false,
         "x": [
          11.3773
         ],
         "y": [
          53.6479
         ],
         "type": "scatter"
        },
        {
         "hoverinfo": "skip",
         "line": {
          "color": "#ffff00",
          "width": 2
         },
         "mode": "lines",
         "showlegend": false,
         "x": [
          11.3674,
          11.3663
         ],
         "y": [
          53.6434,
          53.642
         ],
         "type": "scatter"
        },
        {
         "hoverinfo": "text",
         "hovertext": "MV3.101 Line 70<br>Line Utilisation: 0.646",
         "marker": {
          "color": "#ffff00",
          "opacity": 0,
          "size": 0
         },
         "mode": "markers",
         "showlegend": false,
         "x": [
          11.3663
         ],
         "y": [
          53.642
         ],
         "type": "scatter"
        },
        {
         "hoverinfo": "skip",
         "line": {
          "color": "#05ffff",
          "width": 2
         },
         "mode": "lines",
         "showlegend": false,
         "x": [
          11.3649,
          11.364
         ],
         "y": [
          53.645,
          53.6448
         ],
         "type": "scatter"
        },
        {
         "hoverinfo": "text",
         "hovertext": "MV3.101 Line 86<br>Line Utilisation: 0.473",
         "marker": {
          "color": "#05ffff",
          "opacity": 0,
          "size": 0
         },
         "mode": "markers",
         "showlegend": false,
         "x": [
          11.364
         ],
         "y": [
          53.6448
         ],
         "type": "scatter"
        },
        {
         "hoverinfo": "skip",
         "line": {
          "color": "#800000",
          "width": 2
         },
         "mode": "lines",
         "showlegend": false,
         "x": [
          11.3692,
          11.3682
         ],
         "y": [
          53.6456,
          53.6457
         ],
         "type": "scatter"
        },
        {
         "hoverinfo": "text",
         "hovertext": "MV3.101 Line 49<br>Line Utilisation: 1.000",
         "marker": {
          "color": "#800000",
          "opacity": 0,
          "size": 0
         },
         "mode": "markers",
         "showlegend": false,
         "x": [
          11.3682
         ],
         "y": [
          53.6457
         ],
         "type": "scatter"
        },
        {
         "hoverinfo": "skip",
         "line": {
          "color": "#05ffff",
          "width": 2
         },
         "mode": "lines",
         "showlegend": false,
         "x": [
          11.3683,
          11.3682
         ],
         "y": [
          53.6489,
          53.6511
         ],
         "type": "scatter"
        },
        {
         "hoverinfo": "text",
         "hovertext": "MV3.101 Line 34<br>Line Utilisation: 0.404",
         "marker": {
          "color": "#05ffff",
          "opacity": 0,
          "size": 0
         },
         "mode": "markers",
         "showlegend": false,
         "x": [
          11.3682
         ],
         "y": [
          53.6511
         ],
         "type": "scatter"
        },
        {
         "hoverinfo": "skip",
         "line": {
          "color": "#05ffff",
          "width": 2
         },
         "mode": "lines",
         "showlegend": false,
         "x": [
          11.3665,
          11.3649
         ],
         "y": [
          53.6453,
          53.645
         ],
         "type": "scatter"
        },
        {
         "hoverinfo": "text",
         "hovertext": "MV3.101 Line 85<br>Line Utilisation: 0.498",
         "marker": {
          "color": "#05ffff",
          "opacity": 0,
          "size": 0
         },
         "mode": "markers",
         "showlegend": false,
         "x": [
          11.3649
         ],
         "y": [
          53.645
         ],
         "type": "scatter"
        },
        {
         "hoverinfo": "skip",
         "line": {
          "color": "#003caa",
          "width": 2
         },
         "mode": "lines",
         "showlegend": false,
         "x": [
          11.3779,
          11.3805
         ],
         "y": [
          53.6501,
          53.6502
         ],
         "type": "scatter"
        },
        {
         "hoverinfo": "text",
         "hovertext": "MV3.101 Line 131<br>Line Utilisation: 0.307",
         "marker": {
          "color": "#003caa",
          "opacity": 0,
          "size": 0
         },
         "mode": "markers",
         "showlegend": false,
         "x": [
          11.3805
         ],
         "y": [
          53.6502
         ],
         "type": "scatter"
        },
        {
         "hoverinfo": "skip",
         "line": {
          "color": "#05ffff",
          "width": 2
         },
         "mode": "lines",
         "showlegend": false,
         "x": [
          11.3767,
          11.3783
         ],
         "y": [
          53.6438,
          53.6431
         ],
         "type": "scatter"
        },
        {
         "hoverinfo": "text",
         "hovertext": "MV3.101 Line 110<br>Line Utilisation: 0.426",
         "marker": {
          "color": "#05ffff",
          "opacity": 0,
          "size": 0
         },
         "mode": "markers",
         "showlegend": false,
         "x": [
          11.3783
         ],
         "y": [
          53.6431
         ],
         "type": "scatter"
        },
        {
         "hoverinfo": "skip",
         "line": {
          "color": "#fa0000",
          "width": 2
         },
         "mode": "lines",
         "showlegend": false,
         "x": [
          11.3627,
          11.3604
         ],
         "y": [
          53.6482,
          53.6489
         ],
         "type": "scatter"
        },
        {
         "hoverinfo": "text",
         "hovertext": "MV3.101 Line 53<br>Line Utilisation: 0.916",
         "marker": {
          "color": "#fa0000",
          "opacity": 0,
          "size": 0
         },
         "mode": "markers",
         "showlegend": false,
         "x": [
          11.3604
         ],
         "y": [
          53.6489
         ],
         "type": "scatter"
        },
        {
         "hoverinfo": "skip",
         "line": {
          "color": "#003caa",
          "width": 2
         },
         "mode": "lines",
         "showlegend": false,
         "x": [
          11.372,
          11.3721
         ],
         "y": [
          53.6492,
          53.6464
         ],
         "type": "scatter"
        },
        {
         "hoverinfo": "text",
         "hovertext": "MV3.101 Line 30<br>Line Utilisation: 0.336",
         "marker": {
          "color": "#003caa",
          "opacity": 0,
          "size": 0
         },
         "mode": "markers",
         "showlegend": false,
         "x": [
          11.3721
         ],
         "y": [
          53.6464
         ],
         "type": "scatter"
        },
        {
         "hoverinfo": "skip",
         "line": {
          "color": "#05ffff",
          "width": 2
         },
         "mode": "lines",
         "showlegend": false,
         "x": [
          11.3707,
          11.3708
         ],
         "y": [
          53.6425,
          53.6421
         ],
         "type": "scatter"
        },
        {
         "hoverinfo": "text",
         "hovertext": "MV3.101 Line 3<br>Line Utilisation: 0.499",
         "marker": {
          "color": "#05ffff",
          "opacity": 0,
          "size": 0
         },
         "mode": "markers",
         "showlegend": false,
         "x": [
          11.3708
         ],
         "y": [
          53.6421
         ],
         "type": "scatter"
        },
        {
         "hoverinfo": "skip",
         "line": {
          "color": "#000083",
          "width": 2
         },
         "mode": "lines",
         "showlegend": false,
         "x": [
          11.3805,
          11.3807
         ],
         "y": [
          53.6519,
          53.651
         ],
         "type": "scatter"
        },
        {
         "hoverinfo": "text",
         "hovertext": "MV3.101 Line 25<br>Line Utilisation: 0.065",
         "marker": {
          "color": "#000083",
          "opacity": 0,
          "size": 0
         },
         "mode": "markers",
         "showlegend": false,
         "x": [
          11.3807
         ],
         "y": [
          53.651
         ],
         "type": "scatter"
        },
        {
         "hoverinfo": "skip",
         "line": {
          "color": "#003caa",
          "width": 2
         },
         "mode": "lines",
         "showlegend": false,
         "x": [
          11.3561,
          11.3529
         ],
         "y": [
          53.6568,
          53.6567
         ],
         "type": "scatter"
        },
        {
         "hoverinfo": "text",
         "hovertext": "MV3.101 Line 61<br>Line Utilisation: 0.354",
         "marker": {
          "color": "#003caa",
          "opacity": 0,
          "size": 0
         },
         "mode": "markers",
         "showlegend": false,
         "x": [
          11.3529
         ],
         "y": [
          53.6567
         ],
         "type": "scatter"
        },
        {
         "hoverinfo": "skip",
         "line": {
          "color": "#000083",
          "width": 2
         },
         "mode": "lines",
         "showlegend": false,
         "x": [
          11.3819,
          11.3833
         ],
         "y": [
          53.6481,
          53.6472
         ],
         "type": "scatter"
        },
        {
         "hoverinfo": "text",
         "hovertext": "MV3.101 Line 124<br>Line Utilisation: 0.183",
         "marker": {
          "color": "#000083",
          "opacity": 0,
          "size": 0
         },
         "mode": "markers",
         "showlegend": false,
         "x": [
          11.3833
         ],
         "y": [
          53.6472
         ],
         "type": "scatter"
        },
        {
         "hoverinfo": "skip",
         "line": {
          "color": "#003caa",
          "width": 2
         },
         "mode": "lines",
         "showlegend": false,
         "x": [
          11.3682,
          11.3682
         ],
         "y": [
          53.6511,
          53.6531
         ],
         "type": "scatter"
        },
        {
         "hoverinfo": "text",
         "hovertext": "MV3.101 Line 35<br>Line Utilisation: 0.311",
         "marker": {
          "color": "#003caa",
          "opacity": 0,
          "size": 0
         },
         "mode": "markers",
         "showlegend": false,
         "x": [
          11.3682
         ],
         "y": [
          53.6531
         ],
         "type": "scatter"
        },
        {
         "hoverinfo": "skip",
         "line": {
          "color": "#003caa",
          "width": 2
         },
         "mode": "lines",
         "showlegend": false,
         "x": [
          11.3627,
          11.3626
         ],
         "y": [
          53.6312,
          53.6303
         ],
         "type": "scatter"
        },
        {
         "hoverinfo": "text",
         "hovertext": "MV3.101 Line 78<br>Line Utilisation: 0.265",
         "marker": {
          "color": "#003caa",
          "opacity": 0,
          "size": 0
         },
         "mode": "markers",
         "showlegend": false,
         "x": [
          11.3626
         ],
         "y": [
          53.6303
         ],
         "type": "scatter"
        },
        {
         "hoverinfo": "skip",
         "line": {
          "color": "#003caa",
          "width": 2
         },
         "mode": "lines",
         "showlegend": false,
         "x": [
          11.381,
          11.3815
         ],
         "y": [
          53.6428,
          53.6429
         ],
         "type": "scatter"
        },
        {
         "hoverinfo": "text",
         "hovertext": "MV3.101 Line 113<br>Line Utilisation: 0.274",
         "marker": {
          "color": "#003caa",
          "opacity": 0,
          "size": 0
         },
         "mode": "markers",
         "showlegend": false,
         "x": [
          11.3815
         ],
         "y": [
          53.6429
         ],
         "type": "scatter"
        },
        {
         "hoverinfo": "skip",
         "line": {
          "color": "#05ffff",
          "width": 2
         },
         "mode": "lines",
         "showlegend": false,
         "x": [
          11.3745,
          11.3767
         ],
         "y": [
          53.6464,
          53.6438
         ],
         "type": "scatter"
        },
        {
         "hoverinfo": "text",
         "hovertext": "MV3.101 Line 109<br>Line Utilisation: 0.490",
         "marker": {
          "color": "#05ffff",
          "opacity": 0,
          "size": 0
         },
         "mode": "markers",
         "showlegend": false,
         "x": [
          11.3767
         ],
         "y": [
          53.6438
         ],
         "type": "scatter"
        },
        {
         "hoverinfo": "skip",
         "line": {
          "color": "#000083",
          "width": 2
         },
         "mode": "lines",
         "showlegend": false,
         "x": [
          11.3637,
          11.3634
         ],
         "y": [
          53.6544,
          53.6579
         ],
         "type": "scatter"
        },
        {
         "hoverinfo": "text",
         "hovertext": "MV3.101 Line 46<br>Line Utilisation: 0.192",
         "marker": {
          "color": "#000083",
          "opacity": 0,
          "size": 0
         },
         "mode": "markers",
         "showlegend": false,
         "x": [
          11.3634
         ],
         "y": [
          53.6579
         ],
         "type": "scatter"
        },
        {
         "hoverinfo": "skip",
         "line": {
          "color": "#003caa",
          "width": 2
         },
         "mode": "lines",
         "showlegend": false,
         "x": [
          11.3633,
          11.3627
         ],
         "y": [
          53.6332,
          53.6312
         ],
         "type": "scatter"
        },
        {
         "hoverinfo": "text",
         "hovertext": "MV3.101 Line 77<br>Line Utilisation: 0.358",
         "marker": {
          "color": "#003caa",
          "opacity": 0,
          "size": 0
         },
         "mode": "markers",
         "showlegend": false,
         "x": [
          11.3627
         ],
         "y": [
          53.6312
         ],
         "type": "scatter"
        },
        {
         "hoverinfo": "skip",
         "line": {
          "color": "#003caa",
          "width": 2
         },
         "mode": "lines",
         "showlegend": false,
         "x": [
          11.3518,
          11.3524
         ],
         "y": [
          53.655,
          53.6537
         ],
         "type": "scatter"
        },
        {
         "hoverinfo": "text",
         "hovertext": "MV3.101 Line 64<br>Line Utilisation: 0.204",
         "marker": {
          "color": "#003caa",
          "opacity": 0,
          "size": 0
         },
         "mode": "markers",
         "showlegend": false,
         "x": [
          11.3524
         ],
         "y": [
          53.6537
         ],
         "type": "scatter"
        },
        {
         "hoverinfo": "skip",
         "line": {
          "color": "#003caa",
          "width": 2
         },
         "mode": "lines",
         "showlegend": false,
         "x": [
          11.3701,
          11.3701
         ],
         "y": [
          53.647,
          53.6477
         ],
         "type": "scatter"
        },
        {
         "hoverinfo": "text",
         "hovertext": "MV3.101 Line 28<br>Line Utilisation: 0.373",
         "marker": {
          "color": "#003caa",
          "opacity": 0,
          "size": 0
         },
         "mode": "markers",
         "showlegend": false,
         "x": [
          11.3701
         ],
         "y": [
          53.6477
         ],
         "type": "scatter"
        },
        {
         "hoverinfo": "skip",
         "line": {
          "color": "#05ffff",
          "width": 2
         },
         "mode": "lines",
         "showlegend": false,
         "x": [
          11.3692,
          11.3745
         ],
         "y": [
          53.6456,
          53.6464
         ],
         "type": "scatter"
        },
        {
         "hoverinfo": "text",
         "hovertext": "MV3.101 Reserve line<br>Line Utilisation: 0.563",
         "marker": {
          "color": "#05ffff",
          "opacity": 0,
          "size": 0
         },
         "mode": "markers",
         "showlegend": false,
         "x": [
          11.3745
         ],
         "y": [
          53.6464
         ],
         "type": "scatter"
        },
        {
         "hoverinfo": "skip",
         "line": {
          "color": "#000083",
          "width": 2
         },
         "mode": "lines",
         "showlegend": false,
         "x": [
          11.3686,
          11.3685
         ],
         "y": [
          53.6592,
          53.6598
         ],
         "type": "scatter"
        },
        {
         "hoverinfo": "text",
         "hovertext": "MV3.101 Line 40<br>Line Utilisation: 0.029",
         "marker": {
          "color": "#000083",
          "opacity": 0,
          "size": 0
         },
         "mode": "markers",
         "showlegend": false,
         "x": [
          11.3685
         ],
         "y": [
          53.6598
         ],
         "type": "scatter"
        },
        {
         "hoverinfo": "skip",
         "line": {
          "color": "#000083",
          "width": 2
         },
         "mode": "lines",
         "showlegend": false,
         "x": [
          11.3634,
          11.3636
         ],
         "y": [
          53.6579,
          53.6603
         ],
         "type": "scatter"
        },
        {
         "hoverinfo": "text",
         "hovertext": "MV3.101 Line 47<br>Line Utilisation: 0.140",
         "marker": {
          "color": "#000083",
          "opacity": 0,
          "size": 0
         },
         "mode": "markers",
         "showlegend": false,
         "x": [
          11.3636
         ],
         "y": [
          53.6603
         ],
         "type": "scatter"
        },
        {
         "hoverinfo": "skip",
         "line": {
          "color": "#000083",
          "width": 2
         },
         "mode": "lines",
         "showlegend": false,
         "x": [
          11.3636,
          11.3646
         ],
         "y": [
          53.6603,
          53.662
         ],
         "type": "scatter"
        },
        {
         "hoverinfo": "text",
         "hovertext": "MV3.101 Line 48<br>Line Utilisation: 0.080",
         "marker": {
          "color": "#000083",
          "opacity": 0,
          "size": 0
         },
         "mode": "markers",
         "showlegend": false,
         "x": [
          11.3646
         ],
         "y": [
          53.662
         ],
         "type": "scatter"
        },
        {
         "hoverinfo": "skip",
         "line": {
          "color": "#000083",
          "width": 2
         },
         "mode": "lines",
         "showlegend": false,
         "x": [
          11.3638,
          11.366
         ],
         "y": [
          53.6261,
          53.624
         ],
         "type": "scatter"
        },
        {
         "hoverinfo": "text",
         "hovertext": "MV3.101 Line 81<br>Line Utilisation: 0.135",
         "marker": {
          "color": "#000083",
          "opacity": 0,
          "size": 0
         },
         "mode": "markers",
         "showlegend": false,
         "x": [
          11.366
         ],
         "y": [
          53.624
         ],
         "type": "scatter"
        },
        {
         "hoverinfo": "skip",
         "line": {
          "color": "#ffff00",
          "width": 2
         },
         "mode": "lines",
         "showlegend": false,
         "x": [
          11.3578,
          11.357
         ],
         "y": [
          53.6498,
          53.6504
         ],
         "type": "scatter"
        },
        {
         "hoverinfo": "text",
         "hovertext": "MV3.101 Line 55<br>Line Utilisation: 0.782",
         "marker": {
          "color": "#ffff00",
          "opacity": 0,
          "size": 0
         },
         "mode": "markers",
         "showlegend": false,
         "x": [
          11.357
         ],
         "y": [
          53.6504
         ],
         "type": "scatter"
        },
        {
         "hoverinfo": "skip",
         "line": {
          "color": "#05ffff",
          "width": 2
         },
         "mode": "lines",
         "showlegend": false,
         "x": [
          11.3748,
          11.3752
         ],
         "y": [
          53.6475,
          53.6481
         ],
         "type": "scatter"
        },
        {
         "hoverinfo": "text",
         "hovertext": "MV3.101 Line 128<br>Line Utilisation: 0.526",
         "marker": {
          "color": "#05ffff",
          "opacity": 0,
          "size": 0
         },
         "mode": "markers",
         "showlegend": false,
         "x": [
          11.3752
         ],
         "y": [
          53.6481
         ],
         "type": "scatter"
        },
        {
         "hoverinfo": "skip",
         "line": {
          "color": "#05ffff",
          "width": 2
         },
         "mode": "lines",
         "showlegend": false,
         "x": [
          11.3738,
          11.3745
         ],
         "y": [
          53.6456,
          53.6464
         ],
         "type": "scatter"
        },
        {
         "hoverinfo": "text",
         "hovertext": "MV3.101 BS-Feeder3_line<br>Line Utilisation: 0.494",
         "marker": {
          "color": "#05ffff",
          "opacity": 0,
          "size": 0
         },
         "mode": "markers",
         "showlegend": false,
         "x": [
          11.3745
         ],
         "y": [
          53.6464
         ],
         "type": "scatter"
        },
        {
         "hoverinfo": "skip",
         "line": {
          "color": "#003caa",
          "width": 2
         },
         "mode": "lines",
         "showlegend": false,
         "x": [
          11.3756,
          11.3777
         ],
         "y": [
          53.6545,
          53.6544
         ],
         "type": "scatter"
        },
        {
         "hoverinfo": "text",
         "hovertext": "MV3.101 Line 22<br>Line Utilisation: 0.245",
         "marker": {
          "color": "#003caa",
          "opacity": 0,
          "size": 0
         },
         "mode": "markers",
         "showlegend": false,
         "x": [
          11.3777
         ],
         "y": [
          53.6544
         ],
         "type": "scatter"
        },
        {
         "hoverinfo": "skip",
         "line": {
          "color": "#ffff00",
          "width": 2
         },
         "mode": "lines",
         "showlegend": false,
         "x": [
          11.3745,
          11.3746
         ],
         "y": [
          53.6464,
          53.6469
         ],
         "type": "scatter"
        },
        {
         "hoverinfo": "text",
         "hovertext": "MV3.101 Line 126<br>Line Utilisation: 0.696",
         "marker": {
          "color": "#ffff00",
          "opacity": 0,
          "size": 0
         },
         "mode": "markers",
         "showlegend": false,
         "x": [
          11.3746
         ],
         "y": [
          53.6469
         ],
         "type": "scatter"
        },
        {
         "hoverinfo": "skip",
         "line": {
          "color": "#ffff00",
          "width": 2
         },
         "mode": "lines",
         "showlegend": false,
         "x": [
          11.3663,
          11.366
         ],
         "y": [
          53.642,
          53.6416
         ],
         "type": "scatter"
        },
        {
         "hoverinfo": "text",
         "hovertext": "MV3.101 Line 71<br>Line Utilisation: 0.610",
         "marker": {
          "color": "#ffff00",
          "opacity": 0,
          "size": 0
         },
         "mode": "markers",
         "showlegend": false,
         "x": [
          11.366
         ],
         "y": [
          53.6416
         ],
         "type": "scatter"
        },
        {
         "hoverinfo": "skip",
         "line": {
          "color": "#000083",
          "width": 2
         },
         "mode": "lines",
         "showlegend": false,
         "x": [
          11.3739,
          11.3737
         ],
         "y": [
          53.6297,
          53.6286
         ],
         "type": "scatter"
        },
        {
         "hoverinfo": "text",
         "hovertext": "MV3.101 Line 108<br>Line Utilisation: 0.054",
         "marker": {
          "color": "#000083",
          "opacity": 0,
          "size": 0
         },
         "mode": "markers",
         "showlegend": false,
         "x": [
          11.3737
         ],
         "y": [
          53.6286
         ],
         "type": "scatter"
        },
        {
         "hoverinfo": "skip",
         "line": {
          "color": "#ffff00",
          "width": 2
         },
         "mode": "lines",
         "showlegend": false,
         "x": [
          11.357,
          11.3561
         ],
         "y": [
          53.6504,
          53.6516
         ],
         "type": "scatter"
        },
        {
         "hoverinfo": "text",
         "hovertext": "MV3.101 Line 56<br>Line Utilisation: 0.692",
         "marker": {
          "color": "#ffff00",
          "opacity": 0,
          "size": 0
         },
         "mode": "markers",
         "showlegend": false,
         "x": [
          11.3561
         ],
         "y": [
          53.6516
         ],
         "type": "scatter"
        },
        {
         "hoverinfo": "skip",
         "line": {
          "color": "#ffff00",
          "width": 2
         },
         "mode": "lines",
         "showlegend": false,
         "x": [
          11.3691,
          11.3688
         ],
         "y": [
          53.6462,
          53.6469
         ],
         "type": "scatter"
        },
        {
         "hoverinfo": "text",
         "hovertext": "MV3.101 Line 32<br>Line Utilisation: 0.607",
         "marker": {
          "color": "#ffff00",
          "opacity": 0,
          "size": 0
         },
         "mode": "markers",
         "showlegend": false,
         "x": [
          11.3688
         ],
         "y": [
          53.6469
         ],
         "type": "scatter"
        },
        {
         "hoverinfo": "skip",
         "line": {
          "color": "#05ffff",
          "width": 2
         },
         "mode": "lines",
         "showlegend": false,
         "x": [
          11.3692,
          11.3697
         ],
         "y": [
          53.6456,
          53.6457
         ],
         "type": "scatter"
        },
        {
         "hoverinfo": "text",
         "hovertext": "MV3.101 Line 26<br>Line Utilisation: 0.494",
         "marker": {
          "color": "#05ffff",
          "opacity": 0,
          "size": 0
         },
         "mode": "markers",
         "showlegend": false,
         "x": [
          11.3697
         ],
         "y": [
          53.6457
         ],
         "type": "scatter"
        },
        {
         "hoverinfo": "skip",
         "line": {
          "color": "#003caa",
          "width": 2
         },
         "mode": "lines",
         "showlegend": false,
         "x": [
          11.3751,
          11.3756
         ],
         "y": [
          53.6543,
          53.6545
         ],
         "type": "scatter"
        },
        {
         "hoverinfo": "text",
         "hovertext": "MV3.101 Line 21<br>Line Utilisation: 0.297",
         "marker": {
          "color": "#003caa",
          "opacity": 0,
          "size": 0
         },
         "mode": "markers",
         "showlegend": false,
         "x": [
          11.3756
         ],
         "y": [
          53.6545
         ],
         "type": "scatter"
        },
        {
         "hoverinfo": "skip",
         "line": {
          "color": "#05ffff",
          "width": 2
         },
         "mode": "lines",
         "showlegend": false,
         "x": [
          11.364,
          11.3632
         ],
         "y": [
          53.6384,
          53.6353
         ],
         "type": "scatter"
        },
        {
         "hoverinfo": "text",
         "hovertext": "MV3.101 Line 74<br>Line Utilisation: 0.507",
         "marker": {
          "color": "#05ffff",
          "opacity": 0,
          "size": 0
         },
         "mode": "markers",
         "showlegend": false,
         "x": [
          11.3632
         ],
         "y": [
          53.6353
         ],
         "type": "scatter"
        },
        {
         "hoverinfo": "skip",
         "line": {
          "color": "#000083",
          "width": 2
         },
         "mode": "lines",
         "showlegend": false,
         "x": [
          11.3777,
          11.3794
         ],
         "y": [
          53.6544,
          53.6534
         ],
         "type": "scatter"
        },
        {
         "hoverinfo": "text",
         "hovertext": "MV3.101 Line 23<br>Line Utilisation: 0.130",
         "marker": {
          "color": "#000083",
          "opacity": 0,
          "size": 0
         },
         "mode": "markers",
         "showlegend": false,
         "x": [
          11.3794
         ],
         "y": [
          53.6534
         ],
         "type": "scatter"
        },
        {
         "hoverinfo": "skip",
         "line": {
          "color": "#05ffff",
          "width": 2
         },
         "mode": "lines",
         "showlegend": false,
         "x": [
          11.3692,
          11.3665
         ],
         "y": [
          53.6456,
          53.6453
         ],
         "type": "scatter"
        },
        {
         "hoverinfo": "text",
         "hovertext": "MV3.101 Line 84<br>Line Utilisation: 0.518",
         "marker": {
          "color": "#05ffff",
          "opacity": 0,
          "size": 0
         },
         "mode": "markers",
         "showlegend": false,
         "x": [
          11.3665
         ],
         "y": [
          53.6453
         ],
         "type": "scatter"
        },
        {
         "hoverinfo": "skip",
         "line": {
          "color": "#003caa",
          "width": 2
         },
         "mode": "lines",
         "showlegend": false,
         "x": [
          11.3702,
          11.3724
         ],
         "y": [
          53.6321,
          53.6341
         ],
         "type": "scatter"
        },
        {
         "hoverinfo": "text",
         "hovertext": "MV3.101 Line 104<br>Line Utilisation: 0.260",
         "marker": {
          "color": "#003caa",
          "opacity": 0,
          "size": 0
         },
         "mode": "markers",
         "showlegend": false,
         "x": [
          11.3724
         ],
         "y": [
          53.6341
         ],
         "type": "scatter"
        },
        {
         "hoverinfo": "skip",
         "line": {
          "color": "#05ffff",
          "width": 2
         },
         "mode": "lines",
         "showlegend": false,
         "x": [
          11.364,
          11.3619
         ],
         "y": [
          53.6448,
          53.6443
         ],
         "type": "scatter"
        },
        {
         "hoverinfo": "text",
         "hovertext": "MV3.101 Line 87<br>Line Utilisation: 0.430",
         "marker": {
          "color": "#05ffff",
          "opacity": 0,
          "size": 0
         },
         "mode": "markers",
         "showlegend": false,
         "x": [
          11.3619
         ],
         "y": [
          53.6443
         ],
         "type": "scatter"
        },
        {
         "hoverinfo": "skip",
         "line": {
          "color": "#05ffff",
          "width": 2
         },
         "mode": "lines",
         "showlegend": false,
         "x": [
          11.3692,
          11.3687
         ],
         "y": [
          53.6456,
          53.6459
         ],
         "type": "scatter"
        },
        {
         "hoverinfo": "text",
         "hovertext": "MV3.101 Line 41<br>Line Utilisation: 0.407",
         "marker": {
          "color": "#05ffff",
          "opacity": 0,
          "size": 0
         },
         "mode": "markers",
         "showlegend": false,
         "x": [
          11.3687
         ],
         "y": [
          53.6459
         ],
         "type": "scatter"
        },
        {
         "hoverinfo": "skip",
         "line": {
          "color": "#003caa",
          "width": 2
         },
         "mode": "lines",
         "showlegend": false,
         "x": [
          11.3752,
          11.3762
         ],
         "y": [
          53.6456,
          53.6454
         ],
         "type": "scatter"
        },
        {
         "hoverinfo": "text",
         "hovertext": "MV3.101 Line 116<br>Line Utilisation: 0.254",
         "marker": {
          "color": "#003caa",
          "opacity": 0,
          "size": 0
         },
         "mode": "markers",
         "showlegend": false,
         "x": [
          11.3762
         ],
         "y": [
          53.6454
         ],
         "type": "scatter"
        },
        {
         "hoverinfo": "skip",
         "line": {
          "color": "#000083",
          "width": 2
         },
         "mode": "lines",
         "showlegend": false,
         "x": [
          11.3815,
          11.3825
         ],
         "y": [
          53.6429,
          53.6434
         ],
         "type": "scatter"
        },
        {
         "hoverinfo": "text",
         "hovertext": "MV3.101 Line 114<br>Line Utilisation: 0.112",
         "marker": {
          "color": "#000083",
          "opacity": 0,
          "size": 0
         },
         "mode": "markers",
         "showlegend": false,
         "x": [
          11.3825
         ],
         "y": [
          53.6434
         ],
         "type": "scatter"
        },
        {
         "hoverinfo": "skip",
         "line": {
          "color": "#003caa",
          "width": 2
         },
         "mode": "lines",
         "showlegend": false,
         "x": [
          11.3762,
          11.3776
         ],
         "y": [
          53.6454,
          53.6454
         ],
         "type": "scatter"
        },
        {
         "hoverinfo": "text",
         "hovertext": "MV3.101 Line 117<br>Line Utilisation: 0.211",
         "marker": {
          "color": "#003caa",
          "opacity": 0,
          "size": 0
         },
         "mode": "markers",
         "showlegend": false,
         "x": [
          11.3776
         ],
         "y": [
          53.6454
         ],
         "type": "scatter"
        },
        {
         "hoverinfo": "skip",
         "line": {
          "color": "#05ffff",
          "width": 2
         },
         "mode": "lines",
         "showlegend": false,
         "x": [
          11.372,
          11.3732
         ],
         "y": [
          53.6453,
          53.6454
         ],
         "type": "scatter"
        },
        {
         "hoverinfo": "text",
         "hovertext": "MV3.101 Line 14<br>Line Utilisation: 0.551",
         "marker": {
          "color": "#05ffff",
          "opacity": 0,
          "size": 0
         },
         "mode": "markers",
         "showlegend": false,
         "x": [
          11.3732
         ],
         "y": [
          53.6454
         ],
         "type": "scatter"
        },
        {
         "hoverinfo": "skip",
         "line": {
          "color": "#fa0000",
          "width": 2
         },
         "mode": "lines",
         "showlegend": false,
         "x": [
          11.3682,
          11.3669
         ],
         "y": [
          53.6457,
          53.6465
         ],
         "type": "scatter"
        },
        {
         "hoverinfo": "text",
         "hovertext": "MV3.101 Line 50<br>Line Utilisation: 0.950",
         "marker": {
          "color": "#fa0000",
          "opacity": 0,
          "size": 0
         },
         "mode": "markers",
         "showlegend": false,
         "x": [
          11.3669
         ],
         "y": [
          53.6465
         ],
         "type": "scatter"
        },
        {
         "hoverinfo": "skip",
         "line": {
          "color": "#000083",
          "width": 2
         },
         "mode": "lines",
         "showlegend": false,
         "x": [
          11.3794,
          11.3805
         ],
         "y": [
          53.6534,
          53.6519
         ],
         "type": "scatter"
        },
        {
         "hoverinfo": "text",
         "hovertext": "MV3.101 Line 24<br>Line Utilisation: 0.095",
         "marker": {
          "color": "#000083",
          "opacity": 0,
          "size": 0
         },
         "mode": "markers",
         "showlegend": false,
         "x": [
          11.3805
         ],
         "y": [
          53.6519
         ],
         "type": "scatter"
        },
        {
         "hoverinfo": "skip",
         "line": {
          "color": "#05ffff",
          "width": 2
         },
         "mode": "lines",
         "showlegend": false,
         "x": [
          11.3688,
          11.3683
         ],
         "y": [
          53.6469,
          53.6489
         ],
         "type": "scatter"
        },
        {
         "hoverinfo": "text",
         "hovertext": "MV3.101 Line 33<br>Line Utilisation: 0.515",
         "marker": {
          "color": "#05ffff",
          "opacity": 0,
          "size": 0
         },
         "mode": "markers",
         "showlegend": false,
         "x": [
          11.3683
         ],
         "y": [
          53.6489
         ],
         "type": "scatter"
        },
        {
         "hoverinfo": "skip",
         "line": {
          "color": "#003caa",
          "width": 2
         },
         "mode": "lines",
         "showlegend": false,
         "x": [
          11.3692,
          11.3702
         ],
         "y": [
          53.6315,
          53.6321
         ],
         "type": "scatter"
        },
        {
         "hoverinfo": "text",
         "hovertext": "MV3.101 Line 103<br>Line Utilisation: 0.367",
         "marker": {
          "color": "#003caa",
          "opacity": 0,
          "size": 0
         },
         "mode": "markers",
         "showlegend": false,
         "x": [
          11.3702
         ],
         "y": [
          53.6321
         ],
         "type": "scatter"
        },
        {
         "hoverinfo": "skip",
         "line": {
          "color": "#000083",
          "width": 2
         },
         "mode": "lines",
         "showlegend": false,
         "x": [
          11.3739,
          11.3739
         ],
         "y": [
          53.6306,
          53.6297
         ],
         "type": "scatter"
        },
        {
         "hoverinfo": "text",
         "hovertext": "MV3.101 Line 107<br>Line Utilisation: 0.063",
         "marker": {
          "color": "#000083",
          "opacity": 0,
          "size": 0
         },
         "mode": "markers",
         "showlegend": false,
         "x": [
          11.3739
         ],
         "y": [
          53.6297
         ],
         "type": "scatter"
        },
        {
         "hoverinfo": "skip",
         "line": {
          "color": "#003caa",
          "width": 2
         },
         "mode": "lines",
         "showlegend": false,
         "x": [
          11.3636,
          11.3633
         ],
         "y": [
          53.634,
          53.6332
         ],
         "type": "scatter"
        },
        {
         "hoverinfo": "text",
         "hovertext": "MV3.101 Line 76<br>Line Utilisation: 0.346",
         "marker": {
          "color": "#003caa",
          "opacity": 0,
          "size": 0
         },
         "mode": "markers",
         "showlegend": false,
         "x": [
          11.3633
         ],
         "y": [
          53.6332
         ],
         "type": "scatter"
        },
        {
         "hoverinfo": "skip",
         "line": {
          "color": "#000083",
          "width": 2
         },
         "mode": "lines",
         "showlegend": false,
         "x": [
          11.3833,
          11.3832
         ],
         "y": [
          53.6472,
          53.6464
         ],
         "type": "scatter"
        },
        {
         "hoverinfo": "text",
         "hovertext": "MV3.101 Line 125<br>Line Utilisation: 0.055",
         "marker": {
          "color": "#000083",
          "opacity": 0,
          "size": 0
         },
         "mode": "markers",
         "showlegend": false,
         "x": [
          11.3832
         ],
         "y": [
          53.6464
         ],
         "type": "scatter"
        },
        {
         "hoverinfo": "skip",
         "line": {
          "color": "#003caa",
          "width": 2
         },
         "mode": "lines",
         "showlegend": false,
         "x": [
          11.3656,
          11.3638
         ],
         "y": [
          53.6492,
          53.6514
         ],
         "type": "scatter"
        },
        {
         "hoverinfo": "text",
         "hovertext": "MV3.101 Line 44<br>Line Utilisation: 0.270",
         "marker": {
          "color": "#003caa",
          "opacity": 0,
          "size": 0
         },
         "mode": "markers",
         "showlegend": false,
         "x": [
          11.3638
         ],
         "y": [
          53.6514
         ],
         "type": "scatter"
        },
        {
         "hoverinfo": "skip",
         "line": {
          "color": "#003caa",
          "width": 2
         },
         "mode": "lines",
         "showlegend": false,
         "x": [
          11.3558,
          11.3544
         ],
         "y": [
          53.6439,
          53.6443
         ],
         "type": "scatter"
        },
        {
         "hoverinfo": "text",
         "hovertext": "MV3.101 Line 91<br>Line Utilisation: 0.226",
         "marker": {
          "color": "#003caa",
          "opacity": 0,
          "size": 0
         },
         "mode": "markers",
         "showlegend": false,
         "x": [
          11.3544
         ],
         "y": [
          53.6443
         ],
         "type": "scatter"
        },
        {
         "hoverinfo": "skip",
         "line": {
          "color": "#05ffff",
          "width": 2
         },
         "mode": "lines",
         "showlegend": false,
         "x": [
          11.3656,
          11.3668
         ],
         "y": [
          53.6346,
          53.633
         ],
         "type": "scatter"
        },
        {
         "hoverinfo": "text",
         "hovertext": "MV3.101 Line 101<br>Line Utilisation: 0.596",
         "marker": {
          "color": "#05ffff",
          "opacity": 0,
          "size": 0
         },
         "mode": "markers",
         "showlegend": false,
         "x": [
          11.3668
         ],
         "y": [
          53.633
         ],
         "type": "scatter"
        },
        {
         "hoverinfo": "skip",
         "line": {
          "color": "#003caa",
          "width": 2
         },
         "mode": "lines",
         "showlegend": false,
         "x": [
          11.3609,
          11.3577
         ],
         "y": [
          53.6441,
          53.6437
         ],
         "type": "scatter"
        },
        {
         "hoverinfo": "text",
         "hovertext": "MV3.101 Line 89<br>Line Utilisation: 0.293",
         "marker": {
          "color": "#003caa",
          "opacity": 0,
          "size": 0
         },
         "mode": "markers",
         "showlegend": false,
         "x": [
          11.3577
         ],
         "y": [
          53.6437
         ],
         "type": "scatter"
        },
        {
         "hoverinfo": "skip",
         "line": {
          "color": "#000083",
          "width": 2
         },
         "mode": "lines",
         "showlegend": false,
         "x": [
          11.3686,
          11.3687
         ],
         "y": [
          53.6572,
          53.6585
         ],
         "type": "scatter"
        },
        {
         "hoverinfo": "text",
         "hovertext": "MV3.101 Line 38<br>Line Utilisation: 0.111",
         "marker": {
          "color": "#000083",
          "opacity": 0,
          "size": 0
         },
         "mode": "markers",
         "showlegend": false,
         "x": [
          11.3687
         ],
         "y": [
          53.6585
         ],
         "type": "scatter"
        },
        {
         "hoverinfo": "skip",
         "line": {
          "color": "#000083",
          "width": 2
         },
         "mode": "lines",
         "showlegend": false,
         "x": [
          11.3811,
          11.3833
         ],
         "y": [
          53.6501,
          53.6488
         ],
         "type": "scatter"
        },
        {
         "hoverinfo": "text",
         "hovertext": "MV3.101 Line 133<br>Line Utilisation: 0.081",
         "marker": {
          "color": "#000083",
          "opacity": 0,
          "size": 0
         },
         "mode": "markers",
         "showlegend": false,
         "x": [
          11.3833
         ],
         "y": [
          53.6488
         ],
         "type": "scatter"
        },
        {
         "hoverinfo": "skip",
         "line": {
          "color": "#05ffff",
          "width": 2
         },
         "mode": "lines",
         "showlegend": false,
         "x": [
          11.3581,
          11.3561
         ],
         "y": [
          53.6545,
          53.6568
         ],
         "type": "scatter"
        },
        {
         "hoverinfo": "text",
         "hovertext": "MV3.101 Line 60<br>Line Utilisation: 0.423",
         "marker": {
          "color": "#05ffff",
          "opacity": 0,
          "size": 0
         },
         "mode": "markers",
         "showlegend": false,
         "x": [
          11.3561
         ],
         "y": [
          53.6568
         ],
         "type": "scatter"
        },
        {
         "hoverinfo": "skip",
         "line": {
          "color": "#000083",
          "width": 2
         },
         "mode": "lines",
         "showlegend": false,
         "x": [
          11.3511,
          11.351
         ],
         "y": [
          53.6477,
          53.6494
         ],
         "type": "scatter"
        },
        {
         "hoverinfo": "text",
         "hovertext": "MV3.101 Line 94<br>Line Utilisation: 0.049",
         "marker": {
          "color": "#000083",
          "opacity": 0,
          "size": 0
         },
         "mode": "markers",
         "showlegend": false,
         "x": [
          11.351
         ],
         "y": [
          53.6494
         ],
         "type": "scatter"
        },
        {
         "hoverinfo": "skip",
         "line": {
          "color": "#fa0000",
          "width": 2
         },
         "mode": "lines",
         "showlegend": false,
         "x": [
          11.3669,
          11.3641
         ],
         "y": [
          53.6465,
          53.6477
         ],
         "type": "scatter"
        },
        {
         "hoverinfo": "text",
         "hovertext": "MV3.101 Line 51<br>Line Utilisation: 0.865",
         "marker": {
          "color": "#fa0000",
          "opacity": 0,
          "size": 0
         },
         "mode": "markers",
         "showlegend": false,
         "x": [
          11.3641
         ],
         "y": [
          53.6477
         ],
         "type": "scatter"
        },
        {
         "hoverinfo": "skip",
         "line": {
          "color": "#003caa",
          "width": 2
         },
         "mode": "lines",
         "showlegend": false,
         "x": [
          11.3544,
          11.3521
         ],
         "y": [
          53.6443,
          53.6461
         ],
         "type": "scatter"
        },
        {
         "hoverinfo": "text",
         "hovertext": "MV3.101 Line 92<br>Line Utilisation: 0.219",
         "marker": {
          "color": "#003caa",
          "opacity": 0,
          "size": 0
         },
         "mode": "markers",
         "showlegend": false,
         "x": [
          11.3521
         ],
         "y": [
          53.6461
         ],
         "type": "scatter"
        },
        {
         "hoverinfo": "skip",
         "line": {
          "color": "#05ffff",
          "width": 2
         },
         "mode": "lines",
         "showlegend": false,
         "x": [
          11.3692,
          11.3698
         ],
         "y": [
          53.6456,
          53.6485
         ],
         "type": "scatter"
        },
        {
         "hoverinfo": "text",
         "hovertext": "MV3.101 Line 16<br>Line Utilisation: 0.581",
         "marker": {
          "color": "#05ffff",
          "opacity": 0,
          "size": 0
         },
         "mode": "markers",
         "showlegend": false,
         "x": [
          11.3698
         ],
         "y": [
          53.6485
         ],
         "type": "scatter"
        },
        {
         "hoverinfo": "skip",
         "line": {
          "color": "#000083",
          "width": 2
         },
         "mode": "lines",
         "showlegend": false,
         "x": [
          11.3733,
          11.3739
         ],
         "y": [
          53.6328,
          53.6306
         ],
         "type": "scatter"
        },
        {
         "hoverinfo": "text",
         "hovertext": "MV3.101 Line 106<br>Line Utilisation: 0.155",
         "marker": {
          "color": "#000083",
          "opacity": 0,
          "size": 0
         },
         "mode": "markers",
         "showlegend": false,
         "x": [
          11.3739
         ],
         "y": [
          53.6306
         ],
         "type": "scatter"
        },
        {
         "hoverinfo": "skip",
         "line": {
          "color": "#fa0000",
          "width": 2
         },
         "mode": "lines",
         "showlegend": false,
         "x": [
          11.3641,
          11.3627
         ],
         "y": [
          53.6477,
          53.6482
         ],
         "type": "scatter"
        },
        {
         "hoverinfo": "text",
         "hovertext": "MV3.101 Line 52<br>Line Utilisation: 0.832",
         "marker": {
          "color": "#fa0000",
          "opacity": 0,
          "size": 0
         },
         "mode": "markers",
         "showlegend": false,
         "x": [
          11.3627
         ],
         "y": [
          53.6482
         ],
         "type": "scatter"
        },
        {
         "hoverinfo": "skip",
         "line": {
          "color": "#003caa",
          "width": 2
         },
         "mode": "lines",
         "showlegend": false,
         "x": [
          11.3724,
          11.374
         ],
         "y": [
          53.6525,
          53.6538
         ],
         "type": "scatter"
        },
        {
         "hoverinfo": "text",
         "hovertext": "MV3.101 Line 19<br>Line Utilisation: 0.368",
         "marker": {
          "color": "#003caa",
          "opacity": 0,
          "size": 0
         },
         "mode": "markers",
         "showlegend": false,
         "x": [
          11.374
         ],
         "y": [
          53.6538
         ],
         "type": "scatter"
        },
        {
         "hoverinfo": "skip",
         "line": {
          "color": "#003caa",
          "width": 2
         },
         "mode": "lines",
         "showlegend": false,
         "x": [
          11.3667,
          11.3656
         ],
         "y": [
          53.648,
          53.6492
         ],
         "type": "scatter"
        },
        {
         "hoverinfo": "text",
         "hovertext": "MV3.101 Line 43<br>Line Utilisation: 0.292",
         "marker": {
          "color": "#003caa",
          "opacity": 0,
          "size": 0
         },
         "mode": "markers",
         "showlegend": false,
         "x": [
          11.3656
         ],
         "y": [
          53.6492
         ],
         "type": "scatter"
        },
        {
         "hoverinfo": "skip",
         "line": {
          "color": "#ffff00",
          "width": 2
         },
         "mode": "lines",
         "showlegend": false,
         "x": [
          11.3664,
          11.3661
         ],
         "y": [
          53.637,
          53.6363
         ],
         "type": "scatter"
        },
        {
         "hoverinfo": "text",
         "hovertext": "MV3.101 Line 99<br>Line Utilisation: 0.704",
         "marker": {
          "color": "#ffff00",
          "opacity": 0,
          "size": 0
         },
         "mode": "markers",
         "showlegend": false,
         "x": [
          11.3661
         ],
         "y": [
          53.6363
         ],
         "type": "scatter"
        },
        {
         "hoverinfo": "skip",
         "line": {
          "color": "#000083",
          "width": 2
         },
         "mode": "lines",
         "showlegend": false,
         "x": [
          11.3683,
          11.3714
         ],
         "y": [
          53.6236,
          53.6252
         ],
         "type": "scatter"
        },
        {
         "hoverinfo": "text",
         "hovertext": "MV3.101 Line 83<br>Line Utilisation: 0.064",
         "marker": {
          "color": "#000083",
          "opacity": 0,
          "size": 0
         },
         "mode": "markers",
         "showlegend": false,
         "x": [
          11.3714
         ],
         "y": [
          53.6252
         ],
         "type": "scatter"
        },
        {
         "hoverinfo": "skip",
         "line": {
          "color": "#003caa",
          "width": 2
         },
         "mode": "lines",
         "showlegend": false,
         "x": [
          11.3745,
          11.3755
         ],
         "y": [
          53.6464,
          53.6467
         ],
         "type": "scatter"
        },
        {
         "hoverinfo": "text",
         "hovertext": "MV3.101 Line 120<br>Line Utilisation: 0.380",
         "marker": {
          "color": "#003caa",
          "opacity": 0,
          "size": 0
         },
         "mode": "markers",
         "showlegend": false,
         "x": [
          11.3755
         ],
         "y": [
          53.6467
         ],
         "type": "scatter"
        },
        {
         "hoverinfo": "skip",
         "line": {
          "color": "#ffff00",
          "width": 2
         },
         "mode": "lines",
         "showlegend": false,
         "x": [
          11.3683,
          11.3674
         ],
         "y": [
          53.6445,
          53.6434
         ],
         "type": "scatter"
        },
        {
         "hoverinfo": "text",
         "hovertext": "MV3.101 Line 69<br>Line Utilisation: 0.750",
         "marker": {
          "color": "#ffff00",
          "opacity": 0,
          "size": 0
         },
         "mode": "markers",
         "showlegend": false,
         "x": [
          11.3674
         ],
         "y": [
          53.6434
         ],
         "type": "scatter"
        },
        {
         "hoverinfo": "skip",
         "line": {
          "color": "#ffff00",
          "width": 2
         },
         "mode": "lines",
         "showlegend": false,
         "x": [
          11.3661,
          11.3656
         ],
         "y": [
          53.6363,
          53.6346
         ],
         "type": "scatter"
        },
        {
         "hoverinfo": "text",
         "hovertext": "MV3.101 Line 100<br>Line Utilisation: 0.711",
         "marker": {
          "color": "#ffff00",
          "opacity": 0,
          "size": 0
         },
         "mode": "markers",
         "showlegend": false,
         "x": [
          11.3656
         ],
         "y": [
          53.6346
         ],
         "type": "scatter"
        },
        {
         "hoverinfo": "skip",
         "line": {
          "color": "#003caa",
          "width": 2
         },
         "mode": "lines",
         "showlegend": false,
         "x": [
          11.3715,
          11.3733
         ],
         "y": [
          53.6411,
          53.6409
         ],
         "type": "scatter"
        },
        {
         "hoverinfo": "text",
         "hovertext": "MV3.101 Line 5<br>Line Utilisation: 0.350",
         "marker": {
          "color": "#003caa",
          "opacity": 0,
          "size": 0
         },
         "mode": "markers",
         "showlegend": false,
         "x": [
          11.3733
         ],
         "y": [
          53.6409
         ],
         "type": "scatter"
        },
        {
         "hoverinfo": "skip",
         "line": {
          "color": "#05ffff",
          "width": 2
         },
         "mode": "lines",
         "showlegend": false,
         "x": [
          11.3692,
          11.3699
         ],
         "y": [
          53.6456,
          53.6441
         ],
         "type": "scatter"
        },
        {
         "hoverinfo": "text",
         "hovertext": "MV3.101 Line 1<br>Line Utilisation: 0.594",
         "marker": {
          "color": "#05ffff",
          "opacity": 0,
          "size": 0
         },
         "mode": "markers",
         "showlegend": false,
         "x": [
          11.3699
         ],
         "y": [
          53.6441
         ],
         "type": "scatter"
        },
        {
         "hoverinfo": "skip",
         "line": {
          "color": "#ffff00",
          "width": 2
         },
         "mode": "lines",
         "showlegend": false,
         "x": [
          11.3692,
          11.3691
         ],
         "y": [
          53.6456,
          53.6462
         ],
         "type": "scatter"
        },
        {
         "hoverinfo": "text",
         "hovertext": "MV3.101 Line 31<br>Line Utilisation: 0.702",
         "marker": {
          "color": "#ffff00",
          "opacity": 0,
          "size": 0
         },
         "mode": "markers",
         "showlegend": false,
         "x": [
          11.3691
         ],
         "y": [
          53.6462
         ],
         "type": "scatter"
        },
        {
         "hoverinfo": "skip",
         "line": {
          "color": "#ffff00",
          "width": 2
         },
         "mode": "lines",
         "showlegend": false,
         "x": [
          11.3686,
          11.368
         ],
         "y": [
          53.6436,
          53.6417
         ],
         "type": "scatter"
        },
        {
         "hoverinfo": "text",
         "hovertext": "MV3.101 Line 96<br>Line Utilisation: 0.641",
         "marker": {
          "color": "#ffff00",
          "opacity": 0,
          "size": 0
         },
         "mode": "markers",
         "showlegend": false,
         "x": [
          11.368
         ],
         "y": [
          53.6417
         ],
         "type": "scatter"
        },
        {
         "hoverinfo": "skip",
         "line": {
          "color": "#003caa",
          "width": 2
         },
         "mode": "lines",
         "showlegend": false,
         "x": [
          11.3784,
          11.3819
         ],
         "y": [
          53.6481,
          53.6481
         ],
         "type": "scatter"
        },
        {
         "hoverinfo": "text",
         "hovertext": "MV3.101 Line 123<br>Line Utilisation: 0.229",
         "marker": {
          "color": "#003caa",
          "opacity": 0,
          "size": 0
         },
         "mode": "markers",
         "showlegend": false,
         "x": [
          11.3819
         ],
         "y": [
          53.6481
         ],
         "type": "scatter"
        },
        {
         "hoverinfo": "skip",
         "line": {
          "color": "#ffff00",
          "width": 2
         },
         "mode": "lines",
         "showlegend": false,
         "x": [
          11.3706,
          11.372
         ],
         "y": [
          53.6454,
          53.6453
         ],
         "type": "scatter"
        },
        {
         "hoverinfo": "text",
         "hovertext": "MV3.101 Line 13<br>Line Utilisation: 0.600",
         "marker": {
          "color": "#ffff00",
          "opacity": 0,
          "size": 0
         },
         "mode": "markers",
         "showlegend": false,
         "x": [
          11.372
         ],
         "y": [
          53.6453
         ],
         "type": "scatter"
        },
        {
         "hoverinfo": "skip",
         "line": {
          "color": "#ffff00",
          "width": 2
         },
         "mode": "lines",
         "showlegend": false,
         "x": [
          11.3561,
          11.3561
         ],
         "y": [
          53.6516,
          53.6524
         ],
         "type": "scatter"
        },
        {
         "hoverinfo": "text",
         "hovertext": "MV3.101 Line 57<br>Line Utilisation: 0.660",
         "marker": {
          "color": "#ffff00",
          "opacity": 0,
          "size": 0
         },
         "mode": "markers",
         "showlegend": false,
         "x": [
          11.3561
         ],
         "y": [
          53.6524
         ],
         "type": "scatter"
        },
        {
         "hoverinfo": "skip",
         "marker": {
          "cmax": 0.3900003389323528,
          "cmin": 5.069367152221342E-4,
          "color": "#008000",
          "colorbar": {
           "len": 0.85,
           "thickness": 15,
           "tickfont": {
            "color": "#000000",
            "size": 12
           },
           "title": {
            "font": {
             "color": "#000000",
             "size": 12
            },
            "text": "Line Utilisation"
           },
           "x": 0.925
          },
          "colorscale": [
           [
            0.0,
            "rgb(0,0,131)"
           ],
           [
            0.2,
            "rgb(0,60,170)"
           ],
           [
            0.4,
            "rgb(5,255,255)"
           ],
           [
            0.6,
            "rgb(255,255,0)"
           ],
           [
            0.8,
            "rgb(250,0,0)"
           ],
           [
            1.0,
            "rgb(128,0,0)"
           ]
          ],
          "opacity": 0,
          "showscale": true,
          "size": 0.1
         },
         "mode": "markers",
         "showlegend": false,
         "x": [
          11.368850340136055
         ],
         "y": [
          53.64525238095238
         ],
         "type": "scatter"
        },
        {
         "hoverinfo": "skip",
         "line": {
          "color": "#a3a3a3",
          "width": 2
         },
         "mode": "lines",
         "showlegend": false,
         "x": [
          11.3638,
          11.3584
         ],
         "y": [
          53.6514,
          53.6531
         ],
         "type": "scatter"
        },
        {
         "hoverinfo": "text",
         "hovertext": "MV3.101 loop_line 9",
         "marker": {
          "color": "#a3a3a3",
          "opacity": 0,
          "size": 0
         },
         "mode": "markers",
         "showlegend": false,
         "x": [
          11.3584
         ],
         "y": [
          53.6531
         ],
         "type": "scatter"
        },
        {
         "hoverinfo": "skip",
         "line": {
          "color": "#a3a3a3",
          "width": 2
         },
         "mode": "lines",
         "showlegend": false,
         "x": [
          11.3636,
          11.3656
         ],
         "y": [
          53.634,
          53.6346
         ],
         "type": "scatter"
        },
        {
         "hoverinfo": "text",
         "hovertext": "MV3.101 loop_line 10",
         "marker": {
          "color": "#a3a3a3",
          "opacity": 0,
          "size": 0
         },
         "mode": "markers",
         "showlegend": false,
         "x": [
          11.3656
         ],
         "y": [
          53.6346
         ],
         "type": "scatter"
        },
        {
         "hoverinfo": "skip",
         "line": {
          "color": "#a3a3a3",
          "width": 2
         },
         "mode": "lines",
         "showlegend": false,
         "x": [
          11.3714,
          11.3737
         ],
         "y": [
          53.6252,
          53.6286
         ],
         "type": "scatter"
        },
        {
         "hoverinfo": "text",
         "hovertext": "MV3.101 loop_line 4",
         "marker": {
          "color": "#a3a3a3",
          "opacity": 0,
          "size": 0
         },
         "mode": "markers",
         "showlegend": false,
         "x": [
          11.3737
         ],
         "y": [
          53.6286
         ],
         "type": "scatter"
        },
        {
         "hoverinfo": "skip",
         "line": {
          "color": "#a3a3a3",
          "width": 2
         },
         "mode": "lines",
         "showlegend": false,
         "x": [
          11.3825,
          11.3833
         ],
         "y": [
          53.6434,
          53.6488
         ],
         "type": "scatter"
        },
        {
         "hoverinfo": "text",
         "hovertext": "MV3.101 loop_line 5",
         "marker": {
          "color": "#a3a3a3",
          "opacity": 0,
          "size": 0
         },
         "mode": "markers",
         "showlegend": false,
         "x": [
          11.3833
         ],
         "y": [
          53.6488
         ],
         "type": "scatter"
        },
        {
         "hoverinfo": "skip",
         "line": {
          "color": "#a3a3a3",
          "width": 2
         },
         "mode": "lines",
         "showlegend": false,
         "x": [
          11.3721,
          11.3724
         ],
         "y": [
          53.6371,
          53.6341
         ],
         "type": "scatter"
        },
        {
         "hoverinfo": "text",
         "hovertext": "MV3.101 loop_line 7",
         "marker": {
          "color": "#a3a3a3",
          "opacity": 0,
          "size": 0
         },
         "mode": "markers",
         "showlegend": false,
         "x": [
          11.3724
         ],
         "y": [
          53.6341
         ],
         "type": "scatter"
        },
        {
         "hoverinfo": "skip",
         "line": {
          "color": "#a3a3a3",
          "width": 2
         },
         "mode": "lines",
         "showlegend": false,
         "x": [
          11.3697,
          11.3721
         ],
         "y": [
          53.6457,
          53.6464
         ],
         "type": "scatter"
        },
        {
         "hoverinfo": "text",
         "hovertext": "MV3.101 loop_line 8",
         "marker": {
          "color": "#a3a3a3",
          "opacity": 0,
          "size": 0
         },
         "mode": "markers",
         "showlegend": false,
         "x": [
          11.3721
         ],
         "y": [
          53.6464
         ],
         "type": "scatter"
        },
        {
         "hoverinfo": "skip",
         "line": {
          "color": "#a3a3a3",
          "width": 2
         },
         "mode": "lines",
         "showlegend": false,
         "x": [
          11.3521,
          11.351
         ],
         "y": [
          53.6508,
          53.6494
         ],
         "type": "scatter"
        },
        {
         "hoverinfo": "text",
         "hovertext": "MV3.101 loop_line 3",
         "marker": {
          "color": "#a3a3a3",
          "opacity": 0,
          "size": 0
         },
         "mode": "markers",
         "showlegend": false,
         "x": [
          11.351
         ],
         "y": [
          53.6494
         ],
         "type": "scatter"
        },
        {
         "hoverinfo": "skip",
         "line": {
          "color": "#a3a3a3",
          "width": 2
         },
         "mode": "lines",
         "showlegend": false,
         "x": [
          11.3646,
          11.3685
         ],
         "y": [
          53.662,
          53.6598
         ],
         "type": "scatter"
        },
        {
         "hoverinfo": "text",
         "hovertext": "MV3.101 loop_line 2",
         "marker": {
          "color": "#a3a3a3",
          "opacity": 0,
          "size": 0
         },
         "mode": "markers",
         "showlegend": false,
         "x": [
          11.3685
         ],
         "y": [
          53.6598
         ],
         "type": "scatter"
        },
        {
         "hoverinfo": "skip",
         "line": {
          "color": "#a3a3a3",
          "width": 2
         },
         "mode": "lines",
         "showlegend": false,
         "x": [
          11.3809,
          11.3832
         ],
         "y": [
          53.6455,
          53.6464
         ],
         "type": "scatter"
        },
        {
         "hoverinfo": "text",
         "hovertext": "MV3.101 loop_line 6",
         "marker": {
          "color": "#a3a3a3",
          "opacity": 0,
          "size": 0
         },
         "mode": "markers",
         "showlegend": false,
         "x": [
          11.3832
         ],
         "y": [
          53.6464
         ],
         "type": "scatter"
        },
        {
         "hoverinfo": "skip",
         "line": {
          "color": "#a3a3a3",
          "width": 2
         },
         "mode": "lines",
         "showlegend": false,
         "x": [
          11.3807,
          11.3784
         ],
         "y": [
          53.651,
          53.6422
         ],
         "type": "scatter"
        },
        {
         "hoverinfo": "text",
         "hovertext": "MV3.101 loop_line 1",
         "marker": {
          "color": "#a3a3a3",
          "opacity": 0,
          "size": 0
         },
         "mode": "markers",
         "showlegend": false,
         "x": [
          11.3784
         ],
         "y": [
          53.6422
         ],
         "type": "scatter"
        },
        {
         "hoverinfo": "skip",
         "line": {
          "color": "#a3a3a3",
          "width": 2
         },
         "mode": "lines",
         "showlegend": false,
         "x": [
          11.3561,
          11.3535
         ],
         "y": [
          53.6524,
          53.6521
         ],
         "type": "scatter"
        },
        {
         "hoverinfo": "text",
         "hovertext": "MV3.101 loop_line 11",
         "marker": {
          "color": "#a3a3a3",
          "opacity": 0,
          "size": 0
         },
         "mode": "markers",
         "showlegend": false,
         "x": [
          11.3535
         ],
         "y": [
          53.6521
         ],
         "type": "scatter"
        },
        {
         "hoverinfo": "text",
         "hovertext": [
          "ID: MV3.101 node1<br>Latitude: 53.645600<br>Longitude: 11.369200",
          "ID: MV3.101 Bus 28<br>Latitude: 53.652500<br>Longitude: 11.372400",
          "ID: MV3.101 Bus 81<br>Latitude: 53.641600<br>Longitude: 11.366000",
          "ID: MV3.101 Bus 102<br>Latitude: 53.646100<br>Longitude: 11.352100",
          "ID: MV3.101 Bus 19<br>Latitude: 53.639700<br>Longitude: 11.371500",
          "ID: MV3.101 Bus 86<br>Latitude: 53.633200<br>Longitude: 11.363300",
          "ID: MV3.101 Bus 82<br>Latitude: 53.640600<br>Longitude: 11.365400",
          "ID: MV3.101 Bus 50<br>Latitude: 53.659800<br>Longitude: 11.368500",
          "ID: MV3.101 Bus 125<br>Latitude: 53.645600<br>Longitude: 11.375200",
          "ID: MV3.101 Bus 41<br>Latitude: 53.646200<br>Longitude: 11.369100",
          "ID: MV3.101 Bus 52<br>Latitude: 53.648000<br>Longitude: 11.366700",
          "ID: MV3.101 Bus 50_1<br>Latitude: 53.659800<br>Longitude: 11.368500",
          "ID: MV3.101 Bus 77<br>Latitude: 53.645100<br>Longitude: 11.369000",
          "ID: MV3.101 Bus 120<br>Latitude: 53.643100<br>Longitude: 11.378300",
          "ID: MV3.101 Bus 34<br>Latitude: 53.651900<br>Longitude: 11.380500",
          "ID: MV3.101 Bus 143<br>Latitude: 53.648800<br>Longitude: 11.383300",
          "ID: MV3.101 Bus 27<br>Latitude: 53.650500<br>Longitude: 11.370800",
          "ID: MV3.101 Bus 64<br>Latitude: 53.649800<br>Longitude: 11.357800",
          "ID: MV3.101 Bus 68_1<br>Latitude: 53.653100<br>Longitude: 11.358400",
          "ID: MV3.101 Bus 32<br>Latitude: 53.654400<br>Longitude: 11.377700",
          "ID: MV3.101 Bus 134<br>Latitude: 53.647200<br>Longitude: 11.383300",
          "ID: MV3.101 Bus 80<br>Latitude: 53.642000<br>Longitude: 11.366300",
          "ID: MV3.101 Bus 91<br>Latitude: 53.624000<br>Longitude: 11.366000",
          "ID: MV3.101 Bus 75<br>Latitude: 53.652100<br>Longitude: 11.353500",
          "ID: MV3.101 Bus 143_1<br>Latitude: 53.648800<br>Longitude: 11.383300",
          "ID: MV3.101 Bus 115<br>Latitude: 53.632800<br>Longitude: 11.373300",
          "ID: MV3.101 Bus 43<br>Latitude: 53.648900<br>Longitude: 11.368300",
          "ID: MV3.101 Bus 17<br>Latitude: 53.641500<br>Longitude: 11.377600",
          "ID: HV1 Bus 25<br>Latitude: 53.645600<br>Longitude: 11.369200",
          "ID: MV3.101 Bus 117<br>Latitude: 53.629700<br>Longitude: 11.373900",
          "ID: MV3.101 Bus 78<br>Latitude: 53.644500<br>Longitude: 11.368300",
          "ID: MV3.101 Bus 49<br>Latitude: 53.659200<br>Longitude: 11.368600",
          "ID: MV3.101 Bus 85<br>Latitude: 53.634000<br>Longitude: 11.363600",
          "ID: MV3.101 Bus 123<br>Latitude: 53.642900<br>Longitude: 11.381500",
          "ID: MV3.101 Bus 76<br>Latitude: 53.650800<br>Longitude: 11.352100",
          "ID: MV3.101 Bus 11<br>Latitude: 53.644100<br>Longitude: 11.369900",
          "ID: MV3.101 Bus 98<br>Latitude: 53.644100<br>Longitude: 11.360900",
          "ID: MV3.101 Bus 18<br>Latitude: 53.642200<br>Longitude: 11.378400",
          "ID: MV3.101 Bus 103<br>Latitude: 53.647700<br>Longitude: 11.351100",
          "ID: MV3.101 Bus 100<br>Latitude: 53.643900<br>Longitude: 11.355800",
          "ID: MV3.101 Bus 37<br>Latitude: 53.647000<br>Longitude: 11.370100",
          "ID: MV3.101 Bus 14<br>Latitude: 53.641100<br>Longitude: 11.371500",
          "ID: MV3.101 Bus 107<br>Latitude: 53.638900<br>Longitude: 11.366900",
          "ID: MV3.101 Bus 105<br>Latitude: 53.643600<br>Longitude: 11.368600",
          "ID: MV3.101 Bus 92<br>Latitude: 53.623600<br>Longitude: 11.368300",
          "ID: MV3.101 Bus 119<br>Latitude: 53.643800<br>Longitude: 11.376700",
          "ID: MV3.101 Bus 73<br>Latitude: 53.655000<br>Longitude: 11.351800",
          "ID: MV3.101 Bus 56<br>Latitude: 53.657900<br>Longitude: 11.363400",
          "ID: MV3.101 Bus 33<br>Latitude: 53.653400<br>Longitude: 11.379400",
          "ID: MV3.101 Bus 15<br>Latitude: 53.640900<br>Longitude: 11.373300",
          "ID: MV3.101 Bus 31<br>Latitude: 53.654500<br>Longitude: 11.375600",
          "ID: MV3.101 Bus 25<br>Latitude: 53.645600<br>Longitude: 11.373800",
          "ID: MV3.101 Bus 60<br>Latitude: 53.646500<br>Longitude: 11.366900",
          "ID: MV3.101 Bus 55<br>Latitude: 53.654400<br>Longitude: 11.363700",
          "ID: MV3.101 Bus 99<br>Latitude: 53.643700<br>Longitude: 11.357700",
          "ID: MV3.101 Bus 124<br>Latitude: 53.643400<br>Longitude: 11.382500",
          "ID: MV3.101 Bus 122<br>Latitude: 53.642800<br>Longitude: 11.381000",
          "ID: MV3.101 Bus 110_1<br>Latitude: 53.634600<br>Longitude: 11.365600",
          "ID: MV3.101 Bus 48<br>Latitude: 53.658500<br>Longitude: 11.368700",
          "ID: MV3.101 Bus 106<br>Latitude: 53.641700<br>Longitude: 11.368000",
          "ID: MV3.101 Bus 128<br>Latitude: 53.645500<br>Longitude: 11.379800",
          "ID: MV3.101 Bus 75_1<br>Latitude: 53.652100<br>Longitude: 11.353500",
          "ID: MV3.101 Bus 71<br>Latitude: 53.656700<br>Longitude: 11.352900",
          "ID: MV3.101 Bus 46<br>Latitude: 53.654100<br>Longitude: 11.368200",
          "ID: MV3.101 BS busbar1A<br>Latitude: 53.646400<br>Longitude: 11.374500",
          "ID: MV3.101 Bus 53<br>Latitude: 53.649200<br>Longitude: 11.365600",
          "ID: MV3.101 Bus 40_1<br>Latitude: 53.646400<br>Longitude: 11.372100",
          "ID: MV3.101 Bus 13<br>Latitude: 53.642100<br>Longitude: 11.370800",
          "ID: MV3.101 Bus 39<br>Latitude: 53.649200<br>Longitude: 11.372000",
          "ID: MV3.101 Bus 66<br>Latitude: 53.651600<br>Longitude: 11.356100",
          "ID: MV3.101 Bus 88<br>Latitude: 53.630300<br>Longitude: 11.362600",
          "ID: MV3.101 Bus 96<br>Latitude: 53.644800<br>Longitude: 11.364000",
          "ID: MV3.101 Bus 69<br>Latitude: 53.654500<br>Longitude: 11.358100",
          "ID: MV3.101 Bus 58<br>Latitude: 53.662000<br>Longitude: 11.364600",
          "ID: MV3.101 Bus 142<br>Latitude: 53.650100<br>Longitude: 11.381100",
          "ID: MV3.101 Bus 127<br>Latitude: 53.645400<br>Longitude: 11.377600",
          "ID: MV3.101 Bus 84<br>Latitude: 53.635300<br>Longitude: 11.363200",
          "ID: MV3.101 Bus 114_1<br>Latitude: 53.634100<br>Longitude: 11.372400",
          "ID: MV3.101 Bus 138<br>Latitude: 53.648100<br>Longitude: 11.375200",
          "ID: MV3.101 Bus 129<br>Latitude: 53.645500<br>Longitude: 11.380900",
          "ID: MV3.101 Bus 130<br>Latitude: 53.646700<br>Longitude: 11.375500",
          "ID: MV3.101 Bus 16<br>Latitude: 53.641000<br>Longitude: 11.376700",
          "ID: MV3.101 Bus 111<br>Latitude: 53.633000<br>Longitude: 11.366800",
          "ID: MV3.101 Bus 68<br>Latitude: 53.653100<br>Longitude: 11.358400",
          "ID: MV3.101 Bus 51<br>Latitude: 53.645900<br>Longitude: 11.368700",
          "ID: MV3.101 Bus 40<br>Latitude: 53.646400<br>Longitude: 11.372100",
          "ID: MV3.101 Bus 67<br>Latitude: 53.652400<br>Longitude: 11.356100",
          "ID: MV3.101 Bus 136<br>Latitude: 53.646900<br>Longitude: 11.374600",
          "ID: MV3.101 Bus 44<br>Latitude: 53.651100<br>Longitude: 11.368200",
          "ID: MV3.101 Bus 114<br>Latitude: 53.634100<br>Longitude: 11.372400",
          "ID: MV3.101 Bus 30<br>Latitude: 53.654300<br>Longitude: 11.375100",
          "ID: MV3.101 Bus 132<br>Latitude: 53.648100<br>Longitude: 11.378400",
          "ID: MV3.101 Bus 63<br>Latitude: 53.648900<br>Longitude: 11.360400",
          "ID: MV3.101 Bus 38<br>Latitude: 53.647700<br>Longitude: 11.370100",
          "ID: MV3.101 Bus 93<br>Latitude: 53.625200<br>Longitude: 11.371400",
          "ID: MV3.101 Bus 135<br>Latitude: 53.646400<br>Longitude: 11.383200",
          "ID: MV3.101 Bus 24<br>Latitude: 53.645400<br>Longitude: 11.373200",
          "ID: MV3.101 Bus 110<br>Latitude: 53.634600<br>Longitude: 11.365600",
          "ID: MV3.101 Bus 97<br>Latitude: 53.644300<br>Longitude: 11.361900",
          "ID: MV3.101 Bus 57<br>Latitude: 53.660300<br>Longitude: 11.363600",
          "ID: MV3.101 Bus 47<br>Latitude: 53.657200<br>Longitude: 11.368600",
          "ID: MV3.101 Bus 20<br>Latitude: 53.638000<br>Longitude: 11.371900",
          "ID: MV3.101 Bus 113<br>Latitude: 53.632100<br>Longitude: 11.370200",
          "ID: MV3.101 Bus 118<br>Latitude: 53.628600<br>Longitude: 11.373700",
          "ID: MV3.101 Bus 126<br>Latitude: 53.645400<br>Longitude: 11.376200",
          "ID: MV3.101 Bus 141<br>Latitude: 53.650200<br>Longitude: 11.380500",
          "ID: MV3.101 Bus 22<br>Latitude: 53.645400<br>Longitude: 11.370600",
          "ID: MV3.101 Bus 140<br>Latitude: 53.650100<br>Longitude: 11.377900",
          "ID: MV3.101 Bus 18_1<br>Latitude: 53.642200<br>Longitude: 11.378400",
          "ID: MV3.101 Bus 42<br>Latitude: 53.646900<br>Longitude: 11.368800",
          "ID: MV3.101 Bus 94<br>Latitude: 53.645300<br>Longitude: 11.366500",
          "ID: MV3.101 Bus 104_1<br>Latitude: 53.649400<br>Longitude: 11.351000",
          "ID: MV3.101 Bus 139<br>Latitude: 53.649900<br>Longitude: 11.377300",
          "ID: MV3.101 Bus 118_1<br>Latitude: 53.628600<br>Longitude: 11.373700",
          "ID: MV3.101 Bus 116<br>Latitude: 53.630600<br>Longitude: 11.373900",
          "ID: MV3.101 Bus 135_1<br>Latitude: 53.646400<br>Longitude: 11.383200",
          "ID: MV3.101 Bus 21<br>Latitude: 53.637100<br>Longitude: 11.372100",
          "ID: MV3.101 Bus 59<br>Latitude: 53.645700<br>Longitude: 11.368200",
          "ID: MV3.101 Bus 12<br>Latitude: 53.642500<br>Longitude: 11.370700",
          "ID: MV3.101 Bus 90<br>Latitude: 53.626100<br>Longitude: 11.363800",
          "ID: MV3.101 Bus 72<br>Latitude: 53.655900<br>Longitude: 11.351900",
          "ID: MV3.101 Bus 133<br>Latitude: 53.648100<br>Longitude: 11.381900",
          "ID: MV3.101 Bus 108<br>Latitude: 53.637000<br>Longitude: 11.366400",
          "ID: MV3.101 Bus 121<br>Latitude: 53.642900<br>Longitude: 11.378900",
          "ID: MV3.101 Bus 62<br>Latitude: 53.648200<br>Longitude: 11.362700",
          "ID: MV3.101 Bus 26<br>Latitude: 53.648500<br>Longitude: 11.369800",
          "ID: MV3.101 Bus 61<br>Latitude: 53.647700<br>Longitude: 11.364100",
          "ID: MV3.101 Bus 29<br>Latitude: 53.653800<br>Longitude: 11.374000",
          "ID: MV3.101 Bus 131<br>Latitude: 53.647900<br>Longitude: 11.377300",
          "ID: MV3.101 Bus 87<br>Latitude: 53.631200<br>Longitude: 11.362700",
          "ID: MV3.101 Bus 70<br>Latitude: 53.656800<br>Longitude: 11.356100",
          "ID: MV3.101 Bus 89<br>Latitude: 53.628500<br>Longitude: 11.362700",
          "ID: MV3.101 Bus 36<br>Latitude: 53.645700<br>Longitude: 11.369700",
          "ID: MV3.101 Bus 74<br>Latitude: 53.653700<br>Longitude: 11.352400",
          "ID: MV3.101 Bus 83<br>Latitude: 53.638400<br>Longitude: 11.364000",
          "ID: MV3.101 Bus 54<br>Latitude: 53.651400<br>Longitude: 11.363800",
          "ID: MV3.101 Bus 95<br>Latitude: 53.645000<br>Longitude: 11.364900",
          "ID: MV3.101 Bus 23<br>Latitude: 53.645300<br>Longitude: 11.372000",
          "ID: MV3.101 Bus 137<br>Latitude: 53.647500<br>Longitude: 11.374800",
          "ID: MV3.101 Bus 79<br>Latitude: 53.643400<br>Longitude: 11.367400",
          "ID: MV3.101 Bus 101<br>Latitude: 53.644300<br>Longitude: 11.354400",
          "ID: MV3.101 Bus 45<br>Latitude: 53.653100<br>Longitude: 11.368200",
          "ID: MV3.101 Bus 35<br>Latitude: 53.651000<br>Longitude: 11.380700",
          "ID: MV3.101 Bus 109<br>Latitude: 53.636300<br>Longitude: 11.366100",
          "ID: MV3.101 Bus 104<br>Latitude: 53.649400<br>Longitude: 11.351000",
          "ID: MV3.101 Bus 65<br>Latitude: 53.650400<br>Longitude: 11.357000",
          "ID: MV3.101 Bus 112<br>Latitude: 53.631500<br>Longitude: 11.369200"
         ],
         "marker": {
          "color": [
           "#023eff",
           "#023eff",
           "#023eff",
           "#023eff",
           "#023eff",
           "#023eff",
           "#023eff",
           "#023eff",
           "#023eff",
           "#023eff",
           "#023eff",
           "#023eff",
           "#023eff",
           "#023eff",
           "#023eff",
           "#023eff",
           "#023eff",
           "#023eff",
           "#023eff",
           "#023eff",
           "#023eff",
           "#023eff",
           "#023eff",
           "#023eff",
           "#023eff",
           "#023eff",
           "#023eff",
           "#023eff",
           "#023eff",
           "#023eff",
           "#023eff",
           "#023eff",
           "#023eff",
           "#023eff",
           "#023eff",
           "#023eff",
           "#023eff",
           "#023eff",
           "#023eff",
           "#023eff",
           "#023eff",
           "#023eff",
           "#023eff",
           "#023eff",
           "#023eff",
           "#023eff",
           "#023eff",
           "#023eff",
           "#023eff",
           "#023eff",
           "#023eff",
           "#023eff",
           "#023eff",
           "#023eff",
           "#023eff",
           "#023eff",
           "#023eff",
           "#023eff",
           "#023eff",
           "#023eff",
           "#023eff",
           "#023eff",
           "#023eff",
           "#023eff",
           "#023eff",
           "#023eff",
           "#023eff",
           "#023eff",
           "#023eff",
           "#023eff",
           "#023eff",
           "#023eff",
           "#023eff",
           "#023eff",
           "#023eff",
           "#023eff",
           "#023eff",
           "#023eff",
           "#023eff",
           "#023eff",
           "#023eff",
           "#023eff",
           "#023eff",
           "#023eff",
           "#023eff",
           "#023eff",
           "#023eff",
           "#023eff",
           "#023eff",
           "#023eff",
           "#023eff",
           "#023eff",
           "#023eff",
           "#023eff",
           "#023eff",
           "#023eff",
           "#023eff",
           "#023eff",
           "#023eff",
           "#023eff",
           "#023eff",
           "#023eff",
           "#023eff",
           "#023eff",
           "#023eff",
           "#023eff",
           "#023eff",
           "#023eff",
           "#023eff",
           "#023eff",
           "#023eff",
           "#023eff",
           "#023eff",
           "#023eff",
           "#023eff",
           "#023eff",
           "#023eff",
           "#023eff",
           "#023eff",
           "#023eff",
           "#023eff",
           "#023eff",
           "#023eff",
           "#023eff",
           "#023eff",
           "#023eff",
           "#023eff",
           "#023eff",
           "#023eff",
           "#023eff",
           "#023eff",
           "#023eff",
           "#023eff",
           "#023eff",
           "#023eff",
           "#023eff",
           "#023eff",
           "#023eff",
           "#023eff",
           "#023eff",
           "#023eff",
           "#023eff",
           "#023eff",
           "#023eff",
           "#023eff",
           "#023eff",
           "#023eff"
          ],
          "size": 8
         },
         "mode": "markers",
         "showlegend": false,
         "x": {
          "dtype": "f8",
          "bdata": "zF1LyAe9JkCRD3o2q74mQAisHFpkuyZA3NeBc0a0JkCR7Xw/Nb4mQAtGJXUCuiZAs+pztRW7JkDpJjEIrLwmQBzr4jYawCZAPujZrPq8JkDr4jYawLsmQOkmMQisvCZAsHJoke28JkBSJ6CJsMEmQIlBYOXQwiZAFR3J5T/EJkCutmJ/2b0mQIEExY8xtyZA1sVtNIC3JkD+ZffkYcEmQBUdyeU/xCZAswxxrIu7JkAIrBxaZLsmQKJFtvP9tCZAFR3J5T/EJkCQMXctIb8mQM07TtGRvCZAb/CFyVTBJkDMXUvIB70mQOXyH9JvvyZAzTtO0ZG8JkB4nKIjubwmQLWmeccpuiZAF9nO91PDJkDc14FzRrQmQK+UZYhjvSZAuECC4se4JkDgnBGlvcEmQE9AE2HDsyZAZ9Xnaiu2JkDMf0i/fb0mQJHtfD81viZAB84ZUdq7JkB4nKIjubwmQM07TtGRvCZAcM6I0t7AJkAydy0hH7QmQJm7lpAPuiZAbjSAt0DCJkCQMXctIb8mQFXBqKROwCZAVn2utmK/JkAHzhlR2rsmQEMc6+I2uiZA845TdCS3JkCkcD0K18MmQFCNl24SwyZA0NVW7C+7JkAGEhQ/xrwmQCPb+X5qvCZApgpGJXXCJkCiRbbz/bQmQE2EDU+vtCZAP8bctYS8JkA5tMh2vr8mQNDVVuwvuyZA5q4l5IO+JkCutmJ/2b0mQFg5tMh2viZAETY8vVK2JkAoDwu1prkmQO58PzVeuiZALGUZ4li3JkBCPujZrLomQN4CCYofwyZAb/CFyVTBJkB90LNZ9bkmQJEPejarviZAHOviNhrAJkDCFyZTBcMmQMdLN4lBwCZAcM6I0t7AJkB5WKg1zbsmQNbFbTSAtyZABhIUP8a8JkDmriXkg74mQBE2PL1StiZAxyk6ksu/JkA/xty1hLwmQJEPejarviZAjnVxGw3AJkDgnBGlvcEmQPH0SlmGuCZAzH9Iv329JkADeAskKL4mQIenV8oyxCZAArwFEhS/JkDQ1VbsL7smQEXY8PRKuSZAtaZ5xym6JkB4nKIjubwmQMrDQq1pviZAWvW52oq9JkDIBz2bVb8mQKqCUUmdwCZAiUFg5dDCJkCSy39Iv70mQBpR2ht8wSZA4JwRpb3BJkCUh4Va07wmQM/3U+OluyZAwcqhRbazJkDFjzF3LcEmQMgHPZtVvyZA5fIf0m+/JkCHp1fKMsQmQOauJeSDviZAP8bctYS8JkAgQfFjzL0mQNGRXP5DuiZAwOyePCy0JkBPr5RliMMmQEGC4seYuyZAp+hILv/BJkC2hHzQs7kmQCEf9GxWvSZAfPKwUGu6JkBzaJHtfL8mQMWPMXctwSZAtoR80LO5JkARNjy9UrYmQLaEfNCzuSZAk6mCUUm9JkCGONbFbbQmQO58PzVeuiZA0ZFc/kO6JkDtnjws1LomQFg5tMh2viZA5BQdyeW/JkDOGVHaG7wmQKFns+pztSZAP8bctYS8JkClLEMc68ImQJYhjnVxuyZAwcqhRbazJkAQWDm0yLYmQMxdS8gHvSZA"
         },
         "y": {
          "dtype": "f8",
          "bdata": "GCZTBaPSSkDsUbgehdNKQIqO5PIf0kpACfmgZ7PSSkAnoImw4dFKQOLplbIM0UpAp+hILv/RSkBN845TdNRKQBgmUwWj0kpAbVZ9rrbSSkBt5/up8dJKQE3zjlN01EpAJlMFo5LSSkBfB84ZUdJKQJYhjnVx00pAidLe4AvTSkAlBoGVQ9NKQGx4eqUs00pAQYLix5jTSkBPQBNhw9NKQFD8GHPX0kpAGQRWDi3SSkAdWmQ7389KQF3cRgN400pAidLe4AvTSkBUdCSX/9BKQOwvuycP00pAJzEIrBzSSkAYJlMFo9JKQEYldQKa0EpA0SLb+X7SSkD4wmSqYNRKQP7UeOkm0UpAmEwVjErSSkBPHhZqTdNKQEOtad5x0kpAQ61p3nHSSkDgvg6cM9JKQELPZtXn0kpAfPKwUGvSSkCJQWDl0NJKQJm7lpAP0kpAC7WmecfRSkBR2ht8YdJKQI/k8h/Sz0pAGJXUCWjSSkCkcD0K19NKQOoENBE21EpAa5p3nKLTSkDSAN4CCdJKQLKd76fG00pAGCZTBaPSSkCYbhKDwNJKQE9AE2HD00pAtTf4wmTSSkCKH2PuWtJKQDXvOEVH0kpAUwWjkjrRSkA/NV66SdRKQO7rwDkj0kpAtMh2vp/SSkBd3EYDeNNKQECk374O1EpAJCh+jLnTSkA0ETY8vdJKQBdIUPwY00pANBE2PL3SSkB8YTJVMNJKQBdIUPwY00pAbAn5oGfTSkCbVZ+rrdBKQPs6cM6I0kpAsp3vp8bTSkDb+X5qvNRKQJeQD3o200pAUWuad5zSSkAMk6mCUdFKQGEyVTAq0UpA0ETY8PTSSkC0yHa+n9JKQF8pyxDH0kpANV66SQzSSkAbL90kBtFKQEGC4seY00pAQj7o2azSSkA0ETY8vdJKQIj029eB00pAJuSDns3SSkB6Nqs+V9NKQGEyVTAq0UpA6+I2GsDTSkDQRNjw9NJKQOwvuycP00pAQs9m1efSSkDHuriNBtBKQDQRNjy90kpAUWuad5zSSkBTBaOSOtFKQApoImx40kpAP8bctYTUSkAydy0hH9RKQIts5/up0UpAm+Ydp+jQSkD/If32ddBKQFFrmnec0kpA+u3rwDnTSkBRa5p3nNJKQJeQD3o200pA4L4OnDPSSkAm5IOezdJKQO0NvjCZ0kpA3gIJih/TSkDQ1VbsL9NKQP8h/fZ10EpAxm00gLfQSkA0ETY8vdJKQAskKH6M0UpAe4MvTKbSSkAK16NwPdJKQEcDeAsk0EpAJLn8h/TTSkDQRNjw9NJKQKjGSzeJ0UpAmEwVjErSSkA0orQ3+NJKQF66SQwC00pAQs9m1efSSkD5D+m3r9NKQAmKH2Pu0kpAG55eKcvQSkCjAbwFEtRKQJzEILBy0EpAe4MvTKbSSkCWsgxxrNNKQBniWBe30UpApU5AE2HTSkDD9Shcj9JKQO0NvjCZ0kpAexSuR+HSSkCKH2PuWtJKQApoImx40kpAQYLix5jTSkAX2c73U9NKQO84RUdy0UpA3gIJih/TSkDBqKROQNNKQEa28/3U0EpA"
         },
         "type": "scatter"
        }
       ],
       "layout": {
        "template": {
         "data": {
          "histogram2dcontour": [
           {
            "type": "histogram2dcontour",
            "colorbar": {
             "outlinewidth": 0,
             "ticks": ""
            },
            "colorscale": [
             [
              0.0,
              "#0d0887"
             ],
             [
              0.1111111111111111,
              "#46039f"
             ],
             [
              0.2222222222222222,
              "#7201a8"
             ],
             [
              0.3333333333333333,
              "#9c179e"
             ],
             [
              0.4444444444444444,
              "#bd3786"
             ],
             [
              0.5555555555555556,
              "#d8576b"
             ],
             [
              0.6666666666666666,
              "#ed7953"
             ],
             [
              0.7777777777777778,
              "#fb9f3a"
             ],
             [
              0.8888888888888888,
              "#fdca26"
             ],
             [
              1.0,
              "#f0f921"
             ]
            ]
           }
          ],
          "choropleth": [
           {
            "type": "choropleth",
            "colorbar": {
             "outlinewidth": 0,
             "ticks": ""
            }
           }
          ],
          "histogram2d": [
           {
            "type": "histogram2d",
            "colorbar": {
             "outlinewidth": 0,
             "ticks": ""
            },
            "colorscale": [
             [
              0.0,
              "#0d0887"
             ],
             [
              0.1111111111111111,
              "#46039f"
             ],
             [
              0.2222222222222222,
              "#7201a8"
             ],
             [
              0.3333333333333333,
              "#9c179e"
             ],
             [
              0.4444444444444444,
              "#bd3786"
             ],
             [
              0.5555555555555556,
              "#d8576b"
             ],
             [
              0.6666666666666666,
              "#ed7953"
             ],
             [
              0.7777777777777778,
              "#fb9f3a"
             ],
             [
              0.8888888888888888,
              "#fdca26"
             ],
             [
              1.0,
              "#f0f921"
             ]
            ]
           }
          ],
          "heatmap": [
           {
            "type": "heatmap",
            "colorbar": {
             "outlinewidth": 0,
             "ticks": ""
            },
            "colorscale": [
             [
              0.0,
              "#0d0887"
             ],
             [
              0.1111111111111111,
              "#46039f"
             ],
             [
              0.2222222222222222,
              "#7201a8"
             ],
             [
              0.3333333333333333,
              "#9c179e"
             ],
             [
              0.4444444444444444,
              "#bd3786"
             ],
             [
              0.5555555555555556,
              "#d8576b"
             ],
             [
              0.6666666666666666,
              "#ed7953"
             ],
             [
              0.7777777777777778,
              "#fb9f3a"
             ],
             [
              0.8888888888888888,
              "#fdca26"
             ],
             [
              1.0,
              "#f0f921"
             ]
            ]
           }
          ],
          "contourcarpet": [
           {
            "type": "contourcarpet",
            "colorbar": {
             "outlinewidth": 0,
             "ticks": ""
            }
           }
          ],
          "contour": [
           {
            "type": "contour",
            "colorbar": {
             "outlinewidth": 0,
             "ticks": ""
            },
            "colorscale": [
             [
              0.0,
              "#0d0887"
             ],
             [
              0.1111111111111111,
              "#46039f"
             ],
             [
              0.2222222222222222,
              "#7201a8"
             ],
             [
              0.3333333333333333,
              "#9c179e"
             ],
             [
              0.4444444444444444,
              "#bd3786"
             ],
             [
              0.5555555555555556,
              "#d8576b"
             ],
             [
              0.6666666666666666,
              "#ed7953"
             ],
             [
              0.7777777777777778,
              "#fb9f3a"
             ],
             [
              0.8888888888888888,
              "#fdca26"
             ],
             [
              1.0,
              "#f0f921"
             ]
            ]
           }
          ],
          "surface": [
           {
            "type": "surface",
            "colorbar": {
             "outlinewidth": 0,
             "ticks": ""
            },
            "colorscale": [
             [
              0.0,
              "#0d0887"
             ],
             [
              0.1111111111111111,
              "#46039f"
             ],
             [
              0.2222222222222222,
              "#7201a8"
             ],
             [
              0.3333333333333333,
              "#9c179e"
             ],
             [
              0.4444444444444444,
              "#bd3786"
             ],
             [
              0.5555555555555556,
              "#d8576b"
             ],
             [
              0.6666666666666666,
              "#ed7953"
             ],
             [
              0.7777777777777778,
              "#fb9f3a"
             ],
             [
              0.8888888888888888,
              "#fdca26"
             ],
             [
              1.0,
              "#f0f921"
             ]
            ]
           }
          ],
          "mesh3d": [
           {
            "type": "mesh3d",
            "colorbar": {
             "outlinewidth": 0,
             "ticks": ""
            }
           }
          ],
          "scatter": [
           {
            "fillpattern": {
             "fillmode": "overlay",
             "size": 10,
             "solidity": 0.2
            },
            "type": "scatter"
           }
          ],
          "parcoords": [
           {
            "type": "parcoords",
            "line": {
             "colorbar": {
              "outlinewidth": 0,
              "ticks": ""
             }
            }
           }
          ],
          "scatterpolargl": [
           {
            "type": "scatterpolargl",
            "marker": {
             "colorbar": {
              "outlinewidth": 0,
              "ticks": ""
             }
            }
           }
          ],
          "bar": [
           {
            "error_x": {
             "color": "#2a3f5f"
            },
            "error_y": {
             "color": "#2a3f5f"
            },
            "marker": {
             "line": {
              "color": "#E5ECF6",
              "width": 0.5
             },
             "pattern": {
              "fillmode": "overlay",
              "size": 10,
              "solidity": 0.2
             }
            },
            "type": "bar"
           }
          ],
          "scattergeo": [
           {
            "type": "scattergeo",
            "marker": {
             "colorbar": {
              "outlinewidth": 0,
              "ticks": ""
             }
            }
           }
          ],
          "scatterpolar": [
           {
            "type": "scatterpolar",
            "marker": {
             "colorbar": {
              "outlinewidth": 0,
              "ticks": ""
             }
            }
           }
          ],
          "histogram": [
           {
            "marker": {
             "pattern": {
              "fillmode": "overlay",
              "size": 10,
              "solidity": 0.2
             }
            },
            "type": "histogram"
           }
          ],
          "scattergl": [
           {
            "type": "scattergl",
            "marker": {
             "colorbar": {
              "outlinewidth": 0,
              "ticks": ""
             }
            }
           }
          ],
          "scatter3d": [
           {
            "type": "scatter3d",
            "line": {
             "colorbar": {
              "outlinewidth": 0,
              "ticks": ""
             }
            },
            "marker": {
             "colorbar": {
              "outlinewidth": 0,
              "ticks": ""
             }
            }
           }
          ],
          "scattermap": [
           {
            "type": "scattermap",
            "marker": {
             "colorbar": {
              "outlinewidth": 0,
              "ticks": ""
             }
            }
           }
          ],
          "scattermapbox": [
           {
            "type": "scattermapbox",
            "marker": {
             "colorbar": {
              "outlinewidth": 0,
              "ticks": ""
             }
            }
           }
          ],
          "scatterternary": [
           {
            "type": "scatterternary",
            "marker": {
             "colorbar": {
              "outlinewidth": 0,
              "ticks": ""
             }
            }
           }
          ],
          "scattercarpet": [
           {
            "type": "scattercarpet",
            "marker": {
             "colorbar": {
              "outlinewidth": 0,
              "ticks": ""
             }
            }
           }
          ],
          "carpet": [
           {
            "aaxis": {
             "endlinecolor": "#2a3f5f",
             "gridcolor": "white",
             "linecolor": "white",
             "minorgridcolor": "white",
             "startlinecolor": "#2a3f5f"
            },
            "baxis": {
             "endlinecolor": "#2a3f5f",
             "gridcolor": "white",
             "linecolor": "white",
             "minorgridcolor": "white",
             "startlinecolor": "#2a3f5f"
            },
            "type": "carpet"
           }
          ],
          "table": [
           {
            "cells": {
             "fill": {
              "color": "#EBF0F8"
             },
             "line": {
              "color": "white"
             }
            },
            "header": {
             "fill": {
              "color": "#C8D4E3"
             },
             "line": {
              "color": "white"
             }
            },
            "type": "table"
           }
          ],
          "barpolar": [
           {
            "marker": {
             "line": {
              "color": "#E5ECF6",
              "width": 0.5
             },
             "pattern": {
              "fillmode": "overlay",
              "size": 10,
              "solidity": 0.2
             }
            },
            "type": "barpolar"
           }
          ],
          "pie": [
           {
            "automargin": true,
            "type": "pie"
           }
          ]
         },
         "layout": {
          "autotypenumbers": "strict",
          "colorway": [
           "#636efa",
           "#EF553B",
           "#00cc96",
           "#ab63fa",
           "#FFA15A",
           "#19d3f3",
           "#FF6692",
           "#B6E880",
           "#FF97FF",
           "#FECB52"
          ],
          "font": {
           "color": "#2a3f5f"
          },
          "hovermode": "closest",
          "hoverlabel": {
           "align": "left"
          },
          "paper_bgcolor": "white",
          "plot_bgcolor": "#E5ECF6",
          "polar": {
           "bgcolor": "#E5ECF6",
           "angularaxis": {
            "gridcolor": "white",
            "linecolor": "white",
            "ticks": ""
           },
           "radialaxis": {
            "gridcolor": "white",
            "linecolor": "white",
            "ticks": ""
           }
          },
          "ternary": {
           "bgcolor": "#E5ECF6",
           "aaxis": {
            "gridcolor": "white",
            "linecolor": "white",
            "ticks": ""
           },
           "baxis": {
            "gridcolor": "white",
            "linecolor": "white",
            "ticks": ""
           },
           "caxis": {
            "gridcolor": "white",
            "linecolor": "white",
            "ticks": ""
           }
          },
          "coloraxis": {
           "colorbar": {
            "outlinewidth": 0,
            "ticks": ""
           }
          },
          "colorscale": {
           "sequential": [
            [
             0.0,
             "#0d0887"
            ],
            [
             0.1111111111111111,
             "#46039f"
            ],
            [
             0.2222222222222222,
             "#7201a8"
            ],
            [
             0.3333333333333333,
             "#9c179e"
            ],
            [
             0.4444444444444444,
             "#bd3786"
            ],
            [
             0.5555555555555556,
             "#d8576b"
            ],
            [
             0.6666666666666666,
             "#ed7953"
            ],
            [
             0.7777777777777778,
             "#fb9f3a"
            ],
            [
             0.8888888888888888,
             "#fdca26"
            ],
            [
             1.0,
             "#f0f921"
            ]
           ],
           "sequentialminus": [
            [
             0.0,
             "#0d0887"
            ],
            [
             0.1111111111111111,
             "#46039f"
            ],
            [
             0.2222222222222222,
             "#7201a8"
            ],
            [
             0.3333333333333333,
             "#9c179e"
            ],
            [
             0.4444444444444444,
             "#bd3786"
            ],
            [
             0.5555555555555556,
             "#d8576b"
            ],
            [
             0.6666666666666666,
             "#ed7953"
            ],
            [
             0.7777777777777778,
             "#fb9f3a"
            ],
            [
             0.8888888888888888,
             "#fdca26"
            ],
            [
             1.0,
             "#f0f921"
            ]
           ],
           "diverging": [
            [
             0,
             "#8e0152"
            ],
            [
             0.1,
             "#c51b7d"
            ],
            [
             0.2,
             "#de77ae"
            ],
            [
             0.3,
             "#f1b6da"
            ],
            [
             0.4,
             "#fde0ef"
            ],
            [
             0.5,
             "#f7f7f7"
            ],
            [
             0.6,
             "#e6f5d0"
            ],
            [
             0.7,
             "#b8e186"
            ],
            [
             0.8,
             "#7fbc41"
            ],
            [
             0.9,
             "#4d9221"
            ],
            [
             1,
             "#276419"
            ]
           ]
          },
          "xaxis": {
           "gridcolor": "white",
           "linecolor": "white",
           "ticks": "",
           "title": {
            "standoff": 15
           },
           "zerolinecolor": "white",
           "automargin": true,
           "zerolinewidth": 2
          },
          "yaxis": {
           "gridcolor": "white",
           "linecolor": "white",
           "ticks": "",
           "title": {
            "standoff": 15
           },
           "zerolinecolor": "white",
           "automargin": true,
           "zerolinewidth": 2
          },
          "scene": {
           "xaxis": {
            "backgroundcolor": "#E5ECF6",
            "gridcolor": "white",
            "linecolor": "white",
            "showbackground": true,
            "ticks": "",
            "zerolinecolor": "white",
            "gridwidth": 2
           },
           "yaxis": {
            "backgroundcolor": "#E5ECF6",
            "gridcolor": "white",
            "linecolor": "white",
            "showbackground": true,
            "ticks": "",
            "zerolinecolor": "white",
            "gridwidth": 2
           },
           "zaxis": {
            "backgroundcolor": "#E5ECF6",
            "gridcolor": "white",
            "linecolor": "white",
            "showbackground": true,
            "ticks": "",
            "zerolinecolor": "white",
            "gridwidth": 2
           }
          },
          "shapedefaults": {
           "line": {
            "color": "#2a3f5f"
           }
          },
          "annotationdefaults": {
           "arrowcolor": "#2a3f5f",
           "arrowhead": 0,
           "arrowwidth": 1
          },
          "geo": {
           "bgcolor": "white",
           "landcolor": "#E5ECF6",
           "subunitcolor": "white",
           "showland": true,
           "showlakes": true,
           "lakecolor": "white"
          },
          "title": {
           "x": 0.05
          },
          "mapbox": {
           "style": "light"
          }
         }
        },
        "shapes": [
         {
          "fillcolor": "rgba(255, 255, 255, 0.5)",
          "line": {
           "color": "rgba(255, 255, 255, 0.0)"
          },
          "type": "rect",
          "x0": 0.925,
          "x1": 1.0,
          "y0": 0.0,
          "y1": 1.0
         }
        ],
        "margin": {
         "r": 0,
         "t": 0,
         "l": 0,
         "b": 0
        },
        "xaxis": {
         "title": {
          "text": "Longitude"
         },
         "showgrid": true,
         "gridcolor": "lightgray",
         "gridwidth": 0.5,
         "range": [
          11.3485,
          11.3815
         ],
         "showline": true,
         "linecolor": "black",
         "linewidth": 1,
         "ticks": "outside",
         "showticklabels": true
        },
        "yaxis": {
         "title": {
          "text": "Latitude"
         },
         "showgrid": true,
         "gridcolor": "lightgray",
         "gridwidth": 0.5,
         "scaleanchor": "x",
         "scaleratio": 1,
         "range": [
          53.61775,
          53.667249999999996
         ],
         "showline": true,
         "linecolor": "black",
         "linewidth": 1,
         "ticks": "outside",
         "showticklabels": true
        },
        "showlegend": false,
        "plot_bgcolor": "white"
       },
       "config": {
        "plotlyServerURL": "https://plot.ly"
       }
      }
     },
     "metadata": {},
     "output_type": "display_data"
    }
   ],
   "execution_count": 6
  },
  {
   "cell_type": "code",
   "id": "2ba2dbff4e8bd18a",
   "metadata": {
    "ExecuteTime": {
     "end_time": "2025-09-24T11:57:07.260839Z",
     "start_time": "2025-09-24T11:57:07.241587Z"
    }
   },
   "source": [
    "# Plot can be saved as svg or other vector format\n",
    "# fig_svg.write_image('save_as_svg.svg')"
   ],
   "outputs": [],
   "execution_count": 7
  }
 ],
 "metadata": {
  "kernelspec": {
   "display_name": "Python 3",
   "language": "python",
   "name": "python3"
  },
  "language_info": {
   "codemirror_mode": {
    "name": "ipython",
    "version": 2
   },
   "file_extension": ".py",
   "mimetype": "text/x-python",
   "name": "python",
   "nbconvert_exporter": "python",
   "pygments_lexer": "ipython2"
  }
 },
 "nbformat": 4,
 "nbformat_minor": 5
}
