{
 "cells": [
  {
   "cell_type": "code",
   "execution_count": null,
   "metadata": {},
   "outputs": [
    {
     "name": "stdout",
     "output_type": "stream",
     "text": [
      "The autoreload extension is already loaded. To reload it, use:\n",
      "  %reload_ext autoreload\n"
     ]
    }
   ],
   "source": [
    "# NBVAL_SKIP\n",
    "# Some jupyter notebook magic to reload modules automatically when they change\n",
    "# not necessary for this specific notebook but useful in general\n",
    "%load_ext autoreload\n",
    "%autoreload 2"
   ]
  },
  {
   "cell_type": "code",
   "execution_count": null,
   "metadata": {},
   "outputs": [
    {
     "name": "stderr",
     "output_type": "stream",
     "text": [
      "\u001b[32m2025-08-12 18:59:01.803\u001b[0m | \u001b[1mINFO    \u001b[0m | \u001b[36mpypsdm.models.gwr\u001b[0m:\u001b[36mfrom_csv\u001b[0m:\u001b[36m293\u001b[0m - \u001b[1mReading grid from /home/smdafeis/github/pypsdm/tests/resources/simbench/input\u001b[0m\n",
      "\u001b[32m2025-08-12 18:59:02.217\u001b[0m | \u001b[34m\u001b[1mDEBUG   \u001b[0m | \u001b[36mpypsdm.models.primary_data\u001b[0m:\u001b[36mfrom_csv\u001b[0m:\u001b[36m273\u001b[0m - \u001b[34m\u001b[1mNo primary data in path /home/smdafeis/github/pypsdm/tests/resources/simbench/input\u001b[0m\n",
      "\u001b[32m2025-08-12 18:59:02.218\u001b[0m | \u001b[1mINFO    \u001b[0m | \u001b[36mpypsdm.models.gwr\u001b[0m:\u001b[36mfrom_csv\u001b[0m:\u001b[36m305\u001b[0m - \u001b[1mReading results from /home/smdafeis/github/pypsdm/tests/resources/simbench/results\u001b[0m\n",
      "\u001b[32m2025-08-12 18:59:02.740\u001b[0m | \u001b[33m\u001b[1mWARNING \u001b[0m | \u001b[36mpypsdm.models.result.participant.dict\u001b[0m:\u001b[36mfrom_csv\u001b[0m:\u001b[36m76\u001b[0m - \u001b[33m\u001b[1mEntity 557b9f51-d83c-476c-a84c-d240530c203d not in input entities\u001b[0m\n",
      "\u001b[32m2025-08-12 18:59:02.744\u001b[0m | \u001b[33m\u001b[1mWARNING \u001b[0m | \u001b[36mpypsdm.models.result.participant.dict\u001b[0m:\u001b[36mfrom_csv\u001b[0m:\u001b[36m76\u001b[0m - \u001b[33m\u001b[1mEntity 5d50a881-c383-463e-8355-41b3dd57422d not in input entities\u001b[0m\n"
     ]
    }
   ],
   "source": [
    "# NBVAL_IGNORE_OUTPUT\n",
    "from definitions import ROOT_DIR\n",
    "import os\n",
    "\n",
    "# The PSDM specific input models can be imported from the pypsdm.models.input and\n",
    "# pypsdm.models.result. The `GridWithResults` container is located in pypsdm.models.gwr\n",
    "from pypsdm.models.gwr import GridWithResults\n",
    "\n",
    "\n",
    "grid_path = os.path.join(ROOT_DIR, \"tests\", \"resources\", \"simbench\", \"input\")\n",
    "result_path = os.path.join(ROOT_DIR, \"tests\", \"resources\", \"simbench\", \"results\")\n",
    "# IO data models in general have a from_csv method to parse psdm files\n",
    "gwr = GridWithResults.from_csv(grid_path, result_path)"
   ]
  },
  {
   "cell_type": "code",
   "execution_count": null,
   "metadata": {},
   "outputs": [
    {
     "data": {
      "application/vnd.plotly.v1+json": {
       "config": {
        "plotlyServerURL": "https://plot.ly"
       },
       "data": [
        {
         "hoverinfo": "skip",
         "lat": [
          53.6477,
          53.6494
         ],
         "line": {
          "color": "#1ac938",
          "width": 2
         },
         "lon": [
          11.3511,
          11.351
         ],
         "mode": "lines",
         "showlegend": false,
         "type": "scattermapbox"
        },
        {
         "hoverinfo": "text",
         "hovertext": "MV3.101 Line 94",
         "lat": [
          53.64855
         ],
         "lon": [
          11.35105
         ],
         "marker": {
          "color": "#1ac938",
          "opacity": 0,
          "size": 0
         },
         "mode": "markers",
         "showlegend": false,
         "type": "scattermapbox"
        },
        {
         "hoverinfo": "skip",
         "lat": [
          53.6461,
          53.6477
         ],
         "line": {
          "color": "#1ac938",
          "width": 2
         },
         "lon": [
          11.3521,
          11.3511
         ],
         "mode": "lines",
         "showlegend": false,
         "type": "scattermapbox"
        },
        {
         "hoverinfo": "text",
         "hovertext": "MV3.101 Line 93",
         "lat": [
          53.6469
         ],
         "lon": [
          11.351600000000001
         ],
         "marker": {
          "color": "#1ac938",
          "opacity": 0,
          "size": 0
         },
         "mode": "markers",
         "showlegend": false,
         "type": "scattermapbox"
        },
        {
         "hoverinfo": "skip",
         "lat": [
          53.6456,
          53.6457
         ],
         "line": {
          "color": "#1ac938",
          "width": 2
         },
         "lon": [
          11.3692,
          11.3682
         ],
         "mode": "lines",
         "showlegend": false,
         "type": "scattermapbox"
        },
        {
         "hoverinfo": "text",
         "hovertext": "MV3.101 Line 49",
         "lat": [
          53.64565
         ],
         "lon": [
          11.3687
         ],
         "marker": {
          "color": "#1ac938",
          "opacity": 0,
          "size": 0
         },
         "mode": "markers",
         "showlegend": false,
         "type": "scattermapbox"
        },
        {
         "hoverinfo": "skip",
         "lat": [
          53.6389,
          53.637
         ],
         "line": {
          "color": "#1ac938",
          "width": 2
         },
         "lon": [
          11.3669,
          11.3664
         ],
         "mode": "lines",
         "showlegend": false,
         "type": "scattermapbox"
        },
        {
         "hoverinfo": "text",
         "hovertext": "MV3.101 Line 98",
         "lat": [
          53.637950000000004
         ],
         "lon": [
          11.36665
         ],
         "marker": {
          "color": "#1ac938",
          "opacity": 0,
          "size": 0
         },
         "mode": "markers",
         "showlegend": false,
         "type": "scattermapbox"
        },
        {
         "hoverinfo": "skip",
         "lat": [
          53.655,
          53.6537
         ],
         "line": {
          "color": "#1ac938",
          "width": 2
         },
         "lon": [
          11.3518,
          11.3524
         ],
         "mode": "lines",
         "showlegend": false,
         "type": "scattermapbox"
        },
        {
         "hoverinfo": "text",
         "hovertext": "MV3.101 Line 64",
         "lat": [
          53.65435
         ],
         "lon": [
          11.3521
         ],
         "marker": {
          "color": "#1ac938",
          "opacity": 0,
          "size": 0
         },
         "mode": "markers",
         "showlegend": false,
         "type": "scattermapbox"
        },
        {
         "hoverinfo": "skip",
         "lat": [
          53.6425,
          53.6421
         ],
         "line": {
          "color": "#1ac938",
          "width": 2
         },
         "lon": [
          11.3707,
          11.3708
         ],
         "mode": "lines",
         "showlegend": false,
         "type": "scattermapbox"
        },
        {
         "hoverinfo": "text",
         "hovertext": "MV3.101 Line 3",
         "lat": [
          53.6423
         ],
         "lon": [
          11.37075
         ],
         "marker": {
          "color": "#1ac938",
          "opacity": 0,
          "size": 0
         },
         "mode": "markers",
         "showlegend": false,
         "type": "scattermapbox"
        },
        {
         "hoverinfo": "skip",
         "lat": [
          53.6603,
          53.662
         ],
         "line": {
          "color": "#1ac938",
          "width": 2
         },
         "lon": [
          11.3636,
          11.3646
         ],
         "mode": "lines",
         "showlegend": false,
         "type": "scattermapbox"
        },
        {
         "hoverinfo": "text",
         "hovertext": "MV3.101 Line 48",
         "lat": [
          53.66115
         ],
         "lon": [
          11.3641
         ],
         "marker": {
          "color": "#1ac938",
          "opacity": 0,
          "size": 0
         },
         "mode": "markers",
         "showlegend": false,
         "type": "scattermapbox"
        },
        {
         "hoverinfo": "skip",
         "lat": [
          53.6469,
          53.6475
         ],
         "line": {
          "color": "#1ac938",
          "width": 2
         },
         "lon": [
          11.3746,
          11.3748
         ],
         "mode": "lines",
         "showlegend": false,
         "type": "scattermapbox"
        },
        {
         "hoverinfo": "text",
         "hovertext": "MV3.101 Line 127",
         "lat": [
          53.6472
         ],
         "lon": [
          11.3747
         ],
         "marker": {
          "color": "#1ac938",
          "opacity": 0,
          "size": 0
         },
         "mode": "markers",
         "showlegend": false,
         "type": "scattermapbox"
        },
        {
         "hoverinfo": "skip",
         "lat": [
          53.6328,
          53.6306
         ],
         "line": {
          "color": "#1ac938",
          "width": 2
         },
         "lon": [
          11.3733,
          11.3739
         ],
         "mode": "lines",
         "showlegend": false,
         "type": "scattermapbox"
        },
        {
         "hoverinfo": "text",
         "hovertext": "MV3.101 Line 106",
         "lat": [
          53.6317
         ],
         "lon": [
          11.3736
         ],
         "marker": {
          "color": "#1ac938",
          "opacity": 0,
          "size": 0
         },
         "mode": "markers",
         "showlegend": false,
         "type": "scattermapbox"
        },
        {
         "hoverinfo": "skip",
         "lat": [
          53.6457,
          53.647
         ],
         "line": {
          "color": "#1ac938",
          "width": 2
         },
         "lon": [
          11.3697,
          11.3701
         ],
         "mode": "lines",
         "showlegend": false,
         "type": "scattermapbox"
        },
        {
         "hoverinfo": "text",
         "hovertext": "MV3.101 Line 27",
         "lat": [
          53.64635
         ],
         "lon": [
          11.369900000000001
         ],
         "marker": {
          "color": "#1ac938",
          "opacity": 0,
          "size": 0
         },
         "mode": "markers",
         "showlegend": false,
         "type": "scattermapbox"
        },
        {
         "hoverinfo": "skip",
         "lat": [
          53.6321,
          53.6341
         ],
         "line": {
          "color": "#1ac938",
          "width": 2
         },
         "lon": [
          11.3702,
          11.3724
         ],
         "mode": "lines",
         "showlegend": false,
         "type": "scattermapbox"
        },
        {
         "hoverinfo": "text",
         "hovertext": "MV3.101 Line 104",
         "lat": [
          53.6331
         ],
         "lon": [
          11.371300000000002
         ],
         "marker": {
          "color": "#1ac938",
          "opacity": 0,
          "size": 0
         },
         "mode": "markers",
         "showlegend": false,
         "type": "scattermapbox"
        },
        {
         "hoverinfo": "skip",
         "lat": [
          53.6416,
          53.6406
         ],
         "line": {
          "color": "#1ac938",
          "width": 2
         },
         "lon": [
          11.366,
          11.3654
         ],
         "mode": "lines",
         "showlegend": false,
         "type": "scattermapbox"
        },
        {
         "hoverinfo": "text",
         "hovertext": "MV3.101 Line 72",
         "lat": [
          53.641099999999994
         ],
         "lon": [
          11.3657
         ],
         "marker": {
          "color": "#1ac938",
          "opacity": 0,
          "size": 0
         },
         "mode": "markers",
         "showlegend": false,
         "type": "scattermapbox"
        },
        {
         "hoverinfo": "skip",
         "lat": [
          53.647,
          53.6477
         ],
         "line": {
          "color": "#1ac938",
          "width": 2
         },
         "lon": [
          11.3701,
          11.3701
         ],
         "mode": "lines",
         "showlegend": false,
         "type": "scattermapbox"
        },
        {
         "hoverinfo": "text",
         "hovertext": "MV3.101 Line 28",
         "lat": [
          53.64735
         ],
         "lon": [
          11.3701
         ],
         "marker": {
          "color": "#1ac938",
          "opacity": 0,
          "size": 0
         },
         "mode": "markers",
         "showlegend": false,
         "type": "scattermapbox"
        },
        {
         "hoverinfo": "skip",
         "lat": [
          53.6429,
          53.6428
         ],
         "line": {
          "color": "#1ac938",
          "width": 2
         },
         "lon": [
          11.3789,
          11.381
         ],
         "mode": "lines",
         "showlegend": false,
         "type": "scattermapbox"
        },
        {
         "hoverinfo": "text",
         "hovertext": "MV3.101 Line 112",
         "lat": [
          53.642849999999996
         ],
         "lon": [
          11.379950000000001
         ],
         "marker": {
          "color": "#1ac938",
          "opacity": 0,
          "size": 0
         },
         "mode": "markers",
         "showlegend": false,
         "type": "scattermapbox"
        },
        {
         "hoverinfo": "skip",
         "lat": [
          53.6453,
          53.6454
         ],
         "line": {
          "color": "#1ac938",
          "width": 2
         },
         "lon": [
          11.372,
          11.3732
         ],
         "mode": "lines",
         "showlegend": false,
         "type": "scattermapbox"
        },
        {
         "hoverinfo": "text",
         "hovertext": "MV3.101 Line 14",
         "lat": [
          53.64535
         ],
         "lon": [
          11.3726
         ],
         "marker": {
          "color": "#1ac938",
          "opacity": 0,
          "size": 0
         },
         "mode": "markers",
         "showlegend": false,
         "type": "scattermapbox"
        },
        {
         "hoverinfo": "skip",
         "lat": [
          53.6456,
          53.6464
         ],
         "line": {
          "color": "#1ac938",
          "width": 2
         },
         "lon": [
          11.3738,
          11.3745
         ],
         "mode": "lines",
         "showlegend": false,
         "type": "scattermapbox"
        },
        {
         "hoverinfo": "text",
         "hovertext": "MV3.101 BS-Feeder3_line",
         "lat": [
          53.646
         ],
         "lon": [
          11.37415
         ],
         "marker": {
          "color": "#1ac938",
          "opacity": 0,
          "size": 0
         },
         "mode": "markers",
         "showlegend": false,
         "type": "scattermapbox"
        },
        {
         "hoverinfo": "skip",
         "lat": [
          53.6521,
          53.6508
         ],
         "line": {
          "color": "#1ac938",
          "width": 2
         },
         "lon": [
          11.3535,
          11.3521
         ],
         "mode": "lines",
         "showlegend": false,
         "type": "scattermapbox"
        },
        {
         "hoverinfo": "text",
         "hovertext": "MV3.101 Line 66",
         "lat": [
          53.65145
         ],
         "lon": [
          11.3528
         ],
         "marker": {
          "color": "#1ac938",
          "opacity": 0,
          "size": 0
         },
         "mode": "markers",
         "showlegend": false,
         "type": "scattermapbox"
        },
        {
         "hoverinfo": "skip",
         "lat": [
          53.6481,
          53.6472
         ],
         "line": {
          "color": "#1ac938",
          "width": 2
         },
         "lon": [
          11.3819,
          11.3833
         ],
         "mode": "lines",
         "showlegend": false,
         "type": "scattermapbox"
        },
        {
         "hoverinfo": "text",
         "hovertext": "MV3.101 Line 124",
         "lat": [
          53.64765
         ],
         "lon": [
          11.3826
         ],
         "marker": {
          "color": "#1ac938",
          "opacity": 0,
          "size": 0
         },
         "mode": "markers",
         "showlegend": false,
         "type": "scattermapbox"
        },
        {
         "hoverinfo": "skip",
         "lat": [
          53.6384,
          53.6353
         ],
         "line": {
          "color": "#1ac938",
          "width": 2
         },
         "lon": [
          11.364,
          11.3632
         ],
         "mode": "lines",
         "showlegend": false,
         "type": "scattermapbox"
        },
        {
         "hoverinfo": "text",
         "hovertext": "MV3.101 Line 74",
         "lat": [
          53.636849999999995
         ],
         "lon": [
          11.363600000000002
         ],
         "marker": {
          "color": "#1ac938",
          "opacity": 0,
          "size": 0
         },
         "mode": "markers",
         "showlegend": false,
         "type": "scattermapbox"
        },
        {
         "hoverinfo": "skip",
         "lat": [
          53.624,
          53.6236
         ],
         "line": {
          "color": "#1ac938",
          "width": 2
         },
         "lon": [
          11.366,
          11.3683
         ],
         "mode": "lines",
         "showlegend": false,
         "type": "scattermapbox"
        },
        {
         "hoverinfo": "text",
         "hovertext": "MV3.101 Line 82",
         "lat": [
          53.6238
         ],
         "lon": [
          11.367149999999999
         ],
         "marker": {
          "color": "#1ac938",
          "opacity": 0,
          "size": 0
         },
         "mode": "markers",
         "showlegend": false,
         "type": "scattermapbox"
        },
        {
         "hoverinfo": "skip",
         "lat": [
          53.6544,
          53.6579
         ],
         "line": {
          "color": "#1ac938",
          "width": 2
         },
         "lon": [
          11.3637,
          11.3634
         ],
         "mode": "lines",
         "showlegend": false,
         "type": "scattermapbox"
        },
        {
         "hoverinfo": "text",
         "hovertext": "MV3.101 Line 46",
         "lat": [
          53.65615
         ],
         "lon": [
          11.36355
         ],
         "marker": {
          "color": "#1ac938",
          "opacity": 0,
          "size": 0
         },
         "mode": "markers",
         "showlegend": false,
         "type": "scattermapbox"
        },
        {
         "hoverinfo": "skip",
         "lat": [
          53.6456,
          53.6462
         ],
         "line": {
          "color": "#1ac938",
          "width": 2
         },
         "lon": [
          11.3692,
          11.3691
         ],
         "mode": "lines",
         "showlegend": false,
         "type": "scattermapbox"
        },
        {
         "hoverinfo": "text",
         "hovertext": "MV3.101 Line 31",
         "lat": [
          53.6459
         ],
         "lon": [
          11.36915
         ],
         "marker": {
          "color": "#1ac938",
          "opacity": 0,
          "size": 0
         },
         "mode": "markers",
         "showlegend": false,
         "type": "scattermapbox"
        },
        {
         "hoverinfo": "skip",
         "lat": [
          53.6465,
          53.6477
         ],
         "line": {
          "color": "#1ac938",
          "width": 2
         },
         "lon": [
          11.3669,
          11.3641
         ],
         "mode": "lines",
         "showlegend": false,
         "type": "scattermapbox"
        },
        {
         "hoverinfo": "text",
         "hovertext": "MV3.101 Line 51",
         "lat": [
          53.6471
         ],
         "lon": [
          11.3655
         ],
         "marker": {
          "color": "#1ac938",
          "opacity": 0,
          "size": 0
         },
         "mode": "markers",
         "showlegend": false,
         "type": "scattermapbox"
        },
        {
         "hoverinfo": "skip",
         "lat": [
          53.6592,
          53.6598
         ],
         "line": {
          "color": "#1ac938",
          "width": 2
         },
         "lon": [
          11.3686,
          11.3685
         ],
         "mode": "lines",
         "showlegend": false,
         "type": "scattermapbox"
        },
        {
         "hoverinfo": "text",
         "hovertext": "MV3.101 Line 40",
         "lat": [
          53.659499999999994
         ],
         "lon": [
          11.368549999999999
         ],
         "marker": {
          "color": "#1ac938",
          "opacity": 0,
          "size": 0
         },
         "mode": "markers",
         "showlegend": false,
         "type": "scattermapbox"
        },
        {
         "hoverinfo": "skip",
         "lat": [
          53.6525,
          53.6538
         ],
         "line": {
          "color": "#1ac938",
          "width": 2
         },
         "lon": [
          11.3724,
          11.374
         ],
         "mode": "lines",
         "showlegend": false,
         "type": "scattermapbox"
        },
        {
         "hoverinfo": "text",
         "hovertext": "MV3.101 Line 19",
         "lat": [
          53.65315
         ],
         "lon": [
          11.3732
         ],
         "marker": {
          "color": "#1ac938",
          "opacity": 0,
          "size": 0
         },
         "mode": "markers",
         "showlegend": false,
         "type": "scattermapbox"
        },
        {
         "hoverinfo": "skip",
         "lat": [
          53.6456,
          53.6457
         ],
         "line": {
          "color": "#1ac938",
          "width": 2
         },
         "lon": [
          11.3692,
          11.3697
         ],
         "mode": "lines",
         "showlegend": false,
         "type": "scattermapbox"
        },
        {
         "hoverinfo": "text",
         "hovertext": "MV3.101 Line 26",
         "lat": [
          53.64565
         ],
         "lon": [
          11.36945
         ],
         "marker": {
          "color": "#1ac938",
          "opacity": 0,
          "size": 0
         },
         "mode": "markers",
         "showlegend": false,
         "type": "scattermapbox"
        },
        {
         "hoverinfo": "skip",
         "lat": [
          53.648,
          53.6492
         ],
         "line": {
          "color": "#1ac938",
          "width": 2
         },
         "lon": [
          11.3667,
          11.3656
         ],
         "mode": "lines",
         "showlegend": false,
         "type": "scattermapbox"
        },
        {
         "hoverinfo": "text",
         "hovertext": "MV3.101 Line 43",
         "lat": [
          53.6486
         ],
         "lon": [
          11.366150000000001
         ],
         "marker": {
          "color": "#1ac938",
          "opacity": 0,
          "size": 0
         },
         "mode": "markers",
         "showlegend": false,
         "type": "scattermapbox"
        },
        {
         "hoverinfo": "skip",
         "lat": [
          53.637,
          53.6363
         ],
         "line": {
          "color": "#1ac938",
          "width": 2
         },
         "lon": [
          11.3664,
          11.3661
         ],
         "mode": "lines",
         "showlegend": false,
         "type": "scattermapbox"
        },
        {
         "hoverinfo": "text",
         "hovertext": "MV3.101 Line 99",
         "lat": [
          53.63665
         ],
         "lon": [
          11.36625
         ],
         "marker": {
          "color": "#1ac938",
          "opacity": 0,
          "size": 0
         },
         "mode": "markers",
         "showlegend": false,
         "type": "scattermapbox"
        },
        {
         "hoverinfo": "skip",
         "lat": [
          53.6545,
          53.6568
         ],
         "line": {
          "color": "#1ac938",
          "width": 2
         },
         "lon": [
          11.3581,
          11.3561
         ],
         "mode": "lines",
         "showlegend": false,
         "type": "scattermapbox"
        },
        {
         "hoverinfo": "text",
         "hovertext": "MV3.101 Line 60",
         "lat": [
          53.655649999999994
         ],
         "lon": [
          11.357099999999999
         ],
         "marker": {
          "color": "#1ac938",
          "opacity": 0,
          "size": 0
         },
         "mode": "markers",
         "showlegend": false,
         "type": "scattermapbox"
        },
        {
         "hoverinfo": "skip",
         "lat": [
          53.6306,
          53.6297
         ],
         "line": {
          "color": "#1ac938",
          "width": 2
         },
         "lon": [
          11.3739,
          11.3739
         ],
         "mode": "lines",
         "showlegend": false,
         "type": "scattermapbox"
        },
        {
         "hoverinfo": "text",
         "hovertext": "MV3.101 Line 107",
         "lat": [
          53.63015
         ],
         "lon": [
          11.3739
         ],
         "marker": {
          "color": "#1ac938",
          "opacity": 0,
          "size": 0
         },
         "mode": "markers",
         "showlegend": false,
         "type": "scattermapbox"
        },
        {
         "hoverinfo": "skip",
         "lat": [
          53.6312,
          53.6303
         ],
         "line": {
          "color": "#1ac938",
          "width": 2
         },
         "lon": [
          11.3627,
          11.3626
         ],
         "mode": "lines",
         "showlegend": false,
         "type": "scattermapbox"
        },
        {
         "hoverinfo": "text",
         "hovertext": "MV3.101 Line 78",
         "lat": [
          53.63075
         ],
         "lon": [
          11.36265
         ],
         "marker": {
          "color": "#1ac938",
          "opacity": 0,
          "size": 0
         },
         "mode": "markers",
         "showlegend": false,
         "type": "scattermapbox"
        },
        {
         "hoverinfo": "skip",
         "lat": [
          53.6428,
          53.6429
         ],
         "line": {
          "color": "#1ac938",
          "width": 2
         },
         "lon": [
          11.381,
          11.3815
         ],
         "mode": "lines",
         "showlegend": false,
         "type": "scattermapbox"
        },
        {
         "hoverinfo": "text",
         "hovertext": "MV3.101 Line 113",
         "lat": [
          53.642849999999996
         ],
         "lon": [
          11.381250000000001
         ],
         "marker": {
          "color": "#1ac938",
          "opacity": 0,
          "size": 0
         },
         "mode": "markers",
         "showlegend": false,
         "type": "scattermapbox"
        },
        {
         "hoverinfo": "skip",
         "lat": [
          53.6456,
          53.6441
         ],
         "line": {
          "color": "#1ac938",
          "width": 2
         },
         "lon": [
          11.3692,
          11.3699
         ],
         "mode": "lines",
         "showlegend": false,
         "type": "scattermapbox"
        },
        {
         "hoverinfo": "text",
         "hovertext": "MV3.101 Line 1",
         "lat": [
          53.644850000000005
         ],
         "lon": [
          11.36955
         ],
         "marker": {
          "color": "#1ac938",
          "opacity": 0,
          "size": 0
         },
         "mode": "markers",
         "showlegend": false,
         "type": "scattermapbox"
        },
        {
         "hoverinfo": "skip",
         "lat": [
          53.6456,
          53.6485
         ],
         "line": {
          "color": "#1ac938",
          "width": 2
         },
         "lon": [
          11.3692,
          11.3698
         ],
         "mode": "lines",
         "showlegend": false,
         "type": "scattermapbox"
        },
        {
         "hoverinfo": "text",
         "hovertext": "MV3.101 Line 16",
         "lat": [
          53.64705
         ],
         "lon": [
          11.369499999999999
         ],
         "marker": {
          "color": "#1ac938",
          "opacity": 0,
          "size": 0
         },
         "mode": "markers",
         "showlegend": false,
         "type": "scattermapbox"
        },
        {
         "hoverinfo": "skip",
         "lat": [
          53.6454,
          53.6456
         ],
         "line": {
          "color": "#1ac938",
          "width": 2
         },
         "lon": [
          11.3732,
          11.3738
         ],
         "mode": "lines",
         "showlegend": false,
         "type": "scattermapbox"
        },
        {
         "hoverinfo": "text",
         "hovertext": "MV3.101 Line 15",
         "lat": [
          53.6455
         ],
         "lon": [
          11.3735
         ],
         "marker": {
          "color": "#1ac938",
          "opacity": 0,
          "size": 0
         },
         "mode": "markers",
         "showlegend": false,
         "type": "scattermapbox"
        },
        {
         "hoverinfo": "skip",
         "lat": [
          53.6429,
          53.6434
         ],
         "line": {
          "color": "#1ac938",
          "width": 2
         },
         "lon": [
          11.3815,
          11.3825
         ],
         "mode": "lines",
         "showlegend": false,
         "type": "scattermapbox"
        },
        {
         "hoverinfo": "text",
         "hovertext": "MV3.101 Line 114",
         "lat": [
          53.64315
         ],
         "lon": [
          11.382000000000001
         ],
         "marker": {
          "color": "#1ac938",
          "opacity": 0,
          "size": 0
         },
         "mode": "markers",
         "showlegend": false,
         "type": "scattermapbox"
        },
        {
         "hoverinfo": "skip",
         "lat": [
          53.6346,
          53.633
         ],
         "line": {
          "color": "#1ac938",
          "width": 2
         },
         "lon": [
          11.3656,
          11.3668
         ],
         "mode": "lines",
         "showlegend": false,
         "type": "scattermapbox"
        },
        {
         "hoverinfo": "text",
         "hovertext": "MV3.101 Line 101",
         "lat": [
          53.6338
         ],
         "lon": [
          11.3662
         ],
         "marker": {
          "color": "#1ac938",
          "opacity": 0,
          "size": 0
         },
         "mode": "markers",
         "showlegend": false,
         "type": "scattermapbox"
        },
        {
         "hoverinfo": "skip",
         "lat": [
          53.6443,
          53.6441
         ],
         "line": {
          "color": "#1ac938",
          "width": 2
         },
         "lon": [
          11.3619,
          11.3609
         ],
         "mode": "lines",
         "showlegend": false,
         "type": "scattermapbox"
        },
        {
         "hoverinfo": "text",
         "hovertext": "MV3.101 Line 88",
         "lat": [
          53.6442
         ],
         "lon": [
          11.3614
         ],
         "marker": {
          "color": "#1ac938",
          "opacity": 0,
          "size": 0
         },
         "mode": "markers",
         "showlegend": false,
         "type": "scattermapbox"
        },
        {
         "hoverinfo": "skip",
         "lat": [
          53.6492,
          53.6514
         ],
         "line": {
          "color": "#1ac938",
          "width": 2
         },
         "lon": [
          11.3656,
          11.3638
         ],
         "mode": "lines",
         "showlegend": false,
         "type": "scattermapbox"
        },
        {
         "hoverinfo": "text",
         "hovertext": "MV3.101 Line 44",
         "lat": [
          53.6503
         ],
         "lon": [
          11.3647
         ],
         "marker": {
          "color": "#1ac938",
          "opacity": 0,
          "size": 0
         },
         "mode": "markers",
         "showlegend": false,
         "type": "scattermapbox"
        },
        {
         "hoverinfo": "skip",
         "lat": [
          53.6411,
          53.6409
         ],
         "line": {
          "color": "#1ac938",
          "width": 2
         },
         "lon": [
          11.3715,
          11.3733
         ],
         "mode": "lines",
         "showlegend": false,
         "type": "scattermapbox"
        },
        {
         "hoverinfo": "text",
         "hovertext": "MV3.101 Line 5",
         "lat": [
          53.641000000000005
         ],
         "lon": [
          11.372399999999999
         ],
         "marker": {
          "color": "#1ac938",
          "opacity": 0,
          "size": 0
         },
         "mode": "markers",
         "showlegend": false,
         "type": "scattermapbox"
        },
        {
         "hoverinfo": "skip",
         "lat": [
          53.6472,
          53.6464
         ],
         "line": {
          "color": "#1ac938",
          "width": 2
         },
         "lon": [
          11.3833,
          11.3832
         ],
         "mode": "lines",
         "showlegend": false,
         "type": "scattermapbox"
        },
        {
         "hoverinfo": "text",
         "hovertext": "MV3.101 Line 125",
         "lat": [
          53.6468
         ],
         "lon": [
          11.38325
         ],
         "marker": {
          "color": "#1ac938",
          "opacity": 0,
          "size": 0
         },
         "mode": "markers",
         "showlegend": false,
         "type": "scattermapbox"
        },
        {
         "hoverinfo": "skip",
         "lat": [
          53.6579,
          53.6603
         ],
         "line": {
          "color": "#1ac938",
          "width": 2
         },
         "lon": [
          11.3634,
          11.3636
         ],
         "mode": "lines",
         "showlegend": false,
         "type": "scattermapbox"
        },
        {
         "hoverinfo": "text",
         "hovertext": "MV3.101 Line 47",
         "lat": [
          53.659099999999995
         ],
         "lon": [
          11.3635
         ],
         "marker": {
          "color": "#1ac938",
          "opacity": 0,
          "size": 0
         },
         "mode": "markers",
         "showlegend": false,
         "type": "scattermapbox"
        },
        {
         "hoverinfo": "skip",
         "lat": [
          53.6531,
          53.6545
         ],
         "line": {
          "color": "#1ac938",
          "width": 2
         },
         "lon": [
          11.3584,
          11.3581
         ],
         "mode": "lines",
         "showlegend": false,
         "type": "scattermapbox"
        },
        {
         "hoverinfo": "text",
         "hovertext": "MV3.101 Line 59",
         "lat": [
          53.653800000000004
         ],
         "lon": [
          11.35825
         ],
         "marker": {
          "color": "#1ac938",
          "opacity": 0,
          "size": 0
         },
         "mode": "markers",
         "showlegend": false,
         "type": "scattermapbox"
        },
        {
         "hoverinfo": "skip",
         "lat": [
          53.6538,
          53.6543
         ],
         "line": {
          "color": "#1ac938",
          "width": 2
         },
         "lon": [
          11.374,
          11.3751
         ],
         "mode": "lines",
         "showlegend": false,
         "type": "scattermapbox"
        },
        {
         "hoverinfo": "text",
         "hovertext": "MV3.101 Line 20",
         "lat": [
          53.65405
         ],
         "lon": [
          11.37455
         ],
         "marker": {
          "color": "#1ac938",
          "opacity": 0,
          "size": 0
         },
         "mode": "markers",
         "showlegend": false,
         "type": "scattermapbox"
        },
        {
         "hoverinfo": "skip",
         "lat": [
          53.6481,
          53.6481
         ],
         "line": {
          "color": "#1ac938",
          "width": 2
         },
         "lon": [
          11.3784,
          11.3819
         ],
         "mode": "lines",
         "showlegend": false,
         "type": "scattermapbox"
        },
        {
         "hoverinfo": "text",
         "hovertext": "MV3.101 Line 123",
         "lat": [
          53.6481
         ],
         "lon": [
          11.38015
         ],
         "marker": {
          "color": "#1ac938",
          "opacity": 0,
          "size": 0
         },
         "mode": "markers",
         "showlegend": false,
         "type": "scattermapbox"
        },
        {
         "hoverinfo": "skip",
         "lat": [
          53.6297,
          53.6286
         ],
         "line": {
          "color": "#1ac938",
          "width": 2
         },
         "lon": [
          11.3739,
          11.3737
         ],
         "mode": "lines",
         "showlegend": false,
         "type": "scattermapbox"
        },
        {
         "hoverinfo": "text",
         "hovertext": "MV3.101 Line 108",
         "lat": [
          53.629149999999996
         ],
         "lon": [
          11.3738
         ],
         "marker": {
          "color": "#1ac938",
          "opacity": 0,
          "size": 0
         },
         "mode": "markers",
         "showlegend": false,
         "type": "scattermapbox"
        },
        {
         "hoverinfo": "skip",
         "lat": [
          53.6567,
          53.6559
         ],
         "line": {
          "color": "#1ac938",
          "width": 2
         },
         "lon": [
          11.3529,
          11.3519
         ],
         "mode": "lines",
         "showlegend": false,
         "type": "scattermapbox"
        },
        {
         "hoverinfo": "text",
         "hovertext": "MV3.101 Line 62",
         "lat": [
          53.6563
         ],
         "lon": [
          11.3524
         ],
         "marker": {
          "color": "#1ac938",
          "opacity": 0,
          "size": 0
         },
         "mode": "markers",
         "showlegend": false,
         "type": "scattermapbox"
        },
        {
         "hoverinfo": "skip",
         "lat": [
          53.6455,
          53.6455
         ],
         "line": {
          "color": "#1ac938",
          "width": 2
         },
         "lon": [
          11.3798,
          11.3809
         ],
         "mode": "lines",
         "showlegend": false,
         "type": "scattermapbox"
        },
        {
         "hoverinfo": "text",
         "hovertext": "MV3.101 Line 119",
         "lat": [
          53.6455
         ],
         "lon": [
          11.38035
         ],
         "marker": {
          "color": "#1ac938",
          "opacity": 0,
          "size": 0
         },
         "mode": "markers",
         "showlegend": false,
         "type": "scattermapbox"
        },
        {
         "hoverinfo": "skip",
         "lat": [
          53.6456,
          53.6454
         ],
         "line": {
          "color": "#1ac938",
          "width": 2
         },
         "lon": [
          11.3752,
          11.3762
         ],
         "mode": "lines",
         "showlegend": false,
         "type": "scattermapbox"
        },
        {
         "hoverinfo": "text",
         "hovertext": "MV3.101 Line 116",
         "lat": [
          53.6455
         ],
         "lon": [
          11.3757
         ],
         "marker": {
          "color": "#1ac938",
          "opacity": 0,
          "size": 0
         },
         "mode": "markers",
         "showlegend": false,
         "type": "scattermapbox"
        },
        {
         "hoverinfo": "skip",
         "lat": [
          53.6417,
          53.6389
         ],
         "line": {
          "color": "#1ac938",
          "width": 2
         },
         "lon": [
          11.368,
          11.3669
         ],
         "mode": "lines",
         "showlegend": false,
         "type": "scattermapbox"
        },
        {
         "hoverinfo": "text",
         "hovertext": "MV3.101 Line 97",
         "lat": [
          53.640299999999996
         ],
         "lon": [
          11.36745
         ],
         "marker": {
          "color": "#1ac938",
          "opacity": 0,
          "size": 0
         },
         "mode": "markers",
         "showlegend": false,
         "type": "scattermapbox"
        },
        {
         "hoverinfo": "skip",
         "lat": [
          53.6332,
          53.6312
         ],
         "line": {
          "color": "#1ac938",
          "width": 2
         },
         "lon": [
          11.3633,
          11.3627
         ],
         "mode": "lines",
         "showlegend": false,
         "type": "scattermapbox"
        },
        {
         "hoverinfo": "text",
         "hovertext": "MV3.101 Line 77",
         "lat": [
          53.6322
         ],
         "lon": [
          11.363
         ],
         "marker": {
          "color": "#1ac938",
          "opacity": 0,
          "size": 0
         },
         "mode": "markers",
         "showlegend": false,
         "type": "scattermapbox"
        },
        {
         "hoverinfo": "skip",
         "lat": [
          53.6462,
          53.6469
         ],
         "line": {
          "color": "#1ac938",
          "width": 2
         },
         "lon": [
          11.3691,
          11.3688
         ],
         "mode": "lines",
         "showlegend": false,
         "type": "scattermapbox"
        },
        {
         "hoverinfo": "text",
         "hovertext": "MV3.101 Line 32",
         "lat": [
          53.646550000000005
         ],
         "lon": [
          11.36895
         ],
         "marker": {
          "color": "#1ac938",
          "opacity": 0,
          "size": 0
         },
         "mode": "markers",
         "showlegend": false,
         "type": "scattermapbox"
        },
        {
         "hoverinfo": "skip",
         "lat": [
          53.6464,
          53.6438
         ],
         "line": {
          "color": "#1ac938",
          "width": 2
         },
         "lon": [
          11.3745,
          11.3767
         ],
         "mode": "lines",
         "showlegend": false,
         "type": "scattermapbox"
        },
        {
         "hoverinfo": "text",
         "hovertext": "MV3.101 Line 109",
         "lat": [
          53.6451
         ],
         "lon": [
          11.375599999999999
         ],
         "marker": {
          "color": "#1ac938",
          "opacity": 0,
          "size": 0
         },
         "mode": "markers",
         "showlegend": false,
         "type": "scattermapbox"
        },
        {
         "hoverinfo": "skip",
         "lat": [
          53.6438,
          53.6431
         ],
         "line": {
          "color": "#1ac938",
          "width": 2
         },
         "lon": [
          11.3767,
          11.3783
         ],
         "mode": "lines",
         "showlegend": false,
         "type": "scattermapbox"
        },
        {
         "hoverinfo": "text",
         "hovertext": "MV3.101 Line 110",
         "lat": [
          53.64345
         ],
         "lon": [
          11.3775
         ],
         "marker": {
          "color": "#1ac938",
          "opacity": 0,
          "size": 0
         },
         "mode": "markers",
         "showlegend": false,
         "type": "scattermapbox"
        },
        {
         "hoverinfo": "skip",
         "lat": [
          53.6477,
          53.6482
         ],
         "line": {
          "color": "#1ac938",
          "width": 2
         },
         "lon": [
          11.3641,
          11.3627
         ],
         "mode": "lines",
         "showlegend": false,
         "type": "scattermapbox"
        },
        {
         "hoverinfo": "text",
         "hovertext": "MV3.101 Line 52",
         "lat": [
          53.64795
         ],
         "lon": [
          11.3634
         ],
         "marker": {
          "color": "#1ac938",
          "opacity": 0,
          "size": 0
         },
         "mode": "markers",
         "showlegend": false,
         "type": "scattermapbox"
        },
        {
         "hoverinfo": "skip",
         "lat": [
          53.6456,
          53.6454
         ],
         "line": {
          "color": "#1ac938",
          "width": 2
         },
         "lon": [
          11.3692,
          11.3706
         ],
         "mode": "lines",
         "showlegend": false,
         "type": "scattermapbox"
        },
        {
         "hoverinfo": "text",
         "hovertext": "MV3.101 Line 12",
         "lat": [
          53.6455
         ],
         "lon": [
          11.3699
         ],
         "marker": {
          "color": "#1ac938",
          "opacity": 0,
          "size": 0
         },
         "mode": "markers",
         "showlegend": false,
         "type": "scattermapbox"
        },
        {
         "hoverinfo": "skip",
         "lat": [
          53.6541,
          53.6572
         ],
         "line": {
          "color": "#1ac938",
          "width": 2
         },
         "lon": [
          11.3682,
          11.3686
         ],
         "mode": "lines",
         "showlegend": false,
         "type": "scattermapbox"
        },
        {
         "hoverinfo": "text",
         "hovertext": "MV3.101 Line 37",
         "lat": [
          53.65565
         ],
         "lon": [
          11.368400000000001
         ],
         "marker": {
          "color": "#1ac938",
          "opacity": 0,
          "size": 0
         },
         "mode": "markers",
         "showlegend": false,
         "type": "scattermapbox"
        },
        {
         "hoverinfo": "skip",
         "lat": [
          53.6502,
          53.6501
         ],
         "line": {
          "color": "#1ac938",
          "width": 2
         },
         "lon": [
          11.3805,
          11.3811
         ],
         "mode": "lines",
         "showlegend": false,
         "type": "scattermapbox"
        },
        {
         "hoverinfo": "text",
         "hovertext": "MV3.101 Line 132",
         "lat": [
          53.65015
         ],
         "lon": [
          11.3808
         ],
         "marker": {
          "color": "#1ac938",
          "opacity": 0,
          "size": 0
         },
         "mode": "markers",
         "showlegend": false,
         "type": "scattermapbox"
        },
        {
         "hoverinfo": "skip",
         "lat": [
          53.638,
          53.6371
         ],
         "line": {
          "color": "#1ac938",
          "width": 2
         },
         "lon": [
          11.3719,
          11.3721
         ],
         "mode": "lines",
         "showlegend": false,
         "type": "scattermapbox"
        },
        {
         "hoverinfo": "text",
         "hovertext": "MV3.101 Line 11",
         "lat": [
          53.63755
         ],
         "lon": [
          11.372
         ],
         "marker": {
          "color": "#1ac938",
          "opacity": 0,
          "size": 0
         },
         "mode": "markers",
         "showlegend": false,
         "type": "scattermapbox"
        },
        {
         "hoverinfo": "skip",
         "lat": [
          53.6454,
          53.6455
         ],
         "line": {
          "color": "#1ac938",
          "width": 2
         },
         "lon": [
          11.3776,
          11.3798
         ],
         "mode": "lines",
         "showlegend": false,
         "type": "scattermapbox"
        },
        {
         "hoverinfo": "text",
         "hovertext": "MV3.101 Line 118",
         "lat": [
          53.64545
         ],
         "lon": [
          11.378699999999998
         ],
         "marker": {
          "color": "#1ac938",
          "opacity": 0,
          "size": 0
         },
         "mode": "markers",
         "showlegend": false,
         "type": "scattermapbox"
        },
        {
         "hoverinfo": "skip",
         "lat": [
          53.6261,
          53.624
         ],
         "line": {
          "color": "#1ac938",
          "width": 2
         },
         "lon": [
          11.3638,
          11.366
         ],
         "mode": "lines",
         "showlegend": false,
         "type": "scattermapbox"
        },
        {
         "hoverinfo": "text",
         "hovertext": "MV3.101 Line 81",
         "lat": [
          53.62505
         ],
         "lon": [
          11.364899999999999
         ],
         "marker": {
          "color": "#1ac938",
          "opacity": 0,
          "size": 0
         },
         "mode": "markers",
         "showlegend": false,
         "type": "scattermapbox"
        },
        {
         "hoverinfo": "skip",
         "lat": [
          53.6481,
          53.6499
         ],
         "line": {
          "color": "#1ac938",
          "width": 2
         },
         "lon": [
          11.3752,
          11.3773
         ],
         "mode": "lines",
         "showlegend": false,
         "type": "scattermapbox"
        },
        {
         "hoverinfo": "text",
         "hovertext": "MV3.101 Line 129",
         "lat": [
          53.649
         ],
         "lon": [
          11.376249999999999
         ],
         "marker": {
          "color": "#1ac938",
          "opacity": 0,
          "size": 0
         },
         "mode": "markers",
         "showlegend": false,
         "type": "scattermapbox"
        },
        {
         "hoverinfo": "skip",
         "lat": [
          53.6456,
          53.6453
         ],
         "line": {
          "color": "#1ac938",
          "width": 2
         },
         "lon": [
          11.3692,
          11.3665
         ],
         "mode": "lines",
         "showlegend": false,
         "type": "scattermapbox"
        },
        {
         "hoverinfo": "text",
         "hovertext": "MV3.101 Line 84",
         "lat": [
          53.64545
         ],
         "lon": [
          11.36785
         ],
         "marker": {
          "color": "#1ac938",
          "opacity": 0,
          "size": 0
         },
         "mode": "markers",
         "showlegend": false,
         "type": "scattermapbox"
        },
        {
         "hoverinfo": "skip",
         "lat": [
          53.6585,
          53.6592
         ],
         "line": {
          "color": "#1ac938",
          "width": 2
         },
         "lon": [
          11.3687,
          11.3686
         ],
         "mode": "lines",
         "showlegend": false,
         "type": "scattermapbox"
        },
        {
         "hoverinfo": "text",
         "hovertext": "MV3.101 Line 39",
         "lat": [
          53.65885
         ],
         "lon": [
          11.36865
         ],
         "marker": {
          "color": "#1ac938",
          "opacity": 0,
          "size": 0
         },
         "mode": "markers",
         "showlegend": false,
         "type": "scattermapbox"
        },
        {
         "hoverinfo": "skip",
         "lat": [
          53.6341,
          53.6328
         ],
         "line": {
          "color": "#1ac938",
          "width": 2
         },
         "lon": [
          11.3724,
          11.3733
         ],
         "mode": "lines",
         "showlegend": false,
         "type": "scattermapbox"
        },
        {
         "hoverinfo": "text",
         "hovertext": "MV3.101 Line 105",
         "lat": [
          53.633449999999996
         ],
         "lon": [
          11.37285
         ],
         "marker": {
          "color": "#1ac938",
          "opacity": 0,
          "size": 0
         },
         "mode": "markers",
         "showlegend": false,
         "type": "scattermapbox"
        },
        {
         "hoverinfo": "skip",
         "lat": [
          53.6519,
          53.651
         ],
         "line": {
          "color": "#1ac938",
          "width": 2
         },
         "lon": [
          11.3805,
          11.3807
         ],
         "mode": "lines",
         "showlegend": false,
         "type": "scattermapbox"
        },
        {
         "hoverinfo": "text",
         "hovertext": "MV3.101 Line 25",
         "lat": [
          53.65145
         ],
         "lon": [
          11.3806
         ],
         "marker": {
          "color": "#1ac938",
          "opacity": 0,
          "size": 0
         },
         "mode": "markers",
         "showlegend": false,
         "type": "scattermapbox"
        },
        {
         "hoverinfo": "skip",
         "lat": [
          53.641,
          53.6415
         ],
         "line": {
          "color": "#1ac938",
          "width": 2
         },
         "lon": [
          11.3767,
          11.3776
         ],
         "mode": "lines",
         "showlegend": false,
         "type": "scattermapbox"
        },
        {
         "hoverinfo": "text",
         "hovertext": "MV3.101 Line 7",
         "lat": [
          53.64125
         ],
         "lon": [
          11.37715
         ],
         "marker": {
          "color": "#1ac938",
          "opacity": 0,
          "size": 0
         },
         "mode": "markers",
         "showlegend": false,
         "type": "scattermapbox"
        },
        {
         "hoverinfo": "skip",
         "lat": [
          53.6406,
          53.6384
         ],
         "line": {
          "color": "#1ac938",
          "width": 2
         },
         "lon": [
          11.3654,
          11.364
         ],
         "mode": "lines",
         "showlegend": false,
         "type": "scattermapbox"
        },
        {
         "hoverinfo": "text",
         "hovertext": "MV3.101 Line 73",
         "lat": [
          53.6395
         ],
         "lon": [
          11.3647
         ],
         "marker": {
          "color": "#1ac938",
          "opacity": 0,
          "size": 0
         },
         "mode": "markers",
         "showlegend": false,
         "type": "scattermapbox"
        },
        {
         "hoverinfo": "skip",
         "lat": [
          53.6437,
          53.6439
         ],
         "line": {
          "color": "#1ac938",
          "width": 2
         },
         "lon": [
          11.3577,
          11.3558
         ],
         "mode": "lines",
         "showlegend": false,
         "type": "scattermapbox"
        },
        {
         "hoverinfo": "text",
         "hovertext": "MV3.101 Line 90",
         "lat": [
          53.6438
         ],
         "lon": [
          11.35675
         ],
         "marker": {
          "color": "#1ac938",
          "opacity": 0,
          "size": 0
         },
         "mode": "markers",
         "showlegend": false,
         "type": "scattermapbox"
        },
        {
         "hoverinfo": "skip",
         "lat": [
          53.6464,
          53.6469
         ],
         "line": {
          "color": "#1ac938",
          "width": 2
         },
         "lon": [
          11.3745,
          11.3746
         ],
         "mode": "lines",
         "showlegend": false,
         "type": "scattermapbox"
        },
        {
         "hoverinfo": "text",
         "hovertext": "MV3.101 Line 126",
         "lat": [
          53.64665
         ],
         "lon": [
          11.37455
         ],
         "marker": {
          "color": "#1ac938",
          "opacity": 0,
          "size": 0
         },
         "mode": "markers",
         "showlegend": false,
         "type": "scattermapbox"
        },
        {
         "hoverinfo": "skip",
         "lat": [
          53.6482,
          53.6489
         ],
         "line": {
          "color": "#1ac938",
          "width": 2
         },
         "lon": [
          11.3627,
          11.3604
         ],
         "mode": "lines",
         "showlegend": false,
         "type": "scattermapbox"
        },
        {
         "hoverinfo": "text",
         "hovertext": "MV3.101 Line 53",
         "lat": [
          53.64855
         ],
         "lon": [
          11.361550000000001
         ],
         "marker": {
          "color": "#1ac938",
          "opacity": 0,
          "size": 0
         },
         "mode": "markers",
         "showlegend": false,
         "type": "scattermapbox"
        },
        {
         "hoverinfo": "skip",
         "lat": [
          53.6397,
          53.638
         ],
         "line": {
          "color": "#1ac938",
          "width": 2
         },
         "lon": [
          11.3715,
          11.3719
         ],
         "mode": "lines",
         "showlegend": false,
         "type": "scattermapbox"
        },
        {
         "hoverinfo": "text",
         "hovertext": "MV3.101 Line 10",
         "lat": [
          53.63885
         ],
         "lon": [
          11.3717
         ],
         "marker": {
          "color": "#1ac938",
          "opacity": 0,
          "size": 0
         },
         "mode": "markers",
         "showlegend": false,
         "type": "scattermapbox"
        },
        {
         "hoverinfo": "skip",
         "lat": [
          53.6514,
          53.6544
         ],
         "line": {
          "color": "#1ac938",
          "width": 2
         },
         "lon": [
          11.3638,
          11.3637
         ],
         "mode": "lines",
         "showlegend": false,
         "type": "scattermapbox"
        },
        {
         "hoverinfo": "text",
         "hovertext": "MV3.101 Line 45",
         "lat": [
          53.6529
         ],
         "lon": [
          11.36375
         ],
         "marker": {
          "color": "#1ac938",
          "opacity": 0,
          "size": 0
         },
         "mode": "markers",
         "showlegend": false,
         "type": "scattermapbox"
        },
        {
         "hoverinfo": "skip",
         "lat": [
          53.6434,
          53.642
         ],
         "line": {
          "color": "#1ac938",
          "width": 2
         },
         "lon": [
          11.3674,
          11.3663
         ],
         "mode": "lines",
         "showlegend": false,
         "type": "scattermapbox"
        },
        {
         "hoverinfo": "text",
         "hovertext": "MV3.101 Line 70",
         "lat": [
          53.642700000000005
         ],
         "lon": [
          11.36685
         ],
         "marker": {
          "color": "#1ac938",
          "opacity": 0,
          "size": 0
         },
         "mode": "markers",
         "showlegend": false,
         "type": "scattermapbox"
        },
        {
         "hoverinfo": "skip",
         "lat": [
          53.6543,
          53.6545
         ],
         "line": {
          "color": "#1ac938",
          "width": 2
         },
         "lon": [
          11.3751,
          11.3756
         ],
         "mode": "lines",
         "showlegend": false,
         "type": "scattermapbox"
        },
        {
         "hoverinfo": "text",
         "hovertext": "MV3.101 Line 21",
         "lat": [
          53.654399999999995
         ],
         "lon": [
          11.375350000000001
         ],
         "marker": {
          "color": "#1ac938",
          "opacity": 0,
          "size": 0
         },
         "mode": "markers",
         "showlegend": false,
         "type": "scattermapbox"
        },
        {
         "hoverinfo": "skip",
         "lat": [
          53.6363,
          53.6346
         ],
         "line": {
          "color": "#1ac938",
          "width": 2
         },
         "lon": [
          11.3661,
          11.3656
         ],
         "mode": "lines",
         "showlegend": false,
         "type": "scattermapbox"
        },
        {
         "hoverinfo": "text",
         "hovertext": "MV3.101 Line 100",
         "lat": [
          53.63545
         ],
         "lon": [
          11.36585
         ],
         "marker": {
          "color": "#1ac938",
          "opacity": 0,
          "size": 0
         },
         "mode": "markers",
         "showlegend": false,
         "type": "scattermapbox"
        },
        {
         "hoverinfo": "skip",
         "lat": [
          53.6411,
          53.6397
         ],
         "line": {
          "color": "#1ac938",
          "width": 2
         },
         "lon": [
          11.3715,
          11.3715
         ],
         "mode": "lines",
         "showlegend": false,
         "type": "scattermapbox"
        },
        {
         "hoverinfo": "text",
         "hovertext": "MV3.101 Line 9",
         "lat": [
          53.6404
         ],
         "lon": [
          11.3715
         ],
         "marker": {
          "color": "#1ac938",
          "opacity": 0,
          "size": 0
         },
         "mode": "markers",
         "showlegend": false,
         "type": "scattermapbox"
        },
        {
         "hoverinfo": "skip",
         "lat": [
          53.6456,
          53.6459
         ],
         "line": {
          "color": "#1ac938",
          "width": 2
         },
         "lon": [
          11.3692,
          11.3687
         ],
         "mode": "lines",
         "showlegend": false,
         "type": "scattermapbox"
        },
        {
         "hoverinfo": "text",
         "hovertext": "MV3.101 Line 41",
         "lat": [
          53.64575
         ],
         "lon": [
          11.36895
         ],
         "marker": {
          "color": "#1ac938",
          "opacity": 0,
          "size": 0
         },
         "mode": "markers",
         "showlegend": false,
         "type": "scattermapbox"
        },
        {
         "hoverinfo": "skip",
         "lat": [
          53.6499,
          53.6501
         ],
         "line": {
          "color": "#1ac938",
          "width": 2
         },
         "lon": [
          11.3773,
          11.3779
         ],
         "mode": "lines",
         "showlegend": false,
         "type": "scattermapbox"
        },
        {
         "hoverinfo": "text",
         "hovertext": "MV3.101 Line 130",
         "lat": [
          53.650000000000006
         ],
         "lon": [
          11.377600000000001
         ],
         "marker": {
          "color": "#1ac938",
          "opacity": 0,
          "size": 0
         },
         "mode": "markers",
         "showlegend": false,
         "type": "scattermapbox"
        },
        {
         "hoverinfo": "skip",
         "lat": [
          53.6431,
          53.6429
         ],
         "line": {
          "color": "#1ac938",
          "width": 2
         },
         "lon": [
          11.3783,
          11.3789
         ],
         "mode": "lines",
         "showlegend": false,
         "type": "scattermapbox"
        },
        {
         "hoverinfo": "text",
         "hovertext": "MV3.101 Line 111",
         "lat": [
          53.643
         ],
         "lon": [
          11.378599999999999
         ],
         "marker": {
          "color": "#1ac938",
          "opacity": 0,
          "size": 0
         },
         "mode": "markers",
         "showlegend": false,
         "type": "scattermapbox"
        },
        {
         "hoverinfo": "skip",
         "lat": [
          53.6504,
          53.6516
         ],
         "line": {
          "color": "#1ac938",
          "width": 2
         },
         "lon": [
          11.357,
          11.3561
         ],
         "mode": "lines",
         "showlegend": false,
         "type": "scattermapbox"
        },
        {
         "hoverinfo": "text",
         "hovertext": "MV3.101 Line 56",
         "lat": [
          53.650999999999996
         ],
         "lon": [
          11.356549999999999
         ],
         "marker": {
          "color": "#1ac938",
          "opacity": 0,
          "size": 0
         },
         "mode": "markers",
         "showlegend": false,
         "type": "scattermapbox"
        },
        {
         "hoverinfo": "skip",
         "lat": [
          53.6537,
          53.6521
         ],
         "line": {
          "color": "#1ac938",
          "width": 2
         },
         "lon": [
          11.3524,
          11.3535
         ],
         "mode": "lines",
         "showlegend": false,
         "type": "scattermapbox"
        },
        {
         "hoverinfo": "text",
         "hovertext": "MV3.101 Line 65",
         "lat": [
          53.6529
         ],
         "lon": [
          11.35295
         ],
         "marker": {
          "color": "#1ac938",
          "opacity": 0,
          "size": 0
         },
         "mode": "markers",
         "showlegend": false,
         "type": "scattermapbox"
        },
        {
         "hoverinfo": "skip",
         "lat": [
          53.6489,
          53.6511
         ],
         "line": {
          "color": "#1ac938",
          "width": 2
         },
         "lon": [
          11.3683,
          11.3682
         ],
         "mode": "lines",
         "showlegend": false,
         "type": "scattermapbox"
        },
        {
         "hoverinfo": "text",
         "hovertext": "MV3.101 Line 34",
         "lat": [
          53.65
         ],
         "lon": [
          11.36825
         ],
         "marker": {
          "color": "#1ac938",
          "opacity": 0,
          "size": 0
         },
         "mode": "markers",
         "showlegend": false,
         "type": "scattermapbox"
        },
        {
         "hoverinfo": "skip",
         "lat": [
          53.6441,
          53.6425
         ],
         "line": {
          "color": "#1ac938",
          "width": 2
         },
         "lon": [
          11.3699,
          11.3707
         ],
         "mode": "lines",
         "showlegend": false,
         "type": "scattermapbox"
        },
        {
         "hoverinfo": "text",
         "hovertext": "MV3.101 Line 2",
         "lat": [
          53.643299999999996
         ],
         "lon": [
          11.3703
         ],
         "marker": {
          "color": "#1ac938",
          "opacity": 0,
          "size": 0
         },
         "mode": "markers",
         "showlegend": false,
         "type": "scattermapbox"
        },
        {
         "hoverinfo": "skip",
         "lat": [
          53.6544,
          53.6534
         ],
         "line": {
          "color": "#1ac938",
          "width": 2
         },
         "lon": [
          11.3777,
          11.3794
         ],
         "mode": "lines",
         "showlegend": false,
         "type": "scattermapbox"
        },
        {
         "hoverinfo": "text",
         "hovertext": "MV3.101 Line 23",
         "lat": [
          53.6539
         ],
         "lon": [
          11.37855
         ],
         "marker": {
          "color": "#1ac938",
          "opacity": 0,
          "size": 0
         },
         "mode": "markers",
         "showlegend": false,
         "type": "scattermapbox"
        },
        {
         "hoverinfo": "skip",
         "lat": [
          53.6479,
          53.6481
         ],
         "line": {
          "color": "#1ac938",
          "width": 2
         },
         "lon": [
          11.3773,
          11.3784
         ],
         "mode": "lines",
         "showlegend": false,
         "type": "scattermapbox"
        },
        {
         "hoverinfo": "text",
         "hovertext": "MV3.101 Line 122",
         "lat": [
          53.647999999999996
         ],
         "lon": [
          11.377849999999999
         ],
         "marker": {
          "color": "#1ac938",
          "opacity": 0,
          "size": 0
         },
         "mode": "markers",
         "showlegend": false,
         "type": "scattermapbox"
        },
        {
         "hoverinfo": "skip",
         "lat": [
          53.6501,
          53.6502
         ],
         "line": {
          "color": "#1ac938",
          "width": 2
         },
         "lon": [
          11.3779,
          11.3805
         ],
         "mode": "lines",
         "showlegend": false,
         "type": "scattermapbox"
        },
        {
         "hoverinfo": "text",
         "hovertext": "MV3.101 Line 131",
         "lat": [
          53.65015
         ],
         "lon": [
          11.3792
         ],
         "marker": {
          "color": "#1ac938",
          "opacity": 0,
          "size": 0
         },
         "mode": "markers",
         "showlegend": false,
         "type": "scattermapbox"
        },
        {
         "hoverinfo": "skip",
         "lat": [
          53.645,
          53.6448
         ],
         "line": {
          "color": "#1ac938",
          "width": 2
         },
         "lon": [
          11.3649,
          11.364
         ],
         "mode": "lines",
         "showlegend": false,
         "type": "scattermapbox"
        },
        {
         "hoverinfo": "text",
         "hovertext": "MV3.101 Line 86",
         "lat": [
          53.6449
         ],
         "lon": [
          11.364450000000001
         ],
         "marker": {
          "color": "#1ac938",
          "opacity": 0,
          "size": 0
         },
         "mode": "markers",
         "showlegend": false,
         "type": "scattermapbox"
        },
        {
         "hoverinfo": "skip",
         "lat": [
          53.6303,
          53.6285
         ],
         "line": {
          "color": "#1ac938",
          "width": 2
         },
         "lon": [
          11.3626,
          11.3627
         ],
         "mode": "lines",
         "showlegend": false,
         "type": "scattermapbox"
        },
        {
         "hoverinfo": "text",
         "hovertext": "MV3.101 Line 79",
         "lat": [
          53.629400000000004
         ],
         "lon": [
          11.36265
         ],
         "marker": {
          "color": "#1ac938",
          "opacity": 0,
          "size": 0
         },
         "mode": "markers",
         "showlegend": false,
         "type": "scattermapbox"
        },
        {
         "hoverinfo": "skip",
         "lat": [
          53.6485,
          53.6505
         ],
         "line": {
          "color": "#1ac938",
          "width": 2
         },
         "lon": [
          11.3698,
          11.3708
         ],
         "mode": "lines",
         "showlegend": false,
         "type": "scattermapbox"
        },
        {
         "hoverinfo": "text",
         "hovertext": "MV3.101 Line 17",
         "lat": [
          53.6495
         ],
         "lon": [
          11.3703
         ],
         "marker": {
          "color": "#1ac938",
          "opacity": 0,
          "size": 0
         },
         "mode": "markers",
         "showlegend": false,
         "type": "scattermapbox"
        },
        {
         "hoverinfo": "skip",
         "lat": [
          53.6409,
          53.641
         ],
         "line": {
          "color": "#1ac938",
          "width": 2
         },
         "lon": [
          11.3733,
          11.3767
         ],
         "mode": "lines",
         "showlegend": false,
         "type": "scattermapbox"
        },
        {
         "hoverinfo": "text",
         "hovertext": "MV3.101 Line 6",
         "lat": [
          53.640950000000004
         ],
         "lon": [
          11.375
         ],
         "marker": {
          "color": "#1ac938",
          "opacity": 0,
          "size": 0
         },
         "mode": "markers",
         "showlegend": false,
         "type": "scattermapbox"
        },
        {
         "hoverinfo": "skip",
         "lat": [
          53.634,
          53.6332
         ],
         "line": {
          "color": "#1ac938",
          "width": 2
         },
         "lon": [
          11.3636,
          11.3633
         ],
         "mode": "lines",
         "showlegend": false,
         "type": "scattermapbox"
        },
        {
         "hoverinfo": "text",
         "hovertext": "MV3.101 Line 76",
         "lat": [
          53.6336
         ],
         "lon": [
          11.36345
         ],
         "marker": {
          "color": "#1ac938",
          "opacity": 0,
          "size": 0
         },
         "mode": "markers",
         "showlegend": false,
         "type": "scattermapbox"
        },
        {
         "hoverinfo": "skip",
         "lat": [
          53.6436,
          53.6417
         ],
         "line": {
          "color": "#1ac938",
          "width": 2
         },
         "lon": [
          11.3686,
          11.368
         ],
         "mode": "lines",
         "showlegend": false,
         "type": "scattermapbox"
        },
        {
         "hoverinfo": "text",
         "hovertext": "MV3.101 Line 96",
         "lat": [
          53.64265
         ],
         "lon": [
          11.368300000000001
         ],
         "marker": {
          "color": "#1ac938",
          "opacity": 0,
          "size": 0
         },
         "mode": "markers",
         "showlegend": false,
         "type": "scattermapbox"
        },
        {
         "hoverinfo": "skip",
         "lat": [
          53.6421,
          53.6411
         ],
         "line": {
          "color": "#1ac938",
          "width": 2
         },
         "lon": [
          11.3708,
          11.3715
         ],
         "mode": "lines",
         "showlegend": false,
         "type": "scattermapbox"
        },
        {
         "hoverinfo": "text",
         "hovertext": "MV3.101 Line 4",
         "lat": [
          53.6416
         ],
         "lon": [
          11.37115
         ],
         "marker": {
          "color": "#1ac938",
          "opacity": 0,
          "size": 0
         },
         "mode": "markers",
         "showlegend": false,
         "type": "scattermapbox"
        },
        {
         "hoverinfo": "skip",
         "lat": [
          53.6441,
          53.6437
         ],
         "line": {
          "color": "#1ac938",
          "width": 2
         },
         "lon": [
          11.3609,
          11.3577
         ],
         "mode": "lines",
         "showlegend": false,
         "type": "scattermapbox"
        },
        {
         "hoverinfo": "text",
         "hovertext": "MV3.101 Line 89",
         "lat": [
          53.6439
         ],
         "lon": [
          11.359300000000001
         ],
         "marker": {
          "color": "#1ac938",
          "opacity": 0,
          "size": 0
         },
         "mode": "markers",
         "showlegend": false,
         "type": "scattermapbox"
        },
        {
         "hoverinfo": "skip",
         "lat": [
          53.6445,
          53.6434
         ],
         "line": {
          "color": "#1ac938",
          "width": 2
         },
         "lon": [
          11.3683,
          11.3674
         ],
         "mode": "lines",
         "showlegend": false,
         "type": "scattermapbox"
        },
        {
         "hoverinfo": "text",
         "hovertext": "MV3.101 Line 69",
         "lat": [
          53.643950000000004
         ],
         "lon": [
          11.36785
         ],
         "marker": {
          "color": "#1ac938",
          "opacity": 0,
          "size": 0
         },
         "mode": "markers",
         "showlegend": false,
         "type": "scattermapbox"
        },
        {
         "hoverinfo": "skip",
         "lat": [
          53.6456,
          53.6464
         ],
         "line": {
          "color": "#1ac938",
          "width": 2
         },
         "lon": [
          11.3692,
          11.3745
         ],
         "mode": "lines",
         "showlegend": false,
         "type": "scattermapbox"
        },
        {
         "hoverinfo": "text",
         "hovertext": "MV3.101 Reserve line",
         "lat": [
          53.646
         ],
         "lon": [
          11.371849999999998
         ],
         "marker": {
          "color": "#1ac938",
          "opacity": 0,
          "size": 0
         },
         "mode": "markers",
         "showlegend": false,
         "type": "scattermapbox"
        },
        {
         "hoverinfo": "skip",
         "lat": [
          53.6534,
          53.6519
         ],
         "line": {
          "color": "#1ac938",
          "width": 2
         },
         "lon": [
          11.3794,
          11.3805
         ],
         "mode": "lines",
         "showlegend": false,
         "type": "scattermapbox"
        },
        {
         "hoverinfo": "text",
         "hovertext": "MV3.101 Line 24",
         "lat": [
          53.652649999999994
         ],
         "lon": [
          11.379950000000001
         ],
         "marker": {
          "color": "#1ac938",
          "opacity": 0,
          "size": 0
         },
         "mode": "markers",
         "showlegend": false,
         "type": "scattermapbox"
        },
        {
         "hoverinfo": "skip",
         "lat": [
          53.6464,
          53.6456
         ],
         "line": {
          "color": "#1ac938",
          "width": 2
         },
         "lon": [
          11.3745,
          11.3752
         ],
         "mode": "lines",
         "showlegend": false,
         "type": "scattermapbox"
        },
        {
         "hoverinfo": "text",
         "hovertext": "MV3.101 Line 115",
         "lat": [
          53.646
         ],
         "lon": [
          11.374849999999999
         ],
         "marker": {
          "color": "#1ac938",
          "opacity": 0,
          "size": 0
         },
         "mode": "markers",
         "showlegend": false,
         "type": "scattermapbox"
        },
        {
         "hoverinfo": "skip",
         "lat": [
          53.6415,
          53.6422
         ],
         "line": {
          "color": "#1ac938",
          "width": 2
         },
         "lon": [
          11.3776,
          11.3784
         ],
         "mode": "lines",
         "showlegend": false,
         "type": "scattermapbox"
        },
        {
         "hoverinfo": "text",
         "hovertext": "MV3.101 Line 8",
         "lat": [
          53.641850000000005
         ],
         "lon": [
          11.378
         ],
         "marker": {
          "color": "#1ac938",
          "opacity": 0,
          "size": 0
         },
         "mode": "markers",
         "showlegend": false,
         "type": "scattermapbox"
        },
        {
         "hoverinfo": "skip",
         "lat": [
          53.6456,
          53.6451
         ],
         "line": {
          "color": "#1ac938",
          "width": 2
         },
         "lon": [
          11.3692,
          11.369
         ],
         "mode": "lines",
         "showlegend": false,
         "type": "scattermapbox"
        },
        {
         "hoverinfo": "text",
         "hovertext": "MV3.101 Line 67",
         "lat": [
          53.64535
         ],
         "lon": [
          11.3691
         ],
         "marker": {
          "color": "#1ac938",
          "opacity": 0,
          "size": 0
         },
         "mode": "markers",
         "showlegend": false,
         "type": "scattermapbox"
        },
        {
         "hoverinfo": "skip",
         "lat": [
          53.6492,
          53.6464
         ],
         "line": {
          "color": "#1ac938",
          "width": 2
         },
         "lon": [
          11.372,
          11.3721
         ],
         "mode": "lines",
         "showlegend": false,
         "type": "scattermapbox"
        },
        {
         "hoverinfo": "text",
         "hovertext": "MV3.101 Line 30",
         "lat": [
          53.647800000000004
         ],
         "lon": [
          11.37205
         ],
         "marker": {
          "color": "#1ac938",
          "opacity": 0,
          "size": 0
         },
         "mode": "markers",
         "showlegend": false,
         "type": "scattermapbox"
        },
        {
         "hoverinfo": "skip",
         "lat": [
          53.6451,
          53.6445
         ],
         "line": {
          "color": "#1ac938",
          "width": 2
         },
         "lon": [
          11.369,
          11.3683
         ],
         "mode": "lines",
         "showlegend": false,
         "type": "scattermapbox"
        },
        {
         "hoverinfo": "text",
         "hovertext": "MV3.101 Line 68",
         "lat": [
          53.644800000000004
         ],
         "lon": [
          11.368649999999999
         ],
         "marker": {
          "color": "#1ac938",
          "opacity": 0,
          "size": 0
         },
         "mode": "markers",
         "showlegend": false,
         "type": "scattermapbox"
        },
        {
         "hoverinfo": "skip",
         "lat": [
          53.6285,
          53.6261
         ],
         "line": {
          "color": "#1ac938",
          "width": 2
         },
         "lon": [
          11.3627,
          11.3638
         ],
         "mode": "lines",
         "showlegend": false,
         "type": "scattermapbox"
        },
        {
         "hoverinfo": "text",
         "hovertext": "MV3.101 Line 80",
         "lat": [
          53.627300000000005
         ],
         "lon": [
          11.36325
         ],
         "marker": {
          "color": "#1ac938",
          "opacity": 0,
          "size": 0
         },
         "mode": "markers",
         "showlegend": false,
         "type": "scattermapbox"
        },
        {
         "hoverinfo": "skip",
         "lat": [
          53.6353,
          53.634
         ],
         "line": {
          "color": "#1ac938",
          "width": 2
         },
         "lon": [
          11.3632,
          11.3636
         ],
         "mode": "lines",
         "showlegend": false,
         "type": "scattermapbox"
        },
        {
         "hoverinfo": "text",
         "hovertext": "MV3.101 Line 75",
         "lat": [
          53.63465
         ],
         "lon": [
          11.3634
         ],
         "marker": {
          "color": "#1ac938",
          "opacity": 0,
          "size": 0
         },
         "mode": "markers",
         "showlegend": false,
         "type": "scattermapbox"
        },
        {
         "hoverinfo": "skip",
         "lat": [
          53.6469,
          53.6489
         ],
         "line": {
          "color": "#1ac938",
          "width": 2
         },
         "lon": [
          11.3688,
          11.3683
         ],
         "mode": "lines",
         "showlegend": false,
         "type": "scattermapbox"
        },
        {
         "hoverinfo": "text",
         "hovertext": "MV3.101 Line 33",
         "lat": [
          53.6479
         ],
         "lon": [
          11.368549999999999
         ],
         "marker": {
          "color": "#1ac938",
          "opacity": 0,
          "size": 0
         },
         "mode": "markers",
         "showlegend": false,
         "type": "scattermapbox"
        },
        {
         "hoverinfo": "skip",
         "lat": [
          53.6467,
          53.6479
         ],
         "line": {
          "color": "#1ac938",
          "width": 2
         },
         "lon": [
          11.3755,
          11.3773
         ],
         "mode": "lines",
         "showlegend": false,
         "type": "scattermapbox"
        },
        {
         "hoverinfo": "text",
         "hovertext": "MV3.101 Line 121",
         "lat": [
          53.6473
         ],
         "lon": [
          11.3764
         ],
         "marker": {
          "color": "#1ac938",
          "opacity": 0,
          "size": 0
         },
         "mode": "markers",
         "showlegend": false,
         "type": "scattermapbox"
        },
        {
         "hoverinfo": "skip",
         "lat": [
          53.6501,
          53.6488
         ],
         "line": {
          "color": "#1ac938",
          "width": 2
         },
         "lon": [
          11.3811,
          11.3833
         ],
         "mode": "lines",
         "showlegend": false,
         "type": "scattermapbox"
        },
        {
         "hoverinfo": "text",
         "hovertext": "MV3.101 Line 133",
         "lat": [
          53.64945
         ],
         "lon": [
          11.382200000000001
         ],
         "marker": {
          "color": "#1ac938",
          "opacity": 0,
          "size": 0
         },
         "mode": "markers",
         "showlegend": false,
         "type": "scattermapbox"
        },
        {
         "hoverinfo": "skip",
         "lat": [
          53.6456,
          53.6436
         ],
         "line": {
          "color": "#1ac938",
          "width": 2
         },
         "lon": [
          11.3692,
          11.3686
         ],
         "mode": "lines",
         "showlegend": false,
         "type": "scattermapbox"
        },
        {
         "hoverinfo": "text",
         "hovertext": "MV3.101 Line 95",
         "lat": [
          53.6446
         ],
         "lon": [
          11.3689
         ],
         "marker": {
          "color": "#1ac938",
          "opacity": 0,
          "size": 0
         },
         "mode": "markers",
         "showlegend": false,
         "type": "scattermapbox"
        },
        {
         "hoverinfo": "skip",
         "lat": [
          53.6489,
          53.6498
         ],
         "line": {
          "color": "#1ac938",
          "width": 2
         },
         "lon": [
          11.3604,
          11.3578
         ],
         "mode": "lines",
         "showlegend": false,
         "type": "scattermapbox"
        },
        {
         "hoverinfo": "text",
         "hovertext": "MV3.101 Line 54",
         "lat": [
          53.64935
         ],
         "lon": [
          11.3591
         ],
         "marker": {
          "color": "#1ac938",
          "opacity": 0,
          "size": 0
         },
         "mode": "markers",
         "showlegend": false,
         "type": "scattermapbox"
        },
        {
         "hoverinfo": "skip",
         "lat": [
          53.6572,
          53.6585
         ],
         "line": {
          "color": "#1ac938",
          "width": 2
         },
         "lon": [
          11.3686,
          11.3687
         ],
         "mode": "lines",
         "showlegend": false,
         "type": "scattermapbox"
        },
        {
         "hoverinfo": "text",
         "hovertext": "MV3.101 Line 38",
         "lat": [
          53.657849999999996
         ],
         "lon": [
          11.36865
         ],
         "marker": {
          "color": "#1ac938",
          "opacity": 0,
          "size": 0
         },
         "mode": "markers",
         "showlegend": false,
         "type": "scattermapbox"
        },
        {
         "hoverinfo": "skip",
         "lat": [
          53.6439,
          53.6443
         ],
         "line": {
          "color": "#1ac938",
          "width": 2
         },
         "lon": [
          11.3558,
          11.3544
         ],
         "mode": "lines",
         "showlegend": false,
         "type": "scattermapbox"
        },
        {
         "hoverinfo": "text",
         "hovertext": "MV3.101 Line 91",
         "lat": [
          53.6441
         ],
         "lon": [
          11.3551
         ],
         "marker": {
          "color": "#1ac938",
          "opacity": 0,
          "size": 0
         },
         "mode": "markers",
         "showlegend": false,
         "type": "scattermapbox"
        },
        {
         "hoverinfo": "skip",
         "lat": [
          53.6505,
          53.6525
         ],
         "line": {
          "color": "#1ac938",
          "width": 2
         },
         "lon": [
          11.3708,
          11.3724
         ],
         "mode": "lines",
         "showlegend": false,
         "type": "scattermapbox"
        },
        {
         "hoverinfo": "text",
         "hovertext": "MV3.101 Line 18",
         "lat": [
          53.6515
         ],
         "lon": [
          11.3716
         ],
         "marker": {
          "color": "#1ac938",
          "opacity": 0,
          "size": 0
         },
         "mode": "markers",
         "showlegend": false,
         "type": "scattermapbox"
        },
        {
         "hoverinfo": "skip",
         "lat": [
          53.6524,
          53.6531
         ],
         "line": {
          "color": "#1ac938",
          "width": 2
         },
         "lon": [
          11.3561,
          11.3584
         ],
         "mode": "lines",
         "showlegend": false,
         "type": "scattermapbox"
        },
        {
         "hoverinfo": "text",
         "hovertext": "MV3.101 Line 58",
         "lat": [
          53.65275
         ],
         "lon": [
          11.35725
         ],
         "marker": {
          "color": "#1ac938",
          "opacity": 0,
          "size": 0
         },
         "mode": "markers",
         "showlegend": false,
         "type": "scattermapbox"
        },
        {
         "hoverinfo": "skip",
         "lat": [
          53.642,
          53.6416
         ],
         "line": {
          "color": "#1ac938",
          "width": 2
         },
         "lon": [
          11.3663,
          11.366
         ],
         "mode": "lines",
         "showlegend": false,
         "type": "scattermapbox"
        },
        {
         "hoverinfo": "text",
         "hovertext": "MV3.101 Line 71",
         "lat": [
          53.6418
         ],
         "lon": [
          11.366150000000001
         ],
         "marker": {
          "color": "#1ac938",
          "opacity": 0,
          "size": 0
         },
         "mode": "markers",
         "showlegend": false,
         "type": "scattermapbox"
        },
        {
         "hoverinfo": "skip",
         "lat": [
          53.6454,
          53.6453
         ],
         "line": {
          "color": "#1ac938",
          "width": 2
         },
         "lon": [
          11.3706,
          11.372
         ],
         "mode": "lines",
         "showlegend": false,
         "type": "scattermapbox"
        },
        {
         "hoverinfo": "text",
         "hovertext": "MV3.101 Line 13",
         "lat": [
          53.64535
         ],
         "lon": [
          11.3713
         ],
         "marker": {
          "color": "#1ac938",
          "opacity": 0,
          "size": 0
         },
         "mode": "markers",
         "showlegend": false,
         "type": "scattermapbox"
        },
        {
         "hoverinfo": "skip",
         "lat": [
          53.6464,
          53.6464
         ],
         "line": {
          "color": "#1ac938",
          "width": 2
         },
         "lon": [
          11.3721,
          11.3745
         ],
         "mode": "lines",
         "showlegend": false,
         "type": "scattermapbox"
        },
        {
         "hoverinfo": "text",
         "hovertext": "MV3.101 BS-Feeder4_line",
         "lat": [
          53.6464
         ],
         "lon": [
          11.3733
         ],
         "marker": {
          "color": "#1ac938",
          "opacity": 0,
          "size": 0
         },
         "mode": "markers",
         "showlegend": false,
         "type": "scattermapbox"
        },
        {
         "hoverinfo": "skip",
         "lat": [
          53.6443,
          53.6461
         ],
         "line": {
          "color": "#1ac938",
          "width": 2
         },
         "lon": [
          11.3544,
          11.3521
         ],
         "mode": "lines",
         "showlegend": false,
         "type": "scattermapbox"
        },
        {
         "hoverinfo": "text",
         "hovertext": "MV3.101 Line 92",
         "lat": [
          53.6452
         ],
         "lon": [
          11.35325
         ],
         "marker": {
          "color": "#1ac938",
          "opacity": 0,
          "size": 0
         },
         "mode": "markers",
         "showlegend": false,
         "type": "scattermapbox"
        },
        {
         "hoverinfo": "skip",
         "lat": [
          53.6568,
          53.6567
         ],
         "line": {
          "color": "#1ac938",
          "width": 2
         },
         "lon": [
          11.3561,
          11.3529
         ],
         "mode": "lines",
         "showlegend": false,
         "type": "scattermapbox"
        },
        {
         "hoverinfo": "text",
         "hovertext": "MV3.101 Line 61",
         "lat": [
          53.65675
         ],
         "lon": [
          11.3545
         ],
         "marker": {
          "color": "#1ac938",
          "opacity": 0,
          "size": 0
         },
         "mode": "markers",
         "showlegend": false,
         "type": "scattermapbox"
        },
        {
         "hoverinfo": "skip",
         "lat": [
          53.6545,
          53.6544
         ],
         "line": {
          "color": "#1ac938",
          "width": 2
         },
         "lon": [
          11.3756,
          11.3777
         ],
         "mode": "lines",
         "showlegend": false,
         "type": "scattermapbox"
        },
        {
         "hoverinfo": "text",
         "hovertext": "MV3.101 Line 22",
         "lat": [
          53.65445
         ],
         "lon": [
          11.376650000000001
         ],
         "marker": {
          "color": "#1ac938",
          "opacity": 0,
          "size": 0
         },
         "mode": "markers",
         "showlegend": false,
         "type": "scattermapbox"
        },
        {
         "hoverinfo": "skip",
         "lat": [
          53.6531,
          53.6541
         ],
         "line": {
          "color": "#1ac938",
          "width": 2
         },
         "lon": [
          11.3682,
          11.3682
         ],
         "mode": "lines",
         "showlegend": false,
         "type": "scattermapbox"
        },
        {
         "hoverinfo": "text",
         "hovertext": "MV3.101 Line 36",
         "lat": [
          53.6536
         ],
         "lon": [
          11.3682
         ],
         "marker": {
          "color": "#1ac938",
          "opacity": 0,
          "size": 0
         },
         "mode": "markers",
         "showlegend": false,
         "type": "scattermapbox"
        },
        {
         "hoverinfo": "skip",
         "lat": [
          53.6475,
          53.6481
         ],
         "line": {
          "color": "#1ac938",
          "width": 2
         },
         "lon": [
          11.3748,
          11.3752
         ],
         "mode": "lines",
         "showlegend": false,
         "type": "scattermapbox"
        },
        {
         "hoverinfo": "text",
         "hovertext": "MV3.101 Line 128",
         "lat": [
          53.647800000000004
         ],
         "lon": [
          11.375
         ],
         "marker": {
          "color": "#1ac938",
          "opacity": 0,
          "size": 0
         },
         "mode": "markers",
         "showlegend": false,
         "type": "scattermapbox"
        },
        {
         "hoverinfo": "skip",
         "lat": [
          53.6457,
          53.6465
         ],
         "line": {
          "color": "#1ac938",
          "width": 2
         },
         "lon": [
          11.3682,
          11.3669
         ],
         "mode": "lines",
         "showlegend": false,
         "type": "scattermapbox"
        },
        {
         "hoverinfo": "text",
         "hovertext": "MV3.101 Line 50",
         "lat": [
          53.646100000000004
         ],
         "lon": [
          11.36755
         ],
         "marker": {
          "color": "#1ac938",
          "opacity": 0,
          "size": 0
         },
         "mode": "markers",
         "showlegend": false,
         "type": "scattermapbox"
        },
        {
         "hoverinfo": "skip",
         "lat": [
          53.6459,
          53.648
         ],
         "line": {
          "color": "#1ac938",
          "width": 2
         },
         "lon": [
          11.3687,
          11.3667
         ],
         "mode": "lines",
         "showlegend": false,
         "type": "scattermapbox"
        },
        {
         "hoverinfo": "text",
         "hovertext": "MV3.101 Line 42",
         "lat": [
          53.646950000000004
         ],
         "lon": [
          11.3677
         ],
         "marker": {
          "color": "#1ac938",
          "opacity": 0,
          "size": 0
         },
         "mode": "markers",
         "showlegend": false,
         "type": "scattermapbox"
        },
        {
         "hoverinfo": "skip",
         "lat": [
          53.6454,
          53.6454
         ],
         "line": {
          "color": "#1ac938",
          "width": 2
         },
         "lon": [
          11.3762,
          11.3776
         ],
         "mode": "lines",
         "showlegend": false,
         "type": "scattermapbox"
        },
        {
         "hoverinfo": "text",
         "hovertext": "MV3.101 Line 117",
         "lat": [
          53.6454
         ],
         "lon": [
          11.3769
         ],
         "marker": {
          "color": "#1ac938",
          "opacity": 0,
          "size": 0
         },
         "mode": "markers",
         "showlegend": false,
         "type": "scattermapbox"
        },
        {
         "hoverinfo": "skip",
         "lat": [
          53.6477,
          53.6492
         ],
         "line": {
          "color": "#1ac938",
          "width": 2
         },
         "lon": [
          11.3701,
          11.372
         ],
         "mode": "lines",
         "showlegend": false,
         "type": "scattermapbox"
        },
        {
         "hoverinfo": "text",
         "hovertext": "MV3.101 Line 29",
         "lat": [
          53.64845
         ],
         "lon": [
          11.37105
         ],
         "marker": {
          "color": "#1ac938",
          "opacity": 0,
          "size": 0
         },
         "mode": "markers",
         "showlegend": false,
         "type": "scattermapbox"
        },
        {
         "hoverinfo": "skip",
         "lat": [
          53.633,
          53.6315
         ],
         "line": {
          "color": "#1ac938",
          "width": 2
         },
         "lon": [
          11.3668,
          11.3692
         ],
         "mode": "lines",
         "showlegend": false,
         "type": "scattermapbox"
        },
        {
         "hoverinfo": "text",
         "hovertext": "MV3.101 Line 102",
         "lat": [
          53.63225
         ],
         "lon": [
          11.367999999999999
         ],
         "marker": {
          "color": "#1ac938",
          "opacity": 0,
          "size": 0
         },
         "mode": "markers",
         "showlegend": false,
         "type": "scattermapbox"
        },
        {
         "hoverinfo": "skip",
         "lat": [
          53.6511,
          53.6531
         ],
         "line": {
          "color": "#1ac938",
          "width": 2
         },
         "lon": [
          11.3682,
          11.3682
         ],
         "mode": "lines",
         "showlegend": false,
         "type": "scattermapbox"
        },
        {
         "hoverinfo": "text",
         "hovertext": "MV3.101 Line 35",
         "lat": [
          53.652100000000004
         ],
         "lon": [
          11.3682
         ],
         "marker": {
          "color": "#1ac938",
          "opacity": 0,
          "size": 0
         },
         "mode": "markers",
         "showlegend": false,
         "type": "scattermapbox"
        },
        {
         "hoverinfo": "skip",
         "lat": [
          53.6315,
          53.6321
         ],
         "line": {
          "color": "#1ac938",
          "width": 2
         },
         "lon": [
          11.3692,
          11.3702
         ],
         "mode": "lines",
         "showlegend": false,
         "type": "scattermapbox"
        },
        {
         "hoverinfo": "text",
         "hovertext": "MV3.101 Line 103",
         "lat": [
          53.6318
         ],
         "lon": [
          11.3697
         ],
         "marker": {
          "color": "#1ac938",
          "opacity": 0,
          "size": 0
         },
         "mode": "markers",
         "showlegend": false,
         "type": "scattermapbox"
        },
        {
         "hoverinfo": "skip",
         "lat": [
          53.6453,
          53.645
         ],
         "line": {
          "color": "#1ac938",
          "width": 2
         },
         "lon": [
          11.3665,
          11.3649
         ],
         "mode": "lines",
         "showlegend": false,
         "type": "scattermapbox"
        },
        {
         "hoverinfo": "text",
         "hovertext": "MV3.101 Line 85",
         "lat": [
          53.64515
         ],
         "lon": [
          11.3657
         ],
         "marker": {
          "color": "#1ac938",
          "opacity": 0,
          "size": 0
         },
         "mode": "markers",
         "showlegend": false,
         "type": "scattermapbox"
        },
        {
         "hoverinfo": "skip",
         "lat": [
          53.6498,
          53.6504
         ],
         "line": {
          "color": "#1ac938",
          "width": 2
         },
         "lon": [
          11.3578,
          11.357
         ],
         "mode": "lines",
         "showlegend": false,
         "type": "scattermapbox"
        },
        {
         "hoverinfo": "text",
         "hovertext": "MV3.101 Line 55",
         "lat": [
          53.650099999999995
         ],
         "lon": [
          11.357399999999998
         ],
         "marker": {
          "color": "#1ac938",
          "opacity": 0,
          "size": 0
         },
         "mode": "markers",
         "showlegend": false,
         "type": "scattermapbox"
        },
        {
         "hoverinfo": "skip",
         "lat": [
          53.6448,
          53.6443
         ],
         "line": {
          "color": "#1ac938",
          "width": 2
         },
         "lon": [
          11.364,
          11.3619
         ],
         "mode": "lines",
         "showlegend": false,
         "type": "scattermapbox"
        },
        {
         "hoverinfo": "text",
         "hovertext": "MV3.101 Line 87",
         "lat": [
          53.644549999999995
         ],
         "lon": [
          11.362950000000001
         ],
         "marker": {
          "color": "#1ac938",
          "opacity": 0,
          "size": 0
         },
         "mode": "markers",
         "showlegend": false,
         "type": "scattermapbox"
        },
        {
         "hoverinfo": "skip",
         "lat": [
          53.6516,
          53.6524
         ],
         "line": {
          "color": "#1ac938",
          "width": 2
         },
         "lon": [
          11.3561,
          11.3561
         ],
         "mode": "lines",
         "showlegend": false,
         "type": "scattermapbox"
        },
        {
         "hoverinfo": "text",
         "hovertext": "MV3.101 Line 57",
         "lat": [
          53.652
         ],
         "lon": [
          11.3561
         ],
         "marker": {
          "color": "#1ac938",
          "opacity": 0,
          "size": 0
         },
         "mode": "markers",
         "showlegend": false,
         "type": "scattermapbox"
        },
        {
         "hoverinfo": "skip",
         "lat": [
          53.6559,
          53.655
         ],
         "line": {
          "color": "#1ac938",
          "width": 2
         },
         "lon": [
          11.3519,
          11.3518
         ],
         "mode": "lines",
         "showlegend": false,
         "type": "scattermapbox"
        },
        {
         "hoverinfo": "text",
         "hovertext": "MV3.101 Line 63",
         "lat": [
          53.65545
         ],
         "lon": [
          11.35185
         ],
         "marker": {
          "color": "#1ac938",
          "opacity": 0,
          "size": 0
         },
         "mode": "markers",
         "showlegend": false,
         "type": "scattermapbox"
        },
        {
         "hoverinfo": "skip",
         "lat": [
          53.6464,
          53.6467
         ],
         "line": {
          "color": "#1ac938",
          "width": 2
         },
         "lon": [
          11.3745,
          11.3755
         ],
         "mode": "lines",
         "showlegend": false,
         "type": "scattermapbox"
        },
        {
         "hoverinfo": "text",
         "hovertext": "MV3.101 Line 120",
         "lat": [
          53.646550000000005
         ],
         "lon": [
          11.375
         ],
         "marker": {
          "color": "#1ac938",
          "opacity": 0,
          "size": 0
         },
         "mode": "markers",
         "showlegend": false,
         "type": "scattermapbox"
        },
        {
         "hoverinfo": "skip",
         "lat": [
          53.6236,
          53.6252
         ],
         "line": {
          "color": "#1ac938",
          "width": 2
         },
         "lon": [
          11.3683,
          11.3714
         ],
         "mode": "lines",
         "showlegend": false,
         "type": "scattermapbox"
        },
        {
         "hoverinfo": "text",
         "hovertext": "MV3.101 Line 83",
         "lat": [
          53.6244
         ],
         "lon": [
          11.36985
         ],
         "marker": {
          "color": "#1ac938",
          "opacity": 0,
          "size": 0
         },
         "mode": "markers",
         "showlegend": false,
         "type": "scattermapbox"
        },
        {
         "hoverinfo": "skip",
         "lat": [
          53.6514,
          53.6531
         ],
         "line": {
          "color": "#a3a3a3",
          "width": 2
         },
         "lon": [
          11.3638,
          11.3584
         ],
         "mode": "lines",
         "showlegend": false,
         "type": "scattermapbox"
        },
        {
         "hoverinfo": "text",
         "hovertext": "MV3.101 loop_line 9",
         "lat": [
          53.65225
         ],
         "lon": [
          11.3611
         ],
         "marker": {
          "color": "#a3a3a3",
          "opacity": 0,
          "size": 0
         },
         "mode": "markers",
         "showlegend": false,
         "type": "scattermapbox"
        },
        {
         "hoverinfo": "skip",
         "lat": [
          53.634,
          53.6346
         ],
         "line": {
          "color": "#a3a3a3",
          "width": 2
         },
         "lon": [
          11.3636,
          11.3656
         ],
         "mode": "lines",
         "showlegend": false,
         "type": "scattermapbox"
        },
        {
         "hoverinfo": "text",
         "hovertext": "MV3.101 loop_line 10",
         "lat": [
          53.634299999999996
         ],
         "lon": [
          11.3646
         ],
         "marker": {
          "color": "#a3a3a3",
          "opacity": 0,
          "size": 0
         },
         "mode": "markers",
         "showlegend": false,
         "type": "scattermapbox"
        },
        {
         "hoverinfo": "skip",
         "lat": [
          53.6252,
          53.6286
         ],
         "line": {
          "color": "#a3a3a3",
          "width": 2
         },
         "lon": [
          11.3714,
          11.3737
         ],
         "mode": "lines",
         "showlegend": false,
         "type": "scattermapbox"
        },
        {
         "hoverinfo": "text",
         "hovertext": "MV3.101 loop_line 4",
         "lat": [
          53.6269
         ],
         "lon": [
          11.37255
         ],
         "marker": {
          "color": "#a3a3a3",
          "opacity": 0,
          "size": 0
         },
         "mode": "markers",
         "showlegend": false,
         "type": "scattermapbox"
        },
        {
         "hoverinfo": "skip",
         "lat": [
          53.6434,
          53.6488
         ],
         "line": {
          "color": "#a3a3a3",
          "width": 2
         },
         "lon": [
          11.3825,
          11.3833
         ],
         "mode": "lines",
         "showlegend": false,
         "type": "scattermapbox"
        },
        {
         "hoverinfo": "text",
         "hovertext": "MV3.101 loop_line 5",
         "lat": [
          53.646100000000004
         ],
         "lon": [
          11.3829
         ],
         "marker": {
          "color": "#a3a3a3",
          "opacity": 0,
          "size": 0
         },
         "mode": "markers",
         "showlegend": false,
         "type": "scattermapbox"
        },
        {
         "hoverinfo": "skip",
         "lat": [
          53.6371,
          53.6341
         ],
         "line": {
          "color": "#a3a3a3",
          "width": 2
         },
         "lon": [
          11.3721,
          11.3724
         ],
         "mode": "lines",
         "showlegend": false,
         "type": "scattermapbox"
        },
        {
         "hoverinfo": "text",
         "hovertext": "MV3.101 loop_line 7",
         "lat": [
          53.6356
         ],
         "lon": [
          11.372250000000001
         ],
         "marker": {
          "color": "#a3a3a3",
          "opacity": 0,
          "size": 0
         },
         "mode": "markers",
         "showlegend": false,
         "type": "scattermapbox"
        },
        {
         "hoverinfo": "skip",
         "lat": [
          53.6457,
          53.6464
         ],
         "line": {
          "color": "#a3a3a3",
          "width": 2
         },
         "lon": [
          11.3697,
          11.3721
         ],
         "mode": "lines",
         "showlegend": false,
         "type": "scattermapbox"
        },
        {
         "hoverinfo": "text",
         "hovertext": "MV3.101 loop_line 8",
         "lat": [
          53.64605
         ],
         "lon": [
          11.370899999999999
         ],
         "marker": {
          "color": "#a3a3a3",
          "opacity": 0,
          "size": 0
         },
         "mode": "markers",
         "showlegend": false,
         "type": "scattermapbox"
        },
        {
         "hoverinfo": "skip",
         "lat": [
          53.6508,
          53.6494
         ],
         "line": {
          "color": "#a3a3a3",
          "width": 2
         },
         "lon": [
          11.3521,
          11.351
         ],
         "mode": "lines",
         "showlegend": false,
         "type": "scattermapbox"
        },
        {
         "hoverinfo": "text",
         "hovertext": "MV3.101 loop_line 3",
         "lat": [
          53.650099999999995
         ],
         "lon": [
          11.35155
         ],
         "marker": {
          "color": "#a3a3a3",
          "opacity": 0,
          "size": 0
         },
         "mode": "markers",
         "showlegend": false,
         "type": "scattermapbox"
        },
        {
         "hoverinfo": "skip",
         "lat": [
          53.662,
          53.6598
         ],
         "line": {
          "color": "#a3a3a3",
          "width": 2
         },
         "lon": [
          11.3646,
          11.3685
         ],
         "mode": "lines",
         "showlegend": false,
         "type": "scattermapbox"
        },
        {
         "hoverinfo": "text",
         "hovertext": "MV3.101 loop_line 2",
         "lat": [
          53.6609
         ],
         "lon": [
          11.36655
         ],
         "marker": {
          "color": "#a3a3a3",
          "opacity": 0,
          "size": 0
         },
         "mode": "markers",
         "showlegend": false,
         "type": "scattermapbox"
        },
        {
         "hoverinfo": "skip",
         "lat": [
          53.6455,
          53.6464
         ],
         "line": {
          "color": "#a3a3a3",
          "width": 2
         },
         "lon": [
          11.3809,
          11.3832
         ],
         "mode": "lines",
         "showlegend": false,
         "type": "scattermapbox"
        },
        {
         "hoverinfo": "text",
         "hovertext": "MV3.101 loop_line 6",
         "lat": [
          53.64595
         ],
         "lon": [
          11.38205
         ],
         "marker": {
          "color": "#a3a3a3",
          "opacity": 0,
          "size": 0
         },
         "mode": "markers",
         "showlegend": false,
         "type": "scattermapbox"
        },
        {
         "hoverinfo": "skip",
         "lat": [
          53.651,
          53.6422
         ],
         "line": {
          "color": "#a3a3a3",
          "width": 2
         },
         "lon": [
          11.3807,
          11.3784
         ],
         "mode": "lines",
         "showlegend": false,
         "type": "scattermapbox"
        },
        {
         "hoverinfo": "text",
         "hovertext": "MV3.101 loop_line 1",
         "lat": [
          53.64660000000001
         ],
         "lon": [
          11.379549999999998
         ],
         "marker": {
          "color": "#a3a3a3",
          "opacity": 0,
          "size": 0
         },
         "mode": "markers",
         "showlegend": false,
         "type": "scattermapbox"
        },
        {
         "hoverinfo": "skip",
         "lat": [
          53.6524,
          53.6521
         ],
         "line": {
          "color": "#a3a3a3",
          "width": 2
         },
         "lon": [
          11.3561,
          11.3535
         ],
         "mode": "lines",
         "showlegend": false,
         "type": "scattermapbox"
        },
        {
         "hoverinfo": "text",
         "hovertext": "MV3.101 loop_line 11",
         "lat": [
          53.652249999999995
         ],
         "lon": [
          11.354800000000001
         ],
         "marker": {
          "color": "#a3a3a3",
          "opacity": 0,
          "size": 0
         },
         "mode": "markers",
         "showlegend": false,
         "type": "scattermapbox"
        },
        {
         "hoverinfo": "text",
         "hovertext": [
          "ID: MV3.101 node1<br>Latitude: 53.645600<br>Longitude: 11.369200",
          "ID: MV3.101 Bus 28<br>Latitude: 53.652500<br>Longitude: 11.372400",
          "ID: MV3.101 Bus 81<br>Latitude: 53.641600<br>Longitude: 11.366000",
          "ID: MV3.101 Bus 102<br>Latitude: 53.646100<br>Longitude: 11.352100",
          "ID: MV3.101 Bus 19<br>Latitude: 53.639700<br>Longitude: 11.371500",
          "ID: MV3.101 Bus 86<br>Latitude: 53.633200<br>Longitude: 11.363300",
          "ID: MV3.101 Bus 82<br>Latitude: 53.640600<br>Longitude: 11.365400",
          "ID: MV3.101 Bus 50<br>Latitude: 53.659800<br>Longitude: 11.368500",
          "ID: MV3.101 Bus 125<br>Latitude: 53.645600<br>Longitude: 11.375200",
          "ID: MV3.101 Bus 41<br>Latitude: 53.646200<br>Longitude: 11.369100",
          "ID: MV3.101 Bus 52<br>Latitude: 53.648000<br>Longitude: 11.366700",
          "ID: MV3.101 Bus 50_1<br>Latitude: 53.659800<br>Longitude: 11.368500",
          "ID: MV3.101 Bus 77<br>Latitude: 53.645100<br>Longitude: 11.369000",
          "ID: MV3.101 Bus 120<br>Latitude: 53.643100<br>Longitude: 11.378300",
          "ID: MV3.101 Bus 34<br>Latitude: 53.651900<br>Longitude: 11.380500",
          "ID: MV3.101 Bus 143<br>Latitude: 53.648800<br>Longitude: 11.383300",
          "ID: MV3.101 Bus 27<br>Latitude: 53.650500<br>Longitude: 11.370800",
          "ID: MV3.101 Bus 64<br>Latitude: 53.649800<br>Longitude: 11.357800",
          "ID: MV3.101 Bus 68_1<br>Latitude: 53.653100<br>Longitude: 11.358400",
          "ID: MV3.101 Bus 32<br>Latitude: 53.654400<br>Longitude: 11.377700",
          "ID: MV3.101 Bus 134<br>Latitude: 53.647200<br>Longitude: 11.383300",
          "ID: MV3.101 Bus 80<br>Latitude: 53.642000<br>Longitude: 11.366300",
          "ID: MV3.101 Bus 91<br>Latitude: 53.624000<br>Longitude: 11.366000",
          "ID: MV3.101 Bus 75<br>Latitude: 53.652100<br>Longitude: 11.353500",
          "ID: MV3.101 Bus 143_1<br>Latitude: 53.648800<br>Longitude: 11.383300",
          "ID: MV3.101 Bus 115<br>Latitude: 53.632800<br>Longitude: 11.373300",
          "ID: MV3.101 Bus 43<br>Latitude: 53.648900<br>Longitude: 11.368300",
          "ID: MV3.101 Bus 17<br>Latitude: 53.641500<br>Longitude: 11.377600",
          "ID: HV1 Bus 25<br>Latitude: 53.645600<br>Longitude: 11.369200",
          "ID: MV3.101 Bus 117<br>Latitude: 53.629700<br>Longitude: 11.373900",
          "ID: MV3.101 Bus 78<br>Latitude: 53.644500<br>Longitude: 11.368300",
          "ID: MV3.101 Bus 49<br>Latitude: 53.659200<br>Longitude: 11.368600",
          "ID: MV3.101 Bus 85<br>Latitude: 53.634000<br>Longitude: 11.363600",
          "ID: MV3.101 Bus 123<br>Latitude: 53.642900<br>Longitude: 11.381500",
          "ID: MV3.101 Bus 76<br>Latitude: 53.650800<br>Longitude: 11.352100",
          "ID: MV3.101 Bus 11<br>Latitude: 53.644100<br>Longitude: 11.369900",
          "ID: MV3.101 Bus 98<br>Latitude: 53.644100<br>Longitude: 11.360900",
          "ID: MV3.101 Bus 18<br>Latitude: 53.642200<br>Longitude: 11.378400",
          "ID: MV3.101 Bus 103<br>Latitude: 53.647700<br>Longitude: 11.351100",
          "ID: MV3.101 Bus 100<br>Latitude: 53.643900<br>Longitude: 11.355800",
          "ID: MV3.101 Bus 37<br>Latitude: 53.647000<br>Longitude: 11.370100",
          "ID: MV3.101 Bus 14<br>Latitude: 53.641100<br>Longitude: 11.371500",
          "ID: MV3.101 Bus 107<br>Latitude: 53.638900<br>Longitude: 11.366900",
          "ID: MV3.101 Bus 105<br>Latitude: 53.643600<br>Longitude: 11.368600",
          "ID: MV3.101 Bus 92<br>Latitude: 53.623600<br>Longitude: 11.368300",
          "ID: MV3.101 Bus 119<br>Latitude: 53.643800<br>Longitude: 11.376700",
          "ID: MV3.101 Bus 73<br>Latitude: 53.655000<br>Longitude: 11.351800",
          "ID: MV3.101 Bus 56<br>Latitude: 53.657900<br>Longitude: 11.363400",
          "ID: MV3.101 Bus 33<br>Latitude: 53.653400<br>Longitude: 11.379400",
          "ID: MV3.101 Bus 15<br>Latitude: 53.640900<br>Longitude: 11.373300",
          "ID: MV3.101 Bus 31<br>Latitude: 53.654500<br>Longitude: 11.375600",
          "ID: MV3.101 Bus 25<br>Latitude: 53.645600<br>Longitude: 11.373800",
          "ID: MV3.101 Bus 60<br>Latitude: 53.646500<br>Longitude: 11.366900",
          "ID: MV3.101 Bus 55<br>Latitude: 53.654400<br>Longitude: 11.363700",
          "ID: MV3.101 Bus 99<br>Latitude: 53.643700<br>Longitude: 11.357700",
          "ID: MV3.101 Bus 124<br>Latitude: 53.643400<br>Longitude: 11.382500",
          "ID: MV3.101 Bus 122<br>Latitude: 53.642800<br>Longitude: 11.381000",
          "ID: MV3.101 Bus 110_1<br>Latitude: 53.634600<br>Longitude: 11.365600",
          "ID: MV3.101 Bus 48<br>Latitude: 53.658500<br>Longitude: 11.368700",
          "ID: MV3.101 Bus 106<br>Latitude: 53.641700<br>Longitude: 11.368000",
          "ID: MV3.101 Bus 128<br>Latitude: 53.645500<br>Longitude: 11.379800",
          "ID: MV3.101 Bus 75_1<br>Latitude: 53.652100<br>Longitude: 11.353500",
          "ID: MV3.101 Bus 71<br>Latitude: 53.656700<br>Longitude: 11.352900",
          "ID: MV3.101 Bus 46<br>Latitude: 53.654100<br>Longitude: 11.368200",
          "ID: MV3.101 BS busbar1A<br>Latitude: 53.646400<br>Longitude: 11.374500",
          "ID: MV3.101 Bus 53<br>Latitude: 53.649200<br>Longitude: 11.365600",
          "ID: MV3.101 Bus 40_1<br>Latitude: 53.646400<br>Longitude: 11.372100",
          "ID: MV3.101 Bus 13<br>Latitude: 53.642100<br>Longitude: 11.370800",
          "ID: MV3.101 Bus 39<br>Latitude: 53.649200<br>Longitude: 11.372000",
          "ID: MV3.101 Bus 66<br>Latitude: 53.651600<br>Longitude: 11.356100",
          "ID: MV3.101 Bus 88<br>Latitude: 53.630300<br>Longitude: 11.362600",
          "ID: MV3.101 Bus 96<br>Latitude: 53.644800<br>Longitude: 11.364000",
          "ID: MV3.101 Bus 69<br>Latitude: 53.654500<br>Longitude: 11.358100",
          "ID: MV3.101 Bus 58<br>Latitude: 53.662000<br>Longitude: 11.364600",
          "ID: MV3.101 Bus 142<br>Latitude: 53.650100<br>Longitude: 11.381100",
          "ID: MV3.101 Bus 127<br>Latitude: 53.645400<br>Longitude: 11.377600",
          "ID: MV3.101 Bus 84<br>Latitude: 53.635300<br>Longitude: 11.363200",
          "ID: MV3.101 Bus 114_1<br>Latitude: 53.634100<br>Longitude: 11.372400",
          "ID: MV3.101 Bus 138<br>Latitude: 53.648100<br>Longitude: 11.375200",
          "ID: MV3.101 Bus 129<br>Latitude: 53.645500<br>Longitude: 11.380900",
          "ID: MV3.101 Bus 130<br>Latitude: 53.646700<br>Longitude: 11.375500",
          "ID: MV3.101 Bus 16<br>Latitude: 53.641000<br>Longitude: 11.376700",
          "ID: MV3.101 Bus 111<br>Latitude: 53.633000<br>Longitude: 11.366800",
          "ID: MV3.101 Bus 68<br>Latitude: 53.653100<br>Longitude: 11.358400",
          "ID: MV3.101 Bus 51<br>Latitude: 53.645900<br>Longitude: 11.368700",
          "ID: MV3.101 Bus 40<br>Latitude: 53.646400<br>Longitude: 11.372100",
          "ID: MV3.101 Bus 67<br>Latitude: 53.652400<br>Longitude: 11.356100",
          "ID: MV3.101 Bus 136<br>Latitude: 53.646900<br>Longitude: 11.374600",
          "ID: MV3.101 Bus 44<br>Latitude: 53.651100<br>Longitude: 11.368200",
          "ID: MV3.101 Bus 114<br>Latitude: 53.634100<br>Longitude: 11.372400",
          "ID: MV3.101 Bus 30<br>Latitude: 53.654300<br>Longitude: 11.375100",
          "ID: MV3.101 Bus 132<br>Latitude: 53.648100<br>Longitude: 11.378400",
          "ID: MV3.101 Bus 63<br>Latitude: 53.648900<br>Longitude: 11.360400",
          "ID: MV3.101 Bus 38<br>Latitude: 53.647700<br>Longitude: 11.370100",
          "ID: MV3.101 Bus 93<br>Latitude: 53.625200<br>Longitude: 11.371400",
          "ID: MV3.101 Bus 135<br>Latitude: 53.646400<br>Longitude: 11.383200",
          "ID: MV3.101 Bus 24<br>Latitude: 53.645400<br>Longitude: 11.373200",
          "ID: MV3.101 Bus 110<br>Latitude: 53.634600<br>Longitude: 11.365600",
          "ID: MV3.101 Bus 97<br>Latitude: 53.644300<br>Longitude: 11.361900",
          "ID: MV3.101 Bus 57<br>Latitude: 53.660300<br>Longitude: 11.363600",
          "ID: MV3.101 Bus 47<br>Latitude: 53.657200<br>Longitude: 11.368600",
          "ID: MV3.101 Bus 20<br>Latitude: 53.638000<br>Longitude: 11.371900",
          "ID: MV3.101 Bus 113<br>Latitude: 53.632100<br>Longitude: 11.370200",
          "ID: MV3.101 Bus 118<br>Latitude: 53.628600<br>Longitude: 11.373700",
          "ID: MV3.101 Bus 126<br>Latitude: 53.645400<br>Longitude: 11.376200",
          "ID: MV3.101 Bus 141<br>Latitude: 53.650200<br>Longitude: 11.380500",
          "ID: MV3.101 Bus 22<br>Latitude: 53.645400<br>Longitude: 11.370600",
          "ID: MV3.101 Bus 140<br>Latitude: 53.650100<br>Longitude: 11.377900",
          "ID: MV3.101 Bus 18_1<br>Latitude: 53.642200<br>Longitude: 11.378400",
          "ID: MV3.101 Bus 42<br>Latitude: 53.646900<br>Longitude: 11.368800",
          "ID: MV3.101 Bus 94<br>Latitude: 53.645300<br>Longitude: 11.366500",
          "ID: MV3.101 Bus 104_1<br>Latitude: 53.649400<br>Longitude: 11.351000",
          "ID: MV3.101 Bus 139<br>Latitude: 53.649900<br>Longitude: 11.377300",
          "ID: MV3.101 Bus 118_1<br>Latitude: 53.628600<br>Longitude: 11.373700",
          "ID: MV3.101 Bus 116<br>Latitude: 53.630600<br>Longitude: 11.373900",
          "ID: MV3.101 Bus 135_1<br>Latitude: 53.646400<br>Longitude: 11.383200",
          "ID: MV3.101 Bus 21<br>Latitude: 53.637100<br>Longitude: 11.372100",
          "ID: MV3.101 Bus 59<br>Latitude: 53.645700<br>Longitude: 11.368200",
          "ID: MV3.101 Bus 12<br>Latitude: 53.642500<br>Longitude: 11.370700",
          "ID: MV3.101 Bus 90<br>Latitude: 53.626100<br>Longitude: 11.363800",
          "ID: MV3.101 Bus 72<br>Latitude: 53.655900<br>Longitude: 11.351900",
          "ID: MV3.101 Bus 133<br>Latitude: 53.648100<br>Longitude: 11.381900",
          "ID: MV3.101 Bus 108<br>Latitude: 53.637000<br>Longitude: 11.366400",
          "ID: MV3.101 Bus 121<br>Latitude: 53.642900<br>Longitude: 11.378900",
          "ID: MV3.101 Bus 62<br>Latitude: 53.648200<br>Longitude: 11.362700",
          "ID: MV3.101 Bus 26<br>Latitude: 53.648500<br>Longitude: 11.369800",
          "ID: MV3.101 Bus 61<br>Latitude: 53.647700<br>Longitude: 11.364100",
          "ID: MV3.101 Bus 29<br>Latitude: 53.653800<br>Longitude: 11.374000",
          "ID: MV3.101 Bus 131<br>Latitude: 53.647900<br>Longitude: 11.377300",
          "ID: MV3.101 Bus 87<br>Latitude: 53.631200<br>Longitude: 11.362700",
          "ID: MV3.101 Bus 70<br>Latitude: 53.656800<br>Longitude: 11.356100",
          "ID: MV3.101 Bus 89<br>Latitude: 53.628500<br>Longitude: 11.362700",
          "ID: MV3.101 Bus 36<br>Latitude: 53.645700<br>Longitude: 11.369700",
          "ID: MV3.101 Bus 74<br>Latitude: 53.653700<br>Longitude: 11.352400",
          "ID: MV3.101 Bus 83<br>Latitude: 53.638400<br>Longitude: 11.364000",
          "ID: MV3.101 Bus 54<br>Latitude: 53.651400<br>Longitude: 11.363800",
          "ID: MV3.101 Bus 95<br>Latitude: 53.645000<br>Longitude: 11.364900",
          "ID: MV3.101 Bus 23<br>Latitude: 53.645300<br>Longitude: 11.372000",
          "ID: MV3.101 Bus 137<br>Latitude: 53.647500<br>Longitude: 11.374800",
          "ID: MV3.101 Bus 79<br>Latitude: 53.643400<br>Longitude: 11.367400",
          "ID: MV3.101 Bus 101<br>Latitude: 53.644300<br>Longitude: 11.354400",
          "ID: MV3.101 Bus 45<br>Latitude: 53.653100<br>Longitude: 11.368200",
          "ID: MV3.101 Bus 35<br>Latitude: 53.651000<br>Longitude: 11.380700",
          "ID: MV3.101 Bus 109<br>Latitude: 53.636300<br>Longitude: 11.366100",
          "ID: MV3.101 Bus 104<br>Latitude: 53.649400<br>Longitude: 11.351000",
          "ID: MV3.101 Bus 65<br>Latitude: 53.650400<br>Longitude: 11.357000",
          "ID: MV3.101 Bus 112<br>Latitude: 53.631500<br>Longitude: 11.369200"
         ],
         "lat": {
          "bdata": "GCZTBaPSSkDsUbgehdNKQIqO5PIf0kpACfmgZ7PSSkAnoImw4dFKQOLplbIM0UpAp+hILv/RSkBN845TdNRKQBgmUwWj0kpAbVZ9rrbSSkBt5/up8dJKQE3zjlN01EpAJlMFo5LSSkBfB84ZUdJKQJYhjnVx00pAidLe4AvTSkAlBoGVQ9NKQGx4eqUs00pAQYLix5jTSkBPQBNhw9NKQFD8GHPX0kpAGQRWDi3SSkAdWmQ7389KQF3cRgN400pAidLe4AvTSkBUdCSX/9BKQOwvuycP00pAJzEIrBzSSkAYJlMFo9JKQEYldQKa0EpA0SLb+X7SSkD4wmSqYNRKQP7UeOkm0UpAmEwVjErSSkBPHhZqTdNKQEOtad5x0kpAQ61p3nHSSkDgvg6cM9JKQELPZtXn0kpAfPKwUGvSSkCJQWDl0NJKQJm7lpAP0kpAC7WmecfRSkBR2ht8YdJKQI/k8h/Sz0pAGJXUCWjSSkCkcD0K19NKQOoENBE21EpAa5p3nKLTSkDSAN4CCdJKQLKd76fG00pAGCZTBaPSSkCYbhKDwNJKQE9AE2HD00pAtTf4wmTSSkCKH2PuWtJKQDXvOEVH0kpAUwWjkjrRSkA/NV66SdRKQO7rwDkj0kpAtMh2vp/SSkBd3EYDeNNKQECk374O1EpAJCh+jLnTSkA0ETY8vdJKQBdIUPwY00pANBE2PL3SSkB8YTJVMNJKQBdIUPwY00pAbAn5oGfTSkCbVZ+rrdBKQPs6cM6I0kpAsp3vp8bTSkDb+X5qvNRKQJeQD3o200pAUWuad5zSSkAMk6mCUdFKQGEyVTAq0UpA0ETY8PTSSkC0yHa+n9JKQF8pyxDH0kpANV66SQzSSkAbL90kBtFKQEGC4seY00pAQj7o2azSSkA0ETY8vdJKQIj029eB00pAJuSDns3SSkB6Nqs+V9NKQGEyVTAq0UpA6+I2GsDTSkDQRNjw9NJKQOwvuycP00pAQs9m1efSSkDHuriNBtBKQDQRNjy90kpAUWuad5zSSkBTBaOSOtFKQApoImx40kpAP8bctYTUSkAydy0hH9RKQIts5/up0UpAm+Ydp+jQSkD/If32ddBKQFFrmnec0kpA+u3rwDnTSkBRa5p3nNJKQJeQD3o200pA4L4OnDPSSkAm5IOezdJKQO0NvjCZ0kpA3gIJih/TSkDQ1VbsL9NKQP8h/fZ10EpAxm00gLfQSkA0ETY8vdJKQAskKH6M0UpAe4MvTKbSSkAK16NwPdJKQEcDeAsk0EpAJLn8h/TTSkDQRNjw9NJKQKjGSzeJ0UpAmEwVjErSSkA0orQ3+NJKQF66SQwC00pAQs9m1efSSkD5D+m3r9NKQAmKH2Pu0kpAG55eKcvQSkCjAbwFEtRKQJzEILBy0EpAe4MvTKbSSkCWsgxxrNNKQBniWBe30UpApU5AE2HTSkDD9Shcj9JKQO0NvjCZ0kpAexSuR+HSSkCKH2PuWtJKQApoImx40kpAQYLix5jTSkAX2c73U9NKQO84RUdy0UpA3gIJih/TSkDBqKROQNNKQEa28/3U0EpA",
          "dtype": "f8"
         },
         "lon": {
          "bdata": "zF1LyAe9JkCRD3o2q74mQAisHFpkuyZA3NeBc0a0JkCR7Xw/Nb4mQAtGJXUCuiZAs+pztRW7JkDpJjEIrLwmQBzr4jYawCZAPujZrPq8JkDr4jYawLsmQOkmMQisvCZAsHJoke28JkBSJ6CJsMEmQIlBYOXQwiZAFR3J5T/EJkCutmJ/2b0mQIEExY8xtyZA1sVtNIC3JkD+ZffkYcEmQBUdyeU/xCZAswxxrIu7JkAIrBxaZLsmQKJFtvP9tCZAFR3J5T/EJkCQMXctIb8mQM07TtGRvCZAb/CFyVTBJkDMXUvIB70mQOXyH9JvvyZAzTtO0ZG8JkB4nKIjubwmQLWmeccpuiZAF9nO91PDJkDc14FzRrQmQK+UZYhjvSZAuECC4se4JkDgnBGlvcEmQE9AE2HDsyZAZ9Xnaiu2JkDMf0i/fb0mQJHtfD81viZAB84ZUdq7JkB4nKIjubwmQM07TtGRvCZAcM6I0t7AJkAydy0hH7QmQJm7lpAPuiZAbjSAt0DCJkCQMXctIb8mQFXBqKROwCZAVn2utmK/JkAHzhlR2rsmQEMc6+I2uiZA845TdCS3JkCkcD0K18MmQFCNl24SwyZA0NVW7C+7JkAGEhQ/xrwmQCPb+X5qvCZApgpGJXXCJkCiRbbz/bQmQE2EDU+vtCZAP8bctYS8JkA5tMh2vr8mQNDVVuwvuyZA5q4l5IO+JkCutmJ/2b0mQFg5tMh2viZAETY8vVK2JkAoDwu1prkmQO58PzVeuiZALGUZ4li3JkBCPujZrLomQN4CCYofwyZAb/CFyVTBJkB90LNZ9bkmQJEPejarviZAHOviNhrAJkDCFyZTBcMmQMdLN4lBwCZAcM6I0t7AJkB5WKg1zbsmQNbFbTSAtyZABhIUP8a8JkDmriXkg74mQBE2PL1StiZAxyk6ksu/JkA/xty1hLwmQJEPejarviZAjnVxGw3AJkDgnBGlvcEmQPH0SlmGuCZAzH9Iv329JkADeAskKL4mQIenV8oyxCZAArwFEhS/JkDQ1VbsL7smQEXY8PRKuSZAtaZ5xym6JkB4nKIjubwmQMrDQq1pviZAWvW52oq9JkDIBz2bVb8mQKqCUUmdwCZAiUFg5dDCJkCSy39Iv70mQBpR2ht8wSZA4JwRpb3BJkCUh4Va07wmQM/3U+OluyZAwcqhRbazJkDFjzF3LcEmQMgHPZtVvyZA5fIf0m+/JkCHp1fKMsQmQOauJeSDviZAP8bctYS8JkAgQfFjzL0mQNGRXP5DuiZAwOyePCy0JkBPr5RliMMmQEGC4seYuyZAp+hILv/BJkC2hHzQs7kmQCEf9GxWvSZAfPKwUGu6JkBzaJHtfL8mQMWPMXctwSZAtoR80LO5JkARNjy9UrYmQLaEfNCzuSZAk6mCUUm9JkCGONbFbbQmQO58PzVeuiZA0ZFc/kO6JkDtnjws1LomQFg5tMh2viZA5BQdyeW/JkDOGVHaG7wmQKFns+pztSZAP8bctYS8JkClLEMc68ImQJYhjnVxuyZAwcqhRbazJkAQWDm0yLYmQMxdS8gHvSZA",
          "dtype": "f8"
         },
         "marker": {
          "color": [
           "#023eff",
           "#023eff",
           "#023eff",
           "#023eff",
           "#023eff",
           "#023eff",
           "#023eff",
           "#023eff",
           "#023eff",
           "#023eff",
           "#023eff",
           "#023eff",
           "#023eff",
           "#023eff",
           "#023eff",
           "#023eff",
           "#023eff",
           "#023eff",
           "#023eff",
           "#023eff",
           "#023eff",
           "#023eff",
           "#023eff",
           "#023eff",
           "#023eff",
           "#023eff",
           "#023eff",
           "#023eff",
           "#023eff",
           "#023eff",
           "#023eff",
           "#023eff",
           "#023eff",
           "#023eff",
           "#023eff",
           "#023eff",
           "#023eff",
           "#023eff",
           "#023eff",
           "#023eff",
           "#023eff",
           "#023eff",
           "#023eff",
           "#023eff",
           "#023eff",
           "#023eff",
           "#023eff",
           "#023eff",
           "#023eff",
           "#023eff",
           "#023eff",
           "#023eff",
           "#023eff",
           "#023eff",
           "#023eff",
           "#023eff",
           "#023eff",
           "#023eff",
           "#023eff",
           "#023eff",
           "#023eff",
           "#023eff",
           "#023eff",
           "#023eff",
           "#023eff",
           "#023eff",
           "#023eff",
           "#023eff",
           "#023eff",
           "#023eff",
           "#023eff",
           "#023eff",
           "#023eff",
           "#023eff",
           "#023eff",
           "#023eff",
           "#023eff",
           "#023eff",
           "#023eff",
           "#023eff",
           "#023eff",
           "#023eff",
           "#023eff",
           "#023eff",
           "#023eff",
           "#023eff",
           "#023eff",
           "#023eff",
           "#023eff",
           "#023eff",
           "#023eff",
           "#023eff",
           "#023eff",
           "#023eff",
           "#023eff",
           "#023eff",
           "#023eff",
           "#023eff",
           "#023eff",
           "#023eff",
           "#023eff",
           "#023eff",
           "#023eff",
           "#023eff",
           "#023eff",
           "#023eff",
           "#023eff",
           "#023eff",
           "#023eff",
           "#023eff",
           "#023eff",
           "#023eff",
           "#023eff",
           "#023eff",
           "#023eff",
           "#023eff",
           "#023eff",
           "#023eff",
           "#023eff",
           "#023eff",
           "#023eff",
           "#023eff",
           "#023eff",
           "#023eff",
           "#023eff",
           "#023eff",
           "#023eff",
           "#023eff",
           "#023eff",
           "#023eff",
           "#023eff",
           "#023eff",
           "#023eff",
           "#023eff",
           "#023eff",
           "#023eff",
           "#023eff",
           "#023eff",
           "#023eff",
           "#023eff",
           "#023eff",
           "#023eff",
           "#023eff",
           "#023eff",
           "#023eff",
           "#023eff",
           "#023eff"
          ],
          "size": 8
         },
         "mode": "markers",
         "showlegend": false,
         "type": "scattermapbox"
        }
       ],
       "layout": {
        "mapbox": {
         "center": {
          "lat": 53.64525238095238,
          "lon": 11.368850340136055
         },
         "style": "open-street-map",
         "zoom": 11.961600000000004
        },
        "margin": {
         "b": 0,
         "l": 0,
         "r": 0,
         "t": 0
        },
        "showlegend": false,
        "template": {
         "data": {
          "bar": [
           {
            "error_x": {
             "color": "#2a3f5f"
            },
            "error_y": {
             "color": "#2a3f5f"
            },
            "marker": {
             "line": {
              "color": "#E5ECF6",
              "width": 0.5
             },
             "pattern": {
              "fillmode": "overlay",
              "size": 10,
              "solidity": 0.2
             }
            },
            "type": "bar"
           }
          ],
          "barpolar": [
           {
            "marker": {
             "line": {
              "color": "#E5ECF6",
              "width": 0.5
             },
             "pattern": {
              "fillmode": "overlay",
              "size": 10,
              "solidity": 0.2
             }
            },
            "type": "barpolar"
           }
          ],
          "carpet": [
           {
            "aaxis": {
             "endlinecolor": "#2a3f5f",
             "gridcolor": "white",
             "linecolor": "white",
             "minorgridcolor": "white",
             "startlinecolor": "#2a3f5f"
            },
            "baxis": {
             "endlinecolor": "#2a3f5f",
             "gridcolor": "white",
             "linecolor": "white",
             "minorgridcolor": "white",
             "startlinecolor": "#2a3f5f"
            },
            "type": "carpet"
           }
          ],
          "choropleth": [
           {
            "colorbar": {
             "outlinewidth": 0,
             "ticks": ""
            },
            "type": "choropleth"
           }
          ],
          "contour": [
           {
            "colorbar": {
             "outlinewidth": 0,
             "ticks": ""
            },
            "colorscale": [
             [
              0.0,
              "#0d0887"
             ],
             [
              0.1111111111111111,
              "#46039f"
             ],
             [
              0.2222222222222222,
              "#7201a8"
             ],
             [
              0.3333333333333333,
              "#9c179e"
             ],
             [
              0.4444444444444444,
              "#bd3786"
             ],
             [
              0.5555555555555556,
              "#d8576b"
             ],
             [
              0.6666666666666666,
              "#ed7953"
             ],
             [
              0.7777777777777778,
              "#fb9f3a"
             ],
             [
              0.8888888888888888,
              "#fdca26"
             ],
             [
              1.0,
              "#f0f921"
             ]
            ],
            "type": "contour"
           }
          ],
          "contourcarpet": [
           {
            "colorbar": {
             "outlinewidth": 0,
             "ticks": ""
            },
            "type": "contourcarpet"
           }
          ],
          "heatmap": [
           {
            "colorbar": {
             "outlinewidth": 0,
             "ticks": ""
            },
            "colorscale": [
             [
              0.0,
              "#0d0887"
             ],
             [
              0.1111111111111111,
              "#46039f"
             ],
             [
              0.2222222222222222,
              "#7201a8"
             ],
             [
              0.3333333333333333,
              "#9c179e"
             ],
             [
              0.4444444444444444,
              "#bd3786"
             ],
             [
              0.5555555555555556,
              "#d8576b"
             ],
             [
              0.6666666666666666,
              "#ed7953"
             ],
             [
              0.7777777777777778,
              "#fb9f3a"
             ],
             [
              0.8888888888888888,
              "#fdca26"
             ],
             [
              1.0,
              "#f0f921"
             ]
            ],
            "type": "heatmap"
           }
          ],
          "histogram": [
           {
            "marker": {
             "pattern": {
              "fillmode": "overlay",
              "size": 10,
              "solidity": 0.2
             }
            },
            "type": "histogram"
           }
          ],
          "histogram2d": [
           {
            "colorbar": {
             "outlinewidth": 0,
             "ticks": ""
            },
            "colorscale": [
             [
              0.0,
              "#0d0887"
             ],
             [
              0.1111111111111111,
              "#46039f"
             ],
             [
              0.2222222222222222,
              "#7201a8"
             ],
             [
              0.3333333333333333,
              "#9c179e"
             ],
             [
              0.4444444444444444,
              "#bd3786"
             ],
             [
              0.5555555555555556,
              "#d8576b"
             ],
             [
              0.6666666666666666,
              "#ed7953"
             ],
             [
              0.7777777777777778,
              "#fb9f3a"
             ],
             [
              0.8888888888888888,
              "#fdca26"
             ],
             [
              1.0,
              "#f0f921"
             ]
            ],
            "type": "histogram2d"
           }
          ],
          "histogram2dcontour": [
           {
            "colorbar": {
             "outlinewidth": 0,
             "ticks": ""
            },
            "colorscale": [
             [
              0.0,
              "#0d0887"
             ],
             [
              0.1111111111111111,
              "#46039f"
             ],
             [
              0.2222222222222222,
              "#7201a8"
             ],
             [
              0.3333333333333333,
              "#9c179e"
             ],
             [
              0.4444444444444444,
              "#bd3786"
             ],
             [
              0.5555555555555556,
              "#d8576b"
             ],
             [
              0.6666666666666666,
              "#ed7953"
             ],
             [
              0.7777777777777778,
              "#fb9f3a"
             ],
             [
              0.8888888888888888,
              "#fdca26"
             ],
             [
              1.0,
              "#f0f921"
             ]
            ],
            "type": "histogram2dcontour"
           }
          ],
          "mesh3d": [
           {
            "colorbar": {
             "outlinewidth": 0,
             "ticks": ""
            },
            "type": "mesh3d"
           }
          ],
          "parcoords": [
           {
            "line": {
             "colorbar": {
              "outlinewidth": 0,
              "ticks": ""
             }
            },
            "type": "parcoords"
           }
          ],
          "pie": [
           {
            "automargin": true,
            "type": "pie"
           }
          ],
          "scatter": [
           {
            "fillpattern": {
             "fillmode": "overlay",
             "size": 10,
             "solidity": 0.2
            },
            "type": "scatter"
           }
          ],
          "scatter3d": [
           {
            "line": {
             "colorbar": {
              "outlinewidth": 0,
              "ticks": ""
             }
            },
            "marker": {
             "colorbar": {
              "outlinewidth": 0,
              "ticks": ""
             }
            },
            "type": "scatter3d"
           }
          ],
          "scattercarpet": [
           {
            "marker": {
             "colorbar": {
              "outlinewidth": 0,
              "ticks": ""
             }
            },
            "type": "scattercarpet"
           }
          ],
          "scattergeo": [
           {
            "marker": {
             "colorbar": {
              "outlinewidth": 0,
              "ticks": ""
             }
            },
            "type": "scattergeo"
           }
          ],
          "scattergl": [
           {
            "marker": {
             "colorbar": {
              "outlinewidth": 0,
              "ticks": ""
             }
            },
            "type": "scattergl"
           }
          ],
          "scattermap": [
           {
            "marker": {
             "colorbar": {
              "outlinewidth": 0,
              "ticks": ""
             }
            },
            "type": "scattermap"
           }
          ],
          "scattermapbox": [
           {
            "marker": {
             "colorbar": {
              "outlinewidth": 0,
              "ticks": ""
             }
            },
            "type": "scattermapbox"
           }
          ],
          "scatterpolar": [
           {
            "marker": {
             "colorbar": {
              "outlinewidth": 0,
              "ticks": ""
             }
            },
            "type": "scatterpolar"
           }
          ],
          "scatterpolargl": [
           {
            "marker": {
             "colorbar": {
              "outlinewidth": 0,
              "ticks": ""
             }
            },
            "type": "scatterpolargl"
           }
          ],
          "scatterternary": [
           {
            "marker": {
             "colorbar": {
              "outlinewidth": 0,
              "ticks": ""
             }
            },
            "type": "scatterternary"
           }
          ],
          "surface": [
           {
            "colorbar": {
             "outlinewidth": 0,
             "ticks": ""
            },
            "colorscale": [
             [
              0.0,
              "#0d0887"
             ],
             [
              0.1111111111111111,
              "#46039f"
             ],
             [
              0.2222222222222222,
              "#7201a8"
             ],
             [
              0.3333333333333333,
              "#9c179e"
             ],
             [
              0.4444444444444444,
              "#bd3786"
             ],
             [
              0.5555555555555556,
              "#d8576b"
             ],
             [
              0.6666666666666666,
              "#ed7953"
             ],
             [
              0.7777777777777778,
              "#fb9f3a"
             ],
             [
              0.8888888888888888,
              "#fdca26"
             ],
             [
              1.0,
              "#f0f921"
             ]
            ],
            "type": "surface"
           }
          ],
          "table": [
           {
            "cells": {
             "fill": {
              "color": "#EBF0F8"
             },
             "line": {
              "color": "white"
             }
            },
            "header": {
             "fill": {
              "color": "#C8D4E3"
             },
             "line": {
              "color": "white"
             }
            },
            "type": "table"
           }
          ]
         },
         "layout": {
          "annotationdefaults": {
           "arrowcolor": "#2a3f5f",
           "arrowhead": 0,
           "arrowwidth": 1
          },
          "autotypenumbers": "strict",
          "coloraxis": {
           "colorbar": {
            "outlinewidth": 0,
            "ticks": ""
           }
          },
          "colorscale": {
           "diverging": [
            [
             0,
             "#8e0152"
            ],
            [
             0.1,
             "#c51b7d"
            ],
            [
             0.2,
             "#de77ae"
            ],
            [
             0.3,
             "#f1b6da"
            ],
            [
             0.4,
             "#fde0ef"
            ],
            [
             0.5,
             "#f7f7f7"
            ],
            [
             0.6,
             "#e6f5d0"
            ],
            [
             0.7,
             "#b8e186"
            ],
            [
             0.8,
             "#7fbc41"
            ],
            [
             0.9,
             "#4d9221"
            ],
            [
             1,
             "#276419"
            ]
           ],
           "sequential": [
            [
             0.0,
             "#0d0887"
            ],
            [
             0.1111111111111111,
             "#46039f"
            ],
            [
             0.2222222222222222,
             "#7201a8"
            ],
            [
             0.3333333333333333,
             "#9c179e"
            ],
            [
             0.4444444444444444,
             "#bd3786"
            ],
            [
             0.5555555555555556,
             "#d8576b"
            ],
            [
             0.6666666666666666,
             "#ed7953"
            ],
            [
             0.7777777777777778,
             "#fb9f3a"
            ],
            [
             0.8888888888888888,
             "#fdca26"
            ],
            [
             1.0,
             "#f0f921"
            ]
           ],
           "sequentialminus": [
            [
             0.0,
             "#0d0887"
            ],
            [
             0.1111111111111111,
             "#46039f"
            ],
            [
             0.2222222222222222,
             "#7201a8"
            ],
            [
             0.3333333333333333,
             "#9c179e"
            ],
            [
             0.4444444444444444,
             "#bd3786"
            ],
            [
             0.5555555555555556,
             "#d8576b"
            ],
            [
             0.6666666666666666,
             "#ed7953"
            ],
            [
             0.7777777777777778,
             "#fb9f3a"
            ],
            [
             0.8888888888888888,
             "#fdca26"
            ],
            [
             1.0,
             "#f0f921"
            ]
           ]
          },
          "colorway": [
           "#636efa",
           "#EF553B",
           "#00cc96",
           "#ab63fa",
           "#FFA15A",
           "#19d3f3",
           "#FF6692",
           "#B6E880",
           "#FF97FF",
           "#FECB52"
          ],
          "font": {
           "color": "#2a3f5f"
          },
          "geo": {
           "bgcolor": "white",
           "lakecolor": "white",
           "landcolor": "#E5ECF6",
           "showlakes": true,
           "showland": true,
           "subunitcolor": "white"
          },
          "hoverlabel": {
           "align": "left"
          },
          "hovermode": "closest",
          "mapbox": {
           "style": "light"
          },
          "paper_bgcolor": "white",
          "plot_bgcolor": "#E5ECF6",
          "polar": {
           "angularaxis": {
            "gridcolor": "white",
            "linecolor": "white",
            "ticks": ""
           },
           "bgcolor": "#E5ECF6",
           "radialaxis": {
            "gridcolor": "white",
            "linecolor": "white",
            "ticks": ""
           }
          },
          "scene": {
           "xaxis": {
            "backgroundcolor": "#E5ECF6",
            "gridcolor": "white",
            "gridwidth": 2,
            "linecolor": "white",
            "showbackground": true,
            "ticks": "",
            "zerolinecolor": "white"
           },
           "yaxis": {
            "backgroundcolor": "#E5ECF6",
            "gridcolor": "white",
            "gridwidth": 2,
            "linecolor": "white",
            "showbackground": true,
            "ticks": "",
            "zerolinecolor": "white"
           },
           "zaxis": {
            "backgroundcolor": "#E5ECF6",
            "gridcolor": "white",
            "gridwidth": 2,
            "linecolor": "white",
            "showbackground": true,
            "ticks": "",
            "zerolinecolor": "white"
           }
          },
          "shapedefaults": {
           "line": {
            "color": "#2a3f5f"
           }
          },
          "ternary": {
           "aaxis": {
            "gridcolor": "white",
            "linecolor": "white",
            "ticks": ""
           },
           "baxis": {
            "gridcolor": "white",
            "linecolor": "white",
            "ticks": ""
           },
           "bgcolor": "#E5ECF6",
           "caxis": {
            "gridcolor": "white",
            "linecolor": "white",
            "ticks": ""
           }
          },
          "title": {
           "x": 0.05
          },
          "xaxis": {
           "automargin": true,
           "gridcolor": "white",
           "linecolor": "white",
           "ticks": "",
           "title": {
            "standoff": 15
           },
           "zerolinecolor": "white",
           "zerolinewidth": 2
          },
          "yaxis": {
           "automargin": true,
           "gridcolor": "white",
           "linecolor": "white",
           "ticks": "",
           "title": {
            "standoff": 15
           },
           "zerolinecolor": "white",
           "zerolinewidth": 2
          }
         }
        }
       }
      }
     },
     "metadata": {},
     "output_type": "display_data"
    }
   ],
   "source": [
    "# NBVAL_SKIP\n",
    "from pypsdm.plots.grid import grid_plot\n",
    "\n",
    "# Use the grid_plot method to visualize the grid model\n",
    "# only works if the underlying node input files have associated coordinates\n",
    "grid_plot(gwr.grid)"
   ]
  },
  {
   "cell_type": "code",
   "execution_count": null,
   "metadata": {},
   "outputs": [],
   "source": [
    "results = gwr.results\n",
    "# The grid results are symmetrical to the input grid, so there is a result container\n",
    "# for participants and for the raw grid.\n",
    "raw_grid_res = results.raw_grid\n",
    "participants_res = results.participants"
   ]
  },
  {
   "cell_type": "code",
   "execution_count": null,
   "metadata": {},
   "outputs": [],
   "source": [
    "# Results for each grid element and participant is a discrete event time series\n",
    "# which basically means each recorded state of e.g. a node (consisting of current magnitude, and angle)\n",
    "# is valid until the next recorded state.\n",
    "\n",
    "nodes_res = raw_grid_res.nodes\n",
    "# Reminder: you can also access the nodes result directly from the gwr e.g. gwr.nodes_res\n",
    "nodes_res = gwr.nodes_res"
   ]
  },
  {
   "cell_type": "code",
   "execution_count": null,
   "metadata": {},
   "outputs": [
    {
     "data": {
      "text/html": [
       "<div>\n",
       "<style scoped>\n",
       "    .dataframe tbody tr th:only-of-type {\n",
       "        vertical-align: middle;\n",
       "    }\n",
       "\n",
       "    .dataframe tbody tr th {\n",
       "        vertical-align: top;\n",
       "    }\n",
       "\n",
       "    .dataframe thead th {\n",
       "        text-align: right;\n",
       "    }\n",
       "</style>\n",
       "<table border=\"1\" class=\"dataframe\">\n",
       "  <thead>\n",
       "    <tr style=\"text-align: right;\">\n",
       "      <th></th>\n",
       "      <th>v_ang</th>\n",
       "      <th>v_mag</th>\n",
       "    </tr>\n",
       "    <tr>\n",
       "      <th>time</th>\n",
       "      <th></th>\n",
       "      <th></th>\n",
       "    </tr>\n",
       "  </thead>\n",
       "  <tbody>\n",
       "    <tr>\n",
       "      <th>2016-01-02 00:00:00</th>\n",
       "      <td>-1.870384</td>\n",
       "      <td>1.028498</td>\n",
       "    </tr>\n",
       "    <tr>\n",
       "      <th>2016-01-02 01:00:00</th>\n",
       "      <td>-1.762598</td>\n",
       "      <td>1.029275</td>\n",
       "    </tr>\n",
       "    <tr>\n",
       "      <th>2016-01-02 02:00:00</th>\n",
       "      <td>-1.484783</td>\n",
       "      <td>1.031397</td>\n",
       "    </tr>\n",
       "    <tr>\n",
       "      <th>2016-01-02 03:00:00</th>\n",
       "      <td>-1.761274</td>\n",
       "      <td>1.029855</td>\n",
       "    </tr>\n",
       "    <tr>\n",
       "      <th>2016-01-02 04:00:00</th>\n",
       "      <td>-1.776910</td>\n",
       "      <td>1.029577</td>\n",
       "    </tr>\n",
       "  </tbody>\n",
       "</table>\n",
       "</div>"
      ],
      "text/plain": [
       "                        v_ang     v_mag\n",
       "time                                   \n",
       "2016-01-02 00:00:00 -1.870384  1.028498\n",
       "2016-01-02 01:00:00 -1.762598  1.029275\n",
       "2016-01-02 02:00:00 -1.484783  1.031397\n",
       "2016-01-02 03:00:00 -1.761274  1.029855\n",
       "2016-01-02 04:00:00 -1.776910  1.029577"
      ]
     },
     "execution_count": null,
     "metadata": {},
     "output_type": "execute_result"
    }
   ],
   "source": [
    "# The underlying structure of the result data is a dictionary subclass\n",
    "# the values of the dictionary are dependent on the result model\n",
    "# e.g. the result dictionary NodesResult contains ComplexVoltage objects\n",
    "\n",
    "\n",
    "# You can access items as you would with a standard dictionary\n",
    "uuid = list(nodes_res.keys())[0]\n",
    "node_res = nodes_res[uuid]\n",
    "\n",
    "# Similar to the input models the underlying data structure of each singular result object\n",
    "# is a pandas DataFrame with a date time index\n",
    "node_res.data.head()"
   ]
  },
  {
   "cell_type": "code",
   "execution_count": null,
   "metadata": {},
   "outputs": [
    {
     "data": {
      "text/html": [
       "<div>\n",
       "<style scoped>\n",
       "    .dataframe tbody tr th:only-of-type {\n",
       "        vertical-align: middle;\n",
       "    }\n",
       "\n",
       "    .dataframe tbody tr th {\n",
       "        vertical-align: top;\n",
       "    }\n",
       "\n",
       "    .dataframe thead th {\n",
       "        text-align: right;\n",
       "    }\n",
       "</style>\n",
       "<table border=\"1\" class=\"dataframe\">\n",
       "  <thead>\n",
       "    <tr style=\"text-align: right;\">\n",
       "      <th></th>\n",
       "      <th>v_mag</th>\n",
       "      <th>v_ang</th>\n",
       "    </tr>\n",
       "  </thead>\n",
       "  <tbody>\n",
       "  </tbody>\n",
       "</table>\n",
       "</div>"
      ],
      "text/plain": [
       "Empty DataFrame\n",
       "Columns: [v_mag, v_ang]\n",
       "Index: []"
      ]
     },
     "execution_count": null,
     "metadata": {},
     "output_type": "execute_result"
    }
   ],
   "source": [
    "from datetime import datetime\n",
    "\n",
    "\n",
    "# If you want to look at some time interval, you can slice the result models with date\n",
    "# time objects\n",
    "start = datetime(2016, 1, 1)\n",
    "end = datetime(2016, 1, 1, 1)\n",
    "sliced_node_res = node_res[start:end]\n",
    "sliced_node_res.data"
   ]
  },
  {
   "cell_type": "code",
   "execution_count": null,
   "metadata": {},
   "outputs": [
    {
     "data": {
      "text/html": [
       "<div>\n",
       "<style scoped>\n",
       "    .dataframe tbody tr th:only-of-type {\n",
       "        vertical-align: middle;\n",
       "    }\n",
       "\n",
       "    .dataframe tbody tr th {\n",
       "        vertical-align: top;\n",
       "    }\n",
       "\n",
       "    .dataframe thead th {\n",
       "        text-align: right;\n",
       "    }\n",
       "</style>\n",
       "<table border=\"1\" class=\"dataframe\">\n",
       "  <thead>\n",
       "    <tr style=\"text-align: right;\">\n",
       "      <th></th>\n",
       "      <th>v_mag</th>\n",
       "      <th>v_ang</th>\n",
       "    </tr>\n",
       "  </thead>\n",
       "  <tbody>\n",
       "  </tbody>\n",
       "</table>\n",
       "</div>"
      ],
      "text/plain": [
       "Empty DataFrame\n",
       "Columns: [v_mag, v_ang]\n",
       "Index: []"
      ]
     },
     "execution_count": null,
     "metadata": {},
     "output_type": "execute_result"
    }
   ],
   "source": [
    "from pypsdm.models.result.grid.node import NodesResult\n",
    "\n",
    "\n",
    "# You can also filter the whole dictionary for a time interval\n",
    "sliced_nodes_res = nodes_res.interval(start, end)\n",
    "sliced_nodes_res[uuid].data"
   ]
  },
  {
   "cell_type": "code",
   "execution_count": null,
   "metadata": {},
   "outputs": [
    {
     "data": {
      "text/html": [
       "<div>\n",
       "<style scoped>\n",
       "    .dataframe tbody tr th:only-of-type {\n",
       "        vertical-align: middle;\n",
       "    }\n",
       "\n",
       "    .dataframe tbody tr th {\n",
       "        vertical-align: top;\n",
       "    }\n",
       "\n",
       "    .dataframe thead th {\n",
       "        text-align: right;\n",
       "    }\n",
       "</style>\n",
       "<table border=\"1\" class=\"dataframe\">\n",
       "  <thead>\n",
       "    <tr style=\"text-align: right;\">\n",
       "      <th></th>\n",
       "      <th>p</th>\n",
       "      <th>q</th>\n",
       "    </tr>\n",
       "    <tr>\n",
       "      <th>time</th>\n",
       "      <th></th>\n",
       "      <th></th>\n",
       "    </tr>\n",
       "  </thead>\n",
       "  <tbody>\n",
       "    <tr>\n",
       "      <th>2016-01-02 00:00:00</th>\n",
       "      <td>0.062105</td>\n",
       "      <td>0.019104</td>\n",
       "    </tr>\n",
       "    <tr>\n",
       "      <th>2016-01-02 01:00:00</th>\n",
       "      <td>0.061128</td>\n",
       "      <td>0.018259</td>\n",
       "    </tr>\n",
       "    <tr>\n",
       "      <th>2016-01-02 02:00:00</th>\n",
       "      <td>0.163112</td>\n",
       "      <td>0.052141</td>\n",
       "    </tr>\n",
       "    <tr>\n",
       "      <th>2016-01-02 03:00:00</th>\n",
       "      <td>0.122642</td>\n",
       "      <td>0.038348</td>\n",
       "    </tr>\n",
       "    <tr>\n",
       "      <th>2016-01-02 04:00:00</th>\n",
       "      <td>0.169063</td>\n",
       "      <td>0.056043</td>\n",
       "    </tr>\n",
       "  </tbody>\n",
       "</table>\n",
       "</div>"
      ],
      "text/plain": [
       "                            p         q\n",
       "time                                   \n",
       "2016-01-02 00:00:00  0.062105  0.019104\n",
       "2016-01-02 01:00:00  0.061128  0.018259\n",
       "2016-01-02 02:00:00  0.163112  0.052141\n",
       "2016-01-02 03:00:00  0.122642  0.038348\n",
       "2016-01-02 04:00:00  0.169063  0.056043"
      ]
     },
     "execution_count": null,
     "metadata": {},
     "output_type": "execute_result"
    }
   ],
   "source": [
    "# For participants all things look mostly the same\n",
    "# The type of results are mostly of type PQResult, containing active and reactive power\n",
    "\n",
    "\n",
    "loads_res = participants_res.loads\n",
    "load_res = loads_res[list(loads_res.keys())[0]]\n",
    "load_res.data.head()"
   ]
  },
  {
   "cell_type": "code",
   "execution_count": null,
   "metadata": {},
   "outputs": [
    {
     "data": {
      "text/html": [
       "<div>\n",
       "<style scoped>\n",
       "    .dataframe tbody tr th:only-of-type {\n",
       "        vertical-align: middle;\n",
       "    }\n",
       "\n",
       "    .dataframe tbody tr th {\n",
       "        vertical-align: top;\n",
       "    }\n",
       "\n",
       "    .dataframe thead th {\n",
       "        text-align: right;\n",
       "    }\n",
       "</style>\n",
       "<table border=\"1\" class=\"dataframe\">\n",
       "  <thead>\n",
       "    <tr style=\"text-align: right;\">\n",
       "      <th></th>\n",
       "      <th>p</th>\n",
       "      <th>q</th>\n",
       "    </tr>\n",
       "    <tr>\n",
       "      <th>time</th>\n",
       "      <th></th>\n",
       "      <th></th>\n",
       "    </tr>\n",
       "  </thead>\n",
       "  <tbody>\n",
       "    <tr>\n",
       "      <th>2016-01-02 00:00:00</th>\n",
       "      <td>0.093124</td>\n",
       "      <td>0.033244</td>\n",
       "    </tr>\n",
       "    <tr>\n",
       "      <th>2016-01-02 01:00:00</th>\n",
       "      <td>0.084232</td>\n",
       "      <td>0.029093</td>\n",
       "    </tr>\n",
       "    <tr>\n",
       "      <th>2016-01-02 02:00:00</th>\n",
       "      <td>0.186671</td>\n",
       "      <td>0.062597</td>\n",
       "    </tr>\n",
       "    <tr>\n",
       "      <th>2016-01-02 03:00:00</th>\n",
       "      <td>0.149893</td>\n",
       "      <td>0.051081</td>\n",
       "    </tr>\n",
       "    <tr>\n",
       "      <th>2016-01-02 04:00:00</th>\n",
       "      <td>0.202280</td>\n",
       "      <td>0.071568</td>\n",
       "    </tr>\n",
       "  </tbody>\n",
       "</table>\n",
       "</div>"
      ],
      "text/plain": [
       "                            p         q\n",
       "time                                   \n",
       "2016-01-02 00:00:00  0.093124  0.033244\n",
       "2016-01-02 01:00:00  0.084232  0.029093\n",
       "2016-01-02 02:00:00  0.186671  0.062597\n",
       "2016-01-02 03:00:00  0.149893  0.051081\n",
       "2016-01-02 04:00:00  0.202280  0.071568"
      ]
     },
     "execution_count": null,
     "metadata": {},
     "output_type": "execute_result"
    }
   ],
   "source": [
    "# There are calculation utilities implemented where it makes sense\n",
    "load_res2 = loads_res[list(loads_res.keys())[1]]\n",
    "load_sum = load_res + load_res2\n",
    "load_sum.data.head()"
   ]
  },
  {
   "cell_type": "code",
   "execution_count": null,
   "metadata": {},
   "outputs": [
    {
     "data": {
      "text/html": [
       "<div>\n",
       "<style scoped>\n",
       "    .dataframe tbody tr th:only-of-type {\n",
       "        vertical-align: middle;\n",
       "    }\n",
       "\n",
       "    .dataframe tbody tr th {\n",
       "        vertical-align: top;\n",
       "    }\n",
       "\n",
       "    .dataframe thead th {\n",
       "        text-align: right;\n",
       "    }\n",
       "</style>\n",
       "<table border=\"1\" class=\"dataframe\">\n",
       "  <thead>\n",
       "    <tr style=\"text-align: right;\">\n",
       "      <th></th>\n",
       "      <th>p</th>\n",
       "      <th>q</th>\n",
       "    </tr>\n",
       "    <tr>\n",
       "      <th>time</th>\n",
       "      <th></th>\n",
       "      <th></th>\n",
       "    </tr>\n",
       "  </thead>\n",
       "  <tbody>\n",
       "    <tr>\n",
       "      <th>2016-01-02 00:00:00</th>\n",
       "      <td>10.749625</td>\n",
       "      <td>3.744239</td>\n",
       "    </tr>\n",
       "    <tr>\n",
       "      <th>2016-01-02 01:00:00</th>\n",
       "      <td>9.165363</td>\n",
       "      <td>3.183876</td>\n",
       "    </tr>\n",
       "    <tr>\n",
       "      <th>2016-01-02 02:00:00</th>\n",
       "      <td>10.923088</td>\n",
       "      <td>3.587497</td>\n",
       "    </tr>\n",
       "    <tr>\n",
       "      <th>2016-01-02 03:00:00</th>\n",
       "      <td>10.960480</td>\n",
       "      <td>3.691865</td>\n",
       "    </tr>\n",
       "    <tr>\n",
       "      <th>2016-01-02 04:00:00</th>\n",
       "      <td>12.256203</td>\n",
       "      <td>4.184011</td>\n",
       "    </tr>\n",
       "  </tbody>\n",
       "</table>\n",
       "</div>"
      ],
      "text/plain": [
       "                             p         q\n",
       "time                                    \n",
       "2016-01-02 00:00:00  10.749625  3.744239\n",
       "2016-01-02 01:00:00   9.165363  3.183876\n",
       "2016-01-02 02:00:00  10.923088  3.587497\n",
       "2016-01-02 03:00:00  10.960480  3.691865\n",
       "2016-01-02 04:00:00  12.256203  4.184011"
      ]
     },
     "execution_count": null,
     "metadata": {},
     "output_type": "execute_result"
    }
   ],
   "source": [
    "# You can also calculate the sum for all participants\n",
    "total_loads_res = loads_res.sum()\n",
    "total_loads_res.data.head()"
   ]
  },
  {
   "cell_type": "code",
   "execution_count": null,
   "metadata": {},
   "outputs": [
    {
     "data": {
      "text/html": [
       "<div>\n",
       "<style scoped>\n",
       "    .dataframe tbody tr th:only-of-type {\n",
       "        vertical-align: middle;\n",
       "    }\n",
       "\n",
       "    .dataframe tbody tr th {\n",
       "        vertical-align: top;\n",
       "    }\n",
       "\n",
       "    .dataframe thead th {\n",
       "        text-align: right;\n",
       "    }\n",
       "</style>\n",
       "<table border=\"1\" class=\"dataframe\">\n",
       "  <thead>\n",
       "    <tr style=\"text-align: right;\">\n",
       "      <th></th>\n",
       "      <th>MV3.101 Load 35</th>\n",
       "      <th>MV3.101 Load 128</th>\n",
       "      <th>MV3.101 Load 32</th>\n",
       "      <th>MV3.101 Load 4</th>\n",
       "      <th>MV3.101 Load 102</th>\n",
       "      <th>MV3.101 Load 9</th>\n",
       "      <th>MV3.101 Load 127</th>\n",
       "      <th>MV3.101 Load 39</th>\n",
       "      <th>MV3.101 Load 30</th>\n",
       "      <th>MV3.101 Load 57</th>\n",
       "      <th>...</th>\n",
       "      <th>MV3.101 Load 124</th>\n",
       "      <th>MV3.101 MV Load 4</th>\n",
       "      <th>MV3.101 Load 41</th>\n",
       "      <th>MV3.101 Load 56</th>\n",
       "      <th>MV3.101 Load 22</th>\n",
       "      <th>MV3.101 Load 75</th>\n",
       "      <th>MV3.101 Load 83</th>\n",
       "      <th>MV3.101 Load 126</th>\n",
       "      <th>MV3.101 Load 132</th>\n",
       "      <th>MV3.101 Load 99</th>\n",
       "    </tr>\n",
       "    <tr>\n",
       "      <th>time</th>\n",
       "      <th></th>\n",
       "      <th></th>\n",
       "      <th></th>\n",
       "      <th></th>\n",
       "      <th></th>\n",
       "      <th></th>\n",
       "      <th></th>\n",
       "      <th></th>\n",
       "      <th></th>\n",
       "      <th></th>\n",
       "      <th></th>\n",
       "      <th></th>\n",
       "      <th></th>\n",
       "      <th></th>\n",
       "      <th></th>\n",
       "      <th></th>\n",
       "      <th></th>\n",
       "      <th></th>\n",
       "      <th></th>\n",
       "      <th></th>\n",
       "      <th></th>\n",
       "    </tr>\n",
       "  </thead>\n",
       "  <tbody>\n",
       "    <tr>\n",
       "      <th>2016-01-02 00:00:00</th>\n",
       "      <td>0.062105</td>\n",
       "      <td>0.031019</td>\n",
       "      <td>0.059087</td>\n",
       "      <td>0.059715</td>\n",
       "      <td>0.121197</td>\n",
       "      <td>0.043861</td>\n",
       "      <td>0.166768</td>\n",
       "      <td>0.005233</td>\n",
       "      <td>0.002842</td>\n",
       "      <td>0.042601</td>\n",
       "      <td>...</td>\n",
       "      <td>0.062863</td>\n",
       "      <td>0.009084</td>\n",
       "      <td>0.038872</td>\n",
       "      <td>0.096683</td>\n",
       "      <td>0.006709</td>\n",
       "      <td>0.076917</td>\n",
       "      <td>0.036702</td>\n",
       "      <td>0.033934</td>\n",
       "      <td>0.130073</td>\n",
       "      <td>0.092343</td>\n",
       "    </tr>\n",
       "    <tr>\n",
       "      <th>2016-01-02 01:00:00</th>\n",
       "      <td>0.061128</td>\n",
       "      <td>0.023104</td>\n",
       "      <td>0.028263</td>\n",
       "      <td>0.025887</td>\n",
       "      <td>0.100505</td>\n",
       "      <td>0.020536</td>\n",
       "      <td>0.148216</td>\n",
       "      <td>0.004820</td>\n",
       "      <td>0.002067</td>\n",
       "      <td>0.028449</td>\n",
       "      <td>...</td>\n",
       "      <td>0.043455</td>\n",
       "      <td>0.008364</td>\n",
       "      <td>0.039517</td>\n",
       "      <td>0.122517</td>\n",
       "      <td>0.007095</td>\n",
       "      <td>0.022330</td>\n",
       "      <td>0.032585</td>\n",
       "      <td>0.027471</td>\n",
       "      <td>0.116319</td>\n",
       "      <td>0.088498</td>\n",
       "    </tr>\n",
       "    <tr>\n",
       "      <th>2016-01-02 02:00:00</th>\n",
       "      <td>0.163112</td>\n",
       "      <td>0.023559</td>\n",
       "      <td>0.052578</td>\n",
       "      <td>0.089279</td>\n",
       "      <td>0.140857</td>\n",
       "      <td>0.022141</td>\n",
       "      <td>0.136638</td>\n",
       "      <td>0.011962</td>\n",
       "      <td>0.001951</td>\n",
       "      <td>0.048417</td>\n",
       "      <td>...</td>\n",
       "      <td>0.038899</td>\n",
       "      <td>0.007680</td>\n",
       "      <td>0.099994</td>\n",
       "      <td>0.209310</td>\n",
       "      <td>0.004764</td>\n",
       "      <td>0.080061</td>\n",
       "      <td>0.072743</td>\n",
       "      <td>0.026022</td>\n",
       "      <td>0.147758</td>\n",
       "      <td>0.080287</td>\n",
       "    </tr>\n",
       "    <tr>\n",
       "      <th>2016-01-02 03:00:00</th>\n",
       "      <td>0.122642</td>\n",
       "      <td>0.027250</td>\n",
       "      <td>0.048580</td>\n",
       "      <td>0.087788</td>\n",
       "      <td>0.149137</td>\n",
       "      <td>0.019354</td>\n",
       "      <td>0.153837</td>\n",
       "      <td>0.003419</td>\n",
       "      <td>0.001755</td>\n",
       "      <td>0.046959</td>\n",
       "      <td>...</td>\n",
       "      <td>0.042460</td>\n",
       "      <td>0.008035</td>\n",
       "      <td>0.072749</td>\n",
       "      <td>0.139747</td>\n",
       "      <td>0.004254</td>\n",
       "      <td>0.096344</td>\n",
       "      <td>0.057790</td>\n",
       "      <td>0.024603</td>\n",
       "      <td>0.113026</td>\n",
       "      <td>0.085756</td>\n",
       "    </tr>\n",
       "    <tr>\n",
       "      <th>2016-01-02 04:00:00</th>\n",
       "      <td>0.169063</td>\n",
       "      <td>0.033218</td>\n",
       "      <td>0.096387</td>\n",
       "      <td>0.093685</td>\n",
       "      <td>0.150302</td>\n",
       "      <td>0.030949</td>\n",
       "      <td>0.148948</td>\n",
       "      <td>0.014216</td>\n",
       "      <td>0.003455</td>\n",
       "      <td>0.108787</td>\n",
       "      <td>...</td>\n",
       "      <td>0.079728</td>\n",
       "      <td>0.008187</td>\n",
       "      <td>0.088585</td>\n",
       "      <td>0.139447</td>\n",
       "      <td>0.007080</td>\n",
       "      <td>0.092410</td>\n",
       "      <td>0.054426</td>\n",
       "      <td>0.023448</td>\n",
       "      <td>0.113710</td>\n",
       "      <td>0.104972</td>\n",
       "    </tr>\n",
       "  </tbody>\n",
       "</table>\n",
       "<p>5 rows × 139 columns</p>\n",
       "</div>"
      ],
      "text/plain": [
       "                     MV3.101 Load 35  MV3.101 Load 128  MV3.101 Load 32  \\\n",
       "time                                                                      \n",
       "2016-01-02 00:00:00         0.062105          0.031019         0.059087   \n",
       "2016-01-02 01:00:00         0.061128          0.023104         0.028263   \n",
       "2016-01-02 02:00:00         0.163112          0.023559         0.052578   \n",
       "2016-01-02 03:00:00         0.122642          0.027250         0.048580   \n",
       "2016-01-02 04:00:00         0.169063          0.033218         0.096387   \n",
       "\n",
       "                     MV3.101 Load 4  MV3.101 Load 102  MV3.101 Load 9  \\\n",
       "time                                                                    \n",
       "2016-01-02 00:00:00        0.059715          0.121197        0.043861   \n",
       "2016-01-02 01:00:00        0.025887          0.100505        0.020536   \n",
       "2016-01-02 02:00:00        0.089279          0.140857        0.022141   \n",
       "2016-01-02 03:00:00        0.087788          0.149137        0.019354   \n",
       "2016-01-02 04:00:00        0.093685          0.150302        0.030949   \n",
       "\n",
       "                     MV3.101 Load 127  MV3.101 Load 39  MV3.101 Load 30  \\\n",
       "time                                                                      \n",
       "2016-01-02 00:00:00          0.166768         0.005233         0.002842   \n",
       "2016-01-02 01:00:00          0.148216         0.004820         0.002067   \n",
       "2016-01-02 02:00:00          0.136638         0.011962         0.001951   \n",
       "2016-01-02 03:00:00          0.153837         0.003419         0.001755   \n",
       "2016-01-02 04:00:00          0.148948         0.014216         0.003455   \n",
       "\n",
       "                     MV3.101 Load 57  ...  MV3.101 Load 124  \\\n",
       "time                                  ...                     \n",
       "2016-01-02 00:00:00         0.042601  ...          0.062863   \n",
       "2016-01-02 01:00:00         0.028449  ...          0.043455   \n",
       "2016-01-02 02:00:00         0.048417  ...          0.038899   \n",
       "2016-01-02 03:00:00         0.046959  ...          0.042460   \n",
       "2016-01-02 04:00:00         0.108787  ...          0.079728   \n",
       "\n",
       "                     MV3.101 MV Load 4  MV3.101 Load 41  MV3.101 Load 56  \\\n",
       "time                                                                       \n",
       "2016-01-02 00:00:00           0.009084         0.038872         0.096683   \n",
       "2016-01-02 01:00:00           0.008364         0.039517         0.122517   \n",
       "2016-01-02 02:00:00           0.007680         0.099994         0.209310   \n",
       "2016-01-02 03:00:00           0.008035         0.072749         0.139747   \n",
       "2016-01-02 04:00:00           0.008187         0.088585         0.139447   \n",
       "\n",
       "                     MV3.101 Load 22  MV3.101 Load 75  MV3.101 Load 83  \\\n",
       "time                                                                     \n",
       "2016-01-02 00:00:00         0.006709         0.076917         0.036702   \n",
       "2016-01-02 01:00:00         0.007095         0.022330         0.032585   \n",
       "2016-01-02 02:00:00         0.004764         0.080061         0.072743   \n",
       "2016-01-02 03:00:00         0.004254         0.096344         0.057790   \n",
       "2016-01-02 04:00:00         0.007080         0.092410         0.054426   \n",
       "\n",
       "                     MV3.101 Load 126  MV3.101 Load 132  MV3.101 Load 99  \n",
       "time                                                                      \n",
       "2016-01-02 00:00:00          0.033934          0.130073         0.092343  \n",
       "2016-01-02 01:00:00          0.027471          0.116319         0.088498  \n",
       "2016-01-02 02:00:00          0.026022          0.147758         0.080287  \n",
       "2016-01-02 03:00:00          0.024603          0.113026         0.085756  \n",
       "2016-01-02 04:00:00          0.023448          0.113710         0.104972  \n",
       "\n",
       "[5 rows x 139 columns]"
      ]
     },
     "execution_count": null,
     "metadata": {},
     "output_type": "execute_result"
    }
   ],
   "source": [
    "# NBVAL_IGNORE_OUTPUT\n",
    "# If you care about a specific attribute of all entities in a result dict you can assemble\n",
    "# a data frame with all time series of all entities in the dict\n",
    "loads_res_p = loads_res.p().head()\n",
    "loads_res_p"
   ]
  },
  {
   "cell_type": "code",
   "execution_count": null,
   "metadata": {},
   "outputs": [
    {
     "data": {
      "text/html": [
       "<div>\n",
       "<style scoped>\n",
       "    .dataframe tbody tr th:only-of-type {\n",
       "        vertical-align: middle;\n",
       "    }\n",
       "\n",
       "    .dataframe tbody tr th {\n",
       "        vertical-align: top;\n",
       "    }\n",
       "\n",
       "    .dataframe thead th {\n",
       "        text-align: right;\n",
       "    }\n",
       "</style>\n",
       "<table border=\"1\" class=\"dataframe\">\n",
       "  <thead>\n",
       "    <tr style=\"text-align: right;\">\n",
       "      <th></th>\n",
       "      <th>0014e974-d490-4a1c-96e2-23d0e523b104</th>\n",
       "      <th>02a26927-da09-410f-8452-903177ef645b</th>\n",
       "      <th>05bdcb09-d1b4-4a30-b06a-b26d543d6929</th>\n",
       "      <th>07ff3b74-bda4-4a30-9584-3daa033068bb</th>\n",
       "      <th>095d4836-9075-49c1-bb2b-447db22fcb22</th>\n",
       "      <th>0acbb234-af80-44b3-8c5a-cff35e3bd7ac</th>\n",
       "      <th>0df30eab-565f-4184-8404-c33f80a3d1a6</th>\n",
       "      <th>0e64c305-f846-4bd4-8898-fbd833469bde</th>\n",
       "      <th>0ec9fd06-f5db-423c-96f1-03ddb88b9491</th>\n",
       "      <th>1199d1f7-22ae-47ad-91b4-e89c9f8fd16f</th>\n",
       "      <th>...</th>\n",
       "      <th>eecfdcb5-b327-48e3-a525-832d0209e7b8</th>\n",
       "      <th>f06c94f9-5ee5-4e60-bc20-3a2f62699f4d</th>\n",
       "      <th>f0b13ceb-da8a-4767-a441-d36980c15b72</th>\n",
       "      <th>f2447245-8a45-4980-8498-cf471d886365</th>\n",
       "      <th>f251d2a7-f131-4614-b906-418fa5750765</th>\n",
       "      <th>f2704836-9871-4f0d-8e62-433f2c95ede4</th>\n",
       "      <th>f2840dba-9c0c-48e9-b5b0-a25499ae51dd</th>\n",
       "      <th>f4d3b235-5403-4188-88a1-94b80dfa53b8</th>\n",
       "      <th>f6204e43-1cfd-4cd8-91b2-3846a980154f</th>\n",
       "      <th>ff389df3-f90d-41ef-b967-d92c0a51e918</th>\n",
       "    </tr>\n",
       "    <tr>\n",
       "      <th>time</th>\n",
       "      <th></th>\n",
       "      <th></th>\n",
       "      <th></th>\n",
       "      <th></th>\n",
       "      <th></th>\n",
       "      <th></th>\n",
       "      <th></th>\n",
       "      <th></th>\n",
       "      <th></th>\n",
       "      <th></th>\n",
       "      <th></th>\n",
       "      <th></th>\n",
       "      <th></th>\n",
       "      <th></th>\n",
       "      <th></th>\n",
       "      <th></th>\n",
       "      <th></th>\n",
       "      <th></th>\n",
       "      <th></th>\n",
       "      <th></th>\n",
       "      <th></th>\n",
       "    </tr>\n",
       "  </thead>\n",
       "  <tbody>\n",
       "    <tr>\n",
       "      <th>2016-01-02 00:00:00</th>\n",
       "      <td>0.062105</td>\n",
       "      <td>0.031019</td>\n",
       "      <td>0.059087</td>\n",
       "      <td>0.059715</td>\n",
       "      <td>0.121197</td>\n",
       "      <td>0.043861</td>\n",
       "      <td>0.166768</td>\n",
       "      <td>0.005233</td>\n",
       "      <td>0.002842</td>\n",
       "      <td>0.042601</td>\n",
       "      <td>...</td>\n",
       "      <td>0.062863</td>\n",
       "      <td>0.009084</td>\n",
       "      <td>0.038872</td>\n",
       "      <td>0.096683</td>\n",
       "      <td>0.006709</td>\n",
       "      <td>0.076917</td>\n",
       "      <td>0.036702</td>\n",
       "      <td>0.033934</td>\n",
       "      <td>0.130073</td>\n",
       "      <td>0.092343</td>\n",
       "    </tr>\n",
       "    <tr>\n",
       "      <th>2016-01-02 01:00:00</th>\n",
       "      <td>0.061128</td>\n",
       "      <td>0.023104</td>\n",
       "      <td>0.028263</td>\n",
       "      <td>0.025887</td>\n",
       "      <td>0.100505</td>\n",
       "      <td>0.020536</td>\n",
       "      <td>0.148216</td>\n",
       "      <td>0.004820</td>\n",
       "      <td>0.002067</td>\n",
       "      <td>0.028449</td>\n",
       "      <td>...</td>\n",
       "      <td>0.043455</td>\n",
       "      <td>0.008364</td>\n",
       "      <td>0.039517</td>\n",
       "      <td>0.122517</td>\n",
       "      <td>0.007095</td>\n",
       "      <td>0.022330</td>\n",
       "      <td>0.032585</td>\n",
       "      <td>0.027471</td>\n",
       "      <td>0.116319</td>\n",
       "      <td>0.088498</td>\n",
       "    </tr>\n",
       "    <tr>\n",
       "      <th>2016-01-02 02:00:00</th>\n",
       "      <td>0.163112</td>\n",
       "      <td>0.023559</td>\n",
       "      <td>0.052578</td>\n",
       "      <td>0.089279</td>\n",
       "      <td>0.140857</td>\n",
       "      <td>0.022141</td>\n",
       "      <td>0.136638</td>\n",
       "      <td>0.011962</td>\n",
       "      <td>0.001951</td>\n",
       "      <td>0.048417</td>\n",
       "      <td>...</td>\n",
       "      <td>0.038899</td>\n",
       "      <td>0.007680</td>\n",
       "      <td>0.099994</td>\n",
       "      <td>0.209310</td>\n",
       "      <td>0.004764</td>\n",
       "      <td>0.080061</td>\n",
       "      <td>0.072743</td>\n",
       "      <td>0.026022</td>\n",
       "      <td>0.147758</td>\n",
       "      <td>0.080287</td>\n",
       "    </tr>\n",
       "    <tr>\n",
       "      <th>2016-01-02 03:00:00</th>\n",
       "      <td>0.122642</td>\n",
       "      <td>0.027250</td>\n",
       "      <td>0.048580</td>\n",
       "      <td>0.087788</td>\n",
       "      <td>0.149137</td>\n",
       "      <td>0.019354</td>\n",
       "      <td>0.153837</td>\n",
       "      <td>0.003419</td>\n",
       "      <td>0.001755</td>\n",
       "      <td>0.046959</td>\n",
       "      <td>...</td>\n",
       "      <td>0.042460</td>\n",
       "      <td>0.008035</td>\n",
       "      <td>0.072749</td>\n",
       "      <td>0.139747</td>\n",
       "      <td>0.004254</td>\n",
       "      <td>0.096344</td>\n",
       "      <td>0.057790</td>\n",
       "      <td>0.024603</td>\n",
       "      <td>0.113026</td>\n",
       "      <td>0.085756</td>\n",
       "    </tr>\n",
       "    <tr>\n",
       "      <th>2016-01-02 04:00:00</th>\n",
       "      <td>0.169063</td>\n",
       "      <td>0.033218</td>\n",
       "      <td>0.096387</td>\n",
       "      <td>0.093685</td>\n",
       "      <td>0.150302</td>\n",
       "      <td>0.030949</td>\n",
       "      <td>0.148948</td>\n",
       "      <td>0.014216</td>\n",
       "      <td>0.003455</td>\n",
       "      <td>0.108787</td>\n",
       "      <td>...</td>\n",
       "      <td>0.079728</td>\n",
       "      <td>0.008187</td>\n",
       "      <td>0.088585</td>\n",
       "      <td>0.139447</td>\n",
       "      <td>0.007080</td>\n",
       "      <td>0.092410</td>\n",
       "      <td>0.054426</td>\n",
       "      <td>0.023448</td>\n",
       "      <td>0.113710</td>\n",
       "      <td>0.104972</td>\n",
       "    </tr>\n",
       "  </tbody>\n",
       "</table>\n",
       "<p>5 rows × 139 columns</p>\n",
       "</div>"
      ],
      "text/plain": [
       "                     0014e974-d490-4a1c-96e2-23d0e523b104  \\\n",
       "time                                                        \n",
       "2016-01-02 00:00:00                              0.062105   \n",
       "2016-01-02 01:00:00                              0.061128   \n",
       "2016-01-02 02:00:00                              0.163112   \n",
       "2016-01-02 03:00:00                              0.122642   \n",
       "2016-01-02 04:00:00                              0.169063   \n",
       "\n",
       "                     02a26927-da09-410f-8452-903177ef645b  \\\n",
       "time                                                        \n",
       "2016-01-02 00:00:00                              0.031019   \n",
       "2016-01-02 01:00:00                              0.023104   \n",
       "2016-01-02 02:00:00                              0.023559   \n",
       "2016-01-02 03:00:00                              0.027250   \n",
       "2016-01-02 04:00:00                              0.033218   \n",
       "\n",
       "                     05bdcb09-d1b4-4a30-b06a-b26d543d6929  \\\n",
       "time                                                        \n",
       "2016-01-02 00:00:00                              0.059087   \n",
       "2016-01-02 01:00:00                              0.028263   \n",
       "2016-01-02 02:00:00                              0.052578   \n",
       "2016-01-02 03:00:00                              0.048580   \n",
       "2016-01-02 04:00:00                              0.096387   \n",
       "\n",
       "                     07ff3b74-bda4-4a30-9584-3daa033068bb  \\\n",
       "time                                                        \n",
       "2016-01-02 00:00:00                              0.059715   \n",
       "2016-01-02 01:00:00                              0.025887   \n",
       "2016-01-02 02:00:00                              0.089279   \n",
       "2016-01-02 03:00:00                              0.087788   \n",
       "2016-01-02 04:00:00                              0.093685   \n",
       "\n",
       "                     095d4836-9075-49c1-bb2b-447db22fcb22  \\\n",
       "time                                                        \n",
       "2016-01-02 00:00:00                              0.121197   \n",
       "2016-01-02 01:00:00                              0.100505   \n",
       "2016-01-02 02:00:00                              0.140857   \n",
       "2016-01-02 03:00:00                              0.149137   \n",
       "2016-01-02 04:00:00                              0.150302   \n",
       "\n",
       "                     0acbb234-af80-44b3-8c5a-cff35e3bd7ac  \\\n",
       "time                                                        \n",
       "2016-01-02 00:00:00                              0.043861   \n",
       "2016-01-02 01:00:00                              0.020536   \n",
       "2016-01-02 02:00:00                              0.022141   \n",
       "2016-01-02 03:00:00                              0.019354   \n",
       "2016-01-02 04:00:00                              0.030949   \n",
       "\n",
       "                     0df30eab-565f-4184-8404-c33f80a3d1a6  \\\n",
       "time                                                        \n",
       "2016-01-02 00:00:00                              0.166768   \n",
       "2016-01-02 01:00:00                              0.148216   \n",
       "2016-01-02 02:00:00                              0.136638   \n",
       "2016-01-02 03:00:00                              0.153837   \n",
       "2016-01-02 04:00:00                              0.148948   \n",
       "\n",
       "                     0e64c305-f846-4bd4-8898-fbd833469bde  \\\n",
       "time                                                        \n",
       "2016-01-02 00:00:00                              0.005233   \n",
       "2016-01-02 01:00:00                              0.004820   \n",
       "2016-01-02 02:00:00                              0.011962   \n",
       "2016-01-02 03:00:00                              0.003419   \n",
       "2016-01-02 04:00:00                              0.014216   \n",
       "\n",
       "                     0ec9fd06-f5db-423c-96f1-03ddb88b9491  \\\n",
       "time                                                        \n",
       "2016-01-02 00:00:00                              0.002842   \n",
       "2016-01-02 01:00:00                              0.002067   \n",
       "2016-01-02 02:00:00                              0.001951   \n",
       "2016-01-02 03:00:00                              0.001755   \n",
       "2016-01-02 04:00:00                              0.003455   \n",
       "\n",
       "                     1199d1f7-22ae-47ad-91b4-e89c9f8fd16f  ...  \\\n",
       "time                                                       ...   \n",
       "2016-01-02 00:00:00                              0.042601  ...   \n",
       "2016-01-02 01:00:00                              0.028449  ...   \n",
       "2016-01-02 02:00:00                              0.048417  ...   \n",
       "2016-01-02 03:00:00                              0.046959  ...   \n",
       "2016-01-02 04:00:00                              0.108787  ...   \n",
       "\n",
       "                     eecfdcb5-b327-48e3-a525-832d0209e7b8  \\\n",
       "time                                                        \n",
       "2016-01-02 00:00:00                              0.062863   \n",
       "2016-01-02 01:00:00                              0.043455   \n",
       "2016-01-02 02:00:00                              0.038899   \n",
       "2016-01-02 03:00:00                              0.042460   \n",
       "2016-01-02 04:00:00                              0.079728   \n",
       "\n",
       "                     f06c94f9-5ee5-4e60-bc20-3a2f62699f4d  \\\n",
       "time                                                        \n",
       "2016-01-02 00:00:00                              0.009084   \n",
       "2016-01-02 01:00:00                              0.008364   \n",
       "2016-01-02 02:00:00                              0.007680   \n",
       "2016-01-02 03:00:00                              0.008035   \n",
       "2016-01-02 04:00:00                              0.008187   \n",
       "\n",
       "                     f0b13ceb-da8a-4767-a441-d36980c15b72  \\\n",
       "time                                                        \n",
       "2016-01-02 00:00:00                              0.038872   \n",
       "2016-01-02 01:00:00                              0.039517   \n",
       "2016-01-02 02:00:00                              0.099994   \n",
       "2016-01-02 03:00:00                              0.072749   \n",
       "2016-01-02 04:00:00                              0.088585   \n",
       "\n",
       "                     f2447245-8a45-4980-8498-cf471d886365  \\\n",
       "time                                                        \n",
       "2016-01-02 00:00:00                              0.096683   \n",
       "2016-01-02 01:00:00                              0.122517   \n",
       "2016-01-02 02:00:00                              0.209310   \n",
       "2016-01-02 03:00:00                              0.139747   \n",
       "2016-01-02 04:00:00                              0.139447   \n",
       "\n",
       "                     f251d2a7-f131-4614-b906-418fa5750765  \\\n",
       "time                                                        \n",
       "2016-01-02 00:00:00                              0.006709   \n",
       "2016-01-02 01:00:00                              0.007095   \n",
       "2016-01-02 02:00:00                              0.004764   \n",
       "2016-01-02 03:00:00                              0.004254   \n",
       "2016-01-02 04:00:00                              0.007080   \n",
       "\n",
       "                     f2704836-9871-4f0d-8e62-433f2c95ede4  \\\n",
       "time                                                        \n",
       "2016-01-02 00:00:00                              0.076917   \n",
       "2016-01-02 01:00:00                              0.022330   \n",
       "2016-01-02 02:00:00                              0.080061   \n",
       "2016-01-02 03:00:00                              0.096344   \n",
       "2016-01-02 04:00:00                              0.092410   \n",
       "\n",
       "                     f2840dba-9c0c-48e9-b5b0-a25499ae51dd  \\\n",
       "time                                                        \n",
       "2016-01-02 00:00:00                              0.036702   \n",
       "2016-01-02 01:00:00                              0.032585   \n",
       "2016-01-02 02:00:00                              0.072743   \n",
       "2016-01-02 03:00:00                              0.057790   \n",
       "2016-01-02 04:00:00                              0.054426   \n",
       "\n",
       "                     f4d3b235-5403-4188-88a1-94b80dfa53b8  \\\n",
       "time                                                        \n",
       "2016-01-02 00:00:00                              0.033934   \n",
       "2016-01-02 01:00:00                              0.027471   \n",
       "2016-01-02 02:00:00                              0.026022   \n",
       "2016-01-02 03:00:00                              0.024603   \n",
       "2016-01-02 04:00:00                              0.023448   \n",
       "\n",
       "                     f6204e43-1cfd-4cd8-91b2-3846a980154f  \\\n",
       "time                                                        \n",
       "2016-01-02 00:00:00                              0.130073   \n",
       "2016-01-02 01:00:00                              0.116319   \n",
       "2016-01-02 02:00:00                              0.147758   \n",
       "2016-01-02 03:00:00                              0.113026   \n",
       "2016-01-02 04:00:00                              0.113710   \n",
       "\n",
       "                     ff389df3-f90d-41ef-b967-d92c0a51e918  \n",
       "time                                                       \n",
       "2016-01-02 00:00:00                              0.092343  \n",
       "2016-01-02 01:00:00                              0.088498  \n",
       "2016-01-02 02:00:00                              0.080287  \n",
       "2016-01-02 03:00:00                              0.085756  \n",
       "2016-01-02 04:00:00                              0.104972  \n",
       "\n",
       "[5 rows x 139 columns]"
      ]
     },
     "execution_count": null,
     "metadata": {},
     "output_type": "execute_result"
    }
   ],
   "source": [
    "# NBVAL_IGNORE_OUTPUT\n",
    "# By default, the data frame uses the ids of the loads if available instead of the uuids.\n",
    "# You can change this behavior with the favor_ids argument\n",
    "loads_res_p = loads_res.p(favor_ids=False).head()\n",
    "loads_res_p"
   ]
  },
  {
   "cell_type": "markdown",
   "metadata": {},
   "source": [
    "## Nodal Results\n",
    "\n",
    "Often times we care about nodal results, so the net load and generation at individual\n",
    "nodes. Therefore, we include a special data model `ExtendedNodesResult` which is\n",
    "calculated by summing up the results of all connected participants at the individual nodes.\n"
   ]
  },
  {
   "cell_type": "code",
   "execution_count": null,
   "metadata": {},
   "outputs": [
    {
     "data": {
      "text/html": [
       "<div>\n",
       "<style scoped>\n",
       "    .dataframe tbody tr th:only-of-type {\n",
       "        vertical-align: middle;\n",
       "    }\n",
       "\n",
       "    .dataframe tbody tr th {\n",
       "        vertical-align: top;\n",
       "    }\n",
       "\n",
       "    .dataframe thead th {\n",
       "        text-align: right;\n",
       "    }\n",
       "</style>\n",
       "<table border=\"1\" class=\"dataframe\">\n",
       "  <thead>\n",
       "    <tr style=\"text-align: right;\">\n",
       "      <th></th>\n",
       "      <th>v_ang</th>\n",
       "      <th>v_mag</th>\n",
       "      <th>p</th>\n",
       "      <th>q</th>\n",
       "    </tr>\n",
       "    <tr>\n",
       "      <th>time</th>\n",
       "      <th></th>\n",
       "      <th></th>\n",
       "      <th></th>\n",
       "      <th></th>\n",
       "    </tr>\n",
       "  </thead>\n",
       "  <tbody>\n",
       "    <tr>\n",
       "      <th>2016-01-02 00:00:00</th>\n",
       "      <td>-2.131056</td>\n",
       "      <td>1.020498</td>\n",
       "      <td>0.223068</td>\n",
       "      <td>0.099645</td>\n",
       "    </tr>\n",
       "    <tr>\n",
       "      <th>2016-01-02 01:00:00</th>\n",
       "      <td>-2.008640</td>\n",
       "      <td>1.021802</td>\n",
       "      <td>0.199644</td>\n",
       "      <td>0.090745</td>\n",
       "    </tr>\n",
       "    <tr>\n",
       "      <th>2016-01-02 02:00:00</th>\n",
       "      <td>-1.697719</td>\n",
       "      <td>1.024779</td>\n",
       "      <td>0.184939</td>\n",
       "      <td>0.085148</td>\n",
       "    </tr>\n",
       "    <tr>\n",
       "      <th>2016-01-02 03:00:00</th>\n",
       "      <td>-2.042256</td>\n",
       "      <td>1.021914</td>\n",
       "      <td>0.207742</td>\n",
       "      <td>0.092404</td>\n",
       "    </tr>\n",
       "    <tr>\n",
       "      <th>2016-01-02 04:00:00</th>\n",
       "      <td>-2.044741</td>\n",
       "      <td>1.021885</td>\n",
       "      <td>0.195353</td>\n",
       "      <td>0.088521</td>\n",
       "    </tr>\n",
       "  </tbody>\n",
       "</table>\n",
       "</div>"
      ],
      "text/plain": [
       "                        v_ang     v_mag         p         q\n",
       "time                                                       \n",
       "2016-01-02 00:00:00 -2.131056  1.020498  0.223068  0.099645\n",
       "2016-01-02 01:00:00 -2.008640  1.021802  0.199644  0.090745\n",
       "2016-01-02 02:00:00 -1.697719  1.024779  0.184939  0.085148\n",
       "2016-01-02 03:00:00 -2.042256  1.021914  0.207742  0.092404\n",
       "2016-01-02 04:00:00 -2.044741  1.021885  0.195353  0.088521"
      ]
     },
     "execution_count": null,
     "metadata": {},
     "output_type": "execute_result"
    }
   ],
   "source": [
    "# There is a method to calculate all of them\n",
    "nodal_results = gwr.build_extended_nodes_result()\n",
    "\n",
    "target_uuid = list(nodal_results.keys())[3]\n",
    "nodal_results[target_uuid].data.head()"
   ]
  },
  {
   "cell_type": "code",
   "execution_count": null,
   "metadata": {},
   "outputs": [
    {
     "data": {
      "text/html": [
       "<div>\n",
       "<style scoped>\n",
       "    .dataframe tbody tr th:only-of-type {\n",
       "        vertical-align: middle;\n",
       "    }\n",
       "\n",
       "    .dataframe tbody tr th {\n",
       "        vertical-align: top;\n",
       "    }\n",
       "\n",
       "    .dataframe thead th {\n",
       "        text-align: right;\n",
       "    }\n",
       "</style>\n",
       "<table border=\"1\" class=\"dataframe\">\n",
       "  <thead>\n",
       "    <tr style=\"text-align: right;\">\n",
       "      <th></th>\n",
       "      <th>MV3.101 Load 61</th>\n",
       "    </tr>\n",
       "    <tr>\n",
       "      <th>time</th>\n",
       "      <th></th>\n",
       "    </tr>\n",
       "  </thead>\n",
       "  <tbody>\n",
       "    <tr>\n",
       "      <th>2016-01-02 00:00:00</th>\n",
       "      <td>0.155059</td>\n",
       "    </tr>\n",
       "    <tr>\n",
       "      <th>2016-01-02 01:00:00</th>\n",
       "      <td>0.150625</td>\n",
       "    </tr>\n",
       "    <tr>\n",
       "      <th>2016-01-02 02:00:00</th>\n",
       "      <td>0.147085</td>\n",
       "    </tr>\n",
       "    <tr>\n",
       "      <th>2016-01-02 03:00:00</th>\n",
       "      <td>0.148944</td>\n",
       "    </tr>\n",
       "    <tr>\n",
       "      <th>2016-01-02 04:00:00</th>\n",
       "      <td>0.158602</td>\n",
       "    </tr>\n",
       "    <tr>\n",
       "      <th>...</th>\n",
       "      <td>...</td>\n",
       "    </tr>\n",
       "    <tr>\n",
       "      <th>2016-01-07 20:00:00</th>\n",
       "      <td>0.180501</td>\n",
       "    </tr>\n",
       "    <tr>\n",
       "      <th>2016-01-07 21:00:00</th>\n",
       "      <td>0.182086</td>\n",
       "    </tr>\n",
       "    <tr>\n",
       "      <th>2016-01-07 22:00:00</th>\n",
       "      <td>0.165844</td>\n",
       "    </tr>\n",
       "    <tr>\n",
       "      <th>2016-01-07 23:00:00</th>\n",
       "      <td>0.173837</td>\n",
       "    </tr>\n",
       "    <tr>\n",
       "      <th>2016-01-08 00:00:00</th>\n",
       "      <td>0.169217</td>\n",
       "    </tr>\n",
       "  </tbody>\n",
       "</table>\n",
       "<p>145 rows × 1 columns</p>\n",
       "</div>"
      ],
      "text/plain": [
       "                     MV3.101 Load 61\n",
       "time                                \n",
       "2016-01-02 00:00:00         0.155059\n",
       "2016-01-02 01:00:00         0.150625\n",
       "2016-01-02 02:00:00         0.147085\n",
       "2016-01-02 03:00:00         0.148944\n",
       "2016-01-02 04:00:00         0.158602\n",
       "...                              ...\n",
       "2016-01-07 20:00:00         0.180501\n",
       "2016-01-07 21:00:00         0.182086\n",
       "2016-01-07 22:00:00         0.165844\n",
       "2016-01-07 23:00:00         0.173837\n",
       "2016-01-08 00:00:00         0.169217\n",
       "\n",
       "[145 rows x 1 columns]"
      ]
     },
     "execution_count": null,
     "metadata": {},
     "output_type": "execute_result"
    }
   ],
   "source": [
    "# If you care about the individual systems at each node, you can filter down the\n",
    "# result container to the systems connected to a specified node\n",
    "\n",
    "nodal_gwr = gwr.nodal_result(target_uuid)\n",
    "nodal_gwr.loads.p()"
   ]
  },
  {
   "cell_type": "code",
   "execution_count": null,
   "metadata": {},
   "outputs": [
    {
     "data": {
      "text/html": [
       "<div>\n",
       "<style scoped>\n",
       "    .dataframe tbody tr th:only-of-type {\n",
       "        vertical-align: middle;\n",
       "    }\n",
       "\n",
       "    .dataframe tbody tr th {\n",
       "        vertical-align: top;\n",
       "    }\n",
       "\n",
       "    .dataframe thead th {\n",
       "        text-align: right;\n",
       "    }\n",
       "</style>\n",
       "<table border=\"1\" class=\"dataframe\">\n",
       "  <thead>\n",
       "    <tr style=\"text-align: right;\">\n",
       "      <th></th>\n",
       "      <th>cos_phi_rated</th>\n",
       "      <th>e_cons_annual</th>\n",
       "      <th>id</th>\n",
       "      <th>load_profile</th>\n",
       "      <th>node</th>\n",
       "      <th>operates_from</th>\n",
       "      <th>operates_until</th>\n",
       "      <th>operator</th>\n",
       "      <th>q_characteristics</th>\n",
       "      <th>s_rated</th>\n",
       "    </tr>\n",
       "    <tr>\n",
       "      <th>uuid</th>\n",
       "      <th></th>\n",
       "      <th></th>\n",
       "      <th></th>\n",
       "      <th></th>\n",
       "      <th></th>\n",
       "      <th></th>\n",
       "      <th></th>\n",
       "      <th></th>\n",
       "      <th></th>\n",
       "      <th></th>\n",
       "    </tr>\n",
       "  </thead>\n",
       "  <tbody>\n",
       "    <tr>\n",
       "      <th>a0330517-9705-4d0a-bcaf-71f203cd6187</th>\n",
       "      <td>0.93</td>\n",
       "      <td>0.0</td>\n",
       "      <td>MV3.101 Load 61</td>\n",
       "      <td>No load profile assigned</td>\n",
       "      <td>090d13e8-3cce-4793-816f-4c50f23f3f7f</td>\n",
       "      <td>NaN</td>\n",
       "      <td>NaN</td>\n",
       "      <td>NaN</td>\n",
       "      <td>cosPhiFixed:{(0.0,0.93)}</td>\n",
       "      <td>668.0</td>\n",
       "    </tr>\n",
       "  </tbody>\n",
       "</table>\n",
       "</div>"
      ],
      "text/plain": [
       "                                      cos_phi_rated  e_cons_annual  \\\n",
       "uuid                                                                 \n",
       "a0330517-9705-4d0a-bcaf-71f203cd6187           0.93            0.0   \n",
       "\n",
       "                                                   id  \\\n",
       "uuid                                                    \n",
       "a0330517-9705-4d0a-bcaf-71f203cd6187  MV3.101 Load 61   \n",
       "\n",
       "                                                  load_profile  \\\n",
       "uuid                                                             \n",
       "a0330517-9705-4d0a-bcaf-71f203cd6187  No load profile assigned   \n",
       "\n",
       "                                                                      node  \\\n",
       "uuid                                                                         \n",
       "a0330517-9705-4d0a-bcaf-71f203cd6187  090d13e8-3cce-4793-816f-4c50f23f3f7f   \n",
       "\n",
       "                                      operates_from  operates_until  operator  \\\n",
       "uuid                                                                            \n",
       "a0330517-9705-4d0a-bcaf-71f203cd6187            NaN             NaN       NaN   \n",
       "\n",
       "                                             q_characteristics  s_rated  \n",
       "uuid                                                                     \n",
       "a0330517-9705-4d0a-bcaf-71f203cd6187  cosPhiFixed:{(0.0,0.93)}    668.0  "
      ]
     },
     "execution_count": null,
     "metadata": {},
     "output_type": "execute_result"
    }
   ],
   "source": [
    "# NBVAL_IGNORE_OUTPUT\n",
    "# Let's say you want to make sure that all the load is actually connected to the\n",
    "# node that we have filtered for\n",
    "load_uuids = list(nodal_gwr.loads.keys())\n",
    "\n",
    "# You can get a subset of the input data model via a list of uuids\n",
    "# Note that the `node` attribute confirms that indeed the load is connected\n",
    "# to the node we have filtered for\n",
    "gwr.loads.subset(load_uuids[0]).data"
   ]
  },
  {
   "cell_type": "markdown",
   "metadata": {},
   "source": [
    "For more details please check the implemented methods of all the data models\n",
    "\n",
    "Check out the `docs/nbs/plots.ipynb` notebook for some examples of the included plotting utilities\n"
   ]
  },
  {
   "cell_type": "markdown",
   "metadata": {},
   "source": [
    "## Congestion Results\n",
    "\n",
    "If we want to analyze congestions in the grid, we can run SIMONA with congestion detection. All congestion results are mapped uuid of the asset for which the congestion was detected. The type information (e.g.: node, line, ect.) specifies type of the asset that has a congestion.\n",
    "\n",
    "Each congestion contains the value that occurred and the limits for the asset (e.g.: voltage band, line current limit, etc.)."
   ]
  },
  {
   "cell_type": "code",
   "execution_count": null,
   "metadata": {},
   "outputs": [
    {
     "data": {
      "text/html": [
       "<div>\n",
       "<style scoped>\n",
       "    .dataframe tbody tr th:only-of-type {\n",
       "        vertical-align: middle;\n",
       "    }\n",
       "\n",
       "    .dataframe tbody tr th {\n",
       "        vertical-align: top;\n",
       "    }\n",
       "\n",
       "    .dataframe thead th {\n",
       "        text-align: right;\n",
       "    }\n",
       "</style>\n",
       "<table border=\"1\" class=\"dataframe\">\n",
       "  <thead>\n",
       "    <tr style=\"text-align: right;\">\n",
       "      <th></th>\n",
       "      <th>max</th>\n",
       "      <th>min</th>\n",
       "      <th>subgrid</th>\n",
       "      <th>type</th>\n",
       "      <th>value</th>\n",
       "    </tr>\n",
       "    <tr>\n",
       "      <th>time</th>\n",
       "      <th></th>\n",
       "      <th></th>\n",
       "      <th></th>\n",
       "      <th></th>\n",
       "      <th></th>\n",
       "    </tr>\n",
       "  </thead>\n",
       "  <tbody>\n",
       "    <tr>\n",
       "      <th>2016-01-02 02:00:00</th>\n",
       "      <td>103</td>\n",
       "      <td>97</td>\n",
       "      <td>135</td>\n",
       "      <td>node</td>\n",
       "      <td>103.222590</td>\n",
       "    </tr>\n",
       "    <tr>\n",
       "      <th>2016-01-04 10:00:00</th>\n",
       "      <td>103</td>\n",
       "      <td>97</td>\n",
       "      <td>135</td>\n",
       "      <td>node</td>\n",
       "      <td>103.257236</td>\n",
       "    </tr>\n",
       "    <tr>\n",
       "      <th>2016-01-04 11:00:00</th>\n",
       "      <td>103</td>\n",
       "      <td>97</td>\n",
       "      <td>135</td>\n",
       "      <td>node</td>\n",
       "      <td>103.308051</td>\n",
       "    </tr>\n",
       "  </tbody>\n",
       "</table>\n",
       "</div>"
      ],
      "text/plain": [
       "                     max  min  subgrid  type       value\n",
       "time                                                    \n",
       "2016-01-02 02:00:00  103   97      135  node  103.222590\n",
       "2016-01-04 10:00:00  103   97      135  node  103.257236\n",
       "2016-01-04 11:00:00  103   97      135  node  103.308051"
      ]
     },
     "execution_count": null,
     "metadata": {},
     "output_type": "execute_result"
    }
   ],
   "source": [
    "# Congestion results are only provided for two nodes\n",
    "node_with_congestions = [\n",
    "    \"5d50a881-c383-463e-8355-41b3dd57422d\",\n",
    "    \"557b9f51-d83c-476c-a84c-d240530c203d\",\n",
    "]\n",
    "\n",
    "congestion_res_1 = gwr.congestions_res[node_with_congestions[0]]\n",
    "congestion_res_2 = gwr.congestions_res[node_with_congestions[1]]\n",
    "\n",
    "congestion_res_1.data"
   ]
  }
 ],
 "metadata": {},
 "nbformat": 4,
 "nbformat_minor": 2
}
