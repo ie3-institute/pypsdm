{
 "cells": [
  {
   "cell_type": "code",
   "execution_count": null,
   "metadata": {},
   "outputs": [],
   "source": [
    "# Some jupyter notebook magic to reload modules automatically when they change\n",
    "# not necessary for this specific notebook but useful in general\n",
    "%load_ext autoreload\n",
    "%autoreload 2"
   ]
  },
  {
   "cell_type": "code",
   "execution_count": null,
   "metadata": {
    "ExecuteTime": {
     "end_time": "2025-08-11T13:21:07.935061Z",
     "start_time": "2025-08-11T13:21:03.997982Z"
    }
   },
   "outputs": [],
   "source": [
    "from definitions import ROOT_DIR\n",
    "import os\n",
    "\n",
    "# The PSDM specific input models can be imported from the pypsdm.models.input and\n",
    "# pypsdm.models.result. The `GridWithResults` container is located in pypsdm.models.gwr\n",
    "from pypsdm.models.gwr import GridWithResults\n",
    "\n",
    "\n",
    "grid_path = os.path.join(ROOT_DIR, \"tests\", \"resources\", \"simbench\", \"input\")\n",
    "result_path = os.path.join(ROOT_DIR, \"tests\", \"resources\", \"simbench\", \"results\")\n",
    "# IO data models in general have a from_csv method to parse psdm files\n",
    "gwr = GridWithResults.from_csv(grid_path, result_path)"
   ]
  },
  {
   "cell_type": "code",
   "execution_count": null,
   "metadata": {},
   "outputs": [],
   "source": [
    "from pypsdm.plots.grid import grid_plot\n",
    "\n",
    "# Use the grid_plot method to visualize the grid model\n",
    "# only works if the underlying node input files have associated coordinates\n",
    "grid_plot(gwr.grid)"
   ]
  },
  {
   "cell_type": "code",
   "execution_count": null,
   "metadata": {},
   "outputs": [],
   "source": [
    "results = gwr.results\n",
    "# The grid results are symmetrical to the input grid, so there is a result container\n",
    "# for participants and for the raw grid.\n",
    "raw_grid_res = results.raw_grid\n",
    "participants_res = results.participants"
   ]
  },
  {
   "cell_type": "code",
   "execution_count": null,
   "metadata": {},
   "outputs": [],
   "source": [
    "# Results for each grid element and participant is a discrete event time series\n",
    "# which basically means each recorded state of e.g. a node (consisting of current magnitude, and angle)\n",
    "# is valid until the next recorded state.\n",
    "\n",
    "nodes_res = raw_grid_res.nodes\n",
    "# Reminder: you can also access the nodes result directly from the gwr e.g. gwr.nodes_res\n",
    "nodes_res = gwr.nodes_res"
   ]
  },
  {
   "cell_type": "code",
   "execution_count": null,
   "metadata": {},
   "outputs": [],
   "source": [
    "# The underlying structure of the result data is a dictionary subclass\n",
    "# the values of the dictionary are dependent on the result model\n",
    "# e.g. the result dictionary NodesResult contains ComplexVoltage objects\n",
    "\n",
    "\n",
    "# You can access items as you would with a standard dictionary\n",
    "uuid = list(nodes_res.keys())[0]\n",
    "node_res = nodes_res[uuid]\n",
    "\n",
    "# Similar to the input models the underlying data structure of each singular result object\n",
    "# is a pandas DataFrame with a date time index\n",
    "node_res.data.head()"
   ]
  },
  {
   "cell_type": "code",
   "execution_count": null,
   "metadata": {},
   "outputs": [],
   "source": [
    "from datetime import datetime\n",
    "\n",
    "\n",
    "# If you want to look at some time interval, you can slice the result models with date\n",
    "# time objects\n",
    "start = datetime(2016, 1, 1)\n",
    "end = datetime(2016, 1, 1, 1)\n",
    "sliced_node_res = node_res[start:end]\n",
    "sliced_node_res.data"
   ]
  },
  {
   "cell_type": "code",
   "execution_count": null,
   "metadata": {},
   "outputs": [],
   "source": [
    "from pypsdm.models.result.grid.node import NodesResult\n",
    "\n",
    "\n",
    "# You can also filter the whole dictionary for a time interval\n",
    "sliced_nodes_res = nodes_res.interval(start, end)\n",
    "sliced_nodes_res[uuid].data"
   ]
  },
  {
   "cell_type": "code",
   "execution_count": null,
   "metadata": {},
   "outputs": [],
   "source": [
    "# For participants all things look mostly the same\n",
    "# The type of results are mostly of type PQResult, containing active and reactive power\n",
    "\n",
    "\n",
    "loads_res = participants_res.loads\n",
    "load_res = loads_res[list(loads_res.keys())[0]]\n",
    "load_res.data.head()"
   ]
  },
  {
   "cell_type": "code",
   "execution_count": null,
   "metadata": {},
   "outputs": [],
   "source": [
    "# There are calculation utilities implemented where it makes sense\n",
    "load_res2 = loads_res[list(loads_res.keys())[1]]\n",
    "load_sum = load_res + load_res2\n",
    "load_sum.data.head()"
   ]
  },
  {
   "cell_type": "code",
   "execution_count": null,
   "metadata": {},
   "outputs": [],
   "source": [
    "# You can also calculate the sum for all participants\n",
    "total_loads_res = loads_res.sum()\n",
    "total_loads_res.data.head()"
   ]
  },
  {
   "cell_type": "code",
   "execution_count": null,
   "metadata": {},
   "outputs": [],
   "source": [
    "# If you care about a specific attribute of all entities in a result dict you can assemble\n",
    "# a data frame with all time series of all entities in the dict\n",
    "loads_res_p = loads_res.p().head()\n",
    "loads_res_p"
   ]
  },
  {
   "cell_type": "code",
   "execution_count": null,
   "metadata": {},
   "outputs": [],
   "source": [
    "# By default the data frame uses the ids of the loads if available instead of the uuids.\n",
    "# You can change this behavior with the favor_ids argument\n",
    "loads_res_p = loads_res.p(favor_ids=False).head()\n",
    "loads_res_p"
   ]
  },
  {
   "cell_type": "markdown",
   "metadata": {},
   "source": [
    "## Nodal Results\n",
    "\n",
    "Often times we care about nodal results, so the net load and generation at individual\n",
    "nodes. Therefore, we include a special data model `ExtendedNodesResult` which is\n",
    "calculated by summing up the results of all connected participants at the individual nodes.\n"
   ]
  },
  {
   "cell_type": "code",
   "execution_count": null,
   "metadata": {},
   "outputs": [],
   "source": [
    "# There is a method to calculate all of them\n",
    "nodal_results = gwr.build_extended_nodes_result()\n",
    "\n",
    "target_uuid = list(nodal_results.keys())[3]\n",
    "nodal_results[target_uuid].data.head()"
   ]
  },
  {
   "cell_type": "code",
   "execution_count": null,
   "metadata": {},
   "outputs": [],
   "source": [
    "# If you care about the individual systems at each node, you can filter down the\n",
    "# result container to the systems connected to a specified node\n",
    "\n",
    "nodal_gwr = gwr.nodal_result(target_uuid)\n",
    "nodal_gwr.loads.p()"
   ]
  },
  {
   "cell_type": "code",
   "execution_count": null,
   "metadata": {},
   "outputs": [],
   "source": [
    "# Let's say you want to make sure that all the load is actually connected to the\n",
    "# node that we have filtered for\n",
    "load_uuids = list(nodal_gwr.loads.keys())\n",
    "\n",
    "# You can get a subset of the input data model via a list of uuids\n",
    "# Note that the `node` attribute confirms that indeed the load is connected\n",
    "# to the node we have filtered for\n",
    "gwr.loads.subset(load_uuids[0]).data"
   ]
  },
  {
   "cell_type": "markdown",
   "metadata": {},
   "source": [
    "## Line Results\n",
    "\n",
    "Here is some example for line results to analyse for line ratings etc."
   ]
  },
  {
   "cell_type": "code",
   "execution_count": null,
   "metadata": {
    "ExecuteTime": {
     "end_time": "2025-08-11T13:21:12.683097Z",
     "start_time": "2025-08-11T13:21:12.664935Z"
    }
   },
   "outputs": [],
   "source": [
    "# If you care about the individual line element, you can filter down the\n",
    "# result container to the systems connected to a specified line\n",
    "\n",
    "line_uuid = gwr.lines.data.iloc[0].name\n",
    "line_gwr = gwr.lines_res[line_uuid]\n",
    "line_gwr.data.head()"
   ]
  },
  {
   "cell_type": "code",
   "execution_count": null,
   "metadata": {
    "ExecuteTime": {
     "end_time": "2025-08-11T13:21:15.123280Z",
     "start_time": "2025-08-11T13:21:15.047280Z"
    }
   },
   "outputs": [],
   "source": [
    "# If we would like to get the utilisation of the line segment, we need use i_max provide from input data (gwr.lines)\n",
    "\n",
    "line_input_data = gwr.lines\n",
    "line_utilization = gwr.lines_res.utilisation(line_input_data, side=\"a\")\n",
    "line_utilization.head()"
   ]
  },
  {
   "cell_type": "code",
   "execution_count": null,
   "metadata": {
    "ExecuteTime": {
     "end_time": "2025-08-11T13:21:17.443119Z",
     "start_time": "2025-08-11T13:21:17.437879Z"
    }
   },
   "outputs": [],
   "source": [
    "line_utilization[[line_uuid]].head()"
   ]
  },
  {
   "cell_type": "markdown",
   "metadata": {},
   "source": [
    "For more details please check the implemented methods of all the data models\n",
    "\n",
    "Check out the `docs/nbs/plots.ipynb` notebook for some examples of the included plotting utilities\n"
   ]
  },
  {
   "cell_type": "markdown",
   "metadata": {},
   "source": [
    "## Congestion Results\n",
    "\n",
    "If we want to analyze congestions in the grid, we can run SIMONA with congestion detection. All congestion results are mapped uuid of the asset for which the congestion was detected. The type information (e.g.: node, line, ect.) specifies type of the asset that has a congestion.\n",
    "\n",
    "Each congestion contains the value that occurred and the limits for the asset (e.g.: voltage band, line current limit, etc.)."
   ]
  },
  {
   "cell_type": "code",
   "execution_count": null,
   "metadata": {
    "ExecuteTime": {
     "end_time": "2025-08-11T10:35:47.649212Z",
     "start_time": "2025-08-11T10:35:47.631440Z"
    }
   },
   "outputs": [],
   "source": [
    "# Congestion results are only provided for two nodes\n",
    "node_with_congestions = [\n",
    "    \"5d50a881-c383-463e-8355-41b3dd57422d\",\n",
    "    \"557b9f51-d83c-476c-a84c-d240530c203d\",\n",
    "]\n",
    "\n",
    "congestion_res_1 = gwr.congestions_res[node_with_congestions[0]]\n",
    "congestion_res_2 = gwr.congestions_res[node_with_congestions[1]]\n",
    "\n",
    "congestion_res_1.data"
   ]
  }
 ],
 "metadata": {
  "kernelspec": {
   "display_name": "pypsdm-sJkpnJQv-py3.11",
   "language": "python",
   "name": "python3"
  },
  "language_info": {
   "codemirror_mode": {
    "name": "ipython",
    "version": 3
   },
   "file_extension": ".py",
   "mimetype": "text/x-python",
   "name": "python",
   "nbconvert_exporter": "python",
   "pygments_lexer": "ipython3",
   "version": "3.11.5"
  }
 },
 "nbformat": 4,
 "nbformat_minor": 2
}
