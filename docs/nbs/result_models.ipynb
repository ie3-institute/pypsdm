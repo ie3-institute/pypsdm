{
 "cells": [
  {
   "cell_type": "code",
   "execution_count": null,
   "metadata": {},
   "outputs": [],
   "source": [
    "# Some jupyter notebook magic to reload modules automatically when they change\n",
    "# not necessary for this specific notebook but useful in general\n",
    "%load_ext autoreload\n",
    "%autoreload 2"
   ]
  },
  {
   "cell_type": "code",
   "execution_count": null,
   "metadata": {},
   "outputs": [
    {
     "name": "stderr",
     "output_type": "stream",
     "text": [
      "\u001b[32m2025-08-11 15:21:05.478\u001b[0m | \u001b[1mINFO    \u001b[0m | \u001b[36mpypsdm.models.gwr\u001b[0m:\u001b[36mfrom_csv\u001b[0m:\u001b[36m293\u001b[0m - \u001b[1mReading grid from /home/smdafeis/github/pypsdm/tests/resources/simbench/input\u001b[0m\n",
      "\u001b[32m2025-08-11 15:21:05.915\u001b[0m | \u001b[34m\u001b[1mDEBUG   \u001b[0m | \u001b[36mpypsdm.models.primary_data\u001b[0m:\u001b[36mfrom_csv\u001b[0m:\u001b[36m273\u001b[0m - \u001b[34m\u001b[1mNo primary data in path /home/smdafeis/github/pypsdm/tests/resources/simbench/input\u001b[0m\n",
      "\u001b[32m2025-08-11 15:21:05.916\u001b[0m | \u001b[1mINFO    \u001b[0m | \u001b[36mpypsdm.models.gwr\u001b[0m:\u001b[36mfrom_csv\u001b[0m:\u001b[36m305\u001b[0m - \u001b[1mReading results from /home/smdafeis/github/pypsdm/tests/resources/simbench/results\u001b[0m\n",
      "\u001b[32m2025-08-11 15:21:06.337\u001b[0m | \u001b[33m\u001b[1mWARNING \u001b[0m | \u001b[36mpypsdm.models.result.participant.dict\u001b[0m:\u001b[36mfrom_csv\u001b[0m:\u001b[36m76\u001b[0m - \u001b[33m\u001b[1mEntity 557b9f51-d83c-476c-a84c-d240530c203d not in input entities\u001b[0m\n",
      "\u001b[32m2025-08-11 15:21:06.342\u001b[0m | \u001b[33m\u001b[1mWARNING \u001b[0m | \u001b[36mpypsdm.models.result.participant.dict\u001b[0m:\u001b[36mfrom_csv\u001b[0m:\u001b[36m76\u001b[0m - \u001b[33m\u001b[1mEntity 5d50a881-c383-463e-8355-41b3dd57422d not in input entities\u001b[0m\n"
     ]
    }
   ],
   "source": [
    "from definitions import ROOT_DIR\n",
    "import os\n",
    "\n",
    "# The PSDM specific input models can be imported from the pypsdm.models.input and\n",
    "# pypsdm.models.result. The `GridWithResults` container is located in pypsdm.models.gwr\n",
    "from pypsdm.models.gwr import GridWithResults\n",
    "\n",
    "\n",
    "grid_path = os.path.join(ROOT_DIR, \"tests\", \"resources\", \"simbench\", \"input\")\n",
    "result_path = os.path.join(ROOT_DIR, \"tests\", \"resources\", \"simbench\", \"results\")\n",
    "# IO data models in general have a from_csv method to parse psdm files\n",
    "gwr = GridWithResults.from_csv(grid_path, result_path)"
   ]
  },
  {
   "cell_type": "code",
   "execution_count": null,
   "metadata": {},
   "outputs": [
    {
     "data": {
      "application/vnd.plotly.v1+json": {
       "config": {
        "plotlyServerURL": "https://plot.ly"
       },
       "data": [
        {
         "hoverinfo": "skip",
         "lat": [
          53.6516,
          53.6524
         ],
         "line": {
          "color": "#1ac938"
         },
         "lon": [
          11.3561,
          11.3561
         ],
         "mode": "lines",
         "type": "scattermapbox"
        },
        {
         "hoverinfo": "text",
         "hovertext": "MV3.101 Line 57",
         "lat": [
          53.652
         ],
         "lon": [
          11.3561
         ],
         "marker": {
          "color": "#1ac938",
          "opacity": 0,
          "size": 0
         },
         "mode": "markers",
         "type": "scattermapbox"
        },
        {
         "hoverinfo": "skip",
         "lat": [
          53.6456,
          53.6451
         ],
         "line": {
          "color": "#1ac938"
         },
         "lon": [
          11.3692,
          11.369
         ],
         "mode": "lines",
         "type": "scattermapbox"
        },
        {
         "hoverinfo": "text",
         "hovertext": "MV3.101 Line 67",
         "lat": [
          53.64535
         ],
         "lon": [
          11.3691
         ],
         "marker": {
          "color": "#1ac938",
          "opacity": 0,
          "size": 0
         },
         "mode": "markers",
         "type": "scattermapbox"
        },
        {
         "hoverinfo": "skip",
         "lat": [
          53.6525,
          53.6538
         ],
         "line": {
          "color": "#1ac938"
         },
         "lon": [
          11.3724,
          11.374
         ],
         "mode": "lines",
         "type": "scattermapbox"
        },
        {
         "hoverinfo": "text",
         "hovertext": "MV3.101 Line 19",
         "lat": [
          53.65315
         ],
         "lon": [
          11.3732
         ],
         "marker": {
          "color": "#1ac938",
          "opacity": 0,
          "size": 0
         },
         "mode": "markers",
         "type": "scattermapbox"
        },
        {
         "hoverinfo": "skip",
         "lat": [
          53.6477,
          53.6494
         ],
         "line": {
          "color": "#1ac938"
         },
         "lon": [
          11.3511,
          11.351
         ],
         "mode": "lines",
         "type": "scattermapbox"
        },
        {
         "hoverinfo": "text",
         "hovertext": "MV3.101 Line 94",
         "lat": [
          53.64855
         ],
         "lon": [
          11.35105
         ],
         "marker": {
          "color": "#1ac938",
          "opacity": 0,
          "size": 0
         },
         "mode": "markers",
         "type": "scattermapbox"
        },
        {
         "hoverinfo": "skip",
         "lat": [
          53.6455,
          53.6455
         ],
         "line": {
          "color": "#1ac938"
         },
         "lon": [
          11.3798,
          11.3809
         ],
         "mode": "lines",
         "type": "scattermapbox"
        },
        {
         "hoverinfo": "text",
         "hovertext": "MV3.101 Line 119",
         "lat": [
          53.6455
         ],
         "lon": [
          11.38035
         ],
         "marker": {
          "color": "#1ac938",
          "opacity": 0,
          "size": 0
         },
         "mode": "markers",
         "type": "scattermapbox"
        },
        {
         "hoverinfo": "skip",
         "lat": [
          53.6456,
          53.6464
         ],
         "line": {
          "color": "#1ac938"
         },
         "lon": [
          11.3738,
          11.3745
         ],
         "mode": "lines",
         "type": "scattermapbox"
        },
        {
         "hoverinfo": "text",
         "hovertext": "MV3.101 BS-Feeder3_line",
         "lat": [
          53.646
         ],
         "lon": [
          11.37415
         ],
         "marker": {
          "color": "#1ac938",
          "opacity": 0,
          "size": 0
         },
         "mode": "markers",
         "type": "scattermapbox"
        },
        {
         "hoverinfo": "skip",
         "lat": [
          53.6454,
          53.6453
         ],
         "line": {
          "color": "#1ac938"
         },
         "lon": [
          11.3706,
          11.372
         ],
         "mode": "lines",
         "type": "scattermapbox"
        },
        {
         "hoverinfo": "text",
         "hovertext": "MV3.101 Line 13",
         "lat": [
          53.64535
         ],
         "lon": [
          11.3713
         ],
         "marker": {
          "color": "#1ac938",
          "opacity": 0,
          "size": 0
         },
         "mode": "markers",
         "type": "scattermapbox"
        },
        {
         "hoverinfo": "skip",
         "lat": [
          53.6437,
          53.6439
         ],
         "line": {
          "color": "#1ac938"
         },
         "lon": [
          11.3577,
          11.3558
         ],
         "mode": "lines",
         "type": "scattermapbox"
        },
        {
         "hoverinfo": "text",
         "hovertext": "MV3.101 Line 90",
         "lat": [
          53.6438
         ],
         "lon": [
          11.35675
         ],
         "marker": {
          "color": "#1ac938",
          "opacity": 0,
          "size": 0
         },
         "mode": "markers",
         "type": "scattermapbox"
        },
        {
         "hoverinfo": "skip",
         "lat": [
          53.634,
          53.6332
         ],
         "line": {
          "color": "#1ac938"
         },
         "lon": [
          11.3636,
          11.3633
         ],
         "mode": "lines",
         "type": "scattermapbox"
        },
        {
         "hoverinfo": "text",
         "hovertext": "MV3.101 Line 76",
         "lat": [
          53.6336
         ],
         "lon": [
          11.36345
         ],
         "marker": {
          "color": "#1ac938",
          "opacity": 0,
          "size": 0
         },
         "mode": "markers",
         "type": "scattermapbox"
        },
        {
         "hoverinfo": "skip",
         "lat": [
          53.6531,
          53.6541
         ],
         "line": {
          "color": "#1ac938"
         },
         "lon": [
          11.3682,
          11.3682
         ],
         "mode": "lines",
         "type": "scattermapbox"
        },
        {
         "hoverinfo": "text",
         "hovertext": "MV3.101 Line 36",
         "lat": [
          53.6536
         ],
         "lon": [
          11.3682
         ],
         "marker": {
          "color": "#1ac938",
          "opacity": 0,
          "size": 0
         },
         "mode": "markers",
         "type": "scattermapbox"
        },
        {
         "hoverinfo": "skip",
         "lat": [
          53.6464,
          53.6464
         ],
         "line": {
          "color": "#1ac938"
         },
         "lon": [
          11.3721,
          11.3745
         ],
         "mode": "lines",
         "type": "scattermapbox"
        },
        {
         "hoverinfo": "text",
         "hovertext": "MV3.101 BS-Feeder4_line",
         "lat": [
          53.6464
         ],
         "lon": [
          11.3733
         ],
         "marker": {
          "color": "#1ac938",
          "opacity": 0,
          "size": 0
         },
         "mode": "markers",
         "type": "scattermapbox"
        },
        {
         "hoverinfo": "skip",
         "lat": [
          53.6567,
          53.6559
         ],
         "line": {
          "color": "#1ac938"
         },
         "lon": [
          11.3529,
          11.3519
         ],
         "mode": "lines",
         "type": "scattermapbox"
        },
        {
         "hoverinfo": "text",
         "hovertext": "MV3.101 Line 62",
         "lat": [
          53.6563
         ],
         "lon": [
          11.3524
         ],
         "marker": {
          "color": "#1ac938",
          "opacity": 0,
          "size": 0
         },
         "mode": "markers",
         "type": "scattermapbox"
        },
        {
         "hoverinfo": "skip",
         "lat": [
          53.6467,
          53.6479
         ],
         "line": {
          "color": "#1ac938"
         },
         "lon": [
          11.3755,
          11.3773
         ],
         "mode": "lines",
         "type": "scattermapbox"
        },
        {
         "hoverinfo": "text",
         "hovertext": "MV3.101 Line 121",
         "lat": [
          53.6473
         ],
         "lon": [
          11.3764
         ],
         "marker": {
          "color": "#1ac938",
          "opacity": 0,
          "size": 0
         },
         "mode": "markers",
         "type": "scattermapbox"
        },
        {
         "hoverinfo": "skip",
         "lat": [
          53.6416,
          53.6406
         ],
         "line": {
          "color": "#1ac938"
         },
         "lon": [
          11.366,
          11.3654
         ],
         "mode": "lines",
         "type": "scattermapbox"
        },
        {
         "hoverinfo": "text",
         "hovertext": "MV3.101 Line 72",
         "lat": [
          53.641099999999994
         ],
         "lon": [
          11.3657
         ],
         "marker": {
          "color": "#1ac938",
          "opacity": 0,
          "size": 0
         },
         "mode": "markers",
         "type": "scattermapbox"
        },
        {
         "hoverinfo": "skip",
         "lat": [
          53.6499,
          53.6501
         ],
         "line": {
          "color": "#1ac938"
         },
         "lon": [
          11.3773,
          11.3779
         ],
         "mode": "lines",
         "type": "scattermapbox"
        },
        {
         "hoverinfo": "text",
         "hovertext": "MV3.101 Line 130",
         "lat": [
          53.650000000000006
         ],
         "lon": [
          11.377600000000001
         ],
         "marker": {
          "color": "#1ac938",
          "opacity": 0,
          "size": 0
         },
         "mode": "markers",
         "type": "scattermapbox"
        },
        {
         "hoverinfo": "skip",
         "lat": [
          53.6464,
          53.6438
         ],
         "line": {
          "color": "#1ac938"
         },
         "lon": [
          11.3745,
          11.3767
         ],
         "mode": "lines",
         "type": "scattermapbox"
        },
        {
         "hoverinfo": "text",
         "hovertext": "MV3.101 Line 109",
         "lat": [
          53.6451
         ],
         "lon": [
          11.375599999999999
         ],
         "marker": {
          "color": "#1ac938",
          "opacity": 0,
          "size": 0
         },
         "mode": "markers",
         "type": "scattermapbox"
        },
        {
         "hoverinfo": "skip",
         "lat": [
          53.6511,
          53.6531
         ],
         "line": {
          "color": "#1ac938"
         },
         "lon": [
          11.3682,
          11.3682
         ],
         "mode": "lines",
         "type": "scattermapbox"
        },
        {
         "hoverinfo": "text",
         "hovertext": "MV3.101 Line 35",
         "lat": [
          53.652100000000004
         ],
         "lon": [
          11.3682
         ],
         "marker": {
          "color": "#1ac938",
          "opacity": 0,
          "size": 0
         },
         "mode": "markers",
         "type": "scattermapbox"
        },
        {
         "hoverinfo": "skip",
         "lat": [
          53.6469,
          53.6475
         ],
         "line": {
          "color": "#1ac938"
         },
         "lon": [
          11.3746,
          11.3748
         ],
         "mode": "lines",
         "type": "scattermapbox"
        },
        {
         "hoverinfo": "text",
         "hovertext": "MV3.101 Line 127",
         "lat": [
          53.6472
         ],
         "lon": [
          11.3747
         ],
         "marker": {
          "color": "#1ac938",
          "opacity": 0,
          "size": 0
         },
         "mode": "markers",
         "type": "scattermapbox"
        },
        {
         "hoverinfo": "skip",
         "lat": [
          53.6315,
          53.6321
         ],
         "line": {
          "color": "#1ac938"
         },
         "lon": [
          11.3692,
          11.3702
         ],
         "mode": "lines",
         "type": "scattermapbox"
        },
        {
         "hoverinfo": "text",
         "hovertext": "MV3.101 Line 103",
         "lat": [
          53.6318
         ],
         "lon": [
          11.3697
         ],
         "marker": {
          "color": "#1ac938",
          "opacity": 0,
          "size": 0
         },
         "mode": "markers",
         "type": "scattermapbox"
        },
        {
         "hoverinfo": "skip",
         "lat": [
          53.6453,
          53.6454
         ],
         "line": {
          "color": "#1ac938"
         },
         "lon": [
          11.372,
          11.3732
         ],
         "mode": "lines",
         "type": "scattermapbox"
        },
        {
         "hoverinfo": "text",
         "hovertext": "MV3.101 Line 14",
         "lat": [
          53.64535
         ],
         "lon": [
          11.3726
         ],
         "marker": {
          "color": "#1ac938",
          "opacity": 0,
          "size": 0
         },
         "mode": "markers",
         "type": "scattermapbox"
        },
        {
         "hoverinfo": "skip",
         "lat": [
          53.6481,
          53.6499
         ],
         "line": {
          "color": "#1ac938"
         },
         "lon": [
          11.3752,
          11.3773
         ],
         "mode": "lines",
         "type": "scattermapbox"
        },
        {
         "hoverinfo": "text",
         "hovertext": "MV3.101 Line 129",
         "lat": [
          53.649
         ],
         "lon": [
          11.376249999999999
         ],
         "marker": {
          "color": "#1ac938",
          "opacity": 0,
          "size": 0
         },
         "mode": "markers",
         "type": "scattermapbox"
        },
        {
         "hoverinfo": "skip",
         "lat": [
          53.6545,
          53.6568
         ],
         "line": {
          "color": "#1ac938"
         },
         "lon": [
          11.3581,
          11.3561
         ],
         "mode": "lines",
         "type": "scattermapbox"
        },
        {
         "hoverinfo": "text",
         "hovertext": "MV3.101 Line 60",
         "lat": [
          53.655649999999994
         ],
         "lon": [
          11.357099999999999
         ],
         "marker": {
          "color": "#1ac938",
          "opacity": 0,
          "size": 0
         },
         "mode": "markers",
         "type": "scattermapbox"
        },
        {
         "hoverinfo": "skip",
         "lat": [
          53.6482,
          53.6489
         ],
         "line": {
          "color": "#1ac938"
         },
         "lon": [
          11.3627,
          11.3604
         ],
         "mode": "lines",
         "type": "scattermapbox"
        },
        {
         "hoverinfo": "text",
         "hovertext": "MV3.101 Line 53",
         "lat": [
          53.64855
         ],
         "lon": [
          11.361550000000001
         ],
         "marker": {
          "color": "#1ac938",
          "opacity": 0,
          "size": 0
         },
         "mode": "markers",
         "type": "scattermapbox"
        },
        {
         "hoverinfo": "skip",
         "lat": [
          53.6505,
          53.6525
         ],
         "line": {
          "color": "#1ac938"
         },
         "lon": [
          11.3708,
          11.3724
         ],
         "mode": "lines",
         "type": "scattermapbox"
        },
        {
         "hoverinfo": "text",
         "hovertext": "MV3.101 Line 18",
         "lat": [
          53.6515
         ],
         "lon": [
          11.3716
         ],
         "marker": {
          "color": "#1ac938",
          "opacity": 0,
          "size": 0
         },
         "mode": "markers",
         "type": "scattermapbox"
        },
        {
         "hoverinfo": "skip",
         "lat": [
          53.6456,
          53.6459
         ],
         "line": {
          "color": "#1ac938"
         },
         "lon": [
          11.3692,
          11.3687
         ],
         "mode": "lines",
         "type": "scattermapbox"
        },
        {
         "hoverinfo": "text",
         "hovertext": "MV3.101 Line 41",
         "lat": [
          53.64575
         ],
         "lon": [
          11.36895
         ],
         "marker": {
          "color": "#1ac938",
          "opacity": 0,
          "size": 0
         },
         "mode": "markers",
         "type": "scattermapbox"
        },
        {
         "hoverinfo": "skip",
         "lat": [
          53.6353,
          53.634
         ],
         "line": {
          "color": "#1ac938"
         },
         "lon": [
          11.3632,
          11.3636
         ],
         "mode": "lines",
         "type": "scattermapbox"
        },
        {
         "hoverinfo": "text",
         "hovertext": "MV3.101 Line 75",
         "lat": [
          53.63465
         ],
         "lon": [
          11.3634
         ],
         "marker": {
          "color": "#1ac938",
          "opacity": 0,
          "size": 0
         },
         "mode": "markers",
         "type": "scattermapbox"
        },
        {
         "hoverinfo": "skip",
         "lat": [
          53.6534,
          53.6519
         ],
         "line": {
          "color": "#1ac938"
         },
         "lon": [
          11.3794,
          11.3805
         ],
         "mode": "lines",
         "type": "scattermapbox"
        },
        {
         "hoverinfo": "text",
         "hovertext": "MV3.101 Line 24",
         "lat": [
          53.652649999999994
         ],
         "lon": [
          11.379950000000001
         ],
         "marker": {
          "color": "#1ac938",
          "opacity": 0,
          "size": 0
         },
         "mode": "markers",
         "type": "scattermapbox"
        },
        {
         "hoverinfo": "skip",
         "lat": [
          53.6524,
          53.6531
         ],
         "line": {
          "color": "#1ac938"
         },
         "lon": [
          11.3561,
          11.3584
         ],
         "mode": "lines",
         "type": "scattermapbox"
        },
        {
         "hoverinfo": "text",
         "hovertext": "MV3.101 Line 58",
         "lat": [
          53.65275
         ],
         "lon": [
          11.35725
         ],
         "marker": {
          "color": "#1ac938",
          "opacity": 0,
          "size": 0
         },
         "mode": "markers",
         "type": "scattermapbox"
        },
        {
         "hoverinfo": "skip",
         "lat": [
          53.6514,
          53.6544
         ],
         "line": {
          "color": "#1ac938"
         },
         "lon": [
          11.3638,
          11.3637
         ],
         "mode": "lines",
         "type": "scattermapbox"
        },
        {
         "hoverinfo": "text",
         "hovertext": "MV3.101 Line 45",
         "lat": [
          53.6529
         ],
         "lon": [
          11.36375
         ],
         "marker": {
          "color": "#1ac938",
          "opacity": 0,
          "size": 0
         },
         "mode": "markers",
         "type": "scattermapbox"
        },
        {
         "hoverinfo": "skip",
         "lat": [
          53.6485,
          53.6505
         ],
         "line": {
          "color": "#1ac938"
         },
         "lon": [
          11.3698,
          11.3708
         ],
         "mode": "lines",
         "type": "scattermapbox"
        },
        {
         "hoverinfo": "text",
         "hovertext": "MV3.101 Line 17",
         "lat": [
          53.6495
         ],
         "lon": [
          11.3703
         ],
         "marker": {
          "color": "#1ac938",
          "opacity": 0,
          "size": 0
         },
         "mode": "markers",
         "type": "scattermapbox"
        },
        {
         "hoverinfo": "skip",
         "lat": [
          53.6465,
          53.6477
         ],
         "line": {
          "color": "#1ac938"
         },
         "lon": [
          11.3669,
          11.3641
         ],
         "mode": "lines",
         "type": "scattermapbox"
        },
        {
         "hoverinfo": "text",
         "hovertext": "MV3.101 Line 51",
         "lat": [
          53.6471
         ],
         "lon": [
          11.3655
         ],
         "marker": {
          "color": "#1ac938",
          "opacity": 0,
          "size": 0
         },
         "mode": "markers",
         "type": "scattermapbox"
        },
        {
         "hoverinfo": "skip",
         "lat": [
          53.6559,
          53.655
         ],
         "line": {
          "color": "#1ac938"
         },
         "lon": [
          11.3519,
          11.3518
         ],
         "mode": "lines",
         "type": "scattermapbox"
        },
        {
         "hoverinfo": "text",
         "hovertext": "MV3.101 Line 63",
         "lat": [
          53.65545
         ],
         "lon": [
          11.35185
         ],
         "marker": {
          "color": "#1ac938",
          "opacity": 0,
          "size": 0
         },
         "mode": "markers",
         "type": "scattermapbox"
        },
        {
         "hoverinfo": "skip",
         "lat": [
          53.624,
          53.6236
         ],
         "line": {
          "color": "#1ac938"
         },
         "lon": [
          11.366,
          11.3683
         ],
         "mode": "lines",
         "type": "scattermapbox"
        },
        {
         "hoverinfo": "text",
         "hovertext": "MV3.101 Line 82",
         "lat": [
          53.6238
         ],
         "lon": [
          11.367149999999999
         ],
         "marker": {
          "color": "#1ac938",
          "opacity": 0,
          "size": 0
         },
         "mode": "markers",
         "type": "scattermapbox"
        },
        {
         "hoverinfo": "skip",
         "lat": [
          53.6411,
          53.6409
         ],
         "line": {
          "color": "#1ac938"
         },
         "lon": [
          11.3715,
          11.3733
         ],
         "mode": "lines",
         "type": "scattermapbox"
        },
        {
         "hoverinfo": "text",
         "hovertext": "MV3.101 Line 5",
         "lat": [
          53.641000000000005
         ],
         "lon": [
          11.372399999999999
         ],
         "marker": {
          "color": "#1ac938",
          "opacity": 0,
          "size": 0
         },
         "mode": "markers",
         "type": "scattermapbox"
        },
        {
         "hoverinfo": "skip",
         "lat": [
          53.6489,
          53.6511
         ],
         "line": {
          "color": "#1ac938"
         },
         "lon": [
          11.3683,
          11.3682
         ],
         "mode": "lines",
         "type": "scattermapbox"
        },
        {
         "hoverinfo": "text",
         "hovertext": "MV3.101 Line 34",
         "lat": [
          53.65
         ],
         "lon": [
          11.36825
         ],
         "marker": {
          "color": "#1ac938",
          "opacity": 0,
          "size": 0
         },
         "mode": "markers",
         "type": "scattermapbox"
        },
        {
         "hoverinfo": "skip",
         "lat": [
          53.6603,
          53.662
         ],
         "line": {
          "color": "#1ac938"
         },
         "lon": [
          11.3636,
          11.3646
         ],
         "mode": "lines",
         "type": "scattermapbox"
        },
        {
         "hoverinfo": "text",
         "hovertext": "MV3.101 Line 48",
         "lat": [
          53.66115
         ],
         "lon": [
          11.3641
         ],
         "marker": {
          "color": "#1ac938",
          "opacity": 0,
          "size": 0
         },
         "mode": "markers",
         "type": "scattermapbox"
        },
        {
         "hoverinfo": "skip",
         "lat": [
          53.6454,
          53.6455
         ],
         "line": {
          "color": "#1ac938"
         },
         "lon": [
          11.3776,
          11.3798
         ],
         "mode": "lines",
         "type": "scattermapbox"
        },
        {
         "hoverinfo": "text",
         "hovertext": "MV3.101 Line 118",
         "lat": [
          53.64545
         ],
         "lon": [
          11.378699999999998
         ],
         "marker": {
          "color": "#1ac938",
          "opacity": 0,
          "size": 0
         },
         "mode": "markers",
         "type": "scattermapbox"
        },
        {
         "hoverinfo": "skip",
         "lat": [
          53.6434,
          53.642
         ],
         "line": {
          "color": "#1ac938"
         },
         "lon": [
          11.3674,
          11.3663
         ],
         "mode": "lines",
         "type": "scattermapbox"
        },
        {
         "hoverinfo": "text",
         "hovertext": "MV3.101 Line 70",
         "lat": [
          53.642700000000005
         ],
         "lon": [
          11.36685
         ],
         "marker": {
          "color": "#1ac938",
          "opacity": 0,
          "size": 0
         },
         "mode": "markers",
         "type": "scattermapbox"
        },
        {
         "hoverinfo": "skip",
         "lat": [
          53.6454,
          53.6456
         ],
         "line": {
          "color": "#1ac938"
         },
         "lon": [
          11.3732,
          11.3738
         ],
         "mode": "lines",
         "type": "scattermapbox"
        },
        {
         "hoverinfo": "text",
         "hovertext": "MV3.101 Line 15",
         "lat": [
          53.6455
         ],
         "lon": [
          11.3735
         ],
         "marker": {
          "color": "#1ac938",
          "opacity": 0,
          "size": 0
         },
         "mode": "markers",
         "type": "scattermapbox"
        },
        {
         "hoverinfo": "skip",
         "lat": [
          53.6297,
          53.6286
         ],
         "line": {
          "color": "#1ac938"
         },
         "lon": [
          11.3739,
          11.3737
         ],
         "mode": "lines",
         "type": "scattermapbox"
        },
        {
         "hoverinfo": "text",
         "hovertext": "MV3.101 Line 108",
         "lat": [
          53.629149999999996
         ],
         "lon": [
          11.3738
         ],
         "marker": {
          "color": "#1ac938",
          "opacity": 0,
          "size": 0
         },
         "mode": "markers",
         "type": "scattermapbox"
        },
        {
         "hoverinfo": "skip",
         "lat": [
          53.6464,
          53.6467
         ],
         "line": {
          "color": "#1ac938"
         },
         "lon": [
          11.3745,
          11.3755
         ],
         "mode": "lines",
         "type": "scattermapbox"
        },
        {
         "hoverinfo": "text",
         "hovertext": "MV3.101 Line 120",
         "lat": [
          53.646550000000005
         ],
         "lon": [
          11.375
         ],
         "marker": {
          "color": "#1ac938",
          "opacity": 0,
          "size": 0
         },
         "mode": "markers",
         "type": "scattermapbox"
        },
        {
         "hoverinfo": "skip",
         "lat": [
          53.6461,
          53.6477
         ],
         "line": {
          "color": "#1ac938"
         },
         "lon": [
          11.3521,
          11.3511
         ],
         "mode": "lines",
         "type": "scattermapbox"
        },
        {
         "hoverinfo": "text",
         "hovertext": "MV3.101 Line 93",
         "lat": [
          53.6469
         ],
         "lon": [
          11.351600000000001
         ],
         "marker": {
          "color": "#1ac938",
          "opacity": 0,
          "size": 0
         },
         "mode": "markers",
         "type": "scattermapbox"
        },
        {
         "hoverinfo": "skip",
         "lat": [
          53.6456,
          53.6441
         ],
         "line": {
          "color": "#1ac938"
         },
         "lon": [
          11.3692,
          11.3699
         ],
         "mode": "lines",
         "type": "scattermapbox"
        },
        {
         "hoverinfo": "text",
         "hovertext": "MV3.101 Line 1",
         "lat": [
          53.644850000000005
         ],
         "lon": [
          11.36955
         ],
         "marker": {
          "color": "#1ac938",
          "opacity": 0,
          "size": 0
         },
         "mode": "markers",
         "type": "scattermapbox"
        },
        {
         "hoverinfo": "skip",
         "lat": [
          53.6477,
          53.6482
         ],
         "line": {
          "color": "#1ac938"
         },
         "lon": [
          11.3641,
          11.3627
         ],
         "mode": "lines",
         "type": "scattermapbox"
        },
        {
         "hoverinfo": "text",
         "hovertext": "MV3.101 Line 52",
         "lat": [
          53.64795
         ],
         "lon": [
          11.3634
         ],
         "marker": {
          "color": "#1ac938",
          "opacity": 0,
          "size": 0
         },
         "mode": "markers",
         "type": "scattermapbox"
        },
        {
         "hoverinfo": "skip",
         "lat": [
          53.6445,
          53.6434
         ],
         "line": {
          "color": "#1ac938"
         },
         "lon": [
          11.3683,
          11.3674
         ],
         "mode": "lines",
         "type": "scattermapbox"
        },
        {
         "hoverinfo": "text",
         "hovertext": "MV3.101 Line 69",
         "lat": [
          53.643950000000004
         ],
         "lon": [
          11.36785
         ],
         "marker": {
          "color": "#1ac938",
          "opacity": 0,
          "size": 0
         },
         "mode": "markers",
         "type": "scattermapbox"
        },
        {
         "hoverinfo": "skip",
         "lat": [
          53.6236,
          53.6252
         ],
         "line": {
          "color": "#1ac938"
         },
         "lon": [
          11.3683,
          11.3714
         ],
         "mode": "lines",
         "type": "scattermapbox"
        },
        {
         "hoverinfo": "text",
         "hovertext": "MV3.101 Line 83",
         "lat": [
          53.6244
         ],
         "lon": [
          11.36985
         ],
         "marker": {
          "color": "#1ac938",
          "opacity": 0,
          "size": 0
         },
         "mode": "markers",
         "type": "scattermapbox"
        },
        {
         "hoverinfo": "skip",
         "lat": [
          53.645,
          53.6448
         ],
         "line": {
          "color": "#1ac938"
         },
         "lon": [
          11.3649,
          11.364
         ],
         "mode": "lines",
         "type": "scattermapbox"
        },
        {
         "hoverinfo": "text",
         "hovertext": "MV3.101 Line 86",
         "lat": [
          53.6449
         ],
         "lon": [
          11.364450000000001
         ],
         "marker": {
          "color": "#1ac938",
          "opacity": 0,
          "size": 0
         },
         "mode": "markers",
         "type": "scattermapbox"
        },
        {
         "hoverinfo": "skip",
         "lat": [
          53.6568,
          53.6567
         ],
         "line": {
          "color": "#1ac938"
         },
         "lon": [
          11.3561,
          11.3529
         ],
         "mode": "lines",
         "type": "scattermapbox"
        },
        {
         "hoverinfo": "text",
         "hovertext": "MV3.101 Line 61",
         "lat": [
          53.65675
         ],
         "lon": [
          11.3545
         ],
         "marker": {
          "color": "#1ac938",
          "opacity": 0,
          "size": 0
         },
         "mode": "markers",
         "type": "scattermapbox"
        },
        {
         "hoverinfo": "skip",
         "lat": [
          53.6545,
          53.6544
         ],
         "line": {
          "color": "#1ac938"
         },
         "lon": [
          11.3756,
          11.3777
         ],
         "mode": "lines",
         "type": "scattermapbox"
        },
        {
         "hoverinfo": "text",
         "hovertext": "MV3.101 Line 22",
         "lat": [
          53.65445
         ],
         "lon": [
          11.376650000000001
         ],
         "marker": {
          "color": "#1ac938",
          "opacity": 0,
          "size": 0
         },
         "mode": "markers",
         "type": "scattermapbox"
        },
        {
         "hoverinfo": "skip",
         "lat": [
          53.6436,
          53.6417
         ],
         "line": {
          "color": "#1ac938"
         },
         "lon": [
          11.3686,
          11.368
         ],
         "mode": "lines",
         "type": "scattermapbox"
        },
        {
         "hoverinfo": "text",
         "hovertext": "MV3.101 Line 96",
         "lat": [
          53.64265
         ],
         "lon": [
          11.368300000000001
         ],
         "marker": {
          "color": "#1ac938",
          "opacity": 0,
          "size": 0
         },
         "mode": "markers",
         "type": "scattermapbox"
        },
        {
         "hoverinfo": "skip",
         "lat": [
          53.6472,
          53.6464
         ],
         "line": {
          "color": "#1ac938"
         },
         "lon": [
          11.3833,
          11.3832
         ],
         "mode": "lines",
         "type": "scattermapbox"
        },
        {
         "hoverinfo": "text",
         "hovertext": "MV3.101 Line 125",
         "lat": [
          53.6468
         ],
         "lon": [
          11.38325
         ],
         "marker": {
          "color": "#1ac938",
          "opacity": 0,
          "size": 0
         },
         "mode": "markers",
         "type": "scattermapbox"
        },
        {
         "hoverinfo": "skip",
         "lat": [
          53.6504,
          53.6516
         ],
         "line": {
          "color": "#1ac938"
         },
         "lon": [
          11.357,
          11.3561
         ],
         "mode": "lines",
         "type": "scattermapbox"
        },
        {
         "hoverinfo": "text",
         "hovertext": "MV3.101 Line 56",
         "lat": [
          53.650999999999996
         ],
         "lon": [
          11.356549999999999
         ],
         "marker": {
          "color": "#1ac938",
          "opacity": 0,
          "size": 0
         },
         "mode": "markers",
         "type": "scattermapbox"
        },
        {
         "hoverinfo": "skip",
         "lat": [
          53.6438,
          53.6431
         ],
         "line": {
          "color": "#1ac938"
         },
         "lon": [
          11.3767,
          11.3783
         ],
         "mode": "lines",
         "type": "scattermapbox"
        },
        {
         "hoverinfo": "text",
         "hovertext": "MV3.101 Line 110",
         "lat": [
          53.64345
         ],
         "lon": [
          11.3775
         ],
         "marker": {
          "color": "#1ac938",
          "opacity": 0,
          "size": 0
         },
         "mode": "markers",
         "type": "scattermapbox"
        },
        {
         "hoverinfo": "skip",
         "lat": [
          53.6459,
          53.648
         ],
         "line": {
          "color": "#1ac938"
         },
         "lon": [
          11.3687,
          11.3667
         ],
         "mode": "lines",
         "type": "scattermapbox"
        },
        {
         "hoverinfo": "text",
         "hovertext": "MV3.101 Line 42",
         "lat": [
          53.646950000000004
         ],
         "lon": [
          11.3677
         ],
         "marker": {
          "color": "#1ac938",
          "opacity": 0,
          "size": 0
         },
         "mode": "markers",
         "type": "scattermapbox"
        },
        {
         "hoverinfo": "skip",
         "lat": [
          53.6431,
          53.6429
         ],
         "line": {
          "color": "#1ac938"
         },
         "lon": [
          11.3783,
          11.3789
         ],
         "mode": "lines",
         "type": "scattermapbox"
        },
        {
         "hoverinfo": "text",
         "hovertext": "MV3.101 Line 111",
         "lat": [
          53.643
         ],
         "lon": [
          11.378599999999999
         ],
         "marker": {
          "color": "#1ac938",
          "opacity": 0,
          "size": 0
         },
         "mode": "markers",
         "type": "scattermapbox"
        },
        {
         "hoverinfo": "skip",
         "lat": [
          53.637,
          53.6363
         ],
         "line": {
          "color": "#1ac938"
         },
         "lon": [
          11.3664,
          11.3661
         ],
         "mode": "lines",
         "type": "scattermapbox"
        },
        {
         "hoverinfo": "text",
         "hovertext": "MV3.101 Line 99",
         "lat": [
          53.63665
         ],
         "lon": [
          11.36625
         ],
         "marker": {
          "color": "#1ac938",
          "opacity": 0,
          "size": 0
         },
         "mode": "markers",
         "type": "scattermapbox"
        },
        {
         "hoverinfo": "skip",
         "lat": [
          53.6481,
          53.6472
         ],
         "line": {
          "color": "#1ac938"
         },
         "lon": [
          11.3819,
          11.3833
         ],
         "mode": "lines",
         "type": "scattermapbox"
        },
        {
         "hoverinfo": "text",
         "hovertext": "MV3.101 Line 124",
         "lat": [
          53.64765
         ],
         "lon": [
          11.3826
         ],
         "marker": {
          "color": "#1ac938",
          "opacity": 0,
          "size": 0
         },
         "mode": "markers",
         "type": "scattermapbox"
        },
        {
         "hoverinfo": "skip",
         "lat": [
          53.648,
          53.6492
         ],
         "line": {
          "color": "#1ac938"
         },
         "lon": [
          11.3667,
          11.3656
         ],
         "mode": "lines",
         "type": "scattermapbox"
        },
        {
         "hoverinfo": "text",
         "hovertext": "MV3.101 Line 43",
         "lat": [
          53.6486
         ],
         "lon": [
          11.366150000000001
         ],
         "marker": {
          "color": "#1ac938",
          "opacity": 0,
          "size": 0
         },
         "mode": "markers",
         "type": "scattermapbox"
        },
        {
         "hoverinfo": "skip",
         "lat": [
          53.6384,
          53.6353
         ],
         "line": {
          "color": "#1ac938"
         },
         "lon": [
          11.364,
          11.3632
         ],
         "mode": "lines",
         "type": "scattermapbox"
        },
        {
         "hoverinfo": "text",
         "hovertext": "MV3.101 Line 74",
         "lat": [
          53.636849999999995
         ],
         "lon": [
          11.363600000000002
         ],
         "marker": {
          "color": "#1ac938",
          "opacity": 0,
          "size": 0
         },
         "mode": "markers",
         "type": "scattermapbox"
        },
        {
         "hoverinfo": "skip",
         "lat": [
          53.6441,
          53.6425
         ],
         "line": {
          "color": "#1ac938"
         },
         "lon": [
          11.3699,
          11.3707
         ],
         "mode": "lines",
         "type": "scattermapbox"
        },
        {
         "hoverinfo": "text",
         "hovertext": "MV3.101 Line 2",
         "lat": [
          53.643299999999996
         ],
         "lon": [
          11.3703
         ],
         "marker": {
          "color": "#1ac938",
          "opacity": 0,
          "size": 0
         },
         "mode": "markers",
         "type": "scattermapbox"
        },
        {
         "hoverinfo": "skip",
         "lat": [
          53.6429,
          53.6428
         ],
         "line": {
          "color": "#1ac938"
         },
         "lon": [
          11.3789,
          11.381
         ],
         "mode": "lines",
         "type": "scattermapbox"
        },
        {
         "hoverinfo": "text",
         "hovertext": "MV3.101 Line 112",
         "lat": [
          53.642849999999996
         ],
         "lon": [
          11.379950000000001
         ],
         "marker": {
          "color": "#1ac938",
          "opacity": 0,
          "size": 0
         },
         "mode": "markers",
         "type": "scattermapbox"
        },
        {
         "hoverinfo": "skip",
         "lat": [
          53.6453,
          53.645
         ],
         "line": {
          "color": "#1ac938"
         },
         "lon": [
          11.3665,
          11.3649
         ],
         "mode": "lines",
         "type": "scattermapbox"
        },
        {
         "hoverinfo": "text",
         "hovertext": "MV3.101 Line 85",
         "lat": [
          53.64515
         ],
         "lon": [
          11.3657
         ],
         "marker": {
          "color": "#1ac938",
          "opacity": 0,
          "size": 0
         },
         "mode": "markers",
         "type": "scattermapbox"
        },
        {
         "hoverinfo": "skip",
         "lat": [
          53.6456,
          53.6436
         ],
         "line": {
          "color": "#1ac938"
         },
         "lon": [
          11.3692,
          11.3686
         ],
         "mode": "lines",
         "type": "scattermapbox"
        },
        {
         "hoverinfo": "text",
         "hovertext": "MV3.101 Line 95",
         "lat": [
          53.6446
         ],
         "lon": [
          11.3689
         ],
         "marker": {
          "color": "#1ac938",
          "opacity": 0,
          "size": 0
         },
         "mode": "markers",
         "type": "scattermapbox"
        },
        {
         "hoverinfo": "skip",
         "lat": [
          53.6456,
          53.6454
         ],
         "line": {
          "color": "#1ac938"
         },
         "lon": [
          11.3692,
          11.3706
         ],
         "mode": "lines",
         "type": "scattermapbox"
        },
        {
         "hoverinfo": "text",
         "hovertext": "MV3.101 Line 12",
         "lat": [
          53.6455
         ],
         "lon": [
          11.3699
         ],
         "marker": {
          "color": "#1ac938",
          "opacity": 0,
          "size": 0
         },
         "mode": "markers",
         "type": "scattermapbox"
        },
        {
         "hoverinfo": "skip",
         "lat": [
          53.6492,
          53.6514
         ],
         "line": {
          "color": "#1ac938"
         },
         "lon": [
          11.3656,
          11.3638
         ],
         "mode": "lines",
         "type": "scattermapbox"
        },
        {
         "hoverinfo": "text",
         "hovertext": "MV3.101 Line 44",
         "lat": [
          53.6503
         ],
         "lon": [
          11.3647
         ],
         "marker": {
          "color": "#1ac938",
          "opacity": 0,
          "size": 0
         },
         "mode": "markers",
         "type": "scattermapbox"
        },
        {
         "hoverinfo": "skip",
         "lat": [
          53.6498,
          53.6504
         ],
         "line": {
          "color": "#1ac938"
         },
         "lon": [
          11.3578,
          11.357
         ],
         "mode": "lines",
         "type": "scattermapbox"
        },
        {
         "hoverinfo": "text",
         "hovertext": "MV3.101 Line 55",
         "lat": [
          53.650099999999995
         ],
         "lon": [
          11.357399999999998
         ],
         "marker": {
          "color": "#1ac938",
          "opacity": 0,
          "size": 0
         },
         "mode": "markers",
         "type": "scattermapbox"
        },
        {
         "hoverinfo": "skip",
         "lat": [
          53.6521,
          53.6508
         ],
         "line": {
          "color": "#1ac938"
         },
         "lon": [
          11.3535,
          11.3521
         ],
         "mode": "lines",
         "type": "scattermapbox"
        },
        {
         "hoverinfo": "text",
         "hovertext": "MV3.101 Line 66",
         "lat": [
          53.65145
         ],
         "lon": [
          11.3528
         ],
         "marker": {
          "color": "#1ac938",
          "opacity": 0,
          "size": 0
         },
         "mode": "markers",
         "type": "scattermapbox"
        },
        {
         "hoverinfo": "skip",
         "lat": [
          53.6501,
          53.6488
         ],
         "line": {
          "color": "#1ac938"
         },
         "lon": [
          11.3811,
          11.3833
         ],
         "mode": "lines",
         "type": "scattermapbox"
        },
        {
         "hoverinfo": "text",
         "hovertext": "MV3.101 Line 133",
         "lat": [
          53.64945
         ],
         "lon": [
          11.382200000000001
         ],
         "marker": {
          "color": "#1ac938",
          "opacity": 0,
          "size": 0
         },
         "mode": "markers",
         "type": "scattermapbox"
        },
        {
         "hoverinfo": "skip",
         "lat": [
          53.6543,
          53.6545
         ],
         "line": {
          "color": "#1ac938"
         },
         "lon": [
          11.3751,
          11.3756
         ],
         "mode": "lines",
         "type": "scattermapbox"
        },
        {
         "hoverinfo": "text",
         "hovertext": "MV3.101 Line 21",
         "lat": [
          53.654399999999995
         ],
         "lon": [
          11.375350000000001
         ],
         "marker": {
          "color": "#1ac938",
          "opacity": 0,
          "size": 0
         },
         "mode": "markers",
         "type": "scattermapbox"
        },
        {
         "hoverinfo": "skip",
         "lat": [
          53.6441,
          53.6437
         ],
         "line": {
          "color": "#1ac938"
         },
         "lon": [
          11.3609,
          11.3577
         ],
         "mode": "lines",
         "type": "scattermapbox"
        },
        {
         "hoverinfo": "text",
         "hovertext": "MV3.101 Line 89",
         "lat": [
          53.6439
         ],
         "lon": [
          11.359300000000001
         ],
         "marker": {
          "color": "#1ac938",
          "opacity": 0,
          "size": 0
         },
         "mode": "markers",
         "type": "scattermapbox"
        },
        {
         "hoverinfo": "skip",
         "lat": [
          53.6501,
          53.6502
         ],
         "line": {
          "color": "#1ac938"
         },
         "lon": [
          11.3779,
          11.3805
         ],
         "mode": "lines",
         "type": "scattermapbox"
        },
        {
         "hoverinfo": "text",
         "hovertext": "MV3.101 Line 131",
         "lat": [
          53.65015
         ],
         "lon": [
          11.3792
         ],
         "marker": {
          "color": "#1ac938",
          "opacity": 0,
          "size": 0
         },
         "mode": "markers",
         "type": "scattermapbox"
        },
        {
         "hoverinfo": "skip",
         "lat": [
          53.6328,
          53.6306
         ],
         "line": {
          "color": "#1ac938"
         },
         "lon": [
          11.3733,
          11.3739
         ],
         "mode": "lines",
         "type": "scattermapbox"
        },
        {
         "hoverinfo": "text",
         "hovertext": "MV3.101 Line 106",
         "lat": [
          53.6317
         ],
         "lon": [
          11.3736
         ],
         "marker": {
          "color": "#1ac938",
          "opacity": 0,
          "size": 0
         },
         "mode": "markers",
         "type": "scattermapbox"
        },
        {
         "hoverinfo": "skip",
         "lat": [
          53.6592,
          53.6598
         ],
         "line": {
          "color": "#1ac938"
         },
         "lon": [
          11.3686,
          11.3685
         ],
         "mode": "lines",
         "type": "scattermapbox"
        },
        {
         "hoverinfo": "text",
         "hovertext": "MV3.101 Line 40",
         "lat": [
          53.659499999999994
         ],
         "lon": [
          11.368549999999999
         ],
         "marker": {
          "color": "#1ac938",
          "opacity": 0,
          "size": 0
         },
         "mode": "markers",
         "type": "scattermapbox"
        },
        {
         "hoverinfo": "skip",
         "lat": [
          53.6464,
          53.6456
         ],
         "line": {
          "color": "#1ac938"
         },
         "lon": [
          11.3745,
          11.3752
         ],
         "mode": "lines",
         "type": "scattermapbox"
        },
        {
         "hoverinfo": "text",
         "hovertext": "MV3.101 Line 115",
         "lat": [
          53.646
         ],
         "lon": [
          11.374849999999999
         ],
         "marker": {
          "color": "#1ac938",
          "opacity": 0,
          "size": 0
         },
         "mode": "markers",
         "type": "scattermapbox"
        },
        {
         "hoverinfo": "skip",
         "lat": [
          53.6544,
          53.6534
         ],
         "line": {
          "color": "#1ac938"
         },
         "lon": [
          11.3777,
          11.3794
         ],
         "mode": "lines",
         "type": "scattermapbox"
        },
        {
         "hoverinfo": "text",
         "hovertext": "MV3.101 Line 23",
         "lat": [
          53.6539
         ],
         "lon": [
          11.37855
         ],
         "marker": {
          "color": "#1ac938",
          "opacity": 0,
          "size": 0
         },
         "mode": "markers",
         "type": "scattermapbox"
        },
        {
         "hoverinfo": "skip",
         "lat": [
          53.6544,
          53.6579
         ],
         "line": {
          "color": "#1ac938"
         },
         "lon": [
          11.3637,
          11.3634
         ],
         "mode": "lines",
         "type": "scattermapbox"
        },
        {
         "hoverinfo": "text",
         "hovertext": "MV3.101 Line 46",
         "lat": [
          53.65615
         ],
         "lon": [
          11.36355
         ],
         "marker": {
          "color": "#1ac938",
          "opacity": 0,
          "size": 0
         },
         "mode": "markers",
         "type": "scattermapbox"
        },
        {
         "hoverinfo": "skip",
         "lat": [
          53.6464,
          53.6469
         ],
         "line": {
          "color": "#1ac938"
         },
         "lon": [
          11.3745,
          11.3746
         ],
         "mode": "lines",
         "type": "scattermapbox"
        },
        {
         "hoverinfo": "text",
         "hovertext": "MV3.101 Line 126",
         "lat": [
          53.64665
         ],
         "lon": [
          11.37455
         ],
         "marker": {
          "color": "#1ac938",
          "opacity": 0,
          "size": 0
         },
         "mode": "markers",
         "type": "scattermapbox"
        },
        {
         "hoverinfo": "skip",
         "lat": [
          53.6451,
          53.6445
         ],
         "line": {
          "color": "#1ac938"
         },
         "lon": [
          11.369,
          11.3683
         ],
         "mode": "lines",
         "type": "scattermapbox"
        },
        {
         "hoverinfo": "text",
         "hovertext": "MV3.101 Line 68",
         "lat": [
          53.644800000000004
         ],
         "lon": [
          11.368649999999999
         ],
         "marker": {
          "color": "#1ac938",
          "opacity": 0,
          "size": 0
         },
         "mode": "markers",
         "type": "scattermapbox"
        },
        {
         "hoverinfo": "skip",
         "lat": [
          53.6428,
          53.6429
         ],
         "line": {
          "color": "#1ac938"
         },
         "lon": [
          11.381,
          11.3815
         ],
         "mode": "lines",
         "type": "scattermapbox"
        },
        {
         "hoverinfo": "text",
         "hovertext": "MV3.101 Line 113",
         "lat": [
          53.642849999999996
         ],
         "lon": [
          11.381250000000001
         ],
         "marker": {
          "color": "#1ac938",
          "opacity": 0,
          "size": 0
         },
         "mode": "markers",
         "type": "scattermapbox"
        },
        {
         "hoverinfo": "skip",
         "lat": [
          53.6519,
          53.651
         ],
         "line": {
          "color": "#1ac938"
         },
         "lon": [
          11.3805,
          11.3807
         ],
         "mode": "lines",
         "type": "scattermapbox"
        },
        {
         "hoverinfo": "text",
         "hovertext": "MV3.101 Line 25",
         "lat": [
          53.65145
         ],
         "lon": [
          11.3806
         ],
         "marker": {
          "color": "#1ac938",
          "opacity": 0,
          "size": 0
         },
         "mode": "markers",
         "type": "scattermapbox"
        },
        {
         "hoverinfo": "skip",
         "lat": [
          53.6443,
          53.6441
         ],
         "line": {
          "color": "#1ac938"
         },
         "lon": [
          11.3619,
          11.3609
         ],
         "mode": "lines",
         "type": "scattermapbox"
        },
        {
         "hoverinfo": "text",
         "hovertext": "MV3.101 Line 88",
         "lat": [
          53.6442
         ],
         "lon": [
          11.3614
         ],
         "marker": {
          "color": "#1ac938",
          "opacity": 0,
          "size": 0
         },
         "mode": "markers",
         "type": "scattermapbox"
        },
        {
         "hoverinfo": "skip",
         "lat": [
          53.6541,
          53.6572
         ],
         "line": {
          "color": "#1ac938"
         },
         "lon": [
          11.3682,
          11.3686
         ],
         "mode": "lines",
         "type": "scattermapbox"
        },
        {
         "hoverinfo": "text",
         "hovertext": "MV3.101 Line 37",
         "lat": [
          53.65565
         ],
         "lon": [
          11.368400000000001
         ],
         "marker": {
          "color": "#1ac938",
          "opacity": 0,
          "size": 0
         },
         "mode": "markers",
         "type": "scattermapbox"
        },
        {
         "hoverinfo": "skip",
         "lat": [
          53.6332,
          53.6312
         ],
         "line": {
          "color": "#1ac938"
         },
         "lon": [
          11.3633,
          11.3627
         ],
         "mode": "lines",
         "type": "scattermapbox"
        },
        {
         "hoverinfo": "text",
         "hovertext": "MV3.101 Line 77",
         "lat": [
          53.6322
         ],
         "lon": [
          11.363
         ],
         "marker": {
          "color": "#1ac938",
          "opacity": 0,
          "size": 0
         },
         "mode": "markers",
         "type": "scattermapbox"
        },
        {
         "hoverinfo": "skip",
         "lat": [
          53.6261,
          53.624
         ],
         "line": {
          "color": "#1ac938"
         },
         "lon": [
          11.3638,
          11.366
         ],
         "mode": "lines",
         "type": "scattermapbox"
        },
        {
         "hoverinfo": "text",
         "hovertext": "MV3.101 Line 81",
         "lat": [
          53.62505
         ],
         "lon": [
          11.364899999999999
         ],
         "marker": {
          "color": "#1ac938",
          "opacity": 0,
          "size": 0
         },
         "mode": "markers",
         "type": "scattermapbox"
        },
        {
         "hoverinfo": "skip",
         "lat": [
          53.638,
          53.6371
         ],
         "line": {
          "color": "#1ac938"
         },
         "lon": [
          11.3719,
          11.3721
         ],
         "mode": "lines",
         "type": "scattermapbox"
        },
        {
         "hoverinfo": "text",
         "hovertext": "MV3.101 Line 11",
         "lat": [
          53.63755
         ],
         "lon": [
          11.372
         ],
         "marker": {
          "color": "#1ac938",
          "opacity": 0,
          "size": 0
         },
         "mode": "markers",
         "type": "scattermapbox"
        },
        {
         "hoverinfo": "skip",
         "lat": [
          53.6417,
          53.6389
         ],
         "line": {
          "color": "#1ac938"
         },
         "lon": [
          11.368,
          11.3669
         ],
         "mode": "lines",
         "type": "scattermapbox"
        },
        {
         "hoverinfo": "text",
         "hovertext": "MV3.101 Line 97",
         "lat": [
          53.640299999999996
         ],
         "lon": [
          11.36745
         ],
         "marker": {
          "color": "#1ac938",
          "opacity": 0,
          "size": 0
         },
         "mode": "markers",
         "type": "scattermapbox"
        },
        {
         "hoverinfo": "skip",
         "lat": [
          53.6341,
          53.6328
         ],
         "line": {
          "color": "#1ac938"
         },
         "lon": [
          11.3724,
          11.3733
         ],
         "mode": "lines",
         "type": "scattermapbox"
        },
        {
         "hoverinfo": "text",
         "hovertext": "MV3.101 Line 105",
         "lat": [
          53.633449999999996
         ],
         "lon": [
          11.37285
         ],
         "marker": {
          "color": "#1ac938",
          "opacity": 0,
          "size": 0
         },
         "mode": "markers",
         "type": "scattermapbox"
        },
        {
         "hoverinfo": "skip",
         "lat": [
          53.6439,
          53.6443
         ],
         "line": {
          "color": "#1ac938"
         },
         "lon": [
          11.3558,
          11.3544
         ],
         "mode": "lines",
         "type": "scattermapbox"
        },
        {
         "hoverinfo": "text",
         "hovertext": "MV3.101 Line 91",
         "lat": [
          53.6441
         ],
         "lon": [
          11.3551
         ],
         "marker": {
          "color": "#1ac938",
          "opacity": 0,
          "size": 0
         },
         "mode": "markers",
         "type": "scattermapbox"
        },
        {
         "hoverinfo": "skip",
         "lat": [
          53.6502,
          53.6501
         ],
         "line": {
          "color": "#1ac938"
         },
         "lon": [
          11.3805,
          11.3811
         ],
         "mode": "lines",
         "type": "scattermapbox"
        },
        {
         "hoverinfo": "text",
         "hovertext": "MV3.101 Line 132",
         "lat": [
          53.65015
         ],
         "lon": [
          11.3808
         ],
         "marker": {
          "color": "#1ac938",
          "opacity": 0,
          "size": 0
         },
         "mode": "markers",
         "type": "scattermapbox"
        },
        {
         "hoverinfo": "skip",
         "lat": [
          53.6397,
          53.638
         ],
         "line": {
          "color": "#1ac938"
         },
         "lon": [
          11.3715,
          11.3719
         ],
         "mode": "lines",
         "type": "scattermapbox"
        },
        {
         "hoverinfo": "text",
         "hovertext": "MV3.101 Line 10",
         "lat": [
          53.63885
         ],
         "lon": [
          11.3717
         ],
         "marker": {
          "color": "#1ac938",
          "opacity": 0,
          "size": 0
         },
         "mode": "markers",
         "type": "scattermapbox"
        },
        {
         "hoverinfo": "skip",
         "lat": [
          53.6321,
          53.6341
         ],
         "line": {
          "color": "#1ac938"
         },
         "lon": [
          11.3702,
          11.3724
         ],
         "mode": "lines",
         "type": "scattermapbox"
        },
        {
         "hoverinfo": "text",
         "hovertext": "MV3.101 Line 104",
         "lat": [
          53.6331
         ],
         "lon": [
          11.371300000000002
         ],
         "marker": {
          "color": "#1ac938",
          "opacity": 0,
          "size": 0
         },
         "mode": "markers",
         "type": "scattermapbox"
        },
        {
         "hoverinfo": "skip",
         "lat": [
          53.6409,
          53.641
         ],
         "line": {
          "color": "#1ac938"
         },
         "lon": [
          11.3733,
          11.3767
         ],
         "mode": "lines",
         "type": "scattermapbox"
        },
        {
         "hoverinfo": "text",
         "hovertext": "MV3.101 Line 6",
         "lat": [
          53.640950000000004
         ],
         "lon": [
          11.375
         ],
         "marker": {
          "color": "#1ac938",
          "opacity": 0,
          "size": 0
         },
         "mode": "markers",
         "type": "scattermapbox"
        },
        {
         "hoverinfo": "skip",
         "lat": [
          53.6346,
          53.633
         ],
         "line": {
          "color": "#1ac938"
         },
         "lon": [
          11.3656,
          11.3668
         ],
         "mode": "lines",
         "type": "scattermapbox"
        },
        {
         "hoverinfo": "text",
         "hovertext": "MV3.101 Line 101",
         "lat": [
          53.6338
         ],
         "lon": [
          11.3662
         ],
         "marker": {
          "color": "#1ac938",
          "opacity": 0,
          "size": 0
         },
         "mode": "markers",
         "type": "scattermapbox"
        },
        {
         "hoverinfo": "skip",
         "lat": [
          53.6479,
          53.6481
         ],
         "line": {
          "color": "#1ac938"
         },
         "lon": [
          11.3773,
          11.3784
         ],
         "mode": "lines",
         "type": "scattermapbox"
        },
        {
         "hoverinfo": "text",
         "hovertext": "MV3.101 Line 122",
         "lat": [
          53.647999999999996
         ],
         "lon": [
          11.377849999999999
         ],
         "marker": {
          "color": "#1ac938",
          "opacity": 0,
          "size": 0
         },
         "mode": "markers",
         "type": "scattermapbox"
        },
        {
         "hoverinfo": "skip",
         "lat": [
          53.6415,
          53.6422
         ],
         "line": {
          "color": "#1ac938"
         },
         "lon": [
          11.3776,
          11.3784
         ],
         "mode": "lines",
         "type": "scattermapbox"
        },
        {
         "hoverinfo": "text",
         "hovertext": "MV3.101 Line 8",
         "lat": [
          53.641850000000005
         ],
         "lon": [
          11.378
         ],
         "marker": {
          "color": "#1ac938",
          "opacity": 0,
          "size": 0
         },
         "mode": "markers",
         "type": "scattermapbox"
        },
        {
         "hoverinfo": "skip",
         "lat": [
          53.6457,
          53.6465
         ],
         "line": {
          "color": "#1ac938"
         },
         "lon": [
          11.3682,
          11.3669
         ],
         "mode": "lines",
         "type": "scattermapbox"
        },
        {
         "hoverinfo": "text",
         "hovertext": "MV3.101 Line 50",
         "lat": [
          53.646100000000004
         ],
         "lon": [
          11.36755
         ],
         "marker": {
          "color": "#1ac938",
          "opacity": 0,
          "size": 0
         },
         "mode": "markers",
         "type": "scattermapbox"
        },
        {
         "hoverinfo": "skip",
         "lat": [
          53.641,
          53.6415
         ],
         "line": {
          "color": "#1ac938"
         },
         "lon": [
          11.3767,
          11.3776
         ],
         "mode": "lines",
         "type": "scattermapbox"
        },
        {
         "hoverinfo": "text",
         "hovertext": "MV3.101 Line 7",
         "lat": [
          53.64125
         ],
         "lon": [
          11.37715
         ],
         "marker": {
          "color": "#1ac938",
          "opacity": 0,
          "size": 0
         },
         "mode": "markers",
         "type": "scattermapbox"
        },
        {
         "hoverinfo": "skip",
         "lat": [
          53.6572,
          53.6585
         ],
         "line": {
          "color": "#1ac938"
         },
         "lon": [
          11.3686,
          11.3687
         ],
         "mode": "lines",
         "type": "scattermapbox"
        },
        {
         "hoverinfo": "text",
         "hovertext": "MV3.101 Line 38",
         "lat": [
          53.657849999999996
         ],
         "lon": [
          11.36865
         ],
         "marker": {
          "color": "#1ac938",
          "opacity": 0,
          "size": 0
         },
         "mode": "markers",
         "type": "scattermapbox"
        },
        {
         "hoverinfo": "skip",
         "lat": [
          53.6456,
          53.6454
         ],
         "line": {
          "color": "#1ac938"
         },
         "lon": [
          11.3752,
          11.3762
         ],
         "mode": "lines",
         "type": "scattermapbox"
        },
        {
         "hoverinfo": "text",
         "hovertext": "MV3.101 Line 116",
         "lat": [
          53.6455
         ],
         "lon": [
          11.3757
         ],
         "marker": {
          "color": "#1ac938",
          "opacity": 0,
          "size": 0
         },
         "mode": "markers",
         "type": "scattermapbox"
        },
        {
         "hoverinfo": "skip",
         "lat": [
          53.655,
          53.6537
         ],
         "line": {
          "color": "#1ac938"
         },
         "lon": [
          11.3518,
          11.3524
         ],
         "mode": "lines",
         "type": "scattermapbox"
        },
        {
         "hoverinfo": "text",
         "hovertext": "MV3.101 Line 64",
         "lat": [
          53.65435
         ],
         "lon": [
          11.3521
         ],
         "marker": {
          "color": "#1ac938",
          "opacity": 0,
          "size": 0
         },
         "mode": "markers",
         "type": "scattermapbox"
        },
        {
         "hoverinfo": "skip",
         "lat": [
          53.6477,
          53.6492
         ],
         "line": {
          "color": "#1ac938"
         },
         "lon": [
          11.3701,
          11.372
         ],
         "mode": "lines",
         "type": "scattermapbox"
        },
        {
         "hoverinfo": "text",
         "hovertext": "MV3.101 Line 29",
         "lat": [
          53.64845
         ],
         "lon": [
          11.37105
         ],
         "marker": {
          "color": "#1ac938",
          "opacity": 0,
          "size": 0
         },
         "mode": "markers",
         "type": "scattermapbox"
        },
        {
         "hoverinfo": "skip",
         "lat": [
          53.6457,
          53.647
         ],
         "line": {
          "color": "#1ac938"
         },
         "lon": [
          11.3697,
          11.3701
         ],
         "mode": "lines",
         "type": "scattermapbox"
        },
        {
         "hoverinfo": "text",
         "hovertext": "MV3.101 Line 27",
         "lat": [
          53.64635
         ],
         "lon": [
          11.369900000000001
         ],
         "marker": {
          "color": "#1ac938",
          "opacity": 0,
          "size": 0
         },
         "mode": "markers",
         "type": "scattermapbox"
        },
        {
         "hoverinfo": "skip",
         "lat": [
          53.6303,
          53.6285
         ],
         "line": {
          "color": "#1ac938"
         },
         "lon": [
          11.3626,
          11.3627
         ],
         "mode": "lines",
         "type": "scattermapbox"
        },
        {
         "hoverinfo": "text",
         "hovertext": "MV3.101 Line 79",
         "lat": [
          53.629400000000004
         ],
         "lon": [
          11.36265
         ],
         "marker": {
          "color": "#1ac938",
          "opacity": 0,
          "size": 0
         },
         "mode": "markers",
         "type": "scattermapbox"
        },
        {
         "hoverinfo": "skip",
         "lat": [
          53.6456,
          53.6485
         ],
         "line": {
          "color": "#1ac938"
         },
         "lon": [
          11.3692,
          11.3698
         ],
         "mode": "lines",
         "type": "scattermapbox"
        },
        {
         "hoverinfo": "text",
         "hovertext": "MV3.101 Line 16",
         "lat": [
          53.64705
         ],
         "lon": [
          11.369499999999999
         ],
         "marker": {
          "color": "#1ac938",
          "opacity": 0,
          "size": 0
         },
         "mode": "markers",
         "type": "scattermapbox"
        },
        {
         "hoverinfo": "skip",
         "lat": [
          53.6456,
          53.6457
         ],
         "line": {
          "color": "#1ac938"
         },
         "lon": [
          11.3692,
          11.3682
         ],
         "mode": "lines",
         "type": "scattermapbox"
        },
        {
         "hoverinfo": "text",
         "hovertext": "MV3.101 Line 49",
         "lat": [
          53.64565
         ],
         "lon": [
          11.3687
         ],
         "marker": {
          "color": "#1ac938",
          "opacity": 0,
          "size": 0
         },
         "mode": "markers",
         "type": "scattermapbox"
        },
        {
         "hoverinfo": "skip",
         "lat": [
          53.6454,
          53.6454
         ],
         "line": {
          "color": "#1ac938"
         },
         "lon": [
          11.3762,
          11.3776
         ],
         "mode": "lines",
         "type": "scattermapbox"
        },
        {
         "hoverinfo": "text",
         "hovertext": "MV3.101 Line 117",
         "lat": [
          53.6454
         ],
         "lon": [
          11.3769
         ],
         "marker": {
          "color": "#1ac938",
          "opacity": 0,
          "size": 0
         },
         "mode": "markers",
         "type": "scattermapbox"
        },
        {
         "hoverinfo": "skip",
         "lat": [
          53.6306,
          53.6297
         ],
         "line": {
          "color": "#1ac938"
         },
         "lon": [
          11.3739,
          11.3739
         ],
         "mode": "lines",
         "type": "scattermapbox"
        },
        {
         "hoverinfo": "text",
         "hovertext": "MV3.101 Line 107",
         "lat": [
          53.63015
         ],
         "lon": [
          11.3739
         ],
         "marker": {
          "color": "#1ac938",
          "opacity": 0,
          "size": 0
         },
         "mode": "markers",
         "type": "scattermapbox"
        },
        {
         "hoverinfo": "skip",
         "lat": [
          53.6489,
          53.6498
         ],
         "line": {
          "color": "#1ac938"
         },
         "lon": [
          11.3604,
          11.3578
         ],
         "mode": "lines",
         "type": "scattermapbox"
        },
        {
         "hoverinfo": "text",
         "hovertext": "MV3.101 Line 54",
         "lat": [
          53.64935
         ],
         "lon": [
          11.3591
         ],
         "marker": {
          "color": "#1ac938",
          "opacity": 0,
          "size": 0
         },
         "mode": "markers",
         "type": "scattermapbox"
        },
        {
         "hoverinfo": "skip",
         "lat": [
          53.6462,
          53.6469
         ],
         "line": {
          "color": "#1ac938"
         },
         "lon": [
          11.3691,
          11.3688
         ],
         "mode": "lines",
         "type": "scattermapbox"
        },
        {
         "hoverinfo": "text",
         "hovertext": "MV3.101 Line 32",
         "lat": [
          53.646550000000005
         ],
         "lon": [
          11.36895
         ],
         "marker": {
          "color": "#1ac938",
          "opacity": 0,
          "size": 0
         },
         "mode": "markers",
         "type": "scattermapbox"
        },
        {
         "hoverinfo": "skip",
         "lat": [
          53.6312,
          53.6303
         ],
         "line": {
          "color": "#1ac938"
         },
         "lon": [
          11.3627,
          11.3626
         ],
         "mode": "lines",
         "type": "scattermapbox"
        },
        {
         "hoverinfo": "text",
         "hovertext": "MV3.101 Line 78",
         "lat": [
          53.63075
         ],
         "lon": [
          11.36265
         ],
         "marker": {
          "color": "#1ac938",
          "opacity": 0,
          "size": 0
         },
         "mode": "markers",
         "type": "scattermapbox"
        },
        {
         "hoverinfo": "skip",
         "lat": [
          53.6538,
          53.6543
         ],
         "line": {
          "color": "#1ac938"
         },
         "lon": [
          11.374,
          11.3751
         ],
         "mode": "lines",
         "type": "scattermapbox"
        },
        {
         "hoverinfo": "text",
         "hovertext": "MV3.101 Line 20",
         "lat": [
          53.65405
         ],
         "lon": [
          11.37455
         ],
         "marker": {
          "color": "#1ac938",
          "opacity": 0,
          "size": 0
         },
         "mode": "markers",
         "type": "scattermapbox"
        },
        {
         "hoverinfo": "skip",
         "lat": [
          53.6469,
          53.6489
         ],
         "line": {
          "color": "#1ac938"
         },
         "lon": [
          11.3688,
          11.3683
         ],
         "mode": "lines",
         "type": "scattermapbox"
        },
        {
         "hoverinfo": "text",
         "hovertext": "MV3.101 Line 33",
         "lat": [
          53.6479
         ],
         "lon": [
          11.368549999999999
         ],
         "marker": {
          "color": "#1ac938",
          "opacity": 0,
          "size": 0
         },
         "mode": "markers",
         "type": "scattermapbox"
        },
        {
         "hoverinfo": "skip",
         "lat": [
          53.6492,
          53.6464
         ],
         "line": {
          "color": "#1ac938"
         },
         "lon": [
          11.372,
          11.3721
         ],
         "mode": "lines",
         "type": "scattermapbox"
        },
        {
         "hoverinfo": "text",
         "hovertext": "MV3.101 Line 30",
         "lat": [
          53.647800000000004
         ],
         "lon": [
          11.37205
         ],
         "marker": {
          "color": "#1ac938",
          "opacity": 0,
          "size": 0
         },
         "mode": "markers",
         "type": "scattermapbox"
        },
        {
         "hoverinfo": "skip",
         "lat": [
          53.6475,
          53.6481
         ],
         "line": {
          "color": "#1ac938"
         },
         "lon": [
          11.3748,
          11.3752
         ],
         "mode": "lines",
         "type": "scattermapbox"
        },
        {
         "hoverinfo": "text",
         "hovertext": "MV3.101 Line 128",
         "lat": [
          53.647800000000004
         ],
         "lon": [
          11.375
         ],
         "marker": {
          "color": "#1ac938",
          "opacity": 0,
          "size": 0
         },
         "mode": "markers",
         "type": "scattermapbox"
        },
        {
         "hoverinfo": "skip",
         "lat": [
          53.647,
          53.6477
         ],
         "line": {
          "color": "#1ac938"
         },
         "lon": [
          11.3701,
          11.3701
         ],
         "mode": "lines",
         "type": "scattermapbox"
        },
        {
         "hoverinfo": "text",
         "hovertext": "MV3.101 Line 28",
         "lat": [
          53.64735
         ],
         "lon": [
          11.3701
         ],
         "marker": {
          "color": "#1ac938",
          "opacity": 0,
          "size": 0
         },
         "mode": "markers",
         "type": "scattermapbox"
        },
        {
         "hoverinfo": "skip",
         "lat": [
          53.6285,
          53.6261
         ],
         "line": {
          "color": "#1ac938"
         },
         "lon": [
          11.3627,
          11.3638
         ],
         "mode": "lines",
         "type": "scattermapbox"
        },
        {
         "hoverinfo": "text",
         "hovertext": "MV3.101 Line 80",
         "lat": [
          53.627300000000005
         ],
         "lon": [
          11.36325
         ],
         "marker": {
          "color": "#1ac938",
          "opacity": 0,
          "size": 0
         },
         "mode": "markers",
         "type": "scattermapbox"
        },
        {
         "hoverinfo": "skip",
         "lat": [
          53.6585,
          53.6592
         ],
         "line": {
          "color": "#1ac938"
         },
         "lon": [
          11.3687,
          11.3686
         ],
         "mode": "lines",
         "type": "scattermapbox"
        },
        {
         "hoverinfo": "text",
         "hovertext": "MV3.101 Line 39",
         "lat": [
          53.65885
         ],
         "lon": [
          11.36865
         ],
         "marker": {
          "color": "#1ac938",
          "opacity": 0,
          "size": 0
         },
         "mode": "markers",
         "type": "scattermapbox"
        },
        {
         "hoverinfo": "skip",
         "lat": [
          53.6425,
          53.6421
         ],
         "line": {
          "color": "#1ac938"
         },
         "lon": [
          11.3707,
          11.3708
         ],
         "mode": "lines",
         "type": "scattermapbox"
        },
        {
         "hoverinfo": "text",
         "hovertext": "MV3.101 Line 3",
         "lat": [
          53.6423
         ],
         "lon": [
          11.37075
         ],
         "marker": {
          "color": "#1ac938",
          "opacity": 0,
          "size": 0
         },
         "mode": "markers",
         "type": "scattermapbox"
        },
        {
         "hoverinfo": "skip",
         "lat": [
          53.6389,
          53.637
         ],
         "line": {
          "color": "#1ac938"
         },
         "lon": [
          11.3669,
          11.3664
         ],
         "mode": "lines",
         "type": "scattermapbox"
        },
        {
         "hoverinfo": "text",
         "hovertext": "MV3.101 Line 98",
         "lat": [
          53.637950000000004
         ],
         "lon": [
          11.36665
         ],
         "marker": {
          "color": "#1ac938",
          "opacity": 0,
          "size": 0
         },
         "mode": "markers",
         "type": "scattermapbox"
        },
        {
         "hoverinfo": "skip",
         "lat": [
          53.6481,
          53.6481
         ],
         "line": {
          "color": "#1ac938"
         },
         "lon": [
          11.3784,
          11.3819
         ],
         "mode": "lines",
         "type": "scattermapbox"
        },
        {
         "hoverinfo": "text",
         "hovertext": "MV3.101 Line 123",
         "lat": [
          53.6481
         ],
         "lon": [
          11.38015
         ],
         "marker": {
          "color": "#1ac938",
          "opacity": 0,
          "size": 0
         },
         "mode": "markers",
         "type": "scattermapbox"
        },
        {
         "hoverinfo": "skip",
         "lat": [
          53.6421,
          53.6411
         ],
         "line": {
          "color": "#1ac938"
         },
         "lon": [
          11.3708,
          11.3715
         ],
         "mode": "lines",
         "type": "scattermapbox"
        },
        {
         "hoverinfo": "text",
         "hovertext": "MV3.101 Line 4",
         "lat": [
          53.6416
         ],
         "lon": [
          11.37115
         ],
         "marker": {
          "color": "#1ac938",
          "opacity": 0,
          "size": 0
         },
         "mode": "markers",
         "type": "scattermapbox"
        },
        {
         "hoverinfo": "skip",
         "lat": [
          53.6448,
          53.6443
         ],
         "line": {
          "color": "#1ac938"
         },
         "lon": [
          11.364,
          11.3619
         ],
         "mode": "lines",
         "type": "scattermapbox"
        },
        {
         "hoverinfo": "text",
         "hovertext": "MV3.101 Line 87",
         "lat": [
          53.644549999999995
         ],
         "lon": [
          11.362950000000001
         ],
         "marker": {
          "color": "#1ac938",
          "opacity": 0,
          "size": 0
         },
         "mode": "markers",
         "type": "scattermapbox"
        },
        {
         "hoverinfo": "skip",
         "lat": [
          53.6456,
          53.6457
         ],
         "line": {
          "color": "#1ac938"
         },
         "lon": [
          11.3692,
          11.3697
         ],
         "mode": "lines",
         "type": "scattermapbox"
        },
        {
         "hoverinfo": "text",
         "hovertext": "MV3.101 Line 26",
         "lat": [
          53.64565
         ],
         "lon": [
          11.36945
         ],
         "marker": {
          "color": "#1ac938",
          "opacity": 0,
          "size": 0
         },
         "mode": "markers",
         "type": "scattermapbox"
        },
        {
         "hoverinfo": "skip",
         "lat": [
          53.642,
          53.6416
         ],
         "line": {
          "color": "#1ac938"
         },
         "lon": [
          11.3663,
          11.366
         ],
         "mode": "lines",
         "type": "scattermapbox"
        },
        {
         "hoverinfo": "text",
         "hovertext": "MV3.101 Line 71",
         "lat": [
          53.6418
         ],
         "lon": [
          11.366150000000001
         ],
         "marker": {
          "color": "#1ac938",
          "opacity": 0,
          "size": 0
         },
         "mode": "markers",
         "type": "scattermapbox"
        },
        {
         "hoverinfo": "skip",
         "lat": [
          53.6456,
          53.6462
         ],
         "line": {
          "color": "#1ac938"
         },
         "lon": [
          11.3692,
          11.3691
         ],
         "mode": "lines",
         "type": "scattermapbox"
        },
        {
         "hoverinfo": "text",
         "hovertext": "MV3.101 Line 31",
         "lat": [
          53.6459
         ],
         "lon": [
          11.36915
         ],
         "marker": {
          "color": "#1ac938",
          "opacity": 0,
          "size": 0
         },
         "mode": "markers",
         "type": "scattermapbox"
        },
        {
         "hoverinfo": "skip",
         "lat": [
          53.6363,
          53.6346
         ],
         "line": {
          "color": "#1ac938"
         },
         "lon": [
          11.3661,
          11.3656
         ],
         "mode": "lines",
         "type": "scattermapbox"
        },
        {
         "hoverinfo": "text",
         "hovertext": "MV3.101 Line 100",
         "lat": [
          53.63545
         ],
         "lon": [
          11.36585
         ],
         "marker": {
          "color": "#1ac938",
          "opacity": 0,
          "size": 0
         },
         "mode": "markers",
         "type": "scattermapbox"
        },
        {
         "hoverinfo": "skip",
         "lat": [
          53.6429,
          53.6434
         ],
         "line": {
          "color": "#1ac938"
         },
         "lon": [
          11.3815,
          11.3825
         ],
         "mode": "lines",
         "type": "scattermapbox"
        },
        {
         "hoverinfo": "text",
         "hovertext": "MV3.101 Line 114",
         "lat": [
          53.64315
         ],
         "lon": [
          11.382000000000001
         ],
         "marker": {
          "color": "#1ac938",
          "opacity": 0,
          "size": 0
         },
         "mode": "markers",
         "type": "scattermapbox"
        },
        {
         "hoverinfo": "skip",
         "lat": [
          53.6456,
          53.6464
         ],
         "line": {
          "color": "#1ac938"
         },
         "lon": [
          11.3692,
          11.3745
         ],
         "mode": "lines",
         "type": "scattermapbox"
        },
        {
         "hoverinfo": "text",
         "hovertext": "MV3.101 Reserve line",
         "lat": [
          53.646
         ],
         "lon": [
          11.371849999999998
         ],
         "marker": {
          "color": "#1ac938",
          "opacity": 0,
          "size": 0
         },
         "mode": "markers",
         "type": "scattermapbox"
        },
        {
         "hoverinfo": "skip",
         "lat": [
          53.6579,
          53.6603
         ],
         "line": {
          "color": "#1ac938"
         },
         "lon": [
          11.3634,
          11.3636
         ],
         "mode": "lines",
         "type": "scattermapbox"
        },
        {
         "hoverinfo": "text",
         "hovertext": "MV3.101 Line 47",
         "lat": [
          53.659099999999995
         ],
         "lon": [
          11.3635
         ],
         "marker": {
          "color": "#1ac938",
          "opacity": 0,
          "size": 0
         },
         "mode": "markers",
         "type": "scattermapbox"
        },
        {
         "hoverinfo": "skip",
         "lat": [
          53.6406,
          53.6384
         ],
         "line": {
          "color": "#1ac938"
         },
         "lon": [
          11.3654,
          11.364
         ],
         "mode": "lines",
         "type": "scattermapbox"
        },
        {
         "hoverinfo": "text",
         "hovertext": "MV3.101 Line 73",
         "lat": [
          53.6395
         ],
         "lon": [
          11.3647
         ],
         "marker": {
          "color": "#1ac938",
          "opacity": 0,
          "size": 0
         },
         "mode": "markers",
         "type": "scattermapbox"
        },
        {
         "hoverinfo": "skip",
         "lat": [
          53.6456,
          53.6453
         ],
         "line": {
          "color": "#1ac938"
         },
         "lon": [
          11.3692,
          11.3665
         ],
         "mode": "lines",
         "type": "scattermapbox"
        },
        {
         "hoverinfo": "text",
         "hovertext": "MV3.101 Line 84",
         "lat": [
          53.64545
         ],
         "lon": [
          11.36785
         ],
         "marker": {
          "color": "#1ac938",
          "opacity": 0,
          "size": 0
         },
         "mode": "markers",
         "type": "scattermapbox"
        },
        {
         "hoverinfo": "skip",
         "lat": [
          53.6443,
          53.6461
         ],
         "line": {
          "color": "#1ac938"
         },
         "lon": [
          11.3544,
          11.3521
         ],
         "mode": "lines",
         "type": "scattermapbox"
        },
        {
         "hoverinfo": "text",
         "hovertext": "MV3.101 Line 92",
         "lat": [
          53.6452
         ],
         "lon": [
          11.35325
         ],
         "marker": {
          "color": "#1ac938",
          "opacity": 0,
          "size": 0
         },
         "mode": "markers",
         "type": "scattermapbox"
        },
        {
         "hoverinfo": "skip",
         "lat": [
          53.6537,
          53.6521
         ],
         "line": {
          "color": "#1ac938"
         },
         "lon": [
          11.3524,
          11.3535
         ],
         "mode": "lines",
         "type": "scattermapbox"
        },
        {
         "hoverinfo": "text",
         "hovertext": "MV3.101 Line 65",
         "lat": [
          53.6529
         ],
         "lon": [
          11.35295
         ],
         "marker": {
          "color": "#1ac938",
          "opacity": 0,
          "size": 0
         },
         "mode": "markers",
         "type": "scattermapbox"
        },
        {
         "hoverinfo": "skip",
         "lat": [
          53.633,
          53.6315
         ],
         "line": {
          "color": "#1ac938"
         },
         "lon": [
          11.3668,
          11.3692
         ],
         "mode": "lines",
         "type": "scattermapbox"
        },
        {
         "hoverinfo": "text",
         "hovertext": "MV3.101 Line 102",
         "lat": [
          53.63225
         ],
         "lon": [
          11.367999999999999
         ],
         "marker": {
          "color": "#1ac938",
          "opacity": 0,
          "size": 0
         },
         "mode": "markers",
         "type": "scattermapbox"
        },
        {
         "hoverinfo": "skip",
         "lat": [
          53.6531,
          53.6545
         ],
         "line": {
          "color": "#1ac938"
         },
         "lon": [
          11.3584,
          11.3581
         ],
         "mode": "lines",
         "type": "scattermapbox"
        },
        {
         "hoverinfo": "text",
         "hovertext": "MV3.101 Line 59",
         "lat": [
          53.653800000000004
         ],
         "lon": [
          11.35825
         ],
         "marker": {
          "color": "#1ac938",
          "opacity": 0,
          "size": 0
         },
         "mode": "markers",
         "type": "scattermapbox"
        },
        {
         "hoverinfo": "skip",
         "lat": [
          53.6411,
          53.6397
         ],
         "line": {
          "color": "#1ac938"
         },
         "lon": [
          11.3715,
          11.3715
         ],
         "mode": "lines",
         "type": "scattermapbox"
        },
        {
         "hoverinfo": "text",
         "hovertext": "MV3.101 Line 9",
         "lat": [
          53.6404
         ],
         "lon": [
          11.3715
         ],
         "marker": {
          "color": "#1ac938",
          "opacity": 0,
          "size": 0
         },
         "mode": "markers",
         "type": "scattermapbox"
        },
        {
         "hoverinfo": "skip",
         "lat": [
          53.6514,
          53.6531
         ],
         "line": {
          "color": "#a3a3a3"
         },
         "lon": [
          11.3638,
          11.3584
         ],
         "mode": "lines",
         "type": "scattermapbox"
        },
        {
         "hoverinfo": "text",
         "hovertext": "MV3.101 loop_line 9",
         "lat": [
          53.65225
         ],
         "lon": [
          11.3611
         ],
         "marker": {
          "color": "#a3a3a3",
          "opacity": 0,
          "size": 0
         },
         "mode": "markers",
         "type": "scattermapbox"
        },
        {
         "hoverinfo": "skip",
         "lat": [
          53.634,
          53.6346
         ],
         "line": {
          "color": "#a3a3a3"
         },
         "lon": [
          11.3636,
          11.3656
         ],
         "mode": "lines",
         "type": "scattermapbox"
        },
        {
         "hoverinfo": "text",
         "hovertext": "MV3.101 loop_line 10",
         "lat": [
          53.634299999999996
         ],
         "lon": [
          11.3646
         ],
         "marker": {
          "color": "#a3a3a3",
          "opacity": 0,
          "size": 0
         },
         "mode": "markers",
         "type": "scattermapbox"
        },
        {
         "hoverinfo": "skip",
         "lat": [
          53.6252,
          53.6286
         ],
         "line": {
          "color": "#a3a3a3"
         },
         "lon": [
          11.3714,
          11.3737
         ],
         "mode": "lines",
         "type": "scattermapbox"
        },
        {
         "hoverinfo": "text",
         "hovertext": "MV3.101 loop_line 4",
         "lat": [
          53.6269
         ],
         "lon": [
          11.37255
         ],
         "marker": {
          "color": "#a3a3a3",
          "opacity": 0,
          "size": 0
         },
         "mode": "markers",
         "type": "scattermapbox"
        },
        {
         "hoverinfo": "skip",
         "lat": [
          53.6434,
          53.6488
         ],
         "line": {
          "color": "#a3a3a3"
         },
         "lon": [
          11.3825,
          11.3833
         ],
         "mode": "lines",
         "type": "scattermapbox"
        },
        {
         "hoverinfo": "text",
         "hovertext": "MV3.101 loop_line 5",
         "lat": [
          53.646100000000004
         ],
         "lon": [
          11.3829
         ],
         "marker": {
          "color": "#a3a3a3",
          "opacity": 0,
          "size": 0
         },
         "mode": "markers",
         "type": "scattermapbox"
        },
        {
         "hoverinfo": "skip",
         "lat": [
          53.6371,
          53.6341
         ],
         "line": {
          "color": "#a3a3a3"
         },
         "lon": [
          11.3721,
          11.3724
         ],
         "mode": "lines",
         "type": "scattermapbox"
        },
        {
         "hoverinfo": "text",
         "hovertext": "MV3.101 loop_line 7",
         "lat": [
          53.6356
         ],
         "lon": [
          11.372250000000001
         ],
         "marker": {
          "color": "#a3a3a3",
          "opacity": 0,
          "size": 0
         },
         "mode": "markers",
         "type": "scattermapbox"
        },
        {
         "hoverinfo": "skip",
         "lat": [
          53.6457,
          53.6464
         ],
         "line": {
          "color": "#a3a3a3"
         },
         "lon": [
          11.3697,
          11.3721
         ],
         "mode": "lines",
         "type": "scattermapbox"
        },
        {
         "hoverinfo": "text",
         "hovertext": "MV3.101 loop_line 8",
         "lat": [
          53.64605
         ],
         "lon": [
          11.370899999999999
         ],
         "marker": {
          "color": "#a3a3a3",
          "opacity": 0,
          "size": 0
         },
         "mode": "markers",
         "type": "scattermapbox"
        },
        {
         "hoverinfo": "skip",
         "lat": [
          53.6508,
          53.6494
         ],
         "line": {
          "color": "#a3a3a3"
         },
         "lon": [
          11.3521,
          11.351
         ],
         "mode": "lines",
         "type": "scattermapbox"
        },
        {
         "hoverinfo": "text",
         "hovertext": "MV3.101 loop_line 3",
         "lat": [
          53.650099999999995
         ],
         "lon": [
          11.35155
         ],
         "marker": {
          "color": "#a3a3a3",
          "opacity": 0,
          "size": 0
         },
         "mode": "markers",
         "type": "scattermapbox"
        },
        {
         "hoverinfo": "skip",
         "lat": [
          53.662,
          53.6598
         ],
         "line": {
          "color": "#a3a3a3"
         },
         "lon": [
          11.3646,
          11.3685
         ],
         "mode": "lines",
         "type": "scattermapbox"
        },
        {
         "hoverinfo": "text",
         "hovertext": "MV3.101 loop_line 2",
         "lat": [
          53.6609
         ],
         "lon": [
          11.36655
         ],
         "marker": {
          "color": "#a3a3a3",
          "opacity": 0,
          "size": 0
         },
         "mode": "markers",
         "type": "scattermapbox"
        },
        {
         "hoverinfo": "skip",
         "lat": [
          53.6455,
          53.6464
         ],
         "line": {
          "color": "#a3a3a3"
         },
         "lon": [
          11.3809,
          11.3832
         ],
         "mode": "lines",
         "type": "scattermapbox"
        },
        {
         "hoverinfo": "text",
         "hovertext": "MV3.101 loop_line 6",
         "lat": [
          53.64595
         ],
         "lon": [
          11.38205
         ],
         "marker": {
          "color": "#a3a3a3",
          "opacity": 0,
          "size": 0
         },
         "mode": "markers",
         "type": "scattermapbox"
        },
        {
         "hoverinfo": "skip",
         "lat": [
          53.651,
          53.6422
         ],
         "line": {
          "color": "#a3a3a3"
         },
         "lon": [
          11.3807,
          11.3784
         ],
         "mode": "lines",
         "type": "scattermapbox"
        },
        {
         "hoverinfo": "text",
         "hovertext": "MV3.101 loop_line 1",
         "lat": [
          53.64660000000001
         ],
         "lon": [
          11.379549999999998
         ],
         "marker": {
          "color": "#a3a3a3",
          "opacity": 0,
          "size": 0
         },
         "mode": "markers",
         "type": "scattermapbox"
        },
        {
         "hoverinfo": "skip",
         "lat": [
          53.6524,
          53.6521
         ],
         "line": {
          "color": "#a3a3a3"
         },
         "lon": [
          11.3561,
          11.3535
         ],
         "mode": "lines",
         "type": "scattermapbox"
        },
        {
         "hoverinfo": "text",
         "hovertext": "MV3.101 loop_line 11",
         "lat": [
          53.652249999999995
         ],
         "lon": [
          11.354800000000001
         ],
         "marker": {
          "color": "#a3a3a3",
          "opacity": 0,
          "size": 0
         },
         "mode": "markers",
         "type": "scattermapbox"
        },
        {
         "hoverinfo": "text",
         "hovertext": [
          "MV3.101 node1<br>5d50a881-c383-463e-8355-41b3dd57422d<br>load=Count: 1, Rated Power: 453.6 kw",
          "MV3.101 Bus 28<br>c50941eb-01ee-4bd5-be6a-c005af0639df<br>load=Count: 1, Rated Power: 362.9 kw<br>fixed_feed_in=Count: 1, Rated Power: 172.2 kw",
          "MV3.101 Bus 81<br>e22406e6-e172-4244-b978-89906f396130<br>load=Count: 1, Rated Power: 594.9 kw<br>fixed_feed_in=Count: 1, Rated Power: 184.7 kw",
          "MV3.101 Bus 102<br>d1c18dd9-a2f4-4953-8d53-03861eb519b5<br>load=Count: 1, Rated Power: 362.9 kw<br>fixed_feed_in=Count: 1, Rated Power: 172.2 kw",
          "MV3.101 Bus 19<br>6ae27f87-a713-4204-adfa-b262b222d240<br>load=Count: 1, Rated Power: 594.9 kw<br>fixed_feed_in=Count: 1, Rated Power: 184.7 kw",
          "MV3.101 Bus 86<br>bed1b7a5-3cbd-480c-86c5-adb7ae6a940d<br>load=Count: 1, Rated Power: 594.9 kw<br>fixed_feed_in=Count: 2, Rated Power: 3084.7 kw",
          "MV3.101 Bus 82<br>cc612986-d947-4c4d-af40-ac8fdeebc1f9<br>load=Count: 1, Rated Power: 594.9 kw<br>fixed_feed_in=Count: 1, Rated Power: 184.7 kw",
          "MV3.101 Bus 50<br>c69cc803-396c-4b15-af99-5eade9fcb66a<br>load=Count: 1, Rated Power: 668.0 kw<br>fixed_feed_in=Count: 1, Rated Power: 171.2 kw",
          "MV3.101 Bus 125<br>738eb38a-f098-4e32-a39a-4c871eb39ccd<br>load=Count: 1, Rated Power: 595.0 kw<br>fixed_feed_in=Count: 1, Rated Power: 252.3 kw",
          "MV3.101 Bus 41<br>4537ceed-9709-47c8-bcac-92a73f44e78c<br>load=Count: 1, Rated Power: 594.9 kw<br>fixed_feed_in=Count: 1, Rated Power: 184.7 kw",
          "MV3.101 Bus 52<br>caf7fd1b-8c8a-4734-b7c3-7a49ae5c00da<br>load=Count: 1, Rated Power: 668.0 kw<br>fixed_feed_in=Count: 1, Rated Power: 171.2 kw",
          "MV3.101 Bus 50_1<br>41fcce35-df2e-4053-8c3f-2aba19d62a77<br>",
          "MV3.101 Bus 77<br>0c5e6268-ba9c-41e0-b472-0aea5a3163c6<br>load=Count: 1, Rated Power: 594.9 kw<br>fixed_feed_in=Count: 1, Rated Power: 184.7 kw",
          "MV3.101 Bus 120<br>492712d0-604e-4183-8410-a11934495bd9<br>load=Count: 1, Rated Power: 595.0 kw<br>fixed_feed_in=Count: 1, Rated Power: 252.3 kw",
          "MV3.101 Bus 34<br>aac0ca99-70ef-4845-876f-f24adc93fc64<br>load=Count: 1, Rated Power: 594.9 kw<br>fixed_feed_in=Count: 1, Rated Power: 184.7 kw",
          "MV3.101 Bus 143<br>e9333524-c914-4799-961b-cfe5adfc5f52<br>load=Count: 1, Rated Power: 595.0 kw<br>fixed_feed_in=Count: 1, Rated Power: 252.3 kw",
          "MV3.101 Bus 27<br>84aa56bd-0941-4efd-86b8-61fd6b55dbf5<br>load=Count: 1, Rated Power: 594.9 kw<br>fixed_feed_in=Count: 1, Rated Power: 184.7 kw",
          "MV3.101 Bus 64<br>2cfb12f1-fa79-4210-9ac6-769254515af8<br>load=Count: 1, Rated Power: 594.9 kw<br>fixed_feed_in=Count: 1, Rated Power: 184.7 kw",
          "MV3.101 Bus 68_1<br>effcc0e0-e7f0-4594-9ff4-32855011aa5e<br>",
          "MV3.101 Bus 32<br>a7c9c8e7-63f0-4971-81b9-7073436d4317<br>load=Count: 1, Rated Power: 668.0 kw<br>fixed_feed_in=Count: 1, Rated Power: 171.2 kw",
          "MV3.101 Bus 134<br>43d06b2a-981c-4b51-91ab-978c392becb0<br>load=Count: 1, Rated Power: 595.0 kw<br>fixed_feed_in=Count: 1, Rated Power: 252.3 kw",
          "MV3.101 Bus 80<br>6df59148-c230-4892-82b3-c4f05c68bcdc<br>load=Count: 1, Rated Power: 668.0 kw<br>fixed_feed_in=Count: 1, Rated Power: 171.2 kw",
          "MV3.101 Bus 91<br>5d07ed20-5410-4014-8a38-afbb90cb68af<br>load=Count: 1, Rated Power: 362.9 kw<br>fixed_feed_in=Count: 1, Rated Power: 172.2 kw",
          "MV3.101 Bus 75<br>a0716f3b-09b0-437c-98c4-dd18397051f1<br>load=Count: 1, Rated Power: 362.9 kw<br>fixed_feed_in=Count: 1, Rated Power: 172.2 kw",
          "MV3.101 Bus 143_1<br>8b864fa2-3051-4369-91ec-9e17b71a1423<br>",
          "MV3.101 Bus 115<br>fb02db79-c6b8-4bf0-8a0b-e661fb04086a<br>load=Count: 1, Rated Power: 594.9 kw<br>fixed_feed_in=Count: 1, Rated Power: 184.7 kw",
          "MV3.101 Bus 43<br>a5d72bf6-6a61-4314-b541-f5635d5c334f<br>load=Count: 1, Rated Power: 594.9 kw<br>fixed_feed_in=Count: 1, Rated Power: 184.7 kw",
          "MV3.101 Bus 17<br>b4551111-75bb-4e9d-986b-685e4ca7a22d<br>load=Count: 1, Rated Power: 594.9 kw<br>fixed_feed_in=Count: 1, Rated Power: 184.7 kw",
          "HV1 Bus 25<br>b0bbd85c-6540-4418-b083-455daed681bd<br>",
          "MV3.101 Bus 117<br>f3065cce-6302-4365-8036-4fc2f126ade8<br>load=Count: 1, Rated Power: 594.9 kw<br>fixed_feed_in=Count: 1, Rated Power: 184.7 kw",
          "MV3.101 Bus 78<br>04beeb0e-78d7-46b8-aca5-76d3a009638f<br>load=Count: 1, Rated Power: 362.9 kw<br>fixed_feed_in=Count: 1, Rated Power: 172.2 kw",
          "MV3.101 Bus 49<br>a21d803a-04cb-43c3-b531-7111536ef7a0<br>load=Count: 1, Rated Power: 668.0 kw<br>fixed_feed_in=Count: 1, Rated Power: 171.2 kw",
          "MV3.101 Bus 85<br>c9a17f26-fdc3-434d-bd81-ce7cafe7821a<br>load=Count: 1, Rated Power: 594.9 kw<br>fixed_feed_in=Count: 1, Rated Power: 184.7 kw",
          "MV3.101 Bus 123<br>889c84e9-c717-4471-84b4-b3423b30dc78<br>load=Count: 1, Rated Power: 594.9 kw<br>fixed_feed_in=Count: 1, Rated Power: 184.7 kw",
          "MV3.101 Bus 76<br>af2a653a-5fbb-48f4-94fe-da098579ebe7<br>load=Count: 1, Rated Power: 668.0 kw<br>fixed_feed_in=Count: 1, Rated Power: 171.2 kw",
          "MV3.101 Bus 11<br>8b647a1a-b5d6-46b2-9ec3-3bdbf6e0de34<br>load=Count: 2, Rated Power: 563.3 kw<br>fixed_feed_in=Count: 1, Rated Power: 172.2 kw",
          "MV3.101 Bus 98<br>f2ab91df-6f6a-439b-95da-135dc5fca6a2<br>load=Count: 1, Rated Power: 594.9 kw<br>fixed_feed_in=Count: 1, Rated Power: 184.7 kw",
          "MV3.101 Bus 18<br>28a6c897-d718-4eb8-9088-4e8d455e5e8e<br>load=Count: 1, Rated Power: 668.0 kw<br>fixed_feed_in=Count: 1, Rated Power: 171.2 kw",
          "MV3.101 Bus 103<br>f5fb7dc2-2a15-489a-9339-f8fd351836a4<br>load=Count: 1, Rated Power: 362.9 kw<br>fixed_feed_in=Count: 1, Rated Power: 172.2 kw",
          "MV3.101 Bus 100<br>3df23ce8-f8ed-4562-b3d3-3904e1aacfa6<br>load=Count: 1, Rated Power: 668.0 kw<br>fixed_feed_in=Count: 1, Rated Power: 171.2 kw",
          "MV3.101 Bus 37<br>c22fab8c-3947-44d2-a5f3-b997e6eadb35<br>load=Count: 1, Rated Power: 668.0 kw<br>fixed_feed_in=Count: 1, Rated Power: 171.2 kw",
          "MV3.101 Bus 14<br>e4aaf6c9-8551-41c4-a3f9-54d7348076af<br>load=Count: 1, Rated Power: 362.9 kw<br>fixed_feed_in=Count: 1, Rated Power: 172.2 kw",
          "MV3.101 Bus 107<br>40612e93-0348-46dd-8d66-a5480fb4484d<br>load=Count: 1, Rated Power: 362.9 kw<br>fixed_feed_in=Count: 1, Rated Power: 172.2 kw",
          "MV3.101 Bus 105<br>957fb2b9-d0db-48e4-bc59-39741464ed1c<br>load=Count: 1, Rated Power: 594.9 kw<br>fixed_feed_in=Count: 1, Rated Power: 184.7 kw",
          "MV3.101 Bus 92<br>ee484025-9503-4938-8690-5a7f0861370e<br>load=Count: 1, Rated Power: 668.0 kw<br>fixed_feed_in=Count: 1, Rated Power: 171.2 kw",
          "MV3.101 Bus 119<br>58435c80-af6d-4675-b5de-41d8d4c0b87a<br>load=Count: 1, Rated Power: 595.0 kw<br>fixed_feed_in=Count: 1, Rated Power: 252.3 kw",
          "MV3.101 Bus 73<br>0f63de16-1c22-4e6b-8090-90929e2e407f<br>load=Count: 1, Rated Power: 594.9 kw<br>fixed_feed_in=Count: 1, Rated Power: 184.7 kw",
          "MV3.101 Bus 56<br>0d6102de-9f0f-47fa-9eb2-e8f5149a7851<br>load=Count: 1, Rated Power: 668.0 kw<br>fixed_feed_in=Count: 1, Rated Power: 171.2 kw",
          "MV3.101 Bus 33<br>46248ba3-8fa1-4225-b087-10739b0811cd<br>load=Count: 1, Rated Power: 362.9 kw<br>fixed_feed_in=Count: 1, Rated Power: 172.2 kw",
          "MV3.101 Bus 15<br>2837f3ce-c6fb-45ba-9cf0-27ad14987c81<br>load=Count: 2, Rated Power: 774.3 kw<br>fixed_feed_in=Count: 1, Rated Power: 172.2 kw",
          "MV3.101 Bus 31<br>b7e2b6d4-7566-417f-b5a3-f2ead1ceed98<br>load=Count: 1, Rated Power: 594.9 kw<br>fixed_feed_in=Count: 1, Rated Power: 184.7 kw",
          "MV3.101 Bus 25<br>97b96777-900f-49d2-90b5-044c38bc371e<br>load=Count: 1, Rated Power: 362.9 kw<br>fixed_feed_in=Count: 1, Rated Power: 172.2 kw",
          "MV3.101 Bus 60<br>c2d61c41-06a1-4490-9e68-8fe7dfec579a<br>load=Count: 1, Rated Power: 362.9 kw<br>fixed_feed_in=Count: 1, Rated Power: 172.2 kw",
          "MV3.101 Bus 55<br>38145153-0dd5-429c-b0c8-e876956fa70f<br>load=Count: 1, Rated Power: 594.9 kw<br>fixed_feed_in=Count: 1, Rated Power: 184.7 kw",
          "MV3.101 Bus 99<br>f6761178-0491-441c-b7e6-4126b29fbada<br>load=Count: 1, Rated Power: 594.9 kw<br>fixed_feed_in=Count: 1, Rated Power: 184.7 kw",
          "MV3.101 Bus 124<br>79143963-b1bb-4eca-8ba8-d3712f5696c5<br>load=Count: 1, Rated Power: 362.9 kw<br>fixed_feed_in=Count: 1, Rated Power: 172.2 kw",
          "MV3.101 Bus 122<br>cc0495c9-0bfe-41ba-b98b-978b8f4b1b69<br>load=Count: 1, Rated Power: 362.9 kw<br>fixed_feed_in=Count: 1, Rated Power: 172.2 kw",
          "MV3.101 Bus 110_1<br>335dc8f6-35c6-4c94-bf39-a77cbee563e8<br>",
          "MV3.101 Bus 48<br>9b372fbc-8da2-48a3-b76e-ad52957f77d3<br>load=Count: 1, Rated Power: 594.9 kw<br>fixed_feed_in=Count: 1, Rated Power: 184.7 kw",
          "MV3.101 Bus 106<br>8f2d1b47-8115-4139-93d2-3ddb6a9119ff<br>load=Count: 1, Rated Power: 362.9 kw<br>fixed_feed_in=Count: 1, Rated Power: 172.2 kw",
          "MV3.101 Bus 128<br>ebde173b-fb40-484b-aeb9-d565b97c5102<br>load=Count: 1, Rated Power: 594.9 kw<br>fixed_feed_in=Count: 1, Rated Power: 184.7 kw",
          "MV3.101 Bus 75_1<br>a4b428dc-15dd-4b48-a115-322988f0cf73<br>",
          "MV3.101 Bus 71<br>2289d9f8-70e3-438f-a25a-8812b53f0aff<br>load=Count: 1, Rated Power: 594.9 kw<br>fixed_feed_in=Count: 1, Rated Power: 184.7 kw",
          "MV3.101 Bus 46<br>99d5e9ac-6fdf-4957-bf69-64dc088434f4<br>load=Count: 1, Rated Power: 594.9 kw<br>fixed_feed_in=Count: 1, Rated Power: 184.7 kw",
          "MV3.101 BS busbar1A<br>6bc544cf-71e5-4d0a-941a-4e806c22fd8d<br>",
          "MV3.101 Bus 53<br>296e67f3-2711-43ff-9a46-eca3f60b0001<br>load=Count: 1, Rated Power: 668.0 kw<br>fixed_feed_in=Count: 1, Rated Power: 171.2 kw",
          "MV3.101 Bus 40_1<br>557b9f51-d83c-476c-a84c-d240530c203d<br>",
          "MV3.101 Bus 13<br>5f35664a-a4ef-4a48-849c-c4c058f6cffa<br>load=Count: 1, Rated Power: 668.0 kw<br>fixed_feed_in=Count: 1, Rated Power: 171.2 kw",
          "MV3.101 Bus 39<br>49840d95-2aa5-490c-90ad-556dfee4cb89<br>load=Count: 1, Rated Power: 362.9 kw<br>fixed_feed_in=Count: 1, Rated Power: 172.2 kw",
          "MV3.101 Bus 66<br>5b421400-8cdf-4847-bdbf-452ece1ed348<br>load=Count: 1, Rated Power: 668.0 kw<br>fixed_feed_in=Count: 1, Rated Power: 171.2 kw",
          "MV3.101 Bus 88<br>51f05c04-30ac-4430-b970-0081f1b6d8b1<br>load=Count: 1, Rated Power: 594.9 kw<br>fixed_feed_in=Count: 1, Rated Power: 184.7 kw",
          "MV3.101 Bus 96<br>ad120450-c8c2-4859-a7c4-f487fbe10824<br>load=Count: 1, Rated Power: 594.9 kw<br>fixed_feed_in=Count: 1, Rated Power: 184.7 kw",
          "MV3.101 Bus 69<br>8515f8eb-33d1-46c5-8467-ab12155a5474<br>load=Count: 1, Rated Power: 668.0 kw<br>fixed_feed_in=Count: 1, Rated Power: 171.2 kw",
          "MV3.101 Bus 58<br>53765bfa-5e7d-40e6-8b1f-88e6ac6e2bd9<br>load=Count: 1, Rated Power: 668.0 kw<br>fixed_feed_in=Count: 1, Rated Power: 171.2 kw",
          "MV3.101 Bus 142<br>26245e34-6c7f-4c21-a52f-733486b96eb1<br>load=Count: 1, Rated Power: 362.9 kw<br>fixed_feed_in=Count: 1, Rated Power: 172.2 kw",
          "MV3.101 Bus 127<br>5e3c4932-5022-40b3-a533-ff831bcf18b9<br>load=Count: 1, Rated Power: 594.9 kw<br>fixed_feed_in=Count: 1, Rated Power: 184.7 kw",
          "MV3.101 Bus 84<br>aba677f2-f1c5-409e-8587-05acecbe09a8<br>load=Count: 2, Rated Power: 1090.7 kw<br>fixed_feed_in=Count: 1, Rated Power: 184.7 kw",
          "MV3.101 Bus 114_1<br>8252e667-afbf-4fff-b0b8-595f40b82273<br>",
          "MV3.101 Bus 138<br>66f96b86-254e-4205-8cb8-c0634a8fa91a<br>load=Count: 1, Rated Power: 595.0 kw<br>fixed_feed_in=Count: 1, Rated Power: 252.3 kw",
          "MV3.101 Bus 129<br>f768ffeb-1021-47d1-b606-9f15103988fc<br>load=Count: 1, Rated Power: 362.9 kw<br>fixed_feed_in=Count: 1, Rated Power: 172.2 kw",
          "MV3.101 Bus 130<br>0e3f552a-5dc5-4781-969e-13b0600e4deb<br>load=Count: 1, Rated Power: 594.9 kw<br>fixed_feed_in=Count: 1, Rated Power: 184.7 kw",
          "MV3.101 Bus 16<br>2aab5612-f39a-4cc1-bb96-056b873a6310<br>load=Count: 1, Rated Power: 594.9 kw<br>fixed_feed_in=Count: 1, Rated Power: 184.7 kw",
          "MV3.101 Bus 111<br>a670449b-2ffd-4bae-9e01-1d7aab6939f6<br>load=Count: 1, Rated Power: 594.9 kw<br>fixed_feed_in=Count: 1, Rated Power: 184.7 kw",
          "MV3.101 Bus 68<br>bd345c13-e871-4357-af6e-3969889ff035<br>load=Count: 1, Rated Power: 668.0 kw<br>fixed_feed_in=Count: 1, Rated Power: 171.2 kw",
          "MV3.101 Bus 51<br>52ac8b75-96b7-460e-a927-237d89a13663<br>load=Count: 1, Rated Power: 594.9 kw<br>fixed_feed_in=Count: 1, Rated Power: 184.7 kw",
          "MV3.101 Bus 40<br>a5ccf309-420a-474f-a6ed-96cb3ffa2e56<br>load=Count: 1, Rated Power: 594.9 kw<br>fixed_feed_in=Count: 1, Rated Power: 184.7 kw",
          "MV3.101 Bus 67<br>8b19ef59-b368-42eb-a754-12936b5d4d17<br>load=Count: 2, Rated Power: 647.7 kw<br>fixed_feed_in=Count: 1, Rated Power: 172.2 kw",
          "MV3.101 Bus 136<br>e4da35ec-8275-424a-bee3-5dc1a8c3dfb8<br>load=Count: 1, Rated Power: 362.9 kw<br>fixed_feed_in=Count: 1, Rated Power: 172.2 kw",
          "MV3.101 Bus 44<br>8da74e62-9268-426e-8878-1f83c12e40e6<br>load=Count: 1, Rated Power: 594.9 kw<br>fixed_feed_in=Count: 1, Rated Power: 184.7 kw",
          "MV3.101 Bus 114<br>01dca738-329e-4c8d-900c-fd0f48acc874<br>load=Count: 1, Rated Power: 668.0 kw<br>fixed_feed_in=Count: 1, Rated Power: 171.2 kw",
          "MV3.101 Bus 30<br>13765175-44d3-4aa2-aa3e-7ed85822fcef<br>load=Count: 1, Rated Power: 362.9 kw<br>fixed_feed_in=Count: 1, Rated Power: 172.2 kw",
          "MV3.101 Bus 132<br>a9c53c7b-e700-4412-93be-348459028998<br>load=Count: 1, Rated Power: 595.0 kw<br>fixed_feed_in=Count: 1, Rated Power: 252.3 kw",
          "MV3.101 Bus 63<br>eec4851e-6d4a-4710-aa77-83c9d4bfac28<br>load=Count: 1, Rated Power: 668.0 kw<br>fixed_feed_in=Count: 1, Rated Power: 171.2 kw",
          "MV3.101 Bus 38<br>61d6379d-b010-461e-96e5-921149c0c8b6<br>load=Count: 1, Rated Power: 362.9 kw<br>fixed_feed_in=Count: 1, Rated Power: 172.2 kw",
          "MV3.101 Bus 93<br>3342bab1-65b4-4a4b-a2e8-365a162ead81<br>load=Count: 1, Rated Power: 668.0 kw<br>fixed_feed_in=Count: 1, Rated Power: 171.2 kw",
          "MV3.101 Bus 135<br>b649cc84-5230-485a-808c-2078624d3681<br>load=Count: 1, Rated Power: 594.9 kw<br>fixed_feed_in=Count: 1, Rated Power: 184.7 kw",
          "MV3.101 Bus 24<br>5e880ada-8200-4681-8533-c759b0a8ec35<br>load=Count: 1, Rated Power: 594.9 kw<br>fixed_feed_in=Count: 1, Rated Power: 184.7 kw",
          "MV3.101 Bus 110<br>42a7a176-bb8b-4281-8ba4-b2a2486f6b90<br>load=Count: 1, Rated Power: 594.9 kw<br>fixed_feed_in=Count: 1, Rated Power: 184.7 kw",
          "MV3.101 Bus 97<br>46f61d50-fb44-491d-a4e6-468102797132<br>load=Count: 1, Rated Power: 362.9 kw<br>fixed_feed_in=Count: 1, Rated Power: 172.2 kw",
          "MV3.101 Bus 57<br>cd736b45-3d94-402d-b11b-2a0ece139b71<br>load=Count: 1, Rated Power: 668.0 kw<br>fixed_feed_in=Count: 1, Rated Power: 171.2 kw",
          "MV3.101 Bus 47<br>f5ffa031-1062-4c4e-9495-8e40e2b55e1b<br>load=Count: 1, Rated Power: 594.9 kw<br>fixed_feed_in=Count: 1, Rated Power: 184.7 kw",
          "MV3.101 Bus 20<br>98c94532-d796-4df2-864f-08b93b2244ab<br>load=Count: 1, Rated Power: 362.9 kw<br>fixed_feed_in=Count: 1, Rated Power: 172.2 kw",
          "MV3.101 Bus 113<br>380a3c84-fd4b-487c-b2de-00a3b19b27bc<br>load=Count: 1, Rated Power: 362.9 kw<br>fixed_feed_in=Count: 1, Rated Power: 172.2 kw",
          "MV3.101 Bus 118<br>8f65cec0-ee20-4f8c-8bdc-41f3218c067e<br>load=Count: 1, Rated Power: 594.9 kw<br>fixed_feed_in=Count: 1, Rated Power: 184.7 kw",
          "MV3.101 Bus 126<br>4920ef18-6e90-45e5-afaf-9e8b60eb6d0e<br>load=Count: 1, Rated Power: 594.9 kw<br>fixed_feed_in=Count: 1, Rated Power: 184.7 kw",
          "MV3.101 Bus 141<br>3342da5b-7e73-4fc5-af28-3d12619d9426<br>load=Count: 1, Rated Power: 595.0 kw<br>fixed_feed_in=Count: 1, Rated Power: 252.3 kw",
          "MV3.101 Bus 22<br>a6f270ec-f5e8-4c3d-817d-664539f01387<br>load=Count: 1, Rated Power: 362.9 kw<br>fixed_feed_in=Count: 1, Rated Power: 172.2 kw",
          "MV3.101 Bus 140<br>6f477624-e576-4286-8d62-ea909e214a75<br>load=Count: 1, Rated Power: 362.9 kw<br>fixed_feed_in=Count: 1, Rated Power: 172.2 kw",
          "MV3.101 Bus 18_1<br>5d60f397-ce09-4dc5-87c9-0382e71c694e<br>",
          "MV3.101 Bus 42<br>0dd3fdac-f05d-4e68-9611-a73f267ed9eb<br>load=Count: 2, Rated Power: 816.5 kw<br>fixed_feed_in=Count: 1, Rated Power: 184.7 kw",
          "MV3.101 Bus 94<br>a21047e0-d924-42e0-a5e5-0998d65266a6<br>load=Count: 1, Rated Power: 668.0 kw<br>fixed_feed_in=Count: 1, Rated Power: 171.2 kw",
          "MV3.101 Bus 104_1<br>ef10dec9-bbbe-4fe9-856c-28f44b5551bf<br>",
          "MV3.101 Bus 139<br>8559c7b0-c882-466d-8560-00c4db86956a<br>load=Count: 1, Rated Power: 362.9 kw<br>fixed_feed_in=Count: 1, Rated Power: 172.2 kw",
          "MV3.101 Bus 118_1<br>46b59740-e384-4038-beae-3de74fa9a3c6<br>",
          "MV3.101 Bus 116<br>e386caca-6ea9-420c-b732-a79f55899458<br>load=Count: 1, Rated Power: 668.0 kw<br>fixed_feed_in=Count: 1, Rated Power: 171.2 kw",
          "MV3.101 Bus 135_1<br>fad370e8-1530-4310-8181-eacbd141642b<br>",
          "MV3.101 Bus 21<br>3c849b73-7c59-46ec-aad2-b019beccb4c5<br>load=Count: 1, Rated Power: 668.0 kw<br>fixed_feed_in=Count: 1, Rated Power: 171.2 kw",
          "MV3.101 Bus 59<br>b0f1f7d4-4ddb-4a56-91ad-e85590714c87<br>load=Count: 1, Rated Power: 594.9 kw<br>fixed_feed_in=Count: 1, Rated Power: 184.7 kw",
          "MV3.101 Bus 12<br>dc68cf3e-ecb0-4740-a561-de6316c7376d<br>load=Count: 1, Rated Power: 362.9 kw<br>fixed_feed_in=Count: 1, Rated Power: 172.2 kw",
          "MV3.101 Bus 90<br>d873af06-2e6e-4629-9c42-a30b4aeb4fa7<br>load=Count: 1, Rated Power: 594.9 kw<br>fixed_feed_in=Count: 1, Rated Power: 184.7 kw",
          "MV3.101 Bus 72<br>a41231cc-4836-4343-b236-396720582e32<br>load=Count: 1, Rated Power: 594.9 kw<br>fixed_feed_in=Count: 1, Rated Power: 184.7 kw",
          "MV3.101 Bus 133<br>8c073498-b9e2-439d-94a8-63f68f56f192<br>load=Count: 1, Rated Power: 362.9 kw<br>fixed_feed_in=Count: 1, Rated Power: 172.2 kw",
          "MV3.101 Bus 108<br>0e96dffd-d5ea-4f2c-a133-bacb7a85ca31<br>load=Count: 1, Rated Power: 594.9 kw<br>fixed_feed_in=Count: 1, Rated Power: 184.7 kw",
          "MV3.101 Bus 121<br>ef1b266d-3f64-4f9e-a5c5-49ab174370a6<br>load=Count: 1, Rated Power: 595.0 kw<br>fixed_feed_in=Count: 1, Rated Power: 252.3 kw",
          "MV3.101 Bus 62<br>3ecf3284-5919-49ba-a60a-22996f8bc202<br>load=Count: 1, Rated Power: 362.9 kw<br>fixed_feed_in=Count: 1, Rated Power: 172.2 kw",
          "MV3.101 Bus 26<br>6e136d5d-19d7-4556-88a3-3dbdd803c6b1<br>load=Count: 1, Rated Power: 362.9 kw<br>fixed_feed_in=Count: 1, Rated Power: 172.2 kw",
          "MV3.101 Bus 61<br>393881b0-3b78-413f-b065-03d216803c87<br>load=Count: 1, Rated Power: 668.0 kw<br>fixed_feed_in=Count: 1, Rated Power: 171.2 kw",
          "MV3.101 Bus 29<br>1d219ef0-079c-4df8-8449-e80cb2af6793<br>load=Count: 1, Rated Power: 362.9 kw<br>fixed_feed_in=Count: 1, Rated Power: 172.2 kw",
          "MV3.101 Bus 131<br>6588b688-92b7-4863-811d-fb86b70e89ad<br>load=Count: 1, Rated Power: 362.9 kw<br>fixed_feed_in=Count: 1, Rated Power: 172.2 kw",
          "MV3.101 Bus 87<br>81f7b5c4-8ebf-4b8a-8731-f0c67a6e8611<br>load=Count: 1, Rated Power: 668.0 kw<br>fixed_feed_in=Count: 1, Rated Power: 171.2 kw",
          "MV3.101 Bus 70<br>090d13e8-3cce-4793-816f-4c50f23f3f7f<br>load=Count: 1, Rated Power: 668.0 kw<br>fixed_feed_in=Count: 1, Rated Power: 171.2 kw",
          "MV3.101 Bus 89<br>16449d90-cc56-48b9-8067-97986b715758<br>load=Count: 1, Rated Power: 668.0 kw<br>fixed_feed_in=Count: 1, Rated Power: 171.2 kw",
          "MV3.101 Bus 36<br>8bf1ca07-f887-43ec-9e10-f360c0644954<br>load=Count: 1, Rated Power: 668.0 kw<br>fixed_feed_in=Count: 1, Rated Power: 171.2 kw",
          "MV3.101 Bus 74<br>09153599-9b88-49f8-aecd-d57d8ab9e2b6<br>load=Count: 1, Rated Power: 362.9 kw<br>fixed_feed_in=Count: 1, Rated Power: 172.2 kw",
          "MV3.101 Bus 83<br>32145578-706b-47e5-86ae-217d9a41867c<br>load=Count: 1, Rated Power: 668.0 kw<br>fixed_feed_in=Count: 1, Rated Power: 171.2 kw",
          "MV3.101 Bus 54<br>0f9e330f-7db2-48d6-8d07-8741f294f4a9<br>load=Count: 1, Rated Power: 594.9 kw<br>fixed_feed_in=Count: 1, Rated Power: 184.7 kw",
          "MV3.101 Bus 95<br>2dcbdf1e-c956-46f1-9c60-2e0aa45053d4<br>load=Count: 1, Rated Power: 362.9 kw<br>fixed_feed_in=Count: 1, Rated Power: 172.2 kw",
          "MV3.101 Bus 23<br>00933d03-18e0-4681-a7d3-b94cac5ada41<br>load=Count: 1, Rated Power: 594.9 kw<br>fixed_feed_in=Count: 1, Rated Power: 184.7 kw",
          "MV3.101 Bus 137<br>83e2fc45-c6d9-4a8e-8936-4c18b9da0b59<br>load=Count: 1, Rated Power: 362.9 kw<br>fixed_feed_in=Count: 1, Rated Power: 172.2 kw",
          "MV3.101 Bus 79<br>bebf3c0b-e658-438b-b5df-c0cc68d04479<br>load=Count: 1, Rated Power: 362.9 kw<br>fixed_feed_in=Count: 1, Rated Power: 172.2 kw",
          "MV3.101 Bus 101<br>265fe176-27b8-4d24-b805-68a258ef9077<br>load=Count: 1, Rated Power: 594.9 kw<br>fixed_feed_in=Count: 1, Rated Power: 184.7 kw",
          "MV3.101 Bus 45<br>fd124414-dbc6-4f6b-90b5-34918ee7b8f6<br>load=Count: 1, Rated Power: 362.9 kw<br>fixed_feed_in=Count: 1, Rated Power: 172.2 kw",
          "MV3.101 Bus 35<br>fc4af780-3f60-42fc-bc69-d38fadf92050<br>load=Count: 1, Rated Power: 668.0 kw<br>fixed_feed_in=Count: 1, Rated Power: 171.2 kw",
          "MV3.101 Bus 109<br>27cd0e75-9471-4140-aaba-88a8ef63c0b7<br>load=Count: 1, Rated Power: 362.9 kw<br>fixed_feed_in=Count: 1, Rated Power: 172.2 kw",
          "MV3.101 Bus 104<br>9e018a70-4da0-4f41-9a45-455b1173c3d2<br>load=Count: 1, Rated Power: 362.9 kw<br>fixed_feed_in=Count: 1, Rated Power: 172.2 kw",
          "MV3.101 Bus 65<br>b69ecf26-16ee-4b41-a996-b76563c58c1a<br>load=Count: 1, Rated Power: 668.0 kw<br>fixed_feed_in=Count: 1, Rated Power: 171.2 kw",
          "MV3.101 Bus 112<br>c76d8904-3d16-42ae-8abf-e1db37d7ae0d<br>load=Count: 1, Rated Power: 594.9 kw<br>fixed_feed_in=Count: 1, Rated Power: 184.7 kw"
         ],
         "lat": [
          53.6456,
          53.6525,
          53.6416,
          53.6461,
          53.6397,
          53.6332,
          53.6406,
          53.6598,
          53.6456,
          53.6462,
          53.648,
          53.6598,
          53.6451,
          53.6431,
          53.6519,
          53.6488,
          53.6505,
          53.6498,
          53.6531,
          53.6544,
          53.6472,
          53.642,
          53.624,
          53.6521,
          53.6488,
          53.6328,
          53.6489,
          53.6415,
          53.6456,
          53.6297,
          53.6445,
          53.6592,
          53.634,
          53.6429,
          53.6508,
          53.6441,
          53.6441,
          53.6422,
          53.6477,
          53.6439,
          53.647,
          53.6411,
          53.6389,
          53.6436,
          53.6236,
          53.6438,
          53.655,
          53.6579,
          53.6534,
          53.6409,
          53.6545,
          53.6456,
          53.6465,
          53.6544,
          53.6437,
          53.6434,
          53.6428,
          53.6346,
          53.6585,
          53.6417,
          53.6455,
          53.6521,
          53.6567,
          53.6541,
          53.6464,
          53.6492,
          53.6464,
          53.6421,
          53.6492,
          53.6516,
          53.6303,
          53.6448,
          53.6545,
          53.662,
          53.6501,
          53.6454,
          53.6353,
          53.6341,
          53.6481,
          53.6455,
          53.6467,
          53.641,
          53.633,
          53.6531,
          53.6459,
          53.6464,
          53.6524,
          53.6469,
          53.6511,
          53.6341,
          53.6543,
          53.6481,
          53.6489,
          53.6477,
          53.6252,
          53.6464,
          53.6454,
          53.6346,
          53.6443,
          53.6603,
          53.6572,
          53.638,
          53.6321,
          53.6286,
          53.6454,
          53.6502,
          53.6454,
          53.6501,
          53.6422,
          53.6469,
          53.6453,
          53.6494,
          53.6499,
          53.6286,
          53.6306,
          53.6464,
          53.6371,
          53.6457,
          53.6425,
          53.6261,
          53.6559,
          53.6481,
          53.637,
          53.6429,
          53.6482,
          53.6485,
          53.6477,
          53.6538,
          53.6479,
          53.6312,
          53.6568,
          53.6285,
          53.6457,
          53.6537,
          53.6384,
          53.6514,
          53.645,
          53.6453,
          53.6475,
          53.6434,
          53.6443,
          53.6531,
          53.651,
          53.6363,
          53.6494,
          53.6504,
          53.6315
         ],
         "lon": [
          11.3692,
          11.3724,
          11.366,
          11.3521,
          11.3715,
          11.3633,
          11.3654,
          11.3685,
          11.3752,
          11.3691,
          11.3667,
          11.3685,
          11.369,
          11.3783,
          11.3805,
          11.3833,
          11.3708,
          11.3578,
          11.3584,
          11.3777,
          11.3833,
          11.3663,
          11.366,
          11.3535,
          11.3833,
          11.3733,
          11.3683,
          11.3776,
          11.3692,
          11.3739,
          11.3683,
          11.3686,
          11.3636,
          11.3815,
          11.3521,
          11.3699,
          11.3609,
          11.3784,
          11.3511,
          11.3558,
          11.3701,
          11.3715,
          11.3669,
          11.3686,
          11.3683,
          11.3767,
          11.3518,
          11.3634,
          11.3794,
          11.3733,
          11.3756,
          11.3738,
          11.3669,
          11.3637,
          11.3577,
          11.3825,
          11.381,
          11.3656,
          11.3687,
          11.368,
          11.3798,
          11.3535,
          11.3529,
          11.3682,
          11.3745,
          11.3656,
          11.3721,
          11.3708,
          11.372,
          11.3561,
          11.3626,
          11.364,
          11.3581,
          11.3646,
          11.3811,
          11.3776,
          11.3632,
          11.3724,
          11.3752,
          11.3809,
          11.3755,
          11.3767,
          11.3668,
          11.3584,
          11.3687,
          11.3721,
          11.3561,
          11.3746,
          11.3682,
          11.3724,
          11.3751,
          11.3784,
          11.3604,
          11.3701,
          11.3714,
          11.3832,
          11.3732,
          11.3656,
          11.3619,
          11.3636,
          11.3686,
          11.3719,
          11.3702,
          11.3737,
          11.3762,
          11.3805,
          11.3706,
          11.3779,
          11.3784,
          11.3688,
          11.3665,
          11.351,
          11.3773,
          11.3737,
          11.3739,
          11.3832,
          11.3721,
          11.3682,
          11.3707,
          11.3638,
          11.3519,
          11.3819,
          11.3664,
          11.3789,
          11.3627,
          11.3698,
          11.3641,
          11.374,
          11.3773,
          11.3627,
          11.3561,
          11.3627,
          11.3697,
          11.3524,
          11.364,
          11.3638,
          11.3649,
          11.372,
          11.3748,
          11.3674,
          11.3544,
          11.3682,
          11.3807,
          11.3661,
          11.351,
          11.357,
          11.3692
         ],
         "marker": {
          "color": "#023eff",
          "size": 6
         },
         "mode": "markers",
         "text": [
          "MV3.101 node1<br>5d50a881-c383-463e-8355-41b3dd57422d<br>load=Count: 1, Rated Power: 453.6 kw",
          "MV3.101 Bus 28<br>c50941eb-01ee-4bd5-be6a-c005af0639df<br>load=Count: 1, Rated Power: 362.9 kw<br>fixed_feed_in=Count: 1, Rated Power: 172.2 kw",
          "MV3.101 Bus 81<br>e22406e6-e172-4244-b978-89906f396130<br>load=Count: 1, Rated Power: 594.9 kw<br>fixed_feed_in=Count: 1, Rated Power: 184.7 kw",
          "MV3.101 Bus 102<br>d1c18dd9-a2f4-4953-8d53-03861eb519b5<br>load=Count: 1, Rated Power: 362.9 kw<br>fixed_feed_in=Count: 1, Rated Power: 172.2 kw",
          "MV3.101 Bus 19<br>6ae27f87-a713-4204-adfa-b262b222d240<br>load=Count: 1, Rated Power: 594.9 kw<br>fixed_feed_in=Count: 1, Rated Power: 184.7 kw",
          "MV3.101 Bus 86<br>bed1b7a5-3cbd-480c-86c5-adb7ae6a940d<br>load=Count: 1, Rated Power: 594.9 kw<br>fixed_feed_in=Count: 2, Rated Power: 3084.7 kw",
          "MV3.101 Bus 82<br>cc612986-d947-4c4d-af40-ac8fdeebc1f9<br>load=Count: 1, Rated Power: 594.9 kw<br>fixed_feed_in=Count: 1, Rated Power: 184.7 kw",
          "MV3.101 Bus 50<br>c69cc803-396c-4b15-af99-5eade9fcb66a<br>load=Count: 1, Rated Power: 668.0 kw<br>fixed_feed_in=Count: 1, Rated Power: 171.2 kw",
          "MV3.101 Bus 125<br>738eb38a-f098-4e32-a39a-4c871eb39ccd<br>load=Count: 1, Rated Power: 595.0 kw<br>fixed_feed_in=Count: 1, Rated Power: 252.3 kw",
          "MV3.101 Bus 41<br>4537ceed-9709-47c8-bcac-92a73f44e78c<br>load=Count: 1, Rated Power: 594.9 kw<br>fixed_feed_in=Count: 1, Rated Power: 184.7 kw",
          "MV3.101 Bus 52<br>caf7fd1b-8c8a-4734-b7c3-7a49ae5c00da<br>load=Count: 1, Rated Power: 668.0 kw<br>fixed_feed_in=Count: 1, Rated Power: 171.2 kw",
          "MV3.101 Bus 50_1<br>41fcce35-df2e-4053-8c3f-2aba19d62a77<br>",
          "MV3.101 Bus 77<br>0c5e6268-ba9c-41e0-b472-0aea5a3163c6<br>load=Count: 1, Rated Power: 594.9 kw<br>fixed_feed_in=Count: 1, Rated Power: 184.7 kw",
          "MV3.101 Bus 120<br>492712d0-604e-4183-8410-a11934495bd9<br>load=Count: 1, Rated Power: 595.0 kw<br>fixed_feed_in=Count: 1, Rated Power: 252.3 kw",
          "MV3.101 Bus 34<br>aac0ca99-70ef-4845-876f-f24adc93fc64<br>load=Count: 1, Rated Power: 594.9 kw<br>fixed_feed_in=Count: 1, Rated Power: 184.7 kw",
          "MV3.101 Bus 143<br>e9333524-c914-4799-961b-cfe5adfc5f52<br>load=Count: 1, Rated Power: 595.0 kw<br>fixed_feed_in=Count: 1, Rated Power: 252.3 kw",
          "MV3.101 Bus 27<br>84aa56bd-0941-4efd-86b8-61fd6b55dbf5<br>load=Count: 1, Rated Power: 594.9 kw<br>fixed_feed_in=Count: 1, Rated Power: 184.7 kw",
          "MV3.101 Bus 64<br>2cfb12f1-fa79-4210-9ac6-769254515af8<br>load=Count: 1, Rated Power: 594.9 kw<br>fixed_feed_in=Count: 1, Rated Power: 184.7 kw",
          "MV3.101 Bus 68_1<br>effcc0e0-e7f0-4594-9ff4-32855011aa5e<br>",
          "MV3.101 Bus 32<br>a7c9c8e7-63f0-4971-81b9-7073436d4317<br>load=Count: 1, Rated Power: 668.0 kw<br>fixed_feed_in=Count: 1, Rated Power: 171.2 kw",
          "MV3.101 Bus 134<br>43d06b2a-981c-4b51-91ab-978c392becb0<br>load=Count: 1, Rated Power: 595.0 kw<br>fixed_feed_in=Count: 1, Rated Power: 252.3 kw",
          "MV3.101 Bus 80<br>6df59148-c230-4892-82b3-c4f05c68bcdc<br>load=Count: 1, Rated Power: 668.0 kw<br>fixed_feed_in=Count: 1, Rated Power: 171.2 kw",
          "MV3.101 Bus 91<br>5d07ed20-5410-4014-8a38-afbb90cb68af<br>load=Count: 1, Rated Power: 362.9 kw<br>fixed_feed_in=Count: 1, Rated Power: 172.2 kw",
          "MV3.101 Bus 75<br>a0716f3b-09b0-437c-98c4-dd18397051f1<br>load=Count: 1, Rated Power: 362.9 kw<br>fixed_feed_in=Count: 1, Rated Power: 172.2 kw",
          "MV3.101 Bus 143_1<br>8b864fa2-3051-4369-91ec-9e17b71a1423<br>",
          "MV3.101 Bus 115<br>fb02db79-c6b8-4bf0-8a0b-e661fb04086a<br>load=Count: 1, Rated Power: 594.9 kw<br>fixed_feed_in=Count: 1, Rated Power: 184.7 kw",
          "MV3.101 Bus 43<br>a5d72bf6-6a61-4314-b541-f5635d5c334f<br>load=Count: 1, Rated Power: 594.9 kw<br>fixed_feed_in=Count: 1, Rated Power: 184.7 kw",
          "MV3.101 Bus 17<br>b4551111-75bb-4e9d-986b-685e4ca7a22d<br>load=Count: 1, Rated Power: 594.9 kw<br>fixed_feed_in=Count: 1, Rated Power: 184.7 kw",
          "HV1 Bus 25<br>b0bbd85c-6540-4418-b083-455daed681bd<br>",
          "MV3.101 Bus 117<br>f3065cce-6302-4365-8036-4fc2f126ade8<br>load=Count: 1, Rated Power: 594.9 kw<br>fixed_feed_in=Count: 1, Rated Power: 184.7 kw",
          "MV3.101 Bus 78<br>04beeb0e-78d7-46b8-aca5-76d3a009638f<br>load=Count: 1, Rated Power: 362.9 kw<br>fixed_feed_in=Count: 1, Rated Power: 172.2 kw",
          "MV3.101 Bus 49<br>a21d803a-04cb-43c3-b531-7111536ef7a0<br>load=Count: 1, Rated Power: 668.0 kw<br>fixed_feed_in=Count: 1, Rated Power: 171.2 kw",
          "MV3.101 Bus 85<br>c9a17f26-fdc3-434d-bd81-ce7cafe7821a<br>load=Count: 1, Rated Power: 594.9 kw<br>fixed_feed_in=Count: 1, Rated Power: 184.7 kw",
          "MV3.101 Bus 123<br>889c84e9-c717-4471-84b4-b3423b30dc78<br>load=Count: 1, Rated Power: 594.9 kw<br>fixed_feed_in=Count: 1, Rated Power: 184.7 kw",
          "MV3.101 Bus 76<br>af2a653a-5fbb-48f4-94fe-da098579ebe7<br>load=Count: 1, Rated Power: 668.0 kw<br>fixed_feed_in=Count: 1, Rated Power: 171.2 kw",
          "MV3.101 Bus 11<br>8b647a1a-b5d6-46b2-9ec3-3bdbf6e0de34<br>load=Count: 2, Rated Power: 563.3 kw<br>fixed_feed_in=Count: 1, Rated Power: 172.2 kw",
          "MV3.101 Bus 98<br>f2ab91df-6f6a-439b-95da-135dc5fca6a2<br>load=Count: 1, Rated Power: 594.9 kw<br>fixed_feed_in=Count: 1, Rated Power: 184.7 kw",
          "MV3.101 Bus 18<br>28a6c897-d718-4eb8-9088-4e8d455e5e8e<br>load=Count: 1, Rated Power: 668.0 kw<br>fixed_feed_in=Count: 1, Rated Power: 171.2 kw",
          "MV3.101 Bus 103<br>f5fb7dc2-2a15-489a-9339-f8fd351836a4<br>load=Count: 1, Rated Power: 362.9 kw<br>fixed_feed_in=Count: 1, Rated Power: 172.2 kw",
          "MV3.101 Bus 100<br>3df23ce8-f8ed-4562-b3d3-3904e1aacfa6<br>load=Count: 1, Rated Power: 668.0 kw<br>fixed_feed_in=Count: 1, Rated Power: 171.2 kw",
          "MV3.101 Bus 37<br>c22fab8c-3947-44d2-a5f3-b997e6eadb35<br>load=Count: 1, Rated Power: 668.0 kw<br>fixed_feed_in=Count: 1, Rated Power: 171.2 kw",
          "MV3.101 Bus 14<br>e4aaf6c9-8551-41c4-a3f9-54d7348076af<br>load=Count: 1, Rated Power: 362.9 kw<br>fixed_feed_in=Count: 1, Rated Power: 172.2 kw",
          "MV3.101 Bus 107<br>40612e93-0348-46dd-8d66-a5480fb4484d<br>load=Count: 1, Rated Power: 362.9 kw<br>fixed_feed_in=Count: 1, Rated Power: 172.2 kw",
          "MV3.101 Bus 105<br>957fb2b9-d0db-48e4-bc59-39741464ed1c<br>load=Count: 1, Rated Power: 594.9 kw<br>fixed_feed_in=Count: 1, Rated Power: 184.7 kw",
          "MV3.101 Bus 92<br>ee484025-9503-4938-8690-5a7f0861370e<br>load=Count: 1, Rated Power: 668.0 kw<br>fixed_feed_in=Count: 1, Rated Power: 171.2 kw",
          "MV3.101 Bus 119<br>58435c80-af6d-4675-b5de-41d8d4c0b87a<br>load=Count: 1, Rated Power: 595.0 kw<br>fixed_feed_in=Count: 1, Rated Power: 252.3 kw",
          "MV3.101 Bus 73<br>0f63de16-1c22-4e6b-8090-90929e2e407f<br>load=Count: 1, Rated Power: 594.9 kw<br>fixed_feed_in=Count: 1, Rated Power: 184.7 kw",
          "MV3.101 Bus 56<br>0d6102de-9f0f-47fa-9eb2-e8f5149a7851<br>load=Count: 1, Rated Power: 668.0 kw<br>fixed_feed_in=Count: 1, Rated Power: 171.2 kw",
          "MV3.101 Bus 33<br>46248ba3-8fa1-4225-b087-10739b0811cd<br>load=Count: 1, Rated Power: 362.9 kw<br>fixed_feed_in=Count: 1, Rated Power: 172.2 kw",
          "MV3.101 Bus 15<br>2837f3ce-c6fb-45ba-9cf0-27ad14987c81<br>load=Count: 2, Rated Power: 774.3 kw<br>fixed_feed_in=Count: 1, Rated Power: 172.2 kw",
          "MV3.101 Bus 31<br>b7e2b6d4-7566-417f-b5a3-f2ead1ceed98<br>load=Count: 1, Rated Power: 594.9 kw<br>fixed_feed_in=Count: 1, Rated Power: 184.7 kw",
          "MV3.101 Bus 25<br>97b96777-900f-49d2-90b5-044c38bc371e<br>load=Count: 1, Rated Power: 362.9 kw<br>fixed_feed_in=Count: 1, Rated Power: 172.2 kw",
          "MV3.101 Bus 60<br>c2d61c41-06a1-4490-9e68-8fe7dfec579a<br>load=Count: 1, Rated Power: 362.9 kw<br>fixed_feed_in=Count: 1, Rated Power: 172.2 kw",
          "MV3.101 Bus 55<br>38145153-0dd5-429c-b0c8-e876956fa70f<br>load=Count: 1, Rated Power: 594.9 kw<br>fixed_feed_in=Count: 1, Rated Power: 184.7 kw",
          "MV3.101 Bus 99<br>f6761178-0491-441c-b7e6-4126b29fbada<br>load=Count: 1, Rated Power: 594.9 kw<br>fixed_feed_in=Count: 1, Rated Power: 184.7 kw",
          "MV3.101 Bus 124<br>79143963-b1bb-4eca-8ba8-d3712f5696c5<br>load=Count: 1, Rated Power: 362.9 kw<br>fixed_feed_in=Count: 1, Rated Power: 172.2 kw",
          "MV3.101 Bus 122<br>cc0495c9-0bfe-41ba-b98b-978b8f4b1b69<br>load=Count: 1, Rated Power: 362.9 kw<br>fixed_feed_in=Count: 1, Rated Power: 172.2 kw",
          "MV3.101 Bus 110_1<br>335dc8f6-35c6-4c94-bf39-a77cbee563e8<br>",
          "MV3.101 Bus 48<br>9b372fbc-8da2-48a3-b76e-ad52957f77d3<br>load=Count: 1, Rated Power: 594.9 kw<br>fixed_feed_in=Count: 1, Rated Power: 184.7 kw",
          "MV3.101 Bus 106<br>8f2d1b47-8115-4139-93d2-3ddb6a9119ff<br>load=Count: 1, Rated Power: 362.9 kw<br>fixed_feed_in=Count: 1, Rated Power: 172.2 kw",
          "MV3.101 Bus 128<br>ebde173b-fb40-484b-aeb9-d565b97c5102<br>load=Count: 1, Rated Power: 594.9 kw<br>fixed_feed_in=Count: 1, Rated Power: 184.7 kw",
          "MV3.101 Bus 75_1<br>a4b428dc-15dd-4b48-a115-322988f0cf73<br>",
          "MV3.101 Bus 71<br>2289d9f8-70e3-438f-a25a-8812b53f0aff<br>load=Count: 1, Rated Power: 594.9 kw<br>fixed_feed_in=Count: 1, Rated Power: 184.7 kw",
          "MV3.101 Bus 46<br>99d5e9ac-6fdf-4957-bf69-64dc088434f4<br>load=Count: 1, Rated Power: 594.9 kw<br>fixed_feed_in=Count: 1, Rated Power: 184.7 kw",
          "MV3.101 BS busbar1A<br>6bc544cf-71e5-4d0a-941a-4e806c22fd8d<br>",
          "MV3.101 Bus 53<br>296e67f3-2711-43ff-9a46-eca3f60b0001<br>load=Count: 1, Rated Power: 668.0 kw<br>fixed_feed_in=Count: 1, Rated Power: 171.2 kw",
          "MV3.101 Bus 40_1<br>557b9f51-d83c-476c-a84c-d240530c203d<br>",
          "MV3.101 Bus 13<br>5f35664a-a4ef-4a48-849c-c4c058f6cffa<br>load=Count: 1, Rated Power: 668.0 kw<br>fixed_feed_in=Count: 1, Rated Power: 171.2 kw",
          "MV3.101 Bus 39<br>49840d95-2aa5-490c-90ad-556dfee4cb89<br>load=Count: 1, Rated Power: 362.9 kw<br>fixed_feed_in=Count: 1, Rated Power: 172.2 kw",
          "MV3.101 Bus 66<br>5b421400-8cdf-4847-bdbf-452ece1ed348<br>load=Count: 1, Rated Power: 668.0 kw<br>fixed_feed_in=Count: 1, Rated Power: 171.2 kw",
          "MV3.101 Bus 88<br>51f05c04-30ac-4430-b970-0081f1b6d8b1<br>load=Count: 1, Rated Power: 594.9 kw<br>fixed_feed_in=Count: 1, Rated Power: 184.7 kw",
          "MV3.101 Bus 96<br>ad120450-c8c2-4859-a7c4-f487fbe10824<br>load=Count: 1, Rated Power: 594.9 kw<br>fixed_feed_in=Count: 1, Rated Power: 184.7 kw",
          "MV3.101 Bus 69<br>8515f8eb-33d1-46c5-8467-ab12155a5474<br>load=Count: 1, Rated Power: 668.0 kw<br>fixed_feed_in=Count: 1, Rated Power: 171.2 kw",
          "MV3.101 Bus 58<br>53765bfa-5e7d-40e6-8b1f-88e6ac6e2bd9<br>load=Count: 1, Rated Power: 668.0 kw<br>fixed_feed_in=Count: 1, Rated Power: 171.2 kw",
          "MV3.101 Bus 142<br>26245e34-6c7f-4c21-a52f-733486b96eb1<br>load=Count: 1, Rated Power: 362.9 kw<br>fixed_feed_in=Count: 1, Rated Power: 172.2 kw",
          "MV3.101 Bus 127<br>5e3c4932-5022-40b3-a533-ff831bcf18b9<br>load=Count: 1, Rated Power: 594.9 kw<br>fixed_feed_in=Count: 1, Rated Power: 184.7 kw",
          "MV3.101 Bus 84<br>aba677f2-f1c5-409e-8587-05acecbe09a8<br>load=Count: 2, Rated Power: 1090.7 kw<br>fixed_feed_in=Count: 1, Rated Power: 184.7 kw",
          "MV3.101 Bus 114_1<br>8252e667-afbf-4fff-b0b8-595f40b82273<br>",
          "MV3.101 Bus 138<br>66f96b86-254e-4205-8cb8-c0634a8fa91a<br>load=Count: 1, Rated Power: 595.0 kw<br>fixed_feed_in=Count: 1, Rated Power: 252.3 kw",
          "MV3.101 Bus 129<br>f768ffeb-1021-47d1-b606-9f15103988fc<br>load=Count: 1, Rated Power: 362.9 kw<br>fixed_feed_in=Count: 1, Rated Power: 172.2 kw",
          "MV3.101 Bus 130<br>0e3f552a-5dc5-4781-969e-13b0600e4deb<br>load=Count: 1, Rated Power: 594.9 kw<br>fixed_feed_in=Count: 1, Rated Power: 184.7 kw",
          "MV3.101 Bus 16<br>2aab5612-f39a-4cc1-bb96-056b873a6310<br>load=Count: 1, Rated Power: 594.9 kw<br>fixed_feed_in=Count: 1, Rated Power: 184.7 kw",
          "MV3.101 Bus 111<br>a670449b-2ffd-4bae-9e01-1d7aab6939f6<br>load=Count: 1, Rated Power: 594.9 kw<br>fixed_feed_in=Count: 1, Rated Power: 184.7 kw",
          "MV3.101 Bus 68<br>bd345c13-e871-4357-af6e-3969889ff035<br>load=Count: 1, Rated Power: 668.0 kw<br>fixed_feed_in=Count: 1, Rated Power: 171.2 kw",
          "MV3.101 Bus 51<br>52ac8b75-96b7-460e-a927-237d89a13663<br>load=Count: 1, Rated Power: 594.9 kw<br>fixed_feed_in=Count: 1, Rated Power: 184.7 kw",
          "MV3.101 Bus 40<br>a5ccf309-420a-474f-a6ed-96cb3ffa2e56<br>load=Count: 1, Rated Power: 594.9 kw<br>fixed_feed_in=Count: 1, Rated Power: 184.7 kw",
          "MV3.101 Bus 67<br>8b19ef59-b368-42eb-a754-12936b5d4d17<br>load=Count: 2, Rated Power: 647.7 kw<br>fixed_feed_in=Count: 1, Rated Power: 172.2 kw",
          "MV3.101 Bus 136<br>e4da35ec-8275-424a-bee3-5dc1a8c3dfb8<br>load=Count: 1, Rated Power: 362.9 kw<br>fixed_feed_in=Count: 1, Rated Power: 172.2 kw",
          "MV3.101 Bus 44<br>8da74e62-9268-426e-8878-1f83c12e40e6<br>load=Count: 1, Rated Power: 594.9 kw<br>fixed_feed_in=Count: 1, Rated Power: 184.7 kw",
          "MV3.101 Bus 114<br>01dca738-329e-4c8d-900c-fd0f48acc874<br>load=Count: 1, Rated Power: 668.0 kw<br>fixed_feed_in=Count: 1, Rated Power: 171.2 kw",
          "MV3.101 Bus 30<br>13765175-44d3-4aa2-aa3e-7ed85822fcef<br>load=Count: 1, Rated Power: 362.9 kw<br>fixed_feed_in=Count: 1, Rated Power: 172.2 kw",
          "MV3.101 Bus 132<br>a9c53c7b-e700-4412-93be-348459028998<br>load=Count: 1, Rated Power: 595.0 kw<br>fixed_feed_in=Count: 1, Rated Power: 252.3 kw",
          "MV3.101 Bus 63<br>eec4851e-6d4a-4710-aa77-83c9d4bfac28<br>load=Count: 1, Rated Power: 668.0 kw<br>fixed_feed_in=Count: 1, Rated Power: 171.2 kw",
          "MV3.101 Bus 38<br>61d6379d-b010-461e-96e5-921149c0c8b6<br>load=Count: 1, Rated Power: 362.9 kw<br>fixed_feed_in=Count: 1, Rated Power: 172.2 kw",
          "MV3.101 Bus 93<br>3342bab1-65b4-4a4b-a2e8-365a162ead81<br>load=Count: 1, Rated Power: 668.0 kw<br>fixed_feed_in=Count: 1, Rated Power: 171.2 kw",
          "MV3.101 Bus 135<br>b649cc84-5230-485a-808c-2078624d3681<br>load=Count: 1, Rated Power: 594.9 kw<br>fixed_feed_in=Count: 1, Rated Power: 184.7 kw",
          "MV3.101 Bus 24<br>5e880ada-8200-4681-8533-c759b0a8ec35<br>load=Count: 1, Rated Power: 594.9 kw<br>fixed_feed_in=Count: 1, Rated Power: 184.7 kw",
          "MV3.101 Bus 110<br>42a7a176-bb8b-4281-8ba4-b2a2486f6b90<br>load=Count: 1, Rated Power: 594.9 kw<br>fixed_feed_in=Count: 1, Rated Power: 184.7 kw",
          "MV3.101 Bus 97<br>46f61d50-fb44-491d-a4e6-468102797132<br>load=Count: 1, Rated Power: 362.9 kw<br>fixed_feed_in=Count: 1, Rated Power: 172.2 kw",
          "MV3.101 Bus 57<br>cd736b45-3d94-402d-b11b-2a0ece139b71<br>load=Count: 1, Rated Power: 668.0 kw<br>fixed_feed_in=Count: 1, Rated Power: 171.2 kw",
          "MV3.101 Bus 47<br>f5ffa031-1062-4c4e-9495-8e40e2b55e1b<br>load=Count: 1, Rated Power: 594.9 kw<br>fixed_feed_in=Count: 1, Rated Power: 184.7 kw",
          "MV3.101 Bus 20<br>98c94532-d796-4df2-864f-08b93b2244ab<br>load=Count: 1, Rated Power: 362.9 kw<br>fixed_feed_in=Count: 1, Rated Power: 172.2 kw",
          "MV3.101 Bus 113<br>380a3c84-fd4b-487c-b2de-00a3b19b27bc<br>load=Count: 1, Rated Power: 362.9 kw<br>fixed_feed_in=Count: 1, Rated Power: 172.2 kw",
          "MV3.101 Bus 118<br>8f65cec0-ee20-4f8c-8bdc-41f3218c067e<br>load=Count: 1, Rated Power: 594.9 kw<br>fixed_feed_in=Count: 1, Rated Power: 184.7 kw",
          "MV3.101 Bus 126<br>4920ef18-6e90-45e5-afaf-9e8b60eb6d0e<br>load=Count: 1, Rated Power: 594.9 kw<br>fixed_feed_in=Count: 1, Rated Power: 184.7 kw",
          "MV3.101 Bus 141<br>3342da5b-7e73-4fc5-af28-3d12619d9426<br>load=Count: 1, Rated Power: 595.0 kw<br>fixed_feed_in=Count: 1, Rated Power: 252.3 kw",
          "MV3.101 Bus 22<br>a6f270ec-f5e8-4c3d-817d-664539f01387<br>load=Count: 1, Rated Power: 362.9 kw<br>fixed_feed_in=Count: 1, Rated Power: 172.2 kw",
          "MV3.101 Bus 140<br>6f477624-e576-4286-8d62-ea909e214a75<br>load=Count: 1, Rated Power: 362.9 kw<br>fixed_feed_in=Count: 1, Rated Power: 172.2 kw",
          "MV3.101 Bus 18_1<br>5d60f397-ce09-4dc5-87c9-0382e71c694e<br>",
          "MV3.101 Bus 42<br>0dd3fdac-f05d-4e68-9611-a73f267ed9eb<br>load=Count: 2, Rated Power: 816.5 kw<br>fixed_feed_in=Count: 1, Rated Power: 184.7 kw",
          "MV3.101 Bus 94<br>a21047e0-d924-42e0-a5e5-0998d65266a6<br>load=Count: 1, Rated Power: 668.0 kw<br>fixed_feed_in=Count: 1, Rated Power: 171.2 kw",
          "MV3.101 Bus 104_1<br>ef10dec9-bbbe-4fe9-856c-28f44b5551bf<br>",
          "MV3.101 Bus 139<br>8559c7b0-c882-466d-8560-00c4db86956a<br>load=Count: 1, Rated Power: 362.9 kw<br>fixed_feed_in=Count: 1, Rated Power: 172.2 kw",
          "MV3.101 Bus 118_1<br>46b59740-e384-4038-beae-3de74fa9a3c6<br>",
          "MV3.101 Bus 116<br>e386caca-6ea9-420c-b732-a79f55899458<br>load=Count: 1, Rated Power: 668.0 kw<br>fixed_feed_in=Count: 1, Rated Power: 171.2 kw",
          "MV3.101 Bus 135_1<br>fad370e8-1530-4310-8181-eacbd141642b<br>",
          "MV3.101 Bus 21<br>3c849b73-7c59-46ec-aad2-b019beccb4c5<br>load=Count: 1, Rated Power: 668.0 kw<br>fixed_feed_in=Count: 1, Rated Power: 171.2 kw",
          "MV3.101 Bus 59<br>b0f1f7d4-4ddb-4a56-91ad-e85590714c87<br>load=Count: 1, Rated Power: 594.9 kw<br>fixed_feed_in=Count: 1, Rated Power: 184.7 kw",
          "MV3.101 Bus 12<br>dc68cf3e-ecb0-4740-a561-de6316c7376d<br>load=Count: 1, Rated Power: 362.9 kw<br>fixed_feed_in=Count: 1, Rated Power: 172.2 kw",
          "MV3.101 Bus 90<br>d873af06-2e6e-4629-9c42-a30b4aeb4fa7<br>load=Count: 1, Rated Power: 594.9 kw<br>fixed_feed_in=Count: 1, Rated Power: 184.7 kw",
          "MV3.101 Bus 72<br>a41231cc-4836-4343-b236-396720582e32<br>load=Count: 1, Rated Power: 594.9 kw<br>fixed_feed_in=Count: 1, Rated Power: 184.7 kw",
          "MV3.101 Bus 133<br>8c073498-b9e2-439d-94a8-63f68f56f192<br>load=Count: 1, Rated Power: 362.9 kw<br>fixed_feed_in=Count: 1, Rated Power: 172.2 kw",
          "MV3.101 Bus 108<br>0e96dffd-d5ea-4f2c-a133-bacb7a85ca31<br>load=Count: 1, Rated Power: 594.9 kw<br>fixed_feed_in=Count: 1, Rated Power: 184.7 kw",
          "MV3.101 Bus 121<br>ef1b266d-3f64-4f9e-a5c5-49ab174370a6<br>load=Count: 1, Rated Power: 595.0 kw<br>fixed_feed_in=Count: 1, Rated Power: 252.3 kw",
          "MV3.101 Bus 62<br>3ecf3284-5919-49ba-a60a-22996f8bc202<br>load=Count: 1, Rated Power: 362.9 kw<br>fixed_feed_in=Count: 1, Rated Power: 172.2 kw",
          "MV3.101 Bus 26<br>6e136d5d-19d7-4556-88a3-3dbdd803c6b1<br>load=Count: 1, Rated Power: 362.9 kw<br>fixed_feed_in=Count: 1, Rated Power: 172.2 kw",
          "MV3.101 Bus 61<br>393881b0-3b78-413f-b065-03d216803c87<br>load=Count: 1, Rated Power: 668.0 kw<br>fixed_feed_in=Count: 1, Rated Power: 171.2 kw",
          "MV3.101 Bus 29<br>1d219ef0-079c-4df8-8449-e80cb2af6793<br>load=Count: 1, Rated Power: 362.9 kw<br>fixed_feed_in=Count: 1, Rated Power: 172.2 kw",
          "MV3.101 Bus 131<br>6588b688-92b7-4863-811d-fb86b70e89ad<br>load=Count: 1, Rated Power: 362.9 kw<br>fixed_feed_in=Count: 1, Rated Power: 172.2 kw",
          "MV3.101 Bus 87<br>81f7b5c4-8ebf-4b8a-8731-f0c67a6e8611<br>load=Count: 1, Rated Power: 668.0 kw<br>fixed_feed_in=Count: 1, Rated Power: 171.2 kw",
          "MV3.101 Bus 70<br>090d13e8-3cce-4793-816f-4c50f23f3f7f<br>load=Count: 1, Rated Power: 668.0 kw<br>fixed_feed_in=Count: 1, Rated Power: 171.2 kw",
          "MV3.101 Bus 89<br>16449d90-cc56-48b9-8067-97986b715758<br>load=Count: 1, Rated Power: 668.0 kw<br>fixed_feed_in=Count: 1, Rated Power: 171.2 kw",
          "MV3.101 Bus 36<br>8bf1ca07-f887-43ec-9e10-f360c0644954<br>load=Count: 1, Rated Power: 668.0 kw<br>fixed_feed_in=Count: 1, Rated Power: 171.2 kw",
          "MV3.101 Bus 74<br>09153599-9b88-49f8-aecd-d57d8ab9e2b6<br>load=Count: 1, Rated Power: 362.9 kw<br>fixed_feed_in=Count: 1, Rated Power: 172.2 kw",
          "MV3.101 Bus 83<br>32145578-706b-47e5-86ae-217d9a41867c<br>load=Count: 1, Rated Power: 668.0 kw<br>fixed_feed_in=Count: 1, Rated Power: 171.2 kw",
          "MV3.101 Bus 54<br>0f9e330f-7db2-48d6-8d07-8741f294f4a9<br>load=Count: 1, Rated Power: 594.9 kw<br>fixed_feed_in=Count: 1, Rated Power: 184.7 kw",
          "MV3.101 Bus 95<br>2dcbdf1e-c956-46f1-9c60-2e0aa45053d4<br>load=Count: 1, Rated Power: 362.9 kw<br>fixed_feed_in=Count: 1, Rated Power: 172.2 kw",
          "MV3.101 Bus 23<br>00933d03-18e0-4681-a7d3-b94cac5ada41<br>load=Count: 1, Rated Power: 594.9 kw<br>fixed_feed_in=Count: 1, Rated Power: 184.7 kw",
          "MV3.101 Bus 137<br>83e2fc45-c6d9-4a8e-8936-4c18b9da0b59<br>load=Count: 1, Rated Power: 362.9 kw<br>fixed_feed_in=Count: 1, Rated Power: 172.2 kw",
          "MV3.101 Bus 79<br>bebf3c0b-e658-438b-b5df-c0cc68d04479<br>load=Count: 1, Rated Power: 362.9 kw<br>fixed_feed_in=Count: 1, Rated Power: 172.2 kw",
          "MV3.101 Bus 101<br>265fe176-27b8-4d24-b805-68a258ef9077<br>load=Count: 1, Rated Power: 594.9 kw<br>fixed_feed_in=Count: 1, Rated Power: 184.7 kw",
          "MV3.101 Bus 45<br>fd124414-dbc6-4f6b-90b5-34918ee7b8f6<br>load=Count: 1, Rated Power: 362.9 kw<br>fixed_feed_in=Count: 1, Rated Power: 172.2 kw",
          "MV3.101 Bus 35<br>fc4af780-3f60-42fc-bc69-d38fadf92050<br>load=Count: 1, Rated Power: 668.0 kw<br>fixed_feed_in=Count: 1, Rated Power: 171.2 kw",
          "MV3.101 Bus 109<br>27cd0e75-9471-4140-aaba-88a8ef63c0b7<br>load=Count: 1, Rated Power: 362.9 kw<br>fixed_feed_in=Count: 1, Rated Power: 172.2 kw",
          "MV3.101 Bus 104<br>9e018a70-4da0-4f41-9a45-455b1173c3d2<br>load=Count: 1, Rated Power: 362.9 kw<br>fixed_feed_in=Count: 1, Rated Power: 172.2 kw",
          "MV3.101 Bus 65<br>b69ecf26-16ee-4b41-a996-b76563c58c1a<br>load=Count: 1, Rated Power: 668.0 kw<br>fixed_feed_in=Count: 1, Rated Power: 171.2 kw",
          "MV3.101 Bus 112<br>c76d8904-3d16-42ae-8abf-e1db37d7ae0d<br>load=Count: 1, Rated Power: 594.9 kw<br>fixed_feed_in=Count: 1, Rated Power: 184.7 kw"
         ],
         "type": "scattermapbox"
        }
       ],
       "layout": {
        "mapbox": {
         "center": {
          "lat": 53.64525238095238,
          "lon": 11.368850340136055
         },
         "style": "open-street-map",
         "zoom": 11.961600000000004
        },
        "margin": {
         "b": 0,
         "l": 0,
         "r": 0,
         "t": 0
        },
        "showlegend": false,
        "template": {
         "data": {
          "bar": [
           {
            "error_x": {
             "color": "#2a3f5f"
            },
            "error_y": {
             "color": "#2a3f5f"
            },
            "marker": {
             "line": {
              "color": "#E5ECF6",
              "width": 0.5
             },
             "pattern": {
              "fillmode": "overlay",
              "size": 10,
              "solidity": 0.2
             }
            },
            "type": "bar"
           }
          ],
          "barpolar": [
           {
            "marker": {
             "line": {
              "color": "#E5ECF6",
              "width": 0.5
             },
             "pattern": {
              "fillmode": "overlay",
              "size": 10,
              "solidity": 0.2
             }
            },
            "type": "barpolar"
           }
          ],
          "carpet": [
           {
            "aaxis": {
             "endlinecolor": "#2a3f5f",
             "gridcolor": "white",
             "linecolor": "white",
             "minorgridcolor": "white",
             "startlinecolor": "#2a3f5f"
            },
            "baxis": {
             "endlinecolor": "#2a3f5f",
             "gridcolor": "white",
             "linecolor": "white",
             "minorgridcolor": "white",
             "startlinecolor": "#2a3f5f"
            },
            "type": "carpet"
           }
          ],
          "choropleth": [
           {
            "colorbar": {
             "outlinewidth": 0,
             "ticks": ""
            },
            "type": "choropleth"
           }
          ],
          "contour": [
           {
            "colorbar": {
             "outlinewidth": 0,
             "ticks": ""
            },
            "colorscale": [
             [
              0,
              "#0d0887"
             ],
             [
              0.1111111111111111,
              "#46039f"
             ],
             [
              0.2222222222222222,
              "#7201a8"
             ],
             [
              0.3333333333333333,
              "#9c179e"
             ],
             [
              0.4444444444444444,
              "#bd3786"
             ],
             [
              0.5555555555555556,
              "#d8576b"
             ],
             [
              0.6666666666666666,
              "#ed7953"
             ],
             [
              0.7777777777777778,
              "#fb9f3a"
             ],
             [
              0.8888888888888888,
              "#fdca26"
             ],
             [
              1,
              "#f0f921"
             ]
            ],
            "type": "contour"
           }
          ],
          "contourcarpet": [
           {
            "colorbar": {
             "outlinewidth": 0,
             "ticks": ""
            },
            "type": "contourcarpet"
           }
          ],
          "heatmap": [
           {
            "colorbar": {
             "outlinewidth": 0,
             "ticks": ""
            },
            "colorscale": [
             [
              0,
              "#0d0887"
             ],
             [
              0.1111111111111111,
              "#46039f"
             ],
             [
              0.2222222222222222,
              "#7201a8"
             ],
             [
              0.3333333333333333,
              "#9c179e"
             ],
             [
              0.4444444444444444,
              "#bd3786"
             ],
             [
              0.5555555555555556,
              "#d8576b"
             ],
             [
              0.6666666666666666,
              "#ed7953"
             ],
             [
              0.7777777777777778,
              "#fb9f3a"
             ],
             [
              0.8888888888888888,
              "#fdca26"
             ],
             [
              1,
              "#f0f921"
             ]
            ],
            "type": "heatmap"
           }
          ],
          "heatmapgl": [
           {
            "colorbar": {
             "outlinewidth": 0,
             "ticks": ""
            },
            "colorscale": [
             [
              0,
              "#0d0887"
             ],
             [
              0.1111111111111111,
              "#46039f"
             ],
             [
              0.2222222222222222,
              "#7201a8"
             ],
             [
              0.3333333333333333,
              "#9c179e"
             ],
             [
              0.4444444444444444,
              "#bd3786"
             ],
             [
              0.5555555555555556,
              "#d8576b"
             ],
             [
              0.6666666666666666,
              "#ed7953"
             ],
             [
              0.7777777777777778,
              "#fb9f3a"
             ],
             [
              0.8888888888888888,
              "#fdca26"
             ],
             [
              1,
              "#f0f921"
             ]
            ],
            "type": "heatmapgl"
           }
          ],
          "histogram": [
           {
            "marker": {
             "pattern": {
              "fillmode": "overlay",
              "size": 10,
              "solidity": 0.2
             }
            },
            "type": "histogram"
           }
          ],
          "histogram2d": [
           {
            "colorbar": {
             "outlinewidth": 0,
             "ticks": ""
            },
            "colorscale": [
             [
              0,
              "#0d0887"
             ],
             [
              0.1111111111111111,
              "#46039f"
             ],
             [
              0.2222222222222222,
              "#7201a8"
             ],
             [
              0.3333333333333333,
              "#9c179e"
             ],
             [
              0.4444444444444444,
              "#bd3786"
             ],
             [
              0.5555555555555556,
              "#d8576b"
             ],
             [
              0.6666666666666666,
              "#ed7953"
             ],
             [
              0.7777777777777778,
              "#fb9f3a"
             ],
             [
              0.8888888888888888,
              "#fdca26"
             ],
             [
              1,
              "#f0f921"
             ]
            ],
            "type": "histogram2d"
           }
          ],
          "histogram2dcontour": [
           {
            "colorbar": {
             "outlinewidth": 0,
             "ticks": ""
            },
            "colorscale": [
             [
              0,
              "#0d0887"
             ],
             [
              0.1111111111111111,
              "#46039f"
             ],
             [
              0.2222222222222222,
              "#7201a8"
             ],
             [
              0.3333333333333333,
              "#9c179e"
             ],
             [
              0.4444444444444444,
              "#bd3786"
             ],
             [
              0.5555555555555556,
              "#d8576b"
             ],
             [
              0.6666666666666666,
              "#ed7953"
             ],
             [
              0.7777777777777778,
              "#fb9f3a"
             ],
             [
              0.8888888888888888,
              "#fdca26"
             ],
             [
              1,
              "#f0f921"
             ]
            ],
            "type": "histogram2dcontour"
           }
          ],
          "mesh3d": [
           {
            "colorbar": {
             "outlinewidth": 0,
             "ticks": ""
            },
            "type": "mesh3d"
           }
          ],
          "parcoords": [
           {
            "line": {
             "colorbar": {
              "outlinewidth": 0,
              "ticks": ""
             }
            },
            "type": "parcoords"
           }
          ],
          "pie": [
           {
            "automargin": true,
            "type": "pie"
           }
          ],
          "scatter": [
           {
            "fillpattern": {
             "fillmode": "overlay",
             "size": 10,
             "solidity": 0.2
            },
            "type": "scatter"
           }
          ],
          "scatter3d": [
           {
            "line": {
             "colorbar": {
              "outlinewidth": 0,
              "ticks": ""
             }
            },
            "marker": {
             "colorbar": {
              "outlinewidth": 0,
              "ticks": ""
             }
            },
            "type": "scatter3d"
           }
          ],
          "scattercarpet": [
           {
            "marker": {
             "colorbar": {
              "outlinewidth": 0,
              "ticks": ""
             }
            },
            "type": "scattercarpet"
           }
          ],
          "scattergeo": [
           {
            "marker": {
             "colorbar": {
              "outlinewidth": 0,
              "ticks": ""
             }
            },
            "type": "scattergeo"
           }
          ],
          "scattergl": [
           {
            "marker": {
             "colorbar": {
              "outlinewidth": 0,
              "ticks": ""
             }
            },
            "type": "scattergl"
           }
          ],
          "scattermapbox": [
           {
            "marker": {
             "colorbar": {
              "outlinewidth": 0,
              "ticks": ""
             }
            },
            "type": "scattermapbox"
           }
          ],
          "scatterpolar": [
           {
            "marker": {
             "colorbar": {
              "outlinewidth": 0,
              "ticks": ""
             }
            },
            "type": "scatterpolar"
           }
          ],
          "scatterpolargl": [
           {
            "marker": {
             "colorbar": {
              "outlinewidth": 0,
              "ticks": ""
             }
            },
            "type": "scatterpolargl"
           }
          ],
          "scatterternary": [
           {
            "marker": {
             "colorbar": {
              "outlinewidth": 0,
              "ticks": ""
             }
            },
            "type": "scatterternary"
           }
          ],
          "surface": [
           {
            "colorbar": {
             "outlinewidth": 0,
             "ticks": ""
            },
            "colorscale": [
             [
              0,
              "#0d0887"
             ],
             [
              0.1111111111111111,
              "#46039f"
             ],
             [
              0.2222222222222222,
              "#7201a8"
             ],
             [
              0.3333333333333333,
              "#9c179e"
             ],
             [
              0.4444444444444444,
              "#bd3786"
             ],
             [
              0.5555555555555556,
              "#d8576b"
             ],
             [
              0.6666666666666666,
              "#ed7953"
             ],
             [
              0.7777777777777778,
              "#fb9f3a"
             ],
             [
              0.8888888888888888,
              "#fdca26"
             ],
             [
              1,
              "#f0f921"
             ]
            ],
            "type": "surface"
           }
          ],
          "table": [
           {
            "cells": {
             "fill": {
              "color": "#EBF0F8"
             },
             "line": {
              "color": "white"
             }
            },
            "header": {
             "fill": {
              "color": "#C8D4E3"
             },
             "line": {
              "color": "white"
             }
            },
            "type": "table"
           }
          ]
         },
         "layout": {
          "annotationdefaults": {
           "arrowcolor": "#2a3f5f",
           "arrowhead": 0,
           "arrowwidth": 1
          },
          "autotypenumbers": "strict",
          "coloraxis": {
           "colorbar": {
            "outlinewidth": 0,
            "ticks": ""
           }
          },
          "colorscale": {
           "diverging": [
            [
             0,
             "#8e0152"
            ],
            [
             0.1,
             "#c51b7d"
            ],
            [
             0.2,
             "#de77ae"
            ],
            [
             0.3,
             "#f1b6da"
            ],
            [
             0.4,
             "#fde0ef"
            ],
            [
             0.5,
             "#f7f7f7"
            ],
            [
             0.6,
             "#e6f5d0"
            ],
            [
             0.7,
             "#b8e186"
            ],
            [
             0.8,
             "#7fbc41"
            ],
            [
             0.9,
             "#4d9221"
            ],
            [
             1,
             "#276419"
            ]
           ],
           "sequential": [
            [
             0,
             "#0d0887"
            ],
            [
             0.1111111111111111,
             "#46039f"
            ],
            [
             0.2222222222222222,
             "#7201a8"
            ],
            [
             0.3333333333333333,
             "#9c179e"
            ],
            [
             0.4444444444444444,
             "#bd3786"
            ],
            [
             0.5555555555555556,
             "#d8576b"
            ],
            [
             0.6666666666666666,
             "#ed7953"
            ],
            [
             0.7777777777777778,
             "#fb9f3a"
            ],
            [
             0.8888888888888888,
             "#fdca26"
            ],
            [
             1,
             "#f0f921"
            ]
           ],
           "sequentialminus": [
            [
             0,
             "#0d0887"
            ],
            [
             0.1111111111111111,
             "#46039f"
            ],
            [
             0.2222222222222222,
             "#7201a8"
            ],
            [
             0.3333333333333333,
             "#9c179e"
            ],
            [
             0.4444444444444444,
             "#bd3786"
            ],
            [
             0.5555555555555556,
             "#d8576b"
            ],
            [
             0.6666666666666666,
             "#ed7953"
            ],
            [
             0.7777777777777778,
             "#fb9f3a"
            ],
            [
             0.8888888888888888,
             "#fdca26"
            ],
            [
             1,
             "#f0f921"
            ]
           ]
          },
          "colorway": [
           "#636efa",
           "#EF553B",
           "#00cc96",
           "#ab63fa",
           "#FFA15A",
           "#19d3f3",
           "#FF6692",
           "#B6E880",
           "#FF97FF",
           "#FECB52"
          ],
          "font": {
           "color": "#2a3f5f"
          },
          "geo": {
           "bgcolor": "white",
           "lakecolor": "white",
           "landcolor": "#E5ECF6",
           "showlakes": true,
           "showland": true,
           "subunitcolor": "white"
          },
          "hoverlabel": {
           "align": "left"
          },
          "hovermode": "closest",
          "mapbox": {
           "style": "light"
          },
          "paper_bgcolor": "white",
          "plot_bgcolor": "#E5ECF6",
          "polar": {
           "angularaxis": {
            "gridcolor": "white",
            "linecolor": "white",
            "ticks": ""
           },
           "bgcolor": "#E5ECF6",
           "radialaxis": {
            "gridcolor": "white",
            "linecolor": "white",
            "ticks": ""
           }
          },
          "scene": {
           "xaxis": {
            "backgroundcolor": "#E5ECF6",
            "gridcolor": "white",
            "gridwidth": 2,
            "linecolor": "white",
            "showbackground": true,
            "ticks": "",
            "zerolinecolor": "white"
           },
           "yaxis": {
            "backgroundcolor": "#E5ECF6",
            "gridcolor": "white",
            "gridwidth": 2,
            "linecolor": "white",
            "showbackground": true,
            "ticks": "",
            "zerolinecolor": "white"
           },
           "zaxis": {
            "backgroundcolor": "#E5ECF6",
            "gridcolor": "white",
            "gridwidth": 2,
            "linecolor": "white",
            "showbackground": true,
            "ticks": "",
            "zerolinecolor": "white"
           }
          },
          "shapedefaults": {
           "line": {
            "color": "#2a3f5f"
           }
          },
          "ternary": {
           "aaxis": {
            "gridcolor": "white",
            "linecolor": "white",
            "ticks": ""
           },
           "baxis": {
            "gridcolor": "white",
            "linecolor": "white",
            "ticks": ""
           },
           "bgcolor": "#E5ECF6",
           "caxis": {
            "gridcolor": "white",
            "linecolor": "white",
            "ticks": ""
           }
          },
          "title": {
           "x": 0.05
          },
          "xaxis": {
           "automargin": true,
           "gridcolor": "white",
           "linecolor": "white",
           "ticks": "",
           "title": {
            "standoff": 15
           },
           "zerolinecolor": "white",
           "zerolinewidth": 2
          },
          "yaxis": {
           "automargin": true,
           "gridcolor": "white",
           "linecolor": "white",
           "ticks": "",
           "title": {
            "standoff": 15
           },
           "zerolinecolor": "white",
           "zerolinewidth": 2
          }
         }
        }
       }
      }
     },
     "metadata": {},
     "output_type": "display_data"
    }
   ],
   "source": [
    "from pypsdm.plots.grid import grid_plot\n",
    "\n",
    "# Use the grid_plot method to visualize the grid model\n",
    "# only works if the underlying node input files have associated coordinates\n",
    "grid_plot(gwr.grid)"
   ]
  },
  {
   "cell_type": "code",
   "execution_count": null,
   "metadata": {},
   "outputs": [],
   "source": [
    "results = gwr.results\n",
    "# The grid results are symmetrical to the input grid, so there is a result container\n",
    "# for participants and for the raw grid.\n",
    "raw_grid_res = results.raw_grid\n",
    "participants_res = results.participants"
   ]
  },
  {
   "cell_type": "code",
   "execution_count": null,
   "metadata": {},
   "outputs": [],
   "source": [
    "# Results for each grid element and participant is a discrete event time series\n",
    "# which basically means each recorded state of e.g. a node (consisting of current magnitude, and angle)\n",
    "# is valid until the next recorded state.\n",
    "\n",
    "nodes_res = raw_grid_res.nodes\n",
    "# Reminder: you can also access the nodes result directly from the gwr e.g. gwr.nodes_res\n",
    "nodes_res = gwr.nodes_res"
   ]
  },
  {
   "cell_type": "code",
   "execution_count": null,
   "metadata": {},
   "outputs": [
    {
     "data": {
      "text/html": [
       "<div>\n",
       "<style scoped>\n",
       "    .dataframe tbody tr th:only-of-type {\n",
       "        vertical-align: middle;\n",
       "    }\n",
       "\n",
       "    .dataframe tbody tr th {\n",
       "        vertical-align: top;\n",
       "    }\n",
       "\n",
       "    .dataframe thead th {\n",
       "        text-align: right;\n",
       "    }\n",
       "</style>\n",
       "<table border=\"1\" class=\"dataframe\">\n",
       "  <thead>\n",
       "    <tr style=\"text-align: right;\">\n",
       "      <th></th>\n",
       "      <th>v_ang</th>\n",
       "      <th>v_mag</th>\n",
       "    </tr>\n",
       "    <tr>\n",
       "      <th>time</th>\n",
       "      <th></th>\n",
       "      <th></th>\n",
       "    </tr>\n",
       "  </thead>\n",
       "  <tbody>\n",
       "    <tr>\n",
       "      <th>2016-01-02 00:00:00</th>\n",
       "      <td>-1.870384</td>\n",
       "      <td>1.028498</td>\n",
       "    </tr>\n",
       "    <tr>\n",
       "      <th>2016-01-02 01:00:00</th>\n",
       "      <td>-1.762598</td>\n",
       "      <td>1.029275</td>\n",
       "    </tr>\n",
       "    <tr>\n",
       "      <th>2016-01-02 02:00:00</th>\n",
       "      <td>-1.484783</td>\n",
       "      <td>1.031397</td>\n",
       "    </tr>\n",
       "    <tr>\n",
       "      <th>2016-01-02 03:00:00</th>\n",
       "      <td>-1.761274</td>\n",
       "      <td>1.029855</td>\n",
       "    </tr>\n",
       "    <tr>\n",
       "      <th>2016-01-02 04:00:00</th>\n",
       "      <td>-1.776910</td>\n",
       "      <td>1.029577</td>\n",
       "    </tr>\n",
       "  </tbody>\n",
       "</table>\n",
       "</div>"
      ],
      "text/plain": [
       "                        v_ang     v_mag\n",
       "time                                   \n",
       "2016-01-02 00:00:00 -1.870384  1.028498\n",
       "2016-01-02 01:00:00 -1.762598  1.029275\n",
       "2016-01-02 02:00:00 -1.484783  1.031397\n",
       "2016-01-02 03:00:00 -1.761274  1.029855\n",
       "2016-01-02 04:00:00 -1.776910  1.029577"
      ]
     },
     "execution_count": 6,
     "metadata": {},
     "output_type": "execute_result"
    }
   ],
   "source": [
    "# The underlying structure of the result data is a dictionary subclass\n",
    "# the values of the dictionary are dependent on the result model\n",
    "# e.g. the result dictionary NodesResult contains ComplexVoltage objects\n",
    "\n",
    "\n",
    "# You can access items as you would with a standard dictionary\n",
    "uuid = list(nodes_res.keys())[0]\n",
    "node_res = nodes_res[uuid]\n",
    "\n",
    "# Similar to the input models the underlying data structure of each singular result object\n",
    "# is a pandas DataFrame with a date time index\n",
    "node_res.data.head()"
   ]
  },
  {
   "cell_type": "code",
   "execution_count": null,
   "metadata": {},
   "outputs": [
    {
     "data": {
      "text/html": [
       "<div>\n",
       "<style scoped>\n",
       "    .dataframe tbody tr th:only-of-type {\n",
       "        vertical-align: middle;\n",
       "    }\n",
       "\n",
       "    .dataframe tbody tr th {\n",
       "        vertical-align: top;\n",
       "    }\n",
       "\n",
       "    .dataframe thead th {\n",
       "        text-align: right;\n",
       "    }\n",
       "</style>\n",
       "<table border=\"1\" class=\"dataframe\">\n",
       "  <thead>\n",
       "    <tr style=\"text-align: right;\">\n",
       "      <th></th>\n",
       "      <th>v_mag</th>\n",
       "      <th>v_ang</th>\n",
       "    </tr>\n",
       "  </thead>\n",
       "  <tbody>\n",
       "  </tbody>\n",
       "</table>\n",
       "</div>"
      ],
      "text/plain": [
       "Empty DataFrame\n",
       "Columns: [v_mag, v_ang]\n",
       "Index: []"
      ]
     },
     "execution_count": 7,
     "metadata": {},
     "output_type": "execute_result"
    }
   ],
   "source": [
    "from datetime import datetime\n",
    "\n",
    "\n",
    "# If you want to look at some time interval, you can slice the result models with date\n",
    "# time objects\n",
    "start = datetime(2016, 1, 1)\n",
    "end = datetime(2016, 1, 1, 1)\n",
    "sliced_node_res = node_res[start:end]\n",
    "sliced_node_res.data"
   ]
  },
  {
   "cell_type": "code",
   "execution_count": null,
   "metadata": {},
   "outputs": [
    {
     "data": {
      "text/html": [
       "<div>\n",
       "<style scoped>\n",
       "    .dataframe tbody tr th:only-of-type {\n",
       "        vertical-align: middle;\n",
       "    }\n",
       "\n",
       "    .dataframe tbody tr th {\n",
       "        vertical-align: top;\n",
       "    }\n",
       "\n",
       "    .dataframe thead th {\n",
       "        text-align: right;\n",
       "    }\n",
       "</style>\n",
       "<table border=\"1\" class=\"dataframe\">\n",
       "  <thead>\n",
       "    <tr style=\"text-align: right;\">\n",
       "      <th></th>\n",
       "      <th>v_mag</th>\n",
       "      <th>v_ang</th>\n",
       "    </tr>\n",
       "  </thead>\n",
       "  <tbody>\n",
       "  </tbody>\n",
       "</table>\n",
       "</div>"
      ],
      "text/plain": [
       "Empty DataFrame\n",
       "Columns: [v_mag, v_ang]\n",
       "Index: []"
      ]
     },
     "execution_count": 8,
     "metadata": {},
     "output_type": "execute_result"
    }
   ],
   "source": [
    "from pypsdm.models.result.grid.node import NodesResult\n",
    "\n",
    "\n",
    "# You can also filter the whole dictionary for a time interval\n",
    "sliced_nodes_res = nodes_res.interval(start, end)\n",
    "sliced_nodes_res[uuid].data"
   ]
  },
  {
   "cell_type": "code",
   "execution_count": null,
   "metadata": {},
   "outputs": [
    {
     "data": {
      "text/html": [
       "<div>\n",
       "<style scoped>\n",
       "    .dataframe tbody tr th:only-of-type {\n",
       "        vertical-align: middle;\n",
       "    }\n",
       "\n",
       "    .dataframe tbody tr th {\n",
       "        vertical-align: top;\n",
       "    }\n",
       "\n",
       "    .dataframe thead th {\n",
       "        text-align: right;\n",
       "    }\n",
       "</style>\n",
       "<table border=\"1\" class=\"dataframe\">\n",
       "  <thead>\n",
       "    <tr style=\"text-align: right;\">\n",
       "      <th></th>\n",
       "      <th>p</th>\n",
       "      <th>q</th>\n",
       "    </tr>\n",
       "    <tr>\n",
       "      <th>time</th>\n",
       "      <th></th>\n",
       "      <th></th>\n",
       "    </tr>\n",
       "  </thead>\n",
       "  <tbody>\n",
       "    <tr>\n",
       "      <th>2016-01-02 00:00:00</th>\n",
       "      <td>0.062105</td>\n",
       "      <td>0.019104</td>\n",
       "    </tr>\n",
       "    <tr>\n",
       "      <th>2016-01-02 01:00:00</th>\n",
       "      <td>0.061128</td>\n",
       "      <td>0.018259</td>\n",
       "    </tr>\n",
       "    <tr>\n",
       "      <th>2016-01-02 02:00:00</th>\n",
       "      <td>0.163112</td>\n",
       "      <td>0.052141</td>\n",
       "    </tr>\n",
       "    <tr>\n",
       "      <th>2016-01-02 03:00:00</th>\n",
       "      <td>0.122642</td>\n",
       "      <td>0.038348</td>\n",
       "    </tr>\n",
       "    <tr>\n",
       "      <th>2016-01-02 04:00:00</th>\n",
       "      <td>0.169063</td>\n",
       "      <td>0.056043</td>\n",
       "    </tr>\n",
       "  </tbody>\n",
       "</table>\n",
       "</div>"
      ],
      "text/plain": [
       "                            p         q\n",
       "time                                   \n",
       "2016-01-02 00:00:00  0.062105  0.019104\n",
       "2016-01-02 01:00:00  0.061128  0.018259\n",
       "2016-01-02 02:00:00  0.163112  0.052141\n",
       "2016-01-02 03:00:00  0.122642  0.038348\n",
       "2016-01-02 04:00:00  0.169063  0.056043"
      ]
     },
     "execution_count": 9,
     "metadata": {},
     "output_type": "execute_result"
    }
   ],
   "source": [
    "# For participants all things look mostly the same\n",
    "# The type of results are mostly of type PQResult, containing active and reactive power\n",
    "\n",
    "\n",
    "loads_res = participants_res.loads\n",
    "load_res = loads_res[list(loads_res.keys())[0]]\n",
    "load_res.data.head()"
   ]
  },
  {
   "cell_type": "code",
   "execution_count": null,
   "metadata": {},
   "outputs": [
    {
     "data": {
      "text/html": [
       "<div>\n",
       "<style scoped>\n",
       "    .dataframe tbody tr th:only-of-type {\n",
       "        vertical-align: middle;\n",
       "    }\n",
       "\n",
       "    .dataframe tbody tr th {\n",
       "        vertical-align: top;\n",
       "    }\n",
       "\n",
       "    .dataframe thead th {\n",
       "        text-align: right;\n",
       "    }\n",
       "</style>\n",
       "<table border=\"1\" class=\"dataframe\">\n",
       "  <thead>\n",
       "    <tr style=\"text-align: right;\">\n",
       "      <th></th>\n",
       "      <th>p</th>\n",
       "      <th>q</th>\n",
       "    </tr>\n",
       "    <tr>\n",
       "      <th>time</th>\n",
       "      <th></th>\n",
       "      <th></th>\n",
       "    </tr>\n",
       "  </thead>\n",
       "  <tbody>\n",
       "    <tr>\n",
       "      <th>2016-01-02 00:00:00</th>\n",
       "      <td>0.093124</td>\n",
       "      <td>0.033244</td>\n",
       "    </tr>\n",
       "    <tr>\n",
       "      <th>2016-01-02 01:00:00</th>\n",
       "      <td>0.084232</td>\n",
       "      <td>0.029093</td>\n",
       "    </tr>\n",
       "    <tr>\n",
       "      <th>2016-01-02 02:00:00</th>\n",
       "      <td>0.186671</td>\n",
       "      <td>0.062597</td>\n",
       "    </tr>\n",
       "    <tr>\n",
       "      <th>2016-01-02 03:00:00</th>\n",
       "      <td>0.149893</td>\n",
       "      <td>0.051081</td>\n",
       "    </tr>\n",
       "    <tr>\n",
       "      <th>2016-01-02 04:00:00</th>\n",
       "      <td>0.202280</td>\n",
       "      <td>0.071568</td>\n",
       "    </tr>\n",
       "  </tbody>\n",
       "</table>\n",
       "</div>"
      ],
      "text/plain": [
       "                            p         q\n",
       "time                                   \n",
       "2016-01-02 00:00:00  0.093124  0.033244\n",
       "2016-01-02 01:00:00  0.084232  0.029093\n",
       "2016-01-02 02:00:00  0.186671  0.062597\n",
       "2016-01-02 03:00:00  0.149893  0.051081\n",
       "2016-01-02 04:00:00  0.202280  0.071568"
      ]
     },
     "execution_count": 10,
     "metadata": {},
     "output_type": "execute_result"
    }
   ],
   "source": [
    "# There are calculation utilities implemented where it makes sense\n",
    "load_res2 = loads_res[list(loads_res.keys())[1]]\n",
    "load_sum = load_res + load_res2\n",
    "load_sum.data.head()"
   ]
  },
  {
   "cell_type": "code",
   "execution_count": null,
   "metadata": {},
   "outputs": [
    {
     "data": {
      "text/html": [
       "<div>\n",
       "<style scoped>\n",
       "    .dataframe tbody tr th:only-of-type {\n",
       "        vertical-align: middle;\n",
       "    }\n",
       "\n",
       "    .dataframe tbody tr th {\n",
       "        vertical-align: top;\n",
       "    }\n",
       "\n",
       "    .dataframe thead th {\n",
       "        text-align: right;\n",
       "    }\n",
       "</style>\n",
       "<table border=\"1\" class=\"dataframe\">\n",
       "  <thead>\n",
       "    <tr style=\"text-align: right;\">\n",
       "      <th></th>\n",
       "      <th>p</th>\n",
       "      <th>q</th>\n",
       "    </tr>\n",
       "    <tr>\n",
       "      <th>time</th>\n",
       "      <th></th>\n",
       "      <th></th>\n",
       "    </tr>\n",
       "  </thead>\n",
       "  <tbody>\n",
       "    <tr>\n",
       "      <th>2016-01-02 00:00:00</th>\n",
       "      <td>10.749625</td>\n",
       "      <td>3.744239</td>\n",
       "    </tr>\n",
       "    <tr>\n",
       "      <th>2016-01-02 01:00:00</th>\n",
       "      <td>9.165363</td>\n",
       "      <td>3.183876</td>\n",
       "    </tr>\n",
       "    <tr>\n",
       "      <th>2016-01-02 02:00:00</th>\n",
       "      <td>10.923088</td>\n",
       "      <td>3.587497</td>\n",
       "    </tr>\n",
       "    <tr>\n",
       "      <th>2016-01-02 03:00:00</th>\n",
       "      <td>10.960480</td>\n",
       "      <td>3.691865</td>\n",
       "    </tr>\n",
       "    <tr>\n",
       "      <th>2016-01-02 04:00:00</th>\n",
       "      <td>12.256203</td>\n",
       "      <td>4.184011</td>\n",
       "    </tr>\n",
       "  </tbody>\n",
       "</table>\n",
       "</div>"
      ],
      "text/plain": [
       "                             p         q\n",
       "time                                    \n",
       "2016-01-02 00:00:00  10.749625  3.744239\n",
       "2016-01-02 01:00:00   9.165363  3.183876\n",
       "2016-01-02 02:00:00  10.923088  3.587497\n",
       "2016-01-02 03:00:00  10.960480  3.691865\n",
       "2016-01-02 04:00:00  12.256203  4.184011"
      ]
     },
     "execution_count": 11,
     "metadata": {},
     "output_type": "execute_result"
    }
   ],
   "source": [
    "# You can also calculate the sum for all participants\n",
    "total_loads_res = loads_res.sum()\n",
    "total_loads_res.data.head()"
   ]
  },
  {
   "cell_type": "code",
   "execution_count": null,
   "metadata": {},
   "outputs": [
    {
     "data": {
      "text/html": [
       "<div>\n",
       "<style scoped>\n",
       "    .dataframe tbody tr th:only-of-type {\n",
       "        vertical-align: middle;\n",
       "    }\n",
       "\n",
       "    .dataframe tbody tr th {\n",
       "        vertical-align: top;\n",
       "    }\n",
       "\n",
       "    .dataframe thead th {\n",
       "        text-align: right;\n",
       "    }\n",
       "</style>\n",
       "<table border=\"1\" class=\"dataframe\">\n",
       "  <thead>\n",
       "    <tr style=\"text-align: right;\">\n",
       "      <th></th>\n",
       "      <th>MV3.101 Load 35</th>\n",
       "      <th>MV3.101 Load 128</th>\n",
       "      <th>MV3.101 Load 32</th>\n",
       "      <th>MV3.101 Load 4</th>\n",
       "      <th>MV3.101 Load 102</th>\n",
       "      <th>MV3.101 Load 9</th>\n",
       "      <th>MV3.101 Load 127</th>\n",
       "      <th>MV3.101 Load 39</th>\n",
       "      <th>MV3.101 Load 30</th>\n",
       "      <th>MV3.101 Load 57</th>\n",
       "      <th>...</th>\n",
       "      <th>MV3.101 Load 124</th>\n",
       "      <th>MV3.101 MV Load 4</th>\n",
       "      <th>MV3.101 Load 41</th>\n",
       "      <th>MV3.101 Load 56</th>\n",
       "      <th>MV3.101 Load 22</th>\n",
       "      <th>MV3.101 Load 75</th>\n",
       "      <th>MV3.101 Load 83</th>\n",
       "      <th>MV3.101 Load 126</th>\n",
       "      <th>MV3.101 Load 132</th>\n",
       "      <th>MV3.101 Load 99</th>\n",
       "    </tr>\n",
       "    <tr>\n",
       "      <th>time</th>\n",
       "      <th></th>\n",
       "      <th></th>\n",
       "      <th></th>\n",
       "      <th></th>\n",
       "      <th></th>\n",
       "      <th></th>\n",
       "      <th></th>\n",
       "      <th></th>\n",
       "      <th></th>\n",
       "      <th></th>\n",
       "      <th></th>\n",
       "      <th></th>\n",
       "      <th></th>\n",
       "      <th></th>\n",
       "      <th></th>\n",
       "      <th></th>\n",
       "      <th></th>\n",
       "      <th></th>\n",
       "      <th></th>\n",
       "      <th></th>\n",
       "      <th></th>\n",
       "    </tr>\n",
       "  </thead>\n",
       "  <tbody>\n",
       "    <tr>\n",
       "      <th>2016-01-02 00:00:00</th>\n",
       "      <td>0.062105</td>\n",
       "      <td>0.031019</td>\n",
       "      <td>0.059087</td>\n",
       "      <td>0.059715</td>\n",
       "      <td>0.121197</td>\n",
       "      <td>0.043861</td>\n",
       "      <td>0.166768</td>\n",
       "      <td>0.005233</td>\n",
       "      <td>0.002842</td>\n",
       "      <td>0.042601</td>\n",
       "      <td>...</td>\n",
       "      <td>0.062863</td>\n",
       "      <td>0.009084</td>\n",
       "      <td>0.038872</td>\n",
       "      <td>0.096683</td>\n",
       "      <td>0.006709</td>\n",
       "      <td>0.076917</td>\n",
       "      <td>0.036702</td>\n",
       "      <td>0.033934</td>\n",
       "      <td>0.130073</td>\n",
       "      <td>0.092343</td>\n",
       "    </tr>\n",
       "    <tr>\n",
       "      <th>2016-01-02 01:00:00</th>\n",
       "      <td>0.061128</td>\n",
       "      <td>0.023104</td>\n",
       "      <td>0.028263</td>\n",
       "      <td>0.025887</td>\n",
       "      <td>0.100505</td>\n",
       "      <td>0.020536</td>\n",
       "      <td>0.148216</td>\n",
       "      <td>0.004820</td>\n",
       "      <td>0.002067</td>\n",
       "      <td>0.028449</td>\n",
       "      <td>...</td>\n",
       "      <td>0.043455</td>\n",
       "      <td>0.008364</td>\n",
       "      <td>0.039517</td>\n",
       "      <td>0.122517</td>\n",
       "      <td>0.007095</td>\n",
       "      <td>0.022330</td>\n",
       "      <td>0.032585</td>\n",
       "      <td>0.027471</td>\n",
       "      <td>0.116319</td>\n",
       "      <td>0.088498</td>\n",
       "    </tr>\n",
       "    <tr>\n",
       "      <th>2016-01-02 02:00:00</th>\n",
       "      <td>0.163112</td>\n",
       "      <td>0.023559</td>\n",
       "      <td>0.052578</td>\n",
       "      <td>0.089279</td>\n",
       "      <td>0.140857</td>\n",
       "      <td>0.022141</td>\n",
       "      <td>0.136638</td>\n",
       "      <td>0.011962</td>\n",
       "      <td>0.001951</td>\n",
       "      <td>0.048417</td>\n",
       "      <td>...</td>\n",
       "      <td>0.038899</td>\n",
       "      <td>0.007680</td>\n",
       "      <td>0.099994</td>\n",
       "      <td>0.209310</td>\n",
       "      <td>0.004764</td>\n",
       "      <td>0.080061</td>\n",
       "      <td>0.072743</td>\n",
       "      <td>0.026022</td>\n",
       "      <td>0.147758</td>\n",
       "      <td>0.080287</td>\n",
       "    </tr>\n",
       "    <tr>\n",
       "      <th>2016-01-02 03:00:00</th>\n",
       "      <td>0.122642</td>\n",
       "      <td>0.027250</td>\n",
       "      <td>0.048580</td>\n",
       "      <td>0.087788</td>\n",
       "      <td>0.149137</td>\n",
       "      <td>0.019354</td>\n",
       "      <td>0.153837</td>\n",
       "      <td>0.003419</td>\n",
       "      <td>0.001755</td>\n",
       "      <td>0.046959</td>\n",
       "      <td>...</td>\n",
       "      <td>0.042460</td>\n",
       "      <td>0.008035</td>\n",
       "      <td>0.072749</td>\n",
       "      <td>0.139747</td>\n",
       "      <td>0.004254</td>\n",
       "      <td>0.096344</td>\n",
       "      <td>0.057790</td>\n",
       "      <td>0.024603</td>\n",
       "      <td>0.113026</td>\n",
       "      <td>0.085756</td>\n",
       "    </tr>\n",
       "    <tr>\n",
       "      <th>2016-01-02 04:00:00</th>\n",
       "      <td>0.169063</td>\n",
       "      <td>0.033218</td>\n",
       "      <td>0.096387</td>\n",
       "      <td>0.093685</td>\n",
       "      <td>0.150302</td>\n",
       "      <td>0.030949</td>\n",
       "      <td>0.148948</td>\n",
       "      <td>0.014216</td>\n",
       "      <td>0.003455</td>\n",
       "      <td>0.108787</td>\n",
       "      <td>...</td>\n",
       "      <td>0.079728</td>\n",
       "      <td>0.008187</td>\n",
       "      <td>0.088585</td>\n",
       "      <td>0.139447</td>\n",
       "      <td>0.007080</td>\n",
       "      <td>0.092410</td>\n",
       "      <td>0.054426</td>\n",
       "      <td>0.023448</td>\n",
       "      <td>0.113710</td>\n",
       "      <td>0.104972</td>\n",
       "    </tr>\n",
       "  </tbody>\n",
       "</table>\n",
       "<p>5 rows × 139 columns</p>\n",
       "</div>"
      ],
      "text/plain": [
       "                     MV3.101 Load 35  MV3.101 Load 128  MV3.101 Load 32  \\\n",
       "time                                                                      \n",
       "2016-01-02 00:00:00         0.062105          0.031019         0.059087   \n",
       "2016-01-02 01:00:00         0.061128          0.023104         0.028263   \n",
       "2016-01-02 02:00:00         0.163112          0.023559         0.052578   \n",
       "2016-01-02 03:00:00         0.122642          0.027250         0.048580   \n",
       "2016-01-02 04:00:00         0.169063          0.033218         0.096387   \n",
       "\n",
       "                     MV3.101 Load 4  MV3.101 Load 102  MV3.101 Load 9  \\\n",
       "time                                                                    \n",
       "2016-01-02 00:00:00        0.059715          0.121197        0.043861   \n",
       "2016-01-02 01:00:00        0.025887          0.100505        0.020536   \n",
       "2016-01-02 02:00:00        0.089279          0.140857        0.022141   \n",
       "2016-01-02 03:00:00        0.087788          0.149137        0.019354   \n",
       "2016-01-02 04:00:00        0.093685          0.150302        0.030949   \n",
       "\n",
       "                     MV3.101 Load 127  MV3.101 Load 39  MV3.101 Load 30  \\\n",
       "time                                                                      \n",
       "2016-01-02 00:00:00          0.166768         0.005233         0.002842   \n",
       "2016-01-02 01:00:00          0.148216         0.004820         0.002067   \n",
       "2016-01-02 02:00:00          0.136638         0.011962         0.001951   \n",
       "2016-01-02 03:00:00          0.153837         0.003419         0.001755   \n",
       "2016-01-02 04:00:00          0.148948         0.014216         0.003455   \n",
       "\n",
       "                     MV3.101 Load 57  ...  MV3.101 Load 124  \\\n",
       "time                                  ...                     \n",
       "2016-01-02 00:00:00         0.042601  ...          0.062863   \n",
       "2016-01-02 01:00:00         0.028449  ...          0.043455   \n",
       "2016-01-02 02:00:00         0.048417  ...          0.038899   \n",
       "2016-01-02 03:00:00         0.046959  ...          0.042460   \n",
       "2016-01-02 04:00:00         0.108787  ...          0.079728   \n",
       "\n",
       "                     MV3.101 MV Load 4  MV3.101 Load 41  MV3.101 Load 56  \\\n",
       "time                                                                       \n",
       "2016-01-02 00:00:00           0.009084         0.038872         0.096683   \n",
       "2016-01-02 01:00:00           0.008364         0.039517         0.122517   \n",
       "2016-01-02 02:00:00           0.007680         0.099994         0.209310   \n",
       "2016-01-02 03:00:00           0.008035         0.072749         0.139747   \n",
       "2016-01-02 04:00:00           0.008187         0.088585         0.139447   \n",
       "\n",
       "                     MV3.101 Load 22  MV3.101 Load 75  MV3.101 Load 83  \\\n",
       "time                                                                     \n",
       "2016-01-02 00:00:00         0.006709         0.076917         0.036702   \n",
       "2016-01-02 01:00:00         0.007095         0.022330         0.032585   \n",
       "2016-01-02 02:00:00         0.004764         0.080061         0.072743   \n",
       "2016-01-02 03:00:00         0.004254         0.096344         0.057790   \n",
       "2016-01-02 04:00:00         0.007080         0.092410         0.054426   \n",
       "\n",
       "                     MV3.101 Load 126  MV3.101 Load 132  MV3.101 Load 99  \n",
       "time                                                                      \n",
       "2016-01-02 00:00:00          0.033934          0.130073         0.092343  \n",
       "2016-01-02 01:00:00          0.027471          0.116319         0.088498  \n",
       "2016-01-02 02:00:00          0.026022          0.147758         0.080287  \n",
       "2016-01-02 03:00:00          0.024603          0.113026         0.085756  \n",
       "2016-01-02 04:00:00          0.023448          0.113710         0.104972  \n",
       "\n",
       "[5 rows x 139 columns]"
      ]
     },
     "execution_count": 12,
     "metadata": {},
     "output_type": "execute_result"
    }
   ],
   "source": [
    "# If you care about a specific attribute of all entities in a result dict you can assemble\n",
    "# a data frame with all time series of all entities in the dict\n",
    "loads_res_p = loads_res.p().head()\n",
    "loads_res_p"
   ]
  },
  {
   "cell_type": "code",
   "execution_count": null,
   "metadata": {},
   "outputs": [
    {
     "data": {
      "text/html": [
       "<div>\n",
       "<style scoped>\n",
       "    .dataframe tbody tr th:only-of-type {\n",
       "        vertical-align: middle;\n",
       "    }\n",
       "\n",
       "    .dataframe tbody tr th {\n",
       "        vertical-align: top;\n",
       "    }\n",
       "\n",
       "    .dataframe thead th {\n",
       "        text-align: right;\n",
       "    }\n",
       "</style>\n",
       "<table border=\"1\" class=\"dataframe\">\n",
       "  <thead>\n",
       "    <tr style=\"text-align: right;\">\n",
       "      <th></th>\n",
       "      <th>0014e974-d490-4a1c-96e2-23d0e523b104</th>\n",
       "      <th>02a26927-da09-410f-8452-903177ef645b</th>\n",
       "      <th>05bdcb09-d1b4-4a30-b06a-b26d543d6929</th>\n",
       "      <th>07ff3b74-bda4-4a30-9584-3daa033068bb</th>\n",
       "      <th>095d4836-9075-49c1-bb2b-447db22fcb22</th>\n",
       "      <th>0acbb234-af80-44b3-8c5a-cff35e3bd7ac</th>\n",
       "      <th>0df30eab-565f-4184-8404-c33f80a3d1a6</th>\n",
       "      <th>0e64c305-f846-4bd4-8898-fbd833469bde</th>\n",
       "      <th>0ec9fd06-f5db-423c-96f1-03ddb88b9491</th>\n",
       "      <th>1199d1f7-22ae-47ad-91b4-e89c9f8fd16f</th>\n",
       "      <th>...</th>\n",
       "      <th>eecfdcb5-b327-48e3-a525-832d0209e7b8</th>\n",
       "      <th>f06c94f9-5ee5-4e60-bc20-3a2f62699f4d</th>\n",
       "      <th>f0b13ceb-da8a-4767-a441-d36980c15b72</th>\n",
       "      <th>f2447245-8a45-4980-8498-cf471d886365</th>\n",
       "      <th>f251d2a7-f131-4614-b906-418fa5750765</th>\n",
       "      <th>f2704836-9871-4f0d-8e62-433f2c95ede4</th>\n",
       "      <th>f2840dba-9c0c-48e9-b5b0-a25499ae51dd</th>\n",
       "      <th>f4d3b235-5403-4188-88a1-94b80dfa53b8</th>\n",
       "      <th>f6204e43-1cfd-4cd8-91b2-3846a980154f</th>\n",
       "      <th>ff389df3-f90d-41ef-b967-d92c0a51e918</th>\n",
       "    </tr>\n",
       "    <tr>\n",
       "      <th>time</th>\n",
       "      <th></th>\n",
       "      <th></th>\n",
       "      <th></th>\n",
       "      <th></th>\n",
       "      <th></th>\n",
       "      <th></th>\n",
       "      <th></th>\n",
       "      <th></th>\n",
       "      <th></th>\n",
       "      <th></th>\n",
       "      <th></th>\n",
       "      <th></th>\n",
       "      <th></th>\n",
       "      <th></th>\n",
       "      <th></th>\n",
       "      <th></th>\n",
       "      <th></th>\n",
       "      <th></th>\n",
       "      <th></th>\n",
       "      <th></th>\n",
       "      <th></th>\n",
       "    </tr>\n",
       "  </thead>\n",
       "  <tbody>\n",
       "    <tr>\n",
       "      <th>2016-01-02 00:00:00</th>\n",
       "      <td>0.062105</td>\n",
       "      <td>0.031019</td>\n",
       "      <td>0.059087</td>\n",
       "      <td>0.059715</td>\n",
       "      <td>0.121197</td>\n",
       "      <td>0.043861</td>\n",
       "      <td>0.166768</td>\n",
       "      <td>0.005233</td>\n",
       "      <td>0.002842</td>\n",
       "      <td>0.042601</td>\n",
       "      <td>...</td>\n",
       "      <td>0.062863</td>\n",
       "      <td>0.009084</td>\n",
       "      <td>0.038872</td>\n",
       "      <td>0.096683</td>\n",
       "      <td>0.006709</td>\n",
       "      <td>0.076917</td>\n",
       "      <td>0.036702</td>\n",
       "      <td>0.033934</td>\n",
       "      <td>0.130073</td>\n",
       "      <td>0.092343</td>\n",
       "    </tr>\n",
       "    <tr>\n",
       "      <th>2016-01-02 01:00:00</th>\n",
       "      <td>0.061128</td>\n",
       "      <td>0.023104</td>\n",
       "      <td>0.028263</td>\n",
       "      <td>0.025887</td>\n",
       "      <td>0.100505</td>\n",
       "      <td>0.020536</td>\n",
       "      <td>0.148216</td>\n",
       "      <td>0.004820</td>\n",
       "      <td>0.002067</td>\n",
       "      <td>0.028449</td>\n",
       "      <td>...</td>\n",
       "      <td>0.043455</td>\n",
       "      <td>0.008364</td>\n",
       "      <td>0.039517</td>\n",
       "      <td>0.122517</td>\n",
       "      <td>0.007095</td>\n",
       "      <td>0.022330</td>\n",
       "      <td>0.032585</td>\n",
       "      <td>0.027471</td>\n",
       "      <td>0.116319</td>\n",
       "      <td>0.088498</td>\n",
       "    </tr>\n",
       "    <tr>\n",
       "      <th>2016-01-02 02:00:00</th>\n",
       "      <td>0.163112</td>\n",
       "      <td>0.023559</td>\n",
       "      <td>0.052578</td>\n",
       "      <td>0.089279</td>\n",
       "      <td>0.140857</td>\n",
       "      <td>0.022141</td>\n",
       "      <td>0.136638</td>\n",
       "      <td>0.011962</td>\n",
       "      <td>0.001951</td>\n",
       "      <td>0.048417</td>\n",
       "      <td>...</td>\n",
       "      <td>0.038899</td>\n",
       "      <td>0.007680</td>\n",
       "      <td>0.099994</td>\n",
       "      <td>0.209310</td>\n",
       "      <td>0.004764</td>\n",
       "      <td>0.080061</td>\n",
       "      <td>0.072743</td>\n",
       "      <td>0.026022</td>\n",
       "      <td>0.147758</td>\n",
       "      <td>0.080287</td>\n",
       "    </tr>\n",
       "    <tr>\n",
       "      <th>2016-01-02 03:00:00</th>\n",
       "      <td>0.122642</td>\n",
       "      <td>0.027250</td>\n",
       "      <td>0.048580</td>\n",
       "      <td>0.087788</td>\n",
       "      <td>0.149137</td>\n",
       "      <td>0.019354</td>\n",
       "      <td>0.153837</td>\n",
       "      <td>0.003419</td>\n",
       "      <td>0.001755</td>\n",
       "      <td>0.046959</td>\n",
       "      <td>...</td>\n",
       "      <td>0.042460</td>\n",
       "      <td>0.008035</td>\n",
       "      <td>0.072749</td>\n",
       "      <td>0.139747</td>\n",
       "      <td>0.004254</td>\n",
       "      <td>0.096344</td>\n",
       "      <td>0.057790</td>\n",
       "      <td>0.024603</td>\n",
       "      <td>0.113026</td>\n",
       "      <td>0.085756</td>\n",
       "    </tr>\n",
       "    <tr>\n",
       "      <th>2016-01-02 04:00:00</th>\n",
       "      <td>0.169063</td>\n",
       "      <td>0.033218</td>\n",
       "      <td>0.096387</td>\n",
       "      <td>0.093685</td>\n",
       "      <td>0.150302</td>\n",
       "      <td>0.030949</td>\n",
       "      <td>0.148948</td>\n",
       "      <td>0.014216</td>\n",
       "      <td>0.003455</td>\n",
       "      <td>0.108787</td>\n",
       "      <td>...</td>\n",
       "      <td>0.079728</td>\n",
       "      <td>0.008187</td>\n",
       "      <td>0.088585</td>\n",
       "      <td>0.139447</td>\n",
       "      <td>0.007080</td>\n",
       "      <td>0.092410</td>\n",
       "      <td>0.054426</td>\n",
       "      <td>0.023448</td>\n",
       "      <td>0.113710</td>\n",
       "      <td>0.104972</td>\n",
       "    </tr>\n",
       "  </tbody>\n",
       "</table>\n",
       "<p>5 rows × 139 columns</p>\n",
       "</div>"
      ],
      "text/plain": [
       "                     0014e974-d490-4a1c-96e2-23d0e523b104  \\\n",
       "time                                                        \n",
       "2016-01-02 00:00:00                              0.062105   \n",
       "2016-01-02 01:00:00                              0.061128   \n",
       "2016-01-02 02:00:00                              0.163112   \n",
       "2016-01-02 03:00:00                              0.122642   \n",
       "2016-01-02 04:00:00                              0.169063   \n",
       "\n",
       "                     02a26927-da09-410f-8452-903177ef645b  \\\n",
       "time                                                        \n",
       "2016-01-02 00:00:00                              0.031019   \n",
       "2016-01-02 01:00:00                              0.023104   \n",
       "2016-01-02 02:00:00                              0.023559   \n",
       "2016-01-02 03:00:00                              0.027250   \n",
       "2016-01-02 04:00:00                              0.033218   \n",
       "\n",
       "                     05bdcb09-d1b4-4a30-b06a-b26d543d6929  \\\n",
       "time                                                        \n",
       "2016-01-02 00:00:00                              0.059087   \n",
       "2016-01-02 01:00:00                              0.028263   \n",
       "2016-01-02 02:00:00                              0.052578   \n",
       "2016-01-02 03:00:00                              0.048580   \n",
       "2016-01-02 04:00:00                              0.096387   \n",
       "\n",
       "                     07ff3b74-bda4-4a30-9584-3daa033068bb  \\\n",
       "time                                                        \n",
       "2016-01-02 00:00:00                              0.059715   \n",
       "2016-01-02 01:00:00                              0.025887   \n",
       "2016-01-02 02:00:00                              0.089279   \n",
       "2016-01-02 03:00:00                              0.087788   \n",
       "2016-01-02 04:00:00                              0.093685   \n",
       "\n",
       "                     095d4836-9075-49c1-bb2b-447db22fcb22  \\\n",
       "time                                                        \n",
       "2016-01-02 00:00:00                              0.121197   \n",
       "2016-01-02 01:00:00                              0.100505   \n",
       "2016-01-02 02:00:00                              0.140857   \n",
       "2016-01-02 03:00:00                              0.149137   \n",
       "2016-01-02 04:00:00                              0.150302   \n",
       "\n",
       "                     0acbb234-af80-44b3-8c5a-cff35e3bd7ac  \\\n",
       "time                                                        \n",
       "2016-01-02 00:00:00                              0.043861   \n",
       "2016-01-02 01:00:00                              0.020536   \n",
       "2016-01-02 02:00:00                              0.022141   \n",
       "2016-01-02 03:00:00                              0.019354   \n",
       "2016-01-02 04:00:00                              0.030949   \n",
       "\n",
       "                     0df30eab-565f-4184-8404-c33f80a3d1a6  \\\n",
       "time                                                        \n",
       "2016-01-02 00:00:00                              0.166768   \n",
       "2016-01-02 01:00:00                              0.148216   \n",
       "2016-01-02 02:00:00                              0.136638   \n",
       "2016-01-02 03:00:00                              0.153837   \n",
       "2016-01-02 04:00:00                              0.148948   \n",
       "\n",
       "                     0e64c305-f846-4bd4-8898-fbd833469bde  \\\n",
       "time                                                        \n",
       "2016-01-02 00:00:00                              0.005233   \n",
       "2016-01-02 01:00:00                              0.004820   \n",
       "2016-01-02 02:00:00                              0.011962   \n",
       "2016-01-02 03:00:00                              0.003419   \n",
       "2016-01-02 04:00:00                              0.014216   \n",
       "\n",
       "                     0ec9fd06-f5db-423c-96f1-03ddb88b9491  \\\n",
       "time                                                        \n",
       "2016-01-02 00:00:00                              0.002842   \n",
       "2016-01-02 01:00:00                              0.002067   \n",
       "2016-01-02 02:00:00                              0.001951   \n",
       "2016-01-02 03:00:00                              0.001755   \n",
       "2016-01-02 04:00:00                              0.003455   \n",
       "\n",
       "                     1199d1f7-22ae-47ad-91b4-e89c9f8fd16f  ...  \\\n",
       "time                                                       ...   \n",
       "2016-01-02 00:00:00                              0.042601  ...   \n",
       "2016-01-02 01:00:00                              0.028449  ...   \n",
       "2016-01-02 02:00:00                              0.048417  ...   \n",
       "2016-01-02 03:00:00                              0.046959  ...   \n",
       "2016-01-02 04:00:00                              0.108787  ...   \n",
       "\n",
       "                     eecfdcb5-b327-48e3-a525-832d0209e7b8  \\\n",
       "time                                                        \n",
       "2016-01-02 00:00:00                              0.062863   \n",
       "2016-01-02 01:00:00                              0.043455   \n",
       "2016-01-02 02:00:00                              0.038899   \n",
       "2016-01-02 03:00:00                              0.042460   \n",
       "2016-01-02 04:00:00                              0.079728   \n",
       "\n",
       "                     f06c94f9-5ee5-4e60-bc20-3a2f62699f4d  \\\n",
       "time                                                        \n",
       "2016-01-02 00:00:00                              0.009084   \n",
       "2016-01-02 01:00:00                              0.008364   \n",
       "2016-01-02 02:00:00                              0.007680   \n",
       "2016-01-02 03:00:00                              0.008035   \n",
       "2016-01-02 04:00:00                              0.008187   \n",
       "\n",
       "                     f0b13ceb-da8a-4767-a441-d36980c15b72  \\\n",
       "time                                                        \n",
       "2016-01-02 00:00:00                              0.038872   \n",
       "2016-01-02 01:00:00                              0.039517   \n",
       "2016-01-02 02:00:00                              0.099994   \n",
       "2016-01-02 03:00:00                              0.072749   \n",
       "2016-01-02 04:00:00                              0.088585   \n",
       "\n",
       "                     f2447245-8a45-4980-8498-cf471d886365  \\\n",
       "time                                                        \n",
       "2016-01-02 00:00:00                              0.096683   \n",
       "2016-01-02 01:00:00                              0.122517   \n",
       "2016-01-02 02:00:00                              0.209310   \n",
       "2016-01-02 03:00:00                              0.139747   \n",
       "2016-01-02 04:00:00                              0.139447   \n",
       "\n",
       "                     f251d2a7-f131-4614-b906-418fa5750765  \\\n",
       "time                                                        \n",
       "2016-01-02 00:00:00                              0.006709   \n",
       "2016-01-02 01:00:00                              0.007095   \n",
       "2016-01-02 02:00:00                              0.004764   \n",
       "2016-01-02 03:00:00                              0.004254   \n",
       "2016-01-02 04:00:00                              0.007080   \n",
       "\n",
       "                     f2704836-9871-4f0d-8e62-433f2c95ede4  \\\n",
       "time                                                        \n",
       "2016-01-02 00:00:00                              0.076917   \n",
       "2016-01-02 01:00:00                              0.022330   \n",
       "2016-01-02 02:00:00                              0.080061   \n",
       "2016-01-02 03:00:00                              0.096344   \n",
       "2016-01-02 04:00:00                              0.092410   \n",
       "\n",
       "                     f2840dba-9c0c-48e9-b5b0-a25499ae51dd  \\\n",
       "time                                                        \n",
       "2016-01-02 00:00:00                              0.036702   \n",
       "2016-01-02 01:00:00                              0.032585   \n",
       "2016-01-02 02:00:00                              0.072743   \n",
       "2016-01-02 03:00:00                              0.057790   \n",
       "2016-01-02 04:00:00                              0.054426   \n",
       "\n",
       "                     f4d3b235-5403-4188-88a1-94b80dfa53b8  \\\n",
       "time                                                        \n",
       "2016-01-02 00:00:00                              0.033934   \n",
       "2016-01-02 01:00:00                              0.027471   \n",
       "2016-01-02 02:00:00                              0.026022   \n",
       "2016-01-02 03:00:00                              0.024603   \n",
       "2016-01-02 04:00:00                              0.023448   \n",
       "\n",
       "                     f6204e43-1cfd-4cd8-91b2-3846a980154f  \\\n",
       "time                                                        \n",
       "2016-01-02 00:00:00                              0.130073   \n",
       "2016-01-02 01:00:00                              0.116319   \n",
       "2016-01-02 02:00:00                              0.147758   \n",
       "2016-01-02 03:00:00                              0.113026   \n",
       "2016-01-02 04:00:00                              0.113710   \n",
       "\n",
       "                     ff389df3-f90d-41ef-b967-d92c0a51e918  \n",
       "time                                                       \n",
       "2016-01-02 00:00:00                              0.092343  \n",
       "2016-01-02 01:00:00                              0.088498  \n",
       "2016-01-02 02:00:00                              0.080287  \n",
       "2016-01-02 03:00:00                              0.085756  \n",
       "2016-01-02 04:00:00                              0.104972  \n",
       "\n",
       "[5 rows x 139 columns]"
      ]
     },
     "execution_count": 13,
     "metadata": {},
     "output_type": "execute_result"
    }
   ],
   "source": [
    "# By default the data frame uses the ids of the loads if available instead of the uuids.\n",
    "# You can change this behavior with the favor_ids argument\n",
    "loads_res_p = loads_res.p(favor_ids=False).head()\n",
    "loads_res_p"
   ]
  },
  {
   "cell_type": "markdown",
   "metadata": {},
   "source": [
    "## Nodal Results\n",
    "\n",
    "Often times we care about nodal results, so the net load and generation at individual\n",
    "nodes. Therefore, we include a special data model `ExtendedNodesResult` which is\n",
    "calculated by summing up the results of all connected participants at the individual nodes.\n"
   ]
  },
  {
   "cell_type": "code",
   "execution_count": null,
   "metadata": {},
   "outputs": [
    {
     "data": {
      "text/html": [
       "<div>\n",
       "<style scoped>\n",
       "    .dataframe tbody tr th:only-of-type {\n",
       "        vertical-align: middle;\n",
       "    }\n",
       "\n",
       "    .dataframe tbody tr th {\n",
       "        vertical-align: top;\n",
       "    }\n",
       "\n",
       "    .dataframe thead th {\n",
       "        text-align: right;\n",
       "    }\n",
       "</style>\n",
       "<table border=\"1\" class=\"dataframe\">\n",
       "  <thead>\n",
       "    <tr style=\"text-align: right;\">\n",
       "      <th></th>\n",
       "      <th>v_ang</th>\n",
       "      <th>v_mag</th>\n",
       "      <th>p</th>\n",
       "      <th>q</th>\n",
       "    </tr>\n",
       "    <tr>\n",
       "      <th>time</th>\n",
       "      <th></th>\n",
       "      <th></th>\n",
       "      <th></th>\n",
       "      <th></th>\n",
       "    </tr>\n",
       "  </thead>\n",
       "  <tbody>\n",
       "    <tr>\n",
       "      <th>2016-01-02 00:00:00</th>\n",
       "      <td>-2.131056</td>\n",
       "      <td>1.020498</td>\n",
       "      <td>0.223068</td>\n",
       "      <td>0.099645</td>\n",
       "    </tr>\n",
       "    <tr>\n",
       "      <th>2016-01-02 01:00:00</th>\n",
       "      <td>-2.008640</td>\n",
       "      <td>1.021802</td>\n",
       "      <td>0.199644</td>\n",
       "      <td>0.090745</td>\n",
       "    </tr>\n",
       "    <tr>\n",
       "      <th>2016-01-02 02:00:00</th>\n",
       "      <td>-1.697719</td>\n",
       "      <td>1.024779</td>\n",
       "      <td>0.184939</td>\n",
       "      <td>0.085148</td>\n",
       "    </tr>\n",
       "    <tr>\n",
       "      <th>2016-01-02 03:00:00</th>\n",
       "      <td>-2.042256</td>\n",
       "      <td>1.021914</td>\n",
       "      <td>0.207742</td>\n",
       "      <td>0.092404</td>\n",
       "    </tr>\n",
       "    <tr>\n",
       "      <th>2016-01-02 04:00:00</th>\n",
       "      <td>-2.044741</td>\n",
       "      <td>1.021885</td>\n",
       "      <td>0.195353</td>\n",
       "      <td>0.088521</td>\n",
       "    </tr>\n",
       "  </tbody>\n",
       "</table>\n",
       "</div>"
      ],
      "text/plain": [
       "                        v_ang     v_mag         p         q\n",
       "time                                                       \n",
       "2016-01-02 00:00:00 -2.131056  1.020498  0.223068  0.099645\n",
       "2016-01-02 01:00:00 -2.008640  1.021802  0.199644  0.090745\n",
       "2016-01-02 02:00:00 -1.697719  1.024779  0.184939  0.085148\n",
       "2016-01-02 03:00:00 -2.042256  1.021914  0.207742  0.092404\n",
       "2016-01-02 04:00:00 -2.044741  1.021885  0.195353  0.088521"
      ]
     },
     "execution_count": 14,
     "metadata": {},
     "output_type": "execute_result"
    }
   ],
   "source": [
    "# There is a method to calculate all of them\n",
    "nodal_results = gwr.build_extended_nodes_result()\n",
    "\n",
    "target_uuid = list(nodal_results.keys())[3]\n",
    "nodal_results[target_uuid].data.head()"
   ]
  },
  {
   "cell_type": "code",
   "execution_count": null,
   "metadata": {},
   "outputs": [
    {
     "data": {
      "text/html": [
       "<div>\n",
       "<style scoped>\n",
       "    .dataframe tbody tr th:only-of-type {\n",
       "        vertical-align: middle;\n",
       "    }\n",
       "\n",
       "    .dataframe tbody tr th {\n",
       "        vertical-align: top;\n",
       "    }\n",
       "\n",
       "    .dataframe thead th {\n",
       "        text-align: right;\n",
       "    }\n",
       "</style>\n",
       "<table border=\"1\" class=\"dataframe\">\n",
       "  <thead>\n",
       "    <tr style=\"text-align: right;\">\n",
       "      <th></th>\n",
       "      <th>MV3.101 Load 61</th>\n",
       "    </tr>\n",
       "    <tr>\n",
       "      <th>time</th>\n",
       "      <th></th>\n",
       "    </tr>\n",
       "  </thead>\n",
       "  <tbody>\n",
       "    <tr>\n",
       "      <th>2016-01-02 00:00:00</th>\n",
       "      <td>0.155059</td>\n",
       "    </tr>\n",
       "    <tr>\n",
       "      <th>2016-01-02 01:00:00</th>\n",
       "      <td>0.150625</td>\n",
       "    </tr>\n",
       "    <tr>\n",
       "      <th>2016-01-02 02:00:00</th>\n",
       "      <td>0.147085</td>\n",
       "    </tr>\n",
       "    <tr>\n",
       "      <th>2016-01-02 03:00:00</th>\n",
       "      <td>0.148944</td>\n",
       "    </tr>\n",
       "    <tr>\n",
       "      <th>2016-01-02 04:00:00</th>\n",
       "      <td>0.158602</td>\n",
       "    </tr>\n",
       "    <tr>\n",
       "      <th>...</th>\n",
       "      <td>...</td>\n",
       "    </tr>\n",
       "    <tr>\n",
       "      <th>2016-01-07 20:00:00</th>\n",
       "      <td>0.180501</td>\n",
       "    </tr>\n",
       "    <tr>\n",
       "      <th>2016-01-07 21:00:00</th>\n",
       "      <td>0.182086</td>\n",
       "    </tr>\n",
       "    <tr>\n",
       "      <th>2016-01-07 22:00:00</th>\n",
       "      <td>0.165844</td>\n",
       "    </tr>\n",
       "    <tr>\n",
       "      <th>2016-01-07 23:00:00</th>\n",
       "      <td>0.173837</td>\n",
       "    </tr>\n",
       "    <tr>\n",
       "      <th>2016-01-08 00:00:00</th>\n",
       "      <td>0.169217</td>\n",
       "    </tr>\n",
       "  </tbody>\n",
       "</table>\n",
       "<p>145 rows × 1 columns</p>\n",
       "</div>"
      ],
      "text/plain": [
       "                     MV3.101 Load 61\n",
       "time                                \n",
       "2016-01-02 00:00:00         0.155059\n",
       "2016-01-02 01:00:00         0.150625\n",
       "2016-01-02 02:00:00         0.147085\n",
       "2016-01-02 03:00:00         0.148944\n",
       "2016-01-02 04:00:00         0.158602\n",
       "...                              ...\n",
       "2016-01-07 20:00:00         0.180501\n",
       "2016-01-07 21:00:00         0.182086\n",
       "2016-01-07 22:00:00         0.165844\n",
       "2016-01-07 23:00:00         0.173837\n",
       "2016-01-08 00:00:00         0.169217\n",
       "\n",
       "[145 rows x 1 columns]"
      ]
     },
     "execution_count": 15,
     "metadata": {},
     "output_type": "execute_result"
    }
   ],
   "source": [
    "# If you care about the individual systems at each node, you can filter down the\n",
    "# result container to the systems connected to a specified node\n",
    "\n",
    "nodal_gwr = gwr.nodal_result(target_uuid)\n",
    "nodal_gwr.loads.p()"
   ]
  },
  {
   "cell_type": "code",
   "execution_count": null,
   "metadata": {},
   "outputs": [
    {
     "data": {
      "text/html": [
       "<div>\n",
       "<style scoped>\n",
       "    .dataframe tbody tr th:only-of-type {\n",
       "        vertical-align: middle;\n",
       "    }\n",
       "\n",
       "    .dataframe tbody tr th {\n",
       "        vertical-align: top;\n",
       "    }\n",
       "\n",
       "    .dataframe thead th {\n",
       "        text-align: right;\n",
       "    }\n",
       "</style>\n",
       "<table border=\"1\" class=\"dataframe\">\n",
       "  <thead>\n",
       "    <tr style=\"text-align: right;\">\n",
       "      <th></th>\n",
       "      <th>cos_phi_rated</th>\n",
       "      <th>dsm</th>\n",
       "      <th>e_cons_annual</th>\n",
       "      <th>id</th>\n",
       "      <th>load_profile</th>\n",
       "      <th>node</th>\n",
       "      <th>operates_from</th>\n",
       "      <th>operates_until</th>\n",
       "      <th>operator</th>\n",
       "      <th>q_characteristics</th>\n",
       "      <th>s_rated</th>\n",
       "    </tr>\n",
       "    <tr>\n",
       "      <th>uuid</th>\n",
       "      <th></th>\n",
       "      <th></th>\n",
       "      <th></th>\n",
       "      <th></th>\n",
       "      <th></th>\n",
       "      <th></th>\n",
       "      <th></th>\n",
       "      <th></th>\n",
       "      <th></th>\n",
       "      <th></th>\n",
       "      <th></th>\n",
       "    </tr>\n",
       "  </thead>\n",
       "  <tbody>\n",
       "    <tr>\n",
       "      <th>a0330517-9705-4d0a-bcaf-71f203cd6187</th>\n",
       "      <td>0.93</td>\n",
       "      <td>False</td>\n",
       "      <td>0.0</td>\n",
       "      <td>MV3.101 Load 61</td>\n",
       "      <td>No load profile assigned</td>\n",
       "      <td>090d13e8-3cce-4793-816f-4c50f23f3f7f</td>\n",
       "      <td>NaN</td>\n",
       "      <td>NaN</td>\n",
       "      <td>NaN</td>\n",
       "      <td>cosPhiFixed:{(0.0,0.93)}</td>\n",
       "      <td>668.0</td>\n",
       "    </tr>\n",
       "  </tbody>\n",
       "</table>\n",
       "</div>"
      ],
      "text/plain": [
       "                                      cos_phi_rated    dsm  e_cons_annual  \\\n",
       "uuid                                                                        \n",
       "a0330517-9705-4d0a-bcaf-71f203cd6187           0.93  False            0.0   \n",
       "\n",
       "                                                   id  \\\n",
       "uuid                                                    \n",
       "a0330517-9705-4d0a-bcaf-71f203cd6187  MV3.101 Load 61   \n",
       "\n",
       "                                                  load_profile  \\\n",
       "uuid                                                             \n",
       "a0330517-9705-4d0a-bcaf-71f203cd6187  No load profile assigned   \n",
       "\n",
       "                                                                      node  \\\n",
       "uuid                                                                         \n",
       "a0330517-9705-4d0a-bcaf-71f203cd6187  090d13e8-3cce-4793-816f-4c50f23f3f7f   \n",
       "\n",
       "                                      operates_from  operates_until  operator  \\\n",
       "uuid                                                                            \n",
       "a0330517-9705-4d0a-bcaf-71f203cd6187            NaN             NaN       NaN   \n",
       "\n",
       "                                             q_characteristics  s_rated  \n",
       "uuid                                                                     \n",
       "a0330517-9705-4d0a-bcaf-71f203cd6187  cosPhiFixed:{(0.0,0.93)}    668.0  "
      ]
     },
     "execution_count": 16,
     "metadata": {},
     "output_type": "execute_result"
    }
   ],
   "source": [
    "# Let's say you want to make sure that all the load is actually connected to the\n",
    "# node that we have filtered for\n",
    "load_uuids = list(nodal_gwr.loads.keys())\n",
    "\n",
    "# You can get a subset of the input data model via a list of uuids\n",
    "# Note that the `node` attribute confirms that indeed the load is connected\n",
    "# to the node we have filtered for\n",
    "gwr.loads.subset(load_uuids[0]).data"
   ]
  },
  {
   "cell_type": "markdown",
   "metadata": {},
   "source": [
    "## Line Results\n",
    "\n",
    "Here is some example for line results to analyse for line ratings etc."
   ]
  },
  {
   "cell_type": "code",
   "execution_count": null,
   "metadata": {},
   "outputs": [
    {
     "data": {
      "text/html": [
       "<div>\n",
       "<style scoped>\n",
       "    .dataframe tbody tr th:only-of-type {\n",
       "        vertical-align: middle;\n",
       "    }\n",
       "\n",
       "    .dataframe tbody tr th {\n",
       "        vertical-align: top;\n",
       "    }\n",
       "\n",
       "    .dataframe thead th {\n",
       "        text-align: right;\n",
       "    }\n",
       "</style>\n",
       "<table border=\"1\" class=\"dataframe\">\n",
       "  <thead>\n",
       "    <tr style=\"text-align: right;\">\n",
       "      <th></th>\n",
       "      <th>i_a_ang</th>\n",
       "      <th>i_a_mag</th>\n",
       "      <th>i_b_ang</th>\n",
       "      <th>i_b_mag</th>\n",
       "    </tr>\n",
       "    <tr>\n",
       "      <th>time</th>\n",
       "      <th></th>\n",
       "      <th></th>\n",
       "      <th></th>\n",
       "      <th></th>\n",
       "    </tr>\n",
       "  </thead>\n",
       "  <tbody>\n",
       "    <tr>\n",
       "      <th>2016-01-02 00:00:00</th>\n",
       "      <td>-16.907664</td>\n",
       "      <td>92.385576</td>\n",
       "      <td>162.980422</td>\n",
       "      <td>92.433464</td>\n",
       "    </tr>\n",
       "    <tr>\n",
       "      <th>2016-01-02 01:00:00</th>\n",
       "      <td>-16.605600</td>\n",
       "      <td>85.653368</td>\n",
       "      <td>163.273446</td>\n",
       "      <td>85.700759</td>\n",
       "    </tr>\n",
       "    <tr>\n",
       "      <th>2016-01-02 02:00:00</th>\n",
       "      <td>-16.931381</td>\n",
       "      <td>73.715509</td>\n",
       "      <td>162.928117</td>\n",
       "      <td>73.765059</td>\n",
       "    </tr>\n",
       "    <tr>\n",
       "      <th>2016-01-02 03:00:00</th>\n",
       "      <td>-14.665853</td>\n",
       "      <td>93.995163</td>\n",
       "      <td>165.222982</td>\n",
       "      <td>94.036282</td>\n",
       "    </tr>\n",
       "    <tr>\n",
       "      <th>2016-01-02 04:00:00</th>\n",
       "      <td>-14.757302</td>\n",
       "      <td>92.907599</td>\n",
       "      <td>165.130276</td>\n",
       "      <td>92.949001</td>\n",
       "    </tr>\n",
       "  </tbody>\n",
       "</table>\n",
       "</div>"
      ],
      "text/plain": [
       "                       i_a_ang    i_a_mag     i_b_ang    i_b_mag\n",
       "time                                                            \n",
       "2016-01-02 00:00:00 -16.907664  92.385576  162.980422  92.433464\n",
       "2016-01-02 01:00:00 -16.605600  85.653368  163.273446  85.700759\n",
       "2016-01-02 02:00:00 -16.931381  73.715509  162.928117  73.765059\n",
       "2016-01-02 03:00:00 -14.665853  93.995163  165.222982  94.036282\n",
       "2016-01-02 04:00:00 -14.757302  92.907599  165.130276  92.949001"
      ]
     },
     "execution_count": 2,
     "metadata": {},
     "output_type": "execute_result"
    }
   ],
   "source": [
    "# If you care about the individual line element, you can filter down the\n",
    "# result container to the systems connected to a specified line\n",
    "\n",
    "line_uuid = gwr.lines.data.iloc[0].name\n",
    "line_gwr = gwr.lines_res[line_uuid]\n",
    "line_gwr.data.head()"
   ]
  },
  {
   "cell_type": "code",
   "execution_count": null,
   "metadata": {},
   "outputs": [
    {
     "data": {
      "text/html": [
       "<div>\n",
       "<style scoped>\n",
       "    .dataframe tbody tr th:only-of-type {\n",
       "        vertical-align: middle;\n",
       "    }\n",
       "\n",
       "    .dataframe tbody tr th {\n",
       "        vertical-align: top;\n",
       "    }\n",
       "\n",
       "    .dataframe thead th {\n",
       "        text-align: right;\n",
       "    }\n",
       "</style>\n",
       "<table border=\"1\" class=\"dataframe\">\n",
       "  <thead>\n",
       "    <tr style=\"text-align: right;\">\n",
       "      <th></th>\n",
       "      <th>00272097-2670-45dd-a400-ef1fd7531b71</th>\n",
       "      <th>01137d2a-a5e5-417c-93f1-19c08b9f2782</th>\n",
       "      <th>02a3b3ed-a10e-422a-9f92-7bf3b84cf619</th>\n",
       "      <th>04971185-dac9-4e22-85dc-bae8f112b7a3</th>\n",
       "      <th>07cd4ac4-2b74-400f-b5f5-04bf9b3cffd2</th>\n",
       "      <th>0d01725a-e0f6-4a1e-ba57-a5888c088606</th>\n",
       "      <th>0da2a417-5bbf-4360-a3d9-1d566ab538b3</th>\n",
       "      <th>11ffde44-16bc-4826-860e-f65f95e4fd35</th>\n",
       "      <th>1acb110b-0cb6-42f5-8099-52aff310ec86</th>\n",
       "      <th>1af614d9-62b8-40e2-be73-c69509181251</th>\n",
       "      <th>...</th>\n",
       "      <th>f0543101-82d2-4a5d-be4d-5e3eec20df92</th>\n",
       "      <th>f20eb95b-b5e6-450d-b08f-0564d1407596</th>\n",
       "      <th>f3513e99-6ee1-4320-bedb-95a60d39a29f</th>\n",
       "      <th>f51207e1-4c3c-4018-81da-c028d0f20224</th>\n",
       "      <th>f534791f-e9cf-4094-b272-a4f2f2547749</th>\n",
       "      <th>f7f31262-bb20-4aee-8acb-f882136e8436</th>\n",
       "      <th>fb47eb8f-ecd4-4631-a086-2243a13d90ab</th>\n",
       "      <th>fce26ed8-d2a0-495f-9bfa-8a1f582fc070</th>\n",
       "      <th>fedf69d6-ed13-4043-b097-7881caffc82a</th>\n",
       "      <th>ff1fe640-dc63-4ee7-ae88-38a2c0ca4430</th>\n",
       "    </tr>\n",
       "    <tr>\n",
       "      <th>time</th>\n",
       "      <th></th>\n",
       "      <th></th>\n",
       "      <th></th>\n",
       "      <th></th>\n",
       "      <th></th>\n",
       "      <th></th>\n",
       "      <th></th>\n",
       "      <th></th>\n",
       "      <th></th>\n",
       "      <th></th>\n",
       "      <th></th>\n",
       "      <th></th>\n",
       "      <th></th>\n",
       "      <th></th>\n",
       "      <th></th>\n",
       "      <th></th>\n",
       "      <th></th>\n",
       "      <th></th>\n",
       "      <th></th>\n",
       "      <th></th>\n",
       "      <th></th>\n",
       "    </tr>\n",
       "  </thead>\n",
       "  <tbody>\n",
       "    <tr>\n",
       "      <th>2016-01-02 00:00:00</th>\n",
       "      <td>0.000591</td>\n",
       "      <td>0.044685</td>\n",
       "      <td>0.163577</td>\n",
       "      <td>0.082521</td>\n",
       "      <td>0.028229</td>\n",
       "      <td>0.278192</td>\n",
       "      <td>0.055601</td>\n",
       "      <td>0.084160</td>\n",
       "      <td>0.152561</td>\n",
       "      <td>0.152327</td>\n",
       "      <td>...</td>\n",
       "      <td>0.168149</td>\n",
       "      <td>0.001327</td>\n",
       "      <td>0.246417</td>\n",
       "      <td>0.068733</td>\n",
       "      <td>0.190255</td>\n",
       "      <td>0.106950</td>\n",
       "      <td>0.103283</td>\n",
       "      <td>0.043909</td>\n",
       "      <td>0.139741</td>\n",
       "      <td>0.275812</td>\n",
       "    </tr>\n",
       "    <tr>\n",
       "      <th>2016-01-02 01:00:00</th>\n",
       "      <td>0.000592</td>\n",
       "      <td>0.039060</td>\n",
       "      <td>0.148156</td>\n",
       "      <td>0.073057</td>\n",
       "      <td>0.025225</td>\n",
       "      <td>0.264976</td>\n",
       "      <td>0.052485</td>\n",
       "      <td>0.083692</td>\n",
       "      <td>0.136333</td>\n",
       "      <td>0.143703</td>\n",
       "      <td>...</td>\n",
       "      <td>0.160983</td>\n",
       "      <td>0.001329</td>\n",
       "      <td>0.236243</td>\n",
       "      <td>0.065432</td>\n",
       "      <td>0.173475</td>\n",
       "      <td>0.093307</td>\n",
       "      <td>0.090149</td>\n",
       "      <td>0.042703</td>\n",
       "      <td>0.127455</td>\n",
       "      <td>0.264586</td>\n",
       "    </tr>\n",
       "    <tr>\n",
       "      <th>2016-01-02 02:00:00</th>\n",
       "      <td>0.000593</td>\n",
       "      <td>0.032822</td>\n",
       "      <td>0.133065</td>\n",
       "      <td>0.057157</td>\n",
       "      <td>0.020361</td>\n",
       "      <td>0.232802</td>\n",
       "      <td>0.045257</td>\n",
       "      <td>0.067240</td>\n",
       "      <td>0.123094</td>\n",
       "      <td>0.111405</td>\n",
       "      <td>...</td>\n",
       "      <td>0.132443</td>\n",
       "      <td>0.001331</td>\n",
       "      <td>0.207355</td>\n",
       "      <td>0.056214</td>\n",
       "      <td>0.154330</td>\n",
       "      <td>0.077204</td>\n",
       "      <td>0.067478</td>\n",
       "      <td>0.037128</td>\n",
       "      <td>0.108268</td>\n",
       "      <td>0.231060</td>\n",
       "    </tr>\n",
       "    <tr>\n",
       "      <th>2016-01-02 03:00:00</th>\n",
       "      <td>0.000592</td>\n",
       "      <td>0.038667</td>\n",
       "      <td>0.158997</td>\n",
       "      <td>0.069731</td>\n",
       "      <td>0.018309</td>\n",
       "      <td>0.248936</td>\n",
       "      <td>0.048743</td>\n",
       "      <td>0.076725</td>\n",
       "      <td>0.140345</td>\n",
       "      <td>0.132976</td>\n",
       "      <td>...</td>\n",
       "      <td>0.147030</td>\n",
       "      <td>0.001329</td>\n",
       "      <td>0.220347</td>\n",
       "      <td>0.056984</td>\n",
       "      <td>0.182296</td>\n",
       "      <td>0.081870</td>\n",
       "      <td>0.088845</td>\n",
       "      <td>0.041619</td>\n",
       "      <td>0.124198</td>\n",
       "      <td>0.249711</td>\n",
       "    </tr>\n",
       "    <tr>\n",
       "      <th>2016-01-02 04:00:00</th>\n",
       "      <td>0.000592</td>\n",
       "      <td>0.036513</td>\n",
       "      <td>0.160186</td>\n",
       "      <td>0.081915</td>\n",
       "      <td>0.018864</td>\n",
       "      <td>0.259945</td>\n",
       "      <td>0.044201</td>\n",
       "      <td>0.075470</td>\n",
       "      <td>0.144465</td>\n",
       "      <td>0.137517</td>\n",
       "      <td>...</td>\n",
       "      <td>0.144734</td>\n",
       "      <td>0.001329</td>\n",
       "      <td>0.231201</td>\n",
       "      <td>0.063116</td>\n",
       "      <td>0.177682</td>\n",
       "      <td>0.083896</td>\n",
       "      <td>0.104677</td>\n",
       "      <td>0.043273</td>\n",
       "      <td>0.121328</td>\n",
       "      <td>0.263668</td>\n",
       "    </tr>\n",
       "  </tbody>\n",
       "</table>\n",
       "<p>5 rows × 147 columns</p>\n",
       "</div>"
      ],
      "text/plain": [
       "                     00272097-2670-45dd-a400-ef1fd7531b71  \\\n",
       "time                                                        \n",
       "2016-01-02 00:00:00                              0.000591   \n",
       "2016-01-02 01:00:00                              0.000592   \n",
       "2016-01-02 02:00:00                              0.000593   \n",
       "2016-01-02 03:00:00                              0.000592   \n",
       "2016-01-02 04:00:00                              0.000592   \n",
       "\n",
       "                     01137d2a-a5e5-417c-93f1-19c08b9f2782  \\\n",
       "time                                                        \n",
       "2016-01-02 00:00:00                              0.044685   \n",
       "2016-01-02 01:00:00                              0.039060   \n",
       "2016-01-02 02:00:00                              0.032822   \n",
       "2016-01-02 03:00:00                              0.038667   \n",
       "2016-01-02 04:00:00                              0.036513   \n",
       "\n",
       "                     02a3b3ed-a10e-422a-9f92-7bf3b84cf619  \\\n",
       "time                                                        \n",
       "2016-01-02 00:00:00                              0.163577   \n",
       "2016-01-02 01:00:00                              0.148156   \n",
       "2016-01-02 02:00:00                              0.133065   \n",
       "2016-01-02 03:00:00                              0.158997   \n",
       "2016-01-02 04:00:00                              0.160186   \n",
       "\n",
       "                     04971185-dac9-4e22-85dc-bae8f112b7a3  \\\n",
       "time                                                        \n",
       "2016-01-02 00:00:00                              0.082521   \n",
       "2016-01-02 01:00:00                              0.073057   \n",
       "2016-01-02 02:00:00                              0.057157   \n",
       "2016-01-02 03:00:00                              0.069731   \n",
       "2016-01-02 04:00:00                              0.081915   \n",
       "\n",
       "                     07cd4ac4-2b74-400f-b5f5-04bf9b3cffd2  \\\n",
       "time                                                        \n",
       "2016-01-02 00:00:00                              0.028229   \n",
       "2016-01-02 01:00:00                              0.025225   \n",
       "2016-01-02 02:00:00                              0.020361   \n",
       "2016-01-02 03:00:00                              0.018309   \n",
       "2016-01-02 04:00:00                              0.018864   \n",
       "\n",
       "                     0d01725a-e0f6-4a1e-ba57-a5888c088606  \\\n",
       "time                                                        \n",
       "2016-01-02 00:00:00                              0.278192   \n",
       "2016-01-02 01:00:00                              0.264976   \n",
       "2016-01-02 02:00:00                              0.232802   \n",
       "2016-01-02 03:00:00                              0.248936   \n",
       "2016-01-02 04:00:00                              0.259945   \n",
       "\n",
       "                     0da2a417-5bbf-4360-a3d9-1d566ab538b3  \\\n",
       "time                                                        \n",
       "2016-01-02 00:00:00                              0.055601   \n",
       "2016-01-02 01:00:00                              0.052485   \n",
       "2016-01-02 02:00:00                              0.045257   \n",
       "2016-01-02 03:00:00                              0.048743   \n",
       "2016-01-02 04:00:00                              0.044201   \n",
       "\n",
       "                     11ffde44-16bc-4826-860e-f65f95e4fd35  \\\n",
       "time                                                        \n",
       "2016-01-02 00:00:00                              0.084160   \n",
       "2016-01-02 01:00:00                              0.083692   \n",
       "2016-01-02 02:00:00                              0.067240   \n",
       "2016-01-02 03:00:00                              0.076725   \n",
       "2016-01-02 04:00:00                              0.075470   \n",
       "\n",
       "                     1acb110b-0cb6-42f5-8099-52aff310ec86  \\\n",
       "time                                                        \n",
       "2016-01-02 00:00:00                              0.152561   \n",
       "2016-01-02 01:00:00                              0.136333   \n",
       "2016-01-02 02:00:00                              0.123094   \n",
       "2016-01-02 03:00:00                              0.140345   \n",
       "2016-01-02 04:00:00                              0.144465   \n",
       "\n",
       "                     1af614d9-62b8-40e2-be73-c69509181251  ...  \\\n",
       "time                                                       ...   \n",
       "2016-01-02 00:00:00                              0.152327  ...   \n",
       "2016-01-02 01:00:00                              0.143703  ...   \n",
       "2016-01-02 02:00:00                              0.111405  ...   \n",
       "2016-01-02 03:00:00                              0.132976  ...   \n",
       "2016-01-02 04:00:00                              0.137517  ...   \n",
       "\n",
       "                     f0543101-82d2-4a5d-be4d-5e3eec20df92  \\\n",
       "time                                                        \n",
       "2016-01-02 00:00:00                              0.168149   \n",
       "2016-01-02 01:00:00                              0.160983   \n",
       "2016-01-02 02:00:00                              0.132443   \n",
       "2016-01-02 03:00:00                              0.147030   \n",
       "2016-01-02 04:00:00                              0.144734   \n",
       "\n",
       "                     f20eb95b-b5e6-450d-b08f-0564d1407596  \\\n",
       "time                                                        \n",
       "2016-01-02 00:00:00                              0.001327   \n",
       "2016-01-02 01:00:00                              0.001329   \n",
       "2016-01-02 02:00:00                              0.001331   \n",
       "2016-01-02 03:00:00                              0.001329   \n",
       "2016-01-02 04:00:00                              0.001329   \n",
       "\n",
       "                     f3513e99-6ee1-4320-bedb-95a60d39a29f  \\\n",
       "time                                                        \n",
       "2016-01-02 00:00:00                              0.246417   \n",
       "2016-01-02 01:00:00                              0.236243   \n",
       "2016-01-02 02:00:00                              0.207355   \n",
       "2016-01-02 03:00:00                              0.220347   \n",
       "2016-01-02 04:00:00                              0.231201   \n",
       "\n",
       "                     f51207e1-4c3c-4018-81da-c028d0f20224  \\\n",
       "time                                                        \n",
       "2016-01-02 00:00:00                              0.068733   \n",
       "2016-01-02 01:00:00                              0.065432   \n",
       "2016-01-02 02:00:00                              0.056214   \n",
       "2016-01-02 03:00:00                              0.056984   \n",
       "2016-01-02 04:00:00                              0.063116   \n",
       "\n",
       "                     f534791f-e9cf-4094-b272-a4f2f2547749  \\\n",
       "time                                                        \n",
       "2016-01-02 00:00:00                              0.190255   \n",
       "2016-01-02 01:00:00                              0.173475   \n",
       "2016-01-02 02:00:00                              0.154330   \n",
       "2016-01-02 03:00:00                              0.182296   \n",
       "2016-01-02 04:00:00                              0.177682   \n",
       "\n",
       "                     f7f31262-bb20-4aee-8acb-f882136e8436  \\\n",
       "time                                                        \n",
       "2016-01-02 00:00:00                              0.106950   \n",
       "2016-01-02 01:00:00                              0.093307   \n",
       "2016-01-02 02:00:00                              0.077204   \n",
       "2016-01-02 03:00:00                              0.081870   \n",
       "2016-01-02 04:00:00                              0.083896   \n",
       "\n",
       "                     fb47eb8f-ecd4-4631-a086-2243a13d90ab  \\\n",
       "time                                                        \n",
       "2016-01-02 00:00:00                              0.103283   \n",
       "2016-01-02 01:00:00                              0.090149   \n",
       "2016-01-02 02:00:00                              0.067478   \n",
       "2016-01-02 03:00:00                              0.088845   \n",
       "2016-01-02 04:00:00                              0.104677   \n",
       "\n",
       "                     fce26ed8-d2a0-495f-9bfa-8a1f582fc070  \\\n",
       "time                                                        \n",
       "2016-01-02 00:00:00                              0.043909   \n",
       "2016-01-02 01:00:00                              0.042703   \n",
       "2016-01-02 02:00:00                              0.037128   \n",
       "2016-01-02 03:00:00                              0.041619   \n",
       "2016-01-02 04:00:00                              0.043273   \n",
       "\n",
       "                     fedf69d6-ed13-4043-b097-7881caffc82a  \\\n",
       "time                                                        \n",
       "2016-01-02 00:00:00                              0.139741   \n",
       "2016-01-02 01:00:00                              0.127455   \n",
       "2016-01-02 02:00:00                              0.108268   \n",
       "2016-01-02 03:00:00                              0.124198   \n",
       "2016-01-02 04:00:00                              0.121328   \n",
       "\n",
       "                     ff1fe640-dc63-4ee7-ae88-38a2c0ca4430  \n",
       "time                                                       \n",
       "2016-01-02 00:00:00                              0.275812  \n",
       "2016-01-02 01:00:00                              0.264586  \n",
       "2016-01-02 02:00:00                              0.231060  \n",
       "2016-01-02 03:00:00                              0.249711  \n",
       "2016-01-02 04:00:00                              0.263668  \n",
       "\n",
       "[5 rows x 147 columns]"
      ]
     },
     "execution_count": 3,
     "metadata": {},
     "output_type": "execute_result"
    }
   ],
   "source": [
    "# If we would like to get the utilisation of the line segment, we need use i_max provide from input data (gwr.lines)\n",
    "\n",
    "line_input_data = gwr.lines\n",
    "line_utilization = gwr.lines_res.utilisation(line_input_data, side=\"a\")\n",
    "line_utilization.head()"
   ]
  },
  {
   "cell_type": "code",
   "execution_count": null,
   "metadata": {},
   "outputs": [],
   "source": [
    "line_utilization[[line_uuid]].head()\n"
   ]
  },
  {
   "cell_type": "markdown",
   "metadata": {},
   "source": [
    "## Congestion Results\n",
    "\n",
    "If we want to analyze congestions in the grid, we can run SIMONA with congestion detection. All congestion results are mapped uuid of the asset for which the congestion was detected. The type information (e.g.: node, line, ect.) specifies type of the asset that has a congestion.\n",
    "\n",
    "Each congestion contains the value that occurred and the limits for the asset (e.g.: voltage band, line current limit, etc.)."
   ]
  },
  {
   "cell_type": "code",
   "execution_count": null,
   "metadata": {},
   "outputs": [
    {
     "data": {
      "text/html": [
       "<div>\n",
       "<style scoped>\n",
       "    .dataframe tbody tr th:only-of-type {\n",
       "        vertical-align: middle;\n",
       "    }\n",
       "\n",
       "    .dataframe tbody tr th {\n",
       "        vertical-align: top;\n",
       "    }\n",
       "\n",
       "    .dataframe thead th {\n",
       "        text-align: right;\n",
       "    }\n",
       "</style>\n",
       "<table border=\"1\" class=\"dataframe\">\n",
       "  <thead>\n",
       "    <tr style=\"text-align: right;\">\n",
       "      <th></th>\n",
       "      <th>max</th>\n",
       "      <th>min</th>\n",
       "      <th>subgrid</th>\n",
       "      <th>type</th>\n",
       "      <th>value</th>\n",
       "    </tr>\n",
       "    <tr>\n",
       "      <th>time</th>\n",
       "      <th></th>\n",
       "      <th></th>\n",
       "      <th></th>\n",
       "      <th></th>\n",
       "      <th></th>\n",
       "    </tr>\n",
       "  </thead>\n",
       "  <tbody>\n",
       "    <tr>\n",
       "      <th>2016-01-02 02:00:00</th>\n",
       "      <td>103</td>\n",
       "      <td>97</td>\n",
       "      <td>135</td>\n",
       "      <td>node</td>\n",
       "      <td>103.222590</td>\n",
       "    </tr>\n",
       "    <tr>\n",
       "      <th>2016-01-04 10:00:00</th>\n",
       "      <td>103</td>\n",
       "      <td>97</td>\n",
       "      <td>135</td>\n",
       "      <td>node</td>\n",
       "      <td>103.257236</td>\n",
       "    </tr>\n",
       "    <tr>\n",
       "      <th>2016-01-04 11:00:00</th>\n",
       "      <td>103</td>\n",
       "      <td>97</td>\n",
       "      <td>135</td>\n",
       "      <td>node</td>\n",
       "      <td>103.308051</td>\n",
       "    </tr>\n",
       "  </tbody>\n",
       "</table>\n",
       "</div>"
      ],
      "text/plain": [
       "                     max  min  subgrid  type       value\n",
       "time                                                    \n",
       "2016-01-02 02:00:00  103   97      135  node  103.222590\n",
       "2016-01-04 10:00:00  103   97      135  node  103.257236\n",
       "2016-01-04 11:00:00  103   97      135  node  103.308051"
      ]
     },
     "execution_count": 2,
     "metadata": {},
     "output_type": "execute_result"
    }
   ],
   "source": [
    "# Congestion results are only provided for two nodes\n",
    "node_with_congestions = [\n",
    "    \"5d50a881-c383-463e-8355-41b3dd57422d\",\n",
    "    \"557b9f51-d83c-476c-a84c-d240530c203d\",\n",
    "]\n",
    "\n",
    "congestion_res_1 = gwr.congestions_res[node_with_congestions[0]]\n",
    "congestion_res_2 = gwr.congestions_res[node_with_congestions[1]]\n",
    "\n",
    "congestion_res_1.data"
   ]
  }
 ],
 "metadata": {
  "kernelspec": {
   "display_name": "pypsdm-sJkpnJQv-py3.11",
   "language": "python",
   "name": "python3"
  },
  "language_info": {
   "codemirror_mode": {
    "name": "ipython",
    "version": 3
   },
   "file_extension": ".py",
   "mimetype": "text/x-python",
   "name": "python",
   "nbconvert_exporter": "python",
   "pygments_lexer": "ipython3",
   "version": "3.11.5"
  }
 },
 "nbformat": 4,
 "nbformat_minor": 2
}
