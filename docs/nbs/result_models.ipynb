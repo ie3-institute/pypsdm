{
 "cells": [
  {
   "cell_type": "code",
   "execution_count": 1,
   "metadata": {},
   "outputs": [],
   "source": [
    "# Some jupyter notebook magic to reload modules automaticaally when they change\n",
    "# not neccessary for this specific notebook but useful in general\n",
    "%load_ext autoreload\n",
    "%autoreload 2"
   ]
  },
  {
   "cell_type": "code",
   "execution_count": 2,
   "metadata": {},
   "outputs": [],
   "source": [
    "from definitions import ROOT_DIR\n",
    "import os\n",
    "\n",
    "# The PSDM specific input models can be imported from the pypsdm.models.input and\n",
    "# pypsdm.models.result. The `GridWithResults` container is located in pypsdm.models.gwr\n",
    "from pypsdm.models.gwr import GridWithResults\n",
    "\n",
    "\n",
    "grid_path = os.path.join(ROOT_DIR, \"tests\", \"resources\", \"simbench\", \"input\")\n",
    "result_path = os.path.join(ROOT_DIR, \"tests\", \"resources\", \"simbench\", \"results\")\n",
    "# IO data models in general have a from_csv method to parse psdm files\n",
    "gwr = GridWithResults.from_csv(\"simbench\", grid_path, result_path)"
   ]
  },
  {
   "cell_type": "code",
   "execution_count": 3,
   "metadata": {},
   "outputs": [
    {
     "data": {
      "application/vnd.plotly.v1+json": {
       "config": {
        "plotlyServerURL": "https://plot.ly"
       },
       "data": [
        {
         "hoverinfo": "skip",
         "lat": [
          53.6489,
          53.6511
         ],
         "line": {
          "color": "#1ac938"
         },
         "lon": [
          11.3683,
          11.3682
         ],
         "mode": "lines",
         "type": "scattermapbox"
        },
        {
         "hoverinfo": "text",
         "hovertext": "MV3.101 Line 34",
         "lat": [
          53.65
         ],
         "lon": [
          11.36825
         ],
         "marker": {
          "color": "#1ac938",
          "opacity": 0,
          "size": 0
         },
         "mode": "markers",
         "type": "scattermapbox"
        },
        {
         "hoverinfo": "skip",
         "lat": [
          53.6454,
          53.6455
         ],
         "line": {
          "color": "#1ac938"
         },
         "lon": [
          11.3776,
          11.3798
         ],
         "mode": "lines",
         "type": "scattermapbox"
        },
        {
         "hoverinfo": "text",
         "hovertext": "MV3.101 Line 118",
         "lat": [
          53.64545
         ],
         "lon": [
          11.378699999999998
         ],
         "marker": {
          "color": "#1ac938",
          "opacity": 0,
          "size": 0
         },
         "mode": "markers",
         "type": "scattermapbox"
        },
        {
         "hoverinfo": "skip",
         "lat": [
          53.6511,
          53.6531
         ],
         "line": {
          "color": "#1ac938"
         },
         "lon": [
          11.3682,
          11.3682
         ],
         "mode": "lines",
         "type": "scattermapbox"
        },
        {
         "hoverinfo": "text",
         "hovertext": "MV3.101 Line 35",
         "lat": [
          53.652100000000004
         ],
         "lon": [
          11.3682
         ],
         "marker": {
          "color": "#1ac938",
          "opacity": 0,
          "size": 0
         },
         "mode": "markers",
         "type": "scattermapbox"
        },
        {
         "hoverinfo": "skip",
         "lat": [
          53.6321,
          53.6341
         ],
         "line": {
          "color": "#1ac938"
         },
         "lon": [
          11.3702,
          11.3724
         ],
         "mode": "lines",
         "type": "scattermapbox"
        },
        {
         "hoverinfo": "text",
         "hovertext": "MV3.101 Line 104",
         "lat": [
          53.6331
         ],
         "lon": [
          11.371300000000002
         ],
         "marker": {
          "color": "#1ac938",
          "opacity": 0,
          "size": 0
         },
         "mode": "markers",
         "type": "scattermapbox"
        },
        {
         "hoverinfo": "skip",
         "lat": [
          53.6448,
          53.6443
         ],
         "line": {
          "color": "#1ac938"
         },
         "lon": [
          11.364,
          11.3619
         ],
         "mode": "lines",
         "type": "scattermapbox"
        },
        {
         "hoverinfo": "text",
         "hovertext": "MV3.101 Line 87",
         "lat": [
          53.644549999999995
         ],
         "lon": [
          11.362950000000001
         ],
         "marker": {
          "color": "#1ac938",
          "opacity": 0,
          "size": 0
         },
         "mode": "markers",
         "type": "scattermapbox"
        },
        {
         "hoverinfo": "skip",
         "lat": [
          53.6545,
          53.6568
         ],
         "line": {
          "color": "#1ac938"
         },
         "lon": [
          11.3581,
          11.3561
         ],
         "mode": "lines",
         "type": "scattermapbox"
        },
        {
         "hoverinfo": "text",
         "hovertext": "MV3.101 Line 60",
         "lat": [
          53.655649999999994
         ],
         "lon": [
          11.357099999999999
         ],
         "marker": {
          "color": "#1ac938",
          "opacity": 0,
          "size": 0
         },
         "mode": "markers",
         "type": "scattermapbox"
        },
        {
         "hoverinfo": "skip",
         "lat": [
          53.6417,
          53.6389
         ],
         "line": {
          "color": "#1ac938"
         },
         "lon": [
          11.368,
          11.3669
         ],
         "mode": "lines",
         "type": "scattermapbox"
        },
        {
         "hoverinfo": "text",
         "hovertext": "MV3.101 Line 97",
         "lat": [
          53.640299999999996
         ],
         "lon": [
          11.36745
         ],
         "marker": {
          "color": "#1ac938",
          "opacity": 0,
          "size": 0
         },
         "mode": "markers",
         "type": "scattermapbox"
        },
        {
         "hoverinfo": "skip",
         "lat": [
          53.6464,
          53.6467
         ],
         "line": {
          "color": "#1ac938"
         },
         "lon": [
          11.3745,
          11.3755
         ],
         "mode": "lines",
         "type": "scattermapbox"
        },
        {
         "hoverinfo": "text",
         "hovertext": "MV3.101 Line 120",
         "lat": [
          53.646550000000005
         ],
         "lon": [
          11.375
         ],
         "marker": {
          "color": "#1ac938",
          "opacity": 0,
          "size": 0
         },
         "mode": "markers",
         "type": "scattermapbox"
        },
        {
         "hoverinfo": "skip",
         "lat": [
          53.6531,
          53.6541
         ],
         "line": {
          "color": "#1ac938"
         },
         "lon": [
          11.3682,
          11.3682
         ],
         "mode": "lines",
         "type": "scattermapbox"
        },
        {
         "hoverinfo": "text",
         "hovertext": "MV3.101 Line 36",
         "lat": [
          53.6536
         ],
         "lon": [
          11.3682
         ],
         "marker": {
          "color": "#1ac938",
          "opacity": 0,
          "size": 0
         },
         "mode": "markers",
         "type": "scattermapbox"
        },
        {
         "hoverinfo": "skip",
         "lat": [
          53.6481,
          53.6472
         ],
         "line": {
          "color": "#1ac938"
         },
         "lon": [
          11.3819,
          11.3833
         ],
         "mode": "lines",
         "type": "scattermapbox"
        },
        {
         "hoverinfo": "text",
         "hovertext": "MV3.101 Line 124",
         "lat": [
          53.64765
         ],
         "lon": [
          11.3826
         ],
         "marker": {
          "color": "#1ac938",
          "opacity": 0,
          "size": 0
         },
         "mode": "markers",
         "type": "scattermapbox"
        },
        {
         "hoverinfo": "skip",
         "lat": [
          53.6516,
          53.6524
         ],
         "line": {
          "color": "#1ac938"
         },
         "lon": [
          11.3561,
          11.3561
         ],
         "mode": "lines",
         "type": "scattermapbox"
        },
        {
         "hoverinfo": "text",
         "hovertext": "MV3.101 Line 57",
         "lat": [
          53.652
         ],
         "lon": [
          11.3561
         ],
         "marker": {
          "color": "#1ac938",
          "opacity": 0,
          "size": 0
         },
         "mode": "markers",
         "type": "scattermapbox"
        },
        {
         "hoverinfo": "skip",
         "lat": [
          53.6453,
          53.6454
         ],
         "line": {
          "color": "#1ac938"
         },
         "lon": [
          11.372,
          11.3732
         ],
         "mode": "lines",
         "type": "scattermapbox"
        },
        {
         "hoverinfo": "text",
         "hovertext": "MV3.101 Line 14",
         "lat": [
          53.64535
         ],
         "lon": [
          11.3726
         ],
         "marker": {
          "color": "#1ac938",
          "opacity": 0,
          "size": 0
         },
         "mode": "markers",
         "type": "scattermapbox"
        },
        {
         "hoverinfo": "skip",
         "lat": [
          53.6534,
          53.6519
         ],
         "line": {
          "color": "#1ac938"
         },
         "lon": [
          11.3794,
          11.3805
         ],
         "mode": "lines",
         "type": "scattermapbox"
        },
        {
         "hoverinfo": "text",
         "hovertext": "MV3.101 Line 24",
         "lat": [
          53.652649999999994
         ],
         "lon": [
          11.379950000000001
         ],
         "marker": {
          "color": "#1ac938",
          "opacity": 0,
          "size": 0
         },
         "mode": "markers",
         "type": "scattermapbox"
        },
        {
         "hoverinfo": "skip",
         "lat": [
          53.6428,
          53.6429
         ],
         "line": {
          "color": "#1ac938"
         },
         "lon": [
          11.381,
          11.3815
         ],
         "mode": "lines",
         "type": "scattermapbox"
        },
        {
         "hoverinfo": "text",
         "hovertext": "MV3.101 Line 113",
         "lat": [
          53.642849999999996
         ],
         "lon": [
          11.381250000000001
         ],
         "marker": {
          "color": "#1ac938",
          "opacity": 0,
          "size": 0
         },
         "mode": "markers",
         "type": "scattermapbox"
        },
        {
         "hoverinfo": "skip",
         "lat": [
          53.6456,
          53.6436
         ],
         "line": {
          "color": "#1ac938"
         },
         "lon": [
          11.3692,
          11.3686
         ],
         "mode": "lines",
         "type": "scattermapbox"
        },
        {
         "hoverinfo": "text",
         "hovertext": "MV3.101 Line 95",
         "lat": [
          53.6446
         ],
         "lon": [
          11.3689
         ],
         "marker": {
          "color": "#1ac938",
          "opacity": 0,
          "size": 0
         },
         "mode": "markers",
         "type": "scattermapbox"
        },
        {
         "hoverinfo": "skip",
         "lat": [
          53.6441,
          53.6437
         ],
         "line": {
          "color": "#1ac938"
         },
         "lon": [
          11.3609,
          11.3577
         ],
         "mode": "lines",
         "type": "scattermapbox"
        },
        {
         "hoverinfo": "text",
         "hovertext": "MV3.101 Line 89",
         "lat": [
          53.6439
         ],
         "lon": [
          11.359300000000001
         ],
         "marker": {
          "color": "#1ac938",
          "opacity": 0,
          "size": 0
         },
         "mode": "markers",
         "type": "scattermapbox"
        },
        {
         "hoverinfo": "skip",
         "lat": [
          53.6481,
          53.6499
         ],
         "line": {
          "color": "#1ac938"
         },
         "lon": [
          11.3752,
          11.3773
         ],
         "mode": "lines",
         "type": "scattermapbox"
        },
        {
         "hoverinfo": "text",
         "hovertext": "MV3.101 Line 129",
         "lat": [
          53.649
         ],
         "lon": [
          11.376249999999999
         ],
         "marker": {
          "color": "#1ac938",
          "opacity": 0,
          "size": 0
         },
         "mode": "markers",
         "type": "scattermapbox"
        },
        {
         "hoverinfo": "skip",
         "lat": [
          53.634,
          53.6332
         ],
         "line": {
          "color": "#1ac938"
         },
         "lon": [
          11.3636,
          11.3633
         ],
         "mode": "lines",
         "type": "scattermapbox"
        },
        {
         "hoverinfo": "text",
         "hovertext": "MV3.101 Line 76",
         "lat": [
          53.6336
         ],
         "lon": [
          11.36345
         ],
         "marker": {
          "color": "#1ac938",
          "opacity": 0,
          "size": 0
         },
         "mode": "markers",
         "type": "scattermapbox"
        },
        {
         "hoverinfo": "skip",
         "lat": [
          53.6332,
          53.6312
         ],
         "line": {
          "color": "#1ac938"
         },
         "lon": [
          11.3633,
          11.3627
         ],
         "mode": "lines",
         "type": "scattermapbox"
        },
        {
         "hoverinfo": "text",
         "hovertext": "MV3.101 Line 77",
         "lat": [
          53.6322
         ],
         "lon": [
          11.363
         ],
         "marker": {
          "color": "#1ac938",
          "opacity": 0,
          "size": 0
         },
         "mode": "markers",
         "type": "scattermapbox"
        },
        {
         "hoverinfo": "skip",
         "lat": [
          53.6457,
          53.647
         ],
         "line": {
          "color": "#1ac938"
         },
         "lon": [
          11.3697,
          11.3701
         ],
         "mode": "lines",
         "type": "scattermapbox"
        },
        {
         "hoverinfo": "text",
         "hovertext": "MV3.101 Line 27",
         "lat": [
          53.64635
         ],
         "lon": [
          11.369900000000001
         ],
         "marker": {
          "color": "#1ac938",
          "opacity": 0,
          "size": 0
         },
         "mode": "markers",
         "type": "scattermapbox"
        },
        {
         "hoverinfo": "skip",
         "lat": [
          53.6443,
          53.6461
         ],
         "line": {
          "color": "#1ac938"
         },
         "lon": [
          11.3544,
          11.3521
         ],
         "mode": "lines",
         "type": "scattermapbox"
        },
        {
         "hoverinfo": "text",
         "hovertext": "MV3.101 Line 92",
         "lat": [
          53.6452
         ],
         "lon": [
          11.35325
         ],
         "marker": {
          "color": "#1ac938",
          "opacity": 0,
          "size": 0
         },
         "mode": "markers",
         "type": "scattermapbox"
        },
        {
         "hoverinfo": "skip",
         "lat": [
          53.6456,
          53.6454
         ],
         "line": {
          "color": "#1ac938"
         },
         "lon": [
          11.3692,
          11.3706
         ],
         "mode": "lines",
         "type": "scattermapbox"
        },
        {
         "hoverinfo": "text",
         "hovertext": "MV3.101 Line 12",
         "lat": [
          53.6455
         ],
         "lon": [
          11.3699
         ],
         "marker": {
          "color": "#1ac938",
          "opacity": 0,
          "size": 0
         },
         "mode": "markers",
         "type": "scattermapbox"
        },
        {
         "hoverinfo": "skip",
         "lat": [
          53.6567,
          53.6559
         ],
         "line": {
          "color": "#1ac938"
         },
         "lon": [
          11.3529,
          11.3519
         ],
         "mode": "lines",
         "type": "scattermapbox"
        },
        {
         "hoverinfo": "text",
         "hovertext": "MV3.101 Line 62",
         "lat": [
          53.6563
         ],
         "lon": [
          11.3524
         ],
         "marker": {
          "color": "#1ac938",
          "opacity": 0,
          "size": 0
         },
         "mode": "markers",
         "type": "scattermapbox"
        },
        {
         "hoverinfo": "skip",
         "lat": [
          53.6479,
          53.6481
         ],
         "line": {
          "color": "#1ac938"
         },
         "lon": [
          11.3773,
          11.3784
         ],
         "mode": "lines",
         "type": "scattermapbox"
        },
        {
         "hoverinfo": "text",
         "hovertext": "MV3.101 Line 122",
         "lat": [
          53.647999999999996
         ],
         "lon": [
          11.377849999999999
         ],
         "marker": {
          "color": "#1ac938",
          "opacity": 0,
          "size": 0
         },
         "mode": "markers",
         "type": "scattermapbox"
        },
        {
         "hoverinfo": "skip",
         "lat": [
          53.6303,
          53.6285
         ],
         "line": {
          "color": "#1ac938"
         },
         "lon": [
          11.3626,
          11.3627
         ],
         "mode": "lines",
         "type": "scattermapbox"
        },
        {
         "hoverinfo": "text",
         "hovertext": "MV3.101 Line 79",
         "lat": [
          53.629400000000004
         ],
         "lon": [
          11.36265
         ],
         "marker": {
          "color": "#1ac938",
          "opacity": 0,
          "size": 0
         },
         "mode": "markers",
         "type": "scattermapbox"
        },
        {
         "hoverinfo": "skip",
         "lat": [
          53.6397,
          53.638
         ],
         "line": {
          "color": "#1ac938"
         },
         "lon": [
          11.3715,
          11.3719
         ],
         "mode": "lines",
         "type": "scattermapbox"
        },
        {
         "hoverinfo": "text",
         "hovertext": "MV3.101 Line 10",
         "lat": [
          53.63885
         ],
         "lon": [
          11.3717
         ],
         "marker": {
          "color": "#1ac938",
          "opacity": 0,
          "size": 0
         },
         "mode": "markers",
         "type": "scattermapbox"
        },
        {
         "hoverinfo": "skip",
         "lat": [
          53.6353,
          53.634
         ],
         "line": {
          "color": "#1ac938"
         },
         "lon": [
          11.3632,
          11.3636
         ],
         "mode": "lines",
         "type": "scattermapbox"
        },
        {
         "hoverinfo": "text",
         "hovertext": "MV3.101 Line 75",
         "lat": [
          53.63465
         ],
         "lon": [
          11.3634
         ],
         "marker": {
          "color": "#1ac938",
          "opacity": 0,
          "size": 0
         },
         "mode": "markers",
         "type": "scattermapbox"
        },
        {
         "hoverinfo": "skip",
         "lat": [
          53.6543,
          53.6545
         ],
         "line": {
          "color": "#1ac938"
         },
         "lon": [
          11.3751,
          11.3756
         ],
         "mode": "lines",
         "type": "scattermapbox"
        },
        {
         "hoverinfo": "text",
         "hovertext": "MV3.101 Line 21",
         "lat": [
          53.654399999999995
         ],
         "lon": [
          11.375350000000001
         ],
         "marker": {
          "color": "#1ac938",
          "opacity": 0,
          "size": 0
         },
         "mode": "markers",
         "type": "scattermapbox"
        },
        {
         "hoverinfo": "skip",
         "lat": [
          53.638,
          53.6371
         ],
         "line": {
          "color": "#1ac938"
         },
         "lon": [
          11.3719,
          11.3721
         ],
         "mode": "lines",
         "type": "scattermapbox"
        },
        {
         "hoverinfo": "text",
         "hovertext": "MV3.101 Line 11",
         "lat": [
          53.63755
         ],
         "lon": [
          11.372
         ],
         "marker": {
          "color": "#1ac938",
          "opacity": 0,
          "size": 0
         },
         "mode": "markers",
         "type": "scattermapbox"
        },
        {
         "hoverinfo": "skip",
         "lat": [
          53.6285,
          53.6261
         ],
         "line": {
          "color": "#1ac938"
         },
         "lon": [
          11.3627,
          11.3638
         ],
         "mode": "lines",
         "type": "scattermapbox"
        },
        {
         "hoverinfo": "text",
         "hovertext": "MV3.101 Line 80",
         "lat": [
          53.627300000000005
         ],
         "lon": [
          11.36325
         ],
         "marker": {
          "color": "#1ac938",
          "opacity": 0,
          "size": 0
         },
         "mode": "markers",
         "type": "scattermapbox"
        },
        {
         "hoverinfo": "skip",
         "lat": [
          53.6568,
          53.6567
         ],
         "line": {
          "color": "#1ac938"
         },
         "lon": [
          11.3561,
          11.3529
         ],
         "mode": "lines",
         "type": "scattermapbox"
        },
        {
         "hoverinfo": "text",
         "hovertext": "MV3.101 Line 61",
         "lat": [
          53.65675
         ],
         "lon": [
          11.3545
         ],
         "marker": {
          "color": "#1ac938",
          "opacity": 0,
          "size": 0
         },
         "mode": "markers",
         "type": "scattermapbox"
        },
        {
         "hoverinfo": "skip",
         "lat": [
          53.6492,
          53.6464
         ],
         "line": {
          "color": "#1ac938"
         },
         "lon": [
          11.372,
          11.3721
         ],
         "mode": "lines",
         "type": "scattermapbox"
        },
        {
         "hoverinfo": "text",
         "hovertext": "MV3.101 Line 30",
         "lat": [
          53.647800000000004
         ],
         "lon": [
          11.37205
         ],
         "marker": {
          "color": "#1ac938",
          "opacity": 0,
          "size": 0
         },
         "mode": "markers",
         "type": "scattermapbox"
        },
        {
         "hoverinfo": "skip",
         "lat": [
          53.6438,
          53.6431
         ],
         "line": {
          "color": "#1ac938"
         },
         "lon": [
          11.3767,
          11.3783
         ],
         "mode": "lines",
         "type": "scattermapbox"
        },
        {
         "hoverinfo": "text",
         "hovertext": "MV3.101 Line 110",
         "lat": [
          53.64345
         ],
         "lon": [
          11.3775
         ],
         "marker": {
          "color": "#1ac938",
          "opacity": 0,
          "size": 0
         },
         "mode": "markers",
         "type": "scattermapbox"
        },
        {
         "hoverinfo": "skip",
         "lat": [
          53.6585,
          53.6592
         ],
         "line": {
          "color": "#1ac938"
         },
         "lon": [
          11.3687,
          11.3686
         ],
         "mode": "lines",
         "type": "scattermapbox"
        },
        {
         "hoverinfo": "text",
         "hovertext": "MV3.101 Line 39",
         "lat": [
          53.65885
         ],
         "lon": [
          11.36865
         ],
         "marker": {
          "color": "#1ac938",
          "opacity": 0,
          "size": 0
         },
         "mode": "markers",
         "type": "scattermapbox"
        },
        {
         "hoverinfo": "skip",
         "lat": [
          53.6454,
          53.6456
         ],
         "line": {
          "color": "#1ac938"
         },
         "lon": [
          11.3732,
          11.3738
         ],
         "mode": "lines",
         "type": "scattermapbox"
        },
        {
         "hoverinfo": "text",
         "hovertext": "MV3.101 Line 15",
         "lat": [
          53.6455
         ],
         "lon": [
          11.3735
         ],
         "marker": {
          "color": "#1ac938",
          "opacity": 0,
          "size": 0
         },
         "mode": "markers",
         "type": "scattermapbox"
        },
        {
         "hoverinfo": "skip",
         "lat": [
          53.6538,
          53.6543
         ],
         "line": {
          "color": "#1ac938"
         },
         "lon": [
          11.374,
          11.3751
         ],
         "mode": "lines",
         "type": "scattermapbox"
        },
        {
         "hoverinfo": "text",
         "hovertext": "MV3.101 Line 20",
         "lat": [
          53.65405
         ],
         "lon": [
          11.37455
         ],
         "marker": {
          "color": "#1ac938",
          "opacity": 0,
          "size": 0
         },
         "mode": "markers",
         "type": "scattermapbox"
        },
        {
         "hoverinfo": "skip",
         "lat": [
          53.6459,
          53.648
         ],
         "line": {
          "color": "#1ac938"
         },
         "lon": [
          11.3687,
          11.3667
         ],
         "mode": "lines",
         "type": "scattermapbox"
        },
        {
         "hoverinfo": "text",
         "hovertext": "MV3.101 Line 42",
         "lat": [
          53.646950000000004
         ],
         "lon": [
          11.3677
         ],
         "marker": {
          "color": "#1ac938",
          "opacity": 0,
          "size": 0
         },
         "mode": "markers",
         "type": "scattermapbox"
        },
        {
         "hoverinfo": "skip",
         "lat": [
          53.6341,
          53.6328
         ],
         "line": {
          "color": "#1ac938"
         },
         "lon": [
          11.3724,
          11.3733
         ],
         "mode": "lines",
         "type": "scattermapbox"
        },
        {
         "hoverinfo": "text",
         "hovertext": "MV3.101 Line 105",
         "lat": [
          53.633449999999996
         ],
         "lon": [
          11.37285
         ],
         "marker": {
          "color": "#1ac938",
          "opacity": 0,
          "size": 0
         },
         "mode": "markers",
         "type": "scattermapbox"
        },
        {
         "hoverinfo": "skip",
         "lat": [
          53.6456,
          53.6453
         ],
         "line": {
          "color": "#1ac938"
         },
         "lon": [
          11.3692,
          11.3665
         ],
         "mode": "lines",
         "type": "scattermapbox"
        },
        {
         "hoverinfo": "text",
         "hovertext": "MV3.101 Line 84",
         "lat": [
          53.64545
         ],
         "lon": [
          11.36785
         ],
         "marker": {
          "color": "#1ac938",
          "opacity": 0,
          "size": 0
         },
         "mode": "markers",
         "type": "scattermapbox"
        },
        {
         "hoverinfo": "skip",
         "lat": [
          53.6525,
          53.6538
         ],
         "line": {
          "color": "#1ac938"
         },
         "lon": [
          11.3724,
          11.374
         ],
         "mode": "lines",
         "type": "scattermapbox"
        },
        {
         "hoverinfo": "text",
         "hovertext": "MV3.101 Line 19",
         "lat": [
          53.65315
         ],
         "lon": [
          11.3732
         ],
         "marker": {
          "color": "#1ac938",
          "opacity": 0,
          "size": 0
         },
         "mode": "markers",
         "type": "scattermapbox"
        },
        {
         "hoverinfo": "skip",
         "lat": [
          53.6544,
          53.6579
         ],
         "line": {
          "color": "#1ac938"
         },
         "lon": [
          11.3637,
          11.3634
         ],
         "mode": "lines",
         "type": "scattermapbox"
        },
        {
         "hoverinfo": "text",
         "hovertext": "MV3.101 Line 46",
         "lat": [
          53.65615
         ],
         "lon": [
          11.36355
         ],
         "marker": {
          "color": "#1ac938",
          "opacity": 0,
          "size": 0
         },
         "mode": "markers",
         "type": "scattermapbox"
        },
        {
         "hoverinfo": "skip",
         "lat": [
          53.6572,
          53.6585
         ],
         "line": {
          "color": "#1ac938"
         },
         "lon": [
          11.3686,
          11.3687
         ],
         "mode": "lines",
         "type": "scattermapbox"
        },
        {
         "hoverinfo": "text",
         "hovertext": "MV3.101 Line 38",
         "lat": [
          53.657849999999996
         ],
         "lon": [
          11.36865
         ],
         "marker": {
          "color": "#1ac938",
          "opacity": 0,
          "size": 0
         },
         "mode": "markers",
         "type": "scattermapbox"
        },
        {
         "hoverinfo": "skip",
         "lat": [
          53.6592,
          53.6598
         ],
         "line": {
          "color": "#1ac938"
         },
         "lon": [
          11.3686,
          11.3685
         ],
         "mode": "lines",
         "type": "scattermapbox"
        },
        {
         "hoverinfo": "text",
         "hovertext": "MV3.101 Line 40",
         "lat": [
          53.659499999999994
         ],
         "lon": [
          11.368549999999999
         ],
         "marker": {
          "color": "#1ac938",
          "opacity": 0,
          "size": 0
         },
         "mode": "markers",
         "type": "scattermapbox"
        },
        {
         "hoverinfo": "skip",
         "lat": [
          53.6464,
          53.6469
         ],
         "line": {
          "color": "#1ac938"
         },
         "lon": [
          11.3745,
          11.3746
         ],
         "mode": "lines",
         "type": "scattermapbox"
        },
        {
         "hoverinfo": "text",
         "hovertext": "MV3.101 Line 126",
         "lat": [
          53.64665
         ],
         "lon": [
          11.37455
         ],
         "marker": {
          "color": "#1ac938",
          "opacity": 0,
          "size": 0
         },
         "mode": "markers",
         "type": "scattermapbox"
        },
        {
         "hoverinfo": "skip",
         "lat": [
          53.6421,
          53.6411
         ],
         "line": {
          "color": "#1ac938"
         },
         "lon": [
          11.3708,
          11.3715
         ],
         "mode": "lines",
         "type": "scattermapbox"
        },
        {
         "hoverinfo": "text",
         "hovertext": "MV3.101 Line 4",
         "lat": [
          53.6416
         ],
         "lon": [
          11.37115
         ],
         "marker": {
          "color": "#1ac938",
          "opacity": 0,
          "size": 0
         },
         "mode": "markers",
         "type": "scattermapbox"
        },
        {
         "hoverinfo": "skip",
         "lat": [
          53.655,
          53.6537
         ],
         "line": {
          "color": "#1ac938"
         },
         "lon": [
          11.3518,
          11.3524
         ],
         "mode": "lines",
         "type": "scattermapbox"
        },
        {
         "hoverinfo": "text",
         "hovertext": "MV3.101 Line 64",
         "lat": [
          53.65435
         ],
         "lon": [
          11.3521
         ],
         "marker": {
          "color": "#1ac938",
          "opacity": 0,
          "size": 0
         },
         "mode": "markers",
         "type": "scattermapbox"
        },
        {
         "hoverinfo": "skip",
         "lat": [
          53.6462,
          53.6469
         ],
         "line": {
          "color": "#1ac938"
         },
         "lon": [
          11.3691,
          11.3688
         ],
         "mode": "lines",
         "type": "scattermapbox"
        },
        {
         "hoverinfo": "text",
         "hovertext": "MV3.101 Line 32",
         "lat": [
          53.646550000000005
         ],
         "lon": [
          11.36895
         ],
         "marker": {
          "color": "#1ac938",
          "opacity": 0,
          "size": 0
         },
         "mode": "markers",
         "type": "scattermapbox"
        },
        {
         "hoverinfo": "skip",
         "lat": [
          53.6501,
          53.6502
         ],
         "line": {
          "color": "#1ac938"
         },
         "lon": [
          11.3779,
          11.3805
         ],
         "mode": "lines",
         "type": "scattermapbox"
        },
        {
         "hoverinfo": "text",
         "hovertext": "MV3.101 Line 131",
         "lat": [
          53.65015
         ],
         "lon": [
          11.3792
         ],
         "marker": {
          "color": "#1ac938",
          "opacity": 0,
          "size": 0
         },
         "mode": "markers",
         "type": "scattermapbox"
        },
        {
         "hoverinfo": "skip",
         "lat": [
          53.6485,
          53.6505
         ],
         "line": {
          "color": "#1ac938"
         },
         "lon": [
          11.3698,
          11.3708
         ],
         "mode": "lines",
         "type": "scattermapbox"
        },
        {
         "hoverinfo": "text",
         "hovertext": "MV3.101 Line 17",
         "lat": [
          53.6495
         ],
         "lon": [
          11.3703
         ],
         "marker": {
          "color": "#1ac938",
          "opacity": 0,
          "size": 0
         },
         "mode": "markers",
         "type": "scattermapbox"
        },
        {
         "hoverinfo": "skip",
         "lat": [
          53.6455,
          53.6455
         ],
         "line": {
          "color": "#1ac938"
         },
         "lon": [
          11.3798,
          11.3809
         ],
         "mode": "lines",
         "type": "scattermapbox"
        },
        {
         "hoverinfo": "text",
         "hovertext": "MV3.101 Line 119",
         "lat": [
          53.6455
         ],
         "lon": [
          11.38035
         ],
         "marker": {
          "color": "#1ac938",
          "opacity": 0,
          "size": 0
         },
         "mode": "markers",
         "type": "scattermapbox"
        },
        {
         "hoverinfo": "skip",
         "lat": [
          53.6537,
          53.6521
         ],
         "line": {
          "color": "#1ac938"
         },
         "lon": [
          11.3524,
          11.3535
         ],
         "mode": "lines",
         "type": "scattermapbox"
        },
        {
         "hoverinfo": "text",
         "hovertext": "MV3.101 Line 65",
         "lat": [
          53.6529
         ],
         "lon": [
          11.35295
         ],
         "marker": {
          "color": "#1ac938",
          "opacity": 0,
          "size": 0
         },
         "mode": "markers",
         "type": "scattermapbox"
        },
        {
         "hoverinfo": "skip",
         "lat": [
          53.6472,
          53.6464
         ],
         "line": {
          "color": "#1ac938"
         },
         "lon": [
          11.3833,
          11.3832
         ],
         "mode": "lines",
         "type": "scattermapbox"
        },
        {
         "hoverinfo": "text",
         "hovertext": "MV3.101 Line 125",
         "lat": [
          53.6468
         ],
         "lon": [
          11.38325
         ],
         "marker": {
          "color": "#1ac938",
          "opacity": 0,
          "size": 0
         },
         "mode": "markers",
         "type": "scattermapbox"
        },
        {
         "hoverinfo": "skip",
         "lat": [
          53.6477,
          53.6492
         ],
         "line": {
          "color": "#1ac938"
         },
         "lon": [
          11.3701,
          11.372
         ],
         "mode": "lines",
         "type": "scattermapbox"
        },
        {
         "hoverinfo": "text",
         "hovertext": "MV3.101 Line 29",
         "lat": [
          53.64845
         ],
         "lon": [
          11.37105
         ],
         "marker": {
          "color": "#1ac938",
          "opacity": 0,
          "size": 0
         },
         "mode": "markers",
         "type": "scattermapbox"
        },
        {
         "hoverinfo": "skip",
         "lat": [
          53.6489,
          53.6498
         ],
         "line": {
          "color": "#1ac938"
         },
         "lon": [
          11.3604,
          11.3578
         ],
         "mode": "lines",
         "type": "scattermapbox"
        },
        {
         "hoverinfo": "text",
         "hovertext": "MV3.101 Line 54",
         "lat": [
          53.64935
         ],
         "lon": [
          11.3591
         ],
         "marker": {
          "color": "#1ac938",
          "opacity": 0,
          "size": 0
         },
         "mode": "markers",
         "type": "scattermapbox"
        },
        {
         "hoverinfo": "skip",
         "lat": [
          53.6312,
          53.6303
         ],
         "line": {
          "color": "#1ac938"
         },
         "lon": [
          11.3627,
          11.3626
         ],
         "mode": "lines",
         "type": "scattermapbox"
        },
        {
         "hoverinfo": "text",
         "hovertext": "MV3.101 Line 78",
         "lat": [
          53.63075
         ],
         "lon": [
          11.36265
         ],
         "marker": {
          "color": "#1ac938",
          "opacity": 0,
          "size": 0
         },
         "mode": "markers",
         "type": "scattermapbox"
        },
        {
         "hoverinfo": "skip",
         "lat": [
          53.6346,
          53.633
         ],
         "line": {
          "color": "#1ac938"
         },
         "lon": [
          11.3656,
          11.3668
         ],
         "mode": "lines",
         "type": "scattermapbox"
        },
        {
         "hoverinfo": "text",
         "hovertext": "MV3.101 Line 101",
         "lat": [
          53.6338
         ],
         "lon": [
          11.3662
         ],
         "marker": {
          "color": "#1ac938",
          "opacity": 0,
          "size": 0
         },
         "mode": "markers",
         "type": "scattermapbox"
        },
        {
         "hoverinfo": "skip",
         "lat": [
          53.6521,
          53.6508
         ],
         "line": {
          "color": "#1ac938"
         },
         "lon": [
          11.3535,
          11.3521
         ],
         "mode": "lines",
         "type": "scattermapbox"
        },
        {
         "hoverinfo": "text",
         "hovertext": "MV3.101 Line 66",
         "lat": [
          53.65145
         ],
         "lon": [
          11.3528
         ],
         "marker": {
          "color": "#1ac938",
          "opacity": 0,
          "size": 0
         },
         "mode": "markers",
         "type": "scattermapbox"
        },
        {
         "hoverinfo": "skip",
         "lat": [
          53.6464,
          53.6464
         ],
         "line": {
          "color": "#1ac938"
         },
         "lon": [
          11.3721,
          11.3745
         ],
         "mode": "lines",
         "type": "scattermapbox"
        },
        {
         "hoverinfo": "text",
         "hovertext": "MV3.101 BS-Feeder4_line",
         "lat": [
          53.6464
         ],
         "lon": [
          11.3733
         ],
         "marker": {
          "color": "#1ac938",
          "opacity": 0,
          "size": 0
         },
         "mode": "markers",
         "type": "scattermapbox"
        },
        {
         "hoverinfo": "skip",
         "lat": [
          53.6524,
          53.6531
         ],
         "line": {
          "color": "#1ac938"
         },
         "lon": [
          11.3561,
          11.3584
         ],
         "mode": "lines",
         "type": "scattermapbox"
        },
        {
         "hoverinfo": "text",
         "hovertext": "MV3.101 Line 58",
         "lat": [
          53.65275
         ],
         "lon": [
          11.35725
         ],
         "marker": {
          "color": "#1ac938",
          "opacity": 0,
          "size": 0
         },
         "mode": "markers",
         "type": "scattermapbox"
        },
        {
         "hoverinfo": "skip",
         "lat": [
          53.6456,
          53.6457
         ],
         "line": {
          "color": "#1ac938"
         },
         "lon": [
          11.3692,
          11.3682
         ],
         "mode": "lines",
         "type": "scattermapbox"
        },
        {
         "hoverinfo": "text",
         "hovertext": "MV3.101 Line 49",
         "lat": [
          53.64565
         ],
         "lon": [
          11.3687
         ],
         "marker": {
          "color": "#1ac938",
          "opacity": 0,
          "size": 0
         },
         "mode": "markers",
         "type": "scattermapbox"
        },
        {
         "hoverinfo": "skip",
         "lat": [
          53.6456,
          53.6459
         ],
         "line": {
          "color": "#1ac938"
         },
         "lon": [
          11.3692,
          11.3687
         ],
         "mode": "lines",
         "type": "scattermapbox"
        },
        {
         "hoverinfo": "text",
         "hovertext": "MV3.101 Line 41",
         "lat": [
          53.64575
         ],
         "lon": [
          11.36895
         ],
         "marker": {
          "color": "#1ac938",
          "opacity": 0,
          "size": 0
         },
         "mode": "markers",
         "type": "scattermapbox"
        },
        {
         "hoverinfo": "skip",
         "lat": [
          53.6501,
          53.6488
         ],
         "line": {
          "color": "#1ac938"
         },
         "lon": [
          11.3811,
          11.3833
         ],
         "mode": "lines",
         "type": "scattermapbox"
        },
        {
         "hoverinfo": "text",
         "hovertext": "MV3.101 Line 133",
         "lat": [
          53.64945
         ],
         "lon": [
          11.382200000000001
         ],
         "marker": {
          "color": "#1ac938",
          "opacity": 0,
          "size": 0
         },
         "mode": "markers",
         "type": "scattermapbox"
        },
        {
         "hoverinfo": "skip",
         "lat": [
          53.6457,
          53.6465
         ],
         "line": {
          "color": "#1ac938"
         },
         "lon": [
          11.3682,
          11.3669
         ],
         "mode": "lines",
         "type": "scattermapbox"
        },
        {
         "hoverinfo": "text",
         "hovertext": "MV3.101 Line 50",
         "lat": [
          53.646100000000004
         ],
         "lon": [
          11.36755
         ],
         "marker": {
          "color": "#1ac938",
          "opacity": 0,
          "size": 0
         },
         "mode": "markers",
         "type": "scattermapbox"
        },
        {
         "hoverinfo": "skip",
         "lat": [
          53.6504,
          53.6516
         ],
         "line": {
          "color": "#1ac938"
         },
         "lon": [
          11.357,
          11.3561
         ],
         "mode": "lines",
         "type": "scattermapbox"
        },
        {
         "hoverinfo": "text",
         "hovertext": "MV3.101 Line 56",
         "lat": [
          53.650999999999996
         ],
         "lon": [
          11.356549999999999
         ],
         "marker": {
          "color": "#1ac938",
          "opacity": 0,
          "size": 0
         },
         "mode": "markers",
         "type": "scattermapbox"
        },
        {
         "hoverinfo": "skip",
         "lat": [
          53.6306,
          53.6297
         ],
         "line": {
          "color": "#1ac938"
         },
         "lon": [
          11.3739,
          11.3739
         ],
         "mode": "lines",
         "type": "scattermapbox"
        },
        {
         "hoverinfo": "text",
         "hovertext": "MV3.101 Line 107",
         "lat": [
          53.63015
         ],
         "lon": [
          11.3739
         ],
         "marker": {
          "color": "#1ac938",
          "opacity": 0,
          "size": 0
         },
         "mode": "markers",
         "type": "scattermapbox"
        },
        {
         "hoverinfo": "skip",
         "lat": [
          53.624,
          53.6236
         ],
         "line": {
          "color": "#1ac938"
         },
         "lon": [
          11.366,
          11.3683
         ],
         "mode": "lines",
         "type": "scattermapbox"
        },
        {
         "hoverinfo": "text",
         "hovertext": "MV3.101 Line 82",
         "lat": [
          53.6238
         ],
         "lon": [
          11.367149999999999
         ],
         "marker": {
          "color": "#1ac938",
          "opacity": 0,
          "size": 0
         },
         "mode": "markers",
         "type": "scattermapbox"
        },
        {
         "hoverinfo": "skip",
         "lat": [
          53.6499,
          53.6501
         ],
         "line": {
          "color": "#1ac938"
         },
         "lon": [
          11.3773,
          11.3779
         ],
         "mode": "lines",
         "type": "scattermapbox"
        },
        {
         "hoverinfo": "text",
         "hovertext": "MV3.101 Line 130",
         "lat": [
          53.650000000000006
         ],
         "lon": [
          11.377600000000001
         ],
         "marker": {
          "color": "#1ac938",
          "opacity": 0,
          "size": 0
         },
         "mode": "markers",
         "type": "scattermapbox"
        },
        {
         "hoverinfo": "skip",
         "lat": [
          53.6464,
          53.6438
         ],
         "line": {
          "color": "#1ac938"
         },
         "lon": [
          11.3745,
          11.3767
         ],
         "mode": "lines",
         "type": "scattermapbox"
        },
        {
         "hoverinfo": "text",
         "hovertext": "MV3.101 Line 109",
         "lat": [
          53.6451
         ],
         "lon": [
          11.375599999999999
         ],
         "marker": {
          "color": "#1ac938",
          "opacity": 0,
          "size": 0
         },
         "mode": "markers",
         "type": "scattermapbox"
        },
        {
         "hoverinfo": "skip",
         "lat": [
          53.6477,
          53.6482
         ],
         "line": {
          "color": "#1ac938"
         },
         "lon": [
          11.3641,
          11.3627
         ],
         "mode": "lines",
         "type": "scattermapbox"
        },
        {
         "hoverinfo": "text",
         "hovertext": "MV3.101 Line 52",
         "lat": [
          53.64795
         ],
         "lon": [
          11.3634
         ],
         "marker": {
          "color": "#1ac938",
          "opacity": 0,
          "size": 0
         },
         "mode": "markers",
         "type": "scattermapbox"
        },
        {
         "hoverinfo": "skip",
         "lat": [
          53.6425,
          53.6421
         ],
         "line": {
          "color": "#1ac938"
         },
         "lon": [
          11.3707,
          11.3708
         ],
         "mode": "lines",
         "type": "scattermapbox"
        },
        {
         "hoverinfo": "text",
         "hovertext": "MV3.101 Line 3",
         "lat": [
          53.6423
         ],
         "lon": [
          11.37075
         ],
         "marker": {
          "color": "#1ac938",
          "opacity": 0,
          "size": 0
         },
         "mode": "markers",
         "type": "scattermapbox"
        },
        {
         "hoverinfo": "skip",
         "lat": [
          53.648,
          53.6492
         ],
         "line": {
          "color": "#1ac938"
         },
         "lon": [
          11.3667,
          11.3656
         ],
         "mode": "lines",
         "type": "scattermapbox"
        },
        {
         "hoverinfo": "text",
         "hovertext": "MV3.101 Line 43",
         "lat": [
          53.6486
         ],
         "lon": [
          11.366150000000001
         ],
         "marker": {
          "color": "#1ac938",
          "opacity": 0,
          "size": 0
         },
         "mode": "markers",
         "type": "scattermapbox"
        },
        {
         "hoverinfo": "skip",
         "lat": [
          53.6454,
          53.6453
         ],
         "line": {
          "color": "#1ac938"
         },
         "lon": [
          11.3706,
          11.372
         ],
         "mode": "lines",
         "type": "scattermapbox"
        },
        {
         "hoverinfo": "text",
         "hovertext": "MV3.101 Line 13",
         "lat": [
          53.64535
         ],
         "lon": [
          11.3713
         ],
         "marker": {
          "color": "#1ac938",
          "opacity": 0,
          "size": 0
         },
         "mode": "markers",
         "type": "scattermapbox"
        },
        {
         "hoverinfo": "skip",
         "lat": [
          53.6441,
          53.6425
         ],
         "line": {
          "color": "#1ac938"
         },
         "lon": [
          11.3699,
          11.3707
         ],
         "mode": "lines",
         "type": "scattermapbox"
        },
        {
         "hoverinfo": "text",
         "hovertext": "MV3.101 Line 2",
         "lat": [
          53.643299999999996
         ],
         "lon": [
          11.3703
         ],
         "marker": {
          "color": "#1ac938",
          "opacity": 0,
          "size": 0
         },
         "mode": "markers",
         "type": "scattermapbox"
        },
        {
         "hoverinfo": "skip",
         "lat": [
          53.6415,
          53.6422
         ],
         "line": {
          "color": "#1ac938"
         },
         "lon": [
          11.3776,
          11.3784
         ],
         "mode": "lines",
         "type": "scattermapbox"
        },
        {
         "hoverinfo": "text",
         "hovertext": "MV3.101 Line 8",
         "lat": [
          53.641850000000005
         ],
         "lon": [
          11.378
         ],
         "marker": {
          "color": "#1ac938",
          "opacity": 0,
          "size": 0
         },
         "mode": "markers",
         "type": "scattermapbox"
        },
        {
         "hoverinfo": "skip",
         "lat": [
          53.6469,
          53.6489
         ],
         "line": {
          "color": "#1ac938"
         },
         "lon": [
          11.3688,
          11.3683
         ],
         "mode": "lines",
         "type": "scattermapbox"
        },
        {
         "hoverinfo": "text",
         "hovertext": "MV3.101 Line 33",
         "lat": [
          53.6479
         ],
         "lon": [
          11.368549999999999
         ],
         "marker": {
          "color": "#1ac938",
          "opacity": 0,
          "size": 0
         },
         "mode": "markers",
         "type": "scattermapbox"
        },
        {
         "hoverinfo": "skip",
         "lat": [
          53.6384,
          53.6353
         ],
         "line": {
          "color": "#1ac938"
         },
         "lon": [
          11.364,
          11.3632
         ],
         "mode": "lines",
         "type": "scattermapbox"
        },
        {
         "hoverinfo": "text",
         "hovertext": "MV3.101 Line 74",
         "lat": [
          53.636849999999995
         ],
         "lon": [
          11.363600000000002
         ],
         "marker": {
          "color": "#1ac938",
          "opacity": 0,
          "size": 0
         },
         "mode": "markers",
         "type": "scattermapbox"
        },
        {
         "hoverinfo": "skip",
         "lat": [
          53.6454,
          53.6454
         ],
         "line": {
          "color": "#1ac938"
         },
         "lon": [
          11.3762,
          11.3776
         ],
         "mode": "lines",
         "type": "scattermapbox"
        },
        {
         "hoverinfo": "text",
         "hovertext": "MV3.101 Line 117",
         "lat": [
          53.6454
         ],
         "lon": [
          11.3769
         ],
         "marker": {
          "color": "#1ac938",
          "opacity": 0,
          "size": 0
         },
         "mode": "markers",
         "type": "scattermapbox"
        },
        {
         "hoverinfo": "skip",
         "lat": [
          53.6475,
          53.6481
         ],
         "line": {
          "color": "#1ac938"
         },
         "lon": [
          11.3748,
          11.3752
         ],
         "mode": "lines",
         "type": "scattermapbox"
        },
        {
         "hoverinfo": "text",
         "hovertext": "MV3.101 Line 128",
         "lat": [
          53.647800000000004
         ],
         "lon": [
          11.375
         ],
         "marker": {
          "color": "#1ac938",
          "opacity": 0,
          "size": 0
         },
         "mode": "markers",
         "type": "scattermapbox"
        },
        {
         "hoverinfo": "skip",
         "lat": [
          53.6456,
          53.6451
         ],
         "line": {
          "color": "#1ac938"
         },
         "lon": [
          11.3692,
          11.369
         ],
         "mode": "lines",
         "type": "scattermapbox"
        },
        {
         "hoverinfo": "text",
         "hovertext": "MV3.101 Line 67",
         "lat": [
          53.64535
         ],
         "lon": [
          11.3691
         ],
         "marker": {
          "color": "#1ac938",
          "opacity": 0,
          "size": 0
         },
         "mode": "markers",
         "type": "scattermapbox"
        },
        {
         "hoverinfo": "skip",
         "lat": [
          53.6456,
          53.6464
         ],
         "line": {
          "color": "#1ac938"
         },
         "lon": [
          11.3738,
          11.3745
         ],
         "mode": "lines",
         "type": "scattermapbox"
        },
        {
         "hoverinfo": "text",
         "hovertext": "MV3.101 BS-Feeder3_line",
         "lat": [
          53.646
         ],
         "lon": [
          11.37415
         ],
         "marker": {
          "color": "#1ac938",
          "opacity": 0,
          "size": 0
         },
         "mode": "markers",
         "type": "scattermapbox"
        },
        {
         "hoverinfo": "skip",
         "lat": [
          53.6429,
          53.6434
         ],
         "line": {
          "color": "#1ac938"
         },
         "lon": [
          11.3815,
          11.3825
         ],
         "mode": "lines",
         "type": "scattermapbox"
        },
        {
         "hoverinfo": "text",
         "hovertext": "MV3.101 Line 114",
         "lat": [
          53.64315
         ],
         "lon": [
          11.382000000000001
         ],
         "marker": {
          "color": "#1ac938",
          "opacity": 0,
          "size": 0
         },
         "mode": "markers",
         "type": "scattermapbox"
        },
        {
         "hoverinfo": "skip",
         "lat": [
          53.647,
          53.6477
         ],
         "line": {
          "color": "#1ac938"
         },
         "lon": [
          11.3701,
          11.3701
         ],
         "mode": "lines",
         "type": "scattermapbox"
        },
        {
         "hoverinfo": "text",
         "hovertext": "MV3.101 Line 28",
         "lat": [
          53.64735
         ],
         "lon": [
          11.3701
         ],
         "marker": {
          "color": "#1ac938",
          "opacity": 0,
          "size": 0
         },
         "mode": "markers",
         "type": "scattermapbox"
        },
        {
         "hoverinfo": "skip",
         "lat": [
          53.6315,
          53.6321
         ],
         "line": {
          "color": "#1ac938"
         },
         "lon": [
          11.3692,
          11.3702
         ],
         "mode": "lines",
         "type": "scattermapbox"
        },
        {
         "hoverinfo": "text",
         "hovertext": "MV3.101 Line 103",
         "lat": [
          53.6318
         ],
         "lon": [
          11.3697
         ],
         "marker": {
          "color": "#1ac938",
          "opacity": 0,
          "size": 0
         },
         "mode": "markers",
         "type": "scattermapbox"
        },
        {
         "hoverinfo": "skip",
         "lat": [
          53.645,
          53.6448
         ],
         "line": {
          "color": "#1ac938"
         },
         "lon": [
          11.3649,
          11.364
         ],
         "mode": "lines",
         "type": "scattermapbox"
        },
        {
         "hoverinfo": "text",
         "hovertext": "MV3.101 Line 86",
         "lat": [
          53.6449
         ],
         "lon": [
          11.364450000000001
         ],
         "marker": {
          "color": "#1ac938",
          "opacity": 0,
          "size": 0
         },
         "mode": "markers",
         "type": "scattermapbox"
        },
        {
         "hoverinfo": "skip",
         "lat": [
          53.6502,
          53.6501
         ],
         "line": {
          "color": "#1ac938"
         },
         "lon": [
          11.3805,
          11.3811
         ],
         "mode": "lines",
         "type": "scattermapbox"
        },
        {
         "hoverinfo": "text",
         "hovertext": "MV3.101 Line 132",
         "lat": [
          53.65015
         ],
         "lon": [
          11.3808
         ],
         "marker": {
          "color": "#1ac938",
          "opacity": 0,
          "size": 0
         },
         "mode": "markers",
         "type": "scattermapbox"
        },
        {
         "hoverinfo": "skip",
         "lat": [
          53.6498,
          53.6504
         ],
         "line": {
          "color": "#1ac938"
         },
         "lon": [
          11.3578,
          11.357
         ],
         "mode": "lines",
         "type": "scattermapbox"
        },
        {
         "hoverinfo": "text",
         "hovertext": "MV3.101 Line 55",
         "lat": [
          53.650099999999995
         ],
         "lon": [
          11.357399999999998
         ],
         "marker": {
          "color": "#1ac938",
          "opacity": 0,
          "size": 0
         },
         "mode": "markers",
         "type": "scattermapbox"
        },
        {
         "hoverinfo": "skip",
         "lat": [
          53.6453,
          53.645
         ],
         "line": {
          "color": "#1ac938"
         },
         "lon": [
          11.3665,
          11.3649
         ],
         "mode": "lines",
         "type": "scattermapbox"
        },
        {
         "hoverinfo": "text",
         "hovertext": "MV3.101 Line 85",
         "lat": [
          53.64515
         ],
         "lon": [
          11.3657
         ],
         "marker": {
          "color": "#1ac938",
          "opacity": 0,
          "size": 0
         },
         "mode": "markers",
         "type": "scattermapbox"
        },
        {
         "hoverinfo": "skip",
         "lat": [
          53.6544,
          53.6534
         ],
         "line": {
          "color": "#1ac938"
         },
         "lon": [
          11.3777,
          11.3794
         ],
         "mode": "lines",
         "type": "scattermapbox"
        },
        {
         "hoverinfo": "text",
         "hovertext": "MV3.101 Line 23",
         "lat": [
          53.6539
         ],
         "lon": [
          11.37855
         ],
         "marker": {
          "color": "#1ac938",
          "opacity": 0,
          "size": 0
         },
         "mode": "markers",
         "type": "scattermapbox"
        },
        {
         "hoverinfo": "skip",
         "lat": [
          53.6505,
          53.6525
         ],
         "line": {
          "color": "#1ac938"
         },
         "lon": [
          11.3708,
          11.3724
         ],
         "mode": "lines",
         "type": "scattermapbox"
        },
        {
         "hoverinfo": "text",
         "hovertext": "MV3.101 Line 18",
         "lat": [
          53.6515
         ],
         "lon": [
          11.3716
         ],
         "marker": {
          "color": "#1ac938",
          "opacity": 0,
          "size": 0
         },
         "mode": "markers",
         "type": "scattermapbox"
        },
        {
         "hoverinfo": "skip",
         "lat": [
          53.6519,
          53.651
         ],
         "line": {
          "color": "#1ac938"
         },
         "lon": [
          11.3805,
          11.3807
         ],
         "mode": "lines",
         "type": "scattermapbox"
        },
        {
         "hoverinfo": "text",
         "hovertext": "MV3.101 Line 25",
         "lat": [
          53.65145
         ],
         "lon": [
          11.3806
         ],
         "marker": {
          "color": "#1ac938",
          "opacity": 0,
          "size": 0
         },
         "mode": "markers",
         "type": "scattermapbox"
        },
        {
         "hoverinfo": "skip",
         "lat": [
          53.6437,
          53.6439
         ],
         "line": {
          "color": "#1ac938"
         },
         "lon": [
          11.3577,
          11.3558
         ],
         "mode": "lines",
         "type": "scattermapbox"
        },
        {
         "hoverinfo": "text",
         "hovertext": "MV3.101 Line 90",
         "lat": [
          53.6438
         ],
         "lon": [
          11.35675
         ],
         "marker": {
          "color": "#1ac938",
          "opacity": 0,
          "size": 0
         },
         "mode": "markers",
         "type": "scattermapbox"
        },
        {
         "hoverinfo": "skip",
         "lat": [
          53.6409,
          53.641
         ],
         "line": {
          "color": "#1ac938"
         },
         "lon": [
          11.3733,
          11.3767
         ],
         "mode": "lines",
         "type": "scattermapbox"
        },
        {
         "hoverinfo": "text",
         "hovertext": "MV3.101 Line 6",
         "lat": [
          53.640950000000004
         ],
         "lon": [
          11.375
         ],
         "marker": {
          "color": "#1ac938",
          "opacity": 0,
          "size": 0
         },
         "mode": "markers",
         "type": "scattermapbox"
        },
        {
         "hoverinfo": "skip",
         "lat": [
          53.642,
          53.6416
         ],
         "line": {
          "color": "#1ac938"
         },
         "lon": [
          11.3663,
          11.366
         ],
         "mode": "lines",
         "type": "scattermapbox"
        },
        {
         "hoverinfo": "text",
         "hovertext": "MV3.101 Line 71",
         "lat": [
          53.6418
         ],
         "lon": [
          11.366150000000001
         ],
         "marker": {
          "color": "#1ac938",
          "opacity": 0,
          "size": 0
         },
         "mode": "markers",
         "type": "scattermapbox"
        },
        {
         "hoverinfo": "skip",
         "lat": [
          53.6443,
          53.6441
         ],
         "line": {
          "color": "#1ac938"
         },
         "lon": [
          11.3619,
          11.3609
         ],
         "mode": "lines",
         "type": "scattermapbox"
        },
        {
         "hoverinfo": "text",
         "hovertext": "MV3.101 Line 88",
         "lat": [
          53.6442
         ],
         "lon": [
          11.3614
         ],
         "marker": {
          "color": "#1ac938",
          "opacity": 0,
          "size": 0
         },
         "mode": "markers",
         "type": "scattermapbox"
        },
        {
         "hoverinfo": "skip",
         "lat": [
          53.6461,
          53.6477
         ],
         "line": {
          "color": "#1ac938"
         },
         "lon": [
          11.3521,
          11.3511
         ],
         "mode": "lines",
         "type": "scattermapbox"
        },
        {
         "hoverinfo": "text",
         "hovertext": "MV3.101 Line 93",
         "lat": [
          53.6469
         ],
         "lon": [
          11.351600000000001
         ],
         "marker": {
          "color": "#1ac938",
          "opacity": 0,
          "size": 0
         },
         "mode": "markers",
         "type": "scattermapbox"
        },
        {
         "hoverinfo": "skip",
         "lat": [
          53.6603,
          53.662
         ],
         "line": {
          "color": "#1ac938"
         },
         "lon": [
          11.3636,
          11.3646
         ],
         "mode": "lines",
         "type": "scattermapbox"
        },
        {
         "hoverinfo": "text",
         "hovertext": "MV3.101 Line 48",
         "lat": [
          53.66115
         ],
         "lon": [
          11.3641
         ],
         "marker": {
          "color": "#1ac938",
          "opacity": 0,
          "size": 0
         },
         "mode": "markers",
         "type": "scattermapbox"
        },
        {
         "hoverinfo": "skip",
         "lat": [
          53.6434,
          53.642
         ],
         "line": {
          "color": "#1ac938"
         },
         "lon": [
          11.3674,
          11.3663
         ],
         "mode": "lines",
         "type": "scattermapbox"
        },
        {
         "hoverinfo": "text",
         "hovertext": "MV3.101 Line 70",
         "lat": [
          53.642700000000005
         ],
         "lon": [
          11.36685
         ],
         "marker": {
          "color": "#1ac938",
          "opacity": 0,
          "size": 0
         },
         "mode": "markers",
         "type": "scattermapbox"
        },
        {
         "hoverinfo": "skip",
         "lat": [
          53.641,
          53.6415
         ],
         "line": {
          "color": "#1ac938"
         },
         "lon": [
          11.3767,
          11.3776
         ],
         "mode": "lines",
         "type": "scattermapbox"
        },
        {
         "hoverinfo": "text",
         "hovertext": "MV3.101 Line 7",
         "lat": [
          53.64125
         ],
         "lon": [
          11.37715
         ],
         "marker": {
          "color": "#1ac938",
          "opacity": 0,
          "size": 0
         },
         "mode": "markers",
         "type": "scattermapbox"
        },
        {
         "hoverinfo": "skip",
         "lat": [
          53.6389,
          53.637
         ],
         "line": {
          "color": "#1ac938"
         },
         "lon": [
          11.3669,
          11.3664
         ],
         "mode": "lines",
         "type": "scattermapbox"
        },
        {
         "hoverinfo": "text",
         "hovertext": "MV3.101 Line 98",
         "lat": [
          53.637950000000004
         ],
         "lon": [
          11.36665
         ],
         "marker": {
          "color": "#1ac938",
          "opacity": 0,
          "size": 0
         },
         "mode": "markers",
         "type": "scattermapbox"
        },
        {
         "hoverinfo": "skip",
         "lat": [
          53.6363,
          53.6346
         ],
         "line": {
          "color": "#1ac938"
         },
         "lon": [
          11.3661,
          11.3656
         ],
         "mode": "lines",
         "type": "scattermapbox"
        },
        {
         "hoverinfo": "text",
         "hovertext": "MV3.101 Line 100",
         "lat": [
          53.63545
         ],
         "lon": [
          11.36585
         ],
         "marker": {
          "color": "#1ac938",
          "opacity": 0,
          "size": 0
         },
         "mode": "markers",
         "type": "scattermapbox"
        },
        {
         "hoverinfo": "skip",
         "lat": [
          53.6465,
          53.6477
         ],
         "line": {
          "color": "#1ac938"
         },
         "lon": [
          11.3669,
          11.3641
         ],
         "mode": "lines",
         "type": "scattermapbox"
        },
        {
         "hoverinfo": "text",
         "hovertext": "MV3.101 Line 51",
         "lat": [
          53.6471
         ],
         "lon": [
          11.3655
         ],
         "marker": {
          "color": "#1ac938",
          "opacity": 0,
          "size": 0
         },
         "mode": "markers",
         "type": "scattermapbox"
        },
        {
         "hoverinfo": "skip",
         "lat": [
          53.6545,
          53.6544
         ],
         "line": {
          "color": "#1ac938"
         },
         "lon": [
          11.3756,
          11.3777
         ],
         "mode": "lines",
         "type": "scattermapbox"
        },
        {
         "hoverinfo": "text",
         "hovertext": "MV3.101 Line 22",
         "lat": [
          53.65445
         ],
         "lon": [
          11.376650000000001
         ],
         "marker": {
          "color": "#1ac938",
          "opacity": 0,
          "size": 0
         },
         "mode": "markers",
         "type": "scattermapbox"
        },
        {
         "hoverinfo": "skip",
         "lat": [
          53.6559,
          53.655
         ],
         "line": {
          "color": "#1ac938"
         },
         "lon": [
          11.3519,
          11.3518
         ],
         "mode": "lines",
         "type": "scattermapbox"
        },
        {
         "hoverinfo": "text",
         "hovertext": "MV3.101 Line 63",
         "lat": [
          53.65545
         ],
         "lon": [
          11.35185
         ],
         "marker": {
          "color": "#1ac938",
          "opacity": 0,
          "size": 0
         },
         "mode": "markers",
         "type": "scattermapbox"
        },
        {
         "hoverinfo": "skip",
         "lat": [
          53.6456,
          53.6441
         ],
         "line": {
          "color": "#1ac938"
         },
         "lon": [
          11.3692,
          11.3699
         ],
         "mode": "lines",
         "type": "scattermapbox"
        },
        {
         "hoverinfo": "text",
         "hovertext": "MV3.101 Line 1",
         "lat": [
          53.644850000000005
         ],
         "lon": [
          11.36955
         ],
         "marker": {
          "color": "#1ac938",
          "opacity": 0,
          "size": 0
         },
         "mode": "markers",
         "type": "scattermapbox"
        },
        {
         "hoverinfo": "skip",
         "lat": [
          53.6261,
          53.624
         ],
         "line": {
          "color": "#1ac938"
         },
         "lon": [
          11.3638,
          11.366
         ],
         "mode": "lines",
         "type": "scattermapbox"
        },
        {
         "hoverinfo": "text",
         "hovertext": "MV3.101 Line 81",
         "lat": [
          53.62505
         ],
         "lon": [
          11.364899999999999
         ],
         "marker": {
          "color": "#1ac938",
          "opacity": 0,
          "size": 0
         },
         "mode": "markers",
         "type": "scattermapbox"
        },
        {
         "hoverinfo": "skip",
         "lat": [
          53.6456,
          53.6454
         ],
         "line": {
          "color": "#1ac938"
         },
         "lon": [
          11.3752,
          11.3762
         ],
         "mode": "lines",
         "type": "scattermapbox"
        },
        {
         "hoverinfo": "text",
         "hovertext": "MV3.101 Line 116",
         "lat": [
          53.6455
         ],
         "lon": [
          11.3757
         ],
         "marker": {
          "color": "#1ac938",
          "opacity": 0,
          "size": 0
         },
         "mode": "markers",
         "type": "scattermapbox"
        },
        {
         "hoverinfo": "skip",
         "lat": [
          53.6416,
          53.6406
         ],
         "line": {
          "color": "#1ac938"
         },
         "lon": [
          11.366,
          11.3654
         ],
         "mode": "lines",
         "type": "scattermapbox"
        },
        {
         "hoverinfo": "text",
         "hovertext": "MV3.101 Line 72",
         "lat": [
          53.641099999999994
         ],
         "lon": [
          11.3657
         ],
         "marker": {
          "color": "#1ac938",
          "opacity": 0,
          "size": 0
         },
         "mode": "markers",
         "type": "scattermapbox"
        },
        {
         "hoverinfo": "skip",
         "lat": [
          53.6456,
          53.6462
         ],
         "line": {
          "color": "#1ac938"
         },
         "lon": [
          11.3692,
          11.3691
         ],
         "mode": "lines",
         "type": "scattermapbox"
        },
        {
         "hoverinfo": "text",
         "hovertext": "MV3.101 Line 31",
         "lat": [
          53.6459
         ],
         "lon": [
          11.36915
         ],
         "marker": {
          "color": "#1ac938",
          "opacity": 0,
          "size": 0
         },
         "mode": "markers",
         "type": "scattermapbox"
        },
        {
         "hoverinfo": "skip",
         "lat": [
          53.6429,
          53.6428
         ],
         "line": {
          "color": "#1ac938"
         },
         "lon": [
          11.3789,
          11.381
         ],
         "mode": "lines",
         "type": "scattermapbox"
        },
        {
         "hoverinfo": "text",
         "hovertext": "MV3.101 Line 112",
         "lat": [
          53.642849999999996
         ],
         "lon": [
          11.379950000000001
         ],
         "marker": {
          "color": "#1ac938",
          "opacity": 0,
          "size": 0
         },
         "mode": "markers",
         "type": "scattermapbox"
        },
        {
         "hoverinfo": "skip",
         "lat": [
          53.637,
          53.6363
         ],
         "line": {
          "color": "#1ac938"
         },
         "lon": [
          11.3664,
          11.3661
         ],
         "mode": "lines",
         "type": "scattermapbox"
        },
        {
         "hoverinfo": "text",
         "hovertext": "MV3.101 Line 99",
         "lat": [
          53.63665
         ],
         "lon": [
          11.36625
         ],
         "marker": {
          "color": "#1ac938",
          "opacity": 0,
          "size": 0
         },
         "mode": "markers",
         "type": "scattermapbox"
        },
        {
         "hoverinfo": "skip",
         "lat": [
          53.6411,
          53.6397
         ],
         "line": {
          "color": "#1ac938"
         },
         "lon": [
          11.3715,
          11.3715
         ],
         "mode": "lines",
         "type": "scattermapbox"
        },
        {
         "hoverinfo": "text",
         "hovertext": "MV3.101 Line 9",
         "lat": [
          53.6404
         ],
         "lon": [
          11.3715
         ],
         "marker": {
          "color": "#1ac938",
          "opacity": 0,
          "size": 0
         },
         "mode": "markers",
         "type": "scattermapbox"
        },
        {
         "hoverinfo": "skip",
         "lat": [
          53.6579,
          53.6603
         ],
         "line": {
          "color": "#1ac938"
         },
         "lon": [
          11.3634,
          11.3636
         ],
         "mode": "lines",
         "type": "scattermapbox"
        },
        {
         "hoverinfo": "text",
         "hovertext": "MV3.101 Line 47",
         "lat": [
          53.659099999999995
         ],
         "lon": [
          11.3635
         ],
         "marker": {
          "color": "#1ac938",
          "opacity": 0,
          "size": 0
         },
         "mode": "markers",
         "type": "scattermapbox"
        },
        {
         "hoverinfo": "skip",
         "lat": [
          53.6328,
          53.6306
         ],
         "line": {
          "color": "#1ac938"
         },
         "lon": [
          11.3733,
          11.3739
         ],
         "mode": "lines",
         "type": "scattermapbox"
        },
        {
         "hoverinfo": "text",
         "hovertext": "MV3.101 Line 106",
         "lat": [
          53.6317
         ],
         "lon": [
          11.3736
         ],
         "marker": {
          "color": "#1ac938",
          "opacity": 0,
          "size": 0
         },
         "mode": "markers",
         "type": "scattermapbox"
        },
        {
         "hoverinfo": "skip",
         "lat": [
          53.6469,
          53.6475
         ],
         "line": {
          "color": "#1ac938"
         },
         "lon": [
          11.3746,
          11.3748
         ],
         "mode": "lines",
         "type": "scattermapbox"
        },
        {
         "hoverinfo": "text",
         "hovertext": "MV3.101 Line 127",
         "lat": [
          53.6472
         ],
         "lon": [
          11.3747
         ],
         "marker": {
          "color": "#1ac938",
          "opacity": 0,
          "size": 0
         },
         "mode": "markers",
         "type": "scattermapbox"
        },
        {
         "hoverinfo": "skip",
         "lat": [
          53.6236,
          53.6252
         ],
         "line": {
          "color": "#1ac938"
         },
         "lon": [
          11.3683,
          11.3714
         ],
         "mode": "lines",
         "type": "scattermapbox"
        },
        {
         "hoverinfo": "text",
         "hovertext": "MV3.101 Line 83",
         "lat": [
          53.6244
         ],
         "lon": [
          11.36985
         ],
         "marker": {
          "color": "#1ac938",
          "opacity": 0,
          "size": 0
         },
         "mode": "markers",
         "type": "scattermapbox"
        },
        {
         "hoverinfo": "skip",
         "lat": [
          53.6436,
          53.6417
         ],
         "line": {
          "color": "#1ac938"
         },
         "lon": [
          11.3686,
          11.368
         ],
         "mode": "lines",
         "type": "scattermapbox"
        },
        {
         "hoverinfo": "text",
         "hovertext": "MV3.101 Line 96",
         "lat": [
          53.64265
         ],
         "lon": [
          11.368300000000001
         ],
         "marker": {
          "color": "#1ac938",
          "opacity": 0,
          "size": 0
         },
         "mode": "markers",
         "type": "scattermapbox"
        },
        {
         "hoverinfo": "skip",
         "lat": [
          53.6456,
          53.6485
         ],
         "line": {
          "color": "#1ac938"
         },
         "lon": [
          11.3692,
          11.3698
         ],
         "mode": "lines",
         "type": "scattermapbox"
        },
        {
         "hoverinfo": "text",
         "hovertext": "MV3.101 Line 16",
         "lat": [
          53.64705
         ],
         "lon": [
          11.369499999999999
         ],
         "marker": {
          "color": "#1ac938",
          "opacity": 0,
          "size": 0
         },
         "mode": "markers",
         "type": "scattermapbox"
        },
        {
         "hoverinfo": "skip",
         "lat": [
          53.6531,
          53.6545
         ],
         "line": {
          "color": "#1ac938"
         },
         "lon": [
          11.3584,
          11.3581
         ],
         "mode": "lines",
         "type": "scattermapbox"
        },
        {
         "hoverinfo": "text",
         "hovertext": "MV3.101 Line 59",
         "lat": [
          53.653800000000004
         ],
         "lon": [
          11.35825
         ],
         "marker": {
          "color": "#1ac938",
          "opacity": 0,
          "size": 0
         },
         "mode": "markers",
         "type": "scattermapbox"
        },
        {
         "hoverinfo": "skip",
         "lat": [
          53.6492,
          53.6514
         ],
         "line": {
          "color": "#1ac938"
         },
         "lon": [
          11.3656,
          11.3638
         ],
         "mode": "lines",
         "type": "scattermapbox"
        },
        {
         "hoverinfo": "text",
         "hovertext": "MV3.101 Line 44",
         "lat": [
          53.6503
         ],
         "lon": [
          11.3647
         ],
         "marker": {
          "color": "#1ac938",
          "opacity": 0,
          "size": 0
         },
         "mode": "markers",
         "type": "scattermapbox"
        },
        {
         "hoverinfo": "skip",
         "lat": [
          53.6481,
          53.6481
         ],
         "line": {
          "color": "#1ac938"
         },
         "lon": [
          11.3784,
          11.3819
         ],
         "mode": "lines",
         "type": "scattermapbox"
        },
        {
         "hoverinfo": "text",
         "hovertext": "MV3.101 Line 123",
         "lat": [
          53.6481
         ],
         "lon": [
          11.38015
         ],
         "marker": {
          "color": "#1ac938",
          "opacity": 0,
          "size": 0
         },
         "mode": "markers",
         "type": "scattermapbox"
        },
        {
         "hoverinfo": "skip",
         "lat": [
          53.6477,
          53.6494
         ],
         "line": {
          "color": "#1ac938"
         },
         "lon": [
          11.3511,
          11.351
         ],
         "mode": "lines",
         "type": "scattermapbox"
        },
        {
         "hoverinfo": "text",
         "hovertext": "MV3.101 Line 94",
         "lat": [
          53.64855
         ],
         "lon": [
          11.35105
         ],
         "marker": {
          "color": "#1ac938",
          "opacity": 0,
          "size": 0
         },
         "mode": "markers",
         "type": "scattermapbox"
        },
        {
         "hoverinfo": "skip",
         "lat": [
          53.6406,
          53.6384
         ],
         "line": {
          "color": "#1ac938"
         },
         "lon": [
          11.3654,
          11.364
         ],
         "mode": "lines",
         "type": "scattermapbox"
        },
        {
         "hoverinfo": "text",
         "hovertext": "MV3.101 Line 73",
         "lat": [
          53.6395
         ],
         "lon": [
          11.3647
         ],
         "marker": {
          "color": "#1ac938",
          "opacity": 0,
          "size": 0
         },
         "mode": "markers",
         "type": "scattermapbox"
        },
        {
         "hoverinfo": "skip",
         "lat": [
          53.6451,
          53.6445
         ],
         "line": {
          "color": "#1ac938"
         },
         "lon": [
          11.369,
          11.3683
         ],
         "mode": "lines",
         "type": "scattermapbox"
        },
        {
         "hoverinfo": "text",
         "hovertext": "MV3.101 Line 68",
         "lat": [
          53.644800000000004
         ],
         "lon": [
          11.368649999999999
         ],
         "marker": {
          "color": "#1ac938",
          "opacity": 0,
          "size": 0
         },
         "mode": "markers",
         "type": "scattermapbox"
        },
        {
         "hoverinfo": "skip",
         "lat": [
          53.6456,
          53.6457
         ],
         "line": {
          "color": "#1ac938"
         },
         "lon": [
          11.3692,
          11.3697
         ],
         "mode": "lines",
         "type": "scattermapbox"
        },
        {
         "hoverinfo": "text",
         "hovertext": "MV3.101 Line 26",
         "lat": [
          53.64565
         ],
         "lon": [
          11.36945
         ],
         "marker": {
          "color": "#1ac938",
          "opacity": 0,
          "size": 0
         },
         "mode": "markers",
         "type": "scattermapbox"
        },
        {
         "hoverinfo": "skip",
         "lat": [
          53.6297,
          53.6286
         ],
         "line": {
          "color": "#1ac938"
         },
         "lon": [
          11.3739,
          11.3737
         ],
         "mode": "lines",
         "type": "scattermapbox"
        },
        {
         "hoverinfo": "text",
         "hovertext": "MV3.101 Line 108",
         "lat": [
          53.629149999999996
         ],
         "lon": [
          11.3738
         ],
         "marker": {
          "color": "#1ac938",
          "opacity": 0,
          "size": 0
         },
         "mode": "markers",
         "type": "scattermapbox"
        },
        {
         "hoverinfo": "skip",
         "lat": [
          53.6464,
          53.6456
         ],
         "line": {
          "color": "#1ac938"
         },
         "lon": [
          11.3745,
          11.3752
         ],
         "mode": "lines",
         "type": "scattermapbox"
        },
        {
         "hoverinfo": "text",
         "hovertext": "MV3.101 Line 115",
         "lat": [
          53.646
         ],
         "lon": [
          11.374849999999999
         ],
         "marker": {
          "color": "#1ac938",
          "opacity": 0,
          "size": 0
         },
         "mode": "markers",
         "type": "scattermapbox"
        },
        {
         "hoverinfo": "skip",
         "lat": [
          53.633,
          53.6315
         ],
         "line": {
          "color": "#1ac938"
         },
         "lon": [
          11.3668,
          11.3692
         ],
         "mode": "lines",
         "type": "scattermapbox"
        },
        {
         "hoverinfo": "text",
         "hovertext": "MV3.101 Line 102",
         "lat": [
          53.63225
         ],
         "lon": [
          11.367999999999999
         ],
         "marker": {
          "color": "#1ac938",
          "opacity": 0,
          "size": 0
         },
         "mode": "markers",
         "type": "scattermapbox"
        },
        {
         "hoverinfo": "skip",
         "lat": [
          53.6467,
          53.6479
         ],
         "line": {
          "color": "#1ac938"
         },
         "lon": [
          11.3755,
          11.3773
         ],
         "mode": "lines",
         "type": "scattermapbox"
        },
        {
         "hoverinfo": "text",
         "hovertext": "MV3.101 Line 121",
         "lat": [
          53.6473
         ],
         "lon": [
          11.3764
         ],
         "marker": {
          "color": "#1ac938",
          "opacity": 0,
          "size": 0
         },
         "mode": "markers",
         "type": "scattermapbox"
        },
        {
         "hoverinfo": "skip",
         "lat": [
          53.6514,
          53.6544
         ],
         "line": {
          "color": "#1ac938"
         },
         "lon": [
          11.3638,
          11.3637
         ],
         "mode": "lines",
         "type": "scattermapbox"
        },
        {
         "hoverinfo": "text",
         "hovertext": "MV3.101 Line 45",
         "lat": [
          53.6529
         ],
         "lon": [
          11.36375
         ],
         "marker": {
          "color": "#1ac938",
          "opacity": 0,
          "size": 0
         },
         "mode": "markers",
         "type": "scattermapbox"
        },
        {
         "hoverinfo": "skip",
         "lat": [
          53.6431,
          53.6429
         ],
         "line": {
          "color": "#1ac938"
         },
         "lon": [
          11.3783,
          11.3789
         ],
         "mode": "lines",
         "type": "scattermapbox"
        },
        {
         "hoverinfo": "text",
         "hovertext": "MV3.101 Line 111",
         "lat": [
          53.643
         ],
         "lon": [
          11.378599999999999
         ],
         "marker": {
          "color": "#1ac938",
          "opacity": 0,
          "size": 0
         },
         "mode": "markers",
         "type": "scattermapbox"
        },
        {
         "hoverinfo": "skip",
         "lat": [
          53.6445,
          53.6434
         ],
         "line": {
          "color": "#1ac938"
         },
         "lon": [
          11.3683,
          11.3674
         ],
         "mode": "lines",
         "type": "scattermapbox"
        },
        {
         "hoverinfo": "text",
         "hovertext": "MV3.101 Line 69",
         "lat": [
          53.643950000000004
         ],
         "lon": [
          11.36785
         ],
         "marker": {
          "color": "#1ac938",
          "opacity": 0,
          "size": 0
         },
         "mode": "markers",
         "type": "scattermapbox"
        },
        {
         "hoverinfo": "skip",
         "lat": [
          53.6439,
          53.6443
         ],
         "line": {
          "color": "#1ac938"
         },
         "lon": [
          11.3558,
          11.3544
         ],
         "mode": "lines",
         "type": "scattermapbox"
        },
        {
         "hoverinfo": "text",
         "hovertext": "MV3.101 Line 91",
         "lat": [
          53.6441
         ],
         "lon": [
          11.3551
         ],
         "marker": {
          "color": "#1ac938",
          "opacity": 0,
          "size": 0
         },
         "mode": "markers",
         "type": "scattermapbox"
        },
        {
         "hoverinfo": "skip",
         "lat": [
          53.6456,
          53.6464
         ],
         "line": {
          "color": "#1ac938"
         },
         "lon": [
          11.3692,
          11.3745
         ],
         "mode": "lines",
         "type": "scattermapbox"
        },
        {
         "hoverinfo": "text",
         "hovertext": "MV3.101 Reserve line",
         "lat": [
          53.646
         ],
         "lon": [
          11.371849999999998
         ],
         "marker": {
          "color": "#1ac938",
          "opacity": 0,
          "size": 0
         },
         "mode": "markers",
         "type": "scattermapbox"
        },
        {
         "hoverinfo": "skip",
         "lat": [
          53.6541,
          53.6572
         ],
         "line": {
          "color": "#1ac938"
         },
         "lon": [
          11.3682,
          11.3686
         ],
         "mode": "lines",
         "type": "scattermapbox"
        },
        {
         "hoverinfo": "text",
         "hovertext": "MV3.101 Line 37",
         "lat": [
          53.65565
         ],
         "lon": [
          11.368400000000001
         ],
         "marker": {
          "color": "#1ac938",
          "opacity": 0,
          "size": 0
         },
         "mode": "markers",
         "type": "scattermapbox"
        },
        {
         "hoverinfo": "skip",
         "lat": [
          53.6482,
          53.6489
         ],
         "line": {
          "color": "#1ac938"
         },
         "lon": [
          11.3627,
          11.3604
         ],
         "mode": "lines",
         "type": "scattermapbox"
        },
        {
         "hoverinfo": "text",
         "hovertext": "MV3.101 Line 53",
         "lat": [
          53.64855
         ],
         "lon": [
          11.361550000000001
         ],
         "marker": {
          "color": "#1ac938",
          "opacity": 0,
          "size": 0
         },
         "mode": "markers",
         "type": "scattermapbox"
        },
        {
         "hoverinfo": "skip",
         "lat": [
          53.6411,
          53.6409
         ],
         "line": {
          "color": "#1ac938"
         },
         "lon": [
          11.3715,
          11.3733
         ],
         "mode": "lines",
         "type": "scattermapbox"
        },
        {
         "hoverinfo": "text",
         "hovertext": "MV3.101 Line 5",
         "lat": [
          53.641000000000005
         ],
         "lon": [
          11.372399999999999
         ],
         "marker": {
          "color": "#1ac938",
          "opacity": 0,
          "size": 0
         },
         "mode": "markers",
         "type": "scattermapbox"
        },
        {
         "hoverinfo": "skip",
         "lat": [
          53.6514,
          53.6531
         ],
         "line": {
          "color": "#a3a3a3"
         },
         "lon": [
          11.3638,
          11.3584
         ],
         "mode": "lines",
         "type": "scattermapbox"
        },
        {
         "hoverinfo": "text",
         "hovertext": "MV3.101 loop_line 9",
         "lat": [
          53.65225
         ],
         "lon": [
          11.3611
         ],
         "marker": {
          "color": "#a3a3a3",
          "opacity": 0,
          "size": 0
         },
         "mode": "markers",
         "type": "scattermapbox"
        },
        {
         "hoverinfo": "skip",
         "lat": [
          53.634,
          53.6346
         ],
         "line": {
          "color": "#a3a3a3"
         },
         "lon": [
          11.3636,
          11.3656
         ],
         "mode": "lines",
         "type": "scattermapbox"
        },
        {
         "hoverinfo": "text",
         "hovertext": "MV3.101 loop_line 10",
         "lat": [
          53.634299999999996
         ],
         "lon": [
          11.3646
         ],
         "marker": {
          "color": "#a3a3a3",
          "opacity": 0,
          "size": 0
         },
         "mode": "markers",
         "type": "scattermapbox"
        },
        {
         "hoverinfo": "skip",
         "lat": [
          53.6252,
          53.6286
         ],
         "line": {
          "color": "#a3a3a3"
         },
         "lon": [
          11.3714,
          11.3737
         ],
         "mode": "lines",
         "type": "scattermapbox"
        },
        {
         "hoverinfo": "text",
         "hovertext": "MV3.101 loop_line 4",
         "lat": [
          53.6269
         ],
         "lon": [
          11.37255
         ],
         "marker": {
          "color": "#a3a3a3",
          "opacity": 0,
          "size": 0
         },
         "mode": "markers",
         "type": "scattermapbox"
        },
        {
         "hoverinfo": "skip",
         "lat": [
          53.6434,
          53.6488
         ],
         "line": {
          "color": "#a3a3a3"
         },
         "lon": [
          11.3825,
          11.3833
         ],
         "mode": "lines",
         "type": "scattermapbox"
        },
        {
         "hoverinfo": "text",
         "hovertext": "MV3.101 loop_line 5",
         "lat": [
          53.646100000000004
         ],
         "lon": [
          11.3829
         ],
         "marker": {
          "color": "#a3a3a3",
          "opacity": 0,
          "size": 0
         },
         "mode": "markers",
         "type": "scattermapbox"
        },
        {
         "hoverinfo": "skip",
         "lat": [
          53.6371,
          53.6341
         ],
         "line": {
          "color": "#a3a3a3"
         },
         "lon": [
          11.3721,
          11.3724
         ],
         "mode": "lines",
         "type": "scattermapbox"
        },
        {
         "hoverinfo": "text",
         "hovertext": "MV3.101 loop_line 7",
         "lat": [
          53.6356
         ],
         "lon": [
          11.372250000000001
         ],
         "marker": {
          "color": "#a3a3a3",
          "opacity": 0,
          "size": 0
         },
         "mode": "markers",
         "type": "scattermapbox"
        },
        {
         "hoverinfo": "skip",
         "lat": [
          53.6457,
          53.6464
         ],
         "line": {
          "color": "#a3a3a3"
         },
         "lon": [
          11.3697,
          11.3721
         ],
         "mode": "lines",
         "type": "scattermapbox"
        },
        {
         "hoverinfo": "text",
         "hovertext": "MV3.101 loop_line 8",
         "lat": [
          53.64605
         ],
         "lon": [
          11.370899999999999
         ],
         "marker": {
          "color": "#a3a3a3",
          "opacity": 0,
          "size": 0
         },
         "mode": "markers",
         "type": "scattermapbox"
        },
        {
         "hoverinfo": "skip",
         "lat": [
          53.6508,
          53.6494
         ],
         "line": {
          "color": "#a3a3a3"
         },
         "lon": [
          11.3521,
          11.351
         ],
         "mode": "lines",
         "type": "scattermapbox"
        },
        {
         "hoverinfo": "text",
         "hovertext": "MV3.101 loop_line 3",
         "lat": [
          53.650099999999995
         ],
         "lon": [
          11.35155
         ],
         "marker": {
          "color": "#a3a3a3",
          "opacity": 0,
          "size": 0
         },
         "mode": "markers",
         "type": "scattermapbox"
        },
        {
         "hoverinfo": "skip",
         "lat": [
          53.662,
          53.6598
         ],
         "line": {
          "color": "#a3a3a3"
         },
         "lon": [
          11.3646,
          11.3685
         ],
         "mode": "lines",
         "type": "scattermapbox"
        },
        {
         "hoverinfo": "text",
         "hovertext": "MV3.101 loop_line 2",
         "lat": [
          53.6609
         ],
         "lon": [
          11.36655
         ],
         "marker": {
          "color": "#a3a3a3",
          "opacity": 0,
          "size": 0
         },
         "mode": "markers",
         "type": "scattermapbox"
        },
        {
         "hoverinfo": "skip",
         "lat": [
          53.6455,
          53.6464
         ],
         "line": {
          "color": "#a3a3a3"
         },
         "lon": [
          11.3809,
          11.3832
         ],
         "mode": "lines",
         "type": "scattermapbox"
        },
        {
         "hoverinfo": "text",
         "hovertext": "MV3.101 loop_line 6",
         "lat": [
          53.64595
         ],
         "lon": [
          11.38205
         ],
         "marker": {
          "color": "#a3a3a3",
          "opacity": 0,
          "size": 0
         },
         "mode": "markers",
         "type": "scattermapbox"
        },
        {
         "hoverinfo": "skip",
         "lat": [
          53.651,
          53.6422
         ],
         "line": {
          "color": "#a3a3a3"
         },
         "lon": [
          11.3807,
          11.3784
         ],
         "mode": "lines",
         "type": "scattermapbox"
        },
        {
         "hoverinfo": "text",
         "hovertext": "MV3.101 loop_line 1",
         "lat": [
          53.64660000000001
         ],
         "lon": [
          11.379549999999998
         ],
         "marker": {
          "color": "#a3a3a3",
          "opacity": 0,
          "size": 0
         },
         "mode": "markers",
         "type": "scattermapbox"
        },
        {
         "hoverinfo": "skip",
         "lat": [
          53.6524,
          53.6521
         ],
         "line": {
          "color": "#a3a3a3"
         },
         "lon": [
          11.3561,
          11.3535
         ],
         "mode": "lines",
         "type": "scattermapbox"
        },
        {
         "hoverinfo": "text",
         "hovertext": "MV3.101 loop_line 11",
         "lat": [
          53.652249999999995
         ],
         "lon": [
          11.354800000000001
         ],
         "marker": {
          "color": "#a3a3a3",
          "opacity": 0,
          "size": 0
         },
         "mode": "markers",
         "type": "scattermapbox"
        },
        {
         "hoverinfo": "text",
         "hovertext": [
          "MV3.101 node1<br>load=Count: 1, Rated Power: 453.6 kw",
          "MV3.101 Bus 28<br>load=Count: 1, Rated Power: 362.9 kw<br>fixed_feed_in=Count: 1, Rated Power: 172.2 kw",
          "MV3.101 Bus 81<br>load=Count: 1, Rated Power: 594.9 kw<br>fixed_feed_in=Count: 1, Rated Power: 184.7 kw",
          "MV3.101 Bus 102<br>load=Count: 1, Rated Power: 362.9 kw<br>fixed_feed_in=Count: 1, Rated Power: 172.2 kw",
          "MV3.101 Bus 19<br>load=Count: 1, Rated Power: 594.9 kw<br>fixed_feed_in=Count: 1, Rated Power: 184.7 kw",
          "MV3.101 Bus 86<br>load=Count: 1, Rated Power: 594.9 kw<br>fixed_feed_in=Count: 2, Rated Power: 3084.7 kw",
          "MV3.101 Bus 82<br>load=Count: 1, Rated Power: 594.9 kw<br>fixed_feed_in=Count: 1, Rated Power: 184.7 kw",
          "MV3.101 Bus 50<br>load=Count: 1, Rated Power: 668.0 kw<br>fixed_feed_in=Count: 1, Rated Power: 171.2 kw",
          "MV3.101 Bus 125<br>load=Count: 1, Rated Power: 595.0 kw<br>fixed_feed_in=Count: 1, Rated Power: 252.3 kw",
          "MV3.101 Bus 41<br>load=Count: 1, Rated Power: 594.9 kw<br>fixed_feed_in=Count: 1, Rated Power: 184.7 kw",
          "MV3.101 Bus 52<br>load=Count: 1, Rated Power: 668.0 kw<br>fixed_feed_in=Count: 1, Rated Power: 171.2 kw",
          "MV3.101 Bus 50_1<br>",
          "MV3.101 Bus 77<br>load=Count: 1, Rated Power: 594.9 kw<br>fixed_feed_in=Count: 1, Rated Power: 184.7 kw",
          "MV3.101 Bus 120<br>load=Count: 1, Rated Power: 595.0 kw<br>fixed_feed_in=Count: 1, Rated Power: 252.3 kw",
          "MV3.101 Bus 34<br>load=Count: 1, Rated Power: 594.9 kw<br>fixed_feed_in=Count: 1, Rated Power: 184.7 kw",
          "MV3.101 Bus 143<br>load=Count: 1, Rated Power: 595.0 kw<br>fixed_feed_in=Count: 1, Rated Power: 252.3 kw",
          "MV3.101 Bus 27<br>load=Count: 1, Rated Power: 594.9 kw<br>fixed_feed_in=Count: 1, Rated Power: 184.7 kw",
          "MV3.101 Bus 64<br>load=Count: 1, Rated Power: 594.9 kw<br>fixed_feed_in=Count: 1, Rated Power: 184.7 kw",
          "MV3.101 Bus 68_1<br>",
          "MV3.101 Bus 32<br>load=Count: 1, Rated Power: 668.0 kw<br>fixed_feed_in=Count: 1, Rated Power: 171.2 kw",
          "MV3.101 Bus 134<br>load=Count: 1, Rated Power: 595.0 kw<br>fixed_feed_in=Count: 1, Rated Power: 252.3 kw",
          "MV3.101 Bus 80<br>load=Count: 1, Rated Power: 668.0 kw<br>fixed_feed_in=Count: 1, Rated Power: 171.2 kw",
          "MV3.101 Bus 91<br>load=Count: 1, Rated Power: 362.9 kw<br>fixed_feed_in=Count: 1, Rated Power: 172.2 kw",
          "MV3.101 Bus 75<br>load=Count: 1, Rated Power: 362.9 kw<br>fixed_feed_in=Count: 1, Rated Power: 172.2 kw",
          "MV3.101 Bus 143_1<br>",
          "MV3.101 Bus 115<br>load=Count: 1, Rated Power: 594.9 kw<br>fixed_feed_in=Count: 1, Rated Power: 184.7 kw",
          "MV3.101 Bus 43<br>load=Count: 1, Rated Power: 594.9 kw<br>fixed_feed_in=Count: 1, Rated Power: 184.7 kw",
          "MV3.101 Bus 17<br>load=Count: 1, Rated Power: 594.9 kw<br>fixed_feed_in=Count: 1, Rated Power: 184.7 kw",
          "HV1 Bus 25<br>",
          "MV3.101 Bus 117<br>load=Count: 1, Rated Power: 594.9 kw<br>fixed_feed_in=Count: 1, Rated Power: 184.7 kw",
          "MV3.101 Bus 78<br>load=Count: 1, Rated Power: 362.9 kw<br>fixed_feed_in=Count: 1, Rated Power: 172.2 kw",
          "MV3.101 Bus 49<br>load=Count: 1, Rated Power: 668.0 kw<br>fixed_feed_in=Count: 1, Rated Power: 171.2 kw",
          "MV3.101 Bus 85<br>load=Count: 1, Rated Power: 594.9 kw<br>fixed_feed_in=Count: 1, Rated Power: 184.7 kw",
          "MV3.101 Bus 123<br>load=Count: 1, Rated Power: 594.9 kw<br>fixed_feed_in=Count: 1, Rated Power: 184.7 kw",
          "MV3.101 Bus 76<br>load=Count: 1, Rated Power: 668.0 kw<br>fixed_feed_in=Count: 1, Rated Power: 171.2 kw",
          "MV3.101 Bus 11<br>load=Count: 2, Rated Power: 563.3 kw<br>fixed_feed_in=Count: 1, Rated Power: 172.2 kw",
          "MV3.101 Bus 98<br>load=Count: 1, Rated Power: 594.9 kw<br>fixed_feed_in=Count: 1, Rated Power: 184.7 kw",
          "MV3.101 Bus 18<br>load=Count: 1, Rated Power: 668.0 kw<br>fixed_feed_in=Count: 1, Rated Power: 171.2 kw",
          "MV3.101 Bus 103<br>load=Count: 1, Rated Power: 362.9 kw<br>fixed_feed_in=Count: 1, Rated Power: 172.2 kw",
          "MV3.101 Bus 100<br>load=Count: 1, Rated Power: 668.0 kw<br>fixed_feed_in=Count: 1, Rated Power: 171.2 kw",
          "MV3.101 Bus 37<br>load=Count: 1, Rated Power: 668.0 kw<br>fixed_feed_in=Count: 1, Rated Power: 171.2 kw",
          "MV3.101 Bus 14<br>load=Count: 1, Rated Power: 362.9 kw<br>fixed_feed_in=Count: 1, Rated Power: 172.2 kw",
          "MV3.101 Bus 107<br>load=Count: 1, Rated Power: 362.9 kw<br>fixed_feed_in=Count: 1, Rated Power: 172.2 kw",
          "MV3.101 Bus 105<br>load=Count: 1, Rated Power: 594.9 kw<br>fixed_feed_in=Count: 1, Rated Power: 184.7 kw",
          "MV3.101 Bus 92<br>load=Count: 1, Rated Power: 668.0 kw<br>fixed_feed_in=Count: 1, Rated Power: 171.2 kw",
          "MV3.101 Bus 119<br>load=Count: 1, Rated Power: 595.0 kw<br>fixed_feed_in=Count: 1, Rated Power: 252.3 kw",
          "MV3.101 Bus 73<br>load=Count: 1, Rated Power: 594.9 kw<br>fixed_feed_in=Count: 1, Rated Power: 184.7 kw",
          "MV3.101 Bus 56<br>load=Count: 1, Rated Power: 668.0 kw<br>fixed_feed_in=Count: 1, Rated Power: 171.2 kw",
          "MV3.101 Bus 33<br>load=Count: 1, Rated Power: 362.9 kw<br>fixed_feed_in=Count: 1, Rated Power: 172.2 kw",
          "MV3.101 Bus 15<br>load=Count: 2, Rated Power: 774.3 kw<br>fixed_feed_in=Count: 1, Rated Power: 172.2 kw",
          "MV3.101 Bus 31<br>load=Count: 1, Rated Power: 594.9 kw<br>fixed_feed_in=Count: 1, Rated Power: 184.7 kw",
          "MV3.101 Bus 25<br>load=Count: 1, Rated Power: 362.9 kw<br>fixed_feed_in=Count: 1, Rated Power: 172.2 kw",
          "MV3.101 Bus 60<br>load=Count: 1, Rated Power: 362.9 kw<br>fixed_feed_in=Count: 1, Rated Power: 172.2 kw",
          "MV3.101 Bus 55<br>load=Count: 1, Rated Power: 594.9 kw<br>fixed_feed_in=Count: 1, Rated Power: 184.7 kw",
          "MV3.101 Bus 99<br>load=Count: 1, Rated Power: 594.9 kw<br>fixed_feed_in=Count: 1, Rated Power: 184.7 kw",
          "MV3.101 Bus 124<br>load=Count: 1, Rated Power: 362.9 kw<br>fixed_feed_in=Count: 1, Rated Power: 172.2 kw",
          "MV3.101 Bus 122<br>load=Count: 1, Rated Power: 362.9 kw<br>fixed_feed_in=Count: 1, Rated Power: 172.2 kw",
          "MV3.101 Bus 110_1<br>",
          "MV3.101 Bus 48<br>load=Count: 1, Rated Power: 594.9 kw<br>fixed_feed_in=Count: 1, Rated Power: 184.7 kw",
          "MV3.101 Bus 106<br>load=Count: 1, Rated Power: 362.9 kw<br>fixed_feed_in=Count: 1, Rated Power: 172.2 kw",
          "MV3.101 Bus 128<br>load=Count: 1, Rated Power: 594.9 kw<br>fixed_feed_in=Count: 1, Rated Power: 184.7 kw",
          "MV3.101 Bus 75_1<br>",
          "MV3.101 Bus 71<br>load=Count: 1, Rated Power: 594.9 kw<br>fixed_feed_in=Count: 1, Rated Power: 184.7 kw",
          "MV3.101 Bus 46<br>load=Count: 1, Rated Power: 594.9 kw<br>fixed_feed_in=Count: 1, Rated Power: 184.7 kw",
          "MV3.101 BS busbar1A<br>",
          "MV3.101 Bus 53<br>load=Count: 1, Rated Power: 668.0 kw<br>fixed_feed_in=Count: 1, Rated Power: 171.2 kw",
          "MV3.101 Bus 40_1<br>",
          "MV3.101 Bus 13<br>load=Count: 1, Rated Power: 668.0 kw<br>fixed_feed_in=Count: 1, Rated Power: 171.2 kw",
          "MV3.101 Bus 39<br>load=Count: 1, Rated Power: 362.9 kw<br>fixed_feed_in=Count: 1, Rated Power: 172.2 kw",
          "MV3.101 Bus 66<br>load=Count: 1, Rated Power: 668.0 kw<br>fixed_feed_in=Count: 1, Rated Power: 171.2 kw",
          "MV3.101 Bus 88<br>load=Count: 1, Rated Power: 594.9 kw<br>fixed_feed_in=Count: 1, Rated Power: 184.7 kw",
          "MV3.101 Bus 96<br>load=Count: 1, Rated Power: 594.9 kw<br>fixed_feed_in=Count: 1, Rated Power: 184.7 kw",
          "MV3.101 Bus 69<br>load=Count: 1, Rated Power: 668.0 kw<br>fixed_feed_in=Count: 1, Rated Power: 171.2 kw",
          "MV3.101 Bus 58<br>load=Count: 1, Rated Power: 668.0 kw<br>fixed_feed_in=Count: 1, Rated Power: 171.2 kw",
          "MV3.101 Bus 142<br>load=Count: 1, Rated Power: 362.9 kw<br>fixed_feed_in=Count: 1, Rated Power: 172.2 kw",
          "MV3.101 Bus 127<br>load=Count: 1, Rated Power: 594.9 kw<br>fixed_feed_in=Count: 1, Rated Power: 184.7 kw",
          "MV3.101 Bus 84<br>load=Count: 2, Rated Power: 1090.7 kw<br>fixed_feed_in=Count: 1, Rated Power: 184.7 kw",
          "MV3.101 Bus 114_1<br>",
          "MV3.101 Bus 138<br>load=Count: 1, Rated Power: 595.0 kw<br>fixed_feed_in=Count: 1, Rated Power: 252.3 kw",
          "MV3.101 Bus 129<br>load=Count: 1, Rated Power: 362.9 kw<br>fixed_feed_in=Count: 1, Rated Power: 172.2 kw",
          "MV3.101 Bus 130<br>load=Count: 1, Rated Power: 594.9 kw<br>fixed_feed_in=Count: 1, Rated Power: 184.7 kw",
          "MV3.101 Bus 16<br>load=Count: 1, Rated Power: 594.9 kw<br>fixed_feed_in=Count: 1, Rated Power: 184.7 kw",
          "MV3.101 Bus 111<br>load=Count: 1, Rated Power: 594.9 kw<br>fixed_feed_in=Count: 1, Rated Power: 184.7 kw",
          "MV3.101 Bus 68<br>load=Count: 1, Rated Power: 668.0 kw<br>fixed_feed_in=Count: 1, Rated Power: 171.2 kw",
          "MV3.101 Bus 51<br>load=Count: 1, Rated Power: 594.9 kw<br>fixed_feed_in=Count: 1, Rated Power: 184.7 kw",
          "MV3.101 Bus 40<br>load=Count: 1, Rated Power: 594.9 kw<br>fixed_feed_in=Count: 1, Rated Power: 184.7 kw",
          "MV3.101 Bus 67<br>load=Count: 2, Rated Power: 647.7 kw<br>fixed_feed_in=Count: 1, Rated Power: 172.2 kw",
          "MV3.101 Bus 136<br>load=Count: 1, Rated Power: 362.9 kw<br>fixed_feed_in=Count: 1, Rated Power: 172.2 kw",
          "MV3.101 Bus 44<br>load=Count: 1, Rated Power: 594.9 kw<br>fixed_feed_in=Count: 1, Rated Power: 184.7 kw",
          "MV3.101 Bus 114<br>load=Count: 1, Rated Power: 668.0 kw<br>fixed_feed_in=Count: 1, Rated Power: 171.2 kw",
          "MV3.101 Bus 30<br>load=Count: 1, Rated Power: 362.9 kw<br>fixed_feed_in=Count: 1, Rated Power: 172.2 kw",
          "MV3.101 Bus 132<br>load=Count: 1, Rated Power: 595.0 kw<br>fixed_feed_in=Count: 1, Rated Power: 252.3 kw",
          "MV3.101 Bus 63<br>load=Count: 1, Rated Power: 668.0 kw<br>fixed_feed_in=Count: 1, Rated Power: 171.2 kw",
          "MV3.101 Bus 38<br>load=Count: 1, Rated Power: 362.9 kw<br>fixed_feed_in=Count: 1, Rated Power: 172.2 kw",
          "MV3.101 Bus 93<br>load=Count: 1, Rated Power: 668.0 kw<br>fixed_feed_in=Count: 1, Rated Power: 171.2 kw",
          "MV3.101 Bus 135<br>load=Count: 1, Rated Power: 594.9 kw<br>fixed_feed_in=Count: 1, Rated Power: 184.7 kw",
          "MV3.101 Bus 24<br>load=Count: 1, Rated Power: 594.9 kw<br>fixed_feed_in=Count: 1, Rated Power: 184.7 kw",
          "MV3.101 Bus 110<br>load=Count: 1, Rated Power: 594.9 kw<br>fixed_feed_in=Count: 1, Rated Power: 184.7 kw",
          "MV3.101 Bus 97<br>load=Count: 1, Rated Power: 362.9 kw<br>fixed_feed_in=Count: 1, Rated Power: 172.2 kw",
          "MV3.101 Bus 57<br>load=Count: 1, Rated Power: 668.0 kw<br>fixed_feed_in=Count: 1, Rated Power: 171.2 kw",
          "MV3.101 Bus 47<br>load=Count: 1, Rated Power: 594.9 kw<br>fixed_feed_in=Count: 1, Rated Power: 184.7 kw",
          "MV3.101 Bus 20<br>load=Count: 1, Rated Power: 362.9 kw<br>fixed_feed_in=Count: 1, Rated Power: 172.2 kw",
          "MV3.101 Bus 113<br>load=Count: 1, Rated Power: 362.9 kw<br>fixed_feed_in=Count: 1, Rated Power: 172.2 kw",
          "MV3.101 Bus 118<br>load=Count: 1, Rated Power: 594.9 kw<br>fixed_feed_in=Count: 1, Rated Power: 184.7 kw",
          "MV3.101 Bus 126<br>load=Count: 1, Rated Power: 594.9 kw<br>fixed_feed_in=Count: 1, Rated Power: 184.7 kw",
          "MV3.101 Bus 141<br>load=Count: 1, Rated Power: 595.0 kw<br>fixed_feed_in=Count: 1, Rated Power: 252.3 kw",
          "MV3.101 Bus 22<br>load=Count: 1, Rated Power: 362.9 kw<br>fixed_feed_in=Count: 1, Rated Power: 172.2 kw",
          "MV3.101 Bus 140<br>load=Count: 1, Rated Power: 362.9 kw<br>fixed_feed_in=Count: 1, Rated Power: 172.2 kw",
          "MV3.101 Bus 18_1<br>",
          "MV3.101 Bus 42<br>load=Count: 2, Rated Power: 816.5 kw<br>fixed_feed_in=Count: 1, Rated Power: 184.7 kw",
          "MV3.101 Bus 94<br>load=Count: 1, Rated Power: 668.0 kw<br>fixed_feed_in=Count: 1, Rated Power: 171.2 kw",
          "MV3.101 Bus 104_1<br>",
          "MV3.101 Bus 139<br>load=Count: 1, Rated Power: 362.9 kw<br>fixed_feed_in=Count: 1, Rated Power: 172.2 kw",
          "MV3.101 Bus 118_1<br>",
          "MV3.101 Bus 116<br>load=Count: 1, Rated Power: 668.0 kw<br>fixed_feed_in=Count: 1, Rated Power: 171.2 kw",
          "MV3.101 Bus 135_1<br>",
          "MV3.101 Bus 21<br>load=Count: 1, Rated Power: 668.0 kw<br>fixed_feed_in=Count: 1, Rated Power: 171.2 kw",
          "MV3.101 Bus 59<br>load=Count: 1, Rated Power: 594.9 kw<br>fixed_feed_in=Count: 1, Rated Power: 184.7 kw",
          "MV3.101 Bus 12<br>load=Count: 1, Rated Power: 362.9 kw<br>fixed_feed_in=Count: 1, Rated Power: 172.2 kw",
          "MV3.101 Bus 90<br>load=Count: 1, Rated Power: 594.9 kw<br>fixed_feed_in=Count: 1, Rated Power: 184.7 kw",
          "MV3.101 Bus 72<br>load=Count: 1, Rated Power: 594.9 kw<br>fixed_feed_in=Count: 1, Rated Power: 184.7 kw",
          "MV3.101 Bus 133<br>load=Count: 1, Rated Power: 362.9 kw<br>fixed_feed_in=Count: 1, Rated Power: 172.2 kw",
          "MV3.101 Bus 108<br>load=Count: 1, Rated Power: 594.9 kw<br>fixed_feed_in=Count: 1, Rated Power: 184.7 kw",
          "MV3.101 Bus 121<br>load=Count: 1, Rated Power: 595.0 kw<br>fixed_feed_in=Count: 1, Rated Power: 252.3 kw",
          "MV3.101 Bus 62<br>load=Count: 1, Rated Power: 362.9 kw<br>fixed_feed_in=Count: 1, Rated Power: 172.2 kw",
          "MV3.101 Bus 26<br>load=Count: 1, Rated Power: 362.9 kw<br>fixed_feed_in=Count: 1, Rated Power: 172.2 kw",
          "MV3.101 Bus 61<br>load=Count: 1, Rated Power: 668.0 kw<br>fixed_feed_in=Count: 1, Rated Power: 171.2 kw",
          "MV3.101 Bus 29<br>load=Count: 1, Rated Power: 362.9 kw<br>fixed_feed_in=Count: 1, Rated Power: 172.2 kw",
          "MV3.101 Bus 131<br>load=Count: 1, Rated Power: 362.9 kw<br>fixed_feed_in=Count: 1, Rated Power: 172.2 kw",
          "MV3.101 Bus 87<br>load=Count: 1, Rated Power: 668.0 kw<br>fixed_feed_in=Count: 1, Rated Power: 171.2 kw",
          "MV3.101 Bus 70<br>load=Count: 1, Rated Power: 668.0 kw<br>fixed_feed_in=Count: 1, Rated Power: 171.2 kw",
          "MV3.101 Bus 89<br>load=Count: 1, Rated Power: 668.0 kw<br>fixed_feed_in=Count: 1, Rated Power: 171.2 kw",
          "MV3.101 Bus 36<br>load=Count: 1, Rated Power: 668.0 kw<br>fixed_feed_in=Count: 1, Rated Power: 171.2 kw",
          "MV3.101 Bus 74<br>load=Count: 1, Rated Power: 362.9 kw<br>fixed_feed_in=Count: 1, Rated Power: 172.2 kw",
          "MV3.101 Bus 83<br>load=Count: 1, Rated Power: 668.0 kw<br>fixed_feed_in=Count: 1, Rated Power: 171.2 kw",
          "MV3.101 Bus 54<br>load=Count: 1, Rated Power: 594.9 kw<br>fixed_feed_in=Count: 1, Rated Power: 184.7 kw",
          "MV3.101 Bus 95<br>load=Count: 1, Rated Power: 362.9 kw<br>fixed_feed_in=Count: 1, Rated Power: 172.2 kw",
          "MV3.101 Bus 23<br>load=Count: 1, Rated Power: 594.9 kw<br>fixed_feed_in=Count: 1, Rated Power: 184.7 kw",
          "MV3.101 Bus 137<br>load=Count: 1, Rated Power: 362.9 kw<br>fixed_feed_in=Count: 1, Rated Power: 172.2 kw",
          "MV3.101 Bus 79<br>load=Count: 1, Rated Power: 362.9 kw<br>fixed_feed_in=Count: 1, Rated Power: 172.2 kw",
          "MV3.101 Bus 101<br>load=Count: 1, Rated Power: 594.9 kw<br>fixed_feed_in=Count: 1, Rated Power: 184.7 kw",
          "MV3.101 Bus 45<br>load=Count: 1, Rated Power: 362.9 kw<br>fixed_feed_in=Count: 1, Rated Power: 172.2 kw",
          "MV3.101 Bus 35<br>load=Count: 1, Rated Power: 668.0 kw<br>fixed_feed_in=Count: 1, Rated Power: 171.2 kw",
          "MV3.101 Bus 109<br>load=Count: 1, Rated Power: 362.9 kw<br>fixed_feed_in=Count: 1, Rated Power: 172.2 kw",
          "MV3.101 Bus 104<br>load=Count: 1, Rated Power: 362.9 kw<br>fixed_feed_in=Count: 1, Rated Power: 172.2 kw",
          "MV3.101 Bus 65<br>load=Count: 1, Rated Power: 668.0 kw<br>fixed_feed_in=Count: 1, Rated Power: 171.2 kw",
          "MV3.101 Bus 112<br>load=Count: 1, Rated Power: 594.9 kw<br>fixed_feed_in=Count: 1, Rated Power: 184.7 kw"
         ],
         "lat": [
          53.6456,
          53.6525,
          53.6416,
          53.6461,
          53.6397,
          53.6332,
          53.6406,
          53.6598,
          53.6456,
          53.6462,
          53.648,
          53.6598,
          53.6451,
          53.6431,
          53.6519,
          53.6488,
          53.6505,
          53.6498,
          53.6531,
          53.6544,
          53.6472,
          53.642,
          53.624,
          53.6521,
          53.6488,
          53.6328,
          53.6489,
          53.6415,
          53.6456,
          53.6297,
          53.6445,
          53.6592,
          53.634,
          53.6429,
          53.6508,
          53.6441,
          53.6441,
          53.6422,
          53.6477,
          53.6439,
          53.647,
          53.6411,
          53.6389,
          53.6436,
          53.6236,
          53.6438,
          53.655,
          53.6579,
          53.6534,
          53.6409,
          53.6545,
          53.6456,
          53.6465,
          53.6544,
          53.6437,
          53.6434,
          53.6428,
          53.6346,
          53.6585,
          53.6417,
          53.6455,
          53.6521,
          53.6567,
          53.6541,
          53.6464,
          53.6492,
          53.6464,
          53.6421,
          53.6492,
          53.6516,
          53.6303,
          53.6448,
          53.6545,
          53.662,
          53.6501,
          53.6454,
          53.6353,
          53.6341,
          53.6481,
          53.6455,
          53.6467,
          53.641,
          53.633,
          53.6531,
          53.6459,
          53.6464,
          53.6524,
          53.6469,
          53.6511,
          53.6341,
          53.6543,
          53.6481,
          53.6489,
          53.6477,
          53.6252,
          53.6464,
          53.6454,
          53.6346,
          53.6443,
          53.6603,
          53.6572,
          53.638,
          53.6321,
          53.6286,
          53.6454,
          53.6502,
          53.6454,
          53.6501,
          53.6422,
          53.6469,
          53.6453,
          53.6494,
          53.6499,
          53.6286,
          53.6306,
          53.6464,
          53.6371,
          53.6457,
          53.6425,
          53.6261,
          53.6559,
          53.6481,
          53.637,
          53.6429,
          53.6482,
          53.6485,
          53.6477,
          53.6538,
          53.6479,
          53.6312,
          53.6568,
          53.6285,
          53.6457,
          53.6537,
          53.6384,
          53.6514,
          53.645,
          53.6453,
          53.6475,
          53.6434,
          53.6443,
          53.6531,
          53.651,
          53.6363,
          53.6494,
          53.6504,
          53.6315
         ],
         "lon": [
          11.3692,
          11.3724,
          11.366,
          11.3521,
          11.3715,
          11.3633,
          11.3654,
          11.3685,
          11.3752,
          11.3691,
          11.3667,
          11.3685,
          11.369,
          11.3783,
          11.3805,
          11.3833,
          11.3708,
          11.3578,
          11.3584,
          11.3777,
          11.3833,
          11.3663,
          11.366,
          11.3535,
          11.3833,
          11.3733,
          11.3683,
          11.3776,
          11.3692,
          11.3739,
          11.3683,
          11.3686,
          11.3636,
          11.3815,
          11.3521,
          11.3699,
          11.3609,
          11.3784,
          11.3511,
          11.3558,
          11.3701,
          11.3715,
          11.3669,
          11.3686,
          11.3683,
          11.3767,
          11.3518,
          11.3634,
          11.3794,
          11.3733,
          11.3756,
          11.3738,
          11.3669,
          11.3637,
          11.3577,
          11.3825,
          11.381,
          11.3656,
          11.3687,
          11.368,
          11.3798,
          11.3535,
          11.3529,
          11.3682,
          11.3745,
          11.3656,
          11.3721,
          11.3708,
          11.372,
          11.3561,
          11.3626,
          11.364,
          11.3581,
          11.3646,
          11.3811,
          11.3776,
          11.3632,
          11.3724,
          11.3752,
          11.3809,
          11.3755,
          11.3767,
          11.3668,
          11.3584,
          11.3687,
          11.3721,
          11.3561,
          11.3746,
          11.3682,
          11.3724,
          11.3751,
          11.3784,
          11.3604,
          11.3701,
          11.3714,
          11.3832,
          11.3732,
          11.3656,
          11.3619,
          11.3636,
          11.3686,
          11.3719,
          11.3702,
          11.3737,
          11.3762,
          11.3805,
          11.3706,
          11.3779,
          11.3784,
          11.3688,
          11.3665,
          11.351,
          11.3773,
          11.3737,
          11.3739,
          11.3832,
          11.3721,
          11.3682,
          11.3707,
          11.3638,
          11.3519,
          11.3819,
          11.3664,
          11.3789,
          11.3627,
          11.3698,
          11.3641,
          11.374,
          11.3773,
          11.3627,
          11.3561,
          11.3627,
          11.3697,
          11.3524,
          11.364,
          11.3638,
          11.3649,
          11.372,
          11.3748,
          11.3674,
          11.3544,
          11.3682,
          11.3807,
          11.3661,
          11.351,
          11.357,
          11.3692
         ],
         "marker": {
          "color": "#023eff",
          "size": 6
         },
         "mode": "markers",
         "text": [
          "MV3.101 node1<br>load=Count: 1, Rated Power: 453.6 kw",
          "MV3.101 Bus 28<br>load=Count: 1, Rated Power: 362.9 kw<br>fixed_feed_in=Count: 1, Rated Power: 172.2 kw",
          "MV3.101 Bus 81<br>load=Count: 1, Rated Power: 594.9 kw<br>fixed_feed_in=Count: 1, Rated Power: 184.7 kw",
          "MV3.101 Bus 102<br>load=Count: 1, Rated Power: 362.9 kw<br>fixed_feed_in=Count: 1, Rated Power: 172.2 kw",
          "MV3.101 Bus 19<br>load=Count: 1, Rated Power: 594.9 kw<br>fixed_feed_in=Count: 1, Rated Power: 184.7 kw",
          "MV3.101 Bus 86<br>load=Count: 1, Rated Power: 594.9 kw<br>fixed_feed_in=Count: 2, Rated Power: 3084.7 kw",
          "MV3.101 Bus 82<br>load=Count: 1, Rated Power: 594.9 kw<br>fixed_feed_in=Count: 1, Rated Power: 184.7 kw",
          "MV3.101 Bus 50<br>load=Count: 1, Rated Power: 668.0 kw<br>fixed_feed_in=Count: 1, Rated Power: 171.2 kw",
          "MV3.101 Bus 125<br>load=Count: 1, Rated Power: 595.0 kw<br>fixed_feed_in=Count: 1, Rated Power: 252.3 kw",
          "MV3.101 Bus 41<br>load=Count: 1, Rated Power: 594.9 kw<br>fixed_feed_in=Count: 1, Rated Power: 184.7 kw",
          "MV3.101 Bus 52<br>load=Count: 1, Rated Power: 668.0 kw<br>fixed_feed_in=Count: 1, Rated Power: 171.2 kw",
          "MV3.101 Bus 50_1<br>",
          "MV3.101 Bus 77<br>load=Count: 1, Rated Power: 594.9 kw<br>fixed_feed_in=Count: 1, Rated Power: 184.7 kw",
          "MV3.101 Bus 120<br>load=Count: 1, Rated Power: 595.0 kw<br>fixed_feed_in=Count: 1, Rated Power: 252.3 kw",
          "MV3.101 Bus 34<br>load=Count: 1, Rated Power: 594.9 kw<br>fixed_feed_in=Count: 1, Rated Power: 184.7 kw",
          "MV3.101 Bus 143<br>load=Count: 1, Rated Power: 595.0 kw<br>fixed_feed_in=Count: 1, Rated Power: 252.3 kw",
          "MV3.101 Bus 27<br>load=Count: 1, Rated Power: 594.9 kw<br>fixed_feed_in=Count: 1, Rated Power: 184.7 kw",
          "MV3.101 Bus 64<br>load=Count: 1, Rated Power: 594.9 kw<br>fixed_feed_in=Count: 1, Rated Power: 184.7 kw",
          "MV3.101 Bus 68_1<br>",
          "MV3.101 Bus 32<br>load=Count: 1, Rated Power: 668.0 kw<br>fixed_feed_in=Count: 1, Rated Power: 171.2 kw",
          "MV3.101 Bus 134<br>load=Count: 1, Rated Power: 595.0 kw<br>fixed_feed_in=Count: 1, Rated Power: 252.3 kw",
          "MV3.101 Bus 80<br>load=Count: 1, Rated Power: 668.0 kw<br>fixed_feed_in=Count: 1, Rated Power: 171.2 kw",
          "MV3.101 Bus 91<br>load=Count: 1, Rated Power: 362.9 kw<br>fixed_feed_in=Count: 1, Rated Power: 172.2 kw",
          "MV3.101 Bus 75<br>load=Count: 1, Rated Power: 362.9 kw<br>fixed_feed_in=Count: 1, Rated Power: 172.2 kw",
          "MV3.101 Bus 143_1<br>",
          "MV3.101 Bus 115<br>load=Count: 1, Rated Power: 594.9 kw<br>fixed_feed_in=Count: 1, Rated Power: 184.7 kw",
          "MV3.101 Bus 43<br>load=Count: 1, Rated Power: 594.9 kw<br>fixed_feed_in=Count: 1, Rated Power: 184.7 kw",
          "MV3.101 Bus 17<br>load=Count: 1, Rated Power: 594.9 kw<br>fixed_feed_in=Count: 1, Rated Power: 184.7 kw",
          "HV1 Bus 25<br>",
          "MV3.101 Bus 117<br>load=Count: 1, Rated Power: 594.9 kw<br>fixed_feed_in=Count: 1, Rated Power: 184.7 kw",
          "MV3.101 Bus 78<br>load=Count: 1, Rated Power: 362.9 kw<br>fixed_feed_in=Count: 1, Rated Power: 172.2 kw",
          "MV3.101 Bus 49<br>load=Count: 1, Rated Power: 668.0 kw<br>fixed_feed_in=Count: 1, Rated Power: 171.2 kw",
          "MV3.101 Bus 85<br>load=Count: 1, Rated Power: 594.9 kw<br>fixed_feed_in=Count: 1, Rated Power: 184.7 kw",
          "MV3.101 Bus 123<br>load=Count: 1, Rated Power: 594.9 kw<br>fixed_feed_in=Count: 1, Rated Power: 184.7 kw",
          "MV3.101 Bus 76<br>load=Count: 1, Rated Power: 668.0 kw<br>fixed_feed_in=Count: 1, Rated Power: 171.2 kw",
          "MV3.101 Bus 11<br>load=Count: 2, Rated Power: 563.3 kw<br>fixed_feed_in=Count: 1, Rated Power: 172.2 kw",
          "MV3.101 Bus 98<br>load=Count: 1, Rated Power: 594.9 kw<br>fixed_feed_in=Count: 1, Rated Power: 184.7 kw",
          "MV3.101 Bus 18<br>load=Count: 1, Rated Power: 668.0 kw<br>fixed_feed_in=Count: 1, Rated Power: 171.2 kw",
          "MV3.101 Bus 103<br>load=Count: 1, Rated Power: 362.9 kw<br>fixed_feed_in=Count: 1, Rated Power: 172.2 kw",
          "MV3.101 Bus 100<br>load=Count: 1, Rated Power: 668.0 kw<br>fixed_feed_in=Count: 1, Rated Power: 171.2 kw",
          "MV3.101 Bus 37<br>load=Count: 1, Rated Power: 668.0 kw<br>fixed_feed_in=Count: 1, Rated Power: 171.2 kw",
          "MV3.101 Bus 14<br>load=Count: 1, Rated Power: 362.9 kw<br>fixed_feed_in=Count: 1, Rated Power: 172.2 kw",
          "MV3.101 Bus 107<br>load=Count: 1, Rated Power: 362.9 kw<br>fixed_feed_in=Count: 1, Rated Power: 172.2 kw",
          "MV3.101 Bus 105<br>load=Count: 1, Rated Power: 594.9 kw<br>fixed_feed_in=Count: 1, Rated Power: 184.7 kw",
          "MV3.101 Bus 92<br>load=Count: 1, Rated Power: 668.0 kw<br>fixed_feed_in=Count: 1, Rated Power: 171.2 kw",
          "MV3.101 Bus 119<br>load=Count: 1, Rated Power: 595.0 kw<br>fixed_feed_in=Count: 1, Rated Power: 252.3 kw",
          "MV3.101 Bus 73<br>load=Count: 1, Rated Power: 594.9 kw<br>fixed_feed_in=Count: 1, Rated Power: 184.7 kw",
          "MV3.101 Bus 56<br>load=Count: 1, Rated Power: 668.0 kw<br>fixed_feed_in=Count: 1, Rated Power: 171.2 kw",
          "MV3.101 Bus 33<br>load=Count: 1, Rated Power: 362.9 kw<br>fixed_feed_in=Count: 1, Rated Power: 172.2 kw",
          "MV3.101 Bus 15<br>load=Count: 2, Rated Power: 774.3 kw<br>fixed_feed_in=Count: 1, Rated Power: 172.2 kw",
          "MV3.101 Bus 31<br>load=Count: 1, Rated Power: 594.9 kw<br>fixed_feed_in=Count: 1, Rated Power: 184.7 kw",
          "MV3.101 Bus 25<br>load=Count: 1, Rated Power: 362.9 kw<br>fixed_feed_in=Count: 1, Rated Power: 172.2 kw",
          "MV3.101 Bus 60<br>load=Count: 1, Rated Power: 362.9 kw<br>fixed_feed_in=Count: 1, Rated Power: 172.2 kw",
          "MV3.101 Bus 55<br>load=Count: 1, Rated Power: 594.9 kw<br>fixed_feed_in=Count: 1, Rated Power: 184.7 kw",
          "MV3.101 Bus 99<br>load=Count: 1, Rated Power: 594.9 kw<br>fixed_feed_in=Count: 1, Rated Power: 184.7 kw",
          "MV3.101 Bus 124<br>load=Count: 1, Rated Power: 362.9 kw<br>fixed_feed_in=Count: 1, Rated Power: 172.2 kw",
          "MV3.101 Bus 122<br>load=Count: 1, Rated Power: 362.9 kw<br>fixed_feed_in=Count: 1, Rated Power: 172.2 kw",
          "MV3.101 Bus 110_1<br>",
          "MV3.101 Bus 48<br>load=Count: 1, Rated Power: 594.9 kw<br>fixed_feed_in=Count: 1, Rated Power: 184.7 kw",
          "MV3.101 Bus 106<br>load=Count: 1, Rated Power: 362.9 kw<br>fixed_feed_in=Count: 1, Rated Power: 172.2 kw",
          "MV3.101 Bus 128<br>load=Count: 1, Rated Power: 594.9 kw<br>fixed_feed_in=Count: 1, Rated Power: 184.7 kw",
          "MV3.101 Bus 75_1<br>",
          "MV3.101 Bus 71<br>load=Count: 1, Rated Power: 594.9 kw<br>fixed_feed_in=Count: 1, Rated Power: 184.7 kw",
          "MV3.101 Bus 46<br>load=Count: 1, Rated Power: 594.9 kw<br>fixed_feed_in=Count: 1, Rated Power: 184.7 kw",
          "MV3.101 BS busbar1A<br>",
          "MV3.101 Bus 53<br>load=Count: 1, Rated Power: 668.0 kw<br>fixed_feed_in=Count: 1, Rated Power: 171.2 kw",
          "MV3.101 Bus 40_1<br>",
          "MV3.101 Bus 13<br>load=Count: 1, Rated Power: 668.0 kw<br>fixed_feed_in=Count: 1, Rated Power: 171.2 kw",
          "MV3.101 Bus 39<br>load=Count: 1, Rated Power: 362.9 kw<br>fixed_feed_in=Count: 1, Rated Power: 172.2 kw",
          "MV3.101 Bus 66<br>load=Count: 1, Rated Power: 668.0 kw<br>fixed_feed_in=Count: 1, Rated Power: 171.2 kw",
          "MV3.101 Bus 88<br>load=Count: 1, Rated Power: 594.9 kw<br>fixed_feed_in=Count: 1, Rated Power: 184.7 kw",
          "MV3.101 Bus 96<br>load=Count: 1, Rated Power: 594.9 kw<br>fixed_feed_in=Count: 1, Rated Power: 184.7 kw",
          "MV3.101 Bus 69<br>load=Count: 1, Rated Power: 668.0 kw<br>fixed_feed_in=Count: 1, Rated Power: 171.2 kw",
          "MV3.101 Bus 58<br>load=Count: 1, Rated Power: 668.0 kw<br>fixed_feed_in=Count: 1, Rated Power: 171.2 kw",
          "MV3.101 Bus 142<br>load=Count: 1, Rated Power: 362.9 kw<br>fixed_feed_in=Count: 1, Rated Power: 172.2 kw",
          "MV3.101 Bus 127<br>load=Count: 1, Rated Power: 594.9 kw<br>fixed_feed_in=Count: 1, Rated Power: 184.7 kw",
          "MV3.101 Bus 84<br>load=Count: 2, Rated Power: 1090.7 kw<br>fixed_feed_in=Count: 1, Rated Power: 184.7 kw",
          "MV3.101 Bus 114_1<br>",
          "MV3.101 Bus 138<br>load=Count: 1, Rated Power: 595.0 kw<br>fixed_feed_in=Count: 1, Rated Power: 252.3 kw",
          "MV3.101 Bus 129<br>load=Count: 1, Rated Power: 362.9 kw<br>fixed_feed_in=Count: 1, Rated Power: 172.2 kw",
          "MV3.101 Bus 130<br>load=Count: 1, Rated Power: 594.9 kw<br>fixed_feed_in=Count: 1, Rated Power: 184.7 kw",
          "MV3.101 Bus 16<br>load=Count: 1, Rated Power: 594.9 kw<br>fixed_feed_in=Count: 1, Rated Power: 184.7 kw",
          "MV3.101 Bus 111<br>load=Count: 1, Rated Power: 594.9 kw<br>fixed_feed_in=Count: 1, Rated Power: 184.7 kw",
          "MV3.101 Bus 68<br>load=Count: 1, Rated Power: 668.0 kw<br>fixed_feed_in=Count: 1, Rated Power: 171.2 kw",
          "MV3.101 Bus 51<br>load=Count: 1, Rated Power: 594.9 kw<br>fixed_feed_in=Count: 1, Rated Power: 184.7 kw",
          "MV3.101 Bus 40<br>load=Count: 1, Rated Power: 594.9 kw<br>fixed_feed_in=Count: 1, Rated Power: 184.7 kw",
          "MV3.101 Bus 67<br>load=Count: 2, Rated Power: 647.7 kw<br>fixed_feed_in=Count: 1, Rated Power: 172.2 kw",
          "MV3.101 Bus 136<br>load=Count: 1, Rated Power: 362.9 kw<br>fixed_feed_in=Count: 1, Rated Power: 172.2 kw",
          "MV3.101 Bus 44<br>load=Count: 1, Rated Power: 594.9 kw<br>fixed_feed_in=Count: 1, Rated Power: 184.7 kw",
          "MV3.101 Bus 114<br>load=Count: 1, Rated Power: 668.0 kw<br>fixed_feed_in=Count: 1, Rated Power: 171.2 kw",
          "MV3.101 Bus 30<br>load=Count: 1, Rated Power: 362.9 kw<br>fixed_feed_in=Count: 1, Rated Power: 172.2 kw",
          "MV3.101 Bus 132<br>load=Count: 1, Rated Power: 595.0 kw<br>fixed_feed_in=Count: 1, Rated Power: 252.3 kw",
          "MV3.101 Bus 63<br>load=Count: 1, Rated Power: 668.0 kw<br>fixed_feed_in=Count: 1, Rated Power: 171.2 kw",
          "MV3.101 Bus 38<br>load=Count: 1, Rated Power: 362.9 kw<br>fixed_feed_in=Count: 1, Rated Power: 172.2 kw",
          "MV3.101 Bus 93<br>load=Count: 1, Rated Power: 668.0 kw<br>fixed_feed_in=Count: 1, Rated Power: 171.2 kw",
          "MV3.101 Bus 135<br>load=Count: 1, Rated Power: 594.9 kw<br>fixed_feed_in=Count: 1, Rated Power: 184.7 kw",
          "MV3.101 Bus 24<br>load=Count: 1, Rated Power: 594.9 kw<br>fixed_feed_in=Count: 1, Rated Power: 184.7 kw",
          "MV3.101 Bus 110<br>load=Count: 1, Rated Power: 594.9 kw<br>fixed_feed_in=Count: 1, Rated Power: 184.7 kw",
          "MV3.101 Bus 97<br>load=Count: 1, Rated Power: 362.9 kw<br>fixed_feed_in=Count: 1, Rated Power: 172.2 kw",
          "MV3.101 Bus 57<br>load=Count: 1, Rated Power: 668.0 kw<br>fixed_feed_in=Count: 1, Rated Power: 171.2 kw",
          "MV3.101 Bus 47<br>load=Count: 1, Rated Power: 594.9 kw<br>fixed_feed_in=Count: 1, Rated Power: 184.7 kw",
          "MV3.101 Bus 20<br>load=Count: 1, Rated Power: 362.9 kw<br>fixed_feed_in=Count: 1, Rated Power: 172.2 kw",
          "MV3.101 Bus 113<br>load=Count: 1, Rated Power: 362.9 kw<br>fixed_feed_in=Count: 1, Rated Power: 172.2 kw",
          "MV3.101 Bus 118<br>load=Count: 1, Rated Power: 594.9 kw<br>fixed_feed_in=Count: 1, Rated Power: 184.7 kw",
          "MV3.101 Bus 126<br>load=Count: 1, Rated Power: 594.9 kw<br>fixed_feed_in=Count: 1, Rated Power: 184.7 kw",
          "MV3.101 Bus 141<br>load=Count: 1, Rated Power: 595.0 kw<br>fixed_feed_in=Count: 1, Rated Power: 252.3 kw",
          "MV3.101 Bus 22<br>load=Count: 1, Rated Power: 362.9 kw<br>fixed_feed_in=Count: 1, Rated Power: 172.2 kw",
          "MV3.101 Bus 140<br>load=Count: 1, Rated Power: 362.9 kw<br>fixed_feed_in=Count: 1, Rated Power: 172.2 kw",
          "MV3.101 Bus 18_1<br>",
          "MV3.101 Bus 42<br>load=Count: 2, Rated Power: 816.5 kw<br>fixed_feed_in=Count: 1, Rated Power: 184.7 kw",
          "MV3.101 Bus 94<br>load=Count: 1, Rated Power: 668.0 kw<br>fixed_feed_in=Count: 1, Rated Power: 171.2 kw",
          "MV3.101 Bus 104_1<br>",
          "MV3.101 Bus 139<br>load=Count: 1, Rated Power: 362.9 kw<br>fixed_feed_in=Count: 1, Rated Power: 172.2 kw",
          "MV3.101 Bus 118_1<br>",
          "MV3.101 Bus 116<br>load=Count: 1, Rated Power: 668.0 kw<br>fixed_feed_in=Count: 1, Rated Power: 171.2 kw",
          "MV3.101 Bus 135_1<br>",
          "MV3.101 Bus 21<br>load=Count: 1, Rated Power: 668.0 kw<br>fixed_feed_in=Count: 1, Rated Power: 171.2 kw",
          "MV3.101 Bus 59<br>load=Count: 1, Rated Power: 594.9 kw<br>fixed_feed_in=Count: 1, Rated Power: 184.7 kw",
          "MV3.101 Bus 12<br>load=Count: 1, Rated Power: 362.9 kw<br>fixed_feed_in=Count: 1, Rated Power: 172.2 kw",
          "MV3.101 Bus 90<br>load=Count: 1, Rated Power: 594.9 kw<br>fixed_feed_in=Count: 1, Rated Power: 184.7 kw",
          "MV3.101 Bus 72<br>load=Count: 1, Rated Power: 594.9 kw<br>fixed_feed_in=Count: 1, Rated Power: 184.7 kw",
          "MV3.101 Bus 133<br>load=Count: 1, Rated Power: 362.9 kw<br>fixed_feed_in=Count: 1, Rated Power: 172.2 kw",
          "MV3.101 Bus 108<br>load=Count: 1, Rated Power: 594.9 kw<br>fixed_feed_in=Count: 1, Rated Power: 184.7 kw",
          "MV3.101 Bus 121<br>load=Count: 1, Rated Power: 595.0 kw<br>fixed_feed_in=Count: 1, Rated Power: 252.3 kw",
          "MV3.101 Bus 62<br>load=Count: 1, Rated Power: 362.9 kw<br>fixed_feed_in=Count: 1, Rated Power: 172.2 kw",
          "MV3.101 Bus 26<br>load=Count: 1, Rated Power: 362.9 kw<br>fixed_feed_in=Count: 1, Rated Power: 172.2 kw",
          "MV3.101 Bus 61<br>load=Count: 1, Rated Power: 668.0 kw<br>fixed_feed_in=Count: 1, Rated Power: 171.2 kw",
          "MV3.101 Bus 29<br>load=Count: 1, Rated Power: 362.9 kw<br>fixed_feed_in=Count: 1, Rated Power: 172.2 kw",
          "MV3.101 Bus 131<br>load=Count: 1, Rated Power: 362.9 kw<br>fixed_feed_in=Count: 1, Rated Power: 172.2 kw",
          "MV3.101 Bus 87<br>load=Count: 1, Rated Power: 668.0 kw<br>fixed_feed_in=Count: 1, Rated Power: 171.2 kw",
          "MV3.101 Bus 70<br>load=Count: 1, Rated Power: 668.0 kw<br>fixed_feed_in=Count: 1, Rated Power: 171.2 kw",
          "MV3.101 Bus 89<br>load=Count: 1, Rated Power: 668.0 kw<br>fixed_feed_in=Count: 1, Rated Power: 171.2 kw",
          "MV3.101 Bus 36<br>load=Count: 1, Rated Power: 668.0 kw<br>fixed_feed_in=Count: 1, Rated Power: 171.2 kw",
          "MV3.101 Bus 74<br>load=Count: 1, Rated Power: 362.9 kw<br>fixed_feed_in=Count: 1, Rated Power: 172.2 kw",
          "MV3.101 Bus 83<br>load=Count: 1, Rated Power: 668.0 kw<br>fixed_feed_in=Count: 1, Rated Power: 171.2 kw",
          "MV3.101 Bus 54<br>load=Count: 1, Rated Power: 594.9 kw<br>fixed_feed_in=Count: 1, Rated Power: 184.7 kw",
          "MV3.101 Bus 95<br>load=Count: 1, Rated Power: 362.9 kw<br>fixed_feed_in=Count: 1, Rated Power: 172.2 kw",
          "MV3.101 Bus 23<br>load=Count: 1, Rated Power: 594.9 kw<br>fixed_feed_in=Count: 1, Rated Power: 184.7 kw",
          "MV3.101 Bus 137<br>load=Count: 1, Rated Power: 362.9 kw<br>fixed_feed_in=Count: 1, Rated Power: 172.2 kw",
          "MV3.101 Bus 79<br>load=Count: 1, Rated Power: 362.9 kw<br>fixed_feed_in=Count: 1, Rated Power: 172.2 kw",
          "MV3.101 Bus 101<br>load=Count: 1, Rated Power: 594.9 kw<br>fixed_feed_in=Count: 1, Rated Power: 184.7 kw",
          "MV3.101 Bus 45<br>load=Count: 1, Rated Power: 362.9 kw<br>fixed_feed_in=Count: 1, Rated Power: 172.2 kw",
          "MV3.101 Bus 35<br>load=Count: 1, Rated Power: 668.0 kw<br>fixed_feed_in=Count: 1, Rated Power: 171.2 kw",
          "MV3.101 Bus 109<br>load=Count: 1, Rated Power: 362.9 kw<br>fixed_feed_in=Count: 1, Rated Power: 172.2 kw",
          "MV3.101 Bus 104<br>load=Count: 1, Rated Power: 362.9 kw<br>fixed_feed_in=Count: 1, Rated Power: 172.2 kw",
          "MV3.101 Bus 65<br>load=Count: 1, Rated Power: 668.0 kw<br>fixed_feed_in=Count: 1, Rated Power: 171.2 kw",
          "MV3.101 Bus 112<br>load=Count: 1, Rated Power: 594.9 kw<br>fixed_feed_in=Count: 1, Rated Power: 184.7 kw"
         ],
         "type": "scattermapbox"
        }
       ],
       "layout": {
        "mapbox": {
         "center": {
          "lat": 53.64525238095238,
          "lon": 11.368850340136055
         },
         "style": "open-street-map",
         "zoom": 11.961600000000004
        },
        "margin": {
         "b": 0,
         "l": 0,
         "r": 0,
         "t": 0
        },
        "showlegend": false,
        "template": {
         "data": {
          "bar": [
           {
            "error_x": {
             "color": "#2a3f5f"
            },
            "error_y": {
             "color": "#2a3f5f"
            },
            "marker": {
             "line": {
              "color": "#E5ECF6",
              "width": 0.5
             },
             "pattern": {
              "fillmode": "overlay",
              "size": 10,
              "solidity": 0.2
             }
            },
            "type": "bar"
           }
          ],
          "barpolar": [
           {
            "marker": {
             "line": {
              "color": "#E5ECF6",
              "width": 0.5
             },
             "pattern": {
              "fillmode": "overlay",
              "size": 10,
              "solidity": 0.2
             }
            },
            "type": "barpolar"
           }
          ],
          "carpet": [
           {
            "aaxis": {
             "endlinecolor": "#2a3f5f",
             "gridcolor": "white",
             "linecolor": "white",
             "minorgridcolor": "white",
             "startlinecolor": "#2a3f5f"
            },
            "baxis": {
             "endlinecolor": "#2a3f5f",
             "gridcolor": "white",
             "linecolor": "white",
             "minorgridcolor": "white",
             "startlinecolor": "#2a3f5f"
            },
            "type": "carpet"
           }
          ],
          "choropleth": [
           {
            "colorbar": {
             "outlinewidth": 0,
             "ticks": ""
            },
            "type": "choropleth"
           }
          ],
          "contour": [
           {
            "colorbar": {
             "outlinewidth": 0,
             "ticks": ""
            },
            "colorscale": [
             [
              0,
              "#0d0887"
             ],
             [
              0.1111111111111111,
              "#46039f"
             ],
             [
              0.2222222222222222,
              "#7201a8"
             ],
             [
              0.3333333333333333,
              "#9c179e"
             ],
             [
              0.4444444444444444,
              "#bd3786"
             ],
             [
              0.5555555555555556,
              "#d8576b"
             ],
             [
              0.6666666666666666,
              "#ed7953"
             ],
             [
              0.7777777777777778,
              "#fb9f3a"
             ],
             [
              0.8888888888888888,
              "#fdca26"
             ],
             [
              1,
              "#f0f921"
             ]
            ],
            "type": "contour"
           }
          ],
          "contourcarpet": [
           {
            "colorbar": {
             "outlinewidth": 0,
             "ticks": ""
            },
            "type": "contourcarpet"
           }
          ],
          "heatmap": [
           {
            "colorbar": {
             "outlinewidth": 0,
             "ticks": ""
            },
            "colorscale": [
             [
              0,
              "#0d0887"
             ],
             [
              0.1111111111111111,
              "#46039f"
             ],
             [
              0.2222222222222222,
              "#7201a8"
             ],
             [
              0.3333333333333333,
              "#9c179e"
             ],
             [
              0.4444444444444444,
              "#bd3786"
             ],
             [
              0.5555555555555556,
              "#d8576b"
             ],
             [
              0.6666666666666666,
              "#ed7953"
             ],
             [
              0.7777777777777778,
              "#fb9f3a"
             ],
             [
              0.8888888888888888,
              "#fdca26"
             ],
             [
              1,
              "#f0f921"
             ]
            ],
            "type": "heatmap"
           }
          ],
          "heatmapgl": [
           {
            "colorbar": {
             "outlinewidth": 0,
             "ticks": ""
            },
            "colorscale": [
             [
              0,
              "#0d0887"
             ],
             [
              0.1111111111111111,
              "#46039f"
             ],
             [
              0.2222222222222222,
              "#7201a8"
             ],
             [
              0.3333333333333333,
              "#9c179e"
             ],
             [
              0.4444444444444444,
              "#bd3786"
             ],
             [
              0.5555555555555556,
              "#d8576b"
             ],
             [
              0.6666666666666666,
              "#ed7953"
             ],
             [
              0.7777777777777778,
              "#fb9f3a"
             ],
             [
              0.8888888888888888,
              "#fdca26"
             ],
             [
              1,
              "#f0f921"
             ]
            ],
            "type": "heatmapgl"
           }
          ],
          "histogram": [
           {
            "marker": {
             "pattern": {
              "fillmode": "overlay",
              "size": 10,
              "solidity": 0.2
             }
            },
            "type": "histogram"
           }
          ],
          "histogram2d": [
           {
            "colorbar": {
             "outlinewidth": 0,
             "ticks": ""
            },
            "colorscale": [
             [
              0,
              "#0d0887"
             ],
             [
              0.1111111111111111,
              "#46039f"
             ],
             [
              0.2222222222222222,
              "#7201a8"
             ],
             [
              0.3333333333333333,
              "#9c179e"
             ],
             [
              0.4444444444444444,
              "#bd3786"
             ],
             [
              0.5555555555555556,
              "#d8576b"
             ],
             [
              0.6666666666666666,
              "#ed7953"
             ],
             [
              0.7777777777777778,
              "#fb9f3a"
             ],
             [
              0.8888888888888888,
              "#fdca26"
             ],
             [
              1,
              "#f0f921"
             ]
            ],
            "type": "histogram2d"
           }
          ],
          "histogram2dcontour": [
           {
            "colorbar": {
             "outlinewidth": 0,
             "ticks": ""
            },
            "colorscale": [
             [
              0,
              "#0d0887"
             ],
             [
              0.1111111111111111,
              "#46039f"
             ],
             [
              0.2222222222222222,
              "#7201a8"
             ],
             [
              0.3333333333333333,
              "#9c179e"
             ],
             [
              0.4444444444444444,
              "#bd3786"
             ],
             [
              0.5555555555555556,
              "#d8576b"
             ],
             [
              0.6666666666666666,
              "#ed7953"
             ],
             [
              0.7777777777777778,
              "#fb9f3a"
             ],
             [
              0.8888888888888888,
              "#fdca26"
             ],
             [
              1,
              "#f0f921"
             ]
            ],
            "type": "histogram2dcontour"
           }
          ],
          "mesh3d": [
           {
            "colorbar": {
             "outlinewidth": 0,
             "ticks": ""
            },
            "type": "mesh3d"
           }
          ],
          "parcoords": [
           {
            "line": {
             "colorbar": {
              "outlinewidth": 0,
              "ticks": ""
             }
            },
            "type": "parcoords"
           }
          ],
          "pie": [
           {
            "automargin": true,
            "type": "pie"
           }
          ],
          "scatter": [
           {
            "fillpattern": {
             "fillmode": "overlay",
             "size": 10,
             "solidity": 0.2
            },
            "type": "scatter"
           }
          ],
          "scatter3d": [
           {
            "line": {
             "colorbar": {
              "outlinewidth": 0,
              "ticks": ""
             }
            },
            "marker": {
             "colorbar": {
              "outlinewidth": 0,
              "ticks": ""
             }
            },
            "type": "scatter3d"
           }
          ],
          "scattercarpet": [
           {
            "marker": {
             "colorbar": {
              "outlinewidth": 0,
              "ticks": ""
             }
            },
            "type": "scattercarpet"
           }
          ],
          "scattergeo": [
           {
            "marker": {
             "colorbar": {
              "outlinewidth": 0,
              "ticks": ""
             }
            },
            "type": "scattergeo"
           }
          ],
          "scattergl": [
           {
            "marker": {
             "colorbar": {
              "outlinewidth": 0,
              "ticks": ""
             }
            },
            "type": "scattergl"
           }
          ],
          "scattermapbox": [
           {
            "marker": {
             "colorbar": {
              "outlinewidth": 0,
              "ticks": ""
             }
            },
            "type": "scattermapbox"
           }
          ],
          "scatterpolar": [
           {
            "marker": {
             "colorbar": {
              "outlinewidth": 0,
              "ticks": ""
             }
            },
            "type": "scatterpolar"
           }
          ],
          "scatterpolargl": [
           {
            "marker": {
             "colorbar": {
              "outlinewidth": 0,
              "ticks": ""
             }
            },
            "type": "scatterpolargl"
           }
          ],
          "scatterternary": [
           {
            "marker": {
             "colorbar": {
              "outlinewidth": 0,
              "ticks": ""
             }
            },
            "type": "scatterternary"
           }
          ],
          "surface": [
           {
            "colorbar": {
             "outlinewidth": 0,
             "ticks": ""
            },
            "colorscale": [
             [
              0,
              "#0d0887"
             ],
             [
              0.1111111111111111,
              "#46039f"
             ],
             [
              0.2222222222222222,
              "#7201a8"
             ],
             [
              0.3333333333333333,
              "#9c179e"
             ],
             [
              0.4444444444444444,
              "#bd3786"
             ],
             [
              0.5555555555555556,
              "#d8576b"
             ],
             [
              0.6666666666666666,
              "#ed7953"
             ],
             [
              0.7777777777777778,
              "#fb9f3a"
             ],
             [
              0.8888888888888888,
              "#fdca26"
             ],
             [
              1,
              "#f0f921"
             ]
            ],
            "type": "surface"
           }
          ],
          "table": [
           {
            "cells": {
             "fill": {
              "color": "#EBF0F8"
             },
             "line": {
              "color": "white"
             }
            },
            "header": {
             "fill": {
              "color": "#C8D4E3"
             },
             "line": {
              "color": "white"
             }
            },
            "type": "table"
           }
          ]
         },
         "layout": {
          "annotationdefaults": {
           "arrowcolor": "#2a3f5f",
           "arrowhead": 0,
           "arrowwidth": 1
          },
          "autotypenumbers": "strict",
          "coloraxis": {
           "colorbar": {
            "outlinewidth": 0,
            "ticks": ""
           }
          },
          "colorscale": {
           "diverging": [
            [
             0,
             "#8e0152"
            ],
            [
             0.1,
             "#c51b7d"
            ],
            [
             0.2,
             "#de77ae"
            ],
            [
             0.3,
             "#f1b6da"
            ],
            [
             0.4,
             "#fde0ef"
            ],
            [
             0.5,
             "#f7f7f7"
            ],
            [
             0.6,
             "#e6f5d0"
            ],
            [
             0.7,
             "#b8e186"
            ],
            [
             0.8,
             "#7fbc41"
            ],
            [
             0.9,
             "#4d9221"
            ],
            [
             1,
             "#276419"
            ]
           ],
           "sequential": [
            [
             0,
             "#0d0887"
            ],
            [
             0.1111111111111111,
             "#46039f"
            ],
            [
             0.2222222222222222,
             "#7201a8"
            ],
            [
             0.3333333333333333,
             "#9c179e"
            ],
            [
             0.4444444444444444,
             "#bd3786"
            ],
            [
             0.5555555555555556,
             "#d8576b"
            ],
            [
             0.6666666666666666,
             "#ed7953"
            ],
            [
             0.7777777777777778,
             "#fb9f3a"
            ],
            [
             0.8888888888888888,
             "#fdca26"
            ],
            [
             1,
             "#f0f921"
            ]
           ],
           "sequentialminus": [
            [
             0,
             "#0d0887"
            ],
            [
             0.1111111111111111,
             "#46039f"
            ],
            [
             0.2222222222222222,
             "#7201a8"
            ],
            [
             0.3333333333333333,
             "#9c179e"
            ],
            [
             0.4444444444444444,
             "#bd3786"
            ],
            [
             0.5555555555555556,
             "#d8576b"
            ],
            [
             0.6666666666666666,
             "#ed7953"
            ],
            [
             0.7777777777777778,
             "#fb9f3a"
            ],
            [
             0.8888888888888888,
             "#fdca26"
            ],
            [
             1,
             "#f0f921"
            ]
           ]
          },
          "colorway": [
           "#636efa",
           "#EF553B",
           "#00cc96",
           "#ab63fa",
           "#FFA15A",
           "#19d3f3",
           "#FF6692",
           "#B6E880",
           "#FF97FF",
           "#FECB52"
          ],
          "font": {
           "color": "#2a3f5f"
          },
          "geo": {
           "bgcolor": "white",
           "lakecolor": "white",
           "landcolor": "#E5ECF6",
           "showlakes": true,
           "showland": true,
           "subunitcolor": "white"
          },
          "hoverlabel": {
           "align": "left"
          },
          "hovermode": "closest",
          "mapbox": {
           "style": "light"
          },
          "paper_bgcolor": "white",
          "plot_bgcolor": "#E5ECF6",
          "polar": {
           "angularaxis": {
            "gridcolor": "white",
            "linecolor": "white",
            "ticks": ""
           },
           "bgcolor": "#E5ECF6",
           "radialaxis": {
            "gridcolor": "white",
            "linecolor": "white",
            "ticks": ""
           }
          },
          "scene": {
           "xaxis": {
            "backgroundcolor": "#E5ECF6",
            "gridcolor": "white",
            "gridwidth": 2,
            "linecolor": "white",
            "showbackground": true,
            "ticks": "",
            "zerolinecolor": "white"
           },
           "yaxis": {
            "backgroundcolor": "#E5ECF6",
            "gridcolor": "white",
            "gridwidth": 2,
            "linecolor": "white",
            "showbackground": true,
            "ticks": "",
            "zerolinecolor": "white"
           },
           "zaxis": {
            "backgroundcolor": "#E5ECF6",
            "gridcolor": "white",
            "gridwidth": 2,
            "linecolor": "white",
            "showbackground": true,
            "ticks": "",
            "zerolinecolor": "white"
           }
          },
          "shapedefaults": {
           "line": {
            "color": "#2a3f5f"
           }
          },
          "ternary": {
           "aaxis": {
            "gridcolor": "white",
            "linecolor": "white",
            "ticks": ""
           },
           "baxis": {
            "gridcolor": "white",
            "linecolor": "white",
            "ticks": ""
           },
           "bgcolor": "#E5ECF6",
           "caxis": {
            "gridcolor": "white",
            "linecolor": "white",
            "ticks": ""
           }
          },
          "title": {
           "x": 0.05
          },
          "xaxis": {
           "automargin": true,
           "gridcolor": "white",
           "linecolor": "white",
           "ticks": "",
           "title": {
            "standoff": 15
           },
           "zerolinecolor": "white",
           "zerolinewidth": 2
          },
          "yaxis": {
           "automargin": true,
           "gridcolor": "white",
           "linecolor": "white",
           "ticks": "",
           "title": {
            "standoff": 15
           },
           "zerolinecolor": "white",
           "zerolinewidth": 2
          }
         }
        }
       }
      }
     },
     "metadata": {},
     "output_type": "display_data"
    }
   ],
   "source": [
    "from pypsdm.plots.grid import grid_plot\n",
    "\n",
    "# Use the grid_plot method to visualize the grid model\n",
    "# only works if the underlying node input files have associated coordinates\n",
    "grid_plot(gwr.grid)"
   ]
  },
  {
   "cell_type": "code",
   "execution_count": 4,
   "metadata": {},
   "outputs": [],
   "source": [
    "results = gwr.results\n",
    "# The grid results are symmetrical to the input grid, so there is a result container\n",
    "# for participants and for the raw grid.\n",
    "raw_grid_res = results.raw_grid\n",
    "participants_res = results.participants"
   ]
  },
  {
   "cell_type": "code",
   "execution_count": 5,
   "metadata": {},
   "outputs": [],
   "source": [
    "# Results for each grid element and participant is a discrete event time series\n",
    "# which basically means each recorded state of e.g. a node (consisting of current magnitude, and angle)\n",
    "# is valid until the next recorded state.\n",
    "\n",
    "nodes_res = raw_grid_res.nodes\n",
    "# Reminder: you can also access the nodes result directly from the gwr e.g. gwr.nodes_res\n",
    "nodes_res = gwr.nodes_res"
   ]
  },
  {
   "cell_type": "code",
   "execution_count": 6,
   "metadata": {},
   "outputs": [
    {
     "data": {
      "text/html": [
       "<div>\n",
       "<style scoped>\n",
       "    .dataframe tbody tr th:only-of-type {\n",
       "        vertical-align: middle;\n",
       "    }\n",
       "\n",
       "    .dataframe tbody tr th {\n",
       "        vertical-align: top;\n",
       "    }\n",
       "\n",
       "    .dataframe thead th {\n",
       "        text-align: right;\n",
       "    }\n",
       "</style>\n",
       "<table border=\"1\" class=\"dataframe\">\n",
       "  <thead>\n",
       "    <tr style=\"text-align: right;\">\n",
       "      <th></th>\n",
       "      <th>v_ang</th>\n",
       "      <th>v_mag</th>\n",
       "    </tr>\n",
       "    <tr>\n",
       "      <th>time</th>\n",
       "      <th></th>\n",
       "      <th></th>\n",
       "    </tr>\n",
       "  </thead>\n",
       "  <tbody>\n",
       "    <tr>\n",
       "      <th>2016-01-01 00:00:00</th>\n",
       "      <td>-1.370031</td>\n",
       "      <td>1.032337</td>\n",
       "    </tr>\n",
       "    <tr>\n",
       "      <th>2016-01-01 03:00:00</th>\n",
       "      <td>-1.567882</td>\n",
       "      <td>1.031248</td>\n",
       "    </tr>\n",
       "    <tr>\n",
       "      <th>2016-01-01 04:00:00</th>\n",
       "      <td>-1.466684</td>\n",
       "      <td>1.031595</td>\n",
       "    </tr>\n",
       "    <tr>\n",
       "      <th>2016-01-01 05:00:00</th>\n",
       "      <td>-1.793983</td>\n",
       "      <td>1.029550</td>\n",
       "    </tr>\n",
       "    <tr>\n",
       "      <th>2016-01-01 06:00:00</th>\n",
       "      <td>-1.679715</td>\n",
       "      <td>1.030489</td>\n",
       "    </tr>\n",
       "  </tbody>\n",
       "</table>\n",
       "</div>"
      ],
      "text/plain": [
       "                        v_ang     v_mag\n",
       "time                                   \n",
       "2016-01-01 00:00:00 -1.370031  1.032337\n",
       "2016-01-01 03:00:00 -1.567882  1.031248\n",
       "2016-01-01 04:00:00 -1.466684  1.031595\n",
       "2016-01-01 05:00:00 -1.793983  1.029550\n",
       "2016-01-01 06:00:00 -1.679715  1.030489"
      ]
     },
     "execution_count": 6,
     "metadata": {},
     "output_type": "execute_result"
    }
   ],
   "source": [
    "# The underlying structure of the result data is a dictionary named entities\n",
    "# the values of the dictionary are dependent on the result model\n",
    "# e.g. the result dictionar NodesResult contains NodeResult objects\n",
    "from pypsdm.models.result.grid.node import NodeResult\n",
    "\n",
    "\n",
    "entities = nodes_res.entities\n",
    "\n",
    "# You can access items as you would with a standard dictionary\n",
    "uuid = list(entities.keys())[0]\n",
    "node_res: NodeResult = nodes_res[uuid]  # type: ignore\n",
    "\n",
    "# Similar to the input models the underlying data structure of each singular result object\n",
    "# is a pandas DataFrame with a date time index\n",
    "node_res.data.head()"
   ]
  },
  {
   "cell_type": "code",
   "execution_count": 7,
   "metadata": {},
   "outputs": [
    {
     "data": {
      "text/html": [
       "<div>\n",
       "<style scoped>\n",
       "    .dataframe tbody tr th:only-of-type {\n",
       "        vertical-align: middle;\n",
       "    }\n",
       "\n",
       "    .dataframe tbody tr th {\n",
       "        vertical-align: top;\n",
       "    }\n",
       "\n",
       "    .dataframe thead th {\n",
       "        text-align: right;\n",
       "    }\n",
       "</style>\n",
       "<table border=\"1\" class=\"dataframe\">\n",
       "  <thead>\n",
       "    <tr style=\"text-align: right;\">\n",
       "      <th></th>\n",
       "      <th>v_ang</th>\n",
       "      <th>v_mag</th>\n",
       "    </tr>\n",
       "    <tr>\n",
       "      <th>time</th>\n",
       "      <th></th>\n",
       "      <th></th>\n",
       "    </tr>\n",
       "  </thead>\n",
       "  <tbody>\n",
       "    <tr>\n",
       "      <th>2016-01-01 00:00:00</th>\n",
       "      <td>-1.370031</td>\n",
       "      <td>1.032337</td>\n",
       "    </tr>\n",
       "    <tr>\n",
       "      <th>2016-01-01 01:00:00</th>\n",
       "      <td>-1.370031</td>\n",
       "      <td>1.032337</td>\n",
       "    </tr>\n",
       "  </tbody>\n",
       "</table>\n",
       "</div>"
      ],
      "text/plain": [
       "                        v_ang     v_mag\n",
       "time                                   \n",
       "2016-01-01 00:00:00 -1.370031  1.032337\n",
       "2016-01-01 01:00:00 -1.370031  1.032337"
      ]
     },
     "execution_count": 7,
     "metadata": {},
     "output_type": "execute_result"
    }
   ],
   "source": [
    "from datetime import datetime\n",
    "\n",
    "\n",
    "# If you want to look at some time interval, you can slice the result modesl with date\n",
    "# time objects\n",
    "start = datetime(2016, 1, 1)\n",
    "end = datetime(2016, 1, 1, 1)\n",
    "sliced_node_res = node_res[start:end]\n",
    "sliced_node_res.data"
   ]
  },
  {
   "cell_type": "code",
   "execution_count": 8,
   "metadata": {},
   "outputs": [
    {
     "data": {
      "text/html": [
       "<div>\n",
       "<style scoped>\n",
       "    .dataframe tbody tr th:only-of-type {\n",
       "        vertical-align: middle;\n",
       "    }\n",
       "\n",
       "    .dataframe tbody tr th {\n",
       "        vertical-align: top;\n",
       "    }\n",
       "\n",
       "    .dataframe thead th {\n",
       "        text-align: right;\n",
       "    }\n",
       "</style>\n",
       "<table border=\"1\" class=\"dataframe\">\n",
       "  <thead>\n",
       "    <tr style=\"text-align: right;\">\n",
       "      <th></th>\n",
       "      <th>v_ang</th>\n",
       "      <th>v_mag</th>\n",
       "    </tr>\n",
       "    <tr>\n",
       "      <th>time</th>\n",
       "      <th></th>\n",
       "      <th></th>\n",
       "    </tr>\n",
       "  </thead>\n",
       "  <tbody>\n",
       "    <tr>\n",
       "      <th>2016-01-01 00:00:00</th>\n",
       "      <td>-1.370031</td>\n",
       "      <td>1.032337</td>\n",
       "    </tr>\n",
       "    <tr>\n",
       "      <th>2016-01-01 01:00:00</th>\n",
       "      <td>-1.370031</td>\n",
       "      <td>1.032337</td>\n",
       "    </tr>\n",
       "  </tbody>\n",
       "</table>\n",
       "</div>"
      ],
      "text/plain": [
       "                        v_ang     v_mag\n",
       "time                                   \n",
       "2016-01-01 00:00:00 -1.370031  1.032337\n",
       "2016-01-01 01:00:00 -1.370031  1.032337"
      ]
     },
     "execution_count": 8,
     "metadata": {},
     "output_type": "execute_result"
    }
   ],
   "source": [
    "from pypsdm.models.result.grid.node import NodesResult\n",
    "\n",
    "\n",
    "# You can also filter the whole dictionary for a time interval\n",
    "sliced_nodes_res = nodes_res.filter_for_time_interval(start, end)\n",
    "sliced_nodes_res[uuid].data"
   ]
  },
  {
   "cell_type": "code",
   "execution_count": 9,
   "metadata": {},
   "outputs": [
    {
     "data": {
      "text/html": [
       "<div>\n",
       "<style scoped>\n",
       "    .dataframe tbody tr th:only-of-type {\n",
       "        vertical-align: middle;\n",
       "    }\n",
       "\n",
       "    .dataframe tbody tr th {\n",
       "        vertical-align: top;\n",
       "    }\n",
       "\n",
       "    .dataframe thead th {\n",
       "        text-align: right;\n",
       "    }\n",
       "</style>\n",
       "<table border=\"1\" class=\"dataframe\">\n",
       "  <thead>\n",
       "    <tr style=\"text-align: right;\">\n",
       "      <th></th>\n",
       "      <th>p</th>\n",
       "      <th>q</th>\n",
       "    </tr>\n",
       "    <tr>\n",
       "      <th>time</th>\n",
       "      <th></th>\n",
       "      <th></th>\n",
       "    </tr>\n",
       "  </thead>\n",
       "  <tbody>\n",
       "    <tr>\n",
       "      <th>2016-01-01 00:00:00</th>\n",
       "      <td>0.100361</td>\n",
       "      <td>0.033545</td>\n",
       "    </tr>\n",
       "    <tr>\n",
       "      <th>2016-01-01 01:00:00</th>\n",
       "      <td>0.079933</td>\n",
       "      <td>0.025773</td>\n",
       "    </tr>\n",
       "    <tr>\n",
       "      <th>2016-01-01 02:00:00</th>\n",
       "      <td>0.132742</td>\n",
       "      <td>0.042507</td>\n",
       "    </tr>\n",
       "    <tr>\n",
       "      <th>2016-01-01 03:00:00</th>\n",
       "      <td>0.064642</td>\n",
       "      <td>0.021374</td>\n",
       "    </tr>\n",
       "    <tr>\n",
       "      <th>2016-01-01 04:00:00</th>\n",
       "      <td>0.083497</td>\n",
       "      <td>0.028292</td>\n",
       "    </tr>\n",
       "  </tbody>\n",
       "</table>\n",
       "</div>"
      ],
      "text/plain": [
       "                            p         q\n",
       "time                                   \n",
       "2016-01-01 00:00:00  0.100361  0.033545\n",
       "2016-01-01 01:00:00  0.079933  0.025773\n",
       "2016-01-01 02:00:00  0.132742  0.042507\n",
       "2016-01-01 03:00:00  0.064642  0.021374\n",
       "2016-01-01 04:00:00  0.083497  0.028292"
      ]
     },
     "execution_count": 9,
     "metadata": {},
     "output_type": "execute_result"
    }
   ],
   "source": [
    "# For participants all things look mostly the same\n",
    "# The type of results are mostly of type PQResult, containing active and reactive power\n",
    "from pypsdm.models.result.power import PQResult\n",
    "\n",
    "\n",
    "loads_res = participants_res.loads\n",
    "load_res = loads_res[list(loads_res.entities.keys())[0]]\n",
    "load_res.data.head()"
   ]
  },
  {
   "cell_type": "code",
   "execution_count": 10,
   "metadata": {},
   "outputs": [
    {
     "data": {
      "text/html": [
       "<div>\n",
       "<style scoped>\n",
       "    .dataframe tbody tr th:only-of-type {\n",
       "        vertical-align: middle;\n",
       "    }\n",
       "\n",
       "    .dataframe tbody tr th {\n",
       "        vertical-align: top;\n",
       "    }\n",
       "\n",
       "    .dataframe thead th {\n",
       "        text-align: right;\n",
       "    }\n",
       "</style>\n",
       "<table border=\"1\" class=\"dataframe\">\n",
       "  <thead>\n",
       "    <tr style=\"text-align: right;\">\n",
       "      <th></th>\n",
       "      <th>p</th>\n",
       "      <th>q</th>\n",
       "    </tr>\n",
       "    <tr>\n",
       "      <th>time</th>\n",
       "      <th></th>\n",
       "      <th></th>\n",
       "    </tr>\n",
       "  </thead>\n",
       "  <tbody>\n",
       "    <tr>\n",
       "      <th>2016-01-01 00:00:00</th>\n",
       "      <td>0.108260</td>\n",
       "      <td>0.036790</td>\n",
       "    </tr>\n",
       "    <tr>\n",
       "      <th>2016-01-01 01:00:00</th>\n",
       "      <td>0.086937</td>\n",
       "      <td>0.028719</td>\n",
       "    </tr>\n",
       "    <tr>\n",
       "      <th>2016-01-01 02:00:00</th>\n",
       "      <td>0.141324</td>\n",
       "      <td>0.046164</td>\n",
       "    </tr>\n",
       "    <tr>\n",
       "      <th>2016-01-01 03:00:00</th>\n",
       "      <td>0.076531</td>\n",
       "      <td>0.026630</td>\n",
       "    </tr>\n",
       "    <tr>\n",
       "      <th>2016-01-01 04:00:00</th>\n",
       "      <td>0.095099</td>\n",
       "      <td>0.033547</td>\n",
       "    </tr>\n",
       "  </tbody>\n",
       "</table>\n",
       "</div>"
      ],
      "text/plain": [
       "                            p         q\n",
       "time                                   \n",
       "2016-01-01 00:00:00  0.108260  0.036790\n",
       "2016-01-01 01:00:00  0.086937  0.028719\n",
       "2016-01-01 02:00:00  0.141324  0.046164\n",
       "2016-01-01 03:00:00  0.076531  0.026630\n",
       "2016-01-01 04:00:00  0.095099  0.033547"
      ]
     },
     "execution_count": 10,
     "metadata": {},
     "output_type": "execute_result"
    }
   ],
   "source": [
    "# There are calculation utilities implemented where it makes sense\n",
    "load_res2 = loads_res[list(loads_res.entities.keys())[1]]\n",
    "load_sum = load_res + load_res2\n",
    "load_sum.data.head()"
   ]
  },
  {
   "cell_type": "code",
   "execution_count": 11,
   "metadata": {},
   "outputs": [
    {
     "data": {
      "text/html": [
       "<div>\n",
       "<style scoped>\n",
       "    .dataframe tbody tr th:only-of-type {\n",
       "        vertical-align: middle;\n",
       "    }\n",
       "\n",
       "    .dataframe tbody tr th {\n",
       "        vertical-align: top;\n",
       "    }\n",
       "\n",
       "    .dataframe thead th {\n",
       "        text-align: right;\n",
       "    }\n",
       "</style>\n",
       "<table border=\"1\" class=\"dataframe\">\n",
       "  <thead>\n",
       "    <tr style=\"text-align: right;\">\n",
       "      <th></th>\n",
       "      <th>p</th>\n",
       "      <th>q</th>\n",
       "    </tr>\n",
       "    <tr>\n",
       "      <th>time</th>\n",
       "      <th></th>\n",
       "      <th></th>\n",
       "    </tr>\n",
       "  </thead>\n",
       "  <tbody>\n",
       "    <tr>\n",
       "      <th>2016-01-01 00:00:00</th>\n",
       "      <td>10.000451</td>\n",
       "      <td>3.294543</td>\n",
       "    </tr>\n",
       "    <tr>\n",
       "      <th>2016-01-01 01:00:00</th>\n",
       "      <td>8.531443</td>\n",
       "      <td>2.888455</td>\n",
       "    </tr>\n",
       "    <tr>\n",
       "      <th>2016-01-01 02:00:00</th>\n",
       "      <td>9.787666</td>\n",
       "      <td>3.346276</td>\n",
       "    </tr>\n",
       "    <tr>\n",
       "      <th>2016-01-01 03:00:00</th>\n",
       "      <td>9.121015</td>\n",
       "      <td>3.169117</td>\n",
       "    </tr>\n",
       "    <tr>\n",
       "      <th>2016-01-01 04:00:00</th>\n",
       "      <td>11.186874</td>\n",
       "      <td>3.714538</td>\n",
       "    </tr>\n",
       "  </tbody>\n",
       "</table>\n",
       "</div>"
      ],
      "text/plain": [
       "                             p         q\n",
       "time                                    \n",
       "2016-01-01 00:00:00  10.000451  3.294543\n",
       "2016-01-01 01:00:00   8.531443  2.888455\n",
       "2016-01-01 02:00:00   9.787666  3.346276\n",
       "2016-01-01 03:00:00   9.121015  3.169117\n",
       "2016-01-01 04:00:00  11.186874  3.714538"
      ]
     },
     "execution_count": 11,
     "metadata": {},
     "output_type": "execute_result"
    }
   ],
   "source": [
    "# You can also calculate the sum for all participants\n",
    "total_loads_res = loads_res.sum()\n",
    "total_loads_res.data.head()"
   ]
  },
  {
   "cell_type": "code",
   "execution_count": 12,
   "metadata": {},
   "outputs": [
    {
     "data": {
      "text/html": [
       "<div>\n",
       "<style scoped>\n",
       "    .dataframe tbody tr th:only-of-type {\n",
       "        vertical-align: middle;\n",
       "    }\n",
       "\n",
       "    .dataframe tbody tr th {\n",
       "        vertical-align: top;\n",
       "    }\n",
       "\n",
       "    .dataframe thead th {\n",
       "        text-align: right;\n",
       "    }\n",
       "</style>\n",
       "<table border=\"1\" class=\"dataframe\">\n",
       "  <thead>\n",
       "    <tr style=\"text-align: right;\">\n",
       "      <th></th>\n",
       "      <th>0014e974-d490-4a1c-96e2-23d0e523b104</th>\n",
       "      <th>02a26927-da09-410f-8452-903177ef645b</th>\n",
       "      <th>05bdcb09-d1b4-4a30-b06a-b26d543d6929</th>\n",
       "      <th>07ff3b74-bda4-4a30-9584-3daa033068bb</th>\n",
       "      <th>095d4836-9075-49c1-bb2b-447db22fcb22</th>\n",
       "      <th>0acbb234-af80-44b3-8c5a-cff35e3bd7ac</th>\n",
       "      <th>0df30eab-565f-4184-8404-c33f80a3d1a6</th>\n",
       "      <th>0e64c305-f846-4bd4-8898-fbd833469bde</th>\n",
       "      <th>0ec9fd06-f5db-423c-96f1-03ddb88b9491</th>\n",
       "      <th>1199d1f7-22ae-47ad-91b4-e89c9f8fd16f</th>\n",
       "      <th>...</th>\n",
       "      <th>eecfdcb5-b327-48e3-a525-832d0209e7b8</th>\n",
       "      <th>f06c94f9-5ee5-4e60-bc20-3a2f62699f4d</th>\n",
       "      <th>f0b13ceb-da8a-4767-a441-d36980c15b72</th>\n",
       "      <th>f2447245-8a45-4980-8498-cf471d886365</th>\n",
       "      <th>f251d2a7-f131-4614-b906-418fa5750765</th>\n",
       "      <th>f2704836-9871-4f0d-8e62-433f2c95ede4</th>\n",
       "      <th>f2840dba-9c0c-48e9-b5b0-a25499ae51dd</th>\n",
       "      <th>f4d3b235-5403-4188-88a1-94b80dfa53b8</th>\n",
       "      <th>f6204e43-1cfd-4cd8-91b2-3846a980154f</th>\n",
       "      <th>ff389df3-f90d-41ef-b967-d92c0a51e918</th>\n",
       "    </tr>\n",
       "    <tr>\n",
       "      <th>time</th>\n",
       "      <th></th>\n",
       "      <th></th>\n",
       "      <th></th>\n",
       "      <th></th>\n",
       "      <th></th>\n",
       "      <th></th>\n",
       "      <th></th>\n",
       "      <th></th>\n",
       "      <th></th>\n",
       "      <th></th>\n",
       "      <th></th>\n",
       "      <th></th>\n",
       "      <th></th>\n",
       "      <th></th>\n",
       "      <th></th>\n",
       "      <th></th>\n",
       "      <th></th>\n",
       "      <th></th>\n",
       "      <th></th>\n",
       "      <th></th>\n",
       "      <th></th>\n",
       "    </tr>\n",
       "  </thead>\n",
       "  <tbody>\n",
       "    <tr>\n",
       "      <th>2016-01-01 00:00:00</th>\n",
       "      <td>0.100361</td>\n",
       "      <td>0.007899</td>\n",
       "      <td>0.034845</td>\n",
       "      <td>0.055080</td>\n",
       "      <td>0.110637</td>\n",
       "      <td>0.042421</td>\n",
       "      <td>0.122813</td>\n",
       "      <td>0.005346</td>\n",
       "      <td>0.002746</td>\n",
       "      <td>0.036699</td>\n",
       "      <td>...</td>\n",
       "      <td>0.061879</td>\n",
       "      <td>0.009083</td>\n",
       "      <td>0.038949</td>\n",
       "      <td>0.092180</td>\n",
       "      <td>0.008062</td>\n",
       "      <td>0.059149</td>\n",
       "      <td>0.028435</td>\n",
       "      <td>0.044687</td>\n",
       "      <td>0.124652</td>\n",
       "      <td>0.087379</td>\n",
       "    </tr>\n",
       "    <tr>\n",
       "      <th>2016-01-01 01:00:00</th>\n",
       "      <td>0.079933</td>\n",
       "      <td>0.007004</td>\n",
       "      <td>0.024737</td>\n",
       "      <td>0.027209</td>\n",
       "      <td>0.112610</td>\n",
       "      <td>0.023127</td>\n",
       "      <td>0.119688</td>\n",
       "      <td>0.002618</td>\n",
       "      <td>0.002270</td>\n",
       "      <td>0.030516</td>\n",
       "      <td>...</td>\n",
       "      <td>0.046179</td>\n",
       "      <td>0.008223</td>\n",
       "      <td>0.037156</td>\n",
       "      <td>0.098700</td>\n",
       "      <td>0.003986</td>\n",
       "      <td>0.037158</td>\n",
       "      <td>0.024806</td>\n",
       "      <td>0.029256</td>\n",
       "      <td>0.116439</td>\n",
       "      <td>0.068687</td>\n",
       "    </tr>\n",
       "    <tr>\n",
       "      <th>2016-01-01 02:00:00</th>\n",
       "      <td>0.132742</td>\n",
       "      <td>0.008582</td>\n",
       "      <td>0.061820</td>\n",
       "      <td>0.098530</td>\n",
       "      <td>0.147473</td>\n",
       "      <td>0.029389</td>\n",
       "      <td>0.120650</td>\n",
       "      <td>0.002033</td>\n",
       "      <td>0.013430</td>\n",
       "      <td>0.038521</td>\n",
       "      <td>...</td>\n",
       "      <td>0.041041</td>\n",
       "      <td>0.008213</td>\n",
       "      <td>0.046452</td>\n",
       "      <td>0.146509</td>\n",
       "      <td>0.003548</td>\n",
       "      <td>0.048451</td>\n",
       "      <td>0.057203</td>\n",
       "      <td>0.018476</td>\n",
       "      <td>0.138171</td>\n",
       "      <td>0.080424</td>\n",
       "    </tr>\n",
       "    <tr>\n",
       "      <th>2016-01-01 03:00:00</th>\n",
       "      <td>0.064642</td>\n",
       "      <td>0.011889</td>\n",
       "      <td>0.024960</td>\n",
       "      <td>0.032690</td>\n",
       "      <td>0.118495</td>\n",
       "      <td>0.030611</td>\n",
       "      <td>0.127332</td>\n",
       "      <td>0.004005</td>\n",
       "      <td>0.004047</td>\n",
       "      <td>0.022036</td>\n",
       "      <td>...</td>\n",
       "      <td>0.037481</td>\n",
       "      <td>0.008235</td>\n",
       "      <td>0.026474</td>\n",
       "      <td>0.099523</td>\n",
       "      <td>0.005493</td>\n",
       "      <td>0.022540</td>\n",
       "      <td>0.029163</td>\n",
       "      <td>0.014499</td>\n",
       "      <td>0.110900</td>\n",
       "      <td>0.072728</td>\n",
       "    </tr>\n",
       "    <tr>\n",
       "      <th>2016-01-01 04:00:00</th>\n",
       "      <td>0.083497</td>\n",
       "      <td>0.011602</td>\n",
       "      <td>0.084249</td>\n",
       "      <td>0.122456</td>\n",
       "      <td>0.132410</td>\n",
       "      <td>0.038047</td>\n",
       "      <td>0.128587</td>\n",
       "      <td>0.004869</td>\n",
       "      <td>0.015812</td>\n",
       "      <td>0.040018</td>\n",
       "      <td>...</td>\n",
       "      <td>0.044955</td>\n",
       "      <td>0.008369</td>\n",
       "      <td>0.086329</td>\n",
       "      <td>0.175877</td>\n",
       "      <td>0.006207</td>\n",
       "      <td>0.052840</td>\n",
       "      <td>0.062008</td>\n",
       "      <td>0.017805</td>\n",
       "      <td>0.133994</td>\n",
       "      <td>0.076716</td>\n",
       "    </tr>\n",
       "  </tbody>\n",
       "</table>\n",
       "<p>5 rows × 139 columns</p>\n",
       "</div>"
      ],
      "text/plain": [
       "                     0014e974-d490-4a1c-96e2-23d0e523b104  \\\n",
       "time                                                        \n",
       "2016-01-01 00:00:00                              0.100361   \n",
       "2016-01-01 01:00:00                              0.079933   \n",
       "2016-01-01 02:00:00                              0.132742   \n",
       "2016-01-01 03:00:00                              0.064642   \n",
       "2016-01-01 04:00:00                              0.083497   \n",
       "\n",
       "                     02a26927-da09-410f-8452-903177ef645b  \\\n",
       "time                                                        \n",
       "2016-01-01 00:00:00                              0.007899   \n",
       "2016-01-01 01:00:00                              0.007004   \n",
       "2016-01-01 02:00:00                              0.008582   \n",
       "2016-01-01 03:00:00                              0.011889   \n",
       "2016-01-01 04:00:00                              0.011602   \n",
       "\n",
       "                     05bdcb09-d1b4-4a30-b06a-b26d543d6929  \\\n",
       "time                                                        \n",
       "2016-01-01 00:00:00                              0.034845   \n",
       "2016-01-01 01:00:00                              0.024737   \n",
       "2016-01-01 02:00:00                              0.061820   \n",
       "2016-01-01 03:00:00                              0.024960   \n",
       "2016-01-01 04:00:00                              0.084249   \n",
       "\n",
       "                     07ff3b74-bda4-4a30-9584-3daa033068bb  \\\n",
       "time                                                        \n",
       "2016-01-01 00:00:00                              0.055080   \n",
       "2016-01-01 01:00:00                              0.027209   \n",
       "2016-01-01 02:00:00                              0.098530   \n",
       "2016-01-01 03:00:00                              0.032690   \n",
       "2016-01-01 04:00:00                              0.122456   \n",
       "\n",
       "                     095d4836-9075-49c1-bb2b-447db22fcb22  \\\n",
       "time                                                        \n",
       "2016-01-01 00:00:00                              0.110637   \n",
       "2016-01-01 01:00:00                              0.112610   \n",
       "2016-01-01 02:00:00                              0.147473   \n",
       "2016-01-01 03:00:00                              0.118495   \n",
       "2016-01-01 04:00:00                              0.132410   \n",
       "\n",
       "                     0acbb234-af80-44b3-8c5a-cff35e3bd7ac  \\\n",
       "time                                                        \n",
       "2016-01-01 00:00:00                              0.042421   \n",
       "2016-01-01 01:00:00                              0.023127   \n",
       "2016-01-01 02:00:00                              0.029389   \n",
       "2016-01-01 03:00:00                              0.030611   \n",
       "2016-01-01 04:00:00                              0.038047   \n",
       "\n",
       "                     0df30eab-565f-4184-8404-c33f80a3d1a6  \\\n",
       "time                                                        \n",
       "2016-01-01 00:00:00                              0.122813   \n",
       "2016-01-01 01:00:00                              0.119688   \n",
       "2016-01-01 02:00:00                              0.120650   \n",
       "2016-01-01 03:00:00                              0.127332   \n",
       "2016-01-01 04:00:00                              0.128587   \n",
       "\n",
       "                     0e64c305-f846-4bd4-8898-fbd833469bde  \\\n",
       "time                                                        \n",
       "2016-01-01 00:00:00                              0.005346   \n",
       "2016-01-01 01:00:00                              0.002618   \n",
       "2016-01-01 02:00:00                              0.002033   \n",
       "2016-01-01 03:00:00                              0.004005   \n",
       "2016-01-01 04:00:00                              0.004869   \n",
       "\n",
       "                     0ec9fd06-f5db-423c-96f1-03ddb88b9491  \\\n",
       "time                                                        \n",
       "2016-01-01 00:00:00                              0.002746   \n",
       "2016-01-01 01:00:00                              0.002270   \n",
       "2016-01-01 02:00:00                              0.013430   \n",
       "2016-01-01 03:00:00                              0.004047   \n",
       "2016-01-01 04:00:00                              0.015812   \n",
       "\n",
       "                     1199d1f7-22ae-47ad-91b4-e89c9f8fd16f  ...  \\\n",
       "time                                                       ...   \n",
       "2016-01-01 00:00:00                              0.036699  ...   \n",
       "2016-01-01 01:00:00                              0.030516  ...   \n",
       "2016-01-01 02:00:00                              0.038521  ...   \n",
       "2016-01-01 03:00:00                              0.022036  ...   \n",
       "2016-01-01 04:00:00                              0.040018  ...   \n",
       "\n",
       "                     eecfdcb5-b327-48e3-a525-832d0209e7b8  \\\n",
       "time                                                        \n",
       "2016-01-01 00:00:00                              0.061879   \n",
       "2016-01-01 01:00:00                              0.046179   \n",
       "2016-01-01 02:00:00                              0.041041   \n",
       "2016-01-01 03:00:00                              0.037481   \n",
       "2016-01-01 04:00:00                              0.044955   \n",
       "\n",
       "                     f06c94f9-5ee5-4e60-bc20-3a2f62699f4d  \\\n",
       "time                                                        \n",
       "2016-01-01 00:00:00                              0.009083   \n",
       "2016-01-01 01:00:00                              0.008223   \n",
       "2016-01-01 02:00:00                              0.008213   \n",
       "2016-01-01 03:00:00                              0.008235   \n",
       "2016-01-01 04:00:00                              0.008369   \n",
       "\n",
       "                     f0b13ceb-da8a-4767-a441-d36980c15b72  \\\n",
       "time                                                        \n",
       "2016-01-01 00:00:00                              0.038949   \n",
       "2016-01-01 01:00:00                              0.037156   \n",
       "2016-01-01 02:00:00                              0.046452   \n",
       "2016-01-01 03:00:00                              0.026474   \n",
       "2016-01-01 04:00:00                              0.086329   \n",
       "\n",
       "                     f2447245-8a45-4980-8498-cf471d886365  \\\n",
       "time                                                        \n",
       "2016-01-01 00:00:00                              0.092180   \n",
       "2016-01-01 01:00:00                              0.098700   \n",
       "2016-01-01 02:00:00                              0.146509   \n",
       "2016-01-01 03:00:00                              0.099523   \n",
       "2016-01-01 04:00:00                              0.175877   \n",
       "\n",
       "                     f251d2a7-f131-4614-b906-418fa5750765  \\\n",
       "time                                                        \n",
       "2016-01-01 00:00:00                              0.008062   \n",
       "2016-01-01 01:00:00                              0.003986   \n",
       "2016-01-01 02:00:00                              0.003548   \n",
       "2016-01-01 03:00:00                              0.005493   \n",
       "2016-01-01 04:00:00                              0.006207   \n",
       "\n",
       "                     f2704836-9871-4f0d-8e62-433f2c95ede4  \\\n",
       "time                                                        \n",
       "2016-01-01 00:00:00                              0.059149   \n",
       "2016-01-01 01:00:00                              0.037158   \n",
       "2016-01-01 02:00:00                              0.048451   \n",
       "2016-01-01 03:00:00                              0.022540   \n",
       "2016-01-01 04:00:00                              0.052840   \n",
       "\n",
       "                     f2840dba-9c0c-48e9-b5b0-a25499ae51dd  \\\n",
       "time                                                        \n",
       "2016-01-01 00:00:00                              0.028435   \n",
       "2016-01-01 01:00:00                              0.024806   \n",
       "2016-01-01 02:00:00                              0.057203   \n",
       "2016-01-01 03:00:00                              0.029163   \n",
       "2016-01-01 04:00:00                              0.062008   \n",
       "\n",
       "                     f4d3b235-5403-4188-88a1-94b80dfa53b8  \\\n",
       "time                                                        \n",
       "2016-01-01 00:00:00                              0.044687   \n",
       "2016-01-01 01:00:00                              0.029256   \n",
       "2016-01-01 02:00:00                              0.018476   \n",
       "2016-01-01 03:00:00                              0.014499   \n",
       "2016-01-01 04:00:00                              0.017805   \n",
       "\n",
       "                     f6204e43-1cfd-4cd8-91b2-3846a980154f  \\\n",
       "time                                                        \n",
       "2016-01-01 00:00:00                              0.124652   \n",
       "2016-01-01 01:00:00                              0.116439   \n",
       "2016-01-01 02:00:00                              0.138171   \n",
       "2016-01-01 03:00:00                              0.110900   \n",
       "2016-01-01 04:00:00                              0.133994   \n",
       "\n",
       "                     ff389df3-f90d-41ef-b967-d92c0a51e918  \n",
       "time                                                       \n",
       "2016-01-01 00:00:00                              0.087379  \n",
       "2016-01-01 01:00:00                              0.068687  \n",
       "2016-01-01 02:00:00                              0.080424  \n",
       "2016-01-01 03:00:00                              0.072728  \n",
       "2016-01-01 04:00:00                              0.076716  \n",
       "\n",
       "[5 rows x 139 columns]"
      ]
     },
     "execution_count": 12,
     "metadata": {},
     "output_type": "execute_result"
    }
   ],
   "source": [
    "# If you care about a specific attribute of all entities in a result dict you can assemble\n",
    "# a data frame with all time series of all entities in the dict\n",
    "loads_res_p = loads_res.p.head()\n",
    "loads_res_p"
   ]
  },
  {
   "cell_type": "code",
   "execution_count": 13,
   "metadata": {},
   "outputs": [
    {
     "data": {
      "text/html": [
       "<div>\n",
       "<style scoped>\n",
       "    .dataframe tbody tr th:only-of-type {\n",
       "        vertical-align: middle;\n",
       "    }\n",
       "\n",
       "    .dataframe tbody tr th {\n",
       "        vertical-align: top;\n",
       "    }\n",
       "\n",
       "    .dataframe thead th {\n",
       "        text-align: right;\n",
       "    }\n",
       "</style>\n",
       "<table border=\"1\" class=\"dataframe\">\n",
       "  <thead>\n",
       "    <tr style=\"text-align: right;\">\n",
       "      <th></th>\n",
       "      <th>MV3.101 Load 35</th>\n",
       "      <th>MV3.101 Load 128</th>\n",
       "      <th>MV3.101 Load 32</th>\n",
       "      <th>MV3.101 Load 4</th>\n",
       "      <th>MV3.101 Load 102</th>\n",
       "      <th>MV3.101 Load 9</th>\n",
       "      <th>MV3.101 Load 127</th>\n",
       "      <th>MV3.101 Load 39</th>\n",
       "      <th>MV3.101 Load 30</th>\n",
       "      <th>MV3.101 Load 57</th>\n",
       "      <th>...</th>\n",
       "      <th>MV3.101 Load 124</th>\n",
       "      <th>MV3.101 MV Load 4</th>\n",
       "      <th>MV3.101 Load 41</th>\n",
       "      <th>MV3.101 Load 56</th>\n",
       "      <th>MV3.101 Load 22</th>\n",
       "      <th>MV3.101 Load 75</th>\n",
       "      <th>MV3.101 Load 83</th>\n",
       "      <th>MV3.101 Load 126</th>\n",
       "      <th>MV3.101 Load 132</th>\n",
       "      <th>MV3.101 Load 99</th>\n",
       "    </tr>\n",
       "    <tr>\n",
       "      <th>time</th>\n",
       "      <th></th>\n",
       "      <th></th>\n",
       "      <th></th>\n",
       "      <th></th>\n",
       "      <th></th>\n",
       "      <th></th>\n",
       "      <th></th>\n",
       "      <th></th>\n",
       "      <th></th>\n",
       "      <th></th>\n",
       "      <th></th>\n",
       "      <th></th>\n",
       "      <th></th>\n",
       "      <th></th>\n",
       "      <th></th>\n",
       "      <th></th>\n",
       "      <th></th>\n",
       "      <th></th>\n",
       "      <th></th>\n",
       "      <th></th>\n",
       "      <th></th>\n",
       "    </tr>\n",
       "  </thead>\n",
       "  <tbody>\n",
       "    <tr>\n",
       "      <th>2016-01-01 00:00:00</th>\n",
       "      <td>0.100361</td>\n",
       "      <td>0.007899</td>\n",
       "      <td>0.034845</td>\n",
       "      <td>0.055080</td>\n",
       "      <td>0.110637</td>\n",
       "      <td>0.042421</td>\n",
       "      <td>0.122813</td>\n",
       "      <td>0.005346</td>\n",
       "      <td>0.002746</td>\n",
       "      <td>0.036699</td>\n",
       "      <td>...</td>\n",
       "      <td>0.061879</td>\n",
       "      <td>0.009083</td>\n",
       "      <td>0.038949</td>\n",
       "      <td>0.092180</td>\n",
       "      <td>0.008062</td>\n",
       "      <td>0.059149</td>\n",
       "      <td>0.028435</td>\n",
       "      <td>0.044687</td>\n",
       "      <td>0.124652</td>\n",
       "      <td>0.087379</td>\n",
       "    </tr>\n",
       "    <tr>\n",
       "      <th>2016-01-01 01:00:00</th>\n",
       "      <td>0.079933</td>\n",
       "      <td>0.007004</td>\n",
       "      <td>0.024737</td>\n",
       "      <td>0.027209</td>\n",
       "      <td>0.112610</td>\n",
       "      <td>0.023127</td>\n",
       "      <td>0.119688</td>\n",
       "      <td>0.002618</td>\n",
       "      <td>0.002270</td>\n",
       "      <td>0.030516</td>\n",
       "      <td>...</td>\n",
       "      <td>0.046179</td>\n",
       "      <td>0.008223</td>\n",
       "      <td>0.037156</td>\n",
       "      <td>0.098700</td>\n",
       "      <td>0.003986</td>\n",
       "      <td>0.037158</td>\n",
       "      <td>0.024806</td>\n",
       "      <td>0.029256</td>\n",
       "      <td>0.116439</td>\n",
       "      <td>0.068687</td>\n",
       "    </tr>\n",
       "    <tr>\n",
       "      <th>2016-01-01 02:00:00</th>\n",
       "      <td>0.132742</td>\n",
       "      <td>0.008582</td>\n",
       "      <td>0.061820</td>\n",
       "      <td>0.098530</td>\n",
       "      <td>0.147473</td>\n",
       "      <td>0.029389</td>\n",
       "      <td>0.120650</td>\n",
       "      <td>0.002033</td>\n",
       "      <td>0.013430</td>\n",
       "      <td>0.038521</td>\n",
       "      <td>...</td>\n",
       "      <td>0.041041</td>\n",
       "      <td>0.008213</td>\n",
       "      <td>0.046452</td>\n",
       "      <td>0.146509</td>\n",
       "      <td>0.003548</td>\n",
       "      <td>0.048451</td>\n",
       "      <td>0.057203</td>\n",
       "      <td>0.018476</td>\n",
       "      <td>0.138171</td>\n",
       "      <td>0.080424</td>\n",
       "    </tr>\n",
       "    <tr>\n",
       "      <th>2016-01-01 03:00:00</th>\n",
       "      <td>0.064642</td>\n",
       "      <td>0.011889</td>\n",
       "      <td>0.024960</td>\n",
       "      <td>0.032690</td>\n",
       "      <td>0.118495</td>\n",
       "      <td>0.030611</td>\n",
       "      <td>0.127332</td>\n",
       "      <td>0.004005</td>\n",
       "      <td>0.004047</td>\n",
       "      <td>0.022036</td>\n",
       "      <td>...</td>\n",
       "      <td>0.037481</td>\n",
       "      <td>0.008235</td>\n",
       "      <td>0.026474</td>\n",
       "      <td>0.099523</td>\n",
       "      <td>0.005493</td>\n",
       "      <td>0.022540</td>\n",
       "      <td>0.029163</td>\n",
       "      <td>0.014499</td>\n",
       "      <td>0.110900</td>\n",
       "      <td>0.072728</td>\n",
       "    </tr>\n",
       "    <tr>\n",
       "      <th>2016-01-01 04:00:00</th>\n",
       "      <td>0.083497</td>\n",
       "      <td>0.011602</td>\n",
       "      <td>0.084249</td>\n",
       "      <td>0.122456</td>\n",
       "      <td>0.132410</td>\n",
       "      <td>0.038047</td>\n",
       "      <td>0.128587</td>\n",
       "      <td>0.004869</td>\n",
       "      <td>0.015812</td>\n",
       "      <td>0.040018</td>\n",
       "      <td>...</td>\n",
       "      <td>0.044955</td>\n",
       "      <td>0.008369</td>\n",
       "      <td>0.086329</td>\n",
       "      <td>0.175877</td>\n",
       "      <td>0.006207</td>\n",
       "      <td>0.052840</td>\n",
       "      <td>0.062008</td>\n",
       "      <td>0.017805</td>\n",
       "      <td>0.133994</td>\n",
       "      <td>0.076716</td>\n",
       "    </tr>\n",
       "  </tbody>\n",
       "</table>\n",
       "<p>5 rows × 139 columns</p>\n",
       "</div>"
      ],
      "text/plain": [
       "                     MV3.101 Load 35  MV3.101 Load 128  MV3.101 Load 32  \\\n",
       "time                                                                      \n",
       "2016-01-01 00:00:00         0.100361          0.007899         0.034845   \n",
       "2016-01-01 01:00:00         0.079933          0.007004         0.024737   \n",
       "2016-01-01 02:00:00         0.132742          0.008582         0.061820   \n",
       "2016-01-01 03:00:00         0.064642          0.011889         0.024960   \n",
       "2016-01-01 04:00:00         0.083497          0.011602         0.084249   \n",
       "\n",
       "                     MV3.101 Load 4  MV3.101 Load 102  MV3.101 Load 9  \\\n",
       "time                                                                    \n",
       "2016-01-01 00:00:00        0.055080          0.110637        0.042421   \n",
       "2016-01-01 01:00:00        0.027209          0.112610        0.023127   \n",
       "2016-01-01 02:00:00        0.098530          0.147473        0.029389   \n",
       "2016-01-01 03:00:00        0.032690          0.118495        0.030611   \n",
       "2016-01-01 04:00:00        0.122456          0.132410        0.038047   \n",
       "\n",
       "                     MV3.101 Load 127  MV3.101 Load 39  MV3.101 Load 30  \\\n",
       "time                                                                      \n",
       "2016-01-01 00:00:00          0.122813         0.005346         0.002746   \n",
       "2016-01-01 01:00:00          0.119688         0.002618         0.002270   \n",
       "2016-01-01 02:00:00          0.120650         0.002033         0.013430   \n",
       "2016-01-01 03:00:00          0.127332         0.004005         0.004047   \n",
       "2016-01-01 04:00:00          0.128587         0.004869         0.015812   \n",
       "\n",
       "                     MV3.101 Load 57  ...  MV3.101 Load 124  \\\n",
       "time                                  ...                     \n",
       "2016-01-01 00:00:00         0.036699  ...          0.061879   \n",
       "2016-01-01 01:00:00         0.030516  ...          0.046179   \n",
       "2016-01-01 02:00:00         0.038521  ...          0.041041   \n",
       "2016-01-01 03:00:00         0.022036  ...          0.037481   \n",
       "2016-01-01 04:00:00         0.040018  ...          0.044955   \n",
       "\n",
       "                     MV3.101 MV Load 4  MV3.101 Load 41  MV3.101 Load 56  \\\n",
       "time                                                                       \n",
       "2016-01-01 00:00:00           0.009083         0.038949         0.092180   \n",
       "2016-01-01 01:00:00           0.008223         0.037156         0.098700   \n",
       "2016-01-01 02:00:00           0.008213         0.046452         0.146509   \n",
       "2016-01-01 03:00:00           0.008235         0.026474         0.099523   \n",
       "2016-01-01 04:00:00           0.008369         0.086329         0.175877   \n",
       "\n",
       "                     MV3.101 Load 22  MV3.101 Load 75  MV3.101 Load 83  \\\n",
       "time                                                                     \n",
       "2016-01-01 00:00:00         0.008062         0.059149         0.028435   \n",
       "2016-01-01 01:00:00         0.003986         0.037158         0.024806   \n",
       "2016-01-01 02:00:00         0.003548         0.048451         0.057203   \n",
       "2016-01-01 03:00:00         0.005493         0.022540         0.029163   \n",
       "2016-01-01 04:00:00         0.006207         0.052840         0.062008   \n",
       "\n",
       "                     MV3.101 Load 126  MV3.101 Load 132  MV3.101 Load 99  \n",
       "time                                                                      \n",
       "2016-01-01 00:00:00          0.044687          0.124652         0.087379  \n",
       "2016-01-01 01:00:00          0.029256          0.116439         0.068687  \n",
       "2016-01-01 02:00:00          0.018476          0.138171         0.080424  \n",
       "2016-01-01 03:00:00          0.014499          0.110900         0.072728  \n",
       "2016-01-01 04:00:00          0.017805          0.133994         0.076716  \n",
       "\n",
       "[5 rows x 139 columns]"
      ]
     },
     "execution_count": 13,
     "metadata": {},
     "output_type": "execute_result"
    }
   ],
   "source": [
    "# It is generally easier to interpret the data with the entities ids.\n",
    "# This works for all types of results\n",
    "load_uuid_id_map = gwr.loads.id.to_dict()\n",
    "loads_res_p.rename(columns=load_uuid_id_map)"
   ]
  },
  {
   "cell_type": "markdown",
   "metadata": {},
   "source": [
    "## Nodal Results\n",
    "\n",
    "Often times we care about nodal results, so the net load and generation at individual \n",
    "nodes. Therefore we include a special data model `EnhancedNodesResult` which is \n",
    "calculated by summing up the results of all connected participants at the indivdual nodes."
   ]
  },
  {
   "cell_type": "code",
   "execution_count": 14,
   "metadata": {},
   "outputs": [
    {
     "data": {
      "text/html": [
       "<div>\n",
       "<style scoped>\n",
       "    .dataframe tbody tr th:only-of-type {\n",
       "        vertical-align: middle;\n",
       "    }\n",
       "\n",
       "    .dataframe tbody tr th {\n",
       "        vertical-align: top;\n",
       "    }\n",
       "\n",
       "    .dataframe thead th {\n",
       "        text-align: right;\n",
       "    }\n",
       "</style>\n",
       "<table border=\"1\" class=\"dataframe\">\n",
       "  <thead>\n",
       "    <tr style=\"text-align: right;\">\n",
       "      <th></th>\n",
       "      <th>v_ang</th>\n",
       "      <th>v_mag</th>\n",
       "      <th>p</th>\n",
       "      <th>q</th>\n",
       "    </tr>\n",
       "    <tr>\n",
       "      <th>time</th>\n",
       "      <th></th>\n",
       "      <th></th>\n",
       "      <th></th>\n",
       "      <th></th>\n",
       "    </tr>\n",
       "  </thead>\n",
       "  <tbody>\n",
       "    <tr>\n",
       "      <th>2016-01-01 00:00:00</th>\n",
       "      <td>-1.568923</td>\n",
       "      <td>1.026038</td>\n",
       "      <td>0.217446</td>\n",
       "      <td>0.097896</td>\n",
       "    </tr>\n",
       "    <tr>\n",
       "      <th>2016-01-01 01:00:00</th>\n",
       "      <td>-1.568923</td>\n",
       "      <td>1.026038</td>\n",
       "      <td>0.192289</td>\n",
       "      <td>0.088259</td>\n",
       "    </tr>\n",
       "    <tr>\n",
       "      <th>2016-01-01 02:00:00</th>\n",
       "      <td>-1.568923</td>\n",
       "      <td>1.026038</td>\n",
       "      <td>0.182469</td>\n",
       "      <td>0.084294</td>\n",
       "    </tr>\n",
       "    <tr>\n",
       "      <th>2016-01-01 03:00:00</th>\n",
       "      <td>-1.818521</td>\n",
       "      <td>1.023885</td>\n",
       "      <td>0.192557</td>\n",
       "      <td>0.092193</td>\n",
       "    </tr>\n",
       "    <tr>\n",
       "      <th>2016-01-01 04:00:00</th>\n",
       "      <td>-1.673757</td>\n",
       "      <td>1.024844</td>\n",
       "      <td>0.239855</td>\n",
       "      <td>0.109596</td>\n",
       "    </tr>\n",
       "  </tbody>\n",
       "</table>\n",
       "</div>"
      ],
      "text/plain": [
       "                        v_ang     v_mag         p         q\n",
       "time                                                       \n",
       "2016-01-01 00:00:00 -1.568923  1.026038  0.217446  0.097896\n",
       "2016-01-01 01:00:00 -1.568923  1.026038  0.192289  0.088259\n",
       "2016-01-01 02:00:00 -1.568923  1.026038  0.182469  0.084294\n",
       "2016-01-01 03:00:00 -1.818521  1.023885  0.192557  0.092193\n",
       "2016-01-01 04:00:00 -1.673757  1.024844  0.239855  0.109596"
      ]
     },
     "execution_count": 14,
     "metadata": {},
     "output_type": "execute_result"
    }
   ],
   "source": [
    "# There is a method to calculate all of them\n",
    "nodal_results = gwr.build_enhanced_nodes_result()\n",
    "\n",
    "target_uuid = nodal_results.uuids()[3]\n",
    "nodal_results[target_uuid].data.head()"
   ]
  },
  {
   "cell_type": "code",
   "execution_count": 15,
   "metadata": {},
   "outputs": [
    {
     "data": {
      "text/html": [
       "<div>\n",
       "<style scoped>\n",
       "    .dataframe tbody tr th:only-of-type {\n",
       "        vertical-align: middle;\n",
       "    }\n",
       "\n",
       "    .dataframe tbody tr th {\n",
       "        vertical-align: top;\n",
       "    }\n",
       "\n",
       "    .dataframe thead th {\n",
       "        text-align: right;\n",
       "    }\n",
       "</style>\n",
       "<table border=\"1\" class=\"dataframe\">\n",
       "  <thead>\n",
       "    <tr style=\"text-align: right;\">\n",
       "      <th></th>\n",
       "      <th>a0330517-9705-4d0a-bcaf-71f203cd6187</th>\n",
       "    </tr>\n",
       "    <tr>\n",
       "      <th>time</th>\n",
       "      <th></th>\n",
       "    </tr>\n",
       "  </thead>\n",
       "  <tbody>\n",
       "    <tr>\n",
       "      <th>2016-01-01 00:00:00</th>\n",
       "      <td>0.172376</td>\n",
       "    </tr>\n",
       "    <tr>\n",
       "      <th>2016-01-01 01:00:00</th>\n",
       "      <td>0.161575</td>\n",
       "    </tr>\n",
       "    <tr>\n",
       "      <th>2016-01-01 02:00:00</th>\n",
       "      <td>0.153038</td>\n",
       "    </tr>\n",
       "    <tr>\n",
       "      <th>2016-01-01 03:00:00</th>\n",
       "      <td>0.162732</td>\n",
       "    </tr>\n",
       "    <tr>\n",
       "      <th>2016-01-01 04:00:00</th>\n",
       "      <td>0.166878</td>\n",
       "    </tr>\n",
       "    <tr>\n",
       "      <th>...</th>\n",
       "      <td>...</td>\n",
       "    </tr>\n",
       "    <tr>\n",
       "      <th>2016-01-07 20:00:00</th>\n",
       "      <td>0.180501</td>\n",
       "    </tr>\n",
       "    <tr>\n",
       "      <th>2016-01-07 21:00:00</th>\n",
       "      <td>0.182086</td>\n",
       "    </tr>\n",
       "    <tr>\n",
       "      <th>2016-01-07 22:00:00</th>\n",
       "      <td>0.165844</td>\n",
       "    </tr>\n",
       "    <tr>\n",
       "      <th>2016-01-07 23:00:00</th>\n",
       "      <td>0.173837</td>\n",
       "    </tr>\n",
       "    <tr>\n",
       "      <th>2016-01-08 00:00:00</th>\n",
       "      <td>0.169217</td>\n",
       "    </tr>\n",
       "  </tbody>\n",
       "</table>\n",
       "<p>169 rows × 1 columns</p>\n",
       "</div>"
      ],
      "text/plain": [
       "                     a0330517-9705-4d0a-bcaf-71f203cd6187\n",
       "time                                                     \n",
       "2016-01-01 00:00:00                              0.172376\n",
       "2016-01-01 01:00:00                              0.161575\n",
       "2016-01-01 02:00:00                              0.153038\n",
       "2016-01-01 03:00:00                              0.162732\n",
       "2016-01-01 04:00:00                              0.166878\n",
       "...                                                   ...\n",
       "2016-01-07 20:00:00                              0.180501\n",
       "2016-01-07 21:00:00                              0.182086\n",
       "2016-01-07 22:00:00                              0.165844\n",
       "2016-01-07 23:00:00                              0.173837\n",
       "2016-01-08 00:00:00                              0.169217\n",
       "\n",
       "[169 rows x 1 columns]"
      ]
     },
     "execution_count": 15,
     "metadata": {},
     "output_type": "execute_result"
    }
   ],
   "source": [
    "# If you care about the individual systems at each node, you can filter down the\n",
    "# result container to the systems connected to a specified node\n",
    "\n",
    "nodal_gwr = gwr.nodal_result(target_uuid)\n",
    "nodal_gwr.loads.p"
   ]
  },
  {
   "cell_type": "code",
   "execution_count": 16,
   "metadata": {},
   "outputs": [
    {
     "data": {
      "text/plain": [
       "'090d13e8-3cce-4793-816f-4c50f23f3f7f'"
      ]
     },
     "execution_count": 16,
     "metadata": {},
     "output_type": "execute_result"
    }
   ],
   "source": [
    "target_uuid"
   ]
  },
  {
   "cell_type": "code",
   "execution_count": 17,
   "metadata": {},
   "outputs": [
    {
     "data": {
      "text/html": [
       "<div>\n",
       "<style scoped>\n",
       "    .dataframe tbody tr th:only-of-type {\n",
       "        vertical-align: middle;\n",
       "    }\n",
       "\n",
       "    .dataframe tbody tr th {\n",
       "        vertical-align: top;\n",
       "    }\n",
       "\n",
       "    .dataframe thead th {\n",
       "        text-align: right;\n",
       "    }\n",
       "</style>\n",
       "<table border=\"1\" class=\"dataframe\">\n",
       "  <thead>\n",
       "    <tr style=\"text-align: right;\">\n",
       "      <th></th>\n",
       "      <th>cos_phi_rated</th>\n",
       "      <th>dsm</th>\n",
       "      <th>e_cons_annual</th>\n",
       "      <th>id</th>\n",
       "      <th>load_profile</th>\n",
       "      <th>node</th>\n",
       "      <th>operates_from</th>\n",
       "      <th>operates_until</th>\n",
       "      <th>operator</th>\n",
       "      <th>q_characteristics</th>\n",
       "      <th>s_rated</th>\n",
       "    </tr>\n",
       "    <tr>\n",
       "      <th>uuid</th>\n",
       "      <th></th>\n",
       "      <th></th>\n",
       "      <th></th>\n",
       "      <th></th>\n",
       "      <th></th>\n",
       "      <th></th>\n",
       "      <th></th>\n",
       "      <th></th>\n",
       "      <th></th>\n",
       "      <th></th>\n",
       "      <th></th>\n",
       "    </tr>\n",
       "  </thead>\n",
       "  <tbody>\n",
       "    <tr>\n",
       "      <th>a0330517-9705-4d0a-bcaf-71f203cd6187</th>\n",
       "      <td>0.93</td>\n",
       "      <td>False</td>\n",
       "      <td>0.0</td>\n",
       "      <td>MV3.101 Load 61</td>\n",
       "      <td>No load profile assigned</td>\n",
       "      <td>090d13e8-3cce-4793-816f-4c50f23f3f7f</td>\n",
       "      <td>NaN</td>\n",
       "      <td>NaN</td>\n",
       "      <td>NaN</td>\n",
       "      <td>cosPhiFixed:{(0.0,0.93)}</td>\n",
       "      <td>668.0</td>\n",
       "    </tr>\n",
       "  </tbody>\n",
       "</table>\n",
       "</div>"
      ],
      "text/plain": [
       "                                      cos_phi_rated    dsm  e_cons_annual  \\\n",
       "uuid                                                                        \n",
       "a0330517-9705-4d0a-bcaf-71f203cd6187           0.93  False            0.0   \n",
       "\n",
       "                                                   id  \\\n",
       "uuid                                                    \n",
       "a0330517-9705-4d0a-bcaf-71f203cd6187  MV3.101 Load 61   \n",
       "\n",
       "                                                  load_profile  \\\n",
       "uuid                                                             \n",
       "a0330517-9705-4d0a-bcaf-71f203cd6187  No load profile assigned   \n",
       "\n",
       "                                                                      node  \\\n",
       "uuid                                                                         \n",
       "a0330517-9705-4d0a-bcaf-71f203cd6187  090d13e8-3cce-4793-816f-4c50f23f3f7f   \n",
       "\n",
       "                                      operates_from  operates_until  operator  \\\n",
       "uuid                                                                            \n",
       "a0330517-9705-4d0a-bcaf-71f203cd6187            NaN             NaN       NaN   \n",
       "\n",
       "                                             q_characteristics  s_rated  \n",
       "uuid                                                                     \n",
       "a0330517-9705-4d0a-bcaf-71f203cd6187  cosPhiFixed:{(0.0,0.93)}    668.0  "
      ]
     },
     "execution_count": 17,
     "metadata": {},
     "output_type": "execute_result"
    }
   ],
   "source": [
    "# Let's say you want to make sure that all the load is actually connected to the\n",
    "# node that we have viltered for\n",
    "load_uuids = nodal_gwr.loads.uuids()\n",
    "\n",
    "# You can get a subset of the input data model via a list of uuids\n",
    "# Note that the `node` attribute confirms that indeed the load is connected\n",
    "# to the node we have filtered for\n",
    "gwr.loads.subset(load_uuids).data"
   ]
  },
  {
   "cell_type": "markdown",
   "metadata": {},
   "source": [
    "For more details please check the implemented methods of all the data models \n",
    "\n",
    "Check out the `docs/nbs/plots.ipynb` notebook for some examples of the included plotting utilities  "
   ]
  }
 ],
 "metadata": {
  "kernelspec": {
   "display_name": "pypsdm-sJkpnJQv-py3.11",
   "language": "python",
   "name": "python3"
  },
  "language_info": {
   "codemirror_mode": {
    "name": "ipython",
    "version": 3
   },
   "file_extension": ".py",
   "mimetype": "text/x-python",
   "name": "python",
   "nbconvert_exporter": "python",
   "pygments_lexer": "ipython3",
   "version": "3.11.5"
  }
 },
 "nbformat": 4,
 "nbformat_minor": 2
}
