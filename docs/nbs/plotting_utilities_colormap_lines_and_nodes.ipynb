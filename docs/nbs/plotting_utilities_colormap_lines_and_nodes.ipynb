{
 "cells": [
  {
   "metadata": {
    "ExecuteTime": {
     "end_time": "2025-07-31T15:29:34.456801Z",
     "start_time": "2025-07-31T15:29:34.431157Z"
    }
   },
   "cell_type": "code",
   "source": [
    "# Some jupyter notebook magic to reload modules automatically when they change\n",
    "# not necessary for this specific notebook but useful in general\n",
    "%load_ext autoreload\n",
    "%autoreload 2\n",
    "\n",
    "# Gives you high resolution images within the notebook\n",
    "%config InlineBackend.figure_format = 'retina'"
   ],
   "id": "9c17653699983eab",
   "outputs": [],
   "execution_count": 1
  },
  {
   "metadata": {},
   "cell_type": "markdown",
   "source": "# Combined Node and Line traces on colored maps",
   "id": "bceb59d8a805f58a"
  },
  {
   "metadata": {},
   "cell_type": "markdown",
   "source": "## Load Data",
   "id": "e2ca6706f58e03e1"
  },
  {
   "metadata": {
    "ExecuteTime": {
     "end_time": "2025-07-31T15:29:38.865431Z",
     "start_time": "2025-07-31T15:29:34.475570Z"
    }
   },
   "cell_type": "code",
   "source": [
    "from definitions import ROOT_DIR\n",
    "import os\n",
    "\n",
    "# The PSDM specific input models can be imported from the pypsdm.models.input and\n",
    "# pypsdm.models.result. The `GridWithResults` container is located in pypsdm.models.gwr\n",
    "from pypsdm.models.gwr import GridWithResults\n",
    "\n",
    "grid_path = os.path.join(ROOT_DIR, \"tests\", \"resources\", \"simbench\", \"input\")\n",
    "result_path = os.path.join(ROOT_DIR, \"tests\", \"resources\", \"simbench\", \"results\")\n",
    "\n",
    "# IO data models in general have a from_csv method to parse psdm files\n",
    "gwr = GridWithResults.from_csv(grid_path, result_path)"
   ],
   "id": "1b119ec0a08c3ec4",
   "outputs": [
    {
     "name": "stderr",
     "output_type": "stream",
     "text": [
      "\u001B[32m2025-07-31 17:29:36.440\u001B[0m | \u001B[1mINFO    \u001B[0m | \u001B[36mpypsdm.models.gwr\u001B[0m:\u001B[36mfrom_csv\u001B[0m:\u001B[36m289\u001B[0m - \u001B[1mReading grid from /home/smdafeis/github/pypsdm/tests/resources/simbench/input\u001B[0m\n",
      "\u001B[32m2025-07-31 17:29:36.789\u001B[0m | \u001B[34m\u001B[1mDEBUG   \u001B[0m | \u001B[36mpypsdm.models.primary_data\u001B[0m:\u001B[36mfrom_csv\u001B[0m:\u001B[36m273\u001B[0m - \u001B[34m\u001B[1mNo primary data in path /home/smdafeis/github/pypsdm/tests/resources/simbench/input\u001B[0m\n",
      "\u001B[32m2025-07-31 17:29:36.790\u001B[0m | \u001B[1mINFO    \u001B[0m | \u001B[36mpypsdm.models.gwr\u001B[0m:\u001B[36mfrom_csv\u001B[0m:\u001B[36m301\u001B[0m - \u001B[1mReading results from /home/smdafeis/github/pypsdm/tests/resources/simbench/results\u001B[0m\n"
     ]
    }
   ],
   "execution_count": 2
  },
  {
   "metadata": {
    "ExecuteTime": {
     "end_time": "2025-07-31T15:29:41.814477Z",
     "start_time": "2025-07-31T15:29:41.793476Z"
    }
   },
   "cell_type": "code",
   "source": "## Get Node and Line Results",
   "id": "63688e555b084869",
   "outputs": [],
   "execution_count": 3
  },
  {
   "metadata": {
    "ExecuteTime": {
     "end_time": "2025-07-31T15:29:41.858391Z",
     "start_time": "2025-07-31T15:29:41.841459Z"
    }
   },
   "cell_type": "code",
   "source": "nodes_results = gwr.nodes_res",
   "id": "7eab8cd9848133fa",
   "outputs": [],
   "execution_count": 4
  },
  {
   "metadata": {
    "ExecuteTime": {
     "end_time": "2025-07-31T15:29:42.088397Z",
     "start_time": "2025-07-31T15:29:41.888820Z"
    }
   },
   "cell_type": "code",
   "source": [
    "import pandas as pd\n",
    "\n",
    "#Nodes\n",
    "#We want to plot the nodes voltage magnitude for a specific timestamp, thus we need to filter the data\n",
    "specific_time = pd.to_datetime(\"2016-01-02 12:00:00\")\n",
    "\n",
    "filtered_node_data_dict = {\n",
    "    str(uuid.uuid): node_result.data.at[specific_time, \"v_mag\"]\n",
    "    for uuid, node_result in nodes_results.items()\n",
    "    if specific_time in node_result.data.index\n",
    "}\n",
    "\n",
    "#Lines\n",
    "line_input_data = gwr.lines\n",
    "line_utilization = gwr.lines_res.utilisation(line_input_data, side=\"a\")\n",
    "filtered_line_data_dict = line_utilization.loc[[specific_time]].to_dict()"
   ],
   "id": "1ae8d22d37014e73",
   "outputs": [],
   "execution_count": 5
  },
  {
   "metadata": {},
   "cell_type": "markdown",
   "source": "## Plot",
   "id": "9495b13860b286cd"
  },
  {
   "metadata": {
    "ExecuteTime": {
     "end_time": "2025-07-31T15:29:42.478234Z",
     "start_time": "2025-07-31T15:29:42.096233Z"
    }
   },
   "cell_type": "code",
   "source": [
    "from pypsdm.plots.grid import grid_plot\n",
    "grid_plot(gwr.grid,cmap_lines='Jet',cmap_line_values=filtered_line_data_dict,cmap_nodes=\"Rainbow\",cmap_node_values=filtered_node_data_dict)"
   ],
   "id": "fbf0a7441aa9fae1",
   "outputs": [
    {
     "data": {
      "application/vnd.plotly.v1+json": {
       "data": [
        {
         "hoverinfo": "skip",
         "lat": [
          53.6417,
          53.6389
         ],
         "line": {
          "color": "#ffff00",
          "width": 2
         },
         "lon": [
          11.368,
          11.3669
         ],
         "mode": "lines",
         "showlegend": false,
         "type": "scattermapbox"
        },
        {
         "hoverinfo": "text",
         "hovertext": "MV3.101 Line 97<br>Value: 0.637",
         "lat": [
          53.640299999999996
         ],
         "lon": [
          11.36745
         ],
         "marker": {
          "color": "#1ac938",
          "opacity": 0,
          "size": 0
         },
         "mode": "markers",
         "showlegend": false,
         "type": "scattermapbox"
        },
        {
         "hoverinfo": "skip",
         "lat": [
          53.6439,
          53.6443
         ],
         "line": {
          "color": "#003caa",
          "width": 2
         },
         "lon": [
          11.3558,
          11.3544
         ],
         "mode": "lines",
         "showlegend": false,
         "type": "scattermapbox"
        },
        {
         "hoverinfo": "text",
         "hovertext": "MV3.101 Line 91<br>Value: 0.226",
         "lat": [
          53.6441
         ],
         "lon": [
          11.3551
         ],
         "marker": {
          "color": "#1ac938",
          "opacity": 0,
          "size": 0
         },
         "mode": "markers",
         "showlegend": false,
         "type": "scattermapbox"
        },
        {
         "hoverinfo": "skip",
         "lat": [
          53.6438,
          53.6431
         ],
         "line": {
          "color": "#05ffff",
          "width": 2
         },
         "lon": [
          11.3767,
          11.3783
         ],
         "mode": "lines",
         "showlegend": false,
         "type": "scattermapbox"
        },
        {
         "hoverinfo": "text",
         "hovertext": "MV3.101 Line 110<br>Value: 0.426",
         "lat": [
          53.64345
         ],
         "lon": [
          11.3775
         ],
         "marker": {
          "color": "#1ac938",
          "opacity": 0,
          "size": 0
         },
         "mode": "markers",
         "showlegend": false,
         "type": "scattermapbox"
        },
        {
         "hoverinfo": "skip",
         "lat": [
          53.6456,
          53.6454
         ],
         "line": {
          "color": "#ffff00",
          "width": 2
         },
         "lon": [
          11.3692,
          11.3706
         ],
         "mode": "lines",
         "showlegend": false,
         "type": "scattermapbox"
        },
        {
         "hoverinfo": "text",
         "hovertext": "MV3.101 Line 12<br>Value: 0.658",
         "lat": [
          53.6455
         ],
         "lon": [
          11.3699
         ],
         "marker": {
          "color": "#1ac938",
          "opacity": 0,
          "size": 0
         },
         "mode": "markers",
         "showlegend": false,
         "type": "scattermapbox"
        },
        {
         "hoverinfo": "skip",
         "lat": [
          53.637,
          53.6363
         ],
         "line": {
          "color": "#ffff00",
          "width": 2
         },
         "lon": [
          11.3664,
          11.3661
         ],
         "mode": "lines",
         "showlegend": false,
         "type": "scattermapbox"
        },
        {
         "hoverinfo": "text",
         "hovertext": "MV3.101 Line 99<br>Value: 0.704",
         "lat": [
          53.63665
         ],
         "lon": [
          11.36625
         ],
         "marker": {
          "color": "#1ac938",
          "opacity": 0,
          "size": 0
         },
         "mode": "markers",
         "showlegend": false,
         "type": "scattermapbox"
        },
        {
         "hoverinfo": "skip",
         "lat": [
          53.6261,
          53.624
         ],
         "line": {
          "color": "#000083",
          "width": 2
         },
         "lon": [
          11.3638,
          11.366
         ],
         "mode": "lines",
         "showlegend": false,
         "type": "scattermapbox"
        },
        {
         "hoverinfo": "text",
         "hovertext": "MV3.101 Line 81<br>Value: 0.135",
         "lat": [
          53.62505
         ],
         "lon": [
          11.364899999999999
         ],
         "marker": {
          "color": "#1ac938",
          "opacity": 0,
          "size": 0
         },
         "mode": "markers",
         "showlegend": false,
         "type": "scattermapbox"
        },
        {
         "hoverinfo": "skip",
         "lat": [
          53.6443,
          53.6461
         ],
         "line": {
          "color": "#003caa",
          "width": 2
         },
         "lon": [
          11.3544,
          11.3521
         ],
         "mode": "lines",
         "showlegend": false,
         "type": "scattermapbox"
        },
        {
         "hoverinfo": "text",
         "hovertext": "MV3.101 Line 92<br>Value: 0.219",
         "lat": [
          53.6452
         ],
         "lon": [
          11.35325
         ],
         "marker": {
          "color": "#1ac938",
          "opacity": 0,
          "size": 0
         },
         "mode": "markers",
         "showlegend": false,
         "type": "scattermapbox"
        },
        {
         "hoverinfo": "skip",
         "lat": [
          53.6415,
          53.6422
         ],
         "line": {
          "color": "#000083",
          "width": 2
         },
         "lon": [
          11.3776,
          11.3784
         ],
         "mode": "lines",
         "showlegend": false,
         "type": "scattermapbox"
        },
        {
         "hoverinfo": "text",
         "hovertext": "MV3.101 Line 8<br>Value: 0.065",
         "lat": [
          53.641850000000005
         ],
         "lon": [
          11.378
         ],
         "marker": {
          "color": "#1ac938",
          "opacity": 0,
          "size": 0
         },
         "mode": "markers",
         "showlegend": false,
         "type": "scattermapbox"
        },
        {
         "hoverinfo": "skip",
         "lat": [
          53.641,
          53.6415
         ],
         "line": {
          "color": "#000083",
          "width": 2
         },
         "lon": [
          11.3767,
          11.3776
         ],
         "mode": "lines",
         "showlegend": false,
         "type": "scattermapbox"
        },
        {
         "hoverinfo": "text",
         "hovertext": "MV3.101 Line 7<br>Value: 0.172",
         "lat": [
          53.64125
         ],
         "lon": [
          11.37715
         ],
         "marker": {
          "color": "#1ac938",
          "opacity": 0,
          "size": 0
         },
         "mode": "markers",
         "showlegend": false,
         "type": "scattermapbox"
        },
        {
         "hoverinfo": "skip",
         "lat": [
          53.6456,
          53.6485
         ],
         "line": {
          "color": "#05ffff",
          "width": 2
         },
         "lon": [
          11.3692,
          11.3698
         ],
         "mode": "lines",
         "showlegend": false,
         "type": "scattermapbox"
        },
        {
         "hoverinfo": "text",
         "hovertext": "MV3.101 Line 16<br>Value: 0.581",
         "lat": [
          53.64705
         ],
         "lon": [
          11.369499999999999
         ],
         "marker": {
          "color": "#1ac938",
          "opacity": 0,
          "size": 0
         },
         "mode": "markers",
         "showlegend": false,
         "type": "scattermapbox"
        },
        {
         "hoverinfo": "skip",
         "lat": [
          53.6572,
          53.6585
         ],
         "line": {
          "color": "#000083",
          "width": 2
         },
         "lon": [
          11.3686,
          11.3687
         ],
         "mode": "lines",
         "showlegend": false,
         "type": "scattermapbox"
        },
        {
         "hoverinfo": "text",
         "hovertext": "MV3.101 Line 38<br>Value: 0.111",
         "lat": [
          53.657849999999996
         ],
         "lon": [
          11.36865
         ],
         "marker": {
          "color": "#1ac938",
          "opacity": 0,
          "size": 0
         },
         "mode": "markers",
         "showlegend": false,
         "type": "scattermapbox"
        },
        {
         "hoverinfo": "skip",
         "lat": [
          53.6531,
          53.6545
         ],
         "line": {
          "color": "#05ffff",
          "width": 2
         },
         "lon": [
          11.3584,
          11.3581
         ],
         "mode": "lines",
         "showlegend": false,
         "type": "scattermapbox"
        },
        {
         "hoverinfo": "text",
         "hovertext": "MV3.101 Line 59<br>Value: 0.511",
         "lat": [
          53.653800000000004
         ],
         "lon": [
          11.35825
         ],
         "marker": {
          "color": "#1ac938",
          "opacity": 0,
          "size": 0
         },
         "mode": "markers",
         "showlegend": false,
         "type": "scattermapbox"
        },
        {
         "hoverinfo": "skip",
         "lat": [
          53.6489,
          53.6511
         ],
         "line": {
          "color": "#05ffff",
          "width": 2
         },
         "lon": [
          11.3683,
          11.3682
         ],
         "mode": "lines",
         "showlegend": false,
         "type": "scattermapbox"
        },
        {
         "hoverinfo": "text",
         "hovertext": "MV3.101 Line 34<br>Value: 0.404",
         "lat": [
          53.65
         ],
         "lon": [
          11.36825
         ],
         "marker": {
          "color": "#1ac938",
          "opacity": 0,
          "size": 0
         },
         "mode": "markers",
         "showlegend": false,
         "type": "scattermapbox"
        },
        {
         "hoverinfo": "skip",
         "lat": [
          53.6498,
          53.6504
         ],
         "line": {
          "color": "#ffff00",
          "width": 2
         },
         "lon": [
          11.3578,
          11.357
         ],
         "mode": "lines",
         "showlegend": false,
         "type": "scattermapbox"
        },
        {
         "hoverinfo": "text",
         "hovertext": "MV3.101 Line 55<br>Value: 0.782",
         "lat": [
          53.650099999999995
         ],
         "lon": [
          11.357399999999998
         ],
         "marker": {
          "color": "#1ac938",
          "opacity": 0,
          "size": 0
         },
         "mode": "markers",
         "showlegend": false,
         "type": "scattermapbox"
        },
        {
         "hoverinfo": "skip",
         "lat": [
          53.624,
          53.6236
         ],
         "line": {
          "color": "#000083",
          "width": 2
         },
         "lon": [
          11.366,
          11.3683
         ],
         "mode": "lines",
         "showlegend": false,
         "type": "scattermapbox"
        },
        {
         "hoverinfo": "text",
         "hovertext": "MV3.101 Line 82<br>Value: 0.108",
         "lat": [
          53.6238
         ],
         "lon": [
          11.367149999999999
         ],
         "marker": {
          "color": "#1ac938",
          "opacity": 0,
          "size": 0
         },
         "mode": "markers",
         "showlegend": false,
         "type": "scattermapbox"
        },
        {
         "hoverinfo": "skip",
         "lat": [
          53.6543,
          53.6545
         ],
         "line": {
          "color": "#003caa",
          "width": 2
         },
         "lon": [
          11.3751,
          11.3756
         ],
         "mode": "lines",
         "showlegend": false,
         "type": "scattermapbox"
        },
        {
         "hoverinfo": "text",
         "hovertext": "MV3.101 Line 21<br>Value: 0.297",
         "lat": [
          53.654399999999995
         ],
         "lon": [
          11.375350000000001
         ],
         "marker": {
          "color": "#1ac938",
          "opacity": 0,
          "size": 0
         },
         "mode": "markers",
         "showlegend": false,
         "type": "scattermapbox"
        },
        {
         "hoverinfo": "skip",
         "lat": [
          53.6454,
          53.6456
         ],
         "line": {
          "color": "#05ffff",
          "width": 2
         },
         "lon": [
          11.3732,
          11.3738
         ],
         "mode": "lines",
         "showlegend": false,
         "type": "scattermapbox"
        },
        {
         "hoverinfo": "text",
         "hovertext": "MV3.101 Line 15<br>Value: 0.540",
         "lat": [
          53.6455
         ],
         "lon": [
          11.3735
         ],
         "marker": {
          "color": "#1ac938",
          "opacity": 0,
          "size": 0
         },
         "mode": "markers",
         "showlegend": false,
         "type": "scattermapbox"
        },
        {
         "hoverinfo": "skip",
         "lat": [
          53.6603,
          53.662
         ],
         "line": {
          "color": "#000083",
          "width": 2
         },
         "lon": [
          11.3636,
          11.3646
         ],
         "mode": "lines",
         "showlegend": false,
         "type": "scattermapbox"
        },
        {
         "hoverinfo": "text",
         "hovertext": "MV3.101 Line 48<br>Value: 0.080",
         "lat": [
          53.66115
         ],
         "lon": [
          11.3641
         ],
         "marker": {
          "color": "#1ac938",
          "opacity": 0,
          "size": 0
         },
         "mode": "markers",
         "showlegend": false,
         "type": "scattermapbox"
        },
        {
         "hoverinfo": "skip",
         "lat": [
          53.6454,
          53.6453
         ],
         "line": {
          "color": "#ffff00",
          "width": 2
         },
         "lon": [
          11.3706,
          11.372
         ],
         "mode": "lines",
         "showlegend": false,
         "type": "scattermapbox"
        },
        {
         "hoverinfo": "text",
         "hovertext": "MV3.101 Line 13<br>Value: 0.600",
         "lat": [
          53.64535
         ],
         "lon": [
          11.3713
         ],
         "marker": {
          "color": "#1ac938",
          "opacity": 0,
          "size": 0
         },
         "mode": "markers",
         "showlegend": false,
         "type": "scattermapbox"
        },
        {
         "hoverinfo": "skip",
         "lat": [
          53.6425,
          53.6421
         ],
         "line": {
          "color": "#05ffff",
          "width": 2
         },
         "lon": [
          11.3707,
          11.3708
         ],
         "mode": "lines",
         "showlegend": false,
         "type": "scattermapbox"
        },
        {
         "hoverinfo": "text",
         "hovertext": "MV3.101 Line 3<br>Value: 0.499",
         "lat": [
          53.6423
         ],
         "lon": [
          11.37075
         ],
         "marker": {
          "color": "#1ac938",
          "opacity": 0,
          "size": 0
         },
         "mode": "markers",
         "showlegend": false,
         "type": "scattermapbox"
        },
        {
         "hoverinfo": "skip",
         "lat": [
          53.6511,
          53.6531
         ],
         "line": {
          "color": "#003caa",
          "width": 2
         },
         "lon": [
          11.3682,
          11.3682
         ],
         "mode": "lines",
         "showlegend": false,
         "type": "scattermapbox"
        },
        {
         "hoverinfo": "text",
         "hovertext": "MV3.101 Line 35<br>Value: 0.311",
         "lat": [
          53.652100000000004
         ],
         "lon": [
          11.3682
         ],
         "marker": {
          "color": "#1ac938",
          "opacity": 0,
          "size": 0
         },
         "mode": "markers",
         "showlegend": false,
         "type": "scattermapbox"
        },
        {
         "hoverinfo": "skip",
         "lat": [
          53.6544,
          53.6534
         ],
         "line": {
          "color": "#000083",
          "width": 2
         },
         "lon": [
          11.3777,
          11.3794
         ],
         "mode": "lines",
         "showlegend": false,
         "type": "scattermapbox"
        },
        {
         "hoverinfo": "text",
         "hovertext": "MV3.101 Line 23<br>Value: 0.130",
         "lat": [
          53.6539
         ],
         "lon": [
          11.37855
         ],
         "marker": {
          "color": "#1ac938",
          "opacity": 0,
          "size": 0
         },
         "mode": "markers",
         "showlegend": false,
         "type": "scattermapbox"
        },
        {
         "hoverinfo": "skip",
         "lat": [
          53.6545,
          53.6568
         ],
         "line": {
          "color": "#05ffff",
          "width": 2
         },
         "lon": [
          11.3581,
          11.3561
         ],
         "mode": "lines",
         "showlegend": false,
         "type": "scattermapbox"
        },
        {
         "hoverinfo": "text",
         "hovertext": "MV3.101 Line 60<br>Value: 0.423",
         "lat": [
          53.655649999999994
         ],
         "lon": [
          11.357099999999999
         ],
         "marker": {
          "color": "#1ac938",
          "opacity": 0,
          "size": 0
         },
         "mode": "markers",
         "showlegend": false,
         "type": "scattermapbox"
        },
        {
         "hoverinfo": "skip",
         "lat": [
          53.6454,
          53.6455
         ],
         "line": {
          "color": "#000083",
          "width": 2
         },
         "lon": [
          11.3776,
          11.3798
         ],
         "mode": "lines",
         "showlegend": false,
         "type": "scattermapbox"
        },
        {
         "hoverinfo": "text",
         "hovertext": "MV3.101 Line 118<br>Value: 0.104",
         "lat": [
          53.64545
         ],
         "lon": [
          11.378699999999998
         ],
         "marker": {
          "color": "#1ac938",
          "opacity": 0,
          "size": 0
         },
         "mode": "markers",
         "showlegend": false,
         "type": "scattermapbox"
        },
        {
         "hoverinfo": "skip",
         "lat": [
          53.6456,
          53.6459
         ],
         "line": {
          "color": "#05ffff",
          "width": 2
         },
         "lon": [
          11.3692,
          11.3687
         ],
         "mode": "lines",
         "showlegend": false,
         "type": "scattermapbox"
        },
        {
         "hoverinfo": "text",
         "hovertext": "MV3.101 Line 41<br>Value: 0.407",
         "lat": [
          53.64575
         ],
         "lon": [
          11.36895
         ],
         "marker": {
          "color": "#1ac938",
          "opacity": 0,
          "size": 0
         },
         "mode": "markers",
         "showlegend": false,
         "type": "scattermapbox"
        },
        {
         "hoverinfo": "skip",
         "lat": [
          53.6505,
          53.6525
         ],
         "line": {
          "color": "#05ffff",
          "width": 2
         },
         "lon": [
          11.3708,
          11.3724
         ],
         "mode": "lines",
         "showlegend": false,
         "type": "scattermapbox"
        },
        {
         "hoverinfo": "text",
         "hovertext": "MV3.101 Line 18<br>Value: 0.435",
         "lat": [
          53.6515
         ],
         "lon": [
          11.3716
         ],
         "marker": {
          "color": "#1ac938",
          "opacity": 0,
          "size": 0
         },
         "mode": "markers",
         "showlegend": false,
         "type": "scattermapbox"
        },
        {
         "hoverinfo": "skip",
         "lat": [
          53.6464,
          53.6456
         ],
         "line": {
          "color": "#003caa",
          "width": 2
         },
         "lon": [
          11.3745,
          11.3752
         ],
         "mode": "lines",
         "showlegend": false,
         "type": "scattermapbox"
        },
        {
         "hoverinfo": "text",
         "hovertext": "MV3.101 Line 115<br>Value: 0.301",
         "lat": [
          53.646
         ],
         "lon": [
          11.374849999999999
         ],
         "marker": {
          "color": "#1ac938",
          "opacity": 0,
          "size": 0
         },
         "mode": "markers",
         "showlegend": false,
         "type": "scattermapbox"
        },
        {
         "hoverinfo": "skip",
         "lat": [
          53.6467,
          53.6479
         ],
         "line": {
          "color": "#003caa",
          "width": 2
         },
         "lon": [
          11.3755,
          11.3773
         ],
         "mode": "lines",
         "showlegend": false,
         "type": "scattermapbox"
        },
        {
         "hoverinfo": "text",
         "hovertext": "MV3.101 Line 121<br>Value: 0.326",
         "lat": [
          53.6473
         ],
         "lon": [
          11.3764
         ],
         "marker": {
          "color": "#1ac938",
          "opacity": 0,
          "size": 0
         },
         "mode": "markers",
         "showlegend": false,
         "type": "scattermapbox"
        },
        {
         "hoverinfo": "skip",
         "lat": [
          53.6443,
          53.6441
         ],
         "line": {
          "color": "#003caa",
          "width": 2
         },
         "lon": [
          11.3619,
          11.3609
         ],
         "mode": "lines",
         "showlegend": false,
         "type": "scattermapbox"
        },
        {
         "hoverinfo": "text",
         "hovertext": "MV3.101 Line 88<br>Value: 0.364",
         "lat": [
          53.6442
         ],
         "lon": [
          11.3614
         ],
         "marker": {
          "color": "#1ac938",
          "opacity": 0,
          "size": 0
         },
         "mode": "markers",
         "showlegend": false,
         "type": "scattermapbox"
        },
        {
         "hoverinfo": "skip",
         "lat": [
          53.648,
          53.6492
         ],
         "line": {
          "color": "#003caa",
          "width": 2
         },
         "lon": [
          11.3667,
          11.3656
         ],
         "mode": "lines",
         "showlegend": false,
         "type": "scattermapbox"
        },
        {
         "hoverinfo": "text",
         "hovertext": "MV3.101 Line 43<br>Value: 0.292",
         "lat": [
          53.6486
         ],
         "lon": [
          11.366150000000001
         ],
         "marker": {
          "color": "#1ac938",
          "opacity": 0,
          "size": 0
         },
         "mode": "markers",
         "showlegend": false,
         "type": "scattermapbox"
        },
        {
         "hoverinfo": "skip",
         "lat": [
          53.633,
          53.6315
         ],
         "line": {
          "color": "#05ffff",
          "width": 2
         },
         "lon": [
          11.3668,
          11.3692
         ],
         "mode": "lines",
         "showlegend": false,
         "type": "scattermapbox"
        },
        {
         "hoverinfo": "text",
         "hovertext": "MV3.101 Line 102<br>Value: 0.503",
         "lat": [
          53.63225
         ],
         "lon": [
          11.367999999999999
         ],
         "marker": {
          "color": "#1ac938",
          "opacity": 0,
          "size": 0
         },
         "mode": "markers",
         "showlegend": false,
         "type": "scattermapbox"
        },
        {
         "hoverinfo": "skip",
         "lat": [
          53.6492,
          53.6514
         ],
         "line": {
          "color": "#003caa",
          "width": 2
         },
         "lon": [
          11.3656,
          11.3638
         ],
         "mode": "lines",
         "showlegend": false,
         "type": "scattermapbox"
        },
        {
         "hoverinfo": "text",
         "hovertext": "MV3.101 Line 44<br>Value: 0.270",
         "lat": [
          53.6503
         ],
         "lon": [
          11.3647
         ],
         "marker": {
          "color": "#1ac938",
          "opacity": 0,
          "size": 0
         },
         "mode": "markers",
         "showlegend": false,
         "type": "scattermapbox"
        },
        {
         "hoverinfo": "skip",
         "lat": [
          53.6502,
          53.6501
         ],
         "line": {
          "color": "#003caa",
          "width": 2
         },
         "lon": [
          11.3805,
          11.3811
         ],
         "mode": "lines",
         "showlegend": false,
         "type": "scattermapbox"
        },
        {
         "hoverinfo": "text",
         "hovertext": "MV3.101 Line 132<br>Value: 0.211",
         "lat": [
          53.65015
         ],
         "lon": [
          11.3808
         ],
         "marker": {
          "color": "#1ac938",
          "opacity": 0,
          "size": 0
         },
         "mode": "markers",
         "showlegend": false,
         "type": "scattermapbox"
        },
        {
         "hoverinfo": "skip",
         "lat": [
          53.634,
          53.6332
         ],
         "line": {
          "color": "#003caa",
          "width": 2
         },
         "lon": [
          11.3636,
          11.3633
         ],
         "mode": "lines",
         "showlegend": false,
         "type": "scattermapbox"
        },
        {
         "hoverinfo": "text",
         "hovertext": "MV3.101 Line 76<br>Value: 0.346",
         "lat": [
          53.6336
         ],
         "lon": [
          11.36345
         ],
         "marker": {
          "color": "#1ac938",
          "opacity": 0,
          "size": 0
         },
         "mode": "markers",
         "showlegend": false,
         "type": "scattermapbox"
        },
        {
         "hoverinfo": "skip",
         "lat": [
          53.6492,
          53.6464
         ],
         "line": {
          "color": "#003caa",
          "width": 2
         },
         "lon": [
          11.372,
          11.3721
         ],
         "mode": "lines",
         "showlegend": false,
         "type": "scattermapbox"
        },
        {
         "hoverinfo": "text",
         "hovertext": "MV3.101 Line 30<br>Value: 0.336",
         "lat": [
          53.647800000000004
         ],
         "lon": [
          11.37205
         ],
         "marker": {
          "color": "#1ac938",
          "opacity": 0,
          "size": 0
         },
         "mode": "markers",
         "showlegend": false,
         "type": "scattermapbox"
        },
        {
         "hoverinfo": "skip",
         "lat": [
          53.6312,
          53.6303
         ],
         "line": {
          "color": "#003caa",
          "width": 2
         },
         "lon": [
          11.3627,
          11.3626
         ],
         "mode": "lines",
         "showlegend": false,
         "type": "scattermapbox"
        },
        {
         "hoverinfo": "text",
         "hovertext": "MV3.101 Line 78<br>Value: 0.265",
         "lat": [
          53.63075
         ],
         "lon": [
          11.36265
         ],
         "marker": {
          "color": "#1ac938",
          "opacity": 0,
          "size": 0
         },
         "mode": "markers",
         "showlegend": false,
         "type": "scattermapbox"
        },
        {
         "hoverinfo": "skip",
         "lat": [
          53.6469,
          53.6475
         ],
         "line": {
          "color": "#05ffff",
          "width": 2
         },
         "lon": [
          11.3746,
          11.3748
         ],
         "mode": "lines",
         "showlegend": false,
         "type": "scattermapbox"
        },
        {
         "hoverinfo": "text",
         "hovertext": "MV3.101 Line 127<br>Value: 0.585",
         "lat": [
          53.6472
         ],
         "lon": [
          11.3747
         ],
         "marker": {
          "color": "#1ac938",
          "opacity": 0,
          "size": 0
         },
         "mode": "markers",
         "showlegend": false,
         "type": "scattermapbox"
        },
        {
         "hoverinfo": "skip",
         "lat": [
          53.647,
          53.6477
         ],
         "line": {
          "color": "#003caa",
          "width": 2
         },
         "lon": [
          11.3701,
          11.3701
         ],
         "mode": "lines",
         "showlegend": false,
         "type": "scattermapbox"
        },
        {
         "hoverinfo": "text",
         "hovertext": "MV3.101 Line 28<br>Value: 0.373",
         "lat": [
          53.64735
         ],
         "lon": [
          11.3701
         ],
         "marker": {
          "color": "#1ac938",
          "opacity": 0,
          "size": 0
         },
         "mode": "markers",
         "showlegend": false,
         "type": "scattermapbox"
        },
        {
         "hoverinfo": "skip",
         "lat": [
          53.6514,
          53.6544
         ],
         "line": {
          "color": "#003caa",
          "width": 2
         },
         "lon": [
          11.3638,
          11.3637
         ],
         "mode": "lines",
         "showlegend": false,
         "type": "scattermapbox"
        },
        {
         "hoverinfo": "text",
         "hovertext": "MV3.101 Line 45<br>Value: 0.231",
         "lat": [
          53.6529
         ],
         "lon": [
          11.36375
         ],
         "marker": {
          "color": "#1ac938",
          "opacity": 0,
          "size": 0
         },
         "mode": "markers",
         "showlegend": false,
         "type": "scattermapbox"
        },
        {
         "hoverinfo": "skip",
         "lat": [
          53.6363,
          53.6346
         ],
         "line": {
          "color": "#ffff00",
          "width": 2
         },
         "lon": [
          11.3661,
          11.3656
         ],
         "mode": "lines",
         "showlegend": false,
         "type": "scattermapbox"
        },
        {
         "hoverinfo": "text",
         "hovertext": "MV3.101 Line 100<br>Value: 0.711",
         "lat": [
          53.63545
         ],
         "lon": [
          11.36585
         ],
         "marker": {
          "color": "#1ac938",
          "opacity": 0,
          "size": 0
         },
         "mode": "markers",
         "showlegend": false,
         "type": "scattermapbox"
        },
        {
         "hoverinfo": "skip",
         "lat": [
          53.6461,
          53.6477
         ],
         "line": {
          "color": "#000083",
          "width": 2
         },
         "lon": [
          11.3521,
          11.3511
         ],
         "mode": "lines",
         "showlegend": false,
         "type": "scattermapbox"
        },
        {
         "hoverinfo": "text",
         "hovertext": "MV3.101 Line 93<br>Value: 0.116",
         "lat": [
          53.6469
         ],
         "lon": [
          11.351600000000001
         ],
         "marker": {
          "color": "#1ac938",
          "opacity": 0,
          "size": 0
         },
         "mode": "markers",
         "showlegend": false,
         "type": "scattermapbox"
        },
        {
         "hoverinfo": "skip",
         "lat": [
          53.6436,
          53.6417
         ],
         "line": {
          "color": "#ffff00",
          "width": 2
         },
         "lon": [
          11.3686,
          11.368
         ],
         "mode": "lines",
         "showlegend": false,
         "type": "scattermapbox"
        },
        {
         "hoverinfo": "text",
         "hovertext": "MV3.101 Line 96<br>Value: 0.641",
         "lat": [
          53.64265
         ],
         "lon": [
          11.368300000000001
         ],
         "marker": {
          "color": "#1ac938",
          "opacity": 0,
          "size": 0
         },
         "mode": "markers",
         "showlegend": false,
         "type": "scattermapbox"
        },
        {
         "hoverinfo": "skip",
         "lat": [
          53.6451,
          53.6445
         ],
         "line": {
          "color": "#fa0000",
          "width": 2
         },
         "lon": [
          11.369,
          11.3683
         ],
         "mode": "lines",
         "showlegend": false,
         "type": "scattermapbox"
        },
        {
         "hoverinfo": "text",
         "hovertext": "MV3.101 Line 68<br>Value: 0.804",
         "lat": [
          53.644800000000004
         ],
         "lon": [
          11.368649999999999
         ],
         "marker": {
          "color": "#1ac938",
          "opacity": 0,
          "size": 0
         },
         "mode": "markers",
         "showlegend": false,
         "type": "scattermapbox"
        },
        {
         "hoverinfo": "skip",
         "lat": [
          53.6421,
          53.6411
         ],
         "line": {
          "color": "#05ffff",
          "width": 2
         },
         "lon": [
          11.3708,
          11.3715
         ],
         "mode": "lines",
         "showlegend": false,
         "type": "scattermapbox"
        },
        {
         "hoverinfo": "text",
         "hovertext": "MV3.101 Line 4<br>Value: 0.429",
         "lat": [
          53.6416
         ],
         "lon": [
          11.37115
         ],
         "marker": {
          "color": "#1ac938",
          "opacity": 0,
          "size": 0
         },
         "mode": "markers",
         "showlegend": false,
         "type": "scattermapbox"
        },
        {
         "hoverinfo": "skip",
         "lat": [
          53.6462,
          53.6469
         ],
         "line": {
          "color": "#ffff00",
          "width": 2
         },
         "lon": [
          11.3691,
          11.3688
         ],
         "mode": "lines",
         "showlegend": false,
         "type": "scattermapbox"
        },
        {
         "hoverinfo": "text",
         "hovertext": "MV3.101 Line 32<br>Value: 0.607",
         "lat": [
          53.646550000000005
         ],
         "lon": [
          11.36895
         ],
         "marker": {
          "color": "#1ac938",
          "opacity": 0,
          "size": 0
         },
         "mode": "markers",
         "showlegend": false,
         "type": "scattermapbox"
        },
        {
         "hoverinfo": "skip",
         "lat": [
          53.6456,
          53.6464
         ],
         "line": {
          "color": "#05ffff",
          "width": 2
         },
         "lon": [
          11.3692,
          11.3745
         ],
         "mode": "lines",
         "showlegend": false,
         "type": "scattermapbox"
        },
        {
         "hoverinfo": "text",
         "hovertext": "MV3.101 Reserve line<br>Value: 0.563",
         "lat": [
          53.646
         ],
         "lon": [
          11.371849999999998
         ],
         "marker": {
          "color": "#1ac938",
          "opacity": 0,
          "size": 0
         },
         "mode": "markers",
         "showlegend": false,
         "type": "scattermapbox"
        },
        {
         "hoverinfo": "skip",
         "lat": [
          53.6328,
          53.6306
         ],
         "line": {
          "color": "#000083",
          "width": 2
         },
         "lon": [
          11.3733,
          11.3739
         ],
         "mode": "lines",
         "showlegend": false,
         "type": "scattermapbox"
        },
        {
         "hoverinfo": "text",
         "hovertext": "MV3.101 Line 106<br>Value: 0.155",
         "lat": [
          53.6317
         ],
         "lon": [
          11.3736
         ],
         "marker": {
          "color": "#1ac938",
          "opacity": 0,
          "size": 0
         },
         "mode": "markers",
         "showlegend": false,
         "type": "scattermapbox"
        },
        {
         "hoverinfo": "skip",
         "lat": [
          53.6485,
          53.6505
         ],
         "line": {
          "color": "#05ffff",
          "width": 2
         },
         "lon": [
          11.3698,
          11.3708
         ],
         "mode": "lines",
         "showlegend": false,
         "type": "scattermapbox"
        },
        {
         "hoverinfo": "text",
         "hovertext": "MV3.101 Line 17<br>Value: 0.520",
         "lat": [
          53.6495
         ],
         "lon": [
          11.3703
         ],
         "marker": {
          "color": "#1ac938",
          "opacity": 0,
          "size": 0
         },
         "mode": "markers",
         "showlegend": false,
         "type": "scattermapbox"
        },
        {
         "hoverinfo": "skip",
         "lat": [
          53.6504,
          53.6516
         ],
         "line": {
          "color": "#ffff00",
          "width": 2
         },
         "lon": [
          11.357,
          11.3561
         ],
         "mode": "lines",
         "showlegend": false,
         "type": "scattermapbox"
        },
        {
         "hoverinfo": "text",
         "hovertext": "MV3.101 Line 56<br>Value: 0.692",
         "lat": [
          53.650999999999996
         ],
         "lon": [
          11.356549999999999
         ],
         "marker": {
          "color": "#1ac938",
          "opacity": 0,
          "size": 0
         },
         "mode": "markers",
         "showlegend": false,
         "type": "scattermapbox"
        },
        {
         "hoverinfo": "skip",
         "lat": [
          53.6499,
          53.6501
         ],
         "line": {
          "color": "#003caa",
          "width": 2
         },
         "lon": [
          11.3773,
          11.3779
         ],
         "mode": "lines",
         "showlegend": false,
         "type": "scattermapbox"
        },
        {
         "hoverinfo": "text",
         "hovertext": "MV3.101 Line 130<br>Value: 0.361",
         "lat": [
          53.650000000000006
         ],
         "lon": [
          11.377600000000001
         ],
         "marker": {
          "color": "#1ac938",
          "opacity": 0,
          "size": 0
         },
         "mode": "markers",
         "showlegend": false,
         "type": "scattermapbox"
        },
        {
         "hoverinfo": "skip",
         "lat": [
          53.6469,
          53.6489
         ],
         "line": {
          "color": "#05ffff",
          "width": 2
         },
         "lon": [
          11.3688,
          11.3683
         ],
         "mode": "lines",
         "showlegend": false,
         "type": "scattermapbox"
        },
        {
         "hoverinfo": "text",
         "hovertext": "MV3.101 Line 33<br>Value: 0.515",
         "lat": [
          53.6479
         ],
         "lon": [
          11.368549999999999
         ],
         "marker": {
          "color": "#1ac938",
          "opacity": 0,
          "size": 0
         },
         "mode": "markers",
         "showlegend": false,
         "type": "scattermapbox"
        },
        {
         "hoverinfo": "skip",
         "lat": [
          53.6489,
          53.6498
         ],
         "line": {
          "color": "#fa0000",
          "width": 2
         },
         "lon": [
          11.3604,
          11.3578
         ],
         "mode": "lines",
         "showlegend": false,
         "type": "scattermapbox"
        },
        {
         "hoverinfo": "text",
         "hovertext": "MV3.101 Line 54<br>Value: 0.849",
         "lat": [
          53.64935
         ],
         "lon": [
          11.3591
         ],
         "marker": {
          "color": "#1ac938",
          "opacity": 0,
          "size": 0
         },
         "mode": "markers",
         "showlegend": false,
         "type": "scattermapbox"
        },
        {
         "hoverinfo": "skip",
         "lat": [
          53.6434,
          53.642
         ],
         "line": {
          "color": "#ffff00",
          "width": 2
         },
         "lon": [
          11.3674,
          11.3663
         ],
         "mode": "lines",
         "showlegend": false,
         "type": "scattermapbox"
        },
        {
         "hoverinfo": "text",
         "hovertext": "MV3.101 Line 70<br>Value: 0.646",
         "lat": [
          53.642700000000005
         ],
         "lon": [
          11.36685
         ],
         "marker": {
          "color": "#1ac938",
          "opacity": 0,
          "size": 0
         },
         "mode": "markers",
         "showlegend": false,
         "type": "scattermapbox"
        },
        {
         "hoverinfo": "skip",
         "lat": [
          53.6416,
          53.6406
         ],
         "line": {
          "color": "#05ffff",
          "width": 2
         },
         "lon": [
          11.366,
          11.3654
         ],
         "mode": "lines",
         "showlegend": false,
         "type": "scattermapbox"
        },
        {
         "hoverinfo": "text",
         "hovertext": "MV3.101 Line 72<br>Value: 0.588",
         "lat": [
          53.641099999999994
         ],
         "lon": [
          11.3657
         ],
         "marker": {
          "color": "#1ac938",
          "opacity": 0,
          "size": 0
         },
         "mode": "markers",
         "showlegend": false,
         "type": "scattermapbox"
        },
        {
         "hoverinfo": "skip",
         "lat": [
          53.6544,
          53.6579
         ],
         "line": {
          "color": "#000083",
          "width": 2
         },
         "lon": [
          11.3637,
          11.3634
         ],
         "mode": "lines",
         "showlegend": false,
         "type": "scattermapbox"
        },
        {
         "hoverinfo": "text",
         "hovertext": "MV3.101 Line 46<br>Value: 0.192",
         "lat": [
          53.65615
         ],
         "lon": [
          11.36355
         ],
         "marker": {
          "color": "#1ac938",
          "opacity": 0,
          "size": 0
         },
         "mode": "markers",
         "showlegend": false,
         "type": "scattermapbox"
        },
        {
         "hoverinfo": "skip",
         "lat": [
          53.6441,
          53.6425
         ],
         "line": {
          "color": "#05ffff",
          "width": 2
         },
         "lon": [
          11.3699,
          11.3707
         ],
         "mode": "lines",
         "showlegend": false,
         "type": "scattermapbox"
        },
        {
         "hoverinfo": "text",
         "hovertext": "MV3.101 Line 2<br>Value: 0.532",
         "lat": [
          53.643299999999996
         ],
         "lon": [
          11.3703
         ],
         "marker": {
          "color": "#1ac938",
          "opacity": 0,
          "size": 0
         },
         "mode": "markers",
         "showlegend": false,
         "type": "scattermapbox"
        },
        {
         "hoverinfo": "skip",
         "lat": [
          53.6306,
          53.6297
         ],
         "line": {
          "color": "#000083",
          "width": 2
         },
         "lon": [
          11.3739,
          11.3739
         ],
         "mode": "lines",
         "showlegend": false,
         "type": "scattermapbox"
        },
        {
         "hoverinfo": "text",
         "hovertext": "MV3.101 Line 107<br>Value: 0.063",
         "lat": [
          53.63015
         ],
         "lon": [
          11.3739
         ],
         "marker": {
          "color": "#1ac938",
          "opacity": 0,
          "size": 0
         },
         "mode": "markers",
         "showlegend": false,
         "type": "scattermapbox"
        },
        {
         "hoverinfo": "skip",
         "lat": [
          53.6332,
          53.6312
         ],
         "line": {
          "color": "#003caa",
          "width": 2
         },
         "lon": [
          11.3633,
          11.3627
         ],
         "mode": "lines",
         "showlegend": false,
         "type": "scattermapbox"
        },
        {
         "hoverinfo": "text",
         "hovertext": "MV3.101 Line 77<br>Value: 0.358",
         "lat": [
          53.6322
         ],
         "lon": [
          11.363
         ],
         "marker": {
          "color": "#1ac938",
          "opacity": 0,
          "size": 0
         },
         "mode": "markers",
         "showlegend": false,
         "type": "scattermapbox"
        },
        {
         "hoverinfo": "skip",
         "lat": [
          53.6431,
          53.6429
         ],
         "line": {
          "color": "#05ffff",
          "width": 2
         },
         "lon": [
          11.3783,
          11.3789
         ],
         "mode": "lines",
         "showlegend": false,
         "type": "scattermapbox"
        },
        {
         "hoverinfo": "text",
         "hovertext": "MV3.101 Line 111<br>Value: 0.447",
         "lat": [
          53.643
         ],
         "lon": [
          11.378599999999999
         ],
         "marker": {
          "color": "#1ac938",
          "opacity": 0,
          "size": 0
         },
         "mode": "markers",
         "showlegend": false,
         "type": "scattermapbox"
        },
        {
         "hoverinfo": "skip",
         "lat": [
          53.6501,
          53.6502
         ],
         "line": {
          "color": "#003caa",
          "width": 2
         },
         "lon": [
          11.3779,
          11.3805
         ],
         "mode": "lines",
         "showlegend": false,
         "type": "scattermapbox"
        },
        {
         "hoverinfo": "text",
         "hovertext": "MV3.101 Line 131<br>Value: 0.307",
         "lat": [
          53.65015
         ],
         "lon": [
          11.3792
         ],
         "marker": {
          "color": "#1ac938",
          "opacity": 0,
          "size": 0
         },
         "mode": "markers",
         "showlegend": false,
         "type": "scattermapbox"
        },
        {
         "hoverinfo": "skip",
         "lat": [
          53.6409,
          53.641
         ],
         "line": {
          "color": "#000083",
          "width": 2
         },
         "lon": [
          11.3733,
          11.3767
         ],
         "mode": "lines",
         "showlegend": false,
         "type": "scattermapbox"
        },
        {
         "hoverinfo": "text",
         "hovertext": "MV3.101 Line 6<br>Value: 0.192",
         "lat": [
          53.640950000000004
         ],
         "lon": [
          11.375
         ],
         "marker": {
          "color": "#1ac938",
          "opacity": 0,
          "size": 0
         },
         "mode": "markers",
         "showlegend": false,
         "type": "scattermapbox"
        },
        {
         "hoverinfo": "skip",
         "lat": [
          53.6353,
          53.634
         ],
         "line": {
          "color": "#05ffff",
          "width": 2
         },
         "lon": [
          11.3632,
          11.3636
         ],
         "mode": "lines",
         "showlegend": false,
         "type": "scattermapbox"
        },
        {
         "hoverinfo": "text",
         "hovertext": "MV3.101 Line 75<br>Value: 0.426",
         "lat": [
          53.63465
         ],
         "lon": [
          11.3634
         ],
         "marker": {
          "color": "#1ac938",
          "opacity": 0,
          "size": 0
         },
         "mode": "markers",
         "showlegend": false,
         "type": "scattermapbox"
        },
        {
         "hoverinfo": "skip",
         "lat": [
          53.6456,
          53.6451
         ],
         "line": {
          "color": "#fa0000",
          "width": 2
         },
         "lon": [
          11.3692,
          11.369
         ],
         "mode": "lines",
         "showlegend": false,
         "type": "scattermapbox"
        },
        {
         "hoverinfo": "text",
         "hovertext": "MV3.101 Line 67<br>Value: 0.826",
         "lat": [
          53.64535
         ],
         "lon": [
          11.3691
         ],
         "marker": {
          "color": "#1ac938",
          "opacity": 0,
          "size": 0
         },
         "mode": "markers",
         "showlegend": false,
         "type": "scattermapbox"
        },
        {
         "hoverinfo": "skip",
         "lat": [
          53.6341,
          53.6328
         ],
         "line": {
          "color": "#003caa",
          "width": 2
         },
         "lon": [
          11.3724,
          11.3733
         ],
         "mode": "lines",
         "showlegend": false,
         "type": "scattermapbox"
        },
        {
         "hoverinfo": "text",
         "hovertext": "MV3.101 Line 105<br>Value: 0.206",
         "lat": [
          53.633449999999996
         ],
         "lon": [
          11.37285
         ],
         "marker": {
          "color": "#1ac938",
          "opacity": 0,
          "size": 0
         },
         "mode": "markers",
         "showlegend": false,
         "type": "scattermapbox"
        },
        {
         "hoverinfo": "skip",
         "lat": [
          53.6456,
          53.6464
         ],
         "line": {
          "color": "#05ffff",
          "width": 2
         },
         "lon": [
          11.3738,
          11.3745
         ],
         "mode": "lines",
         "showlegend": false,
         "type": "scattermapbox"
        },
        {
         "hoverinfo": "text",
         "hovertext": "MV3.101 BS-Feeder3_line<br>Value: 0.494",
         "lat": [
          53.646
         ],
         "lon": [
          11.37415
         ],
         "marker": {
          "color": "#1ac938",
          "opacity": 0,
          "size": 0
         },
         "mode": "markers",
         "showlegend": false,
         "type": "scattermapbox"
        },
        {
         "hoverinfo": "skip",
         "lat": [
          53.6456,
          53.6441
         ],
         "line": {
          "color": "#05ffff",
          "width": 2
         },
         "lon": [
          11.3692,
          11.3699
         ],
         "mode": "lines",
         "showlegend": false,
         "type": "scattermapbox"
        },
        {
         "hoverinfo": "text",
         "hovertext": "MV3.101 Line 1<br>Value: 0.594",
         "lat": [
          53.644850000000005
         ],
         "lon": [
          11.36955
         ],
         "marker": {
          "color": "#1ac938",
          "opacity": 0,
          "size": 0
         },
         "mode": "markers",
         "showlegend": false,
         "type": "scattermapbox"
        },
        {
         "hoverinfo": "skip",
         "lat": [
          53.645,
          53.6448
         ],
         "line": {
          "color": "#05ffff",
          "width": 2
         },
         "lon": [
          11.3649,
          11.364
         ],
         "mode": "lines",
         "showlegend": false,
         "type": "scattermapbox"
        },
        {
         "hoverinfo": "text",
         "hovertext": "MV3.101 Line 86<br>Value: 0.473",
         "lat": [
          53.6449
         ],
         "lon": [
          11.364450000000001
         ],
         "marker": {
          "color": "#1ac938",
          "opacity": 0,
          "size": 0
         },
         "mode": "markers",
         "showlegend": false,
         "type": "scattermapbox"
        },
        {
         "hoverinfo": "skip",
         "lat": [
          53.638,
          53.6371
         ],
         "line": {
          "color": "#000083",
          "width": 2
         },
         "lon": [
          11.3719,
          11.3721
         ],
         "mode": "lines",
         "showlegend": false,
         "type": "scattermapbox"
        },
        {
         "hoverinfo": "text",
         "hovertext": "MV3.101 Line 11<br>Value: 0.040",
         "lat": [
          53.63755
         ],
         "lon": [
          11.372
         ],
         "marker": {
          "color": "#1ac938",
          "opacity": 0,
          "size": 0
         },
         "mode": "markers",
         "showlegend": false,
         "type": "scattermapbox"
        },
        {
         "hoverinfo": "skip",
         "lat": [
          53.6453,
          53.6454
         ],
         "line": {
          "color": "#05ffff",
          "width": 2
         },
         "lon": [
          11.372,
          11.3732
         ],
         "mode": "lines",
         "showlegend": false,
         "type": "scattermapbox"
        },
        {
         "hoverinfo": "text",
         "hovertext": "MV3.101 Line 14<br>Value: 0.551",
         "lat": [
          53.64535
         ],
         "lon": [
          11.3726
         ],
         "marker": {
          "color": "#1ac938",
          "opacity": 0,
          "size": 0
         },
         "mode": "markers",
         "showlegend": false,
         "type": "scattermapbox"
        },
        {
         "hoverinfo": "skip",
         "lat": [
          53.6568,
          53.6567
         ],
         "line": {
          "color": "#003caa",
          "width": 2
         },
         "lon": [
          11.3561,
          11.3529
         ],
         "mode": "lines",
         "showlegend": false,
         "type": "scattermapbox"
        },
        {
         "hoverinfo": "text",
         "hovertext": "MV3.101 Line 61<br>Value: 0.354",
         "lat": [
          53.65675
         ],
         "lon": [
          11.3545
         ],
         "marker": {
          "color": "#1ac938",
          "opacity": 0,
          "size": 0
         },
         "mode": "markers",
         "showlegend": false,
         "type": "scattermapbox"
        },
        {
         "hoverinfo": "skip",
         "lat": [
          53.6525,
          53.6538
         ],
         "line": {
          "color": "#003caa",
          "width": 2
         },
         "lon": [
          11.3724,
          11.374
         ],
         "mode": "lines",
         "showlegend": false,
         "type": "scattermapbox"
        },
        {
         "hoverinfo": "text",
         "hovertext": "MV3.101 Line 19<br>Value: 0.368",
         "lat": [
          53.65315
         ],
         "lon": [
          11.3732
         ],
         "marker": {
          "color": "#1ac938",
          "opacity": 0,
          "size": 0
         },
         "mode": "markers",
         "showlegend": false,
         "type": "scattermapbox"
        },
        {
         "hoverinfo": "skip",
         "lat": [
          53.6456,
          53.6453
         ],
         "line": {
          "color": "#05ffff",
          "width": 2
         },
         "lon": [
          11.3692,
          11.3665
         ],
         "mode": "lines",
         "showlegend": false,
         "type": "scattermapbox"
        },
        {
         "hoverinfo": "text",
         "hovertext": "MV3.101 Line 84<br>Value: 0.518",
         "lat": [
          53.64545
         ],
         "lon": [
          11.36785
         ],
         "marker": {
          "color": "#1ac938",
          "opacity": 0,
          "size": 0
         },
         "mode": "markers",
         "showlegend": false,
         "type": "scattermapbox"
        },
        {
         "hoverinfo": "skip",
         "lat": [
          53.6521,
          53.6508
         ],
         "line": {
          "color": "#000083",
          "width": 2
         },
         "lon": [
          11.3535,
          11.3521
         ],
         "mode": "lines",
         "showlegend": false,
         "type": "scattermapbox"
        },
        {
         "hoverinfo": "text",
         "hovertext": "MV3.101 Line 66<br>Value: 0.063",
         "lat": [
          53.65145
         ],
         "lon": [
          11.3528
         ],
         "marker": {
          "color": "#1ac938",
          "opacity": 0,
          "size": 0
         },
         "mode": "markers",
         "showlegend": false,
         "type": "scattermapbox"
        },
        {
         "hoverinfo": "skip",
         "lat": [
          53.6475,
          53.6481
         ],
         "line": {
          "color": "#05ffff",
          "width": 2
         },
         "lon": [
          11.3748,
          11.3752
         ],
         "mode": "lines",
         "showlegend": false,
         "type": "scattermapbox"
        },
        {
         "hoverinfo": "text",
         "hovertext": "MV3.101 Line 128<br>Value: 0.526",
         "lat": [
          53.647800000000004
         ],
         "lon": [
          11.375
         ],
         "marker": {
          "color": "#1ac938",
          "opacity": 0,
          "size": 0
         },
         "mode": "markers",
         "showlegend": false,
         "type": "scattermapbox"
        },
        {
         "hoverinfo": "skip",
         "lat": [
          53.6384,
          53.6353
         ],
         "line": {
          "color": "#05ffff",
          "width": 2
         },
         "lon": [
          11.364,
          11.3632
         ],
         "mode": "lines",
         "showlegend": false,
         "type": "scattermapbox"
        },
        {
         "hoverinfo": "text",
         "hovertext": "MV3.101 Line 74<br>Value: 0.507",
         "lat": [
          53.636849999999995
         ],
         "lon": [
          11.363600000000002
         ],
         "marker": {
          "color": "#1ac938",
          "opacity": 0,
          "size": 0
         },
         "mode": "markers",
         "showlegend": false,
         "type": "scattermapbox"
        },
        {
         "hoverinfo": "skip",
         "lat": [
          53.6445,
          53.6434
         ],
         "line": {
          "color": "#ffff00",
          "width": 2
         },
         "lon": [
          11.3683,
          11.3674
         ],
         "mode": "lines",
         "showlegend": false,
         "type": "scattermapbox"
        },
        {
         "hoverinfo": "text",
         "hovertext": "MV3.101 Line 69<br>Value: 0.750",
         "lat": [
          53.643950000000004
         ],
         "lon": [
          11.36785
         ],
         "marker": {
          "color": "#1ac938",
          "opacity": 0,
          "size": 0
         },
         "mode": "markers",
         "showlegend": false,
         "type": "scattermapbox"
        },
        {
         "hoverinfo": "skip",
         "lat": [
          53.6472,
          53.6464
         ],
         "line": {
          "color": "#000083",
          "width": 2
         },
         "lon": [
          11.3833,
          11.3832
         ],
         "mode": "lines",
         "showlegend": false,
         "type": "scattermapbox"
        },
        {
         "hoverinfo": "text",
         "hovertext": "MV3.101 Line 125<br>Value: 0.055",
         "lat": [
          53.6468
         ],
         "lon": [
          11.38325
         ],
         "marker": {
          "color": "#1ac938",
          "opacity": 0,
          "size": 0
         },
         "mode": "markers",
         "showlegend": false,
         "type": "scattermapbox"
        },
        {
         "hoverinfo": "skip",
         "lat": [
          53.6457,
          53.647
         ],
         "line": {
          "color": "#05ffff",
          "width": 2
         },
         "lon": [
          11.3697,
          11.3701
         ],
         "mode": "lines",
         "showlegend": false,
         "type": "scattermapbox"
        },
        {
         "hoverinfo": "text",
         "hovertext": "MV3.101 Line 27<br>Value: 0.410",
         "lat": [
          53.64635
         ],
         "lon": [
          11.369900000000001
         ],
         "marker": {
          "color": "#1ac938",
          "opacity": 0,
          "size": 0
         },
         "mode": "markers",
         "showlegend": false,
         "type": "scattermapbox"
        },
        {
         "hoverinfo": "skip",
         "lat": [
          53.6411,
          53.6397
         ],
         "line": {
          "color": "#000083",
          "width": 2
         },
         "lon": [
          11.3715,
          11.3715
         ],
         "mode": "lines",
         "showlegend": false,
         "type": "scattermapbox"
        },
        {
         "hoverinfo": "text",
         "hovertext": "MV3.101 Line 9<br>Value: 0.111",
         "lat": [
          53.6404
         ],
         "lon": [
          11.3715
         ],
         "marker": {
          "color": "#1ac938",
          "opacity": 0,
          "size": 0
         },
         "mode": "markers",
         "showlegend": false,
         "type": "scattermapbox"
        },
        {
         "hoverinfo": "skip",
         "lat": [
          53.6428,
          53.6429
         ],
         "line": {
          "color": "#003caa",
          "width": 2
         },
         "lon": [
          11.381,
          11.3815
         ],
         "mode": "lines",
         "showlegend": false,
         "type": "scattermapbox"
        },
        {
         "hoverinfo": "text",
         "hovertext": "MV3.101 Line 113<br>Value: 0.274",
         "lat": [
          53.642849999999996
         ],
         "lon": [
          11.381250000000001
         ],
         "marker": {
          "color": "#1ac938",
          "opacity": 0,
          "size": 0
         },
         "mode": "markers",
         "showlegend": false,
         "type": "scattermapbox"
        },
        {
         "hoverinfo": "skip",
         "lat": [
          53.6456,
          53.6436
         ],
         "line": {
          "color": "#ffff00",
          "width": 2
         },
         "lon": [
          11.3692,
          11.3686
         ],
         "mode": "lines",
         "showlegend": false,
         "type": "scattermapbox"
        },
        {
         "hoverinfo": "text",
         "hovertext": "MV3.101 Line 95<br>Value: 0.693",
         "lat": [
          53.6446
         ],
         "lon": [
          11.3689
         ],
         "marker": {
          "color": "#1ac938",
          "opacity": 0,
          "size": 0
         },
         "mode": "markers",
         "showlegend": false,
         "type": "scattermapbox"
        },
        {
         "hoverinfo": "skip",
         "lat": [
          53.6531,
          53.6541
         ],
         "line": {
          "color": "#003caa",
          "width": 2
         },
         "lon": [
          11.3682,
          11.3682
         ],
         "mode": "lines",
         "showlegend": false,
         "type": "scattermapbox"
        },
        {
         "hoverinfo": "text",
         "hovertext": "MV3.101 Line 36<br>Value: 0.286",
         "lat": [
          53.6536
         ],
         "lon": [
          11.3682
         ],
         "marker": {
          "color": "#1ac938",
          "opacity": 0,
          "size": 0
         },
         "mode": "markers",
         "showlegend": false,
         "type": "scattermapbox"
        },
        {
         "hoverinfo": "skip",
         "lat": [
          53.6481,
          53.6472
         ],
         "line": {
          "color": "#000083",
          "width": 2
         },
         "lon": [
          11.3819,
          11.3833
         ],
         "mode": "lines",
         "showlegend": false,
         "type": "scattermapbox"
        },
        {
         "hoverinfo": "text",
         "hovertext": "MV3.101 Line 124<br>Value: 0.183",
         "lat": [
          53.64765
         ],
         "lon": [
          11.3826
         ],
         "marker": {
          "color": "#1ac938",
          "opacity": 0,
          "size": 0
         },
         "mode": "markers",
         "showlegend": false,
         "type": "scattermapbox"
        },
        {
         "hoverinfo": "skip",
         "lat": [
          53.6389,
          53.637
         ],
         "line": {
          "color": "#ffff00",
          "width": 2
         },
         "lon": [
          11.3669,
          11.3664
         ],
         "mode": "lines",
         "showlegend": false,
         "type": "scattermapbox"
        },
        {
         "hoverinfo": "text",
         "hovertext": "MV3.101 Line 98<br>Value: 0.612",
         "lat": [
          53.637950000000004
         ],
         "lon": [
          11.36665
         ],
         "marker": {
          "color": "#1ac938",
          "opacity": 0,
          "size": 0
         },
         "mode": "markers",
         "showlegend": false,
         "type": "scattermapbox"
        },
        {
         "hoverinfo": "skip",
         "lat": [
          53.6459,
          53.648
         ],
         "line": {
          "color": "#003caa",
          "width": 2
         },
         "lon": [
          11.3687,
          11.3667
         ],
         "mode": "lines",
         "showlegend": false,
         "type": "scattermapbox"
        },
        {
         "hoverinfo": "text",
         "hovertext": "MV3.101 Line 42<br>Value: 0.375",
         "lat": [
          53.646950000000004
         ],
         "lon": [
          11.3677
         ],
         "marker": {
          "color": "#1ac938",
          "opacity": 0,
          "size": 0
         },
         "mode": "markers",
         "showlegend": false,
         "type": "scattermapbox"
        },
        {
         "hoverinfo": "skip",
         "lat": [
          53.6537,
          53.6521
         ],
         "line": {
          "color": "#000083",
          "width": 2
         },
         "lon": [
          11.3524,
          11.3535
         ],
         "mode": "lines",
         "showlegend": false,
         "type": "scattermapbox"
        },
        {
         "hoverinfo": "text",
         "hovertext": "MV3.101 Line 65<br>Value: 0.175",
         "lat": [
          53.6529
         ],
         "lon": [
          11.35295
         ],
         "marker": {
          "color": "#1ac938",
          "opacity": 0,
          "size": 0
         },
         "mode": "markers",
         "showlegend": false,
         "type": "scattermapbox"
        },
        {
         "hoverinfo": "skip",
         "lat": [
          53.6456,
          53.6454
         ],
         "line": {
          "color": "#003caa",
          "width": 2
         },
         "lon": [
          11.3752,
          11.3762
         ],
         "mode": "lines",
         "showlegend": false,
         "type": "scattermapbox"
        },
        {
         "hoverinfo": "text",
         "hovertext": "MV3.101 Line 116<br>Value: 0.254",
         "lat": [
          53.6455
         ],
         "lon": [
          11.3757
         ],
         "marker": {
          "color": "#1ac938",
          "opacity": 0,
          "size": 0
         },
         "mode": "markers",
         "showlegend": false,
         "type": "scattermapbox"
        },
        {
         "hoverinfo": "skip",
         "lat": [
          53.6534,
          53.6519
         ],
         "line": {
          "color": "#000083",
          "width": 2
         },
         "lon": [
          11.3794,
          11.3805
         ],
         "mode": "lines",
         "showlegend": false,
         "type": "scattermapbox"
        },
        {
         "hoverinfo": "text",
         "hovertext": "MV3.101 Line 24<br>Value: 0.095",
         "lat": [
          53.652649999999994
         ],
         "lon": [
          11.379950000000001
         ],
         "marker": {
          "color": "#1ac938",
          "opacity": 0,
          "size": 0
         },
         "mode": "markers",
         "showlegend": false,
         "type": "scattermapbox"
        },
        {
         "hoverinfo": "skip",
         "lat": [
          53.6453,
          53.645
         ],
         "line": {
          "color": "#05ffff",
          "width": 2
         },
         "lon": [
          11.3665,
          11.3649
         ],
         "mode": "lines",
         "showlegend": false,
         "type": "scattermapbox"
        },
        {
         "hoverinfo": "text",
         "hovertext": "MV3.101 Line 85<br>Value: 0.498",
         "lat": [
          53.64515
         ],
         "lon": [
          11.3657
         ],
         "marker": {
          "color": "#1ac938",
          "opacity": 0,
          "size": 0
         },
         "mode": "markers",
         "showlegend": false,
         "type": "scattermapbox"
        },
        {
         "hoverinfo": "skip",
         "lat": [
          53.6456,
          53.6457
         ],
         "line": {
          "color": "#05ffff",
          "width": 2
         },
         "lon": [
          11.3692,
          11.3697
         ],
         "mode": "lines",
         "showlegend": false,
         "type": "scattermapbox"
        },
        {
         "hoverinfo": "text",
         "hovertext": "MV3.101 Line 26<br>Value: 0.494",
         "lat": [
          53.64565
         ],
         "lon": [
          11.36945
         ],
         "marker": {
          "color": "#1ac938",
          "opacity": 0,
          "size": 0
         },
         "mode": "markers",
         "showlegend": false,
         "type": "scattermapbox"
        },
        {
         "hoverinfo": "skip",
         "lat": [
          53.6457,
          53.6465
         ],
         "line": {
          "color": "#fa0000",
          "width": 2
         },
         "lon": [
          11.3682,
          11.3669
         ],
         "mode": "lines",
         "showlegend": false,
         "type": "scattermapbox"
        },
        {
         "hoverinfo": "text",
         "hovertext": "MV3.101 Line 50<br>Value: 0.950",
         "lat": [
          53.646100000000004
         ],
         "lon": [
          11.36755
         ],
         "marker": {
          "color": "#1ac938",
          "opacity": 0,
          "size": 0
         },
         "mode": "markers",
         "showlegend": false,
         "type": "scattermapbox"
        },
        {
         "hoverinfo": "skip",
         "lat": [
          53.6448,
          53.6443
         ],
         "line": {
          "color": "#05ffff",
          "width": 2
         },
         "lon": [
          11.364,
          11.3619
         ],
         "mode": "lines",
         "showlegend": false,
         "type": "scattermapbox"
        },
        {
         "hoverinfo": "text",
         "hovertext": "MV3.101 Line 87<br>Value: 0.430",
         "lat": [
          53.644549999999995
         ],
         "lon": [
          11.362950000000001
         ],
         "marker": {
          "color": "#1ac938",
          "opacity": 0,
          "size": 0
         },
         "mode": "markers",
         "showlegend": false,
         "type": "scattermapbox"
        },
        {
         "hoverinfo": "skip",
         "lat": [
          53.6315,
          53.6321
         ],
         "line": {
          "color": "#003caa",
          "width": 2
         },
         "lon": [
          11.3692,
          11.3702
         ],
         "mode": "lines",
         "showlegend": false,
         "type": "scattermapbox"
        },
        {
         "hoverinfo": "text",
         "hovertext": "MV3.101 Line 103<br>Value: 0.367",
         "lat": [
          53.6318
         ],
         "lon": [
          11.3697
         ],
         "marker": {
          "color": "#1ac938",
          "opacity": 0,
          "size": 0
         },
         "mode": "markers",
         "showlegend": false,
         "type": "scattermapbox"
        },
        {
         "hoverinfo": "skip",
         "lat": [
          53.6477,
          53.6482
         ],
         "line": {
          "color": "#fa0000",
          "width": 2
         },
         "lon": [
          11.3641,
          11.3627
         ],
         "mode": "lines",
         "showlegend": false,
         "type": "scattermapbox"
        },
        {
         "hoverinfo": "text",
         "hovertext": "MV3.101 Line 52<br>Value: 0.832",
         "lat": [
          53.64795
         ],
         "lon": [
          11.3634
         ],
         "marker": {
          "color": "#1ac938",
          "opacity": 0,
          "size": 0
         },
         "mode": "markers",
         "showlegend": false,
         "type": "scattermapbox"
        },
        {
         "hoverinfo": "skip",
         "lat": [
          53.6303,
          53.6285
         ],
         "line": {
          "color": "#000083",
          "width": 2
         },
         "lon": [
          11.3626,
          11.3627
         ],
         "mode": "lines",
         "showlegend": false,
         "type": "scattermapbox"
        },
        {
         "hoverinfo": "text",
         "hovertext": "MV3.101 Line 79<br>Value: 0.186",
         "lat": [
          53.629400000000004
         ],
         "lon": [
          11.36265
         ],
         "marker": {
          "color": "#1ac938",
          "opacity": 0,
          "size": 0
         },
         "mode": "markers",
         "showlegend": false,
         "type": "scattermapbox"
        },
        {
         "hoverinfo": "skip",
         "lat": [
          53.6519,
          53.651
         ],
         "line": {
          "color": "#000083",
          "width": 2
         },
         "lon": [
          11.3805,
          11.3807
         ],
         "mode": "lines",
         "showlegend": false,
         "type": "scattermapbox"
        },
        {
         "hoverinfo": "text",
         "hovertext": "MV3.101 Line 25<br>Value: 0.065",
         "lat": [
          53.65145
         ],
         "lon": [
          11.3806
         ],
         "marker": {
          "color": "#1ac938",
          "opacity": 0,
          "size": 0
         },
         "mode": "markers",
         "showlegend": false,
         "type": "scattermapbox"
        },
        {
         "hoverinfo": "skip",
         "lat": [
          53.6481,
          53.6499
         ],
         "line": {
          "color": "#003caa",
          "width": 2
         },
         "lon": [
          11.3752,
          11.3773
         ],
         "mode": "lines",
         "showlegend": false,
         "type": "scattermapbox"
        },
        {
         "hoverinfo": "text",
         "hovertext": "MV3.101 Line 129<br>Value: 0.391",
         "lat": [
          53.649
         ],
         "lon": [
          11.376249999999999
         ],
         "marker": {
          "color": "#1ac938",
          "opacity": 0,
          "size": 0
         },
         "mode": "markers",
         "showlegend": false,
         "type": "scattermapbox"
        },
        {
         "hoverinfo": "skip",
         "lat": [
          53.6559,
          53.655
         ],
         "line": {
          "color": "#003caa",
          "width": 2
         },
         "lon": [
          11.3519,
          11.3518
         ],
         "mode": "lines",
         "showlegend": false,
         "type": "scattermapbox"
        },
        {
         "hoverinfo": "text",
         "hovertext": "MV3.101 Line 63<br>Value: 0.228",
         "lat": [
          53.65545
         ],
         "lon": [
          11.35185
         ],
         "marker": {
          "color": "#1ac938",
          "opacity": 0,
          "size": 0
         },
         "mode": "markers",
         "showlegend": false,
         "type": "scattermapbox"
        },
        {
         "hoverinfo": "skip",
         "lat": [
          53.6456,
          53.6462
         ],
         "line": {
          "color": "#ffff00",
          "width": 2
         },
         "lon": [
          11.3692,
          11.3691
         ],
         "mode": "lines",
         "showlegend": false,
         "type": "scattermapbox"
        },
        {
         "hoverinfo": "text",
         "hovertext": "MV3.101 Line 31<br>Value: 0.702",
         "lat": [
          53.6459
         ],
         "lon": [
          11.36915
         ],
         "marker": {
          "color": "#1ac938",
          "opacity": 0,
          "size": 0
         },
         "mode": "markers",
         "showlegend": false,
         "type": "scattermapbox"
        },
        {
         "hoverinfo": "skip",
         "lat": [
          53.6456,
          53.6457
         ],
         "line": {
          "color": "#800000",
          "width": 2
         },
         "lon": [
          11.3692,
          11.3682
         ],
         "mode": "lines",
         "showlegend": false,
         "type": "scattermapbox"
        },
        {
         "hoverinfo": "text",
         "hovertext": "MV3.101 Line 49<br>Value: 1.000",
         "lat": [
          53.64565
         ],
         "lon": [
          11.3687
         ],
         "marker": {
          "color": "#1ac938",
          "opacity": 0,
          "size": 0
         },
         "mode": "markers",
         "showlegend": false,
         "type": "scattermapbox"
        },
        {
         "hoverinfo": "skip",
         "lat": [
          53.6501,
          53.6488
         ],
         "line": {
          "color": "#000083",
          "width": 2
         },
         "lon": [
          11.3811,
          11.3833
         ],
         "mode": "lines",
         "showlegend": false,
         "type": "scattermapbox"
        },
        {
         "hoverinfo": "text",
         "hovertext": "MV3.101 Line 133<br>Value: 0.081",
         "lat": [
          53.64945
         ],
         "lon": [
          11.382200000000001
         ],
         "marker": {
          "color": "#1ac938",
          "opacity": 0,
          "size": 0
         },
         "mode": "markers",
         "showlegend": false,
         "type": "scattermapbox"
        },
        {
         "hoverinfo": "skip",
         "lat": [
          53.6465,
          53.6477
         ],
         "line": {
          "color": "#fa0000",
          "width": 2
         },
         "lon": [
          11.3669,
          11.3641
         ],
         "mode": "lines",
         "showlegend": false,
         "type": "scattermapbox"
        },
        {
         "hoverinfo": "text",
         "hovertext": "MV3.101 Line 51<br>Value: 0.865",
         "lat": [
          53.6471
         ],
         "lon": [
          11.3655
         ],
         "marker": {
          "color": "#1ac938",
          "opacity": 0,
          "size": 0
         },
         "mode": "markers",
         "showlegend": false,
         "type": "scattermapbox"
        },
        {
         "hoverinfo": "skip",
         "lat": [
          53.6321,
          53.6341
         ],
         "line": {
          "color": "#003caa",
          "width": 2
         },
         "lon": [
          11.3702,
          11.3724
         ],
         "mode": "lines",
         "showlegend": false,
         "type": "scattermapbox"
        },
        {
         "hoverinfo": "text",
         "hovertext": "MV3.101 Line 104<br>Value: 0.260",
         "lat": [
          53.6331
         ],
         "lon": [
          11.371300000000002
         ],
         "marker": {
          "color": "#1ac938",
          "opacity": 0,
          "size": 0
         },
         "mode": "markers",
         "showlegend": false,
         "type": "scattermapbox"
        },
        {
         "hoverinfo": "skip",
         "lat": [
          53.6236,
          53.6252
         ],
         "line": {
          "color": "#000083",
          "width": 2
         },
         "lon": [
          11.3683,
          11.3714
         ],
         "mode": "lines",
         "showlegend": false,
         "type": "scattermapbox"
        },
        {
         "hoverinfo": "text",
         "hovertext": "MV3.101 Line 83<br>Value: 0.064",
         "lat": [
          53.6244
         ],
         "lon": [
          11.36985
         ],
         "marker": {
          "color": "#1ac938",
          "opacity": 0,
          "size": 0
         },
         "mode": "markers",
         "showlegend": false,
         "type": "scattermapbox"
        },
        {
         "hoverinfo": "skip",
         "lat": [
          53.6464,
          53.6438
         ],
         "line": {
          "color": "#05ffff",
          "width": 2
         },
         "lon": [
          11.3745,
          11.3767
         ],
         "mode": "lines",
         "showlegend": false,
         "type": "scattermapbox"
        },
        {
         "hoverinfo": "text",
         "hovertext": "MV3.101 Line 109<br>Value: 0.490",
         "lat": [
          53.6451
         ],
         "lon": [
          11.375599999999999
         ],
         "marker": {
          "color": "#1ac938",
          "opacity": 0,
          "size": 0
         },
         "mode": "markers",
         "showlegend": false,
         "type": "scattermapbox"
        },
        {
         "hoverinfo": "skip",
         "lat": [
          53.6429,
          53.6434
         ],
         "line": {
          "color": "#000083",
          "width": 2
         },
         "lon": [
          11.3815,
          11.3825
         ],
         "mode": "lines",
         "showlegend": false,
         "type": "scattermapbox"
        },
        {
         "hoverinfo": "text",
         "hovertext": "MV3.101 Line 114<br>Value: 0.112",
         "lat": [
          53.64315
         ],
         "lon": [
          11.382000000000001
         ],
         "marker": {
          "color": "#1ac938",
          "opacity": 0,
          "size": 0
         },
         "mode": "markers",
         "showlegend": false,
         "type": "scattermapbox"
        },
        {
         "hoverinfo": "skip",
         "lat": [
          53.6479,
          53.6481
         ],
         "line": {
          "color": "#003caa",
          "width": 2
         },
         "lon": [
          11.3773,
          11.3784
         ],
         "mode": "lines",
         "showlegend": false,
         "type": "scattermapbox"
        },
        {
         "hoverinfo": "text",
         "hovertext": "MV3.101 Line 122<br>Value: 0.297",
         "lat": [
          53.647999999999996
         ],
         "lon": [
          11.377849999999999
         ],
         "marker": {
          "color": "#1ac938",
          "opacity": 0,
          "size": 0
         },
         "mode": "markers",
         "showlegend": false,
         "type": "scattermapbox"
        },
        {
         "hoverinfo": "skip",
         "lat": [
          53.6406,
          53.6384
         ],
         "line": {
          "color": "#05ffff",
          "width": 2
         },
         "lon": [
          11.3654,
          11.364
         ],
         "mode": "lines",
         "showlegend": false,
         "type": "scattermapbox"
        },
        {
         "hoverinfo": "text",
         "hovertext": "MV3.101 Line 73<br>Value: 0.527",
         "lat": [
          53.6395
         ],
         "lon": [
          11.3647
         ],
         "marker": {
          "color": "#1ac938",
          "opacity": 0,
          "size": 0
         },
         "mode": "markers",
         "showlegend": false,
         "type": "scattermapbox"
        },
        {
         "hoverinfo": "skip",
         "lat": [
          53.6585,
          53.6592
         ],
         "line": {
          "color": "#000083",
          "width": 2
         },
         "lon": [
          11.3687,
          11.3686
         ],
         "mode": "lines",
         "showlegend": false,
         "type": "scattermapbox"
        },
        {
         "hoverinfo": "text",
         "hovertext": "MV3.101 Line 39<br>Value: 0.073",
         "lat": [
          53.65885
         ],
         "lon": [
          11.36865
         ],
         "marker": {
          "color": "#1ac938",
          "opacity": 0,
          "size": 0
         },
         "mode": "markers",
         "showlegend": false,
         "type": "scattermapbox"
        },
        {
         "hoverinfo": "skip",
         "lat": [
          53.6592,
          53.6598
         ],
         "line": {
          "color": "#000083",
          "width": 2
         },
         "lon": [
          11.3686,
          11.3685
         ],
         "mode": "lines",
         "showlegend": false,
         "type": "scattermapbox"
        },
        {
         "hoverinfo": "text",
         "hovertext": "MV3.101 Line 40<br>Value: 0.029",
         "lat": [
          53.659499999999994
         ],
         "lon": [
          11.368549999999999
         ],
         "marker": {
          "color": "#1ac938",
          "opacity": 0,
          "size": 0
         },
         "mode": "markers",
         "showlegend": false,
         "type": "scattermapbox"
        },
        {
         "hoverinfo": "skip",
         "lat": [
          53.6538,
          53.6543
         ],
         "line": {
          "color": "#003caa",
          "width": 2
         },
         "lon": [
          11.374,
          11.3751
         ],
         "mode": "lines",
         "showlegend": false,
         "type": "scattermapbox"
        },
        {
         "hoverinfo": "text",
         "hovertext": "MV3.101 Line 20<br>Value: 0.305",
         "lat": [
          53.65405
         ],
         "lon": [
          11.37455
         ],
         "marker": {
          "color": "#1ac938",
          "opacity": 0,
          "size": 0
         },
         "mode": "markers",
         "showlegend": false,
         "type": "scattermapbox"
        },
        {
         "hoverinfo": "skip",
         "lat": [
          53.6481,
          53.6481
         ],
         "line": {
          "color": "#003caa",
          "width": 2
         },
         "lon": [
          11.3784,
          11.3819
         ],
         "mode": "lines",
         "showlegend": false,
         "type": "scattermapbox"
        },
        {
         "hoverinfo": "text",
         "hovertext": "MV3.101 Line 123<br>Value: 0.229",
         "lat": [
          53.6481
         ],
         "lon": [
          11.38015
         ],
         "marker": {
          "color": "#1ac938",
          "opacity": 0,
          "size": 0
         },
         "mode": "markers",
         "showlegend": false,
         "type": "scattermapbox"
        },
        {
         "hoverinfo": "skip",
         "lat": [
          53.6441,
          53.6437
         ],
         "line": {
          "color": "#003caa",
          "width": 2
         },
         "lon": [
          11.3609,
          11.3577
         ],
         "mode": "lines",
         "showlegend": false,
         "type": "scattermapbox"
        },
        {
         "hoverinfo": "text",
         "hovertext": "MV3.101 Line 89<br>Value: 0.293",
         "lat": [
          53.6439
         ],
         "lon": [
          11.359300000000001
         ],
         "marker": {
          "color": "#1ac938",
          "opacity": 0,
          "size": 0
         },
         "mode": "markers",
         "showlegend": false,
         "type": "scattermapbox"
        },
        {
         "hoverinfo": "skip",
         "lat": [
          53.6579,
          53.6603
         ],
         "line": {
          "color": "#000083",
          "width": 2
         },
         "lon": [
          11.3634,
          11.3636
         ],
         "mode": "lines",
         "showlegend": false,
         "type": "scattermapbox"
        },
        {
         "hoverinfo": "text",
         "hovertext": "MV3.101 Line 47<br>Value: 0.140",
         "lat": [
          53.659099999999995
         ],
         "lon": [
          11.3635
         ],
         "marker": {
          "color": "#1ac938",
          "opacity": 0,
          "size": 0
         },
         "mode": "markers",
         "showlegend": false,
         "type": "scattermapbox"
        },
        {
         "hoverinfo": "skip",
         "lat": [
          53.6346,
          53.633
         ],
         "line": {
          "color": "#05ffff",
          "width": 2
         },
         "lon": [
          11.3656,
          11.3668
         ],
         "mode": "lines",
         "showlegend": false,
         "type": "scattermapbox"
        },
        {
         "hoverinfo": "text",
         "hovertext": "MV3.101 Line 101<br>Value: 0.596",
         "lat": [
          53.6338
         ],
         "lon": [
          11.3662
         ],
         "marker": {
          "color": "#1ac938",
          "opacity": 0,
          "size": 0
         },
         "mode": "markers",
         "showlegend": false,
         "type": "scattermapbox"
        },
        {
         "hoverinfo": "skip",
         "lat": [
          53.6437,
          53.6439
         ],
         "line": {
          "color": "#003caa",
          "width": 2
         },
         "lon": [
          11.3577,
          11.3558
         ],
         "mode": "lines",
         "showlegend": false,
         "type": "scattermapbox"
        },
        {
         "hoverinfo": "text",
         "hovertext": "MV3.101 Line 90<br>Value: 0.280",
         "lat": [
          53.6438
         ],
         "lon": [
          11.35675
         ],
         "marker": {
          "color": "#1ac938",
          "opacity": 0,
          "size": 0
         },
         "mode": "markers",
         "showlegend": false,
         "type": "scattermapbox"
        },
        {
         "hoverinfo": "skip",
         "lat": [
          53.642,
          53.6416
         ],
         "line": {
          "color": "#ffff00",
          "width": 2
         },
         "lon": [
          11.3663,
          11.366
         ],
         "mode": "lines",
         "showlegend": false,
         "type": "scattermapbox"
        },
        {
         "hoverinfo": "text",
         "hovertext": "MV3.101 Line 71<br>Value: 0.610",
         "lat": [
          53.6418
         ],
         "lon": [
          11.366150000000001
         ],
         "marker": {
          "color": "#1ac938",
          "opacity": 0,
          "size": 0
         },
         "mode": "markers",
         "showlegend": false,
         "type": "scattermapbox"
        },
        {
         "hoverinfo": "skip",
         "lat": [
          53.6429,
          53.6428
         ],
         "line": {
          "color": "#003caa",
          "width": 2
         },
         "lon": [
          11.3789,
          11.381
         ],
         "mode": "lines",
         "showlegend": false,
         "type": "scattermapbox"
        },
        {
         "hoverinfo": "text",
         "hovertext": "MV3.101 Line 112<br>Value: 0.350",
         "lat": [
          53.642849999999996
         ],
         "lon": [
          11.379950000000001
         ],
         "marker": {
          "color": "#1ac938",
          "opacity": 0,
          "size": 0
         },
         "mode": "markers",
         "showlegend": false,
         "type": "scattermapbox"
        },
        {
         "hoverinfo": "skip",
         "lat": [
          53.6516,
          53.6524
         ],
         "line": {
          "color": "#ffff00",
          "width": 2
         },
         "lon": [
          11.3561,
          11.3561
         ],
         "mode": "lines",
         "showlegend": false,
         "type": "scattermapbox"
        },
        {
         "hoverinfo": "text",
         "hovertext": "MV3.101 Line 57<br>Value: 0.660",
         "lat": [
          53.652
         ],
         "lon": [
          11.3561
         ],
         "marker": {
          "color": "#1ac938",
          "opacity": 0,
          "size": 0
         },
         "mode": "markers",
         "showlegend": false,
         "type": "scattermapbox"
        },
        {
         "hoverinfo": "skip",
         "lat": [
          53.6455,
          53.6455
         ],
         "line": {
          "color": "#000083",
          "width": 2
         },
         "lon": [
          11.3798,
          11.3809
         ],
         "mode": "lines",
         "showlegend": false,
         "type": "scattermapbox"
        },
        {
         "hoverinfo": "text",
         "hovertext": "MV3.101 Line 119<br>Value: 0.116",
         "lat": [
          53.6455
         ],
         "lon": [
          11.38035
         ],
         "marker": {
          "color": "#1ac938",
          "opacity": 0,
          "size": 0
         },
         "mode": "markers",
         "showlegend": false,
         "type": "scattermapbox"
        },
        {
         "hoverinfo": "skip",
         "lat": [
          53.6524,
          53.6531
         ],
         "line": {
          "color": "#05ffff",
          "width": 2
         },
         "lon": [
          11.3561,
          11.3584
         ],
         "mode": "lines",
         "showlegend": false,
         "type": "scattermapbox"
        },
        {
         "hoverinfo": "text",
         "hovertext": "MV3.101 Line 58<br>Value: 0.577",
         "lat": [
          53.65275
         ],
         "lon": [
          11.35725
         ],
         "marker": {
          "color": "#1ac938",
          "opacity": 0,
          "size": 0
         },
         "mode": "markers",
         "showlegend": false,
         "type": "scattermapbox"
        },
        {
         "hoverinfo": "skip",
         "lat": [
          53.6477,
          53.6494
         ],
         "line": {
          "color": "#000083",
          "width": 2
         },
         "lon": [
          11.3511,
          11.351
         ],
         "mode": "lines",
         "showlegend": false,
         "type": "scattermapbox"
        },
        {
         "hoverinfo": "text",
         "hovertext": "MV3.101 Line 94<br>Value: 0.049",
         "lat": [
          53.64855
         ],
         "lon": [
          11.35105
         ],
         "marker": {
          "color": "#1ac938",
          "opacity": 0,
          "size": 0
         },
         "mode": "markers",
         "showlegend": false,
         "type": "scattermapbox"
        },
        {
         "hoverinfo": "skip",
         "lat": [
          53.6454,
          53.6454
         ],
         "line": {
          "color": "#003caa",
          "width": 2
         },
         "lon": [
          11.3762,
          11.3776
         ],
         "mode": "lines",
         "showlegend": false,
         "type": "scattermapbox"
        },
        {
         "hoverinfo": "text",
         "hovertext": "MV3.101 Line 117<br>Value: 0.211",
         "lat": [
          53.6454
         ],
         "lon": [
          11.3769
         ],
         "marker": {
          "color": "#1ac938",
          "opacity": 0,
          "size": 0
         },
         "mode": "markers",
         "showlegend": false,
         "type": "scattermapbox"
        },
        {
         "hoverinfo": "skip",
         "lat": [
          53.6464,
          53.6469
         ],
         "line": {
          "color": "#ffff00",
          "width": 2
         },
         "lon": [
          11.3745,
          11.3746
         ],
         "mode": "lines",
         "showlegend": false,
         "type": "scattermapbox"
        },
        {
         "hoverinfo": "text",
         "hovertext": "MV3.101 Line 126<br>Value: 0.696",
         "lat": [
          53.64665
         ],
         "lon": [
          11.37455
         ],
         "marker": {
          "color": "#1ac938",
          "opacity": 0,
          "size": 0
         },
         "mode": "markers",
         "showlegend": false,
         "type": "scattermapbox"
        },
        {
         "hoverinfo": "skip",
         "lat": [
          53.6411,
          53.6409
         ],
         "line": {
          "color": "#003caa",
          "width": 2
         },
         "lon": [
          11.3715,
          11.3733
         ],
         "mode": "lines",
         "showlegend": false,
         "type": "scattermapbox"
        },
        {
         "hoverinfo": "text",
         "hovertext": "MV3.101 Line 5<br>Value: 0.350",
         "lat": [
          53.641000000000005
         ],
         "lon": [
          11.372399999999999
         ],
         "marker": {
          "color": "#1ac938",
          "opacity": 0,
          "size": 0
         },
         "mode": "markers",
         "showlegend": false,
         "type": "scattermapbox"
        },
        {
         "hoverinfo": "skip",
         "lat": [
          53.6477,
          53.6492
         ],
         "line": {
          "color": "#003caa",
          "width": 2
         },
         "lon": [
          11.3701,
          11.372
         ],
         "mode": "lines",
         "showlegend": false,
         "type": "scattermapbox"
        },
        {
         "hoverinfo": "text",
         "hovertext": "MV3.101 Line 29<br>Value: 0.345",
         "lat": [
          53.64845
         ],
         "lon": [
          11.37105
         ],
         "marker": {
          "color": "#1ac938",
          "opacity": 0,
          "size": 0
         },
         "mode": "markers",
         "showlegend": false,
         "type": "scattermapbox"
        },
        {
         "hoverinfo": "skip",
         "lat": [
          53.6464,
          53.6467
         ],
         "line": {
          "color": "#003caa",
          "width": 2
         },
         "lon": [
          11.3745,
          11.3755
         ],
         "mode": "lines",
         "showlegend": false,
         "type": "scattermapbox"
        },
        {
         "hoverinfo": "text",
         "hovertext": "MV3.101 Line 120<br>Value: 0.380",
         "lat": [
          53.646550000000005
         ],
         "lon": [
          11.375
         ],
         "marker": {
          "color": "#1ac938",
          "opacity": 0,
          "size": 0
         },
         "mode": "markers",
         "showlegend": false,
         "type": "scattermapbox"
        },
        {
         "hoverinfo": "skip",
         "lat": [
          53.6397,
          53.638
         ],
         "line": {
          "color": "#000083",
          "width": 2
         },
         "lon": [
          11.3715,
          11.3719
         ],
         "mode": "lines",
         "showlegend": false,
         "type": "scattermapbox"
        },
        {
         "hoverinfo": "text",
         "hovertext": "MV3.101 Line 10<br>Value: 0.055",
         "lat": [
          53.63885
         ],
         "lon": [
          11.3717
         ],
         "marker": {
          "color": "#1ac938",
          "opacity": 0,
          "size": 0
         },
         "mode": "markers",
         "showlegend": false,
         "type": "scattermapbox"
        },
        {
         "hoverinfo": "skip",
         "lat": [
          53.6285,
          53.6261
         ],
         "line": {
          "color": "#000083",
          "width": 2
         },
         "lon": [
          11.3627,
          11.3638
         ],
         "mode": "lines",
         "showlegend": false,
         "type": "scattermapbox"
        },
        {
         "hoverinfo": "text",
         "hovertext": "MV3.101 Line 80<br>Value: 0.163",
         "lat": [
          53.627300000000005
         ],
         "lon": [
          11.36325
         ],
         "marker": {
          "color": "#1ac938",
          "opacity": 0,
          "size": 0
         },
         "mode": "markers",
         "showlegend": false,
         "type": "scattermapbox"
        },
        {
         "hoverinfo": "skip",
         "lat": [
          53.6545,
          53.6544
         ],
         "line": {
          "color": "#003caa",
          "width": 2
         },
         "lon": [
          11.3756,
          11.3777
         ],
         "mode": "lines",
         "showlegend": false,
         "type": "scattermapbox"
        },
        {
         "hoverinfo": "text",
         "hovertext": "MV3.101 Line 22<br>Value: 0.245",
         "lat": [
          53.65445
         ],
         "lon": [
          11.376650000000001
         ],
         "marker": {
          "color": "#1ac938",
          "opacity": 0,
          "size": 0
         },
         "mode": "markers",
         "showlegend": false,
         "type": "scattermapbox"
        },
        {
         "hoverinfo": "skip",
         "lat": [
          53.6567,
          53.6559
         ],
         "line": {
          "color": "#003caa",
          "width": 2
         },
         "lon": [
          11.3529,
          11.3519
         ],
         "mode": "lines",
         "showlegend": false,
         "type": "scattermapbox"
        },
        {
         "hoverinfo": "text",
         "hovertext": "MV3.101 Line 62<br>Value: 0.292",
         "lat": [
          53.6563
         ],
         "lon": [
          11.3524
         ],
         "marker": {
          "color": "#1ac938",
          "opacity": 0,
          "size": 0
         },
         "mode": "markers",
         "showlegend": false,
         "type": "scattermapbox"
        },
        {
         "hoverinfo": "skip",
         "lat": [
          53.6297,
          53.6286
         ],
         "line": {
          "color": "#000083",
          "width": 2
         },
         "lon": [
          11.3739,
          11.3737
         ],
         "mode": "lines",
         "showlegend": false,
         "type": "scattermapbox"
        },
        {
         "hoverinfo": "text",
         "hovertext": "MV3.101 Line 108<br>Value: 0.054",
         "lat": [
          53.629149999999996
         ],
         "lon": [
          11.3738
         ],
         "marker": {
          "color": "#1ac938",
          "opacity": 0,
          "size": 0
         },
         "mode": "markers",
         "showlegend": false,
         "type": "scattermapbox"
        },
        {
         "hoverinfo": "skip",
         "lat": [
          53.6464,
          53.6464
         ],
         "line": {
          "color": "#003caa",
          "width": 2
         },
         "lon": [
          11.3721,
          11.3745
         ],
         "mode": "lines",
         "showlegend": false,
         "type": "scattermapbox"
        },
        {
         "hoverinfo": "text",
         "hovertext": "MV3.101 BS-Feeder4_line<br>Value: 0.314",
         "lat": [
          53.6464
         ],
         "lon": [
          11.3733
         ],
         "marker": {
          "color": "#1ac938",
          "opacity": 0,
          "size": 0
         },
         "mode": "markers",
         "showlegend": false,
         "type": "scattermapbox"
        },
        {
         "hoverinfo": "skip",
         "lat": [
          53.655,
          53.6537
         ],
         "line": {
          "color": "#003caa",
          "width": 2
         },
         "lon": [
          11.3518,
          11.3524
         ],
         "mode": "lines",
         "showlegend": false,
         "type": "scattermapbox"
        },
        {
         "hoverinfo": "text",
         "hovertext": "MV3.101 Line 64<br>Value: 0.204",
         "lat": [
          53.65435
         ],
         "lon": [
          11.3521
         ],
         "marker": {
          "color": "#1ac938",
          "opacity": 0,
          "size": 0
         },
         "mode": "markers",
         "showlegend": false,
         "type": "scattermapbox"
        },
        {
         "hoverinfo": "skip",
         "lat": [
          53.6541,
          53.6572
         ],
         "line": {
          "color": "#000083",
          "width": 2
         },
         "lon": [
          11.3682,
          11.3686
         ],
         "mode": "lines",
         "showlegend": false,
         "type": "scattermapbox"
        },
        {
         "hoverinfo": "text",
         "hovertext": "MV3.101 Line 37<br>Value: 0.173",
         "lat": [
          53.65565
         ],
         "lon": [
          11.368400000000001
         ],
         "marker": {
          "color": "#1ac938",
          "opacity": 0,
          "size": 0
         },
         "mode": "markers",
         "showlegend": false,
         "type": "scattermapbox"
        },
        {
         "hoverinfo": "skip",
         "lat": [
          53.6482,
          53.6489
         ],
         "line": {
          "color": "#fa0000",
          "width": 2
         },
         "lon": [
          11.3627,
          11.3604
         ],
         "mode": "lines",
         "showlegend": false,
         "type": "scattermapbox"
        },
        {
         "hoverinfo": "text",
         "hovertext": "MV3.101 Line 53<br>Value: 0.916",
         "lat": [
          53.64855
         ],
         "lon": [
          11.361550000000001
         ],
         "marker": {
          "color": "#1ac938",
          "opacity": 0,
          "size": 0
         },
         "mode": "markers",
         "showlegend": false,
         "type": "scattermapbox"
        },
        {
         "hoverinfo": "skip",
         "lat": [
          53.6531
         ],
         "lon": [
          11.3584
         ],
         "marker": {
          "cmax": 0.3900003389323528,
          "cmin": 5.069367152221342E-4,
          "color": "#008000",
          "colorbar": {
           "thickness": 15,
           "tickfont": {
            "size": 12,
            "style": "normal",
            "weight": "normal"
           },
           "title": {
            "font": {
             "size": 12,
             "style": "normal",
             "weight": "normal"
            },
            "text": "Line Value"
           },
           "x": 0.975
          },
          "colorscale": [
           [
            0.0,
            "rgb(0,0,131)"
           ],
           [
            0.2,
            "rgb(0,60,170)"
           ],
           [
            0.4,
            "rgb(5,255,255)"
           ],
           [
            0.6,
            "rgb(255,255,0)"
           ],
           [
            0.8,
            "rgb(250,0,0)"
           ],
           [
            1.0,
            "rgb(128,0,0)"
           ]
          ],
          "opacity": 0,
          "showscale": true,
          "size": 0.1
         },
         "mode": "markers",
         "showlegend": false,
         "type": "scattermapbox"
        },
        {
         "hoverinfo": "skip",
         "lat": [
          53.6514,
          53.6531
         ],
         "line": {
          "color": "#a3a3a3",
          "width": 2
         },
         "lon": [
          11.3638,
          11.3584
         ],
         "mode": "lines",
         "showlegend": false,
         "type": "scattermapbox"
        },
        {
         "hoverinfo": "text",
         "hovertext": "MV3.101 loop_line 9",
         "lat": [
          53.65225
         ],
         "lon": [
          11.3611
         ],
         "marker": {
          "color": "#a3a3a3",
          "opacity": 0,
          "size": 0
         },
         "mode": "markers",
         "showlegend": false,
         "type": "scattermapbox"
        },
        {
         "hoverinfo": "skip",
         "lat": [
          53.634,
          53.6346
         ],
         "line": {
          "color": "#a3a3a3",
          "width": 2
         },
         "lon": [
          11.3636,
          11.3656
         ],
         "mode": "lines",
         "showlegend": false,
         "type": "scattermapbox"
        },
        {
         "hoverinfo": "text",
         "hovertext": "MV3.101 loop_line 10",
         "lat": [
          53.634299999999996
         ],
         "lon": [
          11.3646
         ],
         "marker": {
          "color": "#a3a3a3",
          "opacity": 0,
          "size": 0
         },
         "mode": "markers",
         "showlegend": false,
         "type": "scattermapbox"
        },
        {
         "hoverinfo": "skip",
         "lat": [
          53.6252,
          53.6286
         ],
         "line": {
          "color": "#a3a3a3",
          "width": 2
         },
         "lon": [
          11.3714,
          11.3737
         ],
         "mode": "lines",
         "showlegend": false,
         "type": "scattermapbox"
        },
        {
         "hoverinfo": "text",
         "hovertext": "MV3.101 loop_line 4",
         "lat": [
          53.6269
         ],
         "lon": [
          11.37255
         ],
         "marker": {
          "color": "#a3a3a3",
          "opacity": 0,
          "size": 0
         },
         "mode": "markers",
         "showlegend": false,
         "type": "scattermapbox"
        },
        {
         "hoverinfo": "skip",
         "lat": [
          53.6434,
          53.6488
         ],
         "line": {
          "color": "#a3a3a3",
          "width": 2
         },
         "lon": [
          11.3825,
          11.3833
         ],
         "mode": "lines",
         "showlegend": false,
         "type": "scattermapbox"
        },
        {
         "hoverinfo": "text",
         "hovertext": "MV3.101 loop_line 5",
         "lat": [
          53.646100000000004
         ],
         "lon": [
          11.3829
         ],
         "marker": {
          "color": "#a3a3a3",
          "opacity": 0,
          "size": 0
         },
         "mode": "markers",
         "showlegend": false,
         "type": "scattermapbox"
        },
        {
         "hoverinfo": "skip",
         "lat": [
          53.6371,
          53.6341
         ],
         "line": {
          "color": "#a3a3a3",
          "width": 2
         },
         "lon": [
          11.3721,
          11.3724
         ],
         "mode": "lines",
         "showlegend": false,
         "type": "scattermapbox"
        },
        {
         "hoverinfo": "text",
         "hovertext": "MV3.101 loop_line 7",
         "lat": [
          53.6356
         ],
         "lon": [
          11.372250000000001
         ],
         "marker": {
          "color": "#a3a3a3",
          "opacity": 0,
          "size": 0
         },
         "mode": "markers",
         "showlegend": false,
         "type": "scattermapbox"
        },
        {
         "hoverinfo": "skip",
         "lat": [
          53.6457,
          53.6464
         ],
         "line": {
          "color": "#a3a3a3",
          "width": 2
         },
         "lon": [
          11.3697,
          11.3721
         ],
         "mode": "lines",
         "showlegend": false,
         "type": "scattermapbox"
        },
        {
         "hoverinfo": "text",
         "hovertext": "MV3.101 loop_line 8",
         "lat": [
          53.64605
         ],
         "lon": [
          11.370899999999999
         ],
         "marker": {
          "color": "#a3a3a3",
          "opacity": 0,
          "size": 0
         },
         "mode": "markers",
         "showlegend": false,
         "type": "scattermapbox"
        },
        {
         "hoverinfo": "skip",
         "lat": [
          53.6508,
          53.6494
         ],
         "line": {
          "color": "#a3a3a3",
          "width": 2
         },
         "lon": [
          11.3521,
          11.351
         ],
         "mode": "lines",
         "showlegend": false,
         "type": "scattermapbox"
        },
        {
         "hoverinfo": "text",
         "hovertext": "MV3.101 loop_line 3",
         "lat": [
          53.650099999999995
         ],
         "lon": [
          11.35155
         ],
         "marker": {
          "color": "#a3a3a3",
          "opacity": 0,
          "size": 0
         },
         "mode": "markers",
         "showlegend": false,
         "type": "scattermapbox"
        },
        {
         "hoverinfo": "skip",
         "lat": [
          53.662,
          53.6598
         ],
         "line": {
          "color": "#a3a3a3",
          "width": 2
         },
         "lon": [
          11.3646,
          11.3685
         ],
         "mode": "lines",
         "showlegend": false,
         "type": "scattermapbox"
        },
        {
         "hoverinfo": "text",
         "hovertext": "MV3.101 loop_line 2",
         "lat": [
          53.6609
         ],
         "lon": [
          11.36655
         ],
         "marker": {
          "color": "#a3a3a3",
          "opacity": 0,
          "size": 0
         },
         "mode": "markers",
         "showlegend": false,
         "type": "scattermapbox"
        },
        {
         "hoverinfo": "skip",
         "lat": [
          53.6455,
          53.6464
         ],
         "line": {
          "color": "#a3a3a3",
          "width": 2
         },
         "lon": [
          11.3809,
          11.3832
         ],
         "mode": "lines",
         "showlegend": false,
         "type": "scattermapbox"
        },
        {
         "hoverinfo": "text",
         "hovertext": "MV3.101 loop_line 6",
         "lat": [
          53.64595
         ],
         "lon": [
          11.38205
         ],
         "marker": {
          "color": "#a3a3a3",
          "opacity": 0,
          "size": 0
         },
         "mode": "markers",
         "showlegend": false,
         "type": "scattermapbox"
        },
        {
         "hoverinfo": "skip",
         "lat": [
          53.651,
          53.6422
         ],
         "line": {
          "color": "#a3a3a3",
          "width": 2
         },
         "lon": [
          11.3807,
          11.3784
         ],
         "mode": "lines",
         "showlegend": false,
         "type": "scattermapbox"
        },
        {
         "hoverinfo": "text",
         "hovertext": "MV3.101 loop_line 1",
         "lat": [
          53.64660000000001
         ],
         "lon": [
          11.379549999999998
         ],
         "marker": {
          "color": "#a3a3a3",
          "opacity": 0,
          "size": 0
         },
         "mode": "markers",
         "showlegend": false,
         "type": "scattermapbox"
        },
        {
         "hoverinfo": "skip",
         "lat": [
          53.6524,
          53.6521
         ],
         "line": {
          "color": "#a3a3a3",
          "width": 2
         },
         "lon": [
          11.3561,
          11.3535
         ],
         "mode": "lines",
         "showlegend": false,
         "type": "scattermapbox"
        },
        {
         "hoverinfo": "text",
         "hovertext": "MV3.101 loop_line 11",
         "lat": [
          53.652249999999995
         ],
         "lon": [
          11.354800000000001
         ],
         "marker": {
          "color": "#a3a3a3",
          "opacity": 0,
          "size": 0
         },
         "mode": "markers",
         "showlegend": false,
         "type": "scattermapbox"
        },
        {
         "hoverinfo": "skip",
         "lat": [
          53.64525238095238
         ],
         "lon": [
          11.368850340136055
         ],
         "marker": {
          "cmax": 1.1,
          "cmin": 0.9,
          "colorbar": {
           "thickness": 10,
           "tickfont": {
            "size": 12,
            "style": "normal",
            "weight": "normal"
           },
           "ticktext": [
            "0.9",
            "0.92",
            "0.94",
            "0.96",
            "0.98",
            "1.0",
            "1.02",
            "1.04",
            "1.06",
            "1.08",
            "1.1"
           ],
           "tickvals": [
            0.9,
            0.92,
            0.9400000000000001,
            0.96,
            0.98,
            1.0,
            1.02,
            1.04,
            1.06,
            1.08,
            1.1
           ],
           "title": {
            "font": {
             "size": 12
            },
            "text": "Node Value"
           },
           "x": 1.025
          },
          "colorscale": [
           [
            0.0,
            "rgb(150,0,90)"
           ],
           [
            0.125,
            "rgb(0,0,200)"
           ],
           [
            0.25,
            "rgb(0,25,255)"
           ],
           [
            0.375,
            "rgb(0,152,255)"
           ],
           [
            0.5,
            "rgb(44,255,150)"
           ],
           [
            0.625,
            "rgb(151,255,0)"
           ],
           [
            0.75,
            "rgb(255,234,0)"
           ],
           [
            0.875,
            "rgb(255,111,0)"
           ],
           [
            1.0,
            "rgb(255,0,0)"
           ]
          ],
          "opacity": 0,
          "size": 0.1
         },
         "mode": "markers",
         "showlegend": false,
         "type": "scattermapbox"
        },
        {
         "hoverinfo": "text",
         "hovertext": [
          "ID: MV3.101 node1<br>Voltage Magnitude: 1.03031 pu<br>Latitude: 53.645600<br>Longitude: 11.369200",
          "ID: MV3.101 Bus 28<br>Voltage Magnitude: 1.02839 pu<br>Latitude: 53.652500<br>Longitude: 11.372400",
          "ID: MV3.101 Bus 81<br>Voltage Magnitude: 1.02836 pu<br>Latitude: 53.641600<br>Longitude: 11.366000",
          "ID: MV3.101 Bus 102<br>Voltage Magnitude: 1.02678 pu<br>Latitude: 53.646100<br>Longitude: 11.352100",
          "ID: MV3.101 Bus 19<br>Voltage Magnitude: 1.0289 pu<br>Latitude: 53.639700<br>Longitude: 11.371500",
          "ID: MV3.101 Bus 86<br>Voltage Magnitude: 1.02619 pu<br>Latitude: 53.633200<br>Longitude: 11.363300",
          "ID: MV3.101 Bus 82<br>Voltage Magnitude: 1.02803 pu<br>Latitude: 53.640600<br>Longitude: 11.365400",
          "ID: MV3.101 Bus 50<br>Voltage Magnitude: 1.02777 pu<br>Latitude: 53.659800<br>Longitude: 11.368500",
          "ID: MV3.101 Bus 125<br>Voltage Magnitude: 1.0281 pu<br>Latitude: 53.645600<br>Longitude: 11.375200",
          "ID: MV3.101 Bus 41<br>Voltage Magnitude: 1.03002 pu<br>Latitude: 53.646200<br>Longitude: 11.369100",
          "ID: MV3.101 Bus 52<br>Voltage Magnitude: 1.02961 pu<br>Latitude: 53.648000<br>Longitude: 11.366700",
          "ID: MV3.101 Bus 50_1<br>Voltage Magnitude: 1.02795 pu<br>Latitude: 53.659800<br>Longitude: 11.368500",
          "ID: MV3.101 Bus 77<br>Voltage Magnitude: 1.03007 pu<br>Latitude: 53.645100<br>Longitude: 11.369000",
          "ID: MV3.101 Bus 120<br>Voltage Magnitude: 1.02702 pu<br>Latitude: 53.643100<br>Longitude: 11.378300",
          "ID: MV3.101 Bus 34<br>Voltage Magnitude: 1.0273 pu<br>Latitude: 53.651900<br>Longitude: 11.380500",
          "ID: MV3.101 Bus 143<br>Voltage Magnitude: 1.02611 pu<br>Latitude: 53.648800<br>Longitude: 11.383300",
          "ID: MV3.101 Bus 27<br>Voltage Magnitude: 1.02888 pu<br>Latitude: 53.650500<br>Longitude: 11.370800",
          "ID: MV3.101 Bus 64<br>Voltage Magnitude: 1.0245 pu<br>Latitude: 53.649800<br>Longitude: 11.357800",
          "ID: MV3.101 Bus 68_1<br>Voltage Magnitude: 1.02898 pu<br>Latitude: 53.653100<br>Longitude: 11.358400",
          "ID: MV3.101 Bus 32<br>Voltage Magnitude: 1.0275 pu<br>Latitude: 53.654400<br>Longitude: 11.377700",
          "ID: MV3.101 Bus 134<br>Voltage Magnitude: 1.02661 pu<br>Latitude: 53.647200<br>Longitude: 11.383300",
          "ID: MV3.101 Bus 80<br>Voltage Magnitude: 1.02854 pu<br>Latitude: 53.642000<br>Longitude: 11.366300",
          "ID: MV3.101 Bus 91<br>Voltage Magnitude: 1.02495 pu<br>Latitude: 53.624000<br>Longitude: 11.366000",
          "ID: MV3.101 Bus 75<br>Voltage Magnitude: 1.01994 pu<br>Latitude: 53.652100<br>Longitude: 11.353500",
          "ID: MV3.101 Bus 143_1<br>Voltage Magnitude: 1.02615 pu<br>Latitude: 53.648800<br>Longitude: 11.383300",
          "ID: MV3.101 Bus 115<br>Voltage Magnitude: 1.02395 pu<br>Latitude: 53.632800<br>Longitude: 11.373300",
          "ID: MV3.101 Bus 43<br>Voltage Magnitude: 1.02914 pu<br>Latitude: 53.648900<br>Longitude: 11.368300",
          "ID: MV3.101 Bus 17<br>Voltage Magnitude: 1.02817 pu<br>Latitude: 53.641500<br>Longitude: 11.377600",
          "ID: HV1 Bus 25<br>Voltage Magnitude: 1.025 pu<br>Latitude: 53.645600<br>Longitude: 11.369200",
          "ID: MV3.101 Bus 117<br>Voltage Magnitude: 1.02374 pu<br>Latitude: 53.629700<br>Longitude: 11.373900",
          "ID: MV3.101 Bus 78<br>Voltage Magnitude: 1.02962 pu<br>Latitude: 53.644500<br>Longitude: 11.368300",
          "ID: MV3.101 Bus 49<br>Voltage Magnitude: 1.02778 pu<br>Latitude: 53.659200<br>Longitude: 11.368600",
          "ID: MV3.101 Bus 85<br>Voltage Magnitude: 1.02635 pu<br>Latitude: 53.634000<br>Longitude: 11.363600",
          "ID: MV3.101 Bus 123<br>Voltage Magnitude: 1.02624 pu<br>Latitude: 53.642900<br>Longitude: 11.381500",
          "ID: MV3.101 Bus 76<br>Voltage Magnitude: 1.01989 pu<br>Latitude: 53.650800<br>Longitude: 11.352100",
          "ID: MV3.101 Bus 11<br>Voltage Magnitude: 1.02982 pu<br>Latitude: 53.644100<br>Longitude: 11.369900",
          "ID: MV3.101 Bus 98<br>Voltage Magnitude: 1.02809 pu<br>Latitude: 53.644100<br>Longitude: 11.360900",
          "ID: MV3.101 Bus 18<br>Voltage Magnitude: 1.02814 pu<br>Latitude: 53.642200<br>Longitude: 11.378400",
          "ID: MV3.101 Bus 103<br>Voltage Magnitude: 1.02666 pu<br>Latitude: 53.647700<br>Longitude: 11.351100",
          "ID: MV3.101 Bus 100<br>Voltage Magnitude: 1.0273 pu<br>Latitude: 53.643900<br>Longitude: 11.355800",
          "ID: MV3.101 Bus 37<br>Voltage Magnitude: 1.0298 pu<br>Latitude: 53.647000<br>Longitude: 11.370100",
          "ID: MV3.101 Bus 14<br>Voltage Magnitude: 1.02899 pu<br>Latitude: 53.641100<br>Longitude: 11.371500",
          "ID: MV3.101 Bus 107<br>Voltage Magnitude: 1.02807 pu<br>Latitude: 53.638900<br>Longitude: 11.366900",
          "ID: MV3.101 Bus 105<br>Voltage Magnitude: 1.02957 pu<br>Latitude: 53.643600<br>Longitude: 11.368600",
          "ID: MV3.101 Bus 92<br>Voltage Magnitude: 1.02481 pu<br>Latitude: 53.623600<br>Longitude: 11.368300",
          "ID: MV3.101 Bus 119<br>Voltage Magnitude: 1.02743 pu<br>Latitude: 53.643800<br>Longitude: 11.376700",
          "ID: MV3.101 Bus 73<br>Voltage Magnitude: 1.0203 pu<br>Latitude: 53.655000<br>Longitude: 11.351800",
          "ID: MV3.101 Bus 56<br>Voltage Magnitude: 1.02824 pu<br>Latitude: 53.657900<br>Longitude: 11.363400",
          "ID: MV3.101 Bus 33<br>Voltage Magnitude: 1.02738 pu<br>Latitude: 53.653400<br>Longitude: 11.379400",
          "ID: MV3.101 Bus 15<br>Voltage Magnitude: 1.02861 pu<br>Latitude: 53.640900<br>Longitude: 11.373300",
          "ID: MV3.101 Bus 31<br>Voltage Magnitude: 1.02775 pu<br>Latitude: 53.654500<br>Longitude: 11.375600",
          "ID: MV3.101 Bus 25<br>Voltage Magnitude: 1.02866 pu<br>Latitude: 53.645600<br>Longitude: 11.373800",
          "ID: MV3.101 Bus 60<br>Voltage Magnitude: 1.02894 pu<br>Latitude: 53.646500<br>Longitude: 11.366900",
          "ID: MV3.101 Bus 55<br>Voltage Magnitude: 1.02859 pu<br>Latitude: 53.654400<br>Longitude: 11.363700",
          "ID: MV3.101 Bus 99<br>Voltage Magnitude: 1.0276 pu<br>Latitude: 53.643700<br>Longitude: 11.357700",
          "ID: MV3.101 Bus 124<br>Voltage Magnitude: 1.02615 pu<br>Latitude: 53.643400<br>Longitude: 11.382500",
          "ID: MV3.101 Bus 122<br>Voltage Magnitude: 1.02635 pu<br>Latitude: 53.642800<br>Longitude: 11.381000",
          "ID: MV3.101 Bus 110_1<br>Voltage Magnitude: 1.02636 pu<br>Latitude: 53.634600<br>Longitude: 11.365600",
          "ID: MV3.101 Bus 48<br>Voltage Magnitude: 1.02781 pu<br>Latitude: 53.658500<br>Longitude: 11.368700",
          "ID: MV3.101 Bus 106<br>Voltage Magnitude: 1.02894 pu<br>Latitude: 53.641700<br>Longitude: 11.368000",
          "ID: MV3.101 Bus 128<br>Voltage Magnitude: 1.02764 pu<br>Latitude: 53.645500<br>Longitude: 11.379800",
          "ID: MV3.101 Bus 75_1<br>Voltage Magnitude: 1.02302 pu<br>Latitude: 53.652100<br>Longitude: 11.353500",
          "ID: MV3.101 Bus 71<br>Voltage Magnitude: 1.02065 pu<br>Latitude: 53.656700<br>Longitude: 11.352900",
          "ID: MV3.101 Bus 46<br>Voltage Magnitude: 1.02817 pu<br>Latitude: 53.654100<br>Longitude: 11.368200",
          "ID: MV3.101 BS busbar1A<br>Voltage Magnitude: 1.02829 pu<br>Latitude: 53.646400<br>Longitude: 11.374500",
          "ID: MV3.101 Bus 53<br>Voltage Magnitude: 1.02936 pu<br>Latitude: 53.649200<br>Longitude: 11.365600",
          "ID: MV3.101 Bus 40_1<br>Voltage Magnitude: 1.03016 pu<br>Latitude: 53.646400<br>Longitude: 11.372100",
          "ID: MV3.101 Bus 13<br>Voltage Magnitude: 1.02924 pu<br>Latitude: 53.642100<br>Longitude: 11.370800",
          "ID: MV3.101 Bus 39<br>Voltage Magnitude: 1.02917 pu<br>Latitude: 53.649200<br>Longitude: 11.372000",
          "ID: MV3.101 Bus 66<br>Voltage Magnitude: 1.02335 pu<br>Latitude: 53.651600<br>Longitude: 11.356100",
          "ID: MV3.101 Bus 88<br>Voltage Magnitude: 1.0256 pu<br>Latitude: 53.630300<br>Longitude: 11.362600",
          "ID: MV3.101 Bus 96<br>Voltage Magnitude: 1.02881 pu<br>Latitude: 53.644800<br>Longitude: 11.364000",
          "ID: MV3.101 Bus 69<br>Voltage Magnitude: 1.02191 pu<br>Latitude: 53.654500<br>Longitude: 11.358100",
          "ID: MV3.101 Bus 58<br>Voltage Magnitude: 1.02794 pu<br>Latitude: 53.662000<br>Longitude: 11.364600",
          "ID: MV3.101 Bus 142<br>Voltage Magnitude: 1.02623 pu<br>Latitude: 53.650100<br>Longitude: 11.381100",
          "ID: MV3.101 Bus 127<br>Voltage Magnitude: 1.02775 pu<br>Latitude: 53.645400<br>Longitude: 11.377600",
          "ID: MV3.101 Bus 84<br>Voltage Magnitude: 1.02665 pu<br>Latitude: 53.635300<br>Longitude: 11.363200",
          "ID: MV3.101 Bus 114_1<br>Voltage Magnitude: 1.02884 pu<br>Latitude: 53.634100<br>Longitude: 11.372400",
          "ID: MV3.101 Bus 138<br>Voltage Magnitude: 1.02753 pu<br>Latitude: 53.648100<br>Longitude: 11.375200",
          "ID: MV3.101 Bus 129<br>Voltage Magnitude: 1.02755 pu<br>Latitude: 53.645500<br>Longitude: 11.380900",
          "ID: MV3.101 Bus 130<br>Voltage Magnitude: 1.02798 pu<br>Latitude: 53.646700<br>Longitude: 11.375500",
          "ID: MV3.101 Bus 16<br>Voltage Magnitude: 1.02827 pu<br>Latitude: 53.641000<br>Longitude: 11.376700",
          "ID: MV3.101 Bus 111<br>Voltage Magnitude: 1.02568 pu<br>Latitude: 53.633000<br>Longitude: 11.366800",
          "ID: MV3.101 Bus 68<br>Voltage Magnitude: 1.02232 pu<br>Latitude: 53.653100<br>Longitude: 11.358400",
          "ID: MV3.101 Bus 51<br>Voltage Magnitude: 1.03013 pu<br>Latitude: 53.645900<br>Longitude: 11.368700",
          "ID: MV3.101 Bus 40<br>Voltage Magnitude: 1.02865 pu<br>Latitude: 53.646400<br>Longitude: 11.372100",
          "ID: MV3.101 Bus 67<br>Voltage Magnitude: 1.02302 pu<br>Latitude: 53.652400<br>Longitude: 11.356100",
          "ID: MV3.101 Bus 136<br>Voltage Magnitude: 1.02804 pu<br>Latitude: 53.646900<br>Longitude: 11.374600",
          "ID: MV3.101 Bus 44<br>Voltage Magnitude: 1.02868 pu<br>Latitude: 53.651100<br>Longitude: 11.368200",
          "ID: MV3.101 Bus 114<br>Voltage Magnitude: 1.02414 pu<br>Latitude: 53.634100<br>Longitude: 11.372400",
          "ID: MV3.101 Bus 30<br>Voltage Magnitude: 1.02785 pu<br>Latitude: 53.654300<br>Longitude: 11.375100",
          "ID: MV3.101 Bus 132<br>Voltage Magnitude: 1.02729 pu<br>Latitude: 53.648100<br>Longitude: 11.378400",
          "ID: MV3.101 Bus 63<br>Voltage Magnitude: 1.02584 pu<br>Latitude: 53.648900<br>Longitude: 11.360400",
          "ID: MV3.101 Bus 38<br>Voltage Magnitude: 1.02963 pu<br>Latitude: 53.647700<br>Longitude: 11.370100",
          "ID: MV3.101 Bus 93<br>Voltage Magnitude: 1.0247 pu<br>Latitude: 53.625200<br>Longitude: 11.371400",
          "ID: MV3.101 Bus 135<br>Voltage Magnitude: 1.02657 pu<br>Latitude: 53.646400<br>Longitude: 11.383200",
          "ID: MV3.101 Bus 24<br>Voltage Magnitude: 1.02885 pu<br>Latitude: 53.645400<br>Longitude: 11.373200",
          "ID: MV3.101 Bus 110<br>Voltage Magnitude: 1.02636 pu<br>Latitude: 53.634600<br>Longitude: 11.365600",
          "ID: MV3.101 Bus 97<br>Voltage Magnitude: 1.02833 pu<br>Latitude: 53.644300<br>Longitude: 11.361900",
          "ID: MV3.101 Bus 57<br>Voltage Magnitude: 1.02804 pu<br>Latitude: 53.660300<br>Longitude: 11.363600",
          "ID: MV3.101 Bus 47<br>Voltage Magnitude: 1.02789 pu<br>Latitude: 53.657200<br>Longitude: 11.368600",
          "ID: MV3.101 Bus 20<br>Voltage Magnitude: 1.02886 pu<br>Latitude: 53.638000<br>Longitude: 11.371900",
          "ID: MV3.101 Bus 113<br>Voltage Magnitude: 1.02455 pu<br>Latitude: 53.632100<br>Longitude: 11.370200",
          "ID: MV3.101 Bus 118<br>Voltage Magnitude: 1.0237 pu<br>Latitude: 53.628600<br>Longitude: 11.373700",
          "ID: MV3.101 Bus 126<br>Voltage Magnitude: 1.02794 pu<br>Latitude: 53.645400<br>Longitude: 11.376200",
          "ID: MV3.101 Bus 141<br>Voltage Magnitude: 1.02632 pu<br>Latitude: 53.650200<br>Longitude: 11.380500",
          "ID: MV3.101 Bus 22<br>Voltage Magnitude: 1.02972 pu<br>Latitude: 53.645400<br>Longitude: 11.370600",
          "ID: MV3.101 Bus 140<br>Voltage Magnitude: 1.02676 pu<br>Latitude: 53.650100<br>Longitude: 11.377900",
          "ID: MV3.101 Bus 18_1<br>Voltage Magnitude: 1.02727 pu<br>Latitude: 53.642200<br>Longitude: 11.378400",
          "ID: MV3.101 Bus 42<br>Voltage Magnitude: 1.02972 pu<br>Latitude: 53.646900<br>Longitude: 11.368800",
          "ID: MV3.101 Bus 94<br>Voltage Magnitude: 1.02953 pu<br>Latitude: 53.645300<br>Longitude: 11.366500",
          "ID: MV3.101 Bus 104_1<br>Voltage Magnitude: 1.01989 pu<br>Latitude: 53.649400<br>Longitude: 11.351000",
          "ID: MV3.101 Bus 139<br>Voltage Magnitude: 1.02691 pu<br>Latitude: 53.649900<br>Longitude: 11.377300",
          "ID: MV3.101 Bus 118_1<br>Voltage Magnitude: 1.02471 pu<br>Latitude: 53.628600<br>Longitude: 11.373700",
          "ID: MV3.101 Bus 116<br>Voltage Magnitude: 1.02377 pu<br>Latitude: 53.630600<br>Longitude: 11.373900",
          "ID: MV3.101 Bus 135_1<br>Voltage Magnitude: 1.02756 pu<br>Latitude: 53.646400<br>Longitude: 11.383200",
          "ID: MV3.101 Bus 21<br>Voltage Magnitude: 1.02884 pu<br>Latitude: 53.637100<br>Longitude: 11.372100",
          "ID: MV3.101 Bus 59<br>Voltage Magnitude: 1.02976 pu<br>Latitude: 53.645700<br>Longitude: 11.368200",
          "ID: MV3.101 Bus 12<br>Voltage Magnitude: 1.02935 pu<br>Latitude: 53.642500<br>Longitude: 11.370700",
          "ID: MV3.101 Bus 90<br>Voltage Magnitude: 1.02516 pu<br>Latitude: 53.626100<br>Longitude: 11.363800",
          "ID: MV3.101 Bus 72<br>Voltage Magnitude: 1.02041 pu<br>Latitude: 53.655900<br>Longitude: 11.351900",
          "ID: MV3.101 Bus 133<br>Voltage Magnitude: 1.02682 pu<br>Latitude: 53.648100<br>Longitude: 11.381900",
          "ID: MV3.101 Bus 108<br>Voltage Magnitude: 1.02746 pu<br>Latitude: 53.637000<br>Longitude: 11.366400",
          "ID: MV3.101 Bus 121<br>Voltage Magnitude: 1.0268 pu<br>Latitude: 53.642900<br>Longitude: 11.378900",
          "ID: MV3.101 Bus 62<br>Voltage Magnitude: 1.02704 pu<br>Latitude: 53.648200<br>Longitude: 11.362700",
          "ID: MV3.101 Bus 26<br>Voltage Magnitude: 1.02943 pu<br>Latitude: 53.648500<br>Longitude: 11.369800",
          "ID: MV3.101 Bus 61<br>Voltage Magnitude: 1.0277 pu<br>Latitude: 53.647700<br>Longitude: 11.364100",
          "ID: MV3.101 Bus 29<br>Voltage Magnitude: 1.02805 pu<br>Latitude: 53.653800<br>Longitude: 11.374000",
          "ID: MV3.101 Bus 131<br>Voltage Magnitude: 1.02753 pu<br>Latitude: 53.647900<br>Longitude: 11.377300",
          "ID: MV3.101 Bus 87<br>Voltage Magnitude: 1.02574 pu<br>Latitude: 53.631200<br>Longitude: 11.362700",
          "ID: MV3.101 Bus 70<br>Voltage Magnitude: 1.02123 pu<br>Latitude: 53.656800<br>Longitude: 11.356100",
          "ID: MV3.101 Bus 89<br>Voltage Magnitude: 1.0254 pu<br>Latitude: 53.628500<br>Longitude: 11.362700",
          "ID: MV3.101 Bus 36<br>Voltage Magnitude: 1.03016 pu<br>Latitude: 53.645700<br>Longitude: 11.369700",
          "ID: MV3.101 Bus 74<br>Voltage Magnitude: 1.02012 pu<br>Latitude: 53.653700<br>Longitude: 11.352400",
          "ID: MV3.101 Bus 83<br>Voltage Magnitude: 1.02738 pu<br>Latitude: 53.638400<br>Longitude: 11.364000",
          "ID: MV3.101 Bus 54<br>Voltage Magnitude: 1.02897 pu<br>Latitude: 53.651400<br>Longitude: 11.363800",
          "ID: MV3.101 Bus 95<br>Voltage Magnitude: 1.02907 pu<br>Latitude: 53.645000<br>Longitude: 11.364900",
          "ID: MV3.101 Bus 23<br>Voltage Magnitude: 1.02924 pu<br>Latitude: 53.645300<br>Longitude: 11.372000",
          "ID: MV3.101 Bus 137<br>Voltage Magnitude: 1.02777 pu<br>Latitude: 53.647500<br>Longitude: 11.374800",
          "ID: MV3.101 Bus 79<br>Voltage Magnitude: 1.0291 pu<br>Latitude: 53.643400<br>Longitude: 11.367400",
          "ID: MV3.101 Bus 101<br>Voltage Magnitude: 1.02711 pu<br>Latitude: 53.644300<br>Longitude: 11.354400",
          "ID: MV3.101 Bus 45<br>Voltage Magnitude: 1.02835 pu<br>Latitude: 53.653100<br>Longitude: 11.368200",
          "ID: MV3.101 Bus 35<br>Voltage Magnitude: 1.02726 pu<br>Latitude: 53.651000<br>Longitude: 11.380700",
          "ID: MV3.101 Bus 109<br>Voltage Magnitude: 1.02712 pu<br>Latitude: 53.636300<br>Longitude: 11.366100",
          "ID: MV3.101 Bus 104<br>Voltage Magnitude: 1.02661 pu<br>Latitude: 53.649400<br>Longitude: 11.351000",
          "ID: MV3.101 Bus 65<br>Voltage Magnitude: 1.02399 pu<br>Latitude: 53.650400<br>Longitude: 11.357000",
          "ID: MV3.101 Bus 112<br>Voltage Magnitude: 1.02482 pu<br>Latitude: 53.631500<br>Longitude: 11.369200"
         ],
         "lat": {
          "dtype": "f8",
          "bdata": "GCZTBaPSSkDsUbgehdNKQIqO5PIf0kpACfmgZ7PSSkAnoImw4dFKQOLplbIM0UpAp+hILv/RSkBN845TdNRKQBgmUwWj0kpAbVZ9rrbSSkBt5/up8dJKQE3zjlN01EpAJlMFo5LSSkBfB84ZUdJKQJYhjnVx00pAidLe4AvTSkAlBoGVQ9NKQGx4eqUs00pAQYLix5jTSkBPQBNhw9NKQFD8GHPX0kpAGQRWDi3SSkAdWmQ7389KQF3cRgN400pAidLe4AvTSkBUdCSX/9BKQOwvuycP00pAJzEIrBzSSkAYJlMFo9JKQEYldQKa0EpA0SLb+X7SSkD4wmSqYNRKQP7UeOkm0UpAmEwVjErSSkBPHhZqTdNKQEOtad5x0kpAQ61p3nHSSkDgvg6cM9JKQELPZtXn0kpAfPKwUGvSSkCJQWDl0NJKQJm7lpAP0kpAC7WmecfRSkBR2ht8YdJKQI/k8h/Sz0pAGJXUCWjSSkCkcD0K19NKQOoENBE21EpAa5p3nKLTSkDSAN4CCdJKQLKd76fG00pAGCZTBaPSSkCYbhKDwNJKQE9AE2HD00pAtTf4wmTSSkCKH2PuWtJKQDXvOEVH0kpAUwWjkjrRSkA/NV66SdRKQO7rwDkj0kpAtMh2vp/SSkBd3EYDeNNKQECk374O1EpAJCh+jLnTSkA0ETY8vdJKQBdIUPwY00pANBE2PL3SSkB8YTJVMNJKQBdIUPwY00pAbAn5oGfTSkCbVZ+rrdBKQPs6cM6I0kpAsp3vp8bTSkDb+X5qvNRKQJeQD3o200pAUWuad5zSSkAMk6mCUdFKQGEyVTAq0UpA0ETY8PTSSkC0yHa+n9JKQF8pyxDH0kpANV66SQzSSkAbL90kBtFKQEGC4seY00pAQj7o2azSSkA0ETY8vdJKQIj029eB00pAJuSDns3SSkB6Nqs+V9NKQGEyVTAq0UpA6+I2GsDTSkDQRNjw9NJKQOwvuycP00pAQs9m1efSSkDHuriNBtBKQDQRNjy90kpAUWuad5zSSkBTBaOSOtFKQApoImx40kpAP8bctYTUSkAydy0hH9RKQIts5/up0UpAm+Ydp+jQSkD/If32ddBKQFFrmnec0kpA+u3rwDnTSkBRa5p3nNJKQJeQD3o200pA4L4OnDPSSkAm5IOezdJKQO0NvjCZ0kpA3gIJih/TSkDQ1VbsL9NKQP8h/fZ10EpAxm00gLfQSkA0ETY8vdJKQAskKH6M0UpAe4MvTKbSSkAK16NwPdJKQEcDeAsk0EpAJLn8h/TTSkDQRNjw9NJKQKjGSzeJ0UpAmEwVjErSSkA0orQ3+NJKQF66SQwC00pAQs9m1efSSkD5D+m3r9NKQAmKH2Pu0kpAG55eKcvQSkCjAbwFEtRKQJzEILBy0EpAe4MvTKbSSkCWsgxxrNNKQBniWBe30UpApU5AE2HTSkDD9Shcj9JKQO0NvjCZ0kpAexSuR+HSSkCKH2PuWtJKQApoImx40kpAQYLix5jTSkAX2c73U9NKQO84RUdy0UpA3gIJih/TSkDBqKROQNNKQEa28/3U0EpA"
         },
         "lon": {
          "dtype": "f8",
          "bdata": "zF1LyAe9JkCRD3o2q74mQAisHFpkuyZA3NeBc0a0JkCR7Xw/Nb4mQAtGJXUCuiZAs+pztRW7JkDpJjEIrLwmQBzr4jYawCZAPujZrPq8JkDr4jYawLsmQOkmMQisvCZAsHJoke28JkBSJ6CJsMEmQIlBYOXQwiZAFR3J5T/EJkCutmJ/2b0mQIEExY8xtyZA1sVtNIC3JkD+ZffkYcEmQBUdyeU/xCZAswxxrIu7JkAIrBxaZLsmQKJFtvP9tCZAFR3J5T/EJkCQMXctIb8mQM07TtGRvCZAb/CFyVTBJkDMXUvIB70mQOXyH9JvvyZAzTtO0ZG8JkB4nKIjubwmQLWmeccpuiZAF9nO91PDJkDc14FzRrQmQK+UZYhjvSZAuECC4se4JkDgnBGlvcEmQE9AE2HDsyZAZ9Xnaiu2JkDMf0i/fb0mQJHtfD81viZAB84ZUdq7JkB4nKIjubwmQM07TtGRvCZAcM6I0t7AJkAydy0hH7QmQJm7lpAPuiZAbjSAt0DCJkCQMXctIb8mQFXBqKROwCZAVn2utmK/JkAHzhlR2rsmQEMc6+I2uiZA845TdCS3JkCkcD0K18MmQFCNl24SwyZA0NVW7C+7JkAGEhQ/xrwmQCPb+X5qvCZApgpGJXXCJkCiRbbz/bQmQE2EDU+vtCZAP8bctYS8JkA5tMh2vr8mQNDVVuwvuyZA5q4l5IO+JkCutmJ/2b0mQFg5tMh2viZAETY8vVK2JkAoDwu1prkmQO58PzVeuiZALGUZ4li3JkBCPujZrLomQN4CCYofwyZAb/CFyVTBJkB90LNZ9bkmQJEPejarviZAHOviNhrAJkDCFyZTBcMmQMdLN4lBwCZAcM6I0t7AJkB5WKg1zbsmQNbFbTSAtyZABhIUP8a8JkDmriXkg74mQBE2PL1StiZAxyk6ksu/JkA/xty1hLwmQJEPejarviZAjnVxGw3AJkDgnBGlvcEmQPH0SlmGuCZAzH9Iv329JkADeAskKL4mQIenV8oyxCZAArwFEhS/JkDQ1VbsL7smQEXY8PRKuSZAtaZ5xym6JkB4nKIjubwmQMrDQq1pviZAWvW52oq9JkDIBz2bVb8mQKqCUUmdwCZAiUFg5dDCJkCSy39Iv70mQBpR2ht8wSZA4JwRpb3BJkCUh4Va07wmQM/3U+OluyZAwcqhRbazJkDFjzF3LcEmQMgHPZtVvyZA5fIf0m+/JkCHp1fKMsQmQOauJeSDviZAP8bctYS8JkAgQfFjzL0mQNGRXP5DuiZAwOyePCy0JkBPr5RliMMmQEGC4seYuyZAp+hILv/BJkC2hHzQs7kmQCEf9GxWvSZAfPKwUGu6JkBzaJHtfL8mQMWPMXctwSZAtoR80LO5JkARNjy9UrYmQLaEfNCzuSZAk6mCUUm9JkCGONbFbbQmQO58PzVeuiZA0ZFc/kO6JkDtnjws1LomQFg5tMh2viZA5BQdyeW/JkDOGVHaG7wmQKFns+pztSZAP8bctYS8JkClLEMc68ImQJYhjnVxuyZAwcqhRbazJkAQWDm0yLYmQMxdS8gHvSZA"
         },
         "marker": {
          "color": [
           "#97ff00",
           "#97ff00",
           "#97ff00",
           "#97ff00",
           "#97ff00",
           "#97ff00",
           "#97ff00",
           "#97ff00",
           "#97ff00",
           "#97ff00",
           "#97ff00",
           "#97ff00",
           "#97ff00",
           "#97ff00",
           "#97ff00",
           "#97ff00",
           "#97ff00",
           "#2cff96",
           "#97ff00",
           "#97ff00",
           "#97ff00",
           "#97ff00",
           "#2cff96",
           "#2cff96",
           "#97ff00",
           "#2cff96",
           "#97ff00",
           "#97ff00",
           "#2cff96",
           "#2cff96",
           "#97ff00",
           "#97ff00",
           "#97ff00",
           "#97ff00",
           "#2cff96",
           "#97ff00",
           "#97ff00",
           "#97ff00",
           "#97ff00",
           "#97ff00",
           "#97ff00",
           "#97ff00",
           "#97ff00",
           "#97ff00",
           "#2cff96",
           "#97ff00",
           "#2cff96",
           "#97ff00",
           "#97ff00",
           "#97ff00",
           "#97ff00",
           "#97ff00",
           "#97ff00",
           "#97ff00",
           "#97ff00",
           "#97ff00",
           "#97ff00",
           "#97ff00",
           "#97ff00",
           "#97ff00",
           "#97ff00",
           "#2cff96",
           "#2cff96",
           "#97ff00",
           "#97ff00",
           "#97ff00",
           "#97ff00",
           "#97ff00",
           "#97ff00",
           "#2cff96",
           "#97ff00",
           "#97ff00",
           "#2cff96",
           "#97ff00",
           "#97ff00",
           "#97ff00",
           "#97ff00",
           "#97ff00",
           "#97ff00",
           "#97ff00",
           "#97ff00",
           "#97ff00",
           "#97ff00",
           "#2cff96",
           "#97ff00",
           "#97ff00",
           "#2cff96",
           "#97ff00",
           "#97ff00",
           "#2cff96",
           "#97ff00",
           "#97ff00",
           "#97ff00",
           "#97ff00",
           "#2cff96",
           "#97ff00",
           "#97ff00",
           "#97ff00",
           "#97ff00",
           "#97ff00",
           "#97ff00",
           "#97ff00",
           "#2cff96",
           "#2cff96",
           "#97ff00",
           "#97ff00",
           "#97ff00",
           "#97ff00",
           "#97ff00",
           "#97ff00",
           "#97ff00",
           "#2cff96",
           "#97ff00",
           "#2cff96",
           "#2cff96",
           "#97ff00",
           "#97ff00",
           "#97ff00",
           "#97ff00",
           "#97ff00",
           "#2cff96",
           "#97ff00",
           "#97ff00",
           "#97ff00",
           "#97ff00",
           "#97ff00",
           "#97ff00",
           "#97ff00",
           "#97ff00",
           "#97ff00",
           "#2cff96",
           "#97ff00",
           "#97ff00",
           "#2cff96",
           "#97ff00",
           "#97ff00",
           "#97ff00",
           "#97ff00",
           "#97ff00",
           "#97ff00",
           "#97ff00",
           "#97ff00",
           "#97ff00",
           "#97ff00",
           "#97ff00",
           "#2cff96",
           "#2cff96"
          ],
          "size": 7
         },
         "mode": "markers",
         "showlegend": false,
         "type": "scattermapbox"
        }
       ],
       "layout": {
        "template": {
         "data": {
          "histogram2dcontour": [
           {
            "type": "histogram2dcontour",
            "colorbar": {
             "outlinewidth": 0,
             "ticks": ""
            },
            "colorscale": [
             [
              0.0,
              "#0d0887"
             ],
             [
              0.1111111111111111,
              "#46039f"
             ],
             [
              0.2222222222222222,
              "#7201a8"
             ],
             [
              0.3333333333333333,
              "#9c179e"
             ],
             [
              0.4444444444444444,
              "#bd3786"
             ],
             [
              0.5555555555555556,
              "#d8576b"
             ],
             [
              0.6666666666666666,
              "#ed7953"
             ],
             [
              0.7777777777777778,
              "#fb9f3a"
             ],
             [
              0.8888888888888888,
              "#fdca26"
             ],
             [
              1.0,
              "#f0f921"
             ]
            ]
           }
          ],
          "choropleth": [
           {
            "type": "choropleth",
            "colorbar": {
             "outlinewidth": 0,
             "ticks": ""
            }
           }
          ],
          "histogram2d": [
           {
            "type": "histogram2d",
            "colorbar": {
             "outlinewidth": 0,
             "ticks": ""
            },
            "colorscale": [
             [
              0.0,
              "#0d0887"
             ],
             [
              0.1111111111111111,
              "#46039f"
             ],
             [
              0.2222222222222222,
              "#7201a8"
             ],
             [
              0.3333333333333333,
              "#9c179e"
             ],
             [
              0.4444444444444444,
              "#bd3786"
             ],
             [
              0.5555555555555556,
              "#d8576b"
             ],
             [
              0.6666666666666666,
              "#ed7953"
             ],
             [
              0.7777777777777778,
              "#fb9f3a"
             ],
             [
              0.8888888888888888,
              "#fdca26"
             ],
             [
              1.0,
              "#f0f921"
             ]
            ]
           }
          ],
          "heatmap": [
           {
            "type": "heatmap",
            "colorbar": {
             "outlinewidth": 0,
             "ticks": ""
            },
            "colorscale": [
             [
              0.0,
              "#0d0887"
             ],
             [
              0.1111111111111111,
              "#46039f"
             ],
             [
              0.2222222222222222,
              "#7201a8"
             ],
             [
              0.3333333333333333,
              "#9c179e"
             ],
             [
              0.4444444444444444,
              "#bd3786"
             ],
             [
              0.5555555555555556,
              "#d8576b"
             ],
             [
              0.6666666666666666,
              "#ed7953"
             ],
             [
              0.7777777777777778,
              "#fb9f3a"
             ],
             [
              0.8888888888888888,
              "#fdca26"
             ],
             [
              1.0,
              "#f0f921"
             ]
            ]
           }
          ],
          "contourcarpet": [
           {
            "type": "contourcarpet",
            "colorbar": {
             "outlinewidth": 0,
             "ticks": ""
            }
           }
          ],
          "contour": [
           {
            "type": "contour",
            "colorbar": {
             "outlinewidth": 0,
             "ticks": ""
            },
            "colorscale": [
             [
              0.0,
              "#0d0887"
             ],
             [
              0.1111111111111111,
              "#46039f"
             ],
             [
              0.2222222222222222,
              "#7201a8"
             ],
             [
              0.3333333333333333,
              "#9c179e"
             ],
             [
              0.4444444444444444,
              "#bd3786"
             ],
             [
              0.5555555555555556,
              "#d8576b"
             ],
             [
              0.6666666666666666,
              "#ed7953"
             ],
             [
              0.7777777777777778,
              "#fb9f3a"
             ],
             [
              0.8888888888888888,
              "#fdca26"
             ],
             [
              1.0,
              "#f0f921"
             ]
            ]
           }
          ],
          "surface": [
           {
            "type": "surface",
            "colorbar": {
             "outlinewidth": 0,
             "ticks": ""
            },
            "colorscale": [
             [
              0.0,
              "#0d0887"
             ],
             [
              0.1111111111111111,
              "#46039f"
             ],
             [
              0.2222222222222222,
              "#7201a8"
             ],
             [
              0.3333333333333333,
              "#9c179e"
             ],
             [
              0.4444444444444444,
              "#bd3786"
             ],
             [
              0.5555555555555556,
              "#d8576b"
             ],
             [
              0.6666666666666666,
              "#ed7953"
             ],
             [
              0.7777777777777778,
              "#fb9f3a"
             ],
             [
              0.8888888888888888,
              "#fdca26"
             ],
             [
              1.0,
              "#f0f921"
             ]
            ]
           }
          ],
          "mesh3d": [
           {
            "type": "mesh3d",
            "colorbar": {
             "outlinewidth": 0,
             "ticks": ""
            }
           }
          ],
          "scatter": [
           {
            "fillpattern": {
             "fillmode": "overlay",
             "size": 10,
             "solidity": 0.2
            },
            "type": "scatter"
           }
          ],
          "parcoords": [
           {
            "type": "parcoords",
            "line": {
             "colorbar": {
              "outlinewidth": 0,
              "ticks": ""
             }
            }
           }
          ],
          "scatterpolargl": [
           {
            "type": "scatterpolargl",
            "marker": {
             "colorbar": {
              "outlinewidth": 0,
              "ticks": ""
             }
            }
           }
          ],
          "bar": [
           {
            "error_x": {
             "color": "#2a3f5f"
            },
            "error_y": {
             "color": "#2a3f5f"
            },
            "marker": {
             "line": {
              "color": "#E5ECF6",
              "width": 0.5
             },
             "pattern": {
              "fillmode": "overlay",
              "size": 10,
              "solidity": 0.2
             }
            },
            "type": "bar"
           }
          ],
          "scattergeo": [
           {
            "type": "scattergeo",
            "marker": {
             "colorbar": {
              "outlinewidth": 0,
              "ticks": ""
             }
            }
           }
          ],
          "scatterpolar": [
           {
            "type": "scatterpolar",
            "marker": {
             "colorbar": {
              "outlinewidth": 0,
              "ticks": ""
             }
            }
           }
          ],
          "histogram": [
           {
            "marker": {
             "pattern": {
              "fillmode": "overlay",
              "size": 10,
              "solidity": 0.2
             }
            },
            "type": "histogram"
           }
          ],
          "scattergl": [
           {
            "type": "scattergl",
            "marker": {
             "colorbar": {
              "outlinewidth": 0,
              "ticks": ""
             }
            }
           }
          ],
          "scatter3d": [
           {
            "type": "scatter3d",
            "line": {
             "colorbar": {
              "outlinewidth": 0,
              "ticks": ""
             }
            },
            "marker": {
             "colorbar": {
              "outlinewidth": 0,
              "ticks": ""
             }
            }
           }
          ],
          "scattermap": [
           {
            "type": "scattermap",
            "marker": {
             "colorbar": {
              "outlinewidth": 0,
              "ticks": ""
             }
            }
           }
          ],
          "scattermapbox": [
           {
            "type": "scattermapbox",
            "marker": {
             "colorbar": {
              "outlinewidth": 0,
              "ticks": ""
             }
            }
           }
          ],
          "scatterternary": [
           {
            "type": "scatterternary",
            "marker": {
             "colorbar": {
              "outlinewidth": 0,
              "ticks": ""
             }
            }
           }
          ],
          "scattercarpet": [
           {
            "type": "scattercarpet",
            "marker": {
             "colorbar": {
              "outlinewidth": 0,
              "ticks": ""
             }
            }
           }
          ],
          "carpet": [
           {
            "aaxis": {
             "endlinecolor": "#2a3f5f",
             "gridcolor": "white",
             "linecolor": "white",
             "minorgridcolor": "white",
             "startlinecolor": "#2a3f5f"
            },
            "baxis": {
             "endlinecolor": "#2a3f5f",
             "gridcolor": "white",
             "linecolor": "white",
             "minorgridcolor": "white",
             "startlinecolor": "#2a3f5f"
            },
            "type": "carpet"
           }
          ],
          "table": [
           {
            "cells": {
             "fill": {
              "color": "#EBF0F8"
             },
             "line": {
              "color": "white"
             }
            },
            "header": {
             "fill": {
              "color": "#C8D4E3"
             },
             "line": {
              "color": "white"
             }
            },
            "type": "table"
           }
          ],
          "barpolar": [
           {
            "marker": {
             "line": {
              "color": "#E5ECF6",
              "width": 0.5
             },
             "pattern": {
              "fillmode": "overlay",
              "size": 10,
              "solidity": 0.2
             }
            },
            "type": "barpolar"
           }
          ],
          "pie": [
           {
            "automargin": true,
            "type": "pie"
           }
          ]
         },
         "layout": {
          "autotypenumbers": "strict",
          "colorway": [
           "#636efa",
           "#EF553B",
           "#00cc96",
           "#ab63fa",
           "#FFA15A",
           "#19d3f3",
           "#FF6692",
           "#B6E880",
           "#FF97FF",
           "#FECB52"
          ],
          "font": {
           "color": "#2a3f5f"
          },
          "hovermode": "closest",
          "hoverlabel": {
           "align": "left"
          },
          "paper_bgcolor": "white",
          "plot_bgcolor": "#E5ECF6",
          "polar": {
           "bgcolor": "#E5ECF6",
           "angularaxis": {
            "gridcolor": "white",
            "linecolor": "white",
            "ticks": ""
           },
           "radialaxis": {
            "gridcolor": "white",
            "linecolor": "white",
            "ticks": ""
           }
          },
          "ternary": {
           "bgcolor": "#E5ECF6",
           "aaxis": {
            "gridcolor": "white",
            "linecolor": "white",
            "ticks": ""
           },
           "baxis": {
            "gridcolor": "white",
            "linecolor": "white",
            "ticks": ""
           },
           "caxis": {
            "gridcolor": "white",
            "linecolor": "white",
            "ticks": ""
           }
          },
          "coloraxis": {
           "colorbar": {
            "outlinewidth": 0,
            "ticks": ""
           }
          },
          "colorscale": {
           "sequential": [
            [
             0.0,
             "#0d0887"
            ],
            [
             0.1111111111111111,
             "#46039f"
            ],
            [
             0.2222222222222222,
             "#7201a8"
            ],
            [
             0.3333333333333333,
             "#9c179e"
            ],
            [
             0.4444444444444444,
             "#bd3786"
            ],
            [
             0.5555555555555556,
             "#d8576b"
            ],
            [
             0.6666666666666666,
             "#ed7953"
            ],
            [
             0.7777777777777778,
             "#fb9f3a"
            ],
            [
             0.8888888888888888,
             "#fdca26"
            ],
            [
             1.0,
             "#f0f921"
            ]
           ],
           "sequentialminus": [
            [
             0.0,
             "#0d0887"
            ],
            [
             0.1111111111111111,
             "#46039f"
            ],
            [
             0.2222222222222222,
             "#7201a8"
            ],
            [
             0.3333333333333333,
             "#9c179e"
            ],
            [
             0.4444444444444444,
             "#bd3786"
            ],
            [
             0.5555555555555556,
             "#d8576b"
            ],
            [
             0.6666666666666666,
             "#ed7953"
            ],
            [
             0.7777777777777778,
             "#fb9f3a"
            ],
            [
             0.8888888888888888,
             "#fdca26"
            ],
            [
             1.0,
             "#f0f921"
            ]
           ],
           "diverging": [
            [
             0,
             "#8e0152"
            ],
            [
             0.1,
             "#c51b7d"
            ],
            [
             0.2,
             "#de77ae"
            ],
            [
             0.3,
             "#f1b6da"
            ],
            [
             0.4,
             "#fde0ef"
            ],
            [
             0.5,
             "#f7f7f7"
            ],
            [
             0.6,
             "#e6f5d0"
            ],
            [
             0.7,
             "#b8e186"
            ],
            [
             0.8,
             "#7fbc41"
            ],
            [
             0.9,
             "#4d9221"
            ],
            [
             1,
             "#276419"
            ]
           ]
          },
          "xaxis": {
           "gridcolor": "white",
           "linecolor": "white",
           "ticks": "",
           "title": {
            "standoff": 15
           },
           "zerolinecolor": "white",
           "automargin": true,
           "zerolinewidth": 2
          },
          "yaxis": {
           "gridcolor": "white",
           "linecolor": "white",
           "ticks": "",
           "title": {
            "standoff": 15
           },
           "zerolinecolor": "white",
           "automargin": true,
           "zerolinewidth": 2
          },
          "scene": {
           "xaxis": {
            "backgroundcolor": "#E5ECF6",
            "gridcolor": "white",
            "linecolor": "white",
            "showbackground": true,
            "ticks": "",
            "zerolinecolor": "white",
            "gridwidth": 2
           },
           "yaxis": {
            "backgroundcolor": "#E5ECF6",
            "gridcolor": "white",
            "linecolor": "white",
            "showbackground": true,
            "ticks": "",
            "zerolinecolor": "white",
            "gridwidth": 2
           },
           "zaxis": {
            "backgroundcolor": "#E5ECF6",
            "gridcolor": "white",
            "linecolor": "white",
            "showbackground": true,
            "ticks": "",
            "zerolinecolor": "white",
            "gridwidth": 2
           }
          },
          "shapedefaults": {
           "line": {
            "color": "#2a3f5f"
           }
          },
          "annotationdefaults": {
           "arrowcolor": "#2a3f5f",
           "arrowhead": 0,
           "arrowwidth": 1
          },
          "geo": {
           "bgcolor": "white",
           "landcolor": "#E5ECF6",
           "subunitcolor": "white",
           "showland": true,
           "showlakes": true,
           "lakecolor": "white"
          },
          "title": {
           "x": 0.05
          },
          "mapbox": {
           "style": "light"
          }
         }
        },
        "shapes": [
         {
          "fillcolor": "white",
          "line": {
           "color": "white"
          },
          "type": "rect",
          "x0": 0.95,
          "x1": 1.0,
          "y0": 0.0,
          "y1": 1.0
         }
        ],
        "mapbox": {
         "center": {
          "lat": 53.64525238095238,
          "lon": 11.368850340136055
         },
         "style": "open-street-map",
         "zoom": 11.961600000000004
        },
        "margin": {
         "r": 0,
         "t": 0,
         "l": 0,
         "b": 0
        },
        "showlegend": false
       },
       "config": {
        "plotlyServerURL": "https://plot.ly"
       }
      }
     },
     "metadata": {},
     "output_type": "display_data"
    }
   ],
   "execution_count": 6
  }
 ],
 "metadata": {
  "kernelspec": {
   "display_name": "Python 3",
   "language": "python",
   "name": "python3"
  },
  "language_info": {
   "codemirror_mode": {
    "name": "ipython",
    "version": 2
   },
   "file_extension": ".py",
   "mimetype": "text/x-python",
   "name": "python",
   "nbconvert_exporter": "python",
   "pygments_lexer": "ipython2",
   "version": "2.7.6"
  }
 },
 "nbformat": 4,
 "nbformat_minor": 5
}
