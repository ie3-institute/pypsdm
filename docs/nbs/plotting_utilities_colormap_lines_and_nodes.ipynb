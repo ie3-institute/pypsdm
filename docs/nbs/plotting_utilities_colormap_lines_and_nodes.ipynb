{
 "cells": [
  {
   "cell_type": "code",
   "execution_count": null,
   "id": "initial_id",
   "metadata": {},
   "outputs": [],
   "source": [
    "# Some jupyter notebook magic to reload modules automatically when they change\n",
    "# not necessary for this specific notebook but useful in general\n",
    "%load_ext autoreload\n",
    "%autoreload 2\n",
    "\n",
    "# Gives you high resolution images within the notebook\n",
    "%config InlineBackend.figure_format = 'retina'"
   ]
  },
  {
   "cell_type": "markdown",
   "id": "ecc0f2aea61054d4",
   "metadata": {},
   "source": [
    "# Combined Node and Line traces on colored maps\n",
    "## Load Data\n"
   ]
  },
  {
   "cell_type": "code",
   "execution_count": null,
   "id": "111d54a0414e3808",
   "metadata": {},
   "outputs": [],
   "source": [
    "from definitions import ROOT_DIR\n",
    "import os\n",
    "\n",
    "# The PSDM specific input models can be imported from the pypsdm.models.input and\n",
    "# pypsdm.models.result. The `GridWithResults` container is located in pypsdm.models.gwr\n",
    "from pypsdm.models.gwr import GridWithResults\n",
    "\n",
    "grid_path = os.path.join(ROOT_DIR, \"tests\", \"resources\", \"simbench\", \"input\")\n",
    "result_path = os.path.join(ROOT_DIR, \"tests\", \"resources\", \"simbench\", \"results\")\n",
    "\n",
    "# IO data models in general have a from_csv method to parse psdm files\n",
    "gwr = GridWithResults.from_csv(grid_path, result_path)"
   ]
  },
  {
   "cell_type": "markdown",
   "id": "245cf1730874c5e8",
   "metadata": {},
   "source": [
    "## Get Node and Line Results"
   ]
  },
  {
   "cell_type": "code",
   "execution_count": null,
   "id": "4c86d8fcb5214f59",
   "metadata": {},
   "outputs": [],
   "source": [
    "import pandas as pd\n",
    "\n",
    "nodes_results = gwr.nodes_res\n",
    "\n",
    "# Nodes\n",
    "# We want to plot the nodes voltage magnitude for a specific timestamp, thus we need to filter the data\n",
    "specific_time = pd.to_datetime(\"2016-01-02 12:00:00\")\n",
    "\n",
    "filtered_node_data_dict = {\n",
    "    str(uuid.uuid): node_result.data.at[specific_time, \"v_mag\"]\n",
    "    for uuid, node_result in nodes_results.items()\n",
    "    if specific_time in node_result.data.index\n",
    "}\n",
    "\n",
    "# Lines\n",
    "line_input_data = gwr.lines\n",
    "line_utilization = gwr.lines_res.utilisation(line_input_data, side=\"a\")\n",
    "filtered_line_data_dict = line_utilization.loc[[specific_time]].to_dict()"
   ]
  },
  {
   "cell_type": "markdown",
   "id": "3dab36707eb8776d",
   "metadata": {},
   "source": [
    "## Plot"
   ]
  },
  {
   "cell_type": "code",
   "execution_count": null,
   "id": "d9af772f79a74db0",
   "metadata": {},
   "outputs": [],
   "source": [
    "from pypsdm.plots.grid import grid_plot\n",
    "\n",
    "grid_plot(\n",
    "    gwr.grid,\n",
    "    cmap_lines=\"Jet\",\n",
    "    cmap_line_values=filtered_line_data_dict,\n",
    "    cmap_nodes=\"Rainbow\",\n",
    "    cmap_node_values=filtered_node_data_dict,\n",
    ")"
   ]
  }
 ],
 "metadata": {},
 "nbformat": 4,
 "nbformat_minor": 5
}
