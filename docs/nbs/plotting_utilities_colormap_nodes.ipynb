{
 "cells": [
  {
   "metadata": {},
   "cell_type": "code",
   "source": [
    "# Some jupyter notebook magic to reload modules automatically when they change\n",
    "# not necessary for this specific notebook but useful in general\n",
    "%load_ext autoreload\n",
    "%autoreload 2\n",
    "\n",
    "# Gives you high resolution images within the notebook\n",
    "%config InlineBackend.figure_format = 'retina'"
   ],
   "id": "9c17653699983eab",
   "outputs": [],
   "execution_count": null
  },
  {
   "metadata": {},
   "cell_type": "markdown",
   "source": "# Node traces on colored maps",
   "id": "bceb59d8a805f58a"
  },
  {
   "metadata": {},
   "cell_type": "markdown",
   "source": "## Load Data",
   "id": "e2ca6706f58e03e1"
  },
  {
   "metadata": {},
   "cell_type": "code",
   "source": [
    "from definitions import ROOT_DIR\n",
    "import os\n",
    "\n",
    "# The PSDM specific input models can be imported from the pypsdm.models.input and\n",
    "# pypsdm.models.result. The `GridWithResults` container is located in pypsdm.models.gwr\n",
    "from pypsdm.models.gwr import GridWithResults\n",
    "\n",
    "grid_path = os.path.join(ROOT_DIR, \"tests\", \"resources\", \"simbench\", \"input\")\n",
    "result_path = os.path.join(ROOT_DIR, \"tests\", \"resources\", \"simbench\", \"results\")\n",
    "\n",
    "# IO data models in general have a from_csv method to parse psdm files\n",
    "gwr = GridWithResults.from_csv(grid_path, result_path)"
   ],
   "id": "1b119ec0a08c3ec4",
   "outputs": [],
   "execution_count": null
  },
  {
   "metadata": {},
   "cell_type": "code",
   "source": "## Get Node Results",
   "id": "63688e555b084869",
   "outputs": [],
   "execution_count": null
  },
  {
   "metadata": {},
   "cell_type": "code",
   "source": "nodes_results = gwr.nodes_res",
   "id": "7eab8cd9848133fa",
   "outputs": [],
   "execution_count": null
  },
  {
   "metadata": {},
   "cell_type": "code",
   "source": [
    "import pandas as pd\n",
    "\n",
    "#We want to plot the nodes voltage magnitude for a specific timestamp, thus we need to filter the data\n",
    "specific_time = pd.to_datetime(\"2016-01-02 12:00:00\")\n",
    "\n",
    "filtered_node_data_dict = {\n",
    "    str(uuid.uuid): node_result.data.at[specific_time, \"v_mag\"]\n",
    "    for uuid, node_result in nodes_results.items()\n",
    "    if specific_time in node_result.data.index\n",
    "}"
   ],
   "id": "1ae8d22d37014e73",
   "outputs": [],
   "execution_count": null
  },
  {
   "metadata": {},
   "cell_type": "markdown",
   "source": "## Plot",
   "id": "d08c28abf7c1bb5d"
  },
  {
   "metadata": {},
   "cell_type": "markdown",
   "source": "",
   "id": "8117528db5607105"
  },
  {
   "metadata": {},
   "cell_type": "code",
   "source": [
    "from pypsdm.plots.grid import grid_plot\n",
    "\n",
    "grid_plot(gwr.grid, cmap_nodes=\"Rainbow\", cmap_node_values=filtered_node_data_dict)"
   ],
   "id": "3d515c197e71cdc0",
   "outputs": [],
   "execution_count": null
  }
 ],
 "metadata": {
  "kernelspec": {
   "display_name": "Python 3",
   "language": "python",
   "name": "python3"
  },
  "language_info": {
   "codemirror_mode": {
    "name": "ipython",
    "version": 2
   },
   "file_extension": ".py",
   "mimetype": "text/x-python",
   "name": "python",
   "nbconvert_exporter": "python",
   "pygments_lexer": "ipython2",
   "version": "2.7.6"
  }
 },
 "nbformat": 4,
 "nbformat_minor": 5
}
