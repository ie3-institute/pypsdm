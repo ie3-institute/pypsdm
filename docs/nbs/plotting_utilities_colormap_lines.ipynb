{
 "cells": [
  {
   "metadata": {},
   "cell_type": "code",
   "outputs": [],
   "execution_count": null,
   "source": [
    "# Some jupyter notebook magic to reload modules automatically when they change\n",
    "# not necessary for this specific notebook but useful in general\n",
    "%load_ext autoreload\n",
    "%autoreload 2\n",
    "\n",
    "# Gives you high resolution images within the notebook\n",
    "%config InlineBackend.figure_format = 'retina'"
   ],
   "id": "2ce60deeed9cf2e5"
  },
  {
   "metadata": {},
   "cell_type": "markdown",
   "source": "# Line traces on colored maps",
   "id": "8b2257b793e45017"
  },
  {
   "metadata": {},
   "cell_type": "markdown",
   "source": "## Load Data",
   "id": "af3299a51ce4f699"
  },
  {
   "metadata": {},
   "cell_type": "code",
   "outputs": [],
   "execution_count": null,
   "source": [
    "from definitions import ROOT_DIR\n",
    "import os\n",
    "\n",
    "# The PSDM specific input models can be imported from the pypsdm.models.input and\n",
    "# pypsdm.models.result. The `GridWithResults` container is located in pypsdm.models.gwr\n",
    "from pypsdm.models.gwr import GridWithResults\n",
    "\n",
    "grid_path = os.path.join(ROOT_DIR, \"tests\", \"resources\", \"simbench\", \"input\")\n",
    "result_path = os.path.join(ROOT_DIR, \"tests\", \"resources\", \"simbench\", \"results\")\n",
    "\n",
    "# IO data models in general have a from_csv method to parse psdm files\n",
    "gwr = GridWithResults.from_csv(grid_path, result_path)"
   ],
   "id": "ed91aa65d4df4ed4"
  },
  {
   "metadata": {},
   "cell_type": "code",
   "outputs": [],
   "execution_count": null,
   "source": "## Get Line Results and Calculate Utilisation",
   "id": "382a780e6d535da6"
  },
  {
   "metadata": {},
   "cell_type": "code",
   "outputs": [],
   "execution_count": null,
   "source": [
    "line_input_data = gwr.lines\n",
    "line_utilization = gwr.lines_res.utilisation(line_input_data, side=\"a\")"
   ],
   "id": "b7c84947c2dd97d"
  },
  {
   "metadata": {},
   "cell_type": "markdown",
   "source": "We want to plot the line utilisation for a specific timestamp, thus we need to filter the data",
   "id": "996972adceb10219"
  },
  {
   "metadata": {},
   "cell_type": "code",
   "outputs": [],
   "execution_count": null,
   "source": [
    "import pandas as pd\n",
    "\n",
    "specific_time = pd.to_datetime(\"2016-01-02 12:00:00\")\n",
    "# filter for timestamp\n",
    "filtered_data = line_utilization.loc[[specific_time]].to_dict()"
   ],
   "id": "83c399187545ae71"
  },
  {
   "metadata": {},
   "cell_type": "code",
   "outputs": [],
   "execution_count": null,
   "source": "line_utilization.head()",
   "id": "2832512f97c32dae"
  },
  {
   "metadata": {},
   "cell_type": "code",
   "outputs": [],
   "execution_count": null,
   "source": [
    "from pypsdm.plots.grid import grid_plot\n",
    "\n",
    "grid_plot(\n",
    "    gwr.grid,\n",
    "    cmap_lines=\"Jet\",\n",
    "    cmap_line_values=filtered_data,\n",
    "    cbar_line_title=\"Line Utilisation\",\n",
    ")"
   ],
   "id": "68b4274b9e90738c"
  },
  {
   "metadata": {},
   "cell_type": "code",
   "outputs": [],
   "execution_count": null,
   "source": "",
   "id": "4a934a06855f17f6"
  },
  {
   "metadata": {},
   "cell_type": "code",
   "outputs": [],
   "execution_count": null,
   "source": [
    "from pypsdm.plots.grid import grid_plot\n",
    "\n",
    "# you can use key word 'fixed_line_rating_scale' for 'cmap' to switch to a fixed scale from 0.0. to 1.0\n",
    "\n",
    "grid_plot(\n",
    "    gwr.grid,\n",
    "    cmap_lines=\"fixed_line_rating_scale\",\n",
    "    cmap_line_values=filtered_data,\n",
    "    cbar_line_title=\"Line Utilisation\",\n",
    ")"
   ],
   "id": "9fce05decc81c265"
  },
  {
   "metadata": {},
   "cell_type": "markdown",
   "source": "### Adapt Base Map",
   "id": "c046d734d02120cd"
  },
  {
   "metadata": {},
   "cell_type": "code",
   "outputs": [],
   "execution_count": null,
   "source": [
    "from pypsdm.plots.grid import grid_plot\n",
    "\n",
    "# you can use key word 'fixed_line_rating_scale' for 'cmap' to switch to a fixed scale from 0.0. to 1.0\n",
    "\n",
    "grid_plot(\n",
    "    gwr.grid,\n",
    "    cmap_lines=\"fixed_line_rating_scale\",\n",
    "    cmap_line_values=filtered_data,\n",
    "    cbar_line_title=\"Line Utilisation\",\n",
    "    base_map='white-bg',\n",
    ")"
   ],
   "id": "be1d1cf652b9102b"
  }
 ],
 "metadata": {
  "kernelspec": {
   "display_name": "Python 3",
   "language": "python",
   "name": "python3"
  },
  "language_info": {
   "codemirror_mode": {
    "name": "ipython",
    "version": 2
   },
   "file_extension": ".py",
   "mimetype": "text/x-python",
   "name": "python",
   "nbconvert_exporter": "python",
   "pygments_lexer": "ipython2",
   "version": "2.7.6"
  }
 },
 "nbformat": 4,
 "nbformat_minor": 5
}
