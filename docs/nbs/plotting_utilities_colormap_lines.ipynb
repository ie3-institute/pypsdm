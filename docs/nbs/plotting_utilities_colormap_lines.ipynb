{
 "cells": [
  {
   "cell_type": "code",
   "execution_count": null,
   "id": "initial_id",
   "metadata": {},
   "outputs": [],
   "source": [
    "# Some jupyter notebook magic to reload modules automatically when they change\n",
    "# not necessary for this specific notebook but useful in general\n",
    "%load_ext autoreload\n",
    "%autoreload 2\n",
    "\n",
    "# Gives you high resolution images within the notebook\n",
    "%config InlineBackend.figure_format = 'retina'"
   ]
  },
  {
   "cell_type": "markdown",
   "id": "d6662b0d46a6e404",
   "metadata": {},
   "source": [
    "# Line traces on colored maps\n",
    "## Load Data"
   ]
  },
  {
   "cell_type": "code",
   "execution_count": null,
   "id": "9617feba9a3c1c6d",
   "metadata": {},
   "outputs": [],
   "source": [
    "from definitions import ROOT_DIR\n",
    "import os\n",
    "\n",
    "# The PSDM specific input models can be imported from the pypsdm.models.input and pypsdm.models.result. The `GridWithResults` container is located in pypsdm.models.gwr\n",
    "from pypsdm.models.gwr import GridWithResults\n",
    "\n",
    "grid_path = os.path.join(ROOT_DIR, \"tests\", \"resources\", \"simbench\", \"input\")\n",
    "result_path = os.path.join(ROOT_DIR, \"tests\", \"resources\", \"simbench\", \"results\")\n",
    "\n",
    "# IO data models in general have a from_csv method to parse psdm files\n",
    "gwr = GridWithResults.from_csv(grid_path, result_path)"
   ]
  },
  {
   "cell_type": "markdown",
   "id": "6959702f7312ec75",
   "metadata": {},
   "source": [
    "## Get Line Results and Calculate Utilisation\""
   ]
  },
  {
   "cell_type": "code",
   "execution_count": null,
   "id": "e39f90d349ca2b61",
   "metadata": {},
   "outputs": [],
   "source": [
    "# NBVAL_CHECK_OUTPUT\n",
    "line_input_data = gwr.lines\n",
    "line_utilization = gwr.lines_res.utilisation(line_input_data, side=\"a\")"
   ]
  },
  {
   "cell_type": "markdown",
   "id": "a23be924218d2ba",
   "metadata": {},
   "source": [
    "We want to plot the line utilisation for a specific timestamp, thus we need to filter the data"
   ]
  },
  {
   "cell_type": "code",
   "execution_count": null,
   "id": "56fa0ecb6c65bf9c",
   "metadata": {},
   "outputs": [],
   "source": [
    "# NBVAL_CHECK_OUTPUT\n",
    "import pandas as pd\n",
    "\n",
    "specific_time = pd.to_datetime(\"2016-01-02 12:00:00\")\n",
    "# filter for timestamp\n",
    "filtered_data = line_utilization.loc[[specific_time]].to_dict()"
   ]
  },
  {
   "cell_type": "code",
   "execution_count": null,
   "id": "1752ec85e1e70561",
   "metadata": {},
   "outputs": [],
   "source": [
    "line_utilization"
   ]
  },
  {
   "cell_type": "code",
   "execution_count": null,
   "id": "3ece4940b8ce63ce",
   "metadata": {},
   "outputs": [],
   "source": [
    "from pypsdm.plots.grid import grid_plot\n",
    "\n",
    "# you can use key word 'fixed_line_rating_scale' for 'cmap' to switch to a fixed scale from 0.0. to 1.0,\n",
    "\n",
    "grid_plot(\n",
    "    gwr.grid,\n",
    "    cmap_lines=\"fixed_line_rating_scale\",\n",
    "    cmap_line_values=filtered_data,\n",
    "    cbar_line_title=\"Line Utilisation\",\n",
    ")"
   ]
  },
  {
   "cell_type": "code",
   "execution_count": null,
   "id": "e88497b3ccd3b068",
   "metadata": {},
   "outputs": [],
   "source": [
    "from pypsdm.plots.grid import grid_plot\n",
    "\n",
    "# you can adapt the base map via 'mapbox_style'\n",
    "\n",
    "grid_plot(\n",
    "    gwr.grid,\n",
    "    cmap_lines=\"fixed_line_rating_scale\",\n",
    "    cmap_line_values=filtered_data,\n",
    "    cbar_line_title=\"Line Utilisation\",\n",
    "    mapbox_style=\"white-bg\",\n",
    ")"
   ]
  }
 ],
 "metadata": {
  "kernelspec": {
   "display_name": "Python 3",
   "language": "python",
   "name": "python3"
  },
  "language_info": {
   "codemirror_mode": {
    "name": "ipython",
    "version": 2
   },
   "file_extension": ".py",
   "mimetype": "text/x-python",
   "name": "python",
   "nbconvert_exporter": "python",
   "pygments_lexer": "ipython2"
  }
 },
 "nbformat": 4,
 "nbformat_minor": 5
}
