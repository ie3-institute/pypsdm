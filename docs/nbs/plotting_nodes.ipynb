{
 "cells": [
  {
   "cell_type": "code",
   "execution_count": null,
   "id": "initial_id",
   "metadata": {
    "collapsed": true
   },
   "outputs": [],
   "source": [
    "# Some jupyter notebook magic to reload modules automatically when they change\n",
    "# not necessary for this specific notebook but useful in general\n",
    "%load_ext autoreload\n",
    "%autoreload 2\n",
    "\n",
    "# Gives you high resolution images within the notebook\n",
    "%config InlineBackend.figure_format = 'retina'"
   ]
  },
  {
   "metadata": {},
   "cell_type": "code",
   "outputs": [],
   "execution_count": null,
   "source": [
    "# Node traces on colored maps\n",
    "## Load Data"
   ],
   "id": "1f7515ae946ecb58"
  },
  {
   "metadata": {},
   "cell_type": "code",
   "outputs": [],
   "execution_count": null,
   "source": [
    "from definitions import ROOT_DIR\n",
    "import os\n",
    "\n",
    "# The PSDM specific input models can be imported from the pypsdm.models.input and\n",
    "# pypsdm.models.result. The `GridWithResults` container is located in pypsdm.models.gwr\n",
    "from pypsdm.models.gwr import GridWithResults\n",
    "\n",
    "grid_path = os.path.join(ROOT_DIR, \"tests\", \"resources\", \"simbench\", \"input\")\n",
    "result_path = os.path.join(ROOT_DIR, \"tests\", \"resources\", \"simbench\", \"results\")\n",
    "\n",
    "# IO data models in general have a from_csv method to parse psdm files\n",
    "gwr = GridWithResults.from_csv(grid_path, result_path)\n"
   ],
   "id": "4e28588b0754acf6"
  },
  {
   "metadata": {},
   "cell_type": "markdown",
   "source": "## Get Node Results",
   "id": "465ca15787fcbbb1"
  },
  {
   "metadata": {},
   "cell_type": "code",
   "outputs": [],
   "execution_count": null,
   "source": "nodes_results = gwr.nodes_res",
   "id": "d4c3e4a37049e5d1"
  },
  {
   "metadata": {},
   "cell_type": "code",
   "outputs": [],
   "execution_count": null,
   "source": [
    "import pandas as pd\n",
    "\n",
    "# We want to plot the nodes voltage magnitude for a specific timestamp, thus we need to filter the data\n",
    "specific_time = pd.to_datetime(\"2016-01-02 12:00:00\")\n",
    "\n",
    "filtered_node_data_dict = {\n",
    "    str(uuid.uuid): node_result.data.at[specific_time, \"v_mag\"]\n",
    "    for uuid, node_result in nodes_results.items()\n",
    "    if specific_time in node_result.data.index\n",
    "}"
   ],
   "id": "d4e2c270acf7c8a9"
  },
  {
   "metadata": {},
   "cell_type": "markdown",
   "source": "## Plot",
   "id": "bd5fdde043c017f3"
  },
  {
   "metadata": {},
   "cell_type": "code",
   "outputs": [],
   "execution_count": null,
   "source": [
    "from pypsdm.plots.grid import grid_plot\n",
    "\n",
    "grid_plot(gwr.grid, cmap_nodes=\"Rainbow\", cmap_node_values=filtered_node_data_dict)"
   ],
   "id": "76936275b3496f4d"
  }
 ],
 "metadata": {
  "kernelspec": {
   "display_name": "Python 3",
   "language": "python",
   "name": "python3"
  },
  "language_info": {
   "codemirror_mode": {
    "name": "ipython",
    "version": 2
   },
   "file_extension": ".py",
   "mimetype": "text/x-python",
   "name": "python",
   "nbconvert_exporter": "python",
   "pygments_lexer": "ipython2",
   "version": "2.7.6"
  }
 },
 "nbformat": 4,
 "nbformat_minor": 5
}
