{
 "cells": [
  {
   "cell_type": "code",
   "id": "initial_id",
   "metadata": {
    "collapsed": true,
    "ExecuteTime": {
     "end_time": "2025-07-28T08:21:28.233521Z",
     "start_time": "2025-07-28T08:21:28.170273Z"
    }
   },
   "source": [
    "# Some jupyter notebook magic to reload modules automatically when they change\n",
    "# not necessary for this specific notebook but useful in general\n",
    "%load_ext autoreload\n",
    "%autoreload 2\n",
    "\n",
    "# Gives you high resolution images within the notebook\n",
    "%config InlineBackend.figure_format = 'retina'"
   ],
   "outputs": [],
   "execution_count": 1
  },
  {
   "metadata": {
    "ExecuteTime": {
     "end_time": "2025-07-28T08:19:22.592941Z",
     "start_time": "2025-07-28T08:19:22.585407Z"
    }
   },
   "cell_type": "markdown",
   "source": "# Line traces on colored maps",
   "id": "f6765ca12542147a"
  },
  {
   "metadata": {
    "ExecuteTime": {
     "end_time": "2025-07-28T08:19:22.641969Z",
     "start_time": "2025-07-28T08:19:22.631860Z"
    }
   },
   "cell_type": "markdown",
   "source": "## Load Data",
   "id": "cbd9309ba1a29dee"
  },
  {
   "metadata": {
    "ExecuteTime": {
     "end_time": "2025-07-28T08:21:32.473951Z",
     "start_time": "2025-07-28T08:21:28.239900Z"
    }
   },
   "cell_type": "code",
   "source": [
    "from definitions import ROOT_DIR\n",
    "import os\n",
    "\n",
    "# The PSDM specific input models can be imported from the pypsdm.models.input and\n",
    "# pypsdm.models.result. The `GridWithResults` container is located in pypsdm.models.gwr\n",
    "from pypsdm.models.gwr import GridWithResults\n",
    "\n",
    "\n",
    "grid_path = os.path.join(ROOT_DIR, \"tests\", \"resources\", \"simbench\", \"input\")\n",
    "result_path = os.path.join(ROOT_DIR, \"tests\", \"resources\", \"simbench\", \"results\")\n",
    "\n",
    "# IO data models in general have a from_csv method to parse psdm files\n",
    "gwr = GridWithResults.from_csv(grid_path, result_path)"
   ],
   "id": "811a530382df88a9",
   "outputs": [
    {
     "name": "stderr",
     "output_type": "stream",
     "text": [
      "\u001b[32m2025-07-28 10:21:29.859\u001b[0m | \u001b[1mINFO    \u001b[0m | \u001b[36mpypsdm.models.gwr\u001b[0m:\u001b[36mfrom_csv\u001b[0m:\u001b[36m289\u001b[0m - \u001b[1mReading grid from /home/smdafeis/github/pypsdm/tests/resources/simbench/input\u001b[0m\n",
      "\u001b[32m2025-07-28 10:21:30.225\u001b[0m | \u001b[34m\u001b[1mDEBUG   \u001b[0m | \u001b[36mpypsdm.models.primary_data\u001b[0m:\u001b[36mfrom_csv\u001b[0m:\u001b[36m273\u001b[0m - \u001b[34m\u001b[1mNo primary data in path /home/smdafeis/github/pypsdm/tests/resources/simbench/input\u001b[0m\n",
      "\u001b[32m2025-07-28 10:21:30.226\u001b[0m | \u001b[1mINFO    \u001b[0m | \u001b[36mpypsdm.models.gwr\u001b[0m:\u001b[36mfrom_csv\u001b[0m:\u001b[36m301\u001b[0m - \u001b[1mReading results from /home/smdafeis/github/pypsdm/tests/resources/simbench/results\u001b[0m\n"
     ]
    }
   ],
   "execution_count": 2
  },
  {
   "metadata": {
    "ExecuteTime": {
     "end_time": "2025-07-28T08:21:35.548812Z",
     "start_time": "2025-07-28T08:21:35.528608Z"
    }
   },
   "cell_type": "code",
   "source": "## Get Line Results and Calculate Utilisation",
   "id": "35885ca16723e27c",
   "outputs": [],
   "execution_count": 3
  },
  {
   "metadata": {
    "ExecuteTime": {
     "end_time": "2025-07-28T08:21:35.755123Z",
     "start_time": "2025-07-28T08:21:35.574794Z"
    }
   },
   "cell_type": "code",
   "source": [
    "line_input_data = gwr.lines\n",
    "line_utilization = gwr.lines_res.utilisation(line_input_data, side=\"a\")"
   ],
   "id": "39f2f37c5a80d31f",
   "outputs": [],
   "execution_count": 4
  },
  {
   "metadata": {},
   "cell_type": "markdown",
   "source": "We want to plot the line utilisation for a specific timestamp, thus we need to filter the data",
   "id": "32d63b9caad36791"
  },
  {
   "metadata": {
    "ExecuteTime": {
     "end_time": "2025-07-28T08:21:35.787990Z",
     "start_time": "2025-07-28T08:21:35.760656Z"
    }
   },
   "cell_type": "code",
   "source": [
    "import pandas as pd\n",
    "\n",
    "specific_time = pd.to_datetime(\"2016-01-02 12:00:00\")\n",
    "# filter for timestamp\n",
    "filtered_data = line_utilization.loc[[specific_time]].to_dict()"
   ],
   "id": "c1bbd9d6cc7aed1b",
   "outputs": [],
   "execution_count": 5
  },
  {
   "metadata": {
    "ExecuteTime": {
     "end_time": "2025-07-28T08:21:36.295072Z",
     "start_time": "2025-07-28T08:21:35.805696Z"
    }
   },
   "cell_type": "code",
   "source": [
    "from pypsdm.plots.grid import grid_plot\n",
    "\n",
    "grid_plot(gwr.grid, cmap=\"Jet\", cmap_vals=filtered_data, cbar_title=\"Line Utilisation\")"
   ],
   "id": "4002a9d3cafbba4",
   "outputs": [
    {
     "data": {
      "application/vnd.plotly.v1+json": {
       "data": [
        {
         "hoverinfo": "skip",
         "lat": [
          53.6456,
          53.6441
         ],
         "line": {
          "color": "#05ffff",
          "width": 2
         },
         "lon": [
          11.3692,
          11.3699
         ],
         "mode": "lines",
         "showlegend": false,
         "type": "scattermapbox"
        },
        {
         "hoverinfo": "skip",
         "lat": [
          53.6456
         ],
         "lon": [
          11.3692
         ],
         "marker": {
          "cmax": 0.3900003389323528,
          "cmin": 0.0005069367152221342,
          "color": [
           0.2318361107270198
          ],
          "colorbar": {
           "title": {
            "text": "Line Utilisation"
           },
           "x": 1.02
          },
          "colorscale": [
           [
            0.0,
            "rgb(0,0,131)"
           ],
           [
            0.2,
            "rgb(0,60,170)"
           ],
           [
            0.4,
            "rgb(5,255,255)"
           ],
           [
            0.6,
            "rgb(255,255,0)"
           ],
           [
            0.8,
            "rgb(250,0,0)"
           ],
           [
            1.0,
            "rgb(128,0,0)"
           ]
          ],
          "opacity": 0,
          "showscale": true,
          "size": 0.1
         },
         "mode": "markers",
         "showlegend": false,
         "type": "scattermapbox"
        },
        {
         "hoverinfo": "text",
         "hovertext": "MV3.101 Line 1<br>Line Utilisation: 0.232",
         "lat": [
          53.644850000000005
         ],
         "lon": [
          11.36955
         ],
         "marker": {
          "color": "#05ffff",
          "opacity": 0,
          "size": 0
         },
         "mode": "markers",
         "showlegend": false,
         "type": "scattermapbox"
        },
        {
         "hoverinfo": "skip",
         "lat": [
          53.6438,
          53.6431
         ],
         "line": {
          "color": "#05ffff",
          "width": 2
         },
         "lon": [
          11.3767,
          11.3783
         ],
         "mode": "lines",
         "showlegend": false,
         "type": "scattermapbox"
        },
        {
         "hoverinfo": "skip",
         "lat": [
          53.6438
         ],
         "lon": [
          11.3767
         ],
         "marker": {
          "cmax": 0.3900003389323528,
          "cmin": 0.0005069367152221342,
          "color": [
           0.1664741613111805
          ],
          "colorbar": {
           "title": {
            "text": "Line Utilisation"
           },
           "x": 1.02
          },
          "colorscale": [
           [
            0.0,
            "rgb(0,0,131)"
           ],
           [
            0.2,
            "rgb(0,60,170)"
           ],
           [
            0.4,
            "rgb(5,255,255)"
           ],
           [
            0.6,
            "rgb(255,255,0)"
           ],
           [
            0.8,
            "rgb(250,0,0)"
           ],
           [
            1.0,
            "rgb(128,0,0)"
           ]
          ],
          "opacity": 0,
          "showscale": true,
          "size": 0.1
         },
         "mode": "markers",
         "showlegend": false,
         "type": "scattermapbox"
        },
        {
         "hoverinfo": "text",
         "hovertext": "MV3.101 Line 110<br>Line Utilisation: 0.166",
         "lat": [
          53.64345
         ],
         "lon": [
          11.3775
         ],
         "marker": {
          "color": "#05ffff",
          "opacity": 0,
          "size": 0
         },
         "mode": "markers",
         "showlegend": false,
         "type": "scattermapbox"
        },
        {
         "hoverinfo": "skip",
         "lat": [
          53.6297,
          53.6286
         ],
         "line": {
          "color": "#000083",
          "width": 2
         },
         "lon": [
          11.3739,
          11.3737
         ],
         "mode": "lines",
         "showlegend": false,
         "type": "scattermapbox"
        },
        {
         "hoverinfo": "skip",
         "lat": [
          53.6297
         ],
         "lon": [
          11.3739
         ],
         "marker": {
          "cmax": 0.3900003389323528,
          "cmin": 0.0005069367152221342,
          "color": [
           0.021453719657123223
          ],
          "colorbar": {
           "title": {
            "text": "Line Utilisation"
           },
           "x": 1.02
          },
          "colorscale": [
           [
            0.0,
            "rgb(0,0,131)"
           ],
           [
            0.2,
            "rgb(0,60,170)"
           ],
           [
            0.4,
            "rgb(5,255,255)"
           ],
           [
            0.6,
            "rgb(255,255,0)"
           ],
           [
            0.8,
            "rgb(250,0,0)"
           ],
           [
            1.0,
            "rgb(128,0,0)"
           ]
          ],
          "opacity": 0,
          "showscale": true,
          "size": 0.1
         },
         "mode": "markers",
         "showlegend": false,
         "type": "scattermapbox"
        },
        {
         "hoverinfo": "text",
         "hovertext": "MV3.101 Line 108<br>Line Utilisation: 0.021",
         "lat": [
          53.629149999999996
         ],
         "lon": [
          11.3738
         ],
         "marker": {
          "color": "#000083",
          "opacity": 0,
          "size": 0
         },
         "mode": "markers",
         "showlegend": false,
         "type": "scattermapbox"
        },
        {
         "hoverinfo": "skip",
         "lat": [
          53.6454,
          53.6453
         ],
         "line": {
          "color": "#ffff00",
          "width": 2
         },
         "lon": [
          11.3706,
          11.372
         ],
         "mode": "lines",
         "showlegend": false,
         "type": "scattermapbox"
        },
        {
         "hoverinfo": "skip",
         "lat": [
          53.6454
         ],
         "lon": [
          11.3706
         ],
         "marker": {
          "cmax": 0.3900003389323528,
          "cmin": 0.0005069367152221342,
          "color": [
           0.23434405629456329
          ],
          "colorbar": {
           "title": {
            "text": "Line Utilisation"
           },
           "x": 1.02
          },
          "colorscale": [
           [
            0.0,
            "rgb(0,0,131)"
           ],
           [
            0.2,
            "rgb(0,60,170)"
           ],
           [
            0.4,
            "rgb(5,255,255)"
           ],
           [
            0.6,
            "rgb(255,255,0)"
           ],
           [
            0.8,
            "rgb(250,0,0)"
           ],
           [
            1.0,
            "rgb(128,0,0)"
           ]
          ],
          "opacity": 0,
          "showscale": true,
          "size": 0.1
         },
         "mode": "markers",
         "showlegend": false,
         "type": "scattermapbox"
        },
        {
         "hoverinfo": "text",
         "hovertext": "MV3.101 Line 13<br>Line Utilisation: 0.234",
         "lat": [
          53.64535
         ],
         "lon": [
          11.3713
         ],
         "marker": {
          "color": "#ffff00",
          "opacity": 0,
          "size": 0
         },
         "mode": "markers",
         "showlegend": false,
         "type": "scattermapbox"
        },
        {
         "hoverinfo": "skip",
         "lat": [
          53.6406,
          53.6384
         ],
         "line": {
          "color": "#05ffff",
          "width": 2
         },
         "lon": [
          11.3654,
          11.364
         ],
         "mode": "lines",
         "showlegend": false,
         "type": "scattermapbox"
        },
        {
         "hoverinfo": "skip",
         "lat": [
          53.6406
         ],
         "lon": [
          11.3654
         ],
         "marker": {
          "cmax": 0.3900003389323528,
          "cmin": 0.0005069367152221342,
          "color": [
           0.20558830973995693
          ],
          "colorbar": {
           "title": {
            "text": "Line Utilisation"
           },
           "x": 1.02
          },
          "colorscale": [
           [
            0.0,
            "rgb(0,0,131)"
           ],
           [
            0.2,
            "rgb(0,60,170)"
           ],
           [
            0.4,
            "rgb(5,255,255)"
           ],
           [
            0.6,
            "rgb(255,255,0)"
           ],
           [
            0.8,
            "rgb(250,0,0)"
           ],
           [
            1.0,
            "rgb(128,0,0)"
           ]
          ],
          "opacity": 0,
          "showscale": true,
          "size": 0.1
         },
         "mode": "markers",
         "showlegend": false,
         "type": "scattermapbox"
        },
        {
         "hoverinfo": "text",
         "hovertext": "MV3.101 Line 73<br>Line Utilisation: 0.206",
         "lat": [
          53.6395
         ],
         "lon": [
          11.3647
         ],
         "marker": {
          "color": "#05ffff",
          "opacity": 0,
          "size": 0
         },
         "mode": "markers",
         "showlegend": false,
         "type": "scattermapbox"
        },
        {
         "hoverinfo": "skip",
         "lat": [
          53.6501,
          53.6502
         ],
         "line": {
          "color": "#003caa",
          "width": 2
         },
         "lon": [
          11.3779,
          11.3805
         ],
         "mode": "lines",
         "showlegend": false,
         "type": "scattermapbox"
        },
        {
         "hoverinfo": "skip",
         "lat": [
          53.6501
         ],
         "lon": [
          11.3779
         ],
         "marker": {
          "cmax": 0.3900003389323528,
          "cmin": 0.0005069367152221342,
          "color": [
           0.12012100016550184
          ],
          "colorbar": {
           "title": {
            "text": "Line Utilisation"
           },
           "x": 1.02
          },
          "colorscale": [
           [
            0.0,
            "rgb(0,0,131)"
           ],
           [
            0.2,
            "rgb(0,60,170)"
           ],
           [
            0.4,
            "rgb(5,255,255)"
           ],
           [
            0.6,
            "rgb(255,255,0)"
           ],
           [
            0.8,
            "rgb(250,0,0)"
           ],
           [
            1.0,
            "rgb(128,0,0)"
           ]
          ],
          "opacity": 0,
          "showscale": true,
          "size": 0.1
         },
         "mode": "markers",
         "showlegend": false,
         "type": "scattermapbox"
        },
        {
         "hoverinfo": "text",
         "hovertext": "MV3.101 Line 131<br>Line Utilisation: 0.120",
         "lat": [
          53.65015
         ],
         "lon": [
          11.3792
         ],
         "marker": {
          "color": "#003caa",
          "opacity": 0,
          "size": 0
         },
         "mode": "markers",
         "showlegend": false,
         "type": "scattermapbox"
        },
        {
         "hoverinfo": "skip",
         "lat": [
          53.6456,
          53.6459
         ],
         "line": {
          "color": "#05ffff",
          "width": 2
         },
         "lon": [
          11.3692,
          11.3687
         ],
         "mode": "lines",
         "showlegend": false,
         "type": "scattermapbox"
        },
        {
         "hoverinfo": "skip",
         "lat": [
          53.6456
         ],
         "lon": [
          11.3692
         ],
         "marker": {
          "cmax": 0.3900003389323528,
          "cmin": 0.0005069367152221342,
          "color": [
           0.15900863204431767
          ],
          "colorbar": {
           "title": {
            "text": "Line Utilisation"
           },
           "x": 1.02
          },
          "colorscale": [
           [
            0.0,
            "rgb(0,0,131)"
           ],
           [
            0.2,
            "rgb(0,60,170)"
           ],
           [
            0.4,
            "rgb(5,255,255)"
           ],
           [
            0.6,
            "rgb(255,255,0)"
           ],
           [
            0.8,
            "rgb(250,0,0)"
           ],
           [
            1.0,
            "rgb(128,0,0)"
           ]
          ],
          "opacity": 0,
          "showscale": true,
          "size": 0.1
         },
         "mode": "markers",
         "showlegend": false,
         "type": "scattermapbox"
        },
        {
         "hoverinfo": "text",
         "hovertext": "MV3.101 Line 41<br>Line Utilisation: 0.159",
         "lat": [
          53.64575
         ],
         "lon": [
          11.36895
         ],
         "marker": {
          "color": "#05ffff",
          "opacity": 0,
          "size": 0
         },
         "mode": "markers",
         "showlegend": false,
         "type": "scattermapbox"
        },
        {
         "hoverinfo": "skip",
         "lat": [
          53.6425,
          53.6421
         ],
         "line": {
          "color": "#05ffff",
          "width": 2
         },
         "lon": [
          11.3707,
          11.3708
         ],
         "mode": "lines",
         "showlegend": false,
         "type": "scattermapbox"
        },
        {
         "hoverinfo": "skip",
         "lat": [
          53.6425
         ],
         "lon": [
          11.3707
         ],
         "marker": {
          "cmax": 0.3900003389323528,
          "cmin": 0.0005069367152221342,
          "color": [
           0.19472427644398432
          ],
          "colorbar": {
           "title": {
            "text": "Line Utilisation"
           },
           "x": 1.02
          },
          "colorscale": [
           [
            0.0,
            "rgb(0,0,131)"
           ],
           [
            0.2,
            "rgb(0,60,170)"
           ],
           [
            0.4,
            "rgb(5,255,255)"
           ],
           [
            0.6,
            "rgb(255,255,0)"
           ],
           [
            0.8,
            "rgb(250,0,0)"
           ],
           [
            1.0,
            "rgb(128,0,0)"
           ]
          ],
          "opacity": 0,
          "showscale": true,
          "size": 0.1
         },
         "mode": "markers",
         "showlegend": false,
         "type": "scattermapbox"
        },
        {
         "hoverinfo": "text",
         "hovertext": "MV3.101 Line 3<br>Line Utilisation: 0.195",
         "lat": [
          53.6423
         ],
         "lon": [
          11.37075
         ],
         "marker": {
          "color": "#05ffff",
          "opacity": 0,
          "size": 0
         },
         "mode": "markers",
         "showlegend": false,
         "type": "scattermapbox"
        },
        {
         "hoverinfo": "skip",
         "lat": [
          53.6477,
          53.6482
         ],
         "line": {
          "color": "#fa0000",
          "width": 2
         },
         "lon": [
          11.3641,
          11.3627
         ],
         "mode": "lines",
         "showlegend": false,
         "type": "scattermapbox"
        },
        {
         "hoverinfo": "skip",
         "lat": [
          53.6477
         ],
         "lon": [
          11.3641
         ],
         "marker": {
          "cmax": 0.3900003389323528,
          "cmin": 0.0005069367152221342,
          "color": [
           0.3246144232026675
          ],
          "colorbar": {
           "title": {
            "text": "Line Utilisation"
           },
           "x": 1.02
          },
          "colorscale": [
           [
            0.0,
            "rgb(0,0,131)"
           ],
           [
            0.2,
            "rgb(0,60,170)"
           ],
           [
            0.4,
            "rgb(5,255,255)"
           ],
           [
            0.6,
            "rgb(255,255,0)"
           ],
           [
            0.8,
            "rgb(250,0,0)"
           ],
           [
            1.0,
            "rgb(128,0,0)"
           ]
          ],
          "opacity": 0,
          "showscale": true,
          "size": 0.1
         },
         "mode": "markers",
         "showlegend": false,
         "type": "scattermapbox"
        },
        {
         "hoverinfo": "text",
         "hovertext": "MV3.101 Line 52<br>Line Utilisation: 0.325",
         "lat": [
          53.64795
         ],
         "lon": [
          11.3634
         ],
         "marker": {
          "color": "#fa0000",
          "opacity": 0,
          "size": 0
         },
         "mode": "markers",
         "showlegend": false,
         "type": "scattermapbox"
        },
        {
         "hoverinfo": "skip",
         "lat": [
          53.6456,
          53.6457
         ],
         "line": {
          "color": "#05ffff",
          "width": 2
         },
         "lon": [
          11.3692,
          11.3697
         ],
         "mode": "lines",
         "showlegend": false,
         "type": "scattermapbox"
        },
        {
         "hoverinfo": "skip",
         "lat": [
          53.6456
         ],
         "lon": [
          11.3692
         ],
         "marker": {
          "cmax": 0.3900003389323528,
          "cmin": 0.0005069367152221342,
          "color": [
           0.1927756935404142
          ],
          "colorbar": {
           "title": {
            "text": "Line Utilisation"
           },
           "x": 1.02
          },
          "colorscale": [
           [
            0.0,
            "rgb(0,0,131)"
           ],
           [
            0.2,
            "rgb(0,60,170)"
           ],
           [
            0.4,
            "rgb(5,255,255)"
           ],
           [
            0.6,
            "rgb(255,255,0)"
           ],
           [
            0.8,
            "rgb(250,0,0)"
           ],
           [
            1.0,
            "rgb(128,0,0)"
           ]
          ],
          "opacity": 0,
          "showscale": true,
          "size": 0.1
         },
         "mode": "markers",
         "showlegend": false,
         "type": "scattermapbox"
        },
        {
         "hoverinfo": "text",
         "hovertext": "MV3.101 Line 26<br>Line Utilisation: 0.193",
         "lat": [
          53.64565
         ],
         "lon": [
          11.36945
         ],
         "marker": {
          "color": "#05ffff",
          "opacity": 0,
          "size": 0
         },
         "mode": "markers",
         "showlegend": false,
         "type": "scattermapbox"
        },
        {
         "hoverinfo": "skip",
         "lat": [
          53.6492,
          53.6464
         ],
         "line": {
          "color": "#003caa",
          "width": 2
         },
         "lon": [
          11.372,
          11.3721
         ],
         "mode": "lines",
         "showlegend": false,
         "type": "scattermapbox"
        },
        {
         "hoverinfo": "skip",
         "lat": [
          53.6492
         ],
         "lon": [
          11.372
         ],
         "marker": {
          "cmax": 0.3900003389323528,
          "cmin": 0.0005069367152221342,
          "color": [
           0.13118911905823916
          ],
          "colorbar": {
           "title": {
            "text": "Line Utilisation"
           },
           "x": 1.02
          },
          "colorscale": [
           [
            0.0,
            "rgb(0,0,131)"
           ],
           [
            0.2,
            "rgb(0,60,170)"
           ],
           [
            0.4,
            "rgb(5,255,255)"
           ],
           [
            0.6,
            "rgb(255,255,0)"
           ],
           [
            0.8,
            "rgb(250,0,0)"
           ],
           [
            1.0,
            "rgb(128,0,0)"
           ]
          ],
          "opacity": 0,
          "showscale": true,
          "size": 0.1
         },
         "mode": "markers",
         "showlegend": false,
         "type": "scattermapbox"
        },
        {
         "hoverinfo": "text",
         "hovertext": "MV3.101 Line 30<br>Line Utilisation: 0.131",
         "lat": [
          53.647800000000004
         ],
         "lon": [
          11.37205
         ],
         "marker": {
          "color": "#003caa",
          "opacity": 0,
          "size": 0
         },
         "mode": "markers",
         "showlegend": false,
         "type": "scattermapbox"
        },
        {
         "hoverinfo": "skip",
         "lat": [
          53.6454,
          53.6456
         ],
         "line": {
          "color": "#05ffff",
          "width": 2
         },
         "lon": [
          11.3732,
          11.3738
         ],
         "mode": "lines",
         "showlegend": false,
         "type": "scattermapbox"
        },
        {
         "hoverinfo": "skip",
         "lat": [
          53.6454
         ],
         "lon": [
          11.3732
         ],
         "marker": {
          "cmax": 0.3900003389323528,
          "cmin": 0.0005069367152221342,
          "color": [
           0.21080139036495618
          ],
          "colorbar": {
           "title": {
            "text": "Line Utilisation"
           },
           "x": 1.02
          },
          "colorscale": [
           [
            0.0,
            "rgb(0,0,131)"
           ],
           [
            0.2,
            "rgb(0,60,170)"
           ],
           [
            0.4,
            "rgb(5,255,255)"
           ],
           [
            0.6,
            "rgb(255,255,0)"
           ],
           [
            0.8,
            "rgb(250,0,0)"
           ],
           [
            1.0,
            "rgb(128,0,0)"
           ]
          ],
          "opacity": 0,
          "showscale": true,
          "size": 0.1
         },
         "mode": "markers",
         "showlegend": false,
         "type": "scattermapbox"
        },
        {
         "hoverinfo": "text",
         "hovertext": "MV3.101 Line 15<br>Line Utilisation: 0.211",
         "lat": [
          53.6455
         ],
         "lon": [
          11.3735
         ],
         "marker": {
          "color": "#05ffff",
          "opacity": 0,
          "size": 0
         },
         "mode": "markers",
         "showlegend": false,
         "type": "scattermapbox"
        },
        {
         "hoverinfo": "skip",
         "lat": [
          53.6477,
          53.6494
         ],
         "line": {
          "color": "#000083",
          "width": 2
         },
         "lon": [
          11.3511,
          11.351
         ],
         "mode": "lines",
         "showlegend": false,
         "type": "scattermapbox"
        },
        {
         "hoverinfo": "skip",
         "lat": [
          53.6477
         ],
         "lon": [
          11.3511
         ],
         "marker": {
          "cmax": 0.3900003389323528,
          "cmin": 0.0005069367152221342,
          "color": [
           0.019502348593415788
          ],
          "colorbar": {
           "title": {
            "text": "Line Utilisation"
           },
           "x": 1.02
          },
          "colorscale": [
           [
            0.0,
            "rgb(0,0,131)"
           ],
           [
            0.2,
            "rgb(0,60,170)"
           ],
           [
            0.4,
            "rgb(5,255,255)"
           ],
           [
            0.6,
            "rgb(255,255,0)"
           ],
           [
            0.8,
            "rgb(250,0,0)"
           ],
           [
            1.0,
            "rgb(128,0,0)"
           ]
          ],
          "opacity": 0,
          "showscale": true,
          "size": 0.1
         },
         "mode": "markers",
         "showlegend": false,
         "type": "scattermapbox"
        },
        {
         "hoverinfo": "text",
         "hovertext": "MV3.101 Line 94<br>Line Utilisation: 0.020",
         "lat": [
          53.64855
         ],
         "lon": [
          11.35105
         ],
         "marker": {
          "color": "#000083",
          "opacity": 0,
          "size": 0
         },
         "mode": "markers",
         "showlegend": false,
         "type": "scattermapbox"
        },
        {
         "hoverinfo": "skip",
         "lat": [
          53.6306,
          53.6297
         ],
         "line": {
          "color": "#000083",
          "width": 2
         },
         "lon": [
          11.3739,
          11.3739
         ],
         "mode": "lines",
         "showlegend": false,
         "type": "scattermapbox"
        },
        {
         "hoverinfo": "skip",
         "lat": [
          53.6306
         ],
         "lon": [
          11.3739
         ],
         "marker": {
          "cmax": 0.3900003389323528,
          "cmin": 0.0005069367152221342,
          "color": [
           0.025134410351824857
          ],
          "colorbar": {
           "title": {
            "text": "Line Utilisation"
           },
           "x": 1.02
          },
          "colorscale": [
           [
            0.0,
            "rgb(0,0,131)"
           ],
           [
            0.2,
            "rgb(0,60,170)"
           ],
           [
            0.4,
            "rgb(5,255,255)"
           ],
           [
            0.6,
            "rgb(255,255,0)"
           ],
           [
            0.8,
            "rgb(250,0,0)"
           ],
           [
            1.0,
            "rgb(128,0,0)"
           ]
          ],
          "opacity": 0,
          "showscale": true,
          "size": 0.1
         },
         "mode": "markers",
         "showlegend": false,
         "type": "scattermapbox"
        },
        {
         "hoverinfo": "text",
         "hovertext": "MV3.101 Line 107<br>Line Utilisation: 0.025",
         "lat": [
          53.63015
         ],
         "lon": [
          11.3739
         ],
         "marker": {
          "color": "#000083",
          "opacity": 0,
          "size": 0
         },
         "mode": "markers",
         "showlegend": false,
         "type": "scattermapbox"
        },
        {
         "hoverinfo": "skip",
         "lat": [
          53.6411,
          53.6409
         ],
         "line": {
          "color": "#003caa",
          "width": 2
         },
         "lon": [
          11.3715,
          11.3733
         ],
         "mode": "lines",
         "showlegend": false,
         "type": "scattermapbox"
        },
        {
         "hoverinfo": "skip",
         "lat": [
          53.6411
         ],
         "lon": [
          11.3715
         ],
         "marker": {
          "cmax": 0.3900003389323528,
          "cmin": 0.0005069367152221342,
          "color": [
           0.13665752027763603
          ],
          "colorbar": {
           "title": {
            "text": "Line Utilisation"
           },
           "x": 1.02
          },
          "colorscale": [
           [
            0.0,
            "rgb(0,0,131)"
           ],
           [
            0.2,
            "rgb(0,60,170)"
           ],
           [
            0.4,
            "rgb(5,255,255)"
           ],
           [
            0.6,
            "rgb(255,255,0)"
           ],
           [
            0.8,
            "rgb(250,0,0)"
           ],
           [
            1.0,
            "rgb(128,0,0)"
           ]
          ],
          "opacity": 0,
          "showscale": true,
          "size": 0.1
         },
         "mode": "markers",
         "showlegend": false,
         "type": "scattermapbox"
        },
        {
         "hoverinfo": "text",
         "hovertext": "MV3.101 Line 5<br>Line Utilisation: 0.137",
         "lat": [
          53.641000000000005
         ],
         "lon": [
          11.372399999999999
         ],
         "marker": {
          "color": "#003caa",
          "opacity": 0,
          "size": 0
         },
         "mode": "markers",
         "showlegend": false,
         "type": "scattermapbox"
        },
        {
         "hoverinfo": "skip",
         "lat": [
          53.6429,
          53.6428
         ],
         "line": {
          "color": "#003caa",
          "width": 2
         },
         "lon": [
          11.3789,
          11.381
         ],
         "mode": "lines",
         "showlegend": false,
         "type": "scattermapbox"
        },
        {
         "hoverinfo": "skip",
         "lat": [
          53.6429
         ],
         "lon": [
          11.3789
         ],
         "marker": {
          "cmax": 0.3900003389323528,
          "cmin": 0.0005069367152221342,
          "color": [
           0.1369932660261472
          ],
          "colorbar": {
           "title": {
            "text": "Line Utilisation"
           },
           "x": 1.02
          },
          "colorscale": [
           [
            0.0,
            "rgb(0,0,131)"
           ],
           [
            0.2,
            "rgb(0,60,170)"
           ],
           [
            0.4,
            "rgb(5,255,255)"
           ],
           [
            0.6,
            "rgb(255,255,0)"
           ],
           [
            0.8,
            "rgb(250,0,0)"
           ],
           [
            1.0,
            "rgb(128,0,0)"
           ]
          ],
          "opacity": 0,
          "showscale": true,
          "size": 0.1
         },
         "mode": "markers",
         "showlegend": false,
         "type": "scattermapbox"
        },
        {
         "hoverinfo": "text",
         "hovertext": "MV3.101 Line 112<br>Line Utilisation: 0.137",
         "lat": [
          53.642849999999996
         ],
         "lon": [
          11.379950000000001
         ],
         "marker": {
          "color": "#003caa",
          "opacity": 0,
          "size": 0
         },
         "mode": "markers",
         "showlegend": false,
         "type": "scattermapbox"
        },
        {
         "hoverinfo": "skip",
         "lat": [
          53.6534,
          53.6519
         ],
         "line": {
          "color": "#000083",
          "width": 2
         },
         "lon": [
          11.3794,
          11.3805
         ],
         "mode": "lines",
         "showlegend": false,
         "type": "scattermapbox"
        },
        {
         "hoverinfo": "skip",
         "lat": [
          53.6534
         ],
         "lon": [
          11.3794
         ],
         "marker": {
          "cmax": 0.3900003389323528,
          "cmin": 0.0005069367152221342,
          "color": [
           0.0374462274864777
          ],
          "colorbar": {
           "title": {
            "text": "Line Utilisation"
           },
           "x": 1.02
          },
          "colorscale": [
           [
            0.0,
            "rgb(0,0,131)"
           ],
           [
            0.2,
            "rgb(0,60,170)"
           ],
           [
            0.4,
            "rgb(5,255,255)"
           ],
           [
            0.6,
            "rgb(255,255,0)"
           ],
           [
            0.8,
            "rgb(250,0,0)"
           ],
           [
            1.0,
            "rgb(128,0,0)"
           ]
          ],
          "opacity": 0,
          "showscale": true,
          "size": 0.1
         },
         "mode": "markers",
         "showlegend": false,
         "type": "scattermapbox"
        },
        {
         "hoverinfo": "text",
         "hovertext": "MV3.101 Line 24<br>Line Utilisation: 0.037",
         "lat": [
          53.652649999999994
         ],
         "lon": [
          11.379950000000001
         ],
         "marker": {
          "color": "#000083",
          "opacity": 0,
          "size": 0
         },
         "mode": "markers",
         "showlegend": false,
         "type": "scattermapbox"
        },
        {
         "hoverinfo": "skip",
         "lat": [
          53.6303,
          53.6285
         ],
         "line": {
          "color": "#000083",
          "width": 2
         },
         "lon": [
          11.3626,
          11.3627
         ],
         "mode": "lines",
         "showlegend": false,
         "type": "scattermapbox"
        },
        {
         "hoverinfo": "skip",
         "lat": [
          53.6303
         ],
         "lon": [
          11.3626
         ],
         "marker": {
          "cmax": 0.3900003389323528,
          "cmin": 0.0005069367152221342,
          "color": [
           0.07297455355047404
          ],
          "colorbar": {
           "title": {
            "text": "Line Utilisation"
           },
           "x": 1.02
          },
          "colorscale": [
           [
            0.0,
            "rgb(0,0,131)"
           ],
           [
            0.2,
            "rgb(0,60,170)"
           ],
           [
            0.4,
            "rgb(5,255,255)"
           ],
           [
            0.6,
            "rgb(255,255,0)"
           ],
           [
            0.8,
            "rgb(250,0,0)"
           ],
           [
            1.0,
            "rgb(128,0,0)"
           ]
          ],
          "opacity": 0,
          "showscale": true,
          "size": 0.1
         },
         "mode": "markers",
         "showlegend": false,
         "type": "scattermapbox"
        },
        {
         "hoverinfo": "text",
         "hovertext": "MV3.101 Line 79<br>Line Utilisation: 0.073",
         "lat": [
          53.629400000000004
         ],
         "lon": [
          11.36265
         ],
         "marker": {
          "color": "#000083",
          "opacity": 0,
          "size": 0
         },
         "mode": "markers",
         "showlegend": false,
         "type": "scattermapbox"
        },
        {
         "hoverinfo": "skip",
         "lat": [
          53.637,
          53.6363
         ],
         "line": {
          "color": "#ffff00",
          "width": 2
         },
         "lon": [
          11.3664,
          11.3661
         ],
         "mode": "lines",
         "showlegend": false,
         "type": "scattermapbox"
        },
        {
         "hoverinfo": "skip",
         "lat": [
          53.637
         ],
         "lon": [
          11.3664
         ],
         "marker": {
          "cmax": 0.3900003389323528,
          "cmin": 0.0005069367152221342,
          "color": [
           0.27475496357247137
          ],
          "colorbar": {
           "title": {
            "text": "Line Utilisation"
           },
           "x": 1.02
          },
          "colorscale": [
           [
            0.0,
            "rgb(0,0,131)"
           ],
           [
            0.2,
            "rgb(0,60,170)"
           ],
           [
            0.4,
            "rgb(5,255,255)"
           ],
           [
            0.6,
            "rgb(255,255,0)"
           ],
           [
            0.8,
            "rgb(250,0,0)"
           ],
           [
            1.0,
            "rgb(128,0,0)"
           ]
          ],
          "opacity": 0,
          "showscale": true,
          "size": 0.1
         },
         "mode": "markers",
         "showlegend": false,
         "type": "scattermapbox"
        },
        {
         "hoverinfo": "text",
         "hovertext": "MV3.101 Line 99<br>Line Utilisation: 0.275",
         "lat": [
          53.63665
         ],
         "lon": [
          11.36625
         ],
         "marker": {
          "color": "#ffff00",
          "opacity": 0,
          "size": 0
         },
         "mode": "markers",
         "showlegend": false,
         "type": "scattermapbox"
        },
        {
         "hoverinfo": "skip",
         "lat": [
          53.6538,
          53.6543
         ],
         "line": {
          "color": "#003caa",
          "width": 2
         },
         "lon": [
          11.374,
          11.3751
         ],
         "mode": "lines",
         "showlegend": false,
         "type": "scattermapbox"
        },
        {
         "hoverinfo": "skip",
         "lat": [
          53.6538
         ],
         "lon": [
          11.374
         ],
         "marker": {
          "cmax": 0.3900003389323528,
          "cmin": 0.0005069367152221342,
          "color": [
           0.11945949681144592
          ],
          "colorbar": {
           "title": {
            "text": "Line Utilisation"
           },
           "x": 1.02
          },
          "colorscale": [
           [
            0.0,
            "rgb(0,0,131)"
           ],
           [
            0.2,
            "rgb(0,60,170)"
           ],
           [
            0.4,
            "rgb(5,255,255)"
           ],
           [
            0.6,
            "rgb(255,255,0)"
           ],
           [
            0.8,
            "rgb(250,0,0)"
           ],
           [
            1.0,
            "rgb(128,0,0)"
           ]
          ],
          "opacity": 0,
          "showscale": true,
          "size": 0.1
         },
         "mode": "markers",
         "showlegend": false,
         "type": "scattermapbox"
        },
        {
         "hoverinfo": "text",
         "hovertext": "MV3.101 Line 20<br>Line Utilisation: 0.119",
         "lat": [
          53.65405
         ],
         "lon": [
          11.37455
         ],
         "marker": {
          "color": "#003caa",
          "opacity": 0,
          "size": 0
         },
         "mode": "markers",
         "showlegend": false,
         "type": "scattermapbox"
        },
        {
         "hoverinfo": "skip",
         "lat": [
          53.6428,
          53.6429
         ],
         "line": {
          "color": "#003caa",
          "width": 2
         },
         "lon": [
          11.381,
          11.3815
         ],
         "mode": "lines",
         "showlegend": false,
         "type": "scattermapbox"
        },
        {
         "hoverinfo": "skip",
         "lat": [
          53.6428
         ],
         "lon": [
          11.381
         ],
         "marker": {
          "cmax": 0.3900003389323528,
          "cmin": 0.0005069367152221342,
          "color": [
           0.10725499468053339
          ],
          "colorbar": {
           "title": {
            "text": "Line Utilisation"
           },
           "x": 1.02
          },
          "colorscale": [
           [
            0.0,
            "rgb(0,0,131)"
           ],
           [
            0.2,
            "rgb(0,60,170)"
           ],
           [
            0.4,
            "rgb(5,255,255)"
           ],
           [
            0.6,
            "rgb(255,255,0)"
           ],
           [
            0.8,
            "rgb(250,0,0)"
           ],
           [
            1.0,
            "rgb(128,0,0)"
           ]
          ],
          "opacity": 0,
          "showscale": true,
          "size": 0.1
         },
         "mode": "markers",
         "showlegend": false,
         "type": "scattermapbox"
        },
        {
         "hoverinfo": "text",
         "hovertext": "MV3.101 Line 113<br>Line Utilisation: 0.107",
         "lat": [
          53.642849999999996
         ],
         "lon": [
          11.381250000000001
         ],
         "marker": {
          "color": "#003caa",
          "opacity": 0,
          "size": 0
         },
         "mode": "markers",
         "showlegend": false,
         "type": "scattermapbox"
        },
        {
         "hoverinfo": "skip",
         "lat": [
          53.6384,
          53.6353
         ],
         "line": {
          "color": "#05ffff",
          "width": 2
         },
         "lon": [
          11.364,
          11.3632
         ],
         "mode": "lines",
         "showlegend": false,
         "type": "scattermapbox"
        },
        {
         "hoverinfo": "skip",
         "lat": [
          53.6384
         ],
         "lon": [
          11.364
         ],
         "marker": {
          "cmax": 0.3900003389323528,
          "cmin": 0.0005069367152221342,
          "color": [
           0.19779684197094977
          ],
          "colorbar": {
           "title": {
            "text": "Line Utilisation"
           },
           "x": 1.02
          },
          "colorscale": [
           [
            0.0,
            "rgb(0,0,131)"
           ],
           [
            0.2,
            "rgb(0,60,170)"
           ],
           [
            0.4,
            "rgb(5,255,255)"
           ],
           [
            0.6,
            "rgb(255,255,0)"
           ],
           [
            0.8,
            "rgb(250,0,0)"
           ],
           [
            1.0,
            "rgb(128,0,0)"
           ]
          ],
          "opacity": 0,
          "showscale": true,
          "size": 0.1
         },
         "mode": "markers",
         "showlegend": false,
         "type": "scattermapbox"
        },
        {
         "hoverinfo": "text",
         "hovertext": "MV3.101 Line 74<br>Line Utilisation: 0.198",
         "lat": [
          53.636849999999995
         ],
         "lon": [
          11.363600000000002
         ],
         "marker": {
          "color": "#05ffff",
          "opacity": 0,
          "size": 0
         },
         "mode": "markers",
         "showlegend": false,
         "type": "scattermapbox"
        },
        {
         "hoverinfo": "skip",
         "lat": [
          53.6567,
          53.6559
         ],
         "line": {
          "color": "#003caa",
          "width": 2
         },
         "lon": [
          11.3529,
          11.3519
         ],
         "mode": "lines",
         "showlegend": false,
         "type": "scattermapbox"
        },
        {
         "hoverinfo": "skip",
         "lat": [
          53.6567
         ],
         "lon": [
          11.3529
         ],
         "marker": {
          "cmax": 0.3900003389323528,
          "cmin": 0.0005069367152221342,
          "color": [
           0.114157000680934
          ],
          "colorbar": {
           "title": {
            "text": "Line Utilisation"
           },
           "x": 1.02
          },
          "colorscale": [
           [
            0.0,
            "rgb(0,0,131)"
           ],
           [
            0.2,
            "rgb(0,60,170)"
           ],
           [
            0.4,
            "rgb(5,255,255)"
           ],
           [
            0.6,
            "rgb(255,255,0)"
           ],
           [
            0.8,
            "rgb(250,0,0)"
           ],
           [
            1.0,
            "rgb(128,0,0)"
           ]
          ],
          "opacity": 0,
          "showscale": true,
          "size": 0.1
         },
         "mode": "markers",
         "showlegend": false,
         "type": "scattermapbox"
        },
        {
         "hoverinfo": "text",
         "hovertext": "MV3.101 Line 62<br>Line Utilisation: 0.114",
         "lat": [
          53.6563
         ],
         "lon": [
          11.3524
         ],
         "marker": {
          "color": "#003caa",
          "opacity": 0,
          "size": 0
         },
         "mode": "markers",
         "showlegend": false,
         "type": "scattermapbox"
        },
        {
         "hoverinfo": "skip",
         "lat": [
          53.6521,
          53.6508
         ],
         "line": {
          "color": "#000083",
          "width": 2
         },
         "lon": [
          11.3535,
          11.3521
         ],
         "mode": "lines",
         "showlegend": false,
         "type": "scattermapbox"
        },
        {
         "hoverinfo": "skip",
         "lat": [
          53.6521
         ],
         "lon": [
          11.3535
         ],
         "marker": {
          "cmax": 0.3900003389323528,
          "cmin": 0.0005069367152221342,
          "color": [
           0.025011656779699364
          ],
          "colorbar": {
           "title": {
            "text": "Line Utilisation"
           },
           "x": 1.02
          },
          "colorscale": [
           [
            0.0,
            "rgb(0,0,131)"
           ],
           [
            0.2,
            "rgb(0,60,170)"
           ],
           [
            0.4,
            "rgb(5,255,255)"
           ],
           [
            0.6,
            "rgb(255,255,0)"
           ],
           [
            0.8,
            "rgb(250,0,0)"
           ],
           [
            1.0,
            "rgb(128,0,0)"
           ]
          ],
          "opacity": 0,
          "showscale": true,
          "size": 0.1
         },
         "mode": "markers",
         "showlegend": false,
         "type": "scattermapbox"
        },
        {
         "hoverinfo": "text",
         "hovertext": "MV3.101 Line 66<br>Line Utilisation: 0.025",
         "lat": [
          53.65145
         ],
         "lon": [
          11.3528
         ],
         "marker": {
          "color": "#000083",
          "opacity": 0,
          "size": 0
         },
         "mode": "markers",
         "showlegend": false,
         "type": "scattermapbox"
        },
        {
         "hoverinfo": "skip",
         "lat": [
          53.6456,
          53.6457
         ],
         "line": {
          "color": "#800000",
          "width": 2
         },
         "lon": [
          11.3692,
          11.3682
         ],
         "mode": "lines",
         "showlegend": false,
         "type": "scattermapbox"
        },
        {
         "hoverinfo": "skip",
         "lat": [
          53.6456
         ],
         "lon": [
          11.3692
         ],
         "marker": {
          "cmax": 0.3900003389323528,
          "cmin": 0.0005069367152221342,
          "color": [
           0.3900003389323528
          ],
          "colorbar": {
           "title": {
            "text": "Line Utilisation"
           },
           "x": 1.02
          },
          "colorscale": [
           [
            0.0,
            "rgb(0,0,131)"
           ],
           [
            0.2,
            "rgb(0,60,170)"
           ],
           [
            0.4,
            "rgb(5,255,255)"
           ],
           [
            0.6,
            "rgb(255,255,0)"
           ],
           [
            0.8,
            "rgb(250,0,0)"
           ],
           [
            1.0,
            "rgb(128,0,0)"
           ]
          ],
          "opacity": 0,
          "showscale": true,
          "size": 0.1
         },
         "mode": "markers",
         "showlegend": false,
         "type": "scattermapbox"
        },
        {
         "hoverinfo": "text",
         "hovertext": "MV3.101 Line 49<br>Line Utilisation: 0.390",
         "lat": [
          53.64565
         ],
         "lon": [
          11.3687
         ],
         "marker": {
          "color": "#800000",
          "opacity": 0,
          "size": 0
         },
         "mode": "markers",
         "showlegend": false,
         "type": "scattermapbox"
        },
        {
         "hoverinfo": "skip",
         "lat": [
          53.6439,
          53.6443
         ],
         "line": {
          "color": "#003caa",
          "width": 2
         },
         "lon": [
          11.3558,
          11.3544
         ],
         "mode": "lines",
         "showlegend": false,
         "type": "scattermapbox"
        },
        {
         "hoverinfo": "skip",
         "lat": [
          53.6439
         ],
         "lon": [
          11.3558
         ],
         "marker": {
          "cmax": 0.3900003389323528,
          "cmin": 0.0005069367152221342,
          "color": [
           0.08841459928674109
          ],
          "colorbar": {
           "title": {
            "text": "Line Utilisation"
           },
           "x": 1.02
          },
          "colorscale": [
           [
            0.0,
            "rgb(0,0,131)"
           ],
           [
            0.2,
            "rgb(0,60,170)"
           ],
           [
            0.4,
            "rgb(5,255,255)"
           ],
           [
            0.6,
            "rgb(255,255,0)"
           ],
           [
            0.8,
            "rgb(250,0,0)"
           ],
           [
            1.0,
            "rgb(128,0,0)"
           ]
          ],
          "opacity": 0,
          "showscale": true,
          "size": 0.1
         },
         "mode": "markers",
         "showlegend": false,
         "type": "scattermapbox"
        },
        {
         "hoverinfo": "text",
         "hovertext": "MV3.101 Line 91<br>Line Utilisation: 0.088",
         "lat": [
          53.6441
         ],
         "lon": [
          11.3551
         ],
         "marker": {
          "color": "#003caa",
          "opacity": 0,
          "size": 0
         },
         "mode": "markers",
         "showlegend": false,
         "type": "scattermapbox"
        },
        {
         "hoverinfo": "skip",
         "lat": [
          53.638,
          53.6371
         ],
         "line": {
          "color": "#000083",
          "width": 2
         },
         "lon": [
          11.3719,
          11.3721
         ],
         "mode": "lines",
         "showlegend": false,
         "type": "scattermapbox"
        },
        {
         "hoverinfo": "skip",
         "lat": [
          53.638
         ],
         "lon": [
          11.3719
         ],
         "marker": {
          "cmax": 0.3900003389323528,
          "cmin": 0.0005069367152221342,
          "color": [
           0.01606702535073623
          ],
          "colorbar": {
           "title": {
            "text": "Line Utilisation"
           },
           "x": 1.02
          },
          "colorscale": [
           [
            0.0,
            "rgb(0,0,131)"
           ],
           [
            0.2,
            "rgb(0,60,170)"
           ],
           [
            0.4,
            "rgb(5,255,255)"
           ],
           [
            0.6,
            "rgb(255,255,0)"
           ],
           [
            0.8,
            "rgb(250,0,0)"
           ],
           [
            1.0,
            "rgb(128,0,0)"
           ]
          ],
          "opacity": 0,
          "showscale": true,
          "size": 0.1
         },
         "mode": "markers",
         "showlegend": false,
         "type": "scattermapbox"
        },
        {
         "hoverinfo": "text",
         "hovertext": "MV3.101 Line 11<br>Line Utilisation: 0.016",
         "lat": [
          53.63755
         ],
         "lon": [
          11.372
         ],
         "marker": {
          "color": "#000083",
          "opacity": 0,
          "size": 0
         },
         "mode": "markers",
         "showlegend": false,
         "type": "scattermapbox"
        },
        {
         "hoverinfo": "skip",
         "lat": [
          53.6544,
          53.6579
         ],
         "line": {
          "color": "#000083",
          "width": 2
         },
         "lon": [
          11.3637,
          11.3634
         ],
         "mode": "lines",
         "showlegend": false,
         "type": "scattermapbox"
        },
        {
         "hoverinfo": "skip",
         "lat": [
          53.6544
         ],
         "lon": [
          11.3637
         ],
         "marker": {
          "cmax": 0.3900003389323528,
          "cmin": 0.0005069367152221342,
          "color": [
           0.07518984904291345
          ],
          "colorbar": {
           "title": {
            "text": "Line Utilisation"
           },
           "x": 1.02
          },
          "colorscale": [
           [
            0.0,
            "rgb(0,0,131)"
           ],
           [
            0.2,
            "rgb(0,60,170)"
           ],
           [
            0.4,
            "rgb(5,255,255)"
           ],
           [
            0.6,
            "rgb(255,255,0)"
           ],
           [
            0.8,
            "rgb(250,0,0)"
           ],
           [
            1.0,
            "rgb(128,0,0)"
           ]
          ],
          "opacity": 0,
          "showscale": true,
          "size": 0.1
         },
         "mode": "markers",
         "showlegend": false,
         "type": "scattermapbox"
        },
        {
         "hoverinfo": "text",
         "hovertext": "MV3.101 Line 46<br>Line Utilisation: 0.075",
         "lat": [
          53.65615
         ],
         "lon": [
          11.36355
         ],
         "marker": {
          "color": "#000083",
          "opacity": 0,
          "size": 0
         },
         "mode": "markers",
         "showlegend": false,
         "type": "scattermapbox"
        },
        {
         "hoverinfo": "skip",
         "lat": [
          53.6585,
          53.6592
         ],
         "line": {
          "color": "#000083",
          "width": 2
         },
         "lon": [
          11.3687,
          11.3686
         ],
         "mode": "lines",
         "showlegend": false,
         "type": "scattermapbox"
        },
        {
         "hoverinfo": "skip",
         "lat": [
          53.6585
         ],
         "lon": [
          11.3687
         ],
         "marker": {
          "cmax": 0.3900003389323528,
          "cmin": 0.0005069367152221342,
          "color": [
           0.028891597885351266
          ],
          "colorbar": {
           "title": {
            "text": "Line Utilisation"
           },
           "x": 1.02
          },
          "colorscale": [
           [
            0.0,
            "rgb(0,0,131)"
           ],
           [
            0.2,
            "rgb(0,60,170)"
           ],
           [
            0.4,
            "rgb(5,255,255)"
           ],
           [
            0.6,
            "rgb(255,255,0)"
           ],
           [
            0.8,
            "rgb(250,0,0)"
           ],
           [
            1.0,
            "rgb(128,0,0)"
           ]
          ],
          "opacity": 0,
          "showscale": true,
          "size": 0.1
         },
         "mode": "markers",
         "showlegend": false,
         "type": "scattermapbox"
        },
        {
         "hoverinfo": "text",
         "hovertext": "MV3.101 Line 39<br>Line Utilisation: 0.029",
         "lat": [
          53.65885
         ],
         "lon": [
          11.36865
         ],
         "marker": {
          "color": "#000083",
          "opacity": 0,
          "size": 0
         },
         "mode": "markers",
         "showlegend": false,
         "type": "scattermapbox"
        },
        {
         "hoverinfo": "skip",
         "lat": [
          53.6489,
          53.6511
         ],
         "line": {
          "color": "#05ffff",
          "width": 2
         },
         "lon": [
          11.3683,
          11.3682
         ],
         "mode": "lines",
         "showlegend": false,
         "type": "scattermapbox"
        },
        {
         "hoverinfo": "skip",
         "lat": [
          53.6489
         ],
         "lon": [
          11.3683
         ],
         "marker": {
          "cmax": 0.3900003389323528,
          "cmin": 0.0005069367152221342,
          "color": [
           0.1577065435814472
          ],
          "colorbar": {
           "title": {
            "text": "Line Utilisation"
           },
           "x": 1.02
          },
          "colorscale": [
           [
            0.0,
            "rgb(0,0,131)"
           ],
           [
            0.2,
            "rgb(0,60,170)"
           ],
           [
            0.4,
            "rgb(5,255,255)"
           ],
           [
            0.6,
            "rgb(255,255,0)"
           ],
           [
            0.8,
            "rgb(250,0,0)"
           ],
           [
            1.0,
            "rgb(128,0,0)"
           ]
          ],
          "opacity": 0,
          "showscale": true,
          "size": 0.1
         },
         "mode": "markers",
         "showlegend": false,
         "type": "scattermapbox"
        },
        {
         "hoverinfo": "text",
         "hovertext": "MV3.101 Line 34<br>Line Utilisation: 0.158",
         "lat": [
          53.65
         ],
         "lon": [
          11.36825
         ],
         "marker": {
          "color": "#05ffff",
          "opacity": 0,
          "size": 0
         },
         "mode": "markers",
         "showlegend": false,
         "type": "scattermapbox"
        },
        {
         "hoverinfo": "skip",
         "lat": [
          53.6519,
          53.651
         ],
         "line": {
          "color": "#000083",
          "width": 2
         },
         "lon": [
          11.3805,
          11.3807
         ],
         "mode": "lines",
         "showlegend": false,
         "type": "scattermapbox"
        },
        {
         "hoverinfo": "skip",
         "lat": [
          53.6519
         ],
         "lon": [
          11.3805
         ],
         "marker": {
          "cmax": 0.3900003389323528,
          "cmin": 0.0005069367152221342,
          "color": [
           0.025929962919129586
          ],
          "colorbar": {
           "title": {
            "text": "Line Utilisation"
           },
           "x": 1.02
          },
          "colorscale": [
           [
            0.0,
            "rgb(0,0,131)"
           ],
           [
            0.2,
            "rgb(0,60,170)"
           ],
           [
            0.4,
            "rgb(5,255,255)"
           ],
           [
            0.6,
            "rgb(255,255,0)"
           ],
           [
            0.8,
            "rgb(250,0,0)"
           ],
           [
            1.0,
            "rgb(128,0,0)"
           ]
          ],
          "opacity": 0,
          "showscale": true,
          "size": 0.1
         },
         "mode": "markers",
         "showlegend": false,
         "type": "scattermapbox"
        },
        {
         "hoverinfo": "text",
         "hovertext": "MV3.101 Line 25<br>Line Utilisation: 0.026",
         "lat": [
          53.65145
         ],
         "lon": [
          11.3806
         ],
         "marker": {
          "color": "#000083",
          "opacity": 0,
          "size": 0
         },
         "mode": "markers",
         "showlegend": false,
         "type": "scattermapbox"
        },
        {
         "hoverinfo": "skip",
         "lat": [
          53.6456,
          53.6485
         ],
         "line": {
          "color": "#05ffff",
          "width": 2
         },
         "lon": [
          11.3692,
          11.3698
         ],
         "mode": "lines",
         "showlegend": false,
         "type": "scattermapbox"
        },
        {
         "hoverinfo": "skip",
         "lat": [
          53.6456
         ],
         "lon": [
          11.3692
         ],
         "marker": {
          "cmax": 0.3900003389323528,
          "cmin": 0.0005069367152221342,
          "color": [
           0.22682612960265955
          ],
          "colorbar": {
           "title": {
            "text": "Line Utilisation"
           },
           "x": 1.02
          },
          "colorscale": [
           [
            0.0,
            "rgb(0,0,131)"
           ],
           [
            0.2,
            "rgb(0,60,170)"
           ],
           [
            0.4,
            "rgb(5,255,255)"
           ],
           [
            0.6,
            "rgb(255,255,0)"
           ],
           [
            0.8,
            "rgb(250,0,0)"
           ],
           [
            1.0,
            "rgb(128,0,0)"
           ]
          ],
          "opacity": 0,
          "showscale": true,
          "size": 0.1
         },
         "mode": "markers",
         "showlegend": false,
         "type": "scattermapbox"
        },
        {
         "hoverinfo": "text",
         "hovertext": "MV3.101 Line 16<br>Line Utilisation: 0.227",
         "lat": [
          53.64705
         ],
         "lon": [
          11.369499999999999
         ],
         "marker": {
          "color": "#05ffff",
          "opacity": 0,
          "size": 0
         },
         "mode": "markers",
         "showlegend": false,
         "type": "scattermapbox"
        },
        {
         "hoverinfo": "skip",
         "lat": [
          53.6443,
          53.6461
         ],
         "line": {
          "color": "#003caa",
          "width": 2
         },
         "lon": [
          11.3544,
          11.3521
         ],
         "mode": "lines",
         "showlegend": false,
         "type": "scattermapbox"
        },
        {
         "hoverinfo": "skip",
         "lat": [
          53.6443
         ],
         "lon": [
          11.3544
         ],
         "marker": {
          "cmax": 0.3900003389323528,
          "cmin": 0.0005069367152221342,
          "color": [
           0.08596045224094341
          ],
          "colorbar": {
           "title": {
            "text": "Line Utilisation"
           },
           "x": 1.02
          },
          "colorscale": [
           [
            0.0,
            "rgb(0,0,131)"
           ],
           [
            0.2,
            "rgb(0,60,170)"
           ],
           [
            0.4,
            "rgb(5,255,255)"
           ],
           [
            0.6,
            "rgb(255,255,0)"
           ],
           [
            0.8,
            "rgb(250,0,0)"
           ],
           [
            1.0,
            "rgb(128,0,0)"
           ]
          ],
          "opacity": 0,
          "showscale": true,
          "size": 0.1
         },
         "mode": "markers",
         "showlegend": false,
         "type": "scattermapbox"
        },
        {
         "hoverinfo": "text",
         "hovertext": "MV3.101 Line 92<br>Line Utilisation: 0.086",
         "lat": [
          53.6452
         ],
         "lon": [
          11.35325
         ],
         "marker": {
          "color": "#003caa",
          "opacity": 0,
          "size": 0
         },
         "mode": "markers",
         "showlegend": false,
         "type": "scattermapbox"
        },
        {
         "hoverinfo": "skip",
         "lat": [
          53.6285,
          53.6261
         ],
         "line": {
          "color": "#000083",
          "width": 2
         },
         "lon": [
          11.3627,
          11.3638
         ],
         "mode": "lines",
         "showlegend": false,
         "type": "scattermapbox"
        },
        {
         "hoverinfo": "skip",
         "lat": [
          53.6285
         ],
         "lon": [
          11.3627
         ],
         "marker": {
          "cmax": 0.3900003389323528,
          "cmin": 0.0005069367152221342,
          "color": [
           0.06388297618376801
          ],
          "colorbar": {
           "title": {
            "text": "Line Utilisation"
           },
           "x": 1.02
          },
          "colorscale": [
           [
            0.0,
            "rgb(0,0,131)"
           ],
           [
            0.2,
            "rgb(0,60,170)"
           ],
           [
            0.4,
            "rgb(5,255,255)"
           ],
           [
            0.6,
            "rgb(255,255,0)"
           ],
           [
            0.8,
            "rgb(250,0,0)"
           ],
           [
            1.0,
            "rgb(128,0,0)"
           ]
          ],
          "opacity": 0,
          "showscale": true,
          "size": 0.1
         },
         "mode": "markers",
         "showlegend": false,
         "type": "scattermapbox"
        },
        {
         "hoverinfo": "text",
         "hovertext": "MV3.101 Line 80<br>Line Utilisation: 0.064",
         "lat": [
          53.627300000000005
         ],
         "lon": [
          11.36325
         ],
         "marker": {
          "color": "#000083",
          "opacity": 0,
          "size": 0
         },
         "mode": "markers",
         "showlegend": false,
         "type": "scattermapbox"
        },
        {
         "hoverinfo": "skip",
         "lat": [
          53.6464,
          53.6467
         ],
         "line": {
          "color": "#003caa",
          "width": 2
         },
         "lon": [
          11.3745,
          11.3755
         ],
         "mode": "lines",
         "showlegend": false,
         "type": "scattermapbox"
        },
        {
         "hoverinfo": "skip",
         "lat": [
          53.6464
         ],
         "lon": [
          11.3745
         ],
         "marker": {
          "cmax": 0.3900003389323528,
          "cmin": 0.0005069367152221342,
          "color": [
           0.14858285068671467
          ],
          "colorbar": {
           "title": {
            "text": "Line Utilisation"
           },
           "x": 1.02
          },
          "colorscale": [
           [
            0.0,
            "rgb(0,0,131)"
           ],
           [
            0.2,
            "rgb(0,60,170)"
           ],
           [
            0.4,
            "rgb(5,255,255)"
           ],
           [
            0.6,
            "rgb(255,255,0)"
           ],
           [
            0.8,
            "rgb(250,0,0)"
           ],
           [
            1.0,
            "rgb(128,0,0)"
           ]
          ],
          "opacity": 0,
          "showscale": true,
          "size": 0.1
         },
         "mode": "markers",
         "showlegend": false,
         "type": "scattermapbox"
        },
        {
         "hoverinfo": "text",
         "hovertext": "MV3.101 Line 120<br>Line Utilisation: 0.149",
         "lat": [
          53.646550000000005
         ],
         "lon": [
          11.375
         ],
         "marker": {
          "color": "#003caa",
          "opacity": 0,
          "size": 0
         },
         "mode": "markers",
         "showlegend": false,
         "type": "scattermapbox"
        },
        {
         "hoverinfo": "skip",
         "lat": [
          53.6411,
          53.6397
         ],
         "line": {
          "color": "#000083",
          "width": 2
         },
         "lon": [
          11.3715,
          11.3715
         ],
         "mode": "lines",
         "showlegend": false,
         "type": "scattermapbox"
        },
        {
         "hoverinfo": "skip",
         "lat": [
          53.6411
         ],
         "lon": [
          11.3715
         ],
         "marker": {
          "cmax": 0.3900003389323528,
          "cmin": 0.0005069367152221342,
          "color": [
           0.043721717860940444
          ],
          "colorbar": {
           "title": {
            "text": "Line Utilisation"
           },
           "x": 1.02
          },
          "colorscale": [
           [
            0.0,
            "rgb(0,0,131)"
           ],
           [
            0.2,
            "rgb(0,60,170)"
           ],
           [
            0.4,
            "rgb(5,255,255)"
           ],
           [
            0.6,
            "rgb(255,255,0)"
           ],
           [
            0.8,
            "rgb(250,0,0)"
           ],
           [
            1.0,
            "rgb(128,0,0)"
           ]
          ],
          "opacity": 0,
          "showscale": true,
          "size": 0.1
         },
         "mode": "markers",
         "showlegend": false,
         "type": "scattermapbox"
        },
        {
         "hoverinfo": "text",
         "hovertext": "MV3.101 Line 9<br>Line Utilisation: 0.044",
         "lat": [
          53.6404
         ],
         "lon": [
          11.3715
         ],
         "marker": {
          "color": "#000083",
          "opacity": 0,
          "size": 0
         },
         "mode": "markers",
         "showlegend": false,
         "type": "scattermapbox"
        },
        {
         "hoverinfo": "skip",
         "lat": [
          53.6572,
          53.6585
         ],
         "line": {
          "color": "#000083",
          "width": 2
         },
         "lon": [
          11.3686,
          11.3687
         ],
         "mode": "lines",
         "showlegend": false,
         "type": "scattermapbox"
        },
        {
         "hoverinfo": "skip",
         "lat": [
          53.6572
         ],
         "lon": [
          11.3686
         ],
         "marker": {
          "cmax": 0.3900003389323528,
          "cmin": 0.0005069367152221342,
          "color": [
           0.04367847134607398
          ],
          "colorbar": {
           "title": {
            "text": "Line Utilisation"
           },
           "x": 1.02
          },
          "colorscale": [
           [
            0.0,
            "rgb(0,0,131)"
           ],
           [
            0.2,
            "rgb(0,60,170)"
           ],
           [
            0.4,
            "rgb(5,255,255)"
           ],
           [
            0.6,
            "rgb(255,255,0)"
           ],
           [
            0.8,
            "rgb(250,0,0)"
           ],
           [
            1.0,
            "rgb(128,0,0)"
           ]
          ],
          "opacity": 0,
          "showscale": true,
          "size": 0.1
         },
         "mode": "markers",
         "showlegend": false,
         "type": "scattermapbox"
        },
        {
         "hoverinfo": "text",
         "hovertext": "MV3.101 Line 38<br>Line Utilisation: 0.044",
         "lat": [
          53.657849999999996
         ],
         "lon": [
          11.36865
         ],
         "marker": {
          "color": "#000083",
          "opacity": 0,
          "size": 0
         },
         "mode": "markers",
         "showlegend": false,
         "type": "scattermapbox"
        },
        {
         "hoverinfo": "skip",
         "lat": [
          53.6441,
          53.6437
         ],
         "line": {
          "color": "#003caa",
          "width": 2
         },
         "lon": [
          11.3609,
          11.3577
         ],
         "mode": "lines",
         "showlegend": false,
         "type": "scattermapbox"
        },
        {
         "hoverinfo": "skip",
         "lat": [
          53.6441
         ],
         "lon": [
          11.3609
         ],
         "marker": {
          "cmax": 0.3900003389323528,
          "cmin": 0.0005069367152221342,
          "color": [
           0.11457599125393642
          ],
          "colorbar": {
           "title": {
            "text": "Line Utilisation"
           },
           "x": 1.02
          },
          "colorscale": [
           [
            0.0,
            "rgb(0,0,131)"
           ],
           [
            0.2,
            "rgb(0,60,170)"
           ],
           [
            0.4,
            "rgb(5,255,255)"
           ],
           [
            0.6,
            "rgb(255,255,0)"
           ],
           [
            0.8,
            "rgb(250,0,0)"
           ],
           [
            1.0,
            "rgb(128,0,0)"
           ]
          ],
          "opacity": 0,
          "showscale": true,
          "size": 0.1
         },
         "mode": "markers",
         "showlegend": false,
         "type": "scattermapbox"
        },
        {
         "hoverinfo": "text",
         "hovertext": "MV3.101 Line 89<br>Line Utilisation: 0.115",
         "lat": [
          53.6439
         ],
         "lon": [
          11.359300000000001
         ],
         "marker": {
          "color": "#003caa",
          "opacity": 0,
          "size": 0
         },
         "mode": "markers",
         "showlegend": false,
         "type": "scattermapbox"
        },
        {
         "hoverinfo": "skip",
         "lat": [
          53.6482,
          53.6489
         ],
         "line": {
          "color": "#fa0000",
          "width": 2
         },
         "lon": [
          11.3627,
          11.3604
         ],
         "mode": "lines",
         "showlegend": false,
         "type": "scattermapbox"
        },
        {
         "hoverinfo": "skip",
         "lat": [
          53.6482
         ],
         "lon": [
          11.3627
         ],
         "marker": {
          "cmax": 0.3900003389323528,
          "cmin": 0.0005069367152221342,
          "color": [
           0.3573985281958224
          ],
          "colorbar": {
           "title": {
            "text": "Line Utilisation"
           },
           "x": 1.02
          },
          "colorscale": [
           [
            0.0,
            "rgb(0,0,131)"
           ],
           [
            0.2,
            "rgb(0,60,170)"
           ],
           [
            0.4,
            "rgb(5,255,255)"
           ],
           [
            0.6,
            "rgb(255,255,0)"
           ],
           [
            0.8,
            "rgb(250,0,0)"
           ],
           [
            1.0,
            "rgb(128,0,0)"
           ]
          ],
          "opacity": 0,
          "showscale": true,
          "size": 0.1
         },
         "mode": "markers",
         "showlegend": false,
         "type": "scattermapbox"
        },
        {
         "hoverinfo": "text",
         "hovertext": "MV3.101 Line 53<br>Line Utilisation: 0.357",
         "lat": [
          53.64855
         ],
         "lon": [
          11.361550000000001
         ],
         "marker": {
          "color": "#fa0000",
          "opacity": 0,
          "size": 0
         },
         "mode": "markers",
         "showlegend": false,
         "type": "scattermapbox"
        },
        {
         "hoverinfo": "skip",
         "lat": [
          53.6346,
          53.633
         ],
         "line": {
          "color": "#05ffff",
          "width": 2
         },
         "lon": [
          11.3656,
          11.3668
         ],
         "mode": "lines",
         "showlegend": false,
         "type": "scattermapbox"
        },
        {
         "hoverinfo": "skip",
         "lat": [
          53.6346
         ],
         "lon": [
          11.3656
         ],
         "marker": {
          "cmax": 0.3900003389323528,
          "cmin": 0.0005069367152221342,
          "color": [
           0.23282087237230392
          ],
          "colorbar": {
           "title": {
            "text": "Line Utilisation"
           },
           "x": 1.02
          },
          "colorscale": [
           [
            0.0,
            "rgb(0,0,131)"
           ],
           [
            0.2,
            "rgb(0,60,170)"
           ],
           [
            0.4,
            "rgb(5,255,255)"
           ],
           [
            0.6,
            "rgb(255,255,0)"
           ],
           [
            0.8,
            "rgb(250,0,0)"
           ],
           [
            1.0,
            "rgb(128,0,0)"
           ]
          ],
          "opacity": 0,
          "showscale": true,
          "size": 0.1
         },
         "mode": "markers",
         "showlegend": false,
         "type": "scattermapbox"
        },
        {
         "hoverinfo": "text",
         "hovertext": "MV3.101 Line 101<br>Line Utilisation: 0.233",
         "lat": [
          53.6338
         ],
         "lon": [
          11.3662
         ],
         "marker": {
          "color": "#05ffff",
          "opacity": 0,
          "size": 0
         },
         "mode": "markers",
         "showlegend": false,
         "type": "scattermapbox"
        },
        {
         "hoverinfo": "skip",
         "lat": [
          53.6475,
          53.6481
         ],
         "line": {
          "color": "#05ffff",
          "width": 2
         },
         "lon": [
          11.3748,
          11.3752
         ],
         "mode": "lines",
         "showlegend": false,
         "type": "scattermapbox"
        },
        {
         "hoverinfo": "skip",
         "lat": [
          53.6475
         ],
         "lon": [
          11.3748
         ],
         "marker": {
          "cmax": 0.3900003389323528,
          "cmin": 0.0005069367152221342,
          "color": [
           0.2055664490452587
          ],
          "colorbar": {
           "title": {
            "text": "Line Utilisation"
           },
           "x": 1.02
          },
          "colorscale": [
           [
            0.0,
            "rgb(0,0,131)"
           ],
           [
            0.2,
            "rgb(0,60,170)"
           ],
           [
            0.4,
            "rgb(5,255,255)"
           ],
           [
            0.6,
            "rgb(255,255,0)"
           ],
           [
            0.8,
            "rgb(250,0,0)"
           ],
           [
            1.0,
            "rgb(128,0,0)"
           ]
          ],
          "opacity": 0,
          "showscale": true,
          "size": 0.1
         },
         "mode": "markers",
         "showlegend": false,
         "type": "scattermapbox"
        },
        {
         "hoverinfo": "text",
         "hovertext": "MV3.101 Line 128<br>Line Utilisation: 0.206",
         "lat": [
          53.647800000000004
         ],
         "lon": [
          11.375
         ],
         "marker": {
          "color": "#05ffff",
          "opacity": 0,
          "size": 0
         },
         "mode": "markers",
         "showlegend": false,
         "type": "scattermapbox"
        },
        {
         "hoverinfo": "skip",
         "lat": [
          53.6456,
          53.6464
         ],
         "line": {
          "color": "#05ffff",
          "width": 2
         },
         "lon": [
          11.3692,
          11.3745
         ],
         "mode": "lines",
         "showlegend": false,
         "type": "scattermapbox"
        },
        {
         "hoverinfo": "skip",
         "lat": [
          53.6456
         ],
         "lon": [
          11.3692
         ],
         "marker": {
          "cmax": 0.3900003389323528,
          "cmin": 0.0005069367152221342,
          "color": [
           0.21973884939616656
          ],
          "colorbar": {
           "title": {
            "text": "Line Utilisation"
           },
           "x": 1.02
          },
          "colorscale": [
           [
            0.0,
            "rgb(0,0,131)"
           ],
           [
            0.2,
            "rgb(0,60,170)"
           ],
           [
            0.4,
            "rgb(5,255,255)"
           ],
           [
            0.6,
            "rgb(255,255,0)"
           ],
           [
            0.8,
            "rgb(250,0,0)"
           ],
           [
            1.0,
            "rgb(128,0,0)"
           ]
          ],
          "opacity": 0,
          "showscale": true,
          "size": 0.1
         },
         "mode": "markers",
         "showlegend": false,
         "type": "scattermapbox"
        },
        {
         "hoverinfo": "text",
         "hovertext": "MV3.101 Reserve line<br>Line Utilisation: 0.220",
         "lat": [
          53.646
         ],
         "lon": [
          11.371849999999998
         ],
         "marker": {
          "color": "#05ffff",
          "opacity": 0,
          "size": 0
         },
         "mode": "markers",
         "showlegend": false,
         "type": "scattermapbox"
        },
        {
         "hoverinfo": "skip",
         "lat": [
          53.6448,
          53.6443
         ],
         "line": {
          "color": "#05ffff",
          "width": 2
         },
         "lon": [
          11.364,
          11.3619
         ],
         "mode": "lines",
         "showlegend": false,
         "type": "scattermapbox"
        },
        {
         "hoverinfo": "skip",
         "lat": [
          53.6448
         ],
         "lon": [
          11.364
         ],
         "marker": {
          "cmax": 0.3900003389323528,
          "cmin": 0.0005069367152221342,
          "color": [
           0.16796339415393705
          ],
          "colorbar": {
           "title": {
            "text": "Line Utilisation"
           },
           "x": 1.02
          },
          "colorscale": [
           [
            0.0,
            "rgb(0,0,131)"
           ],
           [
            0.2,
            "rgb(0,60,170)"
           ],
           [
            0.4,
            "rgb(5,255,255)"
           ],
           [
            0.6,
            "rgb(255,255,0)"
           ],
           [
            0.8,
            "rgb(250,0,0)"
           ],
           [
            1.0,
            "rgb(128,0,0)"
           ]
          ],
          "opacity": 0,
          "showscale": true,
          "size": 0.1
         },
         "mode": "markers",
         "showlegend": false,
         "type": "scattermapbox"
        },
        {
         "hoverinfo": "text",
         "hovertext": "MV3.101 Line 87<br>Line Utilisation: 0.168",
         "lat": [
          53.644549999999995
         ],
         "lon": [
          11.362950000000001
         ],
         "marker": {
          "color": "#05ffff",
          "opacity": 0,
          "size": 0
         },
         "mode": "markers",
         "showlegend": false,
         "type": "scattermapbox"
        },
        {
         "hoverinfo": "skip",
         "lat": [
          53.6505,
          53.6525
         ],
         "line": {
          "color": "#05ffff",
          "width": 2
         },
         "lon": [
          11.3708,
          11.3724
         ],
         "mode": "lines",
         "showlegend": false,
         "type": "scattermapbox"
        },
        {
         "hoverinfo": "skip",
         "lat": [
          53.6505
         ],
         "lon": [
          11.3708
         ],
         "marker": {
          "cmax": 0.3900003389323528,
          "cmin": 0.0005069367152221342,
          "color": [
           0.17008915458942075
          ],
          "colorbar": {
           "title": {
            "text": "Line Utilisation"
           },
           "x": 1.02
          },
          "colorscale": [
           [
            0.0,
            "rgb(0,0,131)"
           ],
           [
            0.2,
            "rgb(0,60,170)"
           ],
           [
            0.4,
            "rgb(5,255,255)"
           ],
           [
            0.6,
            "rgb(255,255,0)"
           ],
           [
            0.8,
            "rgb(250,0,0)"
           ],
           [
            1.0,
            "rgb(128,0,0)"
           ]
          ],
          "opacity": 0,
          "showscale": true,
          "size": 0.1
         },
         "mode": "markers",
         "showlegend": false,
         "type": "scattermapbox"
        },
        {
         "hoverinfo": "text",
         "hovertext": "MV3.101 Line 18<br>Line Utilisation: 0.170",
         "lat": [
          53.6515
         ],
         "lon": [
          11.3716
         ],
         "marker": {
          "color": "#05ffff",
          "opacity": 0,
          "size": 0
         },
         "mode": "markers",
         "showlegend": false,
         "type": "scattermapbox"
        },
        {
         "hoverinfo": "skip",
         "lat": [
          53.6469,
          53.6475
         ],
         "line": {
          "color": "#05ffff",
          "width": 2
         },
         "lon": [
          11.3746,
          11.3748
         ],
         "mode": "lines",
         "showlegend": false,
         "type": "scattermapbox"
        },
        {
         "hoverinfo": "skip",
         "lat": [
          53.6469
         ],
         "lon": [
          11.3746
         ],
         "marker": {
          "cmax": 0.3900003389323528,
          "cmin": 0.0005069367152221342,
          "color": [
           0.22816984118390685
          ],
          "colorbar": {
           "title": {
            "text": "Line Utilisation"
           },
           "x": 1.02
          },
          "colorscale": [
           [
            0.0,
            "rgb(0,0,131)"
           ],
           [
            0.2,
            "rgb(0,60,170)"
           ],
           [
            0.4,
            "rgb(5,255,255)"
           ],
           [
            0.6,
            "rgb(255,255,0)"
           ],
           [
            0.8,
            "rgb(250,0,0)"
           ],
           [
            1.0,
            "rgb(128,0,0)"
           ]
          ],
          "opacity": 0,
          "showscale": true,
          "size": 0.1
         },
         "mode": "markers",
         "showlegend": false,
         "type": "scattermapbox"
        },
        {
         "hoverinfo": "text",
         "hovertext": "MV3.101 Line 127<br>Line Utilisation: 0.228",
         "lat": [
          53.6472
         ],
         "lon": [
          11.3747
         ],
         "marker": {
          "color": "#05ffff",
          "opacity": 0,
          "size": 0
         },
         "mode": "markers",
         "showlegend": false,
         "type": "scattermapbox"
        },
        {
         "hoverinfo": "skip",
         "lat": [
          53.6498,
          53.6504
         ],
         "line": {
          "color": "#ffff00",
          "width": 2
         },
         "lon": [
          11.3578,
          11.357
         ],
         "mode": "lines",
         "showlegend": false,
         "type": "scattermapbox"
        },
        {
         "hoverinfo": "skip",
         "lat": [
          53.6498
         ],
         "lon": [
          11.3578
         ],
         "marker": {
          "cmax": 0.3900003389323528,
          "cmin": 0.0005069367152221342,
          "color": [
           0.30510782955317745
          ],
          "colorbar": {
           "title": {
            "text": "Line Utilisation"
           },
           "x": 1.02
          },
          "colorscale": [
           [
            0.0,
            "rgb(0,0,131)"
           ],
           [
            0.2,
            "rgb(0,60,170)"
           ],
           [
            0.4,
            "rgb(5,255,255)"
           ],
           [
            0.6,
            "rgb(255,255,0)"
           ],
           [
            0.8,
            "rgb(250,0,0)"
           ],
           [
            1.0,
            "rgb(128,0,0)"
           ]
          ],
          "opacity": 0,
          "showscale": true,
          "size": 0.1
         },
         "mode": "markers",
         "showlegend": false,
         "type": "scattermapbox"
        },
        {
         "hoverinfo": "text",
         "hovertext": "MV3.101 Line 55<br>Line Utilisation: 0.305",
         "lat": [
          53.650099999999995
         ],
         "lon": [
          11.357399999999998
         ],
         "marker": {
          "color": "#ffff00",
          "opacity": 0,
          "size": 0
         },
         "mode": "markers",
         "showlegend": false,
         "type": "scattermapbox"
        },
        {
         "hoverinfo": "skip",
         "lat": [
          53.642,
          53.6416
         ],
         "line": {
          "color": "#ffff00",
          "width": 2
         },
         "lon": [
          11.3663,
          11.366
         ],
         "mode": "lines",
         "showlegend": false,
         "type": "scattermapbox"
        },
        {
         "hoverinfo": "skip",
         "lat": [
          53.642
         ],
         "lon": [
          11.3663
         ],
         "marker": {
          "cmax": 0.3900003389323528,
          "cmin": 0.0005069367152221342,
          "color": [
           0.23800748009555917
          ],
          "colorbar": {
           "title": {
            "text": "Line Utilisation"
           },
           "x": 1.02
          },
          "colorscale": [
           [
            0.0,
            "rgb(0,0,131)"
           ],
           [
            0.2,
            "rgb(0,60,170)"
           ],
           [
            0.4,
            "rgb(5,255,255)"
           ],
           [
            0.6,
            "rgb(255,255,0)"
           ],
           [
            0.8,
            "rgb(250,0,0)"
           ],
           [
            1.0,
            "rgb(128,0,0)"
           ]
          ],
          "opacity": 0,
          "showscale": true,
          "size": 0.1
         },
         "mode": "markers",
         "showlegend": false,
         "type": "scattermapbox"
        },
        {
         "hoverinfo": "text",
         "hovertext": "MV3.101 Line 71<br>Line Utilisation: 0.238",
         "lat": [
          53.6418
         ],
         "lon": [
          11.366150000000001
         ],
         "marker": {
          "color": "#ffff00",
          "opacity": 0,
          "size": 0
         },
         "mode": "markers",
         "showlegend": false,
         "type": "scattermapbox"
        },
        {
         "hoverinfo": "skip",
         "lat": [
          53.6537,
          53.6521
         ],
         "line": {
          "color": "#000083",
          "width": 2
         },
         "lon": [
          11.3524,
          11.3535
         ],
         "mode": "lines",
         "showlegend": false,
         "type": "scattermapbox"
        },
        {
         "hoverinfo": "skip",
         "lat": [
          53.6537
         ],
         "lon": [
          11.3524
         ],
         "marker": {
          "cmax": 0.3900003389323528,
          "cmin": 0.0005069367152221342,
          "color": [
           0.0687052801608132
          ],
          "colorbar": {
           "title": {
            "text": "Line Utilisation"
           },
           "x": 1.02
          },
          "colorscale": [
           [
            0.0,
            "rgb(0,0,131)"
           ],
           [
            0.2,
            "rgb(0,60,170)"
           ],
           [
            0.4,
            "rgb(5,255,255)"
           ],
           [
            0.6,
            "rgb(255,255,0)"
           ],
           [
            0.8,
            "rgb(250,0,0)"
           ],
           [
            1.0,
            "rgb(128,0,0)"
           ]
          ],
          "opacity": 0,
          "showscale": true,
          "size": 0.1
         },
         "mode": "markers",
         "showlegend": false,
         "type": "scattermapbox"
        },
        {
         "hoverinfo": "text",
         "hovertext": "MV3.101 Line 65<br>Line Utilisation: 0.069",
         "lat": [
          53.6529
         ],
         "lon": [
          11.35295
         ],
         "marker": {
          "color": "#000083",
          "opacity": 0,
          "size": 0
         },
         "mode": "markers",
         "showlegend": false,
         "type": "scattermapbox"
        },
        {
         "hoverinfo": "skip",
         "lat": [
          53.634,
          53.6332
         ],
         "line": {
          "color": "#003caa",
          "width": 2
         },
         "lon": [
          11.3636,
          11.3633
         ],
         "mode": "lines",
         "showlegend": false,
         "type": "scattermapbox"
        },
        {
         "hoverinfo": "skip",
         "lat": [
          53.634
         ],
         "lon": [
          11.3636
         ],
         "marker": {
          "cmax": 0.3900003389323528,
          "cmin": 0.0005069367152221342,
          "color": [
           0.1353413750912666
          ],
          "colorbar": {
           "title": {
            "text": "Line Utilisation"
           },
           "x": 1.02
          },
          "colorscale": [
           [
            0.0,
            "rgb(0,0,131)"
           ],
           [
            0.2,
            "rgb(0,60,170)"
           ],
           [
            0.4,
            "rgb(5,255,255)"
           ],
           [
            0.6,
            "rgb(255,255,0)"
           ],
           [
            0.8,
            "rgb(250,0,0)"
           ],
           [
            1.0,
            "rgb(128,0,0)"
           ]
          ],
          "opacity": 0,
          "showscale": true,
          "size": 0.1
         },
         "mode": "markers",
         "showlegend": false,
         "type": "scattermapbox"
        },
        {
         "hoverinfo": "text",
         "hovertext": "MV3.101 Line 76<br>Line Utilisation: 0.135",
         "lat": [
          53.6336
         ],
         "lon": [
          11.36345
         ],
         "marker": {
          "color": "#003caa",
          "opacity": 0,
          "size": 0
         },
         "mode": "markers",
         "showlegend": false,
         "type": "scattermapbox"
        },
        {
         "hoverinfo": "skip",
         "lat": [
          53.6485,
          53.6505
         ],
         "line": {
          "color": "#05ffff",
          "width": 2
         },
         "lon": [
          11.3698,
          11.3708
         ],
         "mode": "lines",
         "showlegend": false,
         "type": "scattermapbox"
        },
        {
         "hoverinfo": "skip",
         "lat": [
          53.6485
         ],
         "lon": [
          11.3698
         ],
         "marker": {
          "cmax": 0.3900003389323528,
          "cmin": 0.0005069367152221342,
          "color": [
           0.20321982156008409
          ],
          "colorbar": {
           "title": {
            "text": "Line Utilisation"
           },
           "x": 1.02
          },
          "colorscale": [
           [
            0.0,
            "rgb(0,0,131)"
           ],
           [
            0.2,
            "rgb(0,60,170)"
           ],
           [
            0.4,
            "rgb(5,255,255)"
           ],
           [
            0.6,
            "rgb(255,255,0)"
           ],
           [
            0.8,
            "rgb(250,0,0)"
           ],
           [
            1.0,
            "rgb(128,0,0)"
           ]
          ],
          "opacity": 0,
          "showscale": true,
          "size": 0.1
         },
         "mode": "markers",
         "showlegend": false,
         "type": "scattermapbox"
        },
        {
         "hoverinfo": "text",
         "hovertext": "MV3.101 Line 17<br>Line Utilisation: 0.203",
         "lat": [
          53.6495
         ],
         "lon": [
          11.3703
         ],
         "marker": {
          "color": "#05ffff",
          "opacity": 0,
          "size": 0
         },
         "mode": "markers",
         "showlegend": false,
         "type": "scattermapbox"
        },
        {
         "hoverinfo": "skip",
         "lat": [
          53.6472,
          53.6464
         ],
         "line": {
          "color": "#000083",
          "width": 2
         },
         "lon": [
          11.3833,
          11.3832
         ],
         "mode": "lines",
         "showlegend": false,
         "type": "scattermapbox"
        },
        {
         "hoverinfo": "skip",
         "lat": [
          53.6472
         ],
         "lon": [
          11.3833
         ],
         "marker": {
          "cmax": 0.3900003389323528,
          "cmin": 0.0005069367152221342,
          "color": [
           0.02193738143759481
          ],
          "colorbar": {
           "title": {
            "text": "Line Utilisation"
           },
           "x": 1.02
          },
          "colorscale": [
           [
            0.0,
            "rgb(0,0,131)"
           ],
           [
            0.2,
            "rgb(0,60,170)"
           ],
           [
            0.4,
            "rgb(5,255,255)"
           ],
           [
            0.6,
            "rgb(255,255,0)"
           ],
           [
            0.8,
            "rgb(250,0,0)"
           ],
           [
            1.0,
            "rgb(128,0,0)"
           ]
          ],
          "opacity": 0,
          "showscale": true,
          "size": 0.1
         },
         "mode": "markers",
         "showlegend": false,
         "type": "scattermapbox"
        },
        {
         "hoverinfo": "text",
         "hovertext": "MV3.101 Line 125<br>Line Utilisation: 0.022",
         "lat": [
          53.6468
         ],
         "lon": [
          11.38325
         ],
         "marker": {
          "color": "#000083",
          "opacity": 0,
          "size": 0
         },
         "mode": "markers",
         "showlegend": false,
         "type": "scattermapbox"
        },
        {
         "hoverinfo": "skip",
         "lat": [
          53.641,
          53.6415
         ],
         "line": {
          "color": "#000083",
          "width": 2
         },
         "lon": [
          11.3767,
          11.3776
         ],
         "mode": "lines",
         "showlegend": false,
         "type": "scattermapbox"
        },
        {
         "hoverinfo": "skip",
         "lat": [
          53.641
         ],
         "lon": [
          11.3767
         ],
         "marker": {
          "cmax": 0.3900003389323528,
          "cmin": 0.0005069367152221342,
          "color": [
           0.06748867760752575
          ],
          "colorbar": {
           "title": {
            "text": "Line Utilisation"
           },
           "x": 1.02
          },
          "colorscale": [
           [
            0.0,
            "rgb(0,0,131)"
           ],
           [
            0.2,
            "rgb(0,60,170)"
           ],
           [
            0.4,
            "rgb(5,255,255)"
           ],
           [
            0.6,
            "rgb(255,255,0)"
           ],
           [
            0.8,
            "rgb(250,0,0)"
           ],
           [
            1.0,
            "rgb(128,0,0)"
           ]
          ],
          "opacity": 0,
          "showscale": true,
          "size": 0.1
         },
         "mode": "markers",
         "showlegend": false,
         "type": "scattermapbox"
        },
        {
         "hoverinfo": "text",
         "hovertext": "MV3.101 Line 7<br>Line Utilisation: 0.067",
         "lat": [
          53.64125
         ],
         "lon": [
          11.37715
         ],
         "marker": {
          "color": "#000083",
          "opacity": 0,
          "size": 0
         },
         "mode": "markers",
         "showlegend": false,
         "type": "scattermapbox"
        },
        {
         "hoverinfo": "skip",
         "lat": [
          53.6457,
          53.6465
         ],
         "line": {
          "color": "#fa0000",
          "width": 2
         },
         "lon": [
          11.3682,
          11.3669
         ],
         "mode": "lines",
         "showlegend": false,
         "type": "scattermapbox"
        },
        {
         "hoverinfo": "skip",
         "lat": [
          53.6457
         ],
         "lon": [
          11.3682
         ],
         "marker": {
          "cmax": 0.3900003389323528,
          "cmin": 0.0005069367152221342,
          "color": [
           0.37054544884901297
          ],
          "colorbar": {
           "title": {
            "text": "Line Utilisation"
           },
           "x": 1.02
          },
          "colorscale": [
           [
            0.0,
            "rgb(0,0,131)"
           ],
           [
            0.2,
            "rgb(0,60,170)"
           ],
           [
            0.4,
            "rgb(5,255,255)"
           ],
           [
            0.6,
            "rgb(255,255,0)"
           ],
           [
            0.8,
            "rgb(250,0,0)"
           ],
           [
            1.0,
            "rgb(128,0,0)"
           ]
          ],
          "opacity": 0,
          "showscale": true,
          "size": 0.1
         },
         "mode": "markers",
         "showlegend": false,
         "type": "scattermapbox"
        },
        {
         "hoverinfo": "text",
         "hovertext": "MV3.101 Line 50<br>Line Utilisation: 0.371",
         "lat": [
          53.646100000000004
         ],
         "lon": [
          11.36755
         ],
         "marker": {
          "color": "#fa0000",
          "opacity": 0,
          "size": 0
         },
         "mode": "markers",
         "showlegend": false,
         "type": "scattermapbox"
        },
        {
         "hoverinfo": "skip",
         "lat": [
          53.633,
          53.6315
         ],
         "line": {
          "color": "#05ffff",
          "width": 2
         },
         "lon": [
          11.3668,
          11.3692
         ],
         "mode": "lines",
         "showlegend": false,
         "type": "scattermapbox"
        },
        {
         "hoverinfo": "skip",
         "lat": [
          53.633
         ],
         "lon": [
          11.3668
         ],
         "marker": {
          "cmax": 0.3900003389323528,
          "cmin": 0.0005069367152221342,
          "color": [
           0.1965800503411107
          ],
          "colorbar": {
           "title": {
            "text": "Line Utilisation"
           },
           "x": 1.02
          },
          "colorscale": [
           [
            0.0,
            "rgb(0,0,131)"
           ],
           [
            0.2,
            "rgb(0,60,170)"
           ],
           [
            0.4,
            "rgb(5,255,255)"
           ],
           [
            0.6,
            "rgb(255,255,0)"
           ],
           [
            0.8,
            "rgb(250,0,0)"
           ],
           [
            1.0,
            "rgb(128,0,0)"
           ]
          ],
          "opacity": 0,
          "showscale": true,
          "size": 0.1
         },
         "mode": "markers",
         "showlegend": false,
         "type": "scattermapbox"
        },
        {
         "hoverinfo": "text",
         "hovertext": "MV3.101 Line 102<br>Line Utilisation: 0.197",
         "lat": [
          53.63225
         ],
         "lon": [
          11.367999999999999
         ],
         "marker": {
          "color": "#05ffff",
          "opacity": 0,
          "size": 0
         },
         "mode": "markers",
         "showlegend": false,
         "type": "scattermapbox"
        },
        {
         "hoverinfo": "skip",
         "lat": [
          53.6511,
          53.6531
         ],
         "line": {
          "color": "#003caa",
          "width": 2
         },
         "lon": [
          11.3682,
          11.3682
         ],
         "mode": "lines",
         "showlegend": false,
         "type": "scattermapbox"
        },
        {
         "hoverinfo": "skip",
         "lat": [
          53.6511
         ],
         "lon": [
          11.3682
         ],
         "marker": {
          "cmax": 0.3900003389323528,
          "cmin": 0.0005069367152221342,
          "color": [
           0.12171572101291944
          ],
          "colorbar": {
           "title": {
            "text": "Line Utilisation"
           },
           "x": 1.02
          },
          "colorscale": [
           [
            0.0,
            "rgb(0,0,131)"
           ],
           [
            0.2,
            "rgb(0,60,170)"
           ],
           [
            0.4,
            "rgb(5,255,255)"
           ],
           [
            0.6,
            "rgb(255,255,0)"
           ],
           [
            0.8,
            "rgb(250,0,0)"
           ],
           [
            1.0,
            "rgb(128,0,0)"
           ]
          ],
          "opacity": 0,
          "showscale": true,
          "size": 0.1
         },
         "mode": "markers",
         "showlegend": false,
         "type": "scattermapbox"
        },
        {
         "hoverinfo": "text",
         "hovertext": "MV3.101 Line 35<br>Line Utilisation: 0.122",
         "lat": [
          53.652100000000004
         ],
         "lon": [
          11.3682
         ],
         "marker": {
          "color": "#003caa",
          "opacity": 0,
          "size": 0
         },
         "mode": "markers",
         "showlegend": false,
         "type": "scattermapbox"
        },
        {
         "hoverinfo": "skip",
         "lat": [
          53.6543,
          53.6545
         ],
         "line": {
          "color": "#003caa",
          "width": 2
         },
         "lon": [
          11.3751,
          11.3756
         ],
         "mode": "lines",
         "showlegend": false,
         "type": "scattermapbox"
        },
        {
         "hoverinfo": "skip",
         "lat": [
          53.6543
         ],
         "lon": [
          11.3751
         ],
         "marker": {
          "cmax": 0.3900003389323528,
          "cmin": 0.0005069367152221342,
          "color": [
           0.11630991837043475
          ],
          "colorbar": {
           "title": {
            "text": "Line Utilisation"
           },
           "x": 1.02
          },
          "colorscale": [
           [
            0.0,
            "rgb(0,0,131)"
           ],
           [
            0.2,
            "rgb(0,60,170)"
           ],
           [
            0.4,
            "rgb(5,255,255)"
           ],
           [
            0.6,
            "rgb(255,255,0)"
           ],
           [
            0.8,
            "rgb(250,0,0)"
           ],
           [
            1.0,
            "rgb(128,0,0)"
           ]
          ],
          "opacity": 0,
          "showscale": true,
          "size": 0.1
         },
         "mode": "markers",
         "showlegend": false,
         "type": "scattermapbox"
        },
        {
         "hoverinfo": "text",
         "hovertext": "MV3.101 Line 21<br>Line Utilisation: 0.116",
         "lat": [
          53.654399999999995
         ],
         "lon": [
          11.375350000000001
         ],
         "marker": {
          "color": "#003caa",
          "opacity": 0,
          "size": 0
         },
         "mode": "markers",
         "showlegend": false,
         "type": "scattermapbox"
        },
        {
         "hoverinfo": "skip",
         "lat": [
          53.6559,
          53.655
         ],
         "line": {
          "color": "#003caa",
          "width": 2
         },
         "lon": [
          11.3519,
          11.3518
         ],
         "mode": "lines",
         "showlegend": false,
         "type": "scattermapbox"
        },
        {
         "hoverinfo": "skip",
         "lat": [
          53.6559
         ],
         "lon": [
          11.3519
         ],
         "marker": {
          "cmax": 0.3900003389323528,
          "cmin": 0.0005069367152221342,
          "color": [
           0.0891274510409069
          ],
          "colorbar": {
           "title": {
            "text": "Line Utilisation"
           },
           "x": 1.02
          },
          "colorscale": [
           [
            0.0,
            "rgb(0,0,131)"
           ],
           [
            0.2,
            "rgb(0,60,170)"
           ],
           [
            0.4,
            "rgb(5,255,255)"
           ],
           [
            0.6,
            "rgb(255,255,0)"
           ],
           [
            0.8,
            "rgb(250,0,0)"
           ],
           [
            1.0,
            "rgb(128,0,0)"
           ]
          ],
          "opacity": 0,
          "showscale": true,
          "size": 0.1
         },
         "mode": "markers",
         "showlegend": false,
         "type": "scattermapbox"
        },
        {
         "hoverinfo": "text",
         "hovertext": "MV3.101 Line 63<br>Line Utilisation: 0.089",
         "lat": [
          53.65545
         ],
         "lon": [
          11.35185
         ],
         "marker": {
          "color": "#003caa",
          "opacity": 0,
          "size": 0
         },
         "mode": "markers",
         "showlegend": false,
         "type": "scattermapbox"
        },
        {
         "hoverinfo": "skip",
         "lat": [
          53.6545,
          53.6544
         ],
         "line": {
          "color": "#003caa",
          "width": 2
         },
         "lon": [
          11.3756,
          11.3777
         ],
         "mode": "lines",
         "showlegend": false,
         "type": "scattermapbox"
        },
        {
         "hoverinfo": "skip",
         "lat": [
          53.6545
         ],
         "lon": [
          11.3756
         ],
         "marker": {
          "cmax": 0.3900003389323528,
          "cmin": 0.0005069367152221342,
          "color": [
           0.09593211507980591
          ],
          "colorbar": {
           "title": {
            "text": "Line Utilisation"
           },
           "x": 1.02
          },
          "colorscale": [
           [
            0.0,
            "rgb(0,0,131)"
           ],
           [
            0.2,
            "rgb(0,60,170)"
           ],
           [
            0.4,
            "rgb(5,255,255)"
           ],
           [
            0.6,
            "rgb(255,255,0)"
           ],
           [
            0.8,
            "rgb(250,0,0)"
           ],
           [
            1.0,
            "rgb(128,0,0)"
           ]
          ],
          "opacity": 0,
          "showscale": true,
          "size": 0.1
         },
         "mode": "markers",
         "showlegend": false,
         "type": "scattermapbox"
        },
        {
         "hoverinfo": "text",
         "hovertext": "MV3.101 Line 22<br>Line Utilisation: 0.096",
         "lat": [
          53.65445
         ],
         "lon": [
          11.376650000000001
         ],
         "marker": {
          "color": "#003caa",
          "opacity": 0,
          "size": 0
         },
         "mode": "markers",
         "showlegend": false,
         "type": "scattermapbox"
        },
        {
         "hoverinfo": "skip",
         "lat": [
          53.6261,
          53.624
         ],
         "line": {
          "color": "#000083",
          "width": 2
         },
         "lon": [
          11.3638,
          11.366
         ],
         "mode": "lines",
         "showlegend": false,
         "type": "scattermapbox"
        },
        {
         "hoverinfo": "skip",
         "lat": [
          53.6261
         ],
         "lon": [
          11.3638
         ],
         "marker": {
          "cmax": 0.3900003389323528,
          "cmin": 0.0005069367152221342,
          "color": [
           0.053058399389786653
          ],
          "colorbar": {
           "title": {
            "text": "Line Utilisation"
           },
           "x": 1.02
          },
          "colorscale": [
           [
            0.0,
            "rgb(0,0,131)"
           ],
           [
            0.2,
            "rgb(0,60,170)"
           ],
           [
            0.4,
            "rgb(5,255,255)"
           ],
           [
            0.6,
            "rgb(255,255,0)"
           ],
           [
            0.8,
            "rgb(250,0,0)"
           ],
           [
            1.0,
            "rgb(128,0,0)"
           ]
          ],
          "opacity": 0,
          "showscale": true,
          "size": 0.1
         },
         "mode": "markers",
         "showlegend": false,
         "type": "scattermapbox"
        },
        {
         "hoverinfo": "text",
         "hovertext": "MV3.101 Line 81<br>Line Utilisation: 0.053",
         "lat": [
          53.62505
         ],
         "lon": [
          11.364899999999999
         ],
         "marker": {
          "color": "#000083",
          "opacity": 0,
          "size": 0
         },
         "mode": "markers",
         "showlegend": false,
         "type": "scattermapbox"
        },
        {
         "hoverinfo": "skip",
         "lat": [
          53.6568,
          53.6567
         ],
         "line": {
          "color": "#003caa",
          "width": 2
         },
         "lon": [
          11.3561,
          11.3529
         ],
         "mode": "lines",
         "showlegend": false,
         "type": "scattermapbox"
        },
        {
         "hoverinfo": "skip",
         "lat": [
          53.6568
         ],
         "lon": [
          11.3561
         ],
         "marker": {
          "cmax": 0.3900003389323528,
          "cmin": 0.0005069367152221342,
          "color": [
           0.13821661076773809
          ],
          "colorbar": {
           "title": {
            "text": "Line Utilisation"
           },
           "x": 1.02
          },
          "colorscale": [
           [
            0.0,
            "rgb(0,0,131)"
           ],
           [
            0.2,
            "rgb(0,60,170)"
           ],
           [
            0.4,
            "rgb(5,255,255)"
           ],
           [
            0.6,
            "rgb(255,255,0)"
           ],
           [
            0.8,
            "rgb(250,0,0)"
           ],
           [
            1.0,
            "rgb(128,0,0)"
           ]
          ],
          "opacity": 0,
          "showscale": true,
          "size": 0.1
         },
         "mode": "markers",
         "showlegend": false,
         "type": "scattermapbox"
        },
        {
         "hoverinfo": "text",
         "hovertext": "MV3.101 Line 61<br>Line Utilisation: 0.138",
         "lat": [
          53.65675
         ],
         "lon": [
          11.3545
         ],
         "marker": {
          "color": "#003caa",
          "opacity": 0,
          "size": 0
         },
         "mode": "markers",
         "showlegend": false,
         "type": "scattermapbox"
        },
        {
         "hoverinfo": "skip",
         "lat": [
          53.6456,
          53.6451
         ],
         "line": {
          "color": "#fa0000",
          "width": 2
         },
         "lon": [
          11.3692,
          11.369
         ],
         "mode": "lines",
         "showlegend": false,
         "type": "scattermapbox"
        },
        {
         "hoverinfo": "skip",
         "lat": [
          53.6456
         ],
         "lon": [
          11.3692
         ],
         "marker": {
          "cmax": 0.3900003389323528,
          "cmin": 0.0005069367152221342,
          "color": [
           0.3221213081266818
          ],
          "colorbar": {
           "title": {
            "text": "Line Utilisation"
           },
           "x": 1.02
          },
          "colorscale": [
           [
            0.0,
            "rgb(0,0,131)"
           ],
           [
            0.2,
            "rgb(0,60,170)"
           ],
           [
            0.4,
            "rgb(5,255,255)"
           ],
           [
            0.6,
            "rgb(255,255,0)"
           ],
           [
            0.8,
            "rgb(250,0,0)"
           ],
           [
            1.0,
            "rgb(128,0,0)"
           ]
          ],
          "opacity": 0,
          "showscale": true,
          "size": 0.1
         },
         "mode": "markers",
         "showlegend": false,
         "type": "scattermapbox"
        },
        {
         "hoverinfo": "text",
         "hovertext": "MV3.101 Line 67<br>Line Utilisation: 0.322",
         "lat": [
          53.64535
         ],
         "lon": [
          11.3691
         ],
         "marker": {
          "color": "#fa0000",
          "opacity": 0,
          "size": 0
         },
         "mode": "markers",
         "showlegend": false,
         "type": "scattermapbox"
        },
        {
         "hoverinfo": "skip",
         "lat": [
          53.6545,
          53.6568
         ],
         "line": {
          "color": "#05ffff",
          "width": 2
         },
         "lon": [
          11.3581,
          11.3561
         ],
         "mode": "lines",
         "showlegend": false,
         "type": "scattermapbox"
        },
        {
         "hoverinfo": "skip",
         "lat": [
          53.6545
         ],
         "lon": [
          11.3581
         ],
         "marker": {
          "cmax": 0.3900003389323528,
          "cmin": 0.0005069367152221342,
          "color": [
           0.1651796616251228
          ],
          "colorbar": {
           "title": {
            "text": "Line Utilisation"
           },
           "x": 1.02
          },
          "colorscale": [
           [
            0.0,
            "rgb(0,0,131)"
           ],
           [
            0.2,
            "rgb(0,60,170)"
           ],
           [
            0.4,
            "rgb(5,255,255)"
           ],
           [
            0.6,
            "rgb(255,255,0)"
           ],
           [
            0.8,
            "rgb(250,0,0)"
           ],
           [
            1.0,
            "rgb(128,0,0)"
           ]
          ],
          "opacity": 0,
          "showscale": true,
          "size": 0.1
         },
         "mode": "markers",
         "showlegend": false,
         "type": "scattermapbox"
        },
        {
         "hoverinfo": "text",
         "hovertext": "MV3.101 Line 60<br>Line Utilisation: 0.165",
         "lat": [
          53.655649999999994
         ],
         "lon": [
          11.357099999999999
         ],
         "marker": {
          "color": "#05ffff",
          "opacity": 0,
          "size": 0
         },
         "mode": "markers",
         "showlegend": false,
         "type": "scattermapbox"
        },
        {
         "hoverinfo": "skip",
         "lat": [
          53.6459,
          53.648
         ],
         "line": {
          "color": "#003caa",
          "width": 2
         },
         "lon": [
          11.3687,
          11.3667
         ],
         "mode": "lines",
         "showlegend": false,
         "type": "scattermapbox"
        },
        {
         "hoverinfo": "skip",
         "lat": [
          53.6459
         ],
         "lon": [
          11.3687
         ],
         "marker": {
          "cmax": 0.3900003389323528,
          "cmin": 0.0005069367152221342,
          "color": [
           0.14674051141345662
          ],
          "colorbar": {
           "title": {
            "text": "Line Utilisation"
           },
           "x": 1.02
          },
          "colorscale": [
           [
            0.0,
            "rgb(0,0,131)"
           ],
           [
            0.2,
            "rgb(0,60,170)"
           ],
           [
            0.4,
            "rgb(5,255,255)"
           ],
           [
            0.6,
            "rgb(255,255,0)"
           ],
           [
            0.8,
            "rgb(250,0,0)"
           ],
           [
            1.0,
            "rgb(128,0,0)"
           ]
          ],
          "opacity": 0,
          "showscale": true,
          "size": 0.1
         },
         "mode": "markers",
         "showlegend": false,
         "type": "scattermapbox"
        },
        {
         "hoverinfo": "text",
         "hovertext": "MV3.101 Line 42<br>Line Utilisation: 0.147",
         "lat": [
          53.646950000000004
         ],
         "lon": [
          11.3677
         ],
         "marker": {
          "color": "#003caa",
          "opacity": 0,
          "size": 0
         },
         "mode": "markers",
         "showlegend": false,
         "type": "scattermapbox"
        },
        {
         "hoverinfo": "skip",
         "lat": [
          53.6592,
          53.6598
         ],
         "line": {
          "color": "#000083",
          "width": 2
         },
         "lon": [
          11.3686,
          11.3685
         ],
         "mode": "lines",
         "showlegend": false,
         "type": "scattermapbox"
        },
        {
         "hoverinfo": "skip",
         "lat": [
          53.6592
         ],
         "lon": [
          11.3686
         ],
         "marker": {
          "cmax": 0.3900003389323528,
          "cmin": 0.0005069367152221342,
          "color": [
           0.011675452042928488
          ],
          "colorbar": {
           "title": {
            "text": "Line Utilisation"
           },
           "x": 1.02
          },
          "colorscale": [
           [
            0.0,
            "rgb(0,0,131)"
           ],
           [
            0.2,
            "rgb(0,60,170)"
           ],
           [
            0.4,
            "rgb(5,255,255)"
           ],
           [
            0.6,
            "rgb(255,255,0)"
           ],
           [
            0.8,
            "rgb(250,0,0)"
           ],
           [
            1.0,
            "rgb(128,0,0)"
           ]
          ],
          "opacity": 0,
          "showscale": true,
          "size": 0.1
         },
         "mode": "markers",
         "showlegend": false,
         "type": "scattermapbox"
        },
        {
         "hoverinfo": "text",
         "hovertext": "MV3.101 Line 40<br>Line Utilisation: 0.012",
         "lat": [
          53.659499999999994
         ],
         "lon": [
          11.368549999999999
         ],
         "marker": {
          "color": "#000083",
          "opacity": 0,
          "size": 0
         },
         "mode": "markers",
         "showlegend": false,
         "type": "scattermapbox"
        },
        {
         "hoverinfo": "skip",
         "lat": [
          53.6429,
          53.6434
         ],
         "line": {
          "color": "#000083",
          "width": 2
         },
         "lon": [
          11.3815,
          11.3825
         ],
         "mode": "lines",
         "showlegend": false,
         "type": "scattermapbox"
        },
        {
         "hoverinfo": "skip",
         "lat": [
          53.6429
         ],
         "lon": [
          11.3815
         ],
         "marker": {
          "cmax": 0.3900003389323528,
          "cmin": 0.0005069367152221342,
          "color": [
           0.044209161322971764
          ],
          "colorbar": {
           "title": {
            "text": "Line Utilisation"
           },
           "x": 1.02
          },
          "colorscale": [
           [
            0.0,
            "rgb(0,0,131)"
           ],
           [
            0.2,
            "rgb(0,60,170)"
           ],
           [
            0.4,
            "rgb(5,255,255)"
           ],
           [
            0.6,
            "rgb(255,255,0)"
           ],
           [
            0.8,
            "rgb(250,0,0)"
           ],
           [
            1.0,
            "rgb(128,0,0)"
           ]
          ],
          "opacity": 0,
          "showscale": true,
          "size": 0.1
         },
         "mode": "markers",
         "showlegend": false,
         "type": "scattermapbox"
        },
        {
         "hoverinfo": "text",
         "hovertext": "MV3.101 Line 114<br>Line Utilisation: 0.044",
         "lat": [
          53.64315
         ],
         "lon": [
          11.382000000000001
         ],
         "marker": {
          "color": "#000083",
          "opacity": 0,
          "size": 0
         },
         "mode": "markers",
         "showlegend": false,
         "type": "scattermapbox"
        },
        {
         "hoverinfo": "skip",
         "lat": [
          53.6454,
          53.6455
         ],
         "line": {
          "color": "#000083",
          "width": 2
         },
         "lon": [
          11.3776,
          11.3798
         ],
         "mode": "lines",
         "showlegend": false,
         "type": "scattermapbox"
        },
        {
         "hoverinfo": "skip",
         "lat": [
          53.6454
         ],
         "lon": [
          11.3776
         ],
         "marker": {
          "cmax": 0.3900003389323528,
          "cmin": 0.0005069367152221342,
          "color": [
           0.0409473786336754
          ],
          "colorbar": {
           "title": {
            "text": "Line Utilisation"
           },
           "x": 1.02
          },
          "colorscale": [
           [
            0.0,
            "rgb(0,0,131)"
           ],
           [
            0.2,
            "rgb(0,60,170)"
           ],
           [
            0.4,
            "rgb(5,255,255)"
           ],
           [
            0.6,
            "rgb(255,255,0)"
           ],
           [
            0.8,
            "rgb(250,0,0)"
           ],
           [
            1.0,
            "rgb(128,0,0)"
           ]
          ],
          "opacity": 0,
          "showscale": true,
          "size": 0.1
         },
         "mode": "markers",
         "showlegend": false,
         "type": "scattermapbox"
        },
        {
         "hoverinfo": "text",
         "hovertext": "MV3.101 Line 118<br>Line Utilisation: 0.041",
         "lat": [
          53.64545
         ],
         "lon": [
          11.378699999999998
         ],
         "marker": {
          "color": "#000083",
          "opacity": 0,
          "size": 0
         },
         "mode": "markers",
         "showlegend": false,
         "type": "scattermapbox"
        },
        {
         "hoverinfo": "skip",
         "lat": [
          53.6421,
          53.6411
         ],
         "line": {
          "color": "#05ffff",
          "width": 2
         },
         "lon": [
          11.3708,
          11.3715
         ],
         "mode": "lines",
         "showlegend": false,
         "type": "scattermapbox"
        },
        {
         "hoverinfo": "skip",
         "lat": [
          53.6421
         ],
         "lon": [
          11.3708
         ],
         "marker": {
          "cmax": 0.3900003389323528,
          "cmin": 0.0005069367152221342,
          "color": [
           0.16741421941064813
          ],
          "colorbar": {
           "title": {
            "text": "Line Utilisation"
           },
           "x": 1.02
          },
          "colorscale": [
           [
            0.0,
            "rgb(0,0,131)"
           ],
           [
            0.2,
            "rgb(0,60,170)"
           ],
           [
            0.4,
            "rgb(5,255,255)"
           ],
           [
            0.6,
            "rgb(255,255,0)"
           ],
           [
            0.8,
            "rgb(250,0,0)"
           ],
           [
            1.0,
            "rgb(128,0,0)"
           ]
          ],
          "opacity": 0,
          "showscale": true,
          "size": 0.1
         },
         "mode": "markers",
         "showlegend": false,
         "type": "scattermapbox"
        },
        {
         "hoverinfo": "text",
         "hovertext": "MV3.101 Line 4<br>Line Utilisation: 0.167",
         "lat": [
          53.6416
         ],
         "lon": [
          11.37115
         ],
         "marker": {
          "color": "#05ffff",
          "opacity": 0,
          "size": 0
         },
         "mode": "markers",
         "showlegend": false,
         "type": "scattermapbox"
        },
        {
         "hoverinfo": "skip",
         "lat": [
          53.6464,
          53.6456
         ],
         "line": {
          "color": "#003caa",
          "width": 2
         },
         "lon": [
          11.3745,
          11.3752
         ],
         "mode": "lines",
         "showlegend": false,
         "type": "scattermapbox"
        },
        {
         "hoverinfo": "skip",
         "lat": [
          53.6464
         ],
         "lon": [
          11.3745
         ],
         "marker": {
          "cmax": 0.3900003389323528,
          "cmin": 0.0005069367152221342,
          "color": [
           0.11774624757567588
          ],
          "colorbar": {
           "title": {
            "text": "Line Utilisation"
           },
           "x": 1.02
          },
          "colorscale": [
           [
            0.0,
            "rgb(0,0,131)"
           ],
           [
            0.2,
            "rgb(0,60,170)"
           ],
           [
            0.4,
            "rgb(5,255,255)"
           ],
           [
            0.6,
            "rgb(255,255,0)"
           ],
           [
            0.8,
            "rgb(250,0,0)"
           ],
           [
            1.0,
            "rgb(128,0,0)"
           ]
          ],
          "opacity": 0,
          "showscale": true,
          "size": 0.1
         },
         "mode": "markers",
         "showlegend": false,
         "type": "scattermapbox"
        },
        {
         "hoverinfo": "text",
         "hovertext": "MV3.101 Line 115<br>Line Utilisation: 0.118",
         "lat": [
          53.646
         ],
         "lon": [
          11.374849999999999
         ],
         "marker": {
          "color": "#003caa",
          "opacity": 0,
          "size": 0
         },
         "mode": "markers",
         "showlegend": false,
         "type": "scattermapbox"
        },
        {
         "hoverinfo": "skip",
         "lat": [
          53.6436,
          53.6417
         ],
         "line": {
          "color": "#ffff00",
          "width": 2
         },
         "lon": [
          11.3686,
          11.368
         ],
         "mode": "lines",
         "showlegend": false,
         "type": "scattermapbox"
        },
        {
         "hoverinfo": "skip",
         "lat": [
          53.6436
         ],
         "lon": [
          11.3686
         ],
         "marker": {
          "cmax": 0.3900003389323528,
          "cmin": 0.0005069367152221342,
          "color": [
           0.2501501952537399
          ],
          "colorbar": {
           "title": {
            "text": "Line Utilisation"
           },
           "x": 1.02
          },
          "colorscale": [
           [
            0.0,
            "rgb(0,0,131)"
           ],
           [
            0.2,
            "rgb(0,60,170)"
           ],
           [
            0.4,
            "rgb(5,255,255)"
           ],
           [
            0.6,
            "rgb(255,255,0)"
           ],
           [
            0.8,
            "rgb(250,0,0)"
           ],
           [
            1.0,
            "rgb(128,0,0)"
           ]
          ],
          "opacity": 0,
          "showscale": true,
          "size": 0.1
         },
         "mode": "markers",
         "showlegend": false,
         "type": "scattermapbox"
        },
        {
         "hoverinfo": "text",
         "hovertext": "MV3.101 Line 96<br>Line Utilisation: 0.250",
         "lat": [
          53.64265
         ],
         "lon": [
          11.368300000000001
         ],
         "marker": {
          "color": "#ffff00",
          "opacity": 0,
          "size": 0
         },
         "mode": "markers",
         "showlegend": false,
         "type": "scattermapbox"
        },
        {
         "hoverinfo": "skip",
         "lat": [
          53.624,
          53.6236
         ],
         "line": {
          "color": "#000083",
          "width": 2
         },
         "lon": [
          11.366,
          11.3683
         ],
         "mode": "lines",
         "showlegend": false,
         "type": "scattermapbox"
        },
        {
         "hoverinfo": "skip",
         "lat": [
          53.624
         ],
         "lon": [
          11.366
         ],
         "marker": {
          "cmax": 0.3900003389323528,
          "cmin": 0.0005069367152221342,
          "color": [
           0.042598469188741724
          ],
          "colorbar": {
           "title": {
            "text": "Line Utilisation"
           },
           "x": 1.02
          },
          "colorscale": [
           [
            0.0,
            "rgb(0,0,131)"
           ],
           [
            0.2,
            "rgb(0,60,170)"
           ],
           [
            0.4,
            "rgb(5,255,255)"
           ],
           [
            0.6,
            "rgb(255,255,0)"
           ],
           [
            0.8,
            "rgb(250,0,0)"
           ],
           [
            1.0,
            "rgb(128,0,0)"
           ]
          ],
          "opacity": 0,
          "showscale": true,
          "size": 0.1
         },
         "mode": "markers",
         "showlegend": false,
         "type": "scattermapbox"
        },
        {
         "hoverinfo": "text",
         "hovertext": "MV3.101 Line 82<br>Line Utilisation: 0.043",
         "lat": [
          53.6238
         ],
         "lon": [
          11.367149999999999
         ],
         "marker": {
          "color": "#000083",
          "opacity": 0,
          "size": 0
         },
         "mode": "markers",
         "showlegend": false,
         "type": "scattermapbox"
        },
        {
         "hoverinfo": "skip",
         "lat": [
          53.6479,
          53.6481
         ],
         "line": {
          "color": "#003caa",
          "width": 2
         },
         "lon": [
          11.3773,
          11.3784
         ],
         "mode": "lines",
         "showlegend": false,
         "type": "scattermapbox"
        },
        {
         "hoverinfo": "skip",
         "lat": [
          53.6479
         ],
         "lon": [
          11.3773
         ],
         "marker": {
          "cmax": 0.3900003389323528,
          "cmin": 0.0005069367152221342,
          "color": [
           0.11635190050628667
          ],
          "colorbar": {
           "title": {
            "text": "Line Utilisation"
           },
           "x": 1.02
          },
          "colorscale": [
           [
            0.0,
            "rgb(0,0,131)"
           ],
           [
            0.2,
            "rgb(0,60,170)"
           ],
           [
            0.4,
            "rgb(5,255,255)"
           ],
           [
            0.6,
            "rgb(255,255,0)"
           ],
           [
            0.8,
            "rgb(250,0,0)"
           ],
           [
            1.0,
            "rgb(128,0,0)"
           ]
          ],
          "opacity": 0,
          "showscale": true,
          "size": 0.1
         },
         "mode": "markers",
         "showlegend": false,
         "type": "scattermapbox"
        },
        {
         "hoverinfo": "text",
         "hovertext": "MV3.101 Line 122<br>Line Utilisation: 0.116",
         "lat": [
          53.647999999999996
         ],
         "lon": [
          11.377849999999999
         ],
         "marker": {
          "color": "#003caa",
          "opacity": 0,
          "size": 0
         },
         "mode": "markers",
         "showlegend": false,
         "type": "scattermapbox"
        },
        {
         "hoverinfo": "skip",
         "lat": [
          53.6456,
          53.6436
         ],
         "line": {
          "color": "#ffff00",
          "width": 2
         },
         "lon": [
          11.3692,
          11.3686
         ],
         "mode": "lines",
         "showlegend": false,
         "type": "scattermapbox"
        },
        {
         "hoverinfo": "skip",
         "lat": [
          53.6456
         ],
         "lon": [
          11.3692
         ],
         "marker": {
          "cmax": 0.3900003389323528,
          "cmin": 0.0005069367152221342,
          "color": [
           0.2704722987890339
          ],
          "colorbar": {
           "title": {
            "text": "Line Utilisation"
           },
           "x": 1.02
          },
          "colorscale": [
           [
            0.0,
            "rgb(0,0,131)"
           ],
           [
            0.2,
            "rgb(0,60,170)"
           ],
           [
            0.4,
            "rgb(5,255,255)"
           ],
           [
            0.6,
            "rgb(255,255,0)"
           ],
           [
            0.8,
            "rgb(250,0,0)"
           ],
           [
            1.0,
            "rgb(128,0,0)"
           ]
          ],
          "opacity": 0,
          "showscale": true,
          "size": 0.1
         },
         "mode": "markers",
         "showlegend": false,
         "type": "scattermapbox"
        },
        {
         "hoverinfo": "text",
         "hovertext": "MV3.101 Line 95<br>Line Utilisation: 0.270",
         "lat": [
          53.6446
         ],
         "lon": [
          11.3689
         ],
         "marker": {
          "color": "#ffff00",
          "opacity": 0,
          "size": 0
         },
         "mode": "markers",
         "showlegend": false,
         "type": "scattermapbox"
        },
        {
         "hoverinfo": "skip",
         "lat": [
          53.6525,
          53.6538
         ],
         "line": {
          "color": "#003caa",
          "width": 2
         },
         "lon": [
          11.3724,
          11.374
         ],
         "mode": "lines",
         "showlegend": false,
         "type": "scattermapbox"
        },
        {
         "hoverinfo": "skip",
         "lat": [
          53.6525
         ],
         "lon": [
          11.3724
         ],
         "marker": {
          "cmax": 0.3900003389323528,
          "cmin": 0.0005069367152221342,
          "color": [
           0.14393632347685606
          ],
          "colorbar": {
           "title": {
            "text": "Line Utilisation"
           },
           "x": 1.02
          },
          "colorscale": [
           [
            0.0,
            "rgb(0,0,131)"
           ],
           [
            0.2,
            "rgb(0,60,170)"
           ],
           [
            0.4,
            "rgb(5,255,255)"
           ],
           [
            0.6,
            "rgb(255,255,0)"
           ],
           [
            0.8,
            "rgb(250,0,0)"
           ],
           [
            1.0,
            "rgb(128,0,0)"
           ]
          ],
          "opacity": 0,
          "showscale": true,
          "size": 0.1
         },
         "mode": "markers",
         "showlegend": false,
         "type": "scattermapbox"
        },
        {
         "hoverinfo": "text",
         "hovertext": "MV3.101 Line 19<br>Line Utilisation: 0.144",
         "lat": [
          53.65315
         ],
         "lon": [
          11.3732
         ],
         "marker": {
          "color": "#003caa",
          "opacity": 0,
          "size": 0
         },
         "mode": "markers",
         "showlegend": false,
         "type": "scattermapbox"
        },
        {
         "hoverinfo": "skip",
         "lat": [
          53.6353,
          53.634
         ],
         "line": {
          "color": "#05ffff",
          "width": 2
         },
         "lon": [
          11.3632,
          11.3636
         ],
         "mode": "lines",
         "showlegend": false,
         "type": "scattermapbox"
        },
        {
         "hoverinfo": "skip",
         "lat": [
          53.6353
         ],
         "lon": [
          11.3632
         ],
         "marker": {
          "cmax": 0.3900003389323528,
          "cmin": 0.0005069367152221342,
          "color": [
           0.16640000673951913
          ],
          "colorbar": {
           "title": {
            "text": "Line Utilisation"
           },
           "x": 1.02
          },
          "colorscale": [
           [
            0.0,
            "rgb(0,0,131)"
           ],
           [
            0.2,
            "rgb(0,60,170)"
           ],
           [
            0.4,
            "rgb(5,255,255)"
           ],
           [
            0.6,
            "rgb(255,255,0)"
           ],
           [
            0.8,
            "rgb(250,0,0)"
           ],
           [
            1.0,
            "rgb(128,0,0)"
           ]
          ],
          "opacity": 0,
          "showscale": true,
          "size": 0.1
         },
         "mode": "markers",
         "showlegend": false,
         "type": "scattermapbox"
        },
        {
         "hoverinfo": "text",
         "hovertext": "MV3.101 Line 75<br>Line Utilisation: 0.166",
         "lat": [
          53.63465
         ],
         "lon": [
          11.3634
         ],
         "marker": {
          "color": "#05ffff",
          "opacity": 0,
          "size": 0
         },
         "mode": "markers",
         "showlegend": false,
         "type": "scattermapbox"
        },
        {
         "hoverinfo": "skip",
         "lat": [
          53.655,
          53.6537
         ],
         "line": {
          "color": "#003caa",
          "width": 2
         },
         "lon": [
          11.3518,
          11.3524
         ],
         "mode": "lines",
         "showlegend": false,
         "type": "scattermapbox"
        },
        {
         "hoverinfo": "skip",
         "lat": [
          53.655
         ],
         "lon": [
          11.3518
         ],
         "marker": {
          "cmax": 0.3900003389323528,
          "cmin": 0.0005069367152221342,
          "color": [
           0.07982243429986217
          ],
          "colorbar": {
           "title": {
            "text": "Line Utilisation"
           },
           "x": 1.02
          },
          "colorscale": [
           [
            0.0,
            "rgb(0,0,131)"
           ],
           [
            0.2,
            "rgb(0,60,170)"
           ],
           [
            0.4,
            "rgb(5,255,255)"
           ],
           [
            0.6,
            "rgb(255,255,0)"
           ],
           [
            0.8,
            "rgb(250,0,0)"
           ],
           [
            1.0,
            "rgb(128,0,0)"
           ]
          ],
          "opacity": 0,
          "showscale": true,
          "size": 0.1
         },
         "mode": "markers",
         "showlegend": false,
         "type": "scattermapbox"
        },
        {
         "hoverinfo": "text",
         "hovertext": "MV3.101 Line 64<br>Line Utilisation: 0.080",
         "lat": [
          53.65435
         ],
         "lon": [
          11.3521
         ],
         "marker": {
          "color": "#003caa",
          "opacity": 0,
          "size": 0
         },
         "mode": "markers",
         "showlegend": false,
         "type": "scattermapbox"
        },
        {
         "hoverinfo": "skip",
         "lat": [
          53.6456,
          53.6454
         ],
         "line": {
          "color": "#003caa",
          "width": 2
         },
         "lon": [
          11.3752,
          11.3762
         ],
         "mode": "lines",
         "showlegend": false,
         "type": "scattermapbox"
        },
        {
         "hoverinfo": "skip",
         "lat": [
          53.6456
         ],
         "lon": [
          11.3752
         ],
         "marker": {
          "cmax": 0.3900003389323528,
          "cmin": 0.0005069367152221342,
          "color": [
           0.09960797013586399
          ],
          "colorbar": {
           "title": {
            "text": "Line Utilisation"
           },
           "x": 1.02
          },
          "colorscale": [
           [
            0.0,
            "rgb(0,0,131)"
           ],
           [
            0.2,
            "rgb(0,60,170)"
           ],
           [
            0.4,
            "rgb(5,255,255)"
           ],
           [
            0.6,
            "rgb(255,255,0)"
           ],
           [
            0.8,
            "rgb(250,0,0)"
           ],
           [
            1.0,
            "rgb(128,0,0)"
           ]
          ],
          "opacity": 0,
          "showscale": true,
          "size": 0.1
         },
         "mode": "markers",
         "showlegend": false,
         "type": "scattermapbox"
        },
        {
         "hoverinfo": "text",
         "hovertext": "MV3.101 Line 116<br>Line Utilisation: 0.100",
         "lat": [
          53.6455
         ],
         "lon": [
          11.3757
         ],
         "marker": {
          "color": "#003caa",
          "opacity": 0,
          "size": 0
         },
         "mode": "markers",
         "showlegend": false,
         "type": "scattermapbox"
        },
        {
         "hoverinfo": "skip",
         "lat": [
          53.6477,
          53.6492
         ],
         "line": {
          "color": "#003caa",
          "width": 2
         },
         "lon": [
          11.3701,
          11.372
         ],
         "mode": "lines",
         "showlegend": false,
         "type": "scattermapbox"
        },
        {
         "hoverinfo": "skip",
         "lat": [
          53.6477
         ],
         "lon": [
          11.3701
         ],
         "marker": {
          "cmax": 0.3900003389323528,
          "cmin": 0.0005069367152221342,
          "color": [
           0.13474266944135227
          ],
          "colorbar": {
           "title": {
            "text": "Line Utilisation"
           },
           "x": 1.02
          },
          "colorscale": [
           [
            0.0,
            "rgb(0,0,131)"
           ],
           [
            0.2,
            "rgb(0,60,170)"
           ],
           [
            0.4,
            "rgb(5,255,255)"
           ],
           [
            0.6,
            "rgb(255,255,0)"
           ],
           [
            0.8,
            "rgb(250,0,0)"
           ],
           [
            1.0,
            "rgb(128,0,0)"
           ]
          ],
          "opacity": 0,
          "showscale": true,
          "size": 0.1
         },
         "mode": "markers",
         "showlegend": false,
         "type": "scattermapbox"
        },
        {
         "hoverinfo": "text",
         "hovertext": "MV3.101 Line 29<br>Line Utilisation: 0.135",
         "lat": [
          53.64845
         ],
         "lon": [
          11.37105
         ],
         "marker": {
          "color": "#003caa",
          "opacity": 0,
          "size": 0
         },
         "mode": "markers",
         "showlegend": false,
         "type": "scattermapbox"
        },
        {
         "hoverinfo": "skip",
         "lat": [
          53.6431,
          53.6429
         ],
         "line": {
          "color": "#05ffff",
          "width": 2
         },
         "lon": [
          11.3783,
          11.3789
         ],
         "mode": "lines",
         "showlegend": false,
         "type": "scattermapbox"
        },
        {
         "hoverinfo": "skip",
         "lat": [
          53.6431
         ],
         "lon": [
          11.3783
         ],
         "marker": {
          "cmax": 0.3900003389323528,
          "cmin": 0.0005069367152221342,
          "color": [
           0.1746926900598436
          ],
          "colorbar": {
           "title": {
            "text": "Line Utilisation"
           },
           "x": 1.02
          },
          "colorscale": [
           [
            0.0,
            "rgb(0,0,131)"
           ],
           [
            0.2,
            "rgb(0,60,170)"
           ],
           [
            0.4,
            "rgb(5,255,255)"
           ],
           [
            0.6,
            "rgb(255,255,0)"
           ],
           [
            0.8,
            "rgb(250,0,0)"
           ],
           [
            1.0,
            "rgb(128,0,0)"
           ]
          ],
          "opacity": 0,
          "showscale": true,
          "size": 0.1
         },
         "mode": "markers",
         "showlegend": false,
         "type": "scattermapbox"
        },
        {
         "hoverinfo": "text",
         "hovertext": "MV3.101 Line 111<br>Line Utilisation: 0.175",
         "lat": [
          53.643
         ],
         "lon": [
          11.378599999999999
         ],
         "marker": {
          "color": "#05ffff",
          "opacity": 0,
          "size": 0
         },
         "mode": "markers",
         "showlegend": false,
         "type": "scattermapbox"
        },
        {
         "hoverinfo": "skip",
         "lat": [
          53.6312,
          53.6303
         ],
         "line": {
          "color": "#003caa",
          "width": 2
         },
         "lon": [
          11.3627,
          11.3626
         ],
         "mode": "lines",
         "showlegend": false,
         "type": "scattermapbox"
        },
        {
         "hoverinfo": "skip",
         "lat": [
          53.6312
         ],
         "lon": [
          11.3627
         ],
         "marker": {
          "cmax": 0.3900003389323528,
          "cmin": 0.0005069367152221342,
          "color": [
           0.10380868837626377
          ],
          "colorbar": {
           "title": {
            "text": "Line Utilisation"
           },
           "x": 1.02
          },
          "colorscale": [
           [
            0.0,
            "rgb(0,0,131)"
           ],
           [
            0.2,
            "rgb(0,60,170)"
           ],
           [
            0.4,
            "rgb(5,255,255)"
           ],
           [
            0.6,
            "rgb(255,255,0)"
           ],
           [
            0.8,
            "rgb(250,0,0)"
           ],
           [
            1.0,
            "rgb(128,0,0)"
           ]
          ],
          "opacity": 0,
          "showscale": true,
          "size": 0.1
         },
         "mode": "markers",
         "showlegend": false,
         "type": "scattermapbox"
        },
        {
         "hoverinfo": "text",
         "hovertext": "MV3.101 Line 78<br>Line Utilisation: 0.104",
         "lat": [
          53.63075
         ],
         "lon": [
          11.36265
         ],
         "marker": {
          "color": "#003caa",
          "opacity": 0,
          "size": 0
         },
         "mode": "markers",
         "showlegend": false,
         "type": "scattermapbox"
        },
        {
         "hoverinfo": "skip",
         "lat": [
          53.6416,
          53.6406
         ],
         "line": {
          "color": "#05ffff",
          "width": 2
         },
         "lon": [
          11.366,
          11.3654
         ],
         "mode": "lines",
         "showlegend": false,
         "type": "scattermapbox"
        },
        {
         "hoverinfo": "skip",
         "lat": [
          53.6416
         ],
         "lon": [
          11.366
         ],
         "marker": {
          "cmax": 0.3900003389323528,
          "cmin": 0.0005069367152221342,
          "color": [
           0.22940639889982975
          ],
          "colorbar": {
           "title": {
            "text": "Line Utilisation"
           },
           "x": 1.02
          },
          "colorscale": [
           [
            0.0,
            "rgb(0,0,131)"
           ],
           [
            0.2,
            "rgb(0,60,170)"
           ],
           [
            0.4,
            "rgb(5,255,255)"
           ],
           [
            0.6,
            "rgb(255,255,0)"
           ],
           [
            0.8,
            "rgb(250,0,0)"
           ],
           [
            1.0,
            "rgb(128,0,0)"
           ]
          ],
          "opacity": 0,
          "showscale": true,
          "size": 0.1
         },
         "mode": "markers",
         "showlegend": false,
         "type": "scattermapbox"
        },
        {
         "hoverinfo": "text",
         "hovertext": "MV3.101 Line 72<br>Line Utilisation: 0.229",
         "lat": [
          53.641099999999994
         ],
         "lon": [
          11.3657
         ],
         "marker": {
          "color": "#05ffff",
          "opacity": 0,
          "size": 0
         },
         "mode": "markers",
         "showlegend": false,
         "type": "scattermapbox"
        },
        {
         "hoverinfo": "skip",
         "lat": [
          53.6603,
          53.662
         ],
         "line": {
          "color": "#000083",
          "width": 2
         },
         "lon": [
          11.3636,
          11.3646
         ],
         "mode": "lines",
         "showlegend": false,
         "type": "scattermapbox"
        },
        {
         "hoverinfo": "skip",
         "lat": [
          53.6603
         ],
         "lon": [
          11.3636
         ],
         "marker": {
          "cmax": 0.3900003389323528,
          "cmin": 0.0005069367152221342,
          "color": [
           0.031770366710541
          ],
          "colorbar": {
           "title": {
            "text": "Line Utilisation"
           },
           "x": 1.02
          },
          "colorscale": [
           [
            0.0,
            "rgb(0,0,131)"
           ],
           [
            0.2,
            "rgb(0,60,170)"
           ],
           [
            0.4,
            "rgb(5,255,255)"
           ],
           [
            0.6,
            "rgb(255,255,0)"
           ],
           [
            0.8,
            "rgb(250,0,0)"
           ],
           [
            1.0,
            "rgb(128,0,0)"
           ]
          ],
          "opacity": 0,
          "showscale": true,
          "size": 0.1
         },
         "mode": "markers",
         "showlegend": false,
         "type": "scattermapbox"
        },
        {
         "hoverinfo": "text",
         "hovertext": "MV3.101 Line 48<br>Line Utilisation: 0.032",
         "lat": [
          53.66115
         ],
         "lon": [
          11.3641
         ],
         "marker": {
          "color": "#000083",
          "opacity": 0,
          "size": 0
         },
         "mode": "markers",
         "showlegend": false,
         "type": "scattermapbox"
        },
        {
         "hoverinfo": "skip",
         "lat": [
          53.6363,
          53.6346
         ],
         "line": {
          "color": "#ffff00",
          "width": 2
         },
         "lon": [
          11.3661,
          11.3656
         ],
         "mode": "lines",
         "showlegend": false,
         "type": "scattermapbox"
        },
        {
         "hoverinfo": "skip",
         "lat": [
          53.6363
         ],
         "lon": [
          11.3661
         ],
         "marker": {
          "cmax": 0.3900003389323528,
          "cmin": 0.0005069367152221342,
          "color": [
           0.27761137197751046
          ],
          "colorbar": {
           "title": {
            "text": "Line Utilisation"
           },
           "x": 1.02
          },
          "colorscale": [
           [
            0.0,
            "rgb(0,0,131)"
           ],
           [
            0.2,
            "rgb(0,60,170)"
           ],
           [
            0.4,
            "rgb(5,255,255)"
           ],
           [
            0.6,
            "rgb(255,255,0)"
           ],
           [
            0.8,
            "rgb(250,0,0)"
           ],
           [
            1.0,
            "rgb(128,0,0)"
           ]
          ],
          "opacity": 0,
          "showscale": true,
          "size": 0.1
         },
         "mode": "markers",
         "showlegend": false,
         "type": "scattermapbox"
        },
        {
         "hoverinfo": "text",
         "hovertext": "MV3.101 Line 100<br>Line Utilisation: 0.278",
         "lat": [
          53.63545
         ],
         "lon": [
          11.36585
         ],
         "marker": {
          "color": "#ffff00",
          "opacity": 0,
          "size": 0
         },
         "mode": "markers",
         "showlegend": false,
         "type": "scattermapbox"
        },
        {
         "hoverinfo": "skip",
         "lat": [
          53.6462,
          53.6469
         ],
         "line": {
          "color": "#ffff00",
          "width": 2
         },
         "lon": [
          11.3691,
          11.3688
         ],
         "mode": "lines",
         "showlegend": false,
         "type": "scattermapbox"
        },
        {
         "hoverinfo": "skip",
         "lat": [
          53.6462
         ],
         "lon": [
          11.3691
         ],
         "marker": {
          "cmax": 0.3900003389323528,
          "cmin": 0.0005069367152221342,
          "color": [
           0.23688318634429972
          ],
          "colorbar": {
           "title": {
            "text": "Line Utilisation"
           },
           "x": 1.02
          },
          "colorscale": [
           [
            0.0,
            "rgb(0,0,131)"
           ],
           [
            0.2,
            "rgb(0,60,170)"
           ],
           [
            0.4,
            "rgb(5,255,255)"
           ],
           [
            0.6,
            "rgb(255,255,0)"
           ],
           [
            0.8,
            "rgb(250,0,0)"
           ],
           [
            1.0,
            "rgb(128,0,0)"
           ]
          ],
          "opacity": 0,
          "showscale": true,
          "size": 0.1
         },
         "mode": "markers",
         "showlegend": false,
         "type": "scattermapbox"
        },
        {
         "hoverinfo": "text",
         "hovertext": "MV3.101 Line 32<br>Line Utilisation: 0.237",
         "lat": [
          53.646550000000005
         ],
         "lon": [
          11.36895
         ],
         "marker": {
          "color": "#ffff00",
          "opacity": 0,
          "size": 0
         },
         "mode": "markers",
         "showlegend": false,
         "type": "scattermapbox"
        },
        {
         "hoverinfo": "skip",
         "lat": [
          53.6514,
          53.6544
         ],
         "line": {
          "color": "#003caa",
          "width": 2
         },
         "lon": [
          11.3638,
          11.3637
         ],
         "mode": "lines",
         "showlegend": false,
         "type": "scattermapbox"
        },
        {
         "hoverinfo": "skip",
         "lat": [
          53.6514
         ],
         "lon": [
          11.3638
         ],
         "marker": {
          "cmax": 0.3900003389323528,
          "cmin": 0.0005069367152221342,
          "color": [
           0.09046128543261611
          ],
          "colorbar": {
           "title": {
            "text": "Line Utilisation"
           },
           "x": 1.02
          },
          "colorscale": [
           [
            0.0,
            "rgb(0,0,131)"
           ],
           [
            0.2,
            "rgb(0,60,170)"
           ],
           [
            0.4,
            "rgb(5,255,255)"
           ],
           [
            0.6,
            "rgb(255,255,0)"
           ],
           [
            0.8,
            "rgb(250,0,0)"
           ],
           [
            1.0,
            "rgb(128,0,0)"
           ]
          ],
          "opacity": 0,
          "showscale": true,
          "size": 0.1
         },
         "mode": "markers",
         "showlegend": false,
         "type": "scattermapbox"
        },
        {
         "hoverinfo": "text",
         "hovertext": "MV3.101 Line 45<br>Line Utilisation: 0.090",
         "lat": [
          53.6529
         ],
         "lon": [
          11.36375
         ],
         "marker": {
          "color": "#003caa",
          "opacity": 0,
          "size": 0
         },
         "mode": "markers",
         "showlegend": false,
         "type": "scattermapbox"
        },
        {
         "hoverinfo": "skip",
         "lat": [
          53.6481,
          53.6499
         ],
         "line": {
          "color": "#003caa",
          "width": 2
         },
         "lon": [
          11.3752,
          11.3773
         ],
         "mode": "lines",
         "showlegend": false,
         "type": "scattermapbox"
        },
        {
         "hoverinfo": "skip",
         "lat": [
          53.6481
         ],
         "lon": [
          11.3752
         ],
         "marker": {
          "cmax": 0.3900003389323528,
          "cmin": 0.0005069367152221342,
          "color": [
           0.15275644227836577
          ],
          "colorbar": {
           "title": {
            "text": "Line Utilisation"
           },
           "x": 1.02
          },
          "colorscale": [
           [
            0.0,
            "rgb(0,0,131)"
           ],
           [
            0.2,
            "rgb(0,60,170)"
           ],
           [
            0.4,
            "rgb(5,255,255)"
           ],
           [
            0.6,
            "rgb(255,255,0)"
           ],
           [
            0.8,
            "rgb(250,0,0)"
           ],
           [
            1.0,
            "rgb(128,0,0)"
           ]
          ],
          "opacity": 0,
          "showscale": true,
          "size": 0.1
         },
         "mode": "markers",
         "showlegend": false,
         "type": "scattermapbox"
        },
        {
         "hoverinfo": "text",
         "hovertext": "MV3.101 Line 129<br>Line Utilisation: 0.153",
         "lat": [
          53.649
         ],
         "lon": [
          11.376249999999999
         ],
         "marker": {
          "color": "#003caa",
          "opacity": 0,
          "size": 0
         },
         "mode": "markers",
         "showlegend": false,
         "type": "scattermapbox"
        },
        {
         "hoverinfo": "skip",
         "lat": [
          53.6456,
          53.6464
         ],
         "line": {
          "color": "#05ffff",
          "width": 2
         },
         "lon": [
          11.3738,
          11.3745
         ],
         "mode": "lines",
         "showlegend": false,
         "type": "scattermapbox"
        },
        {
         "hoverinfo": "skip",
         "lat": [
          53.6456
         ],
         "lon": [
          11.3738
         ],
         "marker": {
          "cmax": 0.3900003389323528,
          "cmin": 0.0005069367152221342,
          "color": [
           0.1927868028666652
          ],
          "colorbar": {
           "title": {
            "text": "Line Utilisation"
           },
           "x": 1.02
          },
          "colorscale": [
           [
            0.0,
            "rgb(0,0,131)"
           ],
           [
            0.2,
            "rgb(0,60,170)"
           ],
           [
            0.4,
            "rgb(5,255,255)"
           ],
           [
            0.6,
            "rgb(255,255,0)"
           ],
           [
            0.8,
            "rgb(250,0,0)"
           ],
           [
            1.0,
            "rgb(128,0,0)"
           ]
          ],
          "opacity": 0,
          "showscale": true,
          "size": 0.1
         },
         "mode": "markers",
         "showlegend": false,
         "type": "scattermapbox"
        },
        {
         "hoverinfo": "text",
         "hovertext": "MV3.101 BS-Feeder3_line<br>Line Utilisation: 0.193",
         "lat": [
          53.646
         ],
         "lon": [
          11.37415
         ],
         "marker": {
          "color": "#05ffff",
          "opacity": 0,
          "size": 0
         },
         "mode": "markers",
         "showlegend": false,
         "type": "scattermapbox"
        },
        {
         "hoverinfo": "skip",
         "lat": [
          53.6501,
          53.6488
         ],
         "line": {
          "color": "#000083",
          "width": 2
         },
         "lon": [
          11.3811,
          11.3833
         ],
         "mode": "lines",
         "showlegend": false,
         "type": "scattermapbox"
        },
        {
         "hoverinfo": "skip",
         "lat": [
          53.6501
         ],
         "lon": [
          11.3811
         ],
         "marker": {
          "cmax": 0.3900003389323528,
          "cmin": 0.0005069367152221342,
          "color": [
           0.032212269375627316
          ],
          "colorbar": {
           "title": {
            "text": "Line Utilisation"
           },
           "x": 1.02
          },
          "colorscale": [
           [
            0.0,
            "rgb(0,0,131)"
           ],
           [
            0.2,
            "rgb(0,60,170)"
           ],
           [
            0.4,
            "rgb(5,255,255)"
           ],
           [
            0.6,
            "rgb(255,255,0)"
           ],
           [
            0.8,
            "rgb(250,0,0)"
           ],
           [
            1.0,
            "rgb(128,0,0)"
           ]
          ],
          "opacity": 0,
          "showscale": true,
          "size": 0.1
         },
         "mode": "markers",
         "showlegend": false,
         "type": "scattermapbox"
        },
        {
         "hoverinfo": "text",
         "hovertext": "MV3.101 Line 133<br>Line Utilisation: 0.032",
         "lat": [
          53.64945
         ],
         "lon": [
          11.382200000000001
         ],
         "marker": {
          "color": "#000083",
          "opacity": 0,
          "size": 0
         },
         "mode": "markers",
         "showlegend": false,
         "type": "scattermapbox"
        },
        {
         "hoverinfo": "skip",
         "lat": [
          53.6453,
          53.6454
         ],
         "line": {
          "color": "#05ffff",
          "width": 2
         },
         "lon": [
          11.372,
          11.3732
         ],
         "mode": "lines",
         "showlegend": false,
         "type": "scattermapbox"
        },
        {
         "hoverinfo": "skip",
         "lat": [
          53.6453
         ],
         "lon": [
          11.372
         ],
         "marker": {
          "cmax": 0.3900003389323528,
          "cmin": 0.0005069367152221342,
          "color": [
           0.21517525938374105
          ],
          "colorbar": {
           "title": {
            "text": "Line Utilisation"
           },
           "x": 1.02
          },
          "colorscale": [
           [
            0.0,
            "rgb(0,0,131)"
           ],
           [
            0.2,
            "rgb(0,60,170)"
           ],
           [
            0.4,
            "rgb(5,255,255)"
           ],
           [
            0.6,
            "rgb(255,255,0)"
           ],
           [
            0.8,
            "rgb(250,0,0)"
           ],
           [
            1.0,
            "rgb(128,0,0)"
           ]
          ],
          "opacity": 0,
          "showscale": true,
          "size": 0.1
         },
         "mode": "markers",
         "showlegend": false,
         "type": "scattermapbox"
        },
        {
         "hoverinfo": "text",
         "hovertext": "MV3.101 Line 14<br>Line Utilisation: 0.215",
         "lat": [
          53.64535
         ],
         "lon": [
          11.3726
         ],
         "marker": {
          "color": "#05ffff",
          "opacity": 0,
          "size": 0
         },
         "mode": "markers",
         "showlegend": false,
         "type": "scattermapbox"
        },
        {
         "hoverinfo": "skip",
         "lat": [
          53.6315,
          53.6321
         ],
         "line": {
          "color": "#003caa",
          "width": 2
         },
         "lon": [
          11.3692,
          11.3702
         ],
         "mode": "lines",
         "showlegend": false,
         "type": "scattermapbox"
        },
        {
         "hoverinfo": "skip",
         "lat": [
          53.6315
         ],
         "lon": [
          11.3692
         ],
         "marker": {
          "cmax": 0.3900003389323528,
          "cmin": 0.0005069367152221342,
          "color": [
           0.14333726800028362
          ],
          "colorbar": {
           "title": {
            "text": "Line Utilisation"
           },
           "x": 1.02
          },
          "colorscale": [
           [
            0.0,
            "rgb(0,0,131)"
           ],
           [
            0.2,
            "rgb(0,60,170)"
           ],
           [
            0.4,
            "rgb(5,255,255)"
           ],
           [
            0.6,
            "rgb(255,255,0)"
           ],
           [
            0.8,
            "rgb(250,0,0)"
           ],
           [
            1.0,
            "rgb(128,0,0)"
           ]
          ],
          "opacity": 0,
          "showscale": true,
          "size": 0.1
         },
         "mode": "markers",
         "showlegend": false,
         "type": "scattermapbox"
        },
        {
         "hoverinfo": "text",
         "hovertext": "MV3.101 Line 103<br>Line Utilisation: 0.143",
         "lat": [
          53.6318
         ],
         "lon": [
          11.3697
         ],
         "marker": {
          "color": "#003caa",
          "opacity": 0,
          "size": 0
         },
         "mode": "markers",
         "showlegend": false,
         "type": "scattermapbox"
        },
        {
         "hoverinfo": "skip",
         "lat": [
          53.6464,
          53.6464
         ],
         "line": {
          "color": "#003caa",
          "width": 2
         },
         "lon": [
          11.3721,
          11.3745
         ],
         "mode": "lines",
         "showlegend": false,
         "type": "scattermapbox"
        },
        {
         "hoverinfo": "skip",
         "lat": [
          53.6464
         ],
         "lon": [
          11.3721
         ],
         "marker": {
          "cmax": 0.3900003389323528,
          "cmin": 0.0005069367152221342,
          "color": [
           0.12292623894370588
          ],
          "colorbar": {
           "title": {
            "text": "Line Utilisation"
           },
           "x": 1.02
          },
          "colorscale": [
           [
            0.0,
            "rgb(0,0,131)"
           ],
           [
            0.2,
            "rgb(0,60,170)"
           ],
           [
            0.4,
            "rgb(5,255,255)"
           ],
           [
            0.6,
            "rgb(255,255,0)"
           ],
           [
            0.8,
            "rgb(250,0,0)"
           ],
           [
            1.0,
            "rgb(128,0,0)"
           ]
          ],
          "opacity": 0,
          "showscale": true,
          "size": 0.1
         },
         "mode": "markers",
         "showlegend": false,
         "type": "scattermapbox"
        },
        {
         "hoverinfo": "text",
         "hovertext": "MV3.101 BS-Feeder4_line<br>Line Utilisation: 0.123",
         "lat": [
          53.6464
         ],
         "lon": [
          11.3733
         ],
         "marker": {
          "color": "#003caa",
          "opacity": 0,
          "size": 0
         },
         "mode": "markers",
         "showlegend": false,
         "type": "scattermapbox"
        },
        {
         "hoverinfo": "skip",
         "lat": [
          53.6451,
          53.6445
         ],
         "line": {
          "color": "#fa0000",
          "width": 2
         },
         "lon": [
          11.369,
          11.3683
         ],
         "mode": "lines",
         "showlegend": false,
         "type": "scattermapbox"
        },
        {
         "hoverinfo": "skip",
         "lat": [
          53.6451
         ],
         "lon": [
          11.369
         ],
         "marker": {
          "cmax": 0.3900003389323528,
          "cmin": 0.0005069367152221342,
          "color": [
           0.31370798061148086
          ],
          "colorbar": {
           "title": {
            "text": "Line Utilisation"
           },
           "x": 1.02
          },
          "colorscale": [
           [
            0.0,
            "rgb(0,0,131)"
           ],
           [
            0.2,
            "rgb(0,60,170)"
           ],
           [
            0.4,
            "rgb(5,255,255)"
           ],
           [
            0.6,
            "rgb(255,255,0)"
           ],
           [
            0.8,
            "rgb(250,0,0)"
           ],
           [
            1.0,
            "rgb(128,0,0)"
           ]
          ],
          "opacity": 0,
          "showscale": true,
          "size": 0.1
         },
         "mode": "markers",
         "showlegend": false,
         "type": "scattermapbox"
        },
        {
         "hoverinfo": "text",
         "hovertext": "MV3.101 Line 68<br>Line Utilisation: 0.314",
         "lat": [
          53.644800000000004
         ],
         "lon": [
          11.368649999999999
         ],
         "marker": {
          "color": "#fa0000",
          "opacity": 0,
          "size": 0
         },
         "mode": "markers",
         "showlegend": false,
         "type": "scattermapbox"
        },
        {
         "hoverinfo": "skip",
         "lat": [
          53.6328,
          53.6306
         ],
         "line": {
          "color": "#000083",
          "width": 2
         },
         "lon": [
          11.3733,
          11.3739
         ],
         "mode": "lines",
         "showlegend": false,
         "type": "scattermapbox"
        },
        {
         "hoverinfo": "skip",
         "lat": [
          53.6328
         ],
         "lon": [
          11.3733
         ],
         "marker": {
          "cmax": 0.3900003389323528,
          "cmin": 0.0005069367152221342,
          "color": [
           0.060875310078847694
          ],
          "colorbar": {
           "title": {
            "text": "Line Utilisation"
           },
           "x": 1.02
          },
          "colorscale": [
           [
            0.0,
            "rgb(0,0,131)"
           ],
           [
            0.2,
            "rgb(0,60,170)"
           ],
           [
            0.4,
            "rgb(5,255,255)"
           ],
           [
            0.6,
            "rgb(255,255,0)"
           ],
           [
            0.8,
            "rgb(250,0,0)"
           ],
           [
            1.0,
            "rgb(128,0,0)"
           ]
          ],
          "opacity": 0,
          "showscale": true,
          "size": 0.1
         },
         "mode": "markers",
         "showlegend": false,
         "type": "scattermapbox"
        },
        {
         "hoverinfo": "text",
         "hovertext": "MV3.101 Line 106<br>Line Utilisation: 0.061",
         "lat": [
          53.6317
         ],
         "lon": [
          11.3736
         ],
         "marker": {
          "color": "#000083",
          "opacity": 0,
          "size": 0
         },
         "mode": "markers",
         "showlegend": false,
         "type": "scattermapbox"
        },
        {
         "hoverinfo": "skip",
         "lat": [
          53.6464,
          53.6469
         ],
         "line": {
          "color": "#ffff00",
          "width": 2
         },
         "lon": [
          11.3745,
          11.3746
         ],
         "mode": "lines",
         "showlegend": false,
         "type": "scattermapbox"
        },
        {
         "hoverinfo": "skip",
         "lat": [
          53.6464
         ],
         "lon": [
          11.3745
         ],
         "marker": {
          "cmax": 0.3900003389323528,
          "cmin": 0.0005069367152221342,
          "color": [
           0.2715636590184218
          ],
          "colorbar": {
           "title": {
            "text": "Line Utilisation"
           },
           "x": 1.02
          },
          "colorscale": [
           [
            0.0,
            "rgb(0,0,131)"
           ],
           [
            0.2,
            "rgb(0,60,170)"
           ],
           [
            0.4,
            "rgb(5,255,255)"
           ],
           [
            0.6,
            "rgb(255,255,0)"
           ],
           [
            0.8,
            "rgb(250,0,0)"
           ],
           [
            1.0,
            "rgb(128,0,0)"
           ]
          ],
          "opacity": 0,
          "showscale": true,
          "size": 0.1
         },
         "mode": "markers",
         "showlegend": false,
         "type": "scattermapbox"
        },
        {
         "hoverinfo": "text",
         "hovertext": "MV3.101 Line 126<br>Line Utilisation: 0.272",
         "lat": [
          53.64665
         ],
         "lon": [
          11.37455
         ],
         "marker": {
          "color": "#ffff00",
          "opacity": 0,
          "size": 0
         },
         "mode": "markers",
         "showlegend": false,
         "type": "scattermapbox"
        },
        {
         "hoverinfo": "skip",
         "lat": [
          53.6456,
          53.6462
         ],
         "line": {
          "color": "#ffff00",
          "width": 2
         },
         "lon": [
          11.3692,
          11.3691
         ],
         "mode": "lines",
         "showlegend": false,
         "type": "scattermapbox"
        },
        {
         "hoverinfo": "skip",
         "lat": [
          53.6456
         ],
         "lon": [
          11.3692
         ],
         "marker": {
          "cmax": 0.3900003389323528,
          "cmin": 0.0005069367152221342,
          "color": [
           0.27406960115559253
          ],
          "colorbar": {
           "title": {
            "text": "Line Utilisation"
           },
           "x": 1.02
          },
          "colorscale": [
           [
            0.0,
            "rgb(0,0,131)"
           ],
           [
            0.2,
            "rgb(0,60,170)"
           ],
           [
            0.4,
            "rgb(5,255,255)"
           ],
           [
            0.6,
            "rgb(255,255,0)"
           ],
           [
            0.8,
            "rgb(250,0,0)"
           ],
           [
            1.0,
            "rgb(128,0,0)"
           ]
          ],
          "opacity": 0,
          "showscale": true,
          "size": 0.1
         },
         "mode": "markers",
         "showlegend": false,
         "type": "scattermapbox"
        },
        {
         "hoverinfo": "text",
         "hovertext": "MV3.101 Line 31<br>Line Utilisation: 0.274",
         "lat": [
          53.6459
         ],
         "lon": [
          11.36915
         ],
         "marker": {
          "color": "#ffff00",
          "opacity": 0,
          "size": 0
         },
         "mode": "markers",
         "showlegend": false,
         "type": "scattermapbox"
        },
        {
         "hoverinfo": "skip",
         "lat": [
          53.6236,
          53.6252
         ],
         "line": {
          "color": "#000083",
          "width": 2
         },
         "lon": [
          11.3683,
          11.3714
         ],
         "mode": "lines",
         "showlegend": false,
         "type": "scattermapbox"
        },
        {
         "hoverinfo": "skip",
         "lat": [
          53.6236
         ],
         "lon": [
          11.3683
         ],
         "marker": {
          "cmax": 0.3900003389323528,
          "cmin": 0.0005069367152221342,
          "color": [
           0.025483244576722346
          ],
          "colorbar": {
           "title": {
            "text": "Line Utilisation"
           },
           "x": 1.02
          },
          "colorscale": [
           [
            0.0,
            "rgb(0,0,131)"
           ],
           [
            0.2,
            "rgb(0,60,170)"
           ],
           [
            0.4,
            "rgb(5,255,255)"
           ],
           [
            0.6,
            "rgb(255,255,0)"
           ],
           [
            0.8,
            "rgb(250,0,0)"
           ],
           [
            1.0,
            "rgb(128,0,0)"
           ]
          ],
          "opacity": 0,
          "showscale": true,
          "size": 0.1
         },
         "mode": "markers",
         "showlegend": false,
         "type": "scattermapbox"
        },
        {
         "hoverinfo": "text",
         "hovertext": "MV3.101 Line 83<br>Line Utilisation: 0.025",
         "lat": [
          53.6244
         ],
         "lon": [
          11.36985
         ],
         "marker": {
          "color": "#000083",
          "opacity": 0,
          "size": 0
         },
         "mode": "markers",
         "showlegend": false,
         "type": "scattermapbox"
        },
        {
         "hoverinfo": "skip",
         "lat": [
          53.6541,
          53.6572
         ],
         "line": {
          "color": "#000083",
          "width": 2
         },
         "lon": [
          11.3682,
          11.3686
         ],
         "mode": "lines",
         "showlegend": false,
         "type": "scattermapbox"
        },
        {
         "hoverinfo": "skip",
         "lat": [
          53.6541
         ],
         "lon": [
          11.3682
         ],
         "marker": {
          "cmax": 0.3900003389323528,
          "cmin": 0.0005069367152221342,
          "color": [
           0.06783710922530554
          ],
          "colorbar": {
           "title": {
            "text": "Line Utilisation"
           },
           "x": 1.02
          },
          "colorscale": [
           [
            0.0,
            "rgb(0,0,131)"
           ],
           [
            0.2,
            "rgb(0,60,170)"
           ],
           [
            0.4,
            "rgb(5,255,255)"
           ],
           [
            0.6,
            "rgb(255,255,0)"
           ],
           [
            0.8,
            "rgb(250,0,0)"
           ],
           [
            1.0,
            "rgb(128,0,0)"
           ]
          ],
          "opacity": 0,
          "showscale": true,
          "size": 0.1
         },
         "mode": "markers",
         "showlegend": false,
         "type": "scattermapbox"
        },
        {
         "hoverinfo": "text",
         "hovertext": "MV3.101 Line 37<br>Line Utilisation: 0.068",
         "lat": [
          53.65565
         ],
         "lon": [
          11.368400000000001
         ],
         "marker": {
          "color": "#000083",
          "opacity": 0,
          "size": 0
         },
         "mode": "markers",
         "showlegend": false,
         "type": "scattermapbox"
        },
        {
         "hoverinfo": "skip",
         "lat": [
          53.6445,
          53.6434
         ],
         "line": {
          "color": "#ffff00",
          "width": 2
         },
         "lon": [
          11.3683,
          11.3674
         ],
         "mode": "lines",
         "showlegend": false,
         "type": "scattermapbox"
        },
        {
         "hoverinfo": "skip",
         "lat": [
          53.6445
         ],
         "lon": [
          11.3683
         ],
         "marker": {
          "cmax": 0.3900003389323528,
          "cmin": 0.0005069367152221342,
          "color": [
           0.29254973306409104
          ],
          "colorbar": {
           "title": {
            "text": "Line Utilisation"
           },
           "x": 1.02
          },
          "colorscale": [
           [
            0.0,
            "rgb(0,0,131)"
           ],
           [
            0.2,
            "rgb(0,60,170)"
           ],
           [
            0.4,
            "rgb(5,255,255)"
           ],
           [
            0.6,
            "rgb(255,255,0)"
           ],
           [
            0.8,
            "rgb(250,0,0)"
           ],
           [
            1.0,
            "rgb(128,0,0)"
           ]
          ],
          "opacity": 0,
          "showscale": true,
          "size": 0.1
         },
         "mode": "markers",
         "showlegend": false,
         "type": "scattermapbox"
        },
        {
         "hoverinfo": "text",
         "hovertext": "MV3.101 Line 69<br>Line Utilisation: 0.293",
         "lat": [
          53.643950000000004
         ],
         "lon": [
          11.36785
         ],
         "marker": {
          "color": "#ffff00",
          "opacity": 0,
          "size": 0
         },
         "mode": "markers",
         "showlegend": false,
         "type": "scattermapbox"
        },
        {
         "hoverinfo": "skip",
         "lat": [
          53.6457,
          53.647
         ],
         "line": {
          "color": "#05ffff",
          "width": 2
         },
         "lon": [
          11.3697,
          11.3701
         ],
         "mode": "lines",
         "showlegend": false,
         "type": "scattermapbox"
        },
        {
         "hoverinfo": "skip",
         "lat": [
          53.6457
         ],
         "lon": [
          11.3697
         ],
         "marker": {
          "cmax": 0.3900003389323528,
          "cmin": 0.0005069367152221342,
          "color": [
           0.16005056530026432
          ],
          "colorbar": {
           "title": {
            "text": "Line Utilisation"
           },
           "x": 1.02
          },
          "colorscale": [
           [
            0.0,
            "rgb(0,0,131)"
           ],
           [
            0.2,
            "rgb(0,60,170)"
           ],
           [
            0.4,
            "rgb(5,255,255)"
           ],
           [
            0.6,
            "rgb(255,255,0)"
           ],
           [
            0.8,
            "rgb(250,0,0)"
           ],
           [
            1.0,
            "rgb(128,0,0)"
           ]
          ],
          "opacity": 0,
          "showscale": true,
          "size": 0.1
         },
         "mode": "markers",
         "showlegend": false,
         "type": "scattermapbox"
        },
        {
         "hoverinfo": "text",
         "hovertext": "MV3.101 Line 27<br>Line Utilisation: 0.160",
         "lat": [
          53.64635
         ],
         "lon": [
          11.369900000000001
         ],
         "marker": {
          "color": "#05ffff",
          "opacity": 0,
          "size": 0
         },
         "mode": "markers",
         "showlegend": false,
         "type": "scattermapbox"
        },
        {
         "hoverinfo": "skip",
         "lat": [
          53.6464,
          53.6438
         ],
         "line": {
          "color": "#05ffff",
          "width": 2
         },
         "lon": [
          11.3745,
          11.3767
         ],
         "mode": "lines",
         "showlegend": false,
         "type": "scattermapbox"
        },
        {
         "hoverinfo": "skip",
         "lat": [
          53.6464
         ],
         "lon": [
          11.3745
         ],
         "marker": {
          "cmax": 0.3900003389323528,
          "cmin": 0.0005069367152221342,
          "color": [
           0.19138911497285485
          ],
          "colorbar": {
           "title": {
            "text": "Line Utilisation"
           },
           "x": 1.02
          },
          "colorscale": [
           [
            0.0,
            "rgb(0,0,131)"
           ],
           [
            0.2,
            "rgb(0,60,170)"
           ],
           [
            0.4,
            "rgb(5,255,255)"
           ],
           [
            0.6,
            "rgb(255,255,0)"
           ],
           [
            0.8,
            "rgb(250,0,0)"
           ],
           [
            1.0,
            "rgb(128,0,0)"
           ]
          ],
          "opacity": 0,
          "showscale": true,
          "size": 0.1
         },
         "mode": "markers",
         "showlegend": false,
         "type": "scattermapbox"
        },
        {
         "hoverinfo": "text",
         "hovertext": "MV3.101 Line 109<br>Line Utilisation: 0.191",
         "lat": [
          53.6451
         ],
         "lon": [
          11.375599999999999
         ],
         "marker": {
          "color": "#05ffff",
          "opacity": 0,
          "size": 0
         },
         "mode": "markers",
         "showlegend": false,
         "type": "scattermapbox"
        },
        {
         "hoverinfo": "skip",
         "lat": [
          53.6434,
          53.642
         ],
         "line": {
          "color": "#ffff00",
          "width": 2
         },
         "lon": [
          11.3674,
          11.3663
         ],
         "mode": "lines",
         "showlegend": false,
         "type": "scattermapbox"
        },
        {
         "hoverinfo": "skip",
         "lat": [
          53.6434
         ],
         "lon": [
          11.3674
         ],
         "marker": {
          "cmax": 0.3900003389323528,
          "cmin": 0.0005069367152221342,
          "color": [
           0.25219669541633594
          ],
          "colorbar": {
           "title": {
            "text": "Line Utilisation"
           },
           "x": 1.02
          },
          "colorscale": [
           [
            0.0,
            "rgb(0,0,131)"
           ],
           [
            0.2,
            "rgb(0,60,170)"
           ],
           [
            0.4,
            "rgb(5,255,255)"
           ],
           [
            0.6,
            "rgb(255,255,0)"
           ],
           [
            0.8,
            "rgb(250,0,0)"
           ],
           [
            1.0,
            "rgb(128,0,0)"
           ]
          ],
          "opacity": 0,
          "showscale": true,
          "size": 0.1
         },
         "mode": "markers",
         "showlegend": false,
         "type": "scattermapbox"
        },
        {
         "hoverinfo": "text",
         "hovertext": "MV3.101 Line 70<br>Line Utilisation: 0.252",
         "lat": [
          53.642700000000005
         ],
         "lon": [
          11.36685
         ],
         "marker": {
          "color": "#ffff00",
          "opacity": 0,
          "size": 0
         },
         "mode": "markers",
         "showlegend": false,
         "type": "scattermapbox"
        },
        {
         "hoverinfo": "skip",
         "lat": [
          53.6579,
          53.6603
         ],
         "line": {
          "color": "#000083",
          "width": 2
         },
         "lon": [
          11.3634,
          11.3636
         ],
         "mode": "lines",
         "showlegend": false,
         "type": "scattermapbox"
        },
        {
         "hoverinfo": "skip",
         "lat": [
          53.6579
         ],
         "lon": [
          11.3634
         ],
         "marker": {
          "cmax": 0.3900003389323528,
          "cmin": 0.0005069367152221342,
          "color": [
           0.05521035828616327
          ],
          "colorbar": {
           "title": {
            "text": "Line Utilisation"
           },
           "x": 1.02
          },
          "colorscale": [
           [
            0.0,
            "rgb(0,0,131)"
           ],
           [
            0.2,
            "rgb(0,60,170)"
           ],
           [
            0.4,
            "rgb(5,255,255)"
           ],
           [
            0.6,
            "rgb(255,255,0)"
           ],
           [
            0.8,
            "rgb(250,0,0)"
           ],
           [
            1.0,
            "rgb(128,0,0)"
           ]
          ],
          "opacity": 0,
          "showscale": true,
          "size": 0.1
         },
         "mode": "markers",
         "showlegend": false,
         "type": "scattermapbox"
        },
        {
         "hoverinfo": "text",
         "hovertext": "MV3.101 Line 47<br>Line Utilisation: 0.055",
         "lat": [
          53.659099999999995
         ],
         "lon": [
          11.3635
         ],
         "marker": {
          "color": "#000083",
          "opacity": 0,
          "size": 0
         },
         "mode": "markers",
         "showlegend": false,
         "type": "scattermapbox"
        },
        {
         "hoverinfo": "skip",
         "lat": [
          53.6544,
          53.6534
         ],
         "line": {
          "color": "#000083",
          "width": 2
         },
         "lon": [
          11.3777,
          11.3794
         ],
         "mode": "lines",
         "showlegend": false,
         "type": "scattermapbox"
        },
        {
         "hoverinfo": "skip",
         "lat": [
          53.6544
         ],
         "lon": [
          11.3777
         ],
         "marker": {
          "cmax": 0.3900003389323528,
          "cmin": 0.0005069367152221342,
          "color": [
           0.05128324798002337
          ],
          "colorbar": {
           "title": {
            "text": "Line Utilisation"
           },
           "x": 1.02
          },
          "colorscale": [
           [
            0.0,
            "rgb(0,0,131)"
           ],
           [
            0.2,
            "rgb(0,60,170)"
           ],
           [
            0.4,
            "rgb(5,255,255)"
           ],
           [
            0.6,
            "rgb(255,255,0)"
           ],
           [
            0.8,
            "rgb(250,0,0)"
           ],
           [
            1.0,
            "rgb(128,0,0)"
           ]
          ],
          "opacity": 0,
          "showscale": true,
          "size": 0.1
         },
         "mode": "markers",
         "showlegend": false,
         "type": "scattermapbox"
        },
        {
         "hoverinfo": "text",
         "hovertext": "MV3.101 Line 23<br>Line Utilisation: 0.051",
         "lat": [
          53.6539
         ],
         "lon": [
          11.37855
         ],
         "marker": {
          "color": "#000083",
          "opacity": 0,
          "size": 0
         },
         "mode": "markers",
         "showlegend": false,
         "type": "scattermapbox"
        },
        {
         "hoverinfo": "skip",
         "lat": [
          53.6341,
          53.6328
         ],
         "line": {
          "color": "#003caa",
          "width": 2
         },
         "lon": [
          11.3724,
          11.3733
         ],
         "mode": "lines",
         "showlegend": false,
         "type": "scattermapbox"
        },
        {
         "hoverinfo": "skip",
         "lat": [
          53.6341
         ],
         "lon": [
          11.3724
         ],
         "marker": {
          "cmax": 0.3900003389323528,
          "cmin": 0.0005069367152221342,
          "color": [
           0.08056626696830152
          ],
          "colorbar": {
           "title": {
            "text": "Line Utilisation"
           },
           "x": 1.02
          },
          "colorscale": [
           [
            0.0,
            "rgb(0,0,131)"
           ],
           [
            0.2,
            "rgb(0,60,170)"
           ],
           [
            0.4,
            "rgb(5,255,255)"
           ],
           [
            0.6,
            "rgb(255,255,0)"
           ],
           [
            0.8,
            "rgb(250,0,0)"
           ],
           [
            1.0,
            "rgb(128,0,0)"
           ]
          ],
          "opacity": 0,
          "showscale": true,
          "size": 0.1
         },
         "mode": "markers",
         "showlegend": false,
         "type": "scattermapbox"
        },
        {
         "hoverinfo": "text",
         "hovertext": "MV3.101 Line 105<br>Line Utilisation: 0.081",
         "lat": [
          53.633449999999996
         ],
         "lon": [
          11.37285
         ],
         "marker": {
          "color": "#003caa",
          "opacity": 0,
          "size": 0
         },
         "mode": "markers",
         "showlegend": false,
         "type": "scattermapbox"
        },
        {
         "hoverinfo": "skip",
         "lat": [
          53.6524,
          53.6531
         ],
         "line": {
          "color": "#05ffff",
          "width": 2
         },
         "lon": [
          11.3561,
          11.3584
         ],
         "mode": "lines",
         "showlegend": false,
         "type": "scattermapbox"
        },
        {
         "hoverinfo": "skip",
         "lat": [
          53.6524
         ],
         "lon": [
          11.3561
         ],
         "marker": {
          "cmax": 0.3900003389323528,
          "cmin": 0.0005069367152221342,
          "color": [
           0.22527867229526094
          ],
          "colorbar": {
           "title": {
            "text": "Line Utilisation"
           },
           "x": 1.02
          },
          "colorscale": [
           [
            0.0,
            "rgb(0,0,131)"
           ],
           [
            0.2,
            "rgb(0,60,170)"
           ],
           [
            0.4,
            "rgb(5,255,255)"
           ],
           [
            0.6,
            "rgb(255,255,0)"
           ],
           [
            0.8,
            "rgb(250,0,0)"
           ],
           [
            1.0,
            "rgb(128,0,0)"
           ]
          ],
          "opacity": 0,
          "showscale": true,
          "size": 0.1
         },
         "mode": "markers",
         "showlegend": false,
         "type": "scattermapbox"
        },
        {
         "hoverinfo": "text",
         "hovertext": "MV3.101 Line 58<br>Line Utilisation: 0.225",
         "lat": [
          53.65275
         ],
         "lon": [
          11.35725
         ],
         "marker": {
          "color": "#05ffff",
          "opacity": 0,
          "size": 0
         },
         "mode": "markers",
         "showlegend": false,
         "type": "scattermapbox"
        },
        {
         "hoverinfo": "skip",
         "lat": [
          53.6467,
          53.6479
         ],
         "line": {
          "color": "#003caa",
          "width": 2
         },
         "lon": [
          11.3755,
          11.3773
         ],
         "mode": "lines",
         "showlegend": false,
         "type": "scattermapbox"
        },
        {
         "hoverinfo": "skip",
         "lat": [
          53.6467
         ],
         "lon": [
          11.3755
         ],
         "marker": {
          "cmax": 0.3900003389323528,
          "cmin": 0.0005069367152221342,
          "color": [
           0.12746278574770778
          ],
          "colorbar": {
           "title": {
            "text": "Line Utilisation"
           },
           "x": 1.02
          },
          "colorscale": [
           [
            0.0,
            "rgb(0,0,131)"
           ],
           [
            0.2,
            "rgb(0,60,170)"
           ],
           [
            0.4,
            "rgb(5,255,255)"
           ],
           [
            0.6,
            "rgb(255,255,0)"
           ],
           [
            0.8,
            "rgb(250,0,0)"
           ],
           [
            1.0,
            "rgb(128,0,0)"
           ]
          ],
          "opacity": 0,
          "showscale": true,
          "size": 0.1
         },
         "mode": "markers",
         "showlegend": false,
         "type": "scattermapbox"
        },
        {
         "hoverinfo": "text",
         "hovertext": "MV3.101 Line 121<br>Line Utilisation: 0.127",
         "lat": [
          53.6473
         ],
         "lon": [
          11.3764
         ],
         "marker": {
          "color": "#003caa",
          "opacity": 0,
          "size": 0
         },
         "mode": "markers",
         "showlegend": false,
         "type": "scattermapbox"
        },
        {
         "hoverinfo": "skip",
         "lat": [
          53.6516,
          53.6524
         ],
         "line": {
          "color": "#ffff00",
          "width": 2
         },
         "lon": [
          11.3561,
          11.3561
         ],
         "mode": "lines",
         "showlegend": false,
         "type": "scattermapbox"
        },
        {
         "hoverinfo": "skip",
         "lat": [
          53.6516
         ],
         "lon": [
          11.3561
         ],
         "marker": {
          "cmax": 0.3900003389323528,
          "cmin": 0.0005069367152221342,
          "color": [
           0.2574816876682429
          ],
          "colorbar": {
           "title": {
            "text": "Line Utilisation"
           },
           "x": 1.02
          },
          "colorscale": [
           [
            0.0,
            "rgb(0,0,131)"
           ],
           [
            0.2,
            "rgb(0,60,170)"
           ],
           [
            0.4,
            "rgb(5,255,255)"
           ],
           [
            0.6,
            "rgb(255,255,0)"
           ],
           [
            0.8,
            "rgb(250,0,0)"
           ],
           [
            1.0,
            "rgb(128,0,0)"
           ]
          ],
          "opacity": 0,
          "showscale": true,
          "size": 0.1
         },
         "mode": "markers",
         "showlegend": false,
         "type": "scattermapbox"
        },
        {
         "hoverinfo": "text",
         "hovertext": "MV3.101 Line 57<br>Line Utilisation: 0.257",
         "lat": [
          53.652
         ],
         "lon": [
          11.3561
         ],
         "marker": {
          "color": "#ffff00",
          "opacity": 0,
          "size": 0
         },
         "mode": "markers",
         "showlegend": false,
         "type": "scattermapbox"
        },
        {
         "hoverinfo": "skip",
         "lat": [
          53.648,
          53.6492
         ],
         "line": {
          "color": "#003caa",
          "width": 2
         },
         "lon": [
          11.3667,
          11.3656
         ],
         "mode": "lines",
         "showlegend": false,
         "type": "scattermapbox"
        },
        {
         "hoverinfo": "skip",
         "lat": [
          53.648
         ],
         "lon": [
          11.3667
         ],
         "marker": {
          "cmax": 0.3900003389323528,
          "cmin": 0.0005069367152221342,
          "color": [
           0.11433300565840723
          ],
          "colorbar": {
           "title": {
            "text": "Line Utilisation"
           },
           "x": 1.02
          },
          "colorscale": [
           [
            0.0,
            "rgb(0,0,131)"
           ],
           [
            0.2,
            "rgb(0,60,170)"
           ],
           [
            0.4,
            "rgb(5,255,255)"
           ],
           [
            0.6,
            "rgb(255,255,0)"
           ],
           [
            0.8,
            "rgb(250,0,0)"
           ],
           [
            1.0,
            "rgb(128,0,0)"
           ]
          ],
          "opacity": 0,
          "showscale": true,
          "size": 0.1
         },
         "mode": "markers",
         "showlegend": false,
         "type": "scattermapbox"
        },
        {
         "hoverinfo": "text",
         "hovertext": "MV3.101 Line 43<br>Line Utilisation: 0.114",
         "lat": [
          53.6486
         ],
         "lon": [
          11.366150000000001
         ],
         "marker": {
          "color": "#003caa",
          "opacity": 0,
          "size": 0
         },
         "mode": "markers",
         "showlegend": false,
         "type": "scattermapbox"
        },
        {
         "hoverinfo": "skip",
         "lat": [
          53.6321,
          53.6341
         ],
         "line": {
          "color": "#003caa",
          "width": 2
         },
         "lon": [
          11.3702,
          11.3724
         ],
         "mode": "lines",
         "showlegend": false,
         "type": "scattermapbox"
        },
        {
         "hoverinfo": "skip",
         "lat": [
          53.6321
         ],
         "lon": [
          11.3702
         ],
         "marker": {
          "cmax": 0.3900003389323528,
          "cmin": 0.0005069367152221342,
          "color": [
           0.10196817618850626
          ],
          "colorbar": {
           "title": {
            "text": "Line Utilisation"
           },
           "x": 1.02
          },
          "colorscale": [
           [
            0.0,
            "rgb(0,0,131)"
           ],
           [
            0.2,
            "rgb(0,60,170)"
           ],
           [
            0.4,
            "rgb(5,255,255)"
           ],
           [
            0.6,
            "rgb(255,255,0)"
           ],
           [
            0.8,
            "rgb(250,0,0)"
           ],
           [
            1.0,
            "rgb(128,0,0)"
           ]
          ],
          "opacity": 0,
          "showscale": true,
          "size": 0.1
         },
         "mode": "markers",
         "showlegend": false,
         "type": "scattermapbox"
        },
        {
         "hoverinfo": "text",
         "hovertext": "MV3.101 Line 104<br>Line Utilisation: 0.102",
         "lat": [
          53.6331
         ],
         "lon": [
          11.371300000000002
         ],
         "marker": {
          "color": "#003caa",
          "opacity": 0,
          "size": 0
         },
         "mode": "markers",
         "showlegend": false,
         "type": "scattermapbox"
        },
        {
         "hoverinfo": "skip",
         "lat": [
          53.6455,
          53.6455
         ],
         "line": {
          "color": "#000083",
          "width": 2
         },
         "lon": [
          11.3798,
          11.3809
         ],
         "mode": "lines",
         "showlegend": false,
         "type": "scattermapbox"
        },
        {
         "hoverinfo": "skip",
         "lat": [
          53.6455
         ],
         "lon": [
          11.3798
         ],
         "marker": {
          "cmax": 0.3900003389323528,
          "cmin": 0.0005069367152221342,
          "color": [
           0.045536118581830605
          ],
          "colorbar": {
           "title": {
            "text": "Line Utilisation"
           },
           "x": 1.02
          },
          "colorscale": [
           [
            0.0,
            "rgb(0,0,131)"
           ],
           [
            0.2,
            "rgb(0,60,170)"
           ],
           [
            0.4,
            "rgb(5,255,255)"
           ],
           [
            0.6,
            "rgb(255,255,0)"
           ],
           [
            0.8,
            "rgb(250,0,0)"
           ],
           [
            1.0,
            "rgb(128,0,0)"
           ]
          ],
          "opacity": 0,
          "showscale": true,
          "size": 0.1
         },
         "mode": "markers",
         "showlegend": false,
         "type": "scattermapbox"
        },
        {
         "hoverinfo": "text",
         "hovertext": "MV3.101 Line 119<br>Line Utilisation: 0.046",
         "lat": [
          53.6455
         ],
         "lon": [
          11.38035
         ],
         "marker": {
          "color": "#000083",
          "opacity": 0,
          "size": 0
         },
         "mode": "markers",
         "showlegend": false,
         "type": "scattermapbox"
        },
        {
         "hoverinfo": "skip",
         "lat": [
          53.6456,
          53.6454
         ],
         "line": {
          "color": "#ffff00",
          "width": 2
         },
         "lon": [
          11.3692,
          11.3706
         ],
         "mode": "lines",
         "showlegend": false,
         "type": "scattermapbox"
        },
        {
         "hoverinfo": "skip",
         "lat": [
          53.6456
         ],
         "lon": [
          11.3692
         ],
         "marker": {
          "cmax": 0.3900003389323528,
          "cmin": 0.0005069367152221342,
          "color": [
           0.2566612782089149
          ],
          "colorbar": {
           "title": {
            "text": "Line Utilisation"
           },
           "x": 1.02
          },
          "colorscale": [
           [
            0.0,
            "rgb(0,0,131)"
           ],
           [
            0.2,
            "rgb(0,60,170)"
           ],
           [
            0.4,
            "rgb(5,255,255)"
           ],
           [
            0.6,
            "rgb(255,255,0)"
           ],
           [
            0.8,
            "rgb(250,0,0)"
           ],
           [
            1.0,
            "rgb(128,0,0)"
           ]
          ],
          "opacity": 0,
          "showscale": true,
          "size": 0.1
         },
         "mode": "markers",
         "showlegend": false,
         "type": "scattermapbox"
        },
        {
         "hoverinfo": "text",
         "hovertext": "MV3.101 Line 12<br>Line Utilisation: 0.257",
         "lat": [
          53.6455
         ],
         "lon": [
          11.3699
         ],
         "marker": {
          "color": "#ffff00",
          "opacity": 0,
          "size": 0
         },
         "mode": "markers",
         "showlegend": false,
         "type": "scattermapbox"
        },
        {
         "hoverinfo": "skip",
         "lat": [
          53.6441,
          53.6425
         ],
         "line": {
          "color": "#05ffff",
          "width": 2
         },
         "lon": [
          11.3699,
          11.3707
         ],
         "mode": "lines",
         "showlegend": false,
         "type": "scattermapbox"
        },
        {
         "hoverinfo": "skip",
         "lat": [
          53.6441
         ],
         "lon": [
          11.3699
         ],
         "marker": {
          "cmax": 0.3900003389323528,
          "cmin": 0.0005069367152221342,
          "color": [
           0.20770308550210478
          ],
          "colorbar": {
           "title": {
            "text": "Line Utilisation"
           },
           "x": 1.02
          },
          "colorscale": [
           [
            0.0,
            "rgb(0,0,131)"
           ],
           [
            0.2,
            "rgb(0,60,170)"
           ],
           [
            0.4,
            "rgb(5,255,255)"
           ],
           [
            0.6,
            "rgb(255,255,0)"
           ],
           [
            0.8,
            "rgb(250,0,0)"
           ],
           [
            1.0,
            "rgb(128,0,0)"
           ]
          ],
          "opacity": 0,
          "showscale": true,
          "size": 0.1
         },
         "mode": "markers",
         "showlegend": false,
         "type": "scattermapbox"
        },
        {
         "hoverinfo": "text",
         "hovertext": "MV3.101 Line 2<br>Line Utilisation: 0.208",
         "lat": [
          53.643299999999996
         ],
         "lon": [
          11.3703
         ],
         "marker": {
          "color": "#05ffff",
          "opacity": 0,
          "size": 0
         },
         "mode": "markers",
         "showlegend": false,
         "type": "scattermapbox"
        },
        {
         "hoverinfo": "skip",
         "lat": [
          53.645,
          53.6448
         ],
         "line": {
          "color": "#05ffff",
          "width": 2
         },
         "lon": [
          11.3649,
          11.364
         ],
         "mode": "lines",
         "showlegend": false,
         "type": "scattermapbox"
        },
        {
         "hoverinfo": "skip",
         "lat": [
          53.645
         ],
         "lon": [
          11.3649
         ],
         "marker": {
          "cmax": 0.3900003389323528,
          "cmin": 0.0005069367152221342,
          "color": [
           0.18489946559056308
          ],
          "colorbar": {
           "title": {
            "text": "Line Utilisation"
           },
           "x": 1.02
          },
          "colorscale": [
           [
            0.0,
            "rgb(0,0,131)"
           ],
           [
            0.2,
            "rgb(0,60,170)"
           ],
           [
            0.4,
            "rgb(5,255,255)"
           ],
           [
            0.6,
            "rgb(255,255,0)"
           ],
           [
            0.8,
            "rgb(250,0,0)"
           ],
           [
            1.0,
            "rgb(128,0,0)"
           ]
          ],
          "opacity": 0,
          "showscale": true,
          "size": 0.1
         },
         "mode": "markers",
         "showlegend": false,
         "type": "scattermapbox"
        },
        {
         "hoverinfo": "text",
         "hovertext": "MV3.101 Line 86<br>Line Utilisation: 0.185",
         "lat": [
          53.6449
         ],
         "lon": [
          11.364450000000001
         ],
         "marker": {
          "color": "#05ffff",
          "opacity": 0,
          "size": 0
         },
         "mode": "markers",
         "showlegend": false,
         "type": "scattermapbox"
        },
        {
         "hoverinfo": "skip",
         "lat": [
          53.6531,
          53.6541
         ],
         "line": {
          "color": "#003caa",
          "width": 2
         },
         "lon": [
          11.3682,
          11.3682
         ],
         "mode": "lines",
         "showlegend": false,
         "type": "scattermapbox"
        },
        {
         "hoverinfo": "skip",
         "lat": [
          53.6531
         ],
         "lon": [
          11.3682
         ],
         "marker": {
          "cmax": 0.3900003389323528,
          "cmin": 0.0005069367152221342,
          "color": [
           0.11187433786754555
          ],
          "colorbar": {
           "title": {
            "text": "Line Utilisation"
           },
           "x": 1.02
          },
          "colorscale": [
           [
            0.0,
            "rgb(0,0,131)"
           ],
           [
            0.2,
            "rgb(0,60,170)"
           ],
           [
            0.4,
            "rgb(5,255,255)"
           ],
           [
            0.6,
            "rgb(255,255,0)"
           ],
           [
            0.8,
            "rgb(250,0,0)"
           ],
           [
            1.0,
            "rgb(128,0,0)"
           ]
          ],
          "opacity": 0,
          "showscale": true,
          "size": 0.1
         },
         "mode": "markers",
         "showlegend": false,
         "type": "scattermapbox"
        },
        {
         "hoverinfo": "text",
         "hovertext": "MV3.101 Line 36<br>Line Utilisation: 0.112",
         "lat": [
          53.6536
         ],
         "lon": [
          11.3682
         ],
         "marker": {
          "color": "#003caa",
          "opacity": 0,
          "size": 0
         },
         "mode": "markers",
         "showlegend": false,
         "type": "scattermapbox"
        },
        {
         "hoverinfo": "skip",
         "lat": [
          53.6417,
          53.6389
         ],
         "line": {
          "color": "#ffff00",
          "width": 2
         },
         "lon": [
          11.368,
          11.3669
         ],
         "mode": "lines",
         "showlegend": false,
         "type": "scattermapbox"
        },
        {
         "hoverinfo": "skip",
         "lat": [
          53.6417
         ],
         "lon": [
          11.368
         ],
         "marker": {
          "cmax": 0.3900003389323528,
          "cmin": 0.0005069367152221342,
          "color": [
           0.24854313825462127
          ],
          "colorbar": {
           "title": {
            "text": "Line Utilisation"
           },
           "x": 1.02
          },
          "colorscale": [
           [
            0.0,
            "rgb(0,0,131)"
           ],
           [
            0.2,
            "rgb(0,60,170)"
           ],
           [
            0.4,
            "rgb(5,255,255)"
           ],
           [
            0.6,
            "rgb(255,255,0)"
           ],
           [
            0.8,
            "rgb(250,0,0)"
           ],
           [
            1.0,
            "rgb(128,0,0)"
           ]
          ],
          "opacity": 0,
          "showscale": true,
          "size": 0.1
         },
         "mode": "markers",
         "showlegend": false,
         "type": "scattermapbox"
        },
        {
         "hoverinfo": "text",
         "hovertext": "MV3.101 Line 97<br>Line Utilisation: 0.249",
         "lat": [
          53.640299999999996
         ],
         "lon": [
          11.36745
         ],
         "marker": {
          "color": "#ffff00",
          "opacity": 0,
          "size": 0
         },
         "mode": "markers",
         "showlegend": false,
         "type": "scattermapbox"
        },
        {
         "hoverinfo": "skip",
         "lat": [
          53.6389,
          53.637
         ],
         "line": {
          "color": "#ffff00",
          "width": 2
         },
         "lon": [
          11.3669,
          11.3664
         ],
         "mode": "lines",
         "showlegend": false,
         "type": "scattermapbox"
        },
        {
         "hoverinfo": "skip",
         "lat": [
          53.6389
         ],
         "lon": [
          11.3669
         ],
         "marker": {
          "cmax": 0.3900003389323528,
          "cmin": 0.0005069367152221342,
          "color": [
           0.23870664220061702
          ],
          "colorbar": {
           "title": {
            "text": "Line Utilisation"
           },
           "x": 1.02
          },
          "colorscale": [
           [
            0.0,
            "rgb(0,0,131)"
           ],
           [
            0.2,
            "rgb(0,60,170)"
           ],
           [
            0.4,
            "rgb(5,255,255)"
           ],
           [
            0.6,
            "rgb(255,255,0)"
           ],
           [
            0.8,
            "rgb(250,0,0)"
           ],
           [
            1.0,
            "rgb(128,0,0)"
           ]
          ],
          "opacity": 0,
          "showscale": true,
          "size": 0.1
         },
         "mode": "markers",
         "showlegend": false,
         "type": "scattermapbox"
        },
        {
         "hoverinfo": "text",
         "hovertext": "MV3.101 Line 98<br>Line Utilisation: 0.239",
         "lat": [
          53.637950000000004
         ],
         "lon": [
          11.36665
         ],
         "marker": {
          "color": "#ffff00",
          "opacity": 0,
          "size": 0
         },
         "mode": "markers",
         "showlegend": false,
         "type": "scattermapbox"
        },
        {
         "hoverinfo": "skip",
         "lat": [
          53.6437,
          53.6439
         ],
         "line": {
          "color": "#003caa",
          "width": 2
         },
         "lon": [
          11.3577,
          11.3558
         ],
         "mode": "lines",
         "showlegend": false,
         "type": "scattermapbox"
        },
        {
         "hoverinfo": "skip",
         "lat": [
          53.6437
         ],
         "lon": [
          11.3577
         ],
         "marker": {
          "cmax": 0.3900003389323528,
          "cmin": 0.0005069367152221342,
          "color": [
           0.10964441528788549
          ],
          "colorbar": {
           "title": {
            "text": "Line Utilisation"
           },
           "x": 1.02
          },
          "colorscale": [
           [
            0.0,
            "rgb(0,0,131)"
           ],
           [
            0.2,
            "rgb(0,60,170)"
           ],
           [
            0.4,
            "rgb(5,255,255)"
           ],
           [
            0.6,
            "rgb(255,255,0)"
           ],
           [
            0.8,
            "rgb(250,0,0)"
           ],
           [
            1.0,
            "rgb(128,0,0)"
           ]
          ],
          "opacity": 0,
          "showscale": true,
          "size": 0.1
         },
         "mode": "markers",
         "showlegend": false,
         "type": "scattermapbox"
        },
        {
         "hoverinfo": "text",
         "hovertext": "MV3.101 Line 90<br>Line Utilisation: 0.110",
         "lat": [
          53.6438
         ],
         "lon": [
          11.35675
         ],
         "marker": {
          "color": "#003caa",
          "opacity": 0,
          "size": 0
         },
         "mode": "markers",
         "showlegend": false,
         "type": "scattermapbox"
        },
        {
         "hoverinfo": "skip",
         "lat": [
          53.6502,
          53.6501
         ],
         "line": {
          "color": "#003caa",
          "width": 2
         },
         "lon": [
          11.3805,
          11.3811
         ],
         "mode": "lines",
         "showlegend": false,
         "type": "scattermapbox"
        },
        {
         "hoverinfo": "skip",
         "lat": [
          53.6502
         ],
         "lon": [
          11.3805
         ],
         "marker": {
          "cmax": 0.3900003389323528,
          "cmin": 0.0005069367152221342,
          "color": [
           0.08282601068790058
          ],
          "colorbar": {
           "title": {
            "text": "Line Utilisation"
           },
           "x": 1.02
          },
          "colorscale": [
           [
            0.0,
            "rgb(0,0,131)"
           ],
           [
            0.2,
            "rgb(0,60,170)"
           ],
           [
            0.4,
            "rgb(5,255,255)"
           ],
           [
            0.6,
            "rgb(255,255,0)"
           ],
           [
            0.8,
            "rgb(250,0,0)"
           ],
           [
            1.0,
            "rgb(128,0,0)"
           ]
          ],
          "opacity": 0,
          "showscale": true,
          "size": 0.1
         },
         "mode": "markers",
         "showlegend": false,
         "type": "scattermapbox"
        },
        {
         "hoverinfo": "text",
         "hovertext": "MV3.101 Line 132<br>Line Utilisation: 0.083",
         "lat": [
          53.65015
         ],
         "lon": [
          11.3808
         ],
         "marker": {
          "color": "#003caa",
          "opacity": 0,
          "size": 0
         },
         "mode": "markers",
         "showlegend": false,
         "type": "scattermapbox"
        },
        {
         "hoverinfo": "skip",
         "lat": [
          53.6397,
          53.638
         ],
         "line": {
          "color": "#000083",
          "width": 2
         },
         "lon": [
          11.3715,
          11.3719
         ],
         "mode": "lines",
         "showlegend": false,
         "type": "scattermapbox"
        },
        {
         "hoverinfo": "skip",
         "lat": [
          53.6397
         ],
         "lon": [
          11.3715
         ],
         "marker": {
          "cmax": 0.3900003389323528,
          "cmin": 0.0005069367152221342,
          "color": [
           0.022055380092442033
          ],
          "colorbar": {
           "title": {
            "text": "Line Utilisation"
           },
           "x": 1.02
          },
          "colorscale": [
           [
            0.0,
            "rgb(0,0,131)"
           ],
           [
            0.2,
            "rgb(0,60,170)"
           ],
           [
            0.4,
            "rgb(5,255,255)"
           ],
           [
            0.6,
            "rgb(255,255,0)"
           ],
           [
            0.8,
            "rgb(250,0,0)"
           ],
           [
            1.0,
            "rgb(128,0,0)"
           ]
          ],
          "opacity": 0,
          "showscale": true,
          "size": 0.1
         },
         "mode": "markers",
         "showlegend": false,
         "type": "scattermapbox"
        },
        {
         "hoverinfo": "text",
         "hovertext": "MV3.101 Line 10<br>Line Utilisation: 0.022",
         "lat": [
          53.63885
         ],
         "lon": [
          11.3717
         ],
         "marker": {
          "color": "#000083",
          "opacity": 0,
          "size": 0
         },
         "mode": "markers",
         "showlegend": false,
         "type": "scattermapbox"
        },
        {
         "hoverinfo": "skip",
         "lat": [
          53.6332,
          53.6312
         ],
         "line": {
          "color": "#003caa",
          "width": 2
         },
         "lon": [
          11.3633,
          11.3627
         ],
         "mode": "lines",
         "showlegend": false,
         "type": "scattermapbox"
        },
        {
         "hoverinfo": "skip",
         "lat": [
          53.6332
         ],
         "lon": [
          11.3633
         ],
         "marker": {
          "cmax": 0.3900003389323528,
          "cmin": 0.0005069367152221342,
          "color": [
           0.13977604344248065
          ],
          "colorbar": {
           "title": {
            "text": "Line Utilisation"
           },
           "x": 1.02
          },
          "colorscale": [
           [
            0.0,
            "rgb(0,0,131)"
           ],
           [
            0.2,
            "rgb(0,60,170)"
           ],
           [
            0.4,
            "rgb(5,255,255)"
           ],
           [
            0.6,
            "rgb(255,255,0)"
           ],
           [
            0.8,
            "rgb(250,0,0)"
           ],
           [
            1.0,
            "rgb(128,0,0)"
           ]
          ],
          "opacity": 0,
          "showscale": true,
          "size": 0.1
         },
         "mode": "markers",
         "showlegend": false,
         "type": "scattermapbox"
        },
        {
         "hoverinfo": "text",
         "hovertext": "MV3.101 Line 77<br>Line Utilisation: 0.140",
         "lat": [
          53.6322
         ],
         "lon": [
          11.363
         ],
         "marker": {
          "color": "#003caa",
          "opacity": 0,
          "size": 0
         },
         "mode": "markers",
         "showlegend": false,
         "type": "scattermapbox"
        },
        {
         "hoverinfo": "skip",
         "lat": [
          53.6443,
          53.6441
         ],
         "line": {
          "color": "#003caa",
          "width": 2
         },
         "lon": [
          11.3619,
          11.3609
         ],
         "mode": "lines",
         "showlegend": false,
         "type": "scattermapbox"
        },
        {
         "hoverinfo": "skip",
         "lat": [
          53.6443
         ],
         "lon": [
          11.3619
         ],
         "marker": {
          "cmax": 0.3900003389323528,
          "cmin": 0.0005069367152221342,
          "color": [
           0.14233212163881717
          ],
          "colorbar": {
           "title": {
            "text": "Line Utilisation"
           },
           "x": 1.02
          },
          "colorscale": [
           [
            0.0,
            "rgb(0,0,131)"
           ],
           [
            0.2,
            "rgb(0,60,170)"
           ],
           [
            0.4,
            "rgb(5,255,255)"
           ],
           [
            0.6,
            "rgb(255,255,0)"
           ],
           [
            0.8,
            "rgb(250,0,0)"
           ],
           [
            1.0,
            "rgb(128,0,0)"
           ]
          ],
          "opacity": 0,
          "showscale": true,
          "size": 0.1
         },
         "mode": "markers",
         "showlegend": false,
         "type": "scattermapbox"
        },
        {
         "hoverinfo": "text",
         "hovertext": "MV3.101 Line 88<br>Line Utilisation: 0.142",
         "lat": [
          53.6442
         ],
         "lon": [
          11.3614
         ],
         "marker": {
          "color": "#003caa",
          "opacity": 0,
          "size": 0
         },
         "mode": "markers",
         "showlegend": false,
         "type": "scattermapbox"
        },
        {
         "hoverinfo": "skip",
         "lat": [
          53.6465,
          53.6477
         ],
         "line": {
          "color": "#fa0000",
          "width": 2
         },
         "lon": [
          11.3669,
          11.3641
         ],
         "mode": "lines",
         "showlegend": false,
         "type": "scattermapbox"
        },
        {
         "hoverinfo": "skip",
         "lat": [
          53.6465
         ],
         "lon": [
          11.3669
         ],
         "marker": {
          "cmax": 0.3900003389323528,
          "cmin": 0.0005069367152221342,
          "color": [
           0.3373546466997739
          ],
          "colorbar": {
           "title": {
            "text": "Line Utilisation"
           },
           "x": 1.02
          },
          "colorscale": [
           [
            0.0,
            "rgb(0,0,131)"
           ],
           [
            0.2,
            "rgb(0,60,170)"
           ],
           [
            0.4,
            "rgb(5,255,255)"
           ],
           [
            0.6,
            "rgb(255,255,0)"
           ],
           [
            0.8,
            "rgb(250,0,0)"
           ],
           [
            1.0,
            "rgb(128,0,0)"
           ]
          ],
          "opacity": 0,
          "showscale": true,
          "size": 0.1
         },
         "mode": "markers",
         "showlegend": false,
         "type": "scattermapbox"
        },
        {
         "hoverinfo": "text",
         "hovertext": "MV3.101 Line 51<br>Line Utilisation: 0.337",
         "lat": [
          53.6471
         ],
         "lon": [
          11.3655
         ],
         "marker": {
          "color": "#fa0000",
          "opacity": 0,
          "size": 0
         },
         "mode": "markers",
         "showlegend": false,
         "type": "scattermapbox"
        },
        {
         "hoverinfo": "skip",
         "lat": [
          53.6504,
          53.6516
         ],
         "line": {
          "color": "#ffff00",
          "width": 2
         },
         "lon": [
          11.357,
          11.3561
         ],
         "mode": "lines",
         "showlegend": false,
         "type": "scattermapbox"
        },
        {
         "hoverinfo": "skip",
         "lat": [
          53.6504
         ],
         "lon": [
          11.357
         ],
         "marker": {
          "cmax": 0.3900003389323528,
          "cmin": 0.0005069367152221342,
          "color": [
           0.2699717951006316
          ],
          "colorbar": {
           "title": {
            "text": "Line Utilisation"
           },
           "x": 1.02
          },
          "colorscale": [
           [
            0.0,
            "rgb(0,0,131)"
           ],
           [
            0.2,
            "rgb(0,60,170)"
           ],
           [
            0.4,
            "rgb(5,255,255)"
           ],
           [
            0.6,
            "rgb(255,255,0)"
           ],
           [
            0.8,
            "rgb(250,0,0)"
           ],
           [
            1.0,
            "rgb(128,0,0)"
           ]
          ],
          "opacity": 0,
          "showscale": true,
          "size": 0.1
         },
         "mode": "markers",
         "showlegend": false,
         "type": "scattermapbox"
        },
        {
         "hoverinfo": "text",
         "hovertext": "MV3.101 Line 56<br>Line Utilisation: 0.270",
         "lat": [
          53.650999999999996
         ],
         "lon": [
          11.356549999999999
         ],
         "marker": {
          "color": "#ffff00",
          "opacity": 0,
          "size": 0
         },
         "mode": "markers",
         "showlegend": false,
         "type": "scattermapbox"
        },
        {
         "hoverinfo": "skip",
         "lat": [
          53.647,
          53.6477
         ],
         "line": {
          "color": "#003caa",
          "width": 2
         },
         "lon": [
          11.3701,
          11.3701
         ],
         "mode": "lines",
         "showlegend": false,
         "type": "scattermapbox"
        },
        {
         "hoverinfo": "skip",
         "lat": [
          53.647
         ],
         "lon": [
          11.3701
         ],
         "marker": {
          "cmax": 0.3900003389323528,
          "cmin": 0.0005069367152221342,
          "color": [
           0.1458004733249228
          ],
          "colorbar": {
           "title": {
            "text": "Line Utilisation"
           },
           "x": 1.02
          },
          "colorscale": [
           [
            0.0,
            "rgb(0,0,131)"
           ],
           [
            0.2,
            "rgb(0,60,170)"
           ],
           [
            0.4,
            "rgb(5,255,255)"
           ],
           [
            0.6,
            "rgb(255,255,0)"
           ],
           [
            0.8,
            "rgb(250,0,0)"
           ],
           [
            1.0,
            "rgb(128,0,0)"
           ]
          ],
          "opacity": 0,
          "showscale": true,
          "size": 0.1
         },
         "mode": "markers",
         "showlegend": false,
         "type": "scattermapbox"
        },
        {
         "hoverinfo": "text",
         "hovertext": "MV3.101 Line 28<br>Line Utilisation: 0.146",
         "lat": [
          53.64735
         ],
         "lon": [
          11.3701
         ],
         "marker": {
          "color": "#003caa",
          "opacity": 0,
          "size": 0
         },
         "mode": "markers",
         "showlegend": false,
         "type": "scattermapbox"
        },
        {
         "hoverinfo": "skip",
         "lat": [
          53.6499,
          53.6501
         ],
         "line": {
          "color": "#003caa",
          "width": 2
         },
         "lon": [
          11.3773,
          11.3779
         ],
         "mode": "lines",
         "showlegend": false,
         "type": "scattermapbox"
        },
        {
         "hoverinfo": "skip",
         "lat": [
          53.6499
         ],
         "lon": [
          11.3773
         ],
         "marker": {
          "cmax": 0.3900003389323528,
          "cmin": 0.0005069367152221342,
          "color": [
           0.14113595010438573
          ],
          "colorbar": {
           "title": {
            "text": "Line Utilisation"
           },
           "x": 1.02
          },
          "colorscale": [
           [
            0.0,
            "rgb(0,0,131)"
           ],
           [
            0.2,
            "rgb(0,60,170)"
           ],
           [
            0.4,
            "rgb(5,255,255)"
           ],
           [
            0.6,
            "rgb(255,255,0)"
           ],
           [
            0.8,
            "rgb(250,0,0)"
           ],
           [
            1.0,
            "rgb(128,0,0)"
           ]
          ],
          "opacity": 0,
          "showscale": true,
          "size": 0.1
         },
         "mode": "markers",
         "showlegend": false,
         "type": "scattermapbox"
        },
        {
         "hoverinfo": "text",
         "hovertext": "MV3.101 Line 130<br>Line Utilisation: 0.141",
         "lat": [
          53.650000000000006
         ],
         "lon": [
          11.377600000000001
         ],
         "marker": {
          "color": "#003caa",
          "opacity": 0,
          "size": 0
         },
         "mode": "markers",
         "showlegend": false,
         "type": "scattermapbox"
        },
        {
         "hoverinfo": "skip",
         "lat": [
          53.6469,
          53.6489
         ],
         "line": {
          "color": "#05ffff",
          "width": 2
         },
         "lon": [
          11.3688,
          11.3683
         ],
         "mode": "lines",
         "showlegend": false,
         "type": "scattermapbox"
        },
        {
         "hoverinfo": "skip",
         "lat": [
          53.6469
         ],
         "lon": [
          11.3688
         ],
         "marker": {
          "cmax": 0.3900003389323528,
          "cmin": 0.0005069367152221342,
          "color": [
           0.20108104127285525
          ],
          "colorbar": {
           "title": {
            "text": "Line Utilisation"
           },
           "x": 1.02
          },
          "colorscale": [
           [
            0.0,
            "rgb(0,0,131)"
           ],
           [
            0.2,
            "rgb(0,60,170)"
           ],
           [
            0.4,
            "rgb(5,255,255)"
           ],
           [
            0.6,
            "rgb(255,255,0)"
           ],
           [
            0.8,
            "rgb(250,0,0)"
           ],
           [
            1.0,
            "rgb(128,0,0)"
           ]
          ],
          "opacity": 0,
          "showscale": true,
          "size": 0.1
         },
         "mode": "markers",
         "showlegend": false,
         "type": "scattermapbox"
        },
        {
         "hoverinfo": "text",
         "hovertext": "MV3.101 Line 33<br>Line Utilisation: 0.201",
         "lat": [
          53.6479
         ],
         "lon": [
          11.368549999999999
         ],
         "marker": {
          "color": "#05ffff",
          "opacity": 0,
          "size": 0
         },
         "mode": "markers",
         "showlegend": false,
         "type": "scattermapbox"
        },
        {
         "hoverinfo": "skip",
         "lat": [
          53.6454,
          53.6454
         ],
         "line": {
          "color": "#003caa",
          "width": 2
         },
         "lon": [
          11.3762,
          11.3776
         ],
         "mode": "lines",
         "showlegend": false,
         "type": "scattermapbox"
        },
        {
         "hoverinfo": "skip",
         "lat": [
          53.6454
         ],
         "lon": [
          11.3762
         ],
         "marker": {
          "cmax": 0.3900003389323528,
          "cmin": 0.0005069367152221342,
          "color": [
           0.08286975041345049
          ],
          "colorbar": {
           "title": {
            "text": "Line Utilisation"
           },
           "x": 1.02
          },
          "colorscale": [
           [
            0.0,
            "rgb(0,0,131)"
           ],
           [
            0.2,
            "rgb(0,60,170)"
           ],
           [
            0.4,
            "rgb(5,255,255)"
           ],
           [
            0.6,
            "rgb(255,255,0)"
           ],
           [
            0.8,
            "rgb(250,0,0)"
           ],
           [
            1.0,
            "rgb(128,0,0)"
           ]
          ],
          "opacity": 0,
          "showscale": true,
          "size": 0.1
         },
         "mode": "markers",
         "showlegend": false,
         "type": "scattermapbox"
        },
        {
         "hoverinfo": "text",
         "hovertext": "MV3.101 Line 117<br>Line Utilisation: 0.083",
         "lat": [
          53.6454
         ],
         "lon": [
          11.3769
         ],
         "marker": {
          "color": "#003caa",
          "opacity": 0,
          "size": 0
         },
         "mode": "markers",
         "showlegend": false,
         "type": "scattermapbox"
        },
        {
         "hoverinfo": "skip",
         "lat": [
          53.6415,
          53.6422
         ],
         "line": {
          "color": "#000083",
          "width": 2
         },
         "lon": [
          11.3776,
          11.3784
         ],
         "mode": "lines",
         "showlegend": false,
         "type": "scattermapbox"
        },
        {
         "hoverinfo": "skip",
         "lat": [
          53.6415
         ],
         "lon": [
          11.3776
         ],
         "marker": {
          "cmax": 0.3900003389323528,
          "cmin": 0.0005069367152221342,
          "color": [
           0.02579230567299606
          ],
          "colorbar": {
           "title": {
            "text": "Line Utilisation"
           },
           "x": 1.02
          },
          "colorscale": [
           [
            0.0,
            "rgb(0,0,131)"
           ],
           [
            0.2,
            "rgb(0,60,170)"
           ],
           [
            0.4,
            "rgb(5,255,255)"
           ],
           [
            0.6,
            "rgb(255,255,0)"
           ],
           [
            0.8,
            "rgb(250,0,0)"
           ],
           [
            1.0,
            "rgb(128,0,0)"
           ]
          ],
          "opacity": 0,
          "showscale": true,
          "size": 0.1
         },
         "mode": "markers",
         "showlegend": false,
         "type": "scattermapbox"
        },
        {
         "hoverinfo": "text",
         "hovertext": "MV3.101 Line 8<br>Line Utilisation: 0.026",
         "lat": [
          53.641850000000005
         ],
         "lon": [
          11.378
         ],
         "marker": {
          "color": "#000083",
          "opacity": 0,
          "size": 0
         },
         "mode": "markers",
         "showlegend": false,
         "type": "scattermapbox"
        },
        {
         "hoverinfo": "skip",
         "lat": [
          53.6453,
          53.645
         ],
         "line": {
          "color": "#05ffff",
          "width": 2
         },
         "lon": [
          11.3665,
          11.3649
         ],
         "mode": "lines",
         "showlegend": false,
         "type": "scattermapbox"
        },
        {
         "hoverinfo": "skip",
         "lat": [
          53.6453
         ],
         "lon": [
          11.3665
         ],
         "marker": {
          "cmax": 0.3900003389323528,
          "cmin": 0.0005069367152221342,
          "color": [
           0.1943991380858545
          ],
          "colorbar": {
           "title": {
            "text": "Line Utilisation"
           },
           "x": 1.02
          },
          "colorscale": [
           [
            0.0,
            "rgb(0,0,131)"
           ],
           [
            0.2,
            "rgb(0,60,170)"
           ],
           [
            0.4,
            "rgb(5,255,255)"
           ],
           [
            0.6,
            "rgb(255,255,0)"
           ],
           [
            0.8,
            "rgb(250,0,0)"
           ],
           [
            1.0,
            "rgb(128,0,0)"
           ]
          ],
          "opacity": 0,
          "showscale": true,
          "size": 0.1
         },
         "mode": "markers",
         "showlegend": false,
         "type": "scattermapbox"
        },
        {
         "hoverinfo": "text",
         "hovertext": "MV3.101 Line 85<br>Line Utilisation: 0.194",
         "lat": [
          53.64515
         ],
         "lon": [
          11.3657
         ],
         "marker": {
          "color": "#05ffff",
          "opacity": 0,
          "size": 0
         },
         "mode": "markers",
         "showlegend": false,
         "type": "scattermapbox"
        },
        {
         "hoverinfo": "skip",
         "lat": [
          53.6456,
          53.6453
         ],
         "line": {
          "color": "#05ffff",
          "width": 2
         },
         "lon": [
          11.3692,
          11.3665
         ],
         "mode": "lines",
         "showlegend": false,
         "type": "scattermapbox"
        },
        {
         "hoverinfo": "skip",
         "lat": [
          53.6456
         ],
         "lon": [
          11.3692
         ],
         "marker": {
          "cmax": 0.3900003389323528,
          "cmin": 0.0005069367152221342,
          "color": [
           0.20212059431775678
          ],
          "colorbar": {
           "title": {
            "text": "Line Utilisation"
           },
           "x": 1.02
          },
          "colorscale": [
           [
            0.0,
            "rgb(0,0,131)"
           ],
           [
            0.2,
            "rgb(0,60,170)"
           ],
           [
            0.4,
            "rgb(5,255,255)"
           ],
           [
            0.6,
            "rgb(255,255,0)"
           ],
           [
            0.8,
            "rgb(250,0,0)"
           ],
           [
            1.0,
            "rgb(128,0,0)"
           ]
          ],
          "opacity": 0,
          "showscale": true,
          "size": 0.1
         },
         "mode": "markers",
         "showlegend": false,
         "type": "scattermapbox"
        },
        {
         "hoverinfo": "text",
         "hovertext": "MV3.101 Line 84<br>Line Utilisation: 0.202",
         "lat": [
          53.64545
         ],
         "lon": [
          11.36785
         ],
         "marker": {
          "color": "#05ffff",
          "opacity": 0,
          "size": 0
         },
         "mode": "markers",
         "showlegend": false,
         "type": "scattermapbox"
        },
        {
         "hoverinfo": "skip",
         "lat": [
          53.6489,
          53.6498
         ],
         "line": {
          "color": "#fa0000",
          "width": 2
         },
         "lon": [
          11.3604,
          11.3578
         ],
         "mode": "lines",
         "showlegend": false,
         "type": "scattermapbox"
        },
        {
         "hoverinfo": "skip",
         "lat": [
          53.6489
         ],
         "lon": [
          11.3604
         ],
         "marker": {
          "cmax": 0.3900003389323528,
          "cmin": 0.0005069367152221342,
          "color": [
           0.3311370936789806
          ],
          "colorbar": {
           "title": {
            "text": "Line Utilisation"
           },
           "x": 1.02
          },
          "colorscale": [
           [
            0.0,
            "rgb(0,0,131)"
           ],
           [
            0.2,
            "rgb(0,60,170)"
           ],
           [
            0.4,
            "rgb(5,255,255)"
           ],
           [
            0.6,
            "rgb(255,255,0)"
           ],
           [
            0.8,
            "rgb(250,0,0)"
           ],
           [
            1.0,
            "rgb(128,0,0)"
           ]
          ],
          "opacity": 0,
          "showscale": true,
          "size": 0.1
         },
         "mode": "markers",
         "showlegend": false,
         "type": "scattermapbox"
        },
        {
         "hoverinfo": "text",
         "hovertext": "MV3.101 Line 54<br>Line Utilisation: 0.331",
         "lat": [
          53.64935
         ],
         "lon": [
          11.3591
         ],
         "marker": {
          "color": "#fa0000",
          "opacity": 0,
          "size": 0
         },
         "mode": "markers",
         "showlegend": false,
         "type": "scattermapbox"
        },
        {
         "hoverinfo": "skip",
         "lat": [
          53.6461,
          53.6477
         ],
         "line": {
          "color": "#000083",
          "width": 2
         },
         "lon": [
          11.3521,
          11.3511
         ],
         "mode": "lines",
         "showlegend": false,
         "type": "scattermapbox"
        },
        {
         "hoverinfo": "skip",
         "lat": [
          53.6461
         ],
         "lon": [
          11.3521
         ],
         "marker": {
          "cmax": 0.3900003389323528,
          "cmin": 0.0005069367152221342,
          "color": [
           0.0456995388329534
          ],
          "colorbar": {
           "title": {
            "text": "Line Utilisation"
           },
           "x": 1.02
          },
          "colorscale": [
           [
            0.0,
            "rgb(0,0,131)"
           ],
           [
            0.2,
            "rgb(0,60,170)"
           ],
           [
            0.4,
            "rgb(5,255,255)"
           ],
           [
            0.6,
            "rgb(255,255,0)"
           ],
           [
            0.8,
            "rgb(250,0,0)"
           ],
           [
            1.0,
            "rgb(128,0,0)"
           ]
          ],
          "opacity": 0,
          "showscale": true,
          "size": 0.1
         },
         "mode": "markers",
         "showlegend": false,
         "type": "scattermapbox"
        },
        {
         "hoverinfo": "text",
         "hovertext": "MV3.101 Line 93<br>Line Utilisation: 0.046",
         "lat": [
          53.6469
         ],
         "lon": [
          11.351600000000001
         ],
         "marker": {
          "color": "#000083",
          "opacity": 0,
          "size": 0
         },
         "mode": "markers",
         "showlegend": false,
         "type": "scattermapbox"
        },
        {
         "hoverinfo": "skip",
         "lat": [
          53.6481,
          53.6481
         ],
         "line": {
          "color": "#003caa",
          "width": 2
         },
         "lon": [
          11.3784,
          11.3819
         ],
         "mode": "lines",
         "showlegend": false,
         "type": "scattermapbox"
        },
        {
         "hoverinfo": "skip",
         "lat": [
          53.6481
         ],
         "lon": [
          11.3784
         ],
         "marker": {
          "cmax": 0.3900003389323528,
          "cmin": 0.0005069367152221342,
          "color": [
           0.08954089687910528
          ],
          "colorbar": {
           "title": {
            "text": "Line Utilisation"
           },
           "x": 1.02
          },
          "colorscale": [
           [
            0.0,
            "rgb(0,0,131)"
           ],
           [
            0.2,
            "rgb(0,60,170)"
           ],
           [
            0.4,
            "rgb(5,255,255)"
           ],
           [
            0.6,
            "rgb(255,255,0)"
           ],
           [
            0.8,
            "rgb(250,0,0)"
           ],
           [
            1.0,
            "rgb(128,0,0)"
           ]
          ],
          "opacity": 0,
          "showscale": true,
          "size": 0.1
         },
         "mode": "markers",
         "showlegend": false,
         "type": "scattermapbox"
        },
        {
         "hoverinfo": "text",
         "hovertext": "MV3.101 Line 123<br>Line Utilisation: 0.090",
         "lat": [
          53.6481
         ],
         "lon": [
          11.38015
         ],
         "marker": {
          "color": "#003caa",
          "opacity": 0,
          "size": 0
         },
         "mode": "markers",
         "showlegend": false,
         "type": "scattermapbox"
        },
        {
         "hoverinfo": "skip",
         "lat": [
          53.6481,
          53.6472
         ],
         "line": {
          "color": "#000083",
          "width": 2
         },
         "lon": [
          11.3819,
          11.3833
         ],
         "mode": "lines",
         "showlegend": false,
         "type": "scattermapbox"
        },
        {
         "hoverinfo": "skip",
         "lat": [
          53.6481
         ],
         "lon": [
          11.3819
         ],
         "marker": {
          "cmax": 0.3900003389323528,
          "cmin": 0.0005069367152221342,
          "color": [
           0.0718891720693289
          ],
          "colorbar": {
           "title": {
            "text": "Line Utilisation"
           },
           "x": 1.02
          },
          "colorscale": [
           [
            0.0,
            "rgb(0,0,131)"
           ],
           [
            0.2,
            "rgb(0,60,170)"
           ],
           [
            0.4,
            "rgb(5,255,255)"
           ],
           [
            0.6,
            "rgb(255,255,0)"
           ],
           [
            0.8,
            "rgb(250,0,0)"
           ],
           [
            1.0,
            "rgb(128,0,0)"
           ]
          ],
          "opacity": 0,
          "showscale": true,
          "size": 0.1
         },
         "mode": "markers",
         "showlegend": false,
         "type": "scattermapbox"
        },
        {
         "hoverinfo": "text",
         "hovertext": "MV3.101 Line 124<br>Line Utilisation: 0.072",
         "lat": [
          53.64765
         ],
         "lon": [
          11.3826
         ],
         "marker": {
          "color": "#000083",
          "opacity": 0,
          "size": 0
         },
         "mode": "markers",
         "showlegend": false,
         "type": "scattermapbox"
        },
        {
         "hoverinfo": "skip",
         "lat": [
          53.6409,
          53.641
         ],
         "line": {
          "color": "#000083",
          "width": 2
         },
         "lon": [
          11.3733,
          11.3767
         ],
         "mode": "lines",
         "showlegend": false,
         "type": "scattermapbox"
        },
        {
         "hoverinfo": "skip",
         "lat": [
          53.6409
         ],
         "lon": [
          11.3733
         ],
         "marker": {
          "cmax": 0.3900003389323528,
          "cmin": 0.0005069367152221342,
          "color": [
           0.07532190592483211
          ],
          "colorbar": {
           "title": {
            "text": "Line Utilisation"
           },
           "x": 1.02
          },
          "colorscale": [
           [
            0.0,
            "rgb(0,0,131)"
           ],
           [
            0.2,
            "rgb(0,60,170)"
           ],
           [
            0.4,
            "rgb(5,255,255)"
           ],
           [
            0.6,
            "rgb(255,255,0)"
           ],
           [
            0.8,
            "rgb(250,0,0)"
           ],
           [
            1.0,
            "rgb(128,0,0)"
           ]
          ],
          "opacity": 0,
          "showscale": true,
          "size": 0.1
         },
         "mode": "markers",
         "showlegend": false,
         "type": "scattermapbox"
        },
        {
         "hoverinfo": "text",
         "hovertext": "MV3.101 Line 6<br>Line Utilisation: 0.075",
         "lat": [
          53.640950000000004
         ],
         "lon": [
          11.375
         ],
         "marker": {
          "color": "#000083",
          "opacity": 0,
          "size": 0
         },
         "mode": "markers",
         "showlegend": false,
         "type": "scattermapbox"
        },
        {
         "hoverinfo": "skip",
         "lat": [
          53.6531,
          53.6545
         ],
         "line": {
          "color": "#05ffff",
          "width": 2
         },
         "lon": [
          11.3584,
          11.3581
         ],
         "mode": "lines",
         "showlegend": false,
         "type": "scattermapbox"
        },
        {
         "hoverinfo": "skip",
         "lat": [
          53.6531
         ],
         "lon": [
          11.3584
         ],
         "marker": {
          "cmax": 0.3900003389323528,
          "cmin": 0.0005069367152221342,
          "color": [
           0.19957642672350276
          ],
          "colorbar": {
           "title": {
            "text": "Line Utilisation"
           },
           "x": 1.02
          },
          "colorscale": [
           [
            0.0,
            "rgb(0,0,131)"
           ],
           [
            0.2,
            "rgb(0,60,170)"
           ],
           [
            0.4,
            "rgb(5,255,255)"
           ],
           [
            0.6,
            "rgb(255,255,0)"
           ],
           [
            0.8,
            "rgb(250,0,0)"
           ],
           [
            1.0,
            "rgb(128,0,0)"
           ]
          ],
          "opacity": 0,
          "showscale": true,
          "size": 0.1
         },
         "mode": "markers",
         "showlegend": false,
         "type": "scattermapbox"
        },
        {
         "hoverinfo": "text",
         "hovertext": "MV3.101 Line 59<br>Line Utilisation: 0.200",
         "lat": [
          53.653800000000004
         ],
         "lon": [
          11.35825
         ],
         "marker": {
          "color": "#05ffff",
          "opacity": 0,
          "size": 0
         },
         "mode": "markers",
         "showlegend": false,
         "type": "scattermapbox"
        },
        {
         "hoverinfo": "skip",
         "lat": [
          53.6492,
          53.6514
         ],
         "line": {
          "color": "#003caa",
          "width": 2
         },
         "lon": [
          11.3656,
          11.3638
         ],
         "mode": "lines",
         "showlegend": false,
         "type": "scattermapbox"
        },
        {
         "hoverinfo": "skip",
         "lat": [
          53.6492
         ],
         "lon": [
          11.3656
         ],
         "marker": {
          "cmax": 0.3900003389323528,
          "cmin": 0.0005069367152221342,
          "color": [
           0.10569475815875119
          ],
          "colorbar": {
           "title": {
            "text": "Line Utilisation"
           },
           "x": 1.02
          },
          "colorscale": [
           [
            0.0,
            "rgb(0,0,131)"
           ],
           [
            0.2,
            "rgb(0,60,170)"
           ],
           [
            0.4,
            "rgb(5,255,255)"
           ],
           [
            0.6,
            "rgb(255,255,0)"
           ],
           [
            0.8,
            "rgb(250,0,0)"
           ],
           [
            1.0,
            "rgb(128,0,0)"
           ]
          ],
          "opacity": 0,
          "showscale": true,
          "size": 0.1
         },
         "mode": "markers",
         "showlegend": false,
         "type": "scattermapbox"
        },
        {
         "hoverinfo": "text",
         "hovertext": "MV3.101 Line 44<br>Line Utilisation: 0.106",
         "lat": [
          53.6503
         ],
         "lon": [
          11.3647
         ],
         "marker": {
          "color": "#003caa",
          "opacity": 0,
          "size": 0
         },
         "mode": "markers",
         "showlegend": false,
         "type": "scattermapbox"
        },
        {
         "hoverinfo": "skip",
         "lat": [
          53.6514,
          53.6531
         ],
         "line": {
          "color": "#a3a3a3",
          "width": 2
         },
         "lon": [
          11.3638,
          11.3584
         ],
         "mode": "lines",
         "showlegend": false,
         "type": "scattermapbox"
        },
        {
         "hoverinfo": "text",
         "hovertext": "MV3.101 loop_line 9",
         "lat": [
          53.65225
         ],
         "lon": [
          11.3611
         ],
         "marker": {
          "color": "#a3a3a3",
          "opacity": 0,
          "size": 0
         },
         "mode": "markers",
         "showlegend": false,
         "type": "scattermapbox"
        },
        {
         "hoverinfo": "skip",
         "lat": [
          53.634,
          53.6346
         ],
         "line": {
          "color": "#a3a3a3",
          "width": 2
         },
         "lon": [
          11.3636,
          11.3656
         ],
         "mode": "lines",
         "showlegend": false,
         "type": "scattermapbox"
        },
        {
         "hoverinfo": "text",
         "hovertext": "MV3.101 loop_line 10",
         "lat": [
          53.634299999999996
         ],
         "lon": [
          11.3646
         ],
         "marker": {
          "color": "#a3a3a3",
          "opacity": 0,
          "size": 0
         },
         "mode": "markers",
         "showlegend": false,
         "type": "scattermapbox"
        },
        {
         "hoverinfo": "skip",
         "lat": [
          53.6252,
          53.6286
         ],
         "line": {
          "color": "#a3a3a3",
          "width": 2
         },
         "lon": [
          11.3714,
          11.3737
         ],
         "mode": "lines",
         "showlegend": false,
         "type": "scattermapbox"
        },
        {
         "hoverinfo": "text",
         "hovertext": "MV3.101 loop_line 4",
         "lat": [
          53.6269
         ],
         "lon": [
          11.37255
         ],
         "marker": {
          "color": "#a3a3a3",
          "opacity": 0,
          "size": 0
         },
         "mode": "markers",
         "showlegend": false,
         "type": "scattermapbox"
        },
        {
         "hoverinfo": "skip",
         "lat": [
          53.6434,
          53.6488
         ],
         "line": {
          "color": "#a3a3a3",
          "width": 2
         },
         "lon": [
          11.3825,
          11.3833
         ],
         "mode": "lines",
         "showlegend": false,
         "type": "scattermapbox"
        },
        {
         "hoverinfo": "text",
         "hovertext": "MV3.101 loop_line 5",
         "lat": [
          53.646100000000004
         ],
         "lon": [
          11.3829
         ],
         "marker": {
          "color": "#a3a3a3",
          "opacity": 0,
          "size": 0
         },
         "mode": "markers",
         "showlegend": false,
         "type": "scattermapbox"
        },
        {
         "hoverinfo": "skip",
         "lat": [
          53.6371,
          53.6341
         ],
         "line": {
          "color": "#a3a3a3",
          "width": 2
         },
         "lon": [
          11.3721,
          11.3724
         ],
         "mode": "lines",
         "showlegend": false,
         "type": "scattermapbox"
        },
        {
         "hoverinfo": "text",
         "hovertext": "MV3.101 loop_line 7",
         "lat": [
          53.6356
         ],
         "lon": [
          11.372250000000001
         ],
         "marker": {
          "color": "#a3a3a3",
          "opacity": 0,
          "size": 0
         },
         "mode": "markers",
         "showlegend": false,
         "type": "scattermapbox"
        },
        {
         "hoverinfo": "skip",
         "lat": [
          53.6457,
          53.6464
         ],
         "line": {
          "color": "#a3a3a3",
          "width": 2
         },
         "lon": [
          11.3697,
          11.3721
         ],
         "mode": "lines",
         "showlegend": false,
         "type": "scattermapbox"
        },
        {
         "hoverinfo": "text",
         "hovertext": "MV3.101 loop_line 8",
         "lat": [
          53.64605
         ],
         "lon": [
          11.370899999999999
         ],
         "marker": {
          "color": "#a3a3a3",
          "opacity": 0,
          "size": 0
         },
         "mode": "markers",
         "showlegend": false,
         "type": "scattermapbox"
        },
        {
         "hoverinfo": "skip",
         "lat": [
          53.6508,
          53.6494
         ],
         "line": {
          "color": "#a3a3a3",
          "width": 2
         },
         "lon": [
          11.3521,
          11.351
         ],
         "mode": "lines",
         "showlegend": false,
         "type": "scattermapbox"
        },
        {
         "hoverinfo": "text",
         "hovertext": "MV3.101 loop_line 3",
         "lat": [
          53.650099999999995
         ],
         "lon": [
          11.35155
         ],
         "marker": {
          "color": "#a3a3a3",
          "opacity": 0,
          "size": 0
         },
         "mode": "markers",
         "showlegend": false,
         "type": "scattermapbox"
        },
        {
         "hoverinfo": "skip",
         "lat": [
          53.662,
          53.6598
         ],
         "line": {
          "color": "#a3a3a3",
          "width": 2
         },
         "lon": [
          11.3646,
          11.3685
         ],
         "mode": "lines",
         "showlegend": false,
         "type": "scattermapbox"
        },
        {
         "hoverinfo": "text",
         "hovertext": "MV3.101 loop_line 2",
         "lat": [
          53.6609
         ],
         "lon": [
          11.36655
         ],
         "marker": {
          "color": "#a3a3a3",
          "opacity": 0,
          "size": 0
         },
         "mode": "markers",
         "showlegend": false,
         "type": "scattermapbox"
        },
        {
         "hoverinfo": "skip",
         "lat": [
          53.6455,
          53.6464
         ],
         "line": {
          "color": "#a3a3a3",
          "width": 2
         },
         "lon": [
          11.3809,
          11.3832
         ],
         "mode": "lines",
         "showlegend": false,
         "type": "scattermapbox"
        },
        {
         "hoverinfo": "text",
         "hovertext": "MV3.101 loop_line 6",
         "lat": [
          53.64595
         ],
         "lon": [
          11.38205
         ],
         "marker": {
          "color": "#a3a3a3",
          "opacity": 0,
          "size": 0
         },
         "mode": "markers",
         "showlegend": false,
         "type": "scattermapbox"
        },
        {
         "hoverinfo": "skip",
         "lat": [
          53.651,
          53.6422
         ],
         "line": {
          "color": "#a3a3a3",
          "width": 2
         },
         "lon": [
          11.3807,
          11.3784
         ],
         "mode": "lines",
         "showlegend": false,
         "type": "scattermapbox"
        },
        {
         "hoverinfo": "text",
         "hovertext": "MV3.101 loop_line 1",
         "lat": [
          53.64660000000001
         ],
         "lon": [
          11.379549999999998
         ],
         "marker": {
          "color": "#a3a3a3",
          "opacity": 0,
          "size": 0
         },
         "mode": "markers",
         "showlegend": false,
         "type": "scattermapbox"
        },
        {
         "hoverinfo": "skip",
         "lat": [
          53.6524,
          53.6521
         ],
         "line": {
          "color": "#a3a3a3",
          "width": 2
         },
         "lon": [
          11.3561,
          11.3535
         ],
         "mode": "lines",
         "showlegend": false,
         "type": "scattermapbox"
        },
        {
         "hoverinfo": "text",
         "hovertext": "MV3.101 loop_line 11",
         "lat": [
          53.652249999999995
         ],
         "lon": [
          11.354800000000001
         ],
         "marker": {
          "color": "#a3a3a3",
          "opacity": 0,
          "size": 0
         },
         "mode": "markers",
         "showlegend": false,
         "type": "scattermapbox"
        },
        {
         "hoverinfo": "text",
         "hovertext": [
          "MV3.101 node1<br>5d50a881-c383-463e-8355-41b3dd57422d<br>load=Count: 1, Rated Power: 453.6 kw",
          "MV3.101 Bus 28<br>c50941eb-01ee-4bd5-be6a-c005af0639df<br>load=Count: 1, Rated Power: 362.9 kw<br>fixed_feed_in=Count: 1, Rated Power: 172.2 kw",
          "MV3.101 Bus 81<br>e22406e6-e172-4244-b978-89906f396130<br>load=Count: 1, Rated Power: 594.9 kw<br>fixed_feed_in=Count: 1, Rated Power: 184.7 kw",
          "MV3.101 Bus 102<br>d1c18dd9-a2f4-4953-8d53-03861eb519b5<br>load=Count: 1, Rated Power: 362.9 kw<br>fixed_feed_in=Count: 1, Rated Power: 172.2 kw",
          "MV3.101 Bus 19<br>6ae27f87-a713-4204-adfa-b262b222d240<br>load=Count: 1, Rated Power: 594.9 kw<br>fixed_feed_in=Count: 1, Rated Power: 184.7 kw",
          "MV3.101 Bus 86<br>bed1b7a5-3cbd-480c-86c5-adb7ae6a940d<br>load=Count: 1, Rated Power: 594.9 kw<br>fixed_feed_in=Count: 2, Rated Power: 3084.7 kw",
          "MV3.101 Bus 82<br>cc612986-d947-4c4d-af40-ac8fdeebc1f9<br>load=Count: 1, Rated Power: 594.9 kw<br>fixed_feed_in=Count: 1, Rated Power: 184.7 kw",
          "MV3.101 Bus 50<br>c69cc803-396c-4b15-af99-5eade9fcb66a<br>load=Count: 1, Rated Power: 668.0 kw<br>fixed_feed_in=Count: 1, Rated Power: 171.2 kw",
          "MV3.101 Bus 125<br>738eb38a-f098-4e32-a39a-4c871eb39ccd<br>load=Count: 1, Rated Power: 595.0 kw<br>fixed_feed_in=Count: 1, Rated Power: 252.3 kw",
          "MV3.101 Bus 41<br>4537ceed-9709-47c8-bcac-92a73f44e78c<br>load=Count: 1, Rated Power: 594.9 kw<br>fixed_feed_in=Count: 1, Rated Power: 184.7 kw",
          "MV3.101 Bus 52<br>caf7fd1b-8c8a-4734-b7c3-7a49ae5c00da<br>load=Count: 1, Rated Power: 668.0 kw<br>fixed_feed_in=Count: 1, Rated Power: 171.2 kw",
          "MV3.101 Bus 50_1<br>41fcce35-df2e-4053-8c3f-2aba19d62a77<br>",
          "MV3.101 Bus 77<br>0c5e6268-ba9c-41e0-b472-0aea5a3163c6<br>load=Count: 1, Rated Power: 594.9 kw<br>fixed_feed_in=Count: 1, Rated Power: 184.7 kw",
          "MV3.101 Bus 120<br>492712d0-604e-4183-8410-a11934495bd9<br>load=Count: 1, Rated Power: 595.0 kw<br>fixed_feed_in=Count: 1, Rated Power: 252.3 kw",
          "MV3.101 Bus 34<br>aac0ca99-70ef-4845-876f-f24adc93fc64<br>load=Count: 1, Rated Power: 594.9 kw<br>fixed_feed_in=Count: 1, Rated Power: 184.7 kw",
          "MV3.101 Bus 143<br>e9333524-c914-4799-961b-cfe5adfc5f52<br>load=Count: 1, Rated Power: 595.0 kw<br>fixed_feed_in=Count: 1, Rated Power: 252.3 kw",
          "MV3.101 Bus 27<br>84aa56bd-0941-4efd-86b8-61fd6b55dbf5<br>load=Count: 1, Rated Power: 594.9 kw<br>fixed_feed_in=Count: 1, Rated Power: 184.7 kw",
          "MV3.101 Bus 64<br>2cfb12f1-fa79-4210-9ac6-769254515af8<br>load=Count: 1, Rated Power: 594.9 kw<br>fixed_feed_in=Count: 1, Rated Power: 184.7 kw",
          "MV3.101 Bus 68_1<br>effcc0e0-e7f0-4594-9ff4-32855011aa5e<br>",
          "MV3.101 Bus 32<br>a7c9c8e7-63f0-4971-81b9-7073436d4317<br>load=Count: 1, Rated Power: 668.0 kw<br>fixed_feed_in=Count: 1, Rated Power: 171.2 kw",
          "MV3.101 Bus 134<br>43d06b2a-981c-4b51-91ab-978c392becb0<br>load=Count: 1, Rated Power: 595.0 kw<br>fixed_feed_in=Count: 1, Rated Power: 252.3 kw",
          "MV3.101 Bus 80<br>6df59148-c230-4892-82b3-c4f05c68bcdc<br>load=Count: 1, Rated Power: 668.0 kw<br>fixed_feed_in=Count: 1, Rated Power: 171.2 kw",
          "MV3.101 Bus 91<br>5d07ed20-5410-4014-8a38-afbb90cb68af<br>load=Count: 1, Rated Power: 362.9 kw<br>fixed_feed_in=Count: 1, Rated Power: 172.2 kw",
          "MV3.101 Bus 75<br>a0716f3b-09b0-437c-98c4-dd18397051f1<br>load=Count: 1, Rated Power: 362.9 kw<br>fixed_feed_in=Count: 1, Rated Power: 172.2 kw",
          "MV3.101 Bus 143_1<br>8b864fa2-3051-4369-91ec-9e17b71a1423<br>",
          "MV3.101 Bus 115<br>fb02db79-c6b8-4bf0-8a0b-e661fb04086a<br>load=Count: 1, Rated Power: 594.9 kw<br>fixed_feed_in=Count: 1, Rated Power: 184.7 kw",
          "MV3.101 Bus 43<br>a5d72bf6-6a61-4314-b541-f5635d5c334f<br>load=Count: 1, Rated Power: 594.9 kw<br>fixed_feed_in=Count: 1, Rated Power: 184.7 kw",
          "MV3.101 Bus 17<br>b4551111-75bb-4e9d-986b-685e4ca7a22d<br>load=Count: 1, Rated Power: 594.9 kw<br>fixed_feed_in=Count: 1, Rated Power: 184.7 kw",
          "HV1 Bus 25<br>b0bbd85c-6540-4418-b083-455daed681bd<br>",
          "MV3.101 Bus 117<br>f3065cce-6302-4365-8036-4fc2f126ade8<br>load=Count: 1, Rated Power: 594.9 kw<br>fixed_feed_in=Count: 1, Rated Power: 184.7 kw",
          "MV3.101 Bus 78<br>04beeb0e-78d7-46b8-aca5-76d3a009638f<br>load=Count: 1, Rated Power: 362.9 kw<br>fixed_feed_in=Count: 1, Rated Power: 172.2 kw",
          "MV3.101 Bus 49<br>a21d803a-04cb-43c3-b531-7111536ef7a0<br>load=Count: 1, Rated Power: 668.0 kw<br>fixed_feed_in=Count: 1, Rated Power: 171.2 kw",
          "MV3.101 Bus 85<br>c9a17f26-fdc3-434d-bd81-ce7cafe7821a<br>load=Count: 1, Rated Power: 594.9 kw<br>fixed_feed_in=Count: 1, Rated Power: 184.7 kw",
          "MV3.101 Bus 123<br>889c84e9-c717-4471-84b4-b3423b30dc78<br>load=Count: 1, Rated Power: 594.9 kw<br>fixed_feed_in=Count: 1, Rated Power: 184.7 kw",
          "MV3.101 Bus 76<br>af2a653a-5fbb-48f4-94fe-da098579ebe7<br>load=Count: 1, Rated Power: 668.0 kw<br>fixed_feed_in=Count: 1, Rated Power: 171.2 kw",
          "MV3.101 Bus 11<br>8b647a1a-b5d6-46b2-9ec3-3bdbf6e0de34<br>load=Count: 2, Rated Power: 563.3 kw<br>fixed_feed_in=Count: 1, Rated Power: 172.2 kw",
          "MV3.101 Bus 98<br>f2ab91df-6f6a-439b-95da-135dc5fca6a2<br>load=Count: 1, Rated Power: 594.9 kw<br>fixed_feed_in=Count: 1, Rated Power: 184.7 kw",
          "MV3.101 Bus 18<br>28a6c897-d718-4eb8-9088-4e8d455e5e8e<br>load=Count: 1, Rated Power: 668.0 kw<br>fixed_feed_in=Count: 1, Rated Power: 171.2 kw",
          "MV3.101 Bus 103<br>f5fb7dc2-2a15-489a-9339-f8fd351836a4<br>load=Count: 1, Rated Power: 362.9 kw<br>fixed_feed_in=Count: 1, Rated Power: 172.2 kw",
          "MV3.101 Bus 100<br>3df23ce8-f8ed-4562-b3d3-3904e1aacfa6<br>load=Count: 1, Rated Power: 668.0 kw<br>fixed_feed_in=Count: 1, Rated Power: 171.2 kw",
          "MV3.101 Bus 37<br>c22fab8c-3947-44d2-a5f3-b997e6eadb35<br>load=Count: 1, Rated Power: 668.0 kw<br>fixed_feed_in=Count: 1, Rated Power: 171.2 kw",
          "MV3.101 Bus 14<br>e4aaf6c9-8551-41c4-a3f9-54d7348076af<br>load=Count: 1, Rated Power: 362.9 kw<br>fixed_feed_in=Count: 1, Rated Power: 172.2 kw",
          "MV3.101 Bus 107<br>40612e93-0348-46dd-8d66-a5480fb4484d<br>load=Count: 1, Rated Power: 362.9 kw<br>fixed_feed_in=Count: 1, Rated Power: 172.2 kw",
          "MV3.101 Bus 105<br>957fb2b9-d0db-48e4-bc59-39741464ed1c<br>load=Count: 1, Rated Power: 594.9 kw<br>fixed_feed_in=Count: 1, Rated Power: 184.7 kw",
          "MV3.101 Bus 92<br>ee484025-9503-4938-8690-5a7f0861370e<br>load=Count: 1, Rated Power: 668.0 kw<br>fixed_feed_in=Count: 1, Rated Power: 171.2 kw",
          "MV3.101 Bus 119<br>58435c80-af6d-4675-b5de-41d8d4c0b87a<br>load=Count: 1, Rated Power: 595.0 kw<br>fixed_feed_in=Count: 1, Rated Power: 252.3 kw",
          "MV3.101 Bus 73<br>0f63de16-1c22-4e6b-8090-90929e2e407f<br>load=Count: 1, Rated Power: 594.9 kw<br>fixed_feed_in=Count: 1, Rated Power: 184.7 kw",
          "MV3.101 Bus 56<br>0d6102de-9f0f-47fa-9eb2-e8f5149a7851<br>load=Count: 1, Rated Power: 668.0 kw<br>fixed_feed_in=Count: 1, Rated Power: 171.2 kw",
          "MV3.101 Bus 33<br>46248ba3-8fa1-4225-b087-10739b0811cd<br>load=Count: 1, Rated Power: 362.9 kw<br>fixed_feed_in=Count: 1, Rated Power: 172.2 kw",
          "MV3.101 Bus 15<br>2837f3ce-c6fb-45ba-9cf0-27ad14987c81<br>load=Count: 2, Rated Power: 774.3 kw<br>fixed_feed_in=Count: 1, Rated Power: 172.2 kw",
          "MV3.101 Bus 31<br>b7e2b6d4-7566-417f-b5a3-f2ead1ceed98<br>load=Count: 1, Rated Power: 594.9 kw<br>fixed_feed_in=Count: 1, Rated Power: 184.7 kw",
          "MV3.101 Bus 25<br>97b96777-900f-49d2-90b5-044c38bc371e<br>load=Count: 1, Rated Power: 362.9 kw<br>fixed_feed_in=Count: 1, Rated Power: 172.2 kw",
          "MV3.101 Bus 60<br>c2d61c41-06a1-4490-9e68-8fe7dfec579a<br>load=Count: 1, Rated Power: 362.9 kw<br>fixed_feed_in=Count: 1, Rated Power: 172.2 kw",
          "MV3.101 Bus 55<br>38145153-0dd5-429c-b0c8-e876956fa70f<br>load=Count: 1, Rated Power: 594.9 kw<br>fixed_feed_in=Count: 1, Rated Power: 184.7 kw",
          "MV3.101 Bus 99<br>f6761178-0491-441c-b7e6-4126b29fbada<br>load=Count: 1, Rated Power: 594.9 kw<br>fixed_feed_in=Count: 1, Rated Power: 184.7 kw",
          "MV3.101 Bus 124<br>79143963-b1bb-4eca-8ba8-d3712f5696c5<br>load=Count: 1, Rated Power: 362.9 kw<br>fixed_feed_in=Count: 1, Rated Power: 172.2 kw",
          "MV3.101 Bus 122<br>cc0495c9-0bfe-41ba-b98b-978b8f4b1b69<br>load=Count: 1, Rated Power: 362.9 kw<br>fixed_feed_in=Count: 1, Rated Power: 172.2 kw",
          "MV3.101 Bus 110_1<br>335dc8f6-35c6-4c94-bf39-a77cbee563e8<br>",
          "MV3.101 Bus 48<br>9b372fbc-8da2-48a3-b76e-ad52957f77d3<br>load=Count: 1, Rated Power: 594.9 kw<br>fixed_feed_in=Count: 1, Rated Power: 184.7 kw",
          "MV3.101 Bus 106<br>8f2d1b47-8115-4139-93d2-3ddb6a9119ff<br>load=Count: 1, Rated Power: 362.9 kw<br>fixed_feed_in=Count: 1, Rated Power: 172.2 kw",
          "MV3.101 Bus 128<br>ebde173b-fb40-484b-aeb9-d565b97c5102<br>load=Count: 1, Rated Power: 594.9 kw<br>fixed_feed_in=Count: 1, Rated Power: 184.7 kw",
          "MV3.101 Bus 75_1<br>a4b428dc-15dd-4b48-a115-322988f0cf73<br>",
          "MV3.101 Bus 71<br>2289d9f8-70e3-438f-a25a-8812b53f0aff<br>load=Count: 1, Rated Power: 594.9 kw<br>fixed_feed_in=Count: 1, Rated Power: 184.7 kw",
          "MV3.101 Bus 46<br>99d5e9ac-6fdf-4957-bf69-64dc088434f4<br>load=Count: 1, Rated Power: 594.9 kw<br>fixed_feed_in=Count: 1, Rated Power: 184.7 kw",
          "MV3.101 BS busbar1A<br>6bc544cf-71e5-4d0a-941a-4e806c22fd8d<br>",
          "MV3.101 Bus 53<br>296e67f3-2711-43ff-9a46-eca3f60b0001<br>load=Count: 1, Rated Power: 668.0 kw<br>fixed_feed_in=Count: 1, Rated Power: 171.2 kw",
          "MV3.101 Bus 40_1<br>557b9f51-d83c-476c-a84c-d240530c203d<br>",
          "MV3.101 Bus 13<br>5f35664a-a4ef-4a48-849c-c4c058f6cffa<br>load=Count: 1, Rated Power: 668.0 kw<br>fixed_feed_in=Count: 1, Rated Power: 171.2 kw",
          "MV3.101 Bus 39<br>49840d95-2aa5-490c-90ad-556dfee4cb89<br>load=Count: 1, Rated Power: 362.9 kw<br>fixed_feed_in=Count: 1, Rated Power: 172.2 kw",
          "MV3.101 Bus 66<br>5b421400-8cdf-4847-bdbf-452ece1ed348<br>load=Count: 1, Rated Power: 668.0 kw<br>fixed_feed_in=Count: 1, Rated Power: 171.2 kw",
          "MV3.101 Bus 88<br>51f05c04-30ac-4430-b970-0081f1b6d8b1<br>load=Count: 1, Rated Power: 594.9 kw<br>fixed_feed_in=Count: 1, Rated Power: 184.7 kw",
          "MV3.101 Bus 96<br>ad120450-c8c2-4859-a7c4-f487fbe10824<br>load=Count: 1, Rated Power: 594.9 kw<br>fixed_feed_in=Count: 1, Rated Power: 184.7 kw",
          "MV3.101 Bus 69<br>8515f8eb-33d1-46c5-8467-ab12155a5474<br>load=Count: 1, Rated Power: 668.0 kw<br>fixed_feed_in=Count: 1, Rated Power: 171.2 kw",
          "MV3.101 Bus 58<br>53765bfa-5e7d-40e6-8b1f-88e6ac6e2bd9<br>load=Count: 1, Rated Power: 668.0 kw<br>fixed_feed_in=Count: 1, Rated Power: 171.2 kw",
          "MV3.101 Bus 142<br>26245e34-6c7f-4c21-a52f-733486b96eb1<br>load=Count: 1, Rated Power: 362.9 kw<br>fixed_feed_in=Count: 1, Rated Power: 172.2 kw",
          "MV3.101 Bus 127<br>5e3c4932-5022-40b3-a533-ff831bcf18b9<br>load=Count: 1, Rated Power: 594.9 kw<br>fixed_feed_in=Count: 1, Rated Power: 184.7 kw",
          "MV3.101 Bus 84<br>aba677f2-f1c5-409e-8587-05acecbe09a8<br>load=Count: 2, Rated Power: 1090.7 kw<br>fixed_feed_in=Count: 1, Rated Power: 184.7 kw",
          "MV3.101 Bus 114_1<br>8252e667-afbf-4fff-b0b8-595f40b82273<br>",
          "MV3.101 Bus 138<br>66f96b86-254e-4205-8cb8-c0634a8fa91a<br>load=Count: 1, Rated Power: 595.0 kw<br>fixed_feed_in=Count: 1, Rated Power: 252.3 kw",
          "MV3.101 Bus 129<br>f768ffeb-1021-47d1-b606-9f15103988fc<br>load=Count: 1, Rated Power: 362.9 kw<br>fixed_feed_in=Count: 1, Rated Power: 172.2 kw",
          "MV3.101 Bus 130<br>0e3f552a-5dc5-4781-969e-13b0600e4deb<br>load=Count: 1, Rated Power: 594.9 kw<br>fixed_feed_in=Count: 1, Rated Power: 184.7 kw",
          "MV3.101 Bus 16<br>2aab5612-f39a-4cc1-bb96-056b873a6310<br>load=Count: 1, Rated Power: 594.9 kw<br>fixed_feed_in=Count: 1, Rated Power: 184.7 kw",
          "MV3.101 Bus 111<br>a670449b-2ffd-4bae-9e01-1d7aab6939f6<br>load=Count: 1, Rated Power: 594.9 kw<br>fixed_feed_in=Count: 1, Rated Power: 184.7 kw",
          "MV3.101 Bus 68<br>bd345c13-e871-4357-af6e-3969889ff035<br>load=Count: 1, Rated Power: 668.0 kw<br>fixed_feed_in=Count: 1, Rated Power: 171.2 kw",
          "MV3.101 Bus 51<br>52ac8b75-96b7-460e-a927-237d89a13663<br>load=Count: 1, Rated Power: 594.9 kw<br>fixed_feed_in=Count: 1, Rated Power: 184.7 kw",
          "MV3.101 Bus 40<br>a5ccf309-420a-474f-a6ed-96cb3ffa2e56<br>load=Count: 1, Rated Power: 594.9 kw<br>fixed_feed_in=Count: 1, Rated Power: 184.7 kw",
          "MV3.101 Bus 67<br>8b19ef59-b368-42eb-a754-12936b5d4d17<br>load=Count: 2, Rated Power: 647.7 kw<br>fixed_feed_in=Count: 1, Rated Power: 172.2 kw",
          "MV3.101 Bus 136<br>e4da35ec-8275-424a-bee3-5dc1a8c3dfb8<br>load=Count: 1, Rated Power: 362.9 kw<br>fixed_feed_in=Count: 1, Rated Power: 172.2 kw",
          "MV3.101 Bus 44<br>8da74e62-9268-426e-8878-1f83c12e40e6<br>load=Count: 1, Rated Power: 594.9 kw<br>fixed_feed_in=Count: 1, Rated Power: 184.7 kw",
          "MV3.101 Bus 114<br>01dca738-329e-4c8d-900c-fd0f48acc874<br>load=Count: 1, Rated Power: 668.0 kw<br>fixed_feed_in=Count: 1, Rated Power: 171.2 kw",
          "MV3.101 Bus 30<br>13765175-44d3-4aa2-aa3e-7ed85822fcef<br>load=Count: 1, Rated Power: 362.9 kw<br>fixed_feed_in=Count: 1, Rated Power: 172.2 kw",
          "MV3.101 Bus 132<br>a9c53c7b-e700-4412-93be-348459028998<br>load=Count: 1, Rated Power: 595.0 kw<br>fixed_feed_in=Count: 1, Rated Power: 252.3 kw",
          "MV3.101 Bus 63<br>eec4851e-6d4a-4710-aa77-83c9d4bfac28<br>load=Count: 1, Rated Power: 668.0 kw<br>fixed_feed_in=Count: 1, Rated Power: 171.2 kw",
          "MV3.101 Bus 38<br>61d6379d-b010-461e-96e5-921149c0c8b6<br>load=Count: 1, Rated Power: 362.9 kw<br>fixed_feed_in=Count: 1, Rated Power: 172.2 kw",
          "MV3.101 Bus 93<br>3342bab1-65b4-4a4b-a2e8-365a162ead81<br>load=Count: 1, Rated Power: 668.0 kw<br>fixed_feed_in=Count: 1, Rated Power: 171.2 kw",
          "MV3.101 Bus 135<br>b649cc84-5230-485a-808c-2078624d3681<br>load=Count: 1, Rated Power: 594.9 kw<br>fixed_feed_in=Count: 1, Rated Power: 184.7 kw",
          "MV3.101 Bus 24<br>5e880ada-8200-4681-8533-c759b0a8ec35<br>load=Count: 1, Rated Power: 594.9 kw<br>fixed_feed_in=Count: 1, Rated Power: 184.7 kw",
          "MV3.101 Bus 110<br>42a7a176-bb8b-4281-8ba4-b2a2486f6b90<br>load=Count: 1, Rated Power: 594.9 kw<br>fixed_feed_in=Count: 1, Rated Power: 184.7 kw",
          "MV3.101 Bus 97<br>46f61d50-fb44-491d-a4e6-468102797132<br>load=Count: 1, Rated Power: 362.9 kw<br>fixed_feed_in=Count: 1, Rated Power: 172.2 kw",
          "MV3.101 Bus 57<br>cd736b45-3d94-402d-b11b-2a0ece139b71<br>load=Count: 1, Rated Power: 668.0 kw<br>fixed_feed_in=Count: 1, Rated Power: 171.2 kw",
          "MV3.101 Bus 47<br>f5ffa031-1062-4c4e-9495-8e40e2b55e1b<br>load=Count: 1, Rated Power: 594.9 kw<br>fixed_feed_in=Count: 1, Rated Power: 184.7 kw",
          "MV3.101 Bus 20<br>98c94532-d796-4df2-864f-08b93b2244ab<br>load=Count: 1, Rated Power: 362.9 kw<br>fixed_feed_in=Count: 1, Rated Power: 172.2 kw",
          "MV3.101 Bus 113<br>380a3c84-fd4b-487c-b2de-00a3b19b27bc<br>load=Count: 1, Rated Power: 362.9 kw<br>fixed_feed_in=Count: 1, Rated Power: 172.2 kw",
          "MV3.101 Bus 118<br>8f65cec0-ee20-4f8c-8bdc-41f3218c067e<br>load=Count: 1, Rated Power: 594.9 kw<br>fixed_feed_in=Count: 1, Rated Power: 184.7 kw",
          "MV3.101 Bus 126<br>4920ef18-6e90-45e5-afaf-9e8b60eb6d0e<br>load=Count: 1, Rated Power: 594.9 kw<br>fixed_feed_in=Count: 1, Rated Power: 184.7 kw",
          "MV3.101 Bus 141<br>3342da5b-7e73-4fc5-af28-3d12619d9426<br>load=Count: 1, Rated Power: 595.0 kw<br>fixed_feed_in=Count: 1, Rated Power: 252.3 kw",
          "MV3.101 Bus 22<br>a6f270ec-f5e8-4c3d-817d-664539f01387<br>load=Count: 1, Rated Power: 362.9 kw<br>fixed_feed_in=Count: 1, Rated Power: 172.2 kw",
          "MV3.101 Bus 140<br>6f477624-e576-4286-8d62-ea909e214a75<br>load=Count: 1, Rated Power: 362.9 kw<br>fixed_feed_in=Count: 1, Rated Power: 172.2 kw",
          "MV3.101 Bus 18_1<br>5d60f397-ce09-4dc5-87c9-0382e71c694e<br>",
          "MV3.101 Bus 42<br>0dd3fdac-f05d-4e68-9611-a73f267ed9eb<br>load=Count: 2, Rated Power: 816.5 kw<br>fixed_feed_in=Count: 1, Rated Power: 184.7 kw",
          "MV3.101 Bus 94<br>a21047e0-d924-42e0-a5e5-0998d65266a6<br>load=Count: 1, Rated Power: 668.0 kw<br>fixed_feed_in=Count: 1, Rated Power: 171.2 kw",
          "MV3.101 Bus 104_1<br>ef10dec9-bbbe-4fe9-856c-28f44b5551bf<br>",
          "MV3.101 Bus 139<br>8559c7b0-c882-466d-8560-00c4db86956a<br>load=Count: 1, Rated Power: 362.9 kw<br>fixed_feed_in=Count: 1, Rated Power: 172.2 kw",
          "MV3.101 Bus 118_1<br>46b59740-e384-4038-beae-3de74fa9a3c6<br>",
          "MV3.101 Bus 116<br>e386caca-6ea9-420c-b732-a79f55899458<br>load=Count: 1, Rated Power: 668.0 kw<br>fixed_feed_in=Count: 1, Rated Power: 171.2 kw",
          "MV3.101 Bus 135_1<br>fad370e8-1530-4310-8181-eacbd141642b<br>",
          "MV3.101 Bus 21<br>3c849b73-7c59-46ec-aad2-b019beccb4c5<br>load=Count: 1, Rated Power: 668.0 kw<br>fixed_feed_in=Count: 1, Rated Power: 171.2 kw",
          "MV3.101 Bus 59<br>b0f1f7d4-4ddb-4a56-91ad-e85590714c87<br>load=Count: 1, Rated Power: 594.9 kw<br>fixed_feed_in=Count: 1, Rated Power: 184.7 kw",
          "MV3.101 Bus 12<br>dc68cf3e-ecb0-4740-a561-de6316c7376d<br>load=Count: 1, Rated Power: 362.9 kw<br>fixed_feed_in=Count: 1, Rated Power: 172.2 kw",
          "MV3.101 Bus 90<br>d873af06-2e6e-4629-9c42-a30b4aeb4fa7<br>load=Count: 1, Rated Power: 594.9 kw<br>fixed_feed_in=Count: 1, Rated Power: 184.7 kw",
          "MV3.101 Bus 72<br>a41231cc-4836-4343-b236-396720582e32<br>load=Count: 1, Rated Power: 594.9 kw<br>fixed_feed_in=Count: 1, Rated Power: 184.7 kw",
          "MV3.101 Bus 133<br>8c073498-b9e2-439d-94a8-63f68f56f192<br>load=Count: 1, Rated Power: 362.9 kw<br>fixed_feed_in=Count: 1, Rated Power: 172.2 kw",
          "MV3.101 Bus 108<br>0e96dffd-d5ea-4f2c-a133-bacb7a85ca31<br>load=Count: 1, Rated Power: 594.9 kw<br>fixed_feed_in=Count: 1, Rated Power: 184.7 kw",
          "MV3.101 Bus 121<br>ef1b266d-3f64-4f9e-a5c5-49ab174370a6<br>load=Count: 1, Rated Power: 595.0 kw<br>fixed_feed_in=Count: 1, Rated Power: 252.3 kw",
          "MV3.101 Bus 62<br>3ecf3284-5919-49ba-a60a-22996f8bc202<br>load=Count: 1, Rated Power: 362.9 kw<br>fixed_feed_in=Count: 1, Rated Power: 172.2 kw",
          "MV3.101 Bus 26<br>6e136d5d-19d7-4556-88a3-3dbdd803c6b1<br>load=Count: 1, Rated Power: 362.9 kw<br>fixed_feed_in=Count: 1, Rated Power: 172.2 kw",
          "MV3.101 Bus 61<br>393881b0-3b78-413f-b065-03d216803c87<br>load=Count: 1, Rated Power: 668.0 kw<br>fixed_feed_in=Count: 1, Rated Power: 171.2 kw",
          "MV3.101 Bus 29<br>1d219ef0-079c-4df8-8449-e80cb2af6793<br>load=Count: 1, Rated Power: 362.9 kw<br>fixed_feed_in=Count: 1, Rated Power: 172.2 kw",
          "MV3.101 Bus 131<br>6588b688-92b7-4863-811d-fb86b70e89ad<br>load=Count: 1, Rated Power: 362.9 kw<br>fixed_feed_in=Count: 1, Rated Power: 172.2 kw",
          "MV3.101 Bus 87<br>81f7b5c4-8ebf-4b8a-8731-f0c67a6e8611<br>load=Count: 1, Rated Power: 668.0 kw<br>fixed_feed_in=Count: 1, Rated Power: 171.2 kw",
          "MV3.101 Bus 70<br>090d13e8-3cce-4793-816f-4c50f23f3f7f<br>load=Count: 1, Rated Power: 668.0 kw<br>fixed_feed_in=Count: 1, Rated Power: 171.2 kw",
          "MV3.101 Bus 89<br>16449d90-cc56-48b9-8067-97986b715758<br>load=Count: 1, Rated Power: 668.0 kw<br>fixed_feed_in=Count: 1, Rated Power: 171.2 kw",
          "MV3.101 Bus 36<br>8bf1ca07-f887-43ec-9e10-f360c0644954<br>load=Count: 1, Rated Power: 668.0 kw<br>fixed_feed_in=Count: 1, Rated Power: 171.2 kw",
          "MV3.101 Bus 74<br>09153599-9b88-49f8-aecd-d57d8ab9e2b6<br>load=Count: 1, Rated Power: 362.9 kw<br>fixed_feed_in=Count: 1, Rated Power: 172.2 kw",
          "MV3.101 Bus 83<br>32145578-706b-47e5-86ae-217d9a41867c<br>load=Count: 1, Rated Power: 668.0 kw<br>fixed_feed_in=Count: 1, Rated Power: 171.2 kw",
          "MV3.101 Bus 54<br>0f9e330f-7db2-48d6-8d07-8741f294f4a9<br>load=Count: 1, Rated Power: 594.9 kw<br>fixed_feed_in=Count: 1, Rated Power: 184.7 kw",
          "MV3.101 Bus 95<br>2dcbdf1e-c956-46f1-9c60-2e0aa45053d4<br>load=Count: 1, Rated Power: 362.9 kw<br>fixed_feed_in=Count: 1, Rated Power: 172.2 kw",
          "MV3.101 Bus 23<br>00933d03-18e0-4681-a7d3-b94cac5ada41<br>load=Count: 1, Rated Power: 594.9 kw<br>fixed_feed_in=Count: 1, Rated Power: 184.7 kw",
          "MV3.101 Bus 137<br>83e2fc45-c6d9-4a8e-8936-4c18b9da0b59<br>load=Count: 1, Rated Power: 362.9 kw<br>fixed_feed_in=Count: 1, Rated Power: 172.2 kw",
          "MV3.101 Bus 79<br>bebf3c0b-e658-438b-b5df-c0cc68d04479<br>load=Count: 1, Rated Power: 362.9 kw<br>fixed_feed_in=Count: 1, Rated Power: 172.2 kw",
          "MV3.101 Bus 101<br>265fe176-27b8-4d24-b805-68a258ef9077<br>load=Count: 1, Rated Power: 594.9 kw<br>fixed_feed_in=Count: 1, Rated Power: 184.7 kw",
          "MV3.101 Bus 45<br>fd124414-dbc6-4f6b-90b5-34918ee7b8f6<br>load=Count: 1, Rated Power: 362.9 kw<br>fixed_feed_in=Count: 1, Rated Power: 172.2 kw",
          "MV3.101 Bus 35<br>fc4af780-3f60-42fc-bc69-d38fadf92050<br>load=Count: 1, Rated Power: 668.0 kw<br>fixed_feed_in=Count: 1, Rated Power: 171.2 kw",
          "MV3.101 Bus 109<br>27cd0e75-9471-4140-aaba-88a8ef63c0b7<br>load=Count: 1, Rated Power: 362.9 kw<br>fixed_feed_in=Count: 1, Rated Power: 172.2 kw",
          "MV3.101 Bus 104<br>9e018a70-4da0-4f41-9a45-455b1173c3d2<br>load=Count: 1, Rated Power: 362.9 kw<br>fixed_feed_in=Count: 1, Rated Power: 172.2 kw",
          "MV3.101 Bus 65<br>b69ecf26-16ee-4b41-a996-b76563c58c1a<br>load=Count: 1, Rated Power: 668.0 kw<br>fixed_feed_in=Count: 1, Rated Power: 171.2 kw",
          "MV3.101 Bus 112<br>c76d8904-3d16-42ae-8abf-e1db37d7ae0d<br>load=Count: 1, Rated Power: 594.9 kw<br>fixed_feed_in=Count: 1, Rated Power: 184.7 kw"
         ],
         "lat": {
          "dtype": "f8",
          "bdata": "GCZTBaPSSkDsUbgehdNKQIqO5PIf0kpACfmgZ7PSSkAnoImw4dFKQOLplbIM0UpAp+hILv/RSkBN845TdNRKQBgmUwWj0kpAbVZ9rrbSSkBt5/up8dJKQE3zjlN01EpAJlMFo5LSSkBfB84ZUdJKQJYhjnVx00pAidLe4AvTSkAlBoGVQ9NKQGx4eqUs00pAQYLix5jTSkBPQBNhw9NKQFD8GHPX0kpAGQRWDi3SSkAdWmQ7389KQF3cRgN400pAidLe4AvTSkBUdCSX/9BKQOwvuycP00pAJzEIrBzSSkAYJlMFo9JKQEYldQKa0EpA0SLb+X7SSkD4wmSqYNRKQP7UeOkm0UpAmEwVjErSSkBPHhZqTdNKQEOtad5x0kpAQ61p3nHSSkDgvg6cM9JKQELPZtXn0kpAfPKwUGvSSkCJQWDl0NJKQJm7lpAP0kpAC7WmecfRSkBR2ht8YdJKQI/k8h/Sz0pAGJXUCWjSSkCkcD0K19NKQOoENBE21EpAa5p3nKLTSkDSAN4CCdJKQLKd76fG00pAGCZTBaPSSkCYbhKDwNJKQE9AE2HD00pAtTf4wmTSSkCKH2PuWtJKQDXvOEVH0kpAUwWjkjrRSkA/NV66SdRKQO7rwDkj0kpAtMh2vp/SSkBd3EYDeNNKQECk374O1EpAJCh+jLnTSkA0ETY8vdJKQBdIUPwY00pANBE2PL3SSkB8YTJVMNJKQBdIUPwY00pAbAn5oGfTSkCbVZ+rrdBKQPs6cM6I0kpAsp3vp8bTSkDb+X5qvNRKQJeQD3o200pAUWuad5zSSkAMk6mCUdFKQGEyVTAq0UpA0ETY8PTSSkC0yHa+n9JKQF8pyxDH0kpANV66SQzSSkAbL90kBtFKQEGC4seY00pAQj7o2azSSkA0ETY8vdJKQIj029eB00pAJuSDns3SSkB6Nqs+V9NKQGEyVTAq0UpA6+I2GsDTSkDQRNjw9NJKQOwvuycP00pAQs9m1efSSkDHuriNBtBKQDQRNjy90kpAUWuad5zSSkBTBaOSOtFKQApoImx40kpAP8bctYTUSkAydy0hH9RKQIts5/up0UpAm+Ydp+jQSkD/If32ddBKQFFrmnec0kpA+u3rwDnTSkBRa5p3nNJKQJeQD3o200pA4L4OnDPSSkAm5IOezdJKQO0NvjCZ0kpA3gIJih/TSkDQ1VbsL9NKQP8h/fZ10EpAxm00gLfQSkA0ETY8vdJKQAskKH6M0UpAe4MvTKbSSkAK16NwPdJKQEcDeAsk0EpAJLn8h/TTSkDQRNjw9NJKQKjGSzeJ0UpAmEwVjErSSkA0orQ3+NJKQF66SQwC00pAQs9m1efSSkD5D+m3r9NKQAmKH2Pu0kpAG55eKcvQSkCjAbwFEtRKQJzEILBy0EpAe4MvTKbSSkCWsgxxrNNKQBniWBe30UpApU5AE2HTSkDD9Shcj9JKQO0NvjCZ0kpAexSuR+HSSkCKH2PuWtJKQApoImx40kpAQYLix5jTSkAX2c73U9NKQO84RUdy0UpA3gIJih/TSkDBqKROQNNKQEa28/3U0EpA"
         },
         "lon": {
          "dtype": "f8",
          "bdata": "zF1LyAe9JkCRD3o2q74mQAisHFpkuyZA3NeBc0a0JkCR7Xw/Nb4mQAtGJXUCuiZAs+pztRW7JkDpJjEIrLwmQBzr4jYawCZAPujZrPq8JkDr4jYawLsmQOkmMQisvCZAsHJoke28JkBSJ6CJsMEmQIlBYOXQwiZAFR3J5T/EJkCutmJ/2b0mQIEExY8xtyZA1sVtNIC3JkD+ZffkYcEmQBUdyeU/xCZAswxxrIu7JkAIrBxaZLsmQKJFtvP9tCZAFR3J5T/EJkCQMXctIb8mQM07TtGRvCZAb/CFyVTBJkDMXUvIB70mQOXyH9JvvyZAzTtO0ZG8JkB4nKIjubwmQLWmeccpuiZAF9nO91PDJkDc14FzRrQmQK+UZYhjvSZAuECC4se4JkDgnBGlvcEmQE9AE2HDsyZAZ9Xnaiu2JkDMf0i/fb0mQJHtfD81viZAB84ZUdq7JkB4nKIjubwmQM07TtGRvCZAcM6I0t7AJkAydy0hH7QmQJm7lpAPuiZAbjSAt0DCJkCQMXctIb8mQFXBqKROwCZAVn2utmK/JkAHzhlR2rsmQEMc6+I2uiZA845TdCS3JkCkcD0K18MmQFCNl24SwyZA0NVW7C+7JkAGEhQ/xrwmQCPb+X5qvCZApgpGJXXCJkCiRbbz/bQmQE2EDU+vtCZAP8bctYS8JkA5tMh2vr8mQNDVVuwvuyZA5q4l5IO+JkCutmJ/2b0mQFg5tMh2viZAETY8vVK2JkAoDwu1prkmQO58PzVeuiZALGUZ4li3JkBCPujZrLomQN4CCYofwyZAb/CFyVTBJkB90LNZ9bkmQJEPejarviZAHOviNhrAJkDCFyZTBcMmQMdLN4lBwCZAcM6I0t7AJkB5WKg1zbsmQNbFbTSAtyZABhIUP8a8JkDmriXkg74mQBE2PL1StiZAxyk6ksu/JkA/xty1hLwmQJEPejarviZAjnVxGw3AJkDgnBGlvcEmQPH0SlmGuCZAzH9Iv329JkADeAskKL4mQIenV8oyxCZAArwFEhS/JkDQ1VbsL7smQEXY8PRKuSZAtaZ5xym6JkB4nKIjubwmQMrDQq1pviZAWvW52oq9JkDIBz2bVb8mQKqCUUmdwCZAiUFg5dDCJkCSy39Iv70mQBpR2ht8wSZA4JwRpb3BJkCUh4Va07wmQM/3U+OluyZAwcqhRbazJkDFjzF3LcEmQMgHPZtVvyZA5fIf0m+/JkCHp1fKMsQmQOauJeSDviZAP8bctYS8JkAgQfFjzL0mQNGRXP5DuiZAwOyePCy0JkBPr5RliMMmQEGC4seYuyZAp+hILv/BJkC2hHzQs7kmQCEf9GxWvSZAfPKwUGu6JkBzaJHtfL8mQMWPMXctwSZAtoR80LO5JkARNjy9UrYmQLaEfNCzuSZAk6mCUUm9JkCGONbFbbQmQO58PzVeuiZA0ZFc/kO6JkDtnjws1LomQFg5tMh2viZA5BQdyeW/JkDOGVHaG7wmQKFns+pztSZAP8bctYS8JkClLEMc68ImQJYhjnVxuyZAwcqhRbazJkAQWDm0yLYmQMxdS8gHvSZA"
         },
         "marker": {
          "color": "#023eff",
          "size": 6
         },
         "mode": "markers",
         "showlegend": false,
         "text": [
          "MV3.101 node1<br>5d50a881-c383-463e-8355-41b3dd57422d<br>load=Count: 1, Rated Power: 453.6 kw",
          "MV3.101 Bus 28<br>c50941eb-01ee-4bd5-be6a-c005af0639df<br>load=Count: 1, Rated Power: 362.9 kw<br>fixed_feed_in=Count: 1, Rated Power: 172.2 kw",
          "MV3.101 Bus 81<br>e22406e6-e172-4244-b978-89906f396130<br>load=Count: 1, Rated Power: 594.9 kw<br>fixed_feed_in=Count: 1, Rated Power: 184.7 kw",
          "MV3.101 Bus 102<br>d1c18dd9-a2f4-4953-8d53-03861eb519b5<br>load=Count: 1, Rated Power: 362.9 kw<br>fixed_feed_in=Count: 1, Rated Power: 172.2 kw",
          "MV3.101 Bus 19<br>6ae27f87-a713-4204-adfa-b262b222d240<br>load=Count: 1, Rated Power: 594.9 kw<br>fixed_feed_in=Count: 1, Rated Power: 184.7 kw",
          "MV3.101 Bus 86<br>bed1b7a5-3cbd-480c-86c5-adb7ae6a940d<br>load=Count: 1, Rated Power: 594.9 kw<br>fixed_feed_in=Count: 2, Rated Power: 3084.7 kw",
          "MV3.101 Bus 82<br>cc612986-d947-4c4d-af40-ac8fdeebc1f9<br>load=Count: 1, Rated Power: 594.9 kw<br>fixed_feed_in=Count: 1, Rated Power: 184.7 kw",
          "MV3.101 Bus 50<br>c69cc803-396c-4b15-af99-5eade9fcb66a<br>load=Count: 1, Rated Power: 668.0 kw<br>fixed_feed_in=Count: 1, Rated Power: 171.2 kw",
          "MV3.101 Bus 125<br>738eb38a-f098-4e32-a39a-4c871eb39ccd<br>load=Count: 1, Rated Power: 595.0 kw<br>fixed_feed_in=Count: 1, Rated Power: 252.3 kw",
          "MV3.101 Bus 41<br>4537ceed-9709-47c8-bcac-92a73f44e78c<br>load=Count: 1, Rated Power: 594.9 kw<br>fixed_feed_in=Count: 1, Rated Power: 184.7 kw",
          "MV3.101 Bus 52<br>caf7fd1b-8c8a-4734-b7c3-7a49ae5c00da<br>load=Count: 1, Rated Power: 668.0 kw<br>fixed_feed_in=Count: 1, Rated Power: 171.2 kw",
          "MV3.101 Bus 50_1<br>41fcce35-df2e-4053-8c3f-2aba19d62a77<br>",
          "MV3.101 Bus 77<br>0c5e6268-ba9c-41e0-b472-0aea5a3163c6<br>load=Count: 1, Rated Power: 594.9 kw<br>fixed_feed_in=Count: 1, Rated Power: 184.7 kw",
          "MV3.101 Bus 120<br>492712d0-604e-4183-8410-a11934495bd9<br>load=Count: 1, Rated Power: 595.0 kw<br>fixed_feed_in=Count: 1, Rated Power: 252.3 kw",
          "MV3.101 Bus 34<br>aac0ca99-70ef-4845-876f-f24adc93fc64<br>load=Count: 1, Rated Power: 594.9 kw<br>fixed_feed_in=Count: 1, Rated Power: 184.7 kw",
          "MV3.101 Bus 143<br>e9333524-c914-4799-961b-cfe5adfc5f52<br>load=Count: 1, Rated Power: 595.0 kw<br>fixed_feed_in=Count: 1, Rated Power: 252.3 kw",
          "MV3.101 Bus 27<br>84aa56bd-0941-4efd-86b8-61fd6b55dbf5<br>load=Count: 1, Rated Power: 594.9 kw<br>fixed_feed_in=Count: 1, Rated Power: 184.7 kw",
          "MV3.101 Bus 64<br>2cfb12f1-fa79-4210-9ac6-769254515af8<br>load=Count: 1, Rated Power: 594.9 kw<br>fixed_feed_in=Count: 1, Rated Power: 184.7 kw",
          "MV3.101 Bus 68_1<br>effcc0e0-e7f0-4594-9ff4-32855011aa5e<br>",
          "MV3.101 Bus 32<br>a7c9c8e7-63f0-4971-81b9-7073436d4317<br>load=Count: 1, Rated Power: 668.0 kw<br>fixed_feed_in=Count: 1, Rated Power: 171.2 kw",
          "MV3.101 Bus 134<br>43d06b2a-981c-4b51-91ab-978c392becb0<br>load=Count: 1, Rated Power: 595.0 kw<br>fixed_feed_in=Count: 1, Rated Power: 252.3 kw",
          "MV3.101 Bus 80<br>6df59148-c230-4892-82b3-c4f05c68bcdc<br>load=Count: 1, Rated Power: 668.0 kw<br>fixed_feed_in=Count: 1, Rated Power: 171.2 kw",
          "MV3.101 Bus 91<br>5d07ed20-5410-4014-8a38-afbb90cb68af<br>load=Count: 1, Rated Power: 362.9 kw<br>fixed_feed_in=Count: 1, Rated Power: 172.2 kw",
          "MV3.101 Bus 75<br>a0716f3b-09b0-437c-98c4-dd18397051f1<br>load=Count: 1, Rated Power: 362.9 kw<br>fixed_feed_in=Count: 1, Rated Power: 172.2 kw",
          "MV3.101 Bus 143_1<br>8b864fa2-3051-4369-91ec-9e17b71a1423<br>",
          "MV3.101 Bus 115<br>fb02db79-c6b8-4bf0-8a0b-e661fb04086a<br>load=Count: 1, Rated Power: 594.9 kw<br>fixed_feed_in=Count: 1, Rated Power: 184.7 kw",
          "MV3.101 Bus 43<br>a5d72bf6-6a61-4314-b541-f5635d5c334f<br>load=Count: 1, Rated Power: 594.9 kw<br>fixed_feed_in=Count: 1, Rated Power: 184.7 kw",
          "MV3.101 Bus 17<br>b4551111-75bb-4e9d-986b-685e4ca7a22d<br>load=Count: 1, Rated Power: 594.9 kw<br>fixed_feed_in=Count: 1, Rated Power: 184.7 kw",
          "HV1 Bus 25<br>b0bbd85c-6540-4418-b083-455daed681bd<br>",
          "MV3.101 Bus 117<br>f3065cce-6302-4365-8036-4fc2f126ade8<br>load=Count: 1, Rated Power: 594.9 kw<br>fixed_feed_in=Count: 1, Rated Power: 184.7 kw",
          "MV3.101 Bus 78<br>04beeb0e-78d7-46b8-aca5-76d3a009638f<br>load=Count: 1, Rated Power: 362.9 kw<br>fixed_feed_in=Count: 1, Rated Power: 172.2 kw",
          "MV3.101 Bus 49<br>a21d803a-04cb-43c3-b531-7111536ef7a0<br>load=Count: 1, Rated Power: 668.0 kw<br>fixed_feed_in=Count: 1, Rated Power: 171.2 kw",
          "MV3.101 Bus 85<br>c9a17f26-fdc3-434d-bd81-ce7cafe7821a<br>load=Count: 1, Rated Power: 594.9 kw<br>fixed_feed_in=Count: 1, Rated Power: 184.7 kw",
          "MV3.101 Bus 123<br>889c84e9-c717-4471-84b4-b3423b30dc78<br>load=Count: 1, Rated Power: 594.9 kw<br>fixed_feed_in=Count: 1, Rated Power: 184.7 kw",
          "MV3.101 Bus 76<br>af2a653a-5fbb-48f4-94fe-da098579ebe7<br>load=Count: 1, Rated Power: 668.0 kw<br>fixed_feed_in=Count: 1, Rated Power: 171.2 kw",
          "MV3.101 Bus 11<br>8b647a1a-b5d6-46b2-9ec3-3bdbf6e0de34<br>load=Count: 2, Rated Power: 563.3 kw<br>fixed_feed_in=Count: 1, Rated Power: 172.2 kw",
          "MV3.101 Bus 98<br>f2ab91df-6f6a-439b-95da-135dc5fca6a2<br>load=Count: 1, Rated Power: 594.9 kw<br>fixed_feed_in=Count: 1, Rated Power: 184.7 kw",
          "MV3.101 Bus 18<br>28a6c897-d718-4eb8-9088-4e8d455e5e8e<br>load=Count: 1, Rated Power: 668.0 kw<br>fixed_feed_in=Count: 1, Rated Power: 171.2 kw",
          "MV3.101 Bus 103<br>f5fb7dc2-2a15-489a-9339-f8fd351836a4<br>load=Count: 1, Rated Power: 362.9 kw<br>fixed_feed_in=Count: 1, Rated Power: 172.2 kw",
          "MV3.101 Bus 100<br>3df23ce8-f8ed-4562-b3d3-3904e1aacfa6<br>load=Count: 1, Rated Power: 668.0 kw<br>fixed_feed_in=Count: 1, Rated Power: 171.2 kw",
          "MV3.101 Bus 37<br>c22fab8c-3947-44d2-a5f3-b997e6eadb35<br>load=Count: 1, Rated Power: 668.0 kw<br>fixed_feed_in=Count: 1, Rated Power: 171.2 kw",
          "MV3.101 Bus 14<br>e4aaf6c9-8551-41c4-a3f9-54d7348076af<br>load=Count: 1, Rated Power: 362.9 kw<br>fixed_feed_in=Count: 1, Rated Power: 172.2 kw",
          "MV3.101 Bus 107<br>40612e93-0348-46dd-8d66-a5480fb4484d<br>load=Count: 1, Rated Power: 362.9 kw<br>fixed_feed_in=Count: 1, Rated Power: 172.2 kw",
          "MV3.101 Bus 105<br>957fb2b9-d0db-48e4-bc59-39741464ed1c<br>load=Count: 1, Rated Power: 594.9 kw<br>fixed_feed_in=Count: 1, Rated Power: 184.7 kw",
          "MV3.101 Bus 92<br>ee484025-9503-4938-8690-5a7f0861370e<br>load=Count: 1, Rated Power: 668.0 kw<br>fixed_feed_in=Count: 1, Rated Power: 171.2 kw",
          "MV3.101 Bus 119<br>58435c80-af6d-4675-b5de-41d8d4c0b87a<br>load=Count: 1, Rated Power: 595.0 kw<br>fixed_feed_in=Count: 1, Rated Power: 252.3 kw",
          "MV3.101 Bus 73<br>0f63de16-1c22-4e6b-8090-90929e2e407f<br>load=Count: 1, Rated Power: 594.9 kw<br>fixed_feed_in=Count: 1, Rated Power: 184.7 kw",
          "MV3.101 Bus 56<br>0d6102de-9f0f-47fa-9eb2-e8f5149a7851<br>load=Count: 1, Rated Power: 668.0 kw<br>fixed_feed_in=Count: 1, Rated Power: 171.2 kw",
          "MV3.101 Bus 33<br>46248ba3-8fa1-4225-b087-10739b0811cd<br>load=Count: 1, Rated Power: 362.9 kw<br>fixed_feed_in=Count: 1, Rated Power: 172.2 kw",
          "MV3.101 Bus 15<br>2837f3ce-c6fb-45ba-9cf0-27ad14987c81<br>load=Count: 2, Rated Power: 774.3 kw<br>fixed_feed_in=Count: 1, Rated Power: 172.2 kw",
          "MV3.101 Bus 31<br>b7e2b6d4-7566-417f-b5a3-f2ead1ceed98<br>load=Count: 1, Rated Power: 594.9 kw<br>fixed_feed_in=Count: 1, Rated Power: 184.7 kw",
          "MV3.101 Bus 25<br>97b96777-900f-49d2-90b5-044c38bc371e<br>load=Count: 1, Rated Power: 362.9 kw<br>fixed_feed_in=Count: 1, Rated Power: 172.2 kw",
          "MV3.101 Bus 60<br>c2d61c41-06a1-4490-9e68-8fe7dfec579a<br>load=Count: 1, Rated Power: 362.9 kw<br>fixed_feed_in=Count: 1, Rated Power: 172.2 kw",
          "MV3.101 Bus 55<br>38145153-0dd5-429c-b0c8-e876956fa70f<br>load=Count: 1, Rated Power: 594.9 kw<br>fixed_feed_in=Count: 1, Rated Power: 184.7 kw",
          "MV3.101 Bus 99<br>f6761178-0491-441c-b7e6-4126b29fbada<br>load=Count: 1, Rated Power: 594.9 kw<br>fixed_feed_in=Count: 1, Rated Power: 184.7 kw",
          "MV3.101 Bus 124<br>79143963-b1bb-4eca-8ba8-d3712f5696c5<br>load=Count: 1, Rated Power: 362.9 kw<br>fixed_feed_in=Count: 1, Rated Power: 172.2 kw",
          "MV3.101 Bus 122<br>cc0495c9-0bfe-41ba-b98b-978b8f4b1b69<br>load=Count: 1, Rated Power: 362.9 kw<br>fixed_feed_in=Count: 1, Rated Power: 172.2 kw",
          "MV3.101 Bus 110_1<br>335dc8f6-35c6-4c94-bf39-a77cbee563e8<br>",
          "MV3.101 Bus 48<br>9b372fbc-8da2-48a3-b76e-ad52957f77d3<br>load=Count: 1, Rated Power: 594.9 kw<br>fixed_feed_in=Count: 1, Rated Power: 184.7 kw",
          "MV3.101 Bus 106<br>8f2d1b47-8115-4139-93d2-3ddb6a9119ff<br>load=Count: 1, Rated Power: 362.9 kw<br>fixed_feed_in=Count: 1, Rated Power: 172.2 kw",
          "MV3.101 Bus 128<br>ebde173b-fb40-484b-aeb9-d565b97c5102<br>load=Count: 1, Rated Power: 594.9 kw<br>fixed_feed_in=Count: 1, Rated Power: 184.7 kw",
          "MV3.101 Bus 75_1<br>a4b428dc-15dd-4b48-a115-322988f0cf73<br>",
          "MV3.101 Bus 71<br>2289d9f8-70e3-438f-a25a-8812b53f0aff<br>load=Count: 1, Rated Power: 594.9 kw<br>fixed_feed_in=Count: 1, Rated Power: 184.7 kw",
          "MV3.101 Bus 46<br>99d5e9ac-6fdf-4957-bf69-64dc088434f4<br>load=Count: 1, Rated Power: 594.9 kw<br>fixed_feed_in=Count: 1, Rated Power: 184.7 kw",
          "MV3.101 BS busbar1A<br>6bc544cf-71e5-4d0a-941a-4e806c22fd8d<br>",
          "MV3.101 Bus 53<br>296e67f3-2711-43ff-9a46-eca3f60b0001<br>load=Count: 1, Rated Power: 668.0 kw<br>fixed_feed_in=Count: 1, Rated Power: 171.2 kw",
          "MV3.101 Bus 40_1<br>557b9f51-d83c-476c-a84c-d240530c203d<br>",
          "MV3.101 Bus 13<br>5f35664a-a4ef-4a48-849c-c4c058f6cffa<br>load=Count: 1, Rated Power: 668.0 kw<br>fixed_feed_in=Count: 1, Rated Power: 171.2 kw",
          "MV3.101 Bus 39<br>49840d95-2aa5-490c-90ad-556dfee4cb89<br>load=Count: 1, Rated Power: 362.9 kw<br>fixed_feed_in=Count: 1, Rated Power: 172.2 kw",
          "MV3.101 Bus 66<br>5b421400-8cdf-4847-bdbf-452ece1ed348<br>load=Count: 1, Rated Power: 668.0 kw<br>fixed_feed_in=Count: 1, Rated Power: 171.2 kw",
          "MV3.101 Bus 88<br>51f05c04-30ac-4430-b970-0081f1b6d8b1<br>load=Count: 1, Rated Power: 594.9 kw<br>fixed_feed_in=Count: 1, Rated Power: 184.7 kw",
          "MV3.101 Bus 96<br>ad120450-c8c2-4859-a7c4-f487fbe10824<br>load=Count: 1, Rated Power: 594.9 kw<br>fixed_feed_in=Count: 1, Rated Power: 184.7 kw",
          "MV3.101 Bus 69<br>8515f8eb-33d1-46c5-8467-ab12155a5474<br>load=Count: 1, Rated Power: 668.0 kw<br>fixed_feed_in=Count: 1, Rated Power: 171.2 kw",
          "MV3.101 Bus 58<br>53765bfa-5e7d-40e6-8b1f-88e6ac6e2bd9<br>load=Count: 1, Rated Power: 668.0 kw<br>fixed_feed_in=Count: 1, Rated Power: 171.2 kw",
          "MV3.101 Bus 142<br>26245e34-6c7f-4c21-a52f-733486b96eb1<br>load=Count: 1, Rated Power: 362.9 kw<br>fixed_feed_in=Count: 1, Rated Power: 172.2 kw",
          "MV3.101 Bus 127<br>5e3c4932-5022-40b3-a533-ff831bcf18b9<br>load=Count: 1, Rated Power: 594.9 kw<br>fixed_feed_in=Count: 1, Rated Power: 184.7 kw",
          "MV3.101 Bus 84<br>aba677f2-f1c5-409e-8587-05acecbe09a8<br>load=Count: 2, Rated Power: 1090.7 kw<br>fixed_feed_in=Count: 1, Rated Power: 184.7 kw",
          "MV3.101 Bus 114_1<br>8252e667-afbf-4fff-b0b8-595f40b82273<br>",
          "MV3.101 Bus 138<br>66f96b86-254e-4205-8cb8-c0634a8fa91a<br>load=Count: 1, Rated Power: 595.0 kw<br>fixed_feed_in=Count: 1, Rated Power: 252.3 kw",
          "MV3.101 Bus 129<br>f768ffeb-1021-47d1-b606-9f15103988fc<br>load=Count: 1, Rated Power: 362.9 kw<br>fixed_feed_in=Count: 1, Rated Power: 172.2 kw",
          "MV3.101 Bus 130<br>0e3f552a-5dc5-4781-969e-13b0600e4deb<br>load=Count: 1, Rated Power: 594.9 kw<br>fixed_feed_in=Count: 1, Rated Power: 184.7 kw",
          "MV3.101 Bus 16<br>2aab5612-f39a-4cc1-bb96-056b873a6310<br>load=Count: 1, Rated Power: 594.9 kw<br>fixed_feed_in=Count: 1, Rated Power: 184.7 kw",
          "MV3.101 Bus 111<br>a670449b-2ffd-4bae-9e01-1d7aab6939f6<br>load=Count: 1, Rated Power: 594.9 kw<br>fixed_feed_in=Count: 1, Rated Power: 184.7 kw",
          "MV3.101 Bus 68<br>bd345c13-e871-4357-af6e-3969889ff035<br>load=Count: 1, Rated Power: 668.0 kw<br>fixed_feed_in=Count: 1, Rated Power: 171.2 kw",
          "MV3.101 Bus 51<br>52ac8b75-96b7-460e-a927-237d89a13663<br>load=Count: 1, Rated Power: 594.9 kw<br>fixed_feed_in=Count: 1, Rated Power: 184.7 kw",
          "MV3.101 Bus 40<br>a5ccf309-420a-474f-a6ed-96cb3ffa2e56<br>load=Count: 1, Rated Power: 594.9 kw<br>fixed_feed_in=Count: 1, Rated Power: 184.7 kw",
          "MV3.101 Bus 67<br>8b19ef59-b368-42eb-a754-12936b5d4d17<br>load=Count: 2, Rated Power: 647.7 kw<br>fixed_feed_in=Count: 1, Rated Power: 172.2 kw",
          "MV3.101 Bus 136<br>e4da35ec-8275-424a-bee3-5dc1a8c3dfb8<br>load=Count: 1, Rated Power: 362.9 kw<br>fixed_feed_in=Count: 1, Rated Power: 172.2 kw",
          "MV3.101 Bus 44<br>8da74e62-9268-426e-8878-1f83c12e40e6<br>load=Count: 1, Rated Power: 594.9 kw<br>fixed_feed_in=Count: 1, Rated Power: 184.7 kw",
          "MV3.101 Bus 114<br>01dca738-329e-4c8d-900c-fd0f48acc874<br>load=Count: 1, Rated Power: 668.0 kw<br>fixed_feed_in=Count: 1, Rated Power: 171.2 kw",
          "MV3.101 Bus 30<br>13765175-44d3-4aa2-aa3e-7ed85822fcef<br>load=Count: 1, Rated Power: 362.9 kw<br>fixed_feed_in=Count: 1, Rated Power: 172.2 kw",
          "MV3.101 Bus 132<br>a9c53c7b-e700-4412-93be-348459028998<br>load=Count: 1, Rated Power: 595.0 kw<br>fixed_feed_in=Count: 1, Rated Power: 252.3 kw",
          "MV3.101 Bus 63<br>eec4851e-6d4a-4710-aa77-83c9d4bfac28<br>load=Count: 1, Rated Power: 668.0 kw<br>fixed_feed_in=Count: 1, Rated Power: 171.2 kw",
          "MV3.101 Bus 38<br>61d6379d-b010-461e-96e5-921149c0c8b6<br>load=Count: 1, Rated Power: 362.9 kw<br>fixed_feed_in=Count: 1, Rated Power: 172.2 kw",
          "MV3.101 Bus 93<br>3342bab1-65b4-4a4b-a2e8-365a162ead81<br>load=Count: 1, Rated Power: 668.0 kw<br>fixed_feed_in=Count: 1, Rated Power: 171.2 kw",
          "MV3.101 Bus 135<br>b649cc84-5230-485a-808c-2078624d3681<br>load=Count: 1, Rated Power: 594.9 kw<br>fixed_feed_in=Count: 1, Rated Power: 184.7 kw",
          "MV3.101 Bus 24<br>5e880ada-8200-4681-8533-c759b0a8ec35<br>load=Count: 1, Rated Power: 594.9 kw<br>fixed_feed_in=Count: 1, Rated Power: 184.7 kw",
          "MV3.101 Bus 110<br>42a7a176-bb8b-4281-8ba4-b2a2486f6b90<br>load=Count: 1, Rated Power: 594.9 kw<br>fixed_feed_in=Count: 1, Rated Power: 184.7 kw",
          "MV3.101 Bus 97<br>46f61d50-fb44-491d-a4e6-468102797132<br>load=Count: 1, Rated Power: 362.9 kw<br>fixed_feed_in=Count: 1, Rated Power: 172.2 kw",
          "MV3.101 Bus 57<br>cd736b45-3d94-402d-b11b-2a0ece139b71<br>load=Count: 1, Rated Power: 668.0 kw<br>fixed_feed_in=Count: 1, Rated Power: 171.2 kw",
          "MV3.101 Bus 47<br>f5ffa031-1062-4c4e-9495-8e40e2b55e1b<br>load=Count: 1, Rated Power: 594.9 kw<br>fixed_feed_in=Count: 1, Rated Power: 184.7 kw",
          "MV3.101 Bus 20<br>98c94532-d796-4df2-864f-08b93b2244ab<br>load=Count: 1, Rated Power: 362.9 kw<br>fixed_feed_in=Count: 1, Rated Power: 172.2 kw",
          "MV3.101 Bus 113<br>380a3c84-fd4b-487c-b2de-00a3b19b27bc<br>load=Count: 1, Rated Power: 362.9 kw<br>fixed_feed_in=Count: 1, Rated Power: 172.2 kw",
          "MV3.101 Bus 118<br>8f65cec0-ee20-4f8c-8bdc-41f3218c067e<br>load=Count: 1, Rated Power: 594.9 kw<br>fixed_feed_in=Count: 1, Rated Power: 184.7 kw",
          "MV3.101 Bus 126<br>4920ef18-6e90-45e5-afaf-9e8b60eb6d0e<br>load=Count: 1, Rated Power: 594.9 kw<br>fixed_feed_in=Count: 1, Rated Power: 184.7 kw",
          "MV3.101 Bus 141<br>3342da5b-7e73-4fc5-af28-3d12619d9426<br>load=Count: 1, Rated Power: 595.0 kw<br>fixed_feed_in=Count: 1, Rated Power: 252.3 kw",
          "MV3.101 Bus 22<br>a6f270ec-f5e8-4c3d-817d-664539f01387<br>load=Count: 1, Rated Power: 362.9 kw<br>fixed_feed_in=Count: 1, Rated Power: 172.2 kw",
          "MV3.101 Bus 140<br>6f477624-e576-4286-8d62-ea909e214a75<br>load=Count: 1, Rated Power: 362.9 kw<br>fixed_feed_in=Count: 1, Rated Power: 172.2 kw",
          "MV3.101 Bus 18_1<br>5d60f397-ce09-4dc5-87c9-0382e71c694e<br>",
          "MV3.101 Bus 42<br>0dd3fdac-f05d-4e68-9611-a73f267ed9eb<br>load=Count: 2, Rated Power: 816.5 kw<br>fixed_feed_in=Count: 1, Rated Power: 184.7 kw",
          "MV3.101 Bus 94<br>a21047e0-d924-42e0-a5e5-0998d65266a6<br>load=Count: 1, Rated Power: 668.0 kw<br>fixed_feed_in=Count: 1, Rated Power: 171.2 kw",
          "MV3.101 Bus 104_1<br>ef10dec9-bbbe-4fe9-856c-28f44b5551bf<br>",
          "MV3.101 Bus 139<br>8559c7b0-c882-466d-8560-00c4db86956a<br>load=Count: 1, Rated Power: 362.9 kw<br>fixed_feed_in=Count: 1, Rated Power: 172.2 kw",
          "MV3.101 Bus 118_1<br>46b59740-e384-4038-beae-3de74fa9a3c6<br>",
          "MV3.101 Bus 116<br>e386caca-6ea9-420c-b732-a79f55899458<br>load=Count: 1, Rated Power: 668.0 kw<br>fixed_feed_in=Count: 1, Rated Power: 171.2 kw",
          "MV3.101 Bus 135_1<br>fad370e8-1530-4310-8181-eacbd141642b<br>",
          "MV3.101 Bus 21<br>3c849b73-7c59-46ec-aad2-b019beccb4c5<br>load=Count: 1, Rated Power: 668.0 kw<br>fixed_feed_in=Count: 1, Rated Power: 171.2 kw",
          "MV3.101 Bus 59<br>b0f1f7d4-4ddb-4a56-91ad-e85590714c87<br>load=Count: 1, Rated Power: 594.9 kw<br>fixed_feed_in=Count: 1, Rated Power: 184.7 kw",
          "MV3.101 Bus 12<br>dc68cf3e-ecb0-4740-a561-de6316c7376d<br>load=Count: 1, Rated Power: 362.9 kw<br>fixed_feed_in=Count: 1, Rated Power: 172.2 kw",
          "MV3.101 Bus 90<br>d873af06-2e6e-4629-9c42-a30b4aeb4fa7<br>load=Count: 1, Rated Power: 594.9 kw<br>fixed_feed_in=Count: 1, Rated Power: 184.7 kw",
          "MV3.101 Bus 72<br>a41231cc-4836-4343-b236-396720582e32<br>load=Count: 1, Rated Power: 594.9 kw<br>fixed_feed_in=Count: 1, Rated Power: 184.7 kw",
          "MV3.101 Bus 133<br>8c073498-b9e2-439d-94a8-63f68f56f192<br>load=Count: 1, Rated Power: 362.9 kw<br>fixed_feed_in=Count: 1, Rated Power: 172.2 kw",
          "MV3.101 Bus 108<br>0e96dffd-d5ea-4f2c-a133-bacb7a85ca31<br>load=Count: 1, Rated Power: 594.9 kw<br>fixed_feed_in=Count: 1, Rated Power: 184.7 kw",
          "MV3.101 Bus 121<br>ef1b266d-3f64-4f9e-a5c5-49ab174370a6<br>load=Count: 1, Rated Power: 595.0 kw<br>fixed_feed_in=Count: 1, Rated Power: 252.3 kw",
          "MV3.101 Bus 62<br>3ecf3284-5919-49ba-a60a-22996f8bc202<br>load=Count: 1, Rated Power: 362.9 kw<br>fixed_feed_in=Count: 1, Rated Power: 172.2 kw",
          "MV3.101 Bus 26<br>6e136d5d-19d7-4556-88a3-3dbdd803c6b1<br>load=Count: 1, Rated Power: 362.9 kw<br>fixed_feed_in=Count: 1, Rated Power: 172.2 kw",
          "MV3.101 Bus 61<br>393881b0-3b78-413f-b065-03d216803c87<br>load=Count: 1, Rated Power: 668.0 kw<br>fixed_feed_in=Count: 1, Rated Power: 171.2 kw",
          "MV3.101 Bus 29<br>1d219ef0-079c-4df8-8449-e80cb2af6793<br>load=Count: 1, Rated Power: 362.9 kw<br>fixed_feed_in=Count: 1, Rated Power: 172.2 kw",
          "MV3.101 Bus 131<br>6588b688-92b7-4863-811d-fb86b70e89ad<br>load=Count: 1, Rated Power: 362.9 kw<br>fixed_feed_in=Count: 1, Rated Power: 172.2 kw",
          "MV3.101 Bus 87<br>81f7b5c4-8ebf-4b8a-8731-f0c67a6e8611<br>load=Count: 1, Rated Power: 668.0 kw<br>fixed_feed_in=Count: 1, Rated Power: 171.2 kw",
          "MV3.101 Bus 70<br>090d13e8-3cce-4793-816f-4c50f23f3f7f<br>load=Count: 1, Rated Power: 668.0 kw<br>fixed_feed_in=Count: 1, Rated Power: 171.2 kw",
          "MV3.101 Bus 89<br>16449d90-cc56-48b9-8067-97986b715758<br>load=Count: 1, Rated Power: 668.0 kw<br>fixed_feed_in=Count: 1, Rated Power: 171.2 kw",
          "MV3.101 Bus 36<br>8bf1ca07-f887-43ec-9e10-f360c0644954<br>load=Count: 1, Rated Power: 668.0 kw<br>fixed_feed_in=Count: 1, Rated Power: 171.2 kw",
          "MV3.101 Bus 74<br>09153599-9b88-49f8-aecd-d57d8ab9e2b6<br>load=Count: 1, Rated Power: 362.9 kw<br>fixed_feed_in=Count: 1, Rated Power: 172.2 kw",
          "MV3.101 Bus 83<br>32145578-706b-47e5-86ae-217d9a41867c<br>load=Count: 1, Rated Power: 668.0 kw<br>fixed_feed_in=Count: 1, Rated Power: 171.2 kw",
          "MV3.101 Bus 54<br>0f9e330f-7db2-48d6-8d07-8741f294f4a9<br>load=Count: 1, Rated Power: 594.9 kw<br>fixed_feed_in=Count: 1, Rated Power: 184.7 kw",
          "MV3.101 Bus 95<br>2dcbdf1e-c956-46f1-9c60-2e0aa45053d4<br>load=Count: 1, Rated Power: 362.9 kw<br>fixed_feed_in=Count: 1, Rated Power: 172.2 kw",
          "MV3.101 Bus 23<br>00933d03-18e0-4681-a7d3-b94cac5ada41<br>load=Count: 1, Rated Power: 594.9 kw<br>fixed_feed_in=Count: 1, Rated Power: 184.7 kw",
          "MV3.101 Bus 137<br>83e2fc45-c6d9-4a8e-8936-4c18b9da0b59<br>load=Count: 1, Rated Power: 362.9 kw<br>fixed_feed_in=Count: 1, Rated Power: 172.2 kw",
          "MV3.101 Bus 79<br>bebf3c0b-e658-438b-b5df-c0cc68d04479<br>load=Count: 1, Rated Power: 362.9 kw<br>fixed_feed_in=Count: 1, Rated Power: 172.2 kw",
          "MV3.101 Bus 101<br>265fe176-27b8-4d24-b805-68a258ef9077<br>load=Count: 1, Rated Power: 594.9 kw<br>fixed_feed_in=Count: 1, Rated Power: 184.7 kw",
          "MV3.101 Bus 45<br>fd124414-dbc6-4f6b-90b5-34918ee7b8f6<br>load=Count: 1, Rated Power: 362.9 kw<br>fixed_feed_in=Count: 1, Rated Power: 172.2 kw",
          "MV3.101 Bus 35<br>fc4af780-3f60-42fc-bc69-d38fadf92050<br>load=Count: 1, Rated Power: 668.0 kw<br>fixed_feed_in=Count: 1, Rated Power: 171.2 kw",
          "MV3.101 Bus 109<br>27cd0e75-9471-4140-aaba-88a8ef63c0b7<br>load=Count: 1, Rated Power: 362.9 kw<br>fixed_feed_in=Count: 1, Rated Power: 172.2 kw",
          "MV3.101 Bus 104<br>9e018a70-4da0-4f41-9a45-455b1173c3d2<br>load=Count: 1, Rated Power: 362.9 kw<br>fixed_feed_in=Count: 1, Rated Power: 172.2 kw",
          "MV3.101 Bus 65<br>b69ecf26-16ee-4b41-a996-b76563c58c1a<br>load=Count: 1, Rated Power: 668.0 kw<br>fixed_feed_in=Count: 1, Rated Power: 171.2 kw",
          "MV3.101 Bus 112<br>c76d8904-3d16-42ae-8abf-e1db37d7ae0d<br>load=Count: 1, Rated Power: 594.9 kw<br>fixed_feed_in=Count: 1, Rated Power: 184.7 kw"
         ],
         "type": "scattermapbox"
        }
       ],
       "layout": {
        "template": {
         "data": {
          "histogram2dcontour": [
           {
            "type": "histogram2dcontour",
            "colorbar": {
             "outlinewidth": 0,
             "ticks": ""
            },
            "colorscale": [
             [
              0.0,
              "#0d0887"
             ],
             [
              0.1111111111111111,
              "#46039f"
             ],
             [
              0.2222222222222222,
              "#7201a8"
             ],
             [
              0.3333333333333333,
              "#9c179e"
             ],
             [
              0.4444444444444444,
              "#bd3786"
             ],
             [
              0.5555555555555556,
              "#d8576b"
             ],
             [
              0.6666666666666666,
              "#ed7953"
             ],
             [
              0.7777777777777778,
              "#fb9f3a"
             ],
             [
              0.8888888888888888,
              "#fdca26"
             ],
             [
              1.0,
              "#f0f921"
             ]
            ]
           }
          ],
          "choropleth": [
           {
            "type": "choropleth",
            "colorbar": {
             "outlinewidth": 0,
             "ticks": ""
            }
           }
          ],
          "histogram2d": [
           {
            "type": "histogram2d",
            "colorbar": {
             "outlinewidth": 0,
             "ticks": ""
            },
            "colorscale": [
             [
              0.0,
              "#0d0887"
             ],
             [
              0.1111111111111111,
              "#46039f"
             ],
             [
              0.2222222222222222,
              "#7201a8"
             ],
             [
              0.3333333333333333,
              "#9c179e"
             ],
             [
              0.4444444444444444,
              "#bd3786"
             ],
             [
              0.5555555555555556,
              "#d8576b"
             ],
             [
              0.6666666666666666,
              "#ed7953"
             ],
             [
              0.7777777777777778,
              "#fb9f3a"
             ],
             [
              0.8888888888888888,
              "#fdca26"
             ],
             [
              1.0,
              "#f0f921"
             ]
            ]
           }
          ],
          "heatmap": [
           {
            "type": "heatmap",
            "colorbar": {
             "outlinewidth": 0,
             "ticks": ""
            },
            "colorscale": [
             [
              0.0,
              "#0d0887"
             ],
             [
              0.1111111111111111,
              "#46039f"
             ],
             [
              0.2222222222222222,
              "#7201a8"
             ],
             [
              0.3333333333333333,
              "#9c179e"
             ],
             [
              0.4444444444444444,
              "#bd3786"
             ],
             [
              0.5555555555555556,
              "#d8576b"
             ],
             [
              0.6666666666666666,
              "#ed7953"
             ],
             [
              0.7777777777777778,
              "#fb9f3a"
             ],
             [
              0.8888888888888888,
              "#fdca26"
             ],
             [
              1.0,
              "#f0f921"
             ]
            ]
           }
          ],
          "contourcarpet": [
           {
            "type": "contourcarpet",
            "colorbar": {
             "outlinewidth": 0,
             "ticks": ""
            }
           }
          ],
          "contour": [
           {
            "type": "contour",
            "colorbar": {
             "outlinewidth": 0,
             "ticks": ""
            },
            "colorscale": [
             [
              0.0,
              "#0d0887"
             ],
             [
              0.1111111111111111,
              "#46039f"
             ],
             [
              0.2222222222222222,
              "#7201a8"
             ],
             [
              0.3333333333333333,
              "#9c179e"
             ],
             [
              0.4444444444444444,
              "#bd3786"
             ],
             [
              0.5555555555555556,
              "#d8576b"
             ],
             [
              0.6666666666666666,
              "#ed7953"
             ],
             [
              0.7777777777777778,
              "#fb9f3a"
             ],
             [
              0.8888888888888888,
              "#fdca26"
             ],
             [
              1.0,
              "#f0f921"
             ]
            ]
           }
          ],
          "surface": [
           {
            "type": "surface",
            "colorbar": {
             "outlinewidth": 0,
             "ticks": ""
            },
            "colorscale": [
             [
              0.0,
              "#0d0887"
             ],
             [
              0.1111111111111111,
              "#46039f"
             ],
             [
              0.2222222222222222,
              "#7201a8"
             ],
             [
              0.3333333333333333,
              "#9c179e"
             ],
             [
              0.4444444444444444,
              "#bd3786"
             ],
             [
              0.5555555555555556,
              "#d8576b"
             ],
             [
              0.6666666666666666,
              "#ed7953"
             ],
             [
              0.7777777777777778,
              "#fb9f3a"
             ],
             [
              0.8888888888888888,
              "#fdca26"
             ],
             [
              1.0,
              "#f0f921"
             ]
            ]
           }
          ],
          "mesh3d": [
           {
            "type": "mesh3d",
            "colorbar": {
             "outlinewidth": 0,
             "ticks": ""
            }
           }
          ],
          "scatter": [
           {
            "fillpattern": {
             "fillmode": "overlay",
             "size": 10,
             "solidity": 0.2
            },
            "type": "scatter"
           }
          ],
          "parcoords": [
           {
            "type": "parcoords",
            "line": {
             "colorbar": {
              "outlinewidth": 0,
              "ticks": ""
             }
            }
           }
          ],
          "scatterpolargl": [
           {
            "type": "scatterpolargl",
            "marker": {
             "colorbar": {
              "outlinewidth": 0,
              "ticks": ""
             }
            }
           }
          ],
          "bar": [
           {
            "error_x": {
             "color": "#2a3f5f"
            },
            "error_y": {
             "color": "#2a3f5f"
            },
            "marker": {
             "line": {
              "color": "#E5ECF6",
              "width": 0.5
             },
             "pattern": {
              "fillmode": "overlay",
              "size": 10,
              "solidity": 0.2
             }
            },
            "type": "bar"
           }
          ],
          "scattergeo": [
           {
            "type": "scattergeo",
            "marker": {
             "colorbar": {
              "outlinewidth": 0,
              "ticks": ""
             }
            }
           }
          ],
          "scatterpolar": [
           {
            "type": "scatterpolar",
            "marker": {
             "colorbar": {
              "outlinewidth": 0,
              "ticks": ""
             }
            }
           }
          ],
          "histogram": [
           {
            "marker": {
             "pattern": {
              "fillmode": "overlay",
              "size": 10,
              "solidity": 0.2
             }
            },
            "type": "histogram"
           }
          ],
          "scattergl": [
           {
            "type": "scattergl",
            "marker": {
             "colorbar": {
              "outlinewidth": 0,
              "ticks": ""
             }
            }
           }
          ],
          "scatter3d": [
           {
            "type": "scatter3d",
            "line": {
             "colorbar": {
              "outlinewidth": 0,
              "ticks": ""
             }
            },
            "marker": {
             "colorbar": {
              "outlinewidth": 0,
              "ticks": ""
             }
            }
           }
          ],
          "scattermap": [
           {
            "type": "scattermap",
            "marker": {
             "colorbar": {
              "outlinewidth": 0,
              "ticks": ""
             }
            }
           }
          ],
          "scattermapbox": [
           {
            "type": "scattermapbox",
            "marker": {
             "colorbar": {
              "outlinewidth": 0,
              "ticks": ""
             }
            }
           }
          ],
          "scatterternary": [
           {
            "type": "scatterternary",
            "marker": {
             "colorbar": {
              "outlinewidth": 0,
              "ticks": ""
             }
            }
           }
          ],
          "scattercarpet": [
           {
            "type": "scattercarpet",
            "marker": {
             "colorbar": {
              "outlinewidth": 0,
              "ticks": ""
             }
            }
           }
          ],
          "carpet": [
           {
            "aaxis": {
             "endlinecolor": "#2a3f5f",
             "gridcolor": "white",
             "linecolor": "white",
             "minorgridcolor": "white",
             "startlinecolor": "#2a3f5f"
            },
            "baxis": {
             "endlinecolor": "#2a3f5f",
             "gridcolor": "white",
             "linecolor": "white",
             "minorgridcolor": "white",
             "startlinecolor": "#2a3f5f"
            },
            "type": "carpet"
           }
          ],
          "table": [
           {
            "cells": {
             "fill": {
              "color": "#EBF0F8"
             },
             "line": {
              "color": "white"
             }
            },
            "header": {
             "fill": {
              "color": "#C8D4E3"
             },
             "line": {
              "color": "white"
             }
            },
            "type": "table"
           }
          ],
          "barpolar": [
           {
            "marker": {
             "line": {
              "color": "#E5ECF6",
              "width": 0.5
             },
             "pattern": {
              "fillmode": "overlay",
              "size": 10,
              "solidity": 0.2
             }
            },
            "type": "barpolar"
           }
          ],
          "pie": [
           {
            "automargin": true,
            "type": "pie"
           }
          ]
         },
         "layout": {
          "autotypenumbers": "strict",
          "colorway": [
           "#636efa",
           "#EF553B",
           "#00cc96",
           "#ab63fa",
           "#FFA15A",
           "#19d3f3",
           "#FF6692",
           "#B6E880",
           "#FF97FF",
           "#FECB52"
          ],
          "font": {
           "color": "#2a3f5f"
          },
          "hovermode": "closest",
          "hoverlabel": {
           "align": "left"
          },
          "paper_bgcolor": "white",
          "plot_bgcolor": "#E5ECF6",
          "polar": {
           "bgcolor": "#E5ECF6",
           "angularaxis": {
            "gridcolor": "white",
            "linecolor": "white",
            "ticks": ""
           },
           "radialaxis": {
            "gridcolor": "white",
            "linecolor": "white",
            "ticks": ""
           }
          },
          "ternary": {
           "bgcolor": "#E5ECF6",
           "aaxis": {
            "gridcolor": "white",
            "linecolor": "white",
            "ticks": ""
           },
           "baxis": {
            "gridcolor": "white",
            "linecolor": "white",
            "ticks": ""
           },
           "caxis": {
            "gridcolor": "white",
            "linecolor": "white",
            "ticks": ""
           }
          },
          "coloraxis": {
           "colorbar": {
            "outlinewidth": 0,
            "ticks": ""
           }
          },
          "colorscale": {
           "sequential": [
            [
             0.0,
             "#0d0887"
            ],
            [
             0.1111111111111111,
             "#46039f"
            ],
            [
             0.2222222222222222,
             "#7201a8"
            ],
            [
             0.3333333333333333,
             "#9c179e"
            ],
            [
             0.4444444444444444,
             "#bd3786"
            ],
            [
             0.5555555555555556,
             "#d8576b"
            ],
            [
             0.6666666666666666,
             "#ed7953"
            ],
            [
             0.7777777777777778,
             "#fb9f3a"
            ],
            [
             0.8888888888888888,
             "#fdca26"
            ],
            [
             1.0,
             "#f0f921"
            ]
           ],
           "sequentialminus": [
            [
             0.0,
             "#0d0887"
            ],
            [
             0.1111111111111111,
             "#46039f"
            ],
            [
             0.2222222222222222,
             "#7201a8"
            ],
            [
             0.3333333333333333,
             "#9c179e"
            ],
            [
             0.4444444444444444,
             "#bd3786"
            ],
            [
             0.5555555555555556,
             "#d8576b"
            ],
            [
             0.6666666666666666,
             "#ed7953"
            ],
            [
             0.7777777777777778,
             "#fb9f3a"
            ],
            [
             0.8888888888888888,
             "#fdca26"
            ],
            [
             1.0,
             "#f0f921"
            ]
           ],
           "diverging": [
            [
             0,
             "#8e0152"
            ],
            [
             0.1,
             "#c51b7d"
            ],
            [
             0.2,
             "#de77ae"
            ],
            [
             0.3,
             "#f1b6da"
            ],
            [
             0.4,
             "#fde0ef"
            ],
            [
             0.5,
             "#f7f7f7"
            ],
            [
             0.6,
             "#e6f5d0"
            ],
            [
             0.7,
             "#b8e186"
            ],
            [
             0.8,
             "#7fbc41"
            ],
            [
             0.9,
             "#4d9221"
            ],
            [
             1,
             "#276419"
            ]
           ]
          },
          "xaxis": {
           "gridcolor": "white",
           "linecolor": "white",
           "ticks": "",
           "title": {
            "standoff": 15
           },
           "zerolinecolor": "white",
           "automargin": true,
           "zerolinewidth": 2
          },
          "yaxis": {
           "gridcolor": "white",
           "linecolor": "white",
           "ticks": "",
           "title": {
            "standoff": 15
           },
           "zerolinecolor": "white",
           "automargin": true,
           "zerolinewidth": 2
          },
          "scene": {
           "xaxis": {
            "backgroundcolor": "#E5ECF6",
            "gridcolor": "white",
            "linecolor": "white",
            "showbackground": true,
            "ticks": "",
            "zerolinecolor": "white",
            "gridwidth": 2
           },
           "yaxis": {
            "backgroundcolor": "#E5ECF6",
            "gridcolor": "white",
            "linecolor": "white",
            "showbackground": true,
            "ticks": "",
            "zerolinecolor": "white",
            "gridwidth": 2
           },
           "zaxis": {
            "backgroundcolor": "#E5ECF6",
            "gridcolor": "white",
            "linecolor": "white",
            "showbackground": true,
            "ticks": "",
            "zerolinecolor": "white",
            "gridwidth": 2
           }
          },
          "shapedefaults": {
           "line": {
            "color": "#2a3f5f"
           }
          },
          "annotationdefaults": {
           "arrowcolor": "#2a3f5f",
           "arrowhead": 0,
           "arrowwidth": 1
          },
          "geo": {
           "bgcolor": "white",
           "landcolor": "#E5ECF6",
           "subunitcolor": "white",
           "showland": true,
           "showlakes": true,
           "lakecolor": "white"
          },
          "title": {
           "x": 0.05
          },
          "mapbox": {
           "style": "light"
          }
         }
        },
        "mapbox": {
         "center": {
          "lat": 53.64525238095238,
          "lon": 11.368850340136055
         },
         "style": "open-street-map",
         "zoom": 11.961600000000004
        },
        "margin": {
         "r": 0,
         "t": 0,
         "l": 0,
         "b": 0
        },
        "showlegend": false
       },
       "config": {
        "plotlyServerURL": "https://plot.ly"
       }
      }
     },
     "metadata": {},
     "output_type": "display_data"
    }
   ],
   "execution_count": 6
  },
  {
   "metadata": {
    "ExecuteTime": {
     "end_time": "2025-07-28T08:21:36.325644Z",
     "start_time": "2025-07-28T08:21:36.322586Z"
    }
   },
   "cell_type": "code",
   "source": "",
   "id": "e222944bd2879516",
   "outputs": [],
   "execution_count": null
  }
 ],
 "metadata": {
  "kernelspec": {
   "display_name": "Python 3",
   "language": "python",
   "name": "python3"
  },
  "language_info": {
   "codemirror_mode": {
    "name": "ipython",
    "version": 2
   },
   "file_extension": ".py",
   "mimetype": "text/x-python",
   "name": "python",
   "nbconvert_exporter": "python",
   "pygments_lexer": "ipython2",
   "version": "2.7.6"
  }
 },
 "nbformat": 4,
 "nbformat_minor": 5
}
