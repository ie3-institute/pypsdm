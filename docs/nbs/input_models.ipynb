{
 "cells": [
  {
   "cell_type": "code",
   "execution_count": null,
   "metadata": {},
   "outputs": [],
   "source": [
    "# Some jupyter notebook magic to reload modules automatically when they change\n",
    "# not necessary for this specific notebook but useful in general\n",
    "%load_ext autoreload\n",
    "%autoreload 2"
   ]
  },
  {
   "cell_type": "code",
   "execution_count": null,
   "metadata": {},
   "outputs": [],
   "source": [
    "from definitions import ROOT_DIR\n",
    "import os\n",
    "\n",
    "# The PSDM specific input models can be found in the pypsdm.models.input submodules\n",
    "from pypsdm.models.input import GridContainer\n",
    "\n",
    "# but can also be imported from the root module\n",
    "from pypsdm import GridContainer\n",
    "\n",
    "\n",
    "grid_path = os.path.join(ROOT_DIR, \"tests\", \"resources\", \"simple_grid\", \"input\")\n",
    "# IO data models in general have a from_csv method to parse psdm files\n",
    "grid = GridContainer.from_csv(grid_path)\n",
    "# You can also load a `GridWithResults` container which additionally contains the result\n",
    "# data. For more details see the `result_models.ipynb` notebook"
   ]
  },
  {
   "cell_type": "code",
   "execution_count": null,
   "metadata": {},
   "outputs": [],
   "source": [
    "from pypsdm.plots.grid import grid_plot\n",
    "\n",
    "# Use the grid_plot method to visualize the grid model\n",
    "# only works if the underlying node input files have associated coordinates\n",
    "grid_plot(grid)"
   ]
  },
  {
   "cell_type": "code",
   "execution_count": null,
   "metadata": {},
   "outputs": [],
   "source": [
    "# You can get a graph representation of the grid\n",
    "graph = grid.raw_grid.build_networkx_graph()\n",
    "# And a list of all the branches in the grid\n",
    "branches_list = grid.raw_grid.get_branches()\n",
    "branches_subgraphs = grid.raw_grid.get_branches(as_graphs=True)\n",
    "branches_list, branches_subgraphs"
   ]
  },
  {
   "cell_type": "code",
   "execution_count": null,
   "metadata": {},
   "outputs": [],
   "source": [
    "# A grid container consists of a raw grid container\n",
    "raw_grid = grid.raw_grid\n",
    "# consisting of lines, transformers and so on\n",
    "lines = raw_grid.lines\n",
    "# and a participants container\n",
    "participants = grid.participants\n",
    "# consisting of loads, pv plants\n",
    "pvs = participants.pvs\n",
    "\n",
    "# You can also directly access the nested objects from the container classes\n",
    "pvs = grid.pvs\n",
    "\n",
    "# The base data structure of all input model is a pandas DataFrame accessible via .data\n",
    "pvs.data"
   ]
  },
  {
   "cell_type": "code",
   "execution_count": null,
   "metadata": {},
   "outputs": [],
   "source": [
    "# You can access the columns via the data frame\n",
    "pvs.data[\"s_rated\"]"
   ]
  },
  {
   "cell_type": "code",
   "execution_count": null,
   "metadata": {},
   "outputs": [],
   "source": [
    "# or directly via the property attribute of the class\n",
    "pvs.s_rated"
   ]
  },
  {
   "cell_type": "code",
   "execution_count": null,
   "metadata": {},
   "outputs": [],
   "source": [
    "# The respective classes implement some useful methods for dealing with the data\n",
    "# e.g. retrieve all elements connected to one or multiple specified nodes\n",
    "# (Please check out the classes to see all the implemented methods)\n",
    "nodal_participants = participants.filter_by_nodes(grid.nodes.uuid.to_list()[::2])\n",
    "nodal_participants.pvs.data"
   ]
  },
  {
   "cell_type": "code",
   "execution_count": null,
   "metadata": {},
   "outputs": [],
   "source": [
    "from tempfile import TemporaryDirectory\n",
    "\n",
    "# You can write data models with their respective to_csv method\n",
    "with TemporaryDirectory() as temp_dir:\n",
    "    grid.to_csv(temp_dir)\n",
    "    grid_from_csv = GridContainer.from_csv(temp_dir)\n",
    "\n",
    "    grid.compare(grid_from_csv)\n",
    "    assert grid.raw_grid.nodes == grid_from_csv.raw_grid.nodes\n",
    "    assert grid.loads == grid_from_csv.loads\n",
    "    # the == operator is overloaded to compare the underlying dataframes\n",
    "    assert grid == grid_from_csv"
   ]
  }
 ],
 "metadata": {
  "kernelspec": {
   "display_name": "pypsdm-sJkpnJQv-py3.11",
   "language": "python",
   "name": "python3"
  },
  "language_info": {
   "codemirror_mode": {
    "name": "ipython",
    "version": 3
   },
   "file_extension": ".py",
   "mimetype": "text/x-python",
   "name": "python",
   "nbconvert_exporter": "python",
   "pygments_lexer": "ipython3",
   "version": "3.11.5"
  }
 },
 "nbformat": 4,
 "nbformat_minor": 2
}
