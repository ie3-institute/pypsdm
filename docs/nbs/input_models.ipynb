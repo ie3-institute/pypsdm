{
 "cells": [
  {
   "cell_type": "raw",
   "execution_count": null,
   "metadata": {},
   "outputs": [],
   "source": [
    "{\n",
    " \"cells\": [\n",
    "  {\n",
    "   \"cell_type\": \"code\",\n",
    "   \"metadata\": {\n",
    "    \"ExecuteTime\": {\n",
    "     \"end_time\": \"2025-08-12T17:17:12.341315Z\",\n",
    "     \"start_time\": \"2025-08-12T17:17:12.309989Z\"\n",
    "    }\n",
    "   },\n",
    "   \"source\": [\n",
    "    \"# NBVAL_SKIP\\n\",\n",
    "    \"# Some jupyter notebook magic to reload modules automatically when they change\\n\",\n",
    "    \"# not necessary for this specific notebook but useful in general\\n\",\n",
    "    \"# NBVAL_SKIP\\n\",\n",
    "    \"%load_ext autoreload\\n\",\n",
    "    \"%autoreload 2\"\n",
    "   ],\n",
    "   \"outputs\": [\n",
    "    {\n",
    "     \"name\": \"stdout\",\n",
    "     \"output_type\": \"stream\",\n",
    "     \"text\": [\n",
    "      \"\\u001b[32m2025-08-12 17:35:24.682\\u001b[0m | \\u001b[34m\\u001b[1mDEBUG   \\u001b[0m | \\u001b[36mpypsdm.models.primary_data\\u001b[0m:\\u001b[36mfrom_csv\\u001b[0m:\\u001b[36m273\\u001b[0m - \\u001b[34m\\u001b[1mNo primary data in path /home/smdafeis/github/pypsdm/tests/resources/simple_grid/input\\u001b[0m\\n\"\n",
    "     ]\n",
    "    }\n",
    "   ],\n",
    "   \"execution_count\": 19\n",
    "  },\n",
    "  {\n",
    "   \"cell_type\": \"code\",\n",
    "   \"metadata\": {\n",
    "    \"ExecuteTime\": {\n",
    "     \"end_time\": \"2025-08-12T17:17:12.485196Z\",\n",
    "     \"start_time\": \"2025-08-12T17:17:12.359095Z\"\n",
    "    }\n",
    "   },\n",
    "   \"source\": [\n",
    "    \"# NBVAL_IGNORE_OUTPUT\\n\",\n",
    "    \"from definitions import ROOT_DIR\\n\",\n",
    "    \"import os\\n\",\n",
    "    \"\\n\",\n",
    "    \"# The PSDM specific input models can be found in the pypsdm.models.input submodules\\n\",\n",
    "    \"from pypsdm.models.input import GridContainer\\n\",\n",
    "    \"\\n\",\n",
    "    \"# but can also be imported from the root module\\n\",\n",
    "    \"from pypsdm import GridContainer\\n\",\n",
    "    \"\\n\",\n",
    "    \"\\n\",\n",
    "    \"grid_path = os.path.join(ROOT_DIR, \\\"tests\\\", \\\"resources\\\", \\\"simple_grid\\\", \\\"input\\\")\\n\",\n",
    "    \"# IO data models in general have a from_csv method to parse psdm files\\n\",\n",
    "    \"grid = GridContainer.from_csv(grid_path)\\n\",\n",
    "    \"# You can also load a `GridWithResults` container which additionally contains the result\\n\",\n",
    "    \"# data. For more details see the `result_models.ipynb` notebook\"\n",
    "   ],\n",
    "   \"outputs\": [\n",
    "    {\n",
    "     \"name\": \"stderr\",\n",
    "     \"output_type\": \"stream\",\n",
    "     \"text\": [\n",
    "      \"\\u001B[32m2025-08-12 19:17:12.481\\u001B[0m | \\u001B[34m\\u001B[1mDEBUG   \\u001B[0m | \\u001B[36mpypsdm.models.primary_data\\u001B[0m:\\u001B[36mfrom_csv\\u001B[0m:\\u001B[36m273\\u001B[0m - \\u001B[34m\\u001B[1mNo primary data in path /home/smdafeis/github/pypsdm/tests/resources/simple_grid/input\\u001B[0m\\n\"\n",
    "     ]\n",
    "    }\n",
    "   ],\n",
    "   \"execution_count\": 20\n",
    "  },\n",
    "  {\n",
    "   \"cell_type\": \"code\",\n",
    "   \"metadata\": {\n",
    "    \"ExecuteTime\": {\n",
    "     \"end_time\": \"2025-08-12T17:17:12.538077Z\",\n",
    "     \"start_time\": \"2025-08-12T17:17:12.491016Z\"\n",
    "    }\n",
    "   },\n",
    "   \"source\": [\n",
    "    \"from pypsdm.plots.grid import grid_plot\\n\",\n",
    "    \"\\n\",\n",
    "    \"# Use the grid_plot method to visualize the grid model\\n\",\n",
    "    \"# only works if the underlying node input files have associated coordinates\\n\",\n",
    "    \"grid_plot(grid)\"\n",
    "   ],\n",
    "   \"outputs\": [\n",
    "    {\n",
    "     \"data\": {\n",
    "      \"application/vnd.plotly.v1+json\": {\n",
    "       \"data\": [\n",
    "        {\n",
    "         \"hoverinfo\": \"skip\",\n",
    "         \"lat\": [\n",
    "          51.00473924277929,\n",
    "          51.00474261837189\n",
    "         ],\n",
    "         \"line\": {\n",
    "          \"color\": \"#1ac938\"\n",
    "         },\n",
    "         \"lon\": [\n",
    "          7.178732983051468,\n",
    "          7.18043886801018\n",
    "         ],\n",
    "         \"mode\": \"lines\",\n",
    "         \"type\": \"scattermapbox\"\n",
    "        },\n",
    "        {\n",
    "         \"hoverinfo\": \"text\",\n",
    "         \"hovertext\": \"LTG_NS_02-NS_03\",\n",
    "         \"lat\": [\n",
    "          51.00474093057559\n",
    "         ],\n",
    "         \"lon\": [\n",
    "          7.179585925530824\n",
    "         ],\n",
    "         \"marker\": {\n",
    "          \"color\": \"#1ac938\",\n",
    "          \"opacity\": 0,\n",
    "          \"size\": 0\n",
    "         },\n",
    "         \"mode\": \"markers\",\n",
    "         \"type\": \"scattermapbox\"\n",
    "        },\n",
    "        {\n",
    "         \"hoverinfo\": \"skip\",\n",
    "         \"lat\": [\n",
    "          51.00474261837189,\n",
    "          51.00442531159225\n",
    "         ],\n",
    "         \"line\": {\n",
    "          \"color\": \"#1ac938\"\n",
    "         },\n",
    "         \"lon\": [\n",
    "          7.18043886801018,\n",
    "          7.1826490082711505\n",
    "         ],\n",
    "         \"mode\": \"lines\",\n",
    "         \"type\": \"scattermapbox\"\n",
    "        },\n",
    "        {\n",
    "         \"hoverinfo\": \"text\",\n",
    "         \"hovertext\": \"LTG_NS_03-NS_04\",\n",
    "         \"lat\": [\n",
    "          51.004583964982075\n",
    "         ],\n",
    "         \"lon\": [\n",
    "          7.181543938140665\n",
    "         ],\n",
    "         \"marker\": {\n",
    "          \"color\": \"#1ac938\",\n",
    "          \"opacity\": 0,\n",
    "          \"size\": 0\n",
    "         },\n",
    "         \"mode\": \"markers\",\n",
    "         \"type\": \"scattermapbox\"\n",
    "        },\n",
    "        {\n",
    "         \"hoverinfo\": \"skip\",\n",
    "         \"lat\": [\n",
    "          51.00489119159423,\n",
    "          51.00473924277929\n",
    "         ],\n",
    "         \"line\": {\n",
    "          \"color\": \"#1ac938\"\n",
    "         },\n",
    "         \"lon\": [\n",
    "          7.177091457368853,\n",
    "          7.178732983051468\n",
    "         ],\n",
    "         \"mode\": \"lines\",\n",
    "         \"type\": \"scattermapbox\"\n",
    "        },\n",
    "        {\n",
    "         \"hoverinfo\": \"text\",\n",
    "         \"hovertext\": \"LTG_NS_01-NS_02\",\n",
    "         \"lat\": [\n",
    "          51.00481521718676\n",
    "         ],\n",
    "         \"lon\": [\n",
    "          7.17791222021016\n",
    "         ],\n",
    "         \"marker\": {\n",
    "          \"color\": \"#1ac938\",\n",
    "          \"opacity\": 0,\n",
    "          \"size\": 0\n",
    "         },\n",
    "         \"mode\": \"markers\",\n",
    "         \"type\": \"scattermapbox\"\n",
    "        },\n",
    "        {\n",
    "         \"hoverinfo\": \"text\",\n",
    "         \"hovertext\": [\n",
    "          \"MS_01<br>df97c0d1-379b-417a-a473-8e7fe37da99d<br>\",\n",
    "          \"NS_01<br>6a4547a8-630b-46e4-8144-9cd649e67c07<br>\",\n",
    "          \"NS_02<br>b7a5be0d-2662-41b2-99c6-3b8121a75e9e<br>em=Count: 1<br>load=Count: 1, Rated Power: 3 kw<br>pv=Count: 1, Rated Power: 4 kw<br>storage=Count: 1, Rated Power: 3.0 kw<br>ev=Count: 1, Rated Power: 10 kw<br>evcs=Count: 1<br>hp=Count: 1, Rated Power: 4 kw\",\n",
    "          \"NS_03<br>1dcddd06-f41a-405b-9686-7f7942852196<br>em=Count: 1<br>load=Count: 1, Rated Power: 3 kw<br>pv=Count: 1, Rated Power: 6 kw<br>storage=Count: 1, Rated Power: 4.5 kw<br>ev=Count: 1, Rated Power: 10 kw<br>evcs=Count: 1<br>hp=Count: 1, Rated Power: 3 kw\",\n",
    "          \"NS_04<br>e3c3c6a3-c383-4dbb-9b3f-a14125615386<br>em=Count: 1<br>load=Count: 1, Rated Power: 3 kw<br>pv=Count: 1, Rated Power: 10 kw<br>storage=Count: 1, Rated Power: 7.5 kw<br>ev=Count: 1, Rated Power: 20 kw<br>evcs=Count: 1<br>hp=Count: 1, Rated Power: 6 kw\"\n",
    "         ],\n",
    "         \"lat\": {\n",
    "          \"dtype\": \"f8\",\n",
    "          \"bdata\": \"xfdJRqCASUDF90lGoIBJQFdfpkubgElAAGf3Z5uASUAbSDQCkYBJQA==\"\n",
    "         },\n",
    "         \"lon\": {\n",
    "          \"dtype\": \"f8\",\n",
    "          \"bdata\": \"aDOHdle1HEBoM4d2V7UcQLiwc8cFtxxAuh9098S4HECKr3RXCLscQA==\"\n",
    "         },\n",
    "         \"marker\": {\n",
    "          \"color\": \"#023eff\",\n",
    "          \"size\": 6\n",
    "         },\n",
    "         \"mode\": \"markers\",\n",
    "         \"text\": [\n",
    "          \"MS_01<br>df97c0d1-379b-417a-a473-8e7fe37da99d<br>\",\n",
    "          \"NS_01<br>6a4547a8-630b-46e4-8144-9cd649e67c07<br>\",\n",
    "          \"NS_02<br>b7a5be0d-2662-41b2-99c6-3b8121a75e9e<br>em=Count: 1<br>load=Count: 1, Rated Power: 3 kw<br>pv=Count: 1, Rated Power: 4 kw<br>storage=Count: 1, Rated Power: 3.0 kw<br>ev=Count: 1, Rated Power: 10 kw<br>evcs=Count: 1<br>hp=Count: 1, Rated Power: 4 kw\",\n",
    "          \"NS_03<br>1dcddd06-f41a-405b-9686-7f7942852196<br>em=Count: 1<br>load=Count: 1, Rated Power: 3 kw<br>pv=Count: 1, Rated Power: 6 kw<br>storage=Count: 1, Rated Power: 4.5 kw<br>ev=Count: 1, Rated Power: 10 kw<br>evcs=Count: 1<br>hp=Count: 1, Rated Power: 3 kw\",\n",
    "          \"NS_04<br>e3c3c6a3-c383-4dbb-9b3f-a14125615386<br>em=Count: 1<br>load=Count: 1, Rated Power: 3 kw<br>pv=Count: 1, Rated Power: 10 kw<br>storage=Count: 1, Rated Power: 7.5 kw<br>ev=Count: 1, Rated Power: 20 kw<br>evcs=Count: 1<br>hp=Count: 1, Rated Power: 6 kw\"\n",
    "         ],\n",
    "         \"type\": \"scattermapbox\"\n",
    "        }\n",
    "       ],\n",
    "       \"layout\": {\n",
    "        \"template\": {\n",
    "         \"data\": {\n",
    "          \"histogram2dcontour\": [\n",
    "           {\n",
    "            \"type\": \"histogram2dcontour\",\n",
    "            \"colorbar\": {\n",
    "             \"outlinewidth\": 0,\n",
    "             \"ticks\": \"\"\n",
    "            },\n",
    "            \"colorscale\": [\n",
    "             [\n",
    "              0.0,\n",
    "              \"#0d0887\"\n",
    "             ],\n",
    "             [\n",
    "              0.1111111111111111,\n",
    "              \"#46039f\"\n",
    "             ],\n",
    "             [\n",
    "              0.2222222222222222,\n",
    "              \"#7201a8\"\n",
    "             ],\n",
    "             [\n",
    "              0.3333333333333333,\n",
    "              \"#9c179e\"\n",
    "             ],\n",
    "             [\n",
    "              0.4444444444444444,\n",
    "              \"#bd3786\"\n",
    "             ],\n",
    "             [\n",
    "              0.5555555555555556,\n",
    "              \"#d8576b\"\n",
    "             ],\n",
    "             [\n",
    "              0.6666666666666666,\n",
    "              \"#ed7953\"\n",
    "             ],\n",
    "             [\n",
    "              0.7777777777777778,\n",
    "              \"#fb9f3a\"\n",
    "             ],\n",
    "             [\n",
    "              0.8888888888888888,\n",
    "              \"#fdca26\"\n",
    "             ],\n",
    "             [\n",
    "              1.0,\n",
    "              \"#f0f921\"\n",
    "             ]\n",
    "            ]\n",
    "           }\n",
    "          ],\n",
    "          \"choropleth\": [\n",
    "           {\n",
    "            \"type\": \"choropleth\",\n",
    "            \"colorbar\": {\n",
    "             \"outlinewidth\": 0,\n",
    "             \"ticks\": \"\"\n",
    "            }\n",
    "           }\n",
    "          ],\n",
    "          \"histogram2d\": [\n",
    "           {\n",
    "            \"type\": \"histogram2d\",\n",
    "            \"colorbar\": {\n",
    "             \"outlinewidth\": 0,\n",
    "             \"ticks\": \"\"\n",
    "            },\n",
    "            \"colorscale\": [\n",
    "             [\n",
    "              0.0,\n",
    "              \"#0d0887\"\n",
    "             ],\n",
    "             [\n",
    "              0.1111111111111111,\n",
    "              \"#46039f\"\n",
    "             ],\n",
    "             [\n",
    "              0.2222222222222222,\n",
    "              \"#7201a8\"\n",
    "             ],\n",
    "             [\n",
    "              0.3333333333333333,\n",
    "              \"#9c179e\"\n",
    "             ],\n",
    "             [\n",
    "              0.4444444444444444,\n",
    "              \"#bd3786\"\n",
    "             ],\n",
    "             [\n",
    "              0.5555555555555556,\n",
    "              \"#d8576b\"\n",
    "             ],\n",
    "             [\n",
    "              0.6666666666666666,\n",
    "              \"#ed7953\"\n",
    "             ],\n",
    "             [\n",
    "              0.7777777777777778,\n",
    "              \"#fb9f3a\"\n",
    "             ],\n",
    "             [\n",
    "              0.8888888888888888,\n",
    "              \"#fdca26\"\n",
    "             ],\n",
    "             [\n",
    "              1.0,\n",
    "              \"#f0f921\"\n",
    "             ]\n",
    "            ]\n",
    "           }\n",
    "          ],\n",
    "          \"heatmap\": [\n",
    "           {\n",
    "            \"type\": \"heatmap\",\n",
    "            \"colorbar\": {\n",
    "             \"outlinewidth\": 0,\n",
    "             \"ticks\": \"\"\n",
    "            },\n",
    "            \"colorscale\": [\n",
    "             [\n",
    "              0.0,\n",
    "              \"#0d0887\"\n",
    "             ],\n",
    "             [\n",
    "              0.1111111111111111,\n",
    "              \"#46039f\"\n",
    "             ],\n",
    "             [\n",
    "              0.2222222222222222,\n",
    "              \"#7201a8\"\n",
    "             ],\n",
    "             [\n",
    "              0.3333333333333333,\n",
    "              \"#9c179e\"\n",
    "             ],\n",
    "             [\n",
    "              0.4444444444444444,\n",
    "              \"#bd3786\"\n",
    "             ],\n",
    "             [\n",
    "              0.5555555555555556,\n",
    "              \"#d8576b\"\n",
    "             ],\n",
    "             [\n",
    "              0.6666666666666666,\n",
    "              \"#ed7953\"\n",
    "             ],\n",
    "             [\n",
    "              0.7777777777777778,\n",
    "              \"#fb9f3a\"\n",
    "             ],\n",
    "             [\n",
    "              0.8888888888888888,\n",
    "              \"#fdca26\"\n",
    "             ],\n",
    "             [\n",
    "              1.0,\n",
    "              \"#f0f921\"\n",
    "             ]\n",
    "            ]\n",
    "           }\n",
    "          ],\n",
    "          \"contourcarpet\": [\n",
    "           {\n",
    "            \"type\": \"contourcarpet\",\n",
    "            \"colorbar\": {\n",
    "             \"outlinewidth\": 0,\n",
    "             \"ticks\": \"\"\n",
    "            }\n",
    "           }\n",
    "          ],\n",
    "          \"contour\": [\n",
    "           {\n",
    "            \"type\": \"contour\",\n",
    "            \"colorbar\": {\n",
    "             \"outlinewidth\": 0,\n",
    "             \"ticks\": \"\"\n",
    "            },\n",
    "            \"colorscale\": [\n",
    "             [\n",
    "              0.0,\n",
    "              \"#0d0887\"\n",
    "             ],\n",
    "             [\n",
    "              0.1111111111111111,\n",
    "              \"#46039f\"\n",
    "             ],\n",
    "             [\n",
    "              0.2222222222222222,\n",
    "              \"#7201a8\"\n",
    "             ],\n",
    "             [\n",
    "              0.3333333333333333,\n",
    "              \"#9c179e\"\n",
    "             ],\n",
    "             [\n",
    "              0.4444444444444444,\n",
    "              \"#bd3786\"\n",
    "             ],\n",
    "             [\n",
    "              0.5555555555555556,\n",
    "              \"#d8576b\"\n",
    "             ],\n",
    "             [\n",
    "              0.6666666666666666,\n",
    "              \"#ed7953\"\n",
    "             ],\n",
    "             [\n",
    "              0.7777777777777778,\n",
    "              \"#fb9f3a\"\n",
    "             ],\n",
    "             [\n",
    "              0.8888888888888888,\n",
    "              \"#fdca26\"\n",
    "             ],\n",
    "             [\n",
    "              1.0,\n",
    "              \"#f0f921\"\n",
    "             ]\n",
    "            ]\n",
    "           }\n",
    "          ],\n",
    "          \"surface\": [\n",
    "           {\n",
    "            \"type\": \"surface\",\n",
    "            \"colorbar\": {\n",
    "             \"outlinewidth\": 0,\n",
    "             \"ticks\": \"\"\n",
    "            },\n",
    "            \"colorscale\": [\n",
    "             [\n",
    "              0.0,\n",
    "              \"#0d0887\"\n",
    "             ],\n",
    "             [\n",
    "              0.1111111111111111,\n",
    "              \"#46039f\"\n",
    "             ],\n",
    "             [\n",
    "              0.2222222222222222,\n",
    "              \"#7201a8\"\n",
    "             ],\n",
    "             [\n",
    "              0.3333333333333333,\n",
    "              \"#9c179e\"\n",
    "             ],\n",
    "             [\n",
    "              0.4444444444444444,\n",
    "              \"#bd3786\"\n",
    "             ],\n",
    "             [\n",
    "              0.5555555555555556,\n",
    "              \"#d8576b\"\n",
    "             ],\n",
    "             [\n",
    "              0.6666666666666666,\n",
    "              \"#ed7953\"\n",
    "             ],\n",
    "             [\n",
    "              0.7777777777777778,\n",
    "              \"#fb9f3a\"\n",
    "             ],\n",
    "             [\n",
    "              0.8888888888888888,\n",
    "              \"#fdca26\"\n",
    "             ],\n",
    "             [\n",
    "              1.0,\n",
    "              \"#f0f921\"\n",
    "             ]\n",
    "            ]\n",
    "           }\n",
    "          ],\n",
    "          \"mesh3d\": [\n",
    "           {\n",
    "            \"type\": \"mesh3d\",\n",
    "            \"colorbar\": {\n",
    "             \"outlinewidth\": 0,\n",
    "             \"ticks\": \"\"\n",
    "            }\n",
    "           }\n",
    "          ],\n",
    "          \"scatter\": [\n",
    "           {\n",
    "            \"fillpattern\": {\n",
    "             \"fillmode\": \"overlay\",\n",
    "             \"size\": 10,\n",
    "             \"solidity\": 0.2\n",
    "            },\n",
    "            \"type\": \"scatter\"\n",
    "           }\n",
    "          ],\n",
    "          \"parcoords\": [\n",
    "           {\n",
    "            \"type\": \"parcoords\",\n",
    "            \"line\": {\n",
    "             \"colorbar\": {\n",
    "              \"outlinewidth\": 0,\n",
    "              \"ticks\": \"\"\n",
    "             }\n",
    "            }\n",
    "           }\n",
    "          ],\n",
    "          \"scatterpolargl\": [\n",
    "           {\n",
    "            \"type\": \"scatterpolargl\",\n",
    "            \"marker\": {\n",
    "             \"colorbar\": {\n",
    "              \"outlinewidth\": 0,\n",
    "              \"ticks\": \"\"\n",
    "             }\n",
    "            }\n",
    "           }\n",
    "          ],\n",
    "          \"bar\": [\n",
    "           {\n",
    "            \"error_x\": {\n",
    "             \"color\": \"#2a3f5f\"\n",
    "            },\n",
    "            \"error_y\": {\n",
    "             \"color\": \"#2a3f5f\"\n",
    "            },\n",
    "            \"marker\": {\n",
    "             \"line\": {\n",
    "              \"color\": \"#E5ECF6\",\n",
    "              \"width\": 0.5\n",
    "             },\n",
    "             \"pattern\": {\n",
    "              \"fillmode\": \"overlay\",\n",
    "              \"size\": 10,\n",
    "              \"solidity\": 0.2\n",
    "             }\n",
    "            },\n",
    "            \"type\": \"bar\"\n",
    "           }\n",
    "          ],\n",
    "          \"scattergeo\": [\n",
    "           {\n",
    "            \"type\": \"scattergeo\",\n",
    "            \"marker\": {\n",
    "             \"colorbar\": {\n",
    "              \"outlinewidth\": 0,\n",
    "              \"ticks\": \"\"\n",
    "             }\n",
    "            }\n",
    "           }\n",
    "          ],\n",
    "          \"scatterpolar\": [\n",
    "           {\n",
    "            \"type\": \"scatterpolar\",\n",
    "            \"marker\": {\n",
    "             \"colorbar\": {\n",
    "              \"outlinewidth\": 0,\n",
    "              \"ticks\": \"\"\n",
    "             }\n",
    "            }\n",
    "           }\n",
    "          ],\n",
    "          \"histogram\": [\n",
    "           {\n",
    "            \"marker\": {\n",
    "             \"pattern\": {\n",
    "              \"fillmode\": \"overlay\",\n",
    "              \"size\": 10,\n",
    "              \"solidity\": 0.2\n",
    "             }\n",
    "            },\n",
    "            \"type\": \"histogram\"\n",
    "           }\n",
    "          ],\n",
    "          \"scattergl\": [\n",
    "           {\n",
    "            \"type\": \"scattergl\",\n",
    "            \"marker\": {\n",
    "             \"colorbar\": {\n",
    "              \"outlinewidth\": 0,\n",
    "              \"ticks\": \"\"\n",
    "             }\n",
    "            }\n",
    "           }\n",
    "          ],\n",
    "          \"scatter3d\": [\n",
    "           {\n",
    "            \"type\": \"scatter3d\",\n",
    "            \"line\": {\n",
    "             \"colorbar\": {\n",
    "              \"outlinewidth\": 0,\n",
    "              \"ticks\": \"\"\n",
    "             }\n",
    "            },\n",
    "            \"marker\": {\n",
    "             \"colorbar\": {\n",
    "              \"outlinewidth\": 0,\n",
    "              \"ticks\": \"\"\n",
    "             }\n",
    "            }\n",
    "           }\n",
    "          ],\n",
    "          \"scattermap\": [\n",
    "           {\n",
    "            \"type\": \"scattermap\",\n",
    "            \"marker\": {\n",
    "             \"colorbar\": {\n",
    "              \"outlinewidth\": 0,\n",
    "              \"ticks\": \"\"\n",
    "             }\n",
    "            }\n",
    "           }\n",
    "          ],\n",
    "          \"scattermapbox\": [\n",
    "           {\n",
    "            \"type\": \"scattermapbox\",\n",
    "            \"marker\": {\n",
    "             \"colorbar\": {\n",
    "              \"outlinewidth\": 0,\n",
    "              \"ticks\": \"\"\n",
    "             }\n",
    "            }\n",
    "           }\n",
    "          ],\n",
    "          \"scatterternary\": [\n",
    "           {\n",
    "            \"type\": \"scatterternary\",\n",
    "            \"marker\": {\n",
    "             \"colorbar\": {\n",
    "              \"outlinewidth\": 0,\n",
    "              \"ticks\": \"\"\n",
    "             }\n",
    "            }\n",
    "           }\n",
    "          ],\n",
    "          \"scattercarpet\": [\n",
    "           {\n",
    "            \"type\": \"scattercarpet\",\n",
    "            \"marker\": {\n",
    "             \"colorbar\": {\n",
    "              \"outlinewidth\": 0,\n",
    "              \"ticks\": \"\"\n",
    "             }\n",
    "            }\n",
    "           }\n",
    "          ],\n",
    "          \"carpet\": [\n",
    "           {\n",
    "            \"aaxis\": {\n",
    "             \"endlinecolor\": \"#2a3f5f\",\n",
    "             \"gridcolor\": \"white\",\n",
    "             \"linecolor\": \"white\",\n",
    "             \"minorgridcolor\": \"white\",\n",
    "             \"startlinecolor\": \"#2a3f5f\"\n",
    "            },\n",
    "            \"baxis\": {\n",
    "             \"endlinecolor\": \"#2a3f5f\",\n",
    "             \"gridcolor\": \"white\",\n",
    "             \"linecolor\": \"white\",\n",
    "             \"minorgridcolor\": \"white\",\n",
    "             \"startlinecolor\": \"#2a3f5f\"\n",
    "            },\n",
    "            \"type\": \"carpet\"\n",
    "           }\n",
    "          ],\n",
    "          \"table\": [\n",
    "           {\n",
    "            \"cells\": {\n",
    "             \"fill\": {\n",
    "              \"color\": \"#EBF0F8\"\n",
    "             },\n",
    "             \"line\": {\n",
    "              \"color\": \"white\"\n",
    "             }\n",
    "            },\n",
    "            \"header\": {\n",
    "             \"fill\": {\n",
    "              \"color\": \"#C8D4E3\"\n",
    "             },\n",
    "             \"line\": {\n",
    "              \"color\": \"white\"\n",
    "             }\n",
    "            },\n",
    "            \"type\": \"table\"\n",
    "           }\n",
    "          ],\n",
    "          \"barpolar\": [\n",
    "           {\n",
    "            \"marker\": {\n",
    "             \"line\": {\n",
    "              \"color\": \"#E5ECF6\",\n",
    "              \"width\": 0.5\n",
    "             },\n",
    "             \"pattern\": {\n",
    "              \"fillmode\": \"overlay\",\n",
    "              \"size\": 10,\n",
    "              \"solidity\": 0.2\n",
    "             }\n",
    "            },\n",
    "            \"type\": \"barpolar\"\n",
    "           }\n",
    "          ],\n",
    "          \"pie\": [\n",
    "           {\n",
    "            \"automargin\": true,\n",
    "            \"type\": \"pie\"\n",
    "           }\n",
    "          ]\n",
    "         },\n",
    "         \"layout\": {\n",
    "          \"autotypenumbers\": \"strict\",\n",
    "          \"colorway\": [\n",
    "           \"#636efa\",\n",
    "           \"#EF553B\",\n",
    "           \"#00cc96\",\n",
    "           \"#ab63fa\",\n",
    "           \"#FFA15A\",\n",
    "           \"#19d3f3\",\n",
    "           \"#FF6692\",\n",
    "           \"#B6E880\",\n",
    "           \"#FF97FF\",\n",
    "           \"#FECB52\"\n",
    "          ],\n",
    "          \"font\": {\n",
    "           \"color\": \"#2a3f5f\"\n",
    "          },\n",
    "          \"hovermode\": \"closest\",\n",
    "          \"hoverlabel\": {\n",
    "           \"align\": \"left\"\n",
    "          },\n",
    "          \"paper_bgcolor\": \"white\",\n",
    "          \"plot_bgcolor\": \"#E5ECF6\",\n",
    "          \"polar\": {\n",
    "           \"bgcolor\": \"#E5ECF6\",\n",
    "           \"angularaxis\": {\n",
    "            \"gridcolor\": \"white\",\n",
    "            \"linecolor\": \"white\",\n",
    "            \"ticks\": \"\"\n",
    "           },\n",
    "           \"radialaxis\": {\n",
    "            \"gridcolor\": \"white\",\n",
    "            \"linecolor\": \"white\",\n",
    "            \"ticks\": \"\"\n",
    "           }\n",
    "          },\n",
    "          \"ternary\": {\n",
    "           \"bgcolor\": \"#E5ECF6\",\n",
    "           \"aaxis\": {\n",
    "            \"gridcolor\": \"white\",\n",
    "            \"linecolor\": \"white\",\n",
    "            \"ticks\": \"\"\n",
    "           },\n",
    "           \"baxis\": {\n",
    "            \"gridcolor\": \"white\",\n",
    "            \"linecolor\": \"white\",\n",
    "            \"ticks\": \"\"\n",
    "           },\n",
    "           \"caxis\": {\n",
    "            \"gridcolor\": \"white\",\n",
    "            \"linecolor\": \"white\",\n",
    "            \"ticks\": \"\"\n",
    "           }\n",
    "          },\n",
    "          \"coloraxis\": {\n",
    "           \"colorbar\": {\n",
    "            \"outlinewidth\": 0,\n",
    "            \"ticks\": \"\"\n",
    "           }\n",
    "          },\n",
    "          \"colorscale\": {\n",
    "           \"sequential\": [\n",
    "            [\n",
    "             0.0,\n",
    "             \"#0d0887\"\n",
    "            ],\n",
    "            [\n",
    "             0.1111111111111111,\n",
    "             \"#46039f\"\n",
    "            ],\n",
    "            [\n",
    "             0.2222222222222222,\n",
    "             \"#7201a8\"\n",
    "            ],\n",
    "            [\n",
    "             0.3333333333333333,\n",
    "             \"#9c179e\"\n",
    "            ],\n",
    "            [\n",
    "             0.4444444444444444,\n",
    "             \"#bd3786\"\n",
    "            ],\n",
    "            [\n",
    "             0.5555555555555556,\n",
    "             \"#d8576b\"\n",
    "            ],\n",
    "            [\n",
    "             0.6666666666666666,\n",
    "             \"#ed7953\"\n",
    "            ],\n",
    "            [\n",
    "             0.7777777777777778,\n",
    "             \"#fb9f3a\"\n",
    "            ],\n",
    "            [\n",
    "             0.8888888888888888,\n",
    "             \"#fdca26\"\n",
    "            ],\n",
    "            [\n",
    "             1.0,\n",
    "             \"#f0f921\"\n",
    "            ]\n",
    "           ],\n",
    "           \"sequentialminus\": [\n",
    "            [\n",
    "             0.0,\n",
    "             \"#0d0887\"\n",
    "            ],\n",
    "            [\n",
    "             0.1111111111111111,\n",
    "             \"#46039f\"\n",
    "            ],\n",
    "            [\n",
    "             0.2222222222222222,\n",
    "             \"#7201a8\"\n",
    "            ],\n",
    "            [\n",
    "             0.3333333333333333,\n",
    "             \"#9c179e\"\n",
    "            ],\n",
    "            [\n",
    "             0.4444444444444444,\n",
    "             \"#bd3786\"\n",
    "            ],\n",
    "            [\n",
    "             0.5555555555555556,\n",
    "             \"#d8576b\"\n",
    "            ],\n",
    "            [\n",
    "             0.6666666666666666,\n",
    "             \"#ed7953\"\n",
    "            ],\n",
    "            [\n",
    "             0.7777777777777778,\n",
    "             \"#fb9f3a\"\n",
    "            ],\n",
    "            [\n",
    "             0.8888888888888888,\n",
    "             \"#fdca26\"\n",
    "            ],\n",
    "            [\n",
    "             1.0,\n",
    "             \"#f0f921\"\n",
    "            ]\n",
    "           ],\n",
    "           \"diverging\": [\n",
    "            [\n",
    "             0,\n",
    "             \"#8e0152\"\n",
    "            ],\n",
    "            [\n",
    "             0.1,\n",
    "             \"#c51b7d\"\n",
    "            ],\n",
    "            [\n",
    "             0.2,\n",
    "             \"#de77ae\"\n",
    "            ],\n",
    "            [\n",
    "             0.3,\n",
    "             \"#f1b6da\"\n",
    "            ],\n",
    "            [\n",
    "             0.4,\n",
    "             \"#fde0ef\"\n",
    "            ],\n",
    "            [\n",
    "             0.5,\n",
    "             \"#f7f7f7\"\n",
    "            ],\n",
    "            [\n",
    "             0.6,\n",
    "             \"#e6f5d0\"\n",
    "            ],\n",
    "            [\n",
    "             0.7,\n",
    "             \"#b8e186\"\n",
    "            ],\n",
    "            [\n",
    "             0.8,\n",
    "             \"#7fbc41\"\n",
    "            ],\n",
    "            [\n",
    "             0.9,\n",
    "             \"#4d9221\"\n",
    "            ],\n",
    "            [\n",
    "             1,\n",
    "             \"#276419\"\n",
    "            ]\n",
    "           ]\n",
    "          },\n",
    "          \"xaxis\": {\n",
    "           \"gridcolor\": \"white\",\n",
    "           \"linecolor\": \"white\",\n",
    "           \"ticks\": \"\",\n",
    "           \"title\": {\n",
    "            \"standoff\": 15\n",
    "           },\n",
    "           \"zerolinecolor\": \"white\",\n",
    "           \"automargin\": true,\n",
    "           \"zerolinewidth\": 2\n",
    "          },\n",
    "          \"yaxis\": {\n",
    "           \"gridcolor\": \"white\",\n",
    "           \"linecolor\": \"white\",\n",
    "           \"ticks\": \"\",\n",
    "           \"title\": {\n",
    "            \"standoff\": 15\n",
    "           },\n",
    "           \"zerolinecolor\": \"white\",\n",
    "           \"automargin\": true,\n",
    "           \"zerolinewidth\": 2\n",
    "          },\n",
    "          \"scene\": {\n",
    "           \"xaxis\": {\n",
    "            \"backgroundcolor\": \"#E5ECF6\",\n",
    "            \"gridcolor\": \"white\",\n",
    "            \"linecolor\": \"white\",\n",
    "            \"showbackground\": true,\n",
    "            \"ticks\": \"\",\n",
    "            \"zerolinecolor\": \"white\",\n",
    "            \"gridwidth\": 2\n",
    "           },\n",
    "           \"yaxis\": {\n",
    "            \"backgroundcolor\": \"#E5ECF6\",\n",
    "            \"gridcolor\": \"white\",\n",
    "            \"linecolor\": \"white\",\n",
    "            \"showbackground\": true,\n",
    "            \"ticks\": \"\",\n",
    "            \"zerolinecolor\": \"white\",\n",
    "            \"gridwidth\": 2\n",
    "           },\n",
    "           \"zaxis\": {\n",
    "            \"backgroundcolor\": \"#E5ECF6\",\n",
    "            \"gridcolor\": \"white\",\n",
    "            \"linecolor\": \"white\",\n",
    "            \"showbackground\": true,\n",
    "            \"ticks\": \"\",\n",
    "            \"zerolinecolor\": \"white\",\n",
    "            \"gridwidth\": 2\n",
    "           }\n",
    "          },\n",
    "          \"shapedefaults\": {\n",
    "           \"line\": {\n",
    "            \"color\": \"#2a3f5f\"\n",
    "           }\n",
    "          },\n",
    "          \"annotationdefaults\": {\n",
    "           \"arrowcolor\": \"#2a3f5f\",\n",
    "           \"arrowhead\": 0,\n",
    "           \"arrowwidth\": 1\n",
    "          },\n",
    "          \"geo\": {\n",
    "           \"bgcolor\": \"white\",\n",
    "           \"landcolor\": \"#E5ECF6\",\n",
    "           \"subunitcolor\": \"white\",\n",
    "           \"showland\": true,\n",
    "           \"showlakes\": true,\n",
    "           \"lakecolor\": \"white\"\n",
    "          },\n",
    "          \"title\": {\n",
    "           \"x\": 0.05\n",
    "          },\n",
    "          \"mapbox\": {\n",
    "           \"style\": \"light\"\n",
    "          }\n",
    "         }\n",
    "        },\n",
    "        \"mapbox\": {\n",
    "         \"center\": {\n",
    "          \"lat\": 51.00473791118638,\n",
    "          \"lon\": 7.1792007548141\n",
    "         },\n",
    "         \"style\": \"open-street-map\",\n",
    "         \"zoom\": 11.994442449097702\n",
    "        },\n",
    "        \"margin\": {\n",
    "         \"r\": 0,\n",
    "         \"t\": 0,\n",
    "         \"l\": 0,\n",
    "         \"b\": 0\n",
    "        },\n",
    "        \"showlegend\": false\n",
    "       },\n",
    "       \"config\": {\n",
    "        \"plotlyServerURL\": \"https://plot.ly\"\n",
    "       }\n",
    "      }\n",
    "     },\n",
    "     \"metadata\": {},\n",
    "     \"output_type\": \"display_data\"\n",
    "    }\n",
    "   ],\n",
    "   \"execution_count\": 21\n",
    "  },\n",
    "  {\n",
    "   \"cell_type\": \"code\",\n",
    "   \"metadata\": {\n",
    "    \"ExecuteTime\": {\n",
    "     \"end_time\": \"2025-08-12T17:17:12.575596Z\",\n",
    "     \"start_time\": \"2025-08-12T17:17:12.542626Z\"\n",
    "    }\n",
    "   },\n",
    "   \"source\": [\n",
    "    \"# You can get a graph representation of the grid\\n\",\n",
    "    \"graph = grid.raw_grid.build_networkx_graph()\\n\",\n",
    "    \"# And a list of all the branches in the grid\\n\",\n",
    "    \"branches_list = grid.raw_grid.get_branches()\\n\",\n",
    "    \"branches_subgraphs = grid.raw_grid.get_branches(as_graphs=True)\\n\",\n",
    "    \"branches_list, branches_subgraphs\"\n",
    "   ],\n",
    "   \"outputs\": [\n",
    "    {\n",
    "     \"data\": {\n",
    "      \"text/plain\": [\n",
    "       \"([['6a4547a8-630b-46e4-8144-9cd649e67c07',\\n\",\n",
    "       \"   'b7a5be0d-2662-41b2-99c6-3b8121a75e9e',\\n\",\n",
    "       \"   '1dcddd06-f41a-405b-9686-7f7942852196',\\n\",\n",
    "       \"   'e3c3c6a3-c383-4dbb-9b3f-a14125615386']],\\n\",\n",
    "       \" [<networkx.classes.graph.Graph at 0x793323fdd790>])\"\n",
    "      ]\n",
    "     },\n",
    "     \"execution_count\": 22,\n",
    "     \"metadata\": {},\n",
    "     \"output_type\": \"execute_result\"\n",
    "    }\n",
    "   ],\n",
    "   \"source\": [\n",
    "    \"# NBVAL_IGNORE_OUTPUT\\n\",\n",
    "    \"# You can get a graph representation of the grid\\n\",\n",
    "    \"graph = grid.raw_grid.build_networkx_graph()\\n\",\n",
    "    \"# And a list of all the branches in the grid\\n\",\n",
    "    \"branches_list = grid.raw_grid.get_branches()\\n\",\n",
    "    \"branches_subgraphs = grid.raw_grid.get_branches(as_graphs=True)\\n\",\n",
    "    \"branches_list, branches_subgraphs\"\n",
    "   ]\n",
    "  },\n",
    "  {\n",
    "   \"cell_type\": \"code\",\n",
    "   \"metadata\": {\n",
    "    \"ExecuteTime\": {\n",
    "     \"end_time\": \"2025-08-12T17:17:12.618855Z\",\n",
    "     \"start_time\": \"2025-08-12T17:17:12.589209Z\"\n",
    "    }\n",
    "   },\n",
    "   \"source\": [\n",
    "       \"# NBVAL_IGNORE_OUTPUT\\n\",\n",
    "    \"# A grid container consists of a raw grid container\\n\",\n",
    "    \"raw_grid = grid.raw_grid\\n\",\n",
    "    \"# consisting of lines, transformers and so on\\n\",\n",
    "    \"lines = raw_grid.lines\\n\",\n",
    "    \"# and a participants container\\n\",\n",
    "    \"participants = grid.participants\\n\",\n",
    "    \"# consisting of loads, pv plants\\n\",\n",
    "    \"pvs = participants.pvs\\n\",\n",
    "    \"\\n\",\n",
    "    \"# You can also directly access the nested objects from the container classes\\n\",\n",
    "    \"pvs = grid.pvs\\n\",\n",
    "    \"\\n\",\n",
    "    \"# The base data structure of all input model is a pandas DataFrame accessible via .data\\n\",\n",
    "    \"pvs.data\"\n",
    "   ],\n",
    "   \"outputs\": [\n",
    "    {\n",
    "     \"data\": {\n",
    "      \"text/plain\": [\n",
    "       \"                                            id  operates_from  operates_until  \\\\\\n\",\n",
    "       \"uuid                                                                            \\n\",\n",
    "       \"35b25f11-434b-49c8-acba-797a986f52b4  PV_NS_02            NaN             NaN   \\n\",\n",
    "       \"d4f0ff3a-a44d-4ec9-9f23-a435acd8fbc9  PV_NS_03            NaN             NaN   \\n\",\n",
    "       \"718ac721-c577-4341-b1d0-f7545d56fa2d  PV_NS_04            NaN             NaN   \\n\",\n",
    "       \"\\n\",\n",
    "       \"                                      operator  \\\\\\n\",\n",
    "       \"uuid                                             \\n\",\n",
    "       \"35b25f11-434b-49c8-acba-797a986f52b4       NaN   \\n\",\n",
    "       \"d4f0ff3a-a44d-4ec9-9f23-a435acd8fbc9       NaN   \\n\",\n",
    "       \"718ac721-c577-4341-b1d0-f7545d56fa2d       NaN   \\n\",\n",
    "       \"\\n\",\n",
    "       \"                                                                      node  \\\\\\n\",\n",
    "       \"uuid                                                                         \\n\",\n",
    "       \"35b25f11-434b-49c8-acba-797a986f52b4  b7a5be0d-2662-41b2-99c6-3b8121a75e9e   \\n\",\n",
    "       \"d4f0ff3a-a44d-4ec9-9f23-a435acd8fbc9  1dcddd06-f41a-405b-9686-7f7942852196   \\n\",\n",
    "       \"718ac721-c577-4341-b1d0-f7545d56fa2d  e3c3c6a3-c383-4dbb-9b3f-a14125615386   \\n\",\n",
    "       \"\\n\",\n",
    "       \"                                             q_characteristics  s_rated  \\\\\\n\",\n",
    "       \"uuid                                                                      \\n\",\n",
    "       \"35b25f11-434b-49c8-acba-797a986f52b4  cosPhiFixed:{(0.0, 0.9)}        4   \\n\",\n",
    "       \"d4f0ff3a-a44d-4ec9-9f23-a435acd8fbc9  cosPhiFixed:{(0.0, 0.9)}        6   \\n\",\n",
    "       \"718ac721-c577-4341-b1d0-f7545d56fa2d  cosPhiFixed:{(0.0, 0.9)}       10   \\n\",\n",
    "       \"\\n\",\n",
    "       \"                                      albedo  azimuth  elevation_angle  \\\\\\n\",\n",
    "       \"uuid                                                                     \\n\",\n",
    "       \"35b25f11-434b-49c8-acba-797a986f52b4    0.21       90               40   \\n\",\n",
    "       \"d4f0ff3a-a44d-4ec9-9f23-a435acd8fbc9    0.21        0               45   \\n\",\n",
    "       \"718ac721-c577-4341-b1d0-f7545d56fa2d    0.21      -90               30   \\n\",\n",
    "       \"\\n\",\n",
    "       \"                                      eta_conv  k_g  k_t  market_reaction  \\\\\\n\",\n",
    "       \"uuid                                                                        \\n\",\n",
    "       \"35b25f11-434b-49c8-acba-797a986f52b4        97  0.9    1            False   \\n\",\n",
    "       \"d4f0ff3a-a44d-4ec9-9f23-a435acd8fbc9        97  0.9    1            False   \\n\",\n",
    "       \"718ac721-c577-4341-b1d0-f7545d56fa2d        97  0.9    1            False   \\n\",\n",
    "       \"\\n\",\n",
    "       \"                                      cos_phi_rated  \\\\\\n\",\n",
    "       \"uuid                                                  \\n\",\n",
    "       \"35b25f11-434b-49c8-acba-797a986f52b4            0.9   \\n\",\n",
    "       \"d4f0ff3a-a44d-4ec9-9f23-a435acd8fbc9            0.9   \\n\",\n",
    "       \"718ac721-c577-4341-b1d0-f7545d56fa2d            0.9   \\n\",\n",
    "       \"\\n\",\n",
    "       \"                                                            controlling_em  \\n\",\n",
    "       \"uuid                                                                        \\n\",\n",
    "       \"35b25f11-434b-49c8-acba-797a986f52b4  db1a151e-8e52-4b4d-8600-0fcd827d3e77  \\n\",\n",
    "       \"d4f0ff3a-a44d-4ec9-9f23-a435acd8fbc9  d9571711-9cf7-4bad-bc15-c1879841892f  \\n\",\n",
    "       \"718ac721-c577-4341-b1d0-f7545d56fa2d  e4c3c9a7-6c4e-4908-b537-3247f59eff1c  \"\n",
    "      ],\n",
    "      \"text/html\": [\n",
    "       \"<div>\\n\",\n",
    "       \"<style scoped>\\n\",\n",
    "       \"    .dataframe tbody tr th:only-of-type {\\n\",\n",
    "       \"        vertical-align: middle;\\n\",\n",
    "       \"    }\\n\",\n",
    "       \"\\n\",\n",
    "       \"    .dataframe tbody tr th {\\n\",\n",
    "       \"        vertical-align: top;\\n\",\n",
    "       \"    }\\n\",\n",
    "       \"\\n\",\n",
    "       \"    .dataframe thead th {\\n\",\n",
    "       \"        text-align: right;\\n\",\n",
    "       \"    }\\n\",\n",
    "       \"</style>\\n\",\n",
    "       \"<table border=\\\"1\\\" class=\\\"dataframe\\\">\\n\",\n",
    "       \"  <thead>\\n\",\n",
    "       \"    <tr style=\\\"text-align: right;\\\">\\n\",\n",
    "       \"      <th></th>\\n\",\n",
    "       \"      <th>id</th>\\n\",\n",
    "       \"      <th>operates_from</th>\\n\",\n",
    "       \"      <th>operates_until</th>\\n\",\n",
    "       \"      <th>operator</th>\\n\",\n",
    "       \"      <th>node</th>\\n\",\n",
    "       \"      <th>q_characteristics</th>\\n\",\n",
    "       \"      <th>s_rated</th>\\n\",\n",
    "       \"      <th>albedo</th>\\n\",\n",
    "       \"      <th>azimuth</th>\\n\",\n",
    "       \"      <th>elevation_angle</th>\\n\",\n",
    "       \"      <th>eta_conv</th>\\n\",\n",
    "       \"      <th>k_g</th>\\n\",\n",
    "       \"      <th>k_t</th>\\n\",\n",
    "       \"      <th>market_reaction</th>\\n\",\n",
    "       \"      <th>cos_phi_rated</th>\\n\",\n",
    "       \"      <th>controlling_em</th>\\n\",\n",
    "       \"    </tr>\\n\",\n",
    "       \"    <tr>\\n\",\n",
    "       \"      <th>uuid</th>\\n\",\n",
    "       \"      <th></th>\\n\",\n",
    "       \"      <th></th>\\n\",\n",
    "       \"      <th></th>\\n\",\n",
    "       \"      <th></th>\\n\",\n",
    "       \"      <th></th>\\n\",\n",
    "       \"      <th></th>\\n\",\n",
    "       \"      <th></th>\\n\",\n",
    "       \"      <th></th>\\n\",\n",
    "       \"      <th></th>\\n\",\n",
    "       \"      <th></th>\\n\",\n",
    "       \"      <th></th>\\n\",\n",
    "       \"      <th></th>\\n\",\n",
    "       \"      <th></th>\\n\",\n",
    "       \"      <th></th>\\n\",\n",
    "       \"      <th></th>\\n\",\n",
    "       \"      <th></th>\\n\",\n",
    "       \"    </tr>\\n\",\n",
    "       \"  </thead>\\n\",\n",
    "       \"  <tbody>\\n\",\n",
    "       \"    <tr>\\n\",\n",
    "       \"      <th>35b25f11-434b-49c8-acba-797a986f52b4</th>\\n\",\n",
    "       \"      <td>PV_NS_02</td>\\n\",\n",
    "       \"      <td>NaN</td>\\n\",\n",
    "       \"      <td>NaN</td>\\n\",\n",
    "       \"      <td>NaN</td>\\n\",\n",
    "       \"      <td>b7a5be0d-2662-41b2-99c6-3b8121a75e9e</td>\\n\",\n",
    "       \"      <td>cosPhiFixed:{(0.0, 0.9)}</td>\\n\",\n",
    "       \"      <td>4</td>\\n\",\n",
    "       \"      <td>0.21</td>\\n\",\n",
    "       \"      <td>90</td>\\n\",\n",
    "       \"      <td>40</td>\\n\",\n",
    "       \"      <td>97</td>\\n\",\n",
    "       \"      <td>0.9</td>\\n\",\n",
    "       \"      <td>1</td>\\n\",\n",
    "       \"      <td>False</td>\\n\",\n",
    "       \"      <td>0.9</td>\\n\",\n",
    "       \"      <td>db1a151e-8e52-4b4d-8600-0fcd827d3e77</td>\\n\",\n",
    "       \"    </tr>\\n\",\n",
    "       \"    <tr>\\n\",\n",
    "       \"      <th>d4f0ff3a-a44d-4ec9-9f23-a435acd8fbc9</th>\\n\",\n",
    "       \"      <td>PV_NS_03</td>\\n\",\n",
    "       \"      <td>NaN</td>\\n\",\n",
    "       \"      <td>NaN</td>\\n\",\n",
    "       \"      <td>NaN</td>\\n\",\n",
    "       \"      <td>1dcddd06-f41a-405b-9686-7f7942852196</td>\\n\",\n",
    "       \"      <td>cosPhiFixed:{(0.0, 0.9)}</td>\\n\",\n",
    "       \"      <td>6</td>\\n\",\n",
    "       \"      <td>0.21</td>\\n\",\n",
    "       \"      <td>0</td>\\n\",\n",
    "       \"      <td>45</td>\\n\",\n",
    "       \"      <td>97</td>\\n\",\n",
    "       \"      <td>0.9</td>\\n\",\n",
    "       \"      <td>1</td>\\n\",\n",
    "       \"      <td>False</td>\\n\",\n",
    "       \"      <td>0.9</td>\\n\",\n",
    "       \"      <td>d9571711-9cf7-4bad-bc15-c1879841892f</td>\\n\",\n",
    "       \"    </tr>\\n\",\n",
    "       \"    <tr>\\n\",\n",
    "       \"      <th>718ac721-c577-4341-b1d0-f7545d56fa2d</th>\\n\",\n",
    "       \"      <td>PV_NS_04</td>\\n\",\n",
    "       \"      <td>NaN</td>\\n\",\n",
    "       \"      <td>NaN</td>\\n\",\n",
    "       \"      <td>NaN</td>\\n\",\n",
    "       \"      <td>e3c3c6a3-c383-4dbb-9b3f-a14125615386</td>\\n\",\n",
    "       \"      <td>cosPhiFixed:{(0.0, 0.9)}</td>\\n\",\n",
    "       \"      <td>10</td>\\n\",\n",
    "       \"      <td>0.21</td>\\n\",\n",
    "       \"      <td>-90</td>\\n\",\n",
    "       \"      <td>30</td>\\n\",\n",
    "       \"      <td>97</td>\\n\",\n",
    "       \"      <td>0.9</td>\\n\",\n",
    "       \"      <td>1</td>\\n\",\n",
    "       \"      <td>False</td>\\n\",\n",
    "       \"      <td>0.9</td>\\n\",\n",
    "       \"      <td>e4c3c9a7-6c4e-4908-b537-3247f59eff1c</td>\\n\",\n",
    "       \"    </tr>\\n\",\n",
    "       \"  </tbody>\\n\",\n",
    "       \"</table>\\n\",\n",
    "       \"</div>\"\n",
    "      ]\n",
    "     },\n",
    "     \"execution_count\": 23,\n",
    "     \"metadata\": {},\n",
    "     \"output_type\": \"execute_result\"\n",
    "    }\n",
    "   ],\n",
    "   \"execution_count\": 23\n",
    "  },\n",
    "  {\n",
    "   \"cell_type\": \"code\",\n",
    "   \"metadata\": {\n",
    "    \"ExecuteTime\": {\n",
    "     \"end_time\": \"2025-08-12T17:17:12.661689Z\",\n",
    "     \"start_time\": \"2025-08-12T17:17:12.639427Z\"\n",
    "    }\n",
    "   },\n",
    "   \"source\": [\n",
    "    \"# You can access the columns via the data frame\\n\",\n",
    "    \"pvs.data[\\\"s_rated\\\"]\"\n",
    "   ],\n",
    "   \"outputs\": [\n",
    "    {\n",
    "     \"data\": {\n",
    "      \"text/plain\": [\n",
    "       \"uuid\\n\",\n",
    "       \"35b25f11-434b-49c8-acba-797a986f52b4     4\\n\",\n",
    "       \"d4f0ff3a-a44d-4ec9-9f23-a435acd8fbc9     6\\n\",\n",
    "       \"718ac721-c577-4341-b1d0-f7545d56fa2d    10\\n\",\n",
    "       \"Name: s_rated, dtype: int64\"\n",
    "      ]\n",
    "     },\n",
    "     \"execution_count\": 24,\n",
    "     \"metadata\": {},\n",
    "     \"output_type\": \"execute_result\"\n",
    "    }\n",
    "   ],\n",
    "   \"execution_count\": 24\n",
    "  },\n",
    "  {\n",
    "   \"cell_type\": \"code\",\n",
    "   \"metadata\": {\n",
    "    \"ExecuteTime\": {\n",
    "     \"end_time\": \"2025-08-12T17:17:12.715348Z\",\n",
    "     \"start_time\": \"2025-08-12T17:17:12.686303Z\"\n",
    "    }\n",
    "   },\n",
    "   \"source\": [\n",
    "    \"# or directly via the property attribute of the class\\n\",\n",
    "    \"pvs.s_rated\"\n",
    "   ],\n",
    "   \"outputs\": [\n",
    "    {\n",
    "     \"data\": {\n",
    "      \"text/plain\": [\n",
    "       \"uuid\\n\",\n",
    "       \"35b25f11-434b-49c8-acba-797a986f52b4     4\\n\",\n",
    "       \"d4f0ff3a-a44d-4ec9-9f23-a435acd8fbc9     6\\n\",\n",
    "       \"718ac721-c577-4341-b1d0-f7545d56fa2d    10\\n\",\n",
    "       \"Name: s_rated, dtype: int64\"\n",
    "      ]\n",
    "     },\n",
    "     \"execution_count\": 25,\n",
    "     \"metadata\": {},\n",
    "     \"output_type\": \"execute_result\"\n",
    "    }\n",
    "   ],\n",
    "   \"execution_count\": 25\n",
    "  },\n",
    "  {\n",
    "   \"cell_type\": \"code\",\n",
    "   \"metadata\": {\n",
    "    \"ExecuteTime\": {\n",
    "     \"end_time\": \"2025-08-12T17:17:12.787361Z\",\n",
    "     \"start_time\": \"2025-08-12T17:17:12.735393Z\"\n",
    "    }\n",
    "   },\n",
    "   \"source\": [\n",
    "       \"# NBVAL_IGNORE_OUTPUT\\n\",\n",
    "    \"# The respective classes implement some useful methods for dealing with the data\\n\",\n",
    "    \"# e.g. retrieve all elements connected to one or multiple specified nodes\\n\",\n",
    "    \"# (Please check out the classes to see all the implemented methods)\\n\",\n",
    "    \"nodal_participants = participants.filter_by_nodes(grid.nodes.uuid.to_list()[::2])\\n\",\n",
    "    \"nodal_participants.pvs.data\"\n",
    "   ],\n",
    "   \"outputs\": [\n",
    "    {\n",
    "     \"data\": {\n",
    "      \"text/plain\": [\n",
    "       \"                                            id  operates_from  operates_until  \\\\\\n\",\n",
    "       \"uuid                                                                            \\n\",\n",
    "       \"35b25f11-434b-49c8-acba-797a986f52b4  PV_NS_02            NaN             NaN   \\n\",\n",
    "       \"718ac721-c577-4341-b1d0-f7545d56fa2d  PV_NS_04            NaN             NaN   \\n\",\n",
    "       \"\\n\",\n",
    "       \"                                      operator  \\\\\\n\",\n",
    "       \"uuid                                             \\n\",\n",
    "       \"35b25f11-434b-49c8-acba-797a986f52b4       NaN   \\n\",\n",
    "       \"718ac721-c577-4341-b1d0-f7545d56fa2d       NaN   \\n\",\n",
    "       \"\\n\",\n",
    "       \"                                                                      node  \\\\\\n\",\n",
    "       \"uuid                                                                         \\n\",\n",
    "       \"35b25f11-434b-49c8-acba-797a986f52b4  b7a5be0d-2662-41b2-99c6-3b8121a75e9e   \\n\",\n",
    "       \"718ac721-c577-4341-b1d0-f7545d56fa2d  e3c3c6a3-c383-4dbb-9b3f-a14125615386   \\n\",\n",
    "       \"\\n\",\n",
    "       \"                                             q_characteristics  s_rated  \\\\\\n\",\n",
    "       \"uuid                                                                      \\n\",\n",
    "       \"35b25f11-434b-49c8-acba-797a986f52b4  cosPhiFixed:{(0.0, 0.9)}        4   \\n\",\n",
    "       \"718ac721-c577-4341-b1d0-f7545d56fa2d  cosPhiFixed:{(0.0, 0.9)}       10   \\n\",\n",
    "       \"\\n\",\n",
    "       \"                                      albedo  azimuth  elevation_angle  \\\\\\n\",\n",
    "       \"uuid                                                                     \\n\",\n",
    "       \"35b25f11-434b-49c8-acba-797a986f52b4    0.21       90               40   \\n\",\n",
    "       \"718ac721-c577-4341-b1d0-f7545d56fa2d    0.21      -90               30   \\n\",\n",
    "       \"\\n\",\n",
    "       \"                                      eta_conv  k_g  k_t  market_reaction  \\\\\\n\",\n",
    "       \"uuid                                                                        \\n\",\n",
    "       \"35b25f11-434b-49c8-acba-797a986f52b4        97  0.9    1            False   \\n\",\n",
    "       \"718ac721-c577-4341-b1d0-f7545d56fa2d        97  0.9    1            False   \\n\",\n",
    "       \"\\n\",\n",
    "       \"                                      cos_phi_rated  \\\\\\n\",\n",
    "       \"uuid                                                  \\n\",\n",
    "       \"35b25f11-434b-49c8-acba-797a986f52b4            0.9   \\n\",\n",
    "       \"718ac721-c577-4341-b1d0-f7545d56fa2d            0.9   \\n\",\n",
    "       \"\\n\",\n",
    "       \"                                                            controlling_em  \\n\",\n",
    "       \"uuid                                                                        \\n\",\n",
    "       \"35b25f11-434b-49c8-acba-797a986f52b4  db1a151e-8e52-4b4d-8600-0fcd827d3e77  \\n\",\n",
    "       \"718ac721-c577-4341-b1d0-f7545d56fa2d  e4c3c9a7-6c4e-4908-b537-3247f59eff1c  \"\n",
    "      ],\n",
    "      \"text/html\": [\n",
    "       \"<div>\\n\",\n",
    "       \"<style scoped>\\n\",\n",
    "       \"    .dataframe tbody tr th:only-of-type {\\n\",\n",
    "       \"        vertical-align: middle;\\n\",\n",
    "       \"    }\\n\",\n",
    "       \"\\n\",\n",
    "       \"    .dataframe tbody tr th {\\n\",\n",
    "       \"        vertical-align: top;\\n\",\n",
    "       \"    }\\n\",\n",
    "       \"\\n\",\n",
    "       \"    .dataframe thead th {\\n\",\n",
    "       \"        text-align: right;\\n\",\n",
    "       \"    }\\n\",\n",
    "       \"</style>\\n\",\n",
    "       \"<table border=\\\"1\\\" class=\\\"dataframe\\\">\\n\",\n",
    "       \"  <thead>\\n\",\n",
    "       \"    <tr style=\\\"text-align: right;\\\">\\n\",\n",
    "       \"      <th></th>\\n\",\n",
    "       \"      <th>id</th>\\n\",\n",
    "       \"      <th>operates_from</th>\\n\",\n",
    "       \"      <th>operates_until</th>\\n\",\n",
    "       \"      <th>operator</th>\\n\",\n",
    "       \"      <th>node</th>\\n\",\n",
    "       \"      <th>q_characteristics</th>\\n\",\n",
    "       \"      <th>s_rated</th>\\n\",\n",
    "       \"      <th>albedo</th>\\n\",\n",
    "       \"      <th>azimuth</th>\\n\",\n",
    "       \"      <th>elevation_angle</th>\\n\",\n",
    "       \"      <th>eta_conv</th>\\n\",\n",
    "       \"      <th>k_g</th>\\n\",\n",
    "       \"      <th>k_t</th>\\n\",\n",
    "       \"      <th>market_reaction</th>\\n\",\n",
    "       \"      <th>cos_phi_rated</th>\\n\",\n",
    "       \"      <th>controlling_em</th>\\n\",\n",
    "       \"    </tr>\\n\",\n",
    "       \"    <tr>\\n\",\n",
    "       \"      <th>uuid</th>\\n\",\n",
    "       \"      <th></th>\\n\",\n",
    "       \"      <th></th>\\n\",\n",
    "       \"      <th></th>\\n\",\n",
    "       \"      <th></th>\\n\",\n",
    "       \"      <th></th>\\n\",\n",
    "       \"      <th></th>\\n\",\n",
    "       \"      <th></th>\\n\",\n",
    "       \"      <th></th>\\n\",\n",
    "       \"      <th></th>\\n\",\n",
    "       \"      <th></th>\\n\",\n",
    "       \"      <th></th>\\n\",\n",
    "       \"      <th></th>\\n\",\n",
    "       \"      <th></th>\\n\",\n",
    "       \"      <th></th>\\n\",\n",
    "       \"      <th></th>\\n\",\n",
    "       \"      <th></th>\\n\",\n",
    "       \"      <th></th>\\n\",\n",
    "       \"    </tr>\\n\",\n",
    "       \"  </thead>\\n\",\n",
    "       \"  <tbody>\\n\",\n",
    "       \"    <tr>\\n\",\n",
    "       \"      <th>35b25f11-434b-49c8-acba-797a986f52b4</th>\\n\",\n",
    "       \"      <td>PV_NS_02</td>\\n\",\n",
    "       \"      <td>NaN</td>\\n\",\n",
    "       \"      <td>NaN</td>\\n\",\n",
    "       \"      <td>NaN</td>\\n\",\n",
    "       \"      <td>b7a5be0d-2662-41b2-99c6-3b8121a75e9e</td>\\n\",\n",
    "       \"      <td>cosPhiFixed:{(0.0, 0.9)}</td>\\n\",\n",
    "       \"      <td>4</td>\\n\",\n",
    "       \"      <td>0.21</td>\\n\",\n",
    "       \"      <td>90</td>\\n\",\n",
    "       \"      <td>40</td>\\n\",\n",
    "       \"      <td>97</td>\\n\",\n",
    "       \"      <td>0.9</td>\\n\",\n",
    "       \"      <td>1</td>\\n\",\n",
    "       \"      <td>False</td>\\n\",\n",
    "       \"      <td>0.9</td>\\n\",\n",
    "       \"      <td>db1a151e-8e52-4b4d-8600-0fcd827d3e77</td>\\n\",\n",
    "       \"    </tr>\\n\",\n",
    "       \"    <tr>\\n\",\n",
    "       \"      <th>718ac721-c577-4341-b1d0-f7545d56fa2d</th>\\n\",\n",
    "       \"      <td>PV_NS_04</td>\\n\",\n",
    "       \"      <td>NaN</td>\\n\",\n",
    "       \"      <td>NaN</td>\\n\",\n",
    "       \"      <td>NaN</td>\\n\",\n",
    "       \"      <td>e3c3c6a3-c383-4dbb-9b3f-a14125615386</td>\\n\",\n",
    "       \"      <td>cosPhiFixed:{(0.0, 0.9)}</td>\\n\",\n",
    "       \"      <td>10</td>\\n\",\n",
    "       \"      <td>0.21</td>\\n\",\n",
    "       \"      <td>-90</td>\\n\",\n",
    "       \"      <td>30</td>\\n\",\n",
    "       \"      <td>97</td>\\n\",\n",
    "       \"      <td>0.9</td>\\n\",\n",
    "       \"      <td>1</td>\\n\",\n",
    "       \"      <td>False</td>\\n\",\n",
    "       \"      <td>0.9</td>\\n\",\n",
    "       \"      <td>e4c3c9a7-6c4e-4908-b537-3247f59eff1c</td>\\n\",\n",
    "       \"    </tr>\\n\",\n",
    "       \"  </tbody>\\n\",\n",
    "       \"</table>\\n\",\n",
    "       \"</div>\"\n",
    "      ]\n",
    "     },\n",
    "     \"execution_count\": 26,\n",
    "     \"metadata\": {},\n",
    "     \"output_type\": \"execute_result\"\n",
    "    }\n",
    "   ],\n",
    "   \"execution_count\": 26\n",
    "  },\n",
    "  {\n",
    "   \"cell_type\": \"code\",\n",
    "   \"metadata\": {\n",
    "    \"ExecuteTime\": {\n",
    "     \"end_time\": \"2025-08-12T17:17:13.058337Z\",\n",
    "     \"start_time\": \"2025-08-12T17:17:12.794784Z\"\n",
    "    }\n",
    "   },\n",
    "   \"source\": [\n",
    "    \"# NBVAL_IGNORE_OUTPUT\\n\",\n",
    "    \"from tempfile import TemporaryDirectory\\n\",\n",
    "    \"\\n\",\n",
    "    \"# You can write data models with their respective to_csv method\\n\",\n",
    "    \"with TemporaryDirectory() as temp_dir:\\n\",\n",
    "    \"    grid.to_csv(temp_dir)\\n\",\n",
    "    \"    grid_from_csv = GridContainer.from_csv(temp_dir)\\n\",\n",
    "    \"\\n\",\n",
    "    \"    grid.compare(grid_from_csv)\\n\",\n",
    "    \"    assert grid.raw_grid.nodes == grid_from_csv.raw_grid.nodes\\n\",\n",
    "    \"    assert grid.loads == grid_from_csv.loads\\n\",\n",
    "    \"    # the == operator is overloaded to compare the underlying dataframes\\n\",\n",
    "    \"    assert grid == grid_from_csv\"\n",
    "   ],\n",
    "   \"outputs\": [\n",
    "    {\n",
    "     \"name\": \"stderr\",\n",
    "     \"output_type\": \"stream\",\n",
    "     \"text\": [\n",
    "      \"\\u001B[32m2025-08-12 19:17:12.954\\u001B[0m | \\u001B[34m\\u001B[1mDEBUG   \\u001B[0m | \\u001B[36mpypsdm.models.primary_data\\u001B[0m:\\u001B[36mfrom_csv\\u001B[0m:\\u001B[36m273\\u001B[0m - \\u001B[34m\\u001B[1mNo primary data in path /tmp/tmplnxfgc6t\\u001B[0m\\n\"\n",
    "     ]\n",
    "    }\n",
    "   ],\n",
    "   \"execution_count\": 27\n",
    "  }\n",
    " ],\n",
    " \"metadata\": {\n",
    "  \"kernelspec\": {\n",
    "   \"display_name\": \"pypsdm-sJkpnJQv-py3.11\",\n",
    "   \"language\": \"python\",\n",
    "   \"name\": \"python3\"\n",
    "  },\n",
    "  \"language_info\": {\n",
    "   \"codemirror_mode\": {\n",
    "    \"name\": \"ipython\",\n",
    "    \"version\": 3\n",
    "   },\n",
    "   \"file_extension\": \".py\",\n",
    "   \"mimetype\": \"text/x-python\",\n",
    "   \"name\": \"python\",\n",
    "   \"nbconvert_exporter\": \"python\",\n",
    "   \"pygments_lexer\": \"ipython3\",\n",
    "   \"version\": \"3.11.5\"\n",
    "  }\n",
    " },\n",
    " \"nbformat\": 4,\n",
    " \"nbformat_minor\": 2\n",
    "}\n"
   ]
  },
  {
   "cell_type": "code",
   "execution_count": null,
   "metadata": {},
   "outputs": [
    {
     "data": {
      "application/vnd.plotly.v1+json": {
       "config": {
        "plotlyServerURL": "https://plot.ly"
       },
       "data": [
        {
         "hoverinfo": "skip",
         "lat": [
          51.00473924277929,
          51.00474261837189
         ],
         "line": {
          "color": "#1ac938"
         },
         "lon": [
          7.178732983051468,
          7.18043886801018
         ],
         "mode": "lines",
         "type": "scattermapbox"
        },
        {
         "hoverinfo": "text",
         "hovertext": "LTG_NS_02-NS_03",
         "lat": [
          51.00474093057559
         ],
         "lon": [
          7.179585925530824
         ],
         "marker": {
          "color": "#1ac938",
          "opacity": 0,
          "size": 0
         },
         "mode": "markers",
         "type": "scattermapbox"
        },
        {
         "hoverinfo": "skip",
         "lat": [
          51.00489119159423,
          51.00473924277929
         ],
         "line": {
          "color": "#1ac938"
         },
         "lon": [
          7.177091457368853,
          7.178732983051468
         ],
         "mode": "lines",
         "type": "scattermapbox"
        },
        {
         "hoverinfo": "text",
         "hovertext": "LTG_NS_01-NS_02",
         "lat": [
          51.00481521718676
         ],
         "lon": [
          7.17791222021016
         ],
         "marker": {
          "color": "#1ac938",
          "opacity": 0,
          "size": 0
         },
         "mode": "markers",
         "type": "scattermapbox"
        },
        {
         "hoverinfo": "skip",
         "lat": [
          51.00474261837189,
          51.00442531159225
         ],
         "line": {
          "color": "#1ac938"
         },
         "lon": [
          7.18043886801018,
          7.1826490082711505
         ],
         "mode": "lines",
         "type": "scattermapbox"
        },
        {
         "hoverinfo": "text",
         "hovertext": "LTG_NS_03-NS_04",
         "lat": [
          51.004583964982075
         ],
         "lon": [
          7.181543938140665
         ],
         "marker": {
          "color": "#1ac938",
          "opacity": 0,
          "size": 0
         },
         "mode": "markers",
         "type": "scattermapbox"
        },
        {
         "hoverinfo": "text",
         "hovertext": [
          "MS_01<br>df97c0d1-379b-417a-a473-8e7fe37da99d<br>",
          "NS_01<br>6a4547a8-630b-46e4-8144-9cd649e67c07<br>",
          "NS_02<br>b7a5be0d-2662-41b2-99c6-3b8121a75e9e<br>em=Count: 1<br>load=Count: 1, Rated Power: 3 kw<br>pv=Count: 1, Rated Power: 4 kw<br>storage=Count: 1, Rated Power: 3.0 kw<br>ev=Count: 1, Rated Power: 10 kw<br>evcs=Count: 1<br>hp=Count: 1, Rated Power: 4 kw",
          "NS_03<br>1dcddd06-f41a-405b-9686-7f7942852196<br>em=Count: 1<br>load=Count: 1, Rated Power: 3 kw<br>pv=Count: 1, Rated Power: 6 kw<br>storage=Count: 1, Rated Power: 4.5 kw<br>ev=Count: 1, Rated Power: 10 kw<br>evcs=Count: 1<br>hp=Count: 1, Rated Power: 3 kw",
          "NS_04<br>e3c3c6a3-c383-4dbb-9b3f-a14125615386<br>em=Count: 1<br>load=Count: 1, Rated Power: 3 kw<br>pv=Count: 1, Rated Power: 10 kw<br>storage=Count: 1, Rated Power: 7.5 kw<br>ev=Count: 1, Rated Power: 20 kw<br>evcs=Count: 1<br>hp=Count: 1, Rated Power: 6 kw"
         ],
         "lat": {
          "bdata": "xfdJRqCASUDF90lGoIBJQFdfpkubgElAAGf3Z5uASUAbSDQCkYBJQA==",
          "dtype": "f8"
         },
         "lon": {
          "bdata": "aDOHdle1HEBoM4d2V7UcQLiwc8cFtxxAuh9098S4HECKr3RXCLscQA==",
          "dtype": "f8"
         },
         "marker": {
          "color": "#023eff",
          "size": 6
         },
         "mode": "markers",
         "text": [
          "MS_01<br>df97c0d1-379b-417a-a473-8e7fe37da99d<br>",
          "NS_01<br>6a4547a8-630b-46e4-8144-9cd649e67c07<br>",
          "NS_02<br>b7a5be0d-2662-41b2-99c6-3b8121a75e9e<br>em=Count: 1<br>load=Count: 1, Rated Power: 3 kw<br>pv=Count: 1, Rated Power: 4 kw<br>storage=Count: 1, Rated Power: 3.0 kw<br>ev=Count: 1, Rated Power: 10 kw<br>evcs=Count: 1<br>hp=Count: 1, Rated Power: 4 kw",
          "NS_03<br>1dcddd06-f41a-405b-9686-7f7942852196<br>em=Count: 1<br>load=Count: 1, Rated Power: 3 kw<br>pv=Count: 1, Rated Power: 6 kw<br>storage=Count: 1, Rated Power: 4.5 kw<br>ev=Count: 1, Rated Power: 10 kw<br>evcs=Count: 1<br>hp=Count: 1, Rated Power: 3 kw",
          "NS_04<br>e3c3c6a3-c383-4dbb-9b3f-a14125615386<br>em=Count: 1<br>load=Count: 1, Rated Power: 3 kw<br>pv=Count: 1, Rated Power: 10 kw<br>storage=Count: 1, Rated Power: 7.5 kw<br>ev=Count: 1, Rated Power: 20 kw<br>evcs=Count: 1<br>hp=Count: 1, Rated Power: 6 kw"
         ],
         "type": "scattermapbox"
        }
       ],
       "layout": {
        "mapbox": {
         "center": {
          "lat": 51.00473791118638,
          "lon": 7.1792007548141
         },
         "style": "open-street-map",
         "zoom": 11.994442449097702
        },
        "margin": {
         "b": 0,
         "l": 0,
         "r": 0,
         "t": 0
        },
        "showlegend": false,
        "template": {
         "data": {
          "bar": [
           {
            "error_x": {
             "color": "#2a3f5f"
            },
            "error_y": {
             "color": "#2a3f5f"
            },
            "marker": {
             "line": {
              "color": "#E5ECF6",
              "width": 0.5
             },
             "pattern": {
              "fillmode": "overlay",
              "size": 10,
              "solidity": 0.2
             }
            },
            "type": "bar"
           }
          ],
          "barpolar": [
           {
            "marker": {
             "line": {
              "color": "#E5ECF6",
              "width": 0.5
             },
             "pattern": {
              "fillmode": "overlay",
              "size": 10,
              "solidity": 0.2
             }
            },
            "type": "barpolar"
           }
          ],
          "carpet": [
           {
            "aaxis": {
             "endlinecolor": "#2a3f5f",
             "gridcolor": "white",
             "linecolor": "white",
             "minorgridcolor": "white",
             "startlinecolor": "#2a3f5f"
            },
            "baxis": {
             "endlinecolor": "#2a3f5f",
             "gridcolor": "white",
             "linecolor": "white",
             "minorgridcolor": "white",
             "startlinecolor": "#2a3f5f"
            },
            "type": "carpet"
           }
          ],
          "choropleth": [
           {
            "colorbar": {
             "outlinewidth": 0,
             "ticks": ""
            },
            "type": "choropleth"
           }
          ],
          "contour": [
           {
            "colorbar": {
             "outlinewidth": 0,
             "ticks": ""
            },
            "colorscale": [
             [
              0.0,
              "#0d0887"
             ],
             [
              0.1111111111111111,
              "#46039f"
             ],
             [
              0.2222222222222222,
              "#7201a8"
             ],
             [
              0.3333333333333333,
              "#9c179e"
             ],
             [
              0.4444444444444444,
              "#bd3786"
             ],
             [
              0.5555555555555556,
              "#d8576b"
             ],
             [
              0.6666666666666666,
              "#ed7953"
             ],
             [
              0.7777777777777778,
              "#fb9f3a"
             ],
             [
              0.8888888888888888,
              "#fdca26"
             ],
             [
              1.0,
              "#f0f921"
             ]
            ],
            "type": "contour"
           }
          ],
          "contourcarpet": [
           {
            "colorbar": {
             "outlinewidth": 0,
             "ticks": ""
            },
            "type": "contourcarpet"
           }
          ],
          "heatmap": [
           {
            "colorbar": {
             "outlinewidth": 0,
             "ticks": ""
            },
            "colorscale": [
             [
              0.0,
              "#0d0887"
             ],
             [
              0.1111111111111111,
              "#46039f"
             ],
             [
              0.2222222222222222,
              "#7201a8"
             ],
             [
              0.3333333333333333,
              "#9c179e"
             ],
             [
              0.4444444444444444,
              "#bd3786"
             ],
             [
              0.5555555555555556,
              "#d8576b"
             ],
             [
              0.6666666666666666,
              "#ed7953"
             ],
             [
              0.7777777777777778,
              "#fb9f3a"
             ],
             [
              0.8888888888888888,
              "#fdca26"
             ],
             [
              1.0,
              "#f0f921"
             ]
            ],
            "type": "heatmap"
           }
          ],
          "histogram": [
           {
            "marker": {
             "pattern": {
              "fillmode": "overlay",
              "size": 10,
              "solidity": 0.2
             }
            },
            "type": "histogram"
           }
          ],
          "histogram2d": [
           {
            "colorbar": {
             "outlinewidth": 0,
             "ticks": ""
            },
            "colorscale": [
             [
              0.0,
              "#0d0887"
             ],
             [
              0.1111111111111111,
              "#46039f"
             ],
             [
              0.2222222222222222,
              "#7201a8"
             ],
             [
              0.3333333333333333,
              "#9c179e"
             ],
             [
              0.4444444444444444,
              "#bd3786"
             ],
             [
              0.5555555555555556,
              "#d8576b"
             ],
             [
              0.6666666666666666,
              "#ed7953"
             ],
             [
              0.7777777777777778,
              "#fb9f3a"
             ],
             [
              0.8888888888888888,
              "#fdca26"
             ],
             [
              1.0,
              "#f0f921"
             ]
            ],
            "type": "histogram2d"
           }
          ],
          "histogram2dcontour": [
           {
            "colorbar": {
             "outlinewidth": 0,
             "ticks": ""
            },
            "colorscale": [
             [
              0.0,
              "#0d0887"
             ],
             [
              0.1111111111111111,
              "#46039f"
             ],
             [
              0.2222222222222222,
              "#7201a8"
             ],
             [
              0.3333333333333333,
              "#9c179e"
             ],
             [
              0.4444444444444444,
              "#bd3786"
             ],
             [
              0.5555555555555556,
              "#d8576b"
             ],
             [
              0.6666666666666666,
              "#ed7953"
             ],
             [
              0.7777777777777778,
              "#fb9f3a"
             ],
             [
              0.8888888888888888,
              "#fdca26"
             ],
             [
              1.0,
              "#f0f921"
             ]
            ],
            "type": "histogram2dcontour"
           }
          ],
          "mesh3d": [
           {
            "colorbar": {
             "outlinewidth": 0,
             "ticks": ""
            },
            "type": "mesh3d"
           }
          ],
          "parcoords": [
           {
            "line": {
             "colorbar": {
              "outlinewidth": 0,
              "ticks": ""
             }
            },
            "type": "parcoords"
           }
          ],
          "pie": [
           {
            "automargin": true,
            "type": "pie"
           }
          ],
          "scatter": [
           {
            "fillpattern": {
             "fillmode": "overlay",
             "size": 10,
             "solidity": 0.2
            },
            "type": "scatter"
           }
          ],
          "scatter3d": [
           {
            "line": {
             "colorbar": {
              "outlinewidth": 0,
              "ticks": ""
             }
            },
            "marker": {
             "colorbar": {
              "outlinewidth": 0,
              "ticks": ""
             }
            },
            "type": "scatter3d"
           }
          ],
          "scattercarpet": [
           {
            "marker": {
             "colorbar": {
              "outlinewidth": 0,
              "ticks": ""
             }
            },
            "type": "scattercarpet"
           }
          ],
          "scattergeo": [
           {
            "marker": {
             "colorbar": {
              "outlinewidth": 0,
              "ticks": ""
             }
            },
            "type": "scattergeo"
           }
          ],
          "scattergl": [
           {
            "marker": {
             "colorbar": {
              "outlinewidth": 0,
              "ticks": ""
             }
            },
            "type": "scattergl"
           }
          ],
          "scattermap": [
           {
            "marker": {
             "colorbar": {
              "outlinewidth": 0,
              "ticks": ""
             }
            },
            "type": "scattermap"
           }
          ],
          "scattermapbox": [
           {
            "marker": {
             "colorbar": {
              "outlinewidth": 0,
              "ticks": ""
             }
            },
            "type": "scattermapbox"
           }
          ],
          "scatterpolar": [
           {
            "marker": {
             "colorbar": {
              "outlinewidth": 0,
              "ticks": ""
             }
            },
            "type": "scatterpolar"
           }
          ],
          "scatterpolargl": [
           {
            "marker": {
             "colorbar": {
              "outlinewidth": 0,
              "ticks": ""
             }
            },
            "type": "scatterpolargl"
           }
          ],
          "scatterternary": [
           {
            "marker": {
             "colorbar": {
              "outlinewidth": 0,
              "ticks": ""
             }
            },
            "type": "scatterternary"
           }
          ],
          "surface": [
           {
            "colorbar": {
             "outlinewidth": 0,
             "ticks": ""
            },
            "colorscale": [
             [
              0.0,
              "#0d0887"
             ],
             [
              0.1111111111111111,
              "#46039f"
             ],
             [
              0.2222222222222222,
              "#7201a8"
             ],
             [
              0.3333333333333333,
              "#9c179e"
             ],
             [
              0.4444444444444444,
              "#bd3786"
             ],
             [
              0.5555555555555556,
              "#d8576b"
             ],
             [
              0.6666666666666666,
              "#ed7953"
             ],
             [
              0.7777777777777778,
              "#fb9f3a"
             ],
             [
              0.8888888888888888,
              "#fdca26"
             ],
             [
              1.0,
              "#f0f921"
             ]
            ],
            "type": "surface"
           }
          ],
          "table": [
           {
            "cells": {
             "fill": {
              "color": "#EBF0F8"
             },
             "line": {
              "color": "white"
             }
            },
            "header": {
             "fill": {
              "color": "#C8D4E3"
             },
             "line": {
              "color": "white"
             }
            },
            "type": "table"
           }
          ]
         },
         "layout": {
          "annotationdefaults": {
           "arrowcolor": "#2a3f5f",
           "arrowhead": 0,
           "arrowwidth": 1
          },
          "autotypenumbers": "strict",
          "coloraxis": {
           "colorbar": {
            "outlinewidth": 0,
            "ticks": ""
           }
          },
          "colorscale": {
           "diverging": [
            [
             0,
             "#8e0152"
            ],
            [
             0.1,
             "#c51b7d"
            ],
            [
             0.2,
             "#de77ae"
            ],
            [
             0.3,
             "#f1b6da"
            ],
            [
             0.4,
             "#fde0ef"
            ],
            [
             0.5,
             "#f7f7f7"
            ],
            [
             0.6,
             "#e6f5d0"
            ],
            [
             0.7,
             "#b8e186"
            ],
            [
             0.8,
             "#7fbc41"
            ],
            [
             0.9,
             "#4d9221"
            ],
            [
             1,
             "#276419"
            ]
           ],
           "sequential": [
            [
             0.0,
             "#0d0887"
            ],
            [
             0.1111111111111111,
             "#46039f"
            ],
            [
             0.2222222222222222,
             "#7201a8"
            ],
            [
             0.3333333333333333,
             "#9c179e"
            ],
            [
             0.4444444444444444,
             "#bd3786"
            ],
            [
             0.5555555555555556,
             "#d8576b"
            ],
            [
             0.6666666666666666,
             "#ed7953"
            ],
            [
             0.7777777777777778,
             "#fb9f3a"
            ],
            [
             0.8888888888888888,
             "#fdca26"
            ],
            [
             1.0,
             "#f0f921"
            ]
           ],
           "sequentialminus": [
            [
             0.0,
             "#0d0887"
            ],
            [
             0.1111111111111111,
             "#46039f"
            ],
            [
             0.2222222222222222,
             "#7201a8"
            ],
            [
             0.3333333333333333,
             "#9c179e"
            ],
            [
             0.4444444444444444,
             "#bd3786"
            ],
            [
             0.5555555555555556,
             "#d8576b"
            ],
            [
             0.6666666666666666,
             "#ed7953"
            ],
            [
             0.7777777777777778,
             "#fb9f3a"
            ],
            [
             0.8888888888888888,
             "#fdca26"
            ],
            [
             1.0,
             "#f0f921"
            ]
           ]
          },
          "colorway": [
           "#636efa",
           "#EF553B",
           "#00cc96",
           "#ab63fa",
           "#FFA15A",
           "#19d3f3",
           "#FF6692",
           "#B6E880",
           "#FF97FF",
           "#FECB52"
          ],
          "font": {
           "color": "#2a3f5f"
          },
          "geo": {
           "bgcolor": "white",
           "lakecolor": "white",
           "landcolor": "#E5ECF6",
           "showlakes": true,
           "showland": true,
           "subunitcolor": "white"
          },
          "hoverlabel": {
           "align": "left"
          },
          "hovermode": "closest",
          "mapbox": {
           "style": "light"
          },
          "paper_bgcolor": "white",
          "plot_bgcolor": "#E5ECF6",
          "polar": {
           "angularaxis": {
            "gridcolor": "white",
            "linecolor": "white",
            "ticks": ""
           },
           "bgcolor": "#E5ECF6",
           "radialaxis": {
            "gridcolor": "white",
            "linecolor": "white",
            "ticks": ""
           }
          },
          "scene": {
           "xaxis": {
            "backgroundcolor": "#E5ECF6",
            "gridcolor": "white",
            "gridwidth": 2,
            "linecolor": "white",
            "showbackground": true,
            "ticks": "",
            "zerolinecolor": "white"
           },
           "yaxis": {
            "backgroundcolor": "#E5ECF6",
            "gridcolor": "white",
            "gridwidth": 2,
            "linecolor": "white",
            "showbackground": true,
            "ticks": "",
            "zerolinecolor": "white"
           },
           "zaxis": {
            "backgroundcolor": "#E5ECF6",
            "gridcolor": "white",
            "gridwidth": 2,
            "linecolor": "white",
            "showbackground": true,
            "ticks": "",
            "zerolinecolor": "white"
           }
          },
          "shapedefaults": {
           "line": {
            "color": "#2a3f5f"
           }
          },
          "ternary": {
           "aaxis": {
            "gridcolor": "white",
            "linecolor": "white",
            "ticks": ""
           },
           "baxis": {
            "gridcolor": "white",
            "linecolor": "white",
            "ticks": ""
           },
           "bgcolor": "#E5ECF6",
           "caxis": {
            "gridcolor": "white",
            "linecolor": "white",
            "ticks": ""
           }
          },
          "title": {
           "x": 0.05
          },
          "xaxis": {
           "automargin": true,
           "gridcolor": "white",
           "linecolor": "white",
           "ticks": "",
           "title": {
            "standoff": 15
           },
           "zerolinecolor": "white",
           "zerolinewidth": 2
          },
          "yaxis": {
           "automargin": true,
           "gridcolor": "white",
           "linecolor": "white",
           "ticks": "",
           "title": {
            "standoff": 15
           },
           "zerolinecolor": "white",
           "zerolinewidth": 2
          }
         }
        }
       }
      }
     },
     "metadata": {},
     "output_type": "display_data"
    }
   ],
   "source": [
    "# NBVAL_SKIP\n",
    "from pypsdm.plots.grid import grid_plot\n",
    "\n",
    "# Use the grid_plot method to visualize the grid model\n",
    "# only works if the underlying node input files have associated coordinates\n",
    "grid_plot(grid)"
   ]
  },
  {
   "cell_type": "code",
   "execution_count": null,
   "metadata": {},
   "outputs": [
    {
     "data": {
      "text/html": [
       "<div>\n",
       "<style scoped>\n",
       "    .dataframe tbody tr th:only-of-type {\n",
       "        vertical-align: middle;\n",
       "    }\n",
       "\n",
       "    .dataframe tbody tr th {\n",
       "        vertical-align: top;\n",
       "    }\n",
       "\n",
       "    .dataframe thead th {\n",
       "        text-align: right;\n",
       "    }\n",
       "</style>\n",
       "<table border=\"1\" class=\"dataframe\">\n",
       "  <thead>\n",
       "    <tr style=\"text-align: right;\">\n",
       "      <th></th>\n",
       "      <th>id</th>\n",
       "      <th>operates_from</th>\n",
       "      <th>operates_until</th>\n",
       "      <th>operator</th>\n",
       "      <th>node</th>\n",
       "      <th>q_characteristics</th>\n",
       "      <th>s_rated</th>\n",
       "      <th>albedo</th>\n",
       "      <th>azimuth</th>\n",
       "      <th>elevation_angle</th>\n",
       "      <th>eta_conv</th>\n",
       "      <th>k_g</th>\n",
       "      <th>k_t</th>\n",
       "      <th>market_reaction</th>\n",
       "      <th>cos_phi_rated</th>\n",
       "      <th>controlling_em</th>\n",
       "    </tr>\n",
       "    <tr>\n",
       "      <th>uuid</th>\n",
       "      <th></th>\n",
       "      <th></th>\n",
       "      <th></th>\n",
       "      <th></th>\n",
       "      <th></th>\n",
       "      <th></th>\n",
       "      <th></th>\n",
       "      <th></th>\n",
       "      <th></th>\n",
       "      <th></th>\n",
       "      <th></th>\n",
       "      <th></th>\n",
       "      <th></th>\n",
       "      <th></th>\n",
       "      <th></th>\n",
       "      <th></th>\n",
       "    </tr>\n",
       "  </thead>\n",
       "  <tbody>\n",
       "    <tr>\n",
       "      <th>35b25f11-434b-49c8-acba-797a986f52b4</th>\n",
       "      <td>PV_NS_02</td>\n",
       "      <td>NaN</td>\n",
       "      <td>NaN</td>\n",
       "      <td>NaN</td>\n",
       "      <td>b7a5be0d-2662-41b2-99c6-3b8121a75e9e</td>\n",
       "      <td>cosPhiFixed:{(0.0, 0.9)}</td>\n",
       "      <td>4</td>\n",
       "      <td>0.21</td>\n",
       "      <td>90</td>\n",
       "      <td>40</td>\n",
       "      <td>97</td>\n",
       "      <td>0.9</td>\n",
       "      <td>1</td>\n",
       "      <td>False</td>\n",
       "      <td>0.9</td>\n",
       "      <td>db1a151e-8e52-4b4d-8600-0fcd827d3e77</td>\n",
       "    </tr>\n",
       "    <tr>\n",
       "      <th>d4f0ff3a-a44d-4ec9-9f23-a435acd8fbc9</th>\n",
       "      <td>PV_NS_03</td>\n",
       "      <td>NaN</td>\n",
       "      <td>NaN</td>\n",
       "      <td>NaN</td>\n",
       "      <td>1dcddd06-f41a-405b-9686-7f7942852196</td>\n",
       "      <td>cosPhiFixed:{(0.0, 0.9)}</td>\n",
       "      <td>6</td>\n",
       "      <td>0.21</td>\n",
       "      <td>0</td>\n",
       "      <td>45</td>\n",
       "      <td>97</td>\n",
       "      <td>0.9</td>\n",
       "      <td>1</td>\n",
       "      <td>False</td>\n",
       "      <td>0.9</td>\n",
       "      <td>d9571711-9cf7-4bad-bc15-c1879841892f</td>\n",
       "    </tr>\n",
       "    <tr>\n",
       "      <th>718ac721-c577-4341-b1d0-f7545d56fa2d</th>\n",
       "      <td>PV_NS_04</td>\n",
       "      <td>NaN</td>\n",
       "      <td>NaN</td>\n",
       "      <td>NaN</td>\n",
       "      <td>e3c3c6a3-c383-4dbb-9b3f-a14125615386</td>\n",
       "      <td>cosPhiFixed:{(0.0, 0.9)}</td>\n",
       "      <td>10</td>\n",
       "      <td>0.21</td>\n",
       "      <td>-90</td>\n",
       "      <td>30</td>\n",
       "      <td>97</td>\n",
       "      <td>0.9</td>\n",
       "      <td>1</td>\n",
       "      <td>False</td>\n",
       "      <td>0.9</td>\n",
       "      <td>e4c3c9a7-6c4e-4908-b537-3247f59eff1c</td>\n",
       "    </tr>\n",
       "  </tbody>\n",
       "</table>\n",
       "</div>"
      ],
      "text/plain": [
       "                                            id  operates_from  operates_until  \\\n",
       "uuid                                                                            \n",
       "35b25f11-434b-49c8-acba-797a986f52b4  PV_NS_02            NaN             NaN   \n",
       "d4f0ff3a-a44d-4ec9-9f23-a435acd8fbc9  PV_NS_03            NaN             NaN   \n",
       "718ac721-c577-4341-b1d0-f7545d56fa2d  PV_NS_04            NaN             NaN   \n",
       "\n",
       "                                      operator  \\\n",
       "uuid                                             \n",
       "35b25f11-434b-49c8-acba-797a986f52b4       NaN   \n",
       "d4f0ff3a-a44d-4ec9-9f23-a435acd8fbc9       NaN   \n",
       "718ac721-c577-4341-b1d0-f7545d56fa2d       NaN   \n",
       "\n",
       "                                                                      node  \\\n",
       "uuid                                                                         \n",
       "35b25f11-434b-49c8-acba-797a986f52b4  b7a5be0d-2662-41b2-99c6-3b8121a75e9e   \n",
       "d4f0ff3a-a44d-4ec9-9f23-a435acd8fbc9  1dcddd06-f41a-405b-9686-7f7942852196   \n",
       "718ac721-c577-4341-b1d0-f7545d56fa2d  e3c3c6a3-c383-4dbb-9b3f-a14125615386   \n",
       "\n",
       "                                             q_characteristics  s_rated  \\\n",
       "uuid                                                                      \n",
       "35b25f11-434b-49c8-acba-797a986f52b4  cosPhiFixed:{(0.0, 0.9)}        4   \n",
       "d4f0ff3a-a44d-4ec9-9f23-a435acd8fbc9  cosPhiFixed:{(0.0, 0.9)}        6   \n",
       "718ac721-c577-4341-b1d0-f7545d56fa2d  cosPhiFixed:{(0.0, 0.9)}       10   \n",
       "\n",
       "                                      albedo  azimuth  elevation_angle  \\\n",
       "uuid                                                                     \n",
       "35b25f11-434b-49c8-acba-797a986f52b4    0.21       90               40   \n",
       "d4f0ff3a-a44d-4ec9-9f23-a435acd8fbc9    0.21        0               45   \n",
       "718ac721-c577-4341-b1d0-f7545d56fa2d    0.21      -90               30   \n",
       "\n",
       "                                      eta_conv  k_g  k_t  market_reaction  \\\n",
       "uuid                                                                        \n",
       "35b25f11-434b-49c8-acba-797a986f52b4        97  0.9    1            False   \n",
       "d4f0ff3a-a44d-4ec9-9f23-a435acd8fbc9        97  0.9    1            False   \n",
       "718ac721-c577-4341-b1d0-f7545d56fa2d        97  0.9    1            False   \n",
       "\n",
       "                                      cos_phi_rated  \\\n",
       "uuid                                                  \n",
       "35b25f11-434b-49c8-acba-797a986f52b4            0.9   \n",
       "d4f0ff3a-a44d-4ec9-9f23-a435acd8fbc9            0.9   \n",
       "718ac721-c577-4341-b1d0-f7545d56fa2d            0.9   \n",
       "\n",
       "                                                            controlling_em  \n",
       "uuid                                                                        \n",
       "35b25f11-434b-49c8-acba-797a986f52b4  db1a151e-8e52-4b4d-8600-0fcd827d3e77  \n",
       "d4f0ff3a-a44d-4ec9-9f23-a435acd8fbc9  d9571711-9cf7-4bad-bc15-c1879841892f  \n",
       "718ac721-c577-4341-b1d0-f7545d56fa2d  e4c3c9a7-6c4e-4908-b537-3247f59eff1c  "
      ]
     },
     "execution_count": 5,
     "metadata": {},
     "output_type": "execute_result"
    }
   ],
   "source": [
    "# NBVAL_IGNORE_OUTPUT\n",
    "# A grid container consists of a raw grid container\n",
    "raw_grid = grid.raw_grid\n",
    "# consisting of lines, transformers and so on\n",
    "lines = raw_grid.lines\n",
    "# and a participants container\n",
    "participants = grid.participants\n",
    "# consisting of loads, pv plants\n",
    "pvs = participants.pvs\n",
    "\n",
    "# You can also directly access the nested objects from the container classes\n",
    "pvs = grid.pvs\n",
    "\n",
    "# The base data structure of all input model is a pandas DataFrame accessible via .data\n",
    "pvs.data"
   ]
  },
  {
   "cell_type": "code",
   "execution_count": null,
   "metadata": {},
   "outputs": [
    {
     "data": {
      "text/plain": [
       "uuid\n",
       "35b25f11-434b-49c8-acba-797a986f52b4     4\n",
       "d4f0ff3a-a44d-4ec9-9f23-a435acd8fbc9     6\n",
       "718ac721-c577-4341-b1d0-f7545d56fa2d    10\n",
       "Name: s_rated, dtype: int64"
      ]
     },
     "execution_count": 7,
     "metadata": {},
     "output_type": "execute_result"
    }
   ],
   "source": [
    "# or directly via the property attribute of the class\n",
    "pvs.s_rated"
   ]
  },
  {
   "cell_type": "code",
   "execution_count": null,
   "metadata": {},
   "outputs": [],
   "source": [
    "# NBVAL_IGNORE_OUTPUT\n",
    "from tempfile import TemporaryDirectory\n",
    "\n",
    "# You can write data models with their respective to_csv method\n",
    "with TemporaryDirectory() as temp_dir:\n",
    "    grid.to_csv(temp_dir)\n",
    "    grid_from_csv = GridContainer.from_csv(temp_dir)\n",
    "\n",
    "    grid.compare(grid_from_csv)\n",
    "    assert grid.raw_grid.nodes == grid_from_csv.raw_grid.nodes\n",
    "    assert grid.loads == grid_from_csv.loads\n",
    "    # the == operator is overloaded to compare the underlying dataframes\n",
    "    assert grid == grid_from_csv"
   ]
  }
 ],
 "metadata": {
  "kernelspec": {
   "display_name": "pypsdm-sJkpnJQv-py3.11",
   "language": "python",
   "name": "python3"
  },
  "language_info": {
   "codemirror_mode": {
    "name": "ipython",
    "version": 3
   },
   "file_extension": ".py",
   "mimetype": "text/x-python",
   "name": "python",
   "nbconvert_exporter": "python",
   "pygments_lexer": "ipython3",
   "version": "3.11.5"
  }
 },
 "nbformat": 4,
 "nbformat_minor": 2
}
