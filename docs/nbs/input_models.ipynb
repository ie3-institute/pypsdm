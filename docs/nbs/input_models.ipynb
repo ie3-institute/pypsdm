{
 "cells": [
  {
   "cell_type": "code",
   "execution_count": null,
   "id": "initial_id",
   "metadata": {},
   "outputs": [
    {
     "name": "stdout",
     "output_type": "stream",
     "text": [
      "The autoreload extension is already loaded. To reload it, use:\n",
      "  %reload_ext autoreload\n"
     ]
    }
   ],
   "source": [
    "# NBVAL_IGNORE_OUTPUT\n",
    "# Some jupyter notebook magic to reload modules automatically when they change\n",
    "# not necessary for this specific notebook but useful in general\n",
    "%load_ext autoreload\n",
    "%autoreload 2"
   ]
  },
  {
   "cell_type": "code",
   "execution_count": null,
   "id": "3d08b4fd2b690ca",
   "metadata": {},
   "outputs": [
    {
     "name": "stderr",
     "output_type": "stream",
     "text": [
      "\u001b[32m2025-08-20 11:50:10.307\u001b[0m | \u001b[34m\u001b[1mDEBUG   \u001b[0m | \u001b[36mpypsdm.models.primary_data\u001b[0m:\u001b[36mfrom_csv\u001b[0m:\u001b[36m273\u001b[0m - \u001b[34m\u001b[1mNo primary data in path /home/smdafeis/github/pypsdm/tests/resources/simple_grid/input\u001b[0m\n"
     ]
    }
   ],
   "source": [
    "# NBVAL_IGNORE_OUTPUT\n",
    "from definitions import ROOT_DIR\n",
    "import os\n",
    "\n",
    "# The PSDM specific input models can be found in the pypsdm.models.input submodules\n",
    "from pypsdm.models.input import GridContainer\n",
    "\n",
    "# but can also be imported from the root module\n",
    "from pypsdm import GridContainer\n",
    "\n",
    "\n",
    "grid_path = os.path.join(ROOT_DIR, \"tests\", \"resources\", \"simple_grid\", \"input\")\n",
    "# IO data models in general have a from_csv method to parse psdm files\n",
    "grid = GridContainer.from_csv(grid_path)\n",
    "# You can also load a `GridWithResults` container which additionally contains the result\n",
    "# data. For more details see the `result_models.ipynb` notebook"
   ]
  },
  {
   "cell_type": "code",
   "execution_count": null,
   "id": "38b94c0e439ba698",
   "metadata": {},
   "outputs": [
    {
     "data": {
      "application/vnd.plotly.v1+json": {
       "config": {
        "plotlyServerURL": "https://plot.ly"
       },
       "data": [
        {
         "hoverinfo": "skip",
         "lat": [
          51.00473924277929,
          51.00474261837189
         ],
         "line": {
          "color": "#1ac938"
         },
         "lon": [
          7.178732983051468,
          7.18043886801018
         ],
         "mode": "lines",
         "type": "scattermapbox"
        },
        {
         "hoverinfo": "text",
         "hovertext": "LTG_NS_02-NS_03",
         "lat": [
          51.00474093057559
         ],
         "lon": [
          7.179585925530824
         ],
         "marker": {
          "color": "#1ac938",
          "opacity": 0,
          "size": 0
         },
         "mode": "markers",
         "type": "scattermapbox"
        },
        {
         "hoverinfo": "skip",
         "lat": [
          51.00474261837189,
          51.00442531159225
         ],
         "line": {
          "color": "#1ac938"
         },
         "lon": [
          7.18043886801018,
          7.1826490082711505
         ],
         "mode": "lines",
         "type": "scattermapbox"
        },
        {
         "hoverinfo": "text",
         "hovertext": "LTG_NS_03-NS_04",
         "lat": [
          51.004583964982075
         ],
         "lon": [
          7.181543938140665
         ],
         "marker": {
          "color": "#1ac938",
          "opacity": 0,
          "size": 0
         },
         "mode": "markers",
         "type": "scattermapbox"
        },
        {
         "hoverinfo": "skip",
         "lat": [
          51.00489119159423,
          51.00473924277929
         ],
         "line": {
          "color": "#1ac938"
         },
         "lon": [
          7.177091457368853,
          7.178732983051468
         ],
         "mode": "lines",
         "type": "scattermapbox"
        },
        {
         "hoverinfo": "text",
         "hovertext": "LTG_NS_01-NS_02",
         "lat": [
          51.00481521718676
         ],
         "lon": [
          7.17791222021016
         ],
         "marker": {
          "color": "#1ac938",
          "opacity": 0,
          "size": 0
         },
         "mode": "markers",
         "type": "scattermapbox"
        },
        {
         "hoverinfo": "text",
         "hovertext": [
          "MS_01<br>df97c0d1-379b-417a-a473-8e7fe37da99d<br>",
          "NS_01<br>6a4547a8-630b-46e4-8144-9cd649e67c07<br>",
          "NS_02<br>b7a5be0d-2662-41b2-99c6-3b8121a75e9e<br>em=Count: 1<br>load=Count: 1, Rated Power: 3 kw<br>pv=Count: 1, Rated Power: 4 kw<br>storage=Count: 1, Rated Power: 3.0 kw<br>ev=Count: 1, Rated Power: 10 kw<br>evcs=Count: 1<br>hp=Count: 1, Rated Power: 4 kw",
          "NS_03<br>1dcddd06-f41a-405b-9686-7f7942852196<br>em=Count: 1<br>load=Count: 1, Rated Power: 3 kw<br>pv=Count: 1, Rated Power: 6 kw<br>storage=Count: 1, Rated Power: 4.5 kw<br>ev=Count: 1, Rated Power: 10 kw<br>evcs=Count: 1<br>hp=Count: 1, Rated Power: 3 kw",
          "NS_04<br>e3c3c6a3-c383-4dbb-9b3f-a14125615386<br>em=Count: 1<br>load=Count: 1, Rated Power: 3 kw<br>pv=Count: 1, Rated Power: 10 kw<br>storage=Count: 1, Rated Power: 7.5 kw<br>ev=Count: 1, Rated Power: 20 kw<br>evcs=Count: 1<br>hp=Count: 1, Rated Power: 6 kw"
         ],
         "lat": {
          "bdata": "xfdJRqCASUDF90lGoIBJQFdfpkubgElAAGf3Z5uASUAbSDQCkYBJQA==",
          "dtype": "f8"
         },
         "lon": {
          "bdata": "aDOHdle1HEBoM4d2V7UcQLiwc8cFtxxAuh9098S4HECKr3RXCLscQA==",
          "dtype": "f8"
         },
         "marker": {
          "color": "#023eff",
          "size": 6
         },
         "mode": "markers",
         "text": [
          "MS_01<br>df97c0d1-379b-417a-a473-8e7fe37da99d<br>",
          "NS_01<br>6a4547a8-630b-46e4-8144-9cd649e67c07<br>",
          "NS_02<br>b7a5be0d-2662-41b2-99c6-3b8121a75e9e<br>em=Count: 1<br>load=Count: 1, Rated Power: 3 kw<br>pv=Count: 1, Rated Power: 4 kw<br>storage=Count: 1, Rated Power: 3.0 kw<br>ev=Count: 1, Rated Power: 10 kw<br>evcs=Count: 1<br>hp=Count: 1, Rated Power: 4 kw",
          "NS_03<br>1dcddd06-f41a-405b-9686-7f7942852196<br>em=Count: 1<br>load=Count: 1, Rated Power: 3 kw<br>pv=Count: 1, Rated Power: 6 kw<br>storage=Count: 1, Rated Power: 4.5 kw<br>ev=Count: 1, Rated Power: 10 kw<br>evcs=Count: 1<br>hp=Count: 1, Rated Power: 3 kw",
          "NS_04<br>e3c3c6a3-c383-4dbb-9b3f-a14125615386<br>em=Count: 1<br>load=Count: 1, Rated Power: 3 kw<br>pv=Count: 1, Rated Power: 10 kw<br>storage=Count: 1, Rated Power: 7.5 kw<br>ev=Count: 1, Rated Power: 20 kw<br>evcs=Count: 1<br>hp=Count: 1, Rated Power: 6 kw"
         ],
         "type": "scattermapbox"
        }
       ],
       "layout": {
        "mapbox": {
         "center": {
          "lat": 51.00473791118638,
          "lon": 7.1792007548141
         },
         "style": "open-street-map",
         "zoom": 11.994442449097702
        },
        "margin": {
         "b": 0,
         "l": 0,
         "r": 0,
         "t": 0
        },
        "showlegend": false,
        "template": {
         "data": {
          "bar": [
           {
            "error_x": {
             "color": "#2a3f5f"
            },
            "error_y": {
             "color": "#2a3f5f"
            },
            "marker": {
             "line": {
              "color": "#E5ECF6",
              "width": 0.5
             },
             "pattern": {
              "fillmode": "overlay",
              "size": 10,
              "solidity": 0.2
             }
            },
            "type": "bar"
           }
          ],
          "barpolar": [
           {
            "marker": {
             "line": {
              "color": "#E5ECF6",
              "width": 0.5
             },
             "pattern": {
              "fillmode": "overlay",
              "size": 10,
              "solidity": 0.2
             }
            },
            "type": "barpolar"
           }
          ],
          "carpet": [
           {
            "aaxis": {
             "endlinecolor": "#2a3f5f",
             "gridcolor": "white",
             "linecolor": "white",
             "minorgridcolor": "white",
             "startlinecolor": "#2a3f5f"
            },
            "baxis": {
             "endlinecolor": "#2a3f5f",
             "gridcolor": "white",
             "linecolor": "white",
             "minorgridcolor": "white",
             "startlinecolor": "#2a3f5f"
            },
            "type": "carpet"
           }
          ],
          "choropleth": [
           {
            "colorbar": {
             "outlinewidth": 0,
             "ticks": ""
            },
            "type": "choropleth"
           }
          ],
          "contour": [
           {
            "colorbar": {
             "outlinewidth": 0,
             "ticks": ""
            },
            "colorscale": [
             [
              0.0,
              "#0d0887"
             ],
             [
              0.1111111111111111,
              "#46039f"
             ],
             [
              0.2222222222222222,
              "#7201a8"
             ],
             [
              0.3333333333333333,
              "#9c179e"
             ],
             [
              0.4444444444444444,
              "#bd3786"
             ],
             [
              0.5555555555555556,
              "#d8576b"
             ],
             [
              0.6666666666666666,
              "#ed7953"
             ],
             [
              0.7777777777777778,
              "#fb9f3a"
             ],
             [
              0.8888888888888888,
              "#fdca26"
             ],
             [
              1.0,
              "#f0f921"
             ]
            ],
            "type": "contour"
           }
          ],
          "contourcarpet": [
           {
            "colorbar": {
             "outlinewidth": 0,
             "ticks": ""
            },
            "type": "contourcarpet"
           }
          ],
          "heatmap": [
           {
            "colorbar": {
             "outlinewidth": 0,
             "ticks": ""
            },
            "colorscale": [
             [
              0.0,
              "#0d0887"
             ],
             [
              0.1111111111111111,
              "#46039f"
             ],
             [
              0.2222222222222222,
              "#7201a8"
             ],
             [
              0.3333333333333333,
              "#9c179e"
             ],
             [
              0.4444444444444444,
              "#bd3786"
             ],
             [
              0.5555555555555556,
              "#d8576b"
             ],
             [
              0.6666666666666666,
              "#ed7953"
             ],
             [
              0.7777777777777778,
              "#fb9f3a"
             ],
             [
              0.8888888888888888,
              "#fdca26"
             ],
             [
              1.0,
              "#f0f921"
             ]
            ],
            "type": "heatmap"
           }
          ],
          "histogram": [
           {
            "marker": {
             "pattern": {
              "fillmode": "overlay",
              "size": 10,
              "solidity": 0.2
             }
            },
            "type": "histogram"
           }
          ],
          "histogram2d": [
           {
            "colorbar": {
             "outlinewidth": 0,
             "ticks": ""
            },
            "colorscale": [
             [
              0.0,
              "#0d0887"
             ],
             [
              0.1111111111111111,
              "#46039f"
             ],
             [
              0.2222222222222222,
              "#7201a8"
             ],
             [
              0.3333333333333333,
              "#9c179e"
             ],
             [
              0.4444444444444444,
              "#bd3786"
             ],
             [
              0.5555555555555556,
              "#d8576b"
             ],
             [
              0.6666666666666666,
              "#ed7953"
             ],
             [
              0.7777777777777778,
              "#fb9f3a"
             ],
             [
              0.8888888888888888,
              "#fdca26"
             ],
             [
              1.0,
              "#f0f921"
             ]
            ],
            "type": "histogram2d"
           }
          ],
          "histogram2dcontour": [
           {
            "colorbar": {
             "outlinewidth": 0,
             "ticks": ""
            },
            "colorscale": [
             [
              0.0,
              "#0d0887"
             ],
             [
              0.1111111111111111,
              "#46039f"
             ],
             [
              0.2222222222222222,
              "#7201a8"
             ],
             [
              0.3333333333333333,
              "#9c179e"
             ],
             [
              0.4444444444444444,
              "#bd3786"
             ],
             [
              0.5555555555555556,
              "#d8576b"
             ],
             [
              0.6666666666666666,
              "#ed7953"
             ],
             [
              0.7777777777777778,
              "#fb9f3a"
             ],
             [
              0.8888888888888888,
              "#fdca26"
             ],
             [
              1.0,
              "#f0f921"
             ]
            ],
            "type": "histogram2dcontour"
           }
          ],
          "mesh3d": [
           {
            "colorbar": {
             "outlinewidth": 0,
             "ticks": ""
            },
            "type": "mesh3d"
           }
          ],
          "parcoords": [
           {
            "line": {
             "colorbar": {
              "outlinewidth": 0,
              "ticks": ""
             }
            },
            "type": "parcoords"
           }
          ],
          "pie": [
           {
            "automargin": true,
            "type": "pie"
           }
          ],
          "scatter": [
           {
            "fillpattern": {
             "fillmode": "overlay",
             "size": 10,
             "solidity": 0.2
            },
            "type": "scatter"
           }
          ],
          "scatter3d": [
           {
            "line": {
             "colorbar": {
              "outlinewidth": 0,
              "ticks": ""
             }
            },
            "marker": {
             "colorbar": {
              "outlinewidth": 0,
              "ticks": ""
             }
            },
            "type": "scatter3d"
           }
          ],
          "scattercarpet": [
           {
            "marker": {
             "colorbar": {
              "outlinewidth": 0,
              "ticks": ""
             }
            },
            "type": "scattercarpet"
           }
          ],
          "scattergeo": [
           {
            "marker": {
             "colorbar": {
              "outlinewidth": 0,
              "ticks": ""
             }
            },
            "type": "scattergeo"
           }
          ],
          "scattergl": [
           {
            "marker": {
             "colorbar": {
              "outlinewidth": 0,
              "ticks": ""
             }
            },
            "type": "scattergl"
           }
          ],
          "scattermap": [
           {
            "marker": {
             "colorbar": {
              "outlinewidth": 0,
              "ticks": ""
             }
            },
            "type": "scattermap"
           }
          ],
          "scattermapbox": [
           {
            "marker": {
             "colorbar": {
              "outlinewidth": 0,
              "ticks": ""
             }
            },
            "type": "scattermapbox"
           }
          ],
          "scatterpolar": [
           {
            "marker": {
             "colorbar": {
              "outlinewidth": 0,
              "ticks": ""
             }
            },
            "type": "scatterpolar"
           }
          ],
          "scatterpolargl": [
           {
            "marker": {
             "colorbar": {
              "outlinewidth": 0,
              "ticks": ""
             }
            },
            "type": "scatterpolargl"
           }
          ],
          "scatterternary": [
           {
            "marker": {
             "colorbar": {
              "outlinewidth": 0,
              "ticks": ""
             }
            },
            "type": "scatterternary"
           }
          ],
          "surface": [
           {
            "colorbar": {
             "outlinewidth": 0,
             "ticks": ""
            },
            "colorscale": [
             [
              0.0,
              "#0d0887"
             ],
             [
              0.1111111111111111,
              "#46039f"
             ],
             [
              0.2222222222222222,
              "#7201a8"
             ],
             [
              0.3333333333333333,
              "#9c179e"
             ],
             [
              0.4444444444444444,
              "#bd3786"
             ],
             [
              0.5555555555555556,
              "#d8576b"
             ],
             [
              0.6666666666666666,
              "#ed7953"
             ],
             [
              0.7777777777777778,
              "#fb9f3a"
             ],
             [
              0.8888888888888888,
              "#fdca26"
             ],
             [
              1.0,
              "#f0f921"
             ]
            ],
            "type": "surface"
           }
          ],
          "table": [
           {
            "cells": {
             "fill": {
              "color": "#EBF0F8"
             },
             "line": {
              "color": "white"
             }
            },
            "header": {
             "fill": {
              "color": "#C8D4E3"
             },
             "line": {
              "color": "white"
             }
            },
            "type": "table"
           }
          ]
         },
         "layout": {
          "annotationdefaults": {
           "arrowcolor": "#2a3f5f",
           "arrowhead": 0,
           "arrowwidth": 1
          },
          "autotypenumbers": "strict",
          "coloraxis": {
           "colorbar": {
            "outlinewidth": 0,
            "ticks": ""
           }
          },
          "colorscale": {
           "diverging": [
            [
             0,
             "#8e0152"
            ],
            [
             0.1,
             "#c51b7d"
            ],
            [
             0.2,
             "#de77ae"
            ],
            [
             0.3,
             "#f1b6da"
            ],
            [
             0.4,
             "#fde0ef"
            ],
            [
             0.5,
             "#f7f7f7"
            ],
            [
             0.6,
             "#e6f5d0"
            ],
            [
             0.7,
             "#b8e186"
            ],
            [
             0.8,
             "#7fbc41"
            ],
            [
             0.9,
             "#4d9221"
            ],
            [
             1,
             "#276419"
            ]
           ],
           "sequential": [
            [
             0.0,
             "#0d0887"
            ],
            [
             0.1111111111111111,
             "#46039f"
            ],
            [
             0.2222222222222222,
             "#7201a8"
            ],
            [
             0.3333333333333333,
             "#9c179e"
            ],
            [
             0.4444444444444444,
             "#bd3786"
            ],
            [
             0.5555555555555556,
             "#d8576b"
            ],
            [
             0.6666666666666666,
             "#ed7953"
            ],
            [
             0.7777777777777778,
             "#fb9f3a"
            ],
            [
             0.8888888888888888,
             "#fdca26"
            ],
            [
             1.0,
             "#f0f921"
            ]
           ],
           "sequentialminus": [
            [
             0.0,
             "#0d0887"
            ],
            [
             0.1111111111111111,
             "#46039f"
            ],
            [
             0.2222222222222222,
             "#7201a8"
            ],
            [
             0.3333333333333333,
             "#9c179e"
            ],
            [
             0.4444444444444444,
             "#bd3786"
            ],
            [
             0.5555555555555556,
             "#d8576b"
            ],
            [
             0.6666666666666666,
             "#ed7953"
            ],
            [
             0.7777777777777778,
             "#fb9f3a"
            ],
            [
             0.8888888888888888,
             "#fdca26"
            ],
            [
             1.0,
             "#f0f921"
            ]
           ]
          },
          "colorway": [
           "#636efa",
           "#EF553B",
           "#00cc96",
           "#ab63fa",
           "#FFA15A",
           "#19d3f3",
           "#FF6692",
           "#B6E880",
           "#FF97FF",
           "#FECB52"
          ],
          "font": {
           "color": "#2a3f5f"
          },
          "geo": {
           "bgcolor": "white",
           "lakecolor": "white",
           "landcolor": "#E5ECF6",
           "showlakes": true,
           "showland": true,
           "subunitcolor": "white"
          },
          "hoverlabel": {
           "align": "left"
          },
          "hovermode": "closest",
          "mapbox": {
           "style": "light"
          },
          "paper_bgcolor": "white",
          "plot_bgcolor": "#E5ECF6",
          "polar": {
           "angularaxis": {
            "gridcolor": "white",
            "linecolor": "white",
            "ticks": ""
           },
           "bgcolor": "#E5ECF6",
           "radialaxis": {
            "gridcolor": "white",
            "linecolor": "white",
            "ticks": ""
           }
          },
          "scene": {
           "xaxis": {
            "backgroundcolor": "#E5ECF6",
            "gridcolor": "white",
            "gridwidth": 2,
            "linecolor": "white",
            "showbackground": true,
            "ticks": "",
            "zerolinecolor": "white"
           },
           "yaxis": {
            "backgroundcolor": "#E5ECF6",
            "gridcolor": "white",
            "gridwidth": 2,
            "linecolor": "white",
            "showbackground": true,
            "ticks": "",
            "zerolinecolor": "white"
           },
           "zaxis": {
            "backgroundcolor": "#E5ECF6",
            "gridcolor": "white",
            "gridwidth": 2,
            "linecolor": "white",
            "showbackground": true,
            "ticks": "",
            "zerolinecolor": "white"
           }
          },
          "shapedefaults": {
           "line": {
            "color": "#2a3f5f"
           }
          },
          "ternary": {
           "aaxis": {
            "gridcolor": "white",
            "linecolor": "white",
            "ticks": ""
           },
           "baxis": {
            "gridcolor": "white",
            "linecolor": "white",
            "ticks": ""
           },
           "bgcolor": "#E5ECF6",
           "caxis": {
            "gridcolor": "white",
            "linecolor": "white",
            "ticks": ""
           }
          },
          "title": {
           "x": 0.05
          },
          "xaxis": {
           "automargin": true,
           "gridcolor": "white",
           "linecolor": "white",
           "ticks": "",
           "title": {
            "standoff": 15
           },
           "zerolinecolor": "white",
           "zerolinewidth": 2
          },
          "yaxis": {
           "automargin": true,
           "gridcolor": "white",
           "linecolor": "white",
           "ticks": "",
           "title": {
            "standoff": 15
           },
           "zerolinecolor": "white",
           "zerolinewidth": 2
          }
         }
        }
       }
      }
     },
     "metadata": {},
     "output_type": "display_data"
    }
   ],
   "source": [
    "# NBVAL_SKIP\n",
    "from pypsdm.plots.grid import grid_plot\n",
    "\n",
    "# Use the grid_plot method to visualize the grid model\n",
    "# only works if the underlying node input files have associated coordinates\n",
    "grid_plot(grid)"
   ]
  },
  {
   "cell_type": "code",
   "execution_count": null,
   "id": "3bef89c519ea7a2e",
   "metadata": {},
   "outputs": [
    {
     "data": {
      "text/plain": [
       "([['6a4547a8-630b-46e4-8144-9cd649e67c07',\n",
       "   'b7a5be0d-2662-41b2-99c6-3b8121a75e9e',\n",
       "   '1dcddd06-f41a-405b-9686-7f7942852196',\n",
       "   'e3c3c6a3-c383-4dbb-9b3f-a14125615386']],\n",
       " [<networkx.classes.graph.Graph at 0x7a299121e5a0>])"
      ]
     },
     "execution_count": null,
     "metadata": {},
     "output_type": "execute_result"
    }
   ],
   "source": [
    "# NBVAL_IGNORE_OUTPUT\n",
    "# You can get a graph representation of the grid\n",
    "graph = grid.raw_grid.build_networkx_graph()\n",
    "# And a list of all the branches in the grid\n",
    "branches_list = grid.raw_grid.get_branches()\n",
    "branches_subgraphs = grid.raw_grid.get_branches(as_graphs=True)\n",
    "branches_list, branches_subgraphs"
   ]
  },
  {
   "cell_type": "code",
   "execution_count": null,
   "id": "57731ebb07b93950",
   "metadata": {},
   "outputs": [
    {
     "data": {
      "text/html": [
       "<div>\n",
       "<style scoped>\n",
       "    .dataframe tbody tr th:only-of-type {\n",
       "        vertical-align: middle;\n",
       "    }\n",
       "\n",
       "    .dataframe tbody tr th {\n",
       "        vertical-align: top;\n",
       "    }\n",
       "\n",
       "    .dataframe thead th {\n",
       "        text-align: right;\n",
       "    }\n",
       "</style>\n",
       "<table border=\"1\" class=\"dataframe\">\n",
       "  <thead>\n",
       "    <tr style=\"text-align: right;\">\n",
       "      <th></th>\n",
       "      <th>id</th>\n",
       "      <th>operates_from</th>\n",
       "      <th>operates_until</th>\n",
       "      <th>operator</th>\n",
       "      <th>node</th>\n",
       "      <th>q_characteristics</th>\n",
       "      <th>s_rated</th>\n",
       "      <th>albedo</th>\n",
       "      <th>azimuth</th>\n",
       "      <th>elevation_angle</th>\n",
       "      <th>eta_conv</th>\n",
       "      <th>k_g</th>\n",
       "      <th>k_t</th>\n",
       "      <th>market_reaction</th>\n",
       "      <th>cos_phi_rated</th>\n",
       "      <th>controlling_em</th>\n",
       "    </tr>\n",
       "    <tr>\n",
       "      <th>uuid</th>\n",
       "      <th></th>\n",
       "      <th></th>\n",
       "      <th></th>\n",
       "      <th></th>\n",
       "      <th></th>\n",
       "      <th></th>\n",
       "      <th></th>\n",
       "      <th></th>\n",
       "      <th></th>\n",
       "      <th></th>\n",
       "      <th></th>\n",
       "      <th></th>\n",
       "      <th></th>\n",
       "      <th></th>\n",
       "      <th></th>\n",
       "      <th></th>\n",
       "    </tr>\n",
       "  </thead>\n",
       "  <tbody>\n",
       "    <tr>\n",
       "      <th>35b25f11-434b-49c8-acba-797a986f52b4</th>\n",
       "      <td>PV_NS_02</td>\n",
       "      <td>NaN</td>\n",
       "      <td>NaN</td>\n",
       "      <td>NaN</td>\n",
       "      <td>b7a5be0d-2662-41b2-99c6-3b8121a75e9e</td>\n",
       "      <td>cosPhiFixed:{(0.0, 0.9)}</td>\n",
       "      <td>4</td>\n",
       "      <td>0.21</td>\n",
       "      <td>90</td>\n",
       "      <td>40</td>\n",
       "      <td>97</td>\n",
       "      <td>0.9</td>\n",
       "      <td>1</td>\n",
       "      <td>False</td>\n",
       "      <td>0.9</td>\n",
       "      <td>db1a151e-8e52-4b4d-8600-0fcd827d3e77</td>\n",
       "    </tr>\n",
       "    <tr>\n",
       "      <th>d4f0ff3a-a44d-4ec9-9f23-a435acd8fbc9</th>\n",
       "      <td>PV_NS_03</td>\n",
       "      <td>NaN</td>\n",
       "      <td>NaN</td>\n",
       "      <td>NaN</td>\n",
       "      <td>1dcddd06-f41a-405b-9686-7f7942852196</td>\n",
       "      <td>cosPhiFixed:{(0.0, 0.9)}</td>\n",
       "      <td>6</td>\n",
       "      <td>0.21</td>\n",
       "      <td>0</td>\n",
       "      <td>45</td>\n",
       "      <td>97</td>\n",
       "      <td>0.9</td>\n",
       "      <td>1</td>\n",
       "      <td>False</td>\n",
       "      <td>0.9</td>\n",
       "      <td>d9571711-9cf7-4bad-bc15-c1879841892f</td>\n",
       "    </tr>\n",
       "    <tr>\n",
       "      <th>718ac721-c577-4341-b1d0-f7545d56fa2d</th>\n",
       "      <td>PV_NS_04</td>\n",
       "      <td>NaN</td>\n",
       "      <td>NaN</td>\n",
       "      <td>NaN</td>\n",
       "      <td>e3c3c6a3-c383-4dbb-9b3f-a14125615386</td>\n",
       "      <td>cosPhiFixed:{(0.0, 0.9)}</td>\n",
       "      <td>10</td>\n",
       "      <td>0.21</td>\n",
       "      <td>-90</td>\n",
       "      <td>30</td>\n",
       "      <td>97</td>\n",
       "      <td>0.9</td>\n",
       "      <td>1</td>\n",
       "      <td>False</td>\n",
       "      <td>0.9</td>\n",
       "      <td>e4c3c9a7-6c4e-4908-b537-3247f59eff1c</td>\n",
       "    </tr>\n",
       "  </tbody>\n",
       "</table>\n",
       "</div>"
      ],
      "text/plain": [
       "                                            id  operates_from  operates_until  \\\n",
       "uuid                                                                            \n",
       "35b25f11-434b-49c8-acba-797a986f52b4  PV_NS_02            NaN             NaN   \n",
       "d4f0ff3a-a44d-4ec9-9f23-a435acd8fbc9  PV_NS_03            NaN             NaN   \n",
       "718ac721-c577-4341-b1d0-f7545d56fa2d  PV_NS_04            NaN             NaN   \n",
       "\n",
       "                                      operator  \\\n",
       "uuid                                             \n",
       "35b25f11-434b-49c8-acba-797a986f52b4       NaN   \n",
       "d4f0ff3a-a44d-4ec9-9f23-a435acd8fbc9       NaN   \n",
       "718ac721-c577-4341-b1d0-f7545d56fa2d       NaN   \n",
       "\n",
       "                                                                      node  \\\n",
       "uuid                                                                         \n",
       "35b25f11-434b-49c8-acba-797a986f52b4  b7a5be0d-2662-41b2-99c6-3b8121a75e9e   \n",
       "d4f0ff3a-a44d-4ec9-9f23-a435acd8fbc9  1dcddd06-f41a-405b-9686-7f7942852196   \n",
       "718ac721-c577-4341-b1d0-f7545d56fa2d  e3c3c6a3-c383-4dbb-9b3f-a14125615386   \n",
       "\n",
       "                                             q_characteristics  s_rated  \\\n",
       "uuid                                                                      \n",
       "35b25f11-434b-49c8-acba-797a986f52b4  cosPhiFixed:{(0.0, 0.9)}        4   \n",
       "d4f0ff3a-a44d-4ec9-9f23-a435acd8fbc9  cosPhiFixed:{(0.0, 0.9)}        6   \n",
       "718ac721-c577-4341-b1d0-f7545d56fa2d  cosPhiFixed:{(0.0, 0.9)}       10   \n",
       "\n",
       "                                      albedo  azimuth  elevation_angle  \\\n",
       "uuid                                                                     \n",
       "35b25f11-434b-49c8-acba-797a986f52b4    0.21       90               40   \n",
       "d4f0ff3a-a44d-4ec9-9f23-a435acd8fbc9    0.21        0               45   \n",
       "718ac721-c577-4341-b1d0-f7545d56fa2d    0.21      -90               30   \n",
       "\n",
       "                                      eta_conv  k_g  k_t  market_reaction  \\\n",
       "uuid                                                                        \n",
       "35b25f11-434b-49c8-acba-797a986f52b4        97  0.9    1            False   \n",
       "d4f0ff3a-a44d-4ec9-9f23-a435acd8fbc9        97  0.9    1            False   \n",
       "718ac721-c577-4341-b1d0-f7545d56fa2d        97  0.9    1            False   \n",
       "\n",
       "                                      cos_phi_rated  \\\n",
       "uuid                                                  \n",
       "35b25f11-434b-49c8-acba-797a986f52b4            0.9   \n",
       "d4f0ff3a-a44d-4ec9-9f23-a435acd8fbc9            0.9   \n",
       "718ac721-c577-4341-b1d0-f7545d56fa2d            0.9   \n",
       "\n",
       "                                                            controlling_em  \n",
       "uuid                                                                        \n",
       "35b25f11-434b-49c8-acba-797a986f52b4  db1a151e-8e52-4b4d-8600-0fcd827d3e77  \n",
       "d4f0ff3a-a44d-4ec9-9f23-a435acd8fbc9  d9571711-9cf7-4bad-bc15-c1879841892f  \n",
       "718ac721-c577-4341-b1d0-f7545d56fa2d  e4c3c9a7-6c4e-4908-b537-3247f59eff1c  "
      ]
     },
     "execution_count": null,
     "metadata": {},
     "output_type": "execute_result"
    }
   ],
   "source": [
    "# NBVAL_IGNORE_OUTPUT\n",
    "# A grid container consists of a raw grid container\n",
    "raw_grid = grid.raw_grid\n",
    "# consisting of lines, transformers and so on\n",
    "lines = raw_grid.lines\n",
    "# and a participants container\n",
    "participants = grid.participants\n",
    "# consisting of loads, pv plants\n",
    "pvs = participants.pvs\n",
    "\n",
    "# You can also directly access the nested objects from the container classes\n",
    "pvs = grid.pvs\n",
    "\n",
    "# The base data structure of all input model is a pandas DataFrame accessible via .data\n",
    "pvs.data"
   ]
  },
  {
   "cell_type": "code",
   "execution_count": null,
   "id": "f588fa60db607ebf",
   "metadata": {},
   "outputs": [
    {
     "data": {
      "text/plain": [
       "uuid\n",
       "35b25f11-434b-49c8-acba-797a986f52b4     4\n",
       "d4f0ff3a-a44d-4ec9-9f23-a435acd8fbc9     6\n",
       "718ac721-c577-4341-b1d0-f7545d56fa2d    10\n",
       "Name: s_rated, dtype: int64"
      ]
     },
     "execution_count": null,
     "metadata": {},
     "output_type": "execute_result"
    }
   ],
   "source": [
    "# You can access the columns via the data frame\n",
    "pvs.data[\"s_rated\"]"
   ]
  },
  {
   "cell_type": "code",
   "execution_count": null,
   "id": "ccdd8fd0a1d60968",
   "metadata": {},
   "outputs": [
    {
     "data": {
      "text/plain": [
       "uuid\n",
       "35b25f11-434b-49c8-acba-797a986f52b4     4\n",
       "d4f0ff3a-a44d-4ec9-9f23-a435acd8fbc9     6\n",
       "718ac721-c577-4341-b1d0-f7545d56fa2d    10\n",
       "Name: s_rated, dtype: int64"
      ]
     },
     "execution_count": null,
     "metadata": {},
     "output_type": "execute_result"
    }
   ],
   "source": [
    "# or directly via the property attribute of the class\n",
    "pvs.s_rated"
   ]
  },
  {
   "cell_type": "code",
   "execution_count": null,
   "id": "be125965fbe013b2",
   "metadata": {},
   "outputs": [
    {
     "data": {
      "text/html": [
       "<div>\n",
       "<style scoped>\n",
       "    .dataframe tbody tr th:only-of-type {\n",
       "        vertical-align: middle;\n",
       "    }\n",
       "\n",
       "    .dataframe tbody tr th {\n",
       "        vertical-align: top;\n",
       "    }\n",
       "\n",
       "    .dataframe thead th {\n",
       "        text-align: right;\n",
       "    }\n",
       "</style>\n",
       "<table border=\"1\" class=\"dataframe\">\n",
       "  <thead>\n",
       "    <tr style=\"text-align: right;\">\n",
       "      <th></th>\n",
       "      <th>id</th>\n",
       "      <th>operates_from</th>\n",
       "      <th>operates_until</th>\n",
       "      <th>operator</th>\n",
       "      <th>node</th>\n",
       "      <th>q_characteristics</th>\n",
       "      <th>s_rated</th>\n",
       "      <th>albedo</th>\n",
       "      <th>azimuth</th>\n",
       "      <th>elevation_angle</th>\n",
       "      <th>eta_conv</th>\n",
       "      <th>k_g</th>\n",
       "      <th>k_t</th>\n",
       "      <th>market_reaction</th>\n",
       "      <th>cos_phi_rated</th>\n",
       "      <th>controlling_em</th>\n",
       "    </tr>\n",
       "    <tr>\n",
       "      <th>uuid</th>\n",
       "      <th></th>\n",
       "      <th></th>\n",
       "      <th></th>\n",
       "      <th></th>\n",
       "      <th></th>\n",
       "      <th></th>\n",
       "      <th></th>\n",
       "      <th></th>\n",
       "      <th></th>\n",
       "      <th></th>\n",
       "      <th></th>\n",
       "      <th></th>\n",
       "      <th></th>\n",
       "      <th></th>\n",
       "      <th></th>\n",
       "      <th></th>\n",
       "    </tr>\n",
       "  </thead>\n",
       "  <tbody>\n",
       "    <tr>\n",
       "      <th>35b25f11-434b-49c8-acba-797a986f52b4</th>\n",
       "      <td>PV_NS_02</td>\n",
       "      <td>NaN</td>\n",
       "      <td>NaN</td>\n",
       "      <td>NaN</td>\n",
       "      <td>b7a5be0d-2662-41b2-99c6-3b8121a75e9e</td>\n",
       "      <td>cosPhiFixed:{(0.0, 0.9)}</td>\n",
       "      <td>4</td>\n",
       "      <td>0.21</td>\n",
       "      <td>90</td>\n",
       "      <td>40</td>\n",
       "      <td>97</td>\n",
       "      <td>0.9</td>\n",
       "      <td>1</td>\n",
       "      <td>False</td>\n",
       "      <td>0.9</td>\n",
       "      <td>db1a151e-8e52-4b4d-8600-0fcd827d3e77</td>\n",
       "    </tr>\n",
       "    <tr>\n",
       "      <th>718ac721-c577-4341-b1d0-f7545d56fa2d</th>\n",
       "      <td>PV_NS_04</td>\n",
       "      <td>NaN</td>\n",
       "      <td>NaN</td>\n",
       "      <td>NaN</td>\n",
       "      <td>e3c3c6a3-c383-4dbb-9b3f-a14125615386</td>\n",
       "      <td>cosPhiFixed:{(0.0, 0.9)}</td>\n",
       "      <td>10</td>\n",
       "      <td>0.21</td>\n",
       "      <td>-90</td>\n",
       "      <td>30</td>\n",
       "      <td>97</td>\n",
       "      <td>0.9</td>\n",
       "      <td>1</td>\n",
       "      <td>False</td>\n",
       "      <td>0.9</td>\n",
       "      <td>e4c3c9a7-6c4e-4908-b537-3247f59eff1c</td>\n",
       "    </tr>\n",
       "  </tbody>\n",
       "</table>\n",
       "</div>"
      ],
      "text/plain": [
       "                                            id  operates_from  operates_until  \\\n",
       "uuid                                                                            \n",
       "35b25f11-434b-49c8-acba-797a986f52b4  PV_NS_02            NaN             NaN   \n",
       "718ac721-c577-4341-b1d0-f7545d56fa2d  PV_NS_04            NaN             NaN   \n",
       "\n",
       "                                      operator  \\\n",
       "uuid                                             \n",
       "35b25f11-434b-49c8-acba-797a986f52b4       NaN   \n",
       "718ac721-c577-4341-b1d0-f7545d56fa2d       NaN   \n",
       "\n",
       "                                                                      node  \\\n",
       "uuid                                                                         \n",
       "35b25f11-434b-49c8-acba-797a986f52b4  b7a5be0d-2662-41b2-99c6-3b8121a75e9e   \n",
       "718ac721-c577-4341-b1d0-f7545d56fa2d  e3c3c6a3-c383-4dbb-9b3f-a14125615386   \n",
       "\n",
       "                                             q_characteristics  s_rated  \\\n",
       "uuid                                                                      \n",
       "35b25f11-434b-49c8-acba-797a986f52b4  cosPhiFixed:{(0.0, 0.9)}        4   \n",
       "718ac721-c577-4341-b1d0-f7545d56fa2d  cosPhiFixed:{(0.0, 0.9)}       10   \n",
       "\n",
       "                                      albedo  azimuth  elevation_angle  \\\n",
       "uuid                                                                     \n",
       "35b25f11-434b-49c8-acba-797a986f52b4    0.21       90               40   \n",
       "718ac721-c577-4341-b1d0-f7545d56fa2d    0.21      -90               30   \n",
       "\n",
       "                                      eta_conv  k_g  k_t  market_reaction  \\\n",
       "uuid                                                                        \n",
       "35b25f11-434b-49c8-acba-797a986f52b4        97  0.9    1            False   \n",
       "718ac721-c577-4341-b1d0-f7545d56fa2d        97  0.9    1            False   \n",
       "\n",
       "                                      cos_phi_rated  \\\n",
       "uuid                                                  \n",
       "35b25f11-434b-49c8-acba-797a986f52b4            0.9   \n",
       "718ac721-c577-4341-b1d0-f7545d56fa2d            0.9   \n",
       "\n",
       "                                                            controlling_em  \n",
       "uuid                                                                        \n",
       "35b25f11-434b-49c8-acba-797a986f52b4  db1a151e-8e52-4b4d-8600-0fcd827d3e77  \n",
       "718ac721-c577-4341-b1d0-f7545d56fa2d  e4c3c9a7-6c4e-4908-b537-3247f59eff1c  "
      ]
     },
     "execution_count": null,
     "metadata": {},
     "output_type": "execute_result"
    }
   ],
   "source": [
    "# NBVAL_IGNORE_OUTPUT\n",
    "# The respective classes implement some useful methods for dealing with the data\n",
    "# e.g. retrieve all elements connected to one or multiple specified nodes\n",
    "# (Please check out the classes to see all the implemented methods)\n",
    "nodal_participants = participants.filter_by_nodes(grid.nodes.uuid.to_list()[::2])\n",
    "nodal_participants.pvs.data"
   ]
  },
  {
   "cell_type": "code",
   "execution_count": null,
   "id": "f0d62146d59403f9",
   "metadata": {},
   "outputs": [
    {
     "name": "stderr",
     "output_type": "stream",
     "text": [
      "\u001b[32m2025-08-20 11:50:17.420\u001b[0m | \u001b[34m\u001b[1mDEBUG   \u001b[0m | \u001b[36mpypsdm.models.primary_data\u001b[0m:\u001b[36mfrom_csv\u001b[0m:\u001b[36m273\u001b[0m - \u001b[34m\u001b[1mNo primary data in path /tmp/tmp0u8kgus3\u001b[0m\n"
     ]
    }
   ],
   "source": [
    "# NBVAL_IGNORE_OUTPUT\n",
    "from tempfile import TemporaryDirectory\n",
    "\n",
    "# You can write data models with their respective to_csv method\n",
    "with TemporaryDirectory() as temp_dir:\n",
    "    grid.to_csv(temp_dir)\n",
    "    grid_from_csv = GridContainer.from_csv(temp_dir)\n",
    "\n",
    "    grid.compare(grid_from_csv)\n",
    "    assert grid.raw_grid.nodes == grid_from_csv.raw_grid.nodes\n",
    "    assert grid.loads == grid_from_csv.loads\n",
    "    # the == operator is overloaded to compare the underlying dataframes\n",
    "    assert grid == grid_from_csv"
   ]
  }
 ],
 "metadata": {
  "kernelspec": {
   "display_name": "Python 3",
   "language": "python",
   "name": "python3"
  },
  "language_info": {
   "codemirror_mode": {
    "name": "ipython",
    "version": 2
   },
   "file_extension": ".py",
   "mimetype": "text/x-python",
   "name": "python",
   "nbconvert_exporter": "python",
   "pygments_lexer": "ipython2"
  }
 },
 "nbformat": 4,
 "nbformat_minor": 5
}
