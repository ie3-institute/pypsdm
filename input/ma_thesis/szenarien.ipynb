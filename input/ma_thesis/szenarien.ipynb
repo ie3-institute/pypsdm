{
 "cells": [
  {
   "cell_type": "code",
   "execution_count": 5,
   "metadata": {},
   "outputs": [
    {
     "name": "stdout",
     "output_type": "stream",
     "text": [
      "The autoreload extension is already loaded. To reload it, use:\n",
      "  %reload_ext autoreload\n"
     ]
    }
   ],
   "source": [
    "# Some jupyter notebook magic to reload modules automaticaally when they change\n",
    "# not neccessary for this specific notebook but useful in general\n",
    "%load_ext autoreload\n",
    "%autoreload 2\n",
    "\n",
    "# Gives you high resolution images within the notebook\n",
    "%config InlineBackend.figure_format = 'retina'"
   ]
  },
  {
   "cell_type": "code",
   "execution_count": 15,
   "metadata": {},
   "outputs": [],
   "source": [
    "from pypsdm.ma_thesis import *\n",
    "from pypsdm.ma_thesis.utils import get_output_path\n",
    "\n",
    "\n",
    "grid_name = \"semiurb-combined-1\"\n",
    "result_folder_name = \"Simulationen\"\n",
    "result_base_name = \"Szenario\"\n",
    "szenarios = [1,2,3,4]\n",
    "result_suffix = \"part\"\n",
    "\n",
    "upper_limit = 1.05\n",
    "lower_limit = 0.95\n",
    "\n",
    "dotted = [lower_limit, upper_limit]\n",
    "\n",
    "def res_out(scenario:str, filename: str, extension: str = \"pdf\"):\n",
    "    return get_output_path(result_base_name+\"-\"+scenario+\"-\"+result_suffix, filename+\".\"+extension)\n"
   ]
  },
  {
   "cell_type": "code",
   "execution_count": 7,
   "metadata": {},
   "outputs": [
    {
     "name": "stderr",
     "output_type": "stream",
     "text": [
      "\u001b[32m2024-07-06 10:15:46.405\u001b[0m | \u001b[34m\u001b[1mDEBUG   \u001b[0m | \u001b[36mpypsdm.models.primary_data\u001b[0m:\u001b[36mfrom_csv\u001b[0m:\u001b[36m266\u001b[0m - \u001b[34m\u001b[1mNo primary data in path C:\\Users\\mariu\\PycharmProjects\\pypsdm\\input\\ma_thesis\\grids\\semiurb-combined-1\u001b[0m\n"
     ]
    }
   ],
   "source": [
    "# Read grid and results\n",
    "\n",
    "grid, results = read_scenarios(grid_name, result_folder_name, result_base_name, szenarios, result_suffix)\n",
    "\n"
   ]
  },
  {
   "cell_type": "code",
   "execution_count": 8,
   "metadata": {},
   "outputs": [],
   "source": [
    "# Informationen\n",
    "from pypsdm.ma_thesis.subgrid import SubGrid\n",
    "\n",
    "subgrids = SubGrid.build(grid)\n",
    "\n",
    "transformer_uuids: dict[str, list[str]] = {\n",
    "    \"1-2\": get_transformers_between(subgrids[1], subgrids[2]),\n",
    "    \"2-3\": get_transformers_between(subgrids[2], subgrids[3]),\n",
    "    \"2-4\": get_transformers_between(subgrids[2], subgrids[4]),\n",
    "    \"2-5\": get_transformers_between(subgrids[2], subgrids[5]),\n",
    "}\n"
   ]
  },
  {
   "cell_type": "code",
   "execution_count": 18,
   "metadata": {},
   "outputs": [],
   "source": [
    "# Erkennung\n",
    "\n",
    "detection_scenario = \"1\"\n",
    "\n",
    "detection_results = results[result_base_name+\"-\"+detection_scenario+\"-\"+result_suffix]\n",
    "\n",
    "detection_subgrid_info = {nr: SubGridInfo(sub, detection_results) for nr, sub in subgrids.items()}\n",
    "\n",
    "#_ = plot_voltage_with_congestion(detection_subgrid_info[1], detection_results, dotted=dotted).savefig(res_out(detection_scenario, \"Voltage_congestion-1\"))\n",
    "#_ = plot_voltage_with_congestion(detection_subgrid_info[2], detection_results, dotted=dotted).savefig(res_out(detection_scenario, \"Voltage_congestion-2\"))\n",
    "#_ = plot_voltage_with_congestion(detection_subgrid_info[3], detection_results, dotted=dotted).savefig(res_out(detection_scenario, \"Voltage_congestion-3\"))\n",
    "#_ = plot_voltage_with_congestion(detection_subgrid_info[4], detection_results, dotted=dotted).savefig(res_out(detection_scenario, \"Voltage_congestion-4\"))\n",
    "#_ = plot_voltage_with_congestion(detection_subgrid_info[5], detection_results, dotted=dotted).savefig(res_out(detection_scenario, \"Voltage_congestion-5\"))\n",
    "\n",
    "\n",
    "#_ = plot_line_utilization_with_congestion(detection_subgrid_info[2], detection_results).savefig(res_out(detection_scenario, \"Line_congestion-2\"))\n",
    "#_ = plot_line_utilization_with_congestion(detection_subgrid_info[3], detection_results).savefig(res_out(detection_scenario, \"Line_congestion-3\"))\n",
    "#_ = plot_line_utilization_with_congestion(detection_subgrid_info[4], detection_results).savefig(res_out(detection_scenario, \"Line_congestion-4\"))\n",
    "#_ = plot_line_utilization_with_congestion(detection_subgrid_info[5], detection_results).savefig(res_out(detection_scenario, \"Line_congestion-5\"))\n",
    "\n",
    "#detection_gwr = GridWithResults(grid, detection_results)\n",
    "#_ = plot_transformer_utilization_with_congestion(detection_subgrid_info[2], transformer_uuids[\"1-2\"], detection_gwr).savefig(res_out(detection_scenario, \"Transformer_congestions-12\"))\n",
    "#_ = plot_transformer_utilization_with_congestion(detection_subgrid_info[3], transformer_uuids[\"2-3\"], detection_gwr).savefig(res_out(detection_scenario, \"Transformer_congestions-23\"))\n",
    "#_ = plot_transformer_utilization_with_congestion(detection_subgrid_info[4], transformer_uuids[\"2-4\"], detection_gwr).savefig(res_out(detection_scenario, \"Transformer_congestions-24\"))\n",
    "#_ = plot_transformer_utilization_with_congestion(detection_subgrid_info[5], transformer_uuids[\"2-5\"], detection_gwr).savefig(res_out(detection_scenario, \"Transformer_congestions-25\"))\n",
    "\n"
   ]
  },
  {
   "cell_type": "code",
   "execution_count": 22,
   "metadata": {},
   "outputs": [],
   "source": [
    "# Stufung\n",
    "\n",
    "tapping_scenario = \"3\"\n",
    "\n",
    "\n",
    "#_ = plot_voltage_with_tapping(subgrids[2], transformer_uuids[\"1-2\"], results[result_base_name+\"-\"+tapping_scenario+\"-\"+result_suffix], dotted).savefig(res_out(tapping_scenario, \"Stufung12\"))\n",
    "#_ = plot_voltage_with_tapping(subgrids[3], transformer_uuids[\"2-3\"], results[result_base_name+\"-\"+tapping_scenario+\"-\"+result_suffix], dotted).savefig(res_out(tapping_scenario, \"Stufung23\"))\n",
    "#_ = plot_voltage_with_tapping(subgrids[4], transformer_uuids[\"2-4\"], results[result_base_name+\"-\"+tapping_scenario+\"-\"+result_suffix], dotted).savefig(res_out(tapping_scenario, \"Stufung24\"))\n",
    "#_ = plot_voltage_with_tapping(subgrids[5], transformer_uuids[\"2-5\"], results[result_base_name+\"-\"+tapping_scenario+\"-\"+result_suffix], dotted).savefig(res_out(tapping_scenario, \"Stufung25\"))\n"
   ]
  },
  {
   "cell_type": "code",
   "execution_count": 11,
   "metadata": {},
   "outputs": [],
   "source": [
    "# Spannungsvergleich\n",
    "from pypsdm.ma_thesis.plots import plot_voltages_with_scenario\n",
    "\n",
    "\n",
    "#_ = plot_voltages_with_scenario(subgrids[2], results, upper_limit=upper_limit, lower_limit=lower_limit).savefig(res_out(\"Spannung-2-all\"))\n",
    "#_ = plot_voltages_with_scenario(subgrids[3], results, upper_limit=upper_limit, lower_limit=lower_limit).savefig(res_out(\"Spannung-3-all\"))\n",
    "#_ = plot_voltages_with_scenario(subgrids[4], results, upper_limit=upper_limit, lower_limit=lower_limit).savefig(res_out(\"Spannung-4-all\"))\n",
    "#_ = plot_voltages_with_scenario(subgrids[5], results, upper_limit=upper_limit, lower_limit=lower_limit).savefig(res_out(\"Spannung-5-all\"))\n",
    "\n",
    "\n"
   ]
  },
  {
   "cell_type": "code",
   "execution_count": 13,
   "metadata": {},
   "outputs": [],
   "source": [
    "\n",
    "\n",
    "# _ = plot_with_highlights(gwr.grid)\n",
    "# _ = plot_voltage_subgrids(subgrids, dotted=[1.03, 0.97], width=30, height=20)\n",
    "# _ = plot_voltage_with_tapping(subgrids[1], subgrids[2], gwr.transformers_2_w, gwr.transformers_2_w_res, width=30, height=10, dotted=[1.03, 0.97])\n",
    "# _ = plot_line_utilizations(subgrids[4], threshold=0.33, show_legend=False, width=30)\n",
    "# _ = plot_line_utilizations(subgrids[2], threshold=0.33, show_legend=False, width=30)"
   ]
  }
 ],
 "metadata": {
  "kernelspec": {
   "display_name": "gui-MypUtHgG-py3.11",
   "language": "python",
   "name": "python3"
  },
  "language_info": {
   "codemirror_mode": {
    "name": "ipython",
    "version": 3
   },
   "file_extension": ".py",
   "mimetype": "text/x-python",
   "name": "python",
   "nbconvert_exporter": "python",
   "pygments_lexer": "ipython3",
   "version": "3.11.7"
  }
 },
 "nbformat": 4,
 "nbformat_minor": 2
}
