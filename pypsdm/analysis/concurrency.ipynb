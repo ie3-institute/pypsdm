{
 "cells": [
  {
   "cell_type": "code",
   "execution_count": 1,
   "outputs": [],
   "source": [
    "import os\n",
    "import pandas as pd\n",
    "\n",
    "# Get the folder path where the files are located\n",
    "#folder_inputs = r'C:\\tmp\\20231121_flex_testminigrid_2023-11-21_08-37-58\\input\\grid'\n",
    "folder_inputs = r'C:\\Users\\smdafeis\\Documents\\GitHub\\simona\\input\\2023\\20231121_flex_testminigrid\\grid'\n",
    "if 1 == 0:\n",
    "    # Filenames\n",
    "    file_names = [\n",
    "        'em_input.csv',\n",
    "        'evcs_input.csv',\n",
    "        'hp_input.csv',\n",
    "        'pv_input.csv',\n",
    "        'load_input.csv',\n",
    "        'storage_input.csv'\n",
    "    ]\n",
    "    \n",
    "    # Read input data\n",
    "    print('Input data loading')\n",
    "    \n",
    "    data_input_em = pd.read_csv(os.path.join(folder_inputs,file_names[0]),index_col='uuid')\n",
    "    \n",
    "    # Remove em-system\n",
    "    #data_input_em = data_input_em[~data_input_em['id'].str.contains('em-system')]\n",
    "    \n",
    "    data_input_ev = pd.read_csv(os.path.join(folder_inputs, file_names[1]),index_col='uuid')\n",
    "    data_input_hp = pd.read_csv(os.path.join(folder_inputs, file_names[2]),index_col='uuid')\n",
    "    data_input_pv = pd.read_csv(os.path.join(folder_inputs, file_names[3]),index_col='uuid')\n",
    "    data_input_lo = pd.read_csv(os.path.join(folder_inputs, file_names[4]),index_col='uuid')\n",
    "    data_input_bs = pd.read_csv(os.path.join(folder_inputs, file_names[5]),index_col='uuid')\n",
    "    data_input_em"
   ],
   "metadata": {
    "collapsed": false,
    "ExecuteTime": {
     "end_time": "2023-12-18T14:51:18.973466Z",
     "start_time": "2023-12-18T14:51:18.225843700Z"
    }
   },
   "id": "1e433b171258bccd"
  },
  {
   "cell_type": "code",
   "execution_count": 1,
   "outputs": [],
   "source": [
    "\n"
   ],
   "metadata": {
    "collapsed": false,
    "ExecuteTime": {
     "end_time": "2023-12-18T14:51:19.610058900Z",
     "start_time": "2023-12-18T14:51:19.601065500Z"
    }
   },
   "id": "e82864e29af8aafe"
  },
  {
   "cell_type": "code",
   "execution_count": 2,
   "outputs": [],
   "source": [
    "\n",
    "def create_em_to_systemparticipant_dict(em_list, system_participants_list):\n",
    "    \n",
    "    matching_uuids_dict = dict()\n",
    "    \n",
    "    for index, row in system_participants_list.iterrows():\n",
    "        for em_index, em_row in em_list.iterrows():\n",
    "            connected_assets = em_row['connected_assets']\n",
    "            \n",
    "            connected_assets_list = connected_assets.strip('[]').replace(\"'\", \"\").split(', ') if isinstance(connected_assets, str) else None\n",
    "                       \n",
    "            if isinstance(connected_assets_list, list) and index in connected_assets:\n",
    "                if em_index not in matching_uuids_dict:\n",
    "                    matching_uuids_dict[em_index] = index\n",
    "                else:\n",
    "                    # If there are multiple occurrences, store them as a list\n",
    "                    if not isinstance(matching_uuids_dict[em_index], list):\n",
    "                        raise ValueError(\"uuid is included more then once in em\")\n",
    "    return matching_uuids_dict\n",
    "\n",
    "\n",
    "if 0 == 1:    \n",
    "    emToHp = create_em_to_systemparticipant_dict(data_input_em,data_input_hp)    \n",
    "    emToEv = create_em_to_systemparticipant_dict(data_input_em,data_input_ev)\n",
    "    emToBs = create_em_to_systemparticipant_dict(data_input_em,data_input_bs)\n",
    "    emToPv = create_em_to_systemparticipant_dict(data_input_em,data_input_pv)\n",
    "    emToLo = create_em_to_systemparticipant_dict(data_input_em,data_input_lo)\n",
    "    \n",
    "    \n"
   ],
   "metadata": {
    "collapsed": false,
    "ExecuteTime": {
     "end_time": "2023-12-18T14:51:23.424885900Z",
     "start_time": "2023-12-18T14:51:23.417851300Z"
    }
   },
   "id": "ae2881725fb55e24"
  },
  {
   "cell_type": "code",
   "execution_count": 3,
   "outputs": [],
   "source": [
    "import csv\n",
    "import datetime\n",
    "\n",
    "def read_sort_time_series(filename, data_input):\n",
    "     # Read the CSV file\n",
    "    with open(filename, 'r') as file:\n",
    "        reader = csv.reader(file)\n",
    "        hdr = next(reader)\n",
    "        num = len(hdr) - 1  # Number of columns\n",
    "        \n",
    "        # Interpret timestamp\n",
    "        timestamp = [datetime.strptime(row[0], '%Y-%m-%d %H:%M:%S') for row in reader]\n",
    "\n",
    "    # Get UnitIDs\n",
    "    unitIDs = hdr[1:]\n",
    "    nUnits = len(unitIDs)\n",
    "\n",
    "    # Read data and handle exceptions\n",
    "    with open(filename, 'r') as file:\n",
    "        reader = csv.reader(file)\n",
    "        next(reader)  # Skip header\n",
    "        try:\n",
    "            time_series = [[float(val) for val in row[1:]] for row in reader]\n",
    "        except ValueError:\n",
    "            data = list(reader)\n",
    "            L = [len(row) - 1 for row in data]\n",
    "            time_series = []\n",
    "            for i, row in enumerate(data):\n",
    "                vals = [float(val) if val else float('nan') for val in row[1:]]\n",
    "                vals.extend([float('nan')] * (max(L) - L[i]))\n",
    "                time_series.append(vals)\n",
    "\n",
    "    # Adjust sorting based on input data\n",
    "    time_series_sort = [[float('nan') for _ in range(nUnits)] for _ in range(len(time_series))]\n",
    "    for i in range(nUnits):\n",
    "        for j, uuid in enumerate(inputs['uuid']):\n",
    "            if uuid in unitIDs:\n",
    "                xx = unitIDs.index(uuid)\n",
    "                if xx < nUnits:\n",
    "                    time_series_sort[:, i] = time_series[:, xx]\n",
    "\n",
    "    return time_series_sort"
   ],
   "metadata": {
    "collapsed": false,
    "ExecuteTime": {
     "end_time": "2023-12-18T14:51:24.228196600Z",
     "start_time": "2023-12-18T14:51:24.212744600Z"
    }
   },
   "id": "b35581aae431b39f"
  },
  {
   "cell_type": "code",
   "execution_count": 4,
   "outputs": [],
   "source": [
    "import pandas as pd\n",
    "import numpy as np\n",
    "import os\n",
    "import csv\n",
    "from datetime import datetime\n",
    "from pypsdm.processing.series import (\n",
    "    add_series,)\n",
    "from pypsdm.models.result import (\n",
    "    entity,)\n",
    "from pypsdm.models import (\n",
    "    enums,)\n",
    "\n",
    "\n",
    "#folder_res = r'C:\\tmp\\20231121_flex_testminigrid_2023-11-21_08-37-58\\rawOutputData'\n",
    "folder_res = r'C:\\Users\\smdafeis\\Documents\\GitHub\\simona\\output\\2023\\20231218_household_test\\20231218_household_test_2023-12-18_11-56-08\\rawOutputData'\n",
    "filename_hp = \"hp_res.csv\"\n",
    "filename_ev = \"evcs_res.csv\"\n",
    "filename_pv = \"pv_res.csv\"\n",
    "filename_lo = \"load_res.csv\"\n",
    "filename_bs = \"storage_res.csv\"\n",
    "\n",
    "filename = os.path.join(folder_res, filename_hp)   \n",
    "     \n",
    "timeseries_data = pd.read_csv(os.path.join(folder_res, filename_hp))\n",
    "#print(timeseries_data)\n",
    "\n",
    "#print(len(timeseries_data.loc[1,:].values[4]))\n",
    "\n",
    "#endtime = datetime(2020,1,1)\n",
    "endtime = datetime(2019,12,31)\n",
    "\n",
    "if 0 == 1:\n",
    "\n",
    "\n",
    "    # Function to add seconds if they're missing from the timestamp\n",
    "    # Function to add seconds if they're missing from the timestamp\n",
    "    def add_seconds(timestamp):\n",
    "        if len(timestamp) == 22 and timestamp.endswith('Z[UTC]'):  # Check if seconds are missing and ends with 'Z[UTC]'\n",
    "            timestamp = timestamp[:-6] + ':00' + timestamp[-6:]  # Insert ':00' before 'Z[UTC]'\n",
    "        return timestamp\n",
    "    \n",
    "    \n",
    "    # Add seconds to all timestamps\n",
    "    timeseries_data['time'] = timeseries_data['time'].apply(add_seconds)\n",
    "    \n",
    "    # Convert 'time' column to datetime format with optional seconds\n",
    "    timeseries_data['time'] = pd.to_datetime(timeseries_data['time'], format='%Y-%m-%dT%H:%M:%SZ[UTC]')\n",
    "    \n",
    "    # Format 'time' column to the desired string format\n",
    "    timeseries_data['time'] = timeseries_data['time'].dt.strftime('%Y-%m-%d %H:%M:%S')\n",
    "    \n",
    "    #specific_model = 'd3413988-ebcd-4aff-b5b5-d70364a3b7a2'  # Replace this with the specific entry you want to filter for\n",
    "    #filtered_df = timeseries_data[timeseries_data['input_model'] == specific_model]\n",
    "    #filtered_df.set_index(['time','input_model'],inplace=True)\n",
    "    timeseries_data.set_index(['time','input_model'],inplace=True)\n",
    "    \n",
    "    \n",
    "    \n",
    "    \n",
    "    \n",
    "    #d34=entity.ResultEntities.build(enums.SystemParticipantsEnum.HEAT_PUMP,specific_model, timeseries_data, endtime)\n",
    "    #print(d34)\n",
    "    \n"
   ],
   "metadata": {
    "collapsed": false,
    "ExecuteTime": {
     "end_time": "2023-12-18T14:51:25.049829200Z",
     "start_time": "2023-12-18T14:51:24.792042600Z"
    }
   },
   "id": "d1ca68d968f1a9f9"
  },
  {
   "cell_type": "code",
   "execution_count": 2,
   "outputs": [],
   "source": [
    "from pypsdm.models.input.container.participants import SystemParticipantsContainer\n",
    "from pypsdm.models.result.container.participants import ParticipantsResultContainer\n",
    "from pypsdm.models import gwr\n",
    "\n",
    "gwr = gwr.GridWithResults.from_csv('flex_minigrid', folder_inputs,',',folder_res,',', simulation_end=endtime)\n"
   ],
   "metadata": {
    "collapsed": false,
    "ExecuteTime": {
     "end_time": "2023-12-18T14:54:21.846375900Z",
     "start_time": "2023-12-18T14:54:15.590195Z"
    }
   },
   "id": "297e311ecd8164aa"
  },
  {
   "cell_type": "code",
   "execution_count": 6,
   "outputs": [
    {
     "data": {
      "text/plain": "PQResultDict(entity_type=<SystemParticipantsEnum.HEAT_PUMP: 'hp'>, entities={})"
     },
     "execution_count": 6,
     "metadata": {},
     "output_type": "execute_result"
    }
   ],
   "source": [
    "gwr.results.participants.hps"
   ],
   "metadata": {
    "collapsed": false,
    "ExecuteTime": {
     "end_time": "2023-12-18T14:51:45.900459200Z",
     "start_time": "2023-12-18T14:51:45.881448Z"
    }
   },
   "id": "99a2e842499e3a22"
  },
  {
   "cell_type": "code",
   "execution_count": 7,
   "outputs": [
    {
     "data": {
      "text/plain": "[(1, 1, 1, 1),\n (1, 1, 1, 0),\n (1, 1, 0, 1),\n (1, 1, 0, 0),\n (1, 0, 1, 1),\n (1, 0, 1, 0),\n (1, 0, 0, 1),\n (1, 0, 0, 0),\n (0, 1, 1, 1),\n (0, 1, 1, 0),\n (0, 1, 0, 1),\n (0, 1, 0, 0),\n (0, 0, 1, 1),\n (0, 0, 1, 0)]"
     },
     "execution_count": 7,
     "metadata": {},
     "output_type": "execute_result"
    }
   ],
   "source": [
    "# Vorhandene Fälle\n",
    "# PV immer an\n",
    "# 1. Spalte: BS\n",
    "# 2. Spalte: EV\n",
    "# 3. Spalte: HP vorhanden\n",
    "# 4. Spalte: neue HP & Dämmung\n",
    "\n",
    "\n",
    "cases = [\n",
    "    (1, 1, 1, 1),\n",
    "    (1, 1, 1, 0),\n",
    "    (1, 1, 0, 1),\n",
    "    (1, 1, 0, 0),\n",
    "    (1, 0, 1, 1),\n",
    "    (1, 0, 1, 0),\n",
    "    (1, 0, 0, 1),\n",
    "    (1, 0, 0, 0),\n",
    "    (0, 1, 1, 1),\n",
    "    (0, 1, 1, 0),\n",
    "    (0, 1, 0, 1),\n",
    "    (0, 1, 0, 0),\n",
    "    (0, 0, 1, 1),\n",
    "    (0, 0, 1, 0),\n",
    "    (0, 0, 0, 1),\n",
    "    (0, 0, 0, 0),\n",
    "]\n",
    "\n",
    "# Resultierende Fälle für GLZ => Remove wenn 3. Spalte == 1 und Spalte 1 und 2 nicht 1\n",
    "\n",
    "filtered_cases = [case for case in cases if case[2] != 0 or case[0] == 1 or case[1] == 1]\n",
    "\n",
    "filtered_cases\n",
    "\n",
    "# Fälle Binär-codiert (1,1,1,1 ==15)\n",
    "# Gemeinsame Analyse von \n",
    "# Fall 14 und Fall 15 (identisch nur neue oder alte WP & Dämmung) => BS + EV + WP\n",
    "# 13 und 12 (identisch) => BS + EV\n",
    "# 11 und 10 (identisch nur neue oder alte WP & Dämmung) BS + WP \n",
    "# 9 und 8 (identisch) => Nur BS\n",
    "# 7 und 6 (identisch nur neue oder alte WP & Dämmung) => EV + WP \n",
    "# 4 und 5 (identisch) => Nur EV\n",
    "# 2 und 3 (identisch nur neue oder alte WP & Dämmung) => Nur WP\n",
    "\n",
    "\n"
   ],
   "metadata": {
    "collapsed": false,
    "ExecuteTime": {
     "end_time": "2023-12-18T14:51:45.994296Z",
     "start_time": "2023-12-18T14:51:45.898459400Z"
    }
   },
   "id": "e67214a79dfe38df"
  },
  {
   "cell_type": "code",
   "execution_count": 8,
   "outputs": [
    {
     "data": {
      "text/plain": "                                      0  1  2  3\nem_uuid                                         \n82a5963e-8b34-4909-a6fe-f8a5d630714f  1  1  1  1\na20a27bc-d8dc-474a-a067-13768efa12b0  1  1  1  1\n368b7d20-246c-47b4-99d9-59ecb09d262f  1  1  1  1\n7578de94-39da-461a-a7e9-35887d5cd069  1  1  1  1\n32bdf883-bf93-41d4-8df0-341c643c0dde  1  1  1  1\nfc066082-5114-46dc-81e9-aadd5bdb5a5c  1  1  1  0\nc91910c7-8052-439d-bbb5-82a9a6f33805  1  1  1  0\n97cbb95f-ba3d-4cf2-ab8a-ebf6cd581bf2  1  1  1  0\nda9b5c51-9fcc-4b3f-9fcb-331b5fe9071e  1  1  1  0\n268ac12a-5617-4de7-a63a-27a2ae13fbf9  1  1  1  0\n54c41a9b-071b-4ac4-ba52-daa5adf82281  1  1  0  1\ne791a888-38dd-481a-9558-e15e3780d887  1  1  0  1\na03331b0-29a1-4547-a439-d6ec01c7b5ec  1  1  0  1\n2717884a-acd0-475a-809b-e4c3e904aa1e  1  1  0  1\n3f846f16-d139-47d7-ab3f-5cdd0c695d86  1  1  0  1\n5468b04e-ade9-4443-86ac-365b443b0dc2  1  1  0  0\nb62da8a1-8b4c-47cb-8bd7-8a9e5bc71ad2  1  1  0  0\ne1600448-5fa5-4ba2-8938-eaf768f2d7fa  1  1  0  0\n53d9ead4-a565-4a00-9e31-4b6336d94503  1  1  0  0\n9a824deb-3993-481e-9652-25a456922dd4  1  1  0  0\nf596c0f1-efc1-4314-a92f-254469585926  1  0  1  1\ne2a21ad1-c3a8-436d-8473-ea7613c31694  1  0  1  0\n76a09edf-b8e1-4cd7-9a86-57f941662fb9  1  0  0  1\n2a103ae2-9dc4-44f7-b31e-94fd0d8419df  1  0  0  0\n92a39693-16e3-4c07-99c2-325ed6e8802b  0  1  1  1\ne693fac5-2693-4712-bab8-814f1c06af2b  0  1  1  1\n1d5b5cdf-abac-461d-873e-1f7ffa251af4  0  1  1  0\nc4e4b6fc-b842-41ae-8a80-4f82a22ec3f9  0  1  1  0\n4c0f6062-6bf7-4b1a-9af4-0501e4b7a271  0  1  0  1\n88042d00-c162-4c58-b8c3-9d1bdd3b27ff  0  1  0  1\n3cc0c421-1a21-467e-b609-e5b90ac0107d  0  1  0  0\na35276d4-6816-4a9f-9b4e-2974ed898c06  0  1  0  0",
      "text/html": "<div>\n<style scoped>\n    .dataframe tbody tr th:only-of-type {\n        vertical-align: middle;\n    }\n\n    .dataframe tbody tr th {\n        vertical-align: top;\n    }\n\n    .dataframe thead th {\n        text-align: right;\n    }\n</style>\n<table border=\"1\" class=\"dataframe\">\n  <thead>\n    <tr style=\"text-align: right;\">\n      <th></th>\n      <th>0</th>\n      <th>1</th>\n      <th>2</th>\n      <th>3</th>\n    </tr>\n    <tr>\n      <th>em_uuid</th>\n      <th></th>\n      <th></th>\n      <th></th>\n      <th></th>\n    </tr>\n  </thead>\n  <tbody>\n    <tr>\n      <th>82a5963e-8b34-4909-a6fe-f8a5d630714f</th>\n      <td>1</td>\n      <td>1</td>\n      <td>1</td>\n      <td>1</td>\n    </tr>\n    <tr>\n      <th>a20a27bc-d8dc-474a-a067-13768efa12b0</th>\n      <td>1</td>\n      <td>1</td>\n      <td>1</td>\n      <td>1</td>\n    </tr>\n    <tr>\n      <th>368b7d20-246c-47b4-99d9-59ecb09d262f</th>\n      <td>1</td>\n      <td>1</td>\n      <td>1</td>\n      <td>1</td>\n    </tr>\n    <tr>\n      <th>7578de94-39da-461a-a7e9-35887d5cd069</th>\n      <td>1</td>\n      <td>1</td>\n      <td>1</td>\n      <td>1</td>\n    </tr>\n    <tr>\n      <th>32bdf883-bf93-41d4-8df0-341c643c0dde</th>\n      <td>1</td>\n      <td>1</td>\n      <td>1</td>\n      <td>1</td>\n    </tr>\n    <tr>\n      <th>fc066082-5114-46dc-81e9-aadd5bdb5a5c</th>\n      <td>1</td>\n      <td>1</td>\n      <td>1</td>\n      <td>0</td>\n    </tr>\n    <tr>\n      <th>c91910c7-8052-439d-bbb5-82a9a6f33805</th>\n      <td>1</td>\n      <td>1</td>\n      <td>1</td>\n      <td>0</td>\n    </tr>\n    <tr>\n      <th>97cbb95f-ba3d-4cf2-ab8a-ebf6cd581bf2</th>\n      <td>1</td>\n      <td>1</td>\n      <td>1</td>\n      <td>0</td>\n    </tr>\n    <tr>\n      <th>da9b5c51-9fcc-4b3f-9fcb-331b5fe9071e</th>\n      <td>1</td>\n      <td>1</td>\n      <td>1</td>\n      <td>0</td>\n    </tr>\n    <tr>\n      <th>268ac12a-5617-4de7-a63a-27a2ae13fbf9</th>\n      <td>1</td>\n      <td>1</td>\n      <td>1</td>\n      <td>0</td>\n    </tr>\n    <tr>\n      <th>54c41a9b-071b-4ac4-ba52-daa5adf82281</th>\n      <td>1</td>\n      <td>1</td>\n      <td>0</td>\n      <td>1</td>\n    </tr>\n    <tr>\n      <th>e791a888-38dd-481a-9558-e15e3780d887</th>\n      <td>1</td>\n      <td>1</td>\n      <td>0</td>\n      <td>1</td>\n    </tr>\n    <tr>\n      <th>a03331b0-29a1-4547-a439-d6ec01c7b5ec</th>\n      <td>1</td>\n      <td>1</td>\n      <td>0</td>\n      <td>1</td>\n    </tr>\n    <tr>\n      <th>2717884a-acd0-475a-809b-e4c3e904aa1e</th>\n      <td>1</td>\n      <td>1</td>\n      <td>0</td>\n      <td>1</td>\n    </tr>\n    <tr>\n      <th>3f846f16-d139-47d7-ab3f-5cdd0c695d86</th>\n      <td>1</td>\n      <td>1</td>\n      <td>0</td>\n      <td>1</td>\n    </tr>\n    <tr>\n      <th>5468b04e-ade9-4443-86ac-365b443b0dc2</th>\n      <td>1</td>\n      <td>1</td>\n      <td>0</td>\n      <td>0</td>\n    </tr>\n    <tr>\n      <th>b62da8a1-8b4c-47cb-8bd7-8a9e5bc71ad2</th>\n      <td>1</td>\n      <td>1</td>\n      <td>0</td>\n      <td>0</td>\n    </tr>\n    <tr>\n      <th>e1600448-5fa5-4ba2-8938-eaf768f2d7fa</th>\n      <td>1</td>\n      <td>1</td>\n      <td>0</td>\n      <td>0</td>\n    </tr>\n    <tr>\n      <th>53d9ead4-a565-4a00-9e31-4b6336d94503</th>\n      <td>1</td>\n      <td>1</td>\n      <td>0</td>\n      <td>0</td>\n    </tr>\n    <tr>\n      <th>9a824deb-3993-481e-9652-25a456922dd4</th>\n      <td>1</td>\n      <td>1</td>\n      <td>0</td>\n      <td>0</td>\n    </tr>\n    <tr>\n      <th>f596c0f1-efc1-4314-a92f-254469585926</th>\n      <td>1</td>\n      <td>0</td>\n      <td>1</td>\n      <td>1</td>\n    </tr>\n    <tr>\n      <th>e2a21ad1-c3a8-436d-8473-ea7613c31694</th>\n      <td>1</td>\n      <td>0</td>\n      <td>1</td>\n      <td>0</td>\n    </tr>\n    <tr>\n      <th>76a09edf-b8e1-4cd7-9a86-57f941662fb9</th>\n      <td>1</td>\n      <td>0</td>\n      <td>0</td>\n      <td>1</td>\n    </tr>\n    <tr>\n      <th>2a103ae2-9dc4-44f7-b31e-94fd0d8419df</th>\n      <td>1</td>\n      <td>0</td>\n      <td>0</td>\n      <td>0</td>\n    </tr>\n    <tr>\n      <th>92a39693-16e3-4c07-99c2-325ed6e8802b</th>\n      <td>0</td>\n      <td>1</td>\n      <td>1</td>\n      <td>1</td>\n    </tr>\n    <tr>\n      <th>e693fac5-2693-4712-bab8-814f1c06af2b</th>\n      <td>0</td>\n      <td>1</td>\n      <td>1</td>\n      <td>1</td>\n    </tr>\n    <tr>\n      <th>1d5b5cdf-abac-461d-873e-1f7ffa251af4</th>\n      <td>0</td>\n      <td>1</td>\n      <td>1</td>\n      <td>0</td>\n    </tr>\n    <tr>\n      <th>c4e4b6fc-b842-41ae-8a80-4f82a22ec3f9</th>\n      <td>0</td>\n      <td>1</td>\n      <td>1</td>\n      <td>0</td>\n    </tr>\n    <tr>\n      <th>4c0f6062-6bf7-4b1a-9af4-0501e4b7a271</th>\n      <td>0</td>\n      <td>1</td>\n      <td>0</td>\n      <td>1</td>\n    </tr>\n    <tr>\n      <th>88042d00-c162-4c58-b8c3-9d1bdd3b27ff</th>\n      <td>0</td>\n      <td>1</td>\n      <td>0</td>\n      <td>1</td>\n    </tr>\n    <tr>\n      <th>3cc0c421-1a21-467e-b609-e5b90ac0107d</th>\n      <td>0</td>\n      <td>1</td>\n      <td>0</td>\n      <td>0</td>\n    </tr>\n    <tr>\n      <th>a35276d4-6816-4a9f-9b4e-2974ed898c06</th>\n      <td>0</td>\n      <td>1</td>\n      <td>0</td>\n      <td>0</td>\n    </tr>\n  </tbody>\n</table>\n</div>"
     },
     "execution_count": 8,
     "metadata": {},
     "output_type": "execute_result"
    }
   ],
   "source": [
    "\n",
    "folder_glz_cases = r'C:\\tmp\\20231121_flex_testminigrid_2023-11-21_08-37-58\\input\\GLZ'\n",
    "file_name_glz_cases = 'em_to_case_dict.csv'\n",
    "em_cases_dict = pd.read_csv(os.path.join(folder_glz_cases, file_name_glz_cases), index_col=0).rename_axis(index='em_uuid')\n",
    "\n",
    "em_cases_dict"
   ],
   "metadata": {
    "collapsed": false,
    "ExecuteTime": {
     "end_time": "2023-12-18T14:51:46.032525500Z",
     "start_time": "2023-12-18T14:51:45.917946300Z"
    }
   },
   "id": "16acef8733d8dce7"
  },
  {
   "cell_type": "code",
   "execution_count": 9,
   "outputs": [],
   "source": [
    "ems_grid = gwr.grid.participants.ems\n",
    "ems_results=gwr.results.participants.ems"
   ],
   "metadata": {
    "collapsed": false,
    "ExecuteTime": {
     "end_time": "2023-12-18T14:51:46.035524900Z",
     "start_time": "2023-12-18T14:51:45.939613100Z"
    }
   },
   "id": "ebdbb77332b1db6c"
  },
  {
   "cell_type": "code",
   "execution_count": 10,
   "outputs": [],
   "source": [
    "def getEmInstalledCapacatiyFromUuid(em_uuid, ems_grid):\n",
    "\n",
    "    load_srated=0\n",
    "    hp_srated=0\n",
    "    evcs_srated=0\n",
    "    bs_srated=0\n",
    "    pv_srated=0\n",
    "    total_s_rated_em_load_direction = 0\n",
    "    total_s_rated_em_feedin_direction = 0\n",
    "    em_installed_capacity = pd.DataFrame(columns=['s_rated_em_load_direction', 's_rated_em_feedin_direction'])   \n",
    "    \n",
    "    for conected_asset in ems_grid.connected_assets.get(em_uuid):\n",
    "        if gwr.grid.participants.loads.__contains__(conected_asset):\n",
    "            load_srated=gwr.grid.participants.loads.get(conected_asset)['s_rated']     \n",
    "        if gwr.grid.participants.hps.__contains__(conected_asset):\n",
    "            hp_srated=gwr.grid.participants.hps.get(conected_asset)['s_rated']\n",
    "        if gwr.grid.participants.evcs.__contains__(conected_asset):\n",
    "            evcs_srated=gwr.grid.participants.evcs.get(conected_asset)['power']\n",
    "        if gwr.grid.participants.storages.__contains__(conected_asset):\n",
    "            bs_srated=gwr.grid.participants.storages.get(conected_asset)['s_rated']\n",
    "        if gwr.grid.participants.pvs.__contains__(conected_asset):\n",
    "            pv_srated=gwr.grid.participants.pvs.get(conected_asset)['s_rated']\n",
    "            \n",
    "    ##### TODO FIXME: LOAD INCLUDED HERE OR NOT????????????????????????????????????????????????????????????????????\n",
    "    s_rated_em_load_direction = load_srated + hp_srated + evcs_srated + bs_srated\n",
    "    s_rated_em_feedin_direction = evcs_srated + bs_srated + pv_srated\n",
    "    em_installed_capacity.loc[em_uuid]= [s_rated_em_load_direction,s_rated_em_feedin_direction]\n",
    "                \n",
    "    return em_installed_capacity"
   ],
   "metadata": {
    "collapsed": false,
    "ExecuteTime": {
     "end_time": "2023-12-18T14:51:46.073257Z",
     "start_time": "2023-12-18T14:51:45.945615300Z"
    }
   },
   "id": "654d7c4a460bf98e"
  },
  {
   "cell_type": "code",
   "execution_count": 11,
   "outputs": [
    {
     "name": "stdout",
     "output_type": "stream",
     "text": [
      "                                      0  1  2  3\n",
      "em_uuid                                         \n",
      "82a5963e-8b34-4909-a6fe-f8a5d630714f  1  1  1  1\n",
      "a20a27bc-d8dc-474a-a067-13768efa12b0  1  1  1  1\n",
      "368b7d20-246c-47b4-99d9-59ecb09d262f  1  1  1  1\n",
      "7578de94-39da-461a-a7e9-35887d5cd069  1  1  1  1\n",
      "32bdf883-bf93-41d4-8df0-341c643c0dde  1  1  1  1\n",
      "fc066082-5114-46dc-81e9-aadd5bdb5a5c  1  1  1  0\n",
      "c91910c7-8052-439d-bbb5-82a9a6f33805  1  1  1  0\n",
      "97cbb95f-ba3d-4cf2-ab8a-ebf6cd581bf2  1  1  1  0\n",
      "da9b5c51-9fcc-4b3f-9fcb-331b5fe9071e  1  1  1  0\n",
      "268ac12a-5617-4de7-a63a-27a2ae13fbf9  1  1  1  0\n",
      "54c41a9b-071b-4ac4-ba52-daa5adf82281  1  1  0  1\n",
      "e791a888-38dd-481a-9558-e15e3780d887  1  1  0  1\n",
      "a03331b0-29a1-4547-a439-d6ec01c7b5ec  1  1  0  1\n",
      "2717884a-acd0-475a-809b-e4c3e904aa1e  1  1  0  1\n",
      "3f846f16-d139-47d7-ab3f-5cdd0c695d86  1  1  0  1\n",
      "5468b04e-ade9-4443-86ac-365b443b0dc2  1  1  0  0\n",
      "b62da8a1-8b4c-47cb-8bd7-8a9e5bc71ad2  1  1  0  0\n",
      "e1600448-5fa5-4ba2-8938-eaf768f2d7fa  1  1  0  0\n",
      "53d9ead4-a565-4a00-9e31-4b6336d94503  1  1  0  0\n",
      "9a824deb-3993-481e-9652-25a456922dd4  1  1  0  0\n",
      "f596c0f1-efc1-4314-a92f-254469585926  1  0  1  1\n",
      "e2a21ad1-c3a8-436d-8473-ea7613c31694  1  0  1  0\n",
      "76a09edf-b8e1-4cd7-9a86-57f941662fb9  1  0  0  1\n",
      "2a103ae2-9dc4-44f7-b31e-94fd0d8419df  1  0  0  0\n",
      "92a39693-16e3-4c07-99c2-325ed6e8802b  0  1  1  1\n",
      "e693fac5-2693-4712-bab8-814f1c06af2b  0  1  1  1\n",
      "1d5b5cdf-abac-461d-873e-1f7ffa251af4  0  1  1  0\n",
      "c4e4b6fc-b842-41ae-8a80-4f82a22ec3f9  0  1  1  0\n",
      "4c0f6062-6bf7-4b1a-9af4-0501e4b7a271  0  1  0  1\n",
      "88042d00-c162-4c58-b8c3-9d1bdd3b27ff  0  1  0  1\n",
      "3cc0c421-1a21-467e-b609-e5b90ac0107d  0  1  0  0\n",
      "a35276d4-6816-4a9f-9b4e-2974ed898c06  0  1  0  0\n"
     ]
    }
   ],
   "source": [
    "print(em_cases_dict)"
   ],
   "metadata": {
    "collapsed": false,
    "ExecuteTime": {
     "end_time": "2023-12-18T14:51:46.164255900Z",
     "start_time": "2023-12-18T14:51:45.963951800Z"
    }
   },
   "id": "31068028499d1c0e"
  },
  {
   "cell_type": "code",
   "execution_count": 12,
   "outputs": [],
   "source": [
    "def getCasesFromConditions(dict, cond1, cond2, cond3, cond4):\n",
    "    filtered_uuids = []\n",
    "    \n",
    "    # Loop through the dictionary items and filter based on conditions\n",
    "    for uuid, values in dict.iterrows():\n",
    "        if values[0] == cond1 and values[1] == cond2 and values[2] == cond3 and values[3] == cond4:\n",
    "            filtered_uuids.append(uuid)\n",
    "    return  filtered_uuids\n"
   ],
   "metadata": {
    "collapsed": false,
    "ExecuteTime": {
     "end_time": "2023-12-18T14:51:46.166257400Z",
     "start_time": "2023-12-18T14:51:45.982951900Z"
    }
   },
   "id": "80a43ca24b7a9b9c"
  },
  {
   "cell_type": "code",
   "execution_count": 13,
   "outputs": [
    {
     "name": "stdout",
     "output_type": "stream",
     "text": [
      "['82a5963e-8b34-4909-a6fe-f8a5d630714f', 'a20a27bc-d8dc-474a-a067-13768efa12b0', '368b7d20-246c-47b4-99d9-59ecb09d262f', '7578de94-39da-461a-a7e9-35887d5cd069', '32bdf883-bf93-41d4-8df0-341c643c0dde']\n"
     ]
    }
   ],
   "source": [
    "test = getCasesFromConditions(em_cases_dict, 1,1,1,1)\n",
    "print(test)"
   ],
   "metadata": {
    "collapsed": false,
    "ExecuteTime": {
     "end_time": "2023-12-18T14:51:46.194254900Z",
     "start_time": "2023-12-18T14:51:45.994296Z"
    }
   },
   "id": "247d1a9f2f4082ba"
  },
  {
   "cell_type": "code",
   "execution_count": 14,
   "outputs": [],
   "source": [
    "if 1 == 0:\n",
    "    for item in test:\n",
    "        getEmInstalledCapacatiyFromUuid(item, ems_grid)\n",
    "    "
   ],
   "metadata": {
    "collapsed": false,
    "ExecuteTime": {
     "end_time": "2023-12-18T14:51:46.195255500Z",
     "start_time": "2023-12-18T14:51:46.010535200Z"
    }
   },
   "id": "627bc9331c85643"
  },
  {
   "cell_type": "code",
   "execution_count": 15,
   "outputs": [
    {
     "data": {
      "text/plain": "                                      s_rated_em_load_direction  \\\n82a5963e-8b34-4909-a6fe-f8a5d630714f                  39.234324   \na20a27bc-d8dc-474a-a067-13768efa12b0                  37.890073   \n368b7d20-246c-47b4-99d9-59ecb09d262f                  38.541396   \n7578de94-39da-461a-a7e9-35887d5cd069                  38.173961   \n32bdf883-bf93-41d4-8df0-341c643c0dde                  38.356602   \n\n                                      s_rated_em_feedin_direction  \n82a5963e-8b34-4909-a6fe-f8a5d630714f                    41.823098  \na20a27bc-d8dc-474a-a067-13768efa12b0                    39.287530  \n368b7d20-246c-47b4-99d9-59ecb09d262f                    39.825692  \n7578de94-39da-461a-a7e9-35887d5cd069                    37.580415  \n32bdf883-bf93-41d4-8df0-341c643c0dde                    38.752785  ",
      "text/html": "<div>\n<style scoped>\n    .dataframe tbody tr th:only-of-type {\n        vertical-align: middle;\n    }\n\n    .dataframe tbody tr th {\n        vertical-align: top;\n    }\n\n    .dataframe thead th {\n        text-align: right;\n    }\n</style>\n<table border=\"1\" class=\"dataframe\">\n  <thead>\n    <tr style=\"text-align: right;\">\n      <th></th>\n      <th>s_rated_em_load_direction</th>\n      <th>s_rated_em_feedin_direction</th>\n    </tr>\n  </thead>\n  <tbody>\n    <tr>\n      <th>82a5963e-8b34-4909-a6fe-f8a5d630714f</th>\n      <td>39.234324</td>\n      <td>41.823098</td>\n    </tr>\n    <tr>\n      <th>a20a27bc-d8dc-474a-a067-13768efa12b0</th>\n      <td>37.890073</td>\n      <td>39.287530</td>\n    </tr>\n    <tr>\n      <th>368b7d20-246c-47b4-99d9-59ecb09d262f</th>\n      <td>38.541396</td>\n      <td>39.825692</td>\n    </tr>\n    <tr>\n      <th>7578de94-39da-461a-a7e9-35887d5cd069</th>\n      <td>38.173961</td>\n      <td>37.580415</td>\n    </tr>\n    <tr>\n      <th>32bdf883-bf93-41d4-8df0-341c643c0dde</th>\n      <td>38.356602</td>\n      <td>38.752785</td>\n    </tr>\n  </tbody>\n</table>\n</div>"
     },
     "execution_count": 15,
     "metadata": {},
     "output_type": "execute_result"
    }
   ],
   "source": [
    "em_installed_capacity_res = pd.DataFrame(columns=['s_rated_em_load_direction', 's_rated_em_feedin_direction'])   \n",
    "for item in test:\n",
    "    val = getEmInstalledCapacatiyFromUuid(item, ems_grid)\n",
    "    em_installed_capacity_res.loc[item]= [val.values[0][0], val.values[0][1]]\n",
    "    \n",
    "\n",
    "em_installed_capacity_res"
   ],
   "metadata": {
    "collapsed": false,
    "ExecuteTime": {
     "end_time": "2023-12-18T14:51:46.223686900Z",
     "start_time": "2023-12-18T14:51:46.019526500Z"
    }
   },
   "id": "70cacd86d8e7b28c"
  },
  {
   "cell_type": "code",
   "execution_count": 16,
   "outputs": [
    {
     "data": {
      "text/plain": "['82a5963e-8b34-4909-a6fe-f8a5d630714f',\n 'a20a27bc-d8dc-474a-a067-13768efa12b0',\n '368b7d20-246c-47b4-99d9-59ecb09d262f',\n '7578de94-39da-461a-a7e9-35887d5cd069',\n '32bdf883-bf93-41d4-8df0-341c643c0dde',\n 'fc066082-5114-46dc-81e9-aadd5bdb5a5c',\n 'c91910c7-8052-439d-bbb5-82a9a6f33805',\n '97cbb95f-ba3d-4cf2-ab8a-ebf6cd581bf2',\n 'da9b5c51-9fcc-4b3f-9fcb-331b5fe9071e',\n '268ac12a-5617-4de7-a63a-27a2ae13fbf9',\n '54c41a9b-071b-4ac4-ba52-daa5adf82281',\n 'e791a888-38dd-481a-9558-e15e3780d887',\n 'a03331b0-29a1-4547-a439-d6ec01c7b5ec',\n '2717884a-acd0-475a-809b-e4c3e904aa1e',\n '3f846f16-d139-47d7-ab3f-5cdd0c695d86',\n '5468b04e-ade9-4443-86ac-365b443b0dc2',\n 'b62da8a1-8b4c-47cb-8bd7-8a9e5bc71ad2',\n 'e1600448-5fa5-4ba2-8938-eaf768f2d7fa',\n '53d9ead4-a565-4a00-9e31-4b6336d94503',\n '9a824deb-3993-481e-9652-25a456922dd4',\n 'f596c0f1-efc1-4314-a92f-254469585926',\n 'e2a21ad1-c3a8-436d-8473-ea7613c31694',\n '76a09edf-b8e1-4cd7-9a86-57f941662fb9',\n '2a103ae2-9dc4-44f7-b31e-94fd0d8419df',\n '92a39693-16e3-4c07-99c2-325ed6e8802b',\n 'e693fac5-2693-4712-bab8-814f1c06af2b',\n '1d5b5cdf-abac-461d-873e-1f7ffa251af4',\n 'c4e4b6fc-b842-41ae-8a80-4f82a22ec3f9',\n '4c0f6062-6bf7-4b1a-9af4-0501e4b7a271',\n '88042d00-c162-4c58-b8c3-9d1bdd3b27ff',\n '3cc0c421-1a21-467e-b609-e5b90ac0107d',\n 'a35276d4-6816-4a9f-9b4e-2974ed898c06']"
     },
     "execution_count": 16,
     "metadata": {},
     "output_type": "execute_result"
    }
   ],
   "source": [
    "test2 = em_cases_dict.index.tolist()\n",
    "test2"
   ],
   "metadata": {
    "collapsed": false,
    "ExecuteTime": {
     "end_time": "2023-12-18T14:51:46.244678Z",
     "start_time": "2023-12-18T14:51:46.064656200Z"
    }
   },
   "id": "cd36d607bf020694"
  },
  {
   "cell_type": "code",
   "execution_count": 17,
   "outputs": [
    {
     "data": {
      "text/plain": "                                      s_rated_em_load_direction  \\\n82a5963e-8b34-4909-a6fe-f8a5d630714f                  39.234324   \na20a27bc-d8dc-474a-a067-13768efa12b0                  37.890073   \n368b7d20-246c-47b4-99d9-59ecb09d262f                  38.541396   \n7578de94-39da-461a-a7e9-35887d5cd069                  38.173961   \n32bdf883-bf93-41d4-8df0-341c643c0dde                  38.356602   \nfc066082-5114-46dc-81e9-aadd5bdb5a5c                  34.981740   \nc91910c7-8052-439d-bbb5-82a9a6f33805                  36.254994   \n97cbb95f-ba3d-4cf2-ab8a-ebf6cd581bf2                  37.409071   \nda9b5c51-9fcc-4b3f-9fcb-331b5fe9071e                  35.242624   \n268ac12a-5617-4de7-a63a-27a2ae13fbf9                  35.903980   \n54c41a9b-071b-4ac4-ba52-daa5adf82281                  33.795608   \ne791a888-38dd-481a-9558-e15e3780d887                  32.232215   \na03331b0-29a1-4547-a439-d6ec01c7b5ec                  33.776087   \n2717884a-acd0-475a-809b-e4c3e904aa1e                  34.337441   \n3f846f16-d139-47d7-ab3f-5cdd0c695d86                  32.512725   \n5468b04e-ade9-4443-86ac-365b443b0dc2                  34.150716   \nb62da8a1-8b4c-47cb-8bd7-8a9e5bc71ad2                  32.638583   \ne1600448-5fa5-4ba2-8938-eaf768f2d7fa                  33.785467   \n53d9ead4-a565-4a00-9e31-4b6336d94503                  31.108111   \n9a824deb-3993-481e-9652-25a456922dd4                  31.915166   \nf596c0f1-efc1-4314-a92f-254469585926                  19.056081   \ne2a21ad1-c3a8-436d-8473-ea7613c31694                  11.664079   \n76a09edf-b8e1-4cd7-9a86-57f941662fb9                  11.933406   \n2a103ae2-9dc4-44f7-b31e-94fd0d8419df                  11.493362   \n92a39693-16e3-4c07-99c2-325ed6e8802b                  31.498458   \ne693fac5-2693-4712-bab8-814f1c06af2b                  30.823079   \n1d5b5cdf-abac-461d-873e-1f7ffa251af4                  28.752607   \nc4e4b6fc-b842-41ae-8a80-4f82a22ec3f9                  28.439232   \n4c0f6062-6bf7-4b1a-9af4-0501e4b7a271                  25.000000   \n88042d00-c162-4c58-b8c3-9d1bdd3b27ff                  25.000000   \n3cc0c421-1a21-467e-b609-e5b90ac0107d                  25.000000   \na35276d4-6816-4a9f-9b4e-2974ed898c06                  25.000000   \n\n                                      s_rated_em_feedin_direction  \n82a5963e-8b34-4909-a6fe-f8a5d630714f                    41.823098  \na20a27bc-d8dc-474a-a067-13768efa12b0                    39.287530  \n368b7d20-246c-47b4-99d9-59ecb09d262f                    39.825692  \n7578de94-39da-461a-a7e9-35887d5cd069                    37.580415  \n32bdf883-bf93-41d4-8df0-341c643c0dde                    38.752785  \nfc066082-5114-46dc-81e9-aadd5bdb5a5c                    36.984494  \nc91910c7-8052-439d-bbb5-82a9a6f33805                    38.683048  \n97cbb95f-ba3d-4cf2-ab8a-ebf6cd581bf2                    43.875149  \nda9b5c51-9fcc-4b3f-9fcb-331b5fe9071e                    37.549176  \n268ac12a-5617-4de7-a63a-27a2ae13fbf9                    40.742874  \n54c41a9b-071b-4ac4-ba52-daa5adf82281                    42.523085  \ne791a888-38dd-481a-9558-e15e3780d887                    38.875167  \na03331b0-29a1-4547-a439-d6ec01c7b5ec                    42.477535  \n2717884a-acd0-475a-809b-e4c3e904aa1e                    43.787363  \n3f846f16-d139-47d7-ab3f-5cdd0c695d86                    39.529692  \n5468b04e-ade9-4443-86ac-365b443b0dc2                    43.351672  \nb62da8a1-8b4c-47cb-8bd7-8a9e5bc71ad2                    39.823359  \ne1600448-5fa5-4ba2-8938-eaf768f2d7fa                    42.499423  \n53d9ead4-a565-4a00-9e31-4b6336d94503                    36.252260  \n9a824deb-3993-481e-9652-25a456922dd4                    38.135388  \nf596c0f1-efc1-4314-a92f-254469585926                    24.472710  \ne2a21ad1-c3a8-436d-8473-ea7613c31694                    14.784302  \n76a09edf-b8e1-4cd7-9a86-57f941662fb9                    20.844614  \n2a103ae2-9dc4-44f7-b31e-94fd0d8419df                    19.817846  \n92a39693-16e3-4c07-99c2-325ed6e8802b                    32.005169  \ne693fac5-2693-4712-bab8-814f1c06af2b                    29.339805  \n1d5b5cdf-abac-461d-873e-1f7ffa251af4                    32.874286  \nc4e4b6fc-b842-41ae-8a80-4f82a22ec3f9                    33.979801  \n4c0f6062-6bf7-4b1a-9af4-0501e4b7a271                    28.370158  \n88042d00-c162-4c58-b8c3-9d1bdd3b27ff                    32.599999  \n3cc0c421-1a21-467e-b609-e5b90ac0107d                    29.778737  \na35276d4-6816-4a9f-9b4e-2974ed898c06                    31.088267  ",
      "text/html": "<div>\n<style scoped>\n    .dataframe tbody tr th:only-of-type {\n        vertical-align: middle;\n    }\n\n    .dataframe tbody tr th {\n        vertical-align: top;\n    }\n\n    .dataframe thead th {\n        text-align: right;\n    }\n</style>\n<table border=\"1\" class=\"dataframe\">\n  <thead>\n    <tr style=\"text-align: right;\">\n      <th></th>\n      <th>s_rated_em_load_direction</th>\n      <th>s_rated_em_feedin_direction</th>\n    </tr>\n  </thead>\n  <tbody>\n    <tr>\n      <th>82a5963e-8b34-4909-a6fe-f8a5d630714f</th>\n      <td>39.234324</td>\n      <td>41.823098</td>\n    </tr>\n    <tr>\n      <th>a20a27bc-d8dc-474a-a067-13768efa12b0</th>\n      <td>37.890073</td>\n      <td>39.287530</td>\n    </tr>\n    <tr>\n      <th>368b7d20-246c-47b4-99d9-59ecb09d262f</th>\n      <td>38.541396</td>\n      <td>39.825692</td>\n    </tr>\n    <tr>\n      <th>7578de94-39da-461a-a7e9-35887d5cd069</th>\n      <td>38.173961</td>\n      <td>37.580415</td>\n    </tr>\n    <tr>\n      <th>32bdf883-bf93-41d4-8df0-341c643c0dde</th>\n      <td>38.356602</td>\n      <td>38.752785</td>\n    </tr>\n    <tr>\n      <th>fc066082-5114-46dc-81e9-aadd5bdb5a5c</th>\n      <td>34.981740</td>\n      <td>36.984494</td>\n    </tr>\n    <tr>\n      <th>c91910c7-8052-439d-bbb5-82a9a6f33805</th>\n      <td>36.254994</td>\n      <td>38.683048</td>\n    </tr>\n    <tr>\n      <th>97cbb95f-ba3d-4cf2-ab8a-ebf6cd581bf2</th>\n      <td>37.409071</td>\n      <td>43.875149</td>\n    </tr>\n    <tr>\n      <th>da9b5c51-9fcc-4b3f-9fcb-331b5fe9071e</th>\n      <td>35.242624</td>\n      <td>37.549176</td>\n    </tr>\n    <tr>\n      <th>268ac12a-5617-4de7-a63a-27a2ae13fbf9</th>\n      <td>35.903980</td>\n      <td>40.742874</td>\n    </tr>\n    <tr>\n      <th>54c41a9b-071b-4ac4-ba52-daa5adf82281</th>\n      <td>33.795608</td>\n      <td>42.523085</td>\n    </tr>\n    <tr>\n      <th>e791a888-38dd-481a-9558-e15e3780d887</th>\n      <td>32.232215</td>\n      <td>38.875167</td>\n    </tr>\n    <tr>\n      <th>a03331b0-29a1-4547-a439-d6ec01c7b5ec</th>\n      <td>33.776087</td>\n      <td>42.477535</td>\n    </tr>\n    <tr>\n      <th>2717884a-acd0-475a-809b-e4c3e904aa1e</th>\n      <td>34.337441</td>\n      <td>43.787363</td>\n    </tr>\n    <tr>\n      <th>3f846f16-d139-47d7-ab3f-5cdd0c695d86</th>\n      <td>32.512725</td>\n      <td>39.529692</td>\n    </tr>\n    <tr>\n      <th>5468b04e-ade9-4443-86ac-365b443b0dc2</th>\n      <td>34.150716</td>\n      <td>43.351672</td>\n    </tr>\n    <tr>\n      <th>b62da8a1-8b4c-47cb-8bd7-8a9e5bc71ad2</th>\n      <td>32.638583</td>\n      <td>39.823359</td>\n    </tr>\n    <tr>\n      <th>e1600448-5fa5-4ba2-8938-eaf768f2d7fa</th>\n      <td>33.785467</td>\n      <td>42.499423</td>\n    </tr>\n    <tr>\n      <th>53d9ead4-a565-4a00-9e31-4b6336d94503</th>\n      <td>31.108111</td>\n      <td>36.252260</td>\n    </tr>\n    <tr>\n      <th>9a824deb-3993-481e-9652-25a456922dd4</th>\n      <td>31.915166</td>\n      <td>38.135388</td>\n    </tr>\n    <tr>\n      <th>f596c0f1-efc1-4314-a92f-254469585926</th>\n      <td>19.056081</td>\n      <td>24.472710</td>\n    </tr>\n    <tr>\n      <th>e2a21ad1-c3a8-436d-8473-ea7613c31694</th>\n      <td>11.664079</td>\n      <td>14.784302</td>\n    </tr>\n    <tr>\n      <th>76a09edf-b8e1-4cd7-9a86-57f941662fb9</th>\n      <td>11.933406</td>\n      <td>20.844614</td>\n    </tr>\n    <tr>\n      <th>2a103ae2-9dc4-44f7-b31e-94fd0d8419df</th>\n      <td>11.493362</td>\n      <td>19.817846</td>\n    </tr>\n    <tr>\n      <th>92a39693-16e3-4c07-99c2-325ed6e8802b</th>\n      <td>31.498458</td>\n      <td>32.005169</td>\n    </tr>\n    <tr>\n      <th>e693fac5-2693-4712-bab8-814f1c06af2b</th>\n      <td>30.823079</td>\n      <td>29.339805</td>\n    </tr>\n    <tr>\n      <th>1d5b5cdf-abac-461d-873e-1f7ffa251af4</th>\n      <td>28.752607</td>\n      <td>32.874286</td>\n    </tr>\n    <tr>\n      <th>c4e4b6fc-b842-41ae-8a80-4f82a22ec3f9</th>\n      <td>28.439232</td>\n      <td>33.979801</td>\n    </tr>\n    <tr>\n      <th>4c0f6062-6bf7-4b1a-9af4-0501e4b7a271</th>\n      <td>25.000000</td>\n      <td>28.370158</td>\n    </tr>\n    <tr>\n      <th>88042d00-c162-4c58-b8c3-9d1bdd3b27ff</th>\n      <td>25.000000</td>\n      <td>32.599999</td>\n    </tr>\n    <tr>\n      <th>3cc0c421-1a21-467e-b609-e5b90ac0107d</th>\n      <td>25.000000</td>\n      <td>29.778737</td>\n    </tr>\n    <tr>\n      <th>a35276d4-6816-4a9f-9b4e-2974ed898c06</th>\n      <td>25.000000</td>\n      <td>31.088267</td>\n    </tr>\n  </tbody>\n</table>\n</div>"
     },
     "execution_count": 17,
     "metadata": {},
     "output_type": "execute_result"
    }
   ],
   "source": [
    "em_installed_capacity_res_2 = pd.DataFrame(columns=['s_rated_em_load_direction', 's_rated_em_feedin_direction'])   \n",
    "for item in test2:\n",
    "    val = getEmInstalledCapacatiyFromUuid(item, ems_grid)\n",
    "    em_installed_capacity_res_2.loc[item]= [val.values[0][0], val.values[0][1]]\n",
    "    \n",
    "\n",
    "em_installed_capacity_res_2"
   ],
   "metadata": {
    "collapsed": false,
    "ExecuteTime": {
     "end_time": "2023-12-18T14:51:46.433673Z",
     "start_time": "2023-12-18T14:51:46.081258200Z"
    }
   },
   "id": "d9e87ec022489812"
  },
  {
   "cell_type": "code",
   "execution_count": 18,
   "outputs": [
    {
     "name": "stdout",
     "output_type": "stream",
     "text": [
      "37.89007324623006\n"
     ]
    }
   ],
   "source": [
    "print(em_installed_capacity_res.loc['a20a27bc-d8dc-474a-a067-13768efa12b0','s_rated_em_load_direction'])\n"
   ],
   "metadata": {
    "collapsed": false,
    "ExecuteTime": {
     "end_time": "2023-12-18T14:51:46.455676100Z",
     "start_time": "2023-12-18T14:51:46.213679900Z"
    }
   },
   "id": "320e41388e48e737"
  },
  {
   "cell_type": "code",
   "execution_count": 19,
   "outputs": [],
   "source": [
    "if 0 ==1:\n",
    "    uu = '019f1307-e73e-40b2-9277-22f960aafc1e'\n",
    "    gwr.results.participants.evcs.get(uu).p.max()"
   ],
   "metadata": {
    "collapsed": false,
    "ExecuteTime": {
     "end_time": "2023-12-18T14:51:46.824552500Z",
     "start_time": "2023-12-18T14:51:46.652299400Z"
    }
   },
   "id": "f150b8e49a37f8f2"
  },
  {
   "cell_type": "code",
   "execution_count": 20,
   "outputs": [],
   "source": [
    "from pypsdm.processing.series import quarter_hourly_mean_resample\n",
    "if 0 == 1 :\n",
    "    df_res = quarter_hourly_mean_resample(gwr.results.participants.ems.p)\n",
    "    df_res = df_res.filter(em_installed_capacity_res.index)\n",
    "    for column in df_res.columns:\n",
    "        print(column)"
   ],
   "metadata": {
    "collapsed": false,
    "ExecuteTime": {
     "end_time": "2023-12-18T14:51:47.626044200Z",
     "start_time": "2023-12-18T14:51:47.621117200Z"
    }
   },
   "id": "2d60fa1b87955a35"
  },
  {
   "cell_type": "code",
   "execution_count": 21,
   "outputs": [],
   "source": [
    "def normalize_dataframe_min_max(df):\n",
    "    normalized_df = df  # Create a copy of the original DataFrame\n",
    "    \n",
    "    # Loop through each column in the DataFrame\n",
    "    for column in df.columns:\n",
    "        # Check if the column contains numerical data (you may want to refine this condition based on your specific DataFrame)\n",
    "        if df[column].dtype in [int, float]:\n",
    "                min_val = df[column].min()  # Calculate the minimum value of the column\n",
    "                max_val = df[column].max()  # Calculate the maximum value of the column\n",
    "            \n",
    "                # Min-Max normalization formula: (x - min) / (max - min)\n",
    "                normalized_df[column] = (df[column] - min_val) / (max_val - min_val)\n",
    "    \n",
    "    return normalized_df"
   ],
   "metadata": {
    "collapsed": false,
    "ExecuteTime": {
     "end_time": "2023-12-18T14:51:48.331185500Z",
     "start_time": "2023-12-18T14:51:48.320173100Z"
    }
   },
   "id": "67f8fc5936294712"
  },
  {
   "cell_type": "code",
   "execution_count": 22,
   "outputs": [],
   "source": [
    "from pypsdm.processing.series import quarter_hourly_mean_resample\n",
    "\n",
    "for item in gwr.results.participants.evcs:\n",
    "    test=(quarter_hourly_mean_resample(gwr.results.participants.evcs.get(item).p))\n",
    "    "
   ],
   "metadata": {
    "collapsed": false,
    "ExecuteTime": {
     "end_time": "2023-12-18T14:51:48.993028500Z",
     "start_time": "2023-12-18T14:51:48.970914800Z"
    }
   },
   "id": "c16d2d6766d02198"
  },
  {
   "cell_type": "code",
   "execution_count": 23,
   "outputs": [
    {
     "data": {
      "text/plain": "                                      s_rated_em_load_direction  \\\nuuid                                                              \n82a5963e-8b34-4909-a6fe-f8a5d630714f                  39.234324   \na20a27bc-d8dc-474a-a067-13768efa12b0                  37.890073   \n368b7d20-246c-47b4-99d9-59ecb09d262f                  38.541396   \n7578de94-39da-461a-a7e9-35887d5cd069                  38.173961   \n32bdf883-bf93-41d4-8df0-341c643c0dde                  38.356602   \n\n                                      s_rated_em_feedin_direction  \nuuid                                                               \n82a5963e-8b34-4909-a6fe-f8a5d630714f                    41.823098  \na20a27bc-d8dc-474a-a067-13768efa12b0                    39.287530  \n368b7d20-246c-47b4-99d9-59ecb09d262f                    39.825692  \n7578de94-39da-461a-a7e9-35887d5cd069                    37.580415  \n32bdf883-bf93-41d4-8df0-341c643c0dde                    38.752785  ",
      "text/html": "<div>\n<style scoped>\n    .dataframe tbody tr th:only-of-type {\n        vertical-align: middle;\n    }\n\n    .dataframe tbody tr th {\n        vertical-align: top;\n    }\n\n    .dataframe thead th {\n        text-align: right;\n    }\n</style>\n<table border=\"1\" class=\"dataframe\">\n  <thead>\n    <tr style=\"text-align: right;\">\n      <th></th>\n      <th>s_rated_em_load_direction</th>\n      <th>s_rated_em_feedin_direction</th>\n    </tr>\n    <tr>\n      <th>uuid</th>\n      <th></th>\n      <th></th>\n    </tr>\n  </thead>\n  <tbody>\n    <tr>\n      <th>82a5963e-8b34-4909-a6fe-f8a5d630714f</th>\n      <td>39.234324</td>\n      <td>41.823098</td>\n    </tr>\n    <tr>\n      <th>a20a27bc-d8dc-474a-a067-13768efa12b0</th>\n      <td>37.890073</td>\n      <td>39.287530</td>\n    </tr>\n    <tr>\n      <th>368b7d20-246c-47b4-99d9-59ecb09d262f</th>\n      <td>38.541396</td>\n      <td>39.825692</td>\n    </tr>\n    <tr>\n      <th>7578de94-39da-461a-a7e9-35887d5cd069</th>\n      <td>38.173961</td>\n      <td>37.580415</td>\n    </tr>\n    <tr>\n      <th>32bdf883-bf93-41d4-8df0-341c643c0dde</th>\n      <td>38.356602</td>\n      <td>38.752785</td>\n    </tr>\n  </tbody>\n</table>\n</div>"
     },
     "execution_count": 23,
     "metadata": {},
     "output_type": "execute_result"
    }
   ],
   "source": [
    "em_installed_capacity_res= em_installed_capacity_res.rename_axis('uuid')\n",
    "em_installed_capacity_res"
   ],
   "metadata": {
    "collapsed": false,
    "ExecuteTime": {
     "end_time": "2023-12-18T14:51:49.458627200Z",
     "start_time": "2023-12-18T14:51:49.409261700Z"
    }
   },
   "id": "8d53c6cf970a3469"
  },
  {
   "cell_type": "code",
   "execution_count": 24,
   "outputs": [
    {
     "name": "stdout",
     "output_type": "stream",
     "text": [
      "Value from the first column: 38.35660233400342\n"
     ]
    }
   ],
   "source": [
    "uuid_to_search = '32bdf883-bf93-41d4-8df0-341c643c0dde'  # Replace with the UUID you're searching for\n",
    "\n",
    "# Filter the DataFrame based on the UUID\n",
    "filtered_row = em_installed_capacity_res[em_installed_capacity_res.index == uuid_to_search]\n",
    "\n",
    "if not filtered_row.empty:\n",
    "    first_column_value = filtered_row.iloc[0, 0]  # Assuming the first column is at index 0\n",
    "    print(\"Value from the first column:\", first_column_value)\n",
    "else:\n",
    "    print(\"UUID not found in the DataFrame\")\n"
   ],
   "metadata": {
    "collapsed": false,
    "ExecuteTime": {
     "end_time": "2023-12-18T14:51:50.598113300Z",
     "start_time": "2023-12-18T14:51:50.579594500Z"
    }
   },
   "id": "2ab0a256bb21f421"
  },
  {
   "cell_type": "code",
   "execution_count": 1,
   "outputs": [
    {
     "ename": "NameError",
     "evalue": "name 'gwr' is not defined",
     "output_type": "error",
     "traceback": [
      "\u001B[1;31m---------------------------------------------------------------------------\u001B[0m",
      "\u001B[1;31mNameError\u001B[0m                                 Traceback (most recent call last)",
      "Cell \u001B[1;32mIn[1], line 30\u001B[0m\n\u001B[0;32m     19\u001B[0m \u001B[38;5;124;03m\"\"\"\u001B[39;00m\n\u001B[0;32m     20\u001B[0m \u001B[38;5;124;03m Initialisierung\u001B[39;00m\n\u001B[0;32m     21\u001B[0m \u001B[38;5;124;03m\"\"\"\u001B[39;00m\n\u001B[0;32m     24\u001B[0m \u001B[38;5;66;03m# Initialisierung\u001B[39;00m\n\u001B[0;32m     25\u001B[0m \u001B[38;5;66;03m#temp_profile = pd.DataFrame(np.zeros(shape=(0, num_vehicles)))\u001B[39;00m\n\u001B[0;32m     26\u001B[0m \u001B[38;5;66;03m#temp_sim = pd.DataFrame(np.zeros(shape=(num_mc, 1)))\u001B[39;00m\n\u001B[0;32m     27\u001B[0m \n\u001B[0;32m     28\u001B[0m \u001B[38;5;66;03m# Einlesen der Daten:\u001B[39;00m\n\u001B[1;32m---> 30\u001B[0m df_resample \u001B[38;5;241m=\u001B[39m quarter_hourly_mean_resample(\u001B[43mgwr\u001B[49m\u001B[38;5;241m.\u001B[39mresults\u001B[38;5;241m.\u001B[39mparticipants\u001B[38;5;241m.\u001B[39mloads\u001B[38;5;241m.\u001B[39mp)\n\u001B[0;32m     31\u001B[0m \u001B[38;5;66;03m# df_resample = df_resample.filter(em_installed_capacity_res.index)\u001B[39;00m\n\u001B[0;32m     32\u001B[0m \u001B[38;5;66;03m# df_norm = normalize_dataframe_by_installed_capacity(df_resample, em_installed_capacity_res)\u001B[39;00m\n\u001B[0;32m     33\u001B[0m \u001B[38;5;66;03m# df_norm = normalize_dataframe_min_max(df_resample)\u001B[39;00m\n\u001B[0;32m     34\u001B[0m df \u001B[38;5;241m=\u001B[39m df_resample\n",
      "\u001B[1;31mNameError\u001B[0m: name 'gwr' is not defined"
     ]
    }
   ],
   "source": [
    "from pypsdm.analysis.concurrency import (calc_glg, curve_regression, do_all_glg_plots)\n",
    "from datetime import datetime\n",
    "from pypsdm.processing.series import quarter_hourly_mean_resample\n",
    "\n",
    "# Get the folder path where the files are located\n",
    "folder_inputs = r'C:\\tmp\\20231121_flex_testminigrid_2023-11-21_08-37-58\\input\\grid'\n",
    "folder_res = r'C:\\tmp\\20231121_flex_testminigrid_2023-11-21_08-37-58\\rawOutputData'\n",
    "# endtime = datetime(2020,1,1)\n",
    "endtime = datetime(2019, 12, 31)\n",
    "\n",
    "\n",
    "\n",
    "# Parameter, die einzustellen sind:\n",
    "#num_vehicles = 100\n",
    "# len_curve = 150  # Ziel: 150, gibt die maximale Anzahl an EV innerhalb der GZ-Kurve an\n",
    "len_curve = 25  # Ziel: 150, gibt die maximale Anzahl an EV innerhalb der GZ-Kurve an\n",
    "num_mc = 150  # Ziel: 1000, Anzahl an Monte-Carlo-Iterationen pro Punkt in der GZ-Kurve\n",
    "\n",
    "\"\"\"\n",
    " Initialisierung\n",
    "\"\"\"\n",
    "\n",
    "\n",
    "# Initialisierung\n",
    "#temp_profile = pd.DataFrame(np.zeros(shape=(0, num_vehicles)))\n",
    "#temp_sim = pd.DataFrame(np.zeros(shape=(num_mc, 1)))\n",
    "\n",
    "# Einlesen der Daten:\n",
    "\n",
    "df_resample = quarter_hourly_mean_resample(gwr.results.participants.loads.p)\n",
    "# df_resample = df_resample.filter(em_installed_capacity_res.index)\n",
    "# df_norm = normalize_dataframe_by_installed_capacity(df_resample, em_installed_capacity_res)\n",
    "# df_norm = normalize_dataframe_min_max(df_resample)\n",
    "df = df_resample\n",
    "\n",
    "sim_curve, quantile_95, quantile_95_tot, quantile_95_indices = calc_glg(df,em_installed_capacity_res_2, len_curve, num_mc)\n",
    "\n",
    "curve_regression(quantile_95_indices,quantile_95, quantile_95_tot)\n",
    "\n",
    "do_all_glg_plots(x,y,sim_curve,quantile_95_tot)\n",
    "\n"
   ],
   "metadata": {
    "collapsed": false,
    "ExecuteTime": {
     "end_time": "2023-12-18T14:53:41.282339400Z",
     "start_time": "2023-12-18T14:53:39.750564200Z"
    }
   },
   "id": "d568fdc95be8d4f6"
  },
  {
   "cell_type": "code",
   "execution_count": 28,
   "outputs": [
    {
     "name": "stdout",
     "output_type": "stream",
     "text": [
      "Calculate GZ for ev-number 1\n",
      "Calculate GZ for ev-number 2\n",
      "Calculate GZ for ev-number 3\n",
      "Calculate GZ for ev-number 4\n",
      "Calculate GZ for ev-number 5\n",
      "Calculate GZ for ev-number 6\n",
      "Calculate GZ for ev-number 7\n",
      "Calculate GZ for ev-number 8\n",
      "Calculate GZ for ev-number 9\n",
      "Calculate GZ for ev-number 10\n",
      "Calculate GZ for ev-number 11\n",
      "Calculate GZ for ev-number 12\n",
      "Calculate GZ for ev-number 13\n",
      "Calculate GZ for ev-number 14\n",
      "Calculate GZ for ev-number 15\n",
      "Calculate GZ for ev-number 16\n",
      "Calculate GZ for ev-number 17\n",
      "Calculate GZ for ev-number 18\n",
      "Calculate GZ for ev-number 19\n",
      "Calculate GZ for ev-number 20\n",
      "Calculate GZ for ev-number 21\n",
      "Calculate GZ for ev-number 22\n",
      "Calculate GZ for ev-number 23\n",
      "Calculate GZ for ev-number 24\n",
      "Calculate GZ for ev-number 25\n"
     ]
    },
    {
     "data": {
      "text/plain": "<Figure size 640x480 with 1 Axes>",
      "image/png": "[encoded data removed]"
     },
     "metadata": {},
     "output_type": "display_data"
    },
    {
     "data": {
      "text/plain": "<Figure size 640x480 with 1 Axes>",
      "image/png": "[encoded data removed]"
     },
     "metadata": {},
     "output_type": "display_data"
    },
    {
     "data": {
      "text/plain": "<Figure size 640x480 with 1 Axes>",
      "image/png": "[encoded data removed]"
     },
     "metadata": {},
     "output_type": "display_data"
    },
    {
     "data": {
      "text/plain": "<Figure size 640x480 with 1 Axes>",
      "image/png": "[encoded data removed]"
     },
     "metadata": {},
     "output_type": "display_data"
    }
   ],
   "source": [
    "\"\"\"\n",
    " Initialisierung\n",
    "\"\"\"\n",
    "# Parameter, die einzustellen sind:\n",
    "num_vehicles = 100\n",
    "#len_curve = 150  # Ziel: 150, gibt die maximale Anzahl an EV innerhalb der GZ-Kurve an\n",
    "len_curve = 25 # Ziel: 150, gibt die maximale Anzahl an EV innerhalb der GZ-Kurve an\n",
    "num_mc = 150  # Ziel: 1000, Anzahl an Monte-Carlo-Iterationen pro Punkt in der GZ-Kurve\n",
    "\n",
    "# Initialisierung\n",
    "temp_profile = pd.DataFrame(np.zeros(shape=(0, num_vehicles)))\n",
    "temp_sim = pd.DataFrame(np.zeros(shape=(num_mc, 1)))\n",
    "\n",
    "# Einlesen der Daten:\n",
    "\n",
    "df_resample = quarter_hourly_mean_resample(gwr.results.participants.loads.p)\n",
    "#df_resample = df_resample.filter(em_installed_capacity_res.index)\n",
    "#df_norm = normalize_dataframe_by_installed_capacity(df_resample, em_installed_capacity_res)\n",
    "#df_norm = normalize_dataframe_min_max(df_resample)\n",
    "df_norm = df_resample\n",
    "\n",
    "# Start: GZ-Kurve\n",
    "sim_curve, quantile_95_tot = calculate_gz(df_norm, em_installed_capacity_res_2, len_curve, num_mc)\n",
    "quantile_95_cut = quantile_95_tot.iloc[:, 0] < 1\n",
    "quantile_95 = quantile_95_tot.loc[quantile_95_cut, 0].to_numpy()\n",
    "quantile_95_indices = pd.Series(range(1, len(quantile_95)+1)).to_numpy()\n",
    "\n",
    "if 1 ==1 :\n",
    "    # Kurvenregression\n",
    "    param_opt, param_cov, r_squared = fit_sim_curve(quantile_95_indices, quantile_95)\n",
    "    a_opt, b_opt, c_opt = param_opt\n",
    "    fitted_sim = fit_function(quantile_95_indices, a_opt, b_opt, c_opt)\n",
    "    \n",
    "    x = np.arange(1, len(quantile_95_tot[0]) + 1)\n",
    "    y = np.ones_like(quantile_95_tot[0])\n",
    "    y[quantile_95_tot[0] < 1] = fitted_sim[:len(fitted_sim)]\n",
    "    \n",
    "\n",
    "if 1 == 1:\n",
    "    \"\"\"\n",
    "    Plots\n",
    "    \"\"\"\n",
    "    # Plot 2\n",
    "    #plt.plot(x, gz_bi, label='V2G (Laden)', color=(0.517, 0.721, 0.094))\n",
    "    #plt.plot(x, gz_bi_dis, label='V2G (Entladen)', color=(0.3, 0.3, 0.3))\n",
    "    plt.plot(x, y, label='Unidirektional', color=(0.717, 0.921, 0.294))\n",
    "    #plt.plot(x_unc, gz_unc, label='Ungesteuertes Laden', color=(0.6, 0.6, 0.6))\n",
    "    plt.grid(color='lightgrey', linestyle='-')\n",
    "    plt.xlabel('Anzahl der Fahrzeuge')\n",
    "    plt.ylim(0, 1.3)\n",
    "    plt.xlim(0, 155)\n",
    "    plt.ylabel('Gleichzeitigkeitsfaktor')\n",
    "    #plt.legend()\n",
    "    plt.show()\n",
    "    \n",
    "    plt.plot(x, y, label='Regressionskurve', color=(0.6, 0.6, 0.6))\n",
    "    plt.plot((quantile_95_tot.index + 1), quantile_95_tot, '.', label='95% Quantil', color=(0.517, 0.721, 0.094))\n",
    "    plt.grid(color='lightgrey', linestyle='-')\n",
    "    plt.xlabel('Anzahl der Fahrzeuge')\n",
    "    plt.ylim(0, 1.1)\n",
    "    plt.xlim(0, 155)\n",
    "    plt.ylabel('Gleichzeitigkeitsfaktor')\n",
    "    plt.legend()\n",
    "    plt.show()\n",
    "    \n",
    "    # Plot 1\n",
    "    plt.plot((sim_curve.index + 1), sim_curve, label='Maximale Gleichzeitigkeit', color=(0.6, 0.6, 0.6))\n",
    "    plt.grid(color='lightgrey', linestyle='-')\n",
    "    plt.plot((quantile_95_tot.index + 1), quantile_95_tot, '.', label='95% Quantil', color=(0.517, 0.721, 0.094))\n",
    "    plt.plot(x, y, label='Regressionskurve', color=(0.3, 0.3, 0.3))\n",
    "    plt.xlabel('Anzahl der Fahrzeuge')\n",
    "    plt.ylim(0, 1.1)\n",
    "    plt.xlim(0, 155)\n",
    "    plt.ylabel('Gleichzeitigkeitsfaktor')\n",
    "    plt.legend()\n",
    "    plt.show()\n",
    "    \n",
    "    # Plot 3\n",
    "    plt.plot(x, y, label='95% Quantil', color=(0.517, 0.721, 0.094))\n",
    "    plt.grid(color='lightgrey', linestyle='-')\n",
    "    plt.xlabel('Anzahl der Fahrzeuge')\n",
    "    plt.ylim(0, 1.1)\n",
    "    plt.xlim(0, 155)\n",
    "    plt.ylabel('Gleichzeitigkeitsfaktor')\n",
    "    plt.show()\n"
   ],
   "metadata": {
    "collapsed": false,
    "ExecuteTime": {
     "end_time": "2023-12-18T14:17:49.119463900Z",
     "start_time": "2023-12-18T14:17:29.047313400Z"
    }
   },
   "id": "e7907d9a88b2bdb9"
  },
  {
   "cell_type": "code",
   "execution_count": 30,
   "outputs": [
    {
     "name": "stdout",
     "output_type": "stream",
     "text": [
      "load 0.0006915860014892033\n",
      "pv [0.]\n",
      "storage [0.]\n",
      "evcs [0.]\n",
      "hps [0.00555915]\n",
      "[0.00625074]\n"
     ]
    }
   ],
   "source": [
    "testdf=gwr.results.participants.loads.get('a30bb0a8-e3c1-4575-8d85-a0f4743e0722').p\n",
    "profile_row = datetime(2019,1,9,0,30)\n",
    "load=testdf[profile_row]\n",
    "print('load ' + load.__str__())\n",
    "\n",
    "testdf=gwr.results.participants.pvs.get('53b6196d-11e7-45d5-b5e3-7afff2aeb44a')\n",
    "pvs=testdf[profile_row].p.values\n",
    "\n",
    "print('pv ' + pvs.__str__())\n",
    "\n",
    "testdf=gwr.results.participants.storages.get('438ca8f7-f8f2-4f5e-8214-a2ac8122f0a0')\n",
    "print('storage ' + testdf[profile_row].p.values.__str__())\n",
    "\n",
    "testdf=gwr.results.participants.evcs.get('5abd3b40-3553-4a26-90a5-ed234380ed51')\n",
    "print('evcs ' + testdf[profile_row].p.values.__str__())\n",
    "\n",
    "testdf=gwr.results.participants.hps.get('e0fd50f1-bbbe-4817-b378-38835d440c0c')\n",
    "hps = testdf[profile_row].p.values\n",
    "print('hps ' + hps.__str__())\n",
    "\n",
    "summe = load + hps\n",
    "print(summe)"
   ],
   "metadata": {
    "collapsed": false,
    "ExecuteTime": {
     "end_time": "2023-12-18T14:06:09.926118300Z",
     "start_time": "2023-12-18T14:06:09.912813Z"
    }
   },
   "id": "4c9a3c306d40d999"
  },
  {
   "cell_type": "markdown",
   "source": [
    "\n"
   ],
   "metadata": {
    "collapsed": false
   },
   "id": "890ce54bec090b76"
  }
 ],
 "metadata": {
  "kernelspec": {
   "display_name": "Python 3",
   "language": "python",
   "name": "python3"
  },
  "language_info": {
   "codemirror_mode": {
    "name": "ipython",
    "version": 2
   },
   "file_extension": ".py",
   "mimetype": "text/x-python",
   "name": "python",
   "nbconvert_exporter": "python",
   "pygments_lexer": "ipython2",
   "version": "2.7.6"
  }
 },
 "nbformat": 4,
 "nbformat_minor": 5
}
