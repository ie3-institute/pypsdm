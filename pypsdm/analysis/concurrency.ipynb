{
 "cells": [
  {
   "cell_type": "code",
   "execution_count": 1,
   "outputs": [],
   "source": [
    "import pandas as pd\n",
    "import numpy as np\n",
    "\n",
    "bug_fix_factor = 1\n",
    "\n",
    "def get_concurrency_from_SIMONA_v3(country_code, scenario, folderInputs, folderRes, folderResForStefan, fileNamingVersion):\n",
    "    # Berechnung der Gleichzeitigkeit aus SOMINA-Ergebnissen\n",
    "    success = False\n",
    "\n",
    "    # Test-Werte für debugging\n",
    "    country_code = 'DE0_0'\n",
    "    scenario = 'sz1b'\n",
    "    folderInputs = 'C:\\\\Users\\\\Workstation\\\\Desktop\\\\TNG\\\\sz1b\\\\DE0_0\\\\DE0_0_2022-12-06_19-52-48\\\\'\n",
    "    folderRes = 'C:\\\\Users\\\\Workstation\\\\Desktop\\\\TNG\\\\sz1b\\\\DE0_0\\\\DE0_0_2022-12-06_19-52-48\\\\'\n",
    "    fileNamingVersion = 2  # Dateien wurden umbenannt (1=_timeseries, 2=_res)\n",
    "\n",
    "    # Other settings\n",
    "    bugFixFactor = 1  # 5.111 -> Fehler wurde in SIMONA behoben\n",
    "    somePlots = True\n",
    "\n",
    "    print('#### Ermittle Gleichzeitgkeitsfunktion ########')\n",
    "    print(f' # country:  {country_code}')\n",
    "    print(f' # scenario: {scenario}')\n",
    "\n",
    "    # ... Rest of the code ...\n",
    "    # The remaining part of the code involves various operations including file loading, data manipulation, calculations,\n",
    "    # and data visualization which would be handled separately due to its length and complexity.\n",
    "    # You can use pandas for reading CSV files, numpy for array operations, and matplotlib for plotting in Python.\n",
    "\n",
    "    return success\n",
    "\n"
   ],
   "metadata": {
    "collapsed": false,
    "ExecuteTime": {
     "end_time": "2023-11-17T15:14:54.193624300Z",
     "start_time": "2023-11-17T15:14:53.593331600Z"
    }
   },
   "id": "initial_id"
  },
  {
   "cell_type": "code",
   "execution_count": 2,
   "outputs": [
    {
     "name": "stdout",
     "output_type": "stream",
     "text": [
      "Warning: There is an artifact at certain time points!\n"
     ]
    }
   ],
   "source": [
    "import numpy as np\n",
    "\n",
    "# Define the time duration\n",
    "T = 366 * 96\n",
    "includeTime = np.ones(T, dtype=bool)\n",
    "\n",
    "# Exclude specific time ranges\n",
    "exclude_ranges = np.concatenate([np.arange(17470, 17470 + 96 * 2), np.arange(34860, T)])\n",
    "includeTime[exclude_ranges] = False\n",
    "\n",
    "# Issue a warning about the artifact at specific time points\n",
    "print(\"Warning: There is an artifact at certain time points!\")\n",
    "\n",
    "# Now 'includeTime' is a boolean array where certain time points are marked to be excluded\n"
   ],
   "metadata": {
    "collapsed": false,
    "ExecuteTime": {
     "end_time": "2023-11-17T15:14:54.205807900Z",
     "start_time": "2023-11-17T15:14:54.195626300Z"
    }
   },
   "id": "e4fd58a68caa8583"
  },
  {
   "cell_type": "code",
   "execution_count": 3,
   "outputs": [],
   "source": [
    "# Define GZG parameters\n",
    "GZG = {\n",
    "    'P_LP': 11,\n",
    "    'N_MC': 2000,\n",
    "    'Kurve': [1, 2, 4, 6, 8, 10, 15, 20, 30, 50, 100, 150, 200],\n",
    "    'cases': {\n",
    "        1: {'EV': True, 'HP': True, 'PV': True},\n",
    "        2: {'EV': True, 'HP': False, 'PV': True},\n",
    "        3: {'EV': False, 'HP': True, 'PV': True},\n",
    "        4: {'EV': True, 'HP': True, 'PV': False},\n",
    "        5: {'EV': True, 'HP': False, 'PV': False},\n",
    "        6: {'EV': False, 'HP': True, 'PV': False}\n",
    "    }\n",
    "}\n"
   ],
   "metadata": {
    "collapsed": false,
    "ExecuteTime": {
     "end_time": "2023-11-17T15:14:54.539630800Z",
     "start_time": "2023-11-17T15:14:54.528115500Z"
    }
   },
   "id": "824102154a088821"
  },
  {
   "cell_type": "code",
   "execution_count": 4,
   "outputs": [],
   "source": [
    "# List of file names\n",
    "file_names = [\n",
    "    'hp_res.csv',\n",
    "    'hp_input.csv',\n",
    "    'evcs_res.csv',\n",
    "    'evcs_input.csv',\n",
    "    'pv_res.csv',\n",
    "    'pv_input.csv',\n",
    "    'em_input.csv',\n",
    "    'load_res.csv',\n",
    "    'load_input.csv',\n",
    "    'storage_res.csv',\n",
    "    'storage_input.csv'\n",
    "]\n"
   ],
   "metadata": {
    "collapsed": false,
    "ExecuteTime": {
     "end_time": "2023-11-17T15:14:54.839535300Z",
     "start_time": "2023-11-17T15:14:54.833016Z"
    }
   },
   "id": "2bf5d8d78e0ffe4e"
  },
  {
   "cell_type": "code",
   "execution_count": 4,
   "outputs": [],
   "source": [],
   "metadata": {
    "collapsed": false,
    "ExecuteTime": {
     "end_time": "2023-11-17T15:14:55.245744800Z",
     "start_time": "2023-11-17T15:14:55.238223700Z"
    }
   },
   "id": "da7f8e60778d57de"
  },
  {
   "cell_type": "code",
   "execution_count": 5,
   "outputs": [
    {
     "name": "stdout",
     "output_type": "stream",
     "text": [
      "Input data loading\n"
     ]
    },
    {
     "data": {
      "text/plain": "                                               id  \\\nuuid                                                \nf612dd58-4ce4-4ec4-9d46-459b3a9428b9   House_15_1   \n40eec983-ecff-41df-ba23-138bc9005231   House_15_2   \nd1094dec-1ec1-4a8d-841f-d962508e41a2   House_15_3   \na24b4c58-6594-4968-98e7-9c2b0393a8f6   House_15_4   \n0a234b30-4469-4084-a2bc-748f71a40589   House_15_5   \nd77d5329-4223-4dd2-9d26-c8e5a9245f9f   House_15_6   \ne670a1ea-777f-4118-9c46-eaf3d3b58644   House_15_7   \n3f7828fb-c268-4acd-b936-ca2fb12a51b2   House_15_8   \n9b0c37e8-5ec7-433c-839f-aaeb2bfa6233   House_15_9   \n3f11ce27-006d-4237-9922-4524577e71b6  House_15_10   \n6b2e3229-3d37-4c21-acf4-95e94d5eeb80  House_15_11   \n5134b6e8-931a-4349-813b-88e1fbe21820  House_15_12   \n5ba62ac4-1c90-4b4d-8ddd-a00ccc0f546b  House_15_13   \n1416998d-aec1-4397-b284-4d6b70bf1753  House_15_14   \nf9592ef6-1fbf-43e4-9268-98daac369d66  House_15_15   \n8373a6db-59bf-4dce-9eaf-bc9ef3417e67  House_15_16   \n6241e1d9-8349-483a-80ef-180e4a241f3a  House_15_17   \n0c894631-94ee-4bc5-8684-3cde8c4806f2  House_15_18   \ne3623848-76af-4312-87dd-59e4b3655f2b  House_15_19   \na5cd6d74-1f61-451c-8727-5430b3f8977e  House_15_20   \nd32575e1-83ae-4454-acd0-6cd1f0cad1aa  House_15_21   \na29720a6-54d8-42bd-a9ac-182b5ed3748f  House_15_22   \n30c44a4b-b66e-418c-a733-e9d38c2e3e2c  House_15_23   \n99d66c43-249e-42a4-a81d-95742c27a45e  House_15_24   \n7e9d00be-8a4c-455b-a8c4-2f609b54d094  House_15_25   \n4027958d-0dd1-408d-a53b-b3976864798d  House_15_26   \n0ee9906a-4204-4102-be23-13dc775e5f69  House_15_27   \nf7154d2f-890a-428f-84cd-abb5399a0721  House_15_28   \nbe8cde4d-7389-4f33-a7ef-9194d4cbd79e  House_15_29   \n16e9fd1e-e37a-460a-9ea0-682751980371  House_15_30   \n6cc4d3ef-f480-4766-9fe6-445e72bedbb3  House_15_31   \n032b9074-d561-449c-8bd1-6d6b6c23f8e5  House_15_32   \n\n                                                                      node  \\\nuuid                                                                         \nf612dd58-4ce4-4ec4-9d46-459b3a9428b9  e3c3c6a3-c383-4dbb-9b3f-a14125615386   \n40eec983-ecff-41df-ba23-138bc9005231  e3c3c6a3-c383-4dbb-9b3f-a14125615386   \nd1094dec-1ec1-4a8d-841f-d962508e41a2  e3c3c6a3-c383-4dbb-9b3f-a14125615386   \na24b4c58-6594-4968-98e7-9c2b0393a8f6  e3c3c6a3-c383-4dbb-9b3f-a14125615386   \n0a234b30-4469-4084-a2bc-748f71a40589  e3c3c6a3-c383-4dbb-9b3f-a14125615386   \nd77d5329-4223-4dd2-9d26-c8e5a9245f9f  e3c3c6a3-c383-4dbb-9b3f-a14125615386   \ne670a1ea-777f-4118-9c46-eaf3d3b58644  e3c3c6a3-c383-4dbb-9b3f-a14125615386   \n3f7828fb-c268-4acd-b936-ca2fb12a51b2  e3c3c6a3-c383-4dbb-9b3f-a14125615386   \n9b0c37e8-5ec7-433c-839f-aaeb2bfa6233  e3c3c6a3-c383-4dbb-9b3f-a14125615386   \n3f11ce27-006d-4237-9922-4524577e71b6  e3c3c6a3-c383-4dbb-9b3f-a14125615386   \n6b2e3229-3d37-4c21-acf4-95e94d5eeb80  e3c3c6a3-c383-4dbb-9b3f-a14125615386   \n5134b6e8-931a-4349-813b-88e1fbe21820  e3c3c6a3-c383-4dbb-9b3f-a14125615386   \n5ba62ac4-1c90-4b4d-8ddd-a00ccc0f546b  e3c3c6a3-c383-4dbb-9b3f-a14125615386   \n1416998d-aec1-4397-b284-4d6b70bf1753  e3c3c6a3-c383-4dbb-9b3f-a14125615386   \nf9592ef6-1fbf-43e4-9268-98daac369d66  e3c3c6a3-c383-4dbb-9b3f-a14125615386   \n8373a6db-59bf-4dce-9eaf-bc9ef3417e67  e3c3c6a3-c383-4dbb-9b3f-a14125615386   \n6241e1d9-8349-483a-80ef-180e4a241f3a  e3c3c6a3-c383-4dbb-9b3f-a14125615386   \n0c894631-94ee-4bc5-8684-3cde8c4806f2  e3c3c6a3-c383-4dbb-9b3f-a14125615386   \ne3623848-76af-4312-87dd-59e4b3655f2b  e3c3c6a3-c383-4dbb-9b3f-a14125615386   \na5cd6d74-1f61-451c-8727-5430b3f8977e  e3c3c6a3-c383-4dbb-9b3f-a14125615386   \nd32575e1-83ae-4454-acd0-6cd1f0cad1aa  e3c3c6a3-c383-4dbb-9b3f-a14125615386   \na29720a6-54d8-42bd-a9ac-182b5ed3748f  e3c3c6a3-c383-4dbb-9b3f-a14125615386   \n30c44a4b-b66e-418c-a733-e9d38c2e3e2c  e3c3c6a3-c383-4dbb-9b3f-a14125615386   \n99d66c43-249e-42a4-a81d-95742c27a45e  e3c3c6a3-c383-4dbb-9b3f-a14125615386   \n7e9d00be-8a4c-455b-a8c4-2f609b54d094  e3c3c6a3-c383-4dbb-9b3f-a14125615386   \n4027958d-0dd1-408d-a53b-b3976864798d  e3c3c6a3-c383-4dbb-9b3f-a14125615386   \n0ee9906a-4204-4102-be23-13dc775e5f69  e3c3c6a3-c383-4dbb-9b3f-a14125615386   \nf7154d2f-890a-428f-84cd-abb5399a0721  e3c3c6a3-c383-4dbb-9b3f-a14125615386   \nbe8cde4d-7389-4f33-a7ef-9194d4cbd79e  e3c3c6a3-c383-4dbb-9b3f-a14125615386   \n16e9fd1e-e37a-460a-9ea0-682751980371  e3c3c6a3-c383-4dbb-9b3f-a14125615386   \n6cc4d3ef-f480-4766-9fe6-445e72bedbb3  e3c3c6a3-c383-4dbb-9b3f-a14125615386   \n032b9074-d561-449c-8bd1-6d6b6c23f8e5  e3c3c6a3-c383-4dbb-9b3f-a14125615386   \n\n                                                                       connected_assets  \\\nuuid                                                                                      \nf612dd58-4ce4-4ec4-9d46-459b3a9428b9  b8ed6a33-d7dc-4cf4-8a31-6e90427dff1f 8f6399a1-...   \n40eec983-ecff-41df-ba23-138bc9005231  3dc576df-9533-4f32-8070-32c330f2d49f 0004cba4-...   \nd1094dec-1ec1-4a8d-841f-d962508e41a2  54777c1f-c402-4e6c-9e72-5aa992ba8f53 00652030-...   \na24b4c58-6594-4968-98e7-9c2b0393a8f6  bb57540c-417d-4b35-aceb-0b2d4641b5bf 850e12fb-...   \n0a234b30-4469-4084-a2bc-748f71a40589  2ac407c1-f52a-4160-bb16-24c2e873310d 105837c7-...   \nd77d5329-4223-4dd2-9d26-c8e5a9245f9f  53cf250b-6829-4d70-98ef-2bd5f32c7deb e854a393-...   \ne670a1ea-777f-4118-9c46-eaf3d3b58644  96e87d12-cd60-4c9a-bd5c-15fd13039e37 238b32cf-...   \n3f7828fb-c268-4acd-b936-ca2fb12a51b2  2637d1ae-bbd2-4122-8845-38df9b180ac6 2ac889c0-...   \n9b0c37e8-5ec7-433c-839f-aaeb2bfa6233  8513fe88-4b30-4ebe-bbc3-fe21a424a902 9b83a965-...   \n3f11ce27-006d-4237-9922-4524577e71b6  b286db31-b0b2-4435-86c9-1e55919cc0b9 10d40fcb-...   \n6b2e3229-3d37-4c21-acf4-95e94d5eeb80  ae791357-eb70-42f9-bfa2-1d2d03115e60 72d3f156-...   \n5134b6e8-931a-4349-813b-88e1fbe21820  5e8b985c-d0f6-4abc-85a6-31e10ba3fdb4 c5d0e315-...   \n5ba62ac4-1c90-4b4d-8ddd-a00ccc0f546b  aef268f3-3708-4a67-b00d-402653286f62 b7d65a9e-...   \n1416998d-aec1-4397-b284-4d6b70bf1753  95dfb5f9-c20e-42e9-bb84-fd52b8cda066 b84d701c-...   \nf9592ef6-1fbf-43e4-9268-98daac369d66  11cd3303-875a-4bca-8837-51c5a82a609e d857f201-...   \n8373a6db-59bf-4dce-9eaf-bc9ef3417e67  7c9258ae-35f0-4406-9aa0-8a972a11937e 0102d96d-...   \n6241e1d9-8349-483a-80ef-180e4a241f3a  c5b34127-6b1b-4f66-993d-24d8f7594541 7c2eca74-...   \n0c894631-94ee-4bc5-8684-3cde8c4806f2  164d4819-eba0-4f63-a36a-5abded95ba95 daeaf040-...   \ne3623848-76af-4312-87dd-59e4b3655f2b  641121be-3479-47b9-9dc3-1efe1fcae461 59a9db19-...   \na5cd6d74-1f61-451c-8727-5430b3f8977e  030143b7-257e-4ff8-b745-0eabb0dd7c9a abe2a770-...   \nd32575e1-83ae-4454-acd0-6cd1f0cad1aa  49f2bdee-0fc0-4296-baaa-357621aa2049 a67a6b64-...   \na29720a6-54d8-42bd-a9ac-182b5ed3748f  724be3c0-1049-45f8-b3f7-5f2bf2667835 7ca6ae71-...   \n30c44a4b-b66e-418c-a733-e9d38c2e3e2c  9dedbe52-e1c9-4233-8d01-1e111f72f355 e5cb1ed7-...   \n99d66c43-249e-42a4-a81d-95742c27a45e  39124360-87b7-4323-ae74-b1f20a841ed1 f3070eaa-...   \n7e9d00be-8a4c-455b-a8c4-2f609b54d094  c95617aa-2ed4-4ba2-912c-0e3ae8165567 688033ce-...   \n4027958d-0dd1-408d-a53b-b3976864798d  a5bc2b3b-f6f8-431d-91b8-fa8cae90d825 68ee3ed3-...   \n0ee9906a-4204-4102-be23-13dc775e5f69  83e8a216-aeb1-4f27-94d3-abe8cdf18d41 cdd021e6-...   \nf7154d2f-890a-428f-84cd-abb5399a0721  73e83215-c446-4b57-846c-0eb032390a36 8f75a8ce-...   \nbe8cde4d-7389-4f33-a7ef-9194d4cbd79e  efc5ba20-e128-4721-a850-c10dbb8dfdb8 483a128d-...   \n16e9fd1e-e37a-460a-9ea0-682751980371  33321951-abb5-48e7-bf0c-7f23d2fa7fa1 205c5029-...   \n6cc4d3ef-f480-4766-9fe6-445e72bedbb3  fd8a1790-910d-45cd-9d47-14dc8868723c 581f501a-...   \n032b9074-d561-449c-8bd1-6d6b6c23f8e5  cc0ebc91-23d2-4296-8810-53db8ad41005 766604fb-...   \n\n                                       control_strategy  \\\nuuid                                                      \nf612dd58-4ce4-4ec4-9d46-459b3a9428b9  self_optimization   \n40eec983-ecff-41df-ba23-138bc9005231  self_optimization   \nd1094dec-1ec1-4a8d-841f-d962508e41a2  self_optimization   \na24b4c58-6594-4968-98e7-9c2b0393a8f6  self_optimization   \n0a234b30-4469-4084-a2bc-748f71a40589  self_optimization   \nd77d5329-4223-4dd2-9d26-c8e5a9245f9f  self_optimization   \ne670a1ea-777f-4118-9c46-eaf3d3b58644  self_optimization   \n3f7828fb-c268-4acd-b936-ca2fb12a51b2  self_optimization   \n9b0c37e8-5ec7-433c-839f-aaeb2bfa6233  self_optimization   \n3f11ce27-006d-4237-9922-4524577e71b6  self_optimization   \n6b2e3229-3d37-4c21-acf4-95e94d5eeb80  self_optimization   \n5134b6e8-931a-4349-813b-88e1fbe21820  self_optimization   \n5ba62ac4-1c90-4b4d-8ddd-a00ccc0f546b  self_optimization   \n1416998d-aec1-4397-b284-4d6b70bf1753  self_optimization   \nf9592ef6-1fbf-43e4-9268-98daac369d66  self_optimization   \n8373a6db-59bf-4dce-9eaf-bc9ef3417e67  self_optimization   \n6241e1d9-8349-483a-80ef-180e4a241f3a  self_optimization   \n0c894631-94ee-4bc5-8684-3cde8c4806f2  self_optimization   \ne3623848-76af-4312-87dd-59e4b3655f2b  self_optimization   \na5cd6d74-1f61-451c-8727-5430b3f8977e  self_optimization   \nd32575e1-83ae-4454-acd0-6cd1f0cad1aa  self_optimization   \na29720a6-54d8-42bd-a9ac-182b5ed3748f  self_optimization   \n30c44a4b-b66e-418c-a733-e9d38c2e3e2c  self_optimization   \n99d66c43-249e-42a4-a81d-95742c27a45e  self_optimization   \n7e9d00be-8a4c-455b-a8c4-2f609b54d094  self_optimization   \n4027958d-0dd1-408d-a53b-b3976864798d  self_optimization   \n0ee9906a-4204-4102-be23-13dc775e5f69  self_optimization   \nf7154d2f-890a-428f-84cd-abb5399a0721  self_optimization   \nbe8cde4d-7389-4f33-a7ef-9194d4cbd79e  self_optimization   \n16e9fd1e-e37a-460a-9ea0-682751980371  self_optimization   \n6cc4d3ef-f480-4766-9fe6-445e72bedbb3  self_optimization   \n032b9074-d561-449c-8bd1-6d6b6c23f8e5  self_optimization   \n\n                                             q_characteristics  operates_from  \\\nuuid                                                                            \nf612dd58-4ce4-4ec4-9d46-459b3a9428b9  cosPhiFixed:{(0.0, 0.9)}            NaN   \n40eec983-ecff-41df-ba23-138bc9005231  cosPhiFixed:{(0.0, 0.9)}            NaN   \nd1094dec-1ec1-4a8d-841f-d962508e41a2  cosPhiFixed:{(0.0, 0.9)}            NaN   \na24b4c58-6594-4968-98e7-9c2b0393a8f6  cosPhiFixed:{(0.0, 0.9)}            NaN   \n0a234b30-4469-4084-a2bc-748f71a40589  cosPhiFixed:{(0.0, 0.9)}            NaN   \nd77d5329-4223-4dd2-9d26-c8e5a9245f9f  cosPhiFixed:{(0.0, 0.9)}            NaN   \ne670a1ea-777f-4118-9c46-eaf3d3b58644  cosPhiFixed:{(0.0, 0.9)}            NaN   \n3f7828fb-c268-4acd-b936-ca2fb12a51b2  cosPhiFixed:{(0.0, 0.9)}            NaN   \n9b0c37e8-5ec7-433c-839f-aaeb2bfa6233  cosPhiFixed:{(0.0, 0.9)}            NaN   \n3f11ce27-006d-4237-9922-4524577e71b6  cosPhiFixed:{(0.0, 0.9)}            NaN   \n6b2e3229-3d37-4c21-acf4-95e94d5eeb80  cosPhiFixed:{(0.0, 0.9)}            NaN   \n5134b6e8-931a-4349-813b-88e1fbe21820  cosPhiFixed:{(0.0, 0.9)}            NaN   \n5ba62ac4-1c90-4b4d-8ddd-a00ccc0f546b  cosPhiFixed:{(0.0, 0.9)}            NaN   \n1416998d-aec1-4397-b284-4d6b70bf1753  cosPhiFixed:{(0.0, 0.9)}            NaN   \nf9592ef6-1fbf-43e4-9268-98daac369d66  cosPhiFixed:{(0.0, 0.9)}            NaN   \n8373a6db-59bf-4dce-9eaf-bc9ef3417e67  cosPhiFixed:{(0.0, 0.9)}            NaN   \n6241e1d9-8349-483a-80ef-180e4a241f3a  cosPhiFixed:{(0.0, 0.9)}            NaN   \n0c894631-94ee-4bc5-8684-3cde8c4806f2  cosPhiFixed:{(0.0, 0.9)}            NaN   \ne3623848-76af-4312-87dd-59e4b3655f2b  cosPhiFixed:{(0.0, 0.9)}            NaN   \na5cd6d74-1f61-451c-8727-5430b3f8977e  cosPhiFixed:{(0.0, 0.9)}            NaN   \nd32575e1-83ae-4454-acd0-6cd1f0cad1aa  cosPhiFixed:{(0.0, 0.9)}            NaN   \na29720a6-54d8-42bd-a9ac-182b5ed3748f  cosPhiFixed:{(0.0, 0.9)}            NaN   \n30c44a4b-b66e-418c-a733-e9d38c2e3e2c  cosPhiFixed:{(0.0, 0.9)}            NaN   \n99d66c43-249e-42a4-a81d-95742c27a45e  cosPhiFixed:{(0.0, 0.9)}            NaN   \n7e9d00be-8a4c-455b-a8c4-2f609b54d094  cosPhiFixed:{(0.0, 0.9)}            NaN   \n4027958d-0dd1-408d-a53b-b3976864798d  cosPhiFixed:{(0.0, 0.9)}            NaN   \n0ee9906a-4204-4102-be23-13dc775e5f69  cosPhiFixed:{(0.0, 0.9)}            NaN   \nf7154d2f-890a-428f-84cd-abb5399a0721  cosPhiFixed:{(0.0, 0.9)}            NaN   \nbe8cde4d-7389-4f33-a7ef-9194d4cbd79e  cosPhiFixed:{(0.0, 0.9)}            NaN   \n16e9fd1e-e37a-460a-9ea0-682751980371  cosPhiFixed:{(0.0, 0.9)}            NaN   \n6cc4d3ef-f480-4766-9fe6-445e72bedbb3  cosPhiFixed:{(0.0, 0.9)}            NaN   \n032b9074-d561-449c-8bd1-6d6b6c23f8e5  cosPhiFixed:{(0.0, 0.9)}            NaN   \n\n                                      operates_until  operator  \nuuid                                                            \nf612dd58-4ce4-4ec4-9d46-459b3a9428b9             NaN       NaN  \n40eec983-ecff-41df-ba23-138bc9005231             NaN       NaN  \nd1094dec-1ec1-4a8d-841f-d962508e41a2             NaN       NaN  \na24b4c58-6594-4968-98e7-9c2b0393a8f6             NaN       NaN  \n0a234b30-4469-4084-a2bc-748f71a40589             NaN       NaN  \nd77d5329-4223-4dd2-9d26-c8e5a9245f9f             NaN       NaN  \ne670a1ea-777f-4118-9c46-eaf3d3b58644             NaN       NaN  \n3f7828fb-c268-4acd-b936-ca2fb12a51b2             NaN       NaN  \n9b0c37e8-5ec7-433c-839f-aaeb2bfa6233             NaN       NaN  \n3f11ce27-006d-4237-9922-4524577e71b6             NaN       NaN  \n6b2e3229-3d37-4c21-acf4-95e94d5eeb80             NaN       NaN  \n5134b6e8-931a-4349-813b-88e1fbe21820             NaN       NaN  \n5ba62ac4-1c90-4b4d-8ddd-a00ccc0f546b             NaN       NaN  \n1416998d-aec1-4397-b284-4d6b70bf1753             NaN       NaN  \nf9592ef6-1fbf-43e4-9268-98daac369d66             NaN       NaN  \n8373a6db-59bf-4dce-9eaf-bc9ef3417e67             NaN       NaN  \n6241e1d9-8349-483a-80ef-180e4a241f3a             NaN       NaN  \n0c894631-94ee-4bc5-8684-3cde8c4806f2             NaN       NaN  \ne3623848-76af-4312-87dd-59e4b3655f2b             NaN       NaN  \na5cd6d74-1f61-451c-8727-5430b3f8977e             NaN       NaN  \nd32575e1-83ae-4454-acd0-6cd1f0cad1aa             NaN       NaN  \na29720a6-54d8-42bd-a9ac-182b5ed3748f             NaN       NaN  \n30c44a4b-b66e-418c-a733-e9d38c2e3e2c             NaN       NaN  \n99d66c43-249e-42a4-a81d-95742c27a45e             NaN       NaN  \n7e9d00be-8a4c-455b-a8c4-2f609b54d094             NaN       NaN  \n4027958d-0dd1-408d-a53b-b3976864798d             NaN       NaN  \n0ee9906a-4204-4102-be23-13dc775e5f69             NaN       NaN  \nf7154d2f-890a-428f-84cd-abb5399a0721             NaN       NaN  \nbe8cde4d-7389-4f33-a7ef-9194d4cbd79e             NaN       NaN  \n16e9fd1e-e37a-460a-9ea0-682751980371             NaN       NaN  \n6cc4d3ef-f480-4766-9fe6-445e72bedbb3             NaN       NaN  \n032b9074-d561-449c-8bd1-6d6b6c23f8e5             NaN       NaN  ",
      "text/html": "<div>\n<style scoped>\n    .dataframe tbody tr th:only-of-type {\n        vertical-align: middle;\n    }\n\n    .dataframe tbody tr th {\n        vertical-align: top;\n    }\n\n    .dataframe thead th {\n        text-align: right;\n    }\n</style>\n<table border=\"1\" class=\"dataframe\">\n  <thead>\n    <tr style=\"text-align: right;\">\n      <th></th>\n      <th>id</th>\n      <th>node</th>\n      <th>connected_assets</th>\n      <th>control_strategy</th>\n      <th>q_characteristics</th>\n      <th>operates_from</th>\n      <th>operates_until</th>\n      <th>operator</th>\n    </tr>\n    <tr>\n      <th>uuid</th>\n      <th></th>\n      <th></th>\n      <th></th>\n      <th></th>\n      <th></th>\n      <th></th>\n      <th></th>\n      <th></th>\n    </tr>\n  </thead>\n  <tbody>\n    <tr>\n      <th>f612dd58-4ce4-4ec4-9d46-459b3a9428b9</th>\n      <td>House_15_1</td>\n      <td>e3c3c6a3-c383-4dbb-9b3f-a14125615386</td>\n      <td>b8ed6a33-d7dc-4cf4-8a31-6e90427dff1f 8f6399a1-...</td>\n      <td>self_optimization</td>\n      <td>cosPhiFixed:{(0.0, 0.9)}</td>\n      <td>NaN</td>\n      <td>NaN</td>\n      <td>NaN</td>\n    </tr>\n    <tr>\n      <th>40eec983-ecff-41df-ba23-138bc9005231</th>\n      <td>House_15_2</td>\n      <td>e3c3c6a3-c383-4dbb-9b3f-a14125615386</td>\n      <td>3dc576df-9533-4f32-8070-32c330f2d49f 0004cba4-...</td>\n      <td>self_optimization</td>\n      <td>cosPhiFixed:{(0.0, 0.9)}</td>\n      <td>NaN</td>\n      <td>NaN</td>\n      <td>NaN</td>\n    </tr>\n    <tr>\n      <th>d1094dec-1ec1-4a8d-841f-d962508e41a2</th>\n      <td>House_15_3</td>\n      <td>e3c3c6a3-c383-4dbb-9b3f-a14125615386</td>\n      <td>54777c1f-c402-4e6c-9e72-5aa992ba8f53 00652030-...</td>\n      <td>self_optimization</td>\n      <td>cosPhiFixed:{(0.0, 0.9)}</td>\n      <td>NaN</td>\n      <td>NaN</td>\n      <td>NaN</td>\n    </tr>\n    <tr>\n      <th>a24b4c58-6594-4968-98e7-9c2b0393a8f6</th>\n      <td>House_15_4</td>\n      <td>e3c3c6a3-c383-4dbb-9b3f-a14125615386</td>\n      <td>bb57540c-417d-4b35-aceb-0b2d4641b5bf 850e12fb-...</td>\n      <td>self_optimization</td>\n      <td>cosPhiFixed:{(0.0, 0.9)}</td>\n      <td>NaN</td>\n      <td>NaN</td>\n      <td>NaN</td>\n    </tr>\n    <tr>\n      <th>0a234b30-4469-4084-a2bc-748f71a40589</th>\n      <td>House_15_5</td>\n      <td>e3c3c6a3-c383-4dbb-9b3f-a14125615386</td>\n      <td>2ac407c1-f52a-4160-bb16-24c2e873310d 105837c7-...</td>\n      <td>self_optimization</td>\n      <td>cosPhiFixed:{(0.0, 0.9)}</td>\n      <td>NaN</td>\n      <td>NaN</td>\n      <td>NaN</td>\n    </tr>\n    <tr>\n      <th>d77d5329-4223-4dd2-9d26-c8e5a9245f9f</th>\n      <td>House_15_6</td>\n      <td>e3c3c6a3-c383-4dbb-9b3f-a14125615386</td>\n      <td>53cf250b-6829-4d70-98ef-2bd5f32c7deb e854a393-...</td>\n      <td>self_optimization</td>\n      <td>cosPhiFixed:{(0.0, 0.9)}</td>\n      <td>NaN</td>\n      <td>NaN</td>\n      <td>NaN</td>\n    </tr>\n    <tr>\n      <th>e670a1ea-777f-4118-9c46-eaf3d3b58644</th>\n      <td>House_15_7</td>\n      <td>e3c3c6a3-c383-4dbb-9b3f-a14125615386</td>\n      <td>96e87d12-cd60-4c9a-bd5c-15fd13039e37 238b32cf-...</td>\n      <td>self_optimization</td>\n      <td>cosPhiFixed:{(0.0, 0.9)}</td>\n      <td>NaN</td>\n      <td>NaN</td>\n      <td>NaN</td>\n    </tr>\n    <tr>\n      <th>3f7828fb-c268-4acd-b936-ca2fb12a51b2</th>\n      <td>House_15_8</td>\n      <td>e3c3c6a3-c383-4dbb-9b3f-a14125615386</td>\n      <td>2637d1ae-bbd2-4122-8845-38df9b180ac6 2ac889c0-...</td>\n      <td>self_optimization</td>\n      <td>cosPhiFixed:{(0.0, 0.9)}</td>\n      <td>NaN</td>\n      <td>NaN</td>\n      <td>NaN</td>\n    </tr>\n    <tr>\n      <th>9b0c37e8-5ec7-433c-839f-aaeb2bfa6233</th>\n      <td>House_15_9</td>\n      <td>e3c3c6a3-c383-4dbb-9b3f-a14125615386</td>\n      <td>8513fe88-4b30-4ebe-bbc3-fe21a424a902 9b83a965-...</td>\n      <td>self_optimization</td>\n      <td>cosPhiFixed:{(0.0, 0.9)}</td>\n      <td>NaN</td>\n      <td>NaN</td>\n      <td>NaN</td>\n    </tr>\n    <tr>\n      <th>3f11ce27-006d-4237-9922-4524577e71b6</th>\n      <td>House_15_10</td>\n      <td>e3c3c6a3-c383-4dbb-9b3f-a14125615386</td>\n      <td>b286db31-b0b2-4435-86c9-1e55919cc0b9 10d40fcb-...</td>\n      <td>self_optimization</td>\n      <td>cosPhiFixed:{(0.0, 0.9)}</td>\n      <td>NaN</td>\n      <td>NaN</td>\n      <td>NaN</td>\n    </tr>\n    <tr>\n      <th>6b2e3229-3d37-4c21-acf4-95e94d5eeb80</th>\n      <td>House_15_11</td>\n      <td>e3c3c6a3-c383-4dbb-9b3f-a14125615386</td>\n      <td>ae791357-eb70-42f9-bfa2-1d2d03115e60 72d3f156-...</td>\n      <td>self_optimization</td>\n      <td>cosPhiFixed:{(0.0, 0.9)}</td>\n      <td>NaN</td>\n      <td>NaN</td>\n      <td>NaN</td>\n    </tr>\n    <tr>\n      <th>5134b6e8-931a-4349-813b-88e1fbe21820</th>\n      <td>House_15_12</td>\n      <td>e3c3c6a3-c383-4dbb-9b3f-a14125615386</td>\n      <td>5e8b985c-d0f6-4abc-85a6-31e10ba3fdb4 c5d0e315-...</td>\n      <td>self_optimization</td>\n      <td>cosPhiFixed:{(0.0, 0.9)}</td>\n      <td>NaN</td>\n      <td>NaN</td>\n      <td>NaN</td>\n    </tr>\n    <tr>\n      <th>5ba62ac4-1c90-4b4d-8ddd-a00ccc0f546b</th>\n      <td>House_15_13</td>\n      <td>e3c3c6a3-c383-4dbb-9b3f-a14125615386</td>\n      <td>aef268f3-3708-4a67-b00d-402653286f62 b7d65a9e-...</td>\n      <td>self_optimization</td>\n      <td>cosPhiFixed:{(0.0, 0.9)}</td>\n      <td>NaN</td>\n      <td>NaN</td>\n      <td>NaN</td>\n    </tr>\n    <tr>\n      <th>1416998d-aec1-4397-b284-4d6b70bf1753</th>\n      <td>House_15_14</td>\n      <td>e3c3c6a3-c383-4dbb-9b3f-a14125615386</td>\n      <td>95dfb5f9-c20e-42e9-bb84-fd52b8cda066 b84d701c-...</td>\n      <td>self_optimization</td>\n      <td>cosPhiFixed:{(0.0, 0.9)}</td>\n      <td>NaN</td>\n      <td>NaN</td>\n      <td>NaN</td>\n    </tr>\n    <tr>\n      <th>f9592ef6-1fbf-43e4-9268-98daac369d66</th>\n      <td>House_15_15</td>\n      <td>e3c3c6a3-c383-4dbb-9b3f-a14125615386</td>\n      <td>11cd3303-875a-4bca-8837-51c5a82a609e d857f201-...</td>\n      <td>self_optimization</td>\n      <td>cosPhiFixed:{(0.0, 0.9)}</td>\n      <td>NaN</td>\n      <td>NaN</td>\n      <td>NaN</td>\n    </tr>\n    <tr>\n      <th>8373a6db-59bf-4dce-9eaf-bc9ef3417e67</th>\n      <td>House_15_16</td>\n      <td>e3c3c6a3-c383-4dbb-9b3f-a14125615386</td>\n      <td>7c9258ae-35f0-4406-9aa0-8a972a11937e 0102d96d-...</td>\n      <td>self_optimization</td>\n      <td>cosPhiFixed:{(0.0, 0.9)}</td>\n      <td>NaN</td>\n      <td>NaN</td>\n      <td>NaN</td>\n    </tr>\n    <tr>\n      <th>6241e1d9-8349-483a-80ef-180e4a241f3a</th>\n      <td>House_15_17</td>\n      <td>e3c3c6a3-c383-4dbb-9b3f-a14125615386</td>\n      <td>c5b34127-6b1b-4f66-993d-24d8f7594541 7c2eca74-...</td>\n      <td>self_optimization</td>\n      <td>cosPhiFixed:{(0.0, 0.9)}</td>\n      <td>NaN</td>\n      <td>NaN</td>\n      <td>NaN</td>\n    </tr>\n    <tr>\n      <th>0c894631-94ee-4bc5-8684-3cde8c4806f2</th>\n      <td>House_15_18</td>\n      <td>e3c3c6a3-c383-4dbb-9b3f-a14125615386</td>\n      <td>164d4819-eba0-4f63-a36a-5abded95ba95 daeaf040-...</td>\n      <td>self_optimization</td>\n      <td>cosPhiFixed:{(0.0, 0.9)}</td>\n      <td>NaN</td>\n      <td>NaN</td>\n      <td>NaN</td>\n    </tr>\n    <tr>\n      <th>e3623848-76af-4312-87dd-59e4b3655f2b</th>\n      <td>House_15_19</td>\n      <td>e3c3c6a3-c383-4dbb-9b3f-a14125615386</td>\n      <td>641121be-3479-47b9-9dc3-1efe1fcae461 59a9db19-...</td>\n      <td>self_optimization</td>\n      <td>cosPhiFixed:{(0.0, 0.9)}</td>\n      <td>NaN</td>\n      <td>NaN</td>\n      <td>NaN</td>\n    </tr>\n    <tr>\n      <th>a5cd6d74-1f61-451c-8727-5430b3f8977e</th>\n      <td>House_15_20</td>\n      <td>e3c3c6a3-c383-4dbb-9b3f-a14125615386</td>\n      <td>030143b7-257e-4ff8-b745-0eabb0dd7c9a abe2a770-...</td>\n      <td>self_optimization</td>\n      <td>cosPhiFixed:{(0.0, 0.9)}</td>\n      <td>NaN</td>\n      <td>NaN</td>\n      <td>NaN</td>\n    </tr>\n    <tr>\n      <th>d32575e1-83ae-4454-acd0-6cd1f0cad1aa</th>\n      <td>House_15_21</td>\n      <td>e3c3c6a3-c383-4dbb-9b3f-a14125615386</td>\n      <td>49f2bdee-0fc0-4296-baaa-357621aa2049 a67a6b64-...</td>\n      <td>self_optimization</td>\n      <td>cosPhiFixed:{(0.0, 0.9)}</td>\n      <td>NaN</td>\n      <td>NaN</td>\n      <td>NaN</td>\n    </tr>\n    <tr>\n      <th>a29720a6-54d8-42bd-a9ac-182b5ed3748f</th>\n      <td>House_15_22</td>\n      <td>e3c3c6a3-c383-4dbb-9b3f-a14125615386</td>\n      <td>724be3c0-1049-45f8-b3f7-5f2bf2667835 7ca6ae71-...</td>\n      <td>self_optimization</td>\n      <td>cosPhiFixed:{(0.0, 0.9)}</td>\n      <td>NaN</td>\n      <td>NaN</td>\n      <td>NaN</td>\n    </tr>\n    <tr>\n      <th>30c44a4b-b66e-418c-a733-e9d38c2e3e2c</th>\n      <td>House_15_23</td>\n      <td>e3c3c6a3-c383-4dbb-9b3f-a14125615386</td>\n      <td>9dedbe52-e1c9-4233-8d01-1e111f72f355 e5cb1ed7-...</td>\n      <td>self_optimization</td>\n      <td>cosPhiFixed:{(0.0, 0.9)}</td>\n      <td>NaN</td>\n      <td>NaN</td>\n      <td>NaN</td>\n    </tr>\n    <tr>\n      <th>99d66c43-249e-42a4-a81d-95742c27a45e</th>\n      <td>House_15_24</td>\n      <td>e3c3c6a3-c383-4dbb-9b3f-a14125615386</td>\n      <td>39124360-87b7-4323-ae74-b1f20a841ed1 f3070eaa-...</td>\n      <td>self_optimization</td>\n      <td>cosPhiFixed:{(0.0, 0.9)}</td>\n      <td>NaN</td>\n      <td>NaN</td>\n      <td>NaN</td>\n    </tr>\n    <tr>\n      <th>7e9d00be-8a4c-455b-a8c4-2f609b54d094</th>\n      <td>House_15_25</td>\n      <td>e3c3c6a3-c383-4dbb-9b3f-a14125615386</td>\n      <td>c95617aa-2ed4-4ba2-912c-0e3ae8165567 688033ce-...</td>\n      <td>self_optimization</td>\n      <td>cosPhiFixed:{(0.0, 0.9)}</td>\n      <td>NaN</td>\n      <td>NaN</td>\n      <td>NaN</td>\n    </tr>\n    <tr>\n      <th>4027958d-0dd1-408d-a53b-b3976864798d</th>\n      <td>House_15_26</td>\n      <td>e3c3c6a3-c383-4dbb-9b3f-a14125615386</td>\n      <td>a5bc2b3b-f6f8-431d-91b8-fa8cae90d825 68ee3ed3-...</td>\n      <td>self_optimization</td>\n      <td>cosPhiFixed:{(0.0, 0.9)}</td>\n      <td>NaN</td>\n      <td>NaN</td>\n      <td>NaN</td>\n    </tr>\n    <tr>\n      <th>0ee9906a-4204-4102-be23-13dc775e5f69</th>\n      <td>House_15_27</td>\n      <td>e3c3c6a3-c383-4dbb-9b3f-a14125615386</td>\n      <td>83e8a216-aeb1-4f27-94d3-abe8cdf18d41 cdd021e6-...</td>\n      <td>self_optimization</td>\n      <td>cosPhiFixed:{(0.0, 0.9)}</td>\n      <td>NaN</td>\n      <td>NaN</td>\n      <td>NaN</td>\n    </tr>\n    <tr>\n      <th>f7154d2f-890a-428f-84cd-abb5399a0721</th>\n      <td>House_15_28</td>\n      <td>e3c3c6a3-c383-4dbb-9b3f-a14125615386</td>\n      <td>73e83215-c446-4b57-846c-0eb032390a36 8f75a8ce-...</td>\n      <td>self_optimization</td>\n      <td>cosPhiFixed:{(0.0, 0.9)}</td>\n      <td>NaN</td>\n      <td>NaN</td>\n      <td>NaN</td>\n    </tr>\n    <tr>\n      <th>be8cde4d-7389-4f33-a7ef-9194d4cbd79e</th>\n      <td>House_15_29</td>\n      <td>e3c3c6a3-c383-4dbb-9b3f-a14125615386</td>\n      <td>efc5ba20-e128-4721-a850-c10dbb8dfdb8 483a128d-...</td>\n      <td>self_optimization</td>\n      <td>cosPhiFixed:{(0.0, 0.9)}</td>\n      <td>NaN</td>\n      <td>NaN</td>\n      <td>NaN</td>\n    </tr>\n    <tr>\n      <th>16e9fd1e-e37a-460a-9ea0-682751980371</th>\n      <td>House_15_30</td>\n      <td>e3c3c6a3-c383-4dbb-9b3f-a14125615386</td>\n      <td>33321951-abb5-48e7-bf0c-7f23d2fa7fa1 205c5029-...</td>\n      <td>self_optimization</td>\n      <td>cosPhiFixed:{(0.0, 0.9)}</td>\n      <td>NaN</td>\n      <td>NaN</td>\n      <td>NaN</td>\n    </tr>\n    <tr>\n      <th>6cc4d3ef-f480-4766-9fe6-445e72bedbb3</th>\n      <td>House_15_31</td>\n      <td>e3c3c6a3-c383-4dbb-9b3f-a14125615386</td>\n      <td>fd8a1790-910d-45cd-9d47-14dc8868723c 581f501a-...</td>\n      <td>self_optimization</td>\n      <td>cosPhiFixed:{(0.0, 0.9)}</td>\n      <td>NaN</td>\n      <td>NaN</td>\n      <td>NaN</td>\n    </tr>\n    <tr>\n      <th>032b9074-d561-449c-8bd1-6d6b6c23f8e5</th>\n      <td>House_15_32</td>\n      <td>e3c3c6a3-c383-4dbb-9b3f-a14125615386</td>\n      <td>cc0ebc91-23d2-4296-8810-53db8ad41005 766604fb-...</td>\n      <td>self_optimization</td>\n      <td>cosPhiFixed:{(0.0, 0.9)}</td>\n      <td>NaN</td>\n      <td>NaN</td>\n      <td>NaN</td>\n    </tr>\n  </tbody>\n</table>\n</div>"
     },
     "execution_count": 5,
     "metadata": {},
     "output_type": "execute_result"
    }
   ],
   "source": [
    "import os\n",
    "import pandas as pd\n",
    "\n",
    "# Get the folder path where the files are located\n",
    "folder_inputs = r'C:\\tmp\\20231116_flex_minigrid_2023-11-17_07-18-57\\input\\grid'\n",
    "\n",
    "# Filenames\n",
    "file_names = [\n",
    "    'em_input.csv',\n",
    "    'evcs_input.csv',\n",
    "    'hp_input.csv',\n",
    "    'pv_input.csv',\n",
    "    'load_input.csv',\n",
    "    'storage_input.csv'\n",
    "]\n",
    "\n",
    "# Read input data\n",
    "print('Input data loading')\n",
    "\n",
    "data_input_em = pd.read_csv(os.path.join(folder_inputs,file_names[0]),index_col='uuid')\n",
    "\n",
    "\n",
    "# Remove em-system\n",
    "data_input_em = data_input_em[~data_input_em['id'].str.contains('em-system')]\n",
    "\n",
    "data_input_ev = pd.read_csv(os.path.join(folder_inputs, file_names[1]),index_col='uuid')\n",
    "data_input_hp = pd.read_csv(os.path.join(folder_inputs, file_names[2]),index_col='uuid')\n",
    "data_input_pv = pd.read_csv(os.path.join(folder_inputs, file_names[3]),index_col='uuid')\n",
    "data_input_lo = pd.read_csv(os.path.join(folder_inputs, file_names[4]),index_col='uuid')\n",
    "data_input_bs = pd.read_csv(os.path.join(folder_inputs, file_names[5]),index_col='uuid')\n",
    "data_input_em"
   ],
   "metadata": {
    "collapsed": false,
    "ExecuteTime": {
     "end_time": "2023-11-17T15:14:55.723260400Z",
     "start_time": "2023-11-17T15:14:55.638767200Z"
    }
   },
   "id": "1e433b171258bccd"
  },
  {
   "cell_type": "code",
   "execution_count": 6,
   "outputs": [],
   "source": [
    "\n",
    "def create_em_to_systemparticipant_dict(em_list, system_participants_list):\n",
    "    \n",
    "    matching_uuids_dict = dict()\n",
    "    \n",
    "    for index, row in system_participants_list.iterrows():\n",
    "        for em_index, em_row in em_list.iterrows():\n",
    "            connected_assets = em_row['connected_assets']\n",
    "            \n",
    "            connected_assets_list = connected_assets.strip('[]').replace(\"'\", \"\").split(', ') if isinstance(connected_assets, str) else None\n",
    "                       \n",
    "            if isinstance(connected_assets_list, list) and index in connected_assets:\n",
    "                if em_index not in matching_uuids_dict:\n",
    "                    matching_uuids_dict[em_index] = index\n",
    "                else:\n",
    "                    # If there are multiple occurrences, store them as a list\n",
    "                    if not isinstance(matching_uuids_dict[em_index], list):\n",
    "                        raise ValueError(\"uuid is included more then once in em\")\n",
    "    return matching_uuids_dict\n",
    "    \n",
    "emToHp = create_em_to_systemparticipant_dict(data_input_em,data_input_hp)    \n",
    "emToEv = create_em_to_systemparticipant_dict(data_input_em,data_input_ev)\n",
    "emToBs = create_em_to_systemparticipant_dict(data_input_em,data_input_bs)\n",
    "emToPv = create_em_to_systemparticipant_dict(data_input_em,data_input_pv)\n",
    "emToLo = create_em_to_systemparticipant_dict(data_input_em,data_input_lo)\n",
    "\n",
    "\n"
   ],
   "metadata": {
    "collapsed": false,
    "ExecuteTime": {
     "end_time": "2023-11-17T15:14:56.228366300Z",
     "start_time": "2023-11-17T15:14:56.054539200Z"
    }
   },
   "id": "ae2881725fb55e24"
  },
  {
   "cell_type": "code",
   "execution_count": 6,
   "outputs": [],
   "source": [],
   "metadata": {
    "collapsed": false,
    "ExecuteTime": {
     "end_time": "2023-11-17T15:14:56.472310300Z",
     "start_time": "2023-11-17T15:14:56.464792800Z"
    }
   },
   "id": "3a1f952144532d41"
  },
  {
   "cell_type": "code",
   "execution_count": 6,
   "outputs": [],
   "source": [],
   "metadata": {
    "collapsed": false,
    "ExecuteTime": {
     "end_time": "2023-11-17T15:14:56.940744100Z",
     "start_time": "2023-11-17T15:14:56.933215900Z"
    }
   },
   "id": "3f2529fc779a7792"
  },
  {
   "cell_type": "code",
   "execution_count": 7,
   "outputs": [],
   "source": [
    "import numpy as np\n",
    "\n",
    "# FIXME: Parsing of EVCS Charing power\n",
    "if 0 == 1:\n",
    "    data_input_ev['pSum'] = np.zeros(len(data_input_ev))\n",
    "    for i in range(len(data_input_ev)):\n",
    "        tmp = data_input_ev['type'][i].split(' ')\n",
    "        data_input_ev.at[i, 'pSum'] = float(tmp[0])\n",
    "    \n",
    "    data_input_em['nChargePoints'] = np.zeros(len(data_input_em))\n",
    "    for i in range(len(data_input_em)):\n",
    "        if EM_to_ev[i]:\n",
    "            ev_indices = EM_to_ev[i]\n",
    "            data_input_em.at[i, 'nChargePoints'] = data_input_ev.loc[ev_indices, 'charging_points'].sum()\n"
   ],
   "metadata": {
    "collapsed": false,
    "ExecuteTime": {
     "end_time": "2023-11-17T15:14:57.344321600Z",
     "start_time": "2023-11-17T15:14:57.335896400Z"
    }
   },
   "id": "4610effaa62287d6"
  },
  {
   "cell_type": "code",
   "execution_count": 8,
   "outputs": [],
   "source": [
    "import csv\n",
    "import datetime\n",
    "\n",
    "def read_sort_time_series(filename, data_input):\n",
    "     # Read the CSV file\n",
    "    with open(filename, 'r') as file:\n",
    "        reader = csv.reader(file)\n",
    "        hdr = next(reader)\n",
    "        num = len(hdr) - 1  # Number of columns\n",
    "        \n",
    "        # Interpret timestamp\n",
    "        timestamp = [datetime.strptime(row[0], '%Y-%m-%d %H:%M:%S') for row in reader]\n",
    "\n",
    "    # Get UnitIDs\n",
    "    unitIDs = hdr[1:]\n",
    "    nUnits = len(unitIDs)\n",
    "\n",
    "    # Read data and handle exceptions\n",
    "    with open(filename, 'r') as file:\n",
    "        reader = csv.reader(file)\n",
    "        next(reader)  # Skip header\n",
    "        try:\n",
    "            time_series = [[float(val) for val in row[1:]] for row in reader]\n",
    "        except ValueError:\n",
    "            data = list(reader)\n",
    "            L = [len(row) - 1 for row in data]\n",
    "            time_series = []\n",
    "            for i, row in enumerate(data):\n",
    "                vals = [float(val) if val else float('nan') for val in row[1:]]\n",
    "                vals.extend([float('nan')] * (max(L) - L[i]))\n",
    "                time_series.append(vals)\n",
    "\n",
    "    # Adjust sorting based on input data\n",
    "    time_series_sort = [[float('nan') for _ in range(nUnits)] for _ in range(len(time_series))]\n",
    "    for i in range(nUnits):\n",
    "        for j, uuid in enumerate(inputs['uuid']):\n",
    "            if uuid in unitIDs:\n",
    "                xx = unitIDs.index(uuid)\n",
    "                if xx < nUnits:\n",
    "                    time_series_sort[:, i] = time_series[:, xx]\n",
    "\n",
    "    return time_series_sort"
   ],
   "metadata": {
    "collapsed": false,
    "ExecuteTime": {
     "end_time": "2023-11-17T15:14:57.801022Z",
     "start_time": "2023-11-17T15:14:57.786967500Z"
    }
   },
   "id": "b35581aae431b39f"
  },
  {
   "cell_type": "code",
   "execution_count": 9,
   "outputs": [
    {
     "name": "stdout",
     "output_type": "stream",
     "text": [
      "                                                                 p         q  \\\n",
      "time                input_model                                                \n",
      "2019-01-01 00:00:00 d3413988-ebcd-4aff-b5b5-d70364a3b7a2  0.000000  0.000000   \n",
      "                    c9d9a44f-d6fb-4252-9e80-a4a57f2b8c06  0.000000  0.000000   \n",
      "                    577d45bc-ac0a-4318-9f2e-e469eddb8739  0.000000  0.000000   \n",
      "                    7278a4cc-3376-436d-ac97-ab5c7ec16c90  0.000000  0.000000   \n",
      "                    69dc892d-4f3a-4ce0-8da4-5cd9e05c7e08  0.000000  0.000000   \n",
      "...                                                            ...       ...   \n",
      "2019-12-31 23:45:00 275445aa-bd3a-463f-bbcf-1f7ec427ba8d  0.000000  0.000000   \n",
      "                    d0e16d27-9221-40ff-9a45-07d33dc33281  0.000000  0.000000   \n",
      "                    068e9b3d-1a8c-4270-a714-e08b23f54908  0.000000  0.000000   \n",
      "2019-12-31 23:52:03 c9d9a44f-d6fb-4252-9e80-a4a57f2b8c06  0.002806  0.001359   \n",
      "2019-12-31 23:53:06 275445aa-bd3a-463f-bbcf-1f7ec427ba8d  0.002618  0.001268   \n",
      "\n",
      "                                                             q_dot  \n",
      "time                input_model                                     \n",
      "2019-01-01 00:00:00 d3413988-ebcd-4aff-b5b5-d70364a3b7a2  0.000000  \n",
      "                    c9d9a44f-d6fb-4252-9e80-a4a57f2b8c06  0.000000  \n",
      "                    577d45bc-ac0a-4318-9f2e-e469eddb8739  0.000000  \n",
      "                    7278a4cc-3376-436d-ac97-ab5c7ec16c90  0.000000  \n",
      "                    69dc892d-4f3a-4ce0-8da4-5cd9e05c7e08  0.000000  \n",
      "...                                                            ...  \n",
      "2019-12-31 23:45:00 275445aa-bd3a-463f-bbcf-1f7ec427ba8d  0.000000  \n",
      "                    d0e16d27-9221-40ff-9a45-07d33dc33281  0.000000  \n",
      "                    068e9b3d-1a8c-4270-a714-e08b23f54908  0.000000  \n",
      "2019-12-31 23:52:03 c9d9a44f-d6fb-4252-9e80-a4a57f2b8c06  0.014029  \n",
      "2019-12-31 23:53:06 275445aa-bd3a-463f-bbcf-1f7ec427ba8d  0.013092  \n",
      "\n",
      "[579315 rows x 3 columns]\n"
     ]
    }
   ],
   "source": [
    "import pandas as pd\n",
    "import numpy as np\n",
    "import os\n",
    "import csv\n",
    "from datetime import datetime\n",
    "from pypsdm.processing.series import (\n",
    "    add_series,)\n",
    "from pypsdm.models.result import (\n",
    "    entity,)\n",
    "from pypsdm.models import (\n",
    "    enums,)\n",
    "\n",
    "\n",
    "folder_res = r'C:\\tmp\\20231116_flex_minigrid_2023-11-17_07-18-57\\rawOutputData'\n",
    "filename_hp = \"hp_res.csv\"\n",
    "filename_ev = \"evcs_res.csv\"\n",
    "filename_pv = \"pv_res.csv\"\n",
    "filename_lo = \"load_res.csv\"\n",
    "filename_bs = \"storage_res.csv\"\n",
    "\n",
    "filename = os.path.join(folder_res, filename_hp)   \n",
    "     \n",
    "timeseries_data = pd.read_csv(os.path.join(folder_res, filename_hp))\n",
    "#print(timeseries_data)\n",
    "\n",
    "#print(len(timeseries_data.loc[1,:].values[4]))\n",
    "\n",
    "\n",
    "\n",
    "# Function to add seconds if they're missing from the timestamp\n",
    "# Function to add seconds if they're missing from the timestamp\n",
    "def add_seconds(timestamp):\n",
    "    if len(timestamp) == 22 and timestamp.endswith('Z[UTC]'):  # Check if seconds are missing and ends with 'Z[UTC]'\n",
    "        timestamp = timestamp[:-6] + ':00' + timestamp[-6:]  # Insert ':00' before 'Z[UTC]'\n",
    "    return timestamp\n",
    "\n",
    "\n",
    "# Add seconds to all timestamps\n",
    "timeseries_data['time'] = timeseries_data['time'].apply(add_seconds)\n",
    "\n",
    "# Convert 'time' column to datetime format with optional seconds\n",
    "timeseries_data['time'] = pd.to_datetime(timeseries_data['time'], format='%Y-%m-%dT%H:%M:%SZ[UTC]')\n",
    "\n",
    "# Format 'time' column to the desired string format\n",
    "timeseries_data['time'] = timeseries_data['time'].dt.strftime('%Y-%m-%d %H:%M:%S')\n",
    "\n",
    "#specific_model = 'd3413988-ebcd-4aff-b5b5-d70364a3b7a2'  # Replace this with the specific entry you want to filter for\n",
    "#filtered_df = timeseries_data[timeseries_data['input_model'] == specific_model]\n",
    "#filtered_df.set_index(['time','input_model'],inplace=True)\n",
    "timeseries_data.set_index(['time','input_model'],inplace=True)\n",
    "\n",
    "\n",
    "\n",
    "endtime = datetime(2020,1,1)\n",
    "\n",
    "#d34=entity.ResultEntities.build(enums.SystemParticipantsEnum.HEAT_PUMP,specific_model, timeseries_data, endtime)\n",
    "#print(d34)\n",
    "\n"
   ],
   "metadata": {
    "collapsed": false,
    "ExecuteTime": {
     "end_time": "2023-11-17T15:15:00.901178400Z",
     "start_time": "2023-11-17T15:14:58.397165400Z"
    }
   },
   "id": "d1ca68d968f1a9f9"
  },
  {
   "cell_type": "code",
   "execution_count": 10,
   "outputs": [],
   "source": [
    "from pypsdm.models.input.container.participants import SystemParticipantsContainer\n",
    "from pypsdm.models.result.container.participants import ParticipantsResultContainer\n",
    "from pypsdm.models import gwr\n",
    "\n",
    "gwr = gwr.GridWithResults.from_csv('flex_minigrid', folder_inputs,',',folder_res,',', simulation_end=endtime)\n"
   ],
   "metadata": {
    "collapsed": false,
    "ExecuteTime": {
     "end_time": "2023-11-17T15:15:09.390212200Z",
     "start_time": "2023-11-17T15:15:00.903180Z"
    }
   },
   "id": "297e311ecd8164aa"
  },
  {
   "cell_type": "code",
   "execution_count": 11,
   "outputs": [
    {
     "data": {
      "text/plain": "PQResultDict(entity_type=<SystemParticipantsEnum.HEAT_PUMP: 'hp'>, entities={'068e9b3d-1a8c-4270-a714-e08b23f54908': PQResult(entity_type=<SystemParticipantsEnum.HEAT_PUMP: 'hp'>, input_model='068e9b3d-1a8c-4270-a714-e08b23f54908', name='HP_10_House_15_10', data=                       p    q  q_dot\ntime                                \n2019-01-01 00:00:00  0.0  0.0    0.0\n2019-01-01 00:15:00  0.0  0.0    0.0\n2019-01-01 00:30:00  0.0  0.0    0.0\n2019-01-01 00:45:00  0.0  0.0    0.0\n2019-01-01 01:00:00  0.0  0.0    0.0\n...                  ...  ...    ...\n2019-12-31 23:00:00  0.0  0.0    0.0\n2019-12-31 23:15:00  0.0  0.0    0.0\n2019-12-31 23:30:00  0.0  0.0    0.0\n2019-12-31 23:45:00  0.0  0.0    0.0\n2020-01-01 00:00:00  0.0  0.0    0.0\n\n[35717 rows x 3 columns]), '2538e78e-1ce9-4291-b43f-3cab3746e4c2': PQResult(entity_type=<SystemParticipantsEnum.HEAT_PUMP: 'hp'>, input_model='2538e78e-1ce9-4291-b43f-3cab3746e4c2', name='HP_11_House_15_21', data=                       p    q  q_dot\ntime                                \n2019-01-01 00:00:00  0.0  0.0    0.0\n2019-01-01 00:15:00  0.0  0.0    0.0\n2019-01-01 00:30:00  0.0  0.0    0.0\n2019-01-01 00:45:00  0.0  0.0    0.0\n2019-01-01 01:00:00  0.0  0.0    0.0\n...                  ...  ...    ...\n2019-12-31 23:00:00  0.0  0.0    0.0\n2019-12-31 23:15:00  0.0  0.0    0.0\n2019-12-31 23:30:00  0.0  0.0    0.0\n2019-12-31 23:45:00  0.0  0.0    0.0\n2020-01-01 00:00:00  0.0  0.0    0.0\n\n[35705 rows x 3 columns]), '275445aa-bd3a-463f-bbcf-1f7ec427ba8d': PQResult(entity_type=<SystemParticipantsEnum.HEAT_PUMP: 'hp'>, input_model='275445aa-bd3a-463f-bbcf-1f7ec427ba8d', name='HP_7_House_15_7', data=                            p         q     q_dot\ntime                                             \n2019-01-01 00:00:00  0.000000  0.000000  0.000000\n2019-01-01 00:15:00  0.000000  0.000000  0.000000\n2019-01-01 00:30:00  0.000000  0.000000  0.000000\n2019-01-01 00:45:00  0.000000  0.000000  0.000000\n2019-01-01 01:00:00  0.000000  0.000000  0.000000\n...                       ...       ...       ...\n2019-12-31 23:15:00  0.000000  0.000000  0.000000\n2019-12-31 23:30:00  0.000000  0.000000  0.000000\n2019-12-31 23:45:00  0.000000  0.000000  0.000000\n2019-12-31 23:53:00  0.002618  0.001268  0.013092\n2020-01-01 00:00:00  0.002618  0.001268  0.013092\n\n[35999 rows x 3 columns]), '35bd1785-0c9b-4cfe-abe4-670145a1e7db': PQResult(entity_type=<SystemParticipantsEnum.HEAT_PUMP: 'hp'>, input_model='35bd1785-0c9b-4cfe-abe4-670145a1e7db', name='HP_3_House_15_3', data=                       p    q  q_dot\ntime                                \n2019-01-01 00:00:00  0.0  0.0    0.0\n2019-01-01 00:15:00  0.0  0.0    0.0\n2019-01-01 00:30:00  0.0  0.0    0.0\n2019-01-01 00:45:00  0.0  0.0    0.0\n2019-01-01 01:00:00  0.0  0.0    0.0\n...                  ...  ...    ...\n2019-12-31 23:00:00  0.0  0.0    0.0\n2019-12-31 23:15:00  0.0  0.0    0.0\n2019-12-31 23:30:00  0.0  0.0    0.0\n2019-12-31 23:45:00  0.0  0.0    0.0\n2020-01-01 00:00:00  0.0  0.0    0.0\n\n[36047 rows x 3 columns]), '52099b80-cefe-4603-83b8-f9e8f349421d': PQResult(entity_type=<SystemParticipantsEnum.HEAT_PUMP: 'hp'>, input_model='52099b80-cefe-4603-83b8-f9e8f349421d', name='HP_2_House_15_2', data=                       p    q  q_dot\ntime                                \n2019-01-01 00:00:00  0.0  0.0    0.0\n2019-01-01 00:15:00  0.0  0.0    0.0\n2019-01-01 00:30:00  0.0  0.0    0.0\n2019-01-01 00:45:00  0.0  0.0    0.0\n2019-01-01 01:00:00  0.0  0.0    0.0\n...                  ...  ...    ...\n2019-12-31 23:00:00  0.0  0.0    0.0\n2019-12-31 23:15:00  0.0  0.0    0.0\n2019-12-31 23:30:00  0.0  0.0    0.0\n2019-12-31 23:45:00  0.0  0.0    0.0\n2020-01-01 00:00:00  0.0  0.0    0.0\n\n[35742 rows x 3 columns]), '577d45bc-ac0a-4318-9f2e-e469eddb8739': PQResult(entity_type=<SystemParticipantsEnum.HEAT_PUMP: 'hp'>, input_model='577d45bc-ac0a-4318-9f2e-e469eddb8739', name='HP_6_House_15_6', data=                       p    q  q_dot\ntime                                \n2019-01-01 00:00:00  0.0  0.0    0.0\n2019-01-01 00:15:00  0.0  0.0    0.0\n2019-01-01 00:30:00  0.0  0.0    0.0\n2019-01-01 00:45:00  0.0  0.0    0.0\n2019-01-01 01:00:00  0.0  0.0    0.0\n...                  ...  ...    ...\n2019-12-31 23:00:00  0.0  0.0    0.0\n2019-12-31 23:15:00  0.0  0.0    0.0\n2019-12-31 23:30:00  0.0  0.0    0.0\n2019-12-31 23:45:00  0.0  0.0    0.0\n2020-01-01 00:00:00  0.0  0.0    0.0\n\n[36004 rows x 3 columns]), '6495d6e5-61bd-4324-b3ee-46937e6e0efc': PQResult(entity_type=<SystemParticipantsEnum.HEAT_PUMP: 'hp'>, input_model='6495d6e5-61bd-4324-b3ee-46937e6e0efc', name='HP_1_House_15_1', data=                       p    q  q_dot\ntime                                \n2019-01-01 00:00:00  0.0  0.0    0.0\n2019-01-01 00:15:00  0.0  0.0    0.0\n2019-01-01 00:30:00  0.0  0.0    0.0\n2019-01-01 00:45:00  0.0  0.0    0.0\n2019-01-01 01:00:00  0.0  0.0    0.0\n...                  ...  ...    ...\n2019-12-31 23:00:00  0.0  0.0    0.0\n2019-12-31 23:15:00  0.0  0.0    0.0\n2019-12-31 23:30:00  0.0  0.0    0.0\n2019-12-31 23:45:00  0.0  0.0    0.0\n2020-01-01 00:00:00  0.0  0.0    0.0\n\n[36046 rows x 3 columns]), '69dc892d-4f3a-4ce0-8da4-5cd9e05c7e08': PQResult(entity_type=<SystemParticipantsEnum.HEAT_PUMP: 'hp'>, input_model='69dc892d-4f3a-4ce0-8da4-5cd9e05c7e08', name='HP_9_House_15_9', data=                       p    q  q_dot\ntime                                \n2019-01-01 00:00:00  0.0  0.0    0.0\n2019-01-01 00:15:00  0.0  0.0    0.0\n2019-01-01 00:30:00  0.0  0.0    0.0\n2019-01-01 00:45:00  0.0  0.0    0.0\n2019-01-01 01:00:00  0.0  0.0    0.0\n...                  ...  ...    ...\n2019-12-31 23:00:00  0.0  0.0    0.0\n2019-12-31 23:15:00  0.0  0.0    0.0\n2019-12-31 23:30:00  0.0  0.0    0.0\n2019-12-31 23:45:00  0.0  0.0    0.0\n2020-01-01 00:00:00  0.0  0.0    0.0\n\n[35850 rows x 3 columns]), '7278a4cc-3376-436d-ac97-ab5c7ec16c90': PQResult(entity_type=<SystemParticipantsEnum.HEAT_PUMP: 'hp'>, input_model='7278a4cc-3376-436d-ac97-ab5c7ec16c90', name='HP_13_House_15_25', data=                            p         q     q_dot\ntime                                             \n2019-01-01 00:00:00  0.000000  0.000000  0.000000\n2019-01-01 00:15:00  0.000000  0.000000  0.000000\n2019-01-01 00:30:00  0.000000  0.000000  0.000000\n2019-01-01 00:45:00  0.000000  0.000000  0.000000\n2019-01-01 01:00:00  0.000000  0.000000  0.000000\n...                       ...       ...       ...\n2019-12-31 23:15:00  0.000000  0.000000  0.000000\n2019-12-31 23:29:00  0.006173  0.002989  0.020575\n2019-12-31 23:30:00  0.006173  0.002989  0.020575\n2019-12-31 23:45:00  0.006173  0.002989  0.020575\n2020-01-01 00:00:00  0.006173  0.002989  0.020575\n\n[35683 rows x 3 columns]), '7d7161a5-5efb-4c50-91d3-ffccae28cb38': PQResult(entity_type=<SystemParticipantsEnum.HEAT_PUMP: 'hp'>, input_model='7d7161a5-5efb-4c50-91d3-ffccae28cb38', name='HP_8_House_15_8', data=                       p    q  q_dot\ntime                                \n2019-01-01 00:00:00  0.0  0.0    0.0\n2019-01-01 00:15:00  0.0  0.0    0.0\n2019-01-01 00:30:00  0.0  0.0    0.0\n2019-01-01 00:45:00  0.0  0.0    0.0\n2019-01-01 01:00:00  0.0  0.0    0.0\n...                  ...  ...    ...\n2019-12-31 23:00:00  0.0  0.0    0.0\n2019-12-31 23:15:00  0.0  0.0    0.0\n2019-12-31 23:30:00  0.0  0.0    0.0\n2019-12-31 23:45:00  0.0  0.0    0.0\n2020-01-01 00:00:00  0.0  0.0    0.0\n\n[35800 rows x 3 columns]), '9efaf87f-63d3-45ff-bc0e-b256533c9fff': PQResult(entity_type=<SystemParticipantsEnum.HEAT_PUMP: 'hp'>, input_model='9efaf87f-63d3-45ff-bc0e-b256533c9fff', name='HP_4_House_15_4', data=                            p         q     q_dot\ntime                                             \n2019-01-01 00:00:00  0.000000  0.000000  0.000000\n2019-01-01 00:15:00  0.000000  0.000000  0.000000\n2019-01-01 00:30:00  0.000000  0.000000  0.000000\n2019-01-01 00:45:00  0.000000  0.000000  0.000000\n2019-01-01 01:00:00  0.000000  0.000000  0.000000\n...                       ...       ...       ...\n2019-12-31 23:00:00  0.000000  0.000000  0.000000\n2019-12-31 23:15:00  0.000000  0.000000  0.000000\n2019-12-31 23:30:00  0.000000  0.000000  0.000000\n2019-12-31 23:45:00  0.005974  0.002894  0.019915\n2020-01-01 00:00:00  0.005974  0.002894  0.019915\n\n[36114 rows x 3 columns]), 'c9d9a44f-d6fb-4252-9e80-a4a57f2b8c06': PQResult(entity_type=<SystemParticipantsEnum.HEAT_PUMP: 'hp'>, input_model='c9d9a44f-d6fb-4252-9e80-a4a57f2b8c06', name='HP_15_House_15_27', data=                            p         q     q_dot\ntime                                             \n2019-01-01 00:00:00  0.000000  0.000000  0.000000\n2019-01-01 00:15:00  0.000000  0.000000  0.000000\n2019-01-01 00:30:00  0.000000  0.000000  0.000000\n2019-01-01 00:45:00  0.000000  0.000000  0.000000\n2019-01-01 01:00:00  0.000000  0.000000  0.000000\n...                       ...       ...       ...\n2019-12-31 23:15:00  0.000000  0.000000  0.000000\n2019-12-31 23:30:00  0.000000  0.000000  0.000000\n2019-12-31 23:45:00  0.000000  0.000000  0.000000\n2019-12-31 23:52:00  0.002806  0.001359  0.014029\n2020-01-01 00:00:00  0.002806  0.001359  0.014029\n\n[35759 rows x 3 columns]), 'd0e16d27-9221-40ff-9a45-07d33dc33281': PQResult(entity_type=<SystemParticipantsEnum.HEAT_PUMP: 'hp'>, input_model='d0e16d27-9221-40ff-9a45-07d33dc33281', name='HP_16_House_15_28', data=                       p    q  q_dot\ntime                                \n2019-01-01 00:00:00  0.0  0.0    0.0\n2019-01-01 00:15:00  0.0  0.0    0.0\n2019-01-01 00:30:00  0.0  0.0    0.0\n2019-01-01 00:45:00  0.0  0.0    0.0\n2019-01-01 01:00:00  0.0  0.0    0.0\n...                  ...  ...    ...\n2019-12-31 23:00:00  0.0  0.0    0.0\n2019-12-31 23:15:00  0.0  0.0    0.0\n2019-12-31 23:30:00  0.0  0.0    0.0\n2019-12-31 23:45:00  0.0  0.0    0.0\n2020-01-01 00:00:00  0.0  0.0    0.0\n\n[35650 rows x 3 columns]), 'd3413988-ebcd-4aff-b5b5-d70364a3b7a2': PQResult(entity_type=<SystemParticipantsEnum.HEAT_PUMP: 'hp'>, input_model='d3413988-ebcd-4aff-b5b5-d70364a3b7a2', name='HP_5_House_15_5', data=                       p    q  q_dot\ntime                                \n2019-01-01 00:00:00  0.0  0.0    0.0\n2019-01-01 00:15:00  0.0  0.0    0.0\n2019-01-01 00:30:00  0.0  0.0    0.0\n2019-01-01 00:45:00  0.0  0.0    0.0\n2019-01-01 01:00:00  0.0  0.0    0.0\n...                  ...  ...    ...\n2019-12-31 23:00:00  0.0  0.0    0.0\n2019-12-31 23:15:00  0.0  0.0    0.0\n2019-12-31 23:30:00  0.0  0.0    0.0\n2019-12-31 23:45:00  0.0  0.0    0.0\n2020-01-01 00:00:00  0.0  0.0    0.0\n\n[35903 rows x 3 columns]), 'ef6a9cd1-821d-4bf9-9253-5242b394ebe6': PQResult(entity_type=<SystemParticipantsEnum.HEAT_PUMP: 'hp'>, input_model='ef6a9cd1-821d-4bf9-9253-5242b394ebe6', name='HP_12_House_15_22', data=                            p         q     q_dot\ntime                                             \n2019-01-01 00:00:00  0.000000  0.000000  0.000000\n2019-01-01 00:15:00  0.000000  0.000000  0.000000\n2019-01-01 00:30:00  0.000000  0.000000  0.000000\n2019-01-01 00:45:00  0.000000  0.000000  0.000000\n2019-01-01 01:00:00  0.000000  0.000000  0.000000\n...                       ...       ...       ...\n2019-12-31 23:00:00  0.002071  0.001003  0.010357\n2019-12-31 23:15:00  0.000000  0.000000  0.000000\n2019-12-31 23:30:00  0.000000  0.000000  0.000000\n2019-12-31 23:45:00  0.000000  0.000000  0.000000\n2020-01-01 00:00:00  0.000000  0.000000  0.000000\n\n[35932 rows x 3 columns]), 'f5f7b0e2-6aa6-4c59-9fb2-17057d91d412': PQResult(entity_type=<SystemParticipantsEnum.HEAT_PUMP: 'hp'>, input_model='f5f7b0e2-6aa6-4c59-9fb2-17057d91d412', name='HP_14_House_15_26', data=                       p    q  q_dot\ntime                                \n2019-01-01 00:00:00  0.0  0.0    0.0\n2019-01-01 00:15:00  0.0  0.0    0.0\n2019-01-01 00:30:00  0.0  0.0    0.0\n2019-01-01 00:45:00  0.0  0.0    0.0\n2019-01-01 01:00:00  0.0  0.0    0.0\n...                  ...  ...    ...\n2019-12-31 23:00:00  0.0  0.0    0.0\n2019-12-31 23:15:00  0.0  0.0    0.0\n2019-12-31 23:30:00  0.0  0.0    0.0\n2019-12-31 23:45:00  0.0  0.0    0.0\n2020-01-01 00:00:00  0.0  0.0    0.0\n\n[35437 rows x 3 columns])})"
     },
     "execution_count": 11,
     "metadata": {},
     "output_type": "execute_result"
    }
   ],
   "source": [
    "gwr.results.participants.hps"
   ],
   "metadata": {
    "collapsed": false,
    "ExecuteTime": {
     "end_time": "2023-11-17T15:15:18.848784400Z",
     "start_time": "2023-11-17T15:15:18.782539Z"
    }
   },
   "id": "99a2e842499e3a22"
  },
  {
   "cell_type": "code",
   "execution_count": 12,
   "outputs": [],
   "source": [
    "\n",
    "if 0 == 1:\n",
    "    \n",
    "    #p_ref_sum = add_series(self.p_ref(), other.p_ref(), \"p_ref\")\n",
    "    #series = add_series()\n",
    "    \n",
    "    print(test)\n",
    "    print(' Zeitreihen HP laden')\n",
    "    #time_series_HP = read_sort_time_series(os.path.join(folder_res, filename_hp), data_input_hp)\n",
    "    \n",
    "    print(' Zeitreihen EV laden')\n",
    "    #time_series_EV = read_sort_time_series(folder_res + filename_ev, data_input_EV)\n",
    "    \n",
    "    print(' Zeitreihen PV laden')\n",
    "    #time_series_PV = read_sort_time_series(folder_res + filename_pv, data_input_PV)\n",
    "    \n",
    "    print(' Zeitreihen Lo laden')\n",
    "    #time_series_Lo = read_sort_time_series(folder_res + filename_lo, data_input_Lo)\n",
    "    \n",
    "    print(' Zeitreihen BS laden')\n",
    "    #time_series_BS = read_sort_time_series(folder_res + filename_bs, data_input_BS)\n",
    "\n",
    "if 0 == 1:\n",
    "    # Check for mismatched lengths and pad if needed\n",
    "    l_max = max(len(time_series_HP), len(time_series_EV), len(time_series_PV), len(time_series_Lo), len(time_series_BS))\n",
    "    \n",
    "    def pad_time_series(time_series, l_max):\n",
    "        d = l_max - len(time_series)\n",
    "        return np.vstack([time_series, np.zeros((d, time_series.shape[1]))])\n",
    "    \n",
    "    if len(time_series_HP) < l_max:\n",
    "        time_series_HP = pad_time_series(time_series_HP, l_max)\n",
    "    \n",
    "    if len(time_series_EV) < l_max:\n",
    "        time_series_EV = pad_time_series(time_series_EV, l_max)\n",
    "    \n",
    "    if len(time_series_PV) < l_max:\n",
    "        time_series_PV = pad_time_series(time_series_PV, l_max)\n",
    "    \n",
    "    if len(time_series_Lo) < l_max:\n",
    "        time_series_Lo = pad_time_series(time_series_Lo, l_max)\n",
    "    \n",
    "    if len(time_series_BS) < l_max:\n",
    "        time_series_BS = pad_time_series(time_series_BS, l_max)\n"
   ],
   "metadata": {
    "collapsed": false,
    "ExecuteTime": {
     "end_time": "2023-11-17T15:16:07.651564500Z",
     "start_time": "2023-11-17T15:16:07.639306700Z"
    }
   },
   "id": "9a694c5ef36a3479"
  },
  {
   "cell_type": "code",
   "execution_count": null,
   "outputs": [],
   "source": [
    "import numpy as np\n",
    "import pandas as pd\n",
    "\n",
    "N = dataInput_EM.shape[0]\n",
    "T = timeSeries_EV.shape[0]\n",
    "\n",
    "Pool = {\n",
    "    \"EM_pSum\": np.zeros((T, N)),\n",
    "    \"EM_pScal\": np.zeros((T, N)),\n",
    "    \"BS\": np.zeros((T, N)),\n",
    "    \"inst_EV\": np.zeros(N),\n",
    "    \"inst_HP\": np.zeros(N),\n",
    "    \"inst_PV\": np.zeros(N),\n",
    "    \"inst_BS\": np.zeros(N),\n",
    "    \"EM_nurLoad_pScal\": np.zeros((T, N)),\n",
    "    \"all\": np.zeros((T, N)),\n",
    "    \"pv\": np.zeros((T, N)),\n",
    "    \"ev\": np.zeros((T, N)),\n",
    "    \"ev2\": np.zeros((T, N)),\n",
    "}\n",
    "\n",
    "for i in range(N):\n",
    "    pv = np.zeros(T)\n",
    "    inst_pv = 0\n",
    "    if EM_toPV[i]:\n",
    "        pv = timeSeries_PV[:, EM_toPV[i]] * 1e3 / dataInput_EM.nBuildings[i]\n",
    "        inst_pv = -np.min(pv)\n",
    "    \n",
    "    ev = np.zeros(T)\n",
    "    inst_ev = 0\n",
    "    if EM_toEV[i]:\n",
    "        if EM_toEV[i] <= timeSeries_EV.shape[1]:\n",
    "            ev = timeSeries_EV[:, EM_toEV[i]] / np.max(timeSeries_EV[:, EM_toEV[i]])\n",
    "            inst_ev = dataInput_EV.charging_points[EM_toEV[i]] * 11  # kW\n",
    "            ev *= inst_ev\n",
    "            ev[ev < 0] = 0\n",
    "            ev[np.isnan(ev)] = 0\n",
    "\n",
    "    hp = np.zeros(T)\n",
    "    inst_hp = 0\n",
    "    if EM_toHP[i]:\n",
    "        hp = timeSeries_HP[:, EM_toHP[i]] * 1e3 / dataInput_EM.nBuildings[i]\n",
    "        inst_hp = np.max(hp)\n",
    "    \n",
    "    if EM_toLo[i]:\n",
    "        lo = timeSeries_Lo[:, EM_toLo[i]] * 1e3 / dataInput_EM.nBuildings[i]\n",
    "    else:\n",
    "        lo = np.zeros(T)\n",
    "    \n",
    "    bs = np.zeros(T)\n",
    "    inst_bs = 0\n",
    "    if EM_toBS[i]:\n",
    "        if EM_toBS[i] <= timeSeries_BS.shape[1]:\n",
    "            bs = timeSeries_BS[:, EM_toBS[i]] * 1e3 / dataInput_EM.nBuildings[i]\n",
    "            inst_bs = np.max(np.abs(bs))\n",
    "        else:\n",
    "            print(f\"Warning: Zeitreihe BS #{EM_toBS[i]} nicht vorhanden\")\n",
    "    \n",
    "    pvSurplus = pv + lo\n",
    "    pvSurplus[pvSurplus > 0] = 0\n",
    "    hp_ev_bs_pv_sum = ev + hp + bs + pvSurplus\n",
    "    hp_ev_bs_pv_sum[hp_ev_bs_pv_sum < 0] = 0\n",
    "    hp_ev_sum = ev + hp\n",
    "\n",
    "    Pool[\"EM_pSum\"][:, i] = hp_ev_bs_pv_sum\n",
    "    Pool[\"BS\"][:, i] = bs\n",
    "    if (inst_ev + inst_hp) > 0:\n",
    "        Pool[\"EM_pScal\"][:, i] = hp_ev_bs_pv_sum / (inst_ev + inst_hp)\n",
    "        Pool[\"EM_nurLoad_pScal\"][:, i] = hp_ev_sum / (inst_ev + inst_hp)\n",
    "    else:\n",
    "        Pool[\"EM_pScal\"][:, i] = 0\n",
    "        Pool[\"EM_nurLoad_pScal\"][:, i] = 0\n",
    "    \n",
    "    Pool[\"inst_EV\"][i] = inst_ev\n",
    "    Pool[\"inst_HP\"][i] = inst_hp\n",
    "    Pool[\"inst_PV\"][i] = inst_pv\n",
    "    Pool[\"inst_BS\"][i] = inst_bs\n",
    "    Pool[\"all\"][:, i] = lo + pv + bs + hp + ev\n",
    "    Pool[\"pv\"][:, i] = pv\n",
    "    Pool[\"ev\"][:, i] = ev\n",
    "    Pool[\"ev2\"][:, i] = ev2\n",
    "\n",
    "    # Plotting section can be implemented here if required\n",
    "\n",
    "# The plotting section from the original MATLAB code can be added similarly in Python for visualization purposes.\n",
    "# Ensure the necessary plotting libraries like Matplotlib are imported.\n"
   ],
   "metadata": {
    "collapsed": false,
    "ExecuteTime": {
     "end_time": "2023-11-17T07:32:34.323649300Z",
     "start_time": "2023-11-17T07:32:34.321653200Z"
    }
   },
   "id": "f58bc0731db99467"
  },
  {
   "cell_type": "code",
   "execution_count": null,
   "outputs": [],
   "source": [
    "# CASE 1: HP + EV + PV + BS\n",
    "# CASE 2: EV Only + PV\n",
    "# CASE 3: HP Only + PV\n",
    "# CASE 4: HP + EV exkl. PV\n",
    "# CASE 5: EV exkl. PV\n",
    "# CASE 6: HP exkl. PV"
   ],
   "metadata": {
    "collapsed": false
   },
   "id": "e67214a79dfe38df"
  },
  {
   "cell_type": "code",
   "execution_count": 5,
   "outputs": [],
   "source": [
    "import numpy as np\n",
    "import pandas as pd\n",
    "import matplotlib.pyplot as plt\n",
    "if 0 == 1:\n",
    "    GZG_N_Kurve = len(GZG_Kurve)\n",
    "    GZG_nSamples = np.zeros(GZG_nCases)\n",
    "    GZG_nBuildings = np.zeros(GZG_nCases)\n",
    "    GZG_pInstTotal = np.zeros(GZG_nCases)\n",
    "    \n",
    "    # ... (initialize other variables)\n",
    "    \n",
    "    for c in range(1, GZG_nCases + 1):\n",
    "        try:\n",
    "            # ... (code within the loop)\n",
    "    \n",
    "            fltrEV = np.logical_and(Pool_inst_EV > 0, dataInput_EM.nChargePoints == 1) if GZG_cases[c]['EV'] else Pool_inst_EV == 0\n",
    "            fltrHP = Pool_inst_HP > 0 if GZG_cases[c]['HP'] else Pool_inst_HP == 0\n",
    "            fltrPV = Pool_inst_PV > 0 if GZG_cases[c]['PV'] else Pool_inst_PV == 0\n",
    "    \n",
    "            fltr = np.logical_and(np.logical_and(fltrEV, fltrHP), fltrPV)\n",
    "            Pool_MC = Pool_EM_pScal[:, fltr]\n",
    "            GZG_nSamples[c - 1] = np.sum(fltr)\n",
    "            GZG_nBuildings[c - 1] = np.sum(dataInput_EM.nBuildings[fltr])\n",
    "    \n",
    "            # ... (rest of the code within the loop)\n",
    "    \n",
    "        except Exception as e:\n",
    "            print(e)\n",
    "    \n",
    "    print(\"Okay\")\n"
   ],
   "metadata": {
    "collapsed": false,
    "ExecuteTime": {
     "end_time": "2023-11-17T07:32:35.863563400Z",
     "start_time": "2023-11-17T07:32:35.104293Z"
    }
   },
   "id": "598abd54573cb44d"
  },
  {
   "cell_type": "code",
   "execution_count": 6,
   "outputs": [
    {
     "ename": "NameError",
     "evalue": "name 'GZG_Kurve' is not defined",
     "output_type": "error",
     "traceback": [
      "\u001B[1;31m---------------------------------------------------------------------------\u001B[0m",
      "\u001B[1;31mNameError\u001B[0m                                 Traceback (most recent call last)",
      "Cell \u001B[1;32mIn[6], line 6\u001B[0m\n\u001B[0;32m      2\u001B[0m \u001B[38;5;28;01mimport\u001B[39;00m \u001B[38;5;21;01mmatplotlib\u001B[39;00m\u001B[38;5;21;01m.\u001B[39;00m\u001B[38;5;21;01mpyplot\u001B[39;00m \u001B[38;5;28;01mas\u001B[39;00m \u001B[38;5;21;01mplt\u001B[39;00m\n\u001B[0;32m      4\u001B[0m \u001B[38;5;66;03m# Assuming GZG, Pool, and other relevant variables are defined appropriately\u001B[39;00m\n\u001B[1;32m----> 6\u001B[0m GZG_N_Kurve \u001B[38;5;241m=\u001B[39m \u001B[38;5;28mlen\u001B[39m(\u001B[43mGZG_Kurve\u001B[49m)\n\u001B[0;32m      7\u001B[0m GZG_nSamples \u001B[38;5;241m=\u001B[39m np\u001B[38;5;241m.\u001B[39mzeros(GZG_nCases)\n\u001B[0;32m      8\u001B[0m GZG_nBuildings \u001B[38;5;241m=\u001B[39m np\u001B[38;5;241m.\u001B[39mzeros(GZG_nCases)\n",
      "\u001B[1;31mNameError\u001B[0m: name 'GZG_Kurve' is not defined"
     ]
    }
   ],
   "source": [
    "import numpy as np\n",
    "import matplotlib.pyplot as plt\n",
    "\n",
    "# Assuming GZG, Pool, and other relevant variables are defined appropriately\n",
    "\n",
    "\n",
    "\n",
    "\n",
    "\n",
    "GZG_N_Kurve = len(GZG_Kurve)\n",
    "GZG_nSamples = np.zeros(GZG_nCases)\n",
    "GZG_nBuildings = np.zeros(GZG_nCases)\n",
    "GZG_pInstTotal = np.zeros(GZG_nCases)\n",
    "\n",
    "GZG_MW = np.zeros((GZG_N_Kurve, GZG_nCases))\n",
    "GZG_MW_Q90 = np.zeros((GZG_N_Kurve, GZG_nCases))\n",
    "GZG_MW_Q95 = np.zeros((GZG_N_Kurve, GZG_nCases))\n",
    "GZG_MW_Q99 = np.zeros((GZG_N_Kurve, GZG_nCases))\n",
    "GZG_MW_Qmax = np.zeros((GZG_N_Kurve, GZG_nCases))\n",
    "GZG_MW_Qmed = np.zeros((GZG_N_Kurve, GZG_nCases))\n",
    "\n",
    "for c in range(1, GZG['nCases'] + 1):\n",
    "    try:\n",
    "        # Filter types\n",
    "        fltrEV = (Pool['inst_EV'] > 0) & (dataInput_EM['nChargePoints'] == 1) if GZG['cases'][c]['EV'] else (Pool['inst_EV'] == 0)\n",
    "        fltrHP = (Pool['inst_HP'] > 0) if GZG['cases'][c]['HP'] else (Pool['inst_HP'] == 0)\n",
    "        fltrPV = (Pool['inst_PV'] > 0) if GZG['cases'][c]['PV'] else (Pool['inst_PV'] == 0)\n",
    "\n",
    "        fltr = fltrEV & fltrHP & fltrPV\n",
    "        Pool_MC = Pool['EM_pScal'][:, fltr]\n",
    "        GZG['nSamples'][c] = np.sum(fltr)\n",
    "        GZG['nBuildings'][c] = np.sum(dataInput_EM['nBuildings'][fltr])\n",
    "\n",
    "        GZG['pInstTotal'][c] = (np.sum(Pool['inst_EV'][fltr]) / np.sum(fltr)) * GZG['nBuildings'][c] + \\\n",
    "                                (np.sum(Pool['inst_HP'][fltr]) / np.sum(fltr)) * GZG['nBuildings'][c]\n",
    "\n",
    "        temp_GG_norm = np.zeros(GZG['N_MC'])\n",
    "        GZG['N_Pool'] = Pool_MC.shape[1]\n",
    "\n",
    "        if somePlots:\n",
    "            plt.subplot(2, 3, c)\n",
    "            plt.title(f'{c} - {GZG[\"nBuildings\"][c] / 1e3:.1f} Tsd.')\n",
    "            plt.xlim([0, max(GZG['Kurve'])])\n",
    "\n",
    "            # Other plot settings...\n",
    "\n",
    "        temp_Kurve = GZG['N_Kurve']\n",
    "        temp_Kurve[temp_Kurve > GZG['nSamples'][c]] = []\n",
    "\n",
    "        for n in range(1, len(temp_Kurve) + 1):\n",
    "            nEV = GZG['Kurve'][n]\n",
    "            for i in range(1, GZG['N_MC'] + 1):\n",
    "                b = np.random.randint(1, GZG['N_Pool'], nEV)\n",
    "\n",
    "                temp_GG_norm[i] = np.max(np.sum(Pool_MC[includeTime, b], axis=1, where=~np.isnan(Pool_MC))) / nEV\n",
    "\n",
    "            # Quantile computations...\n",
    "            GZG['MW'][n, c] = np.mean(temp_GG_norm)\n",
    "            GZG['MW_Q90'][n, c] = np.percentile(temp_GG_norm, 90, interpolation='lower')\n",
    "            GZG['MW_Q95'][n, c] = np.percentile(temp_GG_norm, 95, interpolation='lower')\n",
    "            GZG['MW_Q99'][n, c] = np.percentile(temp_GG_norm, 99, interpolation='lower')\n",
    "            GZG['MW_Qmax'][n, c] = np.max(temp_GG_norm)\n",
    "            GZG['MW_Qmed'][n, c] = np.median(temp_GG_norm)\n",
    "\n",
    "            if somePlots:\n",
    "                # Scatter plot...\n",
    "                pass\n",
    "\n",
    "        print(f'{c}/6 - ', end='')\n",
    "\n",
    "    except Exception as e:\n",
    "        print(e)\n",
    "\n",
    "print(' okay')\n"
   ],
   "metadata": {
    "collapsed": false,
    "ExecuteTime": {
     "end_time": "2023-11-17T07:32:36.087684500Z",
     "start_time": "2023-11-17T07:32:36.046068900Z"
    }
   },
   "id": "2a351b21dfeb18b4"
  },
  {
   "cell_type": "code",
   "execution_count": null,
   "outputs": [],
   "source": [
    "import numpy as np\n",
    "import matplotlib.pyplot as plt\n",
    "\n",
    "# Alle EM mit BS durchgehen\n",
    "fltr = np.where(Pool_inst_BS > 0)[0]\n",
    "zr_bs_load = np.zeros((T, len(fltr)))\n",
    "zr_bs_gen = np.zeros((T, len(fltr)))\n",
    "zr_bs_gen_pv = np.zeros((T, len(fltr)))\n",
    "\n",
    "for i in range(len(fltr)):\n",
    "    zr_bs_load[:, i] = Pool_BS[:, fltr[i]] * (Pool_all[:, fltr[i]] > 0)\n",
    "    zr_bs_gen[:, i] = Pool_BS[:, fltr[i]] * (Pool_all[:, fltr[i]] < 0)\n",
    "    zr_bs_gen_pv[:, i] = (Pool_pv[:, fltr[i]] + Pool_BS[:, fltr[i]]) * (Pool_all[:, fltr[i]] < 0)\n",
    "\n",
    "zr_bs_load[zr_bs_load < 0] = 0\n",
    "zr_bs_gen[zr_bs_gen > 0] = 0\n",
    "zr_bs_gen_pv[zr_bs_gen_pv > 0] = 0\n",
    "\n",
    "zr_bs_load_scal = np.sum(zr_bs_load, axis=1) / np.sum(Pool_inst_BS[fltr])\n",
    "zr_bs_gen_scal = np.sum(zr_bs_gen, axis=1) / np.sum(Pool_inst_BS[fltr])\n",
    "zr_bs_gen_pv_scal = np.sum(zr_bs_gen_pv, axis=1) / np.sum(Pool_inst_PV[fltr])\n",
    "\n",
    "# Plotting examples\n",
    "plt.figure()\n",
    "ts = np.array([datetime.timedelta(minutes=15) * i for i in range(366*96)])\n",
    "plt.plot(ts, np.sum(zr_bs_load_scal, axis=1))\n",
    "plt.plot(ts, np.sum(zr_bs_gen_scal, axis=1))\n",
    "plt.plot(ts, np.sum(zr_bs_load_scal, axis=1) + np.sum(zr_bs_gen_scal, axis=1))\n",
    "plt.show()\n",
    "\n",
    "plt.figure()\n",
    "x = np.arange(1, 366*96 + 1) / 4\n",
    "plt.plot(x, np.sort(np.sum(zr_bs_load_scal, axis=1) + np.sum(zr_bs_gen_scal, axis=1))[::-1], linewidth=1.5)\n",
    "plt.title(\"Duration curve BESS - Scenario 1a\")\n",
    "plt.grid(True)\n",
    "plt.xlabel('hours')\n",
    "plt.ylabel('concurrency')\n",
    "plt.xlim(0, 8770)\n",
    "plt.show()\n",
    "\n",
    "plt.figure()\n",
    "x = np.arange(1, 366*96 + 1) / 4\n",
    "plt.plot(x, np.sort(zr_bs_gen_pv_scal)[::-1], linewidth=1.5)\n",
    "plt.title(\"Duration curve BESS - Scenario 1a\")\n",
    "plt.grid(True)\n",
    "plt.xlabel('hours')\n",
    "plt.ylabel('concurrency')\n",
    "plt.xlim(0, 8760)\n",
    "plt.show()\n"
   ],
   "metadata": {
    "collapsed": false,
    "ExecuteTime": {
     "start_time": "2023-11-17T04:36:09.353356600Z"
    }
   },
   "id": "3cf526bf1b56261e"
  },
  {
   "cell_type": "code",
   "execution_count": null,
   "outputs": [],
   "source": [
    "import numpy as np\n",
    "import matplotlib.pyplot as plt\n",
    "import datetime\n",
    "\n",
    "# Alle EM mit EV durchgehen\n",
    "fltr = np.where(Pool_inst_EV > 0)[0]\n",
    "\n",
    "a = np.sum(Pool_ev2[:, fltr], axis=1)\n",
    "a2 = a / np.sum(Pool_inst_EV[fltr])\n",
    "\n",
    "ts = np.array([datetime.timedelta(minutes=15) * i for i in range(366*96)])\n",
    "plt.figure()\n",
    "x = np.arange(1, 366*96 + 1) / 4\n",
    "plt.plot(x, np.sort(a2)[::-1], linewidth=1.5)\n",
    "plt.title(\"Duration curve EV - Scenario 1a\")\n",
    "plt.grid(True)\n",
    "plt.xlabel('hours')\n",
    "plt.ylabel('concurrency')\n",
    "plt.xlim(0, 366*24)\n",
    "plt.show()\n",
    "\n",
    "# Alle EM mit EV durchgehen\n",
    "fltr = np.where(Pool_inst_EV > 0)[0]\n",
    "a_load = Pool_ev2[:, fltr].copy()\n",
    "a_load[Pool_EM_pSum[fltr] < 0] = 0\n",
    "a_load = np.sum(a_load, axis=1) / np.sum(Pool_inst_EV)\n",
    "a_load[a_load < 0] = 0\n",
    "a_gen = Pool_ev2[:, fltr].copy()\n",
    "a_gen[Pool_EM_pSum[fltr] > 0] = 0\n",
    "a_gen = np.sum(a_gen, axis=1) / np.sum(Pool_inst_EV)\n",
    "a_gen[a_gen > 0] = 0\n",
    "\n",
    "y = a_load + a_gen\n",
    "GZG_V2G_all = y\n",
    "\n",
    "if False:  # Change to True to plot\n",
    "    plt.figure()\n",
    "    x = np.arange(1, 366*96 + 1) / 4\n",
    "    plt.plot(x, np.sort(y)[::-1], linewidth=1.5)\n",
    "    plt.title(\"Duration curve EV - Scenario 1a\")\n",
    "    plt.grid(True)\n",
    "    plt.xlabel('hours')\n",
    "    plt.ylabel('concurrency')\n",
    "    plt.xlim(0, 366*24)\n",
    "    plt.show()\n"
   ],
   "metadata": {
    "collapsed": false
   },
   "id": "9785183b9702072f"
  },
  {
   "cell_type": "code",
   "execution_count": null,
   "outputs": [],
   "source": [
    "import scipy.io as sio\n",
    "\n",
    "# Zusammenfassung der GZG-Kurve nach Stichprobenzahl und installierter Leistung\n",
    "weightFactor = GZG_pInstTotal / np.sum(GZG_pInstTotal)\n",
    "GZG_GZG_weighted = np.sum(GZG_MW_Q95 * np.tile(weightFactor.reshape(-1, 1), (1, GZG_N_Kurve)), axis=1)\n",
    "GZG_maxFactorBS = np.max(zr_bs_load_scal)\n",
    "GZG_timeSeriesBSLoadsScal = zr_bs_load_scal\n",
    "\n",
    "# Save the data\n",
    "file_name = f\"{folderResForStefan}/concurrency_v3_{scenario}_{country_code}.mat\"\n",
    "sio.savemat(file_name, {'GZG_GZG_weighted': GZG_GZG_weighted, 'GZG_maxFactorBS': GZG_maxFactorBS, 'GZG_timeSeriesBSLoadsScal': GZG_timeSeriesBSLoadsScal})\n",
    "\n",
    "print('Success')\n",
    "success = True\n"
   ],
   "metadata": {
    "collapsed": false
   },
   "id": "fd69a515e20e49b8"
  }
 ],
 "metadata": {
  "kernelspec": {
   "display_name": "Python 3",
   "language": "python",
   "name": "python3"
  },
  "language_info": {
   "codemirror_mode": {
    "name": "ipython",
    "version": 2
   },
   "file_extension": ".py",
   "mimetype": "text/x-python",
   "name": "python",
   "nbconvert_exporter": "python",
   "pygments_lexer": "ipython2",
   "version": "2.7.6"
  }
 },
 "nbformat": 4,
 "nbformat_minor": 5
}
