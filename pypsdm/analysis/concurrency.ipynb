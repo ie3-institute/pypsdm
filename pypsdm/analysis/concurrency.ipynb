{
 "cells": [
  {
   "cell_type": "code",
   "execution_count": 1,
   "outputs": [],
   "source": [
    "import pandas as pd\n",
    "import numpy as np\n",
    "\n",
    "bug_fix_factor = 1\n",
    "\n",
    "def get_concurrency_from_SIMONA_v3(country_code, scenario, folderInputs, folderRes, folderResForStefan, fileNamingVersion):\n",
    "    # Berechnung der Gleichzeitigkeit aus SOMINA-Ergebnissen\n",
    "    success = False\n",
    "\n",
    "    # Test-Werte für debugging\n",
    "    country_code = 'DE0_0'\n",
    "    scenario = 'sz1b'\n",
    "    folderInputs = 'C:\\\\Users\\\\Workstation\\\\Desktop\\\\TNG\\\\sz1b\\\\DE0_0\\\\DE0_0_2022-12-06_19-52-48\\\\'\n",
    "    folderRes = 'C:\\\\Users\\\\Workstation\\\\Desktop\\\\TNG\\\\sz1b\\\\DE0_0\\\\DE0_0_2022-12-06_19-52-48\\\\'\n",
    "    fileNamingVersion = 2  # Dateien wurden umbenannt (1=_timeseries, 2=_res)\n",
    "\n",
    "    # Other settings\n",
    "    bugFixFactor = 1  # 5.111 -> Fehler wurde in SIMONA behoben\n",
    "    somePlots = True\n",
    "\n",
    "    print('#### Ermittle Gleichzeitgkeitsfunktion ########')\n",
    "    print(f' # country:  {country_code}')\n",
    "    print(f' # scenario: {scenario}')\n",
    "\n",
    "    # ... Rest of the code ...\n",
    "    # The remaining part of the code involves various operations including file loading, data manipulation, calculations,\n",
    "    # and data visualization which would be handled separately due to its length and complexity.\n",
    "    # You can use pandas for reading CSV files, numpy for array operations, and matplotlib for plotting in Python.\n",
    "\n",
    "    return success\n",
    "\n"
   ],
   "metadata": {
    "collapsed": false,
    "ExecuteTime": {
     "end_time": "2023-11-17T04:48:30.137849100Z",
     "start_time": "2023-11-17T04:48:29.741090500Z"
    }
   },
   "id": "initial_id"
  },
  {
   "cell_type": "code",
   "execution_count": 2,
   "outputs": [
    {
     "name": "stdout",
     "output_type": "stream",
     "text": [
      "Warning: There is an artifact at certain time points!\n"
     ]
    }
   ],
   "source": [
    "import numpy as np\n",
    "\n",
    "# Define the time duration\n",
    "T = 366 * 96\n",
    "includeTime = np.ones(T, dtype=bool)\n",
    "\n",
    "# Exclude specific time ranges\n",
    "exclude_ranges = np.concatenate([np.arange(17470, 17470 + 96 * 2), np.arange(34860, T)])\n",
    "includeTime[exclude_ranges] = False\n",
    "\n",
    "# Issue a warning about the artifact at specific time points\n",
    "print(\"Warning: There is an artifact at certain time points!\")\n",
    "\n",
    "# Now 'includeTime' is a boolean array where certain time points are marked to be excluded\n"
   ],
   "metadata": {
    "collapsed": false,
    "ExecuteTime": {
     "end_time": "2023-11-17T04:48:30.797505Z",
     "start_time": "2023-11-17T04:48:30.790992600Z"
    }
   },
   "id": "e4fd58a68caa8583"
  },
  {
   "cell_type": "code",
   "execution_count": 3,
   "outputs": [],
   "source": [
    "# Define GZG parameters\n",
    "GZG = {\n",
    "    'P_LP': 11,\n",
    "    'N_MC': 2000,\n",
    "    'Kurve': [1, 2, 4, 6, 8, 10, 15, 20, 30, 50, 100, 150, 200],\n",
    "    'cases': {\n",
    "        1: {'EV': True, 'HP': True, 'PV': True},\n",
    "        2: {'EV': True, 'HP': False, 'PV': True},\n",
    "        3: {'EV': False, 'HP': True, 'PV': True},\n",
    "        4: {'EV': True, 'HP': True, 'PV': False},\n",
    "        5: {'EV': True, 'HP': False, 'PV': False},\n",
    "        6: {'EV': False, 'HP': True, 'PV': False}\n",
    "    }\n",
    "}\n"
   ],
   "metadata": {
    "collapsed": false,
    "ExecuteTime": {
     "end_time": "2023-11-17T04:48:32.888285800Z",
     "start_time": "2023-11-17T04:48:32.874324600Z"
    }
   },
   "id": "824102154a088821"
  },
  {
   "cell_type": "code",
   "execution_count": 4,
   "outputs": [],
   "source": [
    "# List of file names\n",
    "file_names = [\n",
    "    'hp_res.csv',\n",
    "    'hp_input.csv',\n",
    "    'evcs_res.csv',\n",
    "    'evcs_input.csv',\n",
    "    'pv_res.csv',\n",
    "    'pv_input.csv',\n",
    "    'em_input.csv',\n",
    "    'load_res.csv',\n",
    "    'load_input.csv',\n",
    "    'storage_res.csv',\n",
    "    'storage_input.csv'\n",
    "]\n"
   ],
   "metadata": {
    "collapsed": false,
    "ExecuteTime": {
     "end_time": "2023-11-17T04:48:33.586182200Z",
     "start_time": "2023-11-17T04:48:33.583172800Z"
    }
   },
   "id": "2bf5d8d78e0ffe4e"
  },
  {
   "cell_type": "code",
   "execution_count": null,
   "outputs": [],
   "source": [],
   "metadata": {
    "collapsed": false
   },
   "id": "da7f8e60778d57de"
  },
  {
   "cell_type": "code",
   "execution_count": 1,
   "outputs": [
    {
     "name": "stdout",
     "output_type": "stream",
     "text": [
      "Input data loading\n"
     ]
    },
    {
     "data": {
      "text/plain": "                                               id  \\\nuuid                                                \nfcacb5f3-0e3b-48f3-81f1-31dc83300814   House_15_1   \nb3779cd2-4e5e-43e5-848c-c012d7fd36d5   House_15_2   \n9792e3dd-cd4b-4880-bc19-9b2e9f8a1b47   House_15_3   \nf9591503-be21-4251-9d09-303609d36a70   House_15_4   \n3f11b5d3-85eb-448c-b6c1-c803cdfafe8e   House_15_5   \nb7d5a7e4-5491-40f6-b093-a6eb73a89b09   House_15_6   \n9e500f36-85ed-4e06-86be-8e855ce107f5   House_15_7   \n996d2a18-2dcd-4f0d-97a5-917317f59b57   House_15_8   \n18700e8c-f81d-4547-87a3-be124ec3b470   House_15_9   \n978d743e-05a4-4c84-b3ab-661c977e84bd  House_15_10   \nd32c95a6-3621-4811-bace-ec66e616d930  House_15_11   \nc3691cd8-2344-4dac-bc1e-db913d74f037  House_15_12   \n576542d9-bd15-43f8-a3f1-460c9465c289  House_15_13   \n91b92e26-3586-4bf7-80e2-5f3b2fd47c3b  House_15_14   \nb09ff158-599e-48f2-863f-038f35a744bf  House_15_15   \ndfa006bf-f7e8-46c6-a5e1-f0624b5a2e61  House_15_16   \n881d8bb4-0e52-4781-b5be-8e0c83b768a1  House_15_17   \n2400805f-e08a-4f11-bbd4-132075da2669  House_15_18   \ncaf201c6-94c9-451c-94e9-53680247af7d  House_15_19   \n6172ae26-3144-4018-84f7-fe786987dc05  House_15_20   \ndfc9295f-62e5-405f-aa8d-cc6e365b7e9e  House_15_21   \n264ba4db-f680-4472-8e73-a545c0b65d09  House_15_22   \n756b44f4-39ab-438e-a5b2-dcb11d0a25e6  House_15_23   \nf0df2abd-b36c-4792-bf32-16e5dfdd9f1d  House_15_24   \n\n                                                                      node  \\\nuuid                                                                         \nfcacb5f3-0e3b-48f3-81f1-31dc83300814  e3c3c6a3-c383-4dbb-9b3f-a14125615386   \nb3779cd2-4e5e-43e5-848c-c012d7fd36d5  e3c3c6a3-c383-4dbb-9b3f-a14125615386   \n9792e3dd-cd4b-4880-bc19-9b2e9f8a1b47  e3c3c6a3-c383-4dbb-9b3f-a14125615386   \nf9591503-be21-4251-9d09-303609d36a70  e3c3c6a3-c383-4dbb-9b3f-a14125615386   \n3f11b5d3-85eb-448c-b6c1-c803cdfafe8e  e3c3c6a3-c383-4dbb-9b3f-a14125615386   \nb7d5a7e4-5491-40f6-b093-a6eb73a89b09  e3c3c6a3-c383-4dbb-9b3f-a14125615386   \n9e500f36-85ed-4e06-86be-8e855ce107f5  e3c3c6a3-c383-4dbb-9b3f-a14125615386   \n996d2a18-2dcd-4f0d-97a5-917317f59b57  e3c3c6a3-c383-4dbb-9b3f-a14125615386   \n18700e8c-f81d-4547-87a3-be124ec3b470  e3c3c6a3-c383-4dbb-9b3f-a14125615386   \n978d743e-05a4-4c84-b3ab-661c977e84bd  e3c3c6a3-c383-4dbb-9b3f-a14125615386   \nd32c95a6-3621-4811-bace-ec66e616d930  e3c3c6a3-c383-4dbb-9b3f-a14125615386   \nc3691cd8-2344-4dac-bc1e-db913d74f037  e3c3c6a3-c383-4dbb-9b3f-a14125615386   \n576542d9-bd15-43f8-a3f1-460c9465c289  e3c3c6a3-c383-4dbb-9b3f-a14125615386   \n91b92e26-3586-4bf7-80e2-5f3b2fd47c3b  e3c3c6a3-c383-4dbb-9b3f-a14125615386   \nb09ff158-599e-48f2-863f-038f35a744bf  e3c3c6a3-c383-4dbb-9b3f-a14125615386   \ndfa006bf-f7e8-46c6-a5e1-f0624b5a2e61  e3c3c6a3-c383-4dbb-9b3f-a14125615386   \n881d8bb4-0e52-4781-b5be-8e0c83b768a1  e3c3c6a3-c383-4dbb-9b3f-a14125615386   \n2400805f-e08a-4f11-bbd4-132075da2669  e3c3c6a3-c383-4dbb-9b3f-a14125615386   \ncaf201c6-94c9-451c-94e9-53680247af7d  e3c3c6a3-c383-4dbb-9b3f-a14125615386   \n6172ae26-3144-4018-84f7-fe786987dc05  e3c3c6a3-c383-4dbb-9b3f-a14125615386   \ndfc9295f-62e5-405f-aa8d-cc6e365b7e9e  e3c3c6a3-c383-4dbb-9b3f-a14125615386   \n264ba4db-f680-4472-8e73-a545c0b65d09  e3c3c6a3-c383-4dbb-9b3f-a14125615386   \n756b44f4-39ab-438e-a5b2-dcb11d0a25e6  e3c3c6a3-c383-4dbb-9b3f-a14125615386   \nf0df2abd-b36c-4792-bf32-16e5dfdd9f1d  e3c3c6a3-c383-4dbb-9b3f-a14125615386   \n\n                                                                       connected_assets  \\\nuuid                                                                                      \nfcacb5f3-0e3b-48f3-81f1-31dc83300814  eacb66b4-9315-40b9-9727-8b80b2ddcb07 1db9839e-...   \nb3779cd2-4e5e-43e5-848c-c012d7fd36d5  f66f4934-3f4e-43d2-a66b-32a998a6349f 3141bc61-...   \n9792e3dd-cd4b-4880-bc19-9b2e9f8a1b47  5fda3b2a-3751-4a3a-ae1c-93e0e9f86880 bb151736-...   \nf9591503-be21-4251-9d09-303609d36a70  8972982b-cafb-4ec7-a9a7-c1577a4e24ad afebb705-...   \n3f11b5d3-85eb-448c-b6c1-c803cdfafe8e  0cc66089-44d2-4ea3-805d-c69339d73cd5 e0845d09-...   \nb7d5a7e4-5491-40f6-b093-a6eb73a89b09  50723b4f-5693-4cf4-b082-69c7cedfab1f b6381b88-...   \n9e500f36-85ed-4e06-86be-8e855ce107f5  88fc8719-a4d0-4ddb-a9a1-ff5d5d1a17bf 5c8a14a0-...   \n996d2a18-2dcd-4f0d-97a5-917317f59b57  8747d0e6-2f5c-4892-870b-def519417751 2e7ac605-...   \n18700e8c-f81d-4547-87a3-be124ec3b470  e013c8f0-5ac6-4317-9a01-6248ae9f8635 28dc723b-...   \n978d743e-05a4-4c84-b3ab-661c977e84bd  60a5f908-bba2-4c51-90cf-37a314c16511 6f050eb4-...   \nd32c95a6-3621-4811-bace-ec66e616d930  0200d0f7-bdad-4ccd-a514-c387744394f4 2b4036f7-...   \nc3691cd8-2344-4dac-bc1e-db913d74f037  09eb8cdc-be18-4ffa-be5c-1304e5bcdaf9 3df54b8e-...   \n576542d9-bd15-43f8-a3f1-460c9465c289  d5a955bf-44a0-4ab9-8123-b2e35266506a 57073130-...   \n91b92e26-3586-4bf7-80e2-5f3b2fd47c3b  03897629-b770-4ad1-b37a-7835c20408f5 e7a8db40-...   \nb09ff158-599e-48f2-863f-038f35a744bf  6945cacd-9cf9-4db3-bcec-6562a22bb74c 5c5e5980-...   \ndfa006bf-f7e8-46c6-a5e1-f0624b5a2e61  7d8fb447-ea29-4238-bb38-1d397b170fbf d57e2852-...   \n881d8bb4-0e52-4781-b5be-8e0c83b768a1  f8d5a6f0-b118-4223-9221-1fdcce89484e 1e25493b-...   \n2400805f-e08a-4f11-bbd4-132075da2669  c9c44bf3-6d22-4013-a66e-9c244b1715d9 c968ee1a-...   \ncaf201c6-94c9-451c-94e9-53680247af7d  a9074765-e269-4672-8519-a3df784d7800 79eb841f-...   \n6172ae26-3144-4018-84f7-fe786987dc05  ac74cc98-43ea-41fd-944e-371caf7da6ba feb176c3-...   \ndfc9295f-62e5-405f-aa8d-cc6e365b7e9e  a7287ea8-31f1-4f51-aea4-050eb7038942 31befdc3-...   \n264ba4db-f680-4472-8e73-a545c0b65d09  cbb3fe12-9bcd-4521-8ae8-1f9d65de48b0 c5f725d9-...   \n756b44f4-39ab-438e-a5b2-dcb11d0a25e6  2e9db4fd-7292-475e-9d7c-3e987288b111 faf6f91f-...   \nf0df2abd-b36c-4792-bf32-16e5dfdd9f1d  a805742f-0135-43aa-b7c6-84f4d055e0ad 47b8123f-...   \n\n                                       control_strategy  \\\nuuid                                                      \nfcacb5f3-0e3b-48f3-81f1-31dc83300814  self_optimization   \nb3779cd2-4e5e-43e5-848c-c012d7fd36d5  self_optimization   \n9792e3dd-cd4b-4880-bc19-9b2e9f8a1b47  self_optimization   \nf9591503-be21-4251-9d09-303609d36a70  self_optimization   \n3f11b5d3-85eb-448c-b6c1-c803cdfafe8e  self_optimization   \nb7d5a7e4-5491-40f6-b093-a6eb73a89b09  self_optimization   \n9e500f36-85ed-4e06-86be-8e855ce107f5  self_optimization   \n996d2a18-2dcd-4f0d-97a5-917317f59b57  self_optimization   \n18700e8c-f81d-4547-87a3-be124ec3b470  self_optimization   \n978d743e-05a4-4c84-b3ab-661c977e84bd  self_optimization   \nd32c95a6-3621-4811-bace-ec66e616d930  self_optimization   \nc3691cd8-2344-4dac-bc1e-db913d74f037  self_optimization   \n576542d9-bd15-43f8-a3f1-460c9465c289  self_optimization   \n91b92e26-3586-4bf7-80e2-5f3b2fd47c3b  self_optimization   \nb09ff158-599e-48f2-863f-038f35a744bf  self_optimization   \ndfa006bf-f7e8-46c6-a5e1-f0624b5a2e61  self_optimization   \n881d8bb4-0e52-4781-b5be-8e0c83b768a1  self_optimization   \n2400805f-e08a-4f11-bbd4-132075da2669  self_optimization   \ncaf201c6-94c9-451c-94e9-53680247af7d  self_optimization   \n6172ae26-3144-4018-84f7-fe786987dc05  self_optimization   \ndfc9295f-62e5-405f-aa8d-cc6e365b7e9e  self_optimization   \n264ba4db-f680-4472-8e73-a545c0b65d09  self_optimization   \n756b44f4-39ab-438e-a5b2-dcb11d0a25e6  self_optimization   \nf0df2abd-b36c-4792-bf32-16e5dfdd9f1d  self_optimization   \n\n                                             q_characteristics  operates_from  \\\nuuid                                                                            \nfcacb5f3-0e3b-48f3-81f1-31dc83300814  cosPhiFixed:{(0.0, 0.9)}            NaN   \nb3779cd2-4e5e-43e5-848c-c012d7fd36d5  cosPhiFixed:{(0.0, 0.9)}            NaN   \n9792e3dd-cd4b-4880-bc19-9b2e9f8a1b47  cosPhiFixed:{(0.0, 0.9)}            NaN   \nf9591503-be21-4251-9d09-303609d36a70  cosPhiFixed:{(0.0, 0.9)}            NaN   \n3f11b5d3-85eb-448c-b6c1-c803cdfafe8e  cosPhiFixed:{(0.0, 0.9)}            NaN   \nb7d5a7e4-5491-40f6-b093-a6eb73a89b09  cosPhiFixed:{(0.0, 0.9)}            NaN   \n9e500f36-85ed-4e06-86be-8e855ce107f5  cosPhiFixed:{(0.0, 0.9)}            NaN   \n996d2a18-2dcd-4f0d-97a5-917317f59b57  cosPhiFixed:{(0.0, 0.9)}            NaN   \n18700e8c-f81d-4547-87a3-be124ec3b470  cosPhiFixed:{(0.0, 0.9)}            NaN   \n978d743e-05a4-4c84-b3ab-661c977e84bd  cosPhiFixed:{(0.0, 0.9)}            NaN   \nd32c95a6-3621-4811-bace-ec66e616d930  cosPhiFixed:{(0.0, 0.9)}            NaN   \nc3691cd8-2344-4dac-bc1e-db913d74f037  cosPhiFixed:{(0.0, 0.9)}            NaN   \n576542d9-bd15-43f8-a3f1-460c9465c289  cosPhiFixed:{(0.0, 0.9)}            NaN   \n91b92e26-3586-4bf7-80e2-5f3b2fd47c3b  cosPhiFixed:{(0.0, 0.9)}            NaN   \nb09ff158-599e-48f2-863f-038f35a744bf  cosPhiFixed:{(0.0, 0.9)}            NaN   \ndfa006bf-f7e8-46c6-a5e1-f0624b5a2e61  cosPhiFixed:{(0.0, 0.9)}            NaN   \n881d8bb4-0e52-4781-b5be-8e0c83b768a1  cosPhiFixed:{(0.0, 0.9)}            NaN   \n2400805f-e08a-4f11-bbd4-132075da2669  cosPhiFixed:{(0.0, 0.9)}            NaN   \ncaf201c6-94c9-451c-94e9-53680247af7d  cosPhiFixed:{(0.0, 0.9)}            NaN   \n6172ae26-3144-4018-84f7-fe786987dc05  cosPhiFixed:{(0.0, 0.9)}            NaN   \ndfc9295f-62e5-405f-aa8d-cc6e365b7e9e  cosPhiFixed:{(0.0, 0.9)}            NaN   \n264ba4db-f680-4472-8e73-a545c0b65d09  cosPhiFixed:{(0.0, 0.9)}            NaN   \n756b44f4-39ab-438e-a5b2-dcb11d0a25e6  cosPhiFixed:{(0.0, 0.9)}            NaN   \nf0df2abd-b36c-4792-bf32-16e5dfdd9f1d  cosPhiFixed:{(0.0, 0.9)}            NaN   \n\n                                      operates_until  operator  \nuuid                                                            \nfcacb5f3-0e3b-48f3-81f1-31dc83300814             NaN       NaN  \nb3779cd2-4e5e-43e5-848c-c012d7fd36d5             NaN       NaN  \n9792e3dd-cd4b-4880-bc19-9b2e9f8a1b47             NaN       NaN  \nf9591503-be21-4251-9d09-303609d36a70             NaN       NaN  \n3f11b5d3-85eb-448c-b6c1-c803cdfafe8e             NaN       NaN  \nb7d5a7e4-5491-40f6-b093-a6eb73a89b09             NaN       NaN  \n9e500f36-85ed-4e06-86be-8e855ce107f5             NaN       NaN  \n996d2a18-2dcd-4f0d-97a5-917317f59b57             NaN       NaN  \n18700e8c-f81d-4547-87a3-be124ec3b470             NaN       NaN  \n978d743e-05a4-4c84-b3ab-661c977e84bd             NaN       NaN  \nd32c95a6-3621-4811-bace-ec66e616d930             NaN       NaN  \nc3691cd8-2344-4dac-bc1e-db913d74f037             NaN       NaN  \n576542d9-bd15-43f8-a3f1-460c9465c289             NaN       NaN  \n91b92e26-3586-4bf7-80e2-5f3b2fd47c3b             NaN       NaN  \nb09ff158-599e-48f2-863f-038f35a744bf             NaN       NaN  \ndfa006bf-f7e8-46c6-a5e1-f0624b5a2e61             NaN       NaN  \n881d8bb4-0e52-4781-b5be-8e0c83b768a1             NaN       NaN  \n2400805f-e08a-4f11-bbd4-132075da2669             NaN       NaN  \ncaf201c6-94c9-451c-94e9-53680247af7d             NaN       NaN  \n6172ae26-3144-4018-84f7-fe786987dc05             NaN       NaN  \ndfc9295f-62e5-405f-aa8d-cc6e365b7e9e             NaN       NaN  \n264ba4db-f680-4472-8e73-a545c0b65d09             NaN       NaN  \n756b44f4-39ab-438e-a5b2-dcb11d0a25e6             NaN       NaN  \nf0df2abd-b36c-4792-bf32-16e5dfdd9f1d             NaN       NaN  ",
      "text/html": "<div>\n<style scoped>\n    .dataframe tbody tr th:only-of-type {\n        vertical-align: middle;\n    }\n\n    .dataframe tbody tr th {\n        vertical-align: top;\n    }\n\n    .dataframe thead th {\n        text-align: right;\n    }\n</style>\n<table border=\"1\" class=\"dataframe\">\n  <thead>\n    <tr style=\"text-align: right;\">\n      <th></th>\n      <th>id</th>\n      <th>node</th>\n      <th>connected_assets</th>\n      <th>control_strategy</th>\n      <th>q_characteristics</th>\n      <th>operates_from</th>\n      <th>operates_until</th>\n      <th>operator</th>\n    </tr>\n    <tr>\n      <th>uuid</th>\n      <th></th>\n      <th></th>\n      <th></th>\n      <th></th>\n      <th></th>\n      <th></th>\n      <th></th>\n      <th></th>\n    </tr>\n  </thead>\n  <tbody>\n    <tr>\n      <th>fcacb5f3-0e3b-48f3-81f1-31dc83300814</th>\n      <td>House_15_1</td>\n      <td>e3c3c6a3-c383-4dbb-9b3f-a14125615386</td>\n      <td>eacb66b4-9315-40b9-9727-8b80b2ddcb07 1db9839e-...</td>\n      <td>self_optimization</td>\n      <td>cosPhiFixed:{(0.0, 0.9)}</td>\n      <td>NaN</td>\n      <td>NaN</td>\n      <td>NaN</td>\n    </tr>\n    <tr>\n      <th>b3779cd2-4e5e-43e5-848c-c012d7fd36d5</th>\n      <td>House_15_2</td>\n      <td>e3c3c6a3-c383-4dbb-9b3f-a14125615386</td>\n      <td>f66f4934-3f4e-43d2-a66b-32a998a6349f 3141bc61-...</td>\n      <td>self_optimization</td>\n      <td>cosPhiFixed:{(0.0, 0.9)}</td>\n      <td>NaN</td>\n      <td>NaN</td>\n      <td>NaN</td>\n    </tr>\n    <tr>\n      <th>9792e3dd-cd4b-4880-bc19-9b2e9f8a1b47</th>\n      <td>House_15_3</td>\n      <td>e3c3c6a3-c383-4dbb-9b3f-a14125615386</td>\n      <td>5fda3b2a-3751-4a3a-ae1c-93e0e9f86880 bb151736-...</td>\n      <td>self_optimization</td>\n      <td>cosPhiFixed:{(0.0, 0.9)}</td>\n      <td>NaN</td>\n      <td>NaN</td>\n      <td>NaN</td>\n    </tr>\n    <tr>\n      <th>f9591503-be21-4251-9d09-303609d36a70</th>\n      <td>House_15_4</td>\n      <td>e3c3c6a3-c383-4dbb-9b3f-a14125615386</td>\n      <td>8972982b-cafb-4ec7-a9a7-c1577a4e24ad afebb705-...</td>\n      <td>self_optimization</td>\n      <td>cosPhiFixed:{(0.0, 0.9)}</td>\n      <td>NaN</td>\n      <td>NaN</td>\n      <td>NaN</td>\n    </tr>\n    <tr>\n      <th>3f11b5d3-85eb-448c-b6c1-c803cdfafe8e</th>\n      <td>House_15_5</td>\n      <td>e3c3c6a3-c383-4dbb-9b3f-a14125615386</td>\n      <td>0cc66089-44d2-4ea3-805d-c69339d73cd5 e0845d09-...</td>\n      <td>self_optimization</td>\n      <td>cosPhiFixed:{(0.0, 0.9)}</td>\n      <td>NaN</td>\n      <td>NaN</td>\n      <td>NaN</td>\n    </tr>\n    <tr>\n      <th>b7d5a7e4-5491-40f6-b093-a6eb73a89b09</th>\n      <td>House_15_6</td>\n      <td>e3c3c6a3-c383-4dbb-9b3f-a14125615386</td>\n      <td>50723b4f-5693-4cf4-b082-69c7cedfab1f b6381b88-...</td>\n      <td>self_optimization</td>\n      <td>cosPhiFixed:{(0.0, 0.9)}</td>\n      <td>NaN</td>\n      <td>NaN</td>\n      <td>NaN</td>\n    </tr>\n    <tr>\n      <th>9e500f36-85ed-4e06-86be-8e855ce107f5</th>\n      <td>House_15_7</td>\n      <td>e3c3c6a3-c383-4dbb-9b3f-a14125615386</td>\n      <td>88fc8719-a4d0-4ddb-a9a1-ff5d5d1a17bf 5c8a14a0-...</td>\n      <td>self_optimization</td>\n      <td>cosPhiFixed:{(0.0, 0.9)}</td>\n      <td>NaN</td>\n      <td>NaN</td>\n      <td>NaN</td>\n    </tr>\n    <tr>\n      <th>996d2a18-2dcd-4f0d-97a5-917317f59b57</th>\n      <td>House_15_8</td>\n      <td>e3c3c6a3-c383-4dbb-9b3f-a14125615386</td>\n      <td>8747d0e6-2f5c-4892-870b-def519417751 2e7ac605-...</td>\n      <td>self_optimization</td>\n      <td>cosPhiFixed:{(0.0, 0.9)}</td>\n      <td>NaN</td>\n      <td>NaN</td>\n      <td>NaN</td>\n    </tr>\n    <tr>\n      <th>18700e8c-f81d-4547-87a3-be124ec3b470</th>\n      <td>House_15_9</td>\n      <td>e3c3c6a3-c383-4dbb-9b3f-a14125615386</td>\n      <td>e013c8f0-5ac6-4317-9a01-6248ae9f8635 28dc723b-...</td>\n      <td>self_optimization</td>\n      <td>cosPhiFixed:{(0.0, 0.9)}</td>\n      <td>NaN</td>\n      <td>NaN</td>\n      <td>NaN</td>\n    </tr>\n    <tr>\n      <th>978d743e-05a4-4c84-b3ab-661c977e84bd</th>\n      <td>House_15_10</td>\n      <td>e3c3c6a3-c383-4dbb-9b3f-a14125615386</td>\n      <td>60a5f908-bba2-4c51-90cf-37a314c16511 6f050eb4-...</td>\n      <td>self_optimization</td>\n      <td>cosPhiFixed:{(0.0, 0.9)}</td>\n      <td>NaN</td>\n      <td>NaN</td>\n      <td>NaN</td>\n    </tr>\n    <tr>\n      <th>d32c95a6-3621-4811-bace-ec66e616d930</th>\n      <td>House_15_11</td>\n      <td>e3c3c6a3-c383-4dbb-9b3f-a14125615386</td>\n      <td>0200d0f7-bdad-4ccd-a514-c387744394f4 2b4036f7-...</td>\n      <td>self_optimization</td>\n      <td>cosPhiFixed:{(0.0, 0.9)}</td>\n      <td>NaN</td>\n      <td>NaN</td>\n      <td>NaN</td>\n    </tr>\n    <tr>\n      <th>c3691cd8-2344-4dac-bc1e-db913d74f037</th>\n      <td>House_15_12</td>\n      <td>e3c3c6a3-c383-4dbb-9b3f-a14125615386</td>\n      <td>09eb8cdc-be18-4ffa-be5c-1304e5bcdaf9 3df54b8e-...</td>\n      <td>self_optimization</td>\n      <td>cosPhiFixed:{(0.0, 0.9)}</td>\n      <td>NaN</td>\n      <td>NaN</td>\n      <td>NaN</td>\n    </tr>\n    <tr>\n      <th>576542d9-bd15-43f8-a3f1-460c9465c289</th>\n      <td>House_15_13</td>\n      <td>e3c3c6a3-c383-4dbb-9b3f-a14125615386</td>\n      <td>d5a955bf-44a0-4ab9-8123-b2e35266506a 57073130-...</td>\n      <td>self_optimization</td>\n      <td>cosPhiFixed:{(0.0, 0.9)}</td>\n      <td>NaN</td>\n      <td>NaN</td>\n      <td>NaN</td>\n    </tr>\n    <tr>\n      <th>91b92e26-3586-4bf7-80e2-5f3b2fd47c3b</th>\n      <td>House_15_14</td>\n      <td>e3c3c6a3-c383-4dbb-9b3f-a14125615386</td>\n      <td>03897629-b770-4ad1-b37a-7835c20408f5 e7a8db40-...</td>\n      <td>self_optimization</td>\n      <td>cosPhiFixed:{(0.0, 0.9)}</td>\n      <td>NaN</td>\n      <td>NaN</td>\n      <td>NaN</td>\n    </tr>\n    <tr>\n      <th>b09ff158-599e-48f2-863f-038f35a744bf</th>\n      <td>House_15_15</td>\n      <td>e3c3c6a3-c383-4dbb-9b3f-a14125615386</td>\n      <td>6945cacd-9cf9-4db3-bcec-6562a22bb74c 5c5e5980-...</td>\n      <td>self_optimization</td>\n      <td>cosPhiFixed:{(0.0, 0.9)}</td>\n      <td>NaN</td>\n      <td>NaN</td>\n      <td>NaN</td>\n    </tr>\n    <tr>\n      <th>dfa006bf-f7e8-46c6-a5e1-f0624b5a2e61</th>\n      <td>House_15_16</td>\n      <td>e3c3c6a3-c383-4dbb-9b3f-a14125615386</td>\n      <td>7d8fb447-ea29-4238-bb38-1d397b170fbf d57e2852-...</td>\n      <td>self_optimization</td>\n      <td>cosPhiFixed:{(0.0, 0.9)}</td>\n      <td>NaN</td>\n      <td>NaN</td>\n      <td>NaN</td>\n    </tr>\n    <tr>\n      <th>881d8bb4-0e52-4781-b5be-8e0c83b768a1</th>\n      <td>House_15_17</td>\n      <td>e3c3c6a3-c383-4dbb-9b3f-a14125615386</td>\n      <td>f8d5a6f0-b118-4223-9221-1fdcce89484e 1e25493b-...</td>\n      <td>self_optimization</td>\n      <td>cosPhiFixed:{(0.0, 0.9)}</td>\n      <td>NaN</td>\n      <td>NaN</td>\n      <td>NaN</td>\n    </tr>\n    <tr>\n      <th>2400805f-e08a-4f11-bbd4-132075da2669</th>\n      <td>House_15_18</td>\n      <td>e3c3c6a3-c383-4dbb-9b3f-a14125615386</td>\n      <td>c9c44bf3-6d22-4013-a66e-9c244b1715d9 c968ee1a-...</td>\n      <td>self_optimization</td>\n      <td>cosPhiFixed:{(0.0, 0.9)}</td>\n      <td>NaN</td>\n      <td>NaN</td>\n      <td>NaN</td>\n    </tr>\n    <tr>\n      <th>caf201c6-94c9-451c-94e9-53680247af7d</th>\n      <td>House_15_19</td>\n      <td>e3c3c6a3-c383-4dbb-9b3f-a14125615386</td>\n      <td>a9074765-e269-4672-8519-a3df784d7800 79eb841f-...</td>\n      <td>self_optimization</td>\n      <td>cosPhiFixed:{(0.0, 0.9)}</td>\n      <td>NaN</td>\n      <td>NaN</td>\n      <td>NaN</td>\n    </tr>\n    <tr>\n      <th>6172ae26-3144-4018-84f7-fe786987dc05</th>\n      <td>House_15_20</td>\n      <td>e3c3c6a3-c383-4dbb-9b3f-a14125615386</td>\n      <td>ac74cc98-43ea-41fd-944e-371caf7da6ba feb176c3-...</td>\n      <td>self_optimization</td>\n      <td>cosPhiFixed:{(0.0, 0.9)}</td>\n      <td>NaN</td>\n      <td>NaN</td>\n      <td>NaN</td>\n    </tr>\n    <tr>\n      <th>dfc9295f-62e5-405f-aa8d-cc6e365b7e9e</th>\n      <td>House_15_21</td>\n      <td>e3c3c6a3-c383-4dbb-9b3f-a14125615386</td>\n      <td>a7287ea8-31f1-4f51-aea4-050eb7038942 31befdc3-...</td>\n      <td>self_optimization</td>\n      <td>cosPhiFixed:{(0.0, 0.9)}</td>\n      <td>NaN</td>\n      <td>NaN</td>\n      <td>NaN</td>\n    </tr>\n    <tr>\n      <th>264ba4db-f680-4472-8e73-a545c0b65d09</th>\n      <td>House_15_22</td>\n      <td>e3c3c6a3-c383-4dbb-9b3f-a14125615386</td>\n      <td>cbb3fe12-9bcd-4521-8ae8-1f9d65de48b0 c5f725d9-...</td>\n      <td>self_optimization</td>\n      <td>cosPhiFixed:{(0.0, 0.9)}</td>\n      <td>NaN</td>\n      <td>NaN</td>\n      <td>NaN</td>\n    </tr>\n    <tr>\n      <th>756b44f4-39ab-438e-a5b2-dcb11d0a25e6</th>\n      <td>House_15_23</td>\n      <td>e3c3c6a3-c383-4dbb-9b3f-a14125615386</td>\n      <td>2e9db4fd-7292-475e-9d7c-3e987288b111 faf6f91f-...</td>\n      <td>self_optimization</td>\n      <td>cosPhiFixed:{(0.0, 0.9)}</td>\n      <td>NaN</td>\n      <td>NaN</td>\n      <td>NaN</td>\n    </tr>\n    <tr>\n      <th>f0df2abd-b36c-4792-bf32-16e5dfdd9f1d</th>\n      <td>House_15_24</td>\n      <td>e3c3c6a3-c383-4dbb-9b3f-a14125615386</td>\n      <td>a805742f-0135-43aa-b7c6-84f4d055e0ad 47b8123f-...</td>\n      <td>self_optimization</td>\n      <td>cosPhiFixed:{(0.0, 0.9)}</td>\n      <td>NaN</td>\n      <td>NaN</td>\n      <td>NaN</td>\n    </tr>\n  </tbody>\n</table>\n</div>"
     },
     "execution_count": 1,
     "metadata": {},
     "output_type": "execute_result"
    }
   ],
   "source": [
    "import os\n",
    "import pandas as pd\n",
    "\n",
    "# Get the folder path where the files are located\n",
    "folder_inputs = r'C:\\tmp\\20231116_flex_minigrid_2023-11-16_18-19-41\\input\\grid'\n",
    "\n",
    "# Filenames\n",
    "file_names = [\n",
    "    'em_input.csv',\n",
    "    'evcs_input.csv',\n",
    "    'hp_input.csv',\n",
    "    'pv_input.csv',\n",
    "    'load_input.csv',\n",
    "    'storage_input.csv'\n",
    "]\n",
    "\n",
    "# Read input data\n",
    "print('Input data loading')\n",
    "\n",
    "data_input_em = pd.read_csv(os.path.join(folder_inputs,file_names[0]),index_col='uuid')\n",
    "\n",
    "\n",
    "# Remove em-system\n",
    "data_input_em = data_input_em[~data_input_em['id'].str.contains('em-system')]\n",
    "\n",
    "data_input_ev = pd.read_csv(os.path.join(folder_inputs, file_names[1]),index_col='uuid')\n",
    "data_input_hp = pd.read_csv(os.path.join(folder_inputs, file_names[2]),index_col='uuid')\n",
    "data_input_pv = pd.read_csv(os.path.join(folder_inputs, file_names[3]),index_col='uuid')\n",
    "data_input_lo = pd.read_csv(os.path.join(folder_inputs, file_names[4]),index_col='uuid')\n",
    "data_input_bs = pd.read_csv(os.path.join(folder_inputs, file_names[5]),index_col='uuid')\n",
    "data_input_em"
   ],
   "metadata": {
    "collapsed": false,
    "ExecuteTime": {
     "end_time": "2023-11-17T06:10:25.071867400Z",
     "start_time": "2023-11-17T06:10:24.634857400Z"
    }
   },
   "id": "1e433b171258bccd"
  },
  {
   "cell_type": "code",
   "execution_count": 2,
   "outputs": [
    {
     "name": "stdout",
     "output_type": "stream",
     "text": [
      "def59303-f4e1-4d78-8a3a-6df2f784a05f\n",
      "4bb92cb6-9b7c-4aba-a897-b922d90bb268\n",
      "5037e05a-81a6-463e-a35c-5d9a567e35cb\n",
      "a5a508df-2734-4754-ad50-ec2c715ecd67\n",
      "dd5572cf-9e73-4c5b-8771-856d08d33818\n",
      "0bdff455-e669-467b-ae1e-94529b7b7b11\n",
      "f36fce30-8d45-4368-b05c-7ef644d40fec\n",
      "38ce8874-098b-4865-8711-9a8ffd438cc6\n",
      "4c76aef4-01d9-4cc8-9e6a-51e197d4ecfd\n",
      "0ba28344-0089-43d8-bb5b-6020e2525a42\n",
      "eafb4e7c-7928-4605-b090-a6ae3435d1ed\n",
      "36f9d0b6-a630-486c-a944-045ceafb1baf\n",
      "2d02b3ee-fdf4-4103-b9ec-300a84775479\n",
      "27e95eb9-cf0a-4304-8285-4d101be1b57e\n",
      "66ed9c66-3fcb-493b-8f6d-9c93f1d9bcb5\n",
      "c0c7e786-01db-49dc-98f3-904ac9351f26\n",
      "8ff32fb5-7b74-42fb-839d-826c151c5c71\n",
      "1a32b50b-4047-473d-aae1-8ed94a206c2c\n"
     ]
    }
   ],
   "source": [
    "matching_hp_uuids = dict()\n",
    "#for hp_uuid, hp_row in data_input_hp.iterrows():\n",
    "#    for em_uuid, em_row in data_input_em.iterrows():\n",
    "#        if em_row.__contains__(hp_uuid): matching_hp_uuids.update({em_uuid: hp_uuid})\n",
    "\n",
    "matching_hp_uuids = dict()\n",
    "matching_hp_uuids2 = dict()\n",
    "\n",
    "for hp_index, hp_row in data_input_hp.iterrows():\n",
    "    for em_index, em_row in data_input_em.iterrows():\n",
    "        connected_assets = em_row['connected_assets']\n",
    "        \n",
    "        # Assuming connected_assets is a string representation of a list, like \"[uuid1, uuid2, uuid3]\"\n",
    "        # This converts the string into a list of UUIDs\n",
    "        connected_assets_list = connected_assets.strip('[]').replace(\"'\", \"\").split(', ') if isinstance(connected_assets, str) else None\n",
    "        \n",
    "               \n",
    "        if isinstance(connected_assets_list, list) and hp_index in connected_assets:\n",
    "            if em_index not in matching_hp_uuids:\n",
    "                matching_hp_uuids[em_index] = hp_index\n",
    "                print(hp_index)\n",
    "            else:\n",
    "                # If there are multiple occurrences, store them as a list\n",
    "                if not isinstance(matching_hp_uuids[em_index], list):\n",
    "                    matching_hp_uuids2[em_index] = [matching_hp_uuids[em_index]]\n",
    "                    #raise ValueError(\"uuid is included more then once in em\")\n",
    "\n",
    "                #matching_hp_uuids[em_index].append(hp_index)\n",
    "\n",
    "\n",
    "\n",
    "\n",
    "\n",
    "\n"
   ],
   "metadata": {
    "collapsed": false,
    "ExecuteTime": {
     "end_time": "2023-11-17T06:10:25.857732500Z",
     "start_time": "2023-11-17T06:10:25.801801Z"
    }
   },
   "id": "ae2881725fb55e24"
  },
  {
   "cell_type": "code",
   "execution_count": 5,
   "outputs": [
    {
     "data": {
      "text/plain": "['a805742f-0135-43aa-b7c6-84f4d055e0ad 47b8123f-6abc-4938-b9d9-c10f3d4d6e99 db1e3fc0-e684-4fd4-8ba0-fd241c35bb5a']"
     },
     "execution_count": 5,
     "metadata": {},
     "output_type": "execute_result"
    }
   ],
   "source": [
    "connected_assets_list"
   ],
   "metadata": {
    "collapsed": false,
    "ExecuteTime": {
     "end_time": "2023-11-17T06:05:13.826039800Z",
     "start_time": "2023-11-17T06:05:13.821089900Z"
    }
   },
   "id": "3a1f952144532d41"
  },
  {
   "cell_type": "code",
   "execution_count": 12,
   "outputs": [
    {
     "data": {
      "text/plain": "Empty DataFrame\nColumns: [em_uuid, ev_uuid]\nIndex: []",
      "text/html": "<div>\n<style scoped>\n    .dataframe tbody tr th:only-of-type {\n        vertical-align: middle;\n    }\n\n    .dataframe tbody tr th {\n        vertical-align: top;\n    }\n\n    .dataframe thead th {\n        text-align: right;\n    }\n</style>\n<table border=\"1\" class=\"dataframe\">\n  <thead>\n    <tr style=\"text-align: right;\">\n      <th></th>\n      <th>em_uuid</th>\n      <th>ev_uuid</th>\n    </tr>\n  </thead>\n  <tbody>\n  </tbody>\n</table>\n</div>"
     },
     "execution_count": 12,
     "metadata": {},
     "output_type": "execute_result"
    }
   ],
   "source": [
    "em_to_ev"
   ],
   "metadata": {
    "collapsed": false,
    "ExecuteTime": {
     "end_time": "2023-11-17T05:01:34.282092400Z",
     "start_time": "2023-11-17T05:01:34.270572100Z"
    }
   },
   "id": "3f2529fc779a7792"
  },
  {
   "cell_type": "code",
   "execution_count": 7,
   "outputs": [],
   "source": [
    "data_input_em['scaleFactor'] = pd.Series([0] * len(data_input_em))\n",
    "data_input_em['nBuildings'] = pd.Series([0] * len(data_input_em))\n",
    "\n",
    "for i in range(len(data_input_em)):\n",
    "    if em_to_lo[i]:\n",
    "        lo_indices = em_to_lo[i]\n",
    "        data_input_em.at[i, 'scaleFactor'] = data_input_lo.loc[lo_indices, 's_rated'].max() / data_input_lo['s_rated'].max()\n",
    "        data_input_em.at[i, 'nBuildings'] = data_input_lo.loc[lo_indices, 'e_cons_annual'].sum() / 3100 / bug_fix_factor\n",
    "    else:\n",
    "        data_input_em.at[i, 'scaleFactor'] = 0\n",
    "        data_input_em.at[i, 'nBuildings'] = 0\n"
   ],
   "metadata": {
    "collapsed": false,
    "ExecuteTime": {
     "start_time": "2023-11-17T04:47:26.571522200Z"
    }
   },
   "id": "acfbf979ffdfcc48"
  },
  {
   "cell_type": "code",
   "execution_count": 8,
   "outputs": [
    {
     "ename": "ValueError",
     "evalue": "could not convert string to float: 'EVCS_1_House_15_1(22.0|AC)'",
     "output_type": "error",
     "traceback": [
      "\u001B[1;31m---------------------------------------------------------------------------\u001B[0m",
      "\u001B[1;31mValueError\u001B[0m                                Traceback (most recent call last)",
      "Cell \u001B[1;32mIn[8], line 6\u001B[0m\n\u001B[0;32m      4\u001B[0m \u001B[38;5;28;01mfor\u001B[39;00m i \u001B[38;5;129;01min\u001B[39;00m \u001B[38;5;28mrange\u001B[39m(\u001B[38;5;28mlen\u001B[39m(data_input_ev)):\n\u001B[0;32m      5\u001B[0m     tmp \u001B[38;5;241m=\u001B[39m data_input_ev[\u001B[38;5;124m'\u001B[39m\u001B[38;5;124mtype\u001B[39m\u001B[38;5;124m'\u001B[39m][i]\u001B[38;5;241m.\u001B[39msplit(\u001B[38;5;124m'\u001B[39m\u001B[38;5;124m \u001B[39m\u001B[38;5;124m'\u001B[39m)\n\u001B[1;32m----> 6\u001B[0m     data_input_ev\u001B[38;5;241m.\u001B[39mat[i, \u001B[38;5;124m'\u001B[39m\u001B[38;5;124mpSum\u001B[39m\u001B[38;5;124m'\u001B[39m] \u001B[38;5;241m=\u001B[39m \u001B[38;5;28;43mfloat\u001B[39;49m\u001B[43m(\u001B[49m\u001B[43mtmp\u001B[49m\u001B[43m[\u001B[49m\u001B[38;5;241;43m0\u001B[39;49m\u001B[43m]\u001B[49m\u001B[43m)\u001B[49m\n\u001B[0;32m      8\u001B[0m data_input_em[\u001B[38;5;124m'\u001B[39m\u001B[38;5;124mnChargePoints\u001B[39m\u001B[38;5;124m'\u001B[39m] \u001B[38;5;241m=\u001B[39m np\u001B[38;5;241m.\u001B[39mzeros(\u001B[38;5;28mlen\u001B[39m(data_input_em))\n\u001B[0;32m      9\u001B[0m \u001B[38;5;28;01mfor\u001B[39;00m i \u001B[38;5;129;01min\u001B[39;00m \u001B[38;5;28mrange\u001B[39m(\u001B[38;5;28mlen\u001B[39m(data_input_em)):\n",
      "\u001B[1;31mValueError\u001B[0m: could not convert string to float: 'EVCS_1_House_15_1(22.0|AC)'"
     ]
    }
   ],
   "source": [
    "import numpy as np\n",
    "\n",
    "data_input_ev['pSum'] = np.zeros(len(data_input_ev))\n",
    "for i in range(len(data_input_ev)):\n",
    "    tmp = data_input_ev['type'][i].split(' ')\n",
    "    data_input_ev.at[i, 'pSum'] = float(tmp[0])\n",
    "\n",
    "data_input_em['nChargePoints'] = np.zeros(len(data_input_em))\n",
    "for i in range(len(data_input_em)):\n",
    "    if EM_to_ev[i]:\n",
    "        ev_indices = EM_to_ev[i]\n",
    "        data_input_em.at[i, 'nChargePoints'] = data_input_ev.loc[ev_indices, 'charging_points'].sum()\n"
   ],
   "metadata": {
    "collapsed": false,
    "ExecuteTime": {
     "end_time": "2023-11-17T04:47:27.498363700Z",
     "start_time": "2023-11-17T04:47:27.244331200Z"
    }
   },
   "id": "4610effaa62287d6"
  },
  {
   "cell_type": "code",
   "execution_count": null,
   "outputs": [],
   "source": [
    "def read_sort_time_series(filename, data_input):\n",
    "     # Read the CSV file\n",
    "    with open(filename, 'r') as file:\n",
    "        reader = csv.reader(file)\n",
    "        hdr = next(reader)\n",
    "        num = len(hdr) - 1  # Number of columns\n",
    "        \n",
    "        # Interpret timestamp\n",
    "        timestamp = [datetime.strptime(row[0], '%Y-%m-%d %H:%M:%S') for row in reader]\n",
    "\n",
    "    # Get UnitIDs\n",
    "    unitIDs = hdr[1:]\n",
    "    nUnits = len(unitIDs)\n",
    "\n",
    "    # Read data and handle exceptions\n",
    "    with open(filename, 'r') as file:\n",
    "        reader = csv.reader(file)\n",
    "        next(reader)  # Skip header\n",
    "        try:\n",
    "            time_series = [[float(val) for val in row[1:]] for row in reader]\n",
    "        except ValueError:\n",
    "            data = list(reader)\n",
    "            L = [len(row) - 1 for row in data]\n",
    "            time_series = []\n",
    "            for i, row in enumerate(data):\n",
    "                vals = [float(val) if val else float('nan') for val in row[1:]]\n",
    "                vals.extend([float('nan')] * (max(L) - L[i]))\n",
    "                time_series.append(vals)\n",
    "\n",
    "    # Adjust sorting based on input data\n",
    "    time_series_sort = [[float('nan') for _ in range(nUnits)] for _ in range(len(time_series))]\n",
    "    for i in range(nUnits):\n",
    "        for j, uuid in enumerate(inputs['uuid']):\n",
    "            if uuid in unitIDs:\n",
    "                xx = unitIDs.index(uuid)\n",
    "                if xx < nUnits:\n",
    "                    time_series_sort[:, i] = time_series[:, xx]\n",
    "\n",
    "    return time_series_sort"
   ],
   "metadata": {
    "collapsed": false
   },
   "id": "b35581aae431b39f"
  },
  {
   "cell_type": "code",
   "execution_count": 22,
   "outputs": [
    {
     "ename": "IndentationError",
     "evalue": "expected an indented block after function definition on line 4 (1046845622.py, line 7)",
     "output_type": "error",
     "traceback": [
      "\u001B[1;36m  Cell \u001B[1;32mIn[22], line 7\u001B[1;36m\u001B[0m\n\u001B[1;33m    folder_res = \"your_folder_res_path/\"\u001B[0m\n\u001B[1;37m    ^\u001B[0m\n\u001B[1;31mIndentationError\u001B[0m\u001B[1;31m:\u001B[0m expected an indented block after function definition on line 4\n"
     ]
    }
   ],
   "source": [
    "import pandas as pd\n",
    "import numpy as np\n",
    "\n",
    "\n",
    "folder_res = \"your_folder_res_path/\"\n",
    "filename_hp = \"hp_res.csv\"\n",
    "filename_ev = \"evcs_res.csv\"\n",
    "filename_pv = \"pv_res.csv\"\n",
    "filename_lo = \"load_res.csv\"\n",
    "filename_bs = \"storage_res.csv\"\n",
    "\n",
    "print(' Zeitreihen HP laden')\n",
    "time_series_HP = read_sort_time_series(folder_res + filename_hp, data_input_HP)\n",
    "\n",
    "print(' Zeitreihen EV laden')\n",
    "time_series_EV = read_sort_time_series(folder_res + filename_ev, data_input_EV)\n",
    "\n",
    "print(' Zeitreihen PV laden')\n",
    "time_series_PV = read_sort_time_series(folder_res + filename_pv, data_input_PV)\n",
    "\n",
    "print(' Zeitreihen Lo laden')\n",
    "time_series_Lo = read_sort_time_series(folder_res + filename_lo, data_input_Lo)\n",
    "\n",
    "print(' Zeitreihen BS laden')\n",
    "time_series_BS = read_sort_time_series(folder_res + filename_bs, data_input_BS)\n",
    "\n",
    "# Check for mismatched lengths and pad if needed\n",
    "l_max = max(len(time_series_HP), len(time_series_EV), len(time_series_PV), len(time_series_Lo), len(time_series_BS))\n",
    "\n",
    "def pad_time_series(time_series, l_max):\n",
    "    d = l_max - len(time_series)\n",
    "    return np.vstack([time_series, np.zeros((d, time_series.shape[1]))])\n",
    "\n",
    "if len(time_series_HP) < l_max:\n",
    "    time_series_HP = pad_time_series(time_series_HP, l_max)\n",
    "\n",
    "if len(time_series_EV) < l_max:\n",
    "    time_series_EV = pad_time_series(time_series_EV, l_max)\n",
    "\n",
    "if len(time_series_PV) < l_max:\n",
    "    time_series_PV = pad_time_series(time_series_PV, l_max)\n",
    "\n",
    "if len(time_series_Lo) < l_max:\n",
    "    time_series_Lo = pad_time_series(time_series_Lo, l_max)\n",
    "\n",
    "if len(time_series_BS) < l_max:\n",
    "    time_series_BS = pad_time_series(time_series_BS, l_max)\n"
   ],
   "metadata": {
    "collapsed": false,
    "ExecuteTime": {
     "start_time": "2023-11-17T04:45:26.870412100Z"
    }
   },
   "id": "d1ca68d968f1a9f9"
  },
  {
   "cell_type": "code",
   "execution_count": 23,
   "outputs": [
    {
     "ename": "NameError",
     "evalue": "name 'dataInput_EM' is not defined",
     "output_type": "error",
     "traceback": [
      "\u001B[1;31m---------------------------------------------------------------------------\u001B[0m",
      "\u001B[1;31mNameError\u001B[0m                                 Traceback (most recent call last)",
      "Cell \u001B[1;32mIn[23], line 4\u001B[0m\n\u001B[0;32m      1\u001B[0m \u001B[38;5;28;01mimport\u001B[39;00m \u001B[38;5;21;01mnumpy\u001B[39;00m \u001B[38;5;28;01mas\u001B[39;00m \u001B[38;5;21;01mnp\u001B[39;00m\n\u001B[0;32m      2\u001B[0m \u001B[38;5;28;01mimport\u001B[39;00m \u001B[38;5;21;01mpandas\u001B[39;00m \u001B[38;5;28;01mas\u001B[39;00m \u001B[38;5;21;01mpd\u001B[39;00m\n\u001B[1;32m----> 4\u001B[0m N \u001B[38;5;241m=\u001B[39m \u001B[43mdataInput_EM\u001B[49m\u001B[38;5;241m.\u001B[39mshape[\u001B[38;5;241m0\u001B[39m]\n\u001B[0;32m      5\u001B[0m T \u001B[38;5;241m=\u001B[39m timeSeries_EV\u001B[38;5;241m.\u001B[39mshape[\u001B[38;5;241m0\u001B[39m]\n\u001B[0;32m      7\u001B[0m Pool \u001B[38;5;241m=\u001B[39m {\n\u001B[0;32m      8\u001B[0m     \u001B[38;5;124m\"\u001B[39m\u001B[38;5;124mEM_pSum\u001B[39m\u001B[38;5;124m\"\u001B[39m: np\u001B[38;5;241m.\u001B[39mzeros((T, N)),\n\u001B[0;32m      9\u001B[0m     \u001B[38;5;124m\"\u001B[39m\u001B[38;5;124mEM_pScal\u001B[39m\u001B[38;5;124m\"\u001B[39m: np\u001B[38;5;241m.\u001B[39mzeros((T, N)),\n\u001B[1;32m   (...)\u001B[0m\n\u001B[0;32m     19\u001B[0m     \u001B[38;5;124m\"\u001B[39m\u001B[38;5;124mev2\u001B[39m\u001B[38;5;124m\"\u001B[39m: np\u001B[38;5;241m.\u001B[39mzeros((T, N)),\n\u001B[0;32m     20\u001B[0m }\n",
      "\u001B[1;31mNameError\u001B[0m: name 'dataInput_EM' is not defined"
     ]
    }
   ],
   "source": [
    "import numpy as np\n",
    "import pandas as pd\n",
    "\n",
    "N = dataInput_EM.shape[0]\n",
    "T = timeSeries_EV.shape[0]\n",
    "\n",
    "Pool = {\n",
    "    \"EM_pSum\": np.zeros((T, N)),\n",
    "    \"EM_pScal\": np.zeros((T, N)),\n",
    "    \"BS\": np.zeros((T, N)),\n",
    "    \"inst_EV\": np.zeros(N),\n",
    "    \"inst_HP\": np.zeros(N),\n",
    "    \"inst_PV\": np.zeros(N),\n",
    "    \"inst_BS\": np.zeros(N),\n",
    "    \"EM_nurLoad_pScal\": np.zeros((T, N)),\n",
    "    \"all\": np.zeros((T, N)),\n",
    "    \"pv\": np.zeros((T, N)),\n",
    "    \"ev\": np.zeros((T, N)),\n",
    "    \"ev2\": np.zeros((T, N)),\n",
    "}\n",
    "\n",
    "for i in range(N):\n",
    "    pv = np.zeros(T)\n",
    "    inst_pv = 0\n",
    "    if EM_toPV[i]:\n",
    "        pv = timeSeries_PV[:, EM_toPV[i]] * 1e3 / dataInput_EM.nBuildings[i]\n",
    "        inst_pv = -np.min(pv)\n",
    "    \n",
    "    ev = np.zeros(T)\n",
    "    inst_ev = 0\n",
    "    if EM_toEV[i]:\n",
    "        if EM_toEV[i] <= timeSeries_EV.shape[1]:\n",
    "            ev = timeSeries_EV[:, EM_toEV[i]] / np.max(timeSeries_EV[:, EM_toEV[i]])\n",
    "            inst_ev = dataInput_EV.charging_points[EM_toEV[i]] * 11  # kW\n",
    "            ev *= inst_ev\n",
    "            ev[ev < 0] = 0\n",
    "            ev[np.isnan(ev)] = 0\n",
    "\n",
    "    hp = np.zeros(T)\n",
    "    inst_hp = 0\n",
    "    if EM_toHP[i]:\n",
    "        hp = timeSeries_HP[:, EM_toHP[i]] * 1e3 / dataInput_EM.nBuildings[i]\n",
    "        inst_hp = np.max(hp)\n",
    "    \n",
    "    if EM_toLo[i]:\n",
    "        lo = timeSeries_Lo[:, EM_toLo[i]] * 1e3 / dataInput_EM.nBuildings[i]\n",
    "    else:\n",
    "        lo = np.zeros(T)\n",
    "    \n",
    "    bs = np.zeros(T)\n",
    "    inst_bs = 0\n",
    "    if EM_toBS[i]:\n",
    "        if EM_toBS[i] <= timeSeries_BS.shape[1]:\n",
    "            bs = timeSeries_BS[:, EM_toBS[i]] * 1e3 / dataInput_EM.nBuildings[i]\n",
    "            inst_bs = np.max(np.abs(bs))\n",
    "        else:\n",
    "            print(f\"Warning: Zeitreihe BS #{EM_toBS[i]} nicht vorhanden\")\n",
    "    \n",
    "    pvSurplus = pv + lo\n",
    "    pvSurplus[pvSurplus > 0] = 0\n",
    "    hp_ev_bs_pv_sum = ev + hp + bs + pvSurplus\n",
    "    hp_ev_bs_pv_sum[hp_ev_bs_pv_sum < 0] = 0\n",
    "    hp_ev_sum = ev + hp\n",
    "\n",
    "    Pool[\"EM_pSum\"][:, i] = hp_ev_bs_pv_sum\n",
    "    Pool[\"BS\"][:, i] = bs\n",
    "    if (inst_ev + inst_hp) > 0:\n",
    "        Pool[\"EM_pScal\"][:, i] = hp_ev_bs_pv_sum / (inst_ev + inst_hp)\n",
    "        Pool[\"EM_nurLoad_pScal\"][:, i] = hp_ev_sum / (inst_ev + inst_hp)\n",
    "    else:\n",
    "        Pool[\"EM_pScal\"][:, i] = 0\n",
    "        Pool[\"EM_nurLoad_pScal\"][:, i] = 0\n",
    "    \n",
    "    Pool[\"inst_EV\"][i] = inst_ev\n",
    "    Pool[\"inst_HP\"][i] = inst_hp\n",
    "    Pool[\"inst_PV\"][i] = inst_pv\n",
    "    Pool[\"inst_BS\"][i] = inst_bs\n",
    "    Pool[\"all\"][:, i] = lo + pv + bs + hp + ev\n",
    "    Pool[\"pv\"][:, i] = pv\n",
    "    Pool[\"ev\"][:, i] = ev\n",
    "    Pool[\"ev2\"][:, i] = ev2\n",
    "\n",
    "    # Plotting section can be implemented here if required\n",
    "\n",
    "# The plotting section from the original MATLAB code can be added similarly in Python for visualization purposes.\n",
    "# Ensure the necessary plotting libraries like Matplotlib are imported.\n"
   ],
   "metadata": {
    "collapsed": false,
    "ExecuteTime": {
     "end_time": "2023-11-17T04:45:28.368667200Z",
     "start_time": "2023-11-17T04:45:28.287747900Z"
    }
   },
   "id": "f58bc0731db99467"
  },
  {
   "cell_type": "code",
   "execution_count": 13,
   "outputs": [],
   "source": [
    "import numpy as np\n",
    "import pandas as pd\n",
    "import matplotlib.pyplot as plt\n",
    "if 0 == 1:\n",
    "    GZG_N_Kurve = len(GZG_Kurve)\n",
    "    GZG_nSamples = np.zeros(GZG_nCases)\n",
    "    GZG_nBuildings = np.zeros(GZG_nCases)\n",
    "    GZG_pInstTotal = np.zeros(GZG_nCases)\n",
    "    \n",
    "    # ... (initialize other variables)\n",
    "    \n",
    "    for c in range(1, GZG_nCases + 1):\n",
    "        try:\n",
    "            # ... (code within the loop)\n",
    "    \n",
    "            fltrEV = np.logical_and(Pool_inst_EV > 0, dataInput_EM.nChargePoints == 1) if GZG_cases[c]['EV'] else Pool_inst_EV == 0\n",
    "            fltrHP = Pool_inst_HP > 0 if GZG_cases[c]['HP'] else Pool_inst_HP == 0\n",
    "            fltrPV = Pool_inst_PV > 0 if GZG_cases[c]['PV'] else Pool_inst_PV == 0\n",
    "    \n",
    "            fltr = np.logical_and(np.logical_and(fltrEV, fltrHP), fltrPV)\n",
    "            Pool_MC = Pool_EM_pScal[:, fltr]\n",
    "            GZG_nSamples[c - 1] = np.sum(fltr)\n",
    "            GZG_nBuildings[c - 1] = np.sum(dataInput_EM.nBuildings[fltr])\n",
    "    \n",
    "            # ... (rest of the code within the loop)\n",
    "    \n",
    "        except Exception as e:\n",
    "            print(e)\n",
    "    \n",
    "    print(\"Okay\")\n"
   ],
   "metadata": {
    "collapsed": false,
    "ExecuteTime": {
     "end_time": "2023-11-17T04:43:35.972564Z",
     "start_time": "2023-11-17T04:43:35.931290600Z"
    }
   },
   "id": "598abd54573cb44d"
  },
  {
   "cell_type": "code",
   "execution_count": 14,
   "outputs": [
    {
     "ename": "NameError",
     "evalue": "name 'GZG_Kurve' is not defined",
     "output_type": "error",
     "traceback": [
      "\u001B[1;31m---------------------------------------------------------------------------\u001B[0m",
      "\u001B[1;31mNameError\u001B[0m                                 Traceback (most recent call last)",
      "Cell \u001B[1;32mIn[14], line 6\u001B[0m\n\u001B[0;32m      2\u001B[0m \u001B[38;5;28;01mimport\u001B[39;00m \u001B[38;5;21;01mmatplotlib\u001B[39;00m\u001B[38;5;21;01m.\u001B[39;00m\u001B[38;5;21;01mpyplot\u001B[39;00m \u001B[38;5;28;01mas\u001B[39;00m \u001B[38;5;21;01mplt\u001B[39;00m\n\u001B[0;32m      4\u001B[0m \u001B[38;5;66;03m# Assuming GZG, Pool, and other relevant variables are defined appropriately\u001B[39;00m\n\u001B[1;32m----> 6\u001B[0m GZG_N_Kurve \u001B[38;5;241m=\u001B[39m \u001B[38;5;28mlen\u001B[39m(\u001B[43mGZG_Kurve\u001B[49m)\n\u001B[0;32m      7\u001B[0m GZG_nSamples \u001B[38;5;241m=\u001B[39m np\u001B[38;5;241m.\u001B[39mzeros(GZG_nCases)\n\u001B[0;32m      8\u001B[0m GZG_nBuildings \u001B[38;5;241m=\u001B[39m np\u001B[38;5;241m.\u001B[39mzeros(GZG_nCases)\n",
      "\u001B[1;31mNameError\u001B[0m: name 'GZG_Kurve' is not defined"
     ]
    }
   ],
   "source": [
    "import numpy as np\n",
    "import matplotlib.pyplot as plt\n",
    "\n",
    "# Assuming GZG, Pool, and other relevant variables are defined appropriately\n",
    "\n",
    "GZG_N_Kurve = len(GZG_Kurve)\n",
    "GZG_nSamples = np.zeros(GZG_nCases)\n",
    "GZG_nBuildings = np.zeros(GZG_nCases)\n",
    "GZG_pInstTotal = np.zeros(GZG_nCases)\n",
    "\n",
    "GZG_MW = np.zeros((GZG_N_Kurve, GZG_nCases))\n",
    "GZG_MW_Q90 = np.zeros((GZG_N_Kurve, GZG_nCases))\n",
    "GZG_MW_Q95 = np.zeros((GZG_N_Kurve, GZG_nCases))\n",
    "GZG_MW_Q99 = np.zeros((GZG_N_Kurve, GZG_nCases))\n",
    "GZG_MW_Qmax = np.zeros((GZG_N_Kurve, GZG_nCases))\n",
    "GZG_MW_Qmed = np.zeros((GZG_N_Kurve, GZG_nCases))\n",
    "\n",
    "for c in range(1, GZG['nCases'] + 1):\n",
    "    try:\n",
    "        # Filter types\n",
    "        fltrEV = (Pool['inst_EV'] > 0) & (dataInput_EM['nChargePoints'] == 1) if GZG['cases'][c]['EV'] else (Pool['inst_EV'] == 0)\n",
    "        fltrHP = (Pool['inst_HP'] > 0) if GZG['cases'][c]['HP'] else (Pool['inst_HP'] == 0)\n",
    "        fltrPV = (Pool['inst_PV'] > 0) if GZG['cases'][c]['PV'] else (Pool['inst_PV'] == 0)\n",
    "\n",
    "        fltr = fltrEV & fltrHP & fltrPV\n",
    "        Pool_MC = Pool['EM_pScal'][:, fltr]\n",
    "        GZG['nSamples'][c] = np.sum(fltr)\n",
    "        GZG['nBuildings'][c] = np.sum(dataInput_EM['nBuildings'][fltr])\n",
    "\n",
    "        GZG['pInstTotal'][c] = (np.sum(Pool['inst_EV'][fltr]) / np.sum(fltr)) * GZG['nBuildings'][c] + \\\n",
    "                                (np.sum(Pool['inst_HP'][fltr]) / np.sum(fltr)) * GZG['nBuildings'][c]\n",
    "\n",
    "        temp_GG_norm = np.zeros(GZG['N_MC'])\n",
    "        GZG['N_Pool'] = Pool_MC.shape[1]\n",
    "\n",
    "        if somePlots:\n",
    "            plt.subplot(2, 3, c)\n",
    "            plt.title(f'{c} - {GZG[\"nBuildings\"][c] / 1e3:.1f} Tsd.')\n",
    "            plt.xlim([0, max(GZG['Kurve'])])\n",
    "\n",
    "            # Other plot settings...\n",
    "\n",
    "        temp_Kurve = GZG['N_Kurve']\n",
    "        temp_Kurve[temp_Kurve > GZG['nSamples'][c]] = []\n",
    "\n",
    "        for n in range(1, len(temp_Kurve) + 1):\n",
    "            nEV = GZG['Kurve'][n]\n",
    "            for i in range(1, GZG['N_MC'] + 1):\n",
    "                b = np.random.randint(1, GZG['N_Pool'], nEV)\n",
    "\n",
    "                temp_GG_norm[i] = np.max(np.sum(Pool_MC[includeTime, b], axis=1, where=~np.isnan(Pool_MC))) / nEV\n",
    "\n",
    "            # Quantile computations...\n",
    "            GZG['MW'][n, c] = np.mean(temp_GG_norm)\n",
    "            GZG['MW_Q90'][n, c] = np.percentile(temp_GG_norm, 90, interpolation='lower')\n",
    "            GZG['MW_Q95'][n, c] = np.percentile(temp_GG_norm, 95, interpolation='lower')\n",
    "            GZG['MW_Q99'][n, c] = np.percentile(temp_GG_norm, 99, interpolation='lower')\n",
    "            GZG['MW_Qmax'][n, c] = np.max(temp_GG_norm)\n",
    "            GZG['MW_Qmed'][n, c] = np.median(temp_GG_norm)\n",
    "\n",
    "            if somePlots:\n",
    "                # Scatter plot...\n",
    "                pass\n",
    "\n",
    "        print(f'{c}/6 - ', end='')\n",
    "\n",
    "    except Exception as e:\n",
    "        print(e)\n",
    "\n",
    "print(' okay')\n"
   ],
   "metadata": {
    "collapsed": false,
    "ExecuteTime": {
     "end_time": "2023-11-17T04:43:36.534627100Z",
     "start_time": "2023-11-17T04:43:36.436898400Z"
    }
   },
   "id": "2a351b21dfeb18b4"
  },
  {
   "cell_type": "code",
   "execution_count": null,
   "outputs": [],
   "source": [
    "import numpy as np\n",
    "import matplotlib.pyplot as plt\n",
    "\n",
    "# Alle EM mit BS durchgehen\n",
    "fltr = np.where(Pool_inst_BS > 0)[0]\n",
    "zr_bs_load = np.zeros((T, len(fltr)))\n",
    "zr_bs_gen = np.zeros((T, len(fltr)))\n",
    "zr_bs_gen_pv = np.zeros((T, len(fltr)))\n",
    "\n",
    "for i in range(len(fltr)):\n",
    "    zr_bs_load[:, i] = Pool_BS[:, fltr[i]] * (Pool_all[:, fltr[i]] > 0)\n",
    "    zr_bs_gen[:, i] = Pool_BS[:, fltr[i]] * (Pool_all[:, fltr[i]] < 0)\n",
    "    zr_bs_gen_pv[:, i] = (Pool_pv[:, fltr[i]] + Pool_BS[:, fltr[i]]) * (Pool_all[:, fltr[i]] < 0)\n",
    "\n",
    "zr_bs_load[zr_bs_load < 0] = 0\n",
    "zr_bs_gen[zr_bs_gen > 0] = 0\n",
    "zr_bs_gen_pv[zr_bs_gen_pv > 0] = 0\n",
    "\n",
    "zr_bs_load_scal = np.sum(zr_bs_load, axis=1) / np.sum(Pool_inst_BS[fltr])\n",
    "zr_bs_gen_scal = np.sum(zr_bs_gen, axis=1) / np.sum(Pool_inst_BS[fltr])\n",
    "zr_bs_gen_pv_scal = np.sum(zr_bs_gen_pv, axis=1) / np.sum(Pool_inst_PV[fltr])\n",
    "\n",
    "# Plotting examples\n",
    "plt.figure()\n",
    "ts = np.array([datetime.timedelta(minutes=15) * i for i in range(366*96)])\n",
    "plt.plot(ts, np.sum(zr_bs_load_scal, axis=1))\n",
    "plt.plot(ts, np.sum(zr_bs_gen_scal, axis=1))\n",
    "plt.plot(ts, np.sum(zr_bs_load_scal, axis=1) + np.sum(zr_bs_gen_scal, axis=1))\n",
    "plt.show()\n",
    "\n",
    "plt.figure()\n",
    "x = np.arange(1, 366*96 + 1) / 4\n",
    "plt.plot(x, np.sort(np.sum(zr_bs_load_scal, axis=1) + np.sum(zr_bs_gen_scal, axis=1))[::-1], linewidth=1.5)\n",
    "plt.title(\"Duration curve BESS - Scenario 1a\")\n",
    "plt.grid(True)\n",
    "plt.xlabel('hours')\n",
    "plt.ylabel('concurrency')\n",
    "plt.xlim(0, 8770)\n",
    "plt.show()\n",
    "\n",
    "plt.figure()\n",
    "x = np.arange(1, 366*96 + 1) / 4\n",
    "plt.plot(x, np.sort(zr_bs_gen_pv_scal)[::-1], linewidth=1.5)\n",
    "plt.title(\"Duration curve BESS - Scenario 1a\")\n",
    "plt.grid(True)\n",
    "plt.xlabel('hours')\n",
    "plt.ylabel('concurrency')\n",
    "plt.xlim(0, 8760)\n",
    "plt.show()\n"
   ],
   "metadata": {
    "collapsed": false,
    "ExecuteTime": {
     "start_time": "2023-11-17T04:36:09.353356600Z"
    }
   },
   "id": "3cf526bf1b56261e"
  },
  {
   "cell_type": "code",
   "execution_count": null,
   "outputs": [],
   "source": [
    "import numpy as np\n",
    "import matplotlib.pyplot as plt\n",
    "import datetime\n",
    "\n",
    "# Alle EM mit EV durchgehen\n",
    "fltr = np.where(Pool_inst_EV > 0)[0]\n",
    "\n",
    "a = np.sum(Pool_ev2[:, fltr], axis=1)\n",
    "a2 = a / np.sum(Pool_inst_EV[fltr])\n",
    "\n",
    "ts = np.array([datetime.timedelta(minutes=15) * i for i in range(366*96)])\n",
    "plt.figure()\n",
    "x = np.arange(1, 366*96 + 1) / 4\n",
    "plt.plot(x, np.sort(a2)[::-1], linewidth=1.5)\n",
    "plt.title(\"Duration curve EV - Scenario 1a\")\n",
    "plt.grid(True)\n",
    "plt.xlabel('hours')\n",
    "plt.ylabel('concurrency')\n",
    "plt.xlim(0, 366*24)\n",
    "plt.show()\n",
    "\n",
    "# Alle EM mit EV durchgehen\n",
    "fltr = np.where(Pool_inst_EV > 0)[0]\n",
    "a_load = Pool_ev2[:, fltr].copy()\n",
    "a_load[Pool_EM_pSum[fltr] < 0] = 0\n",
    "a_load = np.sum(a_load, axis=1) / np.sum(Pool_inst_EV)\n",
    "a_load[a_load < 0] = 0\n",
    "a_gen = Pool_ev2[:, fltr].copy()\n",
    "a_gen[Pool_EM_pSum[fltr] > 0] = 0\n",
    "a_gen = np.sum(a_gen, axis=1) / np.sum(Pool_inst_EV)\n",
    "a_gen[a_gen > 0] = 0\n",
    "\n",
    "y = a_load + a_gen\n",
    "GZG_V2G_all = y\n",
    "\n",
    "if False:  # Change to True to plot\n",
    "    plt.figure()\n",
    "    x = np.arange(1, 366*96 + 1) / 4\n",
    "    plt.plot(x, np.sort(y)[::-1], linewidth=1.5)\n",
    "    plt.title(\"Duration curve EV - Scenario 1a\")\n",
    "    plt.grid(True)\n",
    "    plt.xlabel('hours')\n",
    "    plt.ylabel('concurrency')\n",
    "    plt.xlim(0, 366*24)\n",
    "    plt.show()\n"
   ],
   "metadata": {
    "collapsed": false
   },
   "id": "9785183b9702072f"
  },
  {
   "cell_type": "code",
   "execution_count": null,
   "outputs": [],
   "source": [
    "import scipy.io as sio\n",
    "\n",
    "# Zusammenfassung der GZG-Kurve nach Stichprobenzahl und installierter Leistung\n",
    "weightFactor = GZG_pInstTotal / np.sum(GZG_pInstTotal)\n",
    "GZG_GZG_weighted = np.sum(GZG_MW_Q95 * np.tile(weightFactor.reshape(-1, 1), (1, GZG_N_Kurve)), axis=1)\n",
    "GZG_maxFactorBS = np.max(zr_bs_load_scal)\n",
    "GZG_timeSeriesBSLoadsScal = zr_bs_load_scal\n",
    "\n",
    "# Save the data\n",
    "file_name = f\"{folderResForStefan}/concurrency_v3_{scenario}_{country_code}.mat\"\n",
    "sio.savemat(file_name, {'GZG_GZG_weighted': GZG_GZG_weighted, 'GZG_maxFactorBS': GZG_maxFactorBS, 'GZG_timeSeriesBSLoadsScal': GZG_timeSeriesBSLoadsScal})\n",
    "\n",
    "print('Success')\n",
    "success = True\n"
   ],
   "metadata": {
    "collapsed": false
   },
   "id": "fd69a515e20e49b8"
  }
 ],
 "metadata": {
  "kernelspec": {
   "display_name": "Python 3",
   "language": "python",
   "name": "python3"
  },
  "language_info": {
   "codemirror_mode": {
    "name": "ipython",
    "version": 2
   },
   "file_extension": ".py",
   "mimetype": "text/x-python",
   "name": "python",
   "nbconvert_exporter": "python",
   "pygments_lexer": "ipython2",
   "version": "2.7.6"
  }
 },
 "nbformat": 4,
 "nbformat_minor": 5
}
