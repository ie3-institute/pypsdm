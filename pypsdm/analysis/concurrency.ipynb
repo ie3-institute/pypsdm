{
 "cells": [
  {
   "cell_type": "code",
   "execution_count": 1,
   "outputs": [],
   "source": [
    "# List of file names\n",
    "file_names = [\n",
    "    'hp_res.csv',\n",
    "    'hp_input.csv',\n",
    "    'evcs_res.csv',\n",
    "    'evcs_input.csv',\n",
    "    'pv_res.csv',\n",
    "    'pv_input.csv',\n",
    "    'em_input.csv',\n",
    "    'load_res.csv',\n",
    "    'load_input.csv',\n",
    "    'storage_res.csv',\n",
    "    'storage_input.csv'\n",
    "]\n"
   ],
   "metadata": {
    "collapsed": false,
    "ExecuteTime": {
     "end_time": "2023-11-22T08:30:31.228740400Z",
     "start_time": "2023-11-22T08:30:31.170224200Z"
    }
   },
   "id": "2bf5d8d78e0ffe4e"
  },
  {
   "cell_type": "code",
   "execution_count": 2,
   "outputs": [
    {
     "name": "stdout",
     "output_type": "stream",
     "text": [
      "Input data loading\n"
     ]
    },
    {
     "data": {
      "text/plain": "                                               id  \\\nuuid                                                \n82a5963e-8b34-4909-a6fe-f8a5d630714f   House_15_1   \na20a27bc-d8dc-474a-a067-13768efa12b0   House_15_2   \n368b7d20-246c-47b4-99d9-59ecb09d262f   House_15_3   \n7578de94-39da-461a-a7e9-35887d5cd069   House_15_4   \n32bdf883-bf93-41d4-8df0-341c643c0dde   House_15_5   \nfc066082-5114-46dc-81e9-aadd5bdb5a5c   House_15_6   \nc91910c7-8052-439d-bbb5-82a9a6f33805   House_15_7   \n97cbb95f-ba3d-4cf2-ab8a-ebf6cd581bf2   House_15_8   \nda9b5c51-9fcc-4b3f-9fcb-331b5fe9071e   House_15_9   \n268ac12a-5617-4de7-a63a-27a2ae13fbf9  House_15_10   \n54c41a9b-071b-4ac4-ba52-daa5adf82281  House_15_11   \ne791a888-38dd-481a-9558-e15e3780d887  House_15_12   \na03331b0-29a1-4547-a439-d6ec01c7b5ec  House_15_13   \n2717884a-acd0-475a-809b-e4c3e904aa1e  House_15_14   \n3f846f16-d139-47d7-ab3f-5cdd0c695d86  House_15_15   \n5468b04e-ade9-4443-86ac-365b443b0dc2  House_15_16   \nb62da8a1-8b4c-47cb-8bd7-8a9e5bc71ad2  House_15_17   \ne1600448-5fa5-4ba2-8938-eaf768f2d7fa  House_15_18   \n53d9ead4-a565-4a00-9e31-4b6336d94503  House_15_19   \n9a824deb-3993-481e-9652-25a456922dd4  House_15_20   \nf596c0f1-efc1-4314-a92f-254469585926  House_15_21   \ne2a21ad1-c3a8-436d-8473-ea7613c31694  House_15_22   \n76a09edf-b8e1-4cd7-9a86-57f941662fb9  House_15_23   \n2a103ae2-9dc4-44f7-b31e-94fd0d8419df  House_15_24   \n92a39693-16e3-4c07-99c2-325ed6e8802b  House_15_25   \ne693fac5-2693-4712-bab8-814f1c06af2b  House_15_26   \n1d5b5cdf-abac-461d-873e-1f7ffa251af4  House_15_27   \nc4e4b6fc-b842-41ae-8a80-4f82a22ec3f9  House_15_28   \n4c0f6062-6bf7-4b1a-9af4-0501e4b7a271  House_15_29   \n88042d00-c162-4c58-b8c3-9d1bdd3b27ff  House_15_30   \n3cc0c421-1a21-467e-b609-e5b90ac0107d  House_15_31   \na35276d4-6816-4a9f-9b4e-2974ed898c06  House_15_32   \n\n                                                                      node  \\\nuuid                                                                         \n82a5963e-8b34-4909-a6fe-f8a5d630714f  e3c3c6a3-c383-4dbb-9b3f-a14125615386   \na20a27bc-d8dc-474a-a067-13768efa12b0  e3c3c6a3-c383-4dbb-9b3f-a14125615386   \n368b7d20-246c-47b4-99d9-59ecb09d262f  e3c3c6a3-c383-4dbb-9b3f-a14125615386   \n7578de94-39da-461a-a7e9-35887d5cd069  e3c3c6a3-c383-4dbb-9b3f-a14125615386   \n32bdf883-bf93-41d4-8df0-341c643c0dde  e3c3c6a3-c383-4dbb-9b3f-a14125615386   \nfc066082-5114-46dc-81e9-aadd5bdb5a5c  e3c3c6a3-c383-4dbb-9b3f-a14125615386   \nc91910c7-8052-439d-bbb5-82a9a6f33805  e3c3c6a3-c383-4dbb-9b3f-a14125615386   \n97cbb95f-ba3d-4cf2-ab8a-ebf6cd581bf2  e3c3c6a3-c383-4dbb-9b3f-a14125615386   \nda9b5c51-9fcc-4b3f-9fcb-331b5fe9071e  e3c3c6a3-c383-4dbb-9b3f-a14125615386   \n268ac12a-5617-4de7-a63a-27a2ae13fbf9  e3c3c6a3-c383-4dbb-9b3f-a14125615386   \n54c41a9b-071b-4ac4-ba52-daa5adf82281  e3c3c6a3-c383-4dbb-9b3f-a14125615386   \ne791a888-38dd-481a-9558-e15e3780d887  e3c3c6a3-c383-4dbb-9b3f-a14125615386   \na03331b0-29a1-4547-a439-d6ec01c7b5ec  e3c3c6a3-c383-4dbb-9b3f-a14125615386   \n2717884a-acd0-475a-809b-e4c3e904aa1e  e3c3c6a3-c383-4dbb-9b3f-a14125615386   \n3f846f16-d139-47d7-ab3f-5cdd0c695d86  e3c3c6a3-c383-4dbb-9b3f-a14125615386   \n5468b04e-ade9-4443-86ac-365b443b0dc2  e3c3c6a3-c383-4dbb-9b3f-a14125615386   \nb62da8a1-8b4c-47cb-8bd7-8a9e5bc71ad2  e3c3c6a3-c383-4dbb-9b3f-a14125615386   \ne1600448-5fa5-4ba2-8938-eaf768f2d7fa  e3c3c6a3-c383-4dbb-9b3f-a14125615386   \n53d9ead4-a565-4a00-9e31-4b6336d94503  e3c3c6a3-c383-4dbb-9b3f-a14125615386   \n9a824deb-3993-481e-9652-25a456922dd4  e3c3c6a3-c383-4dbb-9b3f-a14125615386   \nf596c0f1-efc1-4314-a92f-254469585926  e3c3c6a3-c383-4dbb-9b3f-a14125615386   \ne2a21ad1-c3a8-436d-8473-ea7613c31694  e3c3c6a3-c383-4dbb-9b3f-a14125615386   \n76a09edf-b8e1-4cd7-9a86-57f941662fb9  e3c3c6a3-c383-4dbb-9b3f-a14125615386   \n2a103ae2-9dc4-44f7-b31e-94fd0d8419df  e3c3c6a3-c383-4dbb-9b3f-a14125615386   \n92a39693-16e3-4c07-99c2-325ed6e8802b  e3c3c6a3-c383-4dbb-9b3f-a14125615386   \ne693fac5-2693-4712-bab8-814f1c06af2b  e3c3c6a3-c383-4dbb-9b3f-a14125615386   \n1d5b5cdf-abac-461d-873e-1f7ffa251af4  e3c3c6a3-c383-4dbb-9b3f-a14125615386   \nc4e4b6fc-b842-41ae-8a80-4f82a22ec3f9  e3c3c6a3-c383-4dbb-9b3f-a14125615386   \n4c0f6062-6bf7-4b1a-9af4-0501e4b7a271  e3c3c6a3-c383-4dbb-9b3f-a14125615386   \n88042d00-c162-4c58-b8c3-9d1bdd3b27ff  e3c3c6a3-c383-4dbb-9b3f-a14125615386   \n3cc0c421-1a21-467e-b609-e5b90ac0107d  e3c3c6a3-c383-4dbb-9b3f-a14125615386   \na35276d4-6816-4a9f-9b4e-2974ed898c06  e3c3c6a3-c383-4dbb-9b3f-a14125615386   \n\n                                                                       connected_assets  \\\nuuid                                                                                      \n82a5963e-8b34-4909-a6fe-f8a5d630714f  af6337ae-17f8-498a-934b-1e7a73fd90bc 14214974-...   \na20a27bc-d8dc-474a-a067-13768efa12b0  16ff9d48-d412-4c3a-a3a5-5f1e637adff4 83b88129-...   \n368b7d20-246c-47b4-99d9-59ecb09d262f  0cb2a585-82ff-4999-a27a-d056c8f4efd4 d7765490-...   \n7578de94-39da-461a-a7e9-35887d5cd069  7e8cceeb-31c5-44f0-ac6f-8aa45d4c121c d7485ea6-...   \n32bdf883-bf93-41d4-8df0-341c643c0dde  a30bb0a8-e3c1-4575-8d85-a0f4743e0722 53b6196d-...   \nfc066082-5114-46dc-81e9-aadd5bdb5a5c  b73f679c-8972-40b2-ab10-d4fe6de92b6a 61f09e90-...   \nc91910c7-8052-439d-bbb5-82a9a6f33805  4dfaf6e1-10be-4e00-9198-8c47a93e9902 b85392b3-...   \n97cbb95f-ba3d-4cf2-ab8a-ebf6cd581bf2  7b47ea8e-97fc-4da9-92ab-41fc21608f93 4cd55c5e-...   \nda9b5c51-9fcc-4b3f-9fcb-331b5fe9071e  3c0f8fb3-2a76-4b8f-a28f-807d7826a8a9 da6dffd6-...   \n268ac12a-5617-4de7-a63a-27a2ae13fbf9  b9c2574d-782e-4d46-b079-9e3e3a7e0c66 c2d4d3c7-...   \n54c41a9b-071b-4ac4-ba52-daa5adf82281  df2f6c58-8bb2-40b5-a966-b5714ed609b7 c9e94a07-...   \ne791a888-38dd-481a-9558-e15e3780d887  50a4f181-41b5-48eb-b9b2-88733e4b39ae c2ce5996-...   \na03331b0-29a1-4547-a439-d6ec01c7b5ec  c0bb7689-88bd-4ca4-a81f-16f4ea2a221b d038f85c-...   \n2717884a-acd0-475a-809b-e4c3e904aa1e  61bad369-58de-4337-a4a7-359b1d07e24a cf738090-...   \n3f846f16-d139-47d7-ab3f-5cdd0c695d86  104b01a4-087b-475e-ad64-6f993a4bc861 66381fcb-...   \n5468b04e-ade9-4443-86ac-365b443b0dc2  5e73872d-f919-4075-92b6-7596e831bab7 bad9f3e8-...   \nb62da8a1-8b4c-47cb-8bd7-8a9e5bc71ad2  5b1b807b-8fb0-4f8d-a1e3-c7c3bb7a383a ea54884b-...   \ne1600448-5fa5-4ba2-8938-eaf768f2d7fa  fdcbdd9a-cf76-4ec9-b5d7-a68d4b9acdb8 b711687f-...   \n53d9ead4-a565-4a00-9e31-4b6336d94503  1e319e79-8468-49ca-ba01-f28931f75313 95eade6d-...   \n9a824deb-3993-481e-9652-25a456922dd4  39a820fe-82d7-4fdd-a78d-5daf9a5b0250 6ed557e6-...   \nf596c0f1-efc1-4314-a92f-254469585926  67a7b8dd-d67b-4f7d-82ca-1861b55fcb36 6448eda6-...   \ne2a21ad1-c3a8-436d-8473-ea7613c31694  cdf23a76-9091-4968-93f1-444cc8c4e7bd dd6d0bd0-...   \n76a09edf-b8e1-4cd7-9a86-57f941662fb9  f306ba1d-c636-4f08-99ce-0cbc11fb746a fcf058cb-...   \n2a103ae2-9dc4-44f7-b31e-94fd0d8419df  91022984-2dfb-4d72-82da-6823a602f6d8 e86d1bfb-...   \n92a39693-16e3-4c07-99c2-325ed6e8802b  81609ca2-ad7b-41d5-9f17-2c3edb9e84f9 aa3cc232-...   \ne693fac5-2693-4712-bab8-814f1c06af2b  d7947073-af0a-4f55-bf5c-171178138b79 411bf7c4-...   \n1d5b5cdf-abac-461d-873e-1f7ffa251af4  402ed403-617b-459b-82f7-530941973231 b50d70fc-...   \nc4e4b6fc-b842-41ae-8a80-4f82a22ec3f9  e4547641-03e7-437d-980e-fee1e9152057 60d2904d-...   \n4c0f6062-6bf7-4b1a-9af4-0501e4b7a271  11239ca9-ea82-4ecd-8258-711e7b219ba6 3ddcb9f8-...   \n88042d00-c162-4c58-b8c3-9d1bdd3b27ff  479d59f3-2329-48e7-94b9-e9d6d65687b1 3c543351-...   \n3cc0c421-1a21-467e-b609-e5b90ac0107d  3685a343-c547-412c-a844-26cd574540c8 a9401ed6-...   \na35276d4-6816-4a9f-9b4e-2974ed898c06  df34ab8a-8927-4e2d-a741-bc8d274e3841 2ecbc1b7-...   \n\n                                       control_strategy  \\\nuuid                                                      \n82a5963e-8b34-4909-a6fe-f8a5d630714f  self_optimization   \na20a27bc-d8dc-474a-a067-13768efa12b0  self_optimization   \n368b7d20-246c-47b4-99d9-59ecb09d262f  self_optimization   \n7578de94-39da-461a-a7e9-35887d5cd069  self_optimization   \n32bdf883-bf93-41d4-8df0-341c643c0dde  self_optimization   \nfc066082-5114-46dc-81e9-aadd5bdb5a5c  self_optimization   \nc91910c7-8052-439d-bbb5-82a9a6f33805  self_optimization   \n97cbb95f-ba3d-4cf2-ab8a-ebf6cd581bf2  self_optimization   \nda9b5c51-9fcc-4b3f-9fcb-331b5fe9071e  self_optimization   \n268ac12a-5617-4de7-a63a-27a2ae13fbf9  self_optimization   \n54c41a9b-071b-4ac4-ba52-daa5adf82281  self_optimization   \ne791a888-38dd-481a-9558-e15e3780d887  self_optimization   \na03331b0-29a1-4547-a439-d6ec01c7b5ec  self_optimization   \n2717884a-acd0-475a-809b-e4c3e904aa1e  self_optimization   \n3f846f16-d139-47d7-ab3f-5cdd0c695d86  self_optimization   \n5468b04e-ade9-4443-86ac-365b443b0dc2  self_optimization   \nb62da8a1-8b4c-47cb-8bd7-8a9e5bc71ad2  self_optimization   \ne1600448-5fa5-4ba2-8938-eaf768f2d7fa  self_optimization   \n53d9ead4-a565-4a00-9e31-4b6336d94503  self_optimization   \n9a824deb-3993-481e-9652-25a456922dd4  self_optimization   \nf596c0f1-efc1-4314-a92f-254469585926  self_optimization   \ne2a21ad1-c3a8-436d-8473-ea7613c31694  self_optimization   \n76a09edf-b8e1-4cd7-9a86-57f941662fb9  self_optimization   \n2a103ae2-9dc4-44f7-b31e-94fd0d8419df  self_optimization   \n92a39693-16e3-4c07-99c2-325ed6e8802b  self_optimization   \ne693fac5-2693-4712-bab8-814f1c06af2b  self_optimization   \n1d5b5cdf-abac-461d-873e-1f7ffa251af4  self_optimization   \nc4e4b6fc-b842-41ae-8a80-4f82a22ec3f9  self_optimization   \n4c0f6062-6bf7-4b1a-9af4-0501e4b7a271  self_optimization   \n88042d00-c162-4c58-b8c3-9d1bdd3b27ff  self_optimization   \n3cc0c421-1a21-467e-b609-e5b90ac0107d  self_optimization   \na35276d4-6816-4a9f-9b4e-2974ed898c06  self_optimization   \n\n                                             q_characteristics  operates_from  \\\nuuid                                                                            \n82a5963e-8b34-4909-a6fe-f8a5d630714f  cosPhiFixed:{(0.0, 0.9)}            NaN   \na20a27bc-d8dc-474a-a067-13768efa12b0  cosPhiFixed:{(0.0, 0.9)}            NaN   \n368b7d20-246c-47b4-99d9-59ecb09d262f  cosPhiFixed:{(0.0, 0.9)}            NaN   \n7578de94-39da-461a-a7e9-35887d5cd069  cosPhiFixed:{(0.0, 0.9)}            NaN   \n32bdf883-bf93-41d4-8df0-341c643c0dde  cosPhiFixed:{(0.0, 0.9)}            NaN   \nfc066082-5114-46dc-81e9-aadd5bdb5a5c  cosPhiFixed:{(0.0, 0.9)}            NaN   \nc91910c7-8052-439d-bbb5-82a9a6f33805  cosPhiFixed:{(0.0, 0.9)}            NaN   \n97cbb95f-ba3d-4cf2-ab8a-ebf6cd581bf2  cosPhiFixed:{(0.0, 0.9)}            NaN   \nda9b5c51-9fcc-4b3f-9fcb-331b5fe9071e  cosPhiFixed:{(0.0, 0.9)}            NaN   \n268ac12a-5617-4de7-a63a-27a2ae13fbf9  cosPhiFixed:{(0.0, 0.9)}            NaN   \n54c41a9b-071b-4ac4-ba52-daa5adf82281  cosPhiFixed:{(0.0, 0.9)}            NaN   \ne791a888-38dd-481a-9558-e15e3780d887  cosPhiFixed:{(0.0, 0.9)}            NaN   \na03331b0-29a1-4547-a439-d6ec01c7b5ec  cosPhiFixed:{(0.0, 0.9)}            NaN   \n2717884a-acd0-475a-809b-e4c3e904aa1e  cosPhiFixed:{(0.0, 0.9)}            NaN   \n3f846f16-d139-47d7-ab3f-5cdd0c695d86  cosPhiFixed:{(0.0, 0.9)}            NaN   \n5468b04e-ade9-4443-86ac-365b443b0dc2  cosPhiFixed:{(0.0, 0.9)}            NaN   \nb62da8a1-8b4c-47cb-8bd7-8a9e5bc71ad2  cosPhiFixed:{(0.0, 0.9)}            NaN   \ne1600448-5fa5-4ba2-8938-eaf768f2d7fa  cosPhiFixed:{(0.0, 0.9)}            NaN   \n53d9ead4-a565-4a00-9e31-4b6336d94503  cosPhiFixed:{(0.0, 0.9)}            NaN   \n9a824deb-3993-481e-9652-25a456922dd4  cosPhiFixed:{(0.0, 0.9)}            NaN   \nf596c0f1-efc1-4314-a92f-254469585926  cosPhiFixed:{(0.0, 0.9)}            NaN   \ne2a21ad1-c3a8-436d-8473-ea7613c31694  cosPhiFixed:{(0.0, 0.9)}            NaN   \n76a09edf-b8e1-4cd7-9a86-57f941662fb9  cosPhiFixed:{(0.0, 0.9)}            NaN   \n2a103ae2-9dc4-44f7-b31e-94fd0d8419df  cosPhiFixed:{(0.0, 0.9)}            NaN   \n92a39693-16e3-4c07-99c2-325ed6e8802b  cosPhiFixed:{(0.0, 0.9)}            NaN   \ne693fac5-2693-4712-bab8-814f1c06af2b  cosPhiFixed:{(0.0, 0.9)}            NaN   \n1d5b5cdf-abac-461d-873e-1f7ffa251af4  cosPhiFixed:{(0.0, 0.9)}            NaN   \nc4e4b6fc-b842-41ae-8a80-4f82a22ec3f9  cosPhiFixed:{(0.0, 0.9)}            NaN   \n4c0f6062-6bf7-4b1a-9af4-0501e4b7a271  cosPhiFixed:{(0.0, 0.9)}            NaN   \n88042d00-c162-4c58-b8c3-9d1bdd3b27ff  cosPhiFixed:{(0.0, 0.9)}            NaN   \n3cc0c421-1a21-467e-b609-e5b90ac0107d  cosPhiFixed:{(0.0, 0.9)}            NaN   \na35276d4-6816-4a9f-9b4e-2974ed898c06  cosPhiFixed:{(0.0, 0.9)}            NaN   \n\n                                      operates_until  operator  \nuuid                                                            \n82a5963e-8b34-4909-a6fe-f8a5d630714f             NaN       NaN  \na20a27bc-d8dc-474a-a067-13768efa12b0             NaN       NaN  \n368b7d20-246c-47b4-99d9-59ecb09d262f             NaN       NaN  \n7578de94-39da-461a-a7e9-35887d5cd069             NaN       NaN  \n32bdf883-bf93-41d4-8df0-341c643c0dde             NaN       NaN  \nfc066082-5114-46dc-81e9-aadd5bdb5a5c             NaN       NaN  \nc91910c7-8052-439d-bbb5-82a9a6f33805             NaN       NaN  \n97cbb95f-ba3d-4cf2-ab8a-ebf6cd581bf2             NaN       NaN  \nda9b5c51-9fcc-4b3f-9fcb-331b5fe9071e             NaN       NaN  \n268ac12a-5617-4de7-a63a-27a2ae13fbf9             NaN       NaN  \n54c41a9b-071b-4ac4-ba52-daa5adf82281             NaN       NaN  \ne791a888-38dd-481a-9558-e15e3780d887             NaN       NaN  \na03331b0-29a1-4547-a439-d6ec01c7b5ec             NaN       NaN  \n2717884a-acd0-475a-809b-e4c3e904aa1e             NaN       NaN  \n3f846f16-d139-47d7-ab3f-5cdd0c695d86             NaN       NaN  \n5468b04e-ade9-4443-86ac-365b443b0dc2             NaN       NaN  \nb62da8a1-8b4c-47cb-8bd7-8a9e5bc71ad2             NaN       NaN  \ne1600448-5fa5-4ba2-8938-eaf768f2d7fa             NaN       NaN  \n53d9ead4-a565-4a00-9e31-4b6336d94503             NaN       NaN  \n9a824deb-3993-481e-9652-25a456922dd4             NaN       NaN  \nf596c0f1-efc1-4314-a92f-254469585926             NaN       NaN  \ne2a21ad1-c3a8-436d-8473-ea7613c31694             NaN       NaN  \n76a09edf-b8e1-4cd7-9a86-57f941662fb9             NaN       NaN  \n2a103ae2-9dc4-44f7-b31e-94fd0d8419df             NaN       NaN  \n92a39693-16e3-4c07-99c2-325ed6e8802b             NaN       NaN  \ne693fac5-2693-4712-bab8-814f1c06af2b             NaN       NaN  \n1d5b5cdf-abac-461d-873e-1f7ffa251af4             NaN       NaN  \nc4e4b6fc-b842-41ae-8a80-4f82a22ec3f9             NaN       NaN  \n4c0f6062-6bf7-4b1a-9af4-0501e4b7a271             NaN       NaN  \n88042d00-c162-4c58-b8c3-9d1bdd3b27ff             NaN       NaN  \n3cc0c421-1a21-467e-b609-e5b90ac0107d             NaN       NaN  \na35276d4-6816-4a9f-9b4e-2974ed898c06             NaN       NaN  ",
      "text/html": "<div>\n<style scoped>\n    .dataframe tbody tr th:only-of-type {\n        vertical-align: middle;\n    }\n\n    .dataframe tbody tr th {\n        vertical-align: top;\n    }\n\n    .dataframe thead th {\n        text-align: right;\n    }\n</style>\n<table border=\"1\" class=\"dataframe\">\n  <thead>\n    <tr style=\"text-align: right;\">\n      <th></th>\n      <th>id</th>\n      <th>node</th>\n      <th>connected_assets</th>\n      <th>control_strategy</th>\n      <th>q_characteristics</th>\n      <th>operates_from</th>\n      <th>operates_until</th>\n      <th>operator</th>\n    </tr>\n    <tr>\n      <th>uuid</th>\n      <th></th>\n      <th></th>\n      <th></th>\n      <th></th>\n      <th></th>\n      <th></th>\n      <th></th>\n      <th></th>\n    </tr>\n  </thead>\n  <tbody>\n    <tr>\n      <th>82a5963e-8b34-4909-a6fe-f8a5d630714f</th>\n      <td>House_15_1</td>\n      <td>e3c3c6a3-c383-4dbb-9b3f-a14125615386</td>\n      <td>af6337ae-17f8-498a-934b-1e7a73fd90bc 14214974-...</td>\n      <td>self_optimization</td>\n      <td>cosPhiFixed:{(0.0, 0.9)}</td>\n      <td>NaN</td>\n      <td>NaN</td>\n      <td>NaN</td>\n    </tr>\n    <tr>\n      <th>a20a27bc-d8dc-474a-a067-13768efa12b0</th>\n      <td>House_15_2</td>\n      <td>e3c3c6a3-c383-4dbb-9b3f-a14125615386</td>\n      <td>16ff9d48-d412-4c3a-a3a5-5f1e637adff4 83b88129-...</td>\n      <td>self_optimization</td>\n      <td>cosPhiFixed:{(0.0, 0.9)}</td>\n      <td>NaN</td>\n      <td>NaN</td>\n      <td>NaN</td>\n    </tr>\n    <tr>\n      <th>368b7d20-246c-47b4-99d9-59ecb09d262f</th>\n      <td>House_15_3</td>\n      <td>e3c3c6a3-c383-4dbb-9b3f-a14125615386</td>\n      <td>0cb2a585-82ff-4999-a27a-d056c8f4efd4 d7765490-...</td>\n      <td>self_optimization</td>\n      <td>cosPhiFixed:{(0.0, 0.9)}</td>\n      <td>NaN</td>\n      <td>NaN</td>\n      <td>NaN</td>\n    </tr>\n    <tr>\n      <th>7578de94-39da-461a-a7e9-35887d5cd069</th>\n      <td>House_15_4</td>\n      <td>e3c3c6a3-c383-4dbb-9b3f-a14125615386</td>\n      <td>7e8cceeb-31c5-44f0-ac6f-8aa45d4c121c d7485ea6-...</td>\n      <td>self_optimization</td>\n      <td>cosPhiFixed:{(0.0, 0.9)}</td>\n      <td>NaN</td>\n      <td>NaN</td>\n      <td>NaN</td>\n    </tr>\n    <tr>\n      <th>32bdf883-bf93-41d4-8df0-341c643c0dde</th>\n      <td>House_15_5</td>\n      <td>e3c3c6a3-c383-4dbb-9b3f-a14125615386</td>\n      <td>a30bb0a8-e3c1-4575-8d85-a0f4743e0722 53b6196d-...</td>\n      <td>self_optimization</td>\n      <td>cosPhiFixed:{(0.0, 0.9)}</td>\n      <td>NaN</td>\n      <td>NaN</td>\n      <td>NaN</td>\n    </tr>\n    <tr>\n      <th>fc066082-5114-46dc-81e9-aadd5bdb5a5c</th>\n      <td>House_15_6</td>\n      <td>e3c3c6a3-c383-4dbb-9b3f-a14125615386</td>\n      <td>b73f679c-8972-40b2-ab10-d4fe6de92b6a 61f09e90-...</td>\n      <td>self_optimization</td>\n      <td>cosPhiFixed:{(0.0, 0.9)}</td>\n      <td>NaN</td>\n      <td>NaN</td>\n      <td>NaN</td>\n    </tr>\n    <tr>\n      <th>c91910c7-8052-439d-bbb5-82a9a6f33805</th>\n      <td>House_15_7</td>\n      <td>e3c3c6a3-c383-4dbb-9b3f-a14125615386</td>\n      <td>4dfaf6e1-10be-4e00-9198-8c47a93e9902 b85392b3-...</td>\n      <td>self_optimization</td>\n      <td>cosPhiFixed:{(0.0, 0.9)}</td>\n      <td>NaN</td>\n      <td>NaN</td>\n      <td>NaN</td>\n    </tr>\n    <tr>\n      <th>97cbb95f-ba3d-4cf2-ab8a-ebf6cd581bf2</th>\n      <td>House_15_8</td>\n      <td>e3c3c6a3-c383-4dbb-9b3f-a14125615386</td>\n      <td>7b47ea8e-97fc-4da9-92ab-41fc21608f93 4cd55c5e-...</td>\n      <td>self_optimization</td>\n      <td>cosPhiFixed:{(0.0, 0.9)}</td>\n      <td>NaN</td>\n      <td>NaN</td>\n      <td>NaN</td>\n    </tr>\n    <tr>\n      <th>da9b5c51-9fcc-4b3f-9fcb-331b5fe9071e</th>\n      <td>House_15_9</td>\n      <td>e3c3c6a3-c383-4dbb-9b3f-a14125615386</td>\n      <td>3c0f8fb3-2a76-4b8f-a28f-807d7826a8a9 da6dffd6-...</td>\n      <td>self_optimization</td>\n      <td>cosPhiFixed:{(0.0, 0.9)}</td>\n      <td>NaN</td>\n      <td>NaN</td>\n      <td>NaN</td>\n    </tr>\n    <tr>\n      <th>268ac12a-5617-4de7-a63a-27a2ae13fbf9</th>\n      <td>House_15_10</td>\n      <td>e3c3c6a3-c383-4dbb-9b3f-a14125615386</td>\n      <td>b9c2574d-782e-4d46-b079-9e3e3a7e0c66 c2d4d3c7-...</td>\n      <td>self_optimization</td>\n      <td>cosPhiFixed:{(0.0, 0.9)}</td>\n      <td>NaN</td>\n      <td>NaN</td>\n      <td>NaN</td>\n    </tr>\n    <tr>\n      <th>54c41a9b-071b-4ac4-ba52-daa5adf82281</th>\n      <td>House_15_11</td>\n      <td>e3c3c6a3-c383-4dbb-9b3f-a14125615386</td>\n      <td>df2f6c58-8bb2-40b5-a966-b5714ed609b7 c9e94a07-...</td>\n      <td>self_optimization</td>\n      <td>cosPhiFixed:{(0.0, 0.9)}</td>\n      <td>NaN</td>\n      <td>NaN</td>\n      <td>NaN</td>\n    </tr>\n    <tr>\n      <th>e791a888-38dd-481a-9558-e15e3780d887</th>\n      <td>House_15_12</td>\n      <td>e3c3c6a3-c383-4dbb-9b3f-a14125615386</td>\n      <td>50a4f181-41b5-48eb-b9b2-88733e4b39ae c2ce5996-...</td>\n      <td>self_optimization</td>\n      <td>cosPhiFixed:{(0.0, 0.9)}</td>\n      <td>NaN</td>\n      <td>NaN</td>\n      <td>NaN</td>\n    </tr>\n    <tr>\n      <th>a03331b0-29a1-4547-a439-d6ec01c7b5ec</th>\n      <td>House_15_13</td>\n      <td>e3c3c6a3-c383-4dbb-9b3f-a14125615386</td>\n      <td>c0bb7689-88bd-4ca4-a81f-16f4ea2a221b d038f85c-...</td>\n      <td>self_optimization</td>\n      <td>cosPhiFixed:{(0.0, 0.9)}</td>\n      <td>NaN</td>\n      <td>NaN</td>\n      <td>NaN</td>\n    </tr>\n    <tr>\n      <th>2717884a-acd0-475a-809b-e4c3e904aa1e</th>\n      <td>House_15_14</td>\n      <td>e3c3c6a3-c383-4dbb-9b3f-a14125615386</td>\n      <td>61bad369-58de-4337-a4a7-359b1d07e24a cf738090-...</td>\n      <td>self_optimization</td>\n      <td>cosPhiFixed:{(0.0, 0.9)}</td>\n      <td>NaN</td>\n      <td>NaN</td>\n      <td>NaN</td>\n    </tr>\n    <tr>\n      <th>3f846f16-d139-47d7-ab3f-5cdd0c695d86</th>\n      <td>House_15_15</td>\n      <td>e3c3c6a3-c383-4dbb-9b3f-a14125615386</td>\n      <td>104b01a4-087b-475e-ad64-6f993a4bc861 66381fcb-...</td>\n      <td>self_optimization</td>\n      <td>cosPhiFixed:{(0.0, 0.9)}</td>\n      <td>NaN</td>\n      <td>NaN</td>\n      <td>NaN</td>\n    </tr>\n    <tr>\n      <th>5468b04e-ade9-4443-86ac-365b443b0dc2</th>\n      <td>House_15_16</td>\n      <td>e3c3c6a3-c383-4dbb-9b3f-a14125615386</td>\n      <td>5e73872d-f919-4075-92b6-7596e831bab7 bad9f3e8-...</td>\n      <td>self_optimization</td>\n      <td>cosPhiFixed:{(0.0, 0.9)}</td>\n      <td>NaN</td>\n      <td>NaN</td>\n      <td>NaN</td>\n    </tr>\n    <tr>\n      <th>b62da8a1-8b4c-47cb-8bd7-8a9e5bc71ad2</th>\n      <td>House_15_17</td>\n      <td>e3c3c6a3-c383-4dbb-9b3f-a14125615386</td>\n      <td>5b1b807b-8fb0-4f8d-a1e3-c7c3bb7a383a ea54884b-...</td>\n      <td>self_optimization</td>\n      <td>cosPhiFixed:{(0.0, 0.9)}</td>\n      <td>NaN</td>\n      <td>NaN</td>\n      <td>NaN</td>\n    </tr>\n    <tr>\n      <th>e1600448-5fa5-4ba2-8938-eaf768f2d7fa</th>\n      <td>House_15_18</td>\n      <td>e3c3c6a3-c383-4dbb-9b3f-a14125615386</td>\n      <td>fdcbdd9a-cf76-4ec9-b5d7-a68d4b9acdb8 b711687f-...</td>\n      <td>self_optimization</td>\n      <td>cosPhiFixed:{(0.0, 0.9)}</td>\n      <td>NaN</td>\n      <td>NaN</td>\n      <td>NaN</td>\n    </tr>\n    <tr>\n      <th>53d9ead4-a565-4a00-9e31-4b6336d94503</th>\n      <td>House_15_19</td>\n      <td>e3c3c6a3-c383-4dbb-9b3f-a14125615386</td>\n      <td>1e319e79-8468-49ca-ba01-f28931f75313 95eade6d-...</td>\n      <td>self_optimization</td>\n      <td>cosPhiFixed:{(0.0, 0.9)}</td>\n      <td>NaN</td>\n      <td>NaN</td>\n      <td>NaN</td>\n    </tr>\n    <tr>\n      <th>9a824deb-3993-481e-9652-25a456922dd4</th>\n      <td>House_15_20</td>\n      <td>e3c3c6a3-c383-4dbb-9b3f-a14125615386</td>\n      <td>39a820fe-82d7-4fdd-a78d-5daf9a5b0250 6ed557e6-...</td>\n      <td>self_optimization</td>\n      <td>cosPhiFixed:{(0.0, 0.9)}</td>\n      <td>NaN</td>\n      <td>NaN</td>\n      <td>NaN</td>\n    </tr>\n    <tr>\n      <th>f596c0f1-efc1-4314-a92f-254469585926</th>\n      <td>House_15_21</td>\n      <td>e3c3c6a3-c383-4dbb-9b3f-a14125615386</td>\n      <td>67a7b8dd-d67b-4f7d-82ca-1861b55fcb36 6448eda6-...</td>\n      <td>self_optimization</td>\n      <td>cosPhiFixed:{(0.0, 0.9)}</td>\n      <td>NaN</td>\n      <td>NaN</td>\n      <td>NaN</td>\n    </tr>\n    <tr>\n      <th>e2a21ad1-c3a8-436d-8473-ea7613c31694</th>\n      <td>House_15_22</td>\n      <td>e3c3c6a3-c383-4dbb-9b3f-a14125615386</td>\n      <td>cdf23a76-9091-4968-93f1-444cc8c4e7bd dd6d0bd0-...</td>\n      <td>self_optimization</td>\n      <td>cosPhiFixed:{(0.0, 0.9)}</td>\n      <td>NaN</td>\n      <td>NaN</td>\n      <td>NaN</td>\n    </tr>\n    <tr>\n      <th>76a09edf-b8e1-4cd7-9a86-57f941662fb9</th>\n      <td>House_15_23</td>\n      <td>e3c3c6a3-c383-4dbb-9b3f-a14125615386</td>\n      <td>f306ba1d-c636-4f08-99ce-0cbc11fb746a fcf058cb-...</td>\n      <td>self_optimization</td>\n      <td>cosPhiFixed:{(0.0, 0.9)}</td>\n      <td>NaN</td>\n      <td>NaN</td>\n      <td>NaN</td>\n    </tr>\n    <tr>\n      <th>2a103ae2-9dc4-44f7-b31e-94fd0d8419df</th>\n      <td>House_15_24</td>\n      <td>e3c3c6a3-c383-4dbb-9b3f-a14125615386</td>\n      <td>91022984-2dfb-4d72-82da-6823a602f6d8 e86d1bfb-...</td>\n      <td>self_optimization</td>\n      <td>cosPhiFixed:{(0.0, 0.9)}</td>\n      <td>NaN</td>\n      <td>NaN</td>\n      <td>NaN</td>\n    </tr>\n    <tr>\n      <th>92a39693-16e3-4c07-99c2-325ed6e8802b</th>\n      <td>House_15_25</td>\n      <td>e3c3c6a3-c383-4dbb-9b3f-a14125615386</td>\n      <td>81609ca2-ad7b-41d5-9f17-2c3edb9e84f9 aa3cc232-...</td>\n      <td>self_optimization</td>\n      <td>cosPhiFixed:{(0.0, 0.9)}</td>\n      <td>NaN</td>\n      <td>NaN</td>\n      <td>NaN</td>\n    </tr>\n    <tr>\n      <th>e693fac5-2693-4712-bab8-814f1c06af2b</th>\n      <td>House_15_26</td>\n      <td>e3c3c6a3-c383-4dbb-9b3f-a14125615386</td>\n      <td>d7947073-af0a-4f55-bf5c-171178138b79 411bf7c4-...</td>\n      <td>self_optimization</td>\n      <td>cosPhiFixed:{(0.0, 0.9)}</td>\n      <td>NaN</td>\n      <td>NaN</td>\n      <td>NaN</td>\n    </tr>\n    <tr>\n      <th>1d5b5cdf-abac-461d-873e-1f7ffa251af4</th>\n      <td>House_15_27</td>\n      <td>e3c3c6a3-c383-4dbb-9b3f-a14125615386</td>\n      <td>402ed403-617b-459b-82f7-530941973231 b50d70fc-...</td>\n      <td>self_optimization</td>\n      <td>cosPhiFixed:{(0.0, 0.9)}</td>\n      <td>NaN</td>\n      <td>NaN</td>\n      <td>NaN</td>\n    </tr>\n    <tr>\n      <th>c4e4b6fc-b842-41ae-8a80-4f82a22ec3f9</th>\n      <td>House_15_28</td>\n      <td>e3c3c6a3-c383-4dbb-9b3f-a14125615386</td>\n      <td>e4547641-03e7-437d-980e-fee1e9152057 60d2904d-...</td>\n      <td>self_optimization</td>\n      <td>cosPhiFixed:{(0.0, 0.9)}</td>\n      <td>NaN</td>\n      <td>NaN</td>\n      <td>NaN</td>\n    </tr>\n    <tr>\n      <th>4c0f6062-6bf7-4b1a-9af4-0501e4b7a271</th>\n      <td>House_15_29</td>\n      <td>e3c3c6a3-c383-4dbb-9b3f-a14125615386</td>\n      <td>11239ca9-ea82-4ecd-8258-711e7b219ba6 3ddcb9f8-...</td>\n      <td>self_optimization</td>\n      <td>cosPhiFixed:{(0.0, 0.9)}</td>\n      <td>NaN</td>\n      <td>NaN</td>\n      <td>NaN</td>\n    </tr>\n    <tr>\n      <th>88042d00-c162-4c58-b8c3-9d1bdd3b27ff</th>\n      <td>House_15_30</td>\n      <td>e3c3c6a3-c383-4dbb-9b3f-a14125615386</td>\n      <td>479d59f3-2329-48e7-94b9-e9d6d65687b1 3c543351-...</td>\n      <td>self_optimization</td>\n      <td>cosPhiFixed:{(0.0, 0.9)}</td>\n      <td>NaN</td>\n      <td>NaN</td>\n      <td>NaN</td>\n    </tr>\n    <tr>\n      <th>3cc0c421-1a21-467e-b609-e5b90ac0107d</th>\n      <td>House_15_31</td>\n      <td>e3c3c6a3-c383-4dbb-9b3f-a14125615386</td>\n      <td>3685a343-c547-412c-a844-26cd574540c8 a9401ed6-...</td>\n      <td>self_optimization</td>\n      <td>cosPhiFixed:{(0.0, 0.9)}</td>\n      <td>NaN</td>\n      <td>NaN</td>\n      <td>NaN</td>\n    </tr>\n    <tr>\n      <th>a35276d4-6816-4a9f-9b4e-2974ed898c06</th>\n      <td>House_15_32</td>\n      <td>e3c3c6a3-c383-4dbb-9b3f-a14125615386</td>\n      <td>df34ab8a-8927-4e2d-a741-bc8d274e3841 2ecbc1b7-...</td>\n      <td>self_optimization</td>\n      <td>cosPhiFixed:{(0.0, 0.9)}</td>\n      <td>NaN</td>\n      <td>NaN</td>\n      <td>NaN</td>\n    </tr>\n  </tbody>\n</table>\n</div>"
     },
     "execution_count": 2,
     "metadata": {},
     "output_type": "execute_result"
    }
   ],
   "source": [
    "import os\n",
    "import pandas as pd\n",
    "\n",
    "# Get the folder path where the files are located\n",
    "folder_inputs = r'C:\\tmp\\20231121_flex_testminigrid_2023-11-21_08-37-58\\input\\grid'\n",
    "\n",
    "# Filenames\n",
    "file_names = [\n",
    "    'em_input.csv',\n",
    "    'evcs_input.csv',\n",
    "    'hp_input.csv',\n",
    "    'pv_input.csv',\n",
    "    'load_input.csv',\n",
    "    'storage_input.csv'\n",
    "]\n",
    "\n",
    "# Read input data\n",
    "print('Input data loading')\n",
    "\n",
    "data_input_em = pd.read_csv(os.path.join(folder_inputs,file_names[0]),index_col='uuid')\n",
    "\n",
    "\n",
    "# Remove em-system\n",
    "data_input_em = data_input_em[~data_input_em['id'].str.contains('em-system')]\n",
    "\n",
    "data_input_ev = pd.read_csv(os.path.join(folder_inputs, file_names[1]),index_col='uuid')\n",
    "data_input_hp = pd.read_csv(os.path.join(folder_inputs, file_names[2]),index_col='uuid')\n",
    "data_input_pv = pd.read_csv(os.path.join(folder_inputs, file_names[3]),index_col='uuid')\n",
    "data_input_lo = pd.read_csv(os.path.join(folder_inputs, file_names[4]),index_col='uuid')\n",
    "data_input_bs = pd.read_csv(os.path.join(folder_inputs, file_names[5]),index_col='uuid')\n",
    "data_input_em"
   ],
   "metadata": {
    "collapsed": false,
    "ExecuteTime": {
     "end_time": "2023-11-22T08:30:31.687332700Z",
     "start_time": "2023-11-22T08:30:31.178738Z"
    }
   },
   "id": "1e433b171258bccd"
  },
  {
   "cell_type": "code",
   "execution_count": 3,
   "outputs": [],
   "source": [
    "\n",
    "def create_em_to_systemparticipant_dict(em_list, system_participants_list):\n",
    "    \n",
    "    matching_uuids_dict = dict()\n",
    "    \n",
    "    for index, row in system_participants_list.iterrows():\n",
    "        for em_index, em_row in em_list.iterrows():\n",
    "            connected_assets = em_row['connected_assets']\n",
    "            \n",
    "            connected_assets_list = connected_assets.strip('[]').replace(\"'\", \"\").split(', ') if isinstance(connected_assets, str) else None\n",
    "                       \n",
    "            if isinstance(connected_assets_list, list) and index in connected_assets:\n",
    "                if em_index not in matching_uuids_dict:\n",
    "                    matching_uuids_dict[em_index] = index\n",
    "                else:\n",
    "                    # If there are multiple occurrences, store them as a list\n",
    "                    if not isinstance(matching_uuids_dict[em_index], list):\n",
    "                        raise ValueError(\"uuid is included more then once in em\")\n",
    "    return matching_uuids_dict\n",
    "    \n",
    "emToHp = create_em_to_systemparticipant_dict(data_input_em,data_input_hp)    \n",
    "emToEv = create_em_to_systemparticipant_dict(data_input_em,data_input_ev)\n",
    "emToBs = create_em_to_systemparticipant_dict(data_input_em,data_input_bs)\n",
    "emToPv = create_em_to_systemparticipant_dict(data_input_em,data_input_pv)\n",
    "emToLo = create_em_to_systemparticipant_dict(data_input_em,data_input_lo)\n",
    "\n",
    "\n"
   ],
   "metadata": {
    "collapsed": false,
    "ExecuteTime": {
     "end_time": "2023-11-22T08:30:31.883316600Z",
     "start_time": "2023-11-22T08:30:31.714336200Z"
    }
   },
   "id": "ae2881725fb55e24"
  },
  {
   "cell_type": "code",
   "execution_count": 4,
   "outputs": [],
   "source": [
    "import csv\n",
    "import datetime\n",
    "\n",
    "def read_sort_time_series(filename, data_input):\n",
    "     # Read the CSV file\n",
    "    with open(filename, 'r') as file:\n",
    "        reader = csv.reader(file)\n",
    "        hdr = next(reader)\n",
    "        num = len(hdr) - 1  # Number of columns\n",
    "        \n",
    "        # Interpret timestamp\n",
    "        timestamp = [datetime.strptime(row[0], '%Y-%m-%d %H:%M:%S') for row in reader]\n",
    "\n",
    "    # Get UnitIDs\n",
    "    unitIDs = hdr[1:]\n",
    "    nUnits = len(unitIDs)\n",
    "\n",
    "    # Read data and handle exceptions\n",
    "    with open(filename, 'r') as file:\n",
    "        reader = csv.reader(file)\n",
    "        next(reader)  # Skip header\n",
    "        try:\n",
    "            time_series = [[float(val) for val in row[1:]] for row in reader]\n",
    "        except ValueError:\n",
    "            data = list(reader)\n",
    "            L = [len(row) - 1 for row in data]\n",
    "            time_series = []\n",
    "            for i, row in enumerate(data):\n",
    "                vals = [float(val) if val else float('nan') for val in row[1:]]\n",
    "                vals.extend([float('nan')] * (max(L) - L[i]))\n",
    "                time_series.append(vals)\n",
    "\n",
    "    # Adjust sorting based on input data\n",
    "    time_series_sort = [[float('nan') for _ in range(nUnits)] for _ in range(len(time_series))]\n",
    "    for i in range(nUnits):\n",
    "        for j, uuid in enumerate(inputs['uuid']):\n",
    "            if uuid in unitIDs:\n",
    "                xx = unitIDs.index(uuid)\n",
    "                if xx < nUnits:\n",
    "                    time_series_sort[:, i] = time_series[:, xx]\n",
    "\n",
    "    return time_series_sort"
   ],
   "metadata": {
    "collapsed": false,
    "ExecuteTime": {
     "end_time": "2023-11-22T08:30:31.887297Z",
     "start_time": "2023-11-22T08:30:31.854988900Z"
    }
   },
   "id": "b35581aae431b39f"
  },
  {
   "cell_type": "code",
   "execution_count": 5,
   "outputs": [],
   "source": [
    "import pandas as pd\n",
    "import numpy as np\n",
    "import os\n",
    "import csv\n",
    "from datetime import datetime\n",
    "from pypsdm.processing.series import (\n",
    "    add_series,)\n",
    "from pypsdm.models.result import (\n",
    "    entity,)\n",
    "from pypsdm.models import (\n",
    "    enums,)\n",
    "\n",
    "\n",
    "folder_res = r'C:\\tmp\\20231121_flex_testminigrid_2023-11-21_08-37-58\\rawOutputData'\n",
    "filename_hp = \"hp_res.csv\"\n",
    "filename_ev = \"evcs_res.csv\"\n",
    "filename_pv = \"pv_res.csv\"\n",
    "filename_lo = \"load_res.csv\"\n",
    "filename_bs = \"storage_res.csv\"\n",
    "\n",
    "filename = os.path.join(folder_res, filename_hp)   \n",
    "     \n",
    "timeseries_data = pd.read_csv(os.path.join(folder_res, filename_hp))\n",
    "#print(timeseries_data)\n",
    "\n",
    "#print(len(timeseries_data.loc[1,:].values[4]))\n",
    "\n",
    "\n",
    "\n",
    "# Function to add seconds if they're missing from the timestamp\n",
    "# Function to add seconds if they're missing from the timestamp\n",
    "def add_seconds(timestamp):\n",
    "    if len(timestamp) == 22 and timestamp.endswith('Z[UTC]'):  # Check if seconds are missing and ends with 'Z[UTC]'\n",
    "        timestamp = timestamp[:-6] + ':00' + timestamp[-6:]  # Insert ':00' before 'Z[UTC]'\n",
    "    return timestamp\n",
    "\n",
    "\n",
    "# Add seconds to all timestamps\n",
    "timeseries_data['time'] = timeseries_data['time'].apply(add_seconds)\n",
    "\n",
    "# Convert 'time' column to datetime format with optional seconds\n",
    "timeseries_data['time'] = pd.to_datetime(timeseries_data['time'], format='%Y-%m-%dT%H:%M:%SZ[UTC]')\n",
    "\n",
    "# Format 'time' column to the desired string format\n",
    "timeseries_data['time'] = timeseries_data['time'].dt.strftime('%Y-%m-%d %H:%M:%S')\n",
    "\n",
    "#specific_model = 'd3413988-ebcd-4aff-b5b5-d70364a3b7a2'  # Replace this with the specific entry you want to filter for\n",
    "#filtered_df = timeseries_data[timeseries_data['input_model'] == specific_model]\n",
    "#filtered_df.set_index(['time','input_model'],inplace=True)\n",
    "timeseries_data.set_index(['time','input_model'],inplace=True)\n",
    "\n",
    "\n",
    "\n",
    "#endtime = datetime(2020,1,1)\n",
    "endtime = datetime(2019,1,15)\n",
    "\n",
    "#d34=entity.ResultEntities.build(enums.SystemParticipantsEnum.HEAT_PUMP,specific_model, timeseries_data, endtime)\n",
    "#print(d34)\n",
    "\n"
   ],
   "metadata": {
    "collapsed": false,
    "ExecuteTime": {
     "end_time": "2023-11-22T08:30:32.146834500Z",
     "start_time": "2023-11-22T08:30:31.864300300Z"
    }
   },
   "id": "d1ca68d968f1a9f9"
  },
  {
   "cell_type": "code",
   "execution_count": 6,
   "outputs": [],
   "source": [
    "from pypsdm.models.input.container.participants import SystemParticipantsContainer\n",
    "from pypsdm.models.result.container.participants import ParticipantsResultContainer\n",
    "from pypsdm.models import gwr\n",
    "\n",
    "gwr = gwr.GridWithResults.from_csv('flex_minigrid', folder_inputs,',',folder_res,',', simulation_end=endtime)\n"
   ],
   "metadata": {
    "collapsed": false,
    "ExecuteTime": {
     "end_time": "2023-11-22T08:30:35.702461Z",
     "start_time": "2023-11-22T08:30:32.147832900Z"
    }
   },
   "id": "297e311ecd8164aa"
  },
  {
   "cell_type": "code",
   "execution_count": 7,
   "outputs": [
    {
     "data": {
      "text/plain": "PQResultDict(entity_type=<SystemParticipantsEnum.HEAT_PUMP: 'hp'>, entities={'0670158f-0436-40c0-ba85-9d15ce963171': PQResult(entity_type=<SystemParticipantsEnum.HEAT_PUMP: 'hp'>, input_model='0670158f-0436-40c0-ba85-9d15ce963171', name='HP_12_House_15_22', data=                       p    q  q_dot\ntime                                \n2019-01-01 00:00:00  0.0  0.0    0.0\n2019-01-01 00:15:00  0.0  0.0    0.0\n2019-01-01 00:30:00  0.0  0.0    0.0\n2019-01-01 00:45:00  0.0  0.0    0.0\n2019-01-01 01:00:00  0.0  0.0    0.0\n...                  ...  ...    ...\n2019-01-14 23:00:00  0.0  0.0    0.0\n2019-01-14 23:15:00  0.0  0.0    0.0\n2019-01-14 23:30:00  0.0  0.0    0.0\n2019-01-14 23:45:00  0.0  0.0    0.0\n2019-01-15 00:00:00  0.0  0.0    0.0\n\n[1357 rows x 3 columns]), '3f365251-f212-4a02-843c-25b8f0c18cbf': PQResult(entity_type=<SystemParticipantsEnum.HEAT_PUMP: 'hp'>, input_model='3f365251-f212-4a02-843c-25b8f0c18cbf', name='HP_11_House_15_21', data=                       p    q  q_dot\ntime                                \n2019-01-01 00:00:00  0.0  0.0    0.0\n2019-01-01 00:15:00  0.0  0.0    0.0\n2019-01-01 00:30:00  0.0  0.0    0.0\n2019-01-01 00:45:00  0.0  0.0    0.0\n2019-01-01 01:00:00  0.0  0.0    0.0\n...                  ...  ...    ...\n2019-01-14 23:00:00  0.0  0.0    0.0\n2019-01-14 23:15:00  0.0  0.0    0.0\n2019-01-14 23:30:00  0.0  0.0    0.0\n2019-01-14 23:45:00  0.0  0.0    0.0\n2019-01-15 00:00:00  0.0  0.0    0.0\n\n[1380 rows x 3 columns]), '41d8c4b4-40b1-4b8e-b5b3-0e8a3bd996ad': PQResult(entity_type=<SystemParticipantsEnum.HEAT_PUMP: 'hp'>, input_model='41d8c4b4-40b1-4b8e-b5b3-0e8a3bd996ad', name='HP_15_House_15_27', data=                       p    q  q_dot\ntime                                \n2019-01-01 00:00:00  0.0  0.0    0.0\n2019-01-01 00:15:00  0.0  0.0    0.0\n2019-01-01 00:30:00  0.0  0.0    0.0\n2019-01-01 00:45:00  0.0  0.0    0.0\n2019-01-01 01:00:00  0.0  0.0    0.0\n...                  ...  ...    ...\n2019-01-14 23:00:00  0.0  0.0    0.0\n2019-01-14 23:15:00  0.0  0.0    0.0\n2019-01-14 23:30:00  0.0  0.0    0.0\n2019-01-14 23:45:00  0.0  0.0    0.0\n2019-01-15 00:00:00  0.0  0.0    0.0\n\n[1363 rows x 3 columns]), '49d42979-dde4-478f-8c96-9558b25b9a36': PQResult(entity_type=<SystemParticipantsEnum.HEAT_PUMP: 'hp'>, input_model='49d42979-dde4-478f-8c96-9558b25b9a36', name='HP_2_House_15_2', data=                       p    q  q_dot\ntime                                \n2019-01-01 00:00:00  0.0  0.0    0.0\n2019-01-01 00:15:00  0.0  0.0    0.0\n2019-01-01 00:30:00  0.0  0.0    0.0\n2019-01-01 00:45:00  0.0  0.0    0.0\n2019-01-01 01:00:00  0.0  0.0    0.0\n...                  ...  ...    ...\n2019-01-14 23:00:00  0.0  0.0    0.0\n2019-01-14 23:15:00  0.0  0.0    0.0\n2019-01-14 23:30:00  0.0  0.0    0.0\n2019-01-14 23:45:00  0.0  0.0    0.0\n2019-01-15 00:00:00  0.0  0.0    0.0\n\n[1375 rows x 3 columns]), '6f0cbd20-974e-4645-828e-bc05eac9cd20': PQResult(entity_type=<SystemParticipantsEnum.HEAT_PUMP: 'hp'>, input_model='6f0cbd20-974e-4645-828e-bc05eac9cd20', name='HP_16_House_15_28', data=                       p    q  q_dot\ntime                                \n2019-01-01 00:00:00  0.0  0.0    0.0\n2019-01-01 00:15:00  0.0  0.0    0.0\n2019-01-01 00:30:00  0.0  0.0    0.0\n2019-01-01 00:45:00  0.0  0.0    0.0\n2019-01-01 01:00:00  0.0  0.0    0.0\n...                  ...  ...    ...\n2019-01-14 23:00:00  0.0  0.0    0.0\n2019-01-14 23:15:00  0.0  0.0    0.0\n2019-01-14 23:30:00  0.0  0.0    0.0\n2019-01-14 23:45:00  0.0  0.0    0.0\n2019-01-15 00:00:00  0.0  0.0    0.0\n\n[1351 rows x 3 columns]), '970b03b8-f4df-4080-be25-fd6043fda27f': PQResult(entity_type=<SystemParticipantsEnum.HEAT_PUMP: 'hp'>, input_model='970b03b8-f4df-4080-be25-fd6043fda27f', name='HP_7_House_15_7', data=                       p    q  q_dot\ntime                                \n2019-01-01 00:00:00  0.0  0.0    0.0\n2019-01-01 00:15:00  0.0  0.0    0.0\n2019-01-01 00:30:00  0.0  0.0    0.0\n2019-01-01 00:45:00  0.0  0.0    0.0\n2019-01-01 01:00:00  0.0  0.0    0.0\n...                  ...  ...    ...\n2019-01-14 23:00:00  0.0  0.0    0.0\n2019-01-14 23:15:00  0.0  0.0    0.0\n2019-01-14 23:30:00  0.0  0.0    0.0\n2019-01-14 23:45:00  0.0  0.0    0.0\n2019-01-15 00:00:00  0.0  0.0    0.0\n\n[1358 rows x 3 columns]), '970e4fcf-9b50-40cc-9342-36d0751e3320': PQResult(entity_type=<SystemParticipantsEnum.HEAT_PUMP: 'hp'>, input_model='970e4fcf-9b50-40cc-9342-36d0751e3320', name='HP_13_House_15_25', data=                            p         q     q_dot\ntime                                             \n2019-01-01 00:00:00  0.000000  0.000000  0.000000\n2019-01-01 00:15:00  0.000000  0.000000  0.000000\n2019-01-01 00:30:00  0.000000  0.000000  0.000000\n2019-01-01 00:45:00  0.000000  0.000000  0.000000\n2019-01-01 01:00:00  0.000000  0.000000  0.000000\n...                       ...       ...       ...\n2019-01-14 23:15:00  0.000000  0.000000  0.000000\n2019-01-14 23:21:00  0.005849  0.002833  0.019495\n2019-01-14 23:30:00  0.005849  0.002833  0.019495\n2019-01-14 23:45:00  0.005849  0.002833  0.019495\n2019-01-15 00:00:00  0.005849  0.002833  0.019495\n\n[1365 rows x 3 columns]), '9e4a11d4-4247-4bf9-941e-12a348e2be7d': PQResult(entity_type=<SystemParticipantsEnum.HEAT_PUMP: 'hp'>, input_model='9e4a11d4-4247-4bf9-941e-12a348e2be7d', name='HP_6_House_15_6', data=                       p    q  q_dot\ntime                                \n2019-01-01 00:00:00  0.0  0.0    0.0\n2019-01-01 00:15:00  0.0  0.0    0.0\n2019-01-01 00:30:00  0.0  0.0    0.0\n2019-01-01 00:45:00  0.0  0.0    0.0\n2019-01-01 01:00:00  0.0  0.0    0.0\n...                  ...  ...    ...\n2019-01-14 23:15:00  0.0  0.0    0.0\n2019-01-14 23:30:00  0.0  0.0    0.0\n2019-01-14 23:45:00  0.0  0.0    0.0\n2019-01-14 23:57:00  0.0  0.0    0.0\n2019-01-15 00:00:00  0.0  0.0    0.0\n\n[1374 rows x 3 columns]), 'a9c72168-db81-4c3f-9162-8425bf960259': PQResult(entity_type=<SystemParticipantsEnum.HEAT_PUMP: 'hp'>, input_model='a9c72168-db81-4c3f-9162-8425bf960259', name='HP_3_House_15_3', data=                       p    q  q_dot\ntime                                \n2019-01-01 00:00:00  0.0  0.0    0.0\n2019-01-01 00:15:00  0.0  0.0    0.0\n2019-01-01 00:30:00  0.0  0.0    0.0\n2019-01-01 00:45:00  0.0  0.0    0.0\n2019-01-01 01:00:00  0.0  0.0    0.0\n...                  ...  ...    ...\n2019-01-14 23:00:00  0.0  0.0    0.0\n2019-01-14 23:15:00  0.0  0.0    0.0\n2019-01-14 23:30:00  0.0  0.0    0.0\n2019-01-14 23:45:00  0.0  0.0    0.0\n2019-01-15 00:00:00  0.0  0.0    0.0\n\n[1366 rows x 3 columns]), 'b6ec179f-5fa5-423a-a656-52e72684bfc4': PQResult(entity_type=<SystemParticipantsEnum.HEAT_PUMP: 'hp'>, input_model='b6ec179f-5fa5-423a-a656-52e72684bfc4', name='HP_10_House_15_10', data=                            p         q     q_dot\ntime                                             \n2019-01-01 00:00:00  0.000000  0.000000  0.000000\n2019-01-01 00:15:00  0.000000  0.000000  0.000000\n2019-01-01 00:30:00  0.000000  0.000000  0.000000\n2019-01-01 00:45:00  0.000000  0.000000  0.000000\n2019-01-01 01:00:00  0.000000  0.000000  0.000000\n...                       ...       ...       ...\n2019-01-14 23:00:00  0.002584  0.001252  0.012921\n2019-01-14 23:15:00  0.002584  0.001252  0.012921\n2019-01-14 23:30:00  0.002584  0.001252  0.012921\n2019-01-14 23:45:00  0.002584  0.001252  0.012921\n2019-01-15 00:00:00  0.002584  0.001252  0.012921\n\n[1357 rows x 3 columns]), 'c1b44e30-657d-4213-b0dd-abe7c319665d': PQResult(entity_type=<SystemParticipantsEnum.HEAT_PUMP: 'hp'>, input_model='c1b44e30-657d-4213-b0dd-abe7c319665d', name='HP_4_House_15_4', data=                       p    q  q_dot\ntime                                \n2019-01-01 00:00:00  0.0  0.0    0.0\n2019-01-01 00:15:00  0.0  0.0    0.0\n2019-01-01 00:30:00  0.0  0.0    0.0\n2019-01-01 00:45:00  0.0  0.0    0.0\n2019-01-01 01:00:00  0.0  0.0    0.0\n...                  ...  ...    ...\n2019-01-14 23:00:00  0.0  0.0    0.0\n2019-01-14 23:15:00  0.0  0.0    0.0\n2019-01-14 23:30:00  0.0  0.0    0.0\n2019-01-14 23:45:00  0.0  0.0    0.0\n2019-01-15 00:00:00  0.0  0.0    0.0\n\n[1370 rows x 3 columns]), 'db8e3f1d-88c1-4aee-88bb-553192c350ea': PQResult(entity_type=<SystemParticipantsEnum.HEAT_PUMP: 'hp'>, input_model='db8e3f1d-88c1-4aee-88bb-553192c350ea', name='HP_8_House_15_8', data=                       p    q  q_dot\ntime                                \n2019-01-01 00:00:00  0.0  0.0    0.0\n2019-01-01 00:15:00  0.0  0.0    0.0\n2019-01-01 00:30:00  0.0  0.0    0.0\n2019-01-01 00:45:00  0.0  0.0    0.0\n2019-01-01 01:00:00  0.0  0.0    0.0\n...                  ...  ...    ...\n2019-01-14 23:00:00  0.0  0.0    0.0\n2019-01-14 23:15:00  0.0  0.0    0.0\n2019-01-14 23:30:00  0.0  0.0    0.0\n2019-01-14 23:45:00  0.0  0.0    0.0\n2019-01-15 00:00:00  0.0  0.0    0.0\n\n[1364 rows x 3 columns]), 'e0fd50f1-bbbe-4817-b378-38835d440c0c': PQResult(entity_type=<SystemParticipantsEnum.HEAT_PUMP: 'hp'>, input_model='e0fd50f1-bbbe-4817-b378-38835d440c0c', name='HP_5_House_15_5', data=                       p    q  q_dot\ntime                                \n2019-01-01 00:00:00  0.0  0.0    0.0\n2019-01-01 00:15:00  0.0  0.0    0.0\n2019-01-01 00:30:00  0.0  0.0    0.0\n2019-01-01 00:45:00  0.0  0.0    0.0\n2019-01-01 01:00:00  0.0  0.0    0.0\n...                  ...  ...    ...\n2019-01-14 23:00:00  0.0  0.0    0.0\n2019-01-14 23:15:00  0.0  0.0    0.0\n2019-01-14 23:30:00  0.0  0.0    0.0\n2019-01-14 23:45:00  0.0  0.0    0.0\n2019-01-15 00:00:00  0.0  0.0    0.0\n\n[1369 rows x 3 columns]), 'f1b05cea-58bd-404a-80af-dabb1182f9ec': PQResult(entity_type=<SystemParticipantsEnum.HEAT_PUMP: 'hp'>, input_model='f1b05cea-58bd-404a-80af-dabb1182f9ec', name='HP_1_House_15_1', data=                       p    q  q_dot\ntime                                \n2019-01-01 00:00:00  0.0  0.0    0.0\n2019-01-01 00:15:00  0.0  0.0    0.0\n2019-01-01 00:30:00  0.0  0.0    0.0\n2019-01-01 00:45:00  0.0  0.0    0.0\n2019-01-01 01:00:00  0.0  0.0    0.0\n...                  ...  ...    ...\n2019-01-14 23:00:00  0.0  0.0    0.0\n2019-01-14 23:15:00  0.0  0.0    0.0\n2019-01-14 23:30:00  0.0  0.0    0.0\n2019-01-14 23:45:00  0.0  0.0    0.0\n2019-01-15 00:00:00  0.0  0.0    0.0\n\n[1369 rows x 3 columns]), 'f405ae1a-a746-4d96-acba-8e7ba66e95e9': PQResult(entity_type=<SystemParticipantsEnum.HEAT_PUMP: 'hp'>, input_model='f405ae1a-a746-4d96-acba-8e7ba66e95e9', name='HP_9_House_15_9', data=                       p    q  q_dot\ntime                                \n2019-01-01 00:00:00  0.0  0.0    0.0\n2019-01-01 00:15:00  0.0  0.0    0.0\n2019-01-01 00:30:00  0.0  0.0    0.0\n2019-01-01 00:45:00  0.0  0.0    0.0\n2019-01-01 01:00:00  0.0  0.0    0.0\n...                  ...  ...    ...\n2019-01-14 23:00:00  0.0  0.0    0.0\n2019-01-14 23:15:00  0.0  0.0    0.0\n2019-01-14 23:30:00  0.0  0.0    0.0\n2019-01-14 23:45:00  0.0  0.0    0.0\n2019-01-15 00:00:00  0.0  0.0    0.0\n\n[1367 rows x 3 columns]), 'fc22ef58-d628-4ee8-88aa-9376b81b3172': PQResult(entity_type=<SystemParticipantsEnum.HEAT_PUMP: 'hp'>, input_model='fc22ef58-d628-4ee8-88aa-9376b81b3172', name='HP_14_House_15_26', data=                       p    q  q_dot\ntime                                \n2019-01-01 00:00:00  0.0  0.0    0.0\n2019-01-01 00:15:00  0.0  0.0    0.0\n2019-01-01 00:30:00  0.0  0.0    0.0\n2019-01-01 00:45:00  0.0  0.0    0.0\n2019-01-01 01:00:00  0.0  0.0    0.0\n...                  ...  ...    ...\n2019-01-14 23:00:00  0.0  0.0    0.0\n2019-01-14 23:15:00  0.0  0.0    0.0\n2019-01-14 23:30:00  0.0  0.0    0.0\n2019-01-14 23:45:00  0.0  0.0    0.0\n2019-01-15 00:00:00  0.0  0.0    0.0\n\n[1355 rows x 3 columns])})"
     },
     "execution_count": 7,
     "metadata": {},
     "output_type": "execute_result"
    }
   ],
   "source": [
    "gwr.results.participants.hps"
   ],
   "metadata": {
    "collapsed": false,
    "ExecuteTime": {
     "end_time": "2023-11-22T08:30:35.745533200Z",
     "start_time": "2023-11-22T08:30:35.702461Z"
    }
   },
   "id": "99a2e842499e3a22"
  },
  {
   "cell_type": "code",
   "execution_count": 8,
   "outputs": [
    {
     "data": {
      "text/plain": "[(1, 1, 1, 1),\n (1, 1, 1, 0),\n (1, 1, 0, 1),\n (1, 1, 0, 0),\n (1, 0, 1, 1),\n (1, 0, 1, 0),\n (1, 0, 0, 1),\n (1, 0, 0, 0),\n (0, 1, 1, 1),\n (0, 1, 1, 0),\n (0, 1, 0, 1),\n (0, 1, 0, 0),\n (0, 0, 1, 1),\n (0, 0, 1, 0)]"
     },
     "execution_count": 8,
     "metadata": {},
     "output_type": "execute_result"
    }
   ],
   "source": [
    "# Vorhandene Fälle\n",
    "# PV immer an\n",
    "# 1. Spalte: BS\n",
    "# 2. Spalte: EV\n",
    "# 3. Spalte: HP vorhanden\n",
    "# 4. Spalte: neue HP & Dämmung\n",
    "\n",
    "\n",
    "cases = [\n",
    "    (1, 1, 1, 1),\n",
    "    (1, 1, 1, 0),\n",
    "    (1, 1, 0, 1),\n",
    "    (1, 1, 0, 0),\n",
    "    (1, 0, 1, 1),\n",
    "    (1, 0, 1, 0),\n",
    "    (1, 0, 0, 1),\n",
    "    (1, 0, 0, 0),\n",
    "    (0, 1, 1, 1),\n",
    "    (0, 1, 1, 0),\n",
    "    (0, 1, 0, 1),\n",
    "    (0, 1, 0, 0),\n",
    "    (0, 0, 1, 1),\n",
    "    (0, 0, 1, 0),\n",
    "    (0, 0, 0, 1),\n",
    "    (0, 0, 0, 0),\n",
    "]\n",
    "\n",
    "# Resultierende Fälle für GLZ => Remove wenn 3. Spalte == 1 und Spalte 1 und 2 nicht 1\n",
    "\n",
    "filtered_cases = [case for case in cases if case[2] != 0 or case[0] == 1 or case[1] == 1]\n",
    "\n",
    "filtered_cases\n",
    "\n",
    "# Fälle Binär-codiert (1,1,1,1 ==15)\n",
    "# Gemeinsame Analyse von \n",
    "# Fall 14 und Fall 15 (identisch nur neue oder alte WP & Dämmung) => BS + EV + WP\n",
    "# 13 und 12 (identisch) => BS + EV\n",
    "# 11 und 10 (identisch nur neue oder alte WP & Dämmung) BS + WP \n",
    "# 9 und 8 (identisch) => Nur BS\n",
    "# 7 und 6 (identisch nur neue oder alte WP & Dämmung) => EV + WP \n",
    "# 4 und 5 (identisch) => Nur EV\n",
    "# 2 und 3 (identisch nur neue oder alte WP & Dämmung) => Nur WP\n",
    "\n",
    "\n"
   ],
   "metadata": {
    "collapsed": false,
    "ExecuteTime": {
     "end_time": "2023-11-22T08:30:35.755964900Z",
     "start_time": "2023-11-22T08:30:35.742533Z"
    }
   },
   "id": "e67214a79dfe38df"
  },
  {
   "cell_type": "code",
   "execution_count": 9,
   "outputs": [
    {
     "data": {
      "text/plain": "                                      0  1  2  3\nem_uuid                                         \n82a5963e-8b34-4909-a6fe-f8a5d630714f  1  1  1  1\na20a27bc-d8dc-474a-a067-13768efa12b0  1  1  1  1\n368b7d20-246c-47b4-99d9-59ecb09d262f  1  1  1  1\n7578de94-39da-461a-a7e9-35887d5cd069  1  1  1  1\n32bdf883-bf93-41d4-8df0-341c643c0dde  1  1  1  1\nfc066082-5114-46dc-81e9-aadd5bdb5a5c  1  1  1  0\nc91910c7-8052-439d-bbb5-82a9a6f33805  1  1  1  0\n97cbb95f-ba3d-4cf2-ab8a-ebf6cd581bf2  1  1  1  0\nda9b5c51-9fcc-4b3f-9fcb-331b5fe9071e  1  1  1  0\n268ac12a-5617-4de7-a63a-27a2ae13fbf9  1  1  1  0\n54c41a9b-071b-4ac4-ba52-daa5adf82281  1  1  0  1\ne791a888-38dd-481a-9558-e15e3780d887  1  1  0  1\na03331b0-29a1-4547-a439-d6ec01c7b5ec  1  1  0  1\n2717884a-acd0-475a-809b-e4c3e904aa1e  1  1  0  1\n3f846f16-d139-47d7-ab3f-5cdd0c695d86  1  1  0  1\n5468b04e-ade9-4443-86ac-365b443b0dc2  1  1  0  0\nb62da8a1-8b4c-47cb-8bd7-8a9e5bc71ad2  1  1  0  0\ne1600448-5fa5-4ba2-8938-eaf768f2d7fa  1  1  0  0\n53d9ead4-a565-4a00-9e31-4b6336d94503  1  1  0  0\n9a824deb-3993-481e-9652-25a456922dd4  1  1  0  0\nf596c0f1-efc1-4314-a92f-254469585926  1  0  1  1\ne2a21ad1-c3a8-436d-8473-ea7613c31694  1  0  1  0\n76a09edf-b8e1-4cd7-9a86-57f941662fb9  1  0  0  1\n2a103ae2-9dc4-44f7-b31e-94fd0d8419df  1  0  0  0\n92a39693-16e3-4c07-99c2-325ed6e8802b  0  1  1  1\ne693fac5-2693-4712-bab8-814f1c06af2b  0  1  1  1\n1d5b5cdf-abac-461d-873e-1f7ffa251af4  0  1  1  0\nc4e4b6fc-b842-41ae-8a80-4f82a22ec3f9  0  1  1  0\n4c0f6062-6bf7-4b1a-9af4-0501e4b7a271  0  1  0  1\n88042d00-c162-4c58-b8c3-9d1bdd3b27ff  0  1  0  1\n3cc0c421-1a21-467e-b609-e5b90ac0107d  0  1  0  0\na35276d4-6816-4a9f-9b4e-2974ed898c06  0  1  0  0",
      "text/html": "<div>\n<style scoped>\n    .dataframe tbody tr th:only-of-type {\n        vertical-align: middle;\n    }\n\n    .dataframe tbody tr th {\n        vertical-align: top;\n    }\n\n    .dataframe thead th {\n        text-align: right;\n    }\n</style>\n<table border=\"1\" class=\"dataframe\">\n  <thead>\n    <tr style=\"text-align: right;\">\n      <th></th>\n      <th>0</th>\n      <th>1</th>\n      <th>2</th>\n      <th>3</th>\n    </tr>\n    <tr>\n      <th>em_uuid</th>\n      <th></th>\n      <th></th>\n      <th></th>\n      <th></th>\n    </tr>\n  </thead>\n  <tbody>\n    <tr>\n      <th>82a5963e-8b34-4909-a6fe-f8a5d630714f</th>\n      <td>1</td>\n      <td>1</td>\n      <td>1</td>\n      <td>1</td>\n    </tr>\n    <tr>\n      <th>a20a27bc-d8dc-474a-a067-13768efa12b0</th>\n      <td>1</td>\n      <td>1</td>\n      <td>1</td>\n      <td>1</td>\n    </tr>\n    <tr>\n      <th>368b7d20-246c-47b4-99d9-59ecb09d262f</th>\n      <td>1</td>\n      <td>1</td>\n      <td>1</td>\n      <td>1</td>\n    </tr>\n    <tr>\n      <th>7578de94-39da-461a-a7e9-35887d5cd069</th>\n      <td>1</td>\n      <td>1</td>\n      <td>1</td>\n      <td>1</td>\n    </tr>\n    <tr>\n      <th>32bdf883-bf93-41d4-8df0-341c643c0dde</th>\n      <td>1</td>\n      <td>1</td>\n      <td>1</td>\n      <td>1</td>\n    </tr>\n    <tr>\n      <th>fc066082-5114-46dc-81e9-aadd5bdb5a5c</th>\n      <td>1</td>\n      <td>1</td>\n      <td>1</td>\n      <td>0</td>\n    </tr>\n    <tr>\n      <th>c91910c7-8052-439d-bbb5-82a9a6f33805</th>\n      <td>1</td>\n      <td>1</td>\n      <td>1</td>\n      <td>0</td>\n    </tr>\n    <tr>\n      <th>97cbb95f-ba3d-4cf2-ab8a-ebf6cd581bf2</th>\n      <td>1</td>\n      <td>1</td>\n      <td>1</td>\n      <td>0</td>\n    </tr>\n    <tr>\n      <th>da9b5c51-9fcc-4b3f-9fcb-331b5fe9071e</th>\n      <td>1</td>\n      <td>1</td>\n      <td>1</td>\n      <td>0</td>\n    </tr>\n    <tr>\n      <th>268ac12a-5617-4de7-a63a-27a2ae13fbf9</th>\n      <td>1</td>\n      <td>1</td>\n      <td>1</td>\n      <td>0</td>\n    </tr>\n    <tr>\n      <th>54c41a9b-071b-4ac4-ba52-daa5adf82281</th>\n      <td>1</td>\n      <td>1</td>\n      <td>0</td>\n      <td>1</td>\n    </tr>\n    <tr>\n      <th>e791a888-38dd-481a-9558-e15e3780d887</th>\n      <td>1</td>\n      <td>1</td>\n      <td>0</td>\n      <td>1</td>\n    </tr>\n    <tr>\n      <th>a03331b0-29a1-4547-a439-d6ec01c7b5ec</th>\n      <td>1</td>\n      <td>1</td>\n      <td>0</td>\n      <td>1</td>\n    </tr>\n    <tr>\n      <th>2717884a-acd0-475a-809b-e4c3e904aa1e</th>\n      <td>1</td>\n      <td>1</td>\n      <td>0</td>\n      <td>1</td>\n    </tr>\n    <tr>\n      <th>3f846f16-d139-47d7-ab3f-5cdd0c695d86</th>\n      <td>1</td>\n      <td>1</td>\n      <td>0</td>\n      <td>1</td>\n    </tr>\n    <tr>\n      <th>5468b04e-ade9-4443-86ac-365b443b0dc2</th>\n      <td>1</td>\n      <td>1</td>\n      <td>0</td>\n      <td>0</td>\n    </tr>\n    <tr>\n      <th>b62da8a1-8b4c-47cb-8bd7-8a9e5bc71ad2</th>\n      <td>1</td>\n      <td>1</td>\n      <td>0</td>\n      <td>0</td>\n    </tr>\n    <tr>\n      <th>e1600448-5fa5-4ba2-8938-eaf768f2d7fa</th>\n      <td>1</td>\n      <td>1</td>\n      <td>0</td>\n      <td>0</td>\n    </tr>\n    <tr>\n      <th>53d9ead4-a565-4a00-9e31-4b6336d94503</th>\n      <td>1</td>\n      <td>1</td>\n      <td>0</td>\n      <td>0</td>\n    </tr>\n    <tr>\n      <th>9a824deb-3993-481e-9652-25a456922dd4</th>\n      <td>1</td>\n      <td>1</td>\n      <td>0</td>\n      <td>0</td>\n    </tr>\n    <tr>\n      <th>f596c0f1-efc1-4314-a92f-254469585926</th>\n      <td>1</td>\n      <td>0</td>\n      <td>1</td>\n      <td>1</td>\n    </tr>\n    <tr>\n      <th>e2a21ad1-c3a8-436d-8473-ea7613c31694</th>\n      <td>1</td>\n      <td>0</td>\n      <td>1</td>\n      <td>0</td>\n    </tr>\n    <tr>\n      <th>76a09edf-b8e1-4cd7-9a86-57f941662fb9</th>\n      <td>1</td>\n      <td>0</td>\n      <td>0</td>\n      <td>1</td>\n    </tr>\n    <tr>\n      <th>2a103ae2-9dc4-44f7-b31e-94fd0d8419df</th>\n      <td>1</td>\n      <td>0</td>\n      <td>0</td>\n      <td>0</td>\n    </tr>\n    <tr>\n      <th>92a39693-16e3-4c07-99c2-325ed6e8802b</th>\n      <td>0</td>\n      <td>1</td>\n      <td>1</td>\n      <td>1</td>\n    </tr>\n    <tr>\n      <th>e693fac5-2693-4712-bab8-814f1c06af2b</th>\n      <td>0</td>\n      <td>1</td>\n      <td>1</td>\n      <td>1</td>\n    </tr>\n    <tr>\n      <th>1d5b5cdf-abac-461d-873e-1f7ffa251af4</th>\n      <td>0</td>\n      <td>1</td>\n      <td>1</td>\n      <td>0</td>\n    </tr>\n    <tr>\n      <th>c4e4b6fc-b842-41ae-8a80-4f82a22ec3f9</th>\n      <td>0</td>\n      <td>1</td>\n      <td>1</td>\n      <td>0</td>\n    </tr>\n    <tr>\n      <th>4c0f6062-6bf7-4b1a-9af4-0501e4b7a271</th>\n      <td>0</td>\n      <td>1</td>\n      <td>0</td>\n      <td>1</td>\n    </tr>\n    <tr>\n      <th>88042d00-c162-4c58-b8c3-9d1bdd3b27ff</th>\n      <td>0</td>\n      <td>1</td>\n      <td>0</td>\n      <td>1</td>\n    </tr>\n    <tr>\n      <th>3cc0c421-1a21-467e-b609-e5b90ac0107d</th>\n      <td>0</td>\n      <td>1</td>\n      <td>0</td>\n      <td>0</td>\n    </tr>\n    <tr>\n      <th>a35276d4-6816-4a9f-9b4e-2974ed898c06</th>\n      <td>0</td>\n      <td>1</td>\n      <td>0</td>\n      <td>0</td>\n    </tr>\n  </tbody>\n</table>\n</div>"
     },
     "execution_count": 9,
     "metadata": {},
     "output_type": "execute_result"
    }
   ],
   "source": [
    "\n",
    "folder_glz_cases = r'C:\\tmp\\20231121_flex_testminigrid_2023-11-21_08-37-58\\input\\GLZ'\n",
    "file_name_glz_cases = 'em_to_case_dict.csv'\n",
    "em_cases_dict = pd.read_csv(os.path.join(folder_glz_cases, file_name_glz_cases), index_col=0).rename_axis(index='em_uuid')\n",
    "\n",
    "em_cases_dict"
   ],
   "metadata": {
    "collapsed": false,
    "ExecuteTime": {
     "end_time": "2023-11-22T08:30:35.761313Z",
     "start_time": "2023-11-22T08:30:35.752965Z"
    }
   },
   "id": "16acef8733d8dce7"
  },
  {
   "cell_type": "code",
   "execution_count": 97,
   "outputs": [
    {
     "data": {
      "text/plain": "                            p         q\ntime                                   \n2019-01-01 00:00:00  0.000844  0.000409\n2019-01-01 00:15:00  0.000759  0.000368\n2019-01-01 00:30:00  0.000686  0.000332\n2019-01-01 00:45:00  0.000623  0.000302\n2019-01-01 01:00:00  0.000577  0.000279\n...                       ...       ...\n2019-01-14 23:00:00  0.001237  0.000599\n2019-01-14 23:15:00  0.001139  0.000552\n2019-01-14 23:30:00  0.001042  0.000505\n2019-01-14 23:45:00  0.000946  0.000458\n2019-01-15 00:00:00  0.000946  0.000458\n\n[1369 rows x 2 columns]",
      "text/html": "<div>\n<style scoped>\n    .dataframe tbody tr th:only-of-type {\n        vertical-align: middle;\n    }\n\n    .dataframe tbody tr th {\n        vertical-align: top;\n    }\n\n    .dataframe thead th {\n        text-align: right;\n    }\n</style>\n<table border=\"1\" class=\"dataframe\">\n  <thead>\n    <tr style=\"text-align: right;\">\n      <th></th>\n      <th>p</th>\n      <th>q</th>\n    </tr>\n    <tr>\n      <th>time</th>\n      <th></th>\n      <th></th>\n    </tr>\n  </thead>\n  <tbody>\n    <tr>\n      <th>2019-01-01 00:00:00</th>\n      <td>0.000844</td>\n      <td>0.000409</td>\n    </tr>\n    <tr>\n      <th>2019-01-01 00:15:00</th>\n      <td>0.000759</td>\n      <td>0.000368</td>\n    </tr>\n    <tr>\n      <th>2019-01-01 00:30:00</th>\n      <td>0.000686</td>\n      <td>0.000332</td>\n    </tr>\n    <tr>\n      <th>2019-01-01 00:45:00</th>\n      <td>0.000623</td>\n      <td>0.000302</td>\n    </tr>\n    <tr>\n      <th>2019-01-01 01:00:00</th>\n      <td>0.000577</td>\n      <td>0.000279</td>\n    </tr>\n    <tr>\n      <th>...</th>\n      <td>...</td>\n      <td>...</td>\n    </tr>\n    <tr>\n      <th>2019-01-14 23:00:00</th>\n      <td>0.001237</td>\n      <td>0.000599</td>\n    </tr>\n    <tr>\n      <th>2019-01-14 23:15:00</th>\n      <td>0.001139</td>\n      <td>0.000552</td>\n    </tr>\n    <tr>\n      <th>2019-01-14 23:30:00</th>\n      <td>0.001042</td>\n      <td>0.000505</td>\n    </tr>\n    <tr>\n      <th>2019-01-14 23:45:00</th>\n      <td>0.000946</td>\n      <td>0.000458</td>\n    </tr>\n    <tr>\n      <th>2019-01-15 00:00:00</th>\n      <td>0.000946</td>\n      <td>0.000458</td>\n    </tr>\n  </tbody>\n</table>\n<p>1369 rows × 2 columns</p>\n</div>"
     },
     "execution_count": 97,
     "metadata": {},
     "output_type": "execute_result"
    }
   ],
   "source": [
    "ems_grid = gwr.grid.participants.ems\n",
    "ems_results=gwr.results.participants.ems\n",
    "\n",
    "test_uuid = '82a5963e-8b34-4909-a6fe-f8a5d630714f'\n",
    "\n",
    "ems_results.get(test_uuid).data\n",
    "\n",
    "\n",
    "\n"
   ],
   "metadata": {
    "collapsed": false,
    "ExecuteTime": {
     "end_time": "2023-11-22T09:43:59.459576500Z",
     "start_time": "2023-11-22T09:43:59.450579400Z"
    }
   },
   "id": "ebdbb77332b1db6c"
  },
  {
   "cell_type": "code",
   "execution_count": 98,
   "outputs": [
    {
     "data": {
      "text/plain": "                     1d5b5cdf-abac-461d-873e-1f7ffa251af4  \\\ntime                                                        \n2019-01-01 00:00:00                              0.000844   \n2019-01-01 00:15:00                              0.000759   \n2019-01-01 00:30:00                              0.000686   \n2019-01-01 00:45:00                              0.000623   \n2019-01-01 01:00:00                              0.000577   \n...                                                   ...   \n2019-01-14 23:00:00                              0.001237   \n2019-01-14 23:15:00                              0.001139   \n2019-01-14 23:30:00                              0.001042   \n2019-01-14 23:45:00                              0.000946   \n2019-01-15 00:00:00                              0.000946   \n\n                     268ac12a-5617-4de7-a63a-27a2ae13fbf9  \\\ntime                                                        \n2019-01-01 00:00:00                              0.000844   \n2019-01-01 00:15:00                              0.000759   \n2019-01-01 00:30:00                              0.000686   \n2019-01-01 00:45:00                              0.000623   \n2019-01-01 01:00:00                              0.000577   \n...                                                   ...   \n2019-01-14 23:00:00                              0.003822   \n2019-01-14 23:15:00                              0.003723   \n2019-01-14 23:30:00                              0.003627   \n2019-01-14 23:45:00                              0.003530   \n2019-01-15 00:00:00                              0.003530   \n\n                     2717884a-acd0-475a-809b-e4c3e904aa1e  \\\ntime                                                        \n2019-01-01 00:00:00                              0.000844   \n2019-01-01 00:15:00                              0.000759   \n2019-01-01 00:30:00                              0.000686   \n2019-01-01 00:45:00                              0.000623   \n2019-01-01 01:00:00                              0.000577   \n...                                                   ...   \n2019-01-14 23:00:00                              0.001237   \n2019-01-14 23:15:00                              0.001139   \n2019-01-14 23:30:00                              0.001042   \n2019-01-14 23:45:00                              0.000946   \n2019-01-15 00:00:00                              0.000946   \n\n                     2a103ae2-9dc4-44f7-b31e-94fd0d8419df  \\\ntime                                                        \n2019-01-01 00:00:00                              0.000844   \n2019-01-01 00:15:00                              0.000759   \n2019-01-01 00:30:00                              0.000686   \n2019-01-01 00:45:00                              0.000623   \n2019-01-01 01:00:00                              0.000577   \n...                                                   ...   \n2019-01-14 23:00:00                              0.001237   \n2019-01-14 23:15:00                              0.001139   \n2019-01-14 23:30:00                              0.001042   \n2019-01-14 23:45:00                              0.000946   \n2019-01-15 00:00:00                              0.000946   \n\n                     32bdf883-bf93-41d4-8df0-341c643c0dde  \\\ntime                                                        \n2019-01-01 00:00:00                              0.000844   \n2019-01-01 00:15:00                              0.000759   \n2019-01-01 00:30:00                              0.000686   \n2019-01-01 00:45:00                              0.000623   \n2019-01-01 01:00:00                              0.000577   \n...                                                   ...   \n2019-01-14 23:00:00                              0.001237   \n2019-01-14 23:15:00                              0.001139   \n2019-01-14 23:30:00                              0.001042   \n2019-01-14 23:45:00                              0.000946   \n2019-01-15 00:00:00                              0.000946   \n\n                     368b7d20-246c-47b4-99d9-59ecb09d262f  \\\ntime                                                        \n2019-01-01 00:00:00                              0.000844   \n2019-01-01 00:15:00                              0.000759   \n2019-01-01 00:30:00                              0.000686   \n2019-01-01 00:45:00                              0.000623   \n2019-01-01 01:00:00                              0.000577   \n...                                                   ...   \n2019-01-14 23:00:00                              0.001237   \n2019-01-14 23:15:00                              0.001139   \n2019-01-14 23:30:00                              0.001042   \n2019-01-14 23:45:00                              0.000946   \n2019-01-15 00:00:00                              0.000946   \n\n                     3cc0c421-1a21-467e-b609-e5b90ac0107d  \\\ntime                                                        \n2019-01-01 00:00:00                              0.000844   \n2019-01-01 00:15:00                              0.000759   \n2019-01-01 00:30:00                              0.000686   \n2019-01-01 00:45:00                              0.000623   \n2019-01-01 01:00:00                              0.000577   \n...                                                   ...   \n2019-01-14 23:00:00                              0.001237   \n2019-01-14 23:15:00                              0.001139   \n2019-01-14 23:30:00                              0.001042   \n2019-01-14 23:45:00                              0.000946   \n2019-01-15 00:00:00                              0.000946   \n\n                     3f846f16-d139-47d7-ab3f-5cdd0c695d86  \\\ntime                                                        \n2019-01-01 00:00:00                              0.000844   \n2019-01-01 00:15:00                              0.000759   \n2019-01-01 00:30:00                              0.000686   \n2019-01-01 00:45:00                              0.000623   \n2019-01-01 01:00:00                              0.000577   \n...                                                   ...   \n2019-01-14 23:00:00                              0.001237   \n2019-01-14 23:15:00                              0.001139   \n2019-01-14 23:30:00                              0.001042   \n2019-01-14 23:45:00                              0.000946   \n2019-01-15 00:00:00                              0.000946   \n\n                     4c0f6062-6bf7-4b1a-9af4-0501e4b7a271  \\\ntime                                                        \n2019-01-01 00:00:00                              0.000844   \n2019-01-01 00:15:00                              0.000759   \n2019-01-01 00:30:00                              0.000686   \n2019-01-01 00:45:00                              0.000623   \n2019-01-01 01:00:00                              0.000577   \n...                                                   ...   \n2019-01-14 23:00:00                              0.001237   \n2019-01-14 23:15:00                              0.001139   \n2019-01-14 23:30:00                              0.001042   \n2019-01-14 23:45:00                              0.000946   \n2019-01-15 00:00:00                              0.000946   \n\n                     53d9ead4-a565-4a00-9e31-4b6336d94503  ...  \\\ntime                                                       ...   \n2019-01-01 00:00:00                              0.000844  ...   \n2019-01-01 00:15:00                              0.000759  ...   \n2019-01-01 00:30:00                              0.000686  ...   \n2019-01-01 00:45:00                              0.000623  ...   \n2019-01-01 01:00:00                              0.000577  ...   \n...                                                   ...  ...   \n2019-01-14 23:00:00                              0.001237  ...   \n2019-01-14 23:15:00                              0.001139  ...   \n2019-01-14 23:30:00                              0.001042  ...   \n2019-01-14 23:45:00                              0.000946  ...   \n2019-01-15 00:00:00                              0.000946  ...   \n\n                     b62da8a1-8b4c-47cb-8bd7-8a9e5bc71ad2  \\\ntime                                                        \n2019-01-01 00:00:00                              0.000844   \n2019-01-01 00:15:00                              0.000759   \n2019-01-01 00:30:00                              0.000686   \n2019-01-01 00:45:00                              0.000623   \n2019-01-01 01:00:00                              0.000577   \n...                                                   ...   \n2019-01-14 23:00:00                              0.001237   \n2019-01-14 23:15:00                              0.001139   \n2019-01-14 23:30:00                              0.001042   \n2019-01-14 23:45:00                              0.000946   \n2019-01-15 00:00:00                              0.000946   \n\n                     c4e4b6fc-b842-41ae-8a80-4f82a22ec3f9  \\\ntime                                                        \n2019-01-01 00:00:00                              0.000844   \n2019-01-01 00:15:00                              0.000759   \n2019-01-01 00:30:00                              0.000686   \n2019-01-01 00:45:00                              0.000623   \n2019-01-01 01:00:00                              0.000577   \n...                                                   ...   \n2019-01-14 23:00:00                              0.001237   \n2019-01-14 23:15:00                              0.001139   \n2019-01-14 23:30:00                              0.001042   \n2019-01-14 23:45:00                              0.000946   \n2019-01-15 00:00:00                              0.000946   \n\n                     c91910c7-8052-439d-bbb5-82a9a6f33805  \\\ntime                                                        \n2019-01-01 00:00:00                              0.000844   \n2019-01-01 00:15:00                              0.000759   \n2019-01-01 00:30:00                              0.000686   \n2019-01-01 00:45:00                              0.000623   \n2019-01-01 01:00:00                              0.000577   \n...                                                   ...   \n2019-01-14 23:00:00                              0.001237   \n2019-01-14 23:15:00                              0.001139   \n2019-01-14 23:30:00                              0.001042   \n2019-01-14 23:45:00                              0.000946   \n2019-01-15 00:00:00                              0.000946   \n\n                     da9b5c51-9fcc-4b3f-9fcb-331b5fe9071e  \\\ntime                                                        \n2019-01-01 00:00:00                              0.000844   \n2019-01-01 00:15:00                              0.000759   \n2019-01-01 00:30:00                              0.000686   \n2019-01-01 00:45:00                              0.000623   \n2019-01-01 01:00:00                              0.000577   \n...                                                   ...   \n2019-01-14 23:00:00                              0.001237   \n2019-01-14 23:15:00                              0.001139   \n2019-01-14 23:30:00                              0.001042   \n2019-01-14 23:45:00                              0.000946   \n2019-01-15 00:00:00                              0.000946   \n\n                     e1600448-5fa5-4ba2-8938-eaf768f2d7fa  \\\ntime                                                        \n2019-01-01 00:00:00                              0.000844   \n2019-01-01 00:15:00                              0.000759   \n2019-01-01 00:30:00                              0.000686   \n2019-01-01 00:45:00                              0.000623   \n2019-01-01 01:00:00                              0.000577   \n...                                                   ...   \n2019-01-14 23:00:00                              0.001237   \n2019-01-14 23:15:00                              0.001139   \n2019-01-14 23:30:00                              0.001042   \n2019-01-14 23:45:00                              0.000946   \n2019-01-15 00:00:00                              0.000946   \n\n                     e2a21ad1-c3a8-436d-8473-ea7613c31694  \\\ntime                                                        \n2019-01-01 00:00:00                              0.000844   \n2019-01-01 00:15:00                              0.000759   \n2019-01-01 00:30:00                              0.000686   \n2019-01-01 00:45:00                              0.000623   \n2019-01-01 01:00:00                              0.000577   \n...                                                   ...   \n2019-01-14 23:00:00                              0.001237   \n2019-01-14 23:15:00                              0.001139   \n2019-01-14 23:30:00                              0.001042   \n2019-01-14 23:45:00                              0.000946   \n2019-01-15 00:00:00                              0.000946   \n\n                     e693fac5-2693-4712-bab8-814f1c06af2b  \\\ntime                                                        \n2019-01-01 00:00:00                              0.000844   \n2019-01-01 00:15:00                              0.000759   \n2019-01-01 00:30:00                              0.000686   \n2019-01-01 00:45:00                              0.000623   \n2019-01-01 01:00:00                              0.000577   \n...                                                   ...   \n2019-01-14 23:00:00                              0.001237   \n2019-01-14 23:15:00                              0.001139   \n2019-01-14 23:30:00                              0.001042   \n2019-01-14 23:45:00                              0.000946   \n2019-01-15 00:00:00                              0.000946   \n\n                     e791a888-38dd-481a-9558-e15e3780d887  \\\ntime                                                        \n2019-01-01 00:00:00                              0.000844   \n2019-01-01 00:15:00                              0.000759   \n2019-01-01 00:30:00                              0.000686   \n2019-01-01 00:45:00                              0.000623   \n2019-01-01 01:00:00                              0.000577   \n...                                                   ...   \n2019-01-14 23:00:00                              0.001237   \n2019-01-14 23:15:00                              0.001139   \n2019-01-14 23:30:00                              0.001042   \n2019-01-14 23:45:00                              0.000946   \n2019-01-15 00:00:00                              0.000946   \n\n                     f596c0f1-efc1-4314-a92f-254469585926  \\\ntime                                                        \n2019-01-01 00:00:00                              0.000844   \n2019-01-01 00:15:00                              0.000759   \n2019-01-01 00:30:00                              0.000686   \n2019-01-01 00:45:00                              0.000623   \n2019-01-01 01:00:00                              0.000577   \n...                                                   ...   \n2019-01-14 23:00:00                              0.001237   \n2019-01-14 23:15:00                              0.001139   \n2019-01-14 23:30:00                              0.001042   \n2019-01-14 23:45:00                              0.000946   \n2019-01-15 00:00:00                              0.000946   \n\n                     fc066082-5114-46dc-81e9-aadd5bdb5a5c  \ntime                                                       \n2019-01-01 00:00:00                              0.000844  \n2019-01-01 00:15:00                              0.000759  \n2019-01-01 00:30:00                              0.000686  \n2019-01-01 00:45:00                              0.000623  \n2019-01-01 01:00:00                              0.000577  \n...                                                   ...  \n2019-01-14 23:00:00                              0.001237  \n2019-01-14 23:15:00                              0.001139  \n2019-01-14 23:30:00                              0.012042  \n2019-01-14 23:45:00                              0.009746  \n2019-01-15 00:00:00                              0.000946  \n\n[1345 rows x 32 columns]",
      "text/html": "<div>\n<style scoped>\n    .dataframe tbody tr th:only-of-type {\n        vertical-align: middle;\n    }\n\n    .dataframe tbody tr th {\n        vertical-align: top;\n    }\n\n    .dataframe thead th {\n        text-align: right;\n    }\n</style>\n<table border=\"1\" class=\"dataframe\">\n  <thead>\n    <tr style=\"text-align: right;\">\n      <th></th>\n      <th>1d5b5cdf-abac-461d-873e-1f7ffa251af4</th>\n      <th>268ac12a-5617-4de7-a63a-27a2ae13fbf9</th>\n      <th>2717884a-acd0-475a-809b-e4c3e904aa1e</th>\n      <th>2a103ae2-9dc4-44f7-b31e-94fd0d8419df</th>\n      <th>32bdf883-bf93-41d4-8df0-341c643c0dde</th>\n      <th>368b7d20-246c-47b4-99d9-59ecb09d262f</th>\n      <th>3cc0c421-1a21-467e-b609-e5b90ac0107d</th>\n      <th>3f846f16-d139-47d7-ab3f-5cdd0c695d86</th>\n      <th>4c0f6062-6bf7-4b1a-9af4-0501e4b7a271</th>\n      <th>53d9ead4-a565-4a00-9e31-4b6336d94503</th>\n      <th>...</th>\n      <th>b62da8a1-8b4c-47cb-8bd7-8a9e5bc71ad2</th>\n      <th>c4e4b6fc-b842-41ae-8a80-4f82a22ec3f9</th>\n      <th>c91910c7-8052-439d-bbb5-82a9a6f33805</th>\n      <th>da9b5c51-9fcc-4b3f-9fcb-331b5fe9071e</th>\n      <th>e1600448-5fa5-4ba2-8938-eaf768f2d7fa</th>\n      <th>e2a21ad1-c3a8-436d-8473-ea7613c31694</th>\n      <th>e693fac5-2693-4712-bab8-814f1c06af2b</th>\n      <th>e791a888-38dd-481a-9558-e15e3780d887</th>\n      <th>f596c0f1-efc1-4314-a92f-254469585926</th>\n      <th>fc066082-5114-46dc-81e9-aadd5bdb5a5c</th>\n    </tr>\n    <tr>\n      <th>time</th>\n      <th></th>\n      <th></th>\n      <th></th>\n      <th></th>\n      <th></th>\n      <th></th>\n      <th></th>\n      <th></th>\n      <th></th>\n      <th></th>\n      <th></th>\n      <th></th>\n      <th></th>\n      <th></th>\n      <th></th>\n      <th></th>\n      <th></th>\n      <th></th>\n      <th></th>\n      <th></th>\n      <th></th>\n    </tr>\n  </thead>\n  <tbody>\n    <tr>\n      <th>2019-01-01 00:00:00</th>\n      <td>0.000844</td>\n      <td>0.000844</td>\n      <td>0.000844</td>\n      <td>0.000844</td>\n      <td>0.000844</td>\n      <td>0.000844</td>\n      <td>0.000844</td>\n      <td>0.000844</td>\n      <td>0.000844</td>\n      <td>0.000844</td>\n      <td>...</td>\n      <td>0.000844</td>\n      <td>0.000844</td>\n      <td>0.000844</td>\n      <td>0.000844</td>\n      <td>0.000844</td>\n      <td>0.000844</td>\n      <td>0.000844</td>\n      <td>0.000844</td>\n      <td>0.000844</td>\n      <td>0.000844</td>\n    </tr>\n    <tr>\n      <th>2019-01-01 00:15:00</th>\n      <td>0.000759</td>\n      <td>0.000759</td>\n      <td>0.000759</td>\n      <td>0.000759</td>\n      <td>0.000759</td>\n      <td>0.000759</td>\n      <td>0.000759</td>\n      <td>0.000759</td>\n      <td>0.000759</td>\n      <td>0.000759</td>\n      <td>...</td>\n      <td>0.000759</td>\n      <td>0.000759</td>\n      <td>0.000759</td>\n      <td>0.000759</td>\n      <td>0.000759</td>\n      <td>0.000759</td>\n      <td>0.000759</td>\n      <td>0.000759</td>\n      <td>0.000759</td>\n      <td>0.000759</td>\n    </tr>\n    <tr>\n      <th>2019-01-01 00:30:00</th>\n      <td>0.000686</td>\n      <td>0.000686</td>\n      <td>0.000686</td>\n      <td>0.000686</td>\n      <td>0.000686</td>\n      <td>0.000686</td>\n      <td>0.000686</td>\n      <td>0.000686</td>\n      <td>0.000686</td>\n      <td>0.000686</td>\n      <td>...</td>\n      <td>0.000686</td>\n      <td>0.000686</td>\n      <td>0.000686</td>\n      <td>0.000686</td>\n      <td>0.000686</td>\n      <td>0.000686</td>\n      <td>0.000686</td>\n      <td>0.000686</td>\n      <td>0.000686</td>\n      <td>0.000686</td>\n    </tr>\n    <tr>\n      <th>2019-01-01 00:45:00</th>\n      <td>0.000623</td>\n      <td>0.000623</td>\n      <td>0.000623</td>\n      <td>0.000623</td>\n      <td>0.000623</td>\n      <td>0.000623</td>\n      <td>0.000623</td>\n      <td>0.000623</td>\n      <td>0.000623</td>\n      <td>0.000623</td>\n      <td>...</td>\n      <td>0.000623</td>\n      <td>0.000623</td>\n      <td>0.000623</td>\n      <td>0.000623</td>\n      <td>0.000623</td>\n      <td>0.000623</td>\n      <td>0.000623</td>\n      <td>0.000623</td>\n      <td>0.000623</td>\n      <td>0.000623</td>\n    </tr>\n    <tr>\n      <th>2019-01-01 01:00:00</th>\n      <td>0.000577</td>\n      <td>0.000577</td>\n      <td>0.000577</td>\n      <td>0.000577</td>\n      <td>0.000577</td>\n      <td>0.000577</td>\n      <td>0.000577</td>\n      <td>0.000577</td>\n      <td>0.000577</td>\n      <td>0.000577</td>\n      <td>...</td>\n      <td>0.000577</td>\n      <td>0.000577</td>\n      <td>0.000577</td>\n      <td>0.000577</td>\n      <td>0.000577</td>\n      <td>0.000577</td>\n      <td>0.000577</td>\n      <td>0.000577</td>\n      <td>0.000577</td>\n      <td>0.000577</td>\n    </tr>\n    <tr>\n      <th>...</th>\n      <td>...</td>\n      <td>...</td>\n      <td>...</td>\n      <td>...</td>\n      <td>...</td>\n      <td>...</td>\n      <td>...</td>\n      <td>...</td>\n      <td>...</td>\n      <td>...</td>\n      <td>...</td>\n      <td>...</td>\n      <td>...</td>\n      <td>...</td>\n      <td>...</td>\n      <td>...</td>\n      <td>...</td>\n      <td>...</td>\n      <td>...</td>\n      <td>...</td>\n      <td>...</td>\n    </tr>\n    <tr>\n      <th>2019-01-14 23:00:00</th>\n      <td>0.001237</td>\n      <td>0.003822</td>\n      <td>0.001237</td>\n      <td>0.001237</td>\n      <td>0.001237</td>\n      <td>0.001237</td>\n      <td>0.001237</td>\n      <td>0.001237</td>\n      <td>0.001237</td>\n      <td>0.001237</td>\n      <td>...</td>\n      <td>0.001237</td>\n      <td>0.001237</td>\n      <td>0.001237</td>\n      <td>0.001237</td>\n      <td>0.001237</td>\n      <td>0.001237</td>\n      <td>0.001237</td>\n      <td>0.001237</td>\n      <td>0.001237</td>\n      <td>0.001237</td>\n    </tr>\n    <tr>\n      <th>2019-01-14 23:15:00</th>\n      <td>0.001139</td>\n      <td>0.003723</td>\n      <td>0.001139</td>\n      <td>0.001139</td>\n      <td>0.001139</td>\n      <td>0.001139</td>\n      <td>0.001139</td>\n      <td>0.001139</td>\n      <td>0.001139</td>\n      <td>0.001139</td>\n      <td>...</td>\n      <td>0.001139</td>\n      <td>0.001139</td>\n      <td>0.001139</td>\n      <td>0.001139</td>\n      <td>0.001139</td>\n      <td>0.001139</td>\n      <td>0.001139</td>\n      <td>0.001139</td>\n      <td>0.001139</td>\n      <td>0.001139</td>\n    </tr>\n    <tr>\n      <th>2019-01-14 23:30:00</th>\n      <td>0.001042</td>\n      <td>0.003627</td>\n      <td>0.001042</td>\n      <td>0.001042</td>\n      <td>0.001042</td>\n      <td>0.001042</td>\n      <td>0.001042</td>\n      <td>0.001042</td>\n      <td>0.001042</td>\n      <td>0.001042</td>\n      <td>...</td>\n      <td>0.001042</td>\n      <td>0.001042</td>\n      <td>0.001042</td>\n      <td>0.001042</td>\n      <td>0.001042</td>\n      <td>0.001042</td>\n      <td>0.001042</td>\n      <td>0.001042</td>\n      <td>0.001042</td>\n      <td>0.012042</td>\n    </tr>\n    <tr>\n      <th>2019-01-14 23:45:00</th>\n      <td>0.000946</td>\n      <td>0.003530</td>\n      <td>0.000946</td>\n      <td>0.000946</td>\n      <td>0.000946</td>\n      <td>0.000946</td>\n      <td>0.000946</td>\n      <td>0.000946</td>\n      <td>0.000946</td>\n      <td>0.000946</td>\n      <td>...</td>\n      <td>0.000946</td>\n      <td>0.000946</td>\n      <td>0.000946</td>\n      <td>0.000946</td>\n      <td>0.000946</td>\n      <td>0.000946</td>\n      <td>0.000946</td>\n      <td>0.000946</td>\n      <td>0.000946</td>\n      <td>0.009746</td>\n    </tr>\n    <tr>\n      <th>2019-01-15 00:00:00</th>\n      <td>0.000946</td>\n      <td>0.003530</td>\n      <td>0.000946</td>\n      <td>0.000946</td>\n      <td>0.000946</td>\n      <td>0.000946</td>\n      <td>0.000946</td>\n      <td>0.000946</td>\n      <td>0.000946</td>\n      <td>0.000946</td>\n      <td>...</td>\n      <td>0.000946</td>\n      <td>0.000946</td>\n      <td>0.000946</td>\n      <td>0.000946</td>\n      <td>0.000946</td>\n      <td>0.000946</td>\n      <td>0.000946</td>\n      <td>0.000946</td>\n      <td>0.000946</td>\n      <td>0.000946</td>\n    </tr>\n  </tbody>\n</table>\n<p>1345 rows × 32 columns</p>\n</div>"
     },
     "execution_count": 98,
     "metadata": {},
     "output_type": "execute_result"
    }
   ],
   "source": [
    "from pypsdm.processing.series import quarter_hourly_mean_resample\n",
    "\n",
    "resamp =  quarter_hourly_mean_resample(gwr.results.participants.ems.p)\n",
    "resamp"
   ],
   "metadata": {
    "collapsed": false,
    "ExecuteTime": {
     "end_time": "2023-11-22T09:44:00.380253400Z",
     "start_time": "2023-11-22T09:44:00.340893300Z"
    }
   },
   "id": "ac4e4faaea6f71e3"
  },
  {
   "cell_type": "code",
   "execution_count": 99,
   "outputs": [],
   "source": [
    "def getEmInstalledCapacatiyFromUuid(em_uuid, ems_grid):\n",
    "\n",
    "    load_srated=0\n",
    "    hp_srated=0\n",
    "    evcs_srated=0\n",
    "    bs_srated=0\n",
    "    pv_srated=0\n",
    "    total_s_rated_em_load_direction = 0\n",
    "    total_s_rated_em_feedin_direction = 0\n",
    "    em_installed_capacity = pd.DataFrame(columns=['s_rated_em_load_direction', 's_rated_em_feedin_direction'])   \n",
    "    \n",
    "    for conected_asset in ems_grid.connected_assets.get(em_uuid):\n",
    "        if gwr.grid.participants.loads.__contains__(conected_asset):\n",
    "            load_srated=gwr.grid.participants.loads.get(conected_asset)['s_rated']     \n",
    "        if gwr.grid.participants.hps.__contains__(conected_asset):\n",
    "            hp_srated=gwr.grid.participants.hps.get(conected_asset)['s_rated']\n",
    "        if gwr.grid.participants.evcs.__contains__(conected_asset):\n",
    "            evcs_srated=gwr.grid.participants.evcs.get(conected_asset)['power']\n",
    "        if gwr.grid.participants.storages.__contains__(conected_asset):\n",
    "            bs_srated=gwr.grid.participants.storages.get(conected_asset)['s_rated']\n",
    "        if gwr.grid.participants.pvs.__contains__(conected_asset):\n",
    "            pv_srated=gwr.grid.participants.pvs.get(conected_asset)['s_rated']\n",
    "            \n",
    "    ##### TODO FIXME: LOAD INCLUDED HERE OR NOT????????????????????????????????????????????????????????????????????\n",
    "    s_rated_em_load_direction = load_srated + hp_srated + evcs_srated + bs_srated\n",
    "    s_rated_em_feedin_direction = evcs_srated + bs_srated + pv_srated\n",
    "    em_installed_capacity.loc[em_uuid]= [s_rated_em_load_direction,s_rated_em_feedin_direction]\n",
    "                \n",
    "    return em_installed_capacity"
   ],
   "metadata": {
    "collapsed": false,
    "ExecuteTime": {
     "end_time": "2023-11-22T09:44:01.586691800Z",
     "start_time": "2023-11-22T09:44:01.577671Z"
    }
   },
   "id": "654d7c4a460bf98e"
  },
  {
   "cell_type": "code",
   "execution_count": 100,
   "outputs": [
    {
     "name": "stdout",
     "output_type": "stream",
     "text": [
      "                                      0  1  2  3\n",
      "em_uuid                                         \n",
      "82a5963e-8b34-4909-a6fe-f8a5d630714f  1  1  1  1\n",
      "a20a27bc-d8dc-474a-a067-13768efa12b0  1  1  1  1\n",
      "368b7d20-246c-47b4-99d9-59ecb09d262f  1  1  1  1\n",
      "7578de94-39da-461a-a7e9-35887d5cd069  1  1  1  1\n",
      "32bdf883-bf93-41d4-8df0-341c643c0dde  1  1  1  1\n",
      "fc066082-5114-46dc-81e9-aadd5bdb5a5c  1  1  1  0\n",
      "c91910c7-8052-439d-bbb5-82a9a6f33805  1  1  1  0\n",
      "97cbb95f-ba3d-4cf2-ab8a-ebf6cd581bf2  1  1  1  0\n",
      "da9b5c51-9fcc-4b3f-9fcb-331b5fe9071e  1  1  1  0\n",
      "268ac12a-5617-4de7-a63a-27a2ae13fbf9  1  1  1  0\n",
      "54c41a9b-071b-4ac4-ba52-daa5adf82281  1  1  0  1\n",
      "e791a888-38dd-481a-9558-e15e3780d887  1  1  0  1\n",
      "a03331b0-29a1-4547-a439-d6ec01c7b5ec  1  1  0  1\n",
      "2717884a-acd0-475a-809b-e4c3e904aa1e  1  1  0  1\n",
      "3f846f16-d139-47d7-ab3f-5cdd0c695d86  1  1  0  1\n",
      "5468b04e-ade9-4443-86ac-365b443b0dc2  1  1  0  0\n",
      "b62da8a1-8b4c-47cb-8bd7-8a9e5bc71ad2  1  1  0  0\n",
      "e1600448-5fa5-4ba2-8938-eaf768f2d7fa  1  1  0  0\n",
      "53d9ead4-a565-4a00-9e31-4b6336d94503  1  1  0  0\n",
      "9a824deb-3993-481e-9652-25a456922dd4  1  1  0  0\n",
      "f596c0f1-efc1-4314-a92f-254469585926  1  0  1  1\n",
      "e2a21ad1-c3a8-436d-8473-ea7613c31694  1  0  1  0\n",
      "76a09edf-b8e1-4cd7-9a86-57f941662fb9  1  0  0  1\n",
      "2a103ae2-9dc4-44f7-b31e-94fd0d8419df  1  0  0  0\n",
      "92a39693-16e3-4c07-99c2-325ed6e8802b  0  1  1  1\n",
      "e693fac5-2693-4712-bab8-814f1c06af2b  0  1  1  1\n",
      "1d5b5cdf-abac-461d-873e-1f7ffa251af4  0  1  1  0\n",
      "c4e4b6fc-b842-41ae-8a80-4f82a22ec3f9  0  1  1  0\n",
      "4c0f6062-6bf7-4b1a-9af4-0501e4b7a271  0  1  0  1\n",
      "88042d00-c162-4c58-b8c3-9d1bdd3b27ff  0  1  0  1\n",
      "3cc0c421-1a21-467e-b609-e5b90ac0107d  0  1  0  0\n",
      "a35276d4-6816-4a9f-9b4e-2974ed898c06  0  1  0  0\n"
     ]
    }
   ],
   "source": [
    "print(em_cases_dict)"
   ],
   "metadata": {
    "collapsed": false,
    "ExecuteTime": {
     "end_time": "2023-11-22T09:44:03.029979300Z",
     "start_time": "2023-11-22T09:44:03.021116900Z"
    }
   },
   "id": "31068028499d1c0e"
  },
  {
   "cell_type": "code",
   "execution_count": 101,
   "outputs": [],
   "source": [
    "def getCasesFromConditions(dict, cond1, cond2, cond3, cond4):\n",
    "    filtered_uuids = []\n",
    "    \n",
    "    # Loop through the dictionary items and filter based on conditions\n",
    "    for uuid, values in dict.iterrows():\n",
    "        if values[0] == cond1 and values[1] == cond2 and values[2] == cond3 and values[3] == cond4:\n",
    "            filtered_uuids.append(uuid)\n",
    "    return  filtered_uuids\n"
   ],
   "metadata": {
    "collapsed": false,
    "ExecuteTime": {
     "end_time": "2023-11-22T09:44:05.038368900Z",
     "start_time": "2023-11-22T09:44:05.034857500Z"
    }
   },
   "id": "80a43ca24b7a9b9c"
  },
  {
   "cell_type": "code",
   "execution_count": 105,
   "outputs": [
    {
     "name": "stdout",
     "output_type": "stream",
     "text": [
      "['82a5963e-8b34-4909-a6fe-f8a5d630714f', 'a20a27bc-d8dc-474a-a067-13768efa12b0', '368b7d20-246c-47b4-99d9-59ecb09d262f', '7578de94-39da-461a-a7e9-35887d5cd069', '32bdf883-bf93-41d4-8df0-341c643c0dde']\n"
     ]
    }
   ],
   "source": [
    "test = getCasesFromConditions(em_cases_dict, 1,1,1,1)\n",
    "print(test)"
   ],
   "metadata": {
    "collapsed": false,
    "ExecuteTime": {
     "end_time": "2023-11-22T09:45:11.117957Z",
     "start_time": "2023-11-22T09:45:11.112960600Z"
    }
   },
   "id": "247d1a9f2f4082ba"
  },
  {
   "cell_type": "code",
   "execution_count": 106,
   "outputs": [],
   "source": [
    "\n",
    "for item in test:\n",
    "    getEmInstalledCapacatiyFromUuid(item, ems_grid)\n",
    "    "
   ],
   "metadata": {
    "collapsed": false,
    "ExecuteTime": {
     "end_time": "2023-11-22T09:45:11.910455400Z",
     "start_time": "2023-11-22T09:45:11.901382700Z"
    }
   },
   "id": "627bc9331c85643"
  },
  {
   "cell_type": "code",
   "execution_count": 111,
   "outputs": [
    {
     "data": {
      "text/plain": "                                      s_rated_em_load_direction  \\\n82a5963e-8b34-4909-a6fe-f8a5d630714f                  39.234324   \na20a27bc-d8dc-474a-a067-13768efa12b0                  37.890073   \n368b7d20-246c-47b4-99d9-59ecb09d262f                  38.541396   \n7578de94-39da-461a-a7e9-35887d5cd069                  38.173961   \n32bdf883-bf93-41d4-8df0-341c643c0dde                  38.356602   \n\n                                      s_rated_em_feedin_direction  \n82a5963e-8b34-4909-a6fe-f8a5d630714f                    41.823098  \na20a27bc-d8dc-474a-a067-13768efa12b0                    39.287530  \n368b7d20-246c-47b4-99d9-59ecb09d262f                    39.825692  \n7578de94-39da-461a-a7e9-35887d5cd069                    37.580415  \n32bdf883-bf93-41d4-8df0-341c643c0dde                    38.752785  ",
      "text/html": "<div>\n<style scoped>\n    .dataframe tbody tr th:only-of-type {\n        vertical-align: middle;\n    }\n\n    .dataframe tbody tr th {\n        vertical-align: top;\n    }\n\n    .dataframe thead th {\n        text-align: right;\n    }\n</style>\n<table border=\"1\" class=\"dataframe\">\n  <thead>\n    <tr style=\"text-align: right;\">\n      <th></th>\n      <th>s_rated_em_load_direction</th>\n      <th>s_rated_em_feedin_direction</th>\n    </tr>\n  </thead>\n  <tbody>\n    <tr>\n      <th>82a5963e-8b34-4909-a6fe-f8a5d630714f</th>\n      <td>39.234324</td>\n      <td>41.823098</td>\n    </tr>\n    <tr>\n      <th>a20a27bc-d8dc-474a-a067-13768efa12b0</th>\n      <td>37.890073</td>\n      <td>39.287530</td>\n    </tr>\n    <tr>\n      <th>368b7d20-246c-47b4-99d9-59ecb09d262f</th>\n      <td>38.541396</td>\n      <td>39.825692</td>\n    </tr>\n    <tr>\n      <th>7578de94-39da-461a-a7e9-35887d5cd069</th>\n      <td>38.173961</td>\n      <td>37.580415</td>\n    </tr>\n    <tr>\n      <th>32bdf883-bf93-41d4-8df0-341c643c0dde</th>\n      <td>38.356602</td>\n      <td>38.752785</td>\n    </tr>\n  </tbody>\n</table>\n</div>"
     },
     "execution_count": 111,
     "metadata": {},
     "output_type": "execute_result"
    }
   ],
   "source": [
    "em_installed_capacity_res = pd.DataFrame(columns=['s_rated_em_load_direction', 's_rated_em_feedin_direction'])   \n",
    "for item in test:\n",
    "    val = getEmInstalledCapacatiyFromUuid(item, ems_grid)\n",
    "    em_installed_capacity_res.loc[item]= [val.values[0][0], val.values[0][1]]\n",
    "    \n",
    "\n",
    "em_installed_capacity_res"
   ],
   "metadata": {
    "collapsed": false,
    "ExecuteTime": {
     "end_time": "2023-11-22T09:46:40.361681700Z",
     "start_time": "2023-11-22T09:46:40.345034900Z"
    }
   },
   "id": "70cacd86d8e7b28c"
  },
  {
   "cell_type": "code",
   "execution_count": 86,
   "outputs": [
    {
     "name": "stdout",
     "output_type": "stream",
     "text": [
      "37.89007324623006\n"
     ]
    }
   ],
   "source": [
    "print(em_installed_capacity_res.loc['a20a27bc-d8dc-474a-a067-13768efa12b0','s_rated_em_load_direction'])\n"
   ],
   "metadata": {
    "collapsed": false,
    "ExecuteTime": {
     "end_time": "2023-11-22T09:27:36.311339900Z",
     "start_time": "2023-11-22T09:27:36.304345300Z"
    }
   },
   "id": "320e41388e48e737"
  },
  {
   "cell_type": "code",
   "execution_count": 18,
   "outputs": [
    {
     "data": {
      "text/plain": "0.011"
     },
     "execution_count": 18,
     "metadata": {},
     "output_type": "execute_result"
    }
   ],
   "source": [
    "uu = '019f1307-e73e-40b2-9277-22f960aafc1e'\n",
    "\n",
    "gwr.results.participants.evcs.get(uu).p.max()"
   ],
   "metadata": {
    "collapsed": false,
    "ExecuteTime": {
     "end_time": "2023-11-22T08:30:35.914260500Z",
     "start_time": "2023-11-22T08:30:35.843037700Z"
    }
   },
   "id": "f150b8e49a37f8f2"
  },
  {
   "cell_type": "code",
   "execution_count": 114,
   "outputs": [],
   "source": [
    "df_res = quarter_hourly_mean_resample(gwr.results.participants.ems.p)\n",
    "df_res = df_res.filter(em_installed_capacity_res.index)"
   ],
   "metadata": {
    "collapsed": false,
    "ExecuteTime": {
     "end_time": "2023-11-22T09:47:21.514959400Z",
     "start_time": "2023-11-22T09:47:21.494443800Z"
    }
   },
   "id": "2d60fa1b87955a35"
  },
  {
   "cell_type": "code",
   "execution_count": 115,
   "outputs": [
    {
     "name": "stdout",
     "output_type": "stream",
     "text": [
      "82a5963e-8b34-4909-a6fe-f8a5d630714f\n",
      "a20a27bc-d8dc-474a-a067-13768efa12b0\n",
      "368b7d20-246c-47b4-99d9-59ecb09d262f\n",
      "7578de94-39da-461a-a7e9-35887d5cd069\n",
      "32bdf883-bf93-41d4-8df0-341c643c0dde\n"
     ]
    }
   ],
   "source": [
    "for column in df_res.columns:\n",
    "    print(column)"
   ],
   "metadata": {
    "collapsed": false,
    "ExecuteTime": {
     "end_time": "2023-11-22T09:47:26.691063100Z",
     "start_time": "2023-11-22T09:47:26.687550800Z"
    }
   },
   "id": "a59ad1ab9dd4d788"
  },
  {
   "cell_type": "code",
   "execution_count": 116,
   "outputs": [],
   "source": [
    "def normalize_dataframe_min_max(df, min_val, max_val):\n",
    "    normalized_df = df  # Create a copy of the original DataFrame\n",
    "    \n",
    "    # Loop through each column in the DataFrame\n",
    "    for column in df.columns:\n",
    "        # Check if the column contains numerical data (you may want to refine this condition based on your specific DataFrame)\n",
    "        if df[column].dtype in [int, float]:\n",
    "            #    min_val = df[column].min()  # Calculate the minimum value of the column\n",
    "            #    max_val = df[column].max()  # Calculate the maximum value of the column\n",
    "            \n",
    "            # Min-Max normalization formula: (x - min) / (max - min)\n",
    "            normalized_df[column] = (df[column] - min_val) / (max_val - min_val)\n",
    "    \n",
    "    return normalized_df"
   ],
   "metadata": {
    "collapsed": false,
    "ExecuteTime": {
     "end_time": "2023-11-22T09:47:29.849795300Z",
     "start_time": "2023-11-22T09:47:29.838652600Z"
    }
   },
   "id": "67f8fc5936294712"
  },
  {
   "cell_type": "code",
   "execution_count": 128,
   "outputs": [],
   "source": [
    "from pypsdm.processing.series import quarter_hourly_mean_resample\n",
    "\n",
    "for item in gwr.results.participants.evcs:\n",
    "    test=(quarter_hourly_mean_resample(gwr.results.participants.evcs.get(item).p))\n",
    "    "
   ],
   "metadata": {
    "collapsed": false,
    "ExecuteTime": {
     "end_time": "2023-11-22T09:49:56.158642400Z",
     "start_time": "2023-11-22T09:49:56.097803300Z"
    }
   },
   "id": "c16d2d6766d02198"
  },
  {
   "cell_type": "code",
   "execution_count": 218,
   "outputs": [
    {
     "data": {
      "text/plain": "                                      s_rated_em_load_direction  \\\nuuid                                                              \n82a5963e-8b34-4909-a6fe-f8a5d630714f                  39.234324   \na20a27bc-d8dc-474a-a067-13768efa12b0                  37.890073   \n368b7d20-246c-47b4-99d9-59ecb09d262f                  38.541396   \n7578de94-39da-461a-a7e9-35887d5cd069                  38.173961   \n32bdf883-bf93-41d4-8df0-341c643c0dde                  38.356602   \n\n                                      s_rated_em_feedin_direction  \nuuid                                                               \n82a5963e-8b34-4909-a6fe-f8a5d630714f                    41.823098  \na20a27bc-d8dc-474a-a067-13768efa12b0                    39.287530  \n368b7d20-246c-47b4-99d9-59ecb09d262f                    39.825692  \n7578de94-39da-461a-a7e9-35887d5cd069                    37.580415  \n32bdf883-bf93-41d4-8df0-341c643c0dde                    38.752785  ",
      "text/html": "<div>\n<style scoped>\n    .dataframe tbody tr th:only-of-type {\n        vertical-align: middle;\n    }\n\n    .dataframe tbody tr th {\n        vertical-align: top;\n    }\n\n    .dataframe thead th {\n        text-align: right;\n    }\n</style>\n<table border=\"1\" class=\"dataframe\">\n  <thead>\n    <tr style=\"text-align: right;\">\n      <th></th>\n      <th>s_rated_em_load_direction</th>\n      <th>s_rated_em_feedin_direction</th>\n    </tr>\n    <tr>\n      <th>uuid</th>\n      <th></th>\n      <th></th>\n    </tr>\n  </thead>\n  <tbody>\n    <tr>\n      <th>82a5963e-8b34-4909-a6fe-f8a5d630714f</th>\n      <td>39.234324</td>\n      <td>41.823098</td>\n    </tr>\n    <tr>\n      <th>a20a27bc-d8dc-474a-a067-13768efa12b0</th>\n      <td>37.890073</td>\n      <td>39.287530</td>\n    </tr>\n    <tr>\n      <th>368b7d20-246c-47b4-99d9-59ecb09d262f</th>\n      <td>38.541396</td>\n      <td>39.825692</td>\n    </tr>\n    <tr>\n      <th>7578de94-39da-461a-a7e9-35887d5cd069</th>\n      <td>38.173961</td>\n      <td>37.580415</td>\n    </tr>\n    <tr>\n      <th>32bdf883-bf93-41d4-8df0-341c643c0dde</th>\n      <td>38.356602</td>\n      <td>38.752785</td>\n    </tr>\n  </tbody>\n</table>\n</div>"
     },
     "execution_count": 218,
     "metadata": {},
     "output_type": "execute_result"
    }
   ],
   "source": [
    "em_installed_capacity_res= em_installed_capacity_res.rename_axis('uuid')\n",
    "em_installed_capacity_res"
   ],
   "metadata": {
    "collapsed": false,
    "ExecuteTime": {
     "end_time": "2023-11-22T10:51:53.941523200Z",
     "start_time": "2023-11-22T10:51:53.927544700Z"
    }
   },
   "id": "8d53c6cf970a3469"
  },
  {
   "cell_type": "code",
   "execution_count": 326,
   "outputs": [
    {
     "name": "stdout",
     "output_type": "stream",
     "text": [
      "Value from the first column: 38.35660233400342\n"
     ]
    }
   ],
   "source": [
    "uuid_to_search = '32bdf883-bf93-41d4-8df0-341c643c0dde'  # Replace with the UUID you're searching for\n",
    "\n",
    "# Filter the DataFrame based on the UUID\n",
    "filtered_row = em_installed_capacity_res[em_installed_capacity_res.index == uuid_to_search]\n",
    "\n",
    "if not filtered_row.empty:\n",
    "    first_column_value = filtered_row.iloc[0, 0]  # Assuming the first column is at index 0\n",
    "    print(\"Value from the first column:\", first_column_value)\n",
    "else:\n",
    "    print(\"UUID not found in the DataFrame\")\n"
   ],
   "metadata": {
    "collapsed": false,
    "ExecuteTime": {
     "end_time": "2023-11-22T11:45:22.456441Z",
     "start_time": "2023-11-22T11:45:22.448819600Z"
    }
   },
   "id": "2ab0a256bb21f421"
  },
  {
   "cell_type": "code",
   "execution_count": 327,
   "outputs": [],
   "source": [
    "import os\n",
    "\n",
    "import numpy as np\n",
    "import pandas\n",
    "import pandas as pd\n",
    "from matplotlib import pyplot as plt\n",
    "import matplotlib\n",
    "from pypsdm.processing.series import quarter_hourly_mean_resample\n",
    "\n",
    "\n",
    "\"\"\"\n",
    " Gleichzeitigkeit\n",
    "\"\"\"\n",
    "\n",
    "def calculate_gz_curve(df,df_inst, len_curve, num_mc):\n",
    "    sim_curve = pd.DataFrame(np.zeros((len_curve, 1)))\n",
    "    quantile_95 = pd.DataFrame(np.zeros((len_curve, 1)))\n",
    "    \n",
    "    \n",
    "    division_factors = em_installed_capacity_res\n",
    "\n",
    "    for n in range(1, len_curve + 1):\n",
    "        temp_sim = np.zeros(num_mc)\n",
    "        print(\"Calculate GZ for ev-number \"+str(n))\n",
    "        for mc in range(num_mc):\n",
    "            profile_row = np.random.choice(df.index, size=n, replace=False)\n",
    "            print('profile_row: ' + profile_row.__str__())\n",
    "            mc_profile = df.loc[profile_row, :]\n",
    "            print('mc_profile: ' + mc_profile.__str__())\n",
    "            temp_sim[mc] = (mc_profile.sum(axis=0).max() / n)\n",
    "            print('temp_sim_entry')\n",
    "            print(mc_profile.sum(axis=0).max() / n)\n",
    "            print('temp_sim')\n",
    "            print(temp_sim)\n",
    "            print('temp_sim_max')\n",
    "            print(temp_sim.max())\n",
    "        sim_curve.iloc[n - 1, 0] = temp_sim.max()\n",
    "        quantile_95.iloc[n - 1, 0] = np.percentile(temp_sim, 95, method='linear')\n",
    "\n",
    "\n",
    "\n",
    "    return sim_curve, quantile_95\n"
   ],
   "metadata": {
    "collapsed": false,
    "ExecuteTime": {
     "end_time": "2023-11-22T11:45:22.974877400Z",
     "start_time": "2023-11-22T11:45:22.968668100Z"
    }
   },
   "id": "aaedfab757b73c99"
  },
  {
   "cell_type": "code",
   "execution_count": 328,
   "outputs": [],
   "source": [
    "\"\"\"\n",
    "Kurvenanpassung\n",
    "\"\"\"\n",
    "\n",
    "# https://www.askpython.com/python/examples/curve-fitting-in-python\n",
    "# Die Kurvenanpassung wird nur für den Bereich vorgenommen, an dem die Funktion differenzierbar ist (wenn GZ nicht mehr 1)\n",
    "\n",
    "# allgemeine Gleichung der erweiterten GZ-Funktion\n",
    "\n",
    "def fit_function(n, *args):\n",
    "    a, b, c = args\n",
    "    return a * np.power(n, -b) + c\n",
    "\n",
    "\n",
    "def fit_sim_curve(x_values, y_values):\n",
    "    # Initialisierung mit Werten EV ungesteuert Dis Kippelt\n",
    "    p0 = [1.785, 0.631, 0.112]\n",
    "    popt, pcov = curve_fit(fit_function, x_values, y_values, p0, maxfev=10000)\n",
    "    # Anzahl der Datenpunkte\n",
    "    n = len(y_values)\n",
    "    # Anzahl der Fit-Parameter\n",
    "    p = len(popt)\n",
    "    # Mittelwert der abhängigen Variable\n",
    "    y_mean = np.mean(y_values)\n",
    "    # Regressionsabweichungen berechnen\n",
    "    residuals = y_values - fit_function(x_values, *popt)\n",
    "    # Summe der quadrierten Regressionsabweichungen\n",
    "    ss_res = np.sum(residuals**2)\n",
    "    # Gesamtsumme der quadrierten Abweichungen\n",
    "    ss_tot = np.sum((y_values - y_mean)**2)\n",
    "    # Bestimmtheitsmaß berechnen\n",
    "    r_squared = 1 - (ss_res / (n - p - 1)) / (ss_tot / (n - 1))\n",
    "    return popt, pcov, r_squared\n",
    "\n",
    "# popt ist ein Array aus den optimalen Parametern, sodass die Summe der Fehlerquadrate minimiert ist\n",
    "# pcov ist die zugehörige Kovarianzmatrix"
   ],
   "metadata": {
    "collapsed": false,
    "ExecuteTime": {
     "end_time": "2023-11-22T11:45:23.541960500Z",
     "start_time": "2023-11-22T11:45:23.534446Z"
    }
   },
   "id": "4bbeb881474170b2"
  },
  {
   "cell_type": "code",
   "execution_count": 330,
   "outputs": [
    {
     "name": "stdout",
     "output_type": "stream",
     "text": [
      "Calculate GZ for ev-number 1\n",
      "profile_row: ['2019-01-14T06:00:00.000000000']\n",
      "mc_profile:                      82a5963e-8b34-4909-a6fe-f8a5d630714f  \\\n",
      "time                                                        \n",
      "2019-01-14 06:00:00                               0.02188   \n",
      "\n",
      "                     a20a27bc-d8dc-474a-a067-13768efa12b0  \\\n",
      "time                                                        \n",
      "2019-01-14 06:00:00                              0.022656   \n",
      "\n",
      "                     368b7d20-246c-47b4-99d9-59ecb09d262f  \\\n",
      "time                                                        \n",
      "2019-01-14 06:00:00                              0.022273   \n",
      "\n",
      "                     7578de94-39da-461a-a7e9-35887d5cd069  \\\n",
      "time                                                        \n",
      "2019-01-14 06:00:00                              0.022488   \n",
      "\n",
      "                     32bdf883-bf93-41d4-8df0-341c643c0dde  \n",
      "time                                                       \n",
      "2019-01-14 06:00:00                              0.167314  \n",
      "temp_sim_entry\n",
      "0.1673142113206191\n",
      "temp_sim\n",
      "[0.16731421 0.        ]\n",
      "temp_sim_max\n",
      "0.1673142113206191\n",
      "profile_row: ['2019-01-02T09:30:00.000000000']\n",
      "mc_profile:                      82a5963e-8b34-4909-a6fe-f8a5d630714f  \\\n",
      "time                                                        \n",
      "2019-01-02 09:30:00                          6.908505e-19   \n",
      "\n",
      "                     a20a27bc-d8dc-474a-a067-13768efa12b0  \\\n",
      "time                                                        \n",
      "2019-01-02 09:30:00                              0.127865   \n",
      "\n",
      "                     368b7d20-246c-47b4-99d9-59ecb09d262f  \\\n",
      "time                                                        \n",
      "2019-01-02 09:30:00                                   0.0   \n",
      "\n",
      "                     7578de94-39da-461a-a7e9-35887d5cd069  \\\n",
      "time                                                        \n",
      "2019-01-02 09:30:00                              0.157425   \n",
      "\n",
      "                     32bdf883-bf93-41d4-8df0-341c643c0dde  \n",
      "time                                                       \n",
      "2019-01-02 09:30:00                              0.000965  \n",
      "temp_sim_entry\n",
      "0.15742519458458368\n",
      "temp_sim\n",
      "[0.16731421 0.15742519]\n",
      "temp_sim_max\n",
      "0.1673142113206191\n",
      "Calculate GZ for ev-number 2\n",
      "profile_row: ['2019-01-01T21:45:00.000000000' '2019-01-07T08:15:00.000000000']\n",
      "mc_profile:                      82a5963e-8b34-4909-a6fe-f8a5d630714f  \\\n",
      "time                                                        \n",
      "2019-01-01 21:45:00                              0.042377   \n",
      "2019-01-07 08:15:00                              0.042876   \n",
      "\n",
      "                     a20a27bc-d8dc-474a-a067-13768efa12b0  \\\n",
      "time                                                        \n",
      "2019-01-01 21:45:00                              0.043880   \n",
      "2019-01-07 08:15:00                              0.044452   \n",
      "\n",
      "                     368b7d20-246c-47b4-99d9-59ecb09d262f  \\\n",
      "time                                                        \n",
      "2019-01-01 21:45:00                              0.043139   \n",
      "2019-01-07 08:15:00                              0.043686   \n",
      "\n",
      "                     7578de94-39da-461a-a7e9-35887d5cd069  \\\n",
      "time                                                        \n",
      "2019-01-01 21:45:00                              0.043554   \n",
      "2019-01-07 08:15:00                              0.044146   \n",
      "\n",
      "                     32bdf883-bf93-41d4-8df0-341c643c0dde  \n",
      "time                                                       \n",
      "2019-01-01 21:45:00                              0.043346  \n",
      "2019-01-07 08:15:00                              0.043912  \n",
      "temp_sim_entry\n",
      "0.04416585459685942\n",
      "temp_sim\n",
      "[0.04416585 0.        ]\n",
      "temp_sim_max\n",
      "0.04416585459685942\n",
      "profile_row: ['2019-01-07T20:45:00.000000000' '2019-01-14T20:45:00.000000000']\n",
      "mc_profile:                      82a5963e-8b34-4909-a6fe-f8a5d630714f  \\\n",
      "time                                                        \n",
      "2019-01-07 20:45:00                              0.049884   \n",
      "2019-01-14 20:45:00                              0.050089   \n",
      "\n",
      "                     a20a27bc-d8dc-474a-a067-13768efa12b0  \\\n",
      "time                                                        \n",
      "2019-01-07 20:45:00                              0.051653   \n",
      "2019-01-14 20:45:00                              0.051866   \n",
      "\n",
      "                     368b7d20-246c-47b4-99d9-59ecb09d262f  \\\n",
      "time                                                        \n",
      "2019-01-07 20:45:00                              0.050780   \n",
      "2019-01-14 20:45:00                              0.050989   \n",
      "\n",
      "                     7578de94-39da-461a-a7e9-35887d5cd069  \\\n",
      "time                                                        \n",
      "2019-01-07 20:45:00                              0.339424   \n",
      "2019-01-14 20:45:00                              0.051480   \n",
      "\n",
      "                     32bdf883-bf93-41d4-8df0-341c643c0dde  \n",
      "time                                                       \n",
      "2019-01-07 20:45:00                              0.051025  \n",
      "2019-01-14 20:45:00                              0.051235  \n",
      "temp_sim_entry\n",
      "0.1954517917623617\n",
      "temp_sim\n",
      "[0.04416585 0.19545179]\n",
      "temp_sim_max\n",
      "0.1954517917623617\n",
      "Calculate GZ for ev-number 3\n",
      "profile_row: ['2019-01-07T14:45:00.000000000' '2019-01-08T04:15:00.000000000'\n",
      " '2019-01-02T14:15:00.000000000']\n",
      "mc_profile:                      82a5963e-8b34-4909-a6fe-f8a5d630714f  \\\n",
      "time                                                        \n",
      "2019-01-07 14:45:00                          3.223681e-02   \n",
      "2019-01-08 04:15:00                          1.245168e-02   \n",
      "2019-01-02 14:15:00                          1.105361e-17   \n",
      "\n",
      "                     a20a27bc-d8dc-474a-a067-13768efa12b0  \\\n",
      "time                                                        \n",
      "2019-01-07 14:45:00                              0.033925   \n",
      "2019-01-08 04:15:00                              0.012893   \n",
      "2019-01-02 14:15:00                              0.000000   \n",
      "\n",
      "                     368b7d20-246c-47b4-99d9-59ecb09d262f  \\\n",
      "time                                                        \n",
      "2019-01-07 14:45:00                          3.320275e-02   \n",
      "2019-01-08 04:15:00                          1.267554e-02   \n",
      "2019-01-02 14:15:00                         -5.626170e-18   \n",
      "\n",
      "                     7578de94-39da-461a-a7e9-35887d5cd069  \\\n",
      "time                                                        \n",
      "2019-01-07 14:45:00                          3.388518e-02   \n",
      "2019-01-08 04:15:00                          1.279755e-02   \n",
      "2019-01-02 14:15:00                         -1.136065e-17   \n",
      "\n",
      "                     32bdf883-bf93-41d4-8df0-341c643c0dde  \n",
      "time                                                       \n",
      "2019-01-07 14:45:00                          3.349053e-02  \n",
      "2019-01-08 04:15:00                          1.273661e-02  \n",
      "2019-01-02 14:15:00                         -2.261310e-17  \n",
      "temp_sim_entry\n",
      "0.015606263923515468\n",
      "temp_sim\n",
      "[0.01560626 0.        ]\n",
      "temp_sim_max\n",
      "0.015606263923515468\n",
      "profile_row: ['2019-01-02T08:30:00.000000000' '2019-01-02T21:45:00.000000000'\n",
      " '2019-01-02T23:45:00.000000000']\n",
      "mc_profile:                      82a5963e-8b34-4909-a6fe-f8a5d630714f  \\\n",
      "time                                                        \n",
      "2019-01-02 08:30:00                              0.041910   \n",
      "2019-01-02 21:45:00                              0.042454   \n",
      "2019-01-02 23:45:00                              0.023879   \n",
      "\n",
      "                     a20a27bc-d8dc-474a-a067-13768efa12b0  \\\n",
      "time                                                        \n",
      "2019-01-02 08:30:00                              0.043482   \n",
      "2019-01-02 21:45:00                              0.043960   \n",
      "2019-01-02 23:45:00                              0.154919   \n",
      "\n",
      "                     368b7d20-246c-47b4-99d9-59ecb09d262f  \\\n",
      "time                                                        \n",
      "2019-01-02 08:30:00                              0.042724   \n",
      "2019-01-02 21:45:00                              0.043217   \n",
      "2019-01-02 23:45:00                              0.024308   \n",
      "\n",
      "                     7578de94-39da-461a-a7e9-35887d5cd069  \\\n",
      "time                                                        \n",
      "2019-01-02 08:30:00                              0.196360   \n",
      "2019-01-02 21:45:00                              0.043633   \n",
      "2019-01-02 23:45:00                              0.024542   \n",
      "\n",
      "                     32bdf883-bf93-41d4-8df0-341c643c0dde  \n",
      "time                                                       \n",
      "2019-01-02 08:30:00                              0.042951  \n",
      "2019-01-02 21:45:00                              0.043425  \n",
      "2019-01-02 23:45:00                              0.024425  \n",
      "temp_sim_entry\n",
      "0.08817820456278662\n",
      "temp_sim\n",
      "[0.01560626 0.0881782 ]\n",
      "temp_sim_max\n",
      "0.08817820456278662\n"
     ]
    },
    {
     "name": "stderr",
     "output_type": "stream",
     "text": [
      "C:\\Users\\smdafeis\\AppData\\Local\\pypoetry\\Cache\\virtualenvs\\pypsdm-qt54NClq-py3.11\\Lib\\site-packages\\scipy\\optimize\\_minpack_py.py:1010: OptimizeWarning: Covariance of the parameters could not be estimated\n",
      "  warnings.warn('Covariance of the parameters could not be estimated',\n"
     ]
    }
   ],
   "source": [
    "\"\"\"\n",
    " Initialisierung\n",
    "\"\"\"\n",
    "# Parameter, die einzustellen sind:\n",
    "num_vehicles = 100\n",
    "#len_curve = 150  # Ziel: 150, gibt die maximale Anzahl an EV innerhalb der GZ-Kurve an\n",
    "len_curve = 3  # Ziel: 150, gibt die maximale Anzahl an EV innerhalb der GZ-Kurve an\n",
    "num_mc = 2  # Ziel: 1000, Anzahl an Monte-Carlo-Iterationen pro Punkt in der GZ-Kurve\n",
    "\n",
    "# Initialisierung\n",
    "temp_profile = pd.DataFrame(np.zeros(shape=(0, num_vehicles)))\n",
    "temp_sim = pd.DataFrame(np.zeros(shape=(num_mc, 1)))\n",
    "\n",
    "# Einlesen der Daten:\n",
    "\n",
    "\n",
    "df_resample = quarter_hourly_mean_resample(gwr.results.participants.ems.p)\n",
    "df_resample = df_resample.filter(em_installed_capacity_res.index)\n",
    "df_norm = normalize_dataframe_by_installed_capacity(df_resample, em_installed_capacity_res)\n",
    "\n",
    "\n",
    "# Start: GZ-Kurve\n",
    "sim_curve, quantile_95_tot = calculate_gz_curve(df_norm, em_installed_capacity_res, len_curve, num_mc)\n",
    "quantile_95_cut = quantile_95_tot.iloc[:, 0] < 1\n",
    "quantile_95 = quantile_95_tot.loc[quantile_95_cut, 0].to_numpy()\n",
    "quantile_95_indices = pd.Series(range(1, len(quantile_95)+1)).to_numpy()\n",
    "# Kurvenregression\n",
    "param_opt, param_cov, r_squared = fit_sim_curve(quantile_95_indices, quantile_95)\n",
    "a_opt, b_opt, c_opt = param_opt\n",
    "fitted_sim = fit_function(quantile_95_indices, a_opt, b_opt, c_opt)\n",
    "\n",
    "x = np.arange(1, len(quantile_95_tot[0]) + 1)\n",
    "y = np.ones_like(quantile_95_tot[0])\n",
    "y[quantile_95_tot[0] < 1] = fitted_sim[:len(fitted_sim)]\n",
    "\n",
    "\n",
    "if 0 == 1:\n",
    "    \"\"\"\n",
    "    Plots\n",
    "    \"\"\"\n",
    "    # Plot 2\n",
    "    #plt.plot(x, gz_bi, label='V2G (Laden)', color=(0.517, 0.721, 0.094))\n",
    "    #plt.plot(x, gz_bi_dis, label='V2G (Entladen)', color=(0.3, 0.3, 0.3))\n",
    "    plt.plot(x, y, label='Unidirektional', color=(0.717, 0.921, 0.294))\n",
    "    #plt.plot(x_unc, gz_unc, label='Ungesteuertes Laden', color=(0.6, 0.6, 0.6))\n",
    "    plt.grid(color='lightgrey', linestyle='-')\n",
    "    plt.xlabel('Anzahl der Fahrzeuge')\n",
    "    plt.ylim(0, 1.3)\n",
    "    plt.xlim(0, 155)\n",
    "    plt.ylabel('Gleichzeitigkeitsfaktor')\n",
    "    #plt.legend()\n",
    "    plt.show()\n",
    "    \n",
    "    plt.plot(x, y, label='Regressionskurve', color=(0.6, 0.6, 0.6))\n",
    "    plt.plot((quantile_95_tot.index + 1), quantile_95_tot, '.', label='95% Quantil', color=(0.517, 0.721, 0.094))\n",
    "    plt.grid(color='lightgrey', linestyle='-')\n",
    "    plt.xlabel('Anzahl der Fahrzeuge')\n",
    "    plt.ylim(0, 1.1)\n",
    "    plt.xlim(0, 155)\n",
    "    plt.ylabel('Gleichzeitigkeitsfaktor')\n",
    "    plt.legend()\n",
    "    plt.show()\n",
    "    \n",
    "    # Plot 1\n",
    "    plt.plot((sim_curve.index + 1), sim_curve, label='Maximale Gleichzeitigkeit', color=(0.6, 0.6, 0.6))\n",
    "    plt.grid(color='lightgrey', linestyle='-')\n",
    "    plt.plot((quantile_95_tot.index + 1), quantile_95_tot, '.', label='95% Quantil', color=(0.517, 0.721, 0.094))\n",
    "    plt.plot(x, y, label='Regressionskurve', color=(0.3, 0.3, 0.3))\n",
    "    plt.xlabel('Anzahl der Fahrzeuge')\n",
    "    plt.ylim(0, 1.1)\n",
    "    plt.xlim(0, 155)\n",
    "    plt.ylabel('Gleichzeitigkeitsfaktor')\n",
    "    plt.legend()\n",
    "    plt.show()\n",
    "    \n",
    "    # Plot 3\n",
    "    plt.plot(x, y, label='95% Quantil', color=(0.517, 0.721, 0.094))\n",
    "    plt.grid(color='lightgrey', linestyle='-')\n",
    "    plt.xlabel('Anzahl der Fahrzeuge')\n",
    "    plt.ylim(0, 1.1)\n",
    "    plt.xlim(0, 155)\n",
    "    plt.ylabel('Gleichzeitigkeitsfaktor')\n",
    "    plt.show()\n"
   ],
   "metadata": {
    "collapsed": false,
    "ExecuteTime": {
     "end_time": "2023-11-22T11:45:45.076467300Z",
     "start_time": "2023-11-22T11:45:45.032300300Z"
    }
   },
   "id": "e7907d9a88b2bdb9"
  },
  {
   "cell_type": "code",
   "execution_count": 284,
   "outputs": [
    {
     "data": {
      "text/plain": "time\n2019-01-01 00:00:00    0.000844\n2019-01-01 00:15:00    0.000759\n2019-01-01 00:30:00    0.000686\n2019-01-01 00:45:00    0.000623\n2019-01-01 01:00:00    0.000577\n                         ...   \n2019-01-14 23:00:00    0.001237\n2019-01-14 23:15:00    0.001139\n2019-01-14 23:30:00    0.001042\n2019-01-14 23:45:00    0.000946\n2019-01-15 00:00:00    0.000946\nName: p, Length: 1369, dtype: float64"
     },
     "execution_count": 284,
     "metadata": {},
     "output_type": "execute_result"
    }
   ],
   "source": [
    "gwr.results.participants.ems.get('32bdf883-bf93-41d4-8df0-341c643c0dde').p"
   ],
   "metadata": {
    "collapsed": false,
    "ExecuteTime": {
     "end_time": "2023-11-22T11:24:08.772690900Z",
     "start_time": "2023-11-22T11:24:08.764272800Z"
    }
   },
   "id": "39a21fa06ee43f45"
  },
  {
   "cell_type": "code",
   "execution_count": 292,
   "outputs": [
    {
     "data": {
      "text/plain": "['a30bb0a8-e3c1-4575-8d85-a0f4743e0722',\n '53b6196d-11e7-45d5-b5e3-7afff2aeb44a',\n '438ca8f7-f8f2-4f5e-8214-a2ac8122f0a0',\n '5abd3b40-3553-4a26-90a5-ed234380ed51',\n 'e0fd50f1-bbbe-4817-b378-38835d440c0c']"
     },
     "execution_count": 292,
     "metadata": {},
     "output_type": "execute_result"
    }
   ],
   "source": [
    "gwr.grid.participants.ems.connected_assets.get('32bdf883-bf93-41d4-8df0-341c643c0dde')"
   ],
   "metadata": {
    "collapsed": false,
    "ExecuteTime": {
     "end_time": "2023-11-22T11:30:50.106589700Z",
     "start_time": "2023-11-22T11:30:50.101058100Z"
    }
   },
   "id": "197d68b2f815a629"
  },
  {
   "cell_type": "code",
   "execution_count": 322,
   "outputs": [
    {
     "name": "stdout",
     "output_type": "stream",
     "text": [
      "load 0.0006915860014892033\n",
      "pv [0.]\n",
      "storage [0.]\n",
      "evcs [0.]\n",
      "hps [0.00555915]\n",
      "[0.00625074]\n"
     ]
    }
   ],
   "source": [
    "testdf=gwr.results.participants.loads.get('a30bb0a8-e3c1-4575-8d85-a0f4743e0722').p\n",
    "profile_row = datetime(2019,1,9,0,30)\n",
    "load=testdf[profile_row]\n",
    "print('load ' + load.__str__())\n",
    "\n",
    "testdf=gwr.results.participants.pvs.get('53b6196d-11e7-45d5-b5e3-7afff2aeb44a')\n",
    "pvs=testdf[profile_row].p.values\n",
    "\n",
    "print('pv ' + pvs.__str__())\n",
    "\n",
    "\n",
    "testdf=gwr.results.participants.storages.get('438ca8f7-f8f2-4f5e-8214-a2ac8122f0a0')\n",
    "print('storage ' + testdf[profile_row].p.values.__str__())\n",
    "\n",
    "testdf=gwr.results.participants.evcs.get('5abd3b40-3553-4a26-90a5-ed234380ed51')\n",
    "print('evcs ' + testdf[profile_row].p.values.__str__())\n",
    "\n",
    "testdf=gwr.results.participants.hps.get('e0fd50f1-bbbe-4817-b378-38835d440c0c')\n",
    "hps = testdf[profile_row].p.values\n",
    "print('hps ' + hps.__str__())\n",
    "\n",
    "summe = load + hps\n",
    "print(summe)"
   ],
   "metadata": {
    "collapsed": false,
    "ExecuteTime": {
     "end_time": "2023-11-22T11:39:53.367496800Z",
     "start_time": "2023-11-22T11:39:53.348282200Z"
    }
   },
   "id": "4c9a3c306d40d999"
  },
  {
   "cell_type": "code",
   "execution_count": 291,
   "outputs": [
    {
     "data": {
      "text/plain": "                     0cb2a585-82ff-4999-a27a-d056c8f4efd4  \\\ntime                                                        \n2019-01-01 00:00:00                              0.000844   \n2019-01-01 00:15:00                              0.000759   \n2019-01-01 00:30:00                              0.000686   \n2019-01-01 00:45:00                              0.000623   \n2019-01-01 01:00:00                              0.000577   \n...                                                   ...   \n2019-01-14 23:00:00                              0.001237   \n2019-01-14 23:15:00                              0.001139   \n2019-01-14 23:30:00                              0.001042   \n2019-01-14 23:45:00                              0.000946   \n2019-01-15 00:00:00                              0.000946   \n\n                     104b01a4-087b-475e-ad64-6f993a4bc861  \\\ntime                                                        \n2019-01-01 00:00:00                              0.000844   \n2019-01-01 00:15:00                              0.000759   \n2019-01-01 00:30:00                              0.000686   \n2019-01-01 00:45:00                              0.000623   \n2019-01-01 01:00:00                              0.000577   \n...                                                   ...   \n2019-01-14 23:00:00                              0.001237   \n2019-01-14 23:15:00                              0.001139   \n2019-01-14 23:30:00                              0.001042   \n2019-01-14 23:45:00                              0.000946   \n2019-01-15 00:00:00                              0.000946   \n\n                     11239ca9-ea82-4ecd-8258-711e7b219ba6  \\\ntime                                                        \n2019-01-01 00:00:00                              0.000844   \n2019-01-01 00:15:00                              0.000759   \n2019-01-01 00:30:00                              0.000686   \n2019-01-01 00:45:00                              0.000623   \n2019-01-01 01:00:00                              0.000577   \n...                                                   ...   \n2019-01-14 23:00:00                              0.001237   \n2019-01-14 23:15:00                              0.001139   \n2019-01-14 23:30:00                              0.001042   \n2019-01-14 23:45:00                              0.000946   \n2019-01-15 00:00:00                              0.000946   \n\n                     16ff9d48-d412-4c3a-a3a5-5f1e637adff4  \\\ntime                                                        \n2019-01-01 00:00:00                              0.000844   \n2019-01-01 00:15:00                              0.000759   \n2019-01-01 00:30:00                              0.000686   \n2019-01-01 00:45:00                              0.000623   \n2019-01-01 01:00:00                              0.000577   \n...                                                   ...   \n2019-01-14 23:00:00                              0.001237   \n2019-01-14 23:15:00                              0.001139   \n2019-01-14 23:30:00                              0.001042   \n2019-01-14 23:45:00                              0.000946   \n2019-01-15 00:00:00                              0.000946   \n\n                     1e319e79-8468-49ca-ba01-f28931f75313  \\\ntime                                                        \n2019-01-01 00:00:00                              0.000844   \n2019-01-01 00:15:00                              0.000759   \n2019-01-01 00:30:00                              0.000686   \n2019-01-01 00:45:00                              0.000623   \n2019-01-01 01:00:00                              0.000577   \n...                                                   ...   \n2019-01-14 23:00:00                              0.001237   \n2019-01-14 23:15:00                              0.001139   \n2019-01-14 23:30:00                              0.001042   \n2019-01-14 23:45:00                              0.000946   \n2019-01-15 00:00:00                              0.000946   \n\n                     3685a343-c547-412c-a844-26cd574540c8  \\\ntime                                                        \n2019-01-01 00:00:00                              0.000844   \n2019-01-01 00:15:00                              0.000759   \n2019-01-01 00:30:00                              0.000686   \n2019-01-01 00:45:00                              0.000623   \n2019-01-01 01:00:00                              0.000577   \n...                                                   ...   \n2019-01-14 23:00:00                              0.001237   \n2019-01-14 23:15:00                              0.001139   \n2019-01-14 23:30:00                              0.001042   \n2019-01-14 23:45:00                              0.000946   \n2019-01-15 00:00:00                              0.000946   \n\n                     39a820fe-82d7-4fdd-a78d-5daf9a5b0250  \\\ntime                                                        \n2019-01-01 00:00:00                              0.000844   \n2019-01-01 00:15:00                              0.000759   \n2019-01-01 00:30:00                              0.000686   \n2019-01-01 00:45:00                              0.000623   \n2019-01-01 01:00:00                              0.000577   \n...                                                   ...   \n2019-01-14 23:00:00                              0.001237   \n2019-01-14 23:15:00                              0.001139   \n2019-01-14 23:30:00                              0.001042   \n2019-01-14 23:45:00                              0.000946   \n2019-01-15 00:00:00                              0.000946   \n\n                     3c0f8fb3-2a76-4b8f-a28f-807d7826a8a9  \\\ntime                                                        \n2019-01-01 00:00:00                              0.000844   \n2019-01-01 00:15:00                              0.000759   \n2019-01-01 00:30:00                              0.000686   \n2019-01-01 00:45:00                              0.000623   \n2019-01-01 01:00:00                              0.000577   \n...                                                   ...   \n2019-01-14 23:00:00                              0.001237   \n2019-01-14 23:15:00                              0.001139   \n2019-01-14 23:30:00                              0.001042   \n2019-01-14 23:45:00                              0.000946   \n2019-01-15 00:00:00                              0.000946   \n\n                     402ed403-617b-459b-82f7-530941973231  \\\ntime                                                        \n2019-01-01 00:00:00                              0.000844   \n2019-01-01 00:15:00                              0.000759   \n2019-01-01 00:30:00                              0.000686   \n2019-01-01 00:45:00                              0.000623   \n2019-01-01 01:00:00                              0.000577   \n...                                                   ...   \n2019-01-14 23:00:00                              0.001237   \n2019-01-14 23:15:00                              0.001139   \n2019-01-14 23:30:00                              0.001042   \n2019-01-14 23:45:00                              0.000946   \n2019-01-15 00:00:00                              0.000946   \n\n                     479d59f3-2329-48e7-94b9-e9d6d65687b1  ...  \\\ntime                                                       ...   \n2019-01-01 00:00:00                              0.000844  ...   \n2019-01-01 00:15:00                              0.000759  ...   \n2019-01-01 00:30:00                              0.000686  ...   \n2019-01-01 00:45:00                              0.000623  ...   \n2019-01-01 01:00:00                              0.000577  ...   \n...                                                   ...  ...   \n2019-01-14 23:00:00                              0.001237  ...   \n2019-01-14 23:15:00                              0.001139  ...   \n2019-01-14 23:30:00                              0.001042  ...   \n2019-01-14 23:45:00                              0.000946  ...   \n2019-01-15 00:00:00                              0.000946  ...   \n\n                     b73f679c-8972-40b2-ab10-d4fe6de92b6a  \\\ntime                                                        \n2019-01-01 00:00:00                              0.000844   \n2019-01-01 00:15:00                              0.000759   \n2019-01-01 00:30:00                              0.000686   \n2019-01-01 00:45:00                              0.000623   \n2019-01-01 01:00:00                              0.000577   \n...                                                   ...   \n2019-01-14 23:00:00                              0.001237   \n2019-01-14 23:15:00                              0.001139   \n2019-01-14 23:30:00                              0.001042   \n2019-01-14 23:45:00                              0.000946   \n2019-01-15 00:00:00                              0.000946   \n\n                     b9c2574d-782e-4d46-b079-9e3e3a7e0c66  \\\ntime                                                        \n2019-01-01 00:00:00                              0.000844   \n2019-01-01 00:15:00                              0.000759   \n2019-01-01 00:30:00                              0.000686   \n2019-01-01 00:45:00                              0.000623   \n2019-01-01 01:00:00                              0.000577   \n...                                                   ...   \n2019-01-14 23:00:00                              0.001237   \n2019-01-14 23:15:00                              0.001139   \n2019-01-14 23:30:00                              0.001042   \n2019-01-14 23:45:00                              0.000946   \n2019-01-15 00:00:00                              0.000946   \n\n                     c0bb7689-88bd-4ca4-a81f-16f4ea2a221b  \\\ntime                                                        \n2019-01-01 00:00:00                              0.000844   \n2019-01-01 00:15:00                              0.000759   \n2019-01-01 00:30:00                              0.000686   \n2019-01-01 00:45:00                              0.000623   \n2019-01-01 01:00:00                              0.000577   \n...                                                   ...   \n2019-01-14 23:00:00                              0.001237   \n2019-01-14 23:15:00                              0.001139   \n2019-01-14 23:30:00                              0.001042   \n2019-01-14 23:45:00                              0.000946   \n2019-01-15 00:00:00                              0.000946   \n\n                     cdf23a76-9091-4968-93f1-444cc8c4e7bd  \\\ntime                                                        \n2019-01-01 00:00:00                              0.000844   \n2019-01-01 00:15:00                              0.000759   \n2019-01-01 00:30:00                              0.000686   \n2019-01-01 00:45:00                              0.000623   \n2019-01-01 01:00:00                              0.000577   \n...                                                   ...   \n2019-01-14 23:00:00                              0.001237   \n2019-01-14 23:15:00                              0.001139   \n2019-01-14 23:30:00                              0.001042   \n2019-01-14 23:45:00                              0.000946   \n2019-01-15 00:00:00                              0.000946   \n\n                     d7947073-af0a-4f55-bf5c-171178138b79  \\\ntime                                                        \n2019-01-01 00:00:00                              0.000844   \n2019-01-01 00:15:00                              0.000759   \n2019-01-01 00:30:00                              0.000686   \n2019-01-01 00:45:00                              0.000623   \n2019-01-01 01:00:00                              0.000577   \n...                                                   ...   \n2019-01-14 23:00:00                              0.001237   \n2019-01-14 23:15:00                              0.001139   \n2019-01-14 23:30:00                              0.001042   \n2019-01-14 23:45:00                              0.000946   \n2019-01-15 00:00:00                              0.000946   \n\n                     df2f6c58-8bb2-40b5-a966-b5714ed609b7  \\\ntime                                                        \n2019-01-01 00:00:00                              0.000844   \n2019-01-01 00:15:00                              0.000759   \n2019-01-01 00:30:00                              0.000686   \n2019-01-01 00:45:00                              0.000623   \n2019-01-01 01:00:00                              0.000577   \n...                                                   ...   \n2019-01-14 23:00:00                              0.001237   \n2019-01-14 23:15:00                              0.001139   \n2019-01-14 23:30:00                              0.001042   \n2019-01-14 23:45:00                              0.000946   \n2019-01-15 00:00:00                              0.000946   \n\n                     df34ab8a-8927-4e2d-a741-bc8d274e3841  \\\ntime                                                        \n2019-01-01 00:00:00                              0.000844   \n2019-01-01 00:15:00                              0.000759   \n2019-01-01 00:30:00                              0.000686   \n2019-01-01 00:45:00                              0.000623   \n2019-01-01 01:00:00                              0.000577   \n...                                                   ...   \n2019-01-14 23:00:00                              0.001237   \n2019-01-14 23:15:00                              0.001139   \n2019-01-14 23:30:00                              0.001042   \n2019-01-14 23:45:00                              0.000946   \n2019-01-15 00:00:00                              0.000946   \n\n                     e4547641-03e7-437d-980e-fee1e9152057  \\\ntime                                                        \n2019-01-01 00:00:00                              0.000844   \n2019-01-01 00:15:00                              0.000759   \n2019-01-01 00:30:00                              0.000686   \n2019-01-01 00:45:00                              0.000623   \n2019-01-01 01:00:00                              0.000577   \n...                                                   ...   \n2019-01-14 23:00:00                              0.001237   \n2019-01-14 23:15:00                              0.001139   \n2019-01-14 23:30:00                              0.001042   \n2019-01-14 23:45:00                              0.000946   \n2019-01-15 00:00:00                              0.000946   \n\n                     f306ba1d-c636-4f08-99ce-0cbc11fb746a  \\\ntime                                                        \n2019-01-01 00:00:00                              0.000844   \n2019-01-01 00:15:00                              0.000759   \n2019-01-01 00:30:00                              0.000686   \n2019-01-01 00:45:00                              0.000623   \n2019-01-01 01:00:00                              0.000577   \n...                                                   ...   \n2019-01-14 23:00:00                              0.001237   \n2019-01-14 23:15:00                              0.001139   \n2019-01-14 23:30:00                              0.001042   \n2019-01-14 23:45:00                              0.000946   \n2019-01-15 00:00:00                              0.000946   \n\n                     fdcbdd9a-cf76-4ec9-b5d7-a68d4b9acdb8  \ntime                                                       \n2019-01-01 00:00:00                              0.000844  \n2019-01-01 00:15:00                              0.000759  \n2019-01-01 00:30:00                              0.000686  \n2019-01-01 00:45:00                              0.000623  \n2019-01-01 01:00:00                              0.000577  \n...                                                   ...  \n2019-01-14 23:00:00                              0.001237  \n2019-01-14 23:15:00                              0.001139  \n2019-01-14 23:30:00                              0.001042  \n2019-01-14 23:45:00                              0.000946  \n2019-01-15 00:00:00                              0.000946  \n\n[1345 rows x 32 columns]",
      "text/html": "<div>\n<style scoped>\n    .dataframe tbody tr th:only-of-type {\n        vertical-align: middle;\n    }\n\n    .dataframe tbody tr th {\n        vertical-align: top;\n    }\n\n    .dataframe thead th {\n        text-align: right;\n    }\n</style>\n<table border=\"1\" class=\"dataframe\">\n  <thead>\n    <tr style=\"text-align: right;\">\n      <th></th>\n      <th>0cb2a585-82ff-4999-a27a-d056c8f4efd4</th>\n      <th>104b01a4-087b-475e-ad64-6f993a4bc861</th>\n      <th>11239ca9-ea82-4ecd-8258-711e7b219ba6</th>\n      <th>16ff9d48-d412-4c3a-a3a5-5f1e637adff4</th>\n      <th>1e319e79-8468-49ca-ba01-f28931f75313</th>\n      <th>3685a343-c547-412c-a844-26cd574540c8</th>\n      <th>39a820fe-82d7-4fdd-a78d-5daf9a5b0250</th>\n      <th>3c0f8fb3-2a76-4b8f-a28f-807d7826a8a9</th>\n      <th>402ed403-617b-459b-82f7-530941973231</th>\n      <th>479d59f3-2329-48e7-94b9-e9d6d65687b1</th>\n      <th>...</th>\n      <th>b73f679c-8972-40b2-ab10-d4fe6de92b6a</th>\n      <th>b9c2574d-782e-4d46-b079-9e3e3a7e0c66</th>\n      <th>c0bb7689-88bd-4ca4-a81f-16f4ea2a221b</th>\n      <th>cdf23a76-9091-4968-93f1-444cc8c4e7bd</th>\n      <th>d7947073-af0a-4f55-bf5c-171178138b79</th>\n      <th>df2f6c58-8bb2-40b5-a966-b5714ed609b7</th>\n      <th>df34ab8a-8927-4e2d-a741-bc8d274e3841</th>\n      <th>e4547641-03e7-437d-980e-fee1e9152057</th>\n      <th>f306ba1d-c636-4f08-99ce-0cbc11fb746a</th>\n      <th>fdcbdd9a-cf76-4ec9-b5d7-a68d4b9acdb8</th>\n    </tr>\n    <tr>\n      <th>time</th>\n      <th></th>\n      <th></th>\n      <th></th>\n      <th></th>\n      <th></th>\n      <th></th>\n      <th></th>\n      <th></th>\n      <th></th>\n      <th></th>\n      <th></th>\n      <th></th>\n      <th></th>\n      <th></th>\n      <th></th>\n      <th></th>\n      <th></th>\n      <th></th>\n      <th></th>\n      <th></th>\n      <th></th>\n    </tr>\n  </thead>\n  <tbody>\n    <tr>\n      <th>2019-01-01 00:00:00</th>\n      <td>0.000844</td>\n      <td>0.000844</td>\n      <td>0.000844</td>\n      <td>0.000844</td>\n      <td>0.000844</td>\n      <td>0.000844</td>\n      <td>0.000844</td>\n      <td>0.000844</td>\n      <td>0.000844</td>\n      <td>0.000844</td>\n      <td>...</td>\n      <td>0.000844</td>\n      <td>0.000844</td>\n      <td>0.000844</td>\n      <td>0.000844</td>\n      <td>0.000844</td>\n      <td>0.000844</td>\n      <td>0.000844</td>\n      <td>0.000844</td>\n      <td>0.000844</td>\n      <td>0.000844</td>\n    </tr>\n    <tr>\n      <th>2019-01-01 00:15:00</th>\n      <td>0.000759</td>\n      <td>0.000759</td>\n      <td>0.000759</td>\n      <td>0.000759</td>\n      <td>0.000759</td>\n      <td>0.000759</td>\n      <td>0.000759</td>\n      <td>0.000759</td>\n      <td>0.000759</td>\n      <td>0.000759</td>\n      <td>...</td>\n      <td>0.000759</td>\n      <td>0.000759</td>\n      <td>0.000759</td>\n      <td>0.000759</td>\n      <td>0.000759</td>\n      <td>0.000759</td>\n      <td>0.000759</td>\n      <td>0.000759</td>\n      <td>0.000759</td>\n      <td>0.000759</td>\n    </tr>\n    <tr>\n      <th>2019-01-01 00:30:00</th>\n      <td>0.000686</td>\n      <td>0.000686</td>\n      <td>0.000686</td>\n      <td>0.000686</td>\n      <td>0.000686</td>\n      <td>0.000686</td>\n      <td>0.000686</td>\n      <td>0.000686</td>\n      <td>0.000686</td>\n      <td>0.000686</td>\n      <td>...</td>\n      <td>0.000686</td>\n      <td>0.000686</td>\n      <td>0.000686</td>\n      <td>0.000686</td>\n      <td>0.000686</td>\n      <td>0.000686</td>\n      <td>0.000686</td>\n      <td>0.000686</td>\n      <td>0.000686</td>\n      <td>0.000686</td>\n    </tr>\n    <tr>\n      <th>2019-01-01 00:45:00</th>\n      <td>0.000623</td>\n      <td>0.000623</td>\n      <td>0.000623</td>\n      <td>0.000623</td>\n      <td>0.000623</td>\n      <td>0.000623</td>\n      <td>0.000623</td>\n      <td>0.000623</td>\n      <td>0.000623</td>\n      <td>0.000623</td>\n      <td>...</td>\n      <td>0.000623</td>\n      <td>0.000623</td>\n      <td>0.000623</td>\n      <td>0.000623</td>\n      <td>0.000623</td>\n      <td>0.000623</td>\n      <td>0.000623</td>\n      <td>0.000623</td>\n      <td>0.000623</td>\n      <td>0.000623</td>\n    </tr>\n    <tr>\n      <th>2019-01-01 01:00:00</th>\n      <td>0.000577</td>\n      <td>0.000577</td>\n      <td>0.000577</td>\n      <td>0.000577</td>\n      <td>0.000577</td>\n      <td>0.000577</td>\n      <td>0.000577</td>\n      <td>0.000577</td>\n      <td>0.000577</td>\n      <td>0.000577</td>\n      <td>...</td>\n      <td>0.000577</td>\n      <td>0.000577</td>\n      <td>0.000577</td>\n      <td>0.000577</td>\n      <td>0.000577</td>\n      <td>0.000577</td>\n      <td>0.000577</td>\n      <td>0.000577</td>\n      <td>0.000577</td>\n      <td>0.000577</td>\n    </tr>\n    <tr>\n      <th>...</th>\n      <td>...</td>\n      <td>...</td>\n      <td>...</td>\n      <td>...</td>\n      <td>...</td>\n      <td>...</td>\n      <td>...</td>\n      <td>...</td>\n      <td>...</td>\n      <td>...</td>\n      <td>...</td>\n      <td>...</td>\n      <td>...</td>\n      <td>...</td>\n      <td>...</td>\n      <td>...</td>\n      <td>...</td>\n      <td>...</td>\n      <td>...</td>\n      <td>...</td>\n      <td>...</td>\n    </tr>\n    <tr>\n      <th>2019-01-14 23:00:00</th>\n      <td>0.001237</td>\n      <td>0.001237</td>\n      <td>0.001237</td>\n      <td>0.001237</td>\n      <td>0.001237</td>\n      <td>0.001237</td>\n      <td>0.001237</td>\n      <td>0.001237</td>\n      <td>0.001237</td>\n      <td>0.001237</td>\n      <td>...</td>\n      <td>0.001237</td>\n      <td>0.001237</td>\n      <td>0.001237</td>\n      <td>0.001237</td>\n      <td>0.001237</td>\n      <td>0.001237</td>\n      <td>0.001237</td>\n      <td>0.001237</td>\n      <td>0.001237</td>\n      <td>0.001237</td>\n    </tr>\n    <tr>\n      <th>2019-01-14 23:15:00</th>\n      <td>0.001139</td>\n      <td>0.001139</td>\n      <td>0.001139</td>\n      <td>0.001139</td>\n      <td>0.001139</td>\n      <td>0.001139</td>\n      <td>0.001139</td>\n      <td>0.001139</td>\n      <td>0.001139</td>\n      <td>0.001139</td>\n      <td>...</td>\n      <td>0.001139</td>\n      <td>0.001139</td>\n      <td>0.001139</td>\n      <td>0.001139</td>\n      <td>0.001139</td>\n      <td>0.001139</td>\n      <td>0.001139</td>\n      <td>0.001139</td>\n      <td>0.001139</td>\n      <td>0.001139</td>\n    </tr>\n    <tr>\n      <th>2019-01-14 23:30:00</th>\n      <td>0.001042</td>\n      <td>0.001042</td>\n      <td>0.001042</td>\n      <td>0.001042</td>\n      <td>0.001042</td>\n      <td>0.001042</td>\n      <td>0.001042</td>\n      <td>0.001042</td>\n      <td>0.001042</td>\n      <td>0.001042</td>\n      <td>...</td>\n      <td>0.001042</td>\n      <td>0.001042</td>\n      <td>0.001042</td>\n      <td>0.001042</td>\n      <td>0.001042</td>\n      <td>0.001042</td>\n      <td>0.001042</td>\n      <td>0.001042</td>\n      <td>0.001042</td>\n      <td>0.001042</td>\n    </tr>\n    <tr>\n      <th>2019-01-14 23:45:00</th>\n      <td>0.000946</td>\n      <td>0.000946</td>\n      <td>0.000946</td>\n      <td>0.000946</td>\n      <td>0.000946</td>\n      <td>0.000946</td>\n      <td>0.000946</td>\n      <td>0.000946</td>\n      <td>0.000946</td>\n      <td>0.000946</td>\n      <td>...</td>\n      <td>0.000946</td>\n      <td>0.000946</td>\n      <td>0.000946</td>\n      <td>0.000946</td>\n      <td>0.000946</td>\n      <td>0.000946</td>\n      <td>0.000946</td>\n      <td>0.000946</td>\n      <td>0.000946</td>\n      <td>0.000946</td>\n    </tr>\n    <tr>\n      <th>2019-01-15 00:00:00</th>\n      <td>0.000946</td>\n      <td>0.000946</td>\n      <td>0.000946</td>\n      <td>0.000946</td>\n      <td>0.000946</td>\n      <td>0.000946</td>\n      <td>0.000946</td>\n      <td>0.000946</td>\n      <td>0.000946</td>\n      <td>0.000946</td>\n      <td>...</td>\n      <td>0.000946</td>\n      <td>0.000946</td>\n      <td>0.000946</td>\n      <td>0.000946</td>\n      <td>0.000946</td>\n      <td>0.000946</td>\n      <td>0.000946</td>\n      <td>0.000946</td>\n      <td>0.000946</td>\n      <td>0.000946</td>\n    </tr>\n  </tbody>\n</table>\n<p>1345 rows × 32 columns</p>\n</div>"
     },
     "execution_count": 291,
     "metadata": {},
     "output_type": "execute_result"
    }
   ],
   "source": [
    "gwr.results.participants.loads.get()"
   ],
   "metadata": {
    "collapsed": false,
    "ExecuteTime": {
     "end_time": "2023-11-22T11:29:33.079056600Z",
     "start_time": "2023-11-22T11:29:33.057113900Z"
    }
   },
   "id": "6d83c4d21816d666"
  },
  {
   "cell_type": "code",
   "execution_count": null,
   "outputs": [],
   "source": [],
   "metadata": {
    "collapsed": false
   },
   "id": "dd7e5da53f9462a0"
  },
  {
   "cell_type": "code",
   "execution_count": null,
   "outputs": [],
   "source": [],
   "metadata": {
    "collapsed": false
   },
   "id": "e732a9af57867c07"
  },
  {
   "cell_type": "code",
   "execution_count": null,
   "outputs": [],
   "source": [],
   "metadata": {
    "collapsed": false
   },
   "id": "bbd851fba7438119"
  },
  {
   "cell_type": "code",
   "execution_count": null,
   "outputs": [],
   "source": [],
   "metadata": {
    "collapsed": false
   },
   "id": "f8d3c2133f0ea23"
  },
  {
   "cell_type": "markdown",
   "source": [
    "## Code von Vicky\n"
   ],
   "metadata": {
    "collapsed": false
   },
   "id": "890ce54bec090b76"
  },
  {
   "cell_type": "code",
   "execution_count": 323,
   "outputs": [
    {
     "name": "stdout",
     "output_type": "stream",
     "text": [
      "Calculate GZ for ev-number 1\n",
      "Calculate GZ for ev-number 2\n",
      "Calculate GZ for ev-number 3\n"
     ]
    },
    {
     "ename": "KeyboardInterrupt",
     "evalue": "",
     "output_type": "error",
     "traceback": [
      "\u001B[1;31m---------------------------------------------------------------------------\u001B[0m",
      "\u001B[1;31mKeyboardInterrupt\u001B[0m                         Traceback (most recent call last)",
      "Cell \u001B[1;32mIn[323], line 115\u001B[0m\n\u001B[0;32m    109\u001B[0m df_norm \u001B[38;5;241m=\u001B[39m normalize_dataframe(df_resample, \u001B[38;5;241m0\u001B[39m,\u001B[38;5;241m0.011\u001B[39m)\n\u001B[0;32m    111\u001B[0m \u001B[38;5;66;03m#df_norm = quarter_hourly_mean_resample(normalize_dataframe(gwr.results.participants.evcs.p,0, 0.011))\u001B[39;00m\n\u001B[0;32m    112\u001B[0m \n\u001B[0;32m    113\u001B[0m \n\u001B[0;32m    114\u001B[0m \u001B[38;5;66;03m# Start: GZ-Kurve\u001B[39;00m\n\u001B[1;32m--> 115\u001B[0m sim_curve, quantile_95_tot \u001B[38;5;241m=\u001B[39m \u001B[43mcalculate_gz_curve\u001B[49m\u001B[43m(\u001B[49m\u001B[43mdf_norm\u001B[49m\u001B[43m,\u001B[49m\u001B[43m \u001B[49m\u001B[43mlen_curve\u001B[49m\u001B[43m,\u001B[49m\u001B[43m \u001B[49m\u001B[43mnum_mc\u001B[49m\u001B[43m)\u001B[49m\n\u001B[0;32m    116\u001B[0m quantile_95_cut \u001B[38;5;241m=\u001B[39m quantile_95_tot\u001B[38;5;241m.\u001B[39miloc[:, \u001B[38;5;241m0\u001B[39m] \u001B[38;5;241m<\u001B[39m \u001B[38;5;241m1\u001B[39m\n\u001B[0;32m    117\u001B[0m quantile_95 \u001B[38;5;241m=\u001B[39m quantile_95_tot\u001B[38;5;241m.\u001B[39mloc[quantile_95_cut, \u001B[38;5;241m0\u001B[39m]\u001B[38;5;241m.\u001B[39mto_numpy()\n",
      "Cell \u001B[1;32mIn[323], line 28\u001B[0m, in \u001B[0;36mcalculate_gz_curve\u001B[1;34m(df_norm, len_curve, num_mc)\u001B[0m\n\u001B[0;32m     26\u001B[0m \u001B[38;5;28;01mfor\u001B[39;00m mc \u001B[38;5;129;01min\u001B[39;00m \u001B[38;5;28mrange\u001B[39m(num_mc):\n\u001B[0;32m     27\u001B[0m     profile_row \u001B[38;5;241m=\u001B[39m np\u001B[38;5;241m.\u001B[39mrandom\u001B[38;5;241m.\u001B[39mchoice(df_norm\u001B[38;5;241m.\u001B[39mindex, size\u001B[38;5;241m=\u001B[39mn, replace\u001B[38;5;241m=\u001B[39m\u001B[38;5;28;01mFalse\u001B[39;00m)\n\u001B[1;32m---> 28\u001B[0m     mc_profile \u001B[38;5;241m=\u001B[39m \u001B[43mdf_norm\u001B[49m\u001B[38;5;241;43m.\u001B[39;49m\u001B[43mloc\u001B[49m\u001B[43m[\u001B[49m\u001B[43mprofile_row\u001B[49m\u001B[43m,\u001B[49m\u001B[43m \u001B[49m\u001B[43m:\u001B[49m\u001B[43m]\u001B[49m\n\u001B[0;32m     29\u001B[0m     temp_sim[mc] \u001B[38;5;241m=\u001B[39m mc_profile\u001B[38;5;241m.\u001B[39msum(axis\u001B[38;5;241m=\u001B[39m\u001B[38;5;241m0\u001B[39m)\u001B[38;5;241m.\u001B[39mmax() \u001B[38;5;241m/\u001B[39m n\n\u001B[0;32m     30\u001B[0m sim_curve\u001B[38;5;241m.\u001B[39miloc[n \u001B[38;5;241m-\u001B[39m \u001B[38;5;241m1\u001B[39m, \u001B[38;5;241m0\u001B[39m] \u001B[38;5;241m=\u001B[39m temp_sim\u001B[38;5;241m.\u001B[39mmax()\n",
      "File \u001B[1;32m~\\AppData\\Local\\pypoetry\\Cache\\virtualenvs\\pypsdm-qt54NClq-py3.11\\Lib\\site-packages\\pandas\\core\\indexing.py:1097\u001B[0m, in \u001B[0;36m_LocationIndexer.__getitem__\u001B[1;34m(self, key)\u001B[0m\n\u001B[0;32m   1095\u001B[0m     \u001B[38;5;28;01mif\u001B[39;00m \u001B[38;5;28mself\u001B[39m\u001B[38;5;241m.\u001B[39m_is_scalar_access(key):\n\u001B[0;32m   1096\u001B[0m         \u001B[38;5;28;01mreturn\u001B[39;00m \u001B[38;5;28mself\u001B[39m\u001B[38;5;241m.\u001B[39mobj\u001B[38;5;241m.\u001B[39m_get_value(\u001B[38;5;241m*\u001B[39mkey, takeable\u001B[38;5;241m=\u001B[39m\u001B[38;5;28mself\u001B[39m\u001B[38;5;241m.\u001B[39m_takeable)\n\u001B[1;32m-> 1097\u001B[0m     \u001B[38;5;28;01mreturn\u001B[39;00m \u001B[38;5;28;43mself\u001B[39;49m\u001B[38;5;241;43m.\u001B[39;49m\u001B[43m_getitem_tuple\u001B[49m\u001B[43m(\u001B[49m\u001B[43mkey\u001B[49m\u001B[43m)\u001B[49m\n\u001B[0;32m   1098\u001B[0m \u001B[38;5;28;01melse\u001B[39;00m:\n\u001B[0;32m   1099\u001B[0m     \u001B[38;5;66;03m# we by definition only have the 0th axis\u001B[39;00m\n\u001B[0;32m   1100\u001B[0m     axis \u001B[38;5;241m=\u001B[39m \u001B[38;5;28mself\u001B[39m\u001B[38;5;241m.\u001B[39maxis \u001B[38;5;129;01mor\u001B[39;00m \u001B[38;5;241m0\u001B[39m\n",
      "File \u001B[1;32m~\\AppData\\Local\\pypoetry\\Cache\\virtualenvs\\pypsdm-qt54NClq-py3.11\\Lib\\site-packages\\pandas\\core\\indexing.py:1289\u001B[0m, in \u001B[0;36m_LocIndexer._getitem_tuple\u001B[1;34m(self, tup)\u001B[0m\n\u001B[0;32m   1286\u001B[0m \u001B[38;5;28;01mif\u001B[39;00m \u001B[38;5;28mself\u001B[39m\u001B[38;5;241m.\u001B[39m_multi_take_opportunity(tup):\n\u001B[0;32m   1287\u001B[0m     \u001B[38;5;28;01mreturn\u001B[39;00m \u001B[38;5;28mself\u001B[39m\u001B[38;5;241m.\u001B[39m_multi_take(tup)\n\u001B[1;32m-> 1289\u001B[0m \u001B[38;5;28;01mreturn\u001B[39;00m \u001B[38;5;28;43mself\u001B[39;49m\u001B[38;5;241;43m.\u001B[39;49m\u001B[43m_getitem_tuple_same_dim\u001B[49m\u001B[43m(\u001B[49m\u001B[43mtup\u001B[49m\u001B[43m)\u001B[49m\n",
      "File \u001B[1;32m~\\AppData\\Local\\pypoetry\\Cache\\virtualenvs\\pypsdm-qt54NClq-py3.11\\Lib\\site-packages\\pandas\\core\\indexing.py:955\u001B[0m, in \u001B[0;36m_LocationIndexer._getitem_tuple_same_dim\u001B[1;34m(self, tup)\u001B[0m\n\u001B[0;32m    952\u001B[0m \u001B[38;5;28;01mif\u001B[39;00m com\u001B[38;5;241m.\u001B[39mis_null_slice(key):\n\u001B[0;32m    953\u001B[0m     \u001B[38;5;28;01mcontinue\u001B[39;00m\n\u001B[1;32m--> 955\u001B[0m retval \u001B[38;5;241m=\u001B[39m \u001B[38;5;28;43mgetattr\u001B[39;49m\u001B[43m(\u001B[49m\u001B[43mretval\u001B[49m\u001B[43m,\u001B[49m\u001B[43m \u001B[49m\u001B[38;5;28;43mself\u001B[39;49m\u001B[38;5;241;43m.\u001B[39;49m\u001B[43mname\u001B[49m\u001B[43m)\u001B[49m\u001B[38;5;241;43m.\u001B[39;49m\u001B[43m_getitem_axis\u001B[49m\u001B[43m(\u001B[49m\u001B[43mkey\u001B[49m\u001B[43m,\u001B[49m\u001B[43m \u001B[49m\u001B[43maxis\u001B[49m\u001B[38;5;241;43m=\u001B[39;49m\u001B[43mi\u001B[49m\u001B[43m)\u001B[49m\n\u001B[0;32m    956\u001B[0m \u001B[38;5;66;03m# We should never have retval.ndim < self.ndim, as that should\u001B[39;00m\n\u001B[0;32m    957\u001B[0m \u001B[38;5;66;03m#  be handled by the _getitem_lowerdim call above.\u001B[39;00m\n\u001B[0;32m    958\u001B[0m \u001B[38;5;28;01massert\u001B[39;00m retval\u001B[38;5;241m.\u001B[39mndim \u001B[38;5;241m==\u001B[39m \u001B[38;5;28mself\u001B[39m\u001B[38;5;241m.\u001B[39mndim\n",
      "File \u001B[1;32m~\\AppData\\Local\\pypoetry\\Cache\\virtualenvs\\pypsdm-qt54NClq-py3.11\\Lib\\site-packages\\pandas\\core\\indexing.py:1332\u001B[0m, in \u001B[0;36m_LocIndexer._getitem_axis\u001B[1;34m(self, key, axis)\u001B[0m\n\u001B[0;32m   1329\u001B[0m     \u001B[38;5;28;01mif\u001B[39;00m \u001B[38;5;28mhasattr\u001B[39m(key, \u001B[38;5;124m\"\u001B[39m\u001B[38;5;124mndim\u001B[39m\u001B[38;5;124m\"\u001B[39m) \u001B[38;5;129;01mand\u001B[39;00m key\u001B[38;5;241m.\u001B[39mndim \u001B[38;5;241m>\u001B[39m \u001B[38;5;241m1\u001B[39m:\n\u001B[0;32m   1330\u001B[0m         \u001B[38;5;28;01mraise\u001B[39;00m \u001B[38;5;167;01mValueError\u001B[39;00m(\u001B[38;5;124m\"\u001B[39m\u001B[38;5;124mCannot index with multidimensional key\u001B[39m\u001B[38;5;124m\"\u001B[39m)\n\u001B[1;32m-> 1332\u001B[0m     \u001B[38;5;28;01mreturn\u001B[39;00m \u001B[38;5;28;43mself\u001B[39;49m\u001B[38;5;241;43m.\u001B[39;49m\u001B[43m_getitem_iterable\u001B[49m\u001B[43m(\u001B[49m\u001B[43mkey\u001B[49m\u001B[43m,\u001B[49m\u001B[43m \u001B[49m\u001B[43maxis\u001B[49m\u001B[38;5;241;43m=\u001B[39;49m\u001B[43maxis\u001B[49m\u001B[43m)\u001B[49m\n\u001B[0;32m   1334\u001B[0m \u001B[38;5;66;03m# nested tuple slicing\u001B[39;00m\n\u001B[0;32m   1335\u001B[0m \u001B[38;5;28;01mif\u001B[39;00m is_nested_tuple(key, labels):\n",
      "File \u001B[1;32m~\\AppData\\Local\\pypoetry\\Cache\\virtualenvs\\pypsdm-qt54NClq-py3.11\\Lib\\site-packages\\pandas\\core\\indexing.py:1273\u001B[0m, in \u001B[0;36m_LocIndexer._getitem_iterable\u001B[1;34m(self, key, axis)\u001B[0m\n\u001B[0;32m   1271\u001B[0m \u001B[38;5;66;03m# A collection of keys\u001B[39;00m\n\u001B[0;32m   1272\u001B[0m keyarr, indexer \u001B[38;5;241m=\u001B[39m \u001B[38;5;28mself\u001B[39m\u001B[38;5;241m.\u001B[39m_get_listlike_indexer(key, axis)\n\u001B[1;32m-> 1273\u001B[0m \u001B[38;5;28;01mreturn\u001B[39;00m \u001B[38;5;28;43mself\u001B[39;49m\u001B[38;5;241;43m.\u001B[39;49m\u001B[43mobj\u001B[49m\u001B[38;5;241;43m.\u001B[39;49m\u001B[43m_reindex_with_indexers\u001B[49m\u001B[43m(\u001B[49m\n\u001B[0;32m   1274\u001B[0m \u001B[43m    \u001B[49m\u001B[43m{\u001B[49m\u001B[43maxis\u001B[49m\u001B[43m:\u001B[49m\u001B[43m \u001B[49m\u001B[43m[\u001B[49m\u001B[43mkeyarr\u001B[49m\u001B[43m,\u001B[49m\u001B[43m \u001B[49m\u001B[43mindexer\u001B[49m\u001B[43m]\u001B[49m\u001B[43m}\u001B[49m\u001B[43m,\u001B[49m\u001B[43m \u001B[49m\u001B[43mcopy\u001B[49m\u001B[38;5;241;43m=\u001B[39;49m\u001B[38;5;28;43;01mTrue\u001B[39;49;00m\u001B[43m,\u001B[49m\u001B[43m \u001B[49m\u001B[43mallow_dups\u001B[49m\u001B[38;5;241;43m=\u001B[39;49m\u001B[38;5;28;43;01mTrue\u001B[39;49;00m\n\u001B[0;32m   1275\u001B[0m \u001B[43m\u001B[49m\u001B[43m)\u001B[49m\n",
      "File \u001B[1;32m~\\AppData\\Local\\pypoetry\\Cache\\virtualenvs\\pypsdm-qt54NClq-py3.11\\Lib\\site-packages\\pandas\\core\\generic.py:5431\u001B[0m, in \u001B[0;36mNDFrame._reindex_with_indexers\u001B[1;34m(self, reindexers, fill_value, copy, allow_dups)\u001B[0m\n\u001B[0;32m   5428\u001B[0m     indexer \u001B[38;5;241m=\u001B[39m ensure_platform_int(indexer)\n\u001B[0;32m   5430\u001B[0m \u001B[38;5;66;03m# TODO: speed up on homogeneous DataFrame objects (see _reindex_multi)\u001B[39;00m\n\u001B[1;32m-> 5431\u001B[0m new_data \u001B[38;5;241m=\u001B[39m \u001B[43mnew_data\u001B[49m\u001B[38;5;241;43m.\u001B[39;49m\u001B[43mreindex_indexer\u001B[49m\u001B[43m(\u001B[49m\n\u001B[0;32m   5432\u001B[0m \u001B[43m    \u001B[49m\u001B[43mindex\u001B[49m\u001B[43m,\u001B[49m\n\u001B[0;32m   5433\u001B[0m \u001B[43m    \u001B[49m\u001B[43mindexer\u001B[49m\u001B[43m,\u001B[49m\n\u001B[0;32m   5434\u001B[0m \u001B[43m    \u001B[49m\u001B[43maxis\u001B[49m\u001B[38;5;241;43m=\u001B[39;49m\u001B[43mbaxis\u001B[49m\u001B[43m,\u001B[49m\n\u001B[0;32m   5435\u001B[0m \u001B[43m    \u001B[49m\u001B[43mfill_value\u001B[49m\u001B[38;5;241;43m=\u001B[39;49m\u001B[43mfill_value\u001B[49m\u001B[43m,\u001B[49m\n\u001B[0;32m   5436\u001B[0m \u001B[43m    \u001B[49m\u001B[43mallow_dups\u001B[49m\u001B[38;5;241;43m=\u001B[39;49m\u001B[43mallow_dups\u001B[49m\u001B[43m,\u001B[49m\n\u001B[0;32m   5437\u001B[0m \u001B[43m    \u001B[49m\u001B[43mcopy\u001B[49m\u001B[38;5;241;43m=\u001B[39;49m\u001B[43mcopy\u001B[49m\u001B[43m,\u001B[49m\n\u001B[0;32m   5438\u001B[0m \u001B[43m\u001B[49m\u001B[43m)\u001B[49m\n\u001B[0;32m   5439\u001B[0m \u001B[38;5;66;03m# If we've made a copy once, no need to make another one\u001B[39;00m\n\u001B[0;32m   5440\u001B[0m copy \u001B[38;5;241m=\u001B[39m \u001B[38;5;28;01mFalse\u001B[39;00m\n",
      "File \u001B[1;32m~\\AppData\\Local\\pypoetry\\Cache\\virtualenvs\\pypsdm-qt54NClq-py3.11\\Lib\\site-packages\\pandas\\core\\internals\\managers.py:765\u001B[0m, in \u001B[0;36mBaseBlockManager.reindex_indexer\u001B[1;34m(self, new_axis, indexer, axis, fill_value, allow_dups, copy, only_slice, use_na_proxy)\u001B[0m\n\u001B[0;32m    762\u001B[0m \u001B[38;5;28;01mif\u001B[39;00m axis \u001B[38;5;241m==\u001B[39m \u001B[38;5;241m1\u001B[39m:\n\u001B[0;32m    763\u001B[0m     \u001B[38;5;66;03m# We can avoid the need to rebuild these\u001B[39;00m\n\u001B[0;32m    764\u001B[0m     new_mgr\u001B[38;5;241m.\u001B[39m_blknos \u001B[38;5;241m=\u001B[39m \u001B[38;5;28mself\u001B[39m\u001B[38;5;241m.\u001B[39mblknos\u001B[38;5;241m.\u001B[39mcopy()\n\u001B[1;32m--> 765\u001B[0m     new_mgr\u001B[38;5;241m.\u001B[39m_blklocs \u001B[38;5;241m=\u001B[39m \u001B[38;5;28mself\u001B[39m\u001B[38;5;241m.\u001B[39mblklocs\u001B[38;5;241m.\u001B[39mcopy()\n\u001B[0;32m    766\u001B[0m \u001B[38;5;28;01mreturn\u001B[39;00m new_mgr\n",
      "\u001B[1;31mKeyboardInterrupt\u001B[0m: "
     ]
    }
   ],
   "source": [
    "import os\n",
    "\n",
    "import numpy as np\n",
    "import pandas\n",
    "import pandas as pd\n",
    "from matplotlib import pyplot as plt\n",
    "import matplotlib\n",
    "from pypsdm.processing.series import quarter_hourly_mean_resample\n",
    "\n",
    "\n",
    "\n",
    "matplotlib.use('TkAgg')\n",
    "from scipy.optimize import curve_fit\n",
    "\n",
    "\"\"\"\n",
    " Gleichzeitigkeit\n",
    "\"\"\"\n",
    "\n",
    "def calculate_gz_curve(df_norm, len_curve, num_mc):\n",
    "    sim_curve = pd.DataFrame(np.zeros((len_curve, 1)))\n",
    "    quantile_95 = pd.DataFrame(np.zeros((len_curve, 1)))\n",
    "\n",
    "    for n in range(1, len_curve + 1):\n",
    "        temp_sim = np.zeros(num_mc)\n",
    "        print(\"Calculate GZ for ev-number \"+str(n))\n",
    "        for mc in range(num_mc):\n",
    "            profile_row = np.random.choice(df_norm.index, size=n, replace=False)\n",
    "            mc_profile = df_norm.loc[profile_row, :]\n",
    "            temp_sim[mc] = mc_profile.sum(axis=0).max() / n\n",
    "        sim_curve.iloc[n - 1, 0] = temp_sim.max()\n",
    "        quantile_95.iloc[n - 1, 0] = np.percentile(temp_sim, 95, method='linear')\n",
    "\n",
    "\n",
    "\n",
    "    return sim_curve, quantile_95\n",
    "\n",
    "\n",
    "\"\"\"\n",
    "Kurvenanpassung\n",
    "\"\"\"\n",
    "\n",
    "# https://www.askpython.com/python/examples/curve-fitting-in-python\n",
    "# Die Kurvenanpassung wird nur für den Bereich vorgenommen, an dem die Funktion differenzierbar ist (wenn GZ nicht mehr 1)\n",
    "\n",
    "# allgemeine Gleichung der erweiterten GZ-Funktion\n",
    "\n",
    "def fit_function(n, *args):\n",
    "    a, b, c = args\n",
    "    return a * np.power(n, -b) + c\n",
    "\n",
    "\n",
    "def fit_sim_curve(x_values, y_values):\n",
    "    # Initialisierung mit Werten EV ungesteuert Dis Kippelt\n",
    "    p0 = [1.785, 0.631, 0.112]\n",
    "    popt, pcov = curve_fit(fit_function, x_values, y_values, p0, maxfev=10000)\n",
    "    # Anzahl der Datenpunkte\n",
    "    n = len(y_values)\n",
    "    # Anzahl der Fit-Parameter\n",
    "    p = len(popt)\n",
    "    # Mittelwert der abhängigen Variable\n",
    "    y_mean = np.mean(y_values)\n",
    "    # Regressionsabweichungen berechnen\n",
    "    residuals = y_values - fit_function(x_values, *popt)\n",
    "    # Summe der quadrierten Regressionsabweichungen\n",
    "    ss_res = np.sum(residuals**2)\n",
    "    # Gesamtsumme der quadrierten Abweichungen\n",
    "    ss_tot = np.sum((y_values - y_mean)**2)\n",
    "    # Bestimmtheitsmaß berechnen\n",
    "    r_squared = 1 - (ss_res / (n - p - 1)) / (ss_tot / (n - 1))\n",
    "    return popt, pcov, r_squared\n",
    "\n",
    "# popt ist ein Array aus den optimalen Parametern, sodass die Summe der Fehlerquadrate minimiert ist\n",
    "# pcov ist die zugehörige Kovarianzmatrix\n",
    "\n",
    "\"\"\"\n",
    " Initialisierung\n",
    "\"\"\"\n",
    "# Parameter, die einzustellen sind:\n",
    "num_vehicles = 1000\n",
    "#len_curve = 150  # Ziel: 150, gibt die maximale Anzahl an EV innerhalb der GZ-Kurve an\n",
    "len_curve = 4  # Ziel: 150, gibt die maximale Anzahl an EV innerhalb der GZ-Kurve an\n",
    "num_mc = 1000  # Ziel: 1000, Anzahl an Monte-Carlo-Iterationen pro Punkt in der GZ-Kurve\n",
    "\n",
    "# Initialisierung\n",
    "temp_profile = pd.DataFrame(np.zeros(shape=(0, num_vehicles)))\n",
    "temp_sim = pd.DataFrame(np.zeros(shape=(num_mc, 1)))\n",
    "\n",
    "# Einlesen der Daten:\n",
    "\n",
    "# Hier müssen die optimierten Profile gemäß der Durchmischung von Ladestrategien zusammengestellt werden\n",
    "\n",
    "\n",
    "if 0 == 1 :\n",
    "    share_unc_65 = np.load('MasterarbeitMain/opt_uni_charge_total.npy')\n",
    "    share_unc_65 = share_unc_65[0:3250, :]\n",
    "    share_unc_65 = pd.DataFrame(share_unc_65)\n",
    "    share_bi = np.load('MasterarbeitMain/opt_bi_charge_total.npy')\n",
    "    share_bi_35 = share_bi[0:1750, :]\n",
    "    share_bi_35 = pd.DataFrame(share_bi_35)\n",
    "    share_unc_65 = share_unc_65\n",
    "\n",
    "    df_norm = (pd.concat([share_unc_65, share_bi_35])).reset_index(drop=True)\n",
    "\n",
    "df_evcs = gwr.results.participants.evcs.p\n",
    "\n",
    "#df_norm = normalize_dataframe(df_evcs, 0.0, 0.011)\n",
    "\n",
    "df_resample = quarter_hourly_mean_resample(df_evcs)\n",
    "df_norm = normalize_dataframe(df_resample, 0,0.011)\n",
    "\n",
    "#df_norm = quarter_hourly_mean_resample(normalize_dataframe(gwr.results.participants.evcs.p,0, 0.011))\n",
    "\n",
    "\n",
    "# Start: GZ-Kurve\n",
    "sim_curve, quantile_95_tot = calculate_gz_curve(df_norm, len_curve, num_mc)\n",
    "quantile_95_cut = quantile_95_tot.iloc[:, 0] < 1\n",
    "quantile_95 = quantile_95_tot.loc[quantile_95_cut, 0].to_numpy()\n",
    "quantile_95_indices = pd.Series(range(1, len(quantile_95)+1)).to_numpy()\n",
    "# Kurvenregression\n",
    "param_opt, param_cov, r_squared = fit_sim_curve(quantile_95_indices, quantile_95)\n",
    "a_opt, b_opt, c_opt = param_opt\n",
    "fitted_sim = fit_function(quantile_95_indices, a_opt, b_opt, c_opt)\n",
    "\n",
    "x = np.arange(1, len(quantile_95_tot[0]) + 1)\n",
    "y = np.ones_like(quantile_95_tot[0])\n",
    "y[quantile_95_tot[0] < 1] = fitted_sim[:len(fitted_sim)]\n",
    "\n",
    "\n",
    "\n",
    "\"\"\"\n",
    "Plots\n",
    "\"\"\"\n",
    "# Plot 2\n",
    "#plt.plot(x, gz_bi, label='V2G (Laden)', color=(0.517, 0.721, 0.094))\n",
    "#plt.plot(x, gz_bi_dis, label='V2G (Entladen)', color=(0.3, 0.3, 0.3))\n",
    "plt.plot(x, y, label='Unidirektional', color=(0.717, 0.921, 0.294))\n",
    "#plt.plot(x_unc, gz_unc, label='Ungesteuertes Laden', color=(0.6, 0.6, 0.6))\n",
    "plt.grid(color='lightgrey', linestyle='-')\n",
    "plt.xlabel('Anzahl der Fahrzeuge')\n",
    "plt.ylim(0, 1.3)\n",
    "plt.xlim(0, 155)\n",
    "plt.ylabel('Gleichzeitigkeitsfaktor')\n",
    "#plt.legend()\n",
    "plt.show()\n",
    "\n",
    "plt.plot(x, y, label='Regressionskurve', color=(0.6, 0.6, 0.6))\n",
    "plt.plot((quantile_95_tot.index + 1), quantile_95_tot, '.', label='95% Quantil', color=(0.517, 0.721, 0.094))\n",
    "plt.grid(color='lightgrey', linestyle='-')\n",
    "plt.xlabel('Anzahl der Fahrzeuge')\n",
    "plt.ylim(0, 1.1)\n",
    "plt.xlim(0, 155)\n",
    "plt.ylabel('Gleichzeitigkeitsfaktor')\n",
    "plt.legend()\n",
    "plt.show()\n",
    "\n",
    "# Plot 1\n",
    "plt.plot((sim_curve.index + 1), sim_curve, label='Maximale Gleichzeitigkeit', color=(0.6, 0.6, 0.6))\n",
    "plt.grid(color='lightgrey', linestyle='-')\n",
    "plt.plot((quantile_95_tot.index + 1), quantile_95_tot, '.', label='95% Quantil', color=(0.517, 0.721, 0.094))\n",
    "plt.plot(x, y, label='Regressionskurve', color=(0.3, 0.3, 0.3))\n",
    "plt.xlabel('Anzahl der Fahrzeuge')\n",
    "plt.ylim(0, 1.1)\n",
    "plt.xlim(0, 155)\n",
    "plt.ylabel('Gleichzeitigkeitsfaktor')\n",
    "plt.legend()\n",
    "plt.show()\n",
    "\n",
    "# Plot 3\n",
    "plt.plot(x, y, label='95% Quantil', color=(0.517, 0.721, 0.094))\n",
    "plt.grid(color='lightgrey', linestyle='-')\n",
    "plt.xlabel('Anzahl der Fahrzeuge')\n",
    "plt.ylim(0, 1.1)\n",
    "plt.xlim(0, 155)\n",
    "plt.ylabel('Gleichzeitigkeitsfaktor')\n",
    "plt.show()\n"
   ],
   "metadata": {
    "collapsed": false,
    "ExecuteTime": {
     "end_time": "2023-11-22T11:44:39.178259300Z",
     "start_time": "2023-11-22T11:44:34.538407500Z"
    }
   },
   "id": "bb21b36f92295c07"
  },
  {
   "cell_type": "code",
   "execution_count": 22,
   "outputs": [
    {
     "data": {
      "text/plain": "                     019f1307-e73e-40b2-9277-22f960aafc1e  \\\ntime                                                        \n2019-01-01 00:00:00                                   0.0   \n2019-01-01 00:15:00                                   0.0   \n2019-01-01 00:30:00                                   0.0   \n2019-01-01 00:45:00                                   0.0   \n2019-01-01 01:00:00                                   0.0   \n...                                                   ...   \n2019-01-14 23:15:00                                   0.0   \n2019-01-14 23:21:00                                   0.0   \n2019-01-14 23:30:00                                   0.0   \n2019-01-14 23:45:00                                   0.0   \n2019-01-15 00:00:00                                   0.0   \n\n                     0c5e3c7d-772f-42c4-9d5d-ab52311d717d  \\\ntime                                                        \n2019-01-01 00:00:00                                   0.0   \n2019-01-01 00:15:00                                   0.0   \n2019-01-01 00:30:00                                   0.0   \n2019-01-01 00:45:00                                   0.0   \n2019-01-01 01:00:00                                   0.0   \n...                                                   ...   \n2019-01-14 23:15:00                                   0.0   \n2019-01-14 23:21:00                                   0.0   \n2019-01-14 23:30:00                                   0.0   \n2019-01-14 23:45:00                                   0.0   \n2019-01-15 00:00:00                                   0.0   \n\n                     257ac38a-50e0-4962-9665-9d5202fa35b0  \\\ntime                                                        \n2019-01-01 00:00:00                                   0.0   \n2019-01-01 00:15:00                                   0.0   \n2019-01-01 00:30:00                                   0.0   \n2019-01-01 00:45:00                                   0.0   \n2019-01-01 01:00:00                                   0.0   \n...                                                   ...   \n2019-01-14 23:15:00                                   0.0   \n2019-01-14 23:21:00                                   0.0   \n2019-01-14 23:30:00                                   0.0   \n2019-01-14 23:45:00                                   0.0   \n2019-01-15 00:00:00                                   0.0   \n\n                     25d22721-2f32-404e-817a-873f6c3d770a  \\\ntime                                                        \n2019-01-01 00:00:00                                   0.0   \n2019-01-01 00:15:00                                   0.0   \n2019-01-01 00:30:00                                   0.0   \n2019-01-01 00:45:00                                   0.0   \n2019-01-01 01:00:00                                   0.0   \n...                                                   ...   \n2019-01-14 23:15:00                                   0.0   \n2019-01-14 23:21:00                                   0.0   \n2019-01-14 23:30:00                                   0.0   \n2019-01-14 23:45:00                                   0.0   \n2019-01-15 00:00:00                                   0.0   \n\n                     2acff78c-3018-4bb6-b52b-5d0061092100  \\\ntime                                                        \n2019-01-01 00:00:00                                   0.0   \n2019-01-01 00:15:00                                   0.0   \n2019-01-01 00:30:00                                   0.0   \n2019-01-01 00:45:00                                   0.0   \n2019-01-01 01:00:00                                   0.0   \n...                                                   ...   \n2019-01-14 23:15:00                                   0.0   \n2019-01-14 23:21:00                                   0.0   \n2019-01-14 23:30:00                                   0.0   \n2019-01-14 23:45:00                                   0.0   \n2019-01-15 00:00:00                                   0.0   \n\n                     2ca09423-7c8b-4539-946d-7def95c077ea  \\\ntime                                                        \n2019-01-01 00:00:00                                   0.0   \n2019-01-01 00:15:00                                   0.0   \n2019-01-01 00:30:00                                   0.0   \n2019-01-01 00:45:00                                   0.0   \n2019-01-01 01:00:00                                   0.0   \n...                                                   ...   \n2019-01-14 23:15:00                                   0.0   \n2019-01-14 23:21:00                                   0.0   \n2019-01-14 23:30:00                                   0.0   \n2019-01-14 23:45:00                                   0.0   \n2019-01-15 00:00:00                                   0.0   \n\n                     3aa8e477-321f-4870-8276-12e8dd468701  \\\ntime                                                        \n2019-01-01 00:00:00                                   0.0   \n2019-01-01 00:15:00                                   0.0   \n2019-01-01 00:30:00                                   0.0   \n2019-01-01 00:45:00                                   0.0   \n2019-01-01 01:00:00                                   0.0   \n...                                                   ...   \n2019-01-14 23:15:00                                   0.0   \n2019-01-14 23:21:00                                   0.0   \n2019-01-14 23:30:00                                   0.0   \n2019-01-14 23:45:00                                   0.0   \n2019-01-15 00:00:00                                   0.0   \n\n                     3ac0f440-6ae1-41fc-8227-4ee18ab1327d  \\\ntime                                                        \n2019-01-01 00:00:00                                   0.0   \n2019-01-01 00:15:00                                   0.0   \n2019-01-01 00:30:00                                   0.0   \n2019-01-01 00:45:00                                   0.0   \n2019-01-01 01:00:00                                   0.0   \n...                                                   ...   \n2019-01-14 23:15:00                                   0.0   \n2019-01-14 23:21:00                                   0.0   \n2019-01-14 23:30:00                                   0.0   \n2019-01-14 23:45:00                                   0.0   \n2019-01-15 00:00:00                                   0.0   \n\n                     4542c40f-7678-40fb-97fa-c79849dff4cb  \\\ntime                                                        \n2019-01-01 00:00:00                                   0.0   \n2019-01-01 00:15:00                                   0.0   \n2019-01-01 00:30:00                                   0.0   \n2019-01-01 00:45:00                                   0.0   \n2019-01-01 01:00:00                                   0.0   \n...                                                   ...   \n2019-01-14 23:15:00                                   0.0   \n2019-01-14 23:21:00                                   0.0   \n2019-01-14 23:30:00                                   0.0   \n2019-01-14 23:45:00                                   0.0   \n2019-01-15 00:00:00                                   0.0   \n\n                     55f9d36d-d923-4c35-8517-9d72fac9f2b3  ...  \\\ntime                                                       ...   \n2019-01-01 00:00:00                                   0.0  ...   \n2019-01-01 00:15:00                                   0.0  ...   \n2019-01-01 00:30:00                                   0.0  ...   \n2019-01-01 00:45:00                                   0.0  ...   \n2019-01-01 01:00:00                                   0.0  ...   \n...                                                   ...  ...   \n2019-01-14 23:15:00                                   0.0  ...   \n2019-01-14 23:21:00                                   0.0  ...   \n2019-01-14 23:30:00                                   0.0  ...   \n2019-01-14 23:45:00                                   0.0  ...   \n2019-01-15 00:00:00                                   0.0  ...   \n\n                     997ebb67-2dde-473d-b210-cc9091812f66  \\\ntime                                                        \n2019-01-01 00:00:00                                   0.0   \n2019-01-01 00:15:00                                   0.0   \n2019-01-01 00:30:00                                   0.0   \n2019-01-01 00:45:00                                   0.0   \n2019-01-01 01:00:00                                   0.0   \n...                                                   ...   \n2019-01-14 23:15:00                                   0.0   \n2019-01-14 23:21:00                                   0.0   \n2019-01-14 23:30:00                                   0.0   \n2019-01-14 23:45:00                                   0.0   \n2019-01-15 00:00:00                                   0.0   \n\n                     9a6c0edb-ef62-46e4-8cd5-ff7e4ad177c1  \\\ntime                                                        \n2019-01-01 00:00:00                                   0.0   \n2019-01-01 00:15:00                                   0.0   \n2019-01-01 00:30:00                                   0.0   \n2019-01-01 00:45:00                                   0.0   \n2019-01-01 01:00:00                                   0.0   \n...                                                   ...   \n2019-01-14 23:15:00                                   0.0   \n2019-01-14 23:21:00                                   0.0   \n2019-01-14 23:30:00                                   0.0   \n2019-01-14 23:45:00                                   0.0   \n2019-01-15 00:00:00                                   0.0   \n\n                     9b52ac95-af90-437f-959f-f140c4b8ed97  \\\ntime                                                        \n2019-01-01 00:00:00                                   0.0   \n2019-01-01 00:15:00                                   0.0   \n2019-01-01 00:30:00                                   0.0   \n2019-01-01 00:45:00                                   0.0   \n2019-01-01 01:00:00                                   0.0   \n...                                                   ...   \n2019-01-14 23:15:00                                   0.0   \n2019-01-14 23:21:00                                   0.0   \n2019-01-14 23:30:00                                   0.0   \n2019-01-14 23:45:00                                   0.0   \n2019-01-15 00:00:00                                   0.0   \n\n                     ace5617a-5aab-4667-94e2-3b87ce1b06af  \\\ntime                                                        \n2019-01-01 00:00:00                                   0.0   \n2019-01-01 00:15:00                                   0.0   \n2019-01-01 00:30:00                                   0.0   \n2019-01-01 00:45:00                                   0.0   \n2019-01-01 01:00:00                                   0.0   \n...                                                   ...   \n2019-01-14 23:15:00                                   0.0   \n2019-01-14 23:21:00                                   0.0   \n2019-01-14 23:30:00                                   0.0   \n2019-01-14 23:45:00                                   0.0   \n2019-01-15 00:00:00                                   0.0   \n\n                     c3a3da0d-e0a3-48e7-a266-2fa66057f00d  \\\ntime                                                        \n2019-01-01 00:00:00                                 0.000   \n2019-01-01 00:15:00                                 0.000   \n2019-01-01 00:30:00                                 0.000   \n2019-01-01 00:45:00                                 0.000   \n2019-01-01 01:00:00                                 0.000   \n...                                                   ...   \n2019-01-14 23:15:00                                 0.000   \n2019-01-14 23:21:00                                 0.000   \n2019-01-14 23:30:00                                 0.011   \n2019-01-14 23:45:00                                 0.011   \n2019-01-15 00:00:00                                 0.011   \n\n                     c9d6a77b-4065-4f3c-a00f-25799959afdb  \\\ntime                                                        \n2019-01-01 00:00:00                                   0.0   \n2019-01-01 00:15:00                                   0.0   \n2019-01-01 00:30:00                                   0.0   \n2019-01-01 00:45:00                                   0.0   \n2019-01-01 01:00:00                                   0.0   \n...                                                   ...   \n2019-01-14 23:15:00                                   0.0   \n2019-01-14 23:21:00                                   0.0   \n2019-01-14 23:30:00                                   0.0   \n2019-01-14 23:45:00                                   0.0   \n2019-01-15 00:00:00                                   0.0   \n\n                     d2686fdc-29e5-421c-bf18-068be890dcee  \\\ntime                                                        \n2019-01-01 00:00:00                                   0.0   \n2019-01-01 00:15:00                                   0.0   \n2019-01-01 00:30:00                                   0.0   \n2019-01-01 00:45:00                                   0.0   \n2019-01-01 01:00:00                                   0.0   \n...                                                   ...   \n2019-01-14 23:15:00                                   0.0   \n2019-01-14 23:21:00                                   0.0   \n2019-01-14 23:30:00                                   0.0   \n2019-01-14 23:45:00                                   0.0   \n2019-01-15 00:00:00                                   0.0   \n\n                     d7d1e69d-a1c7-48de-868a-0c94d96f9120  \\\ntime                                                        \n2019-01-01 00:00:00                                   0.0   \n2019-01-01 00:15:00                                   0.0   \n2019-01-01 00:30:00                                   0.0   \n2019-01-01 00:45:00                                   0.0   \n2019-01-01 01:00:00                                   0.0   \n...                                                   ...   \n2019-01-14 23:15:00                                   0.0   \n2019-01-14 23:21:00                                   0.0   \n2019-01-14 23:30:00                                   0.0   \n2019-01-14 23:45:00                                   0.0   \n2019-01-15 00:00:00                                   0.0   \n\n                     e17a4c08-06ba-470a-b2ec-ec88d4ee2f3a  \\\ntime                                                        \n2019-01-01 00:00:00                                   0.0   \n2019-01-01 00:15:00                                   0.0   \n2019-01-01 00:30:00                                   0.0   \n2019-01-01 00:45:00                                   0.0   \n2019-01-01 01:00:00                                   0.0   \n...                                                   ...   \n2019-01-14 23:15:00                                   0.0   \n2019-01-14 23:21:00                                   0.0   \n2019-01-14 23:30:00                                   0.0   \n2019-01-14 23:45:00                                   0.0   \n2019-01-15 00:00:00                                   0.0   \n\n                     fad29ae8-5f90-49ea-aba7-f9c1e8377d0f  \ntime                                                       \n2019-01-01 00:00:00                                   0.0  \n2019-01-01 00:15:00                                   0.0  \n2019-01-01 00:30:00                                   0.0  \n2019-01-01 00:45:00                                   0.0  \n2019-01-01 01:00:00                                   0.0  \n...                                                   ...  \n2019-01-14 23:15:00                                   0.0  \n2019-01-14 23:21:00                                   0.0  \n2019-01-14 23:30:00                                   0.0  \n2019-01-14 23:45:00                                   0.0  \n2019-01-15 00:00:00                                   0.0  \n\n[1691 rows x 28 columns]",
      "text/html": "<div>\n<style scoped>\n    .dataframe tbody tr th:only-of-type {\n        vertical-align: middle;\n    }\n\n    .dataframe tbody tr th {\n        vertical-align: top;\n    }\n\n    .dataframe thead th {\n        text-align: right;\n    }\n</style>\n<table border=\"1\" class=\"dataframe\">\n  <thead>\n    <tr style=\"text-align: right;\">\n      <th></th>\n      <th>019f1307-e73e-40b2-9277-22f960aafc1e</th>\n      <th>0c5e3c7d-772f-42c4-9d5d-ab52311d717d</th>\n      <th>257ac38a-50e0-4962-9665-9d5202fa35b0</th>\n      <th>25d22721-2f32-404e-817a-873f6c3d770a</th>\n      <th>2acff78c-3018-4bb6-b52b-5d0061092100</th>\n      <th>2ca09423-7c8b-4539-946d-7def95c077ea</th>\n      <th>3aa8e477-321f-4870-8276-12e8dd468701</th>\n      <th>3ac0f440-6ae1-41fc-8227-4ee18ab1327d</th>\n      <th>4542c40f-7678-40fb-97fa-c79849dff4cb</th>\n      <th>55f9d36d-d923-4c35-8517-9d72fac9f2b3</th>\n      <th>...</th>\n      <th>997ebb67-2dde-473d-b210-cc9091812f66</th>\n      <th>9a6c0edb-ef62-46e4-8cd5-ff7e4ad177c1</th>\n      <th>9b52ac95-af90-437f-959f-f140c4b8ed97</th>\n      <th>ace5617a-5aab-4667-94e2-3b87ce1b06af</th>\n      <th>c3a3da0d-e0a3-48e7-a266-2fa66057f00d</th>\n      <th>c9d6a77b-4065-4f3c-a00f-25799959afdb</th>\n      <th>d2686fdc-29e5-421c-bf18-068be890dcee</th>\n      <th>d7d1e69d-a1c7-48de-868a-0c94d96f9120</th>\n      <th>e17a4c08-06ba-470a-b2ec-ec88d4ee2f3a</th>\n      <th>fad29ae8-5f90-49ea-aba7-f9c1e8377d0f</th>\n    </tr>\n    <tr>\n      <th>time</th>\n      <th></th>\n      <th></th>\n      <th></th>\n      <th></th>\n      <th></th>\n      <th></th>\n      <th></th>\n      <th></th>\n      <th></th>\n      <th></th>\n      <th></th>\n      <th></th>\n      <th></th>\n      <th></th>\n      <th></th>\n      <th></th>\n      <th></th>\n      <th></th>\n      <th></th>\n      <th></th>\n      <th></th>\n    </tr>\n  </thead>\n  <tbody>\n    <tr>\n      <th>2019-01-01 00:00:00</th>\n      <td>0.0</td>\n      <td>0.0</td>\n      <td>0.0</td>\n      <td>0.0</td>\n      <td>0.0</td>\n      <td>0.0</td>\n      <td>0.0</td>\n      <td>0.0</td>\n      <td>0.0</td>\n      <td>0.0</td>\n      <td>...</td>\n      <td>0.0</td>\n      <td>0.0</td>\n      <td>0.0</td>\n      <td>0.0</td>\n      <td>0.000</td>\n      <td>0.0</td>\n      <td>0.0</td>\n      <td>0.0</td>\n      <td>0.0</td>\n      <td>0.0</td>\n    </tr>\n    <tr>\n      <th>2019-01-01 00:15:00</th>\n      <td>0.0</td>\n      <td>0.0</td>\n      <td>0.0</td>\n      <td>0.0</td>\n      <td>0.0</td>\n      <td>0.0</td>\n      <td>0.0</td>\n      <td>0.0</td>\n      <td>0.0</td>\n      <td>0.0</td>\n      <td>...</td>\n      <td>0.0</td>\n      <td>0.0</td>\n      <td>0.0</td>\n      <td>0.0</td>\n      <td>0.000</td>\n      <td>0.0</td>\n      <td>0.0</td>\n      <td>0.0</td>\n      <td>0.0</td>\n      <td>0.0</td>\n    </tr>\n    <tr>\n      <th>2019-01-01 00:30:00</th>\n      <td>0.0</td>\n      <td>0.0</td>\n      <td>0.0</td>\n      <td>0.0</td>\n      <td>0.0</td>\n      <td>0.0</td>\n      <td>0.0</td>\n      <td>0.0</td>\n      <td>0.0</td>\n      <td>0.0</td>\n      <td>...</td>\n      <td>0.0</td>\n      <td>0.0</td>\n      <td>0.0</td>\n      <td>0.0</td>\n      <td>0.000</td>\n      <td>0.0</td>\n      <td>0.0</td>\n      <td>0.0</td>\n      <td>0.0</td>\n      <td>0.0</td>\n    </tr>\n    <tr>\n      <th>2019-01-01 00:45:00</th>\n      <td>0.0</td>\n      <td>0.0</td>\n      <td>0.0</td>\n      <td>0.0</td>\n      <td>0.0</td>\n      <td>0.0</td>\n      <td>0.0</td>\n      <td>0.0</td>\n      <td>0.0</td>\n      <td>0.0</td>\n      <td>...</td>\n      <td>0.0</td>\n      <td>0.0</td>\n      <td>0.0</td>\n      <td>0.0</td>\n      <td>0.000</td>\n      <td>0.0</td>\n      <td>0.0</td>\n      <td>0.0</td>\n      <td>0.0</td>\n      <td>0.0</td>\n    </tr>\n    <tr>\n      <th>2019-01-01 01:00:00</th>\n      <td>0.0</td>\n      <td>0.0</td>\n      <td>0.0</td>\n      <td>0.0</td>\n      <td>0.0</td>\n      <td>0.0</td>\n      <td>0.0</td>\n      <td>0.0</td>\n      <td>0.0</td>\n      <td>0.0</td>\n      <td>...</td>\n      <td>0.0</td>\n      <td>0.0</td>\n      <td>0.0</td>\n      <td>0.0</td>\n      <td>0.000</td>\n      <td>0.0</td>\n      <td>0.0</td>\n      <td>0.0</td>\n      <td>0.0</td>\n      <td>0.0</td>\n    </tr>\n    <tr>\n      <th>...</th>\n      <td>...</td>\n      <td>...</td>\n      <td>...</td>\n      <td>...</td>\n      <td>...</td>\n      <td>...</td>\n      <td>...</td>\n      <td>...</td>\n      <td>...</td>\n      <td>...</td>\n      <td>...</td>\n      <td>...</td>\n      <td>...</td>\n      <td>...</td>\n      <td>...</td>\n      <td>...</td>\n      <td>...</td>\n      <td>...</td>\n      <td>...</td>\n      <td>...</td>\n      <td>...</td>\n    </tr>\n    <tr>\n      <th>2019-01-14 23:15:00</th>\n      <td>0.0</td>\n      <td>0.0</td>\n      <td>0.0</td>\n      <td>0.0</td>\n      <td>0.0</td>\n      <td>0.0</td>\n      <td>0.0</td>\n      <td>0.0</td>\n      <td>0.0</td>\n      <td>0.0</td>\n      <td>...</td>\n      <td>0.0</td>\n      <td>0.0</td>\n      <td>0.0</td>\n      <td>0.0</td>\n      <td>0.000</td>\n      <td>0.0</td>\n      <td>0.0</td>\n      <td>0.0</td>\n      <td>0.0</td>\n      <td>0.0</td>\n    </tr>\n    <tr>\n      <th>2019-01-14 23:21:00</th>\n      <td>0.0</td>\n      <td>0.0</td>\n      <td>0.0</td>\n      <td>0.0</td>\n      <td>0.0</td>\n      <td>0.0</td>\n      <td>0.0</td>\n      <td>0.0</td>\n      <td>0.0</td>\n      <td>0.0</td>\n      <td>...</td>\n      <td>0.0</td>\n      <td>0.0</td>\n      <td>0.0</td>\n      <td>0.0</td>\n      <td>0.000</td>\n      <td>0.0</td>\n      <td>0.0</td>\n      <td>0.0</td>\n      <td>0.0</td>\n      <td>0.0</td>\n    </tr>\n    <tr>\n      <th>2019-01-14 23:30:00</th>\n      <td>0.0</td>\n      <td>0.0</td>\n      <td>0.0</td>\n      <td>0.0</td>\n      <td>0.0</td>\n      <td>0.0</td>\n      <td>0.0</td>\n      <td>0.0</td>\n      <td>0.0</td>\n      <td>0.0</td>\n      <td>...</td>\n      <td>0.0</td>\n      <td>0.0</td>\n      <td>0.0</td>\n      <td>0.0</td>\n      <td>0.011</td>\n      <td>0.0</td>\n      <td>0.0</td>\n      <td>0.0</td>\n      <td>0.0</td>\n      <td>0.0</td>\n    </tr>\n    <tr>\n      <th>2019-01-14 23:45:00</th>\n      <td>0.0</td>\n      <td>0.0</td>\n      <td>0.0</td>\n      <td>0.0</td>\n      <td>0.0</td>\n      <td>0.0</td>\n      <td>0.0</td>\n      <td>0.0</td>\n      <td>0.0</td>\n      <td>0.0</td>\n      <td>...</td>\n      <td>0.0</td>\n      <td>0.0</td>\n      <td>0.0</td>\n      <td>0.0</td>\n      <td>0.011</td>\n      <td>0.0</td>\n      <td>0.0</td>\n      <td>0.0</td>\n      <td>0.0</td>\n      <td>0.0</td>\n    </tr>\n    <tr>\n      <th>2019-01-15 00:00:00</th>\n      <td>0.0</td>\n      <td>0.0</td>\n      <td>0.0</td>\n      <td>0.0</td>\n      <td>0.0</td>\n      <td>0.0</td>\n      <td>0.0</td>\n      <td>0.0</td>\n      <td>0.0</td>\n      <td>0.0</td>\n      <td>...</td>\n      <td>0.0</td>\n      <td>0.0</td>\n      <td>0.0</td>\n      <td>0.0</td>\n      <td>0.011</td>\n      <td>0.0</td>\n      <td>0.0</td>\n      <td>0.0</td>\n      <td>0.0</td>\n      <td>0.0</td>\n    </tr>\n  </tbody>\n</table>\n<p>1691 rows × 28 columns</p>\n</div>"
     },
     "execution_count": 22,
     "metadata": {},
     "output_type": "execute_result"
    }
   ],
   "source": [
    "df_evcs"
   ],
   "metadata": {
    "collapsed": false,
    "ExecuteTime": {
     "end_time": "2023-11-22T08:31:03.595951600Z",
     "start_time": "2023-11-22T08:31:03.569543900Z"
    }
   },
   "id": "336cd4b958c4a9fd"
  },
  {
   "cell_type": "code",
   "execution_count": 22,
   "outputs": [],
   "source": [],
   "metadata": {
    "collapsed": false,
    "ExecuteTime": {
     "end_time": "2023-11-22T08:31:03.600959200Z",
     "start_time": "2023-11-22T08:31:03.595951600Z"
    }
   },
   "id": "5e867220fd8b7c65"
  }
 ],
 "metadata": {
  "kernelspec": {
   "display_name": "Python 3",
   "language": "python",
   "name": "python3"
  },
  "language_info": {
   "codemirror_mode": {
    "name": "ipython",
    "version": 2
   },
   "file_extension": ".py",
   "mimetype": "text/x-python",
   "name": "python",
   "nbconvert_exporter": "python",
   "pygments_lexer": "ipython2",
   "version": "2.7.6"
  }
 },
 "nbformat": 4,
 "nbformat_minor": 5
}
