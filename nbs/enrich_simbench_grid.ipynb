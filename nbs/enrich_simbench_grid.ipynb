{
 "cells": [
  {
   "cell_type": "code",
   "id": "9e18c5e69c44b3b1",
   "metadata": {
    "ExecuteTime": {
     "end_time": "2025-01-20T11:00:41.030374Z",
     "start_time": "2025-01-20T11:00:40.868279Z"
    }
   },
   "source": [
    "from pypsdm.io.utils import ROOT_DIR\n",
    "\n",
    "%load_ext autoreload\n",
    "%autoreload 2"
   ],
   "outputs": [
    {
     "name": "stdout",
     "output_type": "stream",
     "text": [
      "The autoreload extension is already loaded. To reload it, use:\n",
      "  %reload_ext autoreload\n"
     ]
    }
   ],
   "execution_count": 12
  },
  {
   "metadata": {
    "ExecuteTime": {
     "end_time": "2025-01-20T11:00:50.560358Z",
     "start_time": "2025-01-20T11:00:41.036480Z"
    }
   },
   "cell_type": "code",
   "source": [
    "from pypsdm.models.input.container.grid import GridContainer\n",
    "import os\n",
    "\n",
    "# Input Grid\n",
    "grid_path = os.path.join(ROOT_DIR, \"input\", \"1-LV-semiurb4--0-no_sw\")\n",
    "sep = \",\"\n",
    "grid = GridContainer.from_csv(grid_path, sep)\n",
    "\n",
    "# Output directory\n",
    "target_grid_path = os.path.join(ROOT_DIR, \"output\", \"enriched_simbench_grid\")"
   ],
   "id": "3391f2a4ed97738d",
   "outputs": [],
   "execution_count": 13
  },
  {
   "metadata": {
    "ExecuteTime": {
     "end_time": "2025-01-20T11:00:51.396265Z",
     "start_time": "2025-01-20T11:00:51.096859Z"
    }
   },
   "cell_type": "code",
   "source": [
    "import shutil\n",
    "\n",
    "# Helper Function to empty output directory\n",
    "\n",
    "\n",
    "def delete_all_files_in_directory(directory_path):\n",
    "    if os.path.exists(directory_path) and os.path.isdir(directory_path):\n",
    "        for filename in os.listdir(directory_path):\n",
    "            file_path = os.path.join(directory_path, filename)\n",
    "            try:\n",
    "                if os.path.isfile(file_path) or os.path.islink(file_path):\n",
    "                    os.unlink(file_path)\n",
    "                elif os.path.isdir(file_path):\n",
    "                    shutil.rmtree(file_path)\n",
    "            except Exception as e:\n",
    "                print(f\"Failed to delete {file_path}. Reason: {e}\")\n",
    "    else:\n",
    "        print(f\"Directory {directory_path} does not exist or is not a directory.\")\n",
    "\n",
    "\n",
    "delete_all_files_in_directory(target_grid_path)"
   ],
   "id": "f24e370a5eb4ee3c",
   "outputs": [
    {
     "name": "stdout",
     "output_type": "stream",
     "text": [
      "Directory C:\\git\\pypsdm\\output\\enriched_simbench_grid does not exist or is not a directory.\n"
     ]
    }
   ],
   "execution_count": 14
  },
  {
   "metadata": {
    "ExecuteTime": {
     "end_time": "2025-01-20T11:00:51.942281Z",
     "start_time": "2025-01-20T11:00:51.721276Z"
    }
   },
   "cell_type": "code",
   "source": [
    "import pandas as pd\n",
    "from typing import Tuple\n",
    "\n",
    "\n",
    "# Helper Function to draw random nodes\n",
    "def draw_nodes(\n",
    "    df: pd.DataFrame, percentage: float\n",
    ") -> Tuple[pd.DataFrame, pd.DataFrame]:\n",
    "    \"\"\"\n",
    "    Draws a percentage of rows from the DataFrame and returns the drawn rows and remaining rows.\n",
    "\n",
    "    Args:\n",
    "        df (pd.DataFrame): The DataFrame to draw nodes from.\n",
    "        percentage (float): The percentage of rows to draw.\n",
    "\n",
    "    Returns:\n",
    "        Tuple[pd.DataFrame, pd.DataFrame]: A tuple containing two DataFrames:\n",
    "                                           - The drawn rows.\n",
    "                                           - The remaining rows.\n",
    "    \"\"\"\n",
    "    num_to_draw = int(len(df) * (percentage / 100))\n",
    "    # Set random_state (e.g., random_state=42) for reproducibility\n",
    "    drawn_nodes = df.sample(n=num_to_draw)\n",
    "    remaining_nodes = df.drop(drawn_nodes.index)\n",
    "    return drawn_nodes, remaining_nodes"
   ],
   "id": "2fd2d3f5207cff93",
   "outputs": [],
   "execution_count": 15
  },
  {
   "metadata": {
    "ExecuteTime": {
     "end_time": "2025-01-20T11:00:52.393796Z",
     "start_time": "2025-01-20T11:00:52.211863Z"
    }
   },
   "cell_type": "code",
   "source": [
    "import random\n",
    "\n",
    "# Helper Function to get a normal distribution\n",
    "\n",
    "\n",
    "def normaldistribution(dist_params):\n",
    "    normal_variant = random.normalvariate(dist_params[0], dist_params[1])\n",
    "    return max(min(normal_variant, dist_params[3]), dist_params[2])"
   ],
   "id": "3be5fbee0f38cfbb",
   "outputs": [],
   "execution_count": 16
  },
  {
   "metadata": {},
   "cell_type": "markdown",
   "source": "## Plot input grid",
   "id": "6b99196b6d0e1be7"
  },
  {
   "metadata": {
    "ExecuteTime": {
     "end_time": "2025-01-20T11:00:52.928651Z",
     "start_time": "2025-01-20T11:00:52.695724Z"
    }
   },
   "cell_type": "code",
   "source": [
    "from pypsdm.plots.grid import grid_plot\n",
    "\n",
    "grid_plot(grid)"
   ],
   "id": "a564b0cb4afcf301",
   "outputs": [
    {
     "data": {
      "application/vnd.plotly.v1+json": {
       "data": [
        {
         "hoverinfo": "skip",
         "lat": [
          53.6393,
          53.6389
         ],
         "line": {
          "color": "#1ac938"
         },
         "lon": [
          11.3947,
          11.3952
         ],
         "mode": "lines",
         "type": "scattermapbox"
        },
        {
         "hoverinfo": "text",
         "hovertext": "LV4.101 Line 10",
         "lat": [
          53.6391
         ],
         "lon": [
          11.394950000000001
         ],
         "marker": {
          "color": "#1ac938",
          "opacity": 0,
          "size": 0
         },
         "mode": "markers",
         "type": "scattermapbox"
        },
        {
         "hoverinfo": "skip",
         "lat": [
          53.6414,
          53.6418
         ],
         "line": {
          "color": "#1ac938"
         },
         "lon": [
          11.3924,
          11.3923
         ],
         "mode": "lines",
         "type": "scattermapbox"
        },
        {
         "hoverinfo": "text",
         "hovertext": "LV4.101 Line 1",
         "lat": [
          53.6416
         ],
         "lon": [
          11.39235
         ],
         "marker": {
          "color": "#1ac938",
          "opacity": 0,
          "size": 0
         },
         "mode": "markers",
         "type": "scattermapbox"
        },
        {
         "hoverinfo": "skip",
         "lat": [
          53.6382,
          53.6378
         ],
         "line": {
          "color": "#1ac938"
         },
         "lon": [
          11.3952,
          11.3952
         ],
         "mode": "lines",
         "type": "scattermapbox"
        },
        {
         "hoverinfo": "text",
         "hovertext": "LV4.101 Line 18",
         "lat": [
          53.638
         ],
         "lon": [
          11.3952
         ],
         "marker": {
          "color": "#1ac938",
          "opacity": 0,
          "size": 0
         },
         "mode": "markers",
         "type": "scattermapbox"
        },
        {
         "hoverinfo": "skip",
         "lat": [
          53.6377,
          53.6381
         ],
         "line": {
          "color": "#1ac938"
         },
         "lon": [
          11.3942,
          11.3942
         ],
         "mode": "lines",
         "type": "scattermapbox"
        },
        {
         "hoverinfo": "text",
         "hovertext": "LV4.101 Line 24",
         "lat": [
          53.6379
         ],
         "lon": [
          11.3942
         ],
         "marker": {
          "color": "#1ac938",
          "opacity": 0,
          "size": 0
         },
         "mode": "markers",
         "type": "scattermapbox"
        },
        {
         "hoverinfo": "skip",
         "lat": [
          53.6414,
          53.6409
         ],
         "line": {
          "color": "#1ac938"
         },
         "lon": [
          11.3914,
          11.3914
         ],
         "mode": "lines",
         "type": "scattermapbox"
        },
        {
         "hoverinfo": "text",
         "hovertext": "LV4.101 Line 41",
         "lat": [
          53.641149999999996
         ],
         "lon": [
          11.3914
         ],
         "marker": {
          "color": "#1ac938",
          "opacity": 0,
          "size": 0
         },
         "mode": "markers",
         "type": "scattermapbox"
        },
        {
         "hoverinfo": "skip",
         "lat": [
          53.6427,
          53.6423
         ],
         "line": {
          "color": "#1ac938"
         },
         "lon": [
          11.3924,
          11.3924
         ],
         "mode": "lines",
         "type": "scattermapbox"
        },
        {
         "hoverinfo": "text",
         "hovertext": "LV4.101 Line 11",
         "lat": [
          53.6425
         ],
         "lon": [
          11.3924
         ],
         "marker": {
          "color": "#1ac938",
          "opacity": 0,
          "size": 0
         },
         "mode": "markers",
         "type": "scattermapbox"
        },
        {
         "hoverinfo": "skip",
         "lat": [
          53.644,
          53.6431
         ],
         "line": {
          "color": "#1ac938"
         },
         "lon": [
          11.3931,
          11.3913
         ],
         "mode": "lines",
         "type": "scattermapbox"
        },
        {
         "hoverinfo": "text",
         "hovertext": "LV4.101 Line 34",
         "lat": [
          53.64355
         ],
         "lon": [
          11.392199999999999
         ],
         "marker": {
          "color": "#1ac938",
          "opacity": 0,
          "size": 0
         },
         "mode": "markers",
         "type": "scattermapbox"
        },
        {
         "hoverinfo": "skip",
         "lat": [
          53.6423,
          53.6427
         ],
         "line": {
          "color": "#1ac938"
         },
         "lon": [
          11.394,
          11.3941
         ],
         "mode": "lines",
         "type": "scattermapbox"
        },
        {
         "hoverinfo": "text",
         "hovertext": "LV4.101 Line 21",
         "lat": [
          53.6425
         ],
         "lon": [
          11.39405
         ],
         "marker": {
          "color": "#1ac938",
          "opacity": 0,
          "size": 0
         },
         "mode": "markers",
         "type": "scattermapbox"
        },
        {
         "hoverinfo": "skip",
         "lat": [
          53.6418,
          53.6414
         ],
         "line": {
          "color": "#1ac938"
         },
         "lon": [
          11.391,
          11.3914
         ],
         "mode": "lines",
         "type": "scattermapbox"
        },
        {
         "hoverinfo": "text",
         "hovertext": "LV4.101 Line 40",
         "lat": [
          53.6416
         ],
         "lon": [
          11.391200000000001
         ],
         "marker": {
          "color": "#1ac938",
          "opacity": 0,
          "size": 0
         },
         "mode": "markers",
         "type": "scattermapbox"
        },
        {
         "hoverinfo": "skip",
         "lat": [
          53.6419,
          53.6423
         ],
         "line": {
          "color": "#1ac938"
         },
         "lon": [
          11.3941,
          11.394
         ],
         "mode": "lines",
         "type": "scattermapbox"
        },
        {
         "hoverinfo": "text",
         "hovertext": "LV4.101 Line 2",
         "lat": [
          53.6421
         ],
         "lon": [
          11.39405
         ],
         "marker": {
          "color": "#1ac938",
          "opacity": 0,
          "size": 0
         },
         "mode": "markers",
         "type": "scattermapbox"
        },
        {
         "hoverinfo": "skip",
         "lat": [
          53.6409,
          53.6405
         ],
         "line": {
          "color": "#1ac938"
         },
         "lon": [
          11.3914,
          11.3914
         ],
         "mode": "lines",
         "type": "scattermapbox"
        },
        {
         "hoverinfo": "text",
         "hovertext": "LV4.101 Line 42",
         "lat": [
          53.6407
         ],
         "lon": [
          11.3914
         ],
         "marker": {
          "color": "#1ac938",
          "opacity": 0,
          "size": 0
         },
         "mode": "markers",
         "type": "scattermapbox"
        },
        {
         "hoverinfo": "skip",
         "lat": [
          53.6427,
          53.6431
         ],
         "line": {
          "color": "#1ac938"
         },
         "lon": [
          11.3941,
          11.3941
         ],
         "mode": "lines",
         "type": "scattermapbox"
        },
        {
         "hoverinfo": "text",
         "hovertext": "LV4.101 Line 14",
         "lat": [
          53.6429
         ],
         "lon": [
          11.3941
         ],
         "marker": {
          "color": "#1ac938",
          "opacity": 0,
          "size": 0
         },
         "mode": "markers",
         "type": "scattermapbox"
        },
        {
         "hoverinfo": "skip",
         "lat": [
          53.6416,
          53.6419
         ],
         "line": {
          "color": "#1ac938"
         },
         "lon": [
          11.3947,
          11.3941
         ],
         "mode": "lines",
         "type": "scattermapbox"
        },
        {
         "hoverinfo": "text",
         "hovertext": "LV4.101 Line 26",
         "lat": [
          53.64175
         ],
         "lon": [
          11.394400000000001
         ],
         "marker": {
          "color": "#1ac938",
          "opacity": 0,
          "size": 0
         },
         "mode": "markers",
         "type": "scattermapbox"
        },
        {
         "hoverinfo": "skip",
         "lat": [
          53.6403,
          53.64
         ],
         "line": {
          "color": "#1ac938"
         },
         "lon": [
          11.3934,
          11.3933
         ],
         "mode": "lines",
         "type": "scattermapbox"
        },
        {
         "hoverinfo": "text",
         "hovertext": "LV4.101 Line 5",
         "lat": [
          53.640150000000006
         ],
         "lon": [
          11.39335
         ],
         "marker": {
          "color": "#1ac938",
          "opacity": 0,
          "size": 0
         },
         "mode": "markers",
         "type": "scattermapbox"
        },
        {
         "hoverinfo": "skip",
         "lat": [
          53.6416,
          53.6412
         ],
         "line": {
          "color": "#1ac938"
         },
         "lon": [
          11.3933,
          11.3933
         ],
         "mode": "lines",
         "type": "scattermapbox"
        },
        {
         "hoverinfo": "text",
         "hovertext": "LV4.101 Line 20",
         "lat": [
          53.6414
         ],
         "lon": [
          11.3933
         ],
         "marker": {
          "color": "#1ac938",
          "opacity": 0,
          "size": 0
         },
         "mode": "markers",
         "type": "scattermapbox"
        },
        {
         "hoverinfo": "skip",
         "lat": [
          53.6431,
          53.6427
         ],
         "line": {
          "color": "#1ac938"
         },
         "lon": [
          11.3924,
          11.3924
         ],
         "mode": "lines",
         "type": "scattermapbox"
        },
        {
         "hoverinfo": "text",
         "hovertext": "LV4.101 Line 30",
         "lat": [
          53.6429
         ],
         "lon": [
          11.3924
         ],
         "marker": {
          "color": "#1ac938",
          "opacity": 0,
          "size": 0
         },
         "mode": "markers",
         "type": "scattermapbox"
        },
        {
         "hoverinfo": "skip",
         "lat": [
          53.6423,
          53.6418
         ],
         "line": {
          "color": "#1ac938"
         },
         "lon": [
          11.3913,
          11.391
         ],
         "mode": "lines",
         "type": "scattermapbox"
        },
        {
         "hoverinfo": "text",
         "hovertext": "LV4.101 Line 37",
         "lat": [
          53.64205
         ],
         "lon": [
          11.39115
         ],
         "marker": {
          "color": "#1ac938",
          "opacity": 0,
          "size": 0
         },
         "mode": "markers",
         "type": "scattermapbox"
        },
        {
         "hoverinfo": "skip",
         "lat": [
          53.644,
          53.6431
         ],
         "line": {
          "color": "#1ac938"
         },
         "lon": [
          11.3931,
          11.3924
         ],
         "mode": "lines",
         "type": "scattermapbox"
        },
        {
         "hoverinfo": "text",
         "hovertext": "LV4.101 Line 7",
         "lat": [
          53.64355
         ],
         "lon": [
          11.39275
         ],
         "marker": {
          "color": "#1ac938",
          "opacity": 0,
          "size": 0
         },
         "mode": "markers",
         "type": "scattermapbox"
        },
        {
         "hoverinfo": "skip",
         "lat": [
          53.6431,
          53.644
         ],
         "line": {
          "color": "#1ac938"
         },
         "lon": [
          11.3941,
          11.3931
         ],
         "mode": "lines",
         "type": "scattermapbox"
        },
        {
         "hoverinfo": "text",
         "hovertext": "LV4.101 Line 33",
         "lat": [
          53.64355
         ],
         "lon": [
          11.3936
         ],
         "marker": {
          "color": "#1ac938",
          "opacity": 0,
          "size": 0
         },
         "mode": "markers",
         "type": "scattermapbox"
        },
        {
         "hoverinfo": "skip",
         "lat": [
          53.6414,
          53.6409
         ],
         "line": {
          "color": "#1ac938"
         },
         "lon": [
          11.3906,
          11.3906
         ],
         "mode": "lines",
         "type": "scattermapbox"
        },
        {
         "hoverinfo": "text",
         "hovertext": "LV4.101 Line 39",
         "lat": [
          53.641149999999996
         ],
         "lon": [
          11.3906
         ],
         "marker": {
          "color": "#1ac938",
          "opacity": 0,
          "size": 0
         },
         "mode": "markers",
         "type": "scattermapbox"
        },
        {
         "hoverinfo": "skip",
         "lat": [
          53.6431,
          53.6427
         ],
         "line": {
          "color": "#1ac938"
         },
         "lon": [
          11.3913,
          11.3913
         ],
         "mode": "lines",
         "type": "scattermapbox"
        },
        {
         "hoverinfo": "text",
         "hovertext": "LV4.101 Line 35",
         "lat": [
          53.6429
         ],
         "lon": [
          11.3913
         ],
         "marker": {
          "color": "#1ac938",
          "opacity": 0,
          "size": 0
         },
         "mode": "markers",
         "type": "scattermapbox"
        },
        {
         "hoverinfo": "skip",
         "lat": [
          53.6407,
          53.6403
         ],
         "line": {
          "color": "#1ac938"
         },
         "lon": [
          11.3933,
          11.3934
         ],
         "mode": "lines",
         "type": "scattermapbox"
        },
        {
         "hoverinfo": "text",
         "hovertext": "LV4.101 Line 23",
         "lat": [
          53.6405
         ],
         "lon": [
          11.39335
         ],
         "marker": {
          "color": "#1ac938",
          "opacity": 0,
          "size": 0
         },
         "mode": "markers",
         "type": "scattermapbox"
        },
        {
         "hoverinfo": "skip",
         "lat": [
          53.6404,
          53.6408
         ],
         "line": {
          "color": "#1ac938"
         },
         "lon": [
          11.3947,
          11.3947
         ],
         "mode": "lines",
         "type": "scattermapbox"
        },
        {
         "hoverinfo": "text",
         "hovertext": "LV4.101 Line 27",
         "lat": [
          53.6406
         ],
         "lon": [
          11.3947
         ],
         "marker": {
          "color": "#1ac938",
          "opacity": 0,
          "size": 0
         },
         "mode": "markers",
         "type": "scattermapbox"
        },
        {
         "hoverinfo": "skip",
         "lat": [
          53.6427,
          53.6423
         ],
         "line": {
          "color": "#1ac938"
         },
         "lon": [
          11.3913,
          11.3913
         ],
         "mode": "lines",
         "type": "scattermapbox"
        },
        {
         "hoverinfo": "text",
         "hovertext": "LV4.101 Line 36",
         "lat": [
          53.6425
         ],
         "lon": [
          11.3913
         ],
         "marker": {
          "color": "#1ac938",
          "opacity": 0,
          "size": 0
         },
         "mode": "markers",
         "type": "scattermapbox"
        },
        {
         "hoverinfo": "skip",
         "lat": [
          53.6397,
          53.64
         ],
         "line": {
          "color": "#1ac938"
         },
         "lon": [
          11.3947,
          11.3947
         ],
         "mode": "lines",
         "type": "scattermapbox"
        },
        {
         "hoverinfo": "text",
         "hovertext": "LV4.101 Line 3",
         "lat": [
          53.639849999999996
         ],
         "lon": [
          11.3947
         ],
         "marker": {
          "color": "#1ac938",
          "opacity": 0,
          "size": 0
         },
         "mode": "markers",
         "type": "scattermapbox"
        },
        {
         "hoverinfo": "skip",
         "lat": [
          53.6381,
          53.6385
         ],
         "line": {
          "color": "#1ac938"
         },
         "lon": [
          11.3942,
          11.3942
         ],
         "mode": "lines",
         "type": "scattermapbox"
        },
        {
         "hoverinfo": "text",
         "hovertext": "LV4.101 Line 29",
         "lat": [
          53.6383
         ],
         "lon": [
          11.3942
         ],
         "marker": {
          "color": "#1ac938",
          "opacity": 0,
          "size": 0
         },
         "mode": "markers",
         "type": "scattermapbox"
        },
        {
         "hoverinfo": "skip",
         "lat": [
          53.6408,
          53.6412
         ],
         "line": {
          "color": "#1ac938"
         },
         "lon": [
          11.3947,
          11.3947
         ],
         "mode": "lines",
         "type": "scattermapbox"
        },
        {
         "hoverinfo": "text",
         "hovertext": "LV4.101 Line 6",
         "lat": [
          53.641
         ],
         "lon": [
          11.3947
         ],
         "marker": {
          "color": "#1ac938",
          "opacity": 0,
          "size": 0
         },
         "mode": "markers",
         "type": "scattermapbox"
        },
        {
         "hoverinfo": "skip",
         "lat": [
          53.64,
          53.6404
         ],
         "line": {
          "color": "#1ac938"
         },
         "lon": [
          11.3947,
          11.3947
         ],
         "mode": "lines",
         "type": "scattermapbox"
        },
        {
         "hoverinfo": "text",
         "hovertext": "LV4.101 Line 16",
         "lat": [
          53.6402
         ],
         "lon": [
          11.3947
         ],
         "marker": {
          "color": "#1ac938",
          "opacity": 0,
          "size": 0
         },
         "mode": "markers",
         "type": "scattermapbox"
        },
        {
         "hoverinfo": "skip",
         "lat": [
          53.6412,
          53.6416
         ],
         "line": {
          "color": "#1ac938"
         },
         "lon": [
          11.3947,
          11.3947
         ],
         "mode": "lines",
         "type": "scattermapbox"
        },
        {
         "hoverinfo": "text",
         "hovertext": "LV4.101 Line 4",
         "lat": [
          53.6414
         ],
         "lon": [
          11.3947
         ],
         "marker": {
          "color": "#1ac938",
          "opacity": 0,
          "size": 0
         },
         "mode": "markers",
         "type": "scattermapbox"
        },
        {
         "hoverinfo": "skip",
         "lat": [
          53.64,
          53.6396
         ],
         "line": {
          "color": "#1ac938"
         },
         "lon": [
          11.3933,
          11.3934
         ],
         "mode": "lines",
         "type": "scattermapbox"
        },
        {
         "hoverinfo": "text",
         "hovertext": "LV4.101 Line 13",
         "lat": [
          53.6398
         ],
         "lon": [
          11.39335
         ],
         "marker": {
          "color": "#1ac938",
          "opacity": 0,
          "size": 0
         },
         "mode": "markers",
         "type": "scattermapbox"
        },
        {
         "hoverinfo": "skip",
         "lat": [
          53.6419,
          53.6416
         ],
         "line": {
          "color": "#1ac938"
         },
         "lon": [
          11.3941,
          11.3933
         ],
         "mode": "lines",
         "type": "scattermapbox"
        },
        {
         "hoverinfo": "text",
         "hovertext": "LV4.101 Line 9",
         "lat": [
          53.64175
         ],
         "lon": [
          11.393699999999999
         ],
         "marker": {
          "color": "#1ac938",
          "opacity": 0,
          "size": 0
         },
         "mode": "markers",
         "type": "scattermapbox"
        },
        {
         "hoverinfo": "skip",
         "lat": [
          53.6389,
          53.6393
         ],
         "line": {
          "color": "#1ac938"
         },
         "lon": [
          11.3942,
          11.3947
         ],
         "mode": "lines",
         "type": "scattermapbox"
        },
        {
         "hoverinfo": "text",
         "hovertext": "LV4.101 Line 12",
         "lat": [
          53.6391
         ],
         "lon": [
          11.394449999999999
         ],
         "marker": {
          "color": "#1ac938",
          "opacity": 0,
          "size": 0
         },
         "mode": "markers",
         "type": "scattermapbox"
        },
        {
         "hoverinfo": "skip",
         "lat": [
          53.6418,
          53.6423
         ],
         "line": {
          "color": "#1ac938"
         },
         "lon": [
          11.3923,
          11.3924
         ],
         "mode": "lines",
         "type": "scattermapbox"
        },
        {
         "hoverinfo": "text",
         "hovertext": "LV4.101 Line 22",
         "lat": [
          53.64205
         ],
         "lon": [
          11.39235
         ],
         "marker": {
          "color": "#1ac938",
          "opacity": 0,
          "size": 0
         },
         "mode": "markers",
         "type": "scattermapbox"
        },
        {
         "hoverinfo": "skip",
         "lat": [
          53.6418,
          53.6414
         ],
         "line": {
          "color": "#1ac938"
         },
         "lon": [
          11.391,
          11.3906
         ],
         "mode": "lines",
         "type": "scattermapbox"
        },
        {
         "hoverinfo": "text",
         "hovertext": "LV4.101 Line 38",
         "lat": [
          53.6416
         ],
         "lon": [
          11.390799999999999
         ],
         "marker": {
          "color": "#1ac938",
          "opacity": 0,
          "size": 0
         },
         "mode": "markers",
         "type": "scattermapbox"
        },
        {
         "hoverinfo": "skip",
         "lat": [
          53.6385,
          53.6389
         ],
         "line": {
          "color": "#1ac938"
         },
         "lon": [
          11.3942,
          11.3942
         ],
         "mode": "lines",
         "type": "scattermapbox"
        },
        {
         "hoverinfo": "text",
         "hovertext": "LV4.101 Line 15",
         "lat": [
          53.6387
         ],
         "lon": [
          11.3942
         ],
         "marker": {
          "color": "#1ac938",
          "opacity": 0,
          "size": 0
         },
         "mode": "markers",
         "type": "scattermapbox"
        },
        {
         "hoverinfo": "skip",
         "lat": [
          53.6386,
          53.6382
         ],
         "line": {
          "color": "#1ac938"
         },
         "lon": [
          11.3952,
          11.3952
         ],
         "mode": "lines",
         "type": "scattermapbox"
        },
        {
         "hoverinfo": "text",
         "hovertext": "LV4.101 Line 32",
         "lat": [
          53.6384
         ],
         "lon": [
          11.3952
         ],
         "marker": {
          "color": "#1ac938",
          "opacity": 0,
          "size": 0
         },
         "mode": "markers",
         "type": "scattermapbox"
        },
        {
         "hoverinfo": "skip",
         "lat": [
          53.6372,
          53.6377
         ],
         "line": {
          "color": "#1ac938"
         },
         "lon": [
          11.3942,
          11.3942
         ],
         "mode": "lines",
         "type": "scattermapbox"
        },
        {
         "hoverinfo": "text",
         "hovertext": "LV4.101 Line 28",
         "lat": [
          53.63745
         ],
         "lon": [
          11.3942
         ],
         "marker": {
          "color": "#1ac938",
          "opacity": 0,
          "size": 0
         },
         "mode": "markers",
         "type": "scattermapbox"
        },
        {
         "hoverinfo": "skip",
         "lat": [
          53.6412,
          53.6407
         ],
         "line": {
          "color": "#1ac938"
         },
         "lon": [
          11.3933,
          11.3933
         ],
         "mode": "lines",
         "type": "scattermapbox"
        },
        {
         "hoverinfo": "text",
         "hovertext": "LV4.101 Line 8",
         "lat": [
          53.640950000000004
         ],
         "lon": [
          11.3933
         ],
         "marker": {
          "color": "#1ac938",
          "opacity": 0,
          "size": 0
         },
         "mode": "markers",
         "type": "scattermapbox"
        },
        {
         "hoverinfo": "skip",
         "lat": [
          53.6378,
          53.6374
         ],
         "line": {
          "color": "#1ac938"
         },
         "lon": [
          11.3952,
          11.3952
         ],
         "mode": "lines",
         "type": "scattermapbox"
        },
        {
         "hoverinfo": "text",
         "hovertext": "LV4.101 Line 25",
         "lat": [
          53.6376
         ],
         "lon": [
          11.3952
         ],
         "marker": {
          "color": "#1ac938",
          "opacity": 0,
          "size": 0
         },
         "mode": "markers",
         "type": "scattermapbox"
        },
        {
         "hoverinfo": "skip",
         "lat": [
          53.6393,
          53.6397
         ],
         "line": {
          "color": "#1ac938"
         },
         "lon": [
          11.3947,
          11.3947
         ],
         "mode": "lines",
         "type": "scattermapbox"
        },
        {
         "hoverinfo": "text",
         "hovertext": "LV4.101 Line 17",
         "lat": [
          53.6395
         ],
         "lon": [
          11.3947
         ],
         "marker": {
          "color": "#1ac938",
          "opacity": 0,
          "size": 0
         },
         "mode": "markers",
         "type": "scattermapbox"
        },
        {
         "hoverinfo": "skip",
         "lat": [
          53.6389,
          53.6386
         ],
         "line": {
          "color": "#1ac938"
         },
         "lon": [
          11.3952,
          11.3952
         ],
         "mode": "lines",
         "type": "scattermapbox"
        },
        {
         "hoverinfo": "text",
         "hovertext": "LV4.101 Line 19",
         "lat": [
          53.63875
         ],
         "lon": [
          11.3952
         ],
         "marker": {
          "color": "#1ac938",
          "opacity": 0,
          "size": 0
         },
         "mode": "markers",
         "type": "scattermapbox"
        },
        {
         "hoverinfo": "skip",
         "lat": [
          53.6368,
          53.6372
         ],
         "line": {
          "color": "#1ac938"
         },
         "lon": [
          11.3942,
          11.3942
         ],
         "mode": "lines",
         "type": "scattermapbox"
        },
        {
         "hoverinfo": "text",
         "hovertext": "LV4.101 Line 31",
         "lat": [
          53.637
         ],
         "lon": [
          11.3942
         ],
         "marker": {
          "color": "#1ac938",
          "opacity": 0,
          "size": 0
         },
         "mode": "markers",
         "type": "scattermapbox"
        },
        {
         "hoverinfo": "text",
         "hovertext": [
          "LV4.101 Bus 6<br>cca492d9-8680-4756-a1c3-416885ec900f<br>load=Count: 1, Rated Power: 3.23 kw",
          "LV4.101 Bus 26<br>b866a7b6-6723-460f-8566-28f4ee4606b8<br>load=Count: 1, Rated Power: 4.3 kw",
          "LV4.101 Bus 38<br>06cb36a2-f4df-446f-a0af-49b27041435a<br>load=Count: 1, Rated Power: 11.83 kw",
          "LV4.101 Bus 31<br>e3792423-73b3-4140-b20c-e8bce24bfc65<br>load=Count: 1, Rated Power: 3.23 kw",
          "LV4.101 Bus 4<br>713ce704-d74c-495d-bd34-3a5a2c884972<br>load=Count: 1, Rated Power: 6.45 kw",
          "LV4.101 Bus 23<br>0865edcb-9d91-4a8b-a19a-57e6c3bb09e3<br>load=Count: 1, Rated Power: 6.45 kw",
          "LV4.101 Bus 29<br>dc3fd401-1b5c-4527-887a-3f7e4e226d17<br>load=Count: 1, Rated Power: 6.45 kw",
          "LV4.101 Bus 28<br>9643835b-4203-4cdf-a34e-7acd2dba5aae<br>",
          "LV4.101 Bus 21<br>b5e8900e-4293-48fd-8229-1f54090bd485<br>load=Count: 1, Rated Power: 3.23 kw",
          "LV4.101 Bus 15<br>3c1d62ba-beb1-487e-8e78-781076b0dec8<br>load=Count: 2, Rated Power: 6.45 kw",
          "LV4.101 Bus 18<br>84a9b473-973b-47e6-a130-e42639b8dcfb<br>load=Count: 1, Rated Power: 4.3 kw",
          "LV4.101 Bus 5<br>d48ff2f5-9544-41fa-80ca-3a64bd1a0b65<br>load=Count: 2, Rated Power: 6.45 kw",
          "LV4.101 Bus 42<br>509e67c3-af06-425c-b17c-9345148cb7a1<br>load=Count: 1, Rated Power: 19.35 kw",
          "LV4.101 Bus 35<br>a47606da-483d-4d18-8b2d-e270e57cf27e<br>",
          "LV4.101 Bus 16<br>b62f6b25-dacb-4a89-b30a-0c1655087743<br>load=Count: 1, Rated Power: 3.23 kw",
          "LV4.101 Bus 33<br>8ef48029-ff8c-4542-9984-06c16c29f7e1<br>load=Count: 1, Rated Power: 4.3 kw",
          "LV4.101 Bus 39<br>8e066962-d104-4a5e-91f1-62a4a5988bb0<br>",
          "LV4.101 Bus 12<br>1ca439ef-5f1a-4423-a22f-162f9b90b288<br>load=Count: 1, Rated Power: 4.3 kw",
          "LV4.101 Bus 9<br>8474297d-c8eb-4812-9d51-8e2a69d9f36b<br>load=Count: 1, Rated Power: 3.23 kw",
          "LV4.101 Bus 14<br>9d4e278f-62bb-4845-9227-1a5b8efe770c<br>load=Count: 1, Rated Power: 4.3 kw",
          "LV4.101 Bus 41<br>c95fe890-ce0e-49f6-a8d0-629a53f38399<br>load=Count: 1, Rated Power: 12.9 kw",
          "LV4.101 Bus 43<br>0fc0a7f2-bfd6-4a85-b5a1-3209e3e3ecb6<br>load=Count: 1, Rated Power: 13.98 kw",
          "LV4.101 Bus 8<br>050dabc3-63a9-40b5-98bb-eaf110723dbb<br>load=Count: 1, Rated Power: 4.3 kw",
          "LV4.101 Bus 3<br>9a73a879-1dcc-44a7-b3a5-e2751c216828<br>load=Count: 1, Rated Power: 4.3 kw",
          "LV4.101 Bus 13<br>ea105d3c-e118-4e7a-88f2-ab0d74de6eab<br>load=Count: 1, Rated Power: 3.23 kw",
          "MV1.101 Bus 52<br>edb48d82-f200-4b29-b1e6-1e80b04f57f9<br>",
          "LV4.101 Bus 10<br>8616aafd-a1fb-4360-b127-97a86b463fdf<br>load=Count: 1, Rated Power: 6.45 kw",
          "LV4.101 Bus 34<br>85106422-d9aa-4d4c-a1e9-24dc31441d8d<br>load=Count: 1, Rated Power: 4.3 kw",
          "LV4.101 Bus 37<br>01de6bb9-1895-4de8-bb33-8109e65845ee<br>load=Count: 1, Rated Power: 11.83 kw",
          "LV4.101 Bus 24<br>a56fa465-e468-4fb2-a8df-5add9d258f25<br>load=Count: 1, Rated Power: 6.45 kw",
          "LV4.101 Bus 36<br>6274b593-4a4c-4478-bc37-b28d00588d2f<br>load=Count: 1, Rated Power: 18.28 kw",
          "LV4.101 Bus 40<br>f70624d8-3dbf-4242-8f76-9b285f806797<br>load=Count: 1, Rated Power: 18.28 kw",
          "LV4.101 Bus 7<br>31d25d96-18c5-4153-a5b9-b5ae9f4e63a0<br>load=Count: 1, Rated Power: 4.3 kw",
          "LV4.101 Bus 32<br>8801c3da-2500-4a8e-8dc5-95c7e0368601<br>",
          "LV4.101 Bus 20<br>4dd94641-84ef-4a85-8d65-9218d87791a0<br>load=Count: 1, Rated Power: 3.23 kw",
          "LV4.101 Bus 19<br>c48d162c-87b3-4bb7-b3c7-8ecae5f6c496<br>load=Count: 1, Rated Power: 4.3 kw<br>fixed_feed_in=Count: 1, Rated Power: 6.48 kw",
          "LV4.101 Bus 30<br>bc3ccd72-0df3-4967-b8b9-6c525d494a72<br>load=Count: 1, Rated Power: 3.23 kw",
          "LV4.101 Bus 44<br>9ffff303-1dda-4785-8790-3a2aa4681ea7<br>load=Count: 1, Rated Power: 9.68 kw",
          "LV4.101 Bus 22<br>0e11f5ed-dc23-4b22-a6fd-7ea4fd72788e<br>load=Count: 1, Rated Power: 3.23 kw",
          "LV4.101 Bus 2<br>6d6d2cdd-7096-4540-b49f-ee29767a5864<br>load=Count: 1, Rated Power: 8.6 kw",
          "LV4.101 Bus 11<br>febd89ad-a95c-4024-9749-bce6b8bb1902<br>load=Count: 1, Rated Power: 4.3 kw",
          "LV4.101 Bus 17<br>f32e9b1d-a42d-491b-8181-98abe4278d8c<br>load=Count: 1, Rated Power: 6.45 kw",
          "LV4.101 Bus 25<br>1102ac5d-15ce-4e2f-912c-c26510ee6176<br>load=Count: 1, Rated Power: 4.3 kw",
          "LV4.101 Bus 1<br>37be3f34-6086-4607-8f61-16f04911adfc<br>load=Count: 1, Rated Power: 4.3 kw"
         ],
         "lat": [
          53.6382,
          53.6427,
          53.6423,
          53.6427,
          53.6386,
          53.64,
          53.6404,
          53.6393,
          53.6416,
          53.6431,
          53.6423,
          53.6431,
          53.6414,
          53.6419,
          53.6412,
          53.6397,
          53.6418,
          53.6412,
          53.6418,
          53.6416,
          53.6409,
          53.6409,
          53.6389,
          53.6372,
          53.6378,
          53.644,
          53.6368,
          53.6377,
          53.6427,
          53.6407,
          53.6431,
          53.6414,
          53.64,
          53.644,
          53.6423,
          53.6381,
          53.6403,
          53.6405,
          53.6396,
          53.6414,
          53.6385,
          53.6389,
          53.6374,
          53.6408
         ],
         "lon": [
          11.3952,
          11.3941,
          11.3913,
          11.3924,
          11.3952,
          11.3933,
          11.3947,
          11.3947,
          11.3933,
          11.3924,
          11.394,
          11.3941,
          11.3914,
          11.3941,
          11.3933,
          11.3947,
          11.391,
          11.3947,
          11.3923,
          11.3947,
          11.3906,
          11.3914,
          11.3942,
          11.3942,
          11.3952,
          11.3931,
          11.3942,
          11.3942,
          11.3913,
          11.3933,
          11.3913,
          11.3906,
          11.3947,
          11.3931,
          11.3924,
          11.3942,
          11.3934,
          11.3914,
          11.3934,
          11.3924,
          11.3942,
          11.3952,
          11.3952,
          11.3947
         ],
         "marker": {
          "color": "#023eff",
          "size": 6
         },
         "mode": "markers",
         "text": [
          "LV4.101 Bus 6<br>cca492d9-8680-4756-a1c3-416885ec900f<br>load=Count: 1, Rated Power: 3.23 kw",
          "LV4.101 Bus 26<br>b866a7b6-6723-460f-8566-28f4ee4606b8<br>load=Count: 1, Rated Power: 4.3 kw",
          "LV4.101 Bus 38<br>06cb36a2-f4df-446f-a0af-49b27041435a<br>load=Count: 1, Rated Power: 11.83 kw",
          "LV4.101 Bus 31<br>e3792423-73b3-4140-b20c-e8bce24bfc65<br>load=Count: 1, Rated Power: 3.23 kw",
          "LV4.101 Bus 4<br>713ce704-d74c-495d-bd34-3a5a2c884972<br>load=Count: 1, Rated Power: 6.45 kw",
          "LV4.101 Bus 23<br>0865edcb-9d91-4a8b-a19a-57e6c3bb09e3<br>load=Count: 1, Rated Power: 6.45 kw",
          "LV4.101 Bus 29<br>dc3fd401-1b5c-4527-887a-3f7e4e226d17<br>load=Count: 1, Rated Power: 6.45 kw",
          "LV4.101 Bus 28<br>9643835b-4203-4cdf-a34e-7acd2dba5aae<br>",
          "LV4.101 Bus 21<br>b5e8900e-4293-48fd-8229-1f54090bd485<br>load=Count: 1, Rated Power: 3.23 kw",
          "LV4.101 Bus 15<br>3c1d62ba-beb1-487e-8e78-781076b0dec8<br>load=Count: 2, Rated Power: 6.45 kw",
          "LV4.101 Bus 18<br>84a9b473-973b-47e6-a130-e42639b8dcfb<br>load=Count: 1, Rated Power: 4.3 kw",
          "LV4.101 Bus 5<br>d48ff2f5-9544-41fa-80ca-3a64bd1a0b65<br>load=Count: 2, Rated Power: 6.45 kw",
          "LV4.101 Bus 42<br>509e67c3-af06-425c-b17c-9345148cb7a1<br>load=Count: 1, Rated Power: 19.35 kw",
          "LV4.101 Bus 35<br>a47606da-483d-4d18-8b2d-e270e57cf27e<br>",
          "LV4.101 Bus 16<br>b62f6b25-dacb-4a89-b30a-0c1655087743<br>load=Count: 1, Rated Power: 3.23 kw",
          "LV4.101 Bus 33<br>8ef48029-ff8c-4542-9984-06c16c29f7e1<br>load=Count: 1, Rated Power: 4.3 kw",
          "LV4.101 Bus 39<br>8e066962-d104-4a5e-91f1-62a4a5988bb0<br>",
          "LV4.101 Bus 12<br>1ca439ef-5f1a-4423-a22f-162f9b90b288<br>load=Count: 1, Rated Power: 4.3 kw",
          "LV4.101 Bus 9<br>8474297d-c8eb-4812-9d51-8e2a69d9f36b<br>load=Count: 1, Rated Power: 3.23 kw",
          "LV4.101 Bus 14<br>9d4e278f-62bb-4845-9227-1a5b8efe770c<br>load=Count: 1, Rated Power: 4.3 kw",
          "LV4.101 Bus 41<br>c95fe890-ce0e-49f6-a8d0-629a53f38399<br>load=Count: 1, Rated Power: 12.9 kw",
          "LV4.101 Bus 43<br>0fc0a7f2-bfd6-4a85-b5a1-3209e3e3ecb6<br>load=Count: 1, Rated Power: 13.98 kw",
          "LV4.101 Bus 8<br>050dabc3-63a9-40b5-98bb-eaf110723dbb<br>load=Count: 1, Rated Power: 4.3 kw",
          "LV4.101 Bus 3<br>9a73a879-1dcc-44a7-b3a5-e2751c216828<br>load=Count: 1, Rated Power: 4.3 kw",
          "LV4.101 Bus 13<br>ea105d3c-e118-4e7a-88f2-ab0d74de6eab<br>load=Count: 1, Rated Power: 3.23 kw",
          "MV1.101 Bus 52<br>edb48d82-f200-4b29-b1e6-1e80b04f57f9<br>",
          "LV4.101 Bus 10<br>8616aafd-a1fb-4360-b127-97a86b463fdf<br>load=Count: 1, Rated Power: 6.45 kw",
          "LV4.101 Bus 34<br>85106422-d9aa-4d4c-a1e9-24dc31441d8d<br>load=Count: 1, Rated Power: 4.3 kw",
          "LV4.101 Bus 37<br>01de6bb9-1895-4de8-bb33-8109e65845ee<br>load=Count: 1, Rated Power: 11.83 kw",
          "LV4.101 Bus 24<br>a56fa465-e468-4fb2-a8df-5add9d258f25<br>load=Count: 1, Rated Power: 6.45 kw",
          "LV4.101 Bus 36<br>6274b593-4a4c-4478-bc37-b28d00588d2f<br>load=Count: 1, Rated Power: 18.28 kw",
          "LV4.101 Bus 40<br>f70624d8-3dbf-4242-8f76-9b285f806797<br>load=Count: 1, Rated Power: 18.28 kw",
          "LV4.101 Bus 7<br>31d25d96-18c5-4153-a5b9-b5ae9f4e63a0<br>load=Count: 1, Rated Power: 4.3 kw",
          "LV4.101 Bus 32<br>8801c3da-2500-4a8e-8dc5-95c7e0368601<br>",
          "LV4.101 Bus 20<br>4dd94641-84ef-4a85-8d65-9218d87791a0<br>load=Count: 1, Rated Power: 3.23 kw",
          "LV4.101 Bus 19<br>c48d162c-87b3-4bb7-b3c7-8ecae5f6c496<br>load=Count: 1, Rated Power: 4.3 kw<br>fixed_feed_in=Count: 1, Rated Power: 6.48 kw",
          "LV4.101 Bus 30<br>bc3ccd72-0df3-4967-b8b9-6c525d494a72<br>load=Count: 1, Rated Power: 3.23 kw",
          "LV4.101 Bus 44<br>9ffff303-1dda-4785-8790-3a2aa4681ea7<br>load=Count: 1, Rated Power: 9.68 kw",
          "LV4.101 Bus 22<br>0e11f5ed-dc23-4b22-a6fd-7ea4fd72788e<br>load=Count: 1, Rated Power: 3.23 kw",
          "LV4.101 Bus 2<br>6d6d2cdd-7096-4540-b49f-ee29767a5864<br>load=Count: 1, Rated Power: 8.6 kw",
          "LV4.101 Bus 11<br>febd89ad-a95c-4024-9749-bce6b8bb1902<br>load=Count: 1, Rated Power: 4.3 kw",
          "LV4.101 Bus 17<br>f32e9b1d-a42d-491b-8181-98abe4278d8c<br>load=Count: 1, Rated Power: 6.45 kw",
          "LV4.101 Bus 25<br>1102ac5d-15ce-4e2f-912c-c26510ee6176<br>load=Count: 1, Rated Power: 4.3 kw",
          "LV4.101 Bus 1<br>37be3f34-6086-4607-8f61-16f04911adfc<br>load=Count: 1, Rated Power: 4.3 kw"
         ],
         "type": "scattermapbox"
        }
       ],
       "layout": {
        "template": {
         "data": {
          "histogram2dcontour": [
           {
            "type": "histogram2dcontour",
            "colorbar": {
             "outlinewidth": 0,
             "ticks": ""
            },
            "colorscale": [
             [
              0.0,
              "#0d0887"
             ],
             [
              0.1111111111111111,
              "#46039f"
             ],
             [
              0.2222222222222222,
              "#7201a8"
             ],
             [
              0.3333333333333333,
              "#9c179e"
             ],
             [
              0.4444444444444444,
              "#bd3786"
             ],
             [
              0.5555555555555556,
              "#d8576b"
             ],
             [
              0.6666666666666666,
              "#ed7953"
             ],
             [
              0.7777777777777778,
              "#fb9f3a"
             ],
             [
              0.8888888888888888,
              "#fdca26"
             ],
             [
              1.0,
              "#f0f921"
             ]
            ]
           }
          ],
          "choropleth": [
           {
            "type": "choropleth",
            "colorbar": {
             "outlinewidth": 0,
             "ticks": ""
            }
           }
          ],
          "histogram2d": [
           {
            "type": "histogram2d",
            "colorbar": {
             "outlinewidth": 0,
             "ticks": ""
            },
            "colorscale": [
             [
              0.0,
              "#0d0887"
             ],
             [
              0.1111111111111111,
              "#46039f"
             ],
             [
              0.2222222222222222,
              "#7201a8"
             ],
             [
              0.3333333333333333,
              "#9c179e"
             ],
             [
              0.4444444444444444,
              "#bd3786"
             ],
             [
              0.5555555555555556,
              "#d8576b"
             ],
             [
              0.6666666666666666,
              "#ed7953"
             ],
             [
              0.7777777777777778,
              "#fb9f3a"
             ],
             [
              0.8888888888888888,
              "#fdca26"
             ],
             [
              1.0,
              "#f0f921"
             ]
            ]
           }
          ],
          "heatmap": [
           {
            "type": "heatmap",
            "colorbar": {
             "outlinewidth": 0,
             "ticks": ""
            },
            "colorscale": [
             [
              0.0,
              "#0d0887"
             ],
             [
              0.1111111111111111,
              "#46039f"
             ],
             [
              0.2222222222222222,
              "#7201a8"
             ],
             [
              0.3333333333333333,
              "#9c179e"
             ],
             [
              0.4444444444444444,
              "#bd3786"
             ],
             [
              0.5555555555555556,
              "#d8576b"
             ],
             [
              0.6666666666666666,
              "#ed7953"
             ],
             [
              0.7777777777777778,
              "#fb9f3a"
             ],
             [
              0.8888888888888888,
              "#fdca26"
             ],
             [
              1.0,
              "#f0f921"
             ]
            ]
           }
          ],
          "heatmapgl": [
           {
            "type": "heatmapgl",
            "colorbar": {
             "outlinewidth": 0,
             "ticks": ""
            },
            "colorscale": [
             [
              0.0,
              "#0d0887"
             ],
             [
              0.1111111111111111,
              "#46039f"
             ],
             [
              0.2222222222222222,
              "#7201a8"
             ],
             [
              0.3333333333333333,
              "#9c179e"
             ],
             [
              0.4444444444444444,
              "#bd3786"
             ],
             [
              0.5555555555555556,
              "#d8576b"
             ],
             [
              0.6666666666666666,
              "#ed7953"
             ],
             [
              0.7777777777777778,
              "#fb9f3a"
             ],
             [
              0.8888888888888888,
              "#fdca26"
             ],
             [
              1.0,
              "#f0f921"
             ]
            ]
           }
          ],
          "contourcarpet": [
           {
            "type": "contourcarpet",
            "colorbar": {
             "outlinewidth": 0,
             "ticks": ""
            }
           }
          ],
          "contour": [
           {
            "type": "contour",
            "colorbar": {
             "outlinewidth": 0,
             "ticks": ""
            },
            "colorscale": [
             [
              0.0,
              "#0d0887"
             ],
             [
              0.1111111111111111,
              "#46039f"
             ],
             [
              0.2222222222222222,
              "#7201a8"
             ],
             [
              0.3333333333333333,
              "#9c179e"
             ],
             [
              0.4444444444444444,
              "#bd3786"
             ],
             [
              0.5555555555555556,
              "#d8576b"
             ],
             [
              0.6666666666666666,
              "#ed7953"
             ],
             [
              0.7777777777777778,
              "#fb9f3a"
             ],
             [
              0.8888888888888888,
              "#fdca26"
             ],
             [
              1.0,
              "#f0f921"
             ]
            ]
           }
          ],
          "surface": [
           {
            "type": "surface",
            "colorbar": {
             "outlinewidth": 0,
             "ticks": ""
            },
            "colorscale": [
             [
              0.0,
              "#0d0887"
             ],
             [
              0.1111111111111111,
              "#46039f"
             ],
             [
              0.2222222222222222,
              "#7201a8"
             ],
             [
              0.3333333333333333,
              "#9c179e"
             ],
             [
              0.4444444444444444,
              "#bd3786"
             ],
             [
              0.5555555555555556,
              "#d8576b"
             ],
             [
              0.6666666666666666,
              "#ed7953"
             ],
             [
              0.7777777777777778,
              "#fb9f3a"
             ],
             [
              0.8888888888888888,
              "#fdca26"
             ],
             [
              1.0,
              "#f0f921"
             ]
            ]
           }
          ],
          "mesh3d": [
           {
            "type": "mesh3d",
            "colorbar": {
             "outlinewidth": 0,
             "ticks": ""
            }
           }
          ],
          "scatter": [
           {
            "fillpattern": {
             "fillmode": "overlay",
             "size": 10,
             "solidity": 0.2
            },
            "type": "scatter"
           }
          ],
          "parcoords": [
           {
            "type": "parcoords",
            "line": {
             "colorbar": {
              "outlinewidth": 0,
              "ticks": ""
             }
            }
           }
          ],
          "scatterpolargl": [
           {
            "type": "scatterpolargl",
            "marker": {
             "colorbar": {
              "outlinewidth": 0,
              "ticks": ""
             }
            }
           }
          ],
          "bar": [
           {
            "error_x": {
             "color": "#2a3f5f"
            },
            "error_y": {
             "color": "#2a3f5f"
            },
            "marker": {
             "line": {
              "color": "#E5ECF6",
              "width": 0.5
             },
             "pattern": {
              "fillmode": "overlay",
              "size": 10,
              "solidity": 0.2
             }
            },
            "type": "bar"
           }
          ],
          "scattergeo": [
           {
            "type": "scattergeo",
            "marker": {
             "colorbar": {
              "outlinewidth": 0,
              "ticks": ""
             }
            }
           }
          ],
          "scatterpolar": [
           {
            "type": "scatterpolar",
            "marker": {
             "colorbar": {
              "outlinewidth": 0,
              "ticks": ""
             }
            }
           }
          ],
          "histogram": [
           {
            "marker": {
             "pattern": {
              "fillmode": "overlay",
              "size": 10,
              "solidity": 0.2
             }
            },
            "type": "histogram"
           }
          ],
          "scattergl": [
           {
            "type": "scattergl",
            "marker": {
             "colorbar": {
              "outlinewidth": 0,
              "ticks": ""
             }
            }
           }
          ],
          "scatter3d": [
           {
            "type": "scatter3d",
            "line": {
             "colorbar": {
              "outlinewidth": 0,
              "ticks": ""
             }
            },
            "marker": {
             "colorbar": {
              "outlinewidth": 0,
              "ticks": ""
             }
            }
           }
          ],
          "scattermapbox": [
           {
            "type": "scattermapbox",
            "marker": {
             "colorbar": {
              "outlinewidth": 0,
              "ticks": ""
             }
            }
           }
          ],
          "scatterternary": [
           {
            "type": "scatterternary",
            "marker": {
             "colorbar": {
              "outlinewidth": 0,
              "ticks": ""
             }
            }
           }
          ],
          "scattercarpet": [
           {
            "type": "scattercarpet",
            "marker": {
             "colorbar": {
              "outlinewidth": 0,
              "ticks": ""
             }
            }
           }
          ],
          "carpet": [
           {
            "aaxis": {
             "endlinecolor": "#2a3f5f",
             "gridcolor": "white",
             "linecolor": "white",
             "minorgridcolor": "white",
             "startlinecolor": "#2a3f5f"
            },
            "baxis": {
             "endlinecolor": "#2a3f5f",
             "gridcolor": "white",
             "linecolor": "white",
             "minorgridcolor": "white",
             "startlinecolor": "#2a3f5f"
            },
            "type": "carpet"
           }
          ],
          "table": [
           {
            "cells": {
             "fill": {
              "color": "#EBF0F8"
             },
             "line": {
              "color": "white"
             }
            },
            "header": {
             "fill": {
              "color": "#C8D4E3"
             },
             "line": {
              "color": "white"
             }
            },
            "type": "table"
           }
          ],
          "barpolar": [
           {
            "marker": {
             "line": {
              "color": "#E5ECF6",
              "width": 0.5
             },
             "pattern": {
              "fillmode": "overlay",
              "size": 10,
              "solidity": 0.2
             }
            },
            "type": "barpolar"
           }
          ],
          "pie": [
           {
            "automargin": true,
            "type": "pie"
           }
          ]
         },
         "layout": {
          "autotypenumbers": "strict",
          "colorway": [
           "#636efa",
           "#EF553B",
           "#00cc96",
           "#ab63fa",
           "#FFA15A",
           "#19d3f3",
           "#FF6692",
           "#B6E880",
           "#FF97FF",
           "#FECB52"
          ],
          "font": {
           "color": "#2a3f5f"
          },
          "hovermode": "closest",
          "hoverlabel": {
           "align": "left"
          },
          "paper_bgcolor": "white",
          "plot_bgcolor": "#E5ECF6",
          "polar": {
           "bgcolor": "#E5ECF6",
           "angularaxis": {
            "gridcolor": "white",
            "linecolor": "white",
            "ticks": ""
           },
           "radialaxis": {
            "gridcolor": "white",
            "linecolor": "white",
            "ticks": ""
           }
          },
          "ternary": {
           "bgcolor": "#E5ECF6",
           "aaxis": {
            "gridcolor": "white",
            "linecolor": "white",
            "ticks": ""
           },
           "baxis": {
            "gridcolor": "white",
            "linecolor": "white",
            "ticks": ""
           },
           "caxis": {
            "gridcolor": "white",
            "linecolor": "white",
            "ticks": ""
           }
          },
          "coloraxis": {
           "colorbar": {
            "outlinewidth": 0,
            "ticks": ""
           }
          },
          "colorscale": {
           "sequential": [
            [
             0.0,
             "#0d0887"
            ],
            [
             0.1111111111111111,
             "#46039f"
            ],
            [
             0.2222222222222222,
             "#7201a8"
            ],
            [
             0.3333333333333333,
             "#9c179e"
            ],
            [
             0.4444444444444444,
             "#bd3786"
            ],
            [
             0.5555555555555556,
             "#d8576b"
            ],
            [
             0.6666666666666666,
             "#ed7953"
            ],
            [
             0.7777777777777778,
             "#fb9f3a"
            ],
            [
             0.8888888888888888,
             "#fdca26"
            ],
            [
             1.0,
             "#f0f921"
            ]
           ],
           "sequentialminus": [
            [
             0.0,
             "#0d0887"
            ],
            [
             0.1111111111111111,
             "#46039f"
            ],
            [
             0.2222222222222222,
             "#7201a8"
            ],
            [
             0.3333333333333333,
             "#9c179e"
            ],
            [
             0.4444444444444444,
             "#bd3786"
            ],
            [
             0.5555555555555556,
             "#d8576b"
            ],
            [
             0.6666666666666666,
             "#ed7953"
            ],
            [
             0.7777777777777778,
             "#fb9f3a"
            ],
            [
             0.8888888888888888,
             "#fdca26"
            ],
            [
             1.0,
             "#f0f921"
            ]
           ],
           "diverging": [
            [
             0,
             "#8e0152"
            ],
            [
             0.1,
             "#c51b7d"
            ],
            [
             0.2,
             "#de77ae"
            ],
            [
             0.3,
             "#f1b6da"
            ],
            [
             0.4,
             "#fde0ef"
            ],
            [
             0.5,
             "#f7f7f7"
            ],
            [
             0.6,
             "#e6f5d0"
            ],
            [
             0.7,
             "#b8e186"
            ],
            [
             0.8,
             "#7fbc41"
            ],
            [
             0.9,
             "#4d9221"
            ],
            [
             1,
             "#276419"
            ]
           ]
          },
          "xaxis": {
           "gridcolor": "white",
           "linecolor": "white",
           "ticks": "",
           "title": {
            "standoff": 15
           },
           "zerolinecolor": "white",
           "automargin": true,
           "zerolinewidth": 2
          },
          "yaxis": {
           "gridcolor": "white",
           "linecolor": "white",
           "ticks": "",
           "title": {
            "standoff": 15
           },
           "zerolinecolor": "white",
           "automargin": true,
           "zerolinewidth": 2
          },
          "scene": {
           "xaxis": {
            "backgroundcolor": "#E5ECF6",
            "gridcolor": "white",
            "linecolor": "white",
            "showbackground": true,
            "ticks": "",
            "zerolinecolor": "white",
            "gridwidth": 2
           },
           "yaxis": {
            "backgroundcolor": "#E5ECF6",
            "gridcolor": "white",
            "linecolor": "white",
            "showbackground": true,
            "ticks": "",
            "zerolinecolor": "white",
            "gridwidth": 2
           },
           "zaxis": {
            "backgroundcolor": "#E5ECF6",
            "gridcolor": "white",
            "linecolor": "white",
            "showbackground": true,
            "ticks": "",
            "zerolinecolor": "white",
            "gridwidth": 2
           }
          },
          "shapedefaults": {
           "line": {
            "color": "#2a3f5f"
           }
          },
          "annotationdefaults": {
           "arrowcolor": "#2a3f5f",
           "arrowhead": 0,
           "arrowwidth": 1
          },
          "geo": {
           "bgcolor": "white",
           "landcolor": "#E5ECF6",
           "subunitcolor": "white",
           "showland": true,
           "showlakes": true,
           "lakecolor": "white"
          },
          "title": {
           "x": 0.05
          },
          "mapbox": {
           "style": "light"
          }
         }
        },
        "mapbox": {
         "center": {
          "lat": 53.64065454545455,
          "lon": 11.393381818181819
         },
         "style": "open-street-map",
         "zoom": 11.992800000000003
        },
        "margin": {
         "r": 0,
         "t": 0,
         "l": 0,
         "b": 0
        },
        "showlegend": false
       },
       "config": {
        "plotlyServerURL": "https://plot.ly"
       }
      },
      "text/html": [
       "<div>                            <div id=\"8e4e13e4-402a-4ab7-99ca-ecd6394d2cd2\" class=\"plotly-graph-div\" style=\"height:525px; width:100%;\"></div>            <script type=\"text/javascript\">                require([\"plotly\"], function(Plotly) {                    window.PLOTLYENV=window.PLOTLYENV || {};                                    if (document.getElementById(\"8e4e13e4-402a-4ab7-99ca-ecd6394d2cd2\")) {                    Plotly.newPlot(                        \"8e4e13e4-402a-4ab7-99ca-ecd6394d2cd2\",                        [{\"hoverinfo\":\"skip\",\"lat\":[53.6393,53.6389],\"line\":{\"color\":\"#1ac938\"},\"lon\":[11.3947,11.3952],\"mode\":\"lines\",\"type\":\"scattermapbox\"},{\"hoverinfo\":\"text\",\"hovertext\":\"LV4.101 Line 10\",\"lat\":[53.6391],\"lon\":[11.394950000000001],\"marker\":{\"color\":\"#1ac938\",\"opacity\":0,\"size\":0},\"mode\":\"markers\",\"type\":\"scattermapbox\"},{\"hoverinfo\":\"skip\",\"lat\":[53.6414,53.6418],\"line\":{\"color\":\"#1ac938\"},\"lon\":[11.3924,11.3923],\"mode\":\"lines\",\"type\":\"scattermapbox\"},{\"hoverinfo\":\"text\",\"hovertext\":\"LV4.101 Line 1\",\"lat\":[53.6416],\"lon\":[11.39235],\"marker\":{\"color\":\"#1ac938\",\"opacity\":0,\"size\":0},\"mode\":\"markers\",\"type\":\"scattermapbox\"},{\"hoverinfo\":\"skip\",\"lat\":[53.6382,53.6378],\"line\":{\"color\":\"#1ac938\"},\"lon\":[11.3952,11.3952],\"mode\":\"lines\",\"type\":\"scattermapbox\"},{\"hoverinfo\":\"text\",\"hovertext\":\"LV4.101 Line 18\",\"lat\":[53.638],\"lon\":[11.3952],\"marker\":{\"color\":\"#1ac938\",\"opacity\":0,\"size\":0},\"mode\":\"markers\",\"type\":\"scattermapbox\"},{\"hoverinfo\":\"skip\",\"lat\":[53.6377,53.6381],\"line\":{\"color\":\"#1ac938\"},\"lon\":[11.3942,11.3942],\"mode\":\"lines\",\"type\":\"scattermapbox\"},{\"hoverinfo\":\"text\",\"hovertext\":\"LV4.101 Line 24\",\"lat\":[53.6379],\"lon\":[11.3942],\"marker\":{\"color\":\"#1ac938\",\"opacity\":0,\"size\":0},\"mode\":\"markers\",\"type\":\"scattermapbox\"},{\"hoverinfo\":\"skip\",\"lat\":[53.6414,53.6409],\"line\":{\"color\":\"#1ac938\"},\"lon\":[11.3914,11.3914],\"mode\":\"lines\",\"type\":\"scattermapbox\"},{\"hoverinfo\":\"text\",\"hovertext\":\"LV4.101 Line 41\",\"lat\":[53.641149999999996],\"lon\":[11.3914],\"marker\":{\"color\":\"#1ac938\",\"opacity\":0,\"size\":0},\"mode\":\"markers\",\"type\":\"scattermapbox\"},{\"hoverinfo\":\"skip\",\"lat\":[53.6427,53.6423],\"line\":{\"color\":\"#1ac938\"},\"lon\":[11.3924,11.3924],\"mode\":\"lines\",\"type\":\"scattermapbox\"},{\"hoverinfo\":\"text\",\"hovertext\":\"LV4.101 Line 11\",\"lat\":[53.6425],\"lon\":[11.3924],\"marker\":{\"color\":\"#1ac938\",\"opacity\":0,\"size\":0},\"mode\":\"markers\",\"type\":\"scattermapbox\"},{\"hoverinfo\":\"skip\",\"lat\":[53.644,53.6431],\"line\":{\"color\":\"#1ac938\"},\"lon\":[11.3931,11.3913],\"mode\":\"lines\",\"type\":\"scattermapbox\"},{\"hoverinfo\":\"text\",\"hovertext\":\"LV4.101 Line 34\",\"lat\":[53.64355],\"lon\":[11.392199999999999],\"marker\":{\"color\":\"#1ac938\",\"opacity\":0,\"size\":0},\"mode\":\"markers\",\"type\":\"scattermapbox\"},{\"hoverinfo\":\"skip\",\"lat\":[53.6423,53.6427],\"line\":{\"color\":\"#1ac938\"},\"lon\":[11.394,11.3941],\"mode\":\"lines\",\"type\":\"scattermapbox\"},{\"hoverinfo\":\"text\",\"hovertext\":\"LV4.101 Line 21\",\"lat\":[53.6425],\"lon\":[11.39405],\"marker\":{\"color\":\"#1ac938\",\"opacity\":0,\"size\":0},\"mode\":\"markers\",\"type\":\"scattermapbox\"},{\"hoverinfo\":\"skip\",\"lat\":[53.6418,53.6414],\"line\":{\"color\":\"#1ac938\"},\"lon\":[11.391,11.3914],\"mode\":\"lines\",\"type\":\"scattermapbox\"},{\"hoverinfo\":\"text\",\"hovertext\":\"LV4.101 Line 40\",\"lat\":[53.6416],\"lon\":[11.391200000000001],\"marker\":{\"color\":\"#1ac938\",\"opacity\":0,\"size\":0},\"mode\":\"markers\",\"type\":\"scattermapbox\"},{\"hoverinfo\":\"skip\",\"lat\":[53.6419,53.6423],\"line\":{\"color\":\"#1ac938\"},\"lon\":[11.3941,11.394],\"mode\":\"lines\",\"type\":\"scattermapbox\"},{\"hoverinfo\":\"text\",\"hovertext\":\"LV4.101 Line 2\",\"lat\":[53.6421],\"lon\":[11.39405],\"marker\":{\"color\":\"#1ac938\",\"opacity\":0,\"size\":0},\"mode\":\"markers\",\"type\":\"scattermapbox\"},{\"hoverinfo\":\"skip\",\"lat\":[53.6409,53.6405],\"line\":{\"color\":\"#1ac938\"},\"lon\":[11.3914,11.3914],\"mode\":\"lines\",\"type\":\"scattermapbox\"},{\"hoverinfo\":\"text\",\"hovertext\":\"LV4.101 Line 42\",\"lat\":[53.6407],\"lon\":[11.3914],\"marker\":{\"color\":\"#1ac938\",\"opacity\":0,\"size\":0},\"mode\":\"markers\",\"type\":\"scattermapbox\"},{\"hoverinfo\":\"skip\",\"lat\":[53.6427,53.6431],\"line\":{\"color\":\"#1ac938\"},\"lon\":[11.3941,11.3941],\"mode\":\"lines\",\"type\":\"scattermapbox\"},{\"hoverinfo\":\"text\",\"hovertext\":\"LV4.101 Line 14\",\"lat\":[53.6429],\"lon\":[11.3941],\"marker\":{\"color\":\"#1ac938\",\"opacity\":0,\"size\":0},\"mode\":\"markers\",\"type\":\"scattermapbox\"},{\"hoverinfo\":\"skip\",\"lat\":[53.6416,53.6419],\"line\":{\"color\":\"#1ac938\"},\"lon\":[11.3947,11.3941],\"mode\":\"lines\",\"type\":\"scattermapbox\"},{\"hoverinfo\":\"text\",\"hovertext\":\"LV4.101 Line 26\",\"lat\":[53.64175],\"lon\":[11.394400000000001],\"marker\":{\"color\":\"#1ac938\",\"opacity\":0,\"size\":0},\"mode\":\"markers\",\"type\":\"scattermapbox\"},{\"hoverinfo\":\"skip\",\"lat\":[53.6403,53.64],\"line\":{\"color\":\"#1ac938\"},\"lon\":[11.3934,11.3933],\"mode\":\"lines\",\"type\":\"scattermapbox\"},{\"hoverinfo\":\"text\",\"hovertext\":\"LV4.101 Line 5\",\"lat\":[53.640150000000006],\"lon\":[11.39335],\"marker\":{\"color\":\"#1ac938\",\"opacity\":0,\"size\":0},\"mode\":\"markers\",\"type\":\"scattermapbox\"},{\"hoverinfo\":\"skip\",\"lat\":[53.6416,53.6412],\"line\":{\"color\":\"#1ac938\"},\"lon\":[11.3933,11.3933],\"mode\":\"lines\",\"type\":\"scattermapbox\"},{\"hoverinfo\":\"text\",\"hovertext\":\"LV4.101 Line 20\",\"lat\":[53.6414],\"lon\":[11.3933],\"marker\":{\"color\":\"#1ac938\",\"opacity\":0,\"size\":0},\"mode\":\"markers\",\"type\":\"scattermapbox\"},{\"hoverinfo\":\"skip\",\"lat\":[53.6431,53.6427],\"line\":{\"color\":\"#1ac938\"},\"lon\":[11.3924,11.3924],\"mode\":\"lines\",\"type\":\"scattermapbox\"},{\"hoverinfo\":\"text\",\"hovertext\":\"LV4.101 Line 30\",\"lat\":[53.6429],\"lon\":[11.3924],\"marker\":{\"color\":\"#1ac938\",\"opacity\":0,\"size\":0},\"mode\":\"markers\",\"type\":\"scattermapbox\"},{\"hoverinfo\":\"skip\",\"lat\":[53.6423,53.6418],\"line\":{\"color\":\"#1ac938\"},\"lon\":[11.3913,11.391],\"mode\":\"lines\",\"type\":\"scattermapbox\"},{\"hoverinfo\":\"text\",\"hovertext\":\"LV4.101 Line 37\",\"lat\":[53.64205],\"lon\":[11.39115],\"marker\":{\"color\":\"#1ac938\",\"opacity\":0,\"size\":0},\"mode\":\"markers\",\"type\":\"scattermapbox\"},{\"hoverinfo\":\"skip\",\"lat\":[53.644,53.6431],\"line\":{\"color\":\"#1ac938\"},\"lon\":[11.3931,11.3924],\"mode\":\"lines\",\"type\":\"scattermapbox\"},{\"hoverinfo\":\"text\",\"hovertext\":\"LV4.101 Line 7\",\"lat\":[53.64355],\"lon\":[11.39275],\"marker\":{\"color\":\"#1ac938\",\"opacity\":0,\"size\":0},\"mode\":\"markers\",\"type\":\"scattermapbox\"},{\"hoverinfo\":\"skip\",\"lat\":[53.6431,53.644],\"line\":{\"color\":\"#1ac938\"},\"lon\":[11.3941,11.3931],\"mode\":\"lines\",\"type\":\"scattermapbox\"},{\"hoverinfo\":\"text\",\"hovertext\":\"LV4.101 Line 33\",\"lat\":[53.64355],\"lon\":[11.3936],\"marker\":{\"color\":\"#1ac938\",\"opacity\":0,\"size\":0},\"mode\":\"markers\",\"type\":\"scattermapbox\"},{\"hoverinfo\":\"skip\",\"lat\":[53.6414,53.6409],\"line\":{\"color\":\"#1ac938\"},\"lon\":[11.3906,11.3906],\"mode\":\"lines\",\"type\":\"scattermapbox\"},{\"hoverinfo\":\"text\",\"hovertext\":\"LV4.101 Line 39\",\"lat\":[53.641149999999996],\"lon\":[11.3906],\"marker\":{\"color\":\"#1ac938\",\"opacity\":0,\"size\":0},\"mode\":\"markers\",\"type\":\"scattermapbox\"},{\"hoverinfo\":\"skip\",\"lat\":[53.6431,53.6427],\"line\":{\"color\":\"#1ac938\"},\"lon\":[11.3913,11.3913],\"mode\":\"lines\",\"type\":\"scattermapbox\"},{\"hoverinfo\":\"text\",\"hovertext\":\"LV4.101 Line 35\",\"lat\":[53.6429],\"lon\":[11.3913],\"marker\":{\"color\":\"#1ac938\",\"opacity\":0,\"size\":0},\"mode\":\"markers\",\"type\":\"scattermapbox\"},{\"hoverinfo\":\"skip\",\"lat\":[53.6407,53.6403],\"line\":{\"color\":\"#1ac938\"},\"lon\":[11.3933,11.3934],\"mode\":\"lines\",\"type\":\"scattermapbox\"},{\"hoverinfo\":\"text\",\"hovertext\":\"LV4.101 Line 23\",\"lat\":[53.6405],\"lon\":[11.39335],\"marker\":{\"color\":\"#1ac938\",\"opacity\":0,\"size\":0},\"mode\":\"markers\",\"type\":\"scattermapbox\"},{\"hoverinfo\":\"skip\",\"lat\":[53.6404,53.6408],\"line\":{\"color\":\"#1ac938\"},\"lon\":[11.3947,11.3947],\"mode\":\"lines\",\"type\":\"scattermapbox\"},{\"hoverinfo\":\"text\",\"hovertext\":\"LV4.101 Line 27\",\"lat\":[53.6406],\"lon\":[11.3947],\"marker\":{\"color\":\"#1ac938\",\"opacity\":0,\"size\":0},\"mode\":\"markers\",\"type\":\"scattermapbox\"},{\"hoverinfo\":\"skip\",\"lat\":[53.6427,53.6423],\"line\":{\"color\":\"#1ac938\"},\"lon\":[11.3913,11.3913],\"mode\":\"lines\",\"type\":\"scattermapbox\"},{\"hoverinfo\":\"text\",\"hovertext\":\"LV4.101 Line 36\",\"lat\":[53.6425],\"lon\":[11.3913],\"marker\":{\"color\":\"#1ac938\",\"opacity\":0,\"size\":0},\"mode\":\"markers\",\"type\":\"scattermapbox\"},{\"hoverinfo\":\"skip\",\"lat\":[53.6397,53.64],\"line\":{\"color\":\"#1ac938\"},\"lon\":[11.3947,11.3947],\"mode\":\"lines\",\"type\":\"scattermapbox\"},{\"hoverinfo\":\"text\",\"hovertext\":\"LV4.101 Line 3\",\"lat\":[53.639849999999996],\"lon\":[11.3947],\"marker\":{\"color\":\"#1ac938\",\"opacity\":0,\"size\":0},\"mode\":\"markers\",\"type\":\"scattermapbox\"},{\"hoverinfo\":\"skip\",\"lat\":[53.6381,53.6385],\"line\":{\"color\":\"#1ac938\"},\"lon\":[11.3942,11.3942],\"mode\":\"lines\",\"type\":\"scattermapbox\"},{\"hoverinfo\":\"text\",\"hovertext\":\"LV4.101 Line 29\",\"lat\":[53.6383],\"lon\":[11.3942],\"marker\":{\"color\":\"#1ac938\",\"opacity\":0,\"size\":0},\"mode\":\"markers\",\"type\":\"scattermapbox\"},{\"hoverinfo\":\"skip\",\"lat\":[53.6408,53.6412],\"line\":{\"color\":\"#1ac938\"},\"lon\":[11.3947,11.3947],\"mode\":\"lines\",\"type\":\"scattermapbox\"},{\"hoverinfo\":\"text\",\"hovertext\":\"LV4.101 Line 6\",\"lat\":[53.641],\"lon\":[11.3947],\"marker\":{\"color\":\"#1ac938\",\"opacity\":0,\"size\":0},\"mode\":\"markers\",\"type\":\"scattermapbox\"},{\"hoverinfo\":\"skip\",\"lat\":[53.64,53.6404],\"line\":{\"color\":\"#1ac938\"},\"lon\":[11.3947,11.3947],\"mode\":\"lines\",\"type\":\"scattermapbox\"},{\"hoverinfo\":\"text\",\"hovertext\":\"LV4.101 Line 16\",\"lat\":[53.6402],\"lon\":[11.3947],\"marker\":{\"color\":\"#1ac938\",\"opacity\":0,\"size\":0},\"mode\":\"markers\",\"type\":\"scattermapbox\"},{\"hoverinfo\":\"skip\",\"lat\":[53.6412,53.6416],\"line\":{\"color\":\"#1ac938\"},\"lon\":[11.3947,11.3947],\"mode\":\"lines\",\"type\":\"scattermapbox\"},{\"hoverinfo\":\"text\",\"hovertext\":\"LV4.101 Line 4\",\"lat\":[53.6414],\"lon\":[11.3947],\"marker\":{\"color\":\"#1ac938\",\"opacity\":0,\"size\":0},\"mode\":\"markers\",\"type\":\"scattermapbox\"},{\"hoverinfo\":\"skip\",\"lat\":[53.64,53.6396],\"line\":{\"color\":\"#1ac938\"},\"lon\":[11.3933,11.3934],\"mode\":\"lines\",\"type\":\"scattermapbox\"},{\"hoverinfo\":\"text\",\"hovertext\":\"LV4.101 Line 13\",\"lat\":[53.6398],\"lon\":[11.39335],\"marker\":{\"color\":\"#1ac938\",\"opacity\":0,\"size\":0},\"mode\":\"markers\",\"type\":\"scattermapbox\"},{\"hoverinfo\":\"skip\",\"lat\":[53.6419,53.6416],\"line\":{\"color\":\"#1ac938\"},\"lon\":[11.3941,11.3933],\"mode\":\"lines\",\"type\":\"scattermapbox\"},{\"hoverinfo\":\"text\",\"hovertext\":\"LV4.101 Line 9\",\"lat\":[53.64175],\"lon\":[11.393699999999999],\"marker\":{\"color\":\"#1ac938\",\"opacity\":0,\"size\":0},\"mode\":\"markers\",\"type\":\"scattermapbox\"},{\"hoverinfo\":\"skip\",\"lat\":[53.6389,53.6393],\"line\":{\"color\":\"#1ac938\"},\"lon\":[11.3942,11.3947],\"mode\":\"lines\",\"type\":\"scattermapbox\"},{\"hoverinfo\":\"text\",\"hovertext\":\"LV4.101 Line 12\",\"lat\":[53.6391],\"lon\":[11.394449999999999],\"marker\":{\"color\":\"#1ac938\",\"opacity\":0,\"size\":0},\"mode\":\"markers\",\"type\":\"scattermapbox\"},{\"hoverinfo\":\"skip\",\"lat\":[53.6418,53.6423],\"line\":{\"color\":\"#1ac938\"},\"lon\":[11.3923,11.3924],\"mode\":\"lines\",\"type\":\"scattermapbox\"},{\"hoverinfo\":\"text\",\"hovertext\":\"LV4.101 Line 22\",\"lat\":[53.64205],\"lon\":[11.39235],\"marker\":{\"color\":\"#1ac938\",\"opacity\":0,\"size\":0},\"mode\":\"markers\",\"type\":\"scattermapbox\"},{\"hoverinfo\":\"skip\",\"lat\":[53.6418,53.6414],\"line\":{\"color\":\"#1ac938\"},\"lon\":[11.391,11.3906],\"mode\":\"lines\",\"type\":\"scattermapbox\"},{\"hoverinfo\":\"text\",\"hovertext\":\"LV4.101 Line 38\",\"lat\":[53.6416],\"lon\":[11.390799999999999],\"marker\":{\"color\":\"#1ac938\",\"opacity\":0,\"size\":0},\"mode\":\"markers\",\"type\":\"scattermapbox\"},{\"hoverinfo\":\"skip\",\"lat\":[53.6385,53.6389],\"line\":{\"color\":\"#1ac938\"},\"lon\":[11.3942,11.3942],\"mode\":\"lines\",\"type\":\"scattermapbox\"},{\"hoverinfo\":\"text\",\"hovertext\":\"LV4.101 Line 15\",\"lat\":[53.6387],\"lon\":[11.3942],\"marker\":{\"color\":\"#1ac938\",\"opacity\":0,\"size\":0},\"mode\":\"markers\",\"type\":\"scattermapbox\"},{\"hoverinfo\":\"skip\",\"lat\":[53.6386,53.6382],\"line\":{\"color\":\"#1ac938\"},\"lon\":[11.3952,11.3952],\"mode\":\"lines\",\"type\":\"scattermapbox\"},{\"hoverinfo\":\"text\",\"hovertext\":\"LV4.101 Line 32\",\"lat\":[53.6384],\"lon\":[11.3952],\"marker\":{\"color\":\"#1ac938\",\"opacity\":0,\"size\":0},\"mode\":\"markers\",\"type\":\"scattermapbox\"},{\"hoverinfo\":\"skip\",\"lat\":[53.6372,53.6377],\"line\":{\"color\":\"#1ac938\"},\"lon\":[11.3942,11.3942],\"mode\":\"lines\",\"type\":\"scattermapbox\"},{\"hoverinfo\":\"text\",\"hovertext\":\"LV4.101 Line 28\",\"lat\":[53.63745],\"lon\":[11.3942],\"marker\":{\"color\":\"#1ac938\",\"opacity\":0,\"size\":0},\"mode\":\"markers\",\"type\":\"scattermapbox\"},{\"hoverinfo\":\"skip\",\"lat\":[53.6412,53.6407],\"line\":{\"color\":\"#1ac938\"},\"lon\":[11.3933,11.3933],\"mode\":\"lines\",\"type\":\"scattermapbox\"},{\"hoverinfo\":\"text\",\"hovertext\":\"LV4.101 Line 8\",\"lat\":[53.640950000000004],\"lon\":[11.3933],\"marker\":{\"color\":\"#1ac938\",\"opacity\":0,\"size\":0},\"mode\":\"markers\",\"type\":\"scattermapbox\"},{\"hoverinfo\":\"skip\",\"lat\":[53.6378,53.6374],\"line\":{\"color\":\"#1ac938\"},\"lon\":[11.3952,11.3952],\"mode\":\"lines\",\"type\":\"scattermapbox\"},{\"hoverinfo\":\"text\",\"hovertext\":\"LV4.101 Line 25\",\"lat\":[53.6376],\"lon\":[11.3952],\"marker\":{\"color\":\"#1ac938\",\"opacity\":0,\"size\":0},\"mode\":\"markers\",\"type\":\"scattermapbox\"},{\"hoverinfo\":\"skip\",\"lat\":[53.6393,53.6397],\"line\":{\"color\":\"#1ac938\"},\"lon\":[11.3947,11.3947],\"mode\":\"lines\",\"type\":\"scattermapbox\"},{\"hoverinfo\":\"text\",\"hovertext\":\"LV4.101 Line 17\",\"lat\":[53.6395],\"lon\":[11.3947],\"marker\":{\"color\":\"#1ac938\",\"opacity\":0,\"size\":0},\"mode\":\"markers\",\"type\":\"scattermapbox\"},{\"hoverinfo\":\"skip\",\"lat\":[53.6389,53.6386],\"line\":{\"color\":\"#1ac938\"},\"lon\":[11.3952,11.3952],\"mode\":\"lines\",\"type\":\"scattermapbox\"},{\"hoverinfo\":\"text\",\"hovertext\":\"LV4.101 Line 19\",\"lat\":[53.63875],\"lon\":[11.3952],\"marker\":{\"color\":\"#1ac938\",\"opacity\":0,\"size\":0},\"mode\":\"markers\",\"type\":\"scattermapbox\"},{\"hoverinfo\":\"skip\",\"lat\":[53.6368,53.6372],\"line\":{\"color\":\"#1ac938\"},\"lon\":[11.3942,11.3942],\"mode\":\"lines\",\"type\":\"scattermapbox\"},{\"hoverinfo\":\"text\",\"hovertext\":\"LV4.101 Line 31\",\"lat\":[53.637],\"lon\":[11.3942],\"marker\":{\"color\":\"#1ac938\",\"opacity\":0,\"size\":0},\"mode\":\"markers\",\"type\":\"scattermapbox\"},{\"hoverinfo\":\"text\",\"hovertext\":[\"LV4.101 Bus 6\\u003cbr\\u003ecca492d9-8680-4756-a1c3-416885ec900f\\u003cbr\\u003eload=Count: 1, Rated Power: 3.23 kw\",\"LV4.101 Bus 26\\u003cbr\\u003eb866a7b6-6723-460f-8566-28f4ee4606b8\\u003cbr\\u003eload=Count: 1, Rated Power: 4.3 kw\",\"LV4.101 Bus 38\\u003cbr\\u003e06cb36a2-f4df-446f-a0af-49b27041435a\\u003cbr\\u003eload=Count: 1, Rated Power: 11.83 kw\",\"LV4.101 Bus 31\\u003cbr\\u003ee3792423-73b3-4140-b20c-e8bce24bfc65\\u003cbr\\u003eload=Count: 1, Rated Power: 3.23 kw\",\"LV4.101 Bus 4\\u003cbr\\u003e713ce704-d74c-495d-bd34-3a5a2c884972\\u003cbr\\u003eload=Count: 1, Rated Power: 6.45 kw\",\"LV4.101 Bus 23\\u003cbr\\u003e0865edcb-9d91-4a8b-a19a-57e6c3bb09e3\\u003cbr\\u003eload=Count: 1, Rated Power: 6.45 kw\",\"LV4.101 Bus 29\\u003cbr\\u003edc3fd401-1b5c-4527-887a-3f7e4e226d17\\u003cbr\\u003eload=Count: 1, Rated Power: 6.45 kw\",\"LV4.101 Bus 28\\u003cbr\\u003e9643835b-4203-4cdf-a34e-7acd2dba5aae\\u003cbr\\u003e\",\"LV4.101 Bus 21\\u003cbr\\u003eb5e8900e-4293-48fd-8229-1f54090bd485\\u003cbr\\u003eload=Count: 1, Rated Power: 3.23 kw\",\"LV4.101 Bus 15\\u003cbr\\u003e3c1d62ba-beb1-487e-8e78-781076b0dec8\\u003cbr\\u003eload=Count: 2, Rated Power: 6.45 kw\",\"LV4.101 Bus 18\\u003cbr\\u003e84a9b473-973b-47e6-a130-e42639b8dcfb\\u003cbr\\u003eload=Count: 1, Rated Power: 4.3 kw\",\"LV4.101 Bus 5\\u003cbr\\u003ed48ff2f5-9544-41fa-80ca-3a64bd1a0b65\\u003cbr\\u003eload=Count: 2, Rated Power: 6.45 kw\",\"LV4.101 Bus 42\\u003cbr\\u003e509e67c3-af06-425c-b17c-9345148cb7a1\\u003cbr\\u003eload=Count: 1, Rated Power: 19.35 kw\",\"LV4.101 Bus 35\\u003cbr\\u003ea47606da-483d-4d18-8b2d-e270e57cf27e\\u003cbr\\u003e\",\"LV4.101 Bus 16\\u003cbr\\u003eb62f6b25-dacb-4a89-b30a-0c1655087743\\u003cbr\\u003eload=Count: 1, Rated Power: 3.23 kw\",\"LV4.101 Bus 33\\u003cbr\\u003e8ef48029-ff8c-4542-9984-06c16c29f7e1\\u003cbr\\u003eload=Count: 1, Rated Power: 4.3 kw\",\"LV4.101 Bus 39\\u003cbr\\u003e8e066962-d104-4a5e-91f1-62a4a5988bb0\\u003cbr\\u003e\",\"LV4.101 Bus 12\\u003cbr\\u003e1ca439ef-5f1a-4423-a22f-162f9b90b288\\u003cbr\\u003eload=Count: 1, Rated Power: 4.3 kw\",\"LV4.101 Bus 9\\u003cbr\\u003e8474297d-c8eb-4812-9d51-8e2a69d9f36b\\u003cbr\\u003eload=Count: 1, Rated Power: 3.23 kw\",\"LV4.101 Bus 14\\u003cbr\\u003e9d4e278f-62bb-4845-9227-1a5b8efe770c\\u003cbr\\u003eload=Count: 1, Rated Power: 4.3 kw\",\"LV4.101 Bus 41\\u003cbr\\u003ec95fe890-ce0e-49f6-a8d0-629a53f38399\\u003cbr\\u003eload=Count: 1, Rated Power: 12.9 kw\",\"LV4.101 Bus 43\\u003cbr\\u003e0fc0a7f2-bfd6-4a85-b5a1-3209e3e3ecb6\\u003cbr\\u003eload=Count: 1, Rated Power: 13.98 kw\",\"LV4.101 Bus 8\\u003cbr\\u003e050dabc3-63a9-40b5-98bb-eaf110723dbb\\u003cbr\\u003eload=Count: 1, Rated Power: 4.3 kw\",\"LV4.101 Bus 3\\u003cbr\\u003e9a73a879-1dcc-44a7-b3a5-e2751c216828\\u003cbr\\u003eload=Count: 1, Rated Power: 4.3 kw\",\"LV4.101 Bus 13\\u003cbr\\u003eea105d3c-e118-4e7a-88f2-ab0d74de6eab\\u003cbr\\u003eload=Count: 1, Rated Power: 3.23 kw\",\"MV1.101 Bus 52\\u003cbr\\u003eedb48d82-f200-4b29-b1e6-1e80b04f57f9\\u003cbr\\u003e\",\"LV4.101 Bus 10\\u003cbr\\u003e8616aafd-a1fb-4360-b127-97a86b463fdf\\u003cbr\\u003eload=Count: 1, Rated Power: 6.45 kw\",\"LV4.101 Bus 34\\u003cbr\\u003e85106422-d9aa-4d4c-a1e9-24dc31441d8d\\u003cbr\\u003eload=Count: 1, Rated Power: 4.3 kw\",\"LV4.101 Bus 37\\u003cbr\\u003e01de6bb9-1895-4de8-bb33-8109e65845ee\\u003cbr\\u003eload=Count: 1, Rated Power: 11.83 kw\",\"LV4.101 Bus 24\\u003cbr\\u003ea56fa465-e468-4fb2-a8df-5add9d258f25\\u003cbr\\u003eload=Count: 1, Rated Power: 6.45 kw\",\"LV4.101 Bus 36\\u003cbr\\u003e6274b593-4a4c-4478-bc37-b28d00588d2f\\u003cbr\\u003eload=Count: 1, Rated Power: 18.28 kw\",\"LV4.101 Bus 40\\u003cbr\\u003ef70624d8-3dbf-4242-8f76-9b285f806797\\u003cbr\\u003eload=Count: 1, Rated Power: 18.28 kw\",\"LV4.101 Bus 7\\u003cbr\\u003e31d25d96-18c5-4153-a5b9-b5ae9f4e63a0\\u003cbr\\u003eload=Count: 1, Rated Power: 4.3 kw\",\"LV4.101 Bus 32\\u003cbr\\u003e8801c3da-2500-4a8e-8dc5-95c7e0368601\\u003cbr\\u003e\",\"LV4.101 Bus 20\\u003cbr\\u003e4dd94641-84ef-4a85-8d65-9218d87791a0\\u003cbr\\u003eload=Count: 1, Rated Power: 3.23 kw\",\"LV4.101 Bus 19\\u003cbr\\u003ec48d162c-87b3-4bb7-b3c7-8ecae5f6c496\\u003cbr\\u003eload=Count: 1, Rated Power: 4.3 kw\\u003cbr\\u003efixed_feed_in=Count: 1, Rated Power: 6.48 kw\",\"LV4.101 Bus 30\\u003cbr\\u003ebc3ccd72-0df3-4967-b8b9-6c525d494a72\\u003cbr\\u003eload=Count: 1, Rated Power: 3.23 kw\",\"LV4.101 Bus 44\\u003cbr\\u003e9ffff303-1dda-4785-8790-3a2aa4681ea7\\u003cbr\\u003eload=Count: 1, Rated Power: 9.68 kw\",\"LV4.101 Bus 22\\u003cbr\\u003e0e11f5ed-dc23-4b22-a6fd-7ea4fd72788e\\u003cbr\\u003eload=Count: 1, Rated Power: 3.23 kw\",\"LV4.101 Bus 2\\u003cbr\\u003e6d6d2cdd-7096-4540-b49f-ee29767a5864\\u003cbr\\u003eload=Count: 1, Rated Power: 8.6 kw\",\"LV4.101 Bus 11\\u003cbr\\u003efebd89ad-a95c-4024-9749-bce6b8bb1902\\u003cbr\\u003eload=Count: 1, Rated Power: 4.3 kw\",\"LV4.101 Bus 17\\u003cbr\\u003ef32e9b1d-a42d-491b-8181-98abe4278d8c\\u003cbr\\u003eload=Count: 1, Rated Power: 6.45 kw\",\"LV4.101 Bus 25\\u003cbr\\u003e1102ac5d-15ce-4e2f-912c-c26510ee6176\\u003cbr\\u003eload=Count: 1, Rated Power: 4.3 kw\",\"LV4.101 Bus 1\\u003cbr\\u003e37be3f34-6086-4607-8f61-16f04911adfc\\u003cbr\\u003eload=Count: 1, Rated Power: 4.3 kw\"],\"lat\":[53.6382,53.6427,53.6423,53.6427,53.6386,53.64,53.6404,53.6393,53.6416,53.6431,53.6423,53.6431,53.6414,53.6419,53.6412,53.6397,53.6418,53.6412,53.6418,53.6416,53.6409,53.6409,53.6389,53.6372,53.6378,53.644,53.6368,53.6377,53.6427,53.6407,53.6431,53.6414,53.64,53.644,53.6423,53.6381,53.6403,53.6405,53.6396,53.6414,53.6385,53.6389,53.6374,53.6408],\"lon\":[11.3952,11.3941,11.3913,11.3924,11.3952,11.3933,11.3947,11.3947,11.3933,11.3924,11.394,11.3941,11.3914,11.3941,11.3933,11.3947,11.391,11.3947,11.3923,11.3947,11.3906,11.3914,11.3942,11.3942,11.3952,11.3931,11.3942,11.3942,11.3913,11.3933,11.3913,11.3906,11.3947,11.3931,11.3924,11.3942,11.3934,11.3914,11.3934,11.3924,11.3942,11.3952,11.3952,11.3947],\"marker\":{\"color\":\"#023eff\",\"size\":6},\"mode\":\"markers\",\"text\":[\"LV4.101 Bus 6\\u003cbr\\u003ecca492d9-8680-4756-a1c3-416885ec900f\\u003cbr\\u003eload=Count: 1, Rated Power: 3.23 kw\",\"LV4.101 Bus 26\\u003cbr\\u003eb866a7b6-6723-460f-8566-28f4ee4606b8\\u003cbr\\u003eload=Count: 1, Rated Power: 4.3 kw\",\"LV4.101 Bus 38\\u003cbr\\u003e06cb36a2-f4df-446f-a0af-49b27041435a\\u003cbr\\u003eload=Count: 1, Rated Power: 11.83 kw\",\"LV4.101 Bus 31\\u003cbr\\u003ee3792423-73b3-4140-b20c-e8bce24bfc65\\u003cbr\\u003eload=Count: 1, Rated Power: 3.23 kw\",\"LV4.101 Bus 4\\u003cbr\\u003e713ce704-d74c-495d-bd34-3a5a2c884972\\u003cbr\\u003eload=Count: 1, Rated Power: 6.45 kw\",\"LV4.101 Bus 23\\u003cbr\\u003e0865edcb-9d91-4a8b-a19a-57e6c3bb09e3\\u003cbr\\u003eload=Count: 1, Rated Power: 6.45 kw\",\"LV4.101 Bus 29\\u003cbr\\u003edc3fd401-1b5c-4527-887a-3f7e4e226d17\\u003cbr\\u003eload=Count: 1, Rated Power: 6.45 kw\",\"LV4.101 Bus 28\\u003cbr\\u003e9643835b-4203-4cdf-a34e-7acd2dba5aae\\u003cbr\\u003e\",\"LV4.101 Bus 21\\u003cbr\\u003eb5e8900e-4293-48fd-8229-1f54090bd485\\u003cbr\\u003eload=Count: 1, Rated Power: 3.23 kw\",\"LV4.101 Bus 15\\u003cbr\\u003e3c1d62ba-beb1-487e-8e78-781076b0dec8\\u003cbr\\u003eload=Count: 2, Rated Power: 6.45 kw\",\"LV4.101 Bus 18\\u003cbr\\u003e84a9b473-973b-47e6-a130-e42639b8dcfb\\u003cbr\\u003eload=Count: 1, Rated Power: 4.3 kw\",\"LV4.101 Bus 5\\u003cbr\\u003ed48ff2f5-9544-41fa-80ca-3a64bd1a0b65\\u003cbr\\u003eload=Count: 2, Rated Power: 6.45 kw\",\"LV4.101 Bus 42\\u003cbr\\u003e509e67c3-af06-425c-b17c-9345148cb7a1\\u003cbr\\u003eload=Count: 1, Rated Power: 19.35 kw\",\"LV4.101 Bus 35\\u003cbr\\u003ea47606da-483d-4d18-8b2d-e270e57cf27e\\u003cbr\\u003e\",\"LV4.101 Bus 16\\u003cbr\\u003eb62f6b25-dacb-4a89-b30a-0c1655087743\\u003cbr\\u003eload=Count: 1, Rated Power: 3.23 kw\",\"LV4.101 Bus 33\\u003cbr\\u003e8ef48029-ff8c-4542-9984-06c16c29f7e1\\u003cbr\\u003eload=Count: 1, Rated Power: 4.3 kw\",\"LV4.101 Bus 39\\u003cbr\\u003e8e066962-d104-4a5e-91f1-62a4a5988bb0\\u003cbr\\u003e\",\"LV4.101 Bus 12\\u003cbr\\u003e1ca439ef-5f1a-4423-a22f-162f9b90b288\\u003cbr\\u003eload=Count: 1, Rated Power: 4.3 kw\",\"LV4.101 Bus 9\\u003cbr\\u003e8474297d-c8eb-4812-9d51-8e2a69d9f36b\\u003cbr\\u003eload=Count: 1, Rated Power: 3.23 kw\",\"LV4.101 Bus 14\\u003cbr\\u003e9d4e278f-62bb-4845-9227-1a5b8efe770c\\u003cbr\\u003eload=Count: 1, Rated Power: 4.3 kw\",\"LV4.101 Bus 41\\u003cbr\\u003ec95fe890-ce0e-49f6-a8d0-629a53f38399\\u003cbr\\u003eload=Count: 1, Rated Power: 12.9 kw\",\"LV4.101 Bus 43\\u003cbr\\u003e0fc0a7f2-bfd6-4a85-b5a1-3209e3e3ecb6\\u003cbr\\u003eload=Count: 1, Rated Power: 13.98 kw\",\"LV4.101 Bus 8\\u003cbr\\u003e050dabc3-63a9-40b5-98bb-eaf110723dbb\\u003cbr\\u003eload=Count: 1, Rated Power: 4.3 kw\",\"LV4.101 Bus 3\\u003cbr\\u003e9a73a879-1dcc-44a7-b3a5-e2751c216828\\u003cbr\\u003eload=Count: 1, Rated Power: 4.3 kw\",\"LV4.101 Bus 13\\u003cbr\\u003eea105d3c-e118-4e7a-88f2-ab0d74de6eab\\u003cbr\\u003eload=Count: 1, Rated Power: 3.23 kw\",\"MV1.101 Bus 52\\u003cbr\\u003eedb48d82-f200-4b29-b1e6-1e80b04f57f9\\u003cbr\\u003e\",\"LV4.101 Bus 10\\u003cbr\\u003e8616aafd-a1fb-4360-b127-97a86b463fdf\\u003cbr\\u003eload=Count: 1, Rated Power: 6.45 kw\",\"LV4.101 Bus 34\\u003cbr\\u003e85106422-d9aa-4d4c-a1e9-24dc31441d8d\\u003cbr\\u003eload=Count: 1, Rated Power: 4.3 kw\",\"LV4.101 Bus 37\\u003cbr\\u003e01de6bb9-1895-4de8-bb33-8109e65845ee\\u003cbr\\u003eload=Count: 1, Rated Power: 11.83 kw\",\"LV4.101 Bus 24\\u003cbr\\u003ea56fa465-e468-4fb2-a8df-5add9d258f25\\u003cbr\\u003eload=Count: 1, Rated Power: 6.45 kw\",\"LV4.101 Bus 36\\u003cbr\\u003e6274b593-4a4c-4478-bc37-b28d00588d2f\\u003cbr\\u003eload=Count: 1, Rated Power: 18.28 kw\",\"LV4.101 Bus 40\\u003cbr\\u003ef70624d8-3dbf-4242-8f76-9b285f806797\\u003cbr\\u003eload=Count: 1, Rated Power: 18.28 kw\",\"LV4.101 Bus 7\\u003cbr\\u003e31d25d96-18c5-4153-a5b9-b5ae9f4e63a0\\u003cbr\\u003eload=Count: 1, Rated Power: 4.3 kw\",\"LV4.101 Bus 32\\u003cbr\\u003e8801c3da-2500-4a8e-8dc5-95c7e0368601\\u003cbr\\u003e\",\"LV4.101 Bus 20\\u003cbr\\u003e4dd94641-84ef-4a85-8d65-9218d87791a0\\u003cbr\\u003eload=Count: 1, Rated Power: 3.23 kw\",\"LV4.101 Bus 19\\u003cbr\\u003ec48d162c-87b3-4bb7-b3c7-8ecae5f6c496\\u003cbr\\u003eload=Count: 1, Rated Power: 4.3 kw\\u003cbr\\u003efixed_feed_in=Count: 1, Rated Power: 6.48 kw\",\"LV4.101 Bus 30\\u003cbr\\u003ebc3ccd72-0df3-4967-b8b9-6c525d494a72\\u003cbr\\u003eload=Count: 1, Rated Power: 3.23 kw\",\"LV4.101 Bus 44\\u003cbr\\u003e9ffff303-1dda-4785-8790-3a2aa4681ea7\\u003cbr\\u003eload=Count: 1, Rated Power: 9.68 kw\",\"LV4.101 Bus 22\\u003cbr\\u003e0e11f5ed-dc23-4b22-a6fd-7ea4fd72788e\\u003cbr\\u003eload=Count: 1, Rated Power: 3.23 kw\",\"LV4.101 Bus 2\\u003cbr\\u003e6d6d2cdd-7096-4540-b49f-ee29767a5864\\u003cbr\\u003eload=Count: 1, Rated Power: 8.6 kw\",\"LV4.101 Bus 11\\u003cbr\\u003efebd89ad-a95c-4024-9749-bce6b8bb1902\\u003cbr\\u003eload=Count: 1, Rated Power: 4.3 kw\",\"LV4.101 Bus 17\\u003cbr\\u003ef32e9b1d-a42d-491b-8181-98abe4278d8c\\u003cbr\\u003eload=Count: 1, Rated Power: 6.45 kw\",\"LV4.101 Bus 25\\u003cbr\\u003e1102ac5d-15ce-4e2f-912c-c26510ee6176\\u003cbr\\u003eload=Count: 1, Rated Power: 4.3 kw\",\"LV4.101 Bus 1\\u003cbr\\u003e37be3f34-6086-4607-8f61-16f04911adfc\\u003cbr\\u003eload=Count: 1, Rated Power: 4.3 kw\"],\"type\":\"scattermapbox\"}],                        {\"template\":{\"data\":{\"histogram2dcontour\":[{\"type\":\"histogram2dcontour\",\"colorbar\":{\"outlinewidth\":0,\"ticks\":\"\"},\"colorscale\":[[0.0,\"#0d0887\"],[0.1111111111111111,\"#46039f\"],[0.2222222222222222,\"#7201a8\"],[0.3333333333333333,\"#9c179e\"],[0.4444444444444444,\"#bd3786\"],[0.5555555555555556,\"#d8576b\"],[0.6666666666666666,\"#ed7953\"],[0.7777777777777778,\"#fb9f3a\"],[0.8888888888888888,\"#fdca26\"],[1.0,\"#f0f921\"]]}],\"choropleth\":[{\"type\":\"choropleth\",\"colorbar\":{\"outlinewidth\":0,\"ticks\":\"\"}}],\"histogram2d\":[{\"type\":\"histogram2d\",\"colorbar\":{\"outlinewidth\":0,\"ticks\":\"\"},\"colorscale\":[[0.0,\"#0d0887\"],[0.1111111111111111,\"#46039f\"],[0.2222222222222222,\"#7201a8\"],[0.3333333333333333,\"#9c179e\"],[0.4444444444444444,\"#bd3786\"],[0.5555555555555556,\"#d8576b\"],[0.6666666666666666,\"#ed7953\"],[0.7777777777777778,\"#fb9f3a\"],[0.8888888888888888,\"#fdca26\"],[1.0,\"#f0f921\"]]}],\"heatmap\":[{\"type\":\"heatmap\",\"colorbar\":{\"outlinewidth\":0,\"ticks\":\"\"},\"colorscale\":[[0.0,\"#0d0887\"],[0.1111111111111111,\"#46039f\"],[0.2222222222222222,\"#7201a8\"],[0.3333333333333333,\"#9c179e\"],[0.4444444444444444,\"#bd3786\"],[0.5555555555555556,\"#d8576b\"],[0.6666666666666666,\"#ed7953\"],[0.7777777777777778,\"#fb9f3a\"],[0.8888888888888888,\"#fdca26\"],[1.0,\"#f0f921\"]]}],\"heatmapgl\":[{\"type\":\"heatmapgl\",\"colorbar\":{\"outlinewidth\":0,\"ticks\":\"\"},\"colorscale\":[[0.0,\"#0d0887\"],[0.1111111111111111,\"#46039f\"],[0.2222222222222222,\"#7201a8\"],[0.3333333333333333,\"#9c179e\"],[0.4444444444444444,\"#bd3786\"],[0.5555555555555556,\"#d8576b\"],[0.6666666666666666,\"#ed7953\"],[0.7777777777777778,\"#fb9f3a\"],[0.8888888888888888,\"#fdca26\"],[1.0,\"#f0f921\"]]}],\"contourcarpet\":[{\"type\":\"contourcarpet\",\"colorbar\":{\"outlinewidth\":0,\"ticks\":\"\"}}],\"contour\":[{\"type\":\"contour\",\"colorbar\":{\"outlinewidth\":0,\"ticks\":\"\"},\"colorscale\":[[0.0,\"#0d0887\"],[0.1111111111111111,\"#46039f\"],[0.2222222222222222,\"#7201a8\"],[0.3333333333333333,\"#9c179e\"],[0.4444444444444444,\"#bd3786\"],[0.5555555555555556,\"#d8576b\"],[0.6666666666666666,\"#ed7953\"],[0.7777777777777778,\"#fb9f3a\"],[0.8888888888888888,\"#fdca26\"],[1.0,\"#f0f921\"]]}],\"surface\":[{\"type\":\"surface\",\"colorbar\":{\"outlinewidth\":0,\"ticks\":\"\"},\"colorscale\":[[0.0,\"#0d0887\"],[0.1111111111111111,\"#46039f\"],[0.2222222222222222,\"#7201a8\"],[0.3333333333333333,\"#9c179e\"],[0.4444444444444444,\"#bd3786\"],[0.5555555555555556,\"#d8576b\"],[0.6666666666666666,\"#ed7953\"],[0.7777777777777778,\"#fb9f3a\"],[0.8888888888888888,\"#fdca26\"],[1.0,\"#f0f921\"]]}],\"mesh3d\":[{\"type\":\"mesh3d\",\"colorbar\":{\"outlinewidth\":0,\"ticks\":\"\"}}],\"scatter\":[{\"fillpattern\":{\"fillmode\":\"overlay\",\"size\":10,\"solidity\":0.2},\"type\":\"scatter\"}],\"parcoords\":[{\"type\":\"parcoords\",\"line\":{\"colorbar\":{\"outlinewidth\":0,\"ticks\":\"\"}}}],\"scatterpolargl\":[{\"type\":\"scatterpolargl\",\"marker\":{\"colorbar\":{\"outlinewidth\":0,\"ticks\":\"\"}}}],\"bar\":[{\"error_x\":{\"color\":\"#2a3f5f\"},\"error_y\":{\"color\":\"#2a3f5f\"},\"marker\":{\"line\":{\"color\":\"#E5ECF6\",\"width\":0.5},\"pattern\":{\"fillmode\":\"overlay\",\"size\":10,\"solidity\":0.2}},\"type\":\"bar\"}],\"scattergeo\":[{\"type\":\"scattergeo\",\"marker\":{\"colorbar\":{\"outlinewidth\":0,\"ticks\":\"\"}}}],\"scatterpolar\":[{\"type\":\"scatterpolar\",\"marker\":{\"colorbar\":{\"outlinewidth\":0,\"ticks\":\"\"}}}],\"histogram\":[{\"marker\":{\"pattern\":{\"fillmode\":\"overlay\",\"size\":10,\"solidity\":0.2}},\"type\":\"histogram\"}],\"scattergl\":[{\"type\":\"scattergl\",\"marker\":{\"colorbar\":{\"outlinewidth\":0,\"ticks\":\"\"}}}],\"scatter3d\":[{\"type\":\"scatter3d\",\"line\":{\"colorbar\":{\"outlinewidth\":0,\"ticks\":\"\"}},\"marker\":{\"colorbar\":{\"outlinewidth\":0,\"ticks\":\"\"}}}],\"scattermapbox\":[{\"type\":\"scattermapbox\",\"marker\":{\"colorbar\":{\"outlinewidth\":0,\"ticks\":\"\"}}}],\"scatterternary\":[{\"type\":\"scatterternary\",\"marker\":{\"colorbar\":{\"outlinewidth\":0,\"ticks\":\"\"}}}],\"scattercarpet\":[{\"type\":\"scattercarpet\",\"marker\":{\"colorbar\":{\"outlinewidth\":0,\"ticks\":\"\"}}}],\"carpet\":[{\"aaxis\":{\"endlinecolor\":\"#2a3f5f\",\"gridcolor\":\"white\",\"linecolor\":\"white\",\"minorgridcolor\":\"white\",\"startlinecolor\":\"#2a3f5f\"},\"baxis\":{\"endlinecolor\":\"#2a3f5f\",\"gridcolor\":\"white\",\"linecolor\":\"white\",\"minorgridcolor\":\"white\",\"startlinecolor\":\"#2a3f5f\"},\"type\":\"carpet\"}],\"table\":[{\"cells\":{\"fill\":{\"color\":\"#EBF0F8\"},\"line\":{\"color\":\"white\"}},\"header\":{\"fill\":{\"color\":\"#C8D4E3\"},\"line\":{\"color\":\"white\"}},\"type\":\"table\"}],\"barpolar\":[{\"marker\":{\"line\":{\"color\":\"#E5ECF6\",\"width\":0.5},\"pattern\":{\"fillmode\":\"overlay\",\"size\":10,\"solidity\":0.2}},\"type\":\"barpolar\"}],\"pie\":[{\"automargin\":true,\"type\":\"pie\"}]},\"layout\":{\"autotypenumbers\":\"strict\",\"colorway\":[\"#636efa\",\"#EF553B\",\"#00cc96\",\"#ab63fa\",\"#FFA15A\",\"#19d3f3\",\"#FF6692\",\"#B6E880\",\"#FF97FF\",\"#FECB52\"],\"font\":{\"color\":\"#2a3f5f\"},\"hovermode\":\"closest\",\"hoverlabel\":{\"align\":\"left\"},\"paper_bgcolor\":\"white\",\"plot_bgcolor\":\"#E5ECF6\",\"polar\":{\"bgcolor\":\"#E5ECF6\",\"angularaxis\":{\"gridcolor\":\"white\",\"linecolor\":\"white\",\"ticks\":\"\"},\"radialaxis\":{\"gridcolor\":\"white\",\"linecolor\":\"white\",\"ticks\":\"\"}},\"ternary\":{\"bgcolor\":\"#E5ECF6\",\"aaxis\":{\"gridcolor\":\"white\",\"linecolor\":\"white\",\"ticks\":\"\"},\"baxis\":{\"gridcolor\":\"white\",\"linecolor\":\"white\",\"ticks\":\"\"},\"caxis\":{\"gridcolor\":\"white\",\"linecolor\":\"white\",\"ticks\":\"\"}},\"coloraxis\":{\"colorbar\":{\"outlinewidth\":0,\"ticks\":\"\"}},\"colorscale\":{\"sequential\":[[0.0,\"#0d0887\"],[0.1111111111111111,\"#46039f\"],[0.2222222222222222,\"#7201a8\"],[0.3333333333333333,\"#9c179e\"],[0.4444444444444444,\"#bd3786\"],[0.5555555555555556,\"#d8576b\"],[0.6666666666666666,\"#ed7953\"],[0.7777777777777778,\"#fb9f3a\"],[0.8888888888888888,\"#fdca26\"],[1.0,\"#f0f921\"]],\"sequentialminus\":[[0.0,\"#0d0887\"],[0.1111111111111111,\"#46039f\"],[0.2222222222222222,\"#7201a8\"],[0.3333333333333333,\"#9c179e\"],[0.4444444444444444,\"#bd3786\"],[0.5555555555555556,\"#d8576b\"],[0.6666666666666666,\"#ed7953\"],[0.7777777777777778,\"#fb9f3a\"],[0.8888888888888888,\"#fdca26\"],[1.0,\"#f0f921\"]],\"diverging\":[[0,\"#8e0152\"],[0.1,\"#c51b7d\"],[0.2,\"#de77ae\"],[0.3,\"#f1b6da\"],[0.4,\"#fde0ef\"],[0.5,\"#f7f7f7\"],[0.6,\"#e6f5d0\"],[0.7,\"#b8e186\"],[0.8,\"#7fbc41\"],[0.9,\"#4d9221\"],[1,\"#276419\"]]},\"xaxis\":{\"gridcolor\":\"white\",\"linecolor\":\"white\",\"ticks\":\"\",\"title\":{\"standoff\":15},\"zerolinecolor\":\"white\",\"automargin\":true,\"zerolinewidth\":2},\"yaxis\":{\"gridcolor\":\"white\",\"linecolor\":\"white\",\"ticks\":\"\",\"title\":{\"standoff\":15},\"zerolinecolor\":\"white\",\"automargin\":true,\"zerolinewidth\":2},\"scene\":{\"xaxis\":{\"backgroundcolor\":\"#E5ECF6\",\"gridcolor\":\"white\",\"linecolor\":\"white\",\"showbackground\":true,\"ticks\":\"\",\"zerolinecolor\":\"white\",\"gridwidth\":2},\"yaxis\":{\"backgroundcolor\":\"#E5ECF6\",\"gridcolor\":\"white\",\"linecolor\":\"white\",\"showbackground\":true,\"ticks\":\"\",\"zerolinecolor\":\"white\",\"gridwidth\":2},\"zaxis\":{\"backgroundcolor\":\"#E5ECF6\",\"gridcolor\":\"white\",\"linecolor\":\"white\",\"showbackground\":true,\"ticks\":\"\",\"zerolinecolor\":\"white\",\"gridwidth\":2}},\"shapedefaults\":{\"line\":{\"color\":\"#2a3f5f\"}},\"annotationdefaults\":{\"arrowcolor\":\"#2a3f5f\",\"arrowhead\":0,\"arrowwidth\":1},\"geo\":{\"bgcolor\":\"white\",\"landcolor\":\"#E5ECF6\",\"subunitcolor\":\"white\",\"showland\":true,\"showlakes\":true,\"lakecolor\":\"white\"},\"title\":{\"x\":0.05},\"mapbox\":{\"style\":\"light\"}}},\"mapbox\":{\"center\":{\"lat\":53.64065454545455,\"lon\":11.393381818181819},\"style\":\"open-street-map\",\"zoom\":11.992800000000003},\"margin\":{\"r\":0,\"t\":0,\"l\":0,\"b\":0},\"showlegend\":false},                        {\"responsive\": true}                    ).then(function(){\n",
       "                            \n",
       "var gd = document.getElementById('8e4e13e4-402a-4ab7-99ca-ecd6394d2cd2');\n",
       "var x = new MutationObserver(function (mutations, observer) {{\n",
       "        var display = window.getComputedStyle(gd).display;\n",
       "        if (!display || display === 'none') {{\n",
       "            console.log([gd, 'removed!']);\n",
       "            Plotly.purge(gd);\n",
       "            observer.disconnect();\n",
       "        }}\n",
       "}});\n",
       "\n",
       "// Listen for the removal of the full notebook cells\n",
       "var notebookContainer = gd.closest('#notebook-container');\n",
       "if (notebookContainer) {{\n",
       "    x.observe(notebookContainer, {childList: true});\n",
       "}}\n",
       "\n",
       "// Listen for the clearing of the current output cell\n",
       "var outputEl = gd.closest('.output');\n",
       "if (outputEl) {{\n",
       "    x.observe(outputEl, {childList: true});\n",
       "}}\n",
       "\n",
       "                        })                };                });            </script>        </div>"
      ]
     },
     "metadata": {},
     "output_type": "display_data"
    }
   ],
   "execution_count": 17
  },
  {
   "metadata": {},
   "cell_type": "markdown",
   "source": "## Filter for LV Nodes",
   "id": "c0a6359e368974f0"
  },
  {
   "metadata": {
    "ExecuteTime": {
     "end_time": "2025-01-20T11:00:53.709098Z",
     "start_time": "2025-01-20T11:00:53.373627Z"
    }
   },
   "cell_type": "code",
   "source": [
    "lv_nodes = grid.nodes.data[grid.nodes.data[\"v_rated\"] <= 1.0]\n",
    "lv_nodes.head()"
   ],
   "id": "76780eeb066ca381",
   "outputs": [
    {
     "data": {
      "text/plain": [
       "                                                                           geo_position  \\\n",
       "uuid                                                                                      \n",
       "cca492d9-8680-4756-a1c3-416885ec900f  {\"type\":\"Point\",\"coordinates\":[11.3952,53.6382...   \n",
       "b866a7b6-6723-460f-8566-28f4ee4606b8  {\"type\":\"Point\",\"coordinates\":[11.3941,53.6427...   \n",
       "06cb36a2-f4df-446f-a0af-49b27041435a  {\"type\":\"Point\",\"coordinates\":[11.3913,53.6423...   \n",
       "e3792423-73b3-4140-b20c-e8bce24bfc65  {\"type\":\"Point\",\"coordinates\":[11.3924,53.6427...   \n",
       "713ce704-d74c-495d-bd34-3a5a2c884972  {\"type\":\"Point\",\"coordinates\":[11.3952,53.6386...   \n",
       "\n",
       "                                                  id  operates_from  \\\n",
       "uuid                                                                  \n",
       "cca492d9-8680-4756-a1c3-416885ec900f   LV4.101 Bus 6            NaN   \n",
       "b866a7b6-6723-460f-8566-28f4ee4606b8  LV4.101 Bus 26            NaN   \n",
       "06cb36a2-f4df-446f-a0af-49b27041435a  LV4.101 Bus 38            NaN   \n",
       "e3792423-73b3-4140-b20c-e8bce24bfc65  LV4.101 Bus 31            NaN   \n",
       "713ce704-d74c-495d-bd34-3a5a2c884972   LV4.101 Bus 4            NaN   \n",
       "\n",
       "                                      operates_until  operator  slack  subnet  \\\n",
       "uuid                                                                            \n",
       "cca492d9-8680-4756-a1c3-416885ec900f             NaN       NaN  False       2   \n",
       "b866a7b6-6723-460f-8566-28f4ee4606b8             NaN       NaN  False       2   \n",
       "06cb36a2-f4df-446f-a0af-49b27041435a             NaN       NaN  False       2   \n",
       "e3792423-73b3-4140-b20c-e8bce24bfc65             NaN       NaN  False       2   \n",
       "713ce704-d74c-495d-bd34-3a5a2c884972             NaN       NaN  False       2   \n",
       "\n",
       "                                      v_rated  v_target        volt_lvl  \\\n",
       "uuid                                                                      \n",
       "cca492d9-8680-4756-a1c3-416885ec900f      0.4       1.0  Niederspannung   \n",
       "b866a7b6-6723-460f-8566-28f4ee4606b8      0.4       1.0  Niederspannung   \n",
       "06cb36a2-f4df-446f-a0af-49b27041435a      0.4       1.0  Niederspannung   \n",
       "e3792423-73b3-4140-b20c-e8bce24bfc65      0.4       1.0  Niederspannung   \n",
       "713ce704-d74c-495d-bd34-3a5a2c884972      0.4       1.0  Niederspannung   \n",
       "\n",
       "                                      longitude  latitude  \n",
       "uuid                                                       \n",
       "cca492d9-8680-4756-a1c3-416885ec900f    11.3952   53.6382  \n",
       "b866a7b6-6723-460f-8566-28f4ee4606b8    11.3941   53.6427  \n",
       "06cb36a2-f4df-446f-a0af-49b27041435a    11.3913   53.6423  \n",
       "e3792423-73b3-4140-b20c-e8bce24bfc65    11.3924   53.6427  \n",
       "713ce704-d74c-495d-bd34-3a5a2c884972    11.3952   53.6386  "
      ],
      "text/html": [
       "<div>\n",
       "<style scoped>\n",
       "    .dataframe tbody tr th:only-of-type {\n",
       "        vertical-align: middle;\n",
       "    }\n",
       "\n",
       "    .dataframe tbody tr th {\n",
       "        vertical-align: top;\n",
       "    }\n",
       "\n",
       "    .dataframe thead th {\n",
       "        text-align: right;\n",
       "    }\n",
       "</style>\n",
       "<table border=\"1\" class=\"dataframe\">\n",
       "  <thead>\n",
       "    <tr style=\"text-align: right;\">\n",
       "      <th></th>\n",
       "      <th>geo_position</th>\n",
       "      <th>id</th>\n",
       "      <th>operates_from</th>\n",
       "      <th>operates_until</th>\n",
       "      <th>operator</th>\n",
       "      <th>slack</th>\n",
       "      <th>subnet</th>\n",
       "      <th>v_rated</th>\n",
       "      <th>v_target</th>\n",
       "      <th>volt_lvl</th>\n",
       "      <th>longitude</th>\n",
       "      <th>latitude</th>\n",
       "    </tr>\n",
       "    <tr>\n",
       "      <th>uuid</th>\n",
       "      <th></th>\n",
       "      <th></th>\n",
       "      <th></th>\n",
       "      <th></th>\n",
       "      <th></th>\n",
       "      <th></th>\n",
       "      <th></th>\n",
       "      <th></th>\n",
       "      <th></th>\n",
       "      <th></th>\n",
       "      <th></th>\n",
       "      <th></th>\n",
       "    </tr>\n",
       "  </thead>\n",
       "  <tbody>\n",
       "    <tr>\n",
       "      <th>cca492d9-8680-4756-a1c3-416885ec900f</th>\n",
       "      <td>{\"type\":\"Point\",\"coordinates\":[11.3952,53.6382...</td>\n",
       "      <td>LV4.101 Bus 6</td>\n",
       "      <td>NaN</td>\n",
       "      <td>NaN</td>\n",
       "      <td>NaN</td>\n",
       "      <td>False</td>\n",
       "      <td>2</td>\n",
       "      <td>0.4</td>\n",
       "      <td>1.0</td>\n",
       "      <td>Niederspannung</td>\n",
       "      <td>11.3952</td>\n",
       "      <td>53.6382</td>\n",
       "    </tr>\n",
       "    <tr>\n",
       "      <th>b866a7b6-6723-460f-8566-28f4ee4606b8</th>\n",
       "      <td>{\"type\":\"Point\",\"coordinates\":[11.3941,53.6427...</td>\n",
       "      <td>LV4.101 Bus 26</td>\n",
       "      <td>NaN</td>\n",
       "      <td>NaN</td>\n",
       "      <td>NaN</td>\n",
       "      <td>False</td>\n",
       "      <td>2</td>\n",
       "      <td>0.4</td>\n",
       "      <td>1.0</td>\n",
       "      <td>Niederspannung</td>\n",
       "      <td>11.3941</td>\n",
       "      <td>53.6427</td>\n",
       "    </tr>\n",
       "    <tr>\n",
       "      <th>06cb36a2-f4df-446f-a0af-49b27041435a</th>\n",
       "      <td>{\"type\":\"Point\",\"coordinates\":[11.3913,53.6423...</td>\n",
       "      <td>LV4.101 Bus 38</td>\n",
       "      <td>NaN</td>\n",
       "      <td>NaN</td>\n",
       "      <td>NaN</td>\n",
       "      <td>False</td>\n",
       "      <td>2</td>\n",
       "      <td>0.4</td>\n",
       "      <td>1.0</td>\n",
       "      <td>Niederspannung</td>\n",
       "      <td>11.3913</td>\n",
       "      <td>53.6423</td>\n",
       "    </tr>\n",
       "    <tr>\n",
       "      <th>e3792423-73b3-4140-b20c-e8bce24bfc65</th>\n",
       "      <td>{\"type\":\"Point\",\"coordinates\":[11.3924,53.6427...</td>\n",
       "      <td>LV4.101 Bus 31</td>\n",
       "      <td>NaN</td>\n",
       "      <td>NaN</td>\n",
       "      <td>NaN</td>\n",
       "      <td>False</td>\n",
       "      <td>2</td>\n",
       "      <td>0.4</td>\n",
       "      <td>1.0</td>\n",
       "      <td>Niederspannung</td>\n",
       "      <td>11.3924</td>\n",
       "      <td>53.6427</td>\n",
       "    </tr>\n",
       "    <tr>\n",
       "      <th>713ce704-d74c-495d-bd34-3a5a2c884972</th>\n",
       "      <td>{\"type\":\"Point\",\"coordinates\":[11.3952,53.6386...</td>\n",
       "      <td>LV4.101 Bus 4</td>\n",
       "      <td>NaN</td>\n",
       "      <td>NaN</td>\n",
       "      <td>NaN</td>\n",
       "      <td>False</td>\n",
       "      <td>2</td>\n",
       "      <td>0.4</td>\n",
       "      <td>1.0</td>\n",
       "      <td>Niederspannung</td>\n",
       "      <td>11.3952</td>\n",
       "      <td>53.6386</td>\n",
       "    </tr>\n",
       "  </tbody>\n",
       "</table>\n",
       "</div>"
      ]
     },
     "execution_count": 18,
     "metadata": {},
     "output_type": "execute_result"
    }
   ],
   "execution_count": 18
  },
  {
   "metadata": {},
   "cell_type": "markdown",
   "source": "## Input parameter of the participants that should be added",
   "id": "2df72841cf5ffa0c"
  },
  {
   "metadata": {
    "ExecuteTime": {
     "end_time": "2025-01-20T11:00:54.345138Z",
     "start_time": "2025-01-20T11:00:54.118723Z"
    }
   },
   "cell_type": "code",
   "source": [
    "percentage_em = 100.0\n",
    "\n",
    "load_mean = 3000\n",
    "load_sigma = 1500\n",
    "load_min = 750\n",
    "load_max = 6000\n",
    "load_econs_params = [load_mean, load_sigma, load_min, load_max]\n",
    "\n",
    "s_rated_max = 10.0\n",
    "s_rated_mean = 7.5\n",
    "s_rated_min = 5.0\n",
    "s_rated_sigma = 0.75\n",
    "pv_s_rated_params = [s_rated_mean, s_rated_sigma, s_rated_min, s_rated_max]\n",
    "azimuth_max = 90\n",
    "azimuth_mean = 0\n",
    "azimuth_min = -90\n",
    "azimuth_sigma = 15\n",
    "pv_azimuth_params = [azimuth_mean, azimuth_sigma, azimuth_min, azimuth_max]\n",
    "elevation_max = 65\n",
    "elevation_mean = 40\n",
    "elevation_min = 15\n",
    "elevation_sigma = 5\n",
    "pv_elevation_params = [elevation_mean, elevation_sigma, elevation_min, elevation_max]\n",
    "\n",
    "ev_p_rated_mean = 22.0\n",
    "ev_p_rated_sigma = 0.0\n",
    "ev_p_rated_min = 22.0\n",
    "ev_p_rated_max = 22.0\n",
    "ev_p_rated_params = [ev_p_rated_mean, ev_p_rated_sigma, ev_p_rated_min, ev_p_rated_max]\n",
    "evcs_v2g = True"
   ],
   "id": "708ec3affaaf9471",
   "outputs": [],
   "execution_count": 19
  },
  {
   "metadata": {
    "ExecuteTime": {
     "end_time": "2025-01-20T11:00:54.752843Z",
     "start_time": "2025-01-20T11:00:54.384239Z"
    }
   },
   "cell_type": "code",
   "source": [
    "import json\n",
    "import uuid\n",
    "from pypsdm.models.input.participant.evcs import EvcsLocationType\n",
    "\n",
    "# find nodes that have an existing load\n",
    "household_nodes = lv_nodes[lv_nodes.index.isin(grid.loads.node)]\n",
    "\n",
    "nodes_with_em, remaining_nodes_without_em = draw_nodes(household_nodes, percentage_em)\n",
    "\n",
    "load_input_params = [[], [], [], [], [], [], []]\n",
    "pv_input_params = [[], [], [], [], [], [], []]\n",
    "ev_params = [[], [], [], [], [], [], [], [], []]\n",
    "evcs_params = [[], [], [], [], [], [], []]\n",
    "storage_params = [[], [], [], [], []]\n",
    "em_params = [[], [], [], []]\n",
    "\n",
    "node_for_public_pois = household_nodes.iloc[0]\n",
    "geo_position_public_pois = json.loads(node_for_public_pois.geo_position)\n",
    "longitude_public_pois, latitude_public_pois = geo_position_public_pois[\"coordinates\"]\n",
    "\n",
    "data_poi = {\n",
    "    \"uuid\": [\n",
    "        \"3ae3a120-a4ab-4057-8b48-022d8b952930\",\n",
    "        \"52c73a61-a600-4e02-8ed0-24822cef0aa4\",\n",
    "        \"523770be-10a6-4c39-929e-2ed4fc82ff19\",\n",
    "        \"8555fdc8-6f8c-40c6-b467-86c3b745e163\",\n",
    "        \"a2fdb223-c1ec-4ad9-b558-0f145e4ffd8d\",\n",
    "        \"1abce734-a83b-476f-a543-795e60bfe0a2\",\n",
    "        \"1a6123e8-3c36-4ffd-a753-234edaaf391e\",\n",
    "        \"a1554878-6129-4434-bc54-7111dd20d7ee\",\n",
    "        \"020d2e8a-c93a-4042-9972-949e8a6ac2ad\",\n",
    "        \"145b3ab5-74a2-4171-b82f-0c7316d45d60\",\n",
    "    ],\n",
    "    \"id\": [\n",
    "        \"Culture-poi\",\n",
    "        \"Sports-poi\",\n",
    "        \"RELIGIOUS-poi\",\n",
    "        \"Work-poi\",\n",
    "        \"Supermarket-poi\",\n",
    "        \"Services-poi\",\n",
    "        \"Other_Shop-poi\",\n",
    "        \"Medicical-poi1\",\n",
    "        \"BBPG-poi\",\n",
    "        \"Restaurant-poi\",\n",
    "    ],\n",
    "    \"size\": [500, 500, 500, 500, 500, 500, 500, 500, 500, 500],\n",
    "    \"lat\": [\n",
    "        latitude_public_pois,\n",
    "        latitude_public_pois,\n",
    "        latitude_public_pois,\n",
    "        latitude_public_pois,\n",
    "        latitude_public_pois,\n",
    "        latitude_public_pois,\n",
    "        latitude_public_pois,\n",
    "        latitude_public_pois,\n",
    "        latitude_public_pois,\n",
    "        latitude_public_pois,\n",
    "    ],\n",
    "    \"lon\": [\n",
    "        longitude_public_pois,\n",
    "        longitude_public_pois,\n",
    "        longitude_public_pois,\n",
    "        longitude_public_pois,\n",
    "        longitude_public_pois,\n",
    "        longitude_public_pois,\n",
    "        longitude_public_pois,\n",
    "        longitude_public_pois,\n",
    "        longitude_public_pois,\n",
    "        longitude_public_pois,\n",
    "    ],\n",
    "    \"categoricallocation\": [\n",
    "        \"culture\",\n",
    "        \"sports\",\n",
    "        \"religious\",\n",
    "        \"work\",\n",
    "        \"supermarket\",\n",
    "        \"services\",\n",
    "        \"other_shop\",\n",
    "        \"medicinal\",\n",
    "        \"bbpg\",\n",
    "        \"restaurant\",\n",
    "    ],\n",
    "}\n",
    "df_poi = pd.DataFrame(data_poi)\n",
    "df_poi.set_index(\"uuid\", inplace=True)\n",
    "\n",
    "data_poimap = {\n",
    "    #    'poi': ['3ae3a120-a4ab-4057-8b48-022d8b952930','52c73a61-a600-4e02-8ed0-24822cef0aa4','523770be-10a6-4c39-929e-2ed4fc82ff19','8555fdc8-6f8c-40c6-b467-86c3b745e163','a2fdb223-c1ec-4ad9-b558-0f145e4ffd8d','1abce734-a83b-476f-a543-795e60bfe0a2','1a6123e8-3c36-4ffd-a753-234edaaf391e','a1554878-6129-4434-bc54-7111dd20d7ee','020d2e8a-c93a-4042-9972-949e8a6ac2ad','145b3ab5-74a2-4171-b82f-0c7316d45d60','7cefb374-9eb3-4248-b23d-4dc1fa4394ff'] ,\n",
    "    #'evcs': [\"\",\"\",\"\",\"\",\"\",\"\",\"\",\"\",\"\",\"\",\"\",],\n",
    "    #'evs':  [\"\",\"\",\"\",\"\",\"\",\"\",\"\",\"\",\"\",\"\",\"\",],\n",
    "    \"poi\": [],\n",
    "    \"evcs\": [],\n",
    "    \"evs\": [],\n",
    "}\n",
    "df_poimap = pd.DataFrame(data_poimap)\n",
    "df_poimap.set_index(\"poi\", inplace=True)\n",
    "\n",
    "# Add Home POI WITHOUT charging\n",
    "no_charge_home_uuid = \"bbf19030-9cea-4c49-bec8-acbfe86ca717\"\n",
    "new_row_poi = {\n",
    "    \"id\": \"HOME_WITHOUT_CHARGING-poi\",\n",
    "    \"size\": 500,\n",
    "    \"lat\": latitude_public_pois,\n",
    "    \"lon\": longitude_public_pois,\n",
    "    \"categoricallocation\": \"home\",\n",
    "}\n",
    "df_poi.loc[no_charge_home_uuid] = new_row_poi\n",
    "\n",
    "for node in nodes_with_em.itertuples(index=True):\n",
    "\n",
    "    em_uuid = uuid.uuid4()\n",
    "\n",
    "    load_uuid = uuid.uuid4()\n",
    "    load_input_params[0].append(\"load_\" + str(node.id))\n",
    "    load_input_params[1].append(load_uuid)\n",
    "    load_input_params[2].append(node[0])\n",
    "    load_input_params[3].append(3.0)\n",
    "    load_input_params[4].append(normaldistribution(load_econs_params))\n",
    "    load_input_params[5].append(\"h0\")\n",
    "    load_input_params[6].append(em_uuid)\n",
    "\n",
    "    pv_input_params[0].append(\"pv_\" + str(node.id))\n",
    "    pv_srated = normaldistribution(pv_s_rated_params)\n",
    "    pv_input_params[1].append(pv_srated)\n",
    "    pv_input_params[2].append(normaldistribution(pv_azimuth_params))\n",
    "    pv_input_params[3].append(normaldistribution(pv_elevation_params))\n",
    "    pv_input_params[4].append(node[0])\n",
    "    pv_uuid = uuid.uuid4()\n",
    "    pv_input_params[5].append(pv_uuid)\n",
    "    pv_input_params[6].append(em_uuid)\n",
    "\n",
    "    node_id = node.id\n",
    "    ev_uuid = uuid.uuid4()\n",
    "    ev_type_uuid = uuid.uuid4()\n",
    "    evcs_uuid = uuid.uuid4()\n",
    "    evcs_id = \"EVCS_\" + str(node_id)\n",
    "    poi_uuid = uuid.uuid4()\n",
    "    geo_position = json.loads(node.geo_position)\n",
    "    longitude, latitude = geo_position[\"coordinates\"]\n",
    "\n",
    "    ev_p_rated = normaldistribution(ev_p_rated_params)\n",
    "\n",
    "    ev_params[0].append(\"EV_\" + str(node_id))\n",
    "    ev_params[1].append(ev_uuid)\n",
    "    ev_params[2].append(ev_type_uuid)\n",
    "    ev_params[3].append(node[0])\n",
    "    ev_params[4].append(ev_p_rated)  # AC\n",
    "    ev_params[5].append(ev_p_rated)  # DC\n",
    "    ev_params[6].append(120.0)\n",
    "    ev_params[7].append(0.18)\n",
    "\n",
    "    evcs_params[0].append(evcs_id)\n",
    "    evcs_params[1].append(evcs_uuid)\n",
    "    evcs_params[2].append(node[0])\n",
    "    evcs_params[3].append(EvcsLocationType.HOME.value)\n",
    "    evcs_params[4].append(22.0)\n",
    "\n",
    "    if evcs_v2g:\n",
    "        evcs_params[5].append(\"true\")\n",
    "    else:\n",
    "        evcs_params[5].append(\"false\")\n",
    "    evcs_params[6].append(em_uuid)\n",
    "\n",
    "    storage_uuid = uuid.uuid4()\n",
    "    storage_params[0].append(\"Storage_\" + str(node_id))\n",
    "    storage_params[1].append(storage_uuid)\n",
    "    storage_params[2].append(node[0])\n",
    "    storage_params[3].append(1.5 * pv_srated)\n",
    "    storage_params[4].append(em_uuid)\n",
    "\n",
    "    em_params[0].append(\"em_\" + str(node_id))\n",
    "    em_params[1].append(em_uuid)\n",
    "    em_params[2].append(node[0])\n",
    "    em_params[3].append(\"PRIORITIZED\")\n",
    "\n",
    "    # POI Mapping\n",
    "    current_id = evcs_id\n",
    "    new_row_poi = {\n",
    "        \"uuid\": poi_uuid,\n",
    "        \"id\": \"POI_\" + current_id.__str__(),\n",
    "        \"size\": 1,\n",
    "        \"lat\": latitude,\n",
    "        \"lon\": longitude,\n",
    "        \"categoricallocation\": \"home\",\n",
    "    }\n",
    "    df_poi.loc[poi_uuid] = new_row_poi\n",
    "    new_row_mapping = {\n",
    "        \"poi\": poi_uuid,\n",
    "        \"evcs\": evcs_uuid,\n",
    "        \"evs\": ev_uuid,\n",
    "    }\n",
    "    df_poimap.loc[poi_uuid] = new_row_mapping"
   ],
   "id": "2c4558675c97c71a",
   "outputs": [],
   "execution_count": 20
  },
  {
   "metadata": {
    "ExecuteTime": {
     "end_time": "2025-01-20T11:00:55.003835Z",
     "start_time": "2025-01-20T11:00:54.758695Z"
    }
   },
   "cell_type": "code",
   "source": [
    "from pypsdm.models.input.create.participants import create_loads\n",
    "\n",
    "load_data_dict = {\n",
    "    \"id\": load_input_params[0],\n",
    "    \"uuid\": load_input_params[1],\n",
    "    \"node\": load_input_params[2],\n",
    "    \"s_rated\": load_input_params[3],\n",
    "    \"e_cons_annual\": load_input_params[4],\n",
    "    \"load_profile\": load_input_params[5],\n",
    "    \"controlling_em\": load_input_params[6],\n",
    "}\n",
    "\n",
    "loads = create_loads(load_data_dict)"
   ],
   "id": "9bc7a4c5fc99f755",
   "outputs": [],
   "execution_count": 21
  },
  {
   "metadata": {
    "ExecuteTime": {
     "end_time": "2025-01-20T11:00:55.429144Z",
     "start_time": "2025-01-20T11:00:55.244977Z"
    }
   },
   "cell_type": "code",
   "source": [
    "from pypsdm.models.input.create.participants import create_pvs\n",
    "\n",
    "data_dict = {\n",
    "    \"id\": pv_input_params[0],\n",
    "    \"node\": pv_input_params[4],\n",
    "    \"s_rated\": pv_input_params[1],\n",
    "    \"azimuth\": pv_input_params[2],\n",
    "    \"elevation_angle\": pv_input_params[3],\n",
    "    \"uuid\": pv_input_params[5],\n",
    "    \"controlling_em\": pv_input_params[6],\n",
    "}\n",
    "\n",
    "pvs = create_pvs(data_dict)"
   ],
   "id": "7165bf76563b6e73",
   "outputs": [],
   "execution_count": 22
  },
  {
   "metadata": {
    "ExecuteTime": {
     "end_time": "2025-01-20T11:00:55.900683Z",
     "start_time": "2025-01-20T11:00:55.670377Z"
    }
   },
   "cell_type": "code",
   "source": [
    "from pypsdm.models.input.create.participants import create_electric_vehicles\n",
    "from pypsdm.models.input.create.participants import create_ev_charging_stations\n",
    "\n",
    "data_dict = {\n",
    "    \"id\": ev_params[0],\n",
    "    \"uuid\": ev_params[1],\n",
    "    \"type_uuid\": ev_params[2],\n",
    "    \"node\": ev_params[3],\n",
    "    \"s_rated\": ev_params[4],\n",
    "    \"s_ratedDC\": ev_params[5],\n",
    "    \"e_storage\": ev_params[6],\n",
    "    \"e_cons\": ev_params[7],\n",
    "}\n",
    "\n",
    "evs = create_electric_vehicles(data_dict)\n",
    "\n",
    "data_dict = {\n",
    "    \"id\": evcs_params[0],\n",
    "    \"node\": evcs_params[2],\n",
    "    \"location_type\": evcs_params[3],\n",
    "    \"s_rated\": evcs_params[4],\n",
    "    \"uuid\": evcs_params[1],\n",
    "    \"v2g_support\": evcs_params[5],\n",
    "    \"controlling_em\": evcs_params[6],\n",
    "}\n",
    "\n",
    "evcs = create_ev_charging_stations(data_dict)"
   ],
   "id": "ecf81fec530f742f",
   "outputs": [],
   "execution_count": 23
  },
  {
   "metadata": {
    "ExecuteTime": {
     "end_time": "2025-01-20T11:00:56.375299Z",
     "start_time": "2025-01-20T11:00:56.169955Z"
    }
   },
   "cell_type": "code",
   "source": [
    "from pypsdm.models.input.create.participants import create_storages\n",
    "\n",
    "data_dict = {\n",
    "    \"id\": storage_params[0],\n",
    "    \"uuid\": storage_params[1],\n",
    "    \"node\": storage_params[2],\n",
    "    \"e_storage\": storage_params[3],\n",
    "    \"controlling_em\": storage_params[4],\n",
    "}\n",
    "\n",
    "bs = create_storages(data_dict)"
   ],
   "id": "dc70c165d26f71b4",
   "outputs": [],
   "execution_count": 24
  },
  {
   "metadata": {
    "ExecuteTime": {
     "end_time": "2025-01-20T11:00:56.877210Z",
     "start_time": "2025-01-20T11:00:56.672762Z"
    }
   },
   "cell_type": "code",
   "source": [
    "from pypsdm.models.input.create.participants import create_energy_management_systems\n",
    "\n",
    "data_dict = {\n",
    "    \"id\": em_params[0],\n",
    "    \"uuid\": em_params[1],\n",
    "    \"node\": em_params[2],\n",
    "    \"control_strategy\": em_params[3],\n",
    "}\n",
    "\n",
    "controlling_emss = create_energy_management_systems(data_dict)"
   ],
   "id": "40b9651a2b2602fb",
   "outputs": [],
   "execution_count": 25
  },
  {
   "metadata": {
    "ExecuteTime": {
     "end_time": "2025-01-20T11:00:57.475894Z",
     "start_time": "2025-01-20T11:00:57.171868Z"
    }
   },
   "cell_type": "code",
   "source": [
    "from pypsdm.models.input.container.participants import SystemParticipantsContainer\n",
    "from pypsdm.models.input.participant.bm import BiomassPlants\n",
    "from pypsdm.models.input.participant.fixed_feed_in import FixedFeedIns\n",
    "from pypsdm.models.input.participant.wec import WindEnergyConverters\n",
    "from pypsdm.models.input.participant.hp import HeatPumps\n",
    "\n",
    "participants = SystemParticipantsContainer(\n",
    "    controlling_ems=controlling_emss,\n",
    "    loads=loads,\n",
    "    pvs=pvs,\n",
    "    storages=bs,\n",
    "    evs=evs,\n",
    "    evcs=evcs,\n",
    "    hps=HeatPumps.create_empty(),\n",
    "    wecs=WindEnergyConverters.create_empty(),\n",
    "    fixed_feed_ins=FixedFeedIns.create_empty(),\n",
    "    biomass_plants=BiomassPlants.create_empty(),\n",
    ")\n",
    "node_participants = participants.build_node_participants_map(grid.raw_grid.nodes)"
   ],
   "id": "440ce3879bdbfc2e",
   "outputs": [],
   "execution_count": 26
  },
  {
   "metadata": {
    "ExecuteTime": {
     "end_time": "2025-01-20T11:00:58.030246Z",
     "start_time": "2025-01-20T11:00:57.839602Z"
    }
   },
   "cell_type": "code",
   "source": [
    "from pypsdm.models.input.participant.evs import ElectricVehicles\n",
    "\n",
    "node_connected_assets = {}\n",
    "for node, nodal_participants in node_participants.items():\n",
    "    participant_uuids = []\n",
    "    for current in nodal_participants.to_list():\n",
    "        if isinstance(current, ElectricVehicles):\n",
    "            continue\n",
    "        participant_uuids.extend(list(current.uuid))\n",
    "    node_connected_assets[node] = participant_uuids\n",
    "updated_participants = SystemParticipantsContainer(\n",
    "    controlling_emss,\n",
    "    participants.loads,\n",
    "    participants.fixed_feed_ins,\n",
    "    participants.pvs,\n",
    "    participants.biomass_plants,\n",
    "    participants.wecs,\n",
    "    participants.storages,\n",
    "    participants.evs,\n",
    "    participants.evcs,\n",
    "    participants.hps,\n",
    ")"
   ],
   "id": "516efe4c7122255",
   "outputs": [],
   "execution_count": 27
  },
  {
   "metadata": {
    "ExecuteTime": {
     "end_time": "2025-01-20T11:00:58.768227Z",
     "start_time": "2025-01-20T11:00:58.455268Z"
    }
   },
   "cell_type": "code",
   "source": [
    "node_participants_map = updated_participants.build_node_participants_map(\n",
    "    grid.raw_grid.nodes\n",
    ")\n",
    "updated_grid = GridContainer(\n",
    "    grid.raw_grid, updated_participants, grid.primary_data, node_participants_map\n",
    ")"
   ],
   "id": "c5256945d32f0063",
   "outputs": [],
   "execution_count": 28
  },
  {
   "metadata": {
    "collapsed": true,
    "ExecuteTime": {
     "end_time": "2025-01-20T11:09:36.487228Z",
     "start_time": "2025-01-20T11:09:36.233126Z"
    }
   },
   "cell_type": "code",
   "source": [
    "if not os.path.exists(target_grid_path):\n",
    "    os.mkdir(target_grid_path)\n",
    "\n",
    "updated_grid.to_csv(target_grid_path, include_primary_data=False)\n",
    "pois_path = os.path.join(target_grid_path, \"pois\")\n",
    "\n",
    "if not os.path.exists(pois_path):\n",
    "    os.mkdir(pois_path)\n",
    "df_poi.to_csv(pois_path + \"/poi.csv\", index_label=\"uuid\")\n",
    "df_poimap.to_csv(pois_path + \"/poi_mapping.csv\", index=True)"
   ],
   "id": "initial_id",
   "outputs": [],
   "execution_count": 30
  },
  {
   "metadata": {
    "ExecuteTime": {
     "end_time": "2025-01-20T11:09:59.918052Z",
     "start_time": "2025-01-20T11:09:59.561288Z"
    }
   },
   "cell_type": "code",
   "source": [
    "import matplotlib.pyplot as plt\n",
    "\n",
    "# Create a histogram plot to analyse input params of normal distribution\n",
    "dist_max = 90\n",
    "dist_mean = 0\n",
    "dist_min = -90\n",
    "dist_sigma = 15\n",
    "distribution_params = [dist_mean, dist_sigma, dist_min, dist_max]\n",
    "\n",
    "hist_in = []\n",
    "for i in range(2000):\n",
    "    res = normaldistribution(distribution_params)\n",
    "    hist_in.append(res)\n",
    "\n",
    "\n",
    "plt.hist(hist_in, bins=30, density=True, alpha=1.0, color=\"b\")\n",
    "plt.xlabel(\"Value\")\n",
    "plt.ylabel(\"Probability density\")\n",
    "plt.title(\"Histogram of Generated Values\")\n",
    "plt.grid(True)\n",
    "\n",
    "plt.show()"
   ],
   "id": "12d89ff91405a30e",
   "outputs": [
    {
     "data": {
      "text/plain": [
       "<Figure size 640x480 with 1 Axes>"
      ],
      "image/png": "[encoded data removed]"
     },
     "metadata": {},
     "output_type": "display_data"
    }
   ],
   "execution_count": 31
  },
  {
   "metadata": {
    "ExecuteTime": {
     "end_time": "2025-01-20T11:01:00.213499600Z",
     "start_time": "2025-01-16T16:19:40.986596Z"
    }
   },
   "cell_type": "code",
   "source": "",
   "id": "a86a1572f012e027",
   "outputs": [],
   "execution_count": null
  }
 ],
 "metadata": {
  "kernelspec": {
   "display_name": "Python 3",
   "language": "python",
   "name": "python3"
  },
  "language_info": {
   "codemirror_mode": {
    "name": "ipython",
    "version": 2
   },
   "file_extension": ".py",
   "mimetype": "text/x-python",
   "name": "python",
   "nbconvert_exporter": "python",
   "pygments_lexer": "ipython2",
   "version": "2.7.6"
  }
 },
 "nbformat": 4,
 "nbformat_minor": 5
}
