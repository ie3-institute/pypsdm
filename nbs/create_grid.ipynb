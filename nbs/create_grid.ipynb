{
 "cells": [
  {
   "cell_type": "code",
   "metadata": {
    "ExecuteTime": {
     "end_time": "2025-03-07T11:38:21.700115Z",
     "start_time": "2025-03-07T11:38:19.821064Z"
    }
   },
   "source": [
    "%load_ext autoreload\n",
    "%autoreload 2"
   ],
   "outputs": [
    {
     "name": "stdout",
     "output_type": "stream",
     "text": [
      "The autoreload extension is already loaded. To reload it, use:\n",
      "  %reload_ext autoreload\n"
     ]
    }
   ],
   "execution_count": 111
  },
  {
   "cell_type": "code",
   "metadata": {
    "ExecuteTime": {
     "end_time": "2025-03-07T11:38:23.732794Z",
     "start_time": "2025-03-07T11:38:21.739443Z"
    }
   },
   "source": [
    "from pypsdm.models.input.container.grid import GridContainer\n",
    "\n",
    "\n",
    "grid_path = \"./simple_raw_grid\"\n",
    "sep = \",\"\n",
    "grid = GridContainer.from_csv(grid_path, sep)"
   ],
   "outputs": [
    {
     "name": "stderr",
     "output_type": "stream",
     "text": [
      "\u001B[32m2025-03-07 12:38:23.721\u001B[0m | \u001B[34m\u001B[1mDEBUG   \u001B[0m | \u001B[36mpypsdm.models.primary_data\u001B[0m:\u001B[36mfrom_csv\u001B[0m:\u001B[36m271\u001B[0m - \u001B[34m\u001B[1mNo primary data in path C:\\Users\\smdafeis\\PycharmProjects\\pypsdm\\nbs\\simple_raw_grid\u001B[0m\n"
     ]
    }
   ],
   "execution_count": 112
  },
  {
   "cell_type": "code",
   "metadata": {
    "ExecuteTime": {
     "end_time": "2025-03-07T11:38:29.995723Z",
     "start_time": "2025-03-07T11:38:28.496770Z"
    }
   },
   "source": [
    "target_grid_path = \"./simple_grid\""
   ],
   "outputs": [],
   "execution_count": 113
  },
  {
   "metadata": {
    "ExecuteTime": {
     "end_time": "2025-03-07T11:38:31.162678Z",
     "start_time": "2025-03-07T11:38:30.012157Z"
    }
   },
   "cell_type": "code",
   "source": [
    "from pypsdm.plots.grid import grid_plot\n",
    "\n",
    "\n",
    "grid_plot(grid)"
   ],
   "outputs": [
    {
     "data": {
      "application/vnd.plotly.v1+json": {
       "data": [
        {
         "hoverinfo": "skip",
         "lat": [
          51.00473924277929,
          51.00474261837189
         ],
         "line": {
          "color": "#1ac938"
         },
         "lon": [
          7.178732983051468,
          7.18043886801018
         ],
         "mode": "lines",
         "type": "scattermapbox"
        },
        {
         "hoverinfo": "text",
         "hovertext": "LTG_NS_02-NS_03",
         "lat": [
          51.00474093057559
         ],
         "lon": [
          7.179585925530824
         ],
         "marker": {
          "color": "#1ac938",
          "opacity": 0,
          "size": 0
         },
         "mode": "markers",
         "type": "scattermapbox"
        },
        {
         "hoverinfo": "skip",
         "lat": [
          51.00474261837189,
          51.00442531159225
         ],
         "line": {
          "color": "#1ac938"
         },
         "lon": [
          7.18043886801018,
          7.1826490082711505
         ],
         "mode": "lines",
         "type": "scattermapbox"
        },
        {
         "hoverinfo": "text",
         "hovertext": "LTG_NS_03-NS_04",
         "lat": [
          51.004583964982075
         ],
         "lon": [
          7.181543938140665
         ],
         "marker": {
          "color": "#1ac938",
          "opacity": 0,
          "size": 0
         },
         "mode": "markers",
         "type": "scattermapbox"
        },
        {
         "hoverinfo": "skip",
         "lat": [
          51.00489119159423,
          51.00473924277929
         ],
         "line": {
          "color": "#1ac938"
         },
         "lon": [
          7.177091457368853,
          7.178732983051468
         ],
         "mode": "lines",
         "type": "scattermapbox"
        },
        {
         "hoverinfo": "text",
         "hovertext": "LTG_NS_01-NS_02",
         "lat": [
          51.00481521718676
         ],
         "lon": [
          7.17791222021016
         ],
         "marker": {
          "color": "#1ac938",
          "opacity": 0,
          "size": 0
         },
         "mode": "markers",
         "type": "scattermapbox"
        },
        {
         "hoverinfo": "text",
         "hovertext": [
          "MS_01<br>df97c0d1-379b-417a-a473-8e7fe37da99d<br>",
          "NS_01<br>6a4547a8-630b-46e4-8144-9cd649e67c07<br>",
          "NS_02<br>b7a5be0d-2662-41b2-99c6-3b8121a75e9e<br>",
          "NS_03<br>1dcddd06-f41a-405b-9686-7f7942852196<br>",
          "NS_04<br>e3c3c6a3-c383-4dbb-9b3f-a14125615386<br>"
         ],
         "lat": [
          51.00489119159423,
          51.00489119159423,
          51.00473924277929,
          51.00474261837189,
          51.00442531159225
         ],
         "lon": [
          7.177091457368853,
          7.177091457368853,
          7.178732983051468,
          7.18043886801018,
          7.1826490082711505
         ],
         "marker": {
          "color": "#023eff",
          "size": 6
         },
         "mode": "markers",
         "text": [
          "MS_01<br>df97c0d1-379b-417a-a473-8e7fe37da99d<br>",
          "NS_01<br>6a4547a8-630b-46e4-8144-9cd649e67c07<br>",
          "NS_02<br>b7a5be0d-2662-41b2-99c6-3b8121a75e9e<br>",
          "NS_03<br>1dcddd06-f41a-405b-9686-7f7942852196<br>",
          "NS_04<br>e3c3c6a3-c383-4dbb-9b3f-a14125615386<br>"
         ],
         "type": "scattermapbox"
        }
       ],
       "layout": {
        "template": {
         "data": {
          "histogram2dcontour": [
           {
            "type": "histogram2dcontour",
            "colorbar": {
             "outlinewidth": 0,
             "ticks": ""
            },
            "colorscale": [
             [
              0.0,
              "#0d0887"
             ],
             [
              0.1111111111111111,
              "#46039f"
             ],
             [
              0.2222222222222222,
              "#7201a8"
             ],
             [
              0.3333333333333333,
              "#9c179e"
             ],
             [
              0.4444444444444444,
              "#bd3786"
             ],
             [
              0.5555555555555556,
              "#d8576b"
             ],
             [
              0.6666666666666666,
              "#ed7953"
             ],
             [
              0.7777777777777778,
              "#fb9f3a"
             ],
             [
              0.8888888888888888,
              "#fdca26"
             ],
             [
              1.0,
              "#f0f921"
             ]
            ]
           }
          ],
          "choropleth": [
           {
            "type": "choropleth",
            "colorbar": {
             "outlinewidth": 0,
             "ticks": ""
            }
           }
          ],
          "histogram2d": [
           {
            "type": "histogram2d",
            "colorbar": {
             "outlinewidth": 0,
             "ticks": ""
            },
            "colorscale": [
             [
              0.0,
              "#0d0887"
             ],
             [
              0.1111111111111111,
              "#46039f"
             ],
             [
              0.2222222222222222,
              "#7201a8"
             ],
             [
              0.3333333333333333,
              "#9c179e"
             ],
             [
              0.4444444444444444,
              "#bd3786"
             ],
             [
              0.5555555555555556,
              "#d8576b"
             ],
             [
              0.6666666666666666,
              "#ed7953"
             ],
             [
              0.7777777777777778,
              "#fb9f3a"
             ],
             [
              0.8888888888888888,
              "#fdca26"
             ],
             [
              1.0,
              "#f0f921"
             ]
            ]
           }
          ],
          "heatmap": [
           {
            "type": "heatmap",
            "colorbar": {
             "outlinewidth": 0,
             "ticks": ""
            },
            "colorscale": [
             [
              0.0,
              "#0d0887"
             ],
             [
              0.1111111111111111,
              "#46039f"
             ],
             [
              0.2222222222222222,
              "#7201a8"
             ],
             [
              0.3333333333333333,
              "#9c179e"
             ],
             [
              0.4444444444444444,
              "#bd3786"
             ],
             [
              0.5555555555555556,
              "#d8576b"
             ],
             [
              0.6666666666666666,
              "#ed7953"
             ],
             [
              0.7777777777777778,
              "#fb9f3a"
             ],
             [
              0.8888888888888888,
              "#fdca26"
             ],
             [
              1.0,
              "#f0f921"
             ]
            ]
           }
          ],
          "heatmapgl": [
           {
            "type": "heatmapgl",
            "colorbar": {
             "outlinewidth": 0,
             "ticks": ""
            },
            "colorscale": [
             [
              0.0,
              "#0d0887"
             ],
             [
              0.1111111111111111,
              "#46039f"
             ],
             [
              0.2222222222222222,
              "#7201a8"
             ],
             [
              0.3333333333333333,
              "#9c179e"
             ],
             [
              0.4444444444444444,
              "#bd3786"
             ],
             [
              0.5555555555555556,
              "#d8576b"
             ],
             [
              0.6666666666666666,
              "#ed7953"
             ],
             [
              0.7777777777777778,
              "#fb9f3a"
             ],
             [
              0.8888888888888888,
              "#fdca26"
             ],
             [
              1.0,
              "#f0f921"
             ]
            ]
           }
          ],
          "contourcarpet": [
           {
            "type": "contourcarpet",
            "colorbar": {
             "outlinewidth": 0,
             "ticks": ""
            }
           }
          ],
          "contour": [
           {
            "type": "contour",
            "colorbar": {
             "outlinewidth": 0,
             "ticks": ""
            },
            "colorscale": [
             [
              0.0,
              "#0d0887"
             ],
             [
              0.1111111111111111,
              "#46039f"
             ],
             [
              0.2222222222222222,
              "#7201a8"
             ],
             [
              0.3333333333333333,
              "#9c179e"
             ],
             [
              0.4444444444444444,
              "#bd3786"
             ],
             [
              0.5555555555555556,
              "#d8576b"
             ],
             [
              0.6666666666666666,
              "#ed7953"
             ],
             [
              0.7777777777777778,
              "#fb9f3a"
             ],
             [
              0.8888888888888888,
              "#fdca26"
             ],
             [
              1.0,
              "#f0f921"
             ]
            ]
           }
          ],
          "surface": [
           {
            "type": "surface",
            "colorbar": {
             "outlinewidth": 0,
             "ticks": ""
            },
            "colorscale": [
             [
              0.0,
              "#0d0887"
             ],
             [
              0.1111111111111111,
              "#46039f"
             ],
             [
              0.2222222222222222,
              "#7201a8"
             ],
             [
              0.3333333333333333,
              "#9c179e"
             ],
             [
              0.4444444444444444,
              "#bd3786"
             ],
             [
              0.5555555555555556,
              "#d8576b"
             ],
             [
              0.6666666666666666,
              "#ed7953"
             ],
             [
              0.7777777777777778,
              "#fb9f3a"
             ],
             [
              0.8888888888888888,
              "#fdca26"
             ],
             [
              1.0,
              "#f0f921"
             ]
            ]
           }
          ],
          "mesh3d": [
           {
            "type": "mesh3d",
            "colorbar": {
             "outlinewidth": 0,
             "ticks": ""
            }
           }
          ],
          "scatter": [
           {
            "fillpattern": {
             "fillmode": "overlay",
             "size": 10,
             "solidity": 0.2
            },
            "type": "scatter"
           }
          ],
          "parcoords": [
           {
            "type": "parcoords",
            "line": {
             "colorbar": {
              "outlinewidth": 0,
              "ticks": ""
             }
            }
           }
          ],
          "scatterpolargl": [
           {
            "type": "scatterpolargl",
            "marker": {
             "colorbar": {
              "outlinewidth": 0,
              "ticks": ""
             }
            }
           }
          ],
          "bar": [
           {
            "error_x": {
             "color": "#2a3f5f"
            },
            "error_y": {
             "color": "#2a3f5f"
            },
            "marker": {
             "line": {
              "color": "#E5ECF6",
              "width": 0.5
             },
             "pattern": {
              "fillmode": "overlay",
              "size": 10,
              "solidity": 0.2
             }
            },
            "type": "bar"
           }
          ],
          "scattergeo": [
           {
            "type": "scattergeo",
            "marker": {
             "colorbar": {
              "outlinewidth": 0,
              "ticks": ""
             }
            }
           }
          ],
          "scatterpolar": [
           {
            "type": "scatterpolar",
            "marker": {
             "colorbar": {
              "outlinewidth": 0,
              "ticks": ""
             }
            }
           }
          ],
          "histogram": [
           {
            "marker": {
             "pattern": {
              "fillmode": "overlay",
              "size": 10,
              "solidity": 0.2
             }
            },
            "type": "histogram"
           }
          ],
          "scattergl": [
           {
            "type": "scattergl",
            "marker": {
             "colorbar": {
              "outlinewidth": 0,
              "ticks": ""
             }
            }
           }
          ],
          "scatter3d": [
           {
            "type": "scatter3d",
            "line": {
             "colorbar": {
              "outlinewidth": 0,
              "ticks": ""
             }
            },
            "marker": {
             "colorbar": {
              "outlinewidth": 0,
              "ticks": ""
             }
            }
           }
          ],
          "scattermapbox": [
           {
            "type": "scattermapbox",
            "marker": {
             "colorbar": {
              "outlinewidth": 0,
              "ticks": ""
             }
            }
           }
          ],
          "scatterternary": [
           {
            "type": "scatterternary",
            "marker": {
             "colorbar": {
              "outlinewidth": 0,
              "ticks": ""
             }
            }
           }
          ],
          "scattercarpet": [
           {
            "type": "scattercarpet",
            "marker": {
             "colorbar": {
              "outlinewidth": 0,
              "ticks": ""
             }
            }
           }
          ],
          "carpet": [
           {
            "aaxis": {
             "endlinecolor": "#2a3f5f",
             "gridcolor": "white",
             "linecolor": "white",
             "minorgridcolor": "white",
             "startlinecolor": "#2a3f5f"
            },
            "baxis": {
             "endlinecolor": "#2a3f5f",
             "gridcolor": "white",
             "linecolor": "white",
             "minorgridcolor": "white",
             "startlinecolor": "#2a3f5f"
            },
            "type": "carpet"
           }
          ],
          "table": [
           {
            "cells": {
             "fill": {
              "color": "#EBF0F8"
             },
             "line": {
              "color": "white"
             }
            },
            "header": {
             "fill": {
              "color": "#C8D4E3"
             },
             "line": {
              "color": "white"
             }
            },
            "type": "table"
           }
          ],
          "barpolar": [
           {
            "marker": {
             "line": {
              "color": "#E5ECF6",
              "width": 0.5
             },
             "pattern": {
              "fillmode": "overlay",
              "size": 10,
              "solidity": 0.2
             }
            },
            "type": "barpolar"
           }
          ],
          "pie": [
           {
            "automargin": true,
            "type": "pie"
           }
          ]
         },
         "layout": {
          "autotypenumbers": "strict",
          "colorway": [
           "#636efa",
           "#EF553B",
           "#00cc96",
           "#ab63fa",
           "#FFA15A",
           "#19d3f3",
           "#FF6692",
           "#B6E880",
           "#FF97FF",
           "#FECB52"
          ],
          "font": {
           "color": "#2a3f5f"
          },
          "hovermode": "closest",
          "hoverlabel": {
           "align": "left"
          },
          "paper_bgcolor": "white",
          "plot_bgcolor": "#E5ECF6",
          "polar": {
           "bgcolor": "#E5ECF6",
           "angularaxis": {
            "gridcolor": "white",
            "linecolor": "white",
            "ticks": ""
           },
           "radialaxis": {
            "gridcolor": "white",
            "linecolor": "white",
            "ticks": ""
           }
          },
          "ternary": {
           "bgcolor": "#E5ECF6",
           "aaxis": {
            "gridcolor": "white",
            "linecolor": "white",
            "ticks": ""
           },
           "baxis": {
            "gridcolor": "white",
            "linecolor": "white",
            "ticks": ""
           },
           "caxis": {
            "gridcolor": "white",
            "linecolor": "white",
            "ticks": ""
           }
          },
          "coloraxis": {
           "colorbar": {
            "outlinewidth": 0,
            "ticks": ""
           }
          },
          "colorscale": {
           "sequential": [
            [
             0.0,
             "#0d0887"
            ],
            [
             0.1111111111111111,
             "#46039f"
            ],
            [
             0.2222222222222222,
             "#7201a8"
            ],
            [
             0.3333333333333333,
             "#9c179e"
            ],
            [
             0.4444444444444444,
             "#bd3786"
            ],
            [
             0.5555555555555556,
             "#d8576b"
            ],
            [
             0.6666666666666666,
             "#ed7953"
            ],
            [
             0.7777777777777778,
             "#fb9f3a"
            ],
            [
             0.8888888888888888,
             "#fdca26"
            ],
            [
             1.0,
             "#f0f921"
            ]
           ],
           "sequentialminus": [
            [
             0.0,
             "#0d0887"
            ],
            [
             0.1111111111111111,
             "#46039f"
            ],
            [
             0.2222222222222222,
             "#7201a8"
            ],
            [
             0.3333333333333333,
             "#9c179e"
            ],
            [
             0.4444444444444444,
             "#bd3786"
            ],
            [
             0.5555555555555556,
             "#d8576b"
            ],
            [
             0.6666666666666666,
             "#ed7953"
            ],
            [
             0.7777777777777778,
             "#fb9f3a"
            ],
            [
             0.8888888888888888,
             "#fdca26"
            ],
            [
             1.0,
             "#f0f921"
            ]
           ],
           "diverging": [
            [
             0,
             "#8e0152"
            ],
            [
             0.1,
             "#c51b7d"
            ],
            [
             0.2,
             "#de77ae"
            ],
            [
             0.3,
             "#f1b6da"
            ],
            [
             0.4,
             "#fde0ef"
            ],
            [
             0.5,
             "#f7f7f7"
            ],
            [
             0.6,
             "#e6f5d0"
            ],
            [
             0.7,
             "#b8e186"
            ],
            [
             0.8,
             "#7fbc41"
            ],
            [
             0.9,
             "#4d9221"
            ],
            [
             1,
             "#276419"
            ]
           ]
          },
          "xaxis": {
           "gridcolor": "white",
           "linecolor": "white",
           "ticks": "",
           "title": {
            "standoff": 15
           },
           "zerolinecolor": "white",
           "automargin": true,
           "zerolinewidth": 2
          },
          "yaxis": {
           "gridcolor": "white",
           "linecolor": "white",
           "ticks": "",
           "title": {
            "standoff": 15
           },
           "zerolinecolor": "white",
           "automargin": true,
           "zerolinewidth": 2
          },
          "scene": {
           "xaxis": {
            "backgroundcolor": "#E5ECF6",
            "gridcolor": "white",
            "linecolor": "white",
            "showbackground": true,
            "ticks": "",
            "zerolinecolor": "white",
            "gridwidth": 2
           },
           "yaxis": {
            "backgroundcolor": "#E5ECF6",
            "gridcolor": "white",
            "linecolor": "white",
            "showbackground": true,
            "ticks": "",
            "zerolinecolor": "white",
            "gridwidth": 2
           },
           "zaxis": {
            "backgroundcolor": "#E5ECF6",
            "gridcolor": "white",
            "linecolor": "white",
            "showbackground": true,
            "ticks": "",
            "zerolinecolor": "white",
            "gridwidth": 2
           }
          },
          "shapedefaults": {
           "line": {
            "color": "#2a3f5f"
           }
          },
          "annotationdefaults": {
           "arrowcolor": "#2a3f5f",
           "arrowhead": 0,
           "arrowwidth": 1
          },
          "geo": {
           "bgcolor": "white",
           "landcolor": "#E5ECF6",
           "subunitcolor": "white",
           "showland": true,
           "showlakes": true,
           "lakecolor": "white"
          },
          "title": {
           "x": 0.05
          },
          "mapbox": {
           "style": "light"
          }
         }
        },
        "mapbox": {
         "center": {
          "lat": 51.00473791118638,
          "lon": 7.1792007548141
         },
         "style": "open-street-map",
         "zoom": 11.994442449097702
        },
        "margin": {
         "r": 0,
         "t": 0,
         "l": 0,
         "b": 0
        },
        "showlegend": false
       },
       "config": {
        "plotlyServerURL": "https://plot.ly"
       }
      },
      "text/html": [
       "<div>                            <div id=\"71f45844-1ff9-44ce-abf7-53c2dc4475ce\" class=\"plotly-graph-div\" style=\"height:525px; width:100%;\"></div>            <script type=\"text/javascript\">                require([\"plotly\"], function(Plotly) {                    window.PLOTLYENV=window.PLOTLYENV || {};                                    if (document.getElementById(\"71f45844-1ff9-44ce-abf7-53c2dc4475ce\")) {                    Plotly.newPlot(                        \"71f45844-1ff9-44ce-abf7-53c2dc4475ce\",                        [{\"hoverinfo\":\"skip\",\"lat\":[51.00473924277929,51.00474261837189],\"line\":{\"color\":\"#1ac938\"},\"lon\":[7.178732983051468,7.18043886801018],\"mode\":\"lines\",\"type\":\"scattermapbox\"},{\"hoverinfo\":\"text\",\"hovertext\":\"LTG_NS_02-NS_03\",\"lat\":[51.00474093057559],\"lon\":[7.179585925530824],\"marker\":{\"color\":\"#1ac938\",\"opacity\":0,\"size\":0},\"mode\":\"markers\",\"type\":\"scattermapbox\"},{\"hoverinfo\":\"skip\",\"lat\":[51.00474261837189,51.00442531159225],\"line\":{\"color\":\"#1ac938\"},\"lon\":[7.18043886801018,7.1826490082711505],\"mode\":\"lines\",\"type\":\"scattermapbox\"},{\"hoverinfo\":\"text\",\"hovertext\":\"LTG_NS_03-NS_04\",\"lat\":[51.004583964982075],\"lon\":[7.181543938140665],\"marker\":{\"color\":\"#1ac938\",\"opacity\":0,\"size\":0},\"mode\":\"markers\",\"type\":\"scattermapbox\"},{\"hoverinfo\":\"skip\",\"lat\":[51.00489119159423,51.00473924277929],\"line\":{\"color\":\"#1ac938\"},\"lon\":[7.177091457368853,7.178732983051468],\"mode\":\"lines\",\"type\":\"scattermapbox\"},{\"hoverinfo\":\"text\",\"hovertext\":\"LTG_NS_01-NS_02\",\"lat\":[51.00481521718676],\"lon\":[7.17791222021016],\"marker\":{\"color\":\"#1ac938\",\"opacity\":0,\"size\":0},\"mode\":\"markers\",\"type\":\"scattermapbox\"},{\"hoverinfo\":\"text\",\"hovertext\":[\"MS_01\\u003cbr\\u003edf97c0d1-379b-417a-a473-8e7fe37da99d\\u003cbr\\u003e\",\"NS_01\\u003cbr\\u003e6a4547a8-630b-46e4-8144-9cd649e67c07\\u003cbr\\u003e\",\"NS_02\\u003cbr\\u003eb7a5be0d-2662-41b2-99c6-3b8121a75e9e\\u003cbr\\u003e\",\"NS_03\\u003cbr\\u003e1dcddd06-f41a-405b-9686-7f7942852196\\u003cbr\\u003e\",\"NS_04\\u003cbr\\u003ee3c3c6a3-c383-4dbb-9b3f-a14125615386\\u003cbr\\u003e\"],\"lat\":[51.00489119159423,51.00489119159423,51.00473924277929,51.00474261837189,51.00442531159225],\"lon\":[7.177091457368853,7.177091457368853,7.178732983051468,7.18043886801018,7.1826490082711505],\"marker\":{\"color\":\"#023eff\",\"size\":6},\"mode\":\"markers\",\"text\":[\"MS_01\\u003cbr\\u003edf97c0d1-379b-417a-a473-8e7fe37da99d\\u003cbr\\u003e\",\"NS_01\\u003cbr\\u003e6a4547a8-630b-46e4-8144-9cd649e67c07\\u003cbr\\u003e\",\"NS_02\\u003cbr\\u003eb7a5be0d-2662-41b2-99c6-3b8121a75e9e\\u003cbr\\u003e\",\"NS_03\\u003cbr\\u003e1dcddd06-f41a-405b-9686-7f7942852196\\u003cbr\\u003e\",\"NS_04\\u003cbr\\u003ee3c3c6a3-c383-4dbb-9b3f-a14125615386\\u003cbr\\u003e\"],\"type\":\"scattermapbox\"}],                        {\"template\":{\"data\":{\"histogram2dcontour\":[{\"type\":\"histogram2dcontour\",\"colorbar\":{\"outlinewidth\":0,\"ticks\":\"\"},\"colorscale\":[[0.0,\"#0d0887\"],[0.1111111111111111,\"#46039f\"],[0.2222222222222222,\"#7201a8\"],[0.3333333333333333,\"#9c179e\"],[0.4444444444444444,\"#bd3786\"],[0.5555555555555556,\"#d8576b\"],[0.6666666666666666,\"#ed7953\"],[0.7777777777777778,\"#fb9f3a\"],[0.8888888888888888,\"#fdca26\"],[1.0,\"#f0f921\"]]}],\"choropleth\":[{\"type\":\"choropleth\",\"colorbar\":{\"outlinewidth\":0,\"ticks\":\"\"}}],\"histogram2d\":[{\"type\":\"histogram2d\",\"colorbar\":{\"outlinewidth\":0,\"ticks\":\"\"},\"colorscale\":[[0.0,\"#0d0887\"],[0.1111111111111111,\"#46039f\"],[0.2222222222222222,\"#7201a8\"],[0.3333333333333333,\"#9c179e\"],[0.4444444444444444,\"#bd3786\"],[0.5555555555555556,\"#d8576b\"],[0.6666666666666666,\"#ed7953\"],[0.7777777777777778,\"#fb9f3a\"],[0.8888888888888888,\"#fdca26\"],[1.0,\"#f0f921\"]]}],\"heatmap\":[{\"type\":\"heatmap\",\"colorbar\":{\"outlinewidth\":0,\"ticks\":\"\"},\"colorscale\":[[0.0,\"#0d0887\"],[0.1111111111111111,\"#46039f\"],[0.2222222222222222,\"#7201a8\"],[0.3333333333333333,\"#9c179e\"],[0.4444444444444444,\"#bd3786\"],[0.5555555555555556,\"#d8576b\"],[0.6666666666666666,\"#ed7953\"],[0.7777777777777778,\"#fb9f3a\"],[0.8888888888888888,\"#fdca26\"],[1.0,\"#f0f921\"]]}],\"heatmapgl\":[{\"type\":\"heatmapgl\",\"colorbar\":{\"outlinewidth\":0,\"ticks\":\"\"},\"colorscale\":[[0.0,\"#0d0887\"],[0.1111111111111111,\"#46039f\"],[0.2222222222222222,\"#7201a8\"],[0.3333333333333333,\"#9c179e\"],[0.4444444444444444,\"#bd3786\"],[0.5555555555555556,\"#d8576b\"],[0.6666666666666666,\"#ed7953\"],[0.7777777777777778,\"#fb9f3a\"],[0.8888888888888888,\"#fdca26\"],[1.0,\"#f0f921\"]]}],\"contourcarpet\":[{\"type\":\"contourcarpet\",\"colorbar\":{\"outlinewidth\":0,\"ticks\":\"\"}}],\"contour\":[{\"type\":\"contour\",\"colorbar\":{\"outlinewidth\":0,\"ticks\":\"\"},\"colorscale\":[[0.0,\"#0d0887\"],[0.1111111111111111,\"#46039f\"],[0.2222222222222222,\"#7201a8\"],[0.3333333333333333,\"#9c179e\"],[0.4444444444444444,\"#bd3786\"],[0.5555555555555556,\"#d8576b\"],[0.6666666666666666,\"#ed7953\"],[0.7777777777777778,\"#fb9f3a\"],[0.8888888888888888,\"#fdca26\"],[1.0,\"#f0f921\"]]}],\"surface\":[{\"type\":\"surface\",\"colorbar\":{\"outlinewidth\":0,\"ticks\":\"\"},\"colorscale\":[[0.0,\"#0d0887\"],[0.1111111111111111,\"#46039f\"],[0.2222222222222222,\"#7201a8\"],[0.3333333333333333,\"#9c179e\"],[0.4444444444444444,\"#bd3786\"],[0.5555555555555556,\"#d8576b\"],[0.6666666666666666,\"#ed7953\"],[0.7777777777777778,\"#fb9f3a\"],[0.8888888888888888,\"#fdca26\"],[1.0,\"#f0f921\"]]}],\"mesh3d\":[{\"type\":\"mesh3d\",\"colorbar\":{\"outlinewidth\":0,\"ticks\":\"\"}}],\"scatter\":[{\"fillpattern\":{\"fillmode\":\"overlay\",\"size\":10,\"solidity\":0.2},\"type\":\"scatter\"}],\"parcoords\":[{\"type\":\"parcoords\",\"line\":{\"colorbar\":{\"outlinewidth\":0,\"ticks\":\"\"}}}],\"scatterpolargl\":[{\"type\":\"scatterpolargl\",\"marker\":{\"colorbar\":{\"outlinewidth\":0,\"ticks\":\"\"}}}],\"bar\":[{\"error_x\":{\"color\":\"#2a3f5f\"},\"error_y\":{\"color\":\"#2a3f5f\"},\"marker\":{\"line\":{\"color\":\"#E5ECF6\",\"width\":0.5},\"pattern\":{\"fillmode\":\"overlay\",\"size\":10,\"solidity\":0.2}},\"type\":\"bar\"}],\"scattergeo\":[{\"type\":\"scattergeo\",\"marker\":{\"colorbar\":{\"outlinewidth\":0,\"ticks\":\"\"}}}],\"scatterpolar\":[{\"type\":\"scatterpolar\",\"marker\":{\"colorbar\":{\"outlinewidth\":0,\"ticks\":\"\"}}}],\"histogram\":[{\"marker\":{\"pattern\":{\"fillmode\":\"overlay\",\"size\":10,\"solidity\":0.2}},\"type\":\"histogram\"}],\"scattergl\":[{\"type\":\"scattergl\",\"marker\":{\"colorbar\":{\"outlinewidth\":0,\"ticks\":\"\"}}}],\"scatter3d\":[{\"type\":\"scatter3d\",\"line\":{\"colorbar\":{\"outlinewidth\":0,\"ticks\":\"\"}},\"marker\":{\"colorbar\":{\"outlinewidth\":0,\"ticks\":\"\"}}}],\"scattermapbox\":[{\"type\":\"scattermapbox\",\"marker\":{\"colorbar\":{\"outlinewidth\":0,\"ticks\":\"\"}}}],\"scatterternary\":[{\"type\":\"scatterternary\",\"marker\":{\"colorbar\":{\"outlinewidth\":0,\"ticks\":\"\"}}}],\"scattercarpet\":[{\"type\":\"scattercarpet\",\"marker\":{\"colorbar\":{\"outlinewidth\":0,\"ticks\":\"\"}}}],\"carpet\":[{\"aaxis\":{\"endlinecolor\":\"#2a3f5f\",\"gridcolor\":\"white\",\"linecolor\":\"white\",\"minorgridcolor\":\"white\",\"startlinecolor\":\"#2a3f5f\"},\"baxis\":{\"endlinecolor\":\"#2a3f5f\",\"gridcolor\":\"white\",\"linecolor\":\"white\",\"minorgridcolor\":\"white\",\"startlinecolor\":\"#2a3f5f\"},\"type\":\"carpet\"}],\"table\":[{\"cells\":{\"fill\":{\"color\":\"#EBF0F8\"},\"line\":{\"color\":\"white\"}},\"header\":{\"fill\":{\"color\":\"#C8D4E3\"},\"line\":{\"color\":\"white\"}},\"type\":\"table\"}],\"barpolar\":[{\"marker\":{\"line\":{\"color\":\"#E5ECF6\",\"width\":0.5},\"pattern\":{\"fillmode\":\"overlay\",\"size\":10,\"solidity\":0.2}},\"type\":\"barpolar\"}],\"pie\":[{\"automargin\":true,\"type\":\"pie\"}]},\"layout\":{\"autotypenumbers\":\"strict\",\"colorway\":[\"#636efa\",\"#EF553B\",\"#00cc96\",\"#ab63fa\",\"#FFA15A\",\"#19d3f3\",\"#FF6692\",\"#B6E880\",\"#FF97FF\",\"#FECB52\"],\"font\":{\"color\":\"#2a3f5f\"},\"hovermode\":\"closest\",\"hoverlabel\":{\"align\":\"left\"},\"paper_bgcolor\":\"white\",\"plot_bgcolor\":\"#E5ECF6\",\"polar\":{\"bgcolor\":\"#E5ECF6\",\"angularaxis\":{\"gridcolor\":\"white\",\"linecolor\":\"white\",\"ticks\":\"\"},\"radialaxis\":{\"gridcolor\":\"white\",\"linecolor\":\"white\",\"ticks\":\"\"}},\"ternary\":{\"bgcolor\":\"#E5ECF6\",\"aaxis\":{\"gridcolor\":\"white\",\"linecolor\":\"white\",\"ticks\":\"\"},\"baxis\":{\"gridcolor\":\"white\",\"linecolor\":\"white\",\"ticks\":\"\"},\"caxis\":{\"gridcolor\":\"white\",\"linecolor\":\"white\",\"ticks\":\"\"}},\"coloraxis\":{\"colorbar\":{\"outlinewidth\":0,\"ticks\":\"\"}},\"colorscale\":{\"sequential\":[[0.0,\"#0d0887\"],[0.1111111111111111,\"#46039f\"],[0.2222222222222222,\"#7201a8\"],[0.3333333333333333,\"#9c179e\"],[0.4444444444444444,\"#bd3786\"],[0.5555555555555556,\"#d8576b\"],[0.6666666666666666,\"#ed7953\"],[0.7777777777777778,\"#fb9f3a\"],[0.8888888888888888,\"#fdca26\"],[1.0,\"#f0f921\"]],\"sequentialminus\":[[0.0,\"#0d0887\"],[0.1111111111111111,\"#46039f\"],[0.2222222222222222,\"#7201a8\"],[0.3333333333333333,\"#9c179e\"],[0.4444444444444444,\"#bd3786\"],[0.5555555555555556,\"#d8576b\"],[0.6666666666666666,\"#ed7953\"],[0.7777777777777778,\"#fb9f3a\"],[0.8888888888888888,\"#fdca26\"],[1.0,\"#f0f921\"]],\"diverging\":[[0,\"#8e0152\"],[0.1,\"#c51b7d\"],[0.2,\"#de77ae\"],[0.3,\"#f1b6da\"],[0.4,\"#fde0ef\"],[0.5,\"#f7f7f7\"],[0.6,\"#e6f5d0\"],[0.7,\"#b8e186\"],[0.8,\"#7fbc41\"],[0.9,\"#4d9221\"],[1,\"#276419\"]]},\"xaxis\":{\"gridcolor\":\"white\",\"linecolor\":\"white\",\"ticks\":\"\",\"title\":{\"standoff\":15},\"zerolinecolor\":\"white\",\"automargin\":true,\"zerolinewidth\":2},\"yaxis\":{\"gridcolor\":\"white\",\"linecolor\":\"white\",\"ticks\":\"\",\"title\":{\"standoff\":15},\"zerolinecolor\":\"white\",\"automargin\":true,\"zerolinewidth\":2},\"scene\":{\"xaxis\":{\"backgroundcolor\":\"#E5ECF6\",\"gridcolor\":\"white\",\"linecolor\":\"white\",\"showbackground\":true,\"ticks\":\"\",\"zerolinecolor\":\"white\",\"gridwidth\":2},\"yaxis\":{\"backgroundcolor\":\"#E5ECF6\",\"gridcolor\":\"white\",\"linecolor\":\"white\",\"showbackground\":true,\"ticks\":\"\",\"zerolinecolor\":\"white\",\"gridwidth\":2},\"zaxis\":{\"backgroundcolor\":\"#E5ECF6\",\"gridcolor\":\"white\",\"linecolor\":\"white\",\"showbackground\":true,\"ticks\":\"\",\"zerolinecolor\":\"white\",\"gridwidth\":2}},\"shapedefaults\":{\"line\":{\"color\":\"#2a3f5f\"}},\"annotationdefaults\":{\"arrowcolor\":\"#2a3f5f\",\"arrowhead\":0,\"arrowwidth\":1},\"geo\":{\"bgcolor\":\"white\",\"landcolor\":\"#E5ECF6\",\"subunitcolor\":\"white\",\"showland\":true,\"showlakes\":true,\"lakecolor\":\"white\"},\"title\":{\"x\":0.05},\"mapbox\":{\"style\":\"light\"}}},\"mapbox\":{\"center\":{\"lat\":51.00473791118638,\"lon\":7.1792007548141},\"style\":\"open-street-map\",\"zoom\":11.994442449097702},\"margin\":{\"r\":0,\"t\":0,\"l\":0,\"b\":0},\"showlegend\":false},                        {\"responsive\": true}                    ).then(function(){\n",
       "                            \n",
       "var gd = document.getElementById('71f45844-1ff9-44ce-abf7-53c2dc4475ce');\n",
       "var x = new MutationObserver(function (mutations, observer) {{\n",
       "        var display = window.getComputedStyle(gd).display;\n",
       "        if (!display || display === 'none') {{\n",
       "            console.log([gd, 'removed!']);\n",
       "            Plotly.purge(gd);\n",
       "            observer.disconnect();\n",
       "        }}\n",
       "}});\n",
       "\n",
       "// Listen for the removal of the full notebook cells\n",
       "var notebookContainer = gd.closest('#notebook-container');\n",
       "if (notebookContainer) {{\n",
       "    x.observe(notebookContainer, {childList: true});\n",
       "}}\n",
       "\n",
       "// Listen for the clearing of the current output cell\n",
       "var outputEl = gd.closest('.output');\n",
       "if (outputEl) {{\n",
       "    x.observe(outputEl, {childList: true});\n",
       "}}\n",
       "\n",
       "                        })                };                });            </script>        </div>"
      ]
     },
     "metadata": {},
     "output_type": "display_data"
    }
   ],
   "execution_count": 114
  },
  {
   "metadata": {
    "ExecuteTime": {
     "end_time": "2025-03-07T11:38:33.894998Z",
     "start_time": "2025-03-07T11:38:32.877068Z"
    }
   },
   "cell_type": "code",
   "source": [
    "from pypsdm.models.input.create.participants import create_energy_management_systems\n",
    "\n",
    "em_uuids = [\"74d45b31-c35b-403b-96ac-5210754eb4de\",\"093e03ee-2d38-4e91-9f44-c71d92c07d89\",\"22af972d-19a8-415d-8c0a-50fa1238a7d9\"]\n",
    "\n",
    "data_dict = {\n",
    "    \"uuid\": em_uuids,\n",
    "    \"id\": [\"EMS_NS_02\", \"EMS_NS_03\", \"EMS_NS_04\"],\n",
    "    \"control_strategy\": [\"PRIORITIZED\", \"PRIORITIZED\", \"PRIORITIZED\"],\n",
    "}\n",
    "\n",
    "emss = create_energy_management_systems(data_dict)"
   ],
   "outputs": [],
   "execution_count": 115
  },
  {
   "metadata": {
    "ExecuteTime": {
     "end_time": "2025-03-07T11:38:36.597790Z",
     "start_time": "2025-03-07T11:38:35.254642Z"
    }
   },
   "cell_type": "code",
   "source": [
    "node_0 = \"df97c0d1-379b-417a-a473-8e7fe37da99d\"\n",
    "node_1 = \"6a4547a8-630b-46e4-8144-9cd649e67c07\"\n",
    "node_2 = \"b7a5be0d-2662-41b2-99c6-3b8121a75e9e\"\n",
    "node_3 = \"1dcddd06-f41a-405b-9686-7f7942852196\"\n",
    "node_4 = \"e3c3c6a3-c383-4dbb-9b3f-a14125615386\""
   ],
   "outputs": [],
   "execution_count": 116
  },
  {
   "metadata": {
    "ExecuteTime": {
     "end_time": "2025-03-07T11:38:40.010351Z",
     "start_time": "2025-03-07T11:38:38.820521Z"
    }
   },
   "cell_type": "code",
   "source": [
    "from pypsdm.models.input.create.participants import create_pvs\n",
    "\n",
    "from pypsdm.models.input.participant.pv import PhotovoltaicPowerPlants\n",
    "\n",
    "pv_s_rated = [4, 6, 10]\n",
    "\n",
    "data_dict = {\n",
    "    \"id\": [\"PV_NS_02\", \"PV_NS_03\", \"PV_NS_04\"],\n",
    "    \"node\": [node_2, node_3, node_4],\n",
    "    \"s_rated\": pv_s_rated,\n",
    "    \"azimuth\": [90, 0, -90],\n",
    "    \"elevation_angle\": [40, 45, 30],\n",
    "    \"em\": em_uuids,\n",
    "}\n",
    "\n",
    "pvs = create_pvs(data_dict)"
   ],
   "outputs": [],
   "execution_count": 117
  },
  {
   "metadata": {
    "ExecuteTime": {
     "end_time": "2025-03-07T11:38:42.032128Z",
     "start_time": "2025-03-07T11:38:41.210817Z"
    }
   },
   "cell_type": "code",
   "source": [
    "from pypsdm.models.input.create.participants import create_storages\n",
    "\n",
    "\n",
    "data_dict = {\n",
    "    \"id\": [\"BS_NS_02\", \"BS_NS_03\", \"BS_NS_04\"],\n",
    "    \"node\": [node_2, node_3, node_4],\n",
    "    \"e_storage\": [1.5 * pv_power for pv_power in pv_s_rated],\n",
    "    \"em\": em_uuids,\n",
    "}\n",
    "\n",
    "bs = create_storages(data_dict)"
   ],
   "outputs": [],
   "execution_count": 118
  },
  {
   "metadata": {
    "ExecuteTime": {
     "end_time": "2025-03-07T11:38:43.618646Z",
     "start_time": "2025-03-07T11:38:43.063634Z"
    }
   },
   "cell_type": "code",
   "source": [
    "from pypsdm.models.input.create.participants import create_electric_vehicles\n",
    "from pypsdm.models.input.participant.evs import ElectricVehicles\n",
    "\n",
    "\n",
    "ev_s_rated = [10, 10, 20]\n",
    "data_dict = {\n",
    "    \"id\": [\"EV_NS_02\", \"EV_NS_03\", \"EV_NS_04\"],\n",
    "    \"node\": [node_2, node_3, node_4],\n",
    "    \"s_rated\": ev_s_rated,\n",
    "    \"s_ratedDC\": ev_s_rated,\n",
    "    \"e_storage\": [80, 70, 100],\n",
    "    \"e_cons\": [20, 16, 19],\n",
    "}\n",
    "\n",
    "evs = create_electric_vehicles(data_dict)"
   ],
   "outputs": [],
   "execution_count": 119
  },
  {
   "metadata": {
    "ExecuteTime": {
     "end_time": "2025-03-07T11:38:45.245303Z",
     "start_time": "2025-03-07T11:38:44.548232Z"
    }
   },
   "cell_type": "code",
   "source": [
    "from pypsdm.models.input.create.participants import create_ev_charging_stations\n",
    "from pypsdm.models.input.participant.evcs import EvcsLocationType\n",
    "\n",
    "data_dict = {\n",
    "    \"id\": [\"EVCS_NS_02\", \"EVCS_NS_03\", \"EVCS_NS_04\"],\n",
    "    \"node\": [node_2, node_3, node_4],\n",
    "    \"location_type\": [\n",
    "        EvcsLocationType.HOME.value,\n",
    "        EvcsLocationType.HOME.value,\n",
    "        EvcsLocationType.HOME.value,\n",
    "    ],\n",
    "    \"s_rated\": [10, 10, 10],\n",
    "    \"em\": em_uuids,\n",
    "}\n",
    "\n",
    "evcs = create_ev_charging_stations(data_dict)"
   ],
   "outputs": [],
   "execution_count": 120
  },
  {
   "metadata": {
    "ExecuteTime": {
     "end_time": "2025-03-07T11:38:46.506496Z",
     "start_time": "2025-03-07T11:38:46.047894Z"
    }
   },
   "cell_type": "code",
   "source": "evs.filter_by_nodes(node_2).uuid",
   "outputs": [
    {
     "data": {
      "text/plain": [
       "3df23996-1352-4294-bd33-faeb0216c56a    3df23996-1352-4294-bd33-faeb0216c56a\n",
       "dtype: object"
      ]
     },
     "execution_count": 121,
     "metadata": {},
     "output_type": "execute_result"
    }
   ],
   "execution_count": 121
  },
  {
   "metadata": {
    "ExecuteTime": {
     "end_time": "2025-03-07T11:38:47.666148Z",
     "start_time": "2025-03-07T11:38:47.110105Z"
    }
   },
   "cell_type": "code",
   "source": [
    "from pypsdm.models.input.create.thermal import create_thermal_busses\n",
    "\n",
    "\n",
    "data_dict = {\n",
    "    \"id\": [\"TB_NS_02\", \"TB_NS_03\", \"TB_NS_04\"],\n",
    "}\n",
    "\n",
    "tbs = create_thermal_busses(data_dict)"
   ],
   "outputs": [],
   "execution_count": 122
  },
  {
   "metadata": {
    "ExecuteTime": {
     "end_time": "2025-03-07T11:38:48.827425Z",
     "start_time": "2025-03-07T11:38:47.770227Z"
    }
   },
   "cell_type": "code",
   "source": [
    "from pypsdm.models.input.create.participants import create_heat_pumps\n",
    "\n",
    "\n",
    "data_dict = {\n",
    "    \"id\": [\"HP_NS_02\", \"HP_NS_03\", \"HP_NS_04\"],\n",
    "    \"node\": [node_2, node_3, node_4],\n",
    "    \"thermal_bus\": list(tbs.uuid),\n",
    "    \"s_rated\": [4, 3, 6],\n",
    "    \"em\": em_uuids,\n",
    "}\n",
    "\n",
    "hps = create_heat_pumps(data_dict)"
   ],
   "outputs": [],
   "execution_count": 123
  },
  {
   "metadata": {
    "ExecuteTime": {
     "end_time": "2025-03-07T11:38:49.932748Z",
     "start_time": "2025-03-07T11:38:48.847458Z"
    }
   },
   "cell_type": "code",
   "source": [
    "from pypsdm.models.input.create.thermal import create_thermal_houses\n",
    "\n",
    "\n",
    "data_dict = {\n",
    "    \"thermal_bus\": list(tbs.uuid),\n",
    "    \"id\": [\"TH_NS_02\", \"TH_NS_03\", \"TH_NS_04\"],\n",
    "    \"eth_losses\": [0.101, 0.121, 0.131],\n",
    "    \"eth_capa\": [8.801, 9.121, 12.131],\n",
    "}\n",
    "\n",
    "ths = create_thermal_houses(data_dict)"
   ],
   "outputs": [],
   "execution_count": 124
  },
  {
   "metadata": {
    "ExecuteTime": {
     "end_time": "2025-03-07T11:38:52.765664Z",
     "start_time": "2025-03-07T11:38:51.417762Z"
    }
   },
   "cell_type": "code",
   "source": [
    "from pypsdm.models.input.create.participants import create_loads\n",
    "\n",
    "\n",
    "load_data_dict = {\n",
    "    \"id\": [\"L_NS_02\", \"L_NS_03\", \"L_NS_04\"],\n",
    "    \"node\": [node_2, node_3, node_4],\n",
    "    \"s_rated\": [3, 3, 3],\n",
    "    \"e_cons_annual\": [3000, 3500, 4000],\n",
    "    \"load_profile\": [\"h0\", \"h0\", \"h0\"],\n",
    "    \"em\": em_uuids,\n",
    "}\n",
    "\n",
    "loads = create_loads(load_data_dict)"
   ],
   "outputs": [],
   "execution_count": 125
  },
  {
   "metadata": {
    "ExecuteTime": {
     "end_time": "2025-03-07T11:38:56.004363Z",
     "start_time": "2025-03-07T11:38:54.890698Z"
    }
   },
   "cell_type": "code",
   "source": [
    "from pypsdm.models.input.container.participants import SystemParticipantsContainer\n",
    "from pypsdm.models.input.participant.bm import BiomassPlants\n",
    "from pypsdm.models.input.participant.em import EnergyManagementSystems\n",
    "from pypsdm.models.input.participant.fixed_feed_in import FixedFeedIns\n",
    "from pypsdm.models.input.participant.wec import WindEnergyConverters\n",
    "\n",
    "\n",
    "participants = SystemParticipantsContainer(\n",
    "    ems=EnergyManagementSystems.create_empty(),\n",
    "    loads=loads,\n",
    "    pvs=pvs,\n",
    "    storages=bs,\n",
    "    evs=evs,\n",
    "    evcs=evcs,\n",
    "    hps=hps,\n",
    "    wecs=WindEnergyConverters.create_empty(),\n",
    "    fixed_feed_ins=FixedFeedIns.create_empty(),\n",
    "    biomass_plants=BiomassPlants.create_empty(),\n",
    ")"
   ],
   "outputs": [],
   "execution_count": 126
  },
  {
   "metadata": {
    "ExecuteTime": {
     "end_time": "2025-03-07T11:38:58.196352Z",
     "start_time": "2025-03-07T11:38:57.590767Z"
    }
   },
   "cell_type": "code",
   "source": "node_participants = participants.build_node_participants_map(grid.raw_grid.nodes)",
   "outputs": [],
   "execution_count": 127
  },
  {
   "metadata": {
    "ExecuteTime": {
     "end_time": "2025-03-07T11:38:59.198633Z",
     "start_time": "2025-03-07T11:38:58.775922Z"
    }
   },
   "cell_type": "code",
   "source": [
    "node_connected_assets = {}\n",
    "for node, nodal_participants in node_participants.items():\n",
    "    participant_uuids = []\n",
    "    for current in nodal_participants.to_list():\n",
    "        if isinstance(current, ElectricVehicles):\n",
    "            continue\n",
    "        participant_uuids.extend(list(current.uuid))\n",
    "    node_connected_assets[node] = participant_uuids"
   ],
   "outputs": [],
   "execution_count": 128
  },
  {
   "metadata": {
    "ExecuteTime": {
     "end_time": "2025-03-07T11:39:01.494746Z",
     "start_time": "2025-03-07T11:39:00.287791Z"
    }
   },
   "cell_type": "code",
   "source": [
    "updated_participants = SystemParticipantsContainer(\n",
    "    emss,\n",
    "    participants.loads,\n",
    "    participants.fixed_feed_ins,\n",
    "    participants.pvs,\n",
    "    participants.biomass_plants,\n",
    "    participants.wecs,\n",
    "    participants.storages,\n",
    "    participants.evs,\n",
    "    participants.evcs,\n",
    "    participants.hps,\n",
    ")"
   ],
   "outputs": [],
   "execution_count": 129
  },
  {
   "metadata": {
    "ExecuteTime": {
     "end_time": "2025-03-07T11:39:02.731803Z",
     "start_time": "2025-03-07T11:39:02.264915Z"
    }
   },
   "cell_type": "code",
   "source": [
    "node_participants_map = updated_participants.build_node_participants_map(\n",
    "    grid.raw_grid.nodes\n",
    ")\n",
    "updated_grid = GridContainer(\n",
    "    grid.raw_grid, updated_participants, grid.primary_data, node_participants_map\n",
    ")"
   ],
   "outputs": [],
   "execution_count": 130
  },
  {
   "cell_type": "code",
   "metadata": {
    "ExecuteTime": {
     "end_time": "2025-03-07T11:39:03.576921Z",
     "start_time": "2025-03-07T11:39:03.236002Z"
    }
   },
   "source": [
    "from pypsdm.models.input.thermal.grid import ThermalGridContainer\n",
    "\n",
    "\n",
    "tg = ThermalGridContainer(tbs, ths)"
   ],
   "outputs": [],
   "execution_count": 131
  },
  {
   "metadata": {
    "ExecuteTime": {
     "end_time": "2025-03-07T11:39:04.713088Z",
     "start_time": "2025-03-07T11:39:04.199042Z"
    }
   },
   "cell_type": "code",
   "source": [
    "import os\n",
    "\n",
    "if not os.path.exists(target_grid_path):\n",
    "    os.mkdir(target_grid_path)\n",
    "updated_grid.to_csv(target_grid_path, include_primary_data=False)\n",
    "tg.to_csv(target_grid_path)"
   ],
   "outputs": [
    {
     "name": "stderr",
     "output_type": "stream",
     "text": [
      "\u001B[32m2025-03-07 12:39:04.690\u001B[0m | \u001B[31m\u001B[1mERROR   \u001B[0m | \u001B[36mpypsdm.models.input.container.mixins\u001B[0m:\u001B[36mto_csv\u001B[0m:\u001B[36m52\u001B[0m - \u001B[31m\u001B[1mCould not write <class 'pypsdm.models.input.participant.hp.HeatPumps'> to ./simple_grid. Error: \"['em'] not in index\"\u001B[0m\n"
     ]
    }
   ],
   "execution_count": 132
  },
  {
   "cell_type": "markdown",
   "metadata": {},
   "source": [
    "# EV Mobility Points of Interest"
   ]
  },
  {
   "cell_type": "code",
   "metadata": {
    "ExecuteTime": {
     "end_time": "2025-03-07T11:39:05.573695Z",
     "start_time": "2025-03-07T11:39:05.250162Z"
    }
   },
   "source": [
    "import pandas as pd\n",
    "\n",
    "public_pois = pd.read_csv(\"./resources/public_pois.csv\", index_col=\"uuid\")"
   ],
   "outputs": [],
   "execution_count": 133
  },
  {
   "cell_type": "code",
   "metadata": {
    "ExecuteTime": {
     "end_time": "2025-03-07T11:39:06.521994Z",
     "start_time": "2025-03-07T11:39:06.081659Z"
    }
   },
   "source": [
    "from pypsdm.models.input.create.poi import create_poi_mapping\n",
    "\n",
    "\n",
    "pois, poi_mappings = create_poi_mapping(updated_grid, public_pois)\n",
    "\n",
    "poi_mappings"
   ],
   "outputs": [
    {
     "data": {
      "text/plain": [
       "                                    poi                                  evcs  \\\n",
       "0  32c15dfa-708c-4477-84b1-347f5e7c488b  ad6fc174-4d33-4230-825f-181a78dc5a72   \n",
       "0  e64f457f-d131-49c3-b8c4-3f72ea8b345e  dd8e8e8c-80aa-4bcc-adc0-f3323cdc460b   \n",
       "0  e6bd89d6-7a51-4c70-8c5a-7e21e5d18e48  827c6b69-a9b0-4e84-a6f1-5303cfed2baf   \n",
       "\n",
       "                                     evs  \n",
       "0  3df23996-1352-4294-bd33-faeb0216c56a   \n",
       "0  9f7809ac-e2c0-4f5f-82cf-afd9da6c44e4   \n",
       "0  c84895f6-8871-4427-92ab-8bfaf47e9a96   "
      ],
      "text/html": [
       "<div>\n",
       "<style scoped>\n",
       "    .dataframe tbody tr th:only-of-type {\n",
       "        vertical-align: middle;\n",
       "    }\n",
       "\n",
       "    .dataframe tbody tr th {\n",
       "        vertical-align: top;\n",
       "    }\n",
       "\n",
       "    .dataframe thead th {\n",
       "        text-align: right;\n",
       "    }\n",
       "</style>\n",
       "<table border=\"1\" class=\"dataframe\">\n",
       "  <thead>\n",
       "    <tr style=\"text-align: right;\">\n",
       "      <th></th>\n",
       "      <th>poi</th>\n",
       "      <th>evcs</th>\n",
       "      <th>evs</th>\n",
       "    </tr>\n",
       "  </thead>\n",
       "  <tbody>\n",
       "    <tr>\n",
       "      <th>0</th>\n",
       "      <td>32c15dfa-708c-4477-84b1-347f5e7c488b</td>\n",
       "      <td>ad6fc174-4d33-4230-825f-181a78dc5a72</td>\n",
       "      <td>3df23996-1352-4294-bd33-faeb0216c56a</td>\n",
       "    </tr>\n",
       "    <tr>\n",
       "      <th>0</th>\n",
       "      <td>e64f457f-d131-49c3-b8c4-3f72ea8b345e</td>\n",
       "      <td>dd8e8e8c-80aa-4bcc-adc0-f3323cdc460b</td>\n",
       "      <td>9f7809ac-e2c0-4f5f-82cf-afd9da6c44e4</td>\n",
       "    </tr>\n",
       "    <tr>\n",
       "      <th>0</th>\n",
       "      <td>e6bd89d6-7a51-4c70-8c5a-7e21e5d18e48</td>\n",
       "      <td>827c6b69-a9b0-4e84-a6f1-5303cfed2baf</td>\n",
       "      <td>c84895f6-8871-4427-92ab-8bfaf47e9a96</td>\n",
       "    </tr>\n",
       "  </tbody>\n",
       "</table>\n",
       "</div>"
      ]
     },
     "execution_count": 134,
     "metadata": {},
     "output_type": "execute_result"
    }
   ],
   "execution_count": 134
  },
  {
   "cell_type": "code",
   "metadata": {
    "ExecuteTime": {
     "end_time": "2025-03-07T11:39:08.183802Z",
     "start_time": "2025-03-07T11:39:07.612355Z"
    }
   },
   "source": [
    "import os\n",
    "\n",
    "\n",
    "pois_path = os.path.join(target_grid_path, \"pois\")\n",
    "if not os.path.exists(pois_path):\n",
    "    os.mkdir(pois_path)\n",
    "pois.to_csv(pois_path + \"/poi.csv\", index_label=\"uuid\")\n",
    "poi_mappings.to_csv(pois_path + \"/pois_mapping.csv\", index=False)"
   ],
   "outputs": [],
   "execution_count": 135
  }
 ],
 "metadata": {
  "kernelspec": {
   "display_name": "psdm-analysis-lyhN3xw_-py3.10",
   "language": "python",
   "name": "python3"
  },
  "language_info": {
   "codemirror_mode": {
    "name": "ipython",
    "version": 3
   },
   "file_extension": ".py",
   "mimetype": "text/x-python",
   "name": "python",
   "nbconvert_exporter": "python",
   "pygments_lexer": "ipython3",
   "version": "3.11.5"
  },
  "orig_nbformat": 4
 },
 "nbformat": 4,
 "nbformat_minor": 2
}
