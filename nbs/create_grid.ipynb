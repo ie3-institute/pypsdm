{
 "cells": [
  {
   "cell_type": "code",
   "execution_count": 300,
   "metadata": {},
   "outputs": [
    {
     "name": "stdout",
     "output_type": "stream",
     "text": [
      "The autoreload extension is already loaded. To reload it, use:\n",
      "  %reload_ext autoreload\n"
     ]
    }
   ],
   "source": [
    "%load_ext autoreload\n",
    "%autoreload 2"
   ]
  },
  {
   "cell_type": "code",
   "execution_count": 301,
   "metadata": {},
   "outputs": [],
   "source": [
    "from psdm_analysis.io.utils import get_absolute_path_from_project_root, get_absolute_path_from_working_dir\n",
    "from psdm_analysis.models.input.container.grid import GridContainer\n",
    "\n",
    "\n",
    "grid_path = \"./simple_raw_grid\"\n",
    "sep = \",\"\n",
    "grid = GridContainer.from_csv(\n",
    "    grid_path,\n",
    "    sep\n",
    ")"
   ]
  },
  {
   "cell_type": "code",
   "execution_count": 303,
   "metadata": {},
   "outputs": [
    {
     "data": {
      "application/vnd.plotly.v1+json": {
       "config": {
        "plotlyServerURL": "https://plot.ly"
       },
       "data": [
        {
         "hoverinfo": "skip",
         "lat": [
          51.00473924277929,
          51.00474261837189
         ],
         "line": {
          "color": "#2ca02c"
         },
         "lon": [
          7.178732983051468,
          7.18043886801018
         ],
         "mode": "lines",
         "type": "scattermapbox"
        },
        {
         "hoverinfo": "text",
         "hovertext": "LTG_NS_02-NS_03",
         "lat": [
          51.00474093057559
         ],
         "lon": [
          7.179585925530824
         ],
         "marker": {
          "color": "#2ca02c",
          "opacity": 0,
          "size": 0
         },
         "mode": "markers",
         "type": "scattermapbox"
        },
        {
         "hoverinfo": "skip",
         "lat": [
          51.00474261837189,
          51.00442531159225
         ],
         "line": {
          "color": "#2ca02c"
         },
         "lon": [
          7.18043886801018,
          7.1826490082711505
         ],
         "mode": "lines",
         "type": "scattermapbox"
        },
        {
         "hoverinfo": "text",
         "hovertext": "LTG_NS_03-NS_04",
         "lat": [
          51.004583964982075
         ],
         "lon": [
          7.181543938140665
         ],
         "marker": {
          "color": "#2ca02c",
          "opacity": 0,
          "size": 0
         },
         "mode": "markers",
         "type": "scattermapbox"
        },
        {
         "hoverinfo": "skip",
         "lat": [
          51.00489119159423,
          51.00473924277929
         ],
         "line": {
          "color": "#2ca02c"
         },
         "lon": [
          7.177091457368853,
          7.178732983051468
         ],
         "mode": "lines",
         "type": "scattermapbox"
        },
        {
         "hoverinfo": "text",
         "hovertext": "LTG_NS_01-NS_02",
         "lat": [
          51.00481521718676
         ],
         "lon": [
          7.17791222021016
         ],
         "marker": {
          "color": "#2ca02c",
          "opacity": 0,
          "size": 0
         },
         "mode": "markers",
         "type": "scattermapbox"
        },
        {
         "hoverinfo": "text",
         "hovertext": [
          "MS_01<br>",
          "NS_01<br>",
          "NS_02<br>",
          "NS_03<br>",
          "NS_04<br>"
         ],
         "lat": [
          51.00489119159423,
          51.00489119159423,
          51.00473924277929,
          51.00474261837189,
          51.00442531159225
         ],
         "lon": [
          7.177091457368853,
          7.177091457368853,
          7.178732983051468,
          7.18043886801018,
          7.1826490082711505
         ],
         "marker": {
          "color": "#1f77b4",
          "size": 6
         },
         "mode": "markers",
         "text": [
          "MS_01<br>",
          "NS_01<br>",
          "NS_02<br>",
          "NS_03<br>",
          "NS_04<br>"
         ],
         "type": "scattermapbox"
        }
       ],
       "layout": {
        "mapbox": {
         "center": {
          "lat": 51.00473791118638,
          "lon": 7.1792007548141
         },
         "style": "open-street-map",
         "zoom": 11.994442449097702
        },
        "margin": {
         "b": 0,
         "l": 0,
         "r": 0,
         "t": 0
        },
        "showlegend": false,
        "template": {
         "data": {
          "bar": [
           {
            "error_x": {
             "color": "#2a3f5f"
            },
            "error_y": {
             "color": "#2a3f5f"
            },
            "marker": {
             "line": {
              "color": "#E5ECF6",
              "width": 0.5
             },
             "pattern": {
              "fillmode": "overlay",
              "size": 10,
              "solidity": 0.2
             }
            },
            "type": "bar"
           }
          ],
          "barpolar": [
           {
            "marker": {
             "line": {
              "color": "#E5ECF6",
              "width": 0.5
             },
             "pattern": {
              "fillmode": "overlay",
              "size": 10,
              "solidity": 0.2
             }
            },
            "type": "barpolar"
           }
          ],
          "carpet": [
           {
            "aaxis": {
             "endlinecolor": "#2a3f5f",
             "gridcolor": "white",
             "linecolor": "white",
             "minorgridcolor": "white",
             "startlinecolor": "#2a3f5f"
            },
            "baxis": {
             "endlinecolor": "#2a3f5f",
             "gridcolor": "white",
             "linecolor": "white",
             "minorgridcolor": "white",
             "startlinecolor": "#2a3f5f"
            },
            "type": "carpet"
           }
          ],
          "choropleth": [
           {
            "colorbar": {
             "outlinewidth": 0,
             "ticks": ""
            },
            "type": "choropleth"
           }
          ],
          "contour": [
           {
            "colorbar": {
             "outlinewidth": 0,
             "ticks": ""
            },
            "colorscale": [
             [
              0,
              "#0d0887"
             ],
             [
              0.1111111111111111,
              "#46039f"
             ],
             [
              0.2222222222222222,
              "#7201a8"
             ],
             [
              0.3333333333333333,
              "#9c179e"
             ],
             [
              0.4444444444444444,
              "#bd3786"
             ],
             [
              0.5555555555555556,
              "#d8576b"
             ],
             [
              0.6666666666666666,
              "#ed7953"
             ],
             [
              0.7777777777777778,
              "#fb9f3a"
             ],
             [
              0.8888888888888888,
              "#fdca26"
             ],
             [
              1,
              "#f0f921"
             ]
            ],
            "type": "contour"
           }
          ],
          "contourcarpet": [
           {
            "colorbar": {
             "outlinewidth": 0,
             "ticks": ""
            },
            "type": "contourcarpet"
           }
          ],
          "heatmap": [
           {
            "colorbar": {
             "outlinewidth": 0,
             "ticks": ""
            },
            "colorscale": [
             [
              0,
              "#0d0887"
             ],
             [
              0.1111111111111111,
              "#46039f"
             ],
             [
              0.2222222222222222,
              "#7201a8"
             ],
             [
              0.3333333333333333,
              "#9c179e"
             ],
             [
              0.4444444444444444,
              "#bd3786"
             ],
             [
              0.5555555555555556,
              "#d8576b"
             ],
             [
              0.6666666666666666,
              "#ed7953"
             ],
             [
              0.7777777777777778,
              "#fb9f3a"
             ],
             [
              0.8888888888888888,
              "#fdca26"
             ],
             [
              1,
              "#f0f921"
             ]
            ],
            "type": "heatmap"
           }
          ],
          "heatmapgl": [
           {
            "colorbar": {
             "outlinewidth": 0,
             "ticks": ""
            },
            "colorscale": [
             [
              0,
              "#0d0887"
             ],
             [
              0.1111111111111111,
              "#46039f"
             ],
             [
              0.2222222222222222,
              "#7201a8"
             ],
             [
              0.3333333333333333,
              "#9c179e"
             ],
             [
              0.4444444444444444,
              "#bd3786"
             ],
             [
              0.5555555555555556,
              "#d8576b"
             ],
             [
              0.6666666666666666,
              "#ed7953"
             ],
             [
              0.7777777777777778,
              "#fb9f3a"
             ],
             [
              0.8888888888888888,
              "#fdca26"
             ],
             [
              1,
              "#f0f921"
             ]
            ],
            "type": "heatmapgl"
           }
          ],
          "histogram": [
           {
            "marker": {
             "pattern": {
              "fillmode": "overlay",
              "size": 10,
              "solidity": 0.2
             }
            },
            "type": "histogram"
           }
          ],
          "histogram2d": [
           {
            "colorbar": {
             "outlinewidth": 0,
             "ticks": ""
            },
            "colorscale": [
             [
              0,
              "#0d0887"
             ],
             [
              0.1111111111111111,
              "#46039f"
             ],
             [
              0.2222222222222222,
              "#7201a8"
             ],
             [
              0.3333333333333333,
              "#9c179e"
             ],
             [
              0.4444444444444444,
              "#bd3786"
             ],
             [
              0.5555555555555556,
              "#d8576b"
             ],
             [
              0.6666666666666666,
              "#ed7953"
             ],
             [
              0.7777777777777778,
              "#fb9f3a"
             ],
             [
              0.8888888888888888,
              "#fdca26"
             ],
             [
              1,
              "#f0f921"
             ]
            ],
            "type": "histogram2d"
           }
          ],
          "histogram2dcontour": [
           {
            "colorbar": {
             "outlinewidth": 0,
             "ticks": ""
            },
            "colorscale": [
             [
              0,
              "#0d0887"
             ],
             [
              0.1111111111111111,
              "#46039f"
             ],
             [
              0.2222222222222222,
              "#7201a8"
             ],
             [
              0.3333333333333333,
              "#9c179e"
             ],
             [
              0.4444444444444444,
              "#bd3786"
             ],
             [
              0.5555555555555556,
              "#d8576b"
             ],
             [
              0.6666666666666666,
              "#ed7953"
             ],
             [
              0.7777777777777778,
              "#fb9f3a"
             ],
             [
              0.8888888888888888,
              "#fdca26"
             ],
             [
              1,
              "#f0f921"
             ]
            ],
            "type": "histogram2dcontour"
           }
          ],
          "mesh3d": [
           {
            "colorbar": {
             "outlinewidth": 0,
             "ticks": ""
            },
            "type": "mesh3d"
           }
          ],
          "parcoords": [
           {
            "line": {
             "colorbar": {
              "outlinewidth": 0,
              "ticks": ""
             }
            },
            "type": "parcoords"
           }
          ],
          "pie": [
           {
            "automargin": true,
            "type": "pie"
           }
          ],
          "scatter": [
           {
            "fillpattern": {
             "fillmode": "overlay",
             "size": 10,
             "solidity": 0.2
            },
            "type": "scatter"
           }
          ],
          "scatter3d": [
           {
            "line": {
             "colorbar": {
              "outlinewidth": 0,
              "ticks": ""
             }
            },
            "marker": {
             "colorbar": {
              "outlinewidth": 0,
              "ticks": ""
             }
            },
            "type": "scatter3d"
           }
          ],
          "scattercarpet": [
           {
            "marker": {
             "colorbar": {
              "outlinewidth": 0,
              "ticks": ""
             }
            },
            "type": "scattercarpet"
           }
          ],
          "scattergeo": [
           {
            "marker": {
             "colorbar": {
              "outlinewidth": 0,
              "ticks": ""
             }
            },
            "type": "scattergeo"
           }
          ],
          "scattergl": [
           {
            "marker": {
             "colorbar": {
              "outlinewidth": 0,
              "ticks": ""
             }
            },
            "type": "scattergl"
           }
          ],
          "scattermapbox": [
           {
            "marker": {
             "colorbar": {
              "outlinewidth": 0,
              "ticks": ""
             }
            },
            "type": "scattermapbox"
           }
          ],
          "scatterpolar": [
           {
            "marker": {
             "colorbar": {
              "outlinewidth": 0,
              "ticks": ""
             }
            },
            "type": "scatterpolar"
           }
          ],
          "scatterpolargl": [
           {
            "marker": {
             "colorbar": {
              "outlinewidth": 0,
              "ticks": ""
             }
            },
            "type": "scatterpolargl"
           }
          ],
          "scatterternary": [
           {
            "marker": {
             "colorbar": {
              "outlinewidth": 0,
              "ticks": ""
             }
            },
            "type": "scatterternary"
           }
          ],
          "surface": [
           {
            "colorbar": {
             "outlinewidth": 0,
             "ticks": ""
            },
            "colorscale": [
             [
              0,
              "#0d0887"
             ],
             [
              0.1111111111111111,
              "#46039f"
             ],
             [
              0.2222222222222222,
              "#7201a8"
             ],
             [
              0.3333333333333333,
              "#9c179e"
             ],
             [
              0.4444444444444444,
              "#bd3786"
             ],
             [
              0.5555555555555556,
              "#d8576b"
             ],
             [
              0.6666666666666666,
              "#ed7953"
             ],
             [
              0.7777777777777778,
              "#fb9f3a"
             ],
             [
              0.8888888888888888,
              "#fdca26"
             ],
             [
              1,
              "#f0f921"
             ]
            ],
            "type": "surface"
           }
          ],
          "table": [
           {
            "cells": {
             "fill": {
              "color": "#EBF0F8"
             },
             "line": {
              "color": "white"
             }
            },
            "header": {
             "fill": {
              "color": "#C8D4E3"
             },
             "line": {
              "color": "white"
             }
            },
            "type": "table"
           }
          ]
         },
         "layout": {
          "annotationdefaults": {
           "arrowcolor": "#2a3f5f",
           "arrowhead": 0,
           "arrowwidth": 1
          },
          "autotypenumbers": "strict",
          "coloraxis": {
           "colorbar": {
            "outlinewidth": 0,
            "ticks": ""
           }
          },
          "colorscale": {
           "diverging": [
            [
             0,
             "#8e0152"
            ],
            [
             0.1,
             "#c51b7d"
            ],
            [
             0.2,
             "#de77ae"
            ],
            [
             0.3,
             "#f1b6da"
            ],
            [
             0.4,
             "#fde0ef"
            ],
            [
             0.5,
             "#f7f7f7"
            ],
            [
             0.6,
             "#e6f5d0"
            ],
            [
             0.7,
             "#b8e186"
            ],
            [
             0.8,
             "#7fbc41"
            ],
            [
             0.9,
             "#4d9221"
            ],
            [
             1,
             "#276419"
            ]
           ],
           "sequential": [
            [
             0,
             "#0d0887"
            ],
            [
             0.1111111111111111,
             "#46039f"
            ],
            [
             0.2222222222222222,
             "#7201a8"
            ],
            [
             0.3333333333333333,
             "#9c179e"
            ],
            [
             0.4444444444444444,
             "#bd3786"
            ],
            [
             0.5555555555555556,
             "#d8576b"
            ],
            [
             0.6666666666666666,
             "#ed7953"
            ],
            [
             0.7777777777777778,
             "#fb9f3a"
            ],
            [
             0.8888888888888888,
             "#fdca26"
            ],
            [
             1,
             "#f0f921"
            ]
           ],
           "sequentialminus": [
            [
             0,
             "#0d0887"
            ],
            [
             0.1111111111111111,
             "#46039f"
            ],
            [
             0.2222222222222222,
             "#7201a8"
            ],
            [
             0.3333333333333333,
             "#9c179e"
            ],
            [
             0.4444444444444444,
             "#bd3786"
            ],
            [
             0.5555555555555556,
             "#d8576b"
            ],
            [
             0.6666666666666666,
             "#ed7953"
            ],
            [
             0.7777777777777778,
             "#fb9f3a"
            ],
            [
             0.8888888888888888,
             "#fdca26"
            ],
            [
             1,
             "#f0f921"
            ]
           ]
          },
          "colorway": [
           "#636efa",
           "#EF553B",
           "#00cc96",
           "#ab63fa",
           "#FFA15A",
           "#19d3f3",
           "#FF6692",
           "#B6E880",
           "#FF97FF",
           "#FECB52"
          ],
          "font": {
           "color": "#2a3f5f"
          },
          "geo": {
           "bgcolor": "white",
           "lakecolor": "white",
           "landcolor": "#E5ECF6",
           "showlakes": true,
           "showland": true,
           "subunitcolor": "white"
          },
          "hoverlabel": {
           "align": "left"
          },
          "hovermode": "closest",
          "mapbox": {
           "style": "light"
          },
          "paper_bgcolor": "white",
          "plot_bgcolor": "#E5ECF6",
          "polar": {
           "angularaxis": {
            "gridcolor": "white",
            "linecolor": "white",
            "ticks": ""
           },
           "bgcolor": "#E5ECF6",
           "radialaxis": {
            "gridcolor": "white",
            "linecolor": "white",
            "ticks": ""
           }
          },
          "scene": {
           "xaxis": {
            "backgroundcolor": "#E5ECF6",
            "gridcolor": "white",
            "gridwidth": 2,
            "linecolor": "white",
            "showbackground": true,
            "ticks": "",
            "zerolinecolor": "white"
           },
           "yaxis": {
            "backgroundcolor": "#E5ECF6",
            "gridcolor": "white",
            "gridwidth": 2,
            "linecolor": "white",
            "showbackground": true,
            "ticks": "",
            "zerolinecolor": "white"
           },
           "zaxis": {
            "backgroundcolor": "#E5ECF6",
            "gridcolor": "white",
            "gridwidth": 2,
            "linecolor": "white",
            "showbackground": true,
            "ticks": "",
            "zerolinecolor": "white"
           }
          },
          "shapedefaults": {
           "line": {
            "color": "#2a3f5f"
           }
          },
          "ternary": {
           "aaxis": {
            "gridcolor": "white",
            "linecolor": "white",
            "ticks": ""
           },
           "baxis": {
            "gridcolor": "white",
            "linecolor": "white",
            "ticks": ""
           },
           "bgcolor": "#E5ECF6",
           "caxis": {
            "gridcolor": "white",
            "linecolor": "white",
            "ticks": ""
           }
          },
          "title": {
           "x": 0.05
          },
          "xaxis": {
           "automargin": true,
           "gridcolor": "white",
           "linecolor": "white",
           "ticks": "",
           "title": {
            "standoff": 15
           },
           "zerolinecolor": "white",
           "zerolinewidth": 2
          },
          "yaxis": {
           "automargin": true,
           "gridcolor": "white",
           "linecolor": "white",
           "ticks": "",
           "title": {
            "standoff": 15
           },
           "zerolinecolor": "white",
           "zerolinewidth": 2
          }
         }
        }
       }
      }
     },
     "metadata": {},
     "output_type": "display_data"
    }
   ],
   "source": [
    "from psdm_analysis.plots.grid import grid_plot\n",
    "\n",
    "\n",
    "grid_plot(grid)"
   ]
  },
  {
   "cell_type": "code",
   "execution_count": 304,
   "metadata": {},
   "outputs": [],
   "source": [
    "node_0 = \"df97c0d1-379b-417a-a473-8e7fe37da99d\"\n",
    "node_1 = \"6a4547a8-630b-46e4-8144-9cd649e67c07\"\n",
    "node_2 = \"b7a5be0d-2662-41b2-99c6-3b8121a75e9e\"\n",
    "node_3 = \"1dcddd06-f41a-405b-9686-7f7942852196\"\n",
    "node_4 = \"e3c3c6a3-c383-4dbb-9b3f-a14125615386\""
   ]
  },
  {
   "cell_type": "code",
   "execution_count": 305,
   "metadata": {},
   "outputs": [],
   "source": [
    "from uuid import uuid4\n",
    "from psdm_analysis.models.input.create.participants import create_pvs\n",
    "\n",
    "from psdm_analysis.models.input.participant.pv import PhotovoltaicPowerPlants\n",
    "\n",
    "pv_s_rated = [4, 6, 10]\n",
    "\n",
    "data_dict = {\n",
    "    \"id\": [\"PV_NS_02\", \"PV_NS_03\", \"PV_NS_04\"],\n",
    "\t\"node\": [node_2, node_3, node_4],\n",
    "    \"s_rated\": pv_s_rated,\n",
    "\t\"azimuth\": [90, 0, -90],\n",
    "\t\"elevation_angle\": [40 , 45, 30]\n",
    "}\n",
    "\n",
    "pvs = create_pvs(data_dict)"
   ]
  },
  {
   "cell_type": "code",
   "execution_count": 306,
   "metadata": {},
   "outputs": [],
   "source": [
    "from re import I\n",
    "from psdm_analysis.models.input.create.participants import create_storages\n",
    "\n",
    "\n",
    "data_dict = {\n",
    "    \"id\": [\"BS_NS_02\", \"BS_NS_03\", \"BS_NS_04\"],\n",
    "    \"node\": [node_2, node_3, node_4],\n",
    "    \"e_storage\": [1.5 * pv_power for pv_power in pv_s_rated],\n",
    "}\n",
    "\n",
    "bs = create_storages(data_dict)"
   ]
  },
  {
   "cell_type": "code",
   "execution_count": 307,
   "metadata": {},
   "outputs": [],
   "source": [
    "from psdm_analysis.models.input.create.participants import create_electric_vehicles\n",
    "from psdm_analysis.models.input.participant.evs import ElectricVehicles\n",
    "\n",
    "\n",
    "ev_s_rated = [10, 10, 20]\n",
    "data_dict = {\n",
    "\t\"id\": [\"EV_NS_02\", \"EV_NS_03\", \"EV_NS_04\"],\n",
    "\t\"node\": [node_2, node_3, node_4],\n",
    "\t\"s_rated\": ev_s_rated,\n",
    "\t\"e_storage\": [80, 70, 100],\n",
    "\t\"e_cons\": [20, 16, 19],\n",
    "}\n",
    "\n",
    "evs = create_electric_vehicles(data_dict)"
   ]
  },
  {
   "cell_type": "code",
   "execution_count": 308,
   "metadata": {},
   "outputs": [],
   "source": [
    "from pipes import Template\n",
    "from psdm_analysis.models.enums import ElectricCurrentType\n",
    "from psdm_analysis.models.input.create.participants import create_ev_charging_stations\n",
    "from psdm_analysis.models.input.participant.evcs import EvChargingStations, EvcsLocationType\n",
    "from string import Template\n",
    "\n",
    "data_dict = {\n",
    "    \"id\": [\"EVCS_NS_02\", \"EVCS_NS_03\", \"EVCS_NS_04\"],\n",
    "    \"node\": [node_2, node_3, node_4],\n",
    "    \"location_type\": [EvcsLocationType.HOME.value, EvcsLocationType.HOME.value, EvcsLocationType.HOME.value],\n",
    "\t\"s_rated\": [10, 10, 10],\n",
    "}\n",
    "\n",
    "evcs = create_ev_charging_stations(data_dict)"
   ]
  },
  {
   "cell_type": "code",
   "execution_count": 309,
   "metadata": {},
   "outputs": [
    {
     "data": {
      "text/plain": [
       "Index(['7d81b25b-1f2d-447e-a0e4-5396a849b4ea'], dtype='object')"
      ]
     },
     "execution_count": 309,
     "metadata": {},
     "output_type": "execute_result"
    }
   ],
   "source": [
    "evs.filter_by_nodes(node_2).uuid"
   ]
  },
  {
   "cell_type": "code",
   "execution_count": 310,
   "metadata": {},
   "outputs": [],
   "source": [
    "from psdm_analysis.models.input.create.thermal import create_thermal_busses\n",
    "\n",
    "\n",
    "data_dict = {\n",
    "    \"id\": [\"TB_NS_02\", \"TB_NS_03\", \"TB_NS_04\"],\n",
    "}\n",
    "\n",
    "tbs = create_thermal_busses(data_dict)"
   ]
  },
  {
   "cell_type": "code",
   "execution_count": 311,
   "metadata": {},
   "outputs": [],
   "source": [
    "from psdm_analysis.models.input.create.participants import create_heat_pumps\n",
    "\n",
    "\n",
    "data_dict = {\n",
    "    \"id\": [\"HP_NS_02\", \"HP_NS_03\", \"HP_NS_04\"],\n",
    "    \"node\": [node_2, node_3, node_4],\n",
    "    \"thermal_bus\": list(tbs.uuid),\n",
    "    \"s_rated\": [4, 3, 6],\n",
    "}\n",
    "\n",
    "hps = create_heat_pumps(data_dict)"
   ]
  },
  {
   "cell_type": "code",
   "execution_count": 312,
   "metadata": {},
   "outputs": [],
   "source": [
    "from psdm_analysis.models.input.create.thermal import create_thermal_houses\n",
    "\n",
    "\n",
    "data_dict = {\n",
    "    \"thermal_bus\": list(tbs.uuid),\n",
    "    \"id\": [\"TH_NS_02\", \"TH_NS_03\", \"TH_NS_04\"],\n",
    "    \"eth_losses\": [0.101, 0.121, 0.131],\n",
    "    \"eth_capa\": [8.801, 9.121, 12.131],\n",
    "}\n",
    "\n",
    "ths = create_thermal_houses(data_dict)"
   ]
  },
  {
   "cell_type": "code",
   "execution_count": 313,
   "metadata": {},
   "outputs": [],
   "source": [
    "from psdm_analysis.models.input.create.participants import create_loads\n",
    "\n",
    "\n",
    "load_data_dict = {\n",
    "\t\"id\": [\"L_NS_02\", \"L_NS_03\", \"L_NS_04\"],\n",
    "\t\"node\": [node_2, node_3, node_4],\n",
    "    \"s_rated\": [3, 3, 3],\n",
    "\t\"e_cons_annual\": [3000, 3500, 4000],\n",
    "\t\"load_profile\": [\"h0\", \"h0\", \"h0\"]\n",
    "}\n",
    "\n",
    "loads = create_loads(load_data_dict)"
   ]
  },
  {
   "cell_type": "code",
   "execution_count": 314,
   "metadata": {},
   "outputs": [],
   "source": [
    "from psdm_analysis.models.input.container.participants import SystemParticipantsContainer\n",
    "from psdm_analysis.models.input.participant.bm import BiomassPlants\n",
    "from psdm_analysis.models.input.participant.em import EnergyManagementSystems\n",
    "from psdm_analysis.models.input.participant.fixed_feed_in import FixedFeedIns\n",
    "from psdm_analysis.models.input.participant.load import Loads\n",
    "from psdm_analysis.models.input.participant.wec import WindEnergyConverters\n",
    "\n",
    "\n",
    "participants = SystemParticipantsContainer(\n",
    "    ems = EnergyManagementSystems.create_empty(),\n",
    "    loads = loads,\n",
    "    pvs = pvs,\n",
    "    storages = bs,\n",
    "    evs = evs,\n",
    "    evcs = evcs,\n",
    "    hps = hps, \n",
    "    wecs = WindEnergyConverters.create_empty(),\n",
    "    fixed_feed_ins= FixedFeedIns.create_empty(),\n",
    "    biomass_plants=BiomassPlants.create_empty(),\n",
    ")"
   ]
  },
  {
   "cell_type": "code",
   "execution_count": 315,
   "metadata": {},
   "outputs": [],
   "source": [
    "node_participants = participants.build_node_participants_map(grid.raw_grid.nodes)"
   ]
  },
  {
   "cell_type": "code",
   "execution_count": 316,
   "metadata": {},
   "outputs": [],
   "source": [
    "node_connected_assets = {}\n",
    "for node, nodal_participants in node_participants.items():\n",
    "    participant_uuids = []\n",
    "    for current in nodal_participants.to_list():\n",
    "        if isinstance(current, ElectricVehicles):\n",
    "            continue\n",
    "        participant_uuids.extend(list(current.uuid))\n",
    "    node_connected_assets[node] = participant_uuids"
   ]
  },
  {
   "cell_type": "code",
   "execution_count": 317,
   "metadata": {},
   "outputs": [],
   "source": [
    "\n",
    "from psdm_analysis.models.input.create.participants import create_energy_management_systems\n",
    "\n",
    "\n",
    "data_dict = {\n",
    "    \"id\": [\"EMS_NS_02\", \"EMS_NS_03\", \"EMS_NS_04\"],\n",
    "    \"node\": [node_2, node_3, node_4],\n",
    "\t\"connected_assets\": [node_connected_assets[node] for node in [node_2, node_3, node_4]],\n",
    "\t\"control_strategy\": [\"self_optimization\", \"self_optimization\", \"self_optimization\"]\n",
    "}\n",
    "\n",
    "emss = create_energy_management_systems(data_dict)"
   ]
  },
  {
   "cell_type": "code",
   "execution_count": 318,
   "metadata": {},
   "outputs": [],
   "source": [
    "updated_participants = SystemParticipantsContainer(\n",
    "    emss,\n",
    "    participants.loads,\n",
    "    participants.fixed_feed_ins,\n",
    "    participants.pvs,\n",
    "    participants.biomass_plants,\n",
    "    participants.wecs,\n",
    "    participants.storages,\n",
    "    participants.evs,\n",
    "    participants.evcs,\n",
    "    participants.hps,\n",
    ")"
   ]
  },
  {
   "cell_type": "code",
   "execution_count": 319,
   "metadata": {},
   "outputs": [],
   "source": [
    "node_participants_map = updated_participants.build_node_participants_map(grid.raw_grid.nodes)\n",
    "updated_grid = GridContainer(\n",
    "    grid.raw_grid,\n",
    "    updated_participants,\n",
    "    grid.primary_data,\n",
    "    node_participants_map\n",
    ")"
   ]
  },
  {
   "cell_type": "code",
   "execution_count": 320,
   "metadata": {},
   "outputs": [],
   "source": [
    "from psdm_analysis.models.input.thermal.grid import ThermalGridContainer\n",
    "\n",
    "\n",
    "tg = ThermalGridContainer(\n",
    "    tbs,\n",
    "    ths\n",
    ")"
   ]
  },
  {
   "cell_type": "code",
   "execution_count": 321,
   "metadata": {},
   "outputs": [],
   "source": [
    "updated_grid.to_csv(target_grid_path, include_primary_data=False)\n",
    "tg.to_csv(target_grid_path)"
   ]
  },
  {
   "cell_type": "markdown",
   "metadata": {},
   "source": [
    "# EV Mobility Points of Interest"
   ]
  },
  {
   "cell_type": "code",
   "execution_count": 322,
   "metadata": {},
   "outputs": [
    {
     "data": {
      "text/html": [
       "<div>\n",
       "<style scoped>\n",
       "    .dataframe tbody tr th:only-of-type {\n",
       "        vertical-align: middle;\n",
       "    }\n",
       "\n",
       "    .dataframe tbody tr th {\n",
       "        vertical-align: top;\n",
       "    }\n",
       "\n",
       "    .dataframe thead th {\n",
       "        text-align: right;\n",
       "    }\n",
       "</style>\n",
       "<table border=\"1\" class=\"dataframe\">\n",
       "  <thead>\n",
       "    <tr style=\"text-align: right;\">\n",
       "      <th></th>\n",
       "      <th>id</th>\n",
       "      <th>size</th>\n",
       "      <th>lat</th>\n",
       "      <th>lon</th>\n",
       "      <th>categoricallocation</th>\n",
       "    </tr>\n",
       "    <tr>\n",
       "      <th>uuid</th>\n",
       "      <th></th>\n",
       "      <th></th>\n",
       "      <th></th>\n",
       "      <th></th>\n",
       "      <th></th>\n",
       "    </tr>\n",
       "  </thead>\n",
       "  <tbody>\n",
       "    <tr>\n",
       "      <th>2da545dc-a649-4500-9f1f-0f35baec306d</th>\n",
       "      <td>WORK-poi</td>\n",
       "      <td>100.0</td>\n",
       "      <td>51.484328</td>\n",
       "      <td>7.411648</td>\n",
       "      <td>work</td>\n",
       "    </tr>\n",
       "    <tr>\n",
       "      <th>3795354b-8eed-4a43-9aaa-9d0df805c168</th>\n",
       "      <td>SUPERMARKET-poi</td>\n",
       "      <td>100.0</td>\n",
       "      <td>51.484328</td>\n",
       "      <td>7.411648</td>\n",
       "      <td>supermarket</td>\n",
       "    </tr>\n",
       "    <tr>\n",
       "      <th>6537e3bf-5da3-4846-aaae-e8e9fec2516a</th>\n",
       "      <td>SERVICES-poi</td>\n",
       "      <td>100.0</td>\n",
       "      <td>51.484328</td>\n",
       "      <td>7.411648</td>\n",
       "      <td>services</td>\n",
       "    </tr>\n",
       "    <tr>\n",
       "      <th>c970bce7-a542-4388-bc36-1cd2c9e6b0cd</th>\n",
       "      <td>OTHER_SHOP-poi</td>\n",
       "      <td>100.0</td>\n",
       "      <td>51.484328</td>\n",
       "      <td>7.411648</td>\n",
       "      <td>other_shop</td>\n",
       "    </tr>\n",
       "    <tr>\n",
       "      <th>198a66cf-a342-471c-ae1d-54e92f3390f0</th>\n",
       "      <td>MEDICINAL-poi</td>\n",
       "      <td>100.0</td>\n",
       "      <td>51.484328</td>\n",
       "      <td>7.411648</td>\n",
       "      <td>medicinal</td>\n",
       "    </tr>\n",
       "    <tr>\n",
       "      <th>64e7dccd-9ceb-45ee-9382-ac04e7006713</th>\n",
       "      <td>BBPG-poi</td>\n",
       "      <td>100.0</td>\n",
       "      <td>51.484328</td>\n",
       "      <td>7.411648</td>\n",
       "      <td>bbpg</td>\n",
       "    </tr>\n",
       "    <tr>\n",
       "      <th>5aeb7096-d6e3-4219-aa40-f44f1bebd279</th>\n",
       "      <td>RESTAURANT-poi</td>\n",
       "      <td>100.0</td>\n",
       "      <td>51.484328</td>\n",
       "      <td>7.411648</td>\n",
       "      <td>restaurant</td>\n",
       "    </tr>\n",
       "    <tr>\n",
       "      <th>257c8e57-9b0a-4ea0-a95f-7f07e2939c9a</th>\n",
       "      <td>CULTURE-poi</td>\n",
       "      <td>100.0</td>\n",
       "      <td>51.484328</td>\n",
       "      <td>7.411648</td>\n",
       "      <td>culture</td>\n",
       "    </tr>\n",
       "    <tr>\n",
       "      <th>699bec33-58cc-4c28-baf4-5b0ded6e8e65</th>\n",
       "      <td>SPORTS-poi</td>\n",
       "      <td>100.0</td>\n",
       "      <td>51.484328</td>\n",
       "      <td>7.411648</td>\n",
       "      <td>sports</td>\n",
       "    </tr>\n",
       "    <tr>\n",
       "      <th>21bedd21-6a82-416f-a19c-55cd1a8de461</th>\n",
       "      <td>RELIGIOUS-poi</td>\n",
       "      <td>100.0</td>\n",
       "      <td>51.484328</td>\n",
       "      <td>7.411648</td>\n",
       "      <td>religious</td>\n",
       "    </tr>\n",
       "    <tr>\n",
       "      <th>215069ee-e0f3-4e5f-8ee7-2e21c028deb9</th>\n",
       "      <td>HOME-poi-without-charging</td>\n",
       "      <td>1.0</td>\n",
       "      <td>51.484328</td>\n",
       "      <td>7.411648</td>\n",
       "      <td>home</td>\n",
       "    </tr>\n",
       "  </tbody>\n",
       "</table>\n",
       "</div>"
      ],
      "text/plain": [
       "                                                             id   size   \n",
       "uuid                                                                     \n",
       "2da545dc-a649-4500-9f1f-0f35baec306d                   WORK-poi  100.0  \\\n",
       "3795354b-8eed-4a43-9aaa-9d0df805c168            SUPERMARKET-poi  100.0   \n",
       "6537e3bf-5da3-4846-aaae-e8e9fec2516a               SERVICES-poi  100.0   \n",
       "c970bce7-a542-4388-bc36-1cd2c9e6b0cd             OTHER_SHOP-poi  100.0   \n",
       "198a66cf-a342-471c-ae1d-54e92f3390f0              MEDICINAL-poi  100.0   \n",
       "64e7dccd-9ceb-45ee-9382-ac04e7006713                   BBPG-poi  100.0   \n",
       "5aeb7096-d6e3-4219-aa40-f44f1bebd279             RESTAURANT-poi  100.0   \n",
       "257c8e57-9b0a-4ea0-a95f-7f07e2939c9a                CULTURE-poi  100.0   \n",
       "699bec33-58cc-4c28-baf4-5b0ded6e8e65                 SPORTS-poi  100.0   \n",
       "21bedd21-6a82-416f-a19c-55cd1a8de461              RELIGIOUS-poi  100.0   \n",
       "215069ee-e0f3-4e5f-8ee7-2e21c028deb9  HOME-poi-without-charging    1.0   \n",
       "\n",
       "                                            lat       lon categoricallocation  \n",
       "uuid                                                                           \n",
       "2da545dc-a649-4500-9f1f-0f35baec306d  51.484328  7.411648                work  \n",
       "3795354b-8eed-4a43-9aaa-9d0df805c168  51.484328  7.411648         supermarket  \n",
       "6537e3bf-5da3-4846-aaae-e8e9fec2516a  51.484328  7.411648            services  \n",
       "c970bce7-a542-4388-bc36-1cd2c9e6b0cd  51.484328  7.411648          other_shop  \n",
       "198a66cf-a342-471c-ae1d-54e92f3390f0  51.484328  7.411648           medicinal  \n",
       "64e7dccd-9ceb-45ee-9382-ac04e7006713  51.484328  7.411648                bbpg  \n",
       "5aeb7096-d6e3-4219-aa40-f44f1bebd279  51.484328  7.411648          restaurant  \n",
       "257c8e57-9b0a-4ea0-a95f-7f07e2939c9a  51.484328  7.411648             culture  \n",
       "699bec33-58cc-4c28-baf4-5b0ded6e8e65  51.484328  7.411648              sports  \n",
       "21bedd21-6a82-416f-a19c-55cd1a8de461  51.484328  7.411648           religious  \n",
       "215069ee-e0f3-4e5f-8ee7-2e21c028deb9  51.484328  7.411648                home  "
      ]
     },
     "execution_count": 322,
     "metadata": {},
     "output_type": "execute_result"
    }
   ],
   "source": [
    "public_pois = pd.read_csv(\"./public_pois.csv\", index_col=\"uuid\")\n",
    "public_pois"
   ]
  },
  {
   "cell_type": "code",
   "execution_count": 323,
   "metadata": {},
   "outputs": [
    {
     "name": "stdout",
     "output_type": "stream",
     "text": [
      "7d81b25b-1f2d-447e-a0e4-5396a849b4ea \n",
      "54acf4fa-49ee-4c35-8541-a518eba61c84 \n",
      "0a085e92-0914-4eeb-8bdd-9353c17bf3f2 \n"
     ]
    },
    {
     "data": {
      "text/plain": [
       "(                                                             id   size   \n",
       " 2da545dc-a649-4500-9f1f-0f35baec306d                   WORK-poi  100.0  \\\n",
       " 3795354b-8eed-4a43-9aaa-9d0df805c168            SUPERMARKET-poi  100.0   \n",
       " 6537e3bf-5da3-4846-aaae-e8e9fec2516a               SERVICES-poi  100.0   \n",
       " c970bce7-a542-4388-bc36-1cd2c9e6b0cd             OTHER_SHOP-poi  100.0   \n",
       " 198a66cf-a342-471c-ae1d-54e92f3390f0              MEDICINAL-poi  100.0   \n",
       " 64e7dccd-9ceb-45ee-9382-ac04e7006713                   BBPG-poi  100.0   \n",
       " 5aeb7096-d6e3-4219-aa40-f44f1bebd279             RESTAURANT-poi  100.0   \n",
       " 257c8e57-9b0a-4ea0-a95f-7f07e2939c9a                CULTURE-poi  100.0   \n",
       " 699bec33-58cc-4c28-baf4-5b0ded6e8e65                 SPORTS-poi  100.0   \n",
       " 21bedd21-6a82-416f-a19c-55cd1a8de461              RELIGIOUS-poi  100.0   \n",
       " 215069ee-e0f3-4e5f-8ee7-2e21c028deb9  HOME-poi-without-charging    1.0   \n",
       " 9ffb0a8c-e8ee-4aee-ba94-1051c458516f                   HOME-poi      1   \n",
       " b9e8d029-9589-4c2f-b5dd-bb014fe3aa48                   HOME-poi      1   \n",
       " 0587abe6-658d-4b21-962b-29140da56839                   HOME-poi      1   \n",
       " \n",
       "                                             lat       lon categoricallocation  \n",
       " 2da545dc-a649-4500-9f1f-0f35baec306d  51.484328  7.411648                work  \n",
       " 3795354b-8eed-4a43-9aaa-9d0df805c168  51.484328  7.411648         supermarket  \n",
       " 6537e3bf-5da3-4846-aaae-e8e9fec2516a  51.484328  7.411648            services  \n",
       " c970bce7-a542-4388-bc36-1cd2c9e6b0cd  51.484328  7.411648          other_shop  \n",
       " 198a66cf-a342-471c-ae1d-54e92f3390f0  51.484328  7.411648           medicinal  \n",
       " 64e7dccd-9ceb-45ee-9382-ac04e7006713  51.484328  7.411648                bbpg  \n",
       " 5aeb7096-d6e3-4219-aa40-f44f1bebd279  51.484328  7.411648          restaurant  \n",
       " 257c8e57-9b0a-4ea0-a95f-7f07e2939c9a  51.484328  7.411648             culture  \n",
       " 699bec33-58cc-4c28-baf4-5b0ded6e8e65  51.484328  7.411648              sports  \n",
       " 21bedd21-6a82-416f-a19c-55cd1a8de461  51.484328  7.411648           religious  \n",
       " 215069ee-e0f3-4e5f-8ee7-2e21c028deb9  51.484328  7.411648                home  \n",
       " 9ffb0a8c-e8ee-4aee-ba94-1051c458516f  51.004739  7.178733                home  \n",
       " b9e8d029-9589-4c2f-b5dd-bb014fe3aa48  51.004743  7.180439                home  \n",
       " 0587abe6-658d-4b21-962b-29140da56839  51.004425  7.182649                home  ,\n",
       "                                     poi                                  evcs   \n",
       " 0  9ffb0a8c-e8ee-4aee-ba94-1051c458516f  08367f08-772e-4bc2-b38a-bf8575c8ed62  \\\n",
       " 1  b9e8d029-9589-4c2f-b5dd-bb014fe3aa48  4602fd48-b8be-41f2-8514-6e119309f409   \n",
       " 0  0587abe6-658d-4b21-962b-29140da56839  432d69a8-e8eb-4db0-93ec-3abe61194472   \n",
       " \n",
       "                                      evs  \n",
       " 0  7d81b25b-1f2d-447e-a0e4-5396a849b4ea   \n",
       " 1  54acf4fa-49ee-4c35-8541-a518eba61c84   \n",
       " 0  0a085e92-0914-4eeb-8bdd-9353c17bf3f2   )"
      ]
     },
     "execution_count": 323,
     "metadata": {},
     "output_type": "execute_result"
    }
   ],
   "source": [
    "import pandas as pd \n",
    "\n",
    "\n",
    "def create_poi(\n",
    "    id: str,\n",
    "    lat: float,\n",
    "    lon: float,\n",
    "    categorical_location: str,\n",
    "    size: float = 1,\n",
    "    uuid: str = None,\n",
    "):\n",
    "    if uuid is None:\n",
    "        uuid = str(uuid4())\n",
    "    return pd.Series(\n",
    "        {\n",
    "            \"id\": id,\n",
    "            \"lat\": lat,\n",
    "            \"lon\": lon,\n",
    "            \"categoricallocation\": categorical_location,\n",
    "            \"size\": size,\n",
    "        }\n",
    "    ).rename(uuid)\n",
    "\n",
    "def create_poi_mapping(\n",
    "    poi: str,\n",
    "    evcs: str,\n",
    "    evs: list[str]\n",
    "):\n",
    "    evs = \"\".join([f\"{ev} \" for ev in evs])   \n",
    "    print(evs)\n",
    "    return pd.Series(\n",
    "        {\n",
    "            \"poi\": poi,\n",
    "            \"evcs\": evcs,\n",
    "            \"evs\": evs\n",
    "        }\n",
    "    )\n",
    "\n",
    "pois = public_pois\n",
    "poi_mappings = None\n",
    "\n",
    "for node in list(grid.raw_grid.nodes.uuid):\n",
    "    ev_uuids = list(evs.filter_by_nodes(node).uuid)\n",
    "    evcs_uuids = list(evcs.filter_by_nodes(node).uuid)\n",
    "    assert len(evcs_uuids) <= 1\n",
    "    if evcs_uuids:\n",
    "        evcs_uuid = evcs_uuids[0]\n",
    "        if not ev_uuids:\n",
    "            raise ValueError(\"EVCS without EV\")\n",
    "        poi = create_poi(\n",
    "            id=\"HOME-poi\",\n",
    "            lat=grid.raw_grid.nodes.latitude[node],\n",
    "            lon=grid.raw_grid.nodes.longitude[node],\n",
    "            categorical_location=\"home\",\n",
    "        )\n",
    "        pois = pd.concat([pois, poi.to_frame().T])\n",
    "        poi_mapping = create_poi_mapping(\n",
    "            poi=poi.name,\n",
    "            evcs=evcs_uuid,\n",
    "            evs=ev_uuids\n",
    "        )\n",
    "        if poi_mappings is None:\n",
    "            poi_mappings = poi_mapping\n",
    "        else:\n",
    "            poi_mappings = pd.concat([poi_mappings, poi_mapping], axis=1)\n",
    "\n",
    "pois, poi_mappings = pois, poi_mappings.transpose()\n",
    "pois, poi_mappings\n"
   ]
  },
  {
   "cell_type": "code",
   "execution_count": 324,
   "metadata": {},
   "outputs": [
    {
     "data": {
      "text/html": [
       "<div>\n",
       "<style scoped>\n",
       "    .dataframe tbody tr th:only-of-type {\n",
       "        vertical-align: middle;\n",
       "    }\n",
       "\n",
       "    .dataframe tbody tr th {\n",
       "        vertical-align: top;\n",
       "    }\n",
       "\n",
       "    .dataframe thead th {\n",
       "        text-align: right;\n",
       "    }\n",
       "</style>\n",
       "<table border=\"1\" class=\"dataframe\">\n",
       "  <thead>\n",
       "    <tr style=\"text-align: right;\">\n",
       "      <th></th>\n",
       "      <th>poi</th>\n",
       "      <th>evcs</th>\n",
       "      <th>evs</th>\n",
       "    </tr>\n",
       "  </thead>\n",
       "  <tbody>\n",
       "    <tr>\n",
       "      <th>0</th>\n",
       "      <td>9ffb0a8c-e8ee-4aee-ba94-1051c458516f</td>\n",
       "      <td>08367f08-772e-4bc2-b38a-bf8575c8ed62</td>\n",
       "      <td>7d81b25b-1f2d-447e-a0e4-5396a849b4ea</td>\n",
       "    </tr>\n",
       "    <tr>\n",
       "      <th>1</th>\n",
       "      <td>b9e8d029-9589-4c2f-b5dd-bb014fe3aa48</td>\n",
       "      <td>4602fd48-b8be-41f2-8514-6e119309f409</td>\n",
       "      <td>54acf4fa-49ee-4c35-8541-a518eba61c84</td>\n",
       "    </tr>\n",
       "    <tr>\n",
       "      <th>0</th>\n",
       "      <td>0587abe6-658d-4b21-962b-29140da56839</td>\n",
       "      <td>432d69a8-e8eb-4db0-93ec-3abe61194472</td>\n",
       "      <td>0a085e92-0914-4eeb-8bdd-9353c17bf3f2</td>\n",
       "    </tr>\n",
       "  </tbody>\n",
       "</table>\n",
       "</div>"
      ],
      "text/plain": [
       "                                    poi                                  evcs   \n",
       "0  9ffb0a8c-e8ee-4aee-ba94-1051c458516f  08367f08-772e-4bc2-b38a-bf8575c8ed62  \\\n",
       "1  b9e8d029-9589-4c2f-b5dd-bb014fe3aa48  4602fd48-b8be-41f2-8514-6e119309f409   \n",
       "0  0587abe6-658d-4b21-962b-29140da56839  432d69a8-e8eb-4db0-93ec-3abe61194472   \n",
       "\n",
       "                                     evs  \n",
       "0  7d81b25b-1f2d-447e-a0e4-5396a849b4ea   \n",
       "1  54acf4fa-49ee-4c35-8541-a518eba61c84   \n",
       "0  0a085e92-0914-4eeb-8bdd-9353c17bf3f2   "
      ]
     },
     "execution_count": 324,
     "metadata": {},
     "output_type": "execute_result"
    }
   ],
   "source": [
    "poi_mappings"
   ]
  },
  {
   "cell_type": "code",
   "execution_count": 325,
   "metadata": {},
   "outputs": [
    {
     "data": {
      "text/html": [
       "<div>\n",
       "<style scoped>\n",
       "    .dataframe tbody tr th:only-of-type {\n",
       "        vertical-align: middle;\n",
       "    }\n",
       "\n",
       "    .dataframe tbody tr th {\n",
       "        vertical-align: top;\n",
       "    }\n",
       "\n",
       "    .dataframe thead th {\n",
       "        text-align: right;\n",
       "    }\n",
       "</style>\n",
       "<table border=\"1\" class=\"dataframe\">\n",
       "  <thead>\n",
       "    <tr style=\"text-align: right;\">\n",
       "      <th></th>\n",
       "      <th>id</th>\n",
       "      <th>size</th>\n",
       "      <th>lat</th>\n",
       "      <th>lon</th>\n",
       "      <th>categoricallocation</th>\n",
       "    </tr>\n",
       "  </thead>\n",
       "  <tbody>\n",
       "    <tr>\n",
       "      <th>2da545dc-a649-4500-9f1f-0f35baec306d</th>\n",
       "      <td>WORK-poi</td>\n",
       "      <td>100.0</td>\n",
       "      <td>51.484328</td>\n",
       "      <td>7.411648</td>\n",
       "      <td>work</td>\n",
       "    </tr>\n",
       "    <tr>\n",
       "      <th>3795354b-8eed-4a43-9aaa-9d0df805c168</th>\n",
       "      <td>SUPERMARKET-poi</td>\n",
       "      <td>100.0</td>\n",
       "      <td>51.484328</td>\n",
       "      <td>7.411648</td>\n",
       "      <td>supermarket</td>\n",
       "    </tr>\n",
       "    <tr>\n",
       "      <th>6537e3bf-5da3-4846-aaae-e8e9fec2516a</th>\n",
       "      <td>SERVICES-poi</td>\n",
       "      <td>100.0</td>\n",
       "      <td>51.484328</td>\n",
       "      <td>7.411648</td>\n",
       "      <td>services</td>\n",
       "    </tr>\n",
       "    <tr>\n",
       "      <th>c970bce7-a542-4388-bc36-1cd2c9e6b0cd</th>\n",
       "      <td>OTHER_SHOP-poi</td>\n",
       "      <td>100.0</td>\n",
       "      <td>51.484328</td>\n",
       "      <td>7.411648</td>\n",
       "      <td>other_shop</td>\n",
       "    </tr>\n",
       "    <tr>\n",
       "      <th>198a66cf-a342-471c-ae1d-54e92f3390f0</th>\n",
       "      <td>MEDICINAL-poi</td>\n",
       "      <td>100.0</td>\n",
       "      <td>51.484328</td>\n",
       "      <td>7.411648</td>\n",
       "      <td>medicinal</td>\n",
       "    </tr>\n",
       "    <tr>\n",
       "      <th>64e7dccd-9ceb-45ee-9382-ac04e7006713</th>\n",
       "      <td>BBPG-poi</td>\n",
       "      <td>100.0</td>\n",
       "      <td>51.484328</td>\n",
       "      <td>7.411648</td>\n",
       "      <td>bbpg</td>\n",
       "    </tr>\n",
       "    <tr>\n",
       "      <th>5aeb7096-d6e3-4219-aa40-f44f1bebd279</th>\n",
       "      <td>RESTAURANT-poi</td>\n",
       "      <td>100.0</td>\n",
       "      <td>51.484328</td>\n",
       "      <td>7.411648</td>\n",
       "      <td>restaurant</td>\n",
       "    </tr>\n",
       "    <tr>\n",
       "      <th>257c8e57-9b0a-4ea0-a95f-7f07e2939c9a</th>\n",
       "      <td>CULTURE-poi</td>\n",
       "      <td>100.0</td>\n",
       "      <td>51.484328</td>\n",
       "      <td>7.411648</td>\n",
       "      <td>culture</td>\n",
       "    </tr>\n",
       "    <tr>\n",
       "      <th>699bec33-58cc-4c28-baf4-5b0ded6e8e65</th>\n",
       "      <td>SPORTS-poi</td>\n",
       "      <td>100.0</td>\n",
       "      <td>51.484328</td>\n",
       "      <td>7.411648</td>\n",
       "      <td>sports</td>\n",
       "    </tr>\n",
       "    <tr>\n",
       "      <th>21bedd21-6a82-416f-a19c-55cd1a8de461</th>\n",
       "      <td>RELIGIOUS-poi</td>\n",
       "      <td>100.0</td>\n",
       "      <td>51.484328</td>\n",
       "      <td>7.411648</td>\n",
       "      <td>religious</td>\n",
       "    </tr>\n",
       "    <tr>\n",
       "      <th>215069ee-e0f3-4e5f-8ee7-2e21c028deb9</th>\n",
       "      <td>HOME-poi-without-charging</td>\n",
       "      <td>1.0</td>\n",
       "      <td>51.484328</td>\n",
       "      <td>7.411648</td>\n",
       "      <td>home</td>\n",
       "    </tr>\n",
       "    <tr>\n",
       "      <th>9ffb0a8c-e8ee-4aee-ba94-1051c458516f</th>\n",
       "      <td>HOME-poi</td>\n",
       "      <td>1</td>\n",
       "      <td>51.004739</td>\n",
       "      <td>7.178733</td>\n",
       "      <td>home</td>\n",
       "    </tr>\n",
       "    <tr>\n",
       "      <th>b9e8d029-9589-4c2f-b5dd-bb014fe3aa48</th>\n",
       "      <td>HOME-poi</td>\n",
       "      <td>1</td>\n",
       "      <td>51.004743</td>\n",
       "      <td>7.180439</td>\n",
       "      <td>home</td>\n",
       "    </tr>\n",
       "    <tr>\n",
       "      <th>0587abe6-658d-4b21-962b-29140da56839</th>\n",
       "      <td>HOME-poi</td>\n",
       "      <td>1</td>\n",
       "      <td>51.004425</td>\n",
       "      <td>7.182649</td>\n",
       "      <td>home</td>\n",
       "    </tr>\n",
       "  </tbody>\n",
       "</table>\n",
       "</div>"
      ],
      "text/plain": [
       "                                                             id   size   \n",
       "2da545dc-a649-4500-9f1f-0f35baec306d                   WORK-poi  100.0  \\\n",
       "3795354b-8eed-4a43-9aaa-9d0df805c168            SUPERMARKET-poi  100.0   \n",
       "6537e3bf-5da3-4846-aaae-e8e9fec2516a               SERVICES-poi  100.0   \n",
       "c970bce7-a542-4388-bc36-1cd2c9e6b0cd             OTHER_SHOP-poi  100.0   \n",
       "198a66cf-a342-471c-ae1d-54e92f3390f0              MEDICINAL-poi  100.0   \n",
       "64e7dccd-9ceb-45ee-9382-ac04e7006713                   BBPG-poi  100.0   \n",
       "5aeb7096-d6e3-4219-aa40-f44f1bebd279             RESTAURANT-poi  100.0   \n",
       "257c8e57-9b0a-4ea0-a95f-7f07e2939c9a                CULTURE-poi  100.0   \n",
       "699bec33-58cc-4c28-baf4-5b0ded6e8e65                 SPORTS-poi  100.0   \n",
       "21bedd21-6a82-416f-a19c-55cd1a8de461              RELIGIOUS-poi  100.0   \n",
       "215069ee-e0f3-4e5f-8ee7-2e21c028deb9  HOME-poi-without-charging    1.0   \n",
       "9ffb0a8c-e8ee-4aee-ba94-1051c458516f                   HOME-poi      1   \n",
       "b9e8d029-9589-4c2f-b5dd-bb014fe3aa48                   HOME-poi      1   \n",
       "0587abe6-658d-4b21-962b-29140da56839                   HOME-poi      1   \n",
       "\n",
       "                                            lat       lon categoricallocation  \n",
       "2da545dc-a649-4500-9f1f-0f35baec306d  51.484328  7.411648                work  \n",
       "3795354b-8eed-4a43-9aaa-9d0df805c168  51.484328  7.411648         supermarket  \n",
       "6537e3bf-5da3-4846-aaae-e8e9fec2516a  51.484328  7.411648            services  \n",
       "c970bce7-a542-4388-bc36-1cd2c9e6b0cd  51.484328  7.411648          other_shop  \n",
       "198a66cf-a342-471c-ae1d-54e92f3390f0  51.484328  7.411648           medicinal  \n",
       "64e7dccd-9ceb-45ee-9382-ac04e7006713  51.484328  7.411648                bbpg  \n",
       "5aeb7096-d6e3-4219-aa40-f44f1bebd279  51.484328  7.411648          restaurant  \n",
       "257c8e57-9b0a-4ea0-a95f-7f07e2939c9a  51.484328  7.411648             culture  \n",
       "699bec33-58cc-4c28-baf4-5b0ded6e8e65  51.484328  7.411648              sports  \n",
       "21bedd21-6a82-416f-a19c-55cd1a8de461  51.484328  7.411648           religious  \n",
       "215069ee-e0f3-4e5f-8ee7-2e21c028deb9  51.484328  7.411648                home  \n",
       "9ffb0a8c-e8ee-4aee-ba94-1051c458516f  51.004739  7.178733                home  \n",
       "b9e8d029-9589-4c2f-b5dd-bb014fe3aa48  51.004743  7.180439                home  \n",
       "0587abe6-658d-4b21-962b-29140da56839  51.004425  7.182649                home  "
      ]
     },
     "execution_count": 325,
     "metadata": {},
     "output_type": "execute_result"
    }
   ],
   "source": [
    "pois"
   ]
  },
  {
   "cell_type": "code",
   "execution_count": 326,
   "metadata": {},
   "outputs": [],
   "source": [
    "from pathlib import Path\n",
    "\n",
    "\n",
    "pois_path = Path(\"./simple_grid/pois\")\n",
    "pois_path.mkdir(exist_ok=True)\n",
    "pois.to_csv(target_poi_path + \"/poi.csv\", index_label=\"uuid\")\n",
    "poi_mappings.to_csv(target_poi_path + \"/pois_mapping.csv\", index=False)"
   ]
  },
  {
   "cell_type": "code",
   "execution_count": 327,
   "metadata": {},
   "outputs": [
    {
     "data": {
      "text/html": [
       "<div>\n",
       "<style scoped>\n",
       "    .dataframe tbody tr th:only-of-type {\n",
       "        vertical-align: middle;\n",
       "    }\n",
       "\n",
       "    .dataframe tbody tr th {\n",
       "        vertical-align: top;\n",
       "    }\n",
       "\n",
       "    .dataframe thead th {\n",
       "        text-align: right;\n",
       "    }\n",
       "</style>\n",
       "<table border=\"1\" class=\"dataframe\">\n",
       "  <thead>\n",
       "    <tr style=\"text-align: right;\">\n",
       "      <th></th>\n",
       "      <th>id</th>\n",
       "      <th>size</th>\n",
       "      <th>lat</th>\n",
       "      <th>lon</th>\n",
       "      <th>categoricallocation</th>\n",
       "    </tr>\n",
       "  </thead>\n",
       "  <tbody>\n",
       "    <tr>\n",
       "      <th>2da545dc-a649-4500-9f1f-0f35baec306d</th>\n",
       "      <td>WORK-poi</td>\n",
       "      <td>100.0</td>\n",
       "      <td>51.484328</td>\n",
       "      <td>7.411648</td>\n",
       "      <td>work</td>\n",
       "    </tr>\n",
       "    <tr>\n",
       "      <th>3795354b-8eed-4a43-9aaa-9d0df805c168</th>\n",
       "      <td>SUPERMARKET-poi</td>\n",
       "      <td>100.0</td>\n",
       "      <td>51.484328</td>\n",
       "      <td>7.411648</td>\n",
       "      <td>supermarket</td>\n",
       "    </tr>\n",
       "    <tr>\n",
       "      <th>6537e3bf-5da3-4846-aaae-e8e9fec2516a</th>\n",
       "      <td>SERVICES-poi</td>\n",
       "      <td>100.0</td>\n",
       "      <td>51.484328</td>\n",
       "      <td>7.411648</td>\n",
       "      <td>services</td>\n",
       "    </tr>\n",
       "    <tr>\n",
       "      <th>c970bce7-a542-4388-bc36-1cd2c9e6b0cd</th>\n",
       "      <td>OTHER_SHOP-poi</td>\n",
       "      <td>100.0</td>\n",
       "      <td>51.484328</td>\n",
       "      <td>7.411648</td>\n",
       "      <td>other_shop</td>\n",
       "    </tr>\n",
       "    <tr>\n",
       "      <th>198a66cf-a342-471c-ae1d-54e92f3390f0</th>\n",
       "      <td>MEDICINAL-poi</td>\n",
       "      <td>100.0</td>\n",
       "      <td>51.484328</td>\n",
       "      <td>7.411648</td>\n",
       "      <td>medicinal</td>\n",
       "    </tr>\n",
       "    <tr>\n",
       "      <th>64e7dccd-9ceb-45ee-9382-ac04e7006713</th>\n",
       "      <td>BBPG-poi</td>\n",
       "      <td>100.0</td>\n",
       "      <td>51.484328</td>\n",
       "      <td>7.411648</td>\n",
       "      <td>bbpg</td>\n",
       "    </tr>\n",
       "    <tr>\n",
       "      <th>5aeb7096-d6e3-4219-aa40-f44f1bebd279</th>\n",
       "      <td>RESTAURANT-poi</td>\n",
       "      <td>100.0</td>\n",
       "      <td>51.484328</td>\n",
       "      <td>7.411648</td>\n",
       "      <td>restaurant</td>\n",
       "    </tr>\n",
       "    <tr>\n",
       "      <th>257c8e57-9b0a-4ea0-a95f-7f07e2939c9a</th>\n",
       "      <td>CULTURE-poi</td>\n",
       "      <td>100.0</td>\n",
       "      <td>51.484328</td>\n",
       "      <td>7.411648</td>\n",
       "      <td>culture</td>\n",
       "    </tr>\n",
       "    <tr>\n",
       "      <th>699bec33-58cc-4c28-baf4-5b0ded6e8e65</th>\n",
       "      <td>SPORTS-poi</td>\n",
       "      <td>100.0</td>\n",
       "      <td>51.484328</td>\n",
       "      <td>7.411648</td>\n",
       "      <td>sports</td>\n",
       "    </tr>\n",
       "    <tr>\n",
       "      <th>21bedd21-6a82-416f-a19c-55cd1a8de461</th>\n",
       "      <td>RELIGIOUS-poi</td>\n",
       "      <td>100.0</td>\n",
       "      <td>51.484328</td>\n",
       "      <td>7.411648</td>\n",
       "      <td>religious</td>\n",
       "    </tr>\n",
       "    <tr>\n",
       "      <th>215069ee-e0f3-4e5f-8ee7-2e21c028deb9</th>\n",
       "      <td>HOME-poi-without-charging</td>\n",
       "      <td>1.0</td>\n",
       "      <td>51.484328</td>\n",
       "      <td>7.411648</td>\n",
       "      <td>home</td>\n",
       "    </tr>\n",
       "    <tr>\n",
       "      <th>9ffb0a8c-e8ee-4aee-ba94-1051c458516f</th>\n",
       "      <td>HOME-poi</td>\n",
       "      <td>1</td>\n",
       "      <td>51.004739</td>\n",
       "      <td>7.178733</td>\n",
       "      <td>home</td>\n",
       "    </tr>\n",
       "    <tr>\n",
       "      <th>b9e8d029-9589-4c2f-b5dd-bb014fe3aa48</th>\n",
       "      <td>HOME-poi</td>\n",
       "      <td>1</td>\n",
       "      <td>51.004743</td>\n",
       "      <td>7.180439</td>\n",
       "      <td>home</td>\n",
       "    </tr>\n",
       "    <tr>\n",
       "      <th>0587abe6-658d-4b21-962b-29140da56839</th>\n",
       "      <td>HOME-poi</td>\n",
       "      <td>1</td>\n",
       "      <td>51.004425</td>\n",
       "      <td>7.182649</td>\n",
       "      <td>home</td>\n",
       "    </tr>\n",
       "  </tbody>\n",
       "</table>\n",
       "</div>"
      ],
      "text/plain": [
       "                                                             id   size   \n",
       "2da545dc-a649-4500-9f1f-0f35baec306d                   WORK-poi  100.0  \\\n",
       "3795354b-8eed-4a43-9aaa-9d0df805c168            SUPERMARKET-poi  100.0   \n",
       "6537e3bf-5da3-4846-aaae-e8e9fec2516a               SERVICES-poi  100.0   \n",
       "c970bce7-a542-4388-bc36-1cd2c9e6b0cd             OTHER_SHOP-poi  100.0   \n",
       "198a66cf-a342-471c-ae1d-54e92f3390f0              MEDICINAL-poi  100.0   \n",
       "64e7dccd-9ceb-45ee-9382-ac04e7006713                   BBPG-poi  100.0   \n",
       "5aeb7096-d6e3-4219-aa40-f44f1bebd279             RESTAURANT-poi  100.0   \n",
       "257c8e57-9b0a-4ea0-a95f-7f07e2939c9a                CULTURE-poi  100.0   \n",
       "699bec33-58cc-4c28-baf4-5b0ded6e8e65                 SPORTS-poi  100.0   \n",
       "21bedd21-6a82-416f-a19c-55cd1a8de461              RELIGIOUS-poi  100.0   \n",
       "215069ee-e0f3-4e5f-8ee7-2e21c028deb9  HOME-poi-without-charging    1.0   \n",
       "9ffb0a8c-e8ee-4aee-ba94-1051c458516f                   HOME-poi      1   \n",
       "b9e8d029-9589-4c2f-b5dd-bb014fe3aa48                   HOME-poi      1   \n",
       "0587abe6-658d-4b21-962b-29140da56839                   HOME-poi      1   \n",
       "\n",
       "                                            lat       lon categoricallocation  \n",
       "2da545dc-a649-4500-9f1f-0f35baec306d  51.484328  7.411648                work  \n",
       "3795354b-8eed-4a43-9aaa-9d0df805c168  51.484328  7.411648         supermarket  \n",
       "6537e3bf-5da3-4846-aaae-e8e9fec2516a  51.484328  7.411648            services  \n",
       "c970bce7-a542-4388-bc36-1cd2c9e6b0cd  51.484328  7.411648          other_shop  \n",
       "198a66cf-a342-471c-ae1d-54e92f3390f0  51.484328  7.411648           medicinal  \n",
       "64e7dccd-9ceb-45ee-9382-ac04e7006713  51.484328  7.411648                bbpg  \n",
       "5aeb7096-d6e3-4219-aa40-f44f1bebd279  51.484328  7.411648          restaurant  \n",
       "257c8e57-9b0a-4ea0-a95f-7f07e2939c9a  51.484328  7.411648             culture  \n",
       "699bec33-58cc-4c28-baf4-5b0ded6e8e65  51.484328  7.411648              sports  \n",
       "21bedd21-6a82-416f-a19c-55cd1a8de461  51.484328  7.411648           religious  \n",
       "215069ee-e0f3-4e5f-8ee7-2e21c028deb9  51.484328  7.411648                home  \n",
       "9ffb0a8c-e8ee-4aee-ba94-1051c458516f  51.004739  7.178733                home  \n",
       "b9e8d029-9589-4c2f-b5dd-bb014fe3aa48  51.004743  7.180439                home  \n",
       "0587abe6-658d-4b21-962b-29140da56839  51.004425  7.182649                home  "
      ]
     },
     "execution_count": 327,
     "metadata": {},
     "output_type": "execute_result"
    }
   ],
   "source": [
    "pois"
   ]
  }
 ],
 "metadata": {
  "kernelspec": {
   "display_name": "psdm-analysis-lyhN3xw_-py3.10",
   "language": "python",
   "name": "python3"
  },
  "language_info": {
   "codemirror_mode": {
    "name": "ipython",
    "version": 3
   },
   "file_extension": ".py",
   "mimetype": "text/x-python",
   "name": "python",
   "nbconvert_exporter": "python",
   "pygments_lexer": "ipython3",
   "version": "3.10.4"
  },
  "orig_nbformat": 4
 },
 "nbformat": 4,
 "nbformat_minor": 2
}
