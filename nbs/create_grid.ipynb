{
 "cells": [
  {
   "cell_type": "code",
   "execution_count": null,
   "metadata": {
    "ExecuteTime": {
     "end_time": "2023-11-21T06:23:16.616098200Z",
     "start_time": "2023-11-21T06:23:16.582351600Z"
    }
   },
   "outputs": [],
   "source": [
    "%load_ext autoreload\n",
    "%autoreload 2"
   ]
  },
  {
   "cell_type": "code",
   "execution_count": null,
   "metadata": {
    "ExecuteTime": {
     "end_time": "2023-11-21T06:23:19.048775600Z",
     "start_time": "2023-11-21T06:23:16.616098200Z"
    }
   },
   "outputs": [
    {
     "ename": "FileNotFoundError",
     "evalue": "[WinError 3] Das System kann den angegebenen Pfad nicht finden: 'C:\\\\Program Files\\\\JetBrains\\\\PyCharm 2021.3.2\\\\jbr\\\\bin\\\\simple_raw_grid'",
     "output_type": "error",
     "traceback": [
      "\u001B[1;31m---------------------------------------------------------------------------\u001B[0m",
      "\u001B[1;31mFileNotFoundError\u001B[0m                         Traceback (most recent call last)",
      "Cell \u001B[1;32mIn[2], line 6\u001B[0m\n\u001B[0;32m      4\u001B[0m grid_path \u001B[38;5;241m=\u001B[39m \u001B[38;5;124m\"\u001B[39m\u001B[38;5;124m./simple_raw_grid\u001B[39m\u001B[38;5;124m\"\u001B[39m\n\u001B[0;32m      5\u001B[0m sep \u001B[38;5;241m=\u001B[39m \u001B[38;5;124m\"\u001B[39m\u001B[38;5;124m,\u001B[39m\u001B[38;5;124m\"\u001B[39m\n\u001B[1;32m----> 6\u001B[0m grid \u001B[38;5;241m=\u001B[39m \u001B[43mGridContainer\u001B[49m\u001B[38;5;241;43m.\u001B[39;49m\u001B[43mfrom_csv\u001B[49m\u001B[43m(\u001B[49m\u001B[43mgrid_path\u001B[49m\u001B[43m,\u001B[49m\u001B[43m \u001B[49m\u001B[43msep\u001B[49m\u001B[43m)\u001B[49m\n",
      "File \u001B[1;32m~\\PycharmProjects\\pypsdm\\pypsdm\\models\\input\\container\\grid.py:112\u001B[0m, in \u001B[0;36mGridContainer.from_csv\u001B[1;34m(cls, path, delimiter, primary_data_delimiter)\u001B[0m\n\u001B[0;32m    110\u001B[0m participants \u001B[38;5;241m=\u001B[39m SystemParticipantsContainer\u001B[38;5;241m.\u001B[39mfrom_csv(path, delimiter)\n\u001B[0;32m    111\u001B[0m node_participants_map \u001B[38;5;241m=\u001B[39m participants\u001B[38;5;241m.\u001B[39mbuild_node_participants_map(raw_grid\u001B[38;5;241m.\u001B[39mnodes)\n\u001B[1;32m--> 112\u001B[0m primary_data \u001B[38;5;241m=\u001B[39m \u001B[43mPrimaryData\u001B[49m\u001B[38;5;241;43m.\u001B[39;49m\u001B[43mfrom_csv\u001B[49m\u001B[43m(\u001B[49m\u001B[43mpath\u001B[49m\u001B[43m,\u001B[49m\u001B[43m \u001B[49m\u001B[43mprimary_data_delimiter\u001B[49m\u001B[43m)\u001B[49m\n\u001B[0;32m    113\u001B[0m \u001B[38;5;28;01mreturn\u001B[39;00m \u001B[38;5;28mcls\u001B[39m(raw_grid, participants, primary_data, node_participants_map)\n",
      "File \u001B[1;32m~\\PycharmProjects\\pypsdm\\pypsdm\\models\\primary_data.py:211\u001B[0m, in \u001B[0;36mPrimaryData.from_csv\u001B[1;34m(cls, path, delimiter)\u001B[0m\n\u001B[0;32m    209\u001B[0m \u001B[38;5;66;03m# get all files that start with \"its_\"\u001B[39;00m\n\u001B[0;32m    210\u001B[0m path \u001B[38;5;241m=\u001B[39m Path(path)\u001B[38;5;241m.\u001B[39mresolve()\n\u001B[1;32m--> 211\u001B[0m ts_files \u001B[38;5;241m=\u001B[39m [file \u001B[38;5;28;01mfor\u001B[39;00m file \u001B[38;5;129;01min\u001B[39;00m \u001B[43mos\u001B[49m\u001B[38;5;241;43m.\u001B[39;49m\u001B[43mlistdir\u001B[49m\u001B[43m(\u001B[49m\u001B[43mpath\u001B[49m\u001B[43m)\u001B[49m \u001B[38;5;28;01mif\u001B[39;00m file\u001B[38;5;241m.\u001B[39mstartswith(\u001B[38;5;124m\"\u001B[39m\u001B[38;5;124mits_p\u001B[39m\u001B[38;5;124m\"\u001B[39m)]\n\u001B[0;32m    213\u001B[0m time_series_dict \u001B[38;5;241m=\u001B[39m {}\n\u001B[0;32m    215\u001B[0m \u001B[38;5;28;01mif\u001B[39;00m ts_files:\n",
      "\u001B[1;31mFileNotFoundError\u001B[0m: [WinError 3] Das System kann den angegebenen Pfad nicht finden: 'C:\\\\Program Files\\\\JetBrains\\\\PyCharm 2021.3.2\\\\jbr\\\\bin\\\\simple_raw_grid'"
     ]
    }
   ],
   "source": [
    "from pypsdm.models.input.container.grid import GridContainer\n",
    "\n",
    "\n",
    "grid_path = \"./simple_raw_grid\"\n",
    "sep = \",\"\n",
    "grid = GridContainer.from_csv(grid_path, sep)"
   ]
  },
  {
   "cell_type": "code",
   "execution_count": null,
   "metadata": {
    "ExecuteTime": {
     "end_time": "2023-11-20T15:48:02.962790100Z",
     "start_time": "2023-11-20T15:48:02.933767300Z"
    }
   },
   "outputs": [],
   "source": [
    "target_grid_path = \"./simple_grid\""
   ]
  },
  {
   "cell_type": "code",
   "execution_count": null,
   "metadata": {},
   "outputs": [],
   "source": [
    "from pypsdm.plots.grid import grid_plot\n",
    "\n",
    "\n",
    "grid_plot(grid)"
   ]
  },
  {
   "cell_type": "code",
   "execution_count": null,
   "metadata": {
    "ExecuteTime": {
     "start_time": "2023-11-20T15:48:02.939767800Z"
    }
   },
   "outputs": [],
   "source": [
    "node_0 = \"df97c0d1-379b-417a-a473-8e7fe37da99d\"\n",
    "node_1 = \"6a4547a8-630b-46e4-8144-9cd649e67c07\"\n",
    "node_2 = \"b7a5be0d-2662-41b2-99c6-3b8121a75e9e\"\n",
    "node_3 = \"1dcddd06-f41a-405b-9686-7f7942852196\"\n",
    "node_4 = \"e3c3c6a3-c383-4dbb-9b3f-a14125615386\""
   ]
  },
  {
   "cell_type": "code",
   "execution_count": null,
   "metadata": {
    "ExecuteTime": {
     "start_time": "2023-11-20T15:48:02.942770Z"
    }
   },
   "outputs": [],
   "source": [
    "from pypsdm.models.input.create.participants import create_pvs\n",
    "\n",
    "from pypsdm.models.input.participant.pv import PhotovoltaicPowerPlants\n",
    "\n",
    "pv_s_rated = [4, 6, 10]\n",
    "\n",
    "data_dict = {\n",
    "    \"id\": [\"PV_NS_02\", \"PV_NS_03\", \"PV_NS_04\"],\n",
    "    \"node\": [node_2, node_3, node_4],\n",
    "    \"s_rated\": pv_s_rated,\n",
    "    \"azimuth\": [90, 0, -90],\n",
    "    \"elevation_angle\": [40, 45, 30],\n",
    "}\n",
    "\n",
    "pvs = create_pvs(data_dict)"
   ]
  },
  {
   "cell_type": "code",
   "execution_count": null,
   "metadata": {
    "ExecuteTime": {
     "start_time": "2023-11-20T15:48:02.945767700Z"
    }
   },
   "outputs": [],
   "source": [
    "from pypsdm.models.input.create.participants import create_storages\n",
    "\n",
    "\n",
    "data_dict = {\n",
    "    \"id\": [\"BS_NS_02\", \"BS_NS_03\", \"BS_NS_04\"],\n",
    "    \"node\": [node_2, node_3, node_4],\n",
    "    \"e_storage\": [1.5 * pv_power for pv_power in pv_s_rated],\n",
    "}\n",
    "\n",
    "bs = create_storages(data_dict)"
   ]
  },
  {
   "cell_type": "code",
   "execution_count": null,
   "metadata": {
    "ExecuteTime": {
     "start_time": "2023-11-20T15:48:02.948770200Z"
    }
   },
   "outputs": [],
   "source": [
    "from pypsdm.models.input.create.participants import create_electric_vehicles\n",
    "from pypsdm.models.input.participant.evs import ElectricVehicles\n",
    "\n",
    "\n",
    "ev_s_rated = [10, 10, 20]\n",
    "data_dict = {\n",
    "    \"id\": [\"EV_NS_02\", \"EV_NS_03\", \"EV_NS_04\"],\n",
    "    \"node\": [node_2, node_3, node_4],\n",
    "    \"s_rated\": ev_s_rated,\n",
    "    \"e_storage\": [80, 70, 100],\n",
    "    \"e_cons\": [20, 16, 19],\n",
    "}\n",
    "\n",
    "evs = create_electric_vehicles(data_dict)"
   ]
  },
  {
   "cell_type": "code",
   "execution_count": null,
   "metadata": {},
   "outputs": [],
   "source": [
    "from pipes import Template\n",
    "from pypsdm.models.input.create.participants import create_ev_charging_stations\n",
    "from pypsdm.models.input.participant.evcs import EvcsLocationType\n",
    "\n",
    "data_dict = {\n",
    "    \"id\": [\"EVCS_NS_02\", \"EVCS_NS_03\", \"EVCS_NS_04\"],\n",
    "    \"node\": [node_2, node_3, node_4],\n",
    "    \"location_type\": [\n",
    "        EvcsLocationType.HOME.value,\n",
    "        EvcsLocationType.HOME.value,\n",
    "        EvcsLocationType.HOME.value,\n",
    "    ],\n",
    "    \"s_rated\": [10, 10, 10],\n",
    "}\n",
    "\n",
    "evcs = create_ev_charging_stations(data_dict)"
   ]
  },
  {
   "cell_type": "code",
   "execution_count": null,
   "metadata": {},
   "outputs": [],
   "source": [
    "evs.filter_by_nodes(node_2).uuid"
   ]
  },
  {
   "cell_type": "code",
   "execution_count": null,
   "metadata": {
    "ExecuteTime": {
     "start_time": "2023-11-20T15:48:02.957768700Z"
    }
   },
   "outputs": [],
   "source": [
    "from pypsdm.models.input.create.thermal import create_thermal_busses\n",
    "\n",
    "\n",
    "data_dict = {\n",
    "    \"id\": [\"TB_NS_02\", \"TB_NS_03\", \"TB_NS_04\"],\n",
    "}\n",
    "\n",
    "tbs = create_thermal_busses(data_dict)"
   ]
  },
  {
   "cell_type": "code",
   "execution_count": null,
   "metadata": {
    "ExecuteTime": {
     "start_time": "2023-11-20T15:48:02.959768900Z"
    }
   },
   "outputs": [],
   "source": [
    "from pypsdm.models.input.create.participants import create_heat_pumps\n",
    "\n",
    "\n",
    "data_dict = {\n",
    "    \"id\": [\"HP_NS_02\", \"HP_NS_03\", \"HP_NS_04\"],\n",
    "    \"node\": [node_2, node_3, node_4],\n",
    "    \"thermal_bus\": list(tbs.uuid),\n",
    "    \"s_rated\": [4, 3, 6],\n",
    "}\n",
    "\n",
    "hps = create_heat_pumps(data_dict)"
   ]
  },
  {
   "cell_type": "code",
   "execution_count": null,
   "metadata": {
    "ExecuteTime": {
     "start_time": "2023-11-20T15:48:02.962790100Z"
    }
   },
   "outputs": [],
   "source": [
    "from pypsdm.models.input.create.thermal import create_thermal_houses\n",
    "\n",
    "\n",
    "data_dict = {\n",
    "    \"thermal_bus\": list(tbs.uuid),\n",
    "    \"id\": [\"TH_NS_02\", \"TH_NS_03\", \"TH_NS_04\"],\n",
    "    \"eth_losses\": [0.101, 0.121, 0.131],\n",
    "    \"eth_capa\": [8.801, 9.121, 12.131],\n",
    "}\n",
    "\n",
    "ths = create_thermal_houses(data_dict)"
   ]
  },
  {
   "cell_type": "code",
   "execution_count": null,
   "metadata": {
    "ExecuteTime": {
     "end_time": "2023-11-20T15:48:02.985767100Z",
     "start_time": "2023-11-20T15:48:02.964766500Z"
    }
   },
   "outputs": [],
   "source": [
    "from pypsdm.models.input.create.participants import create_loads\n",
    "\n",
    "\n",
    "load_data_dict = {\n",
    "    \"id\": [\"L_NS_02\", \"L_NS_03\", \"L_NS_04\"],\n",
    "    \"node\": [node_2, node_3, node_4],\n",
    "    \"s_rated\": [3, 3, 3],\n",
    "    \"e_cons_annual\": [3000, 3500, 4000],\n",
    "    \"load_profile\": [\"h0\", \"h0\", \"h0\"],\n",
    "}\n",
    "\n",
    "loads = create_loads(load_data_dict)"
   ]
  },
  {
   "cell_type": "code",
   "execution_count": null,
   "metadata": {
    "ExecuteTime": {
     "start_time": "2023-11-20T15:48:02.967768400Z"
    }
   },
   "outputs": [],
   "source": [
    "from pypsdm.models.input.container.participants import SystemParticipantsContainer\n",
    "from pypsdm.models.input.participant.bm import BiomassPlants\n",
    "from pypsdm.models.input.participant.em import EnergyManagementSystems\n",
    "from pypsdm.models.input.participant.fixed_feed_in import FixedFeedIns\n",
    "from pypsdm.models.input.participant.load import Loads\n",
    "from pypsdm.models.input.participant.wec import WindEnergyConverters\n",
    "\n",
    "\n",
    "participants = SystemParticipantsContainer(\n",
    "    ems=EnergyManagementSystems.create_empty(),\n",
    "    loads=loads,\n",
    "    pvs=pvs,\n",
    "    storages=bs,\n",
    "    evs=evs,\n",
    "    evcs=evcs,\n",
    "    hps=hps,\n",
    "    wecs=WindEnergyConverters.create_empty(),\n",
    "    fixed_feed_ins=FixedFeedIns.create_empty(),\n",
    "    biomass_plants=BiomassPlants.create_empty(),\n",
    ")"
   ]
  },
  {
   "cell_type": "code",
   "execution_count": null,
   "metadata": {
    "ExecuteTime": {
     "start_time": "2023-11-20T15:48:02.971769300Z"
    }
   },
   "outputs": [],
   "source": [
    "node_participants = participants.build_node_participants_map(grid.raw_grid.nodes)"
   ]
  },
  {
   "cell_type": "code",
   "execution_count": null,
   "metadata": {
    "ExecuteTime": {
     "start_time": "2023-11-20T15:48:02.972768200Z"
    }
   },
   "outputs": [],
   "source": [
    "node_connected_assets = {}\n",
    "for node, nodal_participants in node_participants.items():\n",
    "    participant_uuids = []\n",
    "    for current in nodal_participants.to_list():\n",
    "        if isinstance(current, ElectricVehicles):\n",
    "            continue\n",
    "        participant_uuids.extend(list(current.uuid))\n",
    "    node_connected_assets[node] = participant_uuids"
   ]
  },
  {
   "cell_type": "code",
   "execution_count": null,
   "metadata": {
    "ExecuteTime": {
     "start_time": "2023-11-20T15:48:02.974767100Z"
    }
   },
   "outputs": [],
   "source": [
    "from pypsdm.models.input.create.participants import create_energy_management_systems\n",
    "\n",
    "\n",
    "data_dict = {\n",
    "    \"id\": [\"EMS_NS_02\", \"EMS_NS_03\", \"EMS_NS_04\"],\n",
    "    \"node\": [node_2, node_3, node_4],\n",
    "    \"connected_assets\": [\n",
    "        node_connected_assets[node] for node in [node_2, node_3, node_4]\n",
    "    ],\n",
    "    \"control_strategy\": [\"self_optimization\", \"self_optimization\", \"self_optimization\"],\n",
    "}\n",
    "\n",
    "emss = create_energy_management_systems(data_dict)"
   ]
  },
  {
   "cell_type": "code",
   "execution_count": null,
   "metadata": {
    "ExecuteTime": {
     "start_time": "2023-11-20T15:48:02.976767500Z"
    }
   },
   "outputs": [],
   "source": [
    "updated_participants = SystemParticipantsContainer(\n",
    "    emss,\n",
    "    participants.loads,\n",
    "    participants.fixed_feed_ins,\n",
    "    participants.pvs,\n",
    "    participants.biomass_plants,\n",
    "    participants.wecs,\n",
    "    participants.storages,\n",
    "    participants.evs,\n",
    "    participants.evcs,\n",
    "    participants.hps,\n",
    ")"
   ]
  },
  {
   "cell_type": "code",
   "execution_count": null,
   "metadata": {
    "ExecuteTime": {
     "start_time": "2023-11-20T15:48:02.978768500Z"
    }
   },
   "outputs": [],
   "source": [
    "node_participants_map = updated_participants.build_node_participants_map(\n",
    "    grid.raw_grid.nodes\n",
    ")\n",
    "updated_grid = GridContainer(\n",
    "    grid.raw_grid, updated_participants, grid.primary_data, node_participants_map\n",
    ")"
   ]
  },
  {
   "cell_type": "code",
   "execution_count": null,
   "metadata": {
    "ExecuteTime": {
     "start_time": "2023-11-20T15:48:02.980767900Z"
    }
   },
   "outputs": [],
   "source": [
    "from pypsdm.models.input.thermal.grid import ThermalGridContainer\n",
    "\n",
    "\n",
    "tg = ThermalGridContainer(tbs, ths)"
   ]
  },
  {
   "cell_type": "code",
   "execution_count": null,
   "metadata": {},
   "outputs": [],
   "source": [
    "updated_grid.to_csv(target_grid_path, include_primary_data=False)\n",
    "tg.to_csv(target_grid_path)"
   ]
  },
  {
   "cell_type": "markdown",
   "metadata": {},
   "source": [
    "# EV Mobility Points of Interest"
   ]
  },
  {
   "cell_type": "code",
   "execution_count": null,
   "metadata": {},
   "outputs": [],
   "source": [
    "import pandas as pd\n",
    "\n",
    "public_pois = pd.read_csv(\"./resources/public_pois.csv\", index_col=\"uuid\")"
   ]
  },
  {
   "cell_type": "code",
   "execution_count": null,
   "metadata": {},
   "outputs": [],
   "source": [
    "from pypsdm.models.input.create.poi import create_poi_mapping\n",
    "\n",
    "\n",
    "pois, poi_mappings = create_poi_mapping(updated_grid, public_pois)\n",
    "\n",
    "poi_mappings"
   ]
  },
  {
   "cell_type": "code",
   "execution_count": null,
   "metadata": {},
   "outputs": [],
   "source": [
    "import os\n",
    "\n",
    "\n",
    "pois_path = os.path.join(target_grid_path, \"pois\")\n",
    "if not os.path.exists(pois_path):\n",
    "    os.mkdir(pois_path)\n",
    "pois.to_csv(pois_path + \"/poi.csv\", index_label=\"uuid\")\n",
    "poi_mappings.to_csv(pois_path + \"/pois_mapping.csv\", index=False)"
   ]
  }
 ],
 "metadata": {
  "kernelspec": {
   "display_name": "psdm-analysis-lyhN3xw_-py3.10",
   "language": "python",
   "name": "python3"
  },
  "language_info": {
   "codemirror_mode": {
    "name": "ipython",
    "version": 3
   },
   "file_extension": ".py",
   "mimetype": "text/x-python",
   "name": "python",
   "nbconvert_exporter": "python",
   "pygments_lexer": "ipython3",
   "version": "3.11.5"
  },
  "orig_nbformat": 4
 },
 "nbformat": 4,
 "nbformat_minor": 2
}
