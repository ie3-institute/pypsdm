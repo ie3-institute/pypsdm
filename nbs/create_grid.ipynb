{
 "cells": [
  {
   "cell_type": "code",
   "execution_count": 2,
   "metadata": {},
   "outputs": [],
   "source": [
    "%load_ext autoreload\n",
    "%autoreload 2"
   ]
  },
  {
   "cell_type": "code",
   "execution_count": 3,
   "metadata": {},
   "outputs": [],
   "source": [
    "from pypsdm.models.input.container.grid import GridContainer\n",
    "\n",
    "\n",
    "grid_path = \"./simple_raw_grid\"\n",
    "sep = \",\"\n",
    "grid = GridContainer.from_csv(\n",
    "    grid_path,\n",
    "    sep\n",
    ")"
   ]
  },
  {
   "cell_type": "code",
   "execution_count": 4,
   "metadata": {},
   "outputs": [
    {
     "data": {
      "application/vnd.plotly.v1+json": {
       "config": {
        "plotlyServerURL": "https://plot.ly"
       },
       "data": [
        {
         "hoverinfo": "skip",
         "lat": [
          51.00474261837189,
          51.00442531159225
         ],
         "line": {
          "color": "#2ca02c"
         },
         "lon": [
          7.18043886801018,
          7.1826490082711505
         ],
         "mode": "lines",
         "type": "scattermapbox"
        },
        {
         "hoverinfo": "text",
         "hovertext": "LTG_NS_03-NS_04",
         "lat": [
          51.004583964982075
         ],
         "lon": [
          7.181543938140665
         ],
         "marker": {
          "color": "#2ca02c",
          "opacity": 0,
          "size": 0
         },
         "mode": "markers",
         "type": "scattermapbox"
        },
        {
         "hoverinfo": "skip",
         "lat": [
          51.00473924277929,
          51.00474261837189
         ],
         "line": {
          "color": "#2ca02c"
         },
         "lon": [
          7.178732983051468,
          7.18043886801018
         ],
         "mode": "lines",
         "type": "scattermapbox"
        },
        {
         "hoverinfo": "text",
         "hovertext": "LTG_NS_02-NS_03",
         "lat": [
          51.00474093057559
         ],
         "lon": [
          7.179585925530824
         ],
         "marker": {
          "color": "#2ca02c",
          "opacity": 0,
          "size": 0
         },
         "mode": "markers",
         "type": "scattermapbox"
        },
        {
         "hoverinfo": "skip",
         "lat": [
          51.00489119159423,
          51.00473924277929
         ],
         "line": {
          "color": "#2ca02c"
         },
         "lon": [
          7.177091457368853,
          7.178732983051468
         ],
         "mode": "lines",
         "type": "scattermapbox"
        },
        {
         "hoverinfo": "text",
         "hovertext": "LTG_NS_01-NS_02",
         "lat": [
          51.00481521718676
         ],
         "lon": [
          7.17791222021016
         ],
         "marker": {
          "color": "#2ca02c",
          "opacity": 0,
          "size": 0
         },
         "mode": "markers",
         "type": "scattermapbox"
        },
        {
         "hoverinfo": "text",
         "hovertext": [
          "MS_01<br>",
          "NS_01<br>",
          "NS_02<br>",
          "NS_03<br>",
          "NS_04<br>"
         ],
         "lat": [
          51.00489119159423,
          51.00489119159423,
          51.00473924277929,
          51.00474261837189,
          51.00442531159225
         ],
         "lon": [
          7.177091457368853,
          7.177091457368853,
          7.178732983051468,
          7.18043886801018,
          7.1826490082711505
         ],
         "marker": {
          "color": "#1f77b4",
          "size": 6
         },
         "mode": "markers",
         "text": [
          "MS_01<br>",
          "NS_01<br>",
          "NS_02<br>",
          "NS_03<br>",
          "NS_04<br>"
         ],
         "type": "scattermapbox"
        }
       ],
       "layout": {
        "mapbox": {
         "center": {
          "lat": 51.00473791118638,
          "lon": 7.1792007548141
         },
         "style": "open-street-map",
         "zoom": 11.994442449097702
        },
        "margin": {
         "b": 0,
         "l": 0,
         "r": 0,
         "t": 0
        },
        "showlegend": false,
        "template": {
         "data": {
          "bar": [
           {
            "error_x": {
             "color": "#2a3f5f"
            },
            "error_y": {
             "color": "#2a3f5f"
            },
            "marker": {
             "line": {
              "color": "#E5ECF6",
              "width": 0.5
             },
             "pattern": {
              "fillmode": "overlay",
              "size": 10,
              "solidity": 0.2
             }
            },
            "type": "bar"
           }
          ],
          "barpolar": [
           {
            "marker": {
             "line": {
              "color": "#E5ECF6",
              "width": 0.5
             },
             "pattern": {
              "fillmode": "overlay",
              "size": 10,
              "solidity": 0.2
             }
            },
            "type": "barpolar"
           }
          ],
          "carpet": [
           {
            "aaxis": {
             "endlinecolor": "#2a3f5f",
             "gridcolor": "white",
             "linecolor": "white",
             "minorgridcolor": "white",
             "startlinecolor": "#2a3f5f"
            },
            "baxis": {
             "endlinecolor": "#2a3f5f",
             "gridcolor": "white",
             "linecolor": "white",
             "minorgridcolor": "white",
             "startlinecolor": "#2a3f5f"
            },
            "type": "carpet"
           }
          ],
          "choropleth": [
           {
            "colorbar": {
             "outlinewidth": 0,
             "ticks": ""
            },
            "type": "choropleth"
           }
          ],
          "contour": [
           {
            "colorbar": {
             "outlinewidth": 0,
             "ticks": ""
            },
            "colorscale": [
             [
              0,
              "#0d0887"
             ],
             [
              0.1111111111111111,
              "#46039f"
             ],
             [
              0.2222222222222222,
              "#7201a8"
             ],
             [
              0.3333333333333333,
              "#9c179e"
             ],
             [
              0.4444444444444444,
              "#bd3786"
             ],
             [
              0.5555555555555556,
              "#d8576b"
             ],
             [
              0.6666666666666666,
              "#ed7953"
             ],
             [
              0.7777777777777778,
              "#fb9f3a"
             ],
             [
              0.8888888888888888,
              "#fdca26"
             ],
             [
              1,
              "#f0f921"
             ]
            ],
            "type": "contour"
           }
          ],
          "contourcarpet": [
           {
            "colorbar": {
             "outlinewidth": 0,
             "ticks": ""
            },
            "type": "contourcarpet"
           }
          ],
          "heatmap": [
           {
            "colorbar": {
             "outlinewidth": 0,
             "ticks": ""
            },
            "colorscale": [
             [
              0,
              "#0d0887"
             ],
             [
              0.1111111111111111,
              "#46039f"
             ],
             [
              0.2222222222222222,
              "#7201a8"
             ],
             [
              0.3333333333333333,
              "#9c179e"
             ],
             [
              0.4444444444444444,
              "#bd3786"
             ],
             [
              0.5555555555555556,
              "#d8576b"
             ],
             [
              0.6666666666666666,
              "#ed7953"
             ],
             [
              0.7777777777777778,
              "#fb9f3a"
             ],
             [
              0.8888888888888888,
              "#fdca26"
             ],
             [
              1,
              "#f0f921"
             ]
            ],
            "type": "heatmap"
           }
          ],
          "heatmapgl": [
           {
            "colorbar": {
             "outlinewidth": 0,
             "ticks": ""
            },
            "colorscale": [
             [
              0,
              "#0d0887"
             ],
             [
              0.1111111111111111,
              "#46039f"
             ],
             [
              0.2222222222222222,
              "#7201a8"
             ],
             [
              0.3333333333333333,
              "#9c179e"
             ],
             [
              0.4444444444444444,
              "#bd3786"
             ],
             [
              0.5555555555555556,
              "#d8576b"
             ],
             [
              0.6666666666666666,
              "#ed7953"
             ],
             [
              0.7777777777777778,
              "#fb9f3a"
             ],
             [
              0.8888888888888888,
              "#fdca26"
             ],
             [
              1,
              "#f0f921"
             ]
            ],
            "type": "heatmapgl"
           }
          ],
          "histogram": [
           {
            "marker": {
             "pattern": {
              "fillmode": "overlay",
              "size": 10,
              "solidity": 0.2
             }
            },
            "type": "histogram"
           }
          ],
          "histogram2d": [
           {
            "colorbar": {
             "outlinewidth": 0,
             "ticks": ""
            },
            "colorscale": [
             [
              0,
              "#0d0887"
             ],
             [
              0.1111111111111111,
              "#46039f"
             ],
             [
              0.2222222222222222,
              "#7201a8"
             ],
             [
              0.3333333333333333,
              "#9c179e"
             ],
             [
              0.4444444444444444,
              "#bd3786"
             ],
             [
              0.5555555555555556,
              "#d8576b"
             ],
             [
              0.6666666666666666,
              "#ed7953"
             ],
             [
              0.7777777777777778,
              "#fb9f3a"
             ],
             [
              0.8888888888888888,
              "#fdca26"
             ],
             [
              1,
              "#f0f921"
             ]
            ],
            "type": "histogram2d"
           }
          ],
          "histogram2dcontour": [
           {
            "colorbar": {
             "outlinewidth": 0,
             "ticks": ""
            },
            "colorscale": [
             [
              0,
              "#0d0887"
             ],
             [
              0.1111111111111111,
              "#46039f"
             ],
             [
              0.2222222222222222,
              "#7201a8"
             ],
             [
              0.3333333333333333,
              "#9c179e"
             ],
             [
              0.4444444444444444,
              "#bd3786"
             ],
             [
              0.5555555555555556,
              "#d8576b"
             ],
             [
              0.6666666666666666,
              "#ed7953"
             ],
             [
              0.7777777777777778,
              "#fb9f3a"
             ],
             [
              0.8888888888888888,
              "#fdca26"
             ],
             [
              1,
              "#f0f921"
             ]
            ],
            "type": "histogram2dcontour"
           }
          ],
          "mesh3d": [
           {
            "colorbar": {
             "outlinewidth": 0,
             "ticks": ""
            },
            "type": "mesh3d"
           }
          ],
          "parcoords": [
           {
            "line": {
             "colorbar": {
              "outlinewidth": 0,
              "ticks": ""
             }
            },
            "type": "parcoords"
           }
          ],
          "pie": [
           {
            "automargin": true,
            "type": "pie"
           }
          ],
          "scatter": [
           {
            "fillpattern": {
             "fillmode": "overlay",
             "size": 10,
             "solidity": 0.2
            },
            "type": "scatter"
           }
          ],
          "scatter3d": [
           {
            "line": {
             "colorbar": {
              "outlinewidth": 0,
              "ticks": ""
             }
            },
            "marker": {
             "colorbar": {
              "outlinewidth": 0,
              "ticks": ""
             }
            },
            "type": "scatter3d"
           }
          ],
          "scattercarpet": [
           {
            "marker": {
             "colorbar": {
              "outlinewidth": 0,
              "ticks": ""
             }
            },
            "type": "scattercarpet"
           }
          ],
          "scattergeo": [
           {
            "marker": {
             "colorbar": {
              "outlinewidth": 0,
              "ticks": ""
             }
            },
            "type": "scattergeo"
           }
          ],
          "scattergl": [
           {
            "marker": {
             "colorbar": {
              "outlinewidth": 0,
              "ticks": ""
             }
            },
            "type": "scattergl"
           }
          ],
          "scattermapbox": [
           {
            "marker": {
             "colorbar": {
              "outlinewidth": 0,
              "ticks": ""
             }
            },
            "type": "scattermapbox"
           }
          ],
          "scatterpolar": [
           {
            "marker": {
             "colorbar": {
              "outlinewidth": 0,
              "ticks": ""
             }
            },
            "type": "scatterpolar"
           }
          ],
          "scatterpolargl": [
           {
            "marker": {
             "colorbar": {
              "outlinewidth": 0,
              "ticks": ""
             }
            },
            "type": "scatterpolargl"
           }
          ],
          "scatterternary": [
           {
            "marker": {
             "colorbar": {
              "outlinewidth": 0,
              "ticks": ""
             }
            },
            "type": "scatterternary"
           }
          ],
          "surface": [
           {
            "colorbar": {
             "outlinewidth": 0,
             "ticks": ""
            },
            "colorscale": [
             [
              0,
              "#0d0887"
             ],
             [
              0.1111111111111111,
              "#46039f"
             ],
             [
              0.2222222222222222,
              "#7201a8"
             ],
             [
              0.3333333333333333,
              "#9c179e"
             ],
             [
              0.4444444444444444,
              "#bd3786"
             ],
             [
              0.5555555555555556,
              "#d8576b"
             ],
             [
              0.6666666666666666,
              "#ed7953"
             ],
             [
              0.7777777777777778,
              "#fb9f3a"
             ],
             [
              0.8888888888888888,
              "#fdca26"
             ],
             [
              1,
              "#f0f921"
             ]
            ],
            "type": "surface"
           }
          ],
          "table": [
           {
            "cells": {
             "fill": {
              "color": "#EBF0F8"
             },
             "line": {
              "color": "white"
             }
            },
            "header": {
             "fill": {
              "color": "#C8D4E3"
             },
             "line": {
              "color": "white"
             }
            },
            "type": "table"
           }
          ]
         },
         "layout": {
          "annotationdefaults": {
           "arrowcolor": "#2a3f5f",
           "arrowhead": 0,
           "arrowwidth": 1
          },
          "autotypenumbers": "strict",
          "coloraxis": {
           "colorbar": {
            "outlinewidth": 0,
            "ticks": ""
           }
          },
          "colorscale": {
           "diverging": [
            [
             0,
             "#8e0152"
            ],
            [
             0.1,
             "#c51b7d"
            ],
            [
             0.2,
             "#de77ae"
            ],
            [
             0.3,
             "#f1b6da"
            ],
            [
             0.4,
             "#fde0ef"
            ],
            [
             0.5,
             "#f7f7f7"
            ],
            [
             0.6,
             "#e6f5d0"
            ],
            [
             0.7,
             "#b8e186"
            ],
            [
             0.8,
             "#7fbc41"
            ],
            [
             0.9,
             "#4d9221"
            ],
            [
             1,
             "#276419"
            ]
           ],
           "sequential": [
            [
             0,
             "#0d0887"
            ],
            [
             0.1111111111111111,
             "#46039f"
            ],
            [
             0.2222222222222222,
             "#7201a8"
            ],
            [
             0.3333333333333333,
             "#9c179e"
            ],
            [
             0.4444444444444444,
             "#bd3786"
            ],
            [
             0.5555555555555556,
             "#d8576b"
            ],
            [
             0.6666666666666666,
             "#ed7953"
            ],
            [
             0.7777777777777778,
             "#fb9f3a"
            ],
            [
             0.8888888888888888,
             "#fdca26"
            ],
            [
             1,
             "#f0f921"
            ]
           ],
           "sequentialminus": [
            [
             0,
             "#0d0887"
            ],
            [
             0.1111111111111111,
             "#46039f"
            ],
            [
             0.2222222222222222,
             "#7201a8"
            ],
            [
             0.3333333333333333,
             "#9c179e"
            ],
            [
             0.4444444444444444,
             "#bd3786"
            ],
            [
             0.5555555555555556,
             "#d8576b"
            ],
            [
             0.6666666666666666,
             "#ed7953"
            ],
            [
             0.7777777777777778,
             "#fb9f3a"
            ],
            [
             0.8888888888888888,
             "#fdca26"
            ],
            [
             1,
             "#f0f921"
            ]
           ]
          },
          "colorway": [
           "#636efa",
           "#EF553B",
           "#00cc96",
           "#ab63fa",
           "#FFA15A",
           "#19d3f3",
           "#FF6692",
           "#B6E880",
           "#FF97FF",
           "#FECB52"
          ],
          "font": {
           "color": "#2a3f5f"
          },
          "geo": {
           "bgcolor": "white",
           "lakecolor": "white",
           "landcolor": "#E5ECF6",
           "showlakes": true,
           "showland": true,
           "subunitcolor": "white"
          },
          "hoverlabel": {
           "align": "left"
          },
          "hovermode": "closest",
          "mapbox": {
           "style": "light"
          },
          "paper_bgcolor": "white",
          "plot_bgcolor": "#E5ECF6",
          "polar": {
           "angularaxis": {
            "gridcolor": "white",
            "linecolor": "white",
            "ticks": ""
           },
           "bgcolor": "#E5ECF6",
           "radialaxis": {
            "gridcolor": "white",
            "linecolor": "white",
            "ticks": ""
           }
          },
          "scene": {
           "xaxis": {
            "backgroundcolor": "#E5ECF6",
            "gridcolor": "white",
            "gridwidth": 2,
            "linecolor": "white",
            "showbackground": true,
            "ticks": "",
            "zerolinecolor": "white"
           },
           "yaxis": {
            "backgroundcolor": "#E5ECF6",
            "gridcolor": "white",
            "gridwidth": 2,
            "linecolor": "white",
            "showbackground": true,
            "ticks": "",
            "zerolinecolor": "white"
           },
           "zaxis": {
            "backgroundcolor": "#E5ECF6",
            "gridcolor": "white",
            "gridwidth": 2,
            "linecolor": "white",
            "showbackground": true,
            "ticks": "",
            "zerolinecolor": "white"
           }
          },
          "shapedefaults": {
           "line": {
            "color": "#2a3f5f"
           }
          },
          "ternary": {
           "aaxis": {
            "gridcolor": "white",
            "linecolor": "white",
            "ticks": ""
           },
           "baxis": {
            "gridcolor": "white",
            "linecolor": "white",
            "ticks": ""
           },
           "bgcolor": "#E5ECF6",
           "caxis": {
            "gridcolor": "white",
            "linecolor": "white",
            "ticks": ""
           }
          },
          "title": {
           "x": 0.05
          },
          "xaxis": {
           "automargin": true,
           "gridcolor": "white",
           "linecolor": "white",
           "ticks": "",
           "title": {
            "standoff": 15
           },
           "zerolinecolor": "white",
           "zerolinewidth": 2
          },
          "yaxis": {
           "automargin": true,
           "gridcolor": "white",
           "linecolor": "white",
           "ticks": "",
           "title": {
            "standoff": 15
           },
           "zerolinecolor": "white",
           "zerolinewidth": 2
          }
         }
        }
       }
      }
     },
     "metadata": {},
     "output_type": "display_data"
    }
   ],
   "source": [
    "from pypsdm.plots.grid import grid_plot\n",
    "\n",
    "\n",
    "grid_plot(grid)"
   ]
  },
  {
   "cell_type": "code",
   "execution_count": 5,
   "metadata": {},
   "outputs": [],
   "source": [
    "node_0 = \"df97c0d1-379b-417a-a473-8e7fe37da99d\"\n",
    "node_1 = \"6a4547a8-630b-46e4-8144-9cd649e67c07\"\n",
    "node_2 = \"b7a5be0d-2662-41b2-99c6-3b8121a75e9e\"\n",
    "node_3 = \"1dcddd06-f41a-405b-9686-7f7942852196\"\n",
    "node_4 = \"e3c3c6a3-c383-4dbb-9b3f-a14125615386\""
   ]
  },
  {
   "cell_type": "code",
   "execution_count": 6,
   "metadata": {},
   "outputs": [],
   "source": [
    "from pypsdm.models.input.create.participants import create_pvs\n",
    "\n",
    "pv_s_rated = [4, 6, 10]\n",
    "\n",
    "data_dict = {\n",
    "    \"id\": [\"PV_NS_02\", \"PV_NS_03\", \"PV_NS_04\"],\n",
    "\t\"node\": [node_2, node_3, node_4],\n",
    "    \"s_rated\": pv_s_rated,\n",
    "\t\"azimuth\": [90, 0, 90],\n",
    "\t\"elevation_angle\": [40 , 45, 30]\n",
    "}\n",
    "\n",
    "pvs = create_pvs(data_dict)"
   ]
  },
  {
   "cell_type": "code",
   "execution_count": 7,
   "metadata": {},
   "outputs": [],
   "source": [
    "from pypsdm.models.input.create.participants import create_storages\n",
    "\n",
    "\n",
    "data_dict = {\n",
    "    \"id\": [\"BS_NS_02\", \"BS_NS_03\", \"BS_NS_04\"],\n",
    "    \"node\": [node_2, node_3, node_4],\n",
    "    \"e_storage\": [1.5 * pv_power for pv_power in pv_s_rated],\n",
    "}\n",
    "\n",
    "bs = create_storages(data_dict)"
   ]
  },
  {
   "cell_type": "code",
   "execution_count": 8,
   "metadata": {},
   "outputs": [],
   "source": [
    "from pypsdm.models.input.create.participants import create_electric_vehicles\n",
    "\n",
    "\n",
    "ev_s_rated = [10, 10, 20]\n",
    "data_dict = {\n",
    "\t\"id\": [\"EV_NS_02\", \"EV_NS_03\", \"EV_NS_04\"],\n",
    "\t\"node\": [node_2, node_3, node_4],\n",
    "\t\"s_rated\": ev_s_rated,\n",
    "\t\"e_storage\": [80, 70, 100],\n",
    "\t\"e_cons\": [20, 16, 19],\n",
    "}\n",
    "\n",
    "evs = create_electric_vehicles(data_dict)"
   ]
  },
  {
   "cell_type": "code",
   "execution_count": 9,
   "metadata": {},
   "outputs": [],
   "source": [
    "from pypsdm.models.input.create.participants import create_ev_charging_stations\n",
    "from pypsdm.models.input.participant.evcs import EvcsLocationType\n",
    "\n",
    "data_dict = {\n",
    "    \"id\": [\"EVCS_NS_02\", \"EVCS_NS_03\", \"EVCS_NS_04\"],\n",
    "    \"node\": [node_2, node_3, node_4],\n",
    "    \"location_type\": [EvcsLocationType.HOME.value, EvcsLocationType.HOME.value, EvcsLocationType.HOME.value],\n",
    "\t\"s_rated\": [10, 10, 10],\n",
    "}\n",
    "\n",
    "evcs = create_ev_charging_stations(data_dict)"
   ]
  },
  {
   "cell_type": "code",
   "execution_count": 363,
   "metadata": {},
   "outputs": [],
   "source": [
    "from pypsdm.models.input.create.thermal import create_thermal_busses\n",
    "\n",
    "\n",
    "data_dict = {\n",
    "    \"id\": [\"TB_NS_02\", \"TB_NS_03\", \"TB_NS_04\"],\n",
    "}\n",
    "\n",
    "tbs = create_thermal_busses(data_dict)"
   ]
  },
  {
   "cell_type": "code",
   "execution_count": null,
   "metadata": {},
   "outputs": [],
   "source": [
    "from pypsdm.models.input.create.participants import create_heat_pumps\n",
    "\n",
    "\n",
    "data_dict = {\n",
    "    \"id\": [\"HP_NS_02\", \"HP_NS_03\", \"HP_NS_04\"],\n",
    "    \"node\": [node_2, node_3, node_4],\n",
    "    \"thermal_bus\": list(tbs.uuid),\n",
    "    \"s_rated\": [4, 3, 6],\n",
    "}\n",
    "\n",
    "hps = create_heat_pumps(data_dict)"
   ]
  },
  {
   "cell_type": "code",
   "execution_count": 365,
   "metadata": {},
   "outputs": [],
   "source": [
    "from pypsdm.models.input.create.thermal import create_thermal_houses\n",
    "\n",
    "\n",
    "data_dict = {\n",
    "    \"thermal_bus\": list(tbs.uuid),\n",
    "    \"id\": [\"TH_NS_02\", \"TH_NS_03\", \"TH_NS_04\"],\n",
    "    \"eth_losses\": [0.101, 0.121, 0.131],\n",
    "    \"eth_capa\": [8.801, 9.121, 12.131],\n",
    "}\n",
    "\n",
    "ths = create_thermal_houses(data_dict)"
   ]
  },
  {
   "cell_type": "code",
   "execution_count": 382,
   "metadata": {},
   "outputs": [],
   "source": [
    "from pypsdm.models.input.create.participants import create_loads\n",
    "\n",
    "\n",
    "load_data_dict = {\n",
    "\t\"id\": [\"L_NS_02\", \"L_NS_03\", \"L_NS_04\"],\n",
    "\t\"node\": [node_2, node_3, node_4],\n",
    "    \"s_rated\": [3, 3, 3],\n",
    "\t\"e_cons_annual\": [3000, 3500, 4000],\n",
    "\t\"load_profile\": [\"h0\", \"h0\", \"h0\"]\n",
    "}\n",
    "\n",
    "loads = create_loads(load_data_dict)"
   ]
  },
  {
   "cell_type": "code",
   "execution_count": 367,
   "metadata": {},
   "outputs": [],
   "source": [
    "from pypsdm.models.input.container.participants import SystemParticipantsContainer\n",
    "from pypsdm.models.input.participant.bm import BiomassPlants\n",
    "from pypsdm.models.input.participant.em import EnergyManagementSystems\n",
    "from pypsdm.models.input.participant.fixed_feed_in import FixedFeedIns\n",
    "from pypsdm.models.input.participant.wec import WindEnergyConverters\n",
    "\n",
    "\n",
    "participants = SystemParticipantsContainer(\n",
    "    ems = EnergyManagementSystems.create_empty(),\n",
    "    loads = loads,\n",
    "    pvs = pvs,\n",
    "    storages = bs,\n",
    "    evs = evs,\n",
    "    evcs = evcs,\n",
    "    hps = hps, \n",
    "    wecs = WindEnergyConverters.create_empty(),\n",
    "    fixed_feed_ins= FixedFeedIns.create_empty(),\n",
    "    biomass_plants=BiomassPlants.create_empty(),\n",
    ")"
   ]
  },
  {
   "cell_type": "code",
   "execution_count": 368,
   "metadata": {},
   "outputs": [],
   "source": [
    "node_participants = participants.build_node_participants_map(grid.raw_grid.nodes)"
   ]
  },
  {
   "cell_type": "code",
   "execution_count": null,
   "metadata": {},
   "outputs": [],
   "source": [
    "node_connected_assets = {}\n",
    "for node, nodal_participants in node_participants.items():\n",
    "    participant_uuids = []\n",
    "    for current in nodal_participants.to_list():\n",
    "        participant_uuids.extend(list(current.uuid))\n",
    "    node_connected_assets[node] = participant_uuids"
   ]
  },
  {
   "cell_type": "code",
   "execution_count": null,
   "metadata": {},
   "outputs": [],
   "source": [
    "\n",
    "from pypsdm.models.input.create.participants import create_energy_management_systems\n",
    "\n",
    "\n",
    "data_dict = {\n",
    "    \"id\": [\"EMS_NS_02\", \"EMS_NS_03\", \"EMS_NS_04\"],\n",
    "    \"node\": [node_2, node_3, node_4],\n",
    "\t\"connected_assets\": [node_connected_assets[node] for node in [node_2, node_3, node_4]],\n",
    "\t\"control_strategy\": [\"self_optimization\", \"self_optimization\", \"self_optimization\"]\n",
    "}\n",
    "\n",
    "emss = create_energy_management_systems(data_dict)"
   ]
  },
  {
   "cell_type": "code",
   "execution_count": 374,
   "metadata": {},
   "outputs": [],
   "source": [
    "updated_participants = SystemParticipantsContainer(\n",
    "    emss,\n",
    "    participants.loads,\n",
    "    participants.fixed_feed_ins,\n",
    "    participants.pvs,\n",
    "    participants.biomass_plants,\n",
    "    participants.wecs,\n",
    "    participants.storages,\n",
    "    participants.evs,\n",
    "    participants.evcs,\n",
    "    participants.hps,\n",
    ")"
   ]
  },
  {
   "cell_type": "code",
   "execution_count": 375,
   "metadata": {},
   "outputs": [],
   "source": [
    "node_participants_map = updated_participants.build_node_participants_map(grid.raw_grid.nodes)\n",
    "updated_grid = GridContainer(\n",
    "    grid.raw_grid,\n",
    "    updated_participants,\n",
    "    grid.primary_data,\n",
    "    node_participants_map\n",
    ")"
   ]
  },
  {
   "cell_type": "code",
   "execution_count": 376,
   "metadata": {},
   "outputs": [],
   "source": [
    "from pypsdm.models.input.thermal.grid import ThermalGridContainer\n",
    "\n",
    "\n",
    "tg = ThermalGridContainer(\n",
    "    tbs,\n",
    "    ths\n",
    ")"
   ]
  },
  {
   "cell_type": "code",
   "execution_count": 377,
   "metadata": {},
   "outputs": [],
   "source": [
    "updated_grid.to_csv(\"./grid/\", include_primary_data=False)\n",
    "tg.to_csv(\"./grid\")"
   ]
  }
 ],
 "metadata": {
  "kernelspec": {
   "display_name": "psdm-analysis-lyhN3xw_-py3.10",
   "language": "python",
   "name": "python3"
  },
  "language_info": {
   "codemirror_mode": {
    "name": "ipython",
    "version": 3
   },
   "file_extension": ".py",
   "mimetype": "text/x-python",
   "name": "python",
   "nbconvert_exporter": "python",
   "pygments_lexer": "ipython3",
   "version": "3.11.5"
  },
  "orig_nbformat": 4
 },
 "nbformat": 4,
 "nbformat_minor": 2
}
